{
 "cells": [
  {
   "cell_type": "code",
   "execution_count": 37,
   "metadata": {},
   "outputs": [
    {
     "name": "stdout",
     "output_type": "stream",
     "text": [
      "The autoreload extension is already loaded. To reload it, use:\n",
      "  %reload_ext autoreload\n"
     ]
    }
   ],
   "source": [
    "%load_ext autoreload\n",
    "%autoreload 2"
   ]
  },
  {
   "cell_type": "code",
   "execution_count": 38,
   "metadata": {},
   "outputs": [],
   "source": [
    "from state import get_state, queue\n",
    "import os\n",
    "import traci"
   ]
  },
  {
   "cell_type": "code",
   "execution_count": null,
   "metadata": {},
   "outputs": [],
   "source": [
    "from dotenv import load_dotenv\n",
    "load_dotenv()\n",
    "\n",
    "\n",
    "sumo_bin = os.getenv(\"SUMO\")\n",
    "sumo_gui_bin = os.getenv(\"SUMO-GUI\")\n",
    "simulConfig = os.getenv(\"SIMUL-CONFIG\")"
   ]
  },
  {
   "cell_type": "code",
   "execution_count": 40,
   "metadata": {},
   "outputs": [],
   "source": [
    "import tensorflow as tf\n",
    "import numpy as np\n",
    "from collections import deque"
   ]
  },
  {
   "cell_type": "code",
   "execution_count": 41,
   "metadata": {},
   "outputs": [],
   "source": [
    "# from tensorflow.keras import Sequential, layers, models, activations\n",
    "# from tensorflow.random import set_seed\n",
    "# import numpy as np\n",
    "# from collections import deque\n",
    "# from tensorflow import keras\n",
    "# from tensorflow import reduce_sum, reduce_mean, one_hot, GradientTape\n",
    "# from tensorflow.keras.losses import MeanSquaredError\n",
    "# import matplotlib.pyplot as plt\n",
    "# import tensorflow as tf\n",
    "# from tensorflow.keras.layers import Dense, ReLU\n"
   ]
  },
  {
   "cell_type": "code",
   "execution_count": 42,
   "metadata": {},
   "outputs": [],
   "source": [
    "tf.random.set_seed(42)  # extra code – ensures reproducibility on the CPU\n",
    "\n",
    "input_shape = [48]  # == env.observation_space.shape\n",
    "n_outputs = 4  # == env.action_space.n\n",
    "#[((Phase(duration=30.0, state='GGrGrrGGrGrr', minDur=30.0, maxDur=30.0), Phase(duration=20.0, state='grGgrrgrGgrr', minDur=20.0, maxDur=20.0), Phase(duration=30.0, state='GrrGGrGrrGGr', minDur=30.0, maxDur=30.0), Phase(duration=20.0, state='grrgrGgrrgrG', minDur=20.0, maxDur=20.0)), [0, 2, 4, 6])]\n",
    "model_action = tf.keras.Sequential([\n",
    "    tf.keras.layers.Dense(32,activation='relu', input_shape=input_shape),\n",
    "    tf.keras.layers.Dense(32, activation='relu'),\n",
    "    tf.keras.layers.Dense(n_outputs, activation= 'linear')])"
   ]
  },
  {
   "cell_type": "code",
   "execution_count": 43,
   "metadata": {},
   "outputs": [],
   "source": [
    "target = tf.keras.models.clone_model(model_action)  # clone the model's architecture\n",
    "target.set_weights(model_action.get_weights())  # copy the weights"
   ]
  },
  {
   "cell_type": "code",
   "execution_count": 44,
   "metadata": {},
   "outputs": [],
   "source": [
    "def epsilon_greedy_policy(state, epsilon=0):\n",
    "    if np.random.rand() < epsilon:\n",
    "        return np.random.randint(n_outputs)  # random action\n",
    "    else:\n",
    "        Q_values = model_action.predict(state[np.newaxis], verbose=0)[0]\n",
    "        print(f\"state : {state}\")\n",
    "        print(f\"Q_values : {Q_values}\")\n",
    "        return Q_values.argmax()  # optimal action according to the DQN"
   ]
  },
  {
   "cell_type": "code",
   "execution_count": 45,
   "metadata": {},
   "outputs": [],
   "source": [
    "def sample_experiences(batch_size):\n",
    "    indices = np.random.randint(len(replay_buffer), size=batch_size)\n",
    "    batch = [replay_buffer[index] for index in indices]\n",
    "    states, actions, rewards, next_states = [\n",
    "        np.array([experience[field_index] for experience in batch])\n",
    "        for field_index in range(4)\n",
    "    ]\n",
    "    return states, actions, rewards, next_states"
   ]
  },
  {
   "cell_type": "code",
   "execution_count": 46,
   "metadata": {},
   "outputs": [],
   "source": [
    "batch_size = 32\n",
    "discount_factor = 0.5\n",
    "optimizer = tf.keras.optimizers.Adam(learning_rate=0.05)\n",
    "loss_fn = tf.keras.losses.MeanSquaredError()\n",
    "\n",
    "\n",
    "def training_step(batch_size):\n",
    "    experiences = sample_experiences(batch_size)\n",
    "    states, actions, rewards, next_states = experiences  # a changer\n",
    "        #################### CHANGED SECTION ####################\n",
    "    next_Q_values = model_action.predict(next_states, verbose=0)  # ≠ target.predict()\n",
    "    best_next_actions = next_Q_values.argmax(axis=1)\n",
    "    next_mask = tf.one_hot(best_next_actions, n_outputs).numpy()\n",
    "    max_next_Q_values = (target.predict(next_states, verbose=0) * next_mask\n",
    "                        ).sum(axis=1)\n",
    "    #########################################################\n",
    "    next_Q_values = target.predict(next_states, verbose=0)\n",
    "    max_next_Q_values = next_Q_values.max(axis=1)\n",
    "    # runs = 1.0 - (dones | truncateds)  # episode is not done or truncated\n",
    "    target_Q_values = rewards + discount_factor * max_next_Q_values\n",
    "    target_Q_values = target_Q_values.reshape(-1, 1)\n",
    "    mask = tf.one_hot(actions, n_outputs)\n",
    "    with tf.GradientTape() as tape:\n",
    "        all_Q_values = model_action(states)\n",
    "        Q_values = tf.reduce_sum(all_Q_values * mask, axis=1, keepdims=True)\n",
    "        loss = tf.reduce_mean(loss_fn(target_Q_values, Q_values))\n",
    "\n",
    "    grads = tape.gradient(loss, model_action.trainable_variables)\n",
    "    optimizer.apply_gradients(zip(grads, model_action.trainable_variables))"
   ]
  },
  {
   "cell_type": "code",
   "execution_count": 51,
   "metadata": {},
   "outputs": [
    {
     "name": "stdout",
     "output_type": "stream",
     "text": [
      "['/Users/arseneclaustre/sumo/bin/sumo', '-c', 'Traditional_traffic/traditional_traffic.sumo.cfg', '--start']\n",
      " Retrying in 1 seconds\n"
     ]
    },
    {
     "name": "stderr",
     "output_type": "stream",
     "text": [
      "Warning: Environment variable SUMO_HOME is not set properly, disabling XML validation. Set 'auto' or 'always' for web lookups.\n",
      "Warning: Vehicle 'CNE.5' performs emergency braking on lane 'end1_junction_2' with decel=9.00, wished=5.00, severity=1.00, time=220.00.\n",
      "Warning: Vehicle 'CNE.5' performs emergency braking on lane 'end1_junction_2' with decel=9.00, wished=5.00, severity=1.00, time=221.20.\n"
     ]
    },
    {
     "name": "stdout",
     "output_type": "stream",
     "text": [
      "Step #300.00 (0ms ?*RT. ?UPS, TraCI: 2ms, vehicles TOT 243 ACT 91 BUF 3)                  \r"
     ]
    },
    {
     "name": "stderr",
     "output_type": "stream",
     "text": [
      "Warning: Vehicle 'CWE.23' performs emergency braking on lane 'end4_junction_1' with decel=9.00, wished=5.00, severity=1.00, time=300.00.\n",
      "Warning: Vehicle 'CWE.23' performs emergency stop at the end of lane 'end4_junction_1' because of a red traffic light (decel=-30.36, offset=0.01), time=300.95.\n"
     ]
    },
    {
     "name": "stdout",
     "output_type": "stream",
     "text": [
      "Step #320.00 (0ms ?*RT. ?UPS, TraCI: 1ms, vehicles TOT 252 ACT 82 BUF 0)                  \r"
     ]
    },
    {
     "name": "stderr",
     "output_type": "stream",
     "text": [
      "Warning: Vehicle 'CSW.2' performs emergency braking on lane 'end3_junction_2' with decel=9.00, wished=5.00, severity=1.00, time=320.00.\n",
      "Warning: Vehicle 'CSW.2' performs emergency stop at the end of lane 'end3_junction_2' because of a red traffic light (decel=-16.71, offset=0.06), time=320.50.\n",
      "Warning: Vehicle 'CNE.16' performs emergency braking on lane 'end1_junction_2' with decel=9.00, wished=5.00, severity=1.00, time=420.00.\n",
      "Warning: Vehicle 'CNE.16' performs emergency braking on lane 'end1_junction_2' with decel=9.00, wished=5.00, severity=1.00, time=421.05.\n"
     ]
    },
    {
     "name": "stdout",
     "output_type": "stream",
     "text": [
      "Step #500.00 (0ms ?*RT. ?UPS, TraCI: 1ms, vehicles TOT 384 ACT 102 BUF 0)                 \r"
     ]
    },
    {
     "name": "stderr",
     "output_type": "stream",
     "text": [
      "Warning: Vehicle 'CES.13' performs emergency braking on lane 'end2_junction_2' with decel=9.00, wished=5.00, severity=1.00, time=500.00.\n",
      "Warning: Vehicle 'CES.13' performs emergency stop at the end of lane 'end2_junction_2' because of a red traffic light (decel=-18.51, offset=0.01), time=500.46.\n"
     ]
    },
    {
     "name": "stdout",
     "output_type": "stream",
     "text": [
      "Step #760.00 (0ms ?*RT. ?UPS, TraCI: 3ms, vehicles TOT 596 ACT 117 BUF 4)                 \r"
     ]
    },
    {
     "name": "stderr",
     "output_type": "stream",
     "text": [
      "Warning: Vehicle 'CESR.8' performs emergency braking on lane 'end2_junction_2' with decel=9.00, wished=5.00, severity=1.00, time=760.00.\n",
      "Warning: Vehicle 'CESR.8' performs emergency stop at the end of lane 'end2_junction_2' because of a red traffic light (decel=-9.88, offset=0.00), time=760.72.\n"
     ]
    },
    {
     "name": "stdout",
     "output_type": "stream",
     "text": [
      "Step #822.00 (0ms ?*RT. ?UPS, TraCI: 0ms, vehicles TOT 641 ACT 130 BUF 1)                 \r"
     ]
    },
    {
     "name": "stderr",
     "output_type": "stream",
     "text": [
      "Warning: Teleporting vehicle 'CWE.35'; waited too long (yield), lane='end4_junction_1', time=822.45.\n",
      "Warning: Vehicle 'CWE.35' ends teleporting on edge 'junction_end2', time=822.45.\n"
     ]
    },
    {
     "name": "stdout",
     "output_type": "stream",
     "text": [
      "Step #835.00 (0ms ?*RT. ?UPS, TraCI: 0ms, vehicles TOT 647 ACT 125 BUF 1)                 \r"
     ]
    },
    {
     "name": "stderr",
     "output_type": "stream",
     "text": [
      "Warning: Teleporting vehicle 'AEW.14'; waited too long (yield), lane='end2_junction_1', time=835.81.\n",
      "Warning: Vehicle 'AEW.14' ends teleporting on edge 'junction_end4', time=835.81.\n"
     ]
    },
    {
     "name": "stdout",
     "output_type": "stream",
     "text": [
      "Step #980.00 (0ms ?*RT. ?UPS, TraCI: 2ms, vehicles TOT 755 ACT 82 BUF 1)                  \r"
     ]
    },
    {
     "name": "stderr",
     "output_type": "stream",
     "text": [
      "Warning: Vehicle 'CESR.19' performs emergency braking on lane 'end2_junction_2' with decel=9.00, wished=5.00, severity=1.00, time=980.00.\n",
      "Warning: Vehicle 'CESR.19' performs emergency braking on lane 'end2_junction_2' with decel=9.00, wished=5.00, severity=1.00, time=980.98.\n"
     ]
    },
    {
     "name": "stdout",
     "output_type": "stream",
     "text": [
      "Step #1140.00 (1ms ~= 10.00*RT, ~86000.00UPS, TraCI: 1ms, vehicles TOT 874 ACT 86 BUF 8)  \r"
     ]
    },
    {
     "name": "stderr",
     "output_type": "stream",
     "text": [
      "Warning: Vehicle 'CESR.30' performs emergency braking on lane 'end2_junction_2' with decel=9.00, wished=5.00, severity=1.00, time=1140.00.\n",
      "Warning: Vehicle 'CESR.30' performs emergency stop at the end of lane 'end2_junction_2' because of a red traffic light (decel=-13.84, offset=0.02), time=1140.33.\n"
     ]
    },
    {
     "name": "stdout",
     "output_type": "stream",
     "text": [
      "Step #1179.00 (1ms ~= 10.00*RT, ~88000.00UPS, TraCI: 0ms, vehicles TOT 905 ACT 88 BUF 13) \r"
     ]
    },
    {
     "name": "stderr",
     "output_type": "stream",
     "text": [
      "Warning: Teleporting vehicle 'ANER.7'; waited too long (yield), lane='end1_junction_2', time=1179.36.\n",
      "Warning: Vehicle 'ANER.7' ends teleporting on edge 'junction_end2', time=1179.36.\n"
     ]
    },
    {
     "name": "stdout",
     "output_type": "stream",
     "text": [
      "Step #1221.00 (0ms ?*RT. ?UPS, TraCI: 0ms, vehicles TOT 924 ACT 94 BUF 0)                 \r"
     ]
    },
    {
     "name": "stderr",
     "output_type": "stream",
     "text": [
      "Warning: Teleporting vehicle 'ASWR.2'; waited too long (yield), lane='end3_junction_2', time=1221.48.\n",
      "Warning: Vehicle 'ASWR.2' ends teleporting on edge 'junction_end4', time=1221.48.\n"
     ]
    },
    {
     "name": "stdout",
     "output_type": "stream",
     "text": [
      "episode : 0\n",
      "Step #1300.00 (0ms ?*RT. ?UPS, TraCI: 2ms, vehicles TOT 924 ACT 52 BUF 0)                 \n",
      " Retrying in 1 seconds\n"
     ]
    },
    {
     "name": "stderr",
     "output_type": "stream",
     "text": [
      "Warning: Environment variable SUMO_HOME is not set properly, disabling XML validation. Set 'auto' or 'always' for web lookups.\n",
      "Warning: Vehicle 'CNE.5' performs emergency braking on lane 'end1_junction_2' with decel=9.00, wished=5.00, severity=1.00, time=120.00.\n"
     ]
    },
    {
     "name": "stdout",
     "output_type": "stream",
     "text": [
      "Step #281.00 (0ms ?*RT. ?UPS, TraCI: 0ms, vehicles TOT 216 ACT 57 BUF 0)                   (0ms ?*RT. ?UPS, TraCI: 2ms, vehicles TOT 99 ACT 68 BUF 3)                   \r"
     ]
    },
    {
     "name": "stderr",
     "output_type": "stream",
     "text": [
      "Warning: Vehicle 'CNE.16' performs emergency braking on lane 'end1_junction_2' with decel=9.00, wished=5.00, severity=1.00, time=280.00.\n",
      "Warning: Vehicle 'CNE.16' performs emergency braking on lane 'end1_junction_2' with decel=9.00, wished=5.00, severity=1.00, time=281.06.\n"
     ]
    },
    {
     "name": "stdout",
     "output_type": "stream",
     "text": [
      "Step #322.00 (1ms ~= 10.00*RT, ~68000.00UPS, TraCI: 0ms, vehicles TOT 252 ACT 68 BUF 0)   \r"
     ]
    },
    {
     "name": "stderr",
     "output_type": "stream",
     "text": [
      "Warning: Vehicle 'ANS.2' performs emergency braking on lane 'end1_junction_1' with decel=9.00, wished=5.00, severity=1.00, time=322.90.\n"
     ]
    },
    {
     "name": "stdout",
     "output_type": "stream",
     "text": [
      "Step #340.00 (0ms ?*RT. ?UPS, TraCI: 2ms, vehicles TOT 270 ACT 73 BUF 0)                  \r"
     ]
    },
    {
     "name": "stderr",
     "output_type": "stream",
     "text": [
      "Warning: Vehicle 'AWE.24' performs emergency stop at the end of lane 'end4_junction_1' because of a red traffic light (decel=-13.45, offset=0.03), time=340.70.\n",
      "Warning: Vehicle 'AWE.30' performs emergency stop at the end of lane 'end4_junction_1' because of a red traffic light (decel=-14.34, offset=0.04), time=400.61.\n"
     ]
    },
    {
     "name": "stdout",
     "output_type": "stream",
     "text": [
      "Step #600.00 (1ms ~= 10.00*RT, ~105000.00UPS, TraCI: 1ms, vehicles TOT 466 ACT 105 BUF 20)\r"
     ]
    },
    {
     "name": "stderr",
     "output_type": "stream",
     "text": [
      "Warning: Vehicle 'CNE.27' performs emergency braking on lane 'end1_junction_2' with decel=9.00, wished=5.00, severity=1.00, time=600.00.\n",
      "Warning: Vehicle 'CNE.27' performs emergency stop at the end of lane 'end1_junction_2' because of a red traffic light (decel=-14.58, offset=0.03), time=600.25.\n"
     ]
    },
    {
     "name": "stdout",
     "output_type": "stream",
     "text": [
      "Step #703.00 (0ms ?*RT. ?UPS, TraCI: 0ms, vehicles TOT 545 ACT 100 BUF 1)                 \r"
     ]
    },
    {
     "name": "stderr",
     "output_type": "stream",
     "text": [
      "Warning: Vehicle 'CESR.6' performs emergency braking on lane 'end2_junction_2' with decel=9.00, wished=5.00, severity=1.00, time=703.93.\n"
     ]
    },
    {
     "name": "stdout",
     "output_type": "stream",
     "text": [
      "Step #800.00 (0ms ?*RT. ?UPS, TraCI: 2ms, vehicles TOT 623 ACT 117 BUF 1)                 \r"
     ]
    },
    {
     "name": "stderr",
     "output_type": "stream",
     "text": [
      "Warning: Vehicle 'AWER.5' performs emergency stop at the end of lane 'end4_junction_1' because of a red traffic light (decel=-36.83, offset=0.08), time=800.04.\n"
     ]
    },
    {
     "name": "stdout",
     "output_type": "stream",
     "text": [
      "Step #824.00 (0ms ?*RT. ?UPS, TraCI: 0ms, vehicles TOT 641 ACT 106 BUF 1)                 \r"
     ]
    },
    {
     "name": "stderr",
     "output_type": "stream",
     "text": [
      "Warning: Vehicle 'CESR.16' performs emergency braking on lane 'end2_junction_2' with decel=9.00, wished=5.00, severity=1.00, time=824.04.\n"
     ]
    },
    {
     "name": "stdout",
     "output_type": "stream",
     "text": [
      "Step #840.00 (0ms ?*RT. ?UPS, TraCI: 2ms, vehicles TOT 649 ACT 102 BUF 5)                 \r"
     ]
    },
    {
     "name": "stderr",
     "output_type": "stream",
     "text": [
      "Warning: Vehicle 'CWER.6' performs emergency braking on lane 'end4_junction_1' with decel=9.00, wished=5.00, severity=1.00, time=840.00.\n",
      "Warning: Vehicle 'CWER.6' performs emergency stop at the end of lane 'end4_junction_1' because of a red traffic light (decel=-30.18, offset=0.04), time=840.97.\n"
     ]
    },
    {
     "name": "stdout",
     "output_type": "stream",
     "text": [
      "Step #883.00 (0ms ?*RT. ?UPS, TraCI: 0ms, vehicles TOT 677 ACT 100 BUF 1)                 \r"
     ]
    },
    {
     "name": "stderr",
     "output_type": "stream",
     "text": [
      "Warning: Vehicle 'CESR.21' performs emergency braking on lane 'end2_junction_2' with decel=9.00, wished=5.00, severity=1.00, time=883.93.\n"
     ]
    },
    {
     "name": "stdout",
     "output_type": "stream",
     "text": [
      "Step #921.00 (0ms ?*RT. ?UPS, TraCI: 0ms, vehicles TOT 714 ACT 114 BUF 0)                 \r"
     ]
    },
    {
     "name": "stderr",
     "output_type": "stream",
     "text": [
      "Warning: Vehicle 'CSWR.2' performs emergency braking on lane 'end3_junction_2' with decel=9.00, wished=5.00, severity=1.00, time=920.00.\n",
      "Warning: Vehicle 'CSWR.2' performs emergency stop at the end of lane 'end3_junction_2' because of a red traffic light (decel=-12.71, offset=0.00), time=921.43.\n"
     ]
    },
    {
     "name": "stdout",
     "output_type": "stream",
     "text": [
      "Step #1021.00 (0ms ?*RT. ?UPS, TraCI: 0ms, vehicles TOT 781 ACT 87 BUF 5)                 \r"
     ]
    },
    {
     "name": "stderr",
     "output_type": "stream",
     "text": [
      "Warning: Vehicle 'CEWR.30' performs emergency braking on lane 'end2_junction_1' with decel=9.00, wished=5.00, severity=1.00, time=1020.00.\n",
      "Warning: Vehicle 'CEWR.30' performs emergency braking on lane 'end2_junction_1' with decel=9.00, wished=5.00, severity=1.00, time=1021.93.\n"
     ]
    },
    {
     "name": "stdout",
     "output_type": "stream",
     "text": [
      "Step #1061.00 (0ms ?*RT. ?UPS, TraCI: 0ms, vehicles TOT 820 ACT 105 BUF 2)                \r"
     ]
    },
    {
     "name": "stderr",
     "output_type": "stream",
     "text": [
      "Warning: Vehicle 'AWER.12' performs emergency stop at the end of lane 'end4_junction_1' because of a red traffic light (decel=-15.49, offset=0.03), time=1061.10.\n"
     ]
    },
    {
     "name": "stdout",
     "output_type": "stream",
     "text": [
      "Step #1183.00 (0ms ?*RT. ?UPS, TraCI: 0ms, vehicles TOT 915 ACT 138 BUF 3)                \r"
     ]
    },
    {
     "name": "stderr",
     "output_type": "stream",
     "text": [
      "Warning: Teleporting vehicle 'CESR.21'; waited too long (yield), lane='end2_junction_2', time=1183.93.\n",
      "Warning: Vehicle 'CESR.21' ends teleporting on edge 'junction_end3', time=1183.93.\n"
     ]
    },
    {
     "name": "stdout",
     "output_type": "stream",
     "text": [
      "Step #1200.00 (1ms ~= 10.00*RT, ~134000.00UPS, TraCI: 1ms, vehicles TOT 924 ACT 134 BUF 0)\r"
     ]
    },
    {
     "name": "stderr",
     "output_type": "stream",
     "text": [
      "Warning: Vehicle 'ASNR.4' performs emergency braking on lane 'end3_junction_1' with decel=9.00, wished=5.00, severity=1.00, time=1200.00.\n",
      "Warning: Vehicle 'ASNR.4' performs emergency stop at the end of lane 'end3_junction_1' because of a red traffic light (decel=-30.45, offset=0.07), time=1200.94.\n"
     ]
    },
    {
     "name": "stdout",
     "output_type": "stream",
     "text": [
      "Step #1220.00 (0ms ?*RT. ?UPS, TraCI: 3ms, vehicles TOT 924 ACT 124 BUF 0)                \r"
     ]
    },
    {
     "name": "stderr",
     "output_type": "stream",
     "text": [
      "Warning: Vehicle 'CESR.27' performs emergency braking on lane 'end2_junction_2' with decel=9.00, wished=5.00, severity=1.00, time=1220.00.\n",
      "Warning: Vehicle 'CESR.27' performs emergency stop at the end of lane 'end2_junction_2' because of a red traffic light (decel=-14.59, offset=0.01), time=1220.28.\n"
     ]
    },
    {
     "name": "stdout",
     "output_type": "stream",
     "text": [
      "episode : 1\n",
      "Step #1300.00 (0ms ?*RT. ?UPS, TraCI: 0ms, vehicles TOT 924 ACT 56 BUF 0)                 \n",
      " Retrying in 1 seconds\n"
     ]
    },
    {
     "name": "stderr",
     "output_type": "stream",
     "text": [
      "Warning: Environment variable SUMO_HOME is not set properly, disabling XML validation. Set 'auto' or 'always' for web lookups.\n"
     ]
    },
    {
     "name": "stdout",
     "output_type": "stream",
     "text": [
      "Step #141.00 (0ms ?*RT. ?UPS, TraCI: 0ms, vehicles TOT 108 ACT 71 BUF 0)                  \r"
     ]
    },
    {
     "name": "stderr",
     "output_type": "stream",
     "text": [
      "Warning: Vehicle 'CES.3' performs emergency braking on lane 'end2_junction_2' with decel=9.00, wished=5.00, severity=1.00, time=140.00.\n",
      "Warning: Vehicle 'CES.3' performs emergency stop at the end of lane 'end2_junction_2' because of a red traffic light (decel=-13.54, offset=0.04), time=141.15.\n"
     ]
    },
    {
     "name": "stdout",
     "output_type": "stream",
     "text": [
      "Step #241.00 (0ms ?*RT. ?UPS, TraCI: 0ms, vehicles TOT 189 ACT 75 BUF 3)                  \r"
     ]
    },
    {
     "name": "stderr",
     "output_type": "stream",
     "text": [
      "Warning: Vehicle 'CWE.18' performs emergency braking on lane 'end4_junction_1' with decel=9.00, wished=5.00, severity=1.00, time=240.00.\n",
      "Warning: Vehicle 'CWE.18' performs emergency stop at the end of lane 'end4_junction_1' because of a red traffic light (decel=-29.82, offset=0.15), time=241.01.\n"
     ]
    },
    {
     "name": "stdout",
     "output_type": "stream",
     "text": [
      "Step #341.00 (1ms ~= 10.00*RT, ~110000.00UPS, TraCI: 0ms, vehicles TOT 270 ACT 110 BUF 0) \r"
     ]
    },
    {
     "name": "stderr",
     "output_type": "stream",
     "text": [
      "Warning: Vehicle 'CNE.5' performs emergency braking on lane 'end1_junction_2' with decel=9.00, wished=5.00, severity=1.00, time=340.00.\n",
      "Warning: Vehicle 'CNE.5' performs emergency braking on lane 'end1_junction_2' with decel=9.00, wished=5.00, severity=1.00, time=341.19.\n"
     ]
    },
    {
     "name": "stdout",
     "output_type": "stream",
     "text": [
      "Step #620.00 (0ms ?*RT. ?UPS, TraCI: 2ms, vehicles TOT 491 ACT 161 BUF 1)                 \r"
     ]
    },
    {
     "name": "stderr",
     "output_type": "stream",
     "text": [
      "Warning: Vehicle 'CWE.40' performs emergency braking on lane 'end4_junction_1' with decel=9.00, wished=5.00, severity=1.00, time=620.00.\n",
      "Warning: Vehicle 'CWE.40' performs emergency stop at the end of lane 'end4_junction_1' because of a red traffic light (decel=-14.98, offset=0.03), time=620.48.\n"
     ]
    },
    {
     "name": "stdout",
     "output_type": "stream",
     "text": [
      "state : [ 0  4 26  0  3  0  0  0  0  0  6  0  0  0  0  0  0  0  0  0  0  0  0  0\n",
      "  0 13 63  7  7 11  1  0  0  0  7  0  3  0  3  0  0  0  0  0  9  0  0  0]\n",
      "Q_values : [-2.5035498 -5.188497  -7.715867   1.3268075]\n",
      "Step #840.00 (0ms ?*RT. ?UPS, TraCI: 3ms, vehicles TOT 649 ACT 135 BUF 5)                 \r"
     ]
    },
    {
     "name": "stderr",
     "output_type": "stream",
     "text": [
      "Warning: Vehicle 'CWER.6' performs emergency braking on lane 'end4_junction_1' with decel=9.00, wished=5.00, severity=1.00, time=840.00.\n",
      "Warning: Vehicle 'CWER.6' performs emergency stop at the end of lane 'end4_junction_1' because of a red traffic light (decel=-30.36, offset=0.18), time=840.95.\n"
     ]
    },
    {
     "name": "stdout",
     "output_type": "stream",
     "text": [
      "Step #920.00 (0ms ?*RT. ?UPS, TraCI: 3ms, vehicles TOT 713 ACT 149 BUF 1)                 \r"
     ]
    },
    {
     "name": "stderr",
     "output_type": "stream",
     "text": [
      "Warning: Vehicle 'CESR.18' performs emergency braking on lane 'end2_junction_2' with decel=9.00, wished=5.00, severity=1.00, time=920.00.\n",
      "Warning: Vehicle 'CESR.18' performs emergency stop at the end of lane 'end2_junction_2' because of a red traffic light (decel=-11.11, offset=0.01), time=920.62.\n"
     ]
    },
    {
     "name": "stdout",
     "output_type": "stream",
     "text": [
      "Step #1060.00 (0ms ?*RT. ?UPS, TraCI: 3ms, vehicles TOT 818 ACT 158 BUF 4)                \r"
     ]
    },
    {
     "name": "stderr",
     "output_type": "stream",
     "text": [
      "Warning: Vehicle 'AWER.12' performs emergency stop at the end of lane 'end4_junction_1' because of a red traffic light (decel=-17.31, offset=0.01), time=1060.92.\n"
     ]
    },
    {
     "name": "stdout",
     "output_type": "stream",
     "text": [
      "Step #1142.00 (0ms ?*RT. ?UPS, TraCI: 0ms, vehicles TOT 875 ACT 140 BUF 7)                \r"
     ]
    },
    {
     "name": "stderr",
     "output_type": "stream",
     "text": [
      "Warning: Vehicle 'CEWR.39' performs emergency braking on lane 'end2_junction_1' with decel=9.00, wished=5.00, severity=1.00, time=1142.08.\n"
     ]
    },
    {
     "name": "stdout",
     "output_type": "stream",
     "text": [
      "state : [ 0 14 76  0 13 13  0  0  2  0  2  0  0  0  0  0  0  0  0  0  0  0  0  0\n",
      "  1 14 78  7 16 16  2  1  2  2  3  0  2  0  0  2  0  0  0  0  0  0  0  0]\n",
      "Q_values : [ -2.0485034  -9.988745  -13.55791     9.19729  ]\n",
      "Step #1201.00 (1ms ~= 10.00*RT, ~160000.00UPS, TraCI: 0ms, vehicles TOT 924 ACT 160 BUF 0)\r"
     ]
    },
    {
     "name": "stderr",
     "output_type": "stream",
     "text": [
      "Warning: Vehicle 'CESR.45' performs emergency braking on lane 'end2_junction_2' with decel=9.00, wished=5.00, severity=1.00, time=1201.32.\n"
     ]
    },
    {
     "name": "stdout",
     "output_type": "stream",
     "text": [
      "Step #1260.00 (1ms ~= 10.00*RT, ~109000.00UPS, TraCI: 2ms, vehicles TOT 924 ACT 109 BUF 0)\r"
     ]
    },
    {
     "name": "stderr",
     "output_type": "stream",
     "text": [
      "Warning: Vehicle 'ANER.4' performs emergency stop at the end of lane 'end1_junction_2' because of a red traffic light (decel=-16.40, offset=0.03), time=1260.17.\n"
     ]
    },
    {
     "name": "stdout",
     "output_type": "stream",
     "text": [
      "episode : 2\n",
      "Step #1300.00 (1ms ~= 10.00*RT, ~86000.00UPS, TraCI: 0ms, vehicles TOT 924 ACT 86 BUF 0)  \n",
      " Retrying in 1 seconds\n"
     ]
    },
    {
     "name": "stderr",
     "output_type": "stream",
     "text": [
      "Warning: Environment variable SUMO_HOME is not set properly, disabling XML validation. Set 'auto' or 'always' for web lookups.\n",
      "Warning: Vehicle 'CWE.12' performs emergency braking on lane 'end4_junction_1' with decel=9.00, wished=5.00, severity=1.00, time=180.00.\n",
      "Warning: Vehicle 'CWE.12' performs emergency stop at the end of lane 'end4_junction_1' because of a red traffic light (decel=-9.65, offset=0.00), time=181.45.\n"
     ]
    },
    {
     "name": "stdout",
     "output_type": "stream",
     "text": [
      "Step #320.00 (0ms ?*RT. ?UPS, TraCI: 1ms, vehicles TOT 252 ACT 80 BUF 0)                  \r"
     ]
    },
    {
     "name": "stderr",
     "output_type": "stream",
     "text": [
      "Warning: Vehicle 'ANS.2' performs emergency braking on lane 'end1_junction_1' with decel=9.00, wished=5.00, severity=1.00, time=320.00.\n",
      "Warning: Vehicle 'ANS.2' performs emergency stop at the end of lane 'end1_junction_1' because of a red traffic light (decel=-20.14, offset=0.00), time=320.60.\n"
     ]
    },
    {
     "name": "stdout",
     "output_type": "stream",
     "text": [
      "Step #340.00 (0ms ?*RT. ?UPS, TraCI: 2ms, vehicles TOT 270 ACT 86 BUF 0)                  \r"
     ]
    },
    {
     "name": "stderr",
     "output_type": "stream",
     "text": [
      "Warning: Vehicle 'AWE.23' performs emergency stop at the end of lane 'end4_junction_1' because of a red traffic light (decel=-12.57, offset=0.01), time=340.79.\n"
     ]
    },
    {
     "name": "stdout",
     "output_type": "stream",
     "text": [
      "Step #540.00 (0ms ?*RT. ?UPS, TraCI: 1ms, vehicles TOT 412 ACT 99 BUF 8)                  \r"
     ]
    },
    {
     "name": "stderr",
     "output_type": "stream",
     "text": [
      "Warning: Vehicle 'AWE.29' performs emergency stop at the end of lane 'end4_junction_1' because of a red traffic light (decel=-12.10, offset=0.01), time=540.82.\n"
     ]
    },
    {
     "name": "stdout",
     "output_type": "stream",
     "text": [
      "Step #620.00 (1ms ~= 10.00*RT, ~123000.00UPS, TraCI: 1ms, vehicles TOT 491 ACT 123 BUF 1) \r"
     ]
    },
    {
     "name": "stderr",
     "output_type": "stream",
     "text": [
      "Warning: Vehicle 'CWE.40' performs emergency braking on lane 'end4_junction_1' with decel=9.00, wished=5.00, severity=1.00, time=620.00.\n",
      "Warning: Vehicle 'CWE.40' performs emergency stop at the end of lane 'end4_junction_1' because of a red traffic light (decel=-17.16, offset=0.07), time=620.36.\n"
     ]
    },
    {
     "name": "stdout",
     "output_type": "stream",
     "text": [
      "state : [ 0  4 25  0  8  0  0  4  0  0 22  0  0  0  0  0  0  0  0  0  0  0  0  0\n",
      "  0  4 32  5 13  3  2  4  0  1 23  0  3  0  0  2  0  0  0  0  6  0  0  0]\n",
      "Q_values : [ 2.5229988  -1.8313102  -3.7915688  -0.20287614]\n",
      "Step #761.00 (0ms ?*RT. ?UPS, TraCI: 0ms, vehicles TOT 598 ACT 131 BUF 2)                 \r"
     ]
    },
    {
     "name": "stderr",
     "output_type": "stream",
     "text": [
      "Warning: Vehicle 'CESR.10' performs emergency braking on lane 'end2_junction_2' with decel=9.00, wished=5.00, severity=1.00, time=760.00.\n",
      "Warning: Vehicle 'CESR.10' performs emergency braking on lane 'end2_junction_2' with decel=9.00, wished=5.00, severity=1.00, time=761.18.\n"
     ]
    },
    {
     "name": "stdout",
     "output_type": "stream",
     "text": [
      "Step #920.00 (1ms ~= 10.00*RT, ~135000.00UPS, TraCI: 2ms, vehicles TOT 713 ACT 135 BUF 1) \r"
     ]
    },
    {
     "name": "stderr",
     "output_type": "stream",
     "text": [
      "Warning: Vehicle 'CNSR.2' performs emergency braking on lane 'end1_junction_1' with decel=9.00, wished=5.00, severity=1.00, time=920.00.\n",
      "Warning: Teleporting vehicle 'CWE.40'; waited too long (yield), lane='end4_junction_1', time=920.37.\n",
      "Warning: Vehicle 'CWE.40' ends teleporting on edge 'junction_end2', time=920.37.\n",
      "Warning: Vehicle 'CNSR.2' performs emergency stop at the end of lane 'end1_junction_1' because of a red traffic light (decel=-21.90, offset=0.09), time=920.41.\n"
     ]
    },
    {
     "name": "stdout",
     "output_type": "stream",
     "text": [
      "Step #940.00 (1ms ~= 10.00*RT, ~141000.00UPS, TraCI: 2ms, vehicles TOT 728 ACT 141 BUF 4) \r"
     ]
    },
    {
     "name": "stderr",
     "output_type": "stream",
     "text": [
      "Warning: Teleporting vehicle 'AEWR.0'; waited too long (yield), lane='end2_junction_1', time=939.66.\n",
      "Warning: Vehicle 'AEWR.0' ends teleporting on edge 'junction_end4', time=939.66.\n",
      "Warning: Vehicle 'CESR.25' performs emergency braking on lane 'end2_junction_2' with decel=9.00, wished=5.00, severity=1.00, time=940.00.\n",
      "Warning: Vehicle 'CESR.25' performs emergency stop at the end of lane 'end2_junction_2' because of a red traffic light (decel=-13.16, offset=0.03), time=940.39.\n"
     ]
    },
    {
     "name": "stdout",
     "output_type": "stream",
     "text": [
      "Step #1204.00 (1ms ~= 10.00*RT, ~153000.00UPS, TraCI: 0ms, vehicles TOT 924 ACT 153 BUF 0)\r"
     ]
    },
    {
     "name": "stderr",
     "output_type": "stream",
     "text": [
      "Warning: Vehicle 'CWNR.4' performs emergency braking on lane 'end4_junction_2' with decel=9.00, wished=5.00, severity=1.00, time=1204.15.\n"
     ]
    },
    {
     "name": "stdout",
     "output_type": "stream",
     "text": [
      "Step #1260.00 (0ms ?*RT. ?UPS, TraCI: 3ms, vehicles TOT 924 ACT 129 BUF 0)                \r"
     ]
    },
    {
     "name": "stderr",
     "output_type": "stream",
     "text": [
      "Warning: Vehicle 'AEWR.21' performs emergency stop at the end of lane 'end2_junction_1' because of a red traffic light (decel=-19.85, offset=0.06), time=1260.24.\n"
     ]
    },
    {
     "name": "stdout",
     "output_type": "stream",
     "text": [
      "episode : 3\n",
      "Step #1300.00 (1ms ~= 10.00*RT, ~96000.00UPS, TraCI: 0ms, vehicles TOT 924 ACT 96 BUF 0)  \n",
      " Retrying in 1 seconds\n"
     ]
    },
    {
     "name": "stderr",
     "output_type": "stream",
     "text": [
      "Warning: Environment variable SUMO_HOME is not set properly, disabling XML validation. Set 'auto' or 'always' for web lookups.\n",
      "Warning: Vehicle 'CNE.10' performs emergency braking on lane 'end1_junction_2' with decel=9.00, wished=5.00, severity=1.00, time=220.00.\n",
      "Warning: Vehicle 'CNE.10' performs emergency stop at the end of lane 'end1_junction_2' because of a red traffic light (decel=-14.20, offset=0.03), time=220.28.\n"
     ]
    },
    {
     "name": "stdout",
     "output_type": "stream",
     "text": [
      "Step #280.00 (0ms ?*RT. ?UPS, TraCI: 2ms, vehicles TOT 216 ACT 60 BUF 0)                  \r"
     ]
    },
    {
     "name": "stderr",
     "output_type": "stream",
     "text": [
      "Warning: Vehicle 'AWE.19' performs emergency stop at the end of lane 'end4_junction_1' because of a red traffic light (decel=-13.84, offset=0.01), time=280.66.\n"
     ]
    },
    {
     "name": "stdout",
     "output_type": "stream",
     "text": [
      "Step #320.00 (0ms ?*RT. ?UPS, TraCI: 1ms, vehicles TOT 252 ACT 62 BUF 0)                  \r"
     ]
    },
    {
     "name": "stderr",
     "output_type": "stream",
     "text": [
      "Warning: Vehicle 'CSW.2' performs emergency braking on lane 'end3_junction_2' with decel=9.00, wished=5.00, severity=1.00, time=320.00.\n",
      "Warning: Vehicle 'CNE.24' performs emergency braking on lane 'end1_junction_2' with decel=9.00, wished=5.00, severity=1.00, time=320.00.\n",
      "Warning: Vehicle 'CNE.24' performs emergency stop at the end of lane 'end1_junction_2' because of a red traffic light (decel=-17.23, offset=0.08), time=320.45.\n",
      "Warning: Vehicle 'CSW.2' performs emergency stop at the end of lane 'end3_junction_2' because of a red traffic light (decel=-16.85, offset=0.01), time=320.48.\n"
     ]
    },
    {
     "name": "stdout",
     "output_type": "stream",
     "text": [
      "Step #460.00 (1ms ~= 10.00*RT, ~89000.00UPS, TraCI: 1ms, vehicles TOT 360 ACT 89 BUF 0)   \r"
     ]
    },
    {
     "name": "stderr",
     "output_type": "stream",
     "text": [
      "Warning: Vehicle 'AWE.25' performs emergency stop at the end of lane 'end4_junction_1' because of a red traffic light (decel=-14.63, offset=0.03), time=460.58.\n"
     ]
    },
    {
     "name": "stdout",
     "output_type": "stream",
     "text": [
      "Step #580.00 (0ms ?*RT. ?UPS, TraCI: 1ms, vehicles TOT 440 ACT 62 BUF 16)                 \r"
     ]
    },
    {
     "name": "stderr",
     "output_type": "stream",
     "text": [
      "Warning: Vehicle 'CWE.44' performs emergency braking on lane 'end4_junction_1' with decel=9.00, wished=5.00, severity=1.00, time=580.00.\n",
      "Warning: Vehicle 'CWE.44' performs emergency stop at the end of lane 'end4_junction_1' because of a red traffic light (decel=-15.59, offset=0.05), time=580.95.\n"
     ]
    },
    {
     "name": "stdout",
     "output_type": "stream",
     "text": [
      "Step #660.00 (0ms ?*RT. ?UPS, TraCI: 1ms, vehicles TOT 517 ACT 70 BUF 5)                  \r"
     ]
    },
    {
     "name": "stderr",
     "output_type": "stream",
     "text": [
      "Warning: Vehicle 'CNE.44' performs emergency braking on lane 'end1_junction_2' with decel=9.00, wished=5.00, severity=1.00, time=660.00.\n",
      "Warning: Vehicle 'CNE.44' performs emergency braking on lane 'end1_junction_2' with decel=9.00, wished=5.00, severity=1.00, time=660.91.\n"
     ]
    },
    {
     "name": "stdout",
     "output_type": "stream",
     "text": [
      "Step #880.00 (0ms ?*RT. ?UPS, TraCI: 1ms, vehicles TOT 674 ACT 73 BUF 4)                  \r"
     ]
    },
    {
     "name": "stderr",
     "output_type": "stream",
     "text": [
      "Warning: Vehicle 'CNER.5' performs emergency braking on lane 'end1_junction_2' with decel=9.00, wished=5.00, severity=1.00, time=880.00.\n",
      "Warning: Vehicle 'CNER.5' performs emergency stop at the end of lane 'end1_junction_2' because of a red traffic light (decel=-9.99, offset=0.01), time=880.76.\n"
     ]
    },
    {
     "name": "stdout",
     "output_type": "stream",
     "text": [
      "Step #920.00 (0ms ?*RT. ?UPS, TraCI: 1ms, vehicles TOT 713 ACT 83 BUF 1)                  \r"
     ]
    },
    {
     "name": "stderr",
     "output_type": "stream",
     "text": [
      "Warning: Vehicle 'AEWR.11' performs emergency stop at the end of lane 'end2_junction_1' because of a red traffic light (decel=-17.31, offset=0.06), time=920.34.\n"
     ]
    },
    {
     "name": "stdout",
     "output_type": "stream",
     "text": [
      "state : [ 0  0  1  0 32  9  0  0  0  0  4  0  0  0  0  0  0  0  0  0  0  0  0  0\n",
      "  3  2  2  6 36 13  4  2  0  3  5  2  2  2  0  2  0  0  0  1  0  0  0  0]\n",
      "Q_values : [0.12652946 0.95178115 4.626189   2.2271488 ]\n",
      "Step #1181.00 (0ms ?*RT. ?UPS, TraCI: 0ms, vehicles TOT 912 ACT 79 BUF 6)                 \r"
     ]
    },
    {
     "name": "stderr",
     "output_type": "stream",
     "text": [
      "Warning: Vehicle 'CESR.35' performs emergency braking on lane 'end2_junction_2' with decel=9.00, wished=5.00, severity=1.00, time=1180.00.\n",
      "Warning: Vehicle 'CESR.35' performs emergency braking on lane 'end2_junction_2' with decel=9.00, wished=5.00, severity=1.00, time=1181.05.\n"
     ]
    },
    {
     "name": "stdout",
     "output_type": "stream",
     "text": [
      "state : [ 0  0  4  0  0 11  0  0  0  0  0  0  0  0  0  0  0  0  0  0  0  0  0  0\n",
      "  2  2  6  5  5 29  2  2  2  2  2  2  4  0  0  0  1  0  0  0  2  0  6  3]\n",
      "Q_values : [-6.2394023 10.416898   5.9576993 10.02856  ]\n",
      "episode : 4\n",
      "Step #1300.00 (0ms ?*RT. ?UPS, TraCI: 0ms, vehicles TOT 924 ACT 9 BUF 0)                  \n",
      " Retrying in 1 seconds\n"
     ]
    },
    {
     "name": "stderr",
     "output_type": "stream",
     "text": [
      "Warning: Environment variable SUMO_HOME is not set properly, disabling XML validation. Set 'auto' or 'always' for web lookups.\n",
      "Warning: Vehicle 'CES.3' performs emergency braking on lane 'end2_junction_2' with decel=9.00, wished=5.00, severity=1.00, time=140.00.\n",
      "Warning: Vehicle 'CES.3' performs emergency stop at the end of lane 'end2_junction_2' because of a red traffic light (decel=-13.41, offset=0.00), time=141.17.\n"
     ]
    },
    {
     "name": "stdout",
     "output_type": "stream",
     "text": [
      "Step #160.00 (1ms ~= 10.00*RT, ~68000.00UPS, TraCI: 75ms, vehicles TOT 138 ACT 68 BUF 0)  \r"
     ]
    },
    {
     "name": "stderr",
     "output_type": "stream",
     "text": [
      "Warning: Vehicle 'CNE.7' performs emergency braking on lane 'end1_junction_2' with decel=9.00, wished=5.00, severity=1.00, time=160.00.\n",
      "Warning: Vehicle 'CNE.7' performs emergency stop at the end of lane 'end1_junction_2' because of a red traffic light (decel=-12.15, offset=0.03), time=160.54.\n"
     ]
    },
    {
     "name": "stdout",
     "output_type": "stream",
     "text": [
      "state : [ 0  0  0  0  2  5  0  0  0  0 11  2  0  0  0  0  0  0  0  0  0  0  0  0\n",
      "  0  0 14  2  4  7  4  0  0  0 14  2  0  0  0  4  0  9  0  0  0  0  0  1]\n",
      "Q_values : [-5.2382483  5.1518793  3.4277763  0.2758404]\n",
      "Step #580.00 (0ms ?*RT. ?UPS, TraCI: 75ms, vehicles TOT 440 ACT 115 BUF 16)               \r"
     ]
    },
    {
     "name": "stderr",
     "output_type": "stream",
     "text": [
      "Warning: Vehicle 'AWE.25' performs emergency stop at the end of lane 'end4_junction_1' because of a red traffic light (decel=-13.23, offset=0.02), time=580.72.\n"
     ]
    },
    {
     "name": "stdout",
     "output_type": "stream",
     "text": [
      "Step #620.00 (0ms ?*RT. ?UPS, TraCI: 0ms, vehicles TOT 491 ACT 128 BUF 1)                 "
     ]
    },
    {
     "name": "stderr",
     "output_type": "stream",
     "text": [
      "Warning: Vehicle 'CNE.46' performs emergency braking on lane 'end1_junction_2' with decel=9.00, wished=5.00, severity=1.00, time=620.00.\n"
     ]
    },
    {
     "name": "stdout",
     "output_type": "stream",
     "text": [
      "state : [ 0  4  0  0 16  7  0  4  0  5 48 11  0  0  0  0  0  0  0  0  0  0  0  0\n",
      "  0  4  0  7 19 10  2  4  0  5 48 11  4  0  0  0  0  4  0  0  0  0  0  0]\n",
      "Q_values : [-10.30254     6.933852   29.762291    5.1972413]\n",
      "state : [ 0  4  0  0  3 17  0  4  0  0 11 10  0  0  0  0  0  0  0  0  0  0  0  0\n",
      "  2  6  2  7  7 20  2  6  2  2 29 12  4  0  0  0  0  2  0  0  0  0  0  0]\n",
      "Q_values : [-6.557529   2.5768964  7.8426895  3.6428163]\n",
      "Step #840.00 (0ms ?*RT. ?UPS, TraCI: 70ms, vehicles TOT 649 ACT 100 BUF 5)                \r"
     ]
    },
    {
     "name": "stderr",
     "output_type": "stream",
     "text": [
      "Warning: Vehicle 'AEWR.17' performs emergency stop at the end of lane 'end2_junction_1' because of a red traffic light (decel=-22.22, offset=0.04), time=840.43.\n"
     ]
    },
    {
     "name": "stdout",
     "output_type": "stream",
     "text": [
      "Step #969.00 (0ms ?*RT. ?UPS, TraCI: 0ms, vehicles TOT 750 ACT 106 BUF 0)                 \r"
     ]
    },
    {
     "name": "stderr",
     "output_type": "stream",
     "text": [
      "Warning: Teleporting vehicle 'AESR.3'; waited too long (yield), lane='end2_junction_2', time=969.84.\n",
      "Warning: Vehicle 'AESR.3' ends teleporting on edge 'junction_end3', time=969.84.\n"
     ]
    },
    {
     "name": "stdout",
     "output_type": "stream",
     "text": [
      "state : [ 0  0  2  0 24 29  0  0  0  0 10  0  0  0  0  0  0  0  0  0  0  0  0  0\n",
      "  3  2  3  6 29 56  4  2  0  3 11  2  2  0  7  2  0  0  0  0  9  0  0  0]\n",
      "Q_values : [-3.2201867  5.8977833 14.219233  -5.8331723]\n",
      "Step #1100.00 (0ms ?*RT. ?UPS, TraCI: 71ms, vehicles TOT 846 ACT 116 BUF 0)               \r"
     ]
    },
    {
     "name": "stderr",
     "output_type": "stream",
     "text": [
      "Warning: Vehicle 'CESR.14' performs emergency braking on lane 'end2_junction_2' with decel=9.00, wished=5.00, severity=1.00, time=1100.00.\n",
      "Warning: Vehicle 'CESR.14' performs emergency braking on lane 'end2_junction_2' with decel=9.00, wished=5.00, severity=1.00, time=1100.95.\n"
     ]
    },
    {
     "name": "stdout",
     "output_type": "stream",
     "text": [
      "Step #1180.00 (0ms ?*RT. ?UPS, TraCI: 0ms, vehicles TOT 905 ACT 106 BUF 13)               "
     ]
    },
    {
     "name": "stderr",
     "output_type": "stream",
     "text": [
      "Warning: Vehicle 'CENR.46' performs emergency braking on lane 'end2_junction_0' with decel=9.00, wished=5.00, severity=1.00, time=1180.00.\n"
     ]
    },
    {
     "name": "stdout",
     "output_type": "stream",
     "text": [
      "state : [ 0  4  0  0  0 60  0  4  0  0  0  2  0  0  0  0  0  0  0  0  0  0  0  0\n",
      "  0  4  0  0  0 60  0  4  0  0  0  2  0  0  0  0  1  0  0  0  0  0  4  3]\n",
      "Q_values : [-10.898249   21.811596    1.3951514  19.23928  ]\n",
      "episode : 5\n",
      "Step #1300.00 (0ms ?*RT. ?UPS, TraCI: 1ms, vehicles TOT 924 ACT 68 BUF 0)                 \n",
      " Retrying in 1 seconds\n"
     ]
    },
    {
     "name": "stderr",
     "output_type": "stream",
     "text": [
      "Warning: Environment variable SUMO_HOME is not set properly, disabling XML validation. Set 'auto' or 'always' for web lookups.\n"
     ]
    },
    {
     "name": "stdout",
     "output_type": "stream",
     "text": [
      "state : [ 0  2 10  0  0  2  0  2  2  0  0  0  0  0  0  0  0  0  0  0  0  0  0  0\n",
      "  0  3 13  4  1  2  4  2  2  1  2  0  2  0  0  4  3  2  0  0  0  0  1  0]\n",
      "Q_values : [-1.6646726  3.481717   3.059979  -4.5463185]\n",
      "state : [ 0  2  0  0  0  2  0  2  0  0  2  0  0  0  0  0  0  0  0  0  0  0  0  0\n",
      "  1  2  6  1  2  4  6  2  0  1  6  0  0  0  0  2  0 10  0  0  0  0  0  1]\n",
      "Q_values : [-2.111656    0.4816591   0.40709275 -2.671027  ]\n",
      "Step #123.00 (0ms ?*RT. ?UPS, TraCI: 0ms, vehicles TOT 102 ACT 48 BUF 0)                  \r"
     ]
    },
    {
     "name": "stderr",
     "output_type": "stream",
     "text": [
      "Warning: Vehicle 'CNE.8' performs emergency braking on lane 'end1_junction_2' with decel=9.00, wished=5.00, severity=1.00, time=123.89.\n"
     ]
    },
    {
     "name": "stdout",
     "output_type": "stream",
     "text": [
      "Step #260.00 (1ms ~= 10.00*RT, ~60000.00UPS, TraCI: 69ms, vehicles TOT 203 ACT 60 BUF 1)  \r"
     ]
    },
    {
     "name": "stderr",
     "output_type": "stream",
     "text": [
      "Warning: Vehicle 'CWE.17' performs emergency braking on lane 'end4_junction_1' with decel=9.00, wished=5.00, severity=1.00, time=260.00.\n",
      "Warning: Vehicle 'CWE.17' performs emergency stop at the end of lane 'end4_junction_1' because of a red traffic light (decel=-21.35, offset=0.03), time=260.14.\n"
     ]
    },
    {
     "name": "stdout",
     "output_type": "stream",
     "text": [
      "Step #301.00 (0ms ?*RT. ?UPS, TraCI: 0ms, vehicles TOT 243 ACT 73 BUF 3)                  \r"
     ]
    },
    {
     "name": "stderr",
     "output_type": "stream",
     "text": [
      "Warning: Vehicle 'CNE.19' performs emergency braking on lane 'end1_junction_2' with decel=9.00, wished=5.00, severity=1.00, time=300.00.\n",
      "Warning: Vehicle 'CNE.19' performs emergency braking on lane 'end1_junction_2' with decel=9.00, wished=5.00, severity=1.00, time=301.15.\n"
     ]
    },
    {
     "name": "stdout",
     "output_type": "stream",
     "text": [
      "Step #520.00 (0ms ?*RT. ?UPS, TraCI: 72ms, vehicles TOT 402 ACT 98 BUF 0)                 \r"
     ]
    },
    {
     "name": "stderr",
     "output_type": "stream",
     "text": [
      "Warning: Vehicle 'CNE.30' performs emergency braking on lane 'end1_junction_2' with decel=9.00, wished=5.00, severity=1.00, time=520.00.\n",
      "Warning: Vehicle 'CNE.30' performs emergency stop at the end of lane 'end1_junction_2' because of a red traffic light (decel=-14.61, offset=0.05), time=520.32.\n"
     ]
    },
    {
     "name": "stdout",
     "output_type": "stream",
     "text": [
      "Step #700.00 (0ms ?*RT. ?UPS, TraCI: 72ms, vehicles TOT 542 ACT 94 BUF 4)                 \r"
     ]
    },
    {
     "name": "stderr",
     "output_type": "stream",
     "text": [
      "Warning: Vehicle 'CNER.2' performs emergency braking on lane 'end1_junction_2' with decel=9.00, wished=5.00, severity=1.00, time=700.00.\n",
      "Warning: Vehicle 'CNER.2' performs emergency stop at the end of lane 'end1_junction_2' because of a red traffic light (decel=-14.58, offset=0.03), time=700.63.\n"
     ]
    },
    {
     "name": "stdout",
     "output_type": "stream",
     "text": [
      "Step #763.00 (0ms ?*RT. ?UPS, TraCI: 0ms, vehicles TOT 599 ACT 89 BUF 1)                  \r"
     ]
    },
    {
     "name": "stderr",
     "output_type": "stream",
     "text": [
      "Warning: Vehicle 'CESR.11' performs emergency braking on lane 'end2_junction_2' with decel=9.00, wished=5.00, severity=1.00, time=763.95.\n"
     ]
    },
    {
     "name": "stdout",
     "output_type": "stream",
     "text": [
      "Step #843.00 (0ms ?*RT. ?UPS, TraCI: 0ms, vehicles TOT 650 ACT 60 BUF 4)                  \r"
     ]
    },
    {
     "name": "stderr",
     "output_type": "stream",
     "text": [
      "Warning: Vehicle 'CNER.6' performs emergency braking on lane 'end1_junction_2' with decel=9.00, wished=5.00, severity=1.00, time=843.97.\n"
     ]
    },
    {
     "name": "stdout",
     "output_type": "stream",
     "text": [
      "Step #912.00 (0ms ?*RT. ?UPS, TraCI: 0ms, vehicles TOT 709 ACT 86 BUF 5)                  \r"
     ]
    },
    {
     "name": "stderr",
     "output_type": "stream",
     "text": [
      "Warning: Teleporting vehicle 'ASN.4'; waited too long (yield), lane='end3_junction_1', time=907.11.\n",
      "Warning: Vehicle 'ASN.4' ends teleporting on edge 'junction_end1', time=907.11.\n",
      "Warning: Teleporting vehicle 'CNS.4'; waited too long (yield), lane='end1_junction_1', time=912.89.\n",
      "Warning: Vehicle 'CNS.4' ends teleporting on edge 'junction_end3', time=912.89.\n"
     ]
    },
    {
     "name": "stdout",
     "output_type": "stream",
     "text": [
      "state : [ 0  7  2  0  0 22  0  7  0  0  0  0  0  0  0  0  0  0  0  0  0  0  0  0\n",
      "  0  7  2  5  9 26  0  7  0  0  0  0  4  0  0  2  3  2  0  0  0  0  7  3]\n",
      "Q_values : [-5.1800404   0.71160054 -0.40393567 -1.9610014 ]\n",
      "Step #1041.00 (0ms ?*RT. ?UPS, TraCI: 0ms, vehicles TOT 810 ACT 96 BUF 0)                 \r"
     ]
    },
    {
     "name": "stderr",
     "output_type": "stream",
     "text": [
      "Warning: Vehicle 'CESR.22' performs emergency braking on lane 'end2_junction_2' with decel=9.00, wished=5.00, severity=1.00, time=1040.00.\n",
      "Warning: Vehicle 'CESR.22' performs emergency braking on lane 'end2_junction_2' with decel=9.00, wished=5.00, severity=1.00, time=1041.05.\n"
     ]
    },
    {
     "name": "stdout",
     "output_type": "stream",
     "text": [
      "Step #1160.00 (1ms ~= 10.00*RT, ~91000.00UPS, TraCI: 72ms, vehicles TOT 887 ACT 91 BUF 1) \r"
     ]
    },
    {
     "name": "stderr",
     "output_type": "stream",
     "text": [
      "Warning: Vehicle 'AWER.15' performs emergency stop at the end of lane 'end4_junction_1' because of a red traffic light (decel=-36.66, offset=0.15), time=1160.05.\n"
     ]
    },
    {
     "name": "stdout",
     "output_type": "stream",
     "text": [
      "state : [ 0  2  0  0 10 12  0  2  0  0  2  0  0  0  0  0  0  0  0  0  0  0  0  0\n",
      "  2  3  0  6 34 17  2  3  0  2  3  0  4  0  0  1  0  5  0  0  0  0  1  0]\n",
      "Q_values : [ 0.55762625  5.7521734  12.979096    6.4907346 ]\n",
      "Step #1200.00 (0ms ?*RT. ?UPS, TraCI: 70ms, vehicles TOT 924 ACT 89 BUF 0)                \r"
     ]
    },
    {
     "name": "stderr",
     "output_type": "stream",
     "text": [
      "Warning: Vehicle 'CEWR.40' performs emergency braking on lane 'end2_junction_1' with decel=9.00, wished=5.00, severity=1.00, time=1200.00.\n",
      "Warning: Vehicle 'CEWR.40' performs emergency stop at the end of lane 'end2_junction_1' because of a red traffic light (decel=-13.74, offset=0.03), time=1200.63.\n"
     ]
    },
    {
     "name": "stdout",
     "output_type": "stream",
     "text": [
      "state : [ 0  0  0  0 26 21  0  0  0  0  2  2  0  0  0  0  0  0  0  0  0  0  0  0\n",
      "  0  0  0  0 26 21  0  0  0  0  2  2  0  2  1  0  0  0  0  2  1  0  0  0]\n",
      "Q_values : [ 3.448361 12.559371 31.065512 18.833231]\n",
      "Step #1280.00 (0ms ?*RT. ?UPS, TraCI: 69ms, vehicles TOT 924 ACT 50 BUF 0)                \r"
     ]
    },
    {
     "name": "stderr",
     "output_type": "stream",
     "text": [
      "Warning: Vehicle 'AEWR.43' performs emergency stop at the end of lane 'end2_junction_1' because of a red traffic light (decel=-18.04, offset=0.02), time=1280.29.\n"
     ]
    },
    {
     "name": "stdout",
     "output_type": "stream",
     "text": [
      "episode : 6\n",
      "Step #1300.00 (0ms ?*RT. ?UPS, TraCI: 0ms, vehicles TOT 924 ACT 36 BUF 0)                 \n",
      " Retrying in 1 seconds\n"
     ]
    },
    {
     "name": "stderr",
     "output_type": "stream",
     "text": [
      "Warning: Environment variable SUMO_HOME is not set properly, disabling XML validation. Set 'auto' or 'always' for web lookups.\n"
     ]
    },
    {
     "name": "stdout",
     "output_type": "stream",
     "text": [
      "state : [0 0 0 0 0 0 0 0 0 0 0 0 0 0 0 0 0 0 0 0 0 0 0 0 2 3 3 2 2 2 4 2 2 3 3 2 0\n",
      " 0 0 0 0 0 0 0 0 0 0 0]\n",
      "Q_values : [-13.474794   -4.383666   -6.1212687 -10.700922 ]\n"
     ]
    },
    {
     "name": "stderr",
     "output_type": "stream",
     "text": [
      "Warning: Vehicle 'CNE.3' performs emergency braking on lane 'end1_junction_2' with decel=9.00, wished=5.00, severity=1.00, time=63.79.\n"
     ]
    },
    {
     "name": "stdout",
     "output_type": "stream",
     "text": [
      "state : [ 0  0 20  0  0  2  0  0  0  0  0  0  0  0  0  0  0  0  0  0  0  0  0  0          \n",
      "  2  3 22  2  3  3  5  2  1  3 12  1  2  0  0  3  9  4  0  0  0  0  1  0]\n",
      "Q_values : [-4.2238784 11.523954  -2.2032094 -9.042822 ]\n",
      "Step #340.00 (1ms ~= 10.00*RT, ~73000.00UPS, TraCI: 75ms, vehicles TOT 270 ACT 73 BUF 0)  \r"
     ]
    },
    {
     "name": "stderr",
     "output_type": "stream",
     "text": [
      "Warning: Vehicle 'CNE.24' performs emergency braking on lane 'end1_junction_2' with decel=9.00, wished=5.00, severity=1.00, time=340.00.\n",
      "Warning: Vehicle 'CNE.24' performs emergency stop at the end of lane 'end1_junction_2' because of a red traffic light (decel=-10.52, offset=0.00), time=340.82.\n"
     ]
    },
    {
     "name": "stdout",
     "output_type": "stream",
     "text": [
      "Step #481.00 (0ms ?*RT. ?UPS, TraCI: 0ms, vehicles TOT 375 ACT 63 BUF 3)                  \r"
     ]
    },
    {
     "name": "stderr",
     "output_type": "stream",
     "text": [
      "Warning: Vehicle 'CES.12' performs emergency braking on lane 'end2_junction_2' with decel=9.00, wished=5.00, severity=1.00, time=480.00.\n",
      "Warning: Vehicle 'CES.12' performs emergency braking on lane 'end2_junction_2' with decel=9.00, wished=5.00, severity=1.00, time=481.06.\n"
     ]
    },
    {
     "name": "stdout",
     "output_type": "stream",
     "text": [
      "Step #600.00 (1ms ~= 10.00*RT, ~59000.00UPS, TraCI: 70ms, vehicles TOT 466 ACT 59 BUF 20) \r"
     ]
    },
    {
     "name": "stderr",
     "output_type": "stream",
     "text": [
      "Warning: Vehicle 'CNE.44' performs emergency braking on lane 'end1_junction_2' with decel=9.00, wished=5.00, severity=1.00, time=600.00.\n",
      "Warning: Vehicle 'CNE.44' performs emergency braking on lane 'end1_junction_2' with decel=9.00, wished=5.00, severity=1.00, time=600.94.\n"
     ]
    },
    {
     "name": "stdout",
     "output_type": "stream",
     "text": [
      "Step #823.00 (0ms ?*RT. ?UPS, TraCI: 0ms, vehicles TOT 641 ACT 91 BUF 1)                  \r"
     ]
    },
    {
     "name": "stderr",
     "output_type": "stream",
     "text": [
      "Warning: Vehicle 'CESR.16' performs emergency braking on lane 'end2_junction_2' with decel=9.00, wished=5.00, severity=1.00, time=823.87.\n"
     ]
    },
    {
     "name": "stdout",
     "output_type": "stream",
     "text": [
      "Step #860.00 (0ms ?*RT. ?UPS, TraCI: 0ms, vehicles TOT 665 ACT 96 BUF 1)                  "
     ]
    },
    {
     "name": "stderr",
     "output_type": "stream",
     "text": [
      "Warning: Vehicle 'CENR.19' performs emergency braking on lane 'end2_junction_0' with decel=9.00, wished=5.00, severity=1.00, time=860.00.\n"
     ]
    },
    {
     "name": "stdout",
     "output_type": "stream",
     "text": [
      "Step #892.00 (0ms ?*RT. ?UPS, TraCI: 0ms, vehicles TOT 690 ACT 111 BUF 12)                \r"
     ]
    },
    {
     "name": "stderr",
     "output_type": "stream",
     "text": [
      "Warning: Teleporting vehicle 'AWE.47'; waited too long (yield), lane='end4_junction_1', time=892.46.\n",
      "Warning: Vehicle 'AWE.47' ends teleporting on edge 'junction_end2', time=892.46.\n"
     ]
    },
    {
     "name": "stdout",
     "output_type": "stream",
     "text": [
      "Step #908.00 (0ms ?*RT. ?UPS, TraCI: 0ms, vehicles TOT 707 ACT 115 BUF 1)                 \r"
     ]
    },
    {
     "name": "stderr",
     "output_type": "stream",
     "text": [
      "Warning: Teleporting vehicle 'AEW.16'; waited too long (yield), lane='end2_junction_1', time=908.10.\n",
      "Warning: Vehicle 'AEW.16' ends teleporting on edge 'junction_end4', time=908.10.\n"
     ]
    },
    {
     "name": "stdout",
     "output_type": "stream",
     "text": [
      "state : [ 0  2  4  0  0 10  0  2  0  0  0  0  0  0  0  0  0  0  0  0  0  0  0  0\n",
      "  0  2  4  6 30 36  0  2  0  0  0  0  2  0  0  2  1  0  0  0  0  0 10  4]\n",
      "Q_values : [-6.4061604 -4.951155  -2.8086345 -2.8938632]\n",
      "state : [ 0  2  6  0  7  3  0  2  0  0  1  0  0  0  0  0  0  0  0  0  0  0  0  0\n",
      "  2  3  6  6 29 24  2  3  0  2  2  0  4  0  0  2  0  0  0  0  9  0  0  0]\n",
      "Q_values : [-5.8062105   4.3317738   0.04308057 -6.493992  ]\n"
     ]
    },
    {
     "name": "stderr",
     "output_type": "stream",
     "text": [
      "Warning: Vehicle 'CESR.41' performs emergency braking on lane 'end2_junction_2' with decel=9.00, wished=5.00, severity=1.00, time=1220.00.\n",
      "Warning: Vehicle 'CESR.41' performs emergency stop at the end of lane 'end2_junction_2' because of a red traffic light (decel=-13.86, offset=0.01), time=1220.37.\n"
     ]
    },
    {
     "name": "stdout",
     "output_type": "stream",
     "text": [
      "episode : 700 (0ms ?*RT. ?UPS, TraCI: 87ms, vehicles TOT 924 ACT 87 BUF 0)                \n",
      "Step #1300.00 (0ms ?*RT. ?UPS, TraCI: 0ms, vehicles TOT 924 ACT 36 BUF 0)                 \n",
      " Retrying in 1 seconds\n"
     ]
    },
    {
     "name": "stderr",
     "output_type": "stream",
     "text": [
      "Warning: Environment variable SUMO_HOME is not set properly, disabling XML validation. Set 'auto' or 'always' for web lookups.\n",
      "Warning: Vehicle 'AWE.5' performs emergency stop at the end of lane 'end4_junction_1' because of a red traffic light (decel=-36.24, offset=0.01), time=80.12.\n"
     ]
    },
    {
     "name": "stdout",
     "output_type": "stream",
     "text": [
      "Step #120.00 (0ms ?*RT. ?UPS, TraCI: 69ms, vehicles TOT 99 ACT 46 BUF 3)                  \r"
     ]
    },
    {
     "name": "stderr",
     "output_type": "stream",
     "text": [
      "Warning: Vehicle 'CWE.8' performs emergency braking on lane 'end4_junction_1' with decel=9.00, wished=5.00, severity=1.00, time=120.00.\n",
      "Warning: Vehicle 'CWE.8' performs emergency stop at the end of lane 'end4_junction_1' because of a red traffic light (decel=-30.54, offset=0.06), time=120.93.\n"
     ]
    },
    {
     "name": "stdout",
     "output_type": "stream",
     "text": [
      "Step #200.00 (0ms ?*RT. ?UPS, TraCI: 0ms, vehicles TOT 162 ACT 52 BUF 0)                  "
     ]
    },
    {
     "name": "stderr",
     "output_type": "stream",
     "text": [
      "Warning: Vehicle 'CNE.14' performs emergency braking on lane 'end1_junction_2' with decel=9.00, wished=5.00, severity=1.00, time=200.00.\n"
     ]
    },
    {
     "name": "stdout",
     "output_type": "stream",
     "text": [
      "state : [ 0  0  7  0  0 10  0  0  0  0  0  2  0  0  0  0  0  0  0  0  0  0  0  0\n",
      "  0  0 11  2  2 12  4  0  0  0  3  2  0  0  0  4  6  4  0  0  0  0  1  0]\n",
      "Q_values : [-1.6432952  2.3891451  2.852305   3.8859873]\n",
      "Step #261.00 (0ms ?*RT. ?UPS, TraCI: 0ms, vehicles TOT 204 ACT 52 BUF 0)                  \r"
     ]
    },
    {
     "name": "stderr",
     "output_type": "stream",
     "text": [
      "Warning: Vehicle 'CES.6' performs emergency braking on lane 'end2_junction_2' with decel=9.00, wished=5.00, severity=1.00, time=260.00.\n",
      "Warning: Vehicle 'CES.6' performs emergency braking on lane 'end2_junction_2' with decel=9.00, wished=5.00, severity=1.00, time=261.13.\n"
     ]
    },
    {
     "name": "stdout",
     "output_type": "stream",
     "text": [
      "Step #320.00 (0ms ?*RT. ?UPS, TraCI: 68ms, vehicles TOT 252 ACT 61 BUF 0)                 \r"
     ]
    },
    {
     "name": "stderr",
     "output_type": "stream",
     "text": [
      "Warning: Vehicle 'ANS.2' performs emergency braking on lane 'end1_junction_1' with decel=9.00, wished=5.00, severity=1.00, time=320.00.\n",
      "Warning: Vehicle 'ANS.2' performs emergency stop at the end of lane 'end1_junction_1' because of a red traffic light (decel=-20.51, offset=0.09), time=320.56.\n"
     ]
    },
    {
     "name": "stdout",
     "output_type": "stream",
     "text": [
      "state : [ 0  0  0  0  6  4  0  0  0  0 21  0  0  0  0  0  0  0  0  0  0  0  0  0\n",
      "  4  1  9  4  7  4  6  1  0  4 24  0  2  0  0  4  0 12  0  0  0  0  0  0]\n",
      "Q_values : [-0.26003528  6.7851467  17.886814    5.560319  ]\n",
      "state : [ 0  0  9  0  0  4  0  0  0  0  0  0  0  0  0  0  0  0  0  0  0  0  0  0\n",
      "  3  2 14  1  1  6  5  2  2  3 16  2  0  0  0  2  6  6  0  0  0  0  4  2]\n",
      "Q_values : [-7.327793  -2.72856   -1.3850375 -7.8758383]\n",
      "Step #480.00 (0ms ?*RT. ?UPS, TraCI: 0ms, vehicles TOT 372 ACT 73 BUF 0)                  "
     ]
    },
    {
     "name": "stderr",
     "output_type": "stream",
     "text": [
      "Warning: Vehicle 'CWE.36' performs emergency braking on lane 'end4_junction_1' with decel=9.00, wished=5.00, severity=1.00, time=480.00.\n",
      "Warning: Vehicle 'CWE.36' performs emergency stop at the end of lane 'end4_junction_1' because of a red traffic light (decel=-22.79, offset=0.04), time=480.00.\n"
     ]
    },
    {
     "name": "stdout",
     "output_type": "stream",
     "text": [
      "Step #500.00 (1ms ~= 10.00*RT, ~59000.00UPS, TraCI: 74ms, vehicles TOT 384 ACT 59 BUF 0)  \r"
     ]
    },
    {
     "name": "stderr",
     "output_type": "stream",
     "text": [
      "Warning: Vehicle 'CES.13' performs emergency braking on lane 'end2_junction_2' with decel=9.00, wished=5.00, severity=1.00, time=500.00.\n",
      "Warning: Vehicle 'CES.13' performs emergency stop at the end of lane 'end2_junction_2' because of a red traffic light (decel=-18.39, offset=0.08), time=500.48.\n"
     ]
    },
    {
     "name": "stdout",
     "output_type": "stream",
     "text": [
      "Step #621.00 (0ms ?*RT. ?UPS, TraCI: 0ms, vehicles TOT 492 ACT 91 BUF 0)                  \r"
     ]
    },
    {
     "name": "stderr",
     "output_type": "stream",
     "text": [
      "Warning: Vehicle 'CNE.42' performs emergency braking on lane 'end1_junction_2' with decel=9.00, wished=5.00, severity=1.00, time=620.00.\n",
      "Warning: Vehicle 'CNE.42' performs emergency braking on lane 'end1_junction_2' with decel=9.00, wished=5.00, severity=1.00, time=621.18.\n"
     ]
    },
    {
     "name": "stdout",
     "output_type": "stream",
     "text": [
      "Step #720.00 (0ms ?*RT. ?UPS, TraCI: 67ms, vehicles TOT 559 ACT 65 BUF 5)                 \r"
     ]
    },
    {
     "name": "stderr",
     "output_type": "stream",
     "text": [
      "Warning: Vehicle 'CEWR.7' performs emergency braking on lane 'end2_junction_1' with decel=9.00, wished=5.00, severity=1.00, time=720.00.\n",
      "Warning: Vehicle 'CEWR.7' performs emergency stop at the end of lane 'end2_junction_1' because of a red traffic light (decel=-22.95, offset=0.12), time=720.29.\n"
     ]
    },
    {
     "name": "stdout",
     "output_type": "stream",
     "text": [
      "Step #921.00 (0ms ?*RT. ?UPS, TraCI: 0ms, vehicles TOT 714 ACT 96 BUF 0)                  \r"
     ]
    },
    {
     "name": "stderr",
     "output_type": "stream",
     "text": [
      "Warning: Vehicle 'CSWR.2' performs emergency braking on lane 'end3_junction_2' with decel=9.00, wished=5.00, severity=1.00, time=920.00.\n",
      "Warning: Vehicle 'CNER.3' performs emergency braking on lane 'end1_junction_2' with decel=9.00, wished=5.00, severity=1.00, time=920.00.\n",
      "Warning: Vehicle 'CNER.3' performs emergency braking on lane 'end1_junction_2' with decel=9.00, wished=5.00, severity=1.00, time=921.12.\n",
      "Warning: Vehicle 'CSWR.2' performs emergency stop at the end of lane 'end3_junction_2' because of a red traffic light (decel=-12.81, offset=0.02), time=921.41.\n"
     ]
    },
    {
     "name": "stdout",
     "output_type": "stream",
     "text": [
      "Step #980.00 (1ms ~= 10.00*RT, ~102000.00UPS, TraCI: 68ms, vehicles TOT 755 ACT 102 BUF 1)\r"
     ]
    },
    {
     "name": "stderr",
     "output_type": "stream",
     "text": [
      "Warning: Vehicle 'CESR.15' performs emergency braking on lane 'end2_junction_2' with decel=9.00, wished=5.00, severity=1.00, time=980.00.\n",
      "Warning: Vehicle 'CESR.15' performs emergency stop at the end of lane 'end2_junction_2' because of a red traffic light (decel=-11.91, offset=0.03), time=980.54.\n"
     ]
    },
    {
     "name": "stdout",
     "output_type": "stream",
     "text": [
      "Step #1180.00 (1ms ~= 10.00*RT, ~140000.00UPS, TraCI: 74ms, vehicles TOT 905 ACT 140 BUF 1\r"
     ]
    },
    {
     "name": "stderr",
     "output_type": "stream",
     "text": [
      "Warning: Vehicle 'CEWR.29' performs emergency braking on lane 'end2_junction_1' with decel=9.00, wished=5.00, severity=1.00, time=1180.00.\n",
      "Warning: Vehicle 'CEWR.29' performs emergency stop at the end of lane 'end2_junction_1' because of a red traffic light (decel=-16.07, offset=0.06), time=1180.22.\n"
     ]
    },
    {
     "name": "stdout",
     "output_type": "stream",
     "text": [
      "state : [ 0  0  4  0 11 38  0  0  0  0  0  0  0  0  0  0  0  0  0  0  0  0  0  0\n",
      "  2  2  6  4 38 58  2  2  2  2  2  1  4  0  1  0  0  0  0  0  9  0  0  0]\n",
      "Q_values : [-2.3394332  1.8918692  3.0469928  3.8819053]\n",
      "Step #1221.00 (0ms ?*RT. ?UPS, TraCI: 0ms, vehicles TOT 924 ACT 125 BUF 0)                \r"
     ]
    },
    {
     "name": "stderr",
     "output_type": "stream",
     "text": [
      "Warning: Vehicle 'CESR.26' performs emergency braking on lane 'end2_junction_2' with decel=9.00, wished=5.00, severity=1.00, time=1220.00.\n",
      "Warning: Vehicle 'CESR.26' performs emergency braking on lane 'end2_junction_2' with decel=9.00, wished=5.00, severity=1.00, time=1221.13.\n"
     ]
    },
    {
     "name": "stdout",
     "output_type": "stream",
     "text": [
      "episode : 8\n",
      "Step #1300.00 (1ms ~= 10.00*RT, ~86000.00UPS, TraCI: 0ms, vehicles TOT 924 ACT 86 BUF 0)  \n",
      " Retrying in 1 seconds\n"
     ]
    },
    {
     "name": "stderr",
     "output_type": "stream",
     "text": [
      "Warning: Environment variable SUMO_HOME is not set properly, disabling XML validation. Set 'auto' or 'always' for web lookups.\n",
      "Warning: Vehicle 'CNE.3' performs emergency braking on lane 'end1_junction_2' with decel=9.00, wished=5.00, severity=1.00, time=63.80.\n"
     ]
    },
    {
     "name": "stdout",
     "output_type": "stream",
     "text": [
      "state : [ 0  0 10  0  0  6  0  0  0  0  0  2  0  0  0  0  0  0  0  0  0  0  0  0          \n",
      "  0  0 13  2  3  7  4  0  0  0  3  2  2  0  0  2  4  0  0  0  0  0  1  0]\n",
      "Q_values : [-1.9315852  4.6036434  1.2782428  1.6258816]\n",
      "state : [0 0 2 0 0 8 0 0 0 0 0 2 0 0 0 0 0 0 0 0 0 0 0 0 2 3 5 2 3 9 5 2 1 2 4 3 2\n",
      " 0 0 3 5 4 0 0 0 0 1 0]\n",
      "Q_values : [-5.7983756 -3.9111629 -2.0542283 -4.182802 ]\n",
      "state : [ 0  1  5  0  0  9  0  1  1  0  0  3  0  0  0  0  0  0  0  0  0  0  0  0\n",
      "  0  3  9  0  1 10  4  2  2  1  3  4  2  0  0  3  3  0  2  0  0  2  1  0]\n",
      "Q_values : [-5.234975  -2.9212022 -1.1180893 -2.841618 ]\n",
      "state : [ 0  0  0  0  2 14  0  0  0  0  3  4  0  0  0  0  0  0  0  0  0  0  0  0\n",
      "  1  0 12  2  2 14  5  0  0  1  7  4  2  0  0  2  0  9  0  0  0  0  0  1]\n",
      "Q_values : [-0.22781777 -2.122771    1.9986327   8.902981  ]\n",
      "Step #400.00 (0ms ?*RT. ?UPS, TraCI: 87ms, vehicles TOT 308 ACT 64 BUF 4)                 \r"
     ]
    },
    {
     "name": "stderr",
     "output_type": "stream",
     "text": [
      "Warning: Vehicle 'CNE.27' performs emergency braking on lane 'end1_junction_2' with decel=9.00, wished=5.00, severity=1.00, time=400.00.\n",
      "Warning: Vehicle 'CNE.27' performs emergency stop at the end of lane 'end1_junction_2' because of a red traffic light (decel=-14.68, offset=0.04), time=400.24.\n"
     ]
    },
    {
     "name": "stdout",
     "output_type": "stream",
     "text": [
      "Step #421.00 (0ms ?*RT. ?UPS, TraCI: 0ms, vehicles TOT 321 ACT 61 BUF 3)                  \r"
     ]
    },
    {
     "name": "stderr",
     "output_type": "stream",
     "text": [
      "Warning: Vehicle 'CES.9' performs emergency braking on lane 'end2_junction_2' with decel=9.00, wished=5.00, severity=1.00, time=420.00.\n",
      "Warning: Vehicle 'CES.9' performs emergency braking on lane 'end2_junction_2' with decel=9.00, wished=5.00, severity=1.00, time=421.24.\n"
     ]
    },
    {
     "name": "stdout",
     "output_type": "stream",
     "text": [
      "Step #441.00 (0ms ?*RT. ?UPS, TraCI: 0ms, vehicles TOT 348 ACT 70 BUF 0)                  \r"
     ]
    },
    {
     "name": "stderr",
     "output_type": "stream",
     "text": [
      "Warning: Vehicle 'AWE.35' performs emergency stop at the end of lane 'end4_junction_1' because of a red traffic light (decel=-21.71, offset=0.05), time=441.73.\n"
     ]
    },
    {
     "name": "stdout",
     "output_type": "stream",
     "text": [
      "Step #460.00 (0ms ?*RT. ?UPS, TraCI: 68ms, vehicles TOT 360 ACT 62 BUF 0)                 \r"
     ]
    },
    {
     "name": "stderr",
     "output_type": "stream",
     "text": [
      "Warning: Vehicle 'CNW.3' performs emergency braking on lane 'end1_junction_0' with decel=9.00, wished=5.00, severity=1.00, time=460.00.\n",
      "Warning: Vehicle 'CNS.3' performs emergency stop at the end of lane 'end1_junction_1' because of a red traffic light (decel=-25.94, offset=0.16), time=460.06.\n"
     ]
    },
    {
     "name": "stdout",
     "output_type": "stream",
     "text": [
      "state : [ 0  2 29  0  4  0  0  1  2  0 13  0  0  0  0  0  0  0  0  0  0  0  0  0\n",
      "  1  2 32  2  7  1  5  1  2  1 17  0  0  0  0  2  0  0  0  0  1  0  0  0]\n",
      "Q_values : [ 0.6477666 18.162994  -4.2325644  1.2740096]\n",
      "Step #580.00 (0ms ?*RT. ?UPS, TraCI: 68ms, vehicles TOT 440 ACT 83 BUF 16)                \r"
     ]
    },
    {
     "name": "stderr",
     "output_type": "stream",
     "text": [
      "Warning: Vehicle 'AWE.41' performs emergency stop at the end of lane 'end4_junction_1' because of a red traffic light (decel=-14.83, offset=0.00), time=580.56.\n"
     ]
    },
    {
     "name": "stdout",
     "output_type": "stream",
     "text": [
      "state : [ 0  6 16  0  0  7  0  5  0  0  0  0  0  0  0  0  0  0  0  0  0  0  0  0\n",
      "  0  6 17  6  3 10  2  5  0  0  0  0  3  0  0  0  6  6  0  0  0  0  3  0]\n",
      "Q_values : [-6.084979   -7.3755503  -1.5637612   0.61481494]\n",
      "Step #765.00 (0ms ?*RT. ?UPS, TraCI: 0ms, vehicles TOT 600 ACT 75 BUF 0)                  \r"
     ]
    },
    {
     "name": "stderr",
     "output_type": "stream",
     "text": [
      "Warning: Teleporting vehicle 'CNS.3'; waited too long (yield), lane='end1_junction_1', time=760.07.\n",
      "Warning: Vehicle 'CNS.3' ends teleporting on edge 'junction_end3', time=760.07.\n",
      "Warning: Teleporting vehicle 'CSN.3'; waited too long (yield), lane='end3_junction_1', time=765.11.\n",
      "Warning: Vehicle 'CSN.3' ends teleporting on edge 'junction_end1', time=765.11.\n"
     ]
    },
    {
     "name": "stdout",
     "output_type": "stream",
     "text": [
      "Step #800.00 (1ms ~= 10.00*RT, ~75000.00UPS, TraCI: 65ms, vehicles TOT 623 ACT 75 BUF 1)  \r"
     ]
    },
    {
     "name": "stderr",
     "output_type": "stream",
     "text": [
      "Warning: Vehicle 'CESR.13' performs emergency braking on lane 'end2_junction_2' with decel=9.00, wished=5.00, severity=1.00, time=800.00.\n",
      "Warning: Vehicle 'CESR.13' performs emergency stop at the end of lane 'end2_junction_2' because of a red traffic light (decel=-12.60, offset=0.01), time=800.44.\n"
     ]
    },
    {
     "name": "stdout",
     "output_type": "stream",
     "text": [
      "Step #840.00 (1ms ~= 10.00*RT, ~59000.00UPS, TraCI: 66ms, vehicles TOT 649 ACT 59 BUF 5)  \r"
     ]
    },
    {
     "name": "stderr",
     "output_type": "stream",
     "text": [
      "Warning: Vehicle 'CWER.6' performs emergency braking on lane 'end4_junction_1' with decel=9.00, wished=5.00, severity=1.00, time=840.00.\n",
      "Warning: Vehicle 'CEWR.17' performs emergency braking on lane 'end2_junction_1' with decel=9.00, wished=5.00, severity=1.00, time=840.00.\n",
      "Warning: Vehicle 'CEWR.17' performs emergency stop at the end of lane 'end2_junction_1' because of a red traffic light (decel=-18.74, offset=0.06), time=840.76.\n",
      "Warning: Vehicle 'CWER.6' performs emergency stop at the end of lane 'end4_junction_1' because of a red traffic light (decel=-30.00, offset=0.16), time=840.99.\n"
     ]
    },
    {
     "name": "stdout",
     "output_type": "stream",
     "text": [
      "Step #880.00 (0ms ?*RT. ?UPS, TraCI: 0ms, vehicles TOT 674 ACT 49 BUF 4)                  "
     ]
    },
    {
     "name": "stderr",
     "output_type": "stream",
     "text": [
      "Warning: Vehicle 'CENR.21' performs emergency braking on lane 'end2_junction_0' with decel=9.00, wished=5.00, severity=1.00, time=880.00.\n"
     ]
    },
    {
     "name": "stdout",
     "output_type": "stream",
     "text": [
      "Step #921.00 (0ms ?*RT. ?UPS, TraCI: 0ms, vehicles TOT 714 ACT 71 BUF 0)                  \r"
     ]
    },
    {
     "name": "stderr",
     "output_type": "stream",
     "text": [
      "Warning: Vehicle 'CSWR.2' performs emergency braking on lane 'end3_junction_2' with decel=9.00, wished=5.00, severity=1.00, time=920.00.\n",
      "Warning: Vehicle 'CSWR.2' performs emergency stop at the end of lane 'end3_junction_2' because of a red traffic light (decel=-12.86, offset=0.01), time=921.41.\n"
     ]
    },
    {
     "name": "stdout",
     "output_type": "stream",
     "text": [
      "Step #940.00 (0ms ?*RT. ?UPS, TraCI: 67ms, vehicles TOT 728 ACT 72 BUF 4)                 \r"
     ]
    },
    {
     "name": "stderr",
     "output_type": "stream",
     "text": [
      "Warning: Vehicle 'CESR.24' performs emergency braking on lane 'end2_junction_2' with decel=9.00, wished=5.00, severity=1.00, time=940.00.\n",
      "Warning: Vehicle 'CESR.24' performs emergency stop at the end of lane 'end2_junction_2' because of a red traffic light (decel=-13.56, offset=0.01), time=940.36.\n"
     ]
    },
    {
     "name": "stdout",
     "output_type": "stream",
     "text": [
      "state : [ 0  0  2  0 31  6  0  0  0  0  9  0  0  0  0  0  0  0  0  0  0  0  0  0\n",
      "  0  0  4  5 34 10  2  0  0  0 11  0  4  0  0  0  0  0  0  0  3  0  0  0]\n",
      "Q_values : [10.275997  11.8471365 31.479944  19.031408 ]\n",
      "Step #1081.00 (0ms ?*RT. ?UPS, TraCI: 0ms, vehicles TOT 835 ACT 86 BUF 5)                 \r"
     ]
    },
    {
     "name": "stderr",
     "output_type": "stream",
     "text": [
      "Warning: Vehicle 'CESR.35' performs emergency braking on lane 'end2_junction_2' with decel=9.00, wished=5.00, severity=1.00, time=1080.00.\n",
      "Warning: Vehicle 'CESR.35' performs emergency braking on lane 'end2_junction_2' with decel=9.00, wished=5.00, severity=1.00, time=1081.05.\n"
     ]
    },
    {
     "name": "stdout",
     "output_type": "stream",
     "text": [
      "state : [ 0  0  2  0 39 15  0  0  0  0  6  0  0  0  0  0  0  0  0  0  0  0  0  0\n",
      "  0  0  2  5 42 19  0  0  0  0  6  0  3  0  0  2  0  0  0  0  0  0  0  0]\n",
      "Q_values : [ 8.895542 11.18521  33.354355 24.848886]\n",
      "Step #1160.00 (0ms ?*RT. ?UPS, TraCI: 0ms, vehicles TOT 887 ACT 92 BUF 1)                 "
     ]
    },
    {
     "name": "stderr",
     "output_type": "stream",
     "text": [
      "Warning: Vehicle 'CENR.44' performs emergency braking on lane 'end2_junction_0' with decel=9.00, wished=5.00, severity=1.00, time=1160.00.\n"
     ]
    },
    {
     "name": "stdout",
     "output_type": "stream",
     "text": [
      "Step #1200.00 (1ms ~= 10.00*RT, ~97000.00UPS, TraCI: 67ms, vehicles TOT 924 ACT 97 BUF 0) \r"
     ]
    },
    {
     "name": "stderr",
     "output_type": "stream",
     "text": [
      "Warning: Vehicle 'AEWR.39' performs emergency stop at the end of lane 'end2_junction_1' because of a red traffic light (decel=-15.35, offset=0.04), time=1200.56.\n"
     ]
    },
    {
     "name": "stdout",
     "output_type": "stream",
     "text": [
      "episode : 9\n",
      "Step #1300.00 (0ms ?*RT. ?UPS, TraCI: 0ms, vehicles TOT 924 ACT 27 BUF 0)                 \n",
      " Retrying in 1 seconds\n"
     ]
    },
    {
     "name": "stderr",
     "output_type": "stream",
     "text": [
      "Warning: Environment variable SUMO_HOME is not set properly, disabling XML validation. Set 'auto' or 'always' for web lookups.\n"
     ]
    },
    {
     "name": "stdout",
     "output_type": "stream",
     "text": [
      "state : [0 2 0 0 2 2 0 2 0 0 3 2 0 0 0 0 0 0 0 0 0 0 0 0 1 2 3 2 2 2 6 2 0 1 7 2 2\n",
      " 0 0 2 0 3 2 0 0 2 0 2]\n",
      "Q_values : [-5.9312706 -1.5099977 -0.6073705 -2.586057 ]\n",
      "state : [ 0  0  0  0  2  8  0  0  0  0 18  2  0  0  0  0  0  0  0  0  0  0  0  0\n",
      "  0  0  5  2  4 10  4  0  0  0 21  2  0  0  0  4  0  9  0  0  0  0  0  1]\n",
      "Q_values : [ 3.0375538  3.8699455 17.05491    7.564338 ]\n",
      "Step #241.00 (0ms ?*RT. ?UPS, TraCI: 0ms, vehicles TOT 189 ACT 66 BUF 3)                  \r"
     ]
    },
    {
     "name": "stderr",
     "output_type": "stream",
     "text": [
      "Warning: Vehicle 'CNE.17' performs emergency braking on lane 'end1_junction_2' with decel=9.00, wished=5.00, severity=1.00, time=240.00.\n",
      "Warning: Vehicle 'CNE.17' performs emergency braking on lane 'end1_junction_2' with decel=9.00, wished=5.00, severity=1.00, time=241.19.\n"
     ]
    },
    {
     "name": "stdout",
     "output_type": "stream",
     "text": [
      "state : [ 0  0  5  0  0 10  0  0  0  0  0  2  0  0  0  0  0  0  0  0  0  0  0  0\n",
      "  0  1  8  4  1 10  4  0  0  1 12  2  2  0  0  3  6  7  0  0  0  0  2  1]\n",
      "Q_values : [-5.5166993 -2.7838595 -2.6755342 -4.0215287]\n",
      "Step #280.00 (0ms ?*RT. ?UPS, TraCI: 71ms, vehicles TOT 216 ACT 58 BUF 0)                 \r"
     ]
    },
    {
     "name": "stderr",
     "output_type": "stream",
     "text": [
      "Warning: Vehicle 'CWE.21' performs emergency braking on lane 'end4_junction_1' with decel=9.00, wished=5.00, severity=1.00, time=280.00.\n",
      "Warning: Vehicle 'CWE.21' performs emergency stop at the end of lane 'end4_junction_1' because of a red traffic light (decel=-15.53, offset=0.03), time=280.99.\n"
     ]
    },
    {
     "name": "stdout",
     "output_type": "stream",
     "text": [
      "state : [ 0  0 12  0  1  0  0  0  0  0  3  0  0  0  0  0  0  0  0  0  0  0  0  0\n",
      "  2  3 14  2  4  2  5  2  1  3  7  1  2  0  1  3  1  0  0  0  9  0  0  0]\n",
      "Q_values : [ -6.8297496   6.313351   -1.4119906 -10.649053 ]\n",
      "Step #300.00 (1ms ~= 10.00*RT, ~66000.00UPS, TraCI: 89ms, vehicles TOT 243 ACT 66 BUF 3)  \r"
     ]
    },
    {
     "name": "stderr",
     "output_type": "stream",
     "text": [
      "Warning: Vehicle 'CES.7' performs emergency braking on lane 'end2_junction_2' with decel=9.00, wished=5.00, severity=1.00, time=300.00.\n",
      "Warning: Vehicle 'CES.7' performs emergency braking on lane 'end2_junction_2' with decel=9.00, wished=5.00, severity=1.00, time=300.95.\n"
     ]
    },
    {
     "name": "stdout",
     "output_type": "stream",
     "text": [
      "Step #320.00 (0ms ?*RT. ?UPS, TraCI: 67ms, vehicles TOT 252 ACT 60 BUF 0)                 \r"
     ]
    },
    {
     "name": "stderr",
     "output_type": "stream",
     "text": [
      "Warning: Vehicle 'CSW.2' performs emergency braking on lane 'end3_junction_2' with decel=9.00, wished=5.00, severity=1.00, time=320.00.\n",
      "Warning: Vehicle 'CSW.2' performs emergency stop at the end of lane 'end3_junction_2' because of a red traffic light (decel=-16.91, offset=0.03), time=320.47.\n"
     ]
    },
    {
     "name": "stdout",
     "output_type": "stream",
     "text": [
      "state : [ 0  0 11  0  1  4  0  0  1  0  2  2  0  0  0  0  0  0  0  0  0  0  0  0\n",
      "  0  0 14  0  2  5  4  0  1  0  6  2  2  1  0  3  0  0  0  1  0  0  0  0]\n",
      "Q_values : [-1.517173   8.126613   5.707651   1.0363548]\n",
      "Step #380.00 (0ms ?*RT. ?UPS, TraCI: 66ms, vehicles TOT 294 ACT 51 BUF 0)                 \r"
     ]
    },
    {
     "name": "stderr",
     "output_type": "stream",
     "text": [
      "Warning: Vehicle 'CNE.28' performs emergency braking on lane 'end1_junction_2' with decel=9.00, wished=5.00, severity=1.00, time=380.00.\n",
      "Warning: Vehicle 'CNE.28' performs emergency stop at the end of lane 'end1_junction_2' because of a red traffic light (decel=-13.39, offset=0.00), time=380.37.\n"
     ]
    },
    {
     "name": "stdout",
     "output_type": "stream",
     "text": [
      "state : [ 0  0 13  0  6  2  0  0  0  0 16  0  0  0  0  0  0  0  0  0  0  0  0  0\n",
      "  4  1 15  4  7  2  6  1  0  4 19  0  2  0  0  4  0  0  0  0  0  0  0  0]\n",
      "Q_values : [ 1.0493748  8.766212  15.681961   4.731605 ]\n",
      "state : [ 0  2 20  0  0  4  0  2  2  0  0  2  0  0  0  0  0  0  0  0  0  0  0  0\n",
      "  0  2 23  2  3  5  4  2  2  0  3  2  2  0  0  4  7  4  2  0  0  1  1  1]\n",
      "Q_values : [-1.7409995   8.519676    5.1637745  -0.35207823]\n",
      "state : [ 0  2  0  0  2  6  0  2  0  0  6  2  0  0  0  0  0  0  0  0  0  0  0  0\n",
      "  1  2  8  2  5  7  6  2  0  1 10  2  0  0  0  2  1 13  0  0  0  0  0  0]\n",
      "Q_values : [-1.8149855  0.6633047  5.660084   2.0117786]\n",
      "Step #520.00 (0ms ?*RT. ?UPS, TraCI: 90ms, vehicles TOT 402 ACT 63 BUF 0)                 \r"
     ]
    },
    {
     "name": "stderr",
     "output_type": "stream",
     "text": [
      "Warning: Vehicle 'CNE.39' performs emergency braking on lane 'end1_junction_2' with decel=9.00, wished=5.00, severity=1.00, time=520.00.\n",
      "Warning: Vehicle 'CNE.39' performs emergency stop at the end of lane 'end1_junction_2' because of a red traffic light (decel=-14.28, offset=0.03), time=520.33.\n"
     ]
    },
    {
     "name": "stdout",
     "output_type": "stream",
     "text": [
      "state : [ 0  6  0  0 12 21  0  6  0  0 17  6  0  0  0  0  0  0  0  0  0  0  0  0\n",
      "  0  6  2  6 16 26  2  6  0  1 18  6  3  0  0  2  0  1  0  0  0  0  0  0]\n",
      "Q_values : [ 2.3378422  6.449661  22.131514  14.3288355]\n",
      "state : [ 0  0  4  0  0 19  0  0  0  0  0  6  0  0  0  0  0  0  0  0  0  0  0  0          \n",
      "  0  0  4  5  4 35  0  0  0  0  0  6  2  1  0  2  5  4  1  0  0  0  6  3]\n",
      "Q_values : [ 1.0226028  5.8867307  9.082392  18.46329  ]\n"
     ]
    },
    {
     "name": "stderr",
     "output_type": "stream",
     "text": [
      "Warning: Teleporting vehicle 'AES.11'; waited too long (yield), lane='end2_junction_2', time=729.44.\n",
      "Warning: Vehicle 'AES.11' ends teleporting on edge 'junction_end3', time=729.44.\n"
     ]
    },
    {
     "name": "stdout",
     "output_type": "stream",
     "text": [
      "state : [ 0  2  0  0  0 37  0  2  0  0  0  2  0  0  0  0  0  0  0  0  0  0  0  0\n",
      "  0  2  2  5  5 40  2  2  0  0  1  2  4  0  0  0  2  0  0  0  0  0  3  2]\n",
      "Q_values : [ 2.8618765 10.096878  13.266335  23.60367  ]\n",
      "state : [ 0  0  4  0 21 10  0  0  2  0  7  0  0  0  0  0  0  0  0  0  0  0  0  0\n",
      "  0  0  4  4 26 38  0  0  2  0  7  0  4  0  0  2  0  0  0  0  3  0  0  0]\n",
      "Q_values : [ 0.85114026  3.3793893  18.006348   10.376858  ]\n",
      "Step #1020.00 (0ms ?*RT. ?UPS, TraCI: 68ms, vehicles TOT 781 ACT 87 BUF 5)                \r"
     ]
    },
    {
     "name": "stderr",
     "output_type": "stream",
     "text": [
      "Warning: Vehicle 'CESR.16' performs emergency braking on lane 'end2_junction_2' with decel=9.00, wished=5.00, severity=1.00, time=1020.00.\n",
      "Warning: Vehicle 'CESR.16' performs emergency stop at the end of lane 'end2_junction_2' because of a red traffic light (decel=-12.03, offset=0.01), time=1020.54.\n"
     ]
    },
    {
     "name": "stdout",
     "output_type": "stream",
     "text": [
      "Step #1060.00 (0ms ?*RT. ?UPS, TraCI: 67ms, vehicles TOT 818 ACT 105 BUF 4)               \r"
     ]
    },
    {
     "name": "stderr",
     "output_type": "stream",
     "text": [
      "Warning: Vehicle 'AWER.12' performs emergency stop at the end of lane 'end4_junction_1' because of a red traffic light (decel=-17.74, offset=0.02), time=1060.88.\n"
     ]
    },
    {
     "name": "stdout",
     "output_type": "stream",
     "text": [
      "Step #1140.00 (1ms ~= 10.00*RT, ~99000.00UPS, TraCI: 65ms, vehicles TOT 874 ACT 99 BUF 8) \r"
     ]
    },
    {
     "name": "stderr",
     "output_type": "stream",
     "text": [
      "Warning: Vehicle 'CESR.27' performs emergency braking on lane 'end2_junction_2' with decel=9.00, wished=5.00, severity=1.00, time=1140.00.\n",
      "Warning: Vehicle 'CESR.27' performs emergency stop at the end of lane 'end2_junction_2' because of a red traffic light (decel=-14.59, offset=0.02), time=1140.28.\n"
     ]
    },
    {
     "name": "stdout",
     "output_type": "stream",
     "text": [
      "Step #1281.00 (0ms ?*RT. ?UPS, TraCI: 0ms, vehicles TOT 924 ACT 46 BUF 0)                 \r"
     ]
    },
    {
     "name": "stderr",
     "output_type": "stream",
     "text": [
      "Warning: Vehicle 'CESR.38' performs emergency braking on lane 'end2_junction_2' with decel=9.00, wished=5.00, severity=1.00, time=1281.37.\n"
     ]
    },
    {
     "name": "stdout",
     "output_type": "stream",
     "text": [
      "episode : 10\n",
      "Step #1300.00 (0ms ?*RT. ?UPS, TraCI: 1ms, vehicles TOT 924 ACT 38 BUF 0)                 \n",
      " Retrying in 1 seconds\n"
     ]
    },
    {
     "name": "stderr",
     "output_type": "stream",
     "text": [
      "Warning: Environment variable SUMO_HOME is not set properly, disabling XML validation. Set 'auto' or 'always' for web lookups.\n"
     ]
    },
    {
     "name": "stdout",
     "output_type": "stream",
     "text": [
      "state : [0 2 2 0 0 2 0 2 0 0 0 2 0 0 0 0 0 0 0 0 0 0 0 0 0 2 6 2 2 4 4 2 0 0 3 2 0\n",
      " 0 0 4 4 3 0 0 0 0 1 0]\n",
      "Q_values : [-4.1940837 -6.359264  -1.2610515  1.4344424]\n",
      "state : [ 0  2  6  0  5  0  0  2  0  0 13  0  0  0  0  0  0  0  0  0  0  0  0  0\n",
      "  0  3  9  0  6  1  4  2  0  1 16  0  2  0  0  4  0  0  0  0  1  0  0  0]\n",
      "Q_values : [-1.0179114  7.512342  11.593658  -2.2396905]\n",
      "Step #141.00 (0ms ?*RT. ?UPS, TraCI: 0ms, vehicles TOT 108 ACT 49 BUF 0)                  \r"
     ]
    },
    {
     "name": "stderr",
     "output_type": "stream",
     "text": [
      "Warning: Vehicle 'CES.3' performs emergency braking on lane 'end2_junction_2' with decel=9.00, wished=5.00, severity=1.00, time=140.00.\n",
      "Warning: Vehicle 'CES.3' performs emergency stop at the end of lane 'end2_junction_2' because of a red traffic light (decel=-13.71, offset=0.03), time=141.12.\n"
     ]
    },
    {
     "name": "stdout",
     "output_type": "stream",
     "text": [
      "state : [ 0  3 11  0  1  0  0  3  1  0  7  0  0  0  0  0  0  0  0  0  0  0  0  0\n",
      "  0  4 16  0  2  0  4  4  2  0 11  0  2  0  2  3  1  0  2  0  3  2  0  0]\n",
      "Q_values : [ -8.502504     3.2298732   -0.74979925 -10.358479  ]\n",
      "state : [ 0  0  6  0  0  4  0  0  0  0  0  0  0  0  0  0  0  0  0  0  0  0  0  0\n",
      "  0  1  9  4  1  4  4  0  0  1 12  0  2  0  0  3  6  5  0  0  0  0  3  2]\n",
      "Q_values : [-10.017691   -2.5940647  -2.7781012  -8.975608 ]\n",
      "Step #303.00 (0ms ?*RT. ?UPS, TraCI: 0ms, vehicles TOT 246 ACT 65 BUF 0)                  \r"
     ]
    },
    {
     "name": "stderr",
     "output_type": "stream",
     "text": [
      "Warning: Vehicle 'CNE.23' performs emergency braking on lane 'end1_junction_2' with decel=9.00, wished=5.00, severity=1.00, time=303.97.\n"
     ]
    },
    {
     "name": "stdout",
     "output_type": "stream",
     "text": [
      "Step #320.00 (0ms ?*RT. ?UPS, TraCI: 67ms, vehicles TOT 252 ACT 63 BUF 0)                 \r"
     ]
    },
    {
     "name": "stderr",
     "output_type": "stream",
     "text": [
      "Warning: Vehicle 'CEW.8' performs emergency braking on lane 'end2_junction_1' with decel=9.00, wished=5.00, severity=1.00, time=320.00.\n",
      "Warning: Vehicle 'CEW.8' performs emergency stop at the end of lane 'end2_junction_1' because of a red traffic light (decel=-23.60, offset=0.11), time=320.22.\n"
     ]
    },
    {
     "name": "stdout",
     "output_type": "stream",
     "text": [
      "state : [ 0  0  8  0  2  2  0  0  0  0 12  0  0  0  0  0  0  0  0  0  0  0  0  0\n",
      "  0  0 12  2  4  4  4  0  0  0 15  0  0  1  0  4  0  3  0  1  0  0  0  0]\n",
      "Q_values : [-2.234328   8.237428  11.224952   0.7567235]\n",
      "state : [ 0  0 14  0  0  0  0  0  0  0  5  0  0  0  0  0  0  0  0  0  0  0  0  0\n",
      "  3  2 19  1  2  2  5  2  2  2 10  2  0  0  0  1  2  0  0  0  3  0  0  0]\n",
      "Q_values : [-8.0738     4.645393   1.5615528 -9.419518 ]\n",
      "Step #480.00 (0ms ?*RT. ?UPS, TraCI: 72ms, vehicles TOT 375 ACT 70 BUF 3)                 \r"
     ]
    },
    {
     "name": "stderr",
     "output_type": "stream",
     "text": [
      "Warning: Vehicle 'CNE.34' performs emergency braking on lane 'end1_junction_2' with decel=9.00, wished=5.00, severity=1.00, time=480.00.\n",
      "Warning: Vehicle 'CNE.34' performs emergency stop at the end of lane 'end1_junction_2' because of a red traffic light (decel=-14.21, offset=0.03), time=480.31.\n"
     ]
    },
    {
     "name": "stdout",
     "output_type": "stream",
     "text": [
      "Step #644.00 (0ms ?*RT. ?UPS, TraCI: 0ms, vehicles TOT 509 ACT 113 BUF 1)                 \r"
     ]
    },
    {
     "name": "stderr",
     "output_type": "stream",
     "text": [
      "Warning: Vehicle 'CESR.1' performs emergency braking on lane 'end2_junction_2' with decel=9.00, wished=5.00, severity=1.00, time=644.20.\n"
     ]
    },
    {
     "name": "stdout",
     "output_type": "stream",
     "text": [
      "state : [ 0  0 26  0  0  6  0  0  4  0  0  0  0  0  0  0  0  0  0  0  0  0  0  0\n",
      "  0  0 28  5  5 10  2  0  4  0 18  0  4  0  0  2  6  3  0  0  0  0  7  3]\n",
      "Q_values : [-3.4465756  8.800971   7.242506  -2.8919125]\n",
      "Step #740.00 (0ms ?*RT. ?UPS, TraCI: 68ms, vehicles TOT 569 ACT 83 BUF 1)                 \r"
     ]
    },
    {
     "name": "stderr",
     "output_type": "stream",
     "text": [
      "Warning: Vehicle 'CNE.45' performs emergency braking on lane 'end1_junction_2' with decel=9.00, wished=5.00, severity=1.00, time=740.00.\n",
      "Warning: Vehicle 'CNE.45' performs emergency stop at the end of lane 'end1_junction_2' because of a red traffic light (decel=-12.23, offset=0.01), time=740.52.\n"
     ]
    },
    {
     "name": "stdout",
     "output_type": "stream",
     "text": [
      "Step #781.00 (0ms ?*RT. ?UPS, TraCI: 0ms, vehicles TOT 610 ACT 100 BUF 8)                 \r"
     ]
    },
    {
     "name": "stderr",
     "output_type": "stream",
     "text": [
      "Warning: Vehicle 'CESR.10' performs emergency braking on lane 'end2_junction_2' with decel=9.00, wished=5.00, severity=1.00, time=780.00.\n",
      "Warning: Vehicle 'CESR.10' performs emergency braking on lane 'end2_junction_2' with decel=9.00, wished=5.00, severity=1.00, time=781.11.\n"
     ]
    },
    {
     "name": "stdout",
     "output_type": "stream",
     "text": [
      "state : [ 0  1  0  0 22 17  0  1  0  0 14  1  0  0  0  0  0  0  0  0  0  0  0  0\n",
      "  2  2  0  6 26 22  1  2  1  2 15  2  2  0  0  0  0  7  0  0  0  0  0  1]\n",
      "Q_values : [ 5.174228  5.662756 26.273418 18.441689]\n",
      "Step #921.00 (0ms ?*RT. ?UPS, TraCI: 0ms, vehicles TOT 714 ACT 93 BUF 0)                  \r"
     ]
    },
    {
     "name": "stderr",
     "output_type": "stream",
     "text": [
      "Warning: Vehicle 'CSWR.2' performs emergency braking on lane 'end3_junction_2' with decel=9.00, wished=5.00, severity=1.00, time=920.00.\n",
      "Warning: Vehicle 'CSWR.2' performs emergency stop at the end of lane 'end3_junction_2' because of a red traffic light (decel=-12.33, offset=0.03), time=921.48.\n"
     ]
    },
    {
     "name": "stdout",
     "output_type": "stream",
     "text": [
      "Step #962.00 (0ms ?*RT. ?UPS, TraCI: 0ms, vehicles TOT 742 ACT 76 BUF 8)                  \r"
     ]
    },
    {
     "name": "stderr",
     "output_type": "stream",
     "text": [
      "Warning: Vehicle 'CEWR.25' performs emergency braking on lane 'end2_junction_1' with decel=9.00, wished=5.00, severity=1.00, time=960.00.\n",
      "Warning: Vehicle 'CEWR.25' performs emergency braking on lane 'end2_junction_1' with decel=9.00, wished=5.00, severity=1.00, time=962.03.\n"
     ]
    },
    {
     "name": "stdout",
     "output_type": "stream",
     "text": [
      "Step #981.00 (0ms ?*RT. ?UPS, TraCI: 0ms, vehicles TOT 756 ACT 66 BUF 0)                  \r"
     ]
    },
    {
     "name": "stderr",
     "output_type": "stream",
     "text": [
      "Warning: Vehicle 'CESR.21' performs emergency braking on lane 'end2_junction_2' with decel=9.00, wished=5.00, severity=1.00, time=980.00.\n",
      "Warning: Vehicle 'CESR.21' performs emergency braking on lane 'end2_junction_2' with decel=9.00, wished=5.00, severity=1.00, time=981.23.\n"
     ]
    },
    {
     "name": "stdout",
     "output_type": "stream",
     "text": [
      "state : [ 0  2  2  0  0 10  0  2  0  0  0  0  0  0  0  0  0  0  0  0  0  0  0  0\n",
      "  3  4  3  6  9 20  4  4  0  3  1  2  3  0  0  2  2  1  0  0  3  0  7  3]\n",
      "Q_values : [ -3.5324852 -11.949419   -1.6664139   5.8054523]\n",
      "state : [ 0  2  3  0  8  0  0  3  0  0  0  0  0  0  0  0  0  0  0  0  0  0  0  0\n",
      "  2  4  4  7 12 11  2  4  2  2  2  0  4  0  1  0  0  0  0  0  9  0  1  0]\n",
      "Q_values : [-6.739748  -7.74326   -1.3932059 -1.5052612]\n",
      "Step #1060.00 (0ms ?*RT. ?UPS, TraCI: 90ms, vehicles TOT 818 ACT 69 BUF 4)                \r"
     ]
    },
    {
     "name": "stderr",
     "output_type": "stream",
     "text": [
      "Warning: Vehicle 'CESR.32' performs emergency braking on lane 'end2_junction_2' with decel=9.00, wished=5.00, severity=1.00, time=1060.00.\n",
      "Warning: Vehicle 'CESR.32' performs emergency stop at the end of lane 'end2_junction_2' because of a red traffic light (decel=-9.90, offset=0.01), time=1060.73.\n"
     ]
    },
    {
     "name": "stdout",
     "output_type": "stream",
     "text": [
      "Step #1260.00 (0ms ?*RT. ?UPS, TraCI: 68ms, vehicles TOT 924 ACT 46 BUF 0)                \r"
     ]
    },
    {
     "name": "stderr",
     "output_type": "stream",
     "text": [
      "Warning: Vehicle 'CESR.43' performs emergency braking on lane 'end2_junction_2' with decel=9.00, wished=5.00, severity=1.00, time=1260.00.\n",
      "Warning: Vehicle 'CESR.43' performs emergency stop at the end of lane 'end2_junction_2' because of a red traffic light (decel=-10.59, offset=0.01), time=1260.65.\n"
     ]
    },
    {
     "name": "stdout",
     "output_type": "stream",
     "text": [
      "episode : 11\n",
      "Step #1300.00 (0ms ?*RT. ?UPS, TraCI: 0ms, vehicles TOT 924 ACT 32 BUF 0)                 \n",
      " Retrying in 1 seconds\n"
     ]
    },
    {
     "name": "stderr",
     "output_type": "stream",
     "text": [
      "Warning: Environment variable SUMO_HOME is not set properly, disabling XML validation. Set 'auto' or 'always' for web lookups.\n"
     ]
    },
    {
     "name": "stdout",
     "output_type": "stream",
     "text": [
      "state : [ 0  2  0  0  0  2  0  2  0  0  6  2  0  0  0  0  0  0  0  0  0  0  0  0\n",
      "  0  2 23  2  2  4  4  2  0  1  9  2  0  0  0  3  2 10  0  0  0  0  0  3]\n",
      "Q_values : [-10.193485   -7.4445686  -4.947448   -7.9406753]\n",
      "Step #201.00 (0ms ?*RT. ?UPS, TraCI: 0ms, vehicles TOT 162 ACT 69 BUF 0)                  \r"
     ]
    },
    {
     "name": "stderr",
     "output_type": "stream",
     "text": [
      "Warning: Vehicle 'CNE.5' performs emergency braking on lane 'end1_junction_2' with decel=9.00, wished=5.00, severity=1.00, time=200.00.\n",
      "Warning: Vehicle 'CNE.5' performs emergency braking on lane 'end1_junction_2' with decel=9.00, wished=5.00, severity=1.00, time=201.19.\n"
     ]
    },
    {
     "name": "stdout",
     "output_type": "stream",
     "text": [
      "state : [ 0  4  0  0  1  3  0  4  0  0  7  2  0  0  0  0  0  0  0  0  0  0  0  0\n",
      "  0  4 51  0  2  4  4  4  0  1 10  2  2  0  0  3  2 10  0  0  0  0  0  2]\n",
      "Q_values : [-10.74725      1.3817992   -0.40465593  -9.759742  ]\n",
      "Step #621.00 (0ms ?*RT. ?UPS, TraCI: 0ms, vehicles TOT 492 ACT 127 BUF 0)                 \r"
     ]
    },
    {
     "name": "stderr",
     "output_type": "stream",
     "text": [
      "Warning: Vehicle 'CNE.33' performs emergency braking on lane 'end1_junction_2' with decel=9.00, wished=5.00, severity=1.00, time=620.00.\n",
      "Warning: Vehicle 'CNE.33' performs emergency braking on lane 'end1_junction_2' with decel=9.00, wished=5.00, severity=1.00, time=621.23.\n"
     ]
    },
    {
     "name": "stdout",
     "output_type": "stream",
     "text": [
      "state : [ 0  4 11  0  0  4  0  3  2  0  0  4  0  0  0  0  0  0  0  0  0  0  0  0\n",
      "  0  5 36  6  3  8  2  3  2  1 17  5  2  0  0  2  7  6  1  0  0  1  6  3]\n",
      "Q_values : [ -9.578758    1.8822787  -1.1727368 -10.645523 ]\n",
      "state : [ 0  4  0  0  2  8  0  3  0  0 11  4  0  0  0  0  0  0  0  0  0  0  0  0\n",
      "  0  4 26  5  7 12  2  3  0  0 19  4  4  0  0  0  1 10  2  0  0  1  0  2]\n",
      "Q_values : [-5.749928   -4.7760286   0.32602304 -2.5444736 ]\n",
      "Step #660.00 (1ms ~= 10.00*RT, ~103000.00UPS, TraCI: 92ms, vehicles TOT 517 ACT 103 BUF 5)\r"
     ]
    },
    {
     "name": "stderr",
     "output_type": "stream",
     "text": [
      "Warning: Vehicle 'CNE.39' performs emergency braking on lane 'end1_junction_2' with decel=9.00, wished=5.00, severity=1.00, time=660.00.\n",
      "Warning: Vehicle 'CNE.39' performs emergency braking on lane 'end1_junction_2' with decel=9.00, wished=5.00, severity=1.00, time=660.87.\n"
     ]
    },
    {
     "name": "stdout",
     "output_type": "stream",
     "text": [
      "state : [ 0  0 30  0  6  0  0  0  0  0  1  0  0  0  0  0  0  0  0  0  0  0  0  0\n",
      "  0  0 30  5 10 15  0  0  0  0  2  0  2  1  3  2  0  0  0  0  8  0  0  0]\n",
      "Q_values : [-1.2327099 11.52331    9.007262   3.1105683]\n",
      "Step #780.00 (0ms ?*RT. ?UPS, TraCI: 0ms, vehicles TOT 606 ACT 88 BUF 0)                  "
     ]
    },
    {
     "name": "stderr",
     "output_type": "stream",
     "text": [
      "Warning: Vehicle 'CNWR.1' performs emergency braking on lane 'end1_junction_0' with decel=9.00, wished=5.00, severity=1.00, time=780.00.\n"
     ]
    },
    {
     "name": "stdout",
     "output_type": "stream",
     "text": [
      "Step #860.00 (0ms ?*RT. ?UPS, TraCI: 69ms, vehicles TOT 665 ACT 87 BUF 1)                 \r"
     ]
    },
    {
     "name": "stderr",
     "output_type": "stream",
     "text": [
      "Warning: Vehicle 'CESR.15' performs emergency braking on lane 'end2_junction_2' with decel=9.00, wished=5.00, severity=1.00, time=860.00.\n",
      "Warning: Vehicle 'CESR.15' performs emergency stop at the end of lane 'end2_junction_2' because of a red traffic light (decel=-11.90, offset=0.00), time=860.54.\n"
     ]
    },
    {
     "name": "stdout",
     "output_type": "stream",
     "text": [
      "state : [ 0  0 26  0  0 11  0  0  2  0  0  0  0  0  0  0  0  0  0  0  0  0  0  0\n",
      "  0  0 27  7  9 15  1  0  2  0  0  0  4  0  0  0  3  0  0  0  2  0  7  3]\n",
      "Q_values : [-0.90565014 15.658167    6.336113   10.947279  ]\n",
      "state : [ 0  2  2  0 19  0  0  2  0  0  4  0  0  0  0  0  0  0  0  0  0  0  0  0\n",
      "  0  2  2  5 23 18  0  2  0  0  4  0  4  0  1  2  0  0  0  0  9  0  0  0]\n",
      "Q_values : [ 0.20496178 -0.19631124 10.815339    6.212783  ]\n",
      "Step #1000.00 (0ms ?*RT. ?UPS, TraCI: 69ms, vehicles TOT 770 ACT 69 BUF 4)                \r"
     ]
    },
    {
     "name": "stderr",
     "output_type": "stream",
     "text": [
      "Warning: Vehicle 'CESR.26' performs emergency braking on lane 'end2_junction_2' with decel=9.00, wished=5.00, severity=1.00, time=1000.00.\n",
      "Warning: Vehicle 'CESR.26' performs emergency stop at the end of lane 'end2_junction_2' because of a red traffic light (decel=-12.73, offset=0.00), time=1000.46.\n"
     ]
    },
    {
     "name": "stdout",
     "output_type": "stream",
     "text": [
      "state : [ 0  2  0  0 31 26  0  2  0  0  7  2  0  0  0  0  0  0  0  0  0  0  0  0\n",
      "  0  2  0  6 34 31  0  2  0  0  7  2  3  0  0  2  0  2  0  0  0  0  0  0]\n",
      "Q_values : [10.578085   5.8679476 37.03588   26.321081 ]\n",
      "state : [ 0  2  0  0  4 30  0  2  0  0  0  2  0  0  0  0  0  0  0  0  0  0  0  0\n",
      "  0  2  2  6 26 33  2  2  0  0  2  2  4  0  0  2  4  3  0  0  0  0  7  3]\n",
      "Q_values : [-2.1810746  -0.48159015  5.117372    9.361572  ]\n",
      "state : [ 0  2  6  0 28  0  0  2  2  0  2  0  0  0  0  0  0  0  0  0  0  0  0  0\n",
      "  0  2  6  0 28  0  0  2  2  0  2  0  0  0  0  0  0  0  0  0  5  0  0  0]\n",
      "Q_values : [ 8.5337515  8.368486  27.29815   10.116629 ]\n",
      "episode : 12\n",
      "Step #1300.00 (0ms ?*RT. ?UPS, TraCI: 0ms, vehicles TOT 924 ACT 28 BUF 0)                 \n",
      " Retrying in 1 seconds\n"
     ]
    },
    {
     "name": "stderr",
     "output_type": "stream",
     "text": [
      "Warning: Environment variable SUMO_HOME is not set properly, disabling XML validation. Set 'auto' or 'always' for web lookups.\n"
     ]
    },
    {
     "name": "stdout",
     "output_type": "stream",
     "text": [
      "Step #141.00 (0ms ?*RT. ?UPS, TraCI: 0ms, vehicles TOT 108 ACT 50 BUF 0)                  \r"
     ]
    },
    {
     "name": "stderr",
     "output_type": "stream",
     "text": [
      "Warning: Vehicle 'CES.3' performs emergency braking on lane 'end2_junction_2' with decel=9.00, wished=5.00, severity=1.00, time=140.00.\n",
      "Warning: Vehicle 'CES.3' performs emergency stop at the end of lane 'end2_junction_2' because of a red traffic light (decel=-13.54, offset=0.05), time=141.15.\n"
     ]
    },
    {
     "name": "stdout",
     "output_type": "stream",
     "text": [
      "state : [ 0  1  0  0  8  2  0  1  0  0 20  1  0  0  0  0  0  0  0  0  0  0  0  0\n",
      "  0  2  3  0  8  3  4  2  0  0 23  2  2  0  0  4  0  7  2  0  0  2  0  2]\n",
      "Q_values : [ 3.6286922  5.7713423 22.024988   8.432373 ]\n",
      "state : [ 0  0  6  0  0  0  0  0  0  0  9  5  0  0  0  0  0  0  0  0  0  0  0  0\n",
      "  0  0 10  2  2  2  4  0  0  1 33  5  0  0  0  3  1  0  0  0  1  0  1  0]\n",
      "Q_values : [-8.4473782e+00  7.0712566e-03 -6.9612753e-01 -1.0171029e+01]\n",
      "state : [ 0  0  6  0  4  4  0  0  2  3 40  7  0  0  0  0  0  0  0  0  0  0  0  0\n",
      "  0  0 10  2  7  5  4  0  2  3 43  7  1  1  1  4  0  0  0  1  0  2  0  0]\n",
      "Q_values : [11.141056 18.793692 41.374886 15.387521]\n",
      "Step #500.00 (1ms ~= 10.00*RT, ~94000.00UPS, TraCI: 70ms, vehicles TOT 384 ACT 94 BUF 0)  \r"
     ]
    },
    {
     "name": "stderr",
     "output_type": "stream",
     "text": [
      "Warning: Vehicle 'AWE.18' performs emergency stop at the end of lane 'end4_junction_1' because of a red traffic light (decel=-12.01, offset=0.02), time=500.66.\n"
     ]
    },
    {
     "name": "stdout",
     "output_type": "stream",
     "text": [
      "state : [ 0  0  0  0  1  7  0  0  0  0 27  2  0  0  0  0  0  0  0  0  0  0  0  0\n",
      "  0  0  3  0  2  8  4  0  0  0 48  2  2  0  0  3  1  8  0  0  0  0  0  0]\n",
      "Q_values : [ 4.403639  9.238234 21.232279  8.846029]\n",
      "Step #543.00 (1ms ~= 10.00*RT, ~86000.00UPS, TraCI: 0ms, vehicles TOT 416 ACT 86 BUF 4)   \r"
     ]
    },
    {
     "name": "stderr",
     "output_type": "stream",
     "text": [
      "Warning: Vehicle 'CNE.43' performs emergency braking on lane 'end1_junction_2' with decel=9.00, wished=5.00, severity=1.00, time=543.86.\n"
     ]
    },
    {
     "name": "stdout",
     "output_type": "stream",
     "text": [
      "state : [ 0  0  6  0  0 10  0  0  0  0  0  5  0  0  0  0  0  0  0  0  0  0  0  0\n",
      "  2  0  9  2  0 10  5  0  0  2 26  6  2  0  0  1  9  4  0  0  0  0  2  0]\n",
      "Q_values : [-8.575136  -5.2696924 -2.6211133 -4.393751 ]\n",
      "Step #620.00 (1ms ~= 10.00*RT, ~95000.00UPS, TraCI: 67ms, vehicles TOT 491 ACT 95 BUF 1)  \r"
     ]
    },
    {
     "name": "stderr",
     "output_type": "stream",
     "text": [
      "Warning: Vehicle 'CWE.47' performs emergency braking on lane 'end4_junction_1' with decel=9.00, wished=5.00, severity=1.00, time=620.00.\n",
      "Warning: Vehicle 'CWE.47' performs emergency stop at the end of lane 'end4_junction_1' because of a red traffic light (decel=-23.34, offset=0.04), time=620.25.\n"
     ]
    },
    {
     "name": "stdout",
     "output_type": "stream",
     "text": [
      "Step #663.00 (0ms ?*RT. ?UPS, TraCI: 0ms, vehicles TOT 518 ACT 71 BUF 4)                  \r"
     ]
    },
    {
     "name": "stderr",
     "output_type": "stream",
     "text": [
      "Warning: Vehicle 'CEWR.2' performs emergency braking on lane 'end2_junction_1' with decel=9.00, wished=5.00, severity=1.00, time=663.19.\n"
     ]
    },
    {
     "name": "stdout",
     "output_type": "stream",
     "text": [
      "Step #729.00 (0ms ?*RT. ?UPS, TraCI: 0ms, vehicles TOT 564 ACT 72 BUF 0)                  \r"
     ]
    },
    {
     "name": "stderr",
     "output_type": "stream",
     "text": [
      "Warning: Teleporting vehicle 'AES.11'; waited too long (yield), lane='end2_junction_2', time=729.40.\n",
      "Warning: Vehicle 'AES.11' ends teleporting on edge 'junction_end3', time=729.40.\n"
     ]
    },
    {
     "name": "stdout",
     "output_type": "stream",
     "text": [
      "Step #804.00 (0ms ?*RT. ?UPS, TraCI: 0ms, vehicles TOT 625 ACT 84 BUF 5)                  \r"
     ]
    },
    {
     "name": "stderr",
     "output_type": "stream",
     "text": [
      "Warning: Teleporting vehicle 'AWN.3'; waited too long (yield), lane='end4_junction_2', time=804.50.\n",
      "Warning: Vehicle 'AWN.3' ends teleporting on edge 'junction_end1', time=804.50.\n"
     ]
    },
    {
     "name": "stdout",
     "output_type": "stream",
     "text": [
      "state : [ 0  0  4  0  7 44  0  0  2  0  2  7  0  0  0  0  0  0  0  0  0  0  0  0\n",
      "  1  1  4  7 11 47  2  0  2  1  3  7  4  0  0  2  0  0  0  0  0  0  0  0]\n",
      "Q_values : [ 1.1913924  3.0801804 15.06541   26.742285 ]\n",
      "state : [ 0  0  6  0  0 10  0  0  2  0  0  0  0  0  0  0  0  0  0  0  0  0  0  0\n",
      "  0  1  7  6  6 44  2  0  2  1  1  0  2  0  0  1  2  2  0  0  3  0  7  3]\n",
      "Q_values : [ -7.2785645 -14.168078   -4.0147214   3.6942077]\n",
      "Step #900.00 (0ms ?*RT. ?UPS, TraCI: 68ms, vehicles TOT 703 ACT 96 BUF 5)                 \r"
     ]
    },
    {
     "name": "stderr",
     "output_type": "stream",
     "text": [
      "Warning: Vehicle 'AESR.11' performs emergency stop at the end of lane 'end2_junction_2' because of a red traffic light (decel=-17.30, offset=0.01), time=900.10.\n"
     ]
    },
    {
     "name": "stdout",
     "output_type": "stream",
     "text": [
      "Step #921.00 (0ms ?*RT. ?UPS, TraCI: 0ms, vehicles TOT 714 ACT 87 BUF 0)                  \r"
     ]
    },
    {
     "name": "stderr",
     "output_type": "stream",
     "text": [
      "Warning: Vehicle 'CSWR.2' performs emergency braking on lane 'end3_junction_2' with decel=9.00, wished=5.00, severity=1.00, time=920.00.\n",
      "Warning: Vehicle 'CSWR.2' performs emergency stop at the end of lane 'end3_junction_2' because of a red traffic light (decel=-12.71, offset=0.00), time=921.43.\n"
     ]
    },
    {
     "name": "stdout",
     "output_type": "stream",
     "text": [
      "state : [ 0  0  0  0 10 38  0  0  0  0  0  2  0  0  0  0  0  0  0  0  0  0  0  0\n",
      "  0  0  2  6 14 42  2  0  0  0  2  2  3  0  0  0  0  1  0  0  0  0  1  1]\n",
      "Q_values : [ 2.3401537 -0.4129582 17.59174   28.52165  ]\n",
      "Step #1000.00 (0ms ?*RT. ?UPS, TraCI: 73ms, vehicles TOT 770 ACT 84 BUF 4)                \r"
     ]
    },
    {
     "name": "stderr",
     "output_type": "stream",
     "text": [
      "Warning: Vehicle 'CESR.16' performs emergency braking on lane 'end2_junction_2' with decel=9.00, wished=5.00, severity=1.00, time=1000.00.\n",
      "Warning: Vehicle 'CESR.16' performs emergency stop at the end of lane 'end2_junction_2' because of a red traffic light (decel=-14.33, offset=0.02), time=1000.29.\n"
     ]
    },
    {
     "name": "stdout",
     "output_type": "stream",
     "text": [
      "Step #1060.00 (1ms ~= 10.00*RT, ~103000.00UPS, TraCI: 72ms, vehicles TOT 818 ACT 103 BUF 4\r"
     ]
    },
    {
     "name": "stderr",
     "output_type": "stream",
     "text": [
      "Warning: Vehicle 'ANSR.3' performs emergency stop at the end of lane 'end1_junction_1' because of a red traffic light (decel=-18.46, offset=0.02), time=1060.81.\n"
     ]
    },
    {
     "name": "stdout",
     "output_type": "stream",
     "text": [
      "Step #1101.00 (1ms ~= 10.00*RT, ~96000.00UPS, TraCI: 0ms, vehicles TOT 846 ACT 96 BUF 0)  \r"
     ]
    },
    {
     "name": "stderr",
     "output_type": "stream",
     "text": [
      "Warning: Vehicle 'CEWR.36' performs emergency braking on lane 'end2_junction_1' with decel=9.00, wished=5.00, severity=1.00, time=1100.00.\n",
      "Warning: Vehicle 'CEWR.36' performs emergency braking on lane 'end2_junction_1' with decel=9.00, wished=5.00, severity=1.00, time=1101.71.\n"
     ]
    },
    {
     "name": "stdout",
     "output_type": "stream",
     "text": [
      "Step #1180.00 (0ms ?*RT. ?UPS, TraCI: 72ms, vehicles TOT 905 ACT 101 BUF 13)              \r"
     ]
    },
    {
     "name": "stderr",
     "output_type": "stream",
     "text": [
      "Warning: Vehicle 'CEWR.45' performs emergency braking on lane 'end2_junction_1' with decel=9.00, wished=5.00, severity=1.00, time=1180.00.\n",
      "Warning: Vehicle 'CEWR.45' performs emergency stop at the end of lane 'end2_junction_1' because of a red traffic light (decel=-20.60, offset=0.11), time=1180.55.\n"
     ]
    },
    {
     "name": "stdout",
     "output_type": "stream",
     "text": [
      "Step #1203.00 (0ms ?*RT. ?UPS, TraCI: 0ms, vehicles TOT 924 ACT 109 BUF 0)                \r"
     ]
    },
    {
     "name": "stderr",
     "output_type": "stream",
     "text": [
      "Warning: Vehicle 'CWNR.4' performs emergency braking on lane 'end4_junction_2' with decel=9.00, wished=5.00, severity=1.00, time=1203.98.\n"
     ]
    },
    {
     "name": "stdout",
     "output_type": "stream",
     "text": [
      "state : [ 0  0  6  0  9  0  0  0  2  0  2  0  0  0  0  0  0  0  0  0  0  0  0  0\n",
      "  0  0  6  0  9 45  0  0  2  0  2  0  2  0  1  0  0  0  0  0  9  0  0  0]\n",
      "Q_values : [ -6.3521395 -13.153906   -4.6453123   3.3480196]\n",
      "episode : 13\n",
      "Step #1300.00 (0ms ?*RT. ?UPS, TraCI: 1ms, vehicles TOT 924 ACT 40 BUF 0)                 \n",
      " Retrying in 1 seconds\n"
     ]
    },
    {
     "name": "stderr",
     "output_type": "stream",
     "text": [
      "Warning: Environment variable SUMO_HOME is not set properly, disabling XML validation. Set 'auto' or 'always' for web lookups.\n"
     ]
    },
    {
     "name": "stdout",
     "output_type": "stream",
     "text": [
      "Step #63.00 (0ms ?*RT. ?UPS, TraCI: 0ms, vehicles TOT 60 ACT 43 BUF 0)                    \r"
     ]
    },
    {
     "name": "stderr",
     "output_type": "stream",
     "text": [
      "Warning: Vehicle 'CNE.3' performs emergency braking on lane 'end1_junction_2' with decel=9.00, wished=5.00, severity=1.00, time=63.79.\n"
     ]
    },
    {
     "name": "stdout",
     "output_type": "stream",
     "text": [
      "state : [ 0  0 12  0  4  0  0  0  2  0 13  0  0  0  0  0  0  0  0  0  0  0  0  0\n",
      "  0  1 15  2  6  2  4  0  2  1 16  0  0  0  3  4  0  0  0  0  9  0  0  0]\n",
      "Q_values : [ 1.2921457 11.325687  16.455004  -3.4353766]\n",
      "state : [ 0  0 31  0  0  5  0  1  3  0  0  1  0  0  0  0  0  0  0  0  0  0  0  0\n",
      "  1  2 36  0  0  6  4  2  4  1  3  2  2  0  0  3  3  2  2  0  0  1  2  0]\n",
      "Q_values : [ 1.6601076 19.633797   6.5633645  7.045498 ]\n",
      "Step #340.00 (0ms ?*RT. ?UPS, TraCI: 0ms, vehicles TOT 270 ACT 81 BUF 0)                  "
     ]
    },
    {
     "name": "stderr",
     "output_type": "stream",
     "text": [
      "Warning: Vehicle 'CNE.14' performs emergency braking on lane 'end1_junction_2' with decel=9.00, wished=5.00, severity=1.00, time=340.00.\n"
     ]
    },
    {
     "name": "stdout",
     "output_type": "stream",
     "text": [
      "state : [ 0  0 11  0  1  7  0  0  0  0  6  2  0  0  0  0  0  0  0  0  0  0  0  0\n",
      "  0  0 31  0  2  8  4  0  0  0 10  2  2  1  0  4  0  2  0  1  0  0  0  0]\n",
      "Q_values : [-1.6874909 11.111736   2.8674135  2.873721 ]\n",
      "state : [ 0  0  0  0  2  8  0  0  0  0 10  2  0  0  0  0  0  0  0  0  0  0  0  0\n",
      "  0  0 24  2  4 10  4  0  0  1 13  2  0  0  0  4  0  9  0  0  0  0  0  0]\n",
      "Q_values : [-5.86813   -5.1228943 -1.6250286 -1.4568748]\n",
      "state : [ 0  0 10  0  4  0  0  0  0  0 13  0  0  0  0  0  0  0  0  0  0  0  0  0\n",
      "  1  0 27  2  4  0  5  0  0  1 17  0  2  0  1  2  0  3  0  0  9  0  0  0]\n",
      "Q_values : [-6.3900757  7.6679606  5.4107676 -9.622556 ]\n",
      "Step #420.00 (0ms ?*RT. ?UPS, TraCI: 69ms, vehicles TOT 321 ACT 71 BUF 3)                 \r"
     ]
    },
    {
     "name": "stderr",
     "output_type": "stream",
     "text": [
      "Warning: Vehicle 'CNE.25' performs emergency braking on lane 'end1_junction_2' with decel=9.00, wished=5.00, severity=1.00, time=420.00.\n",
      "Warning: Vehicle 'CNE.25' performs emergency stop at the end of lane 'end1_junction_2' because of a red traffic light (decel=-16.16, offset=0.06), time=420.11.\n"
     ]
    },
    {
     "name": "stdout",
     "output_type": "stream",
     "text": [
      "state : [ 0  2  0  0  2  1  0  2  0  0 18  0  0  0  0  0  0  0  0  0  0  0  0  0\n",
      "  0  2 22  0  3  2  4  2  0  1 21  0  2  0  0  4  0  9  0  0  0  0  0  2]\n",
      "Q_values : [-4.7784944  0.4421165  5.42805   -2.6776109]\n",
      "state : [ 0  2 10  0  0  2  0  2  0  0  0  0  0  0  0  0  0  0  0  0  0  0  0  0\n",
      "  1  2 25  2  3  3  5  2  0  1 13  0  0  0  0  2  7  7  0  0  0  0  2  1]\n",
      "Q_values : [-8.588705  -7.1649485 -3.1565833 -8.604523 ]\n",
      "state : [ 0  2 38  0  4  0  0  1  2  0  9  0  0  0  0  0  0  0  0  0  0  0  0  0\n",
      "  2  4 40  6  7  2  2  3  4  2 11  2  2  0  2  3  0  0  2  0  1  2  0  0]\n",
      "Q_values : [-2.6667433  14.908014   10.709852    0.21169901]\n",
      "state : [ 0  4  0  0  9  6  0  3  0  0 11  2  0  0  0  0  0  0  0  0  0  0  0  0\n",
      "  0  4 19  5 13 10  2  3  0  0 13  2  4  0  0  0  0 12  0  0  0  2  0  0]\n",
      "Q_values : [-1.9179745   0.80955184  7.8047075   2.473062  ]\n",
      "state : [ 0  1 14  0  4  0  0  2  1  0  1  0  0  0  0  0  0  0  0  0  0  0  0  0\n",
      "  1  2 14  5  9  8  0  2  2  0  2  0  4  0  2  2  0  0  1  0  9  0  1  0]\n",
      "Q_values : [-3.0517273  13.04776     1.2932447   0.51387036]\n",
      "state : [ 0  0  0  0 15 14  0  0  0  0  4  0  0  0  0  0  0  0  0  0  0  0  0  0\n",
      "  0  0  2  5 19 18  2  0  0  0  6  0  4  1  0  0  0  0  0  1  0  0  0  0]\n",
      "Q_values : [ 2.3545847  4.2160354 14.314871   7.89001  ]\n",
      "state : [ 0  0  0  0  0 24  0  0  0  0  0  0  0  0  0  0  0  0  0  0  0  0  0  0\n",
      "  3  1  2  5  5 28  2  2  2  3  1  2  4  0  0  2  1  2  0  0  0  0  7  3]\n",
      "Q_values : [-1.36484   -3.617343  -1.3746212 11.079611 ]\n",
      "state : [ 0  0  1  0  4  0  0  1  1  0  0  0  0  0  0  0  0  0  0  0  0  0  0  0\n",
      "  2  2  2  5  8 21  1  2  2  2  2  0  3  0  2  0  0  0  0  0  9  0  1  0]\n",
      "Q_values : [-8.560976  -6.035701  -2.6052399 -4.713333 ]\n",
      "Step #920.00 (0ms ?*RT. ?UPS, TraCI: 105ms, vehicles TOT 713 ACT 67 BUF 1)                \r"
     ]
    },
    {
     "name": "stderr",
     "output_type": "stream",
     "text": [
      "Warning: Vehicle 'CESR.16' performs emergency braking on lane 'end2_junction_2' with decel=9.00, wished=5.00, severity=1.00, time=920.00.\n",
      "Warning: Vehicle 'CESR.16' performs emergency stop at the end of lane 'end2_junction_2' because of a red traffic light (decel=-11.94, offset=0.00), time=920.55.\n"
     ]
    },
    {
     "name": "stdout",
     "output_type": "stream",
     "text": [
      "state : [ 0  0  0  0  9 30  0  0  0  0  4  0  0  0  0  0  0  0  0  0  0  0  0  0\n",
      "  1  1  0  7 13 33  2  0  0  1  5  0  3  0  0  2  0  1  0  0  0  0  0  0]\n",
      "Q_values : [ 3.1859322   0.14505649 12.058526   17.127773  ]\n",
      "state : [ 0  0  0  0 12  5  0  0  0  0  4  0  0  0  0  0  0  0  0  0  0  0  0  0\n",
      "  0  0  2  5 17 26  2  0  0  0  6  0  4  0  0  0  0  0  0  0  9  0  0  0]\n",
      "Q_values : [-6.5878286  1.3529676  4.371961  -2.7740428]\n",
      "state : [ 0  0  0  0  7 25  0  1  0  0  0  1  0  0  0  0  0  0  0  0  0  0  0  0\n",
      "  2  2  0  7 11 32  2  2  1  2  2  2  4  0  0  0  0  2  0  0  0  0  1  0]\n",
      "Q_values : [-1.0800819 -1.1672472  6.088341  10.579728 ]\n",
      "state : [ 0  2  1  0 14  0  0  2  1  0  3  0  0  0  0  0  0  0  0  0  0  0  0  0\n",
      "  0  2  2  6 18 17  0  2  1  0  4  0  2  0  0  2  0  0  0  0 12  0  0  0]\n",
      "Q_values : [-3.8744044   5.6895523   7.196805    0.19623673]\n",
      "state : [ 0  0  4  0  3 22  0  0  1  0  0  0  0  0  0  0  0  0  0  0  0  0  0  0\n",
      "  0  0  6  5  7 27  2  0  1  0  2  0  2  2  0  0  0  0  0  1  0  0  0  0]\n",
      "Q_values : [-3.0324154 -3.4310424 -0.1872381 11.34932  ]\n",
      "episode : 14\n",
      "Step #1300.00 (0ms ?*RT. ?UPS, TraCI: 0ms, vehicles TOT 924 ACT 26 BUF 0)                 \n",
      " Retrying in 1 seconds\n"
     ]
    },
    {
     "name": "stderr",
     "output_type": "stream",
     "text": [
      "Warning: Environment variable SUMO_HOME is not set properly, disabling XML validation. Set 'auto' or 'always' for web lookups.\n"
     ]
    },
    {
     "name": "stdout",
     "output_type": "stream",
     "text": [
      "state : [0 0 0 0 0 0 0 0 0 0 0 0 0 0 0 0 0 0 0 0 0 0 0 0 2 3 3 2 2 2 4 2 2 3 3 2 0\n",
      " 0 0 0 0 0 0 0 0 0 0 0]\n",
      "Q_values : [-12.146572   -8.84124    -7.4857883  -4.340239 ]\n",
      "state : [ 0  0  6  0  7  0  0  0  0  0 20  0  0  0  0  0  0  0  0  0  0  0  0  0\n",
      "  0  1  9  0  8  1  4  0  0  1 23  0  2  0  0  4  0  0  0  0  1  0  0  0]\n",
      "Q_values : [ 4.6356597 10.1884    26.941423   1.1656744]\n",
      "Step #141.00 (0ms ?*RT. ?UPS, TraCI: 0ms, vehicles TOT 108 ACT 54 BUF 0)                  \r"
     ]
    },
    {
     "name": "stderr",
     "output_type": "stream",
     "text": [
      "Warning: Vehicle 'CES.3' performs emergency braking on lane 'end2_junction_2' with decel=9.00, wished=5.00, severity=1.00, time=140.00.\n",
      "Warning: Vehicle 'CES.3' performs emergency stop at the end of lane 'end2_junction_2' because of a red traffic light (decel=-13.54, offset=0.03), time=141.15.\n"
     ]
    },
    {
     "name": "stdout",
     "output_type": "stream",
     "text": [
      "Step #180.00 (0ms ?*RT. ?UPS, TraCI: 0ms, vehicles TOT 144 ACT 61 BUF 0)                  "
     ]
    },
    {
     "name": "stderr",
     "output_type": "stream",
     "text": [
      "Warning: Vehicle 'CNE.12' performs emergency braking on lane 'end1_junction_2' with decel=9.00, wished=5.00, severity=1.00, time=180.00.\n"
     ]
    },
    {
     "name": "stdout",
     "output_type": "stream",
     "text": [
      "state : [ 0  0  0  0  4  7  0  0  0  0 16  2  0  0  0  0  0  0  0  0  0  0  0  0\n",
      "  0  1  3  4  5  7  4  0  0  1 19  2  2  0  0  4  0  5  0  0  0  0  0  0]\n",
      "Q_values : [ 1.1375728  5.7691407 16.859613   6.359394 ]\n",
      "Step #280.00 (0ms ?*RT. ?UPS, TraCI: 71ms, vehicles TOT 216 ACT 57 BUF 0)                 \r"
     ]
    },
    {
     "name": "stderr",
     "output_type": "stream",
     "text": [
      "Warning: Vehicle 'AWE.18' performs emergency stop at the end of lane 'end4_junction_1' because of a red traffic light (decel=-13.63, offset=0.03), time=280.68.\n"
     ]
    },
    {
     "name": "stdout",
     "output_type": "stream",
     "text": [
      "state : [ 0  0  0  0  1  9  0  0  0  0 10  2  0  0  0  0  0  0  0  0  0  0  0  0\n",
      "  2  3  2  2  4 10  5  2  1  2 15  3  2  0  0  3  2  5  0  0  0  0  0  0]\n",
      "Q_values : [-8.667964  -4.7831354  0.7316311 -3.1118743]\n",
      "Step #320.00 (0ms ?*RT. ?UPS, TraCI: 69ms, vehicles TOT 252 ACT 62 BUF 0)                 \r"
     ]
    },
    {
     "name": "stderr",
     "output_type": "stream",
     "text": [
      "Warning: Vehicle 'CEW.8' performs emergency braking on lane 'end2_junction_1' with decel=9.00, wished=5.00, severity=1.00, time=320.00.\n",
      "Warning: Vehicle 'CEW.8' performs emergency stop at the end of lane 'end2_junction_1' because of a red traffic light (decel=-19.01, offset=0.07), time=320.73.\n"
     ]
    },
    {
     "name": "stdout",
     "output_type": "stream",
     "text": [
      "state : [ 0  0  6  0  5 15  0  0  0  0 15  4  0  0  0  0  0  0  0  0  0  0  0  0\n",
      "  1  0 10  2  5 15  5  0  0  1 19  4  2  0  0  2  0  0  0  0  0  0  0  0]\n",
      "Q_values : [ 1.4365034  8.222777  18.5632     9.4008665]\n",
      "Step #441.00 (0ms ?*RT. ?UPS, TraCI: 0ms, vehicles TOT 348 ACT 80 BUF 0)                  \r"
     ]
    },
    {
     "name": "stderr",
     "output_type": "stream",
     "text": [
      "Warning: Teleporting vehicle 'CES.3'; waited too long (yield), lane='end2_junction_2', time=441.16.\n",
      "Warning: Vehicle 'CES.3' ends teleporting on edge 'junction_end3', time=441.16.\n"
     ]
    },
    {
     "name": "stdout",
     "output_type": "stream",
     "text": [
      "Step #477.00 (0ms ?*RT. ?UPS, TraCI: 0ms, vehicles TOT 372 ACT 81 BUF 0)                  \r"
     ]
    },
    {
     "name": "stderr",
     "output_type": "stream",
     "text": [
      "Warning: Teleporting vehicle 'AWN.1'; waited too long (yield), lane='end4_junction_2', time=477.36.\n",
      "Warning: Vehicle 'AWN.1' ends teleporting on edge 'junction_end1', time=477.36.\n"
     ]
    },
    {
     "name": "stdout",
     "output_type": "stream",
     "text": [
      "state : [ 0  2 23  0  0 19  0  2  2  0  0  5  0  0  0  0  0  0  0  0  0  0  0  0\n",
      "  0  3 26  0  1 20  4  2  2  1  3  5  1  0  0  3  4  0  0  0  0  0  1  0]\n",
      "Q_values : [ 6.2070975 25.224503   6.2709346 18.216227 ]\n",
      "Step #561.00 (0ms ?*RT. ?UPS, TraCI: 0ms, vehicles TOT 426 ACT 77 BUF 0)                  \r"
     ]
    },
    {
     "name": "stderr",
     "output_type": "stream",
     "text": [
      "Warning: Vehicle 'CES.9' performs emergency braking on lane 'end2_junction_2' with decel=9.00, wished=5.00, severity=1.00, time=560.00.\n",
      "Warning: Vehicle 'CES.9' performs emergency braking on lane 'end2_junction_2' with decel=9.00, wished=5.00, severity=1.00, time=561.23.\n"
     ]
    },
    {
     "name": "stdout",
     "output_type": "stream",
     "text": [
      "state : [ 0  2 25  0  0 11  0  2  0  0  0  0  0  0  0  0  0  0  0  0  0  0  0  0\n",
      "  2  2 28  2  0 13  5  2  0  2  2  0  2  0  0  2  4  3  0  0  2  0  2  0]\n",
      "Q_values : [ 1.8547406 12.656641  -1.0039916 10.727778 ]\n",
      "Step #600.00 (1ms ~= 10.00*RT, ~84000.00UPS, TraCI: 69ms, vehicles TOT 466 ACT 84 BUF 20) \r"
     ]
    },
    {
     "name": "stderr",
     "output_type": "stream",
     "text": [
      "Warning: Vehicle 'CNE.39' performs emergency braking on lane 'end1_junction_2' with decel=9.00, wished=5.00, severity=1.00, time=600.00.\n",
      "Warning: Vehicle 'CNE.39' performs emergency stop at the end of lane 'end1_junction_2' because of a red traffic light (decel=-10.05, offset=0.01), time=600.73.\n"
     ]
    },
    {
     "name": "stdout",
     "output_type": "stream",
     "text": [
      "Step #721.00 (1ms ~= 10.00*RT, ~77000.00UPS, TraCI: 0ms, vehicles TOT 559 ACT 77 BUF 5)   \r"
     ]
    },
    {
     "name": "stderr",
     "output_type": "stream",
     "text": [
      "Warning: Vehicle 'CESR.3' performs emergency braking on lane 'end2_junction_2' with decel=9.00, wished=5.00, severity=1.00, time=721.24.\n"
     ]
    },
    {
     "name": "stdout",
     "output_type": "stream",
     "text": [
      "Step #740.00 (0ms ?*RT. ?UPS, TraCI: 72ms, vehicles TOT 569 ACT 69 BUF 1)                 \r"
     ]
    },
    {
     "name": "stderr",
     "output_type": "stream",
     "text": [
      "Warning: Vehicle 'CNER.0' performs emergency braking on lane 'end1_junction_2' with decel=9.00, wished=5.00, severity=1.00, time=740.00.\n",
      "Warning: Vehicle 'CNER.0' performs emergency stop at the end of lane 'end1_junction_2' because of a red traffic light (decel=-12.39, offset=0.03), time=740.46.\n"
     ]
    },
    {
     "name": "stdout",
     "output_type": "stream",
     "text": [
      "state : [ 0  2  9  0  0 10  0  2  2  0  0  0  0  0  0  0  0  0  0  0  0  0  0  0\n",
      "  0  2 11  6 15 16  2  2  2  0  1  0  2  0  0  0  4  3  2  0  3  2  7  3]\n",
      "Q_values : [-5.6876345  3.6466088  5.241036  -3.7198172]\n",
      "Step #820.00 (1ms ~= 10.00*RT, ~74000.00UPS, TraCI: 69ms, vehicles TOT 638 ACT 74 BUF 4)  \r"
     ]
    },
    {
     "name": "stderr",
     "output_type": "stream",
     "text": [
      "Warning: Vehicle 'CEWR.14' performs emergency braking on lane 'end2_junction_1' with decel=9.00, wished=5.00, severity=1.00, time=820.00.\n",
      "Warning: Vehicle 'CEWR.14' performs emergency stop at the end of lane 'end2_junction_1' because of a red traffic light (decel=-18.36, offset=0.02), time=820.40.\n"
     ]
    },
    {
     "name": "stdout",
     "output_type": "stream",
     "text": [
      "Step #860.00 (0ms ?*RT. ?UPS, TraCI: 0ms, vehicles TOT 665 ACT 72 BUF 1)                  "
     ]
    },
    {
     "name": "stderr",
     "output_type": "stream",
     "text": [
      "Warning: Vehicle 'CESR.14' performs emergency braking on lane 'end2_junction_2' with decel=9.00, wished=5.00, severity=1.00, time=860.00.\n"
     ]
    },
    {
     "name": "stdout",
     "output_type": "stream",
     "text": [
      "state : [ 0  0  0  0  5 19  0  0  0  0  0  2  0  0  0  0  0  0  0  0  0  0  0  0\n",
      "  0  0 10  5  9 24  2  0  0  0  2  2  3  0  0  0  0  9  0  0  0  0  1  4]\n",
      "Q_values : [-1.767091 -1.789718  4.327873 16.355968]\n",
      "state : [ 0  0 12  0 15  6  0  0  0  0  4  0  0  0  0  0  0  0  0  0  0  0  0  0\n",
      "  3  2 13  5 20 10  4  2  0  3  5  2  3  0  0  2  0  0  0  0  3  0  0  0]\n",
      "Q_values : [-4.5802274   7.392522   12.959383   -0.22976369]\n",
      "Step #1060.00 (1ms ~= 10.00*RT, ~79000.00UPS, TraCI: 69ms, vehicles TOT 818 ACT 79 BUF 4) \r"
     ]
    },
    {
     "name": "stderr",
     "output_type": "stream",
     "text": [
      "Warning: Vehicle 'AWER.12' performs emergency stop at the end of lane 'end4_junction_1' because of a red traffic light (decel=-18.08, offset=0.01), time=1060.84.\n"
     ]
    },
    {
     "name": "stdout",
     "output_type": "stream",
     "text": [
      "state : [ 0  2 16  0  0  5  0  2  2  0  0  0  0  0  0  0  0  0  0  0  0  0  0  0\n",
      "  0  2 16  5  6  9  0  2  2  0  0  0  3  0  0  2  2  1  0  0  3  0  8  2]\n",
      "Q_values : [-2.2150347 11.147462   1.8570386  4.5271797]\n",
      "Step #1120.00 (0ms ?*RT. ?UPS, TraCI: 69ms, vehicles TOT 860 ACT 59 BUF 4)                \r"
     ]
    },
    {
     "name": "stderr",
     "output_type": "stream",
     "text": [
      "Warning: Vehicle 'CNER.11' performs emergency braking on lane 'end1_junction_2' with decel=9.00, wished=5.00, severity=1.00, time=1120.00.\n",
      "Warning: Vehicle 'CNER.11' performs emergency stop at the end of lane 'end1_junction_2' because of a red traffic light (decel=-14.69, offset=0.01), time=1120.24.\n"
     ]
    },
    {
     "name": "stdout",
     "output_type": "stream",
     "text": [
      "state : [ 0  0  2  0  0 22  0  0  0  0  0  0  0  0  0  0  0  0  0  0  0  0  0  0\n",
      "  2  2  4  5  4 26  2  2  2  2  2  2  4  0  0  0  0  0  0  0  0  0  4  2]\n",
      "Q_values : [-5.1402407 -6.3755198 -1.0646393  7.299847 ]\n",
      "Step #1220.00 (0ms ?*RT. ?UPS, TraCI: 70ms, vehicles TOT 924 ACT 54 BUF 0)                \r"
     ]
    },
    {
     "name": "stderr",
     "output_type": "stream",
     "text": [
      "Warning: Vehicle 'CESR.42' performs emergency braking on lane 'end2_junction_2' with decel=9.00, wished=5.00, severity=1.00, time=1220.00.\n",
      "Warning: Vehicle 'CESR.42' performs emergency stop at the end of lane 'end2_junction_2' because of a red traffic light (decel=-13.59, offset=0.03), time=1220.31.\n"
     ]
    },
    {
     "name": "stdout",
     "output_type": "stream",
     "text": [
      "episode : 15\n",
      "Step #1300.00 (0ms ?*RT. ?UPS, TraCI: 1ms, vehicles TOT 924 ACT 21 BUF 0)                 \n",
      " Retrying in 1 seconds\n"
     ]
    },
    {
     "name": "stderr",
     "output_type": "stream",
     "text": [
      "Warning: Environment variable SUMO_HOME is not set properly, disabling XML validation. Set 'auto' or 'always' for web lookups.\n",
      "Warning: Vehicle 'CNE.3' performs emergency braking on lane 'end1_junction_2' with decel=9.00, wished=5.00, severity=1.00, time=63.79.\n"
     ]
    },
    {
     "name": "stdout",
     "output_type": "stream",
     "text": [
      "Step #261.00 (0ms ?*RT. ?UPS, TraCI: 0ms, vehicles TOT 204 ACT 52 BUF 0)                  \r"
     ]
    },
    {
     "name": "stderr",
     "output_type": "stream",
     "text": [
      "Warning: Vehicle 'CNE.17' performs emergency braking on lane 'end1_junction_2' with decel=9.00, wished=5.00, severity=1.00, time=260.00.\n",
      "Warning: Vehicle 'CNE.17' performs emergency braking on lane 'end1_junction_2' with decel=9.00, wished=5.00, severity=1.00, time=261.21.\n"
     ]
    },
    {
     "name": "stdout",
     "output_type": "stream",
     "text": [
      "state : [ 0  2  0  0  2  6  0  2  0  0 14  2  0  0  0  0  0  0  0  0  0  0  0  0\n",
      "  0  3  3  2  4  8  4  2  0  1 17  2  0  0  0  4  0  5  0  0  0  0  0  0]\n",
      "Q_values : [ 1.244988   3.1959746 13.430865  11.01376  ]\n",
      "state : [ 0  2  6  0  0  0  0  2  0  0  8  0  0  0  0  0  0  0  0  0  0  0  0  0\n",
      "  0  2 10  2  2  2  4  2  0  0 12  0  0  0  1  3  2  0  0  0  8  0  0  0]\n",
      "Q_values : [-3.4307132  5.2597327  5.1102104 -2.274701 ]\n"
     ]
    },
    {
     "name": "stderr",
     "output_type": "stream",
     "text": [
      "Warning: Vehicle 'AWE.35' performs emergency stop at the end of lane 'end4_junction_1' because of a red traffic light (decel=-13.01, offset=0.01), time=460.74.\n"
     ]
    },
    {
     "name": "stdout",
     "output_type": "stream",
     "text": [
      "Step #580.00 (1ms ~= 10.00*RT, ~78000.00UPS, TraCI: 73ms, vehicles TOT 440 ACT 78 BUF 16) \r"
     ]
    },
    {
     "name": "stderr",
     "output_type": "stream",
     "text": [
      "Warning: Vehicle 'AWE.41' performs emergency stop at the end of lane 'end4_junction_1' because of a red traffic light (decel=-14.39, offset=0.01), time=580.60.\n"
     ]
    },
    {
     "name": "stdout",
     "output_type": "stream",
     "text": [
      "state : [ 0  0 30  0  2  4  0  0  4  0 18  2  0  0  0  0  0  0  0  0  0  0  0  0\n",
      "  2  2 32  6  5  6  2  2  6  2 20  4  2  1  0  4  0  0  2  2  0  2  0  0]\n",
      "Q_values : [ 2.480555  19.753778  17.026508   5.1595163]\n",
      "state : [ 0  2  2  0  3  6  0  2  0  0 20  4  0  0  0  0  0  0  0  0  0  0  0  0\n",
      "  1  3 21  7  7 10  2  2  0  1 21  4  2  0  0  3  0  9  2  0  0  2  0  6]\n",
      "Q_values : [-0.11509228  2.008637   13.659554   12.628316  ]\n",
      "Step #641.00 (0ms ?*RT. ?UPS, TraCI: 0ms, vehicles TOT 508 ACT 104 BUF 2)                 \r"
     ]
    },
    {
     "name": "stderr",
     "output_type": "stream",
     "text": [
      "Warning: Vehicle 'CNE.40' performs emergency braking on lane 'end1_junction_2' with decel=9.00, wished=5.00, severity=1.00, time=640.00.\n",
      "Warning: Vehicle 'CNE.40' performs emergency braking on lane 'end1_junction_2' with decel=9.00, wished=5.00, severity=1.00, time=641.19.\n"
     ]
    },
    {
     "name": "stdout",
     "output_type": "stream",
     "text": [
      "Step #661.00 (0ms ?*RT. ?UPS, TraCI: 0ms, vehicles TOT 517 ACT 91 BUF 5)                  \r"
     ]
    },
    {
     "name": "stderr",
     "output_type": "stream",
     "text": [
      "Warning: Vehicle 'CEWR.2' performs emergency braking on lane 'end2_junction_1' with decel=9.00, wished=5.00, severity=1.00, time=660.00.\n",
      "Warning: Vehicle 'CEWR.2' performs emergency stop at the end of lane 'end2_junction_1' because of a red traffic light (decel=-16.65, offset=0.01), time=660.99.\n",
      "Warning: Vehicle 'CWE.46' performs emergency braking on lane 'end4_junction_1' with decel=9.00, wished=5.00, severity=1.00, time=661.77.\n"
     ]
    },
    {
     "name": "stdout",
     "output_type": "stream",
     "text": [
      "state : [ 0  2 23  0  3  0  0  2  0  0 10  0  0  0  0  0  0  0  0  0  0  0  0  0\n",
      "  0  3 24  5  7  7  2  2  0  1 11  0  3  0  3  1  0  1  0  0  9  0  0  0]\n",
      "Q_values : [ 0.5669427 14.89554   13.670947   3.3598216]\n",
      "Step #720.00 (0ms ?*RT. ?UPS, TraCI: 70ms, vehicles TOT 559 ACT 78 BUF 5)                 \r"
     ]
    },
    {
     "name": "stderr",
     "output_type": "stream",
     "text": [
      "Warning: Vehicle 'CNER.1' performs emergency braking on lane 'end1_junction_2' with decel=9.00, wished=5.00, severity=1.00, time=720.00.\n",
      "Warning: Vehicle 'CNER.1' performs emergency stop at the end of lane 'end1_junction_2' because of a red traffic light (decel=-12.38, offset=0.02), time=720.52.\n"
     ]
    },
    {
     "name": "stdout",
     "output_type": "stream",
     "text": [
      "state : [ 0  4  0  0  0 22  0  4  0  0  0  2  0  0  0  0  0  0  0  0  0  0  0  0\n",
      "  0  4  2  5  4 27  2  4  0  0  2  2  3  0  0  0  1  0  2  0  0  2  3  3]\n",
      "Q_values : [-3.1377802  2.517304   4.0197296 14.6289215]\n",
      "Step #840.00 (0ms ?*RT. ?UPS, TraCI: 0ms, vehicles TOT 648 ACT 63 BUF 0)                  "
     ]
    },
    {
     "name": "stderr",
     "output_type": "stream",
     "text": [
      "Warning: Vehicle 'CESR.14' performs emergency braking on lane 'end2_junction_2' with decel=9.00, wished=5.00, severity=1.00, time=840.00.\n"
     ]
    },
    {
     "name": "stdout",
     "output_type": "stream",
     "text": [
      "state : [ 0  4  0  0  3 14  0  4  0  0  1  0  0  0  0  0  0  0  0  0  0  0  0  0\n",
      "  0  4  0  7  7 17  2  4  0  0  2  0  3  0  0  0  0  4  0  0  0  0  0  0]\n",
      "Q_values : [-5.0506897 -2.345432   1.3807316 10.465216 ]\n",
      "state : [ 0  0  2  0 14  2  0  0  2  0  4  0  0  0  0  0  0  0  0  0  0  0  0  0\n",
      "  0  0  4  7 17  6  2  0  2  0  6  0  4  3  2  2  0  0  2  3  4  2  0  0]\n",
      "Q_values : [ 6.15198   9.665899 21.137451  6.604342]\n",
      "state : [ 0  0  2  0 22  2  0  0  0  0  4  1  0  0  0  0  0  0  0  0  0  0  0  0\n",
      "  2  2  3  6 26  6  2  0  2  2  6  2  4  2  0  0  0  0  0  0  1  0  0  0]\n",
      "Q_values : [ 0.08805609  1.9224046  12.336946    6.9538255 ]\n",
      "Step #1060.00 (0ms ?*RT. ?UPS, TraCI: 122ms, vehicles TOT 818 ACT 66 BUF 4)               \r"
     ]
    },
    {
     "name": "stderr",
     "output_type": "stream",
     "text": [
      "Warning: Vehicle 'ANSR.3' performs emergency stop at the end of lane 'end1_junction_1' because of a red traffic light (decel=-19.15, offset=0.04), time=1060.74.\n"
     ]
    },
    {
     "name": "stdout",
     "output_type": "stream",
     "text": [
      "Step #1080.00 (0ms ?*RT. ?UPS, TraCI: 68ms, vehicles TOT 835 ACT 74 BUF 5)                \r"
     ]
    },
    {
     "name": "stderr",
     "output_type": "stream",
     "text": [
      "Warning: Vehicle 'AEWR.31' performs emergency stop at the end of lane 'end2_junction_1' because of a red traffic light (decel=-12.38, offset=0.02), time=1080.81.\n"
     ]
    },
    {
     "name": "stdout",
     "output_type": "stream",
     "text": [
      "state : [ 0  0  5  0 10  9  0  0  2  0  1  2  0  0  0  0  0  0  0  0  0  0  0  0\n",
      "  0  0  5  6 20 14  0  0  2  0  2  2  2  0  0  2  0  0  0  1  0  0  1  0]\n",
      "Q_values : [-3.1470351 -1.4632974  6.2300253  6.9870434]\n",
      "Step #1200.00 (0ms ?*RT. ?UPS, TraCI: 73ms, vehicles TOT 924 ACT 84 BUF 0)                \r"
     ]
    },
    {
     "name": "stderr",
     "output_type": "stream",
     "text": [
      "Warning: Vehicle 'ASNR.4' performs emergency braking on lane 'end3_junction_1' with decel=9.00, wished=5.00, severity=1.00, time=1200.00.\n",
      "Warning: Vehicle 'ASNR.4' performs emergency stop at the end of lane 'end3_junction_1' because of a red traffic light (decel=-30.09, offset=0.15), time=1200.98.\n"
     ]
    },
    {
     "name": "stdout",
     "output_type": "stream",
     "text": [
      "Step #1220.00 (0ms ?*RT. ?UPS, TraCI: 67ms, vehicles TOT 924 ACT 78 BUF 0)                \r"
     ]
    },
    {
     "name": "stderr",
     "output_type": "stream",
     "text": [
      "Warning: Vehicle 'AEWR.37' performs emergency stop at the end of lane 'end2_junction_1' because of a red traffic light (decel=-12.65, offset=0.01), time=1220.77.\n"
     ]
    },
    {
     "name": "stdout",
     "output_type": "stream",
     "text": [
      "Step #1241.00 (0ms ?*RT. ?UPS, TraCI: 0ms, vehicles TOT 924 ACT 49 BUF 0)                 \r"
     ]
    },
    {
     "name": "stderr",
     "output_type": "stream",
     "text": [
      "Warning: Vehicle 'CESR.48' performs emergency braking on lane 'end2_junction_2' with decel=9.00, wished=5.00, severity=1.00, time=1240.00.\n",
      "Warning: Vehicle 'CESR.48' performs emergency braking on lane 'end2_junction_2' with decel=9.00, wished=5.00, severity=1.00, time=1241.05.\n"
     ]
    },
    {
     "name": "stdout",
     "output_type": "stream",
     "text": [
      "episode : 16\n",
      "Step #1300.00 (0ms ?*RT. ?UPS, TraCI: 0ms, vehicles TOT 924 ACT 32 BUF 0)                 \n",
      " Retrying in 1 seconds\n"
     ]
    },
    {
     "name": "stderr",
     "output_type": "stream",
     "text": [
      "Warning: Environment variable SUMO_HOME is not set properly, disabling XML validation. Set 'auto' or 'always' for web lookups.\n"
     ]
    },
    {
     "name": "stdout",
     "output_type": "stream",
     "text": [
      "state : [0 2 0 0 2 2 0 2 0 0 3 2 0 0 0 0 0 0 0 0 0 0 0 0 1 2 3 2 2 2 6 2 0 1 7 2 2\n",
      " 0 0 2 0 3 2 0 0 2 0 2]\n",
      "Q_values : [-4.3805847   0.9485704   3.3095267  -0.64749455]\n",
      "state : [ 0  0 13  0  4  6  0  0  0  0  9  2  0  0  0  0  0  0  0  0  0  0  0  0\n",
      "  0  0 16  2  7  7  4  0  0  0 13  2  2  0  0  4  0  0  0  0  0  0  0  0]\n",
      "Q_values : [-3.057061   9.630036  10.385419   3.0803363]\n"
     ]
    },
    {
     "name": "stderr",
     "output_type": "stream",
     "text": [
      "Warning: Vehicle 'CEW.3' performs emergency braking on lane 'end2_junction_1' with decel=9.00, wished=5.00, severity=1.00, time=140.00.\n",
      "Warning: Vehicle 'CEW.3' performs emergency stop at the end of lane 'end2_junction_1' because of a red traffic light (decel=-22.17, offset=0.08), time=140.38.\n"
     ]
    },
    {
     "name": "stdout",
     "output_type": "stream",
     "text": [
      "Step #160.00 (0ms ?*RT. ?UPS, TraCI: 68ms, vehicles TOT 138 ACT 74 BUF 0)                 \r"
     ]
    },
    {
     "name": "stderr",
     "output_type": "stream",
     "text": [
      "Warning: Vehicle 'CNE.7' performs emergency braking on lane 'end1_junction_2' with decel=9.00, wished=5.00, severity=1.00, time=160.00.\n",
      "Warning: Vehicle 'CNE.7' performs emergency stop at the end of lane 'end1_junction_2' because of a red traffic light (decel=-12.24, offset=0.02), time=160.53.\n"
     ]
    },
    {
     "name": "stdout",
     "output_type": "stream",
     "text": [
      "Step #321.00 (0ms ?*RT. ?UPS, TraCI: 0ms, vehicles TOT 252 ACT 86 BUF 0)                  \r"
     ]
    },
    {
     "name": "stderr",
     "output_type": "stream",
     "text": [
      "Warning: Vehicle 'ANS.2' performs emergency braking on lane 'end1_junction_1' with decel=9.00, wished=5.00, severity=1.00, time=320.00.\n",
      "Warning: Vehicle 'ANS.2' performs emergency stop at the end of lane 'end1_junction_1' because of a red traffic light (decel=-14.25, offset=0.01), time=321.26.\n"
     ]
    },
    {
     "name": "stdout",
     "output_type": "stream",
     "text": [
      "Step #334.00 (0ms ?*RT. ?UPS, TraCI: 0ms, vehicles TOT 264 ACT 94 BUF 0)                  \r"
     ]
    },
    {
     "name": "stderr",
     "output_type": "stream",
     "text": [
      "Warning: Teleporting vehicle 'AES.0'; waited too long (yield), lane='end2_junction_2', time=333.35.\n",
      "Warning: Vehicle 'AES.0' ends teleporting on edge 'junction_end3', time=333.35.\n",
      "Warning: Teleporting vehicle 'AWN.0'; waited too long (yield), lane='end4_junction_2', time=334.13.\n",
      "Warning: Vehicle 'AWN.0' ends teleporting on edge 'junction_end1', time=334.13.\n"
     ]
    },
    {
     "name": "stdout",
     "output_type": "stream",
     "text": [
      "state : [ 0  1  6  0  6  0  0  0  0  0 36  0  0  0  0  0  0  0  0  0  0  0  0  0\n",
      "  0  1 10  2  8  2  4  0  0  0 39  0  0  0  0  4  0  0  0  0 13  0  0  0]\n",
      "Q_values : [20.621483  25.341963  38.503326   7.9896426]\n",
      "state : [ 0  0 34  0  4  0  0  0  2  0 24  0  0  0  0  0  0  0  0  0  0  0  0  0\n",
      "  2  0 36  2  4  0  5  0  2  2 27  0  2  0  0  2  0  0  0  0  2  0  0  0]\n",
      "Q_values : [-0.42231083 35.573364   28.869303    9.835694  ]\n",
      "Step #644.00 (1ms ~= 10.00*RT, ~107000.00UPS, TraCI: 0ms, vehicles TOT 509 ACT 107 BUF 1) \r"
     ]
    },
    {
     "name": "stderr",
     "output_type": "stream",
     "text": [
      "Warning: Vehicle 'CESR.1' performs emergency braking on lane 'end2_junction_2' with decel=9.00, wished=5.00, severity=1.00, time=644.15.\n"
     ]
    },
    {
     "name": "stdout",
     "output_type": "stream",
     "text": [
      "state : [ 0  0 20  0 11  2  0  0  2  0 34  0  0  0  0  0  0  0  0  0  0  0  0  0\n",
      "  0  0 21  5 15  7  2  0  2  0 35  0  4  2  1  0  0  0  2  2  1  2  0  0]\n",
      "Q_values : [ 4.89274  33.42384  40.793034 19.696476]\n",
      "state : [ 0  0 22  0  0 10  0  0  2  0  0  0  0  0  0  0  0  0  0  0  0  0  0  0\n",
      "  0  0 23  6  3 13  1  0  2  0 14  0  4  0  0  1  8  2  0  0  0  0  5  1]\n",
      "Q_values : [-5.4134035   8.194074    4.579688   -0.52856904]\n",
      "Step #740.00 (0ms ?*RT. ?UPS, TraCI: 67ms, vehicles TOT 569 ACT 75 BUF 1)                 \r"
     ]
    },
    {
     "name": "stderr",
     "output_type": "stream",
     "text": [
      "Warning: Vehicle 'CNER.2' performs emergency braking on lane 'end1_junction_2' with decel=9.00, wished=5.00, severity=1.00, time=740.00.\n",
      "Warning: Vehicle 'CNER.2' performs emergency stop at the end of lane 'end1_junction_2' because of a red traffic light (decel=-12.84, offset=0.02), time=740.50.\n"
     ]
    },
    {
     "name": "stdout",
     "output_type": "stream",
     "text": [
      "state : [ 0  1  5  0  0 23  0  2  1  0  0  2  0  0  0  0  0  0  0  0  0  0  0  0\n",
      "  0  2  5  5  4 27  0  2  2  0  0  2  4  0  0  2  4  1  1  0  0  1  2  0]\n",
      "Q_values : [-1.1450706  5.034195   1.3313423 18.16951  ]\n",
      "state : [ 0  2  5  0  3  0  0  2  2  0  0  0  0  0  0  0  0  0  0  0  0  0  0  0\n",
      "  0  2  7  5  7 20  2  2  2  0  2  0  3  0  1  0  0  0  2  0  9  1  0  0]\n",
      "Q_values : [-10.756575   -3.0197732  -5.4026604  -8.748997 ]\n",
      "state : [ 0  2  0  0 13 25  0  2  0  0  4  0  0  0  0  0  0  0  0  0  0  0  0  0\n",
      "  0  2  2  6 17 30  2  2  0  1  5  0  3  0  0  2  0  1  0  0  0  0  0  0]\n",
      "Q_values : [ 3.3447928  6.23897   10.567055  18.88512  ]\n",
      "Step #880.00 (0ms ?*RT. ?UPS, TraCI: 68ms, vehicles TOT 674 ACT 77 BUF 4)                 \r"
     ]
    },
    {
     "name": "stderr",
     "output_type": "stream",
     "text": [
      "Warning: Vehicle 'CESR.12' performs emergency braking on lane 'end2_junction_2' with decel=9.00, wished=5.00, severity=1.00, time=880.00.\n",
      "Warning: Vehicle 'CESR.12' performs emergency stop at the end of lane 'end2_junction_2' because of a red traffic light (decel=-9.59, offset=0.01), time=880.80.\n"
     ]
    },
    {
     "name": "stdout",
     "output_type": "stream",
     "text": [
      "state : [ 0  0  2  0 10 28  0  0  2  0  0  2  0  0  0  0  0  0  0  0  0  0  0  0\n",
      "  0  0  4  7 18 31  2  0  2  0  2  2  3  3  1  1  1  0  2  2  1  1  2  0]\n",
      "Q_values : [ 2.752265  5.119278  9.800297 16.873497]\n",
      "state : [ 0  0  4  0 18  2  0  0  2  0  2  0  0  0  0  0  0  0  0  0  0  0  0  0\n",
      "  0  0  4  5 22 24  0  0  2  0  2  0  4  0  1  2  0  0  0  0  9  0  0  0]\n",
      "Q_values : [-0.4298911  5.1413755  8.674049   1.9799404]\n",
      "Step #1020.00 (0ms ?*RT. ?UPS, TraCI: 68ms, vehicles TOT 781 ACT 79 BUF 5)                \r"
     ]
    },
    {
     "name": "stderr",
     "output_type": "stream",
     "text": [
      "Warning: Vehicle 'CWER.11' performs emergency braking on lane 'end4_junction_1' with decel=9.00, wished=5.00, severity=1.00, time=1020.00.\n",
      "Warning: Vehicle 'CWER.11' performs emergency stop at the end of lane 'end4_junction_1' because of a red traffic light (decel=-30.54, offset=0.05), time=1020.93.\n"
     ]
    },
    {
     "name": "stdout",
     "output_type": "stream",
     "text": [
      "state : [ 0  0  0  0 10 37  0  1  0  0  1  1  0  0  0  0  0  0  0  0  0  0  0  0\n",
      "  2  2  0  7 14 40  2  2  1  2  3  2  4  0  0  0  0  8  0  0  0  0  0  1]\n",
      "Q_values : [ 3.9331846  5.986752   9.364964  23.165089 ]\n",
      "state : [ 0  2  0  0 13 11  0  2  1  0  3  0  0  0  0  0  0  0  0  0  0  0  0  0\n",
      "  0  2  2  5 18 33  2  2  1  0  5  0  4  0  1  2  0  1  2  0  9  2  0  0]\n",
      "Q_values : [-3.176634   -0.75165546  3.9028487   3.3519478 ]\n",
      "Step #1080.00 (0ms ?*RT. ?UPS, TraCI: 90ms, vehicles TOT 835 ACT 93 BUF 5)                \r"
     ]
    },
    {
     "name": "stderr",
     "output_type": "stream",
     "text": [
      "Warning: Vehicle 'CESR.23' performs emergency braking on lane 'end2_junction_2' with decel=9.00, wished=5.00, severity=1.00, time=1080.00.\n",
      "Warning: Vehicle 'CESR.23' performs emergency braking on lane 'end2_junction_2' with decel=9.00, wished=5.00, severity=1.00, time=1080.98.\n"
     ]
    },
    {
     "name": "stdout",
     "output_type": "stream",
     "text": [
      "state : [ 0  2  1  0  0 11  0  2  1  0  0  0  0  0  0  0  0  0  0  0  0  0  0  0\n",
      "  0  2  2  6  9 37  0  2  1  0  0  0  2  0  0  2  3  2  0  0  2  0  7  3]\n",
      "Q_values : [ -9.479374  -12.0708885  -3.000043    5.1664586]\n",
      "state : [ 0  0  4  0 15  0  0  0  1  0  2  0  0  0  0  0  0  0  0  0  0  0  0  0\n",
      "  0  0  6  6 19 25  2  0  1  0  4  0  2  0  0  0  0  0  0  0  9  0  0  0]\n",
      "Q_values : [-8.609537  -2.6827466 -1.3162506 -4.9018955]\n",
      "Step #1160.00 (0ms ?*RT. ?UPS, TraCI: 90ms, vehicles TOT 887 ACT 76 BUF 1)                \r"
     ]
    },
    {
     "name": "stderr",
     "output_type": "stream",
     "text": [
      "Warning: Vehicle 'CESR.34' performs emergency braking on lane 'end2_junction_2' with decel=9.00, wished=5.00, severity=1.00, time=1160.00.\n",
      "Warning: Vehicle 'CESR.34' performs emergency braking on lane 'end2_junction_2' with decel=9.00, wished=5.00, severity=1.00, time=1160.98.\n"
     ]
    },
    {
     "name": "stdout",
     "output_type": "stream",
     "text": [
      "state : [ 0  0  6  0  0 26  0  0  1  0  0  0  0  0  0  0  0  0  0  0  0  0  0  0\n",
      "  2  2  8  5  5 31  2  2  3  2  2  2  4  0  0  0  0  0  0  0  0  0  6  4]\n",
      "Q_values : [-2.325862 -4.078911  2.348906 16.763456]\n",
      "Step #1200.00 (0ms ?*RT. ?UPS, TraCI: 91ms, vehicles TOT 924 ACT 80 BUF 0)                \r"
     ]
    },
    {
     "name": "stderr",
     "output_type": "stream",
     "text": [
      "Warning: Vehicle 'AEWR.47' performs emergency stop at the end of lane 'end2_junction_1' because of a red traffic light (decel=-23.32, offset=0.04), time=1200.32.\n"
     ]
    },
    {
     "name": "stdout",
     "output_type": "stream",
     "text": [
      "state : [ 0  0  0  0  0 20  0  0  0  0  0  0  0  0  0  0  0  0  0  0  0  0  0  0\n",
      "  0  0  0  0  0 20  0  0  0  0  0  0  0  1  0  0  0  0  0  1  0  0  0  0]\n",
      "Q_values : [-2.6001804 -3.0862947  4.1016254 16.328268 ]\n",
      "episode : 17\n",
      "Step #1300.00 (0ms ?*RT. ?UPS, TraCI: 0ms, vehicles TOT 924 ACT 19 BUF 0)                 \n",
      " Retrying in 1 seconds\n"
     ]
    },
    {
     "name": "stderr",
     "output_type": "stream",
     "text": [
      "Warning: Environment variable SUMO_HOME is not set properly, disabling XML validation. Set 'auto' or 'always' for web lookups.\n"
     ]
    },
    {
     "name": "stdout",
     "output_type": "stream",
     "text": [
      "state : [0 0 0 0 0 0 0 0 0 0 0 0 0 0 0 0 0 0 0 0 0 0 0 0 0 0 0 0 0 0 0 0 0 0 0 0 0\n",
      " 0 0 0 0 0 0 0 0 0 0 0]\n",
      "Q_values : [-6.7136865 -3.983687  -1.1865127 -2.8846788]\n",
      "state : [0 0 0 0 2 4 0 0 0 0 2 2 0 0 0 0 0 0 0 0 0 0 0 0 0 1 3 4 3 4 4 0 0 1 6 2 2\n",
      " 0 0 3 1 9 0 0 0 0 0 1]\n",
      "Q_values : [-4.900249   -1.6520423   0.9751854   0.06862497]\n",
      "state : [ 0  0  0  0 10  4  0  0  0  0 30  0  0  0  0  0  0  0  0  0  0  0  0  0\n",
      "  2  3  2  2 13  5  5  2  1  3 33  1  2  0  0  4  0  3  0  0  0  0  0  0]\n",
      "Q_values : [16.272688 19.57446  32.400845 12.33934 ]\n",
      "Step #303.00 (0ms ?*RT. ?UPS, TraCI: 0ms, vehicles TOT 246 ACT 86 BUF 0)                  \r"
     ]
    },
    {
     "name": "stderr",
     "output_type": "stream",
     "text": [
      "Warning: Vehicle 'CNE.23' performs emergency braking on lane 'end1_junction_2' with decel=9.00, wished=5.00, severity=1.00, time=303.97.\n"
     ]
    },
    {
     "name": "stdout",
     "output_type": "stream",
     "text": [
      "Step #320.00 (1ms ~= 10.00*RT, ~83000.00UPS, TraCI: 67ms, vehicles TOT 252 ACT 83 BUF 0)  \r"
     ]
    },
    {
     "name": "stderr",
     "output_type": "stream",
     "text": [
      "Warning: Vehicle 'CEW.8' performs emergency braking on lane 'end2_junction_1' with decel=9.00, wished=5.00, severity=1.00, time=320.00.\n",
      "Warning: Vehicle 'CEW.8' performs emergency stop at the end of lane 'end2_junction_1' because of a red traffic light (decel=-21.60, offset=0.09), time=320.23.\n"
     ]
    },
    {
     "name": "stdout",
     "output_type": "stream",
     "text": [
      "state : [ 0  0  9  0  2  0  0  0  2  0 24  2  0  0  0  0  0  0  0  0  0  0  0  0\n",
      "  0  0 13  0  3  0  4  0  2  0 29  2  2  0  1  4  0  0  0  0  7  0  0  0]\n",
      "Q_values : [ 4.8335757 22.32722   20.74448    7.924721 ]\n",
      "state : [ 0  0  8  0  0  0  0  0  0  0 12  0  0  0  0  0  0  0  0  0  0  0  0  0\n",
      "  0  0 12  2  1  2  4  0  0  0 29  0  0  0  0  4  7  3  0  0  0  0  3  2]\n",
      "Q_values : [-7.861884   2.0380926  1.9817708 -5.9954443]\n",
      "Step #440.00 (0ms ?*RT. ?UPS, TraCI: 69ms, vehicles TOT 344 ACT 76 BUF 4)                 \r"
     ]
    },
    {
     "name": "stderr",
     "output_type": "stream",
     "text": [
      "Warning: Vehicle 'CNE.34' performs emergency braking on lane 'end1_junction_2' with decel=9.00, wished=5.00, severity=1.00, time=440.00.\n",
      "Warning: Vehicle 'CNE.34' performs emergency stop at the end of lane 'end1_junction_2' because of a red traffic light (decel=-13.11, offset=0.02), time=440.47.\n"
     ]
    },
    {
     "name": "stdout",
     "output_type": "stream",
     "text": [
      "Step #680.00 (0ms ?*RT. ?UPS, TraCI: 70ms, vehicles TOT 533 ACT 102 BUF 1)                \r"
     ]
    },
    {
     "name": "stderr",
     "output_type": "stream",
     "text": [
      "Warning: Vehicle 'CNE.49' performs emergency braking on lane 'end1_junction_2' with decel=9.00, wished=5.00, severity=1.00, time=680.00.\n",
      "Warning: Vehicle 'CNE.49' performs emergency stop at the end of lane 'end1_junction_2' because of a red traffic light (decel=-13.76, offset=0.00), time=680.34.\n"
     ]
    },
    {
     "name": "stdout",
     "output_type": "stream",
     "text": [
      "state : [ 0  0  2  0 27  3  0  0  2  0 44  4  0  0  0  0  0  0  0  0  0  0  0  0\n",
      "  0  0  4  7 31  6  2  0  2  0 45  4  1  2  0  0  0  0  2  1  0  2  0  0]\n",
      "Q_values : [38.1531   33.432987 72.58649  29.306932]\n",
      "state : [ 0  0  6  0  0 13  0  0  2  0  0  2  0  0  0  0  0  0  0  0  0  0  0  0\n",
      "  0  1  7  6 16 18  2  0  2  0 29  3  2  0  0  2  4  3  0  0  0  0  7  3]\n",
      "Q_values : [-15.552305   -3.9979377  -6.5439267 -10.4575815]\n",
      "Step #860.00 (0ms ?*RT. ?UPS, TraCI: 91ms, vehicles TOT 665 ACT 108 BUF 1)                \r"
     ]
    },
    {
     "name": "stderr",
     "output_type": "stream",
     "text": [
      "Warning: Vehicle 'AWER.3' performs emergency stop at the end of lane 'end4_junction_1' because of a red traffic light (decel=-16.62, offset=0.01), time=860.07.\n"
     ]
    },
    {
     "name": "stdout",
     "output_type": "stream",
     "text": [
      "state : [ 0  0  0  0 10 17  0  0  0  0 13  2  0  0  0  0  0  0  0  0  0  0  0  0\n",
      "  0  0  0  7 19 20  1  0  0  0 30  2  4  0  0  0  1  6  0  0  0  0  1  1]\n",
      "Q_values : [ 5.0777106  9.706164  20.90164    8.259273 ]\n",
      "Step #900.00 (1ms ~= 10.00*RT, ~109000.00UPS, TraCI: 70ms, vehicles TOT 703 ACT 109 BUF 5)\r"
     ]
    },
    {
     "name": "stderr",
     "output_type": "stream",
     "text": [
      "Warning: Vehicle 'CWE.45' performs emergency braking on lane 'end4_junction_1' with decel=9.00, wished=5.00, severity=1.00, time=900.00.\n",
      "Warning: Vehicle 'CWE.45' performs emergency stop at the end of lane 'end4_junction_1' because of a red traffic light (decel=-18.10, offset=0.09), time=900.16.\n"
     ]
    },
    {
     "name": "stdout",
     "output_type": "stream",
     "text": [
      "Step #921.00 (0ms ?*RT. ?UPS, TraCI: 0ms, vehicles TOT 714 ACT 90 BUF 0)                  \r"
     ]
    },
    {
     "name": "stderr",
     "output_type": "stream",
     "text": [
      "Warning: Vehicle 'CSWR.2' performs emergency braking on lane 'end3_junction_2' with decel=9.00, wished=5.00, severity=1.00, time=920.00.\n",
      "Warning: Vehicle 'CSWR.2' performs emergency stop at the end of lane 'end3_junction_2' because of a red traffic light (decel=-12.81, offset=0.01), time=921.41.\n"
     ]
    },
    {
     "name": "stdout",
     "output_type": "stream",
     "text": [
      "Step #940.00 (0ms ?*RT. ?UPS, TraCI: 75ms, vehicles TOT 728 ACT 97 BUF 4)                 \r"
     ]
    },
    {
     "name": "stderr",
     "output_type": "stream",
     "text": [
      "Warning: Vehicle 'CESR.18' performs emergency braking on lane 'end2_junction_2' with decel=9.00, wished=5.00, severity=1.00, time=940.00.\n",
      "Warning: Vehicle 'CESR.18' performs emergency stop at the end of lane 'end2_junction_2' because of a red traffic light (decel=-12.12, offset=0.01), time=940.51.\n"
     ]
    },
    {
     "name": "stdout",
     "output_type": "stream",
     "text": [
      "state : [ 0  0  2  0 20 22  0  0  1  0 21  3  0  0  0  0  0  0  0  0  0  0  0  0\n",
      "  0  0  4  6 24 27  2  0  1  0 23  3  3  0  0  0  0  0  0  0  0  0  0  0]\n",
      "Q_values : [10.973977 26.30089  36.670105 24.396954]\n",
      "state : [ 0  0  4  0  0 26  0  0  1  0  0  2  0  0  0  0  0  0  0  0  0  0  0  0\n",
      "  1  1  4  6 16 29  2  0  1  1 12  2  4  0  0  2  8  3  0  0  0  0  7  3]\n",
      "Q_values : [-7.9547887  -0.61596274  1.1786916  -3.3319745 ]\n",
      "Step #1022.00 (0ms ?*RT. ?UPS, TraCI: 0ms, vehicles TOT 781 ACT 84 BUF 5)                 \r"
     ]
    },
    {
     "name": "stderr",
     "output_type": "stream",
     "text": [
      "Warning: Vehicle 'CEWR.31' performs emergency braking on lane 'end2_junction_1' with decel=9.00, wished=5.00, severity=1.00, time=1022.06.\n"
     ]
    },
    {
     "name": "stdout",
     "output_type": "stream",
     "text": [
      "state : [ 0  0  4  0 15 14  0  0  2  0  5  0  0  0  0  0  0  0  0  0  0  0  0  0\n",
      "  0  0  4  6 20 36  0  0  2  0  5  0  2  0  3  2  0  0  0  0  9  0  0  0]\n",
      "Q_values : [ 2.6937194  8.004708  17.198631   9.483065 ]\n",
      "state : [ 0  0  8  0  4 15  0  0  2  0  1  0  0  0  0  0  0  0  0  0  0  0  0  0\n",
      "  2  1  8  6  9 37  2  1  2  2  2  0  4  0  0  2  0  0  0  0  9  0  1  0]\n",
      "Q_values : [-5.445157  -6.7701683 -1.1530269  9.00733  ]\n",
      "state : [ 0  0  8  0  8  0  0  0  2  0  1  0  0  0  0  0  0  0  0  0  0  0  0  0\n",
      "  2  2 10  4 13 29  2  2  4  2  3  1  3  0  0  0  0  0  0  0 12  0  0  0]\n",
      "Q_values : [-12.432104   -5.093449   -2.4871602  -7.617427 ]\n",
      "Step #1204.00 (0ms ?*RT. ?UPS, TraCI: 0ms, vehicles TOT 924 ACT 90 BUF 0)                 \r"
     ]
    },
    {
     "name": "stderr",
     "output_type": "stream",
     "text": [
      "Warning: Vehicle 'CWNR.4' performs emergency braking on lane 'end4_junction_2' with decel=9.00, wished=5.00, severity=1.00, time=1204.12.\n"
     ]
    },
    {
     "name": "stdout",
     "output_type": "stream",
     "text": [
      "state : [ 0  0  0  0  2 29  0  0  0  0  0  1  0  0  0  0  0  0  0  0  0  0  0  0\n",
      "  0  0  0  0  2 29  0  0  0  0  0  1  0  0  0  0  0  1  0  0  0  0  0  0]\n",
      "Q_values : [ 2.7219982  0.2292993  2.9041812 21.064463 ]\n",
      "episode : 18\n",
      "Step #1300.00 (0ms ?*RT. ?UPS, TraCI: 0ms, vehicles TOT 924 ACT 32 BUF 0)                 \n",
      " Retrying in 1 seconds\n"
     ]
    },
    {
     "name": "stderr",
     "output_type": "stream",
     "text": [
      "Warning: Environment variable SUMO_HOME is not set properly, disabling XML validation. Set 'auto' or 'always' for web lookups.\n"
     ]
    },
    {
     "name": "stdout",
     "output_type": "stream",
     "text": [
      "state : [0 0 0 0 0 0 0 0 0 0 0 0 0 0 0 0 0 0 0 0 0 0 0 0 0 0 0 0 0 0 0 0 0 0 0 0 0\n",
      " 0 0 0 0 0 0 0 0 0 0 0]\n",
      "Q_values : [-6.8384843 -4.463175  -2.9325333 -4.0421214]\n",
      "state : [ 0  2  6  0  4  0  0  2  0  0 10  0  0  0  0  0  0  0  0  0  0  0  0  0\n",
      "  0  3  9  4  5  0  4  2  0  1 13  0  2  0  0  4  0  0  0  0  2  0  0  0]\n",
      "Q_values : [ 0.02449083 10.375433   10.0765915   1.6131998 ]\n",
      "state : [ 0  2  0  0  6  2  0  2  0  0 17  0  0  0  0  0  0  0  0  0  0  0  0  0\n",
      "  0  2  3  3  8  3  4  2  0  0 20  0  2  0  0  4  0  4  0  0  0  0  0  0]\n",
      "Q_values : [ 1.1794047  9.024046  13.687302   7.8408833]\n",
      "Step #123.00 (0ms ?*RT. ?UPS, TraCI: 0ms, vehicles TOT 102 ACT 58 BUF 0)                  \r"
     ]
    },
    {
     "name": "stderr",
     "output_type": "stream",
     "text": [
      "Warning: Vehicle 'CNE.8' performs emergency braking on lane 'end1_junction_2' with decel=9.00, wished=5.00, severity=1.00, time=123.89.\n"
     ]
    },
    {
     "name": "stdout",
     "output_type": "stream",
     "text": [
      "Step #141.00 (0ms ?*RT. ?UPS, TraCI: 0ms, vehicles TOT 108 ACT 55 BUF 0)                  \r"
     ]
    },
    {
     "name": "stderr",
     "output_type": "stream",
     "text": [
      "Warning: Vehicle 'AWE.6' performs emergency stop at the end of lane 'end4_junction_1' because of a red traffic light (decel=-10.19, offset=0.00), time=141.02.\n"
     ]
    },
    {
     "name": "stdout",
     "output_type": "stream",
     "text": [
      "state : [ 0  1  8  0  0  5  0  1  1  0  0  1  0  0  0  0  0  0  0  0  0  0  0  0\n",
      "  0  2 13  0  0  6  4  2  2  0  6  2  2  0  0  4  6  4  2  0  0  2  2  0]\n",
      "Q_values : [-3.4122195  3.9074564  0.800159   2.1995318]\n",
      "Step #180.00 (0ms ?*RT. ?UPS, TraCI: 99ms, vehicles TOT 148 ACT 64 BUF 8)                 \r"
     ]
    },
    {
     "name": "stderr",
     "output_type": "stream",
     "text": [
      "Warning: Vehicle 'AWE.12' performs emergency stop at the end of lane 'end4_junction_1' because of a red traffic light (decel=-13.57, offset=0.01), time=180.68.\n"
     ]
    },
    {
     "name": "stdout",
     "output_type": "stream",
     "text": [
      "Step #301.00 (0ms ?*RT. ?UPS, TraCI: 1ms, vehicles TOT 243 ACT 75 BUF 3)                  \r"
     ]
    },
    {
     "name": "stderr",
     "output_type": "stream",
     "text": [
      "Warning: Vehicle 'CES.7' performs emergency braking on lane 'end2_junction_2' with decel=9.00, wished=5.00, severity=1.00, time=300.00.\n",
      "Warning: Vehicle 'CES.7' performs emergency braking on lane 'end2_junction_2' with decel=9.00, wished=5.00, severity=1.00, time=301.17.\n"
     ]
    },
    {
     "name": "stdout",
     "output_type": "stream",
     "text": [
      "Step #322.00 (0ms ?*RT. ?UPS, TraCI: 0ms, vehicles TOT 252 ACT 68 BUF 0)                  \r"
     ]
    },
    {
     "name": "stderr",
     "output_type": "stream",
     "text": [
      "Warning: Vehicle 'ANS.2' performs emergency braking on lane 'end1_junction_1' with decel=9.00, wished=5.00, severity=1.00, time=322.76.\n"
     ]
    },
    {
     "name": "stdout",
     "output_type": "stream",
     "text": [
      "Step #340.00 (0ms ?*RT. ?UPS, TraCI: 81ms, vehicles TOT 270 ACT 70 BUF 0)                 \r"
     ]
    },
    {
     "name": "stderr",
     "output_type": "stream",
     "text": [
      "Warning: Vehicle 'CNE.22' performs emergency braking on lane 'end1_junction_2' with decel=9.00, wished=5.00, severity=1.00, time=340.00.\n",
      "Warning: Vehicle 'CNE.22' performs emergency stop at the end of lane 'end1_junction_2' because of a red traffic light (decel=-12.74, offset=0.00), time=340.47.\n"
     ]
    },
    {
     "name": "stdout",
     "output_type": "stream",
     "text": [
      "state : [ 0  0  7  0  0  7  0  0  0  0  0  2  0  0  0  0  0  0  0  0  0  0  0  0\n",
      "  1  0 11  2  0  7  5  0  0  1 18  3  2  0  0  1  7  8  0  0  0  0  4  3]\n",
      "Q_values : [-9.433981  -1.9789672 -0.4534489 -5.4522657]\n",
      "Step #420.00 (0ms ?*RT. ?UPS, TraCI: 71ms, vehicles TOT 321 ACT 62 BUF 3)                 \r"
     ]
    },
    {
     "name": "stderr",
     "output_type": "stream",
     "text": [
      "Warning: Vehicle 'CWE.30' performs emergency braking on lane 'end4_junction_1' with decel=9.00, wished=5.00, severity=1.00, time=420.00.\n",
      "Warning: Vehicle 'CWE.30' performs emergency stop at the end of lane 'end4_junction_1' because of a red traffic light (decel=-19.34, offset=0.04), time=420.34.\n"
     ]
    },
    {
     "name": "stdout",
     "output_type": "stream",
     "text": [
      "Step #440.00 (0ms ?*RT. ?UPS, TraCI: 69ms, vehicles TOT 344 ACT 67 BUF 4)                 \r"
     ]
    },
    {
     "name": "stderr",
     "output_type": "stream",
     "text": [
      "Warning: Vehicle 'CNE.33' performs emergency braking on lane 'end1_junction_2' with decel=9.00, wished=5.00, severity=1.00, time=440.00.\n",
      "Warning: Vehicle 'CNE.33' performs emergency stop at the end of lane 'end1_junction_2' because of a red traffic light (decel=-9.98, offset=0.00), time=440.74.\n"
     ]
    },
    {
     "name": "stdout",
     "output_type": "stream",
     "text": [
      "state : [ 0  0  5  0  0  9  0  0  0  0  0  2  0  0  0  0  0  0  0  0  0  0  0  0\n",
      "  2  2 10  1  1 11  5  2  2  2  4  4  0  0  0  2  6  6  0  0  0  0  1  0]\n",
      "Q_values : [-5.3871384  -0.33194745 -0.46639836  1.6483904 ]\n",
      "state : [ 0  2 10  0  1  0  0  2  2  0  3  0  0  0  0  0  0  0  0  0  0  0  0  0\n",
      "  0  2 13  2  4  1  4  2  2  0  7  0  2  0  3  3  1  1  2  0  9  1  1  0]\n",
      "Q_values : [-0.07170725 13.632904   11.36959     0.06280959]\n",
      "state : [ 0  2  0  0  2  1  0  2  0  0  7  0  0  0  0  0  0  0  0  0  0  0  0  0\n",
      "  0  3  5  0  3  2  4  2  0  1 10  0  2  0  0  4  0  9  0  0  3  0  0  2]\n",
      "Q_values : [-0.95920134  8.26001     7.5190177   3.8264327 ]\n",
      "state : [ 0  2  0  0  4  3  0  2  0  0 14  0  0  0  0  0  0  0  0  0  0  0  0  0\n",
      "  0  2  3  0  5  4  4  2  0  0 17  0  2  0  0  4  0  4  0  0  0  0  0  0]\n",
      "Q_values : [ 0.15396452  8.464191   12.869455    5.967947  ]\n",
      "state : [ 0  0 15  0  1  4  0  0  4  0  5  4  0  0  0  0  0  0  0  0  0  0  0  0\n",
      "  1  1 15  6  5  8  2  0  4  1  6  4  2  2  1  3  0  2  2  3  0  2  0  0]\n",
      "Q_values : [-0.7672548  9.936435   8.67093    6.4253407]\n",
      "state : [ 0  0  0  0  2 18  0  0  0  0  0  4  0  0  0  0  0  0  0  0  0  0  0  0\n",
      "  0  0  2  5  7 22  2  0  0  0  2  4  4  0  0  1  1  7  0  0  0  0  0  0]\n",
      "Q_values : [-5.1999755 -4.0732813  3.653328  13.638415 ]\n",
      "Step #840.00 (0ms ?*RT. ?UPS, TraCI: 70ms, vehicles TOT 649 ACT 58 BUF 5)                 \r"
     ]
    },
    {
     "name": "stderr",
     "output_type": "stream",
     "text": [
      "Warning: Vehicle 'CESR.15' performs emergency braking on lane 'end2_junction_2' with decel=9.00, wished=5.00, severity=1.00, time=840.00.\n",
      "Warning: Vehicle 'CESR.15' performs emergency stop at the end of lane 'end2_junction_2' because of a red traffic light (decel=-11.91, offset=0.02), time=840.54.\n"
     ]
    },
    {
     "name": "stdout",
     "output_type": "stream",
     "text": [
      "state : [ 0  0  6  0 14  8  0  0  2  0  4  0  0  0  0  0  0  0  0  0  0  0  0  0\n",
      "  0  1  7  5 18 13  2  0  2  1  5  0  3  0  0  2  0  0  0  0  2  0  0  0]\n",
      "Q_values : [ 0.64639187  8.50208    12.012962    7.1680727 ]\n",
      "state : [ 0  0  8  0  8  0  0  0  2  0  0  0  0  0  0  0  0  0  0  0  0  0  0  0\n",
      "  3  1 10  5 13  8  2  2  4  3  1  2  4  0  0  1  0  0  0  0  9  0  1  0]\n",
      "Q_values : [-9.268955   2.4937396  3.5999303 -5.0419154]\n",
      "state : [ 0  0 10  0  0  7  0  1  3  0  0  1  0  0  0  0  0  0  0  0  0  0  0  0\n",
      "  2  2 10  5  4 12  1  2  4  2  0  2  3  0  0  0  1  0  0  0  3  0  7  3]\n",
      "Q_values : [-2.7828631   3.160886    0.45764893  2.058147  ]\n",
      "Step #1000.00 (0ms ?*RT. ?UPS, TraCI: 69ms, vehicles TOT 770 ACT 55 BUF 4)                \r"
     ]
    },
    {
     "name": "stderr",
     "output_type": "stream",
     "text": [
      "Warning: Vehicle 'CESR.26' performs emergency braking on lane 'end2_junction_2' with decel=9.00, wished=5.00, severity=1.00, time=1000.00.\n",
      "Warning: Vehicle 'CESR.26' performs emergency stop at the end of lane 'end2_junction_2' because of a red traffic light (decel=-12.36, offset=0.00), time=1000.50.\n"
     ]
    },
    {
     "name": "stdout",
     "output_type": "stream",
     "text": [
      "state : [ 0  0  4  0  0 34  0  0  1  0  0  2  0  0  0  0  0  0  0  0  0  0  0  0\n",
      "  0  0  4  5  5 37  0  0  1  0  0  2  4  0  0  1  3  0  0  0  0  0  3  0]\n",
      "Q_values : [-1.2466094  1.3948815  6.543402  21.126669 ]\n",
      "Step #1140.00 (0ms ?*RT. ?UPS, TraCI: 89ms, vehicles TOT 874 ACT 69 BUF 8)                \r"
     ]
    },
    {
     "name": "stderr",
     "output_type": "stream",
     "text": [
      "Warning: Vehicle 'AEWR.42' performs emergency stop at the end of lane 'end2_junction_1' because of a red traffic light (decel=-18.40, offset=0.01), time=1140.82.\n"
     ]
    },
    {
     "name": "stdout",
     "output_type": "stream",
     "text": [
      "state : [ 0  0  6  0  0 10  0  0  1  0  0  0  0  0  0  0  0  0  0  0  0  0  0  0\n",
      "  2  1  6  7  3 32  2  1  1  2  1  0  4  0  0  1  2  0  0  0  3  0  4  2]\n",
      "Q_values : [-12.762096  -10.358956   -1.1221951   7.139785 ]\n",
      "state : [ 0  0  6  0  2  0  0  0  1  0  0  0  0  0  0  0  0  0  0  0  0  0  0  0\n",
      "  2  2  8  5  7 25  2  2  3  2  2  1  4  0  0  0  0  0  0  0  8  0  0  0]\n",
      "Q_values : [-17.157646   -8.902716   -2.8117986  -5.8639083]\n",
      "Step #1204.00 (1ms ~= 10.00*RT, ~75000.00UPS, TraCI: 0ms, vehicles TOT 924 ACT 75 BUF 0)  \r"
     ]
    },
    {
     "name": "stderr",
     "output_type": "stream",
     "text": [
      "Warning: Vehicle 'CESR.37' performs emergency braking on lane 'end2_junction_2' with decel=9.00, wished=5.00, severity=1.00, time=1201.31.\n",
      "Warning: Vehicle 'CWNR.4' performs emergency braking on lane 'end4_junction_2' with decel=9.00, wished=5.00, severity=1.00, time=1204.14.\n"
     ]
    },
    {
     "name": "stdout",
     "output_type": "stream",
     "text": [
      "state : [ 0  2  0  0  0 25  0  2  0  0  0  1  0  0  0  0  0  0  0  0  0  0  0  0\n",
      "  0  2  0  0  0 25  0  2  0  0  0  1  0  0  0  0  0  0  0  0  0  0  0  0]\n",
      "Q_values : [-3.4405494  0.7516012  7.745413  19.301971 ]\n",
      "episode : 19\n",
      "Step #1300.00 (1ms ~= 10.00*RT, ~30000.00UPS, TraCI: 0ms, vehicles TOT 924 ACT 30 BUF 0)  \n",
      " Retrying in 1 seconds\n"
     ]
    },
    {
     "name": "stderr",
     "output_type": "stream",
     "text": [
      "Warning: Environment variable SUMO_HOME is not set properly, disabling XML validation. Set 'auto' or 'always' for web lookups.\n"
     ]
    },
    {
     "name": "stdout",
     "output_type": "stream",
     "text": [
      "state : [0 0 0 0 0 0 0 0 0 0 0 0 0 0 0 0 0 0 0 0 0 0 0 0 2 3 3 2 2 2 4 2 2 3 3 2 0\n",
      " 0 0 0 0 0 0 0 0 0 0 0]\n",
      "Q_values : [-11.695838  -10.207014   -9.871317   -7.9413447]\n",
      "state : [ 0  2  6  0  2  0  0  2  2  0  6  0  0  0  0  0  0  0  0  0  0  0  0  0\n",
      "  0  2 10  2  4  2  4  2  2  0 10  0  0  0  0  4  0  0  0  0  0  0  0  0]\n",
      "Q_values : [-2.9329894  6.961967   6.102126  -0.7027467]\n",
      "state : [ 0  2  0  0  4  2  0  2  0  0 10  0  0  0  0  0  0  0  0  0  0  0  0  0\n",
      "  0  3  3  4  5  2  4  2  0  1 13  0  2  0  0  4  0  9  0  0  0  0  0  1]\n",
      "Q_values : [-2.0540218  5.5977116  8.874706   3.0061307]\n"
     ]
    },
    {
     "name": "stderr",
     "output_type": "stream",
     "text": [
      "Warning: Vehicle 'CEW.3' performs emergency braking on lane 'end2_junction_1' with decel=9.00, wished=5.00, severity=1.00, time=140.00.\n",
      "Warning: Vehicle 'CEW.3' performs emergency stop at the end of lane 'end2_junction_1' because of a red traffic light (decel=-24.94, offset=0.13), time=140.07.\n"
     ]
    },
    {
     "name": "stdout",
     "output_type": "stream",
     "text": [
      "state : [ 0  0 16  0  2  7  0  0  1  0  4  1  0  0  0  0  0  0  0  0  0  0  0  0          \n",
      "  0  0 20  0  3  8  4  0  2  0  9  2  2  1  0  4  0  0  2  2  0  2  0  0]\n",
      "Q_values : [-0.6282129  9.4053755  6.9213753  5.2413955]\n",
      "state : [ 0  0  0  0  3  8  0  0  0  0  9  2  0  0  0  0  0  0  0  0  0  0  0  0\n",
      "  0  1 12  2  5 10  4  0  0  1 12  2  0  0  0  4  0  9  0  0  0  0  0  1]\n",
      "Q_values : [-3.0771854  1.4448559  4.811046   2.986236 ]\n",
      "Step #200.00 (1ms ~= 10.00*RT, ~64000.00UPS, TraCI: 88ms, vehicles TOT 162 ACT 64 BUF 0)  \r"
     ]
    },
    {
     "name": "stderr",
     "output_type": "stream",
     "text": [
      "Warning: Vehicle 'CNE.10' performs emergency braking on lane 'end1_junction_2' with decel=9.00, wished=5.00, severity=1.00, time=200.00.\n",
      "Warning: Vehicle 'CNE.10' performs emergency stop at the end of lane 'end1_junction_2' because of a red traffic light (decel=-14.30, offset=0.02), time=200.27.\n"
     ]
    },
    {
     "name": "stdout",
     "output_type": "stream",
     "text": [
      "state : [ 0  0 15  0  1  0  0  0  0  0  2  0  0  0  0  0  0  0  0  0  0  0  0  0\n",
      "  2  3 17  2  4  4  5  2  1  3  6  1  2  0  1  3  1  0  0  0  9  0  0  0]\n",
      "Q_values : [-6.406572   5.1736     2.8389401 -7.362428 ]\n",
      "Step #301.00 (1ms ~= 10.00*RT, ~70000.00UPS, TraCI: 0ms, vehicles TOT 243 ACT 70 BUF 3)   \r"
     ]
    },
    {
     "name": "stderr",
     "output_type": "stream",
     "text": [
      "Warning: Vehicle 'CES.6' performs emergency braking on lane 'end2_junction_2' with decel=9.00, wished=5.00, severity=1.00, time=300.00.\n",
      "Warning: Vehicle 'CES.6' performs emergency braking on lane 'end2_junction_2' with decel=9.00, wished=5.00, severity=1.00, time=301.14.\n"
     ]
    },
    {
     "name": "stdout",
     "output_type": "stream",
     "text": [
      "state : [ 0  2  0  0  3  5  0  2  0  0  9  2  0  0  0  0  0  0  0  0  0  0  0  0\n",
      "  1  2  3  2  6  6  6  2  0  1 13  2  1  0  0  2  0 12  1  0  0  0  0  1]\n",
      "Q_values : [-1.9735227  1.760185   6.9894915  3.0492938]\n",
      "state : [ 0  0  9  0  2  9  0  0  0  0  3  2  0  0  0  0  0  0  0  0  0  0  0  0\n",
      "  1  0 13  2  2  9  5  0  0  1  7  2  1  2  0  2  0  0  0  1  0  0  0  0]\n",
      "Q_values : [-0.04052782  8.297367    5.350842    7.763366  ]\n",
      "state : [ 0  0  0  0  4 11  0  0  0  0 10  2  0  0  0  0  0  0  0  0  0  0  0  0\n",
      "  4  1  2  4  5 11  6  1  0  4 13  2  2  0  0  4  0  7  0  0  0  0  0  0]\n",
      "Q_values : [-0.8153491  3.4558604 12.550489  16.80531  ]\n",
      "state : [ 0  0  3  0  0  4  0  0  0  0  0  2  0  0  0  0  0  0  0  0  0  0  0  0\n",
      "  1  0  7  2  3  5  5  0  0  1 15  2  0  0  0  2  6  6  0  0  0  0  4  3]\n",
      "Q_values : [-6.586226  -5.2326865 -2.2469726 -5.696511 ]\n",
      "Step #541.00 (0ms ?*RT. ?UPS, TraCI: 0ms, vehicles TOT 412 ACT 52 BUF 8)                  \r"
     ]
    },
    {
     "name": "stderr",
     "output_type": "stream",
     "text": [
      "Warning: Vehicle 'CWE.42' performs emergency braking on lane 'end4_junction_1' with decel=9.00, wished=5.00, severity=1.00, time=540.00.\n",
      "Warning: Vehicle 'CWE.42' performs emergency stop at the end of lane 'end4_junction_1' because of a red traffic light (decel=-12.92, offset=0.03), time=541.06.\n"
     ]
    },
    {
     "name": "stdout",
     "output_type": "stream",
     "text": [
      "state : [0 0 0 0 0 6 0 0 0 0 5 2 0 0 0 0 0 0 0 0 0 0 0 0 0 1 3 2 2 8 4 0 0 1 8 2 0\n",
      " 0 0 3 1 9 0 0 0 0 0 0]\n",
      "Q_values : [-4.8047585 -2.035987   1.8807192 -0.6996114]\n",
      "state : [ 0  0  6  0  0  0  0  0  0  0  2  0  0  0  0  0  0  0  0  0  0  0  0  0\n",
      "  2  2 10  2  2  2  4  2  2  2  6  2  0  0  2  3  0  0  0  0  7  0  0  0]\n",
      "Q_values : [-10.853189   -4.0624037  -4.2323117 -11.099386 ]\n",
      "Step #644.00 (1ms ~= 10.00*RT, ~61000.00UPS, TraCI: 0ms, vehicles TOT 509 ACT 61 BUF 1)   \r"
     ]
    },
    {
     "name": "stderr",
     "output_type": "stream",
     "text": [
      "Warning: Vehicle 'CESR.1' performs emergency braking on lane 'end2_junction_2' with decel=9.00, wished=5.00, severity=1.00, time=644.19.\n"
     ]
    },
    {
     "name": "stdout",
     "output_type": "stream",
     "text": [
      "state : [ 0  4  1  0  0  6  0  4  0  0  0  0  0  0  0  0  0  0  0  0  0  0  0  0\n",
      "  0  5  2  5  5 10  2  4  0  1  1  0  3  0  0  2  5  4  0  0  0  0  6  3]\n",
      "Q_values : [-5.537438  -0.9403082  3.140908  -1.4008708]\n",
      "state : [ 0  4  0  0  6  5  0  4  0  0  1  0  0  0  0  0  0  0  0  0  0  0  0  0\n",
      "  0  4  0  5 10 10  0  4  0  0  2  0  3  0  0  1  0  5  0  0  3  0  0  0]\n",
      "Q_values : [-2.8396323  1.0631392  6.2851734  3.084197 ]\n",
      "state : [ 0  6  0  0  2 12  0  6  0  0  1  2  0  0  0  0  0  0  0  0  0  0  0  0\n",
      "  1  6  0  5  7 16  0  6  0  1  2  2  4  0  0  2  0  2  1  0  0  1  0  2]\n",
      "Q_values : [-2.9200103  1.9761422  3.218581  18.257797 ]\n",
      "Step #800.00 (0ms ?*RT. ?UPS, TraCI: 75ms, vehicles TOT 623 ACT 65 BUF 1)                 \r"
     ]
    },
    {
     "name": "stderr",
     "output_type": "stream",
     "text": [
      "Warning: Vehicle 'CESR.12' performs emergency braking on lane 'end2_junction_2' with decel=9.00, wished=5.00, severity=1.00, time=800.00.\n",
      "Warning: Vehicle 'CESR.12' performs emergency stop at the end of lane 'end2_junction_2' because of a red traffic light (decel=-11.22, offset=0.01), time=800.62.\n"
     ]
    },
    {
     "name": "stdout",
     "output_type": "stream",
     "text": [
      "state : [ 0  0  2  0 10  8  0  0  0  0  4  0  0  0  0  0  0  0  0  0  0  0  0  0\n",
      "  1  1  2  7 13 11  2  0  0  1  5  0  4  3  2  2  0  0  0  3  5  0  0  0]\n",
      "Q_values : [-2.3740299  4.2666364 10.2484455  1.4418534]\n",
      "Step #920.00 (0ms ?*RT. ?UPS, TraCI: 66ms, vehicles TOT 713 ACT 68 BUF 1)                 \r"
     ]
    },
    {
     "name": "stderr",
     "output_type": "stream",
     "text": [
      "Warning: Vehicle 'CNSR.2' performs emergency braking on lane 'end1_junction_1' with decel=9.00, wished=5.00, severity=1.00, time=920.00.\n",
      "Warning: Vehicle 'CNSR.2' performs emergency stop at the end of lane 'end1_junction_1' because of a red traffic light (decel=-23.91, offset=0.15), time=920.18.\n"
     ]
    },
    {
     "name": "stdout",
     "output_type": "stream",
     "text": [
      "state : [ 0  0  0  0 11 45  0  0  0  0  4  2  0  0  0  0  0  0  0  0  0  0  0  0\n",
      "  3  1  2  6 15 49  4  2  0  3  6  3  2  0  0  2  0  3  0  0  0  0  0  0]\n",
      "Q_values : [ 2.1934366  6.8657093 17.844292  22.252636 ]\n",
      "Step #1160.00 (0ms ?*RT. ?UPS, TraCI: 73ms, vehicles TOT 888 ACT 108 BUF 0)               \r"
     ]
    },
    {
     "name": "stderr",
     "output_type": "stream",
     "text": [
      "Warning: Vehicle 'CEWR.40' performs emergency braking on lane 'end2_junction_1' with decel=9.00, wished=5.00, severity=1.00, time=1160.00.\n",
      "Warning: Vehicle 'CEWR.40' performs emergency stop at the end of lane 'end2_junction_1' because of a red traffic light (decel=-17.26, offset=0.03), time=1160.50.\n"
     ]
    },
    {
     "name": "stdout",
     "output_type": "stream",
     "text": [
      "Step #1180.00 (0ms ?*RT. ?UPS, TraCI: 71ms, vehicles TOT 905 ACT 106 BUF 13)              \r"
     ]
    },
    {
     "name": "stderr",
     "output_type": "stream",
     "text": [
      "Warning: Vehicle 'CESR.23' performs emergency braking on lane 'end2_junction_2' with decel=9.00, wished=5.00, severity=1.00, time=1180.00.\n",
      "Warning: Vehicle 'CESR.23' performs emergency braking on lane 'end2_junction_2' with decel=9.00, wished=5.00, severity=1.00, time=1180.91.\n"
     ]
    },
    {
     "name": "stdout",
     "output_type": "stream",
     "text": [
      "state : [ 0  2  0  0  7 42  0  2  0  0  0  2  0  0  0  0  0  0  0  0  0  0  0  0\n",
      "  0  2  0  0  9 51  0  2  0  0  0  2  2  0  0  0  0  1  0  0  0  0  0  2]\n",
      "Q_values : [ 2.8929806 17.817513   8.367734  26.502207 ]\n",
      "Step #1260.00 (0ms ?*RT. ?UPS, TraCI: 67ms, vehicles TOT 924 ACT 65 BUF 0)                \r"
     ]
    },
    {
     "name": "stderr",
     "output_type": "stream",
     "text": [
      "Warning: Vehicle 'CESR.27' performs emergency braking on lane 'end2_junction_2' with decel=9.00, wished=5.00, severity=1.00, time=1260.00.\n",
      "Warning: Vehicle 'CESR.27' performs emergency stop at the end of lane 'end2_junction_2' because of a red traffic light (decel=-15.17, offset=0.02), time=1260.20.\n"
     ]
    },
    {
     "name": "stdout",
     "output_type": "stream",
     "text": [
      "episode : 20\n",
      "Step #1300.00 (0ms ?*RT. ?UPS, TraCI: 1ms, vehicles TOT 924 ACT 50 BUF 0)                 \n",
      " Retrying in 1 seconds\n"
     ]
    },
    {
     "name": "stderr",
     "output_type": "stream",
     "text": [
      "Warning: Environment variable SUMO_HOME is not set properly, disabling XML validation. Set 'auto' or 'always' for web lookups.\n"
     ]
    },
    {
     "name": "stdout",
     "output_type": "stream",
     "text": [
      "state : [ 0  0 13  0  0  2  0  0  2  0  0  0  0  0  0  0  0  0  0  0  0  0  0  0\n",
      "  1  0 17  1  1  4  5  0  2  1  3  0  0  0  0  3  3  0  0  0  0  0  1  0]\n",
      "Q_values : [-4.6187587  6.522331  -1.385091  -1.4714209]\n",
      "state : [ 0  2  6  0  4  0  0  2  0  0  9  0  0  0  0  0  0  0  0  0  0  0  0  0\n",
      "  1  2 10  2  4  0  6  2  0  1 13  0  2  0  0  2  0  0  0  0  2  0  0  0]\n",
      "Q_values : [-2.4558382  6.0080624  8.064302  -2.0498683]\n",
      "state : [ 0  2  9  0  0  0  0  2  0  0  0  0  0  0  0  0  0  0  0  0  0  0  0  0\n",
      "  0  2 13  2  1  2  4  2  0  0  4  0  0  0  0  4  6  4  0  0  0  0  3  1]\n",
      "Q_values : [-4.986827   3.3621984  0.8227933 -1.6117485]\n",
      "state : [0 2 0 0 1 2 0 2 0 0 3 0 0 0 0 0 0 0 0 0 0 0 0 0 0 3 5 4 2 2 4 2 0 1 7 0 2\n",
      " 0 0 3 2 9 0 0 0 0 0 0]\n",
      "Q_values : [-6.5173798  1.0887573  3.5339408 -3.9296782]\n"
     ]
    },
    {
     "name": "stderr",
     "output_type": "stream",
     "text": [
      "Warning: Vehicle 'CNE.23' performs emergency braking on lane 'end1_junction_2' with decel=9.00, wished=5.00, severity=1.00, time=303.95.\n"
     ]
    },
    {
     "name": "stdout",
     "output_type": "stream",
     "text": [
      "state : [0 0 2 0 2 5 0 0 1 0 5 1 0 0 0 0 0 0 0 0 0 0 0 0 0 1 6 0 3 6 4 0 2 1 9 2 2        \n",
      " 2 0 4 0 0 2 2 0 2 0 0]\n",
      "Q_values : [-5.0418997  2.2150257  5.742011  -3.2291718]\n",
      "state : [ 0  0  6  0  0  6  0  0  2  0  0  2  0  0  0  0  0  0  0  0  0  0  0  0\n",
      "  1  0 10  2  3  7  5  0  2  1  3  2  0  0  0  3  5  3  0  0  0  0  2  1]\n",
      "Q_values : [-4.0195     4.275712   3.5238314  0.0168364]\n",
      "state : [ 0  0  2  0  0  8  0  0  0  0  0  2  0  0  0  0  0  0  0  0  0  0  0  0\n",
      "  0  1  6  2  2 10  4  0  0  1  3  2  0  0  0  3  4  5  0  0  0  0  1  0]\n",
      "Q_values : [-6.872311   -1.657045    0.5813061   0.45420304]\n",
      "state : [ 0  2 23  0  5  0  0  2  2  0 16  0  0  0  0  0  0  0  0  0  0  0  0  0\n",
      "  0  3 26  0  6  1  4  2  2  1 19  0  2  0  0  4  0  0  0  0  1  0  0  0]\n",
      "Q_values : [ 1.8482323 24.041597  19.975739   6.1758385]\n",
      "Step #500.00 (1ms ~= 10.00*RT, ~71000.00UPS, TraCI: 112ms, vehicles TOT 384 ACT 71 BUF 0) \r"
     ]
    },
    {
     "name": "stderr",
     "output_type": "stream",
     "text": [
      "Warning: Vehicle 'CES.13' performs emergency braking on lane 'end2_junction_2' with decel=9.00, wished=5.00, severity=1.00, time=500.00.\n",
      "Warning: Vehicle 'CES.13' performs emergency stop at the end of lane 'end2_junction_2' because of a red traffic light (decel=-18.51, offset=0.07), time=500.45.\n"
     ]
    },
    {
     "name": "stdout",
     "output_type": "stream",
     "text": [
      "state : [ 0  2 10  0  8  0  0  2  0  0 23  0  0  0  0  0  0  0  0  0  0  0  0  0\n",
      "  0  2 22  0  8  0  4  2  0  0 26  0  2  0  0  4  0  3  0  0  3  0  0  0]\n",
      "Q_values : [ 4.5375   23.285486 24.82233   8.993866]\n",
      "Step #580.00 (1ms ~= 10.00*RT, ~75000.00UPS, TraCI: 0ms, vehicles TOT 440 ACT 75 BUF 16)  "
     ]
    },
    {
     "name": "stderr",
     "output_type": "stream",
     "text": [
      "Warning: Vehicle 'CWE.44' performs emergency braking on lane 'end4_junction_1' with decel=9.00, wished=5.00, severity=1.00, time=580.00.\n"
     ]
    },
    {
     "name": "stdout",
     "output_type": "stream",
     "text": [
      "Step #660.00 (0ms ?*RT. ?UPS, TraCI: 69ms, vehicles TOT 517 ACT 79 BUF 5)                 \r"
     ]
    },
    {
     "name": "stderr",
     "output_type": "stream",
     "text": [
      "Warning: Vehicle 'CEWR.2' performs emergency braking on lane 'end2_junction_1' with decel=9.00, wished=5.00, severity=1.00, time=660.00.\n",
      "Warning: Vehicle 'CEWR.2' performs emergency stop at the end of lane 'end2_junction_1' because of a red traffic light (decel=-20.22, offset=0.08), time=660.59.\n"
     ]
    },
    {
     "name": "stdout",
     "output_type": "stream",
     "text": [
      "state : [ 0  0 40  0  0 10  0  0  4  0  0  0  0  0  0  0  0  0  0  0  0  0  0  0\n",
      "  0  0 40  5  4 15  0  0  4  0  0  0  4  0  0  2  2  0  0  0  2  0  3  2]\n",
      "Q_values : [ 9.653678 25.342154 13.031079 15.549339]\n",
      "Step #760.00 (0ms ?*RT. ?UPS, TraCI: 70ms, vehicles TOT 596 ACT 94 BUF 4)                 \r"
     ]
    },
    {
     "name": "stderr",
     "output_type": "stream",
     "text": [
      "Warning: Vehicle 'CNE.39' performs emergency braking on lane 'end1_junction_2' with decel=9.00, wished=5.00, severity=1.00, time=760.00.\n",
      "Warning: Vehicle 'CNE.39' performs emergency stop at the end of lane 'end1_junction_2' because of a red traffic light (decel=-9.32, offset=0.00), time=760.81.\n"
     ]
    },
    {
     "name": "stdout",
     "output_type": "stream",
     "text": [
      "Step #782.00 (0ms ?*RT. ?UPS, TraCI: 0ms, vehicles TOT 610 ACT 92 BUF 8)                  \r"
     ]
    },
    {
     "name": "stderr",
     "output_type": "stream",
     "text": [
      "Warning: Vehicle 'CEWR.12' performs emergency braking on lane 'end2_junction_1' with decel=9.00, wished=5.00, severity=1.00, time=782.97.\n"
     ]
    },
    {
     "name": "stdout",
     "output_type": "stream",
     "text": [
      "state : [ 0  0 26  0  3 20  0  0  2  0  0  2  0  0  0  0  0  0  0  0  0  0  0  0\n",
      "  0  0 33  5  7 25  2  0  2  0  2  2  2  1  1  0  0  0  2  1  0  2  0  0]\n",
      "Q_values : [ 6.595726 16.864492 10.218023 15.881409]\n",
      "state : [ 0  0  4  0  6 24  0  0  0  0  2  2  0  0  0  0  0  0  0  0  0  0  0  0\n",
      "  1  1 22  7 10 27  2  0  0  1  3  2  2  0  0  2  0  9  0  0  0  0  0  1]\n",
      "Q_values : [ 1.4367571  2.2685573  3.0595262 16.887753 ]\n",
      "Step #880.00 (0ms ?*RT. ?UPS, TraCI: 0ms, vehicles TOT 674 ACT 76 BUF 4)                  "
     ]
    },
    {
     "name": "stderr",
     "output_type": "stream",
     "text": [
      "Warning: Vehicle 'CENR.21' performs emergency braking on lane 'end2_junction_0' with decel=9.00, wished=5.00, severity=1.00, time=880.00.\n"
     ]
    },
    {
     "name": "stdout",
     "output_type": "stream",
     "text": [
      "state : [ 0  0  0  0  2 26  0  0  0  0  0  0  0  0  0  0  0  0  0  0  0  0  0  0\n",
      "  3  1 17  5  7 30  2  2  2  3  1  2  4  0  0  1  0 10  0  0  0  0  0  0]\n",
      "Q_values : [-1.3481417  -1.0969605   0.45992714 12.936381  ]\n",
      "Step #900.00 (1ms ~= 10.00*RT, ~92000.00UPS, TraCI: 92ms, vehicles TOT 703 ACT 92 BUF 5)  \r"
     ]
    },
    {
     "name": "stderr",
     "output_type": "stream",
     "text": [
      "Warning: Vehicle 'CNER.0' performs emergency braking on lane 'end1_junction_2' with decel=9.00, wished=5.00, severity=1.00, time=900.00.\n",
      "Warning: Vehicle 'CNER.0' performs emergency stop at the end of lane 'end1_junction_2' because of a red traffic light (decel=-12.76, offset=0.01), time=900.42.\n"
     ]
    },
    {
     "name": "stdout",
     "output_type": "stream",
     "text": [
      "state : [ 0  0 11  0  6  0  0  1  1  0  0  0  0  0  0  0  0  0  0  0  0  0  0  0\n",
      "  2  2 17  6 10 23  1  2  2  2  2  0  3  0  2  0  0  2  0  0  9  0  0  0]\n",
      "Q_values : [-10.439346   -3.2719922  -2.4898844  -7.4165835]\n",
      "Step #920.00 (0ms ?*RT. ?UPS, TraCI: 90ms, vehicles TOT 713 ACT 87 BUF 1)                 \r"
     ]
    },
    {
     "name": "stderr",
     "output_type": "stream",
     "text": [
      "Warning: Vehicle 'CESR.15' performs emergency braking on lane 'end2_junction_2' with decel=9.00, wished=5.00, severity=1.00, time=920.00.\n",
      "Warning: Vehicle 'CESR.15' performs emergency stop at the end of lane 'end2_junction_2' because of a red traffic light (decel=-11.54, offset=0.01), time=920.58.\n"
     ]
    },
    {
     "name": "stdout",
     "output_type": "stream",
     "text": [
      "state : [ 0  2 17  0  0 11  0  2  2  0  0  0  0  0  0  0  0  0  0  0  0  0  0  0\n",
      "  0  2 19  7  3 25  2  2  2  0  2  0  4  0  0  2  1  0  2  0  2  2  4  4]\n",
      "Q_values : [ 0.32318592  7.7503185   1.2240187  10.379658  ]\n",
      "state : [ 0  0  0  0  9 21  0  0  0  0  4  0  0  0  0  0  0  0  0  0  0  0  0  0\n",
      "  1  1 10  7 13 24  2  0  0  1  5  0  3  0  0  2  0  9  0  0  0  0  0  1]\n",
      "Q_values : [-1.1807895  0.7445092  7.32297   13.257234 ]\n",
      "state : [ 0  0  0  0 23 23  0  0  1  0  8  2  0  0  0  0  0  0  0  0  0  0  0  0\n",
      "  0  0  2  5 27 27  2  0  1  0 10  2  3  1  1  2  0  1  1  2  0  2  0  0]\n",
      "Q_values : [11.249699 13.447026 31.243542 32.767235]\n",
      "state : [ 0  0  4  0 10 22  0  0  1  0  2  0  0  0  0  0  0  0  0  0  0  0  0  0\n",
      "  0  0  4  5 25 26  0  0  1  0  2  0  4  0  0  2  0  0  0  0  0  0  1  0]\n",
      "Q_values : [ 0.584497   1.1461596 11.986829  17.164965 ]\n",
      "Step #1161.00 (0ms ?*RT. ?UPS, TraCI: 0ms, vehicles TOT 888 ACT 81 BUF 0)                 \r"
     ]
    },
    {
     "name": "stderr",
     "output_type": "stream",
     "text": [
      "Warning: Vehicle 'CESR.37' performs emergency braking on lane 'end2_junction_2' with decel=9.00, wished=5.00, severity=1.00, time=1161.31.\n"
     ]
    },
    {
     "name": "stdout",
     "output_type": "stream",
     "text": [
      "state : [ 0  0  6  0 10 21  0  0  1  0  0  0  0  0  0  0  0  0  0  0  0  0  0  0\n",
      "  2  2  8  5 23 25  2  1  3  2  2  2  4  1  0  0  0  0  0  0  0  0  1  0]\n",
      "Q_values : [-2.1090472 -1.6685219  6.4061465 11.214777 ]\n",
      "episode : 21\n",
      "Step #1300.00 (0ms ?*RT. ?UPS, TraCI: 0ms, vehicles TOT 924 ACT 29 BUF 0)                 \n",
      " Retrying in 1 seconds\n"
     ]
    },
    {
     "name": "stderr",
     "output_type": "stream",
     "text": [
      "Warning: Environment variable SUMO_HOME is not set properly, disabling XML validation. Set 'auto' or 'always' for web lookups.\n",
      "Warning: Vehicle 'CWE.3' performs emergency braking on lane 'end4_junction_1' with decel=9.00, wished=5.00, severity=1.00, time=60.00.\n",
      "Warning: Vehicle 'CWE.3' performs emergency stop at the end of lane 'end4_junction_1' because of a red traffic light (decel=-29.73, offset=0.15), time=61.02.\n"
     ]
    },
    {
     "name": "stdout",
     "output_type": "stream",
     "text": [
      "state : [ 0  2 20  0  0  3  0  2  2  0  0  0  0  0  0  0  0  0  0  0  0  0  0  0          \n",
      "  0  3 23  0  0  4  4  2  2  1  2  0  2  0  0  4  2  0  0  0  0  0  1  0]\n",
      "Q_values : [ 4.6229343 17.451134   6.108765   9.274105 ]\n",
      "state : [ 0  2  0  0  0  4  0  2  0  0  2  0  0  0  0  0  0  0  0  0  0  0  0  0\n",
      "  3  4 16  2  3  5  6  5  1  3  7  1  0  0  0  3  0 10  0  0  0  0  0  1]\n",
      "Q_values : [-13.075465 -13.013656 -13.268773 -11.36872 ]\n",
      "Step #161.00 (0ms ?*RT. ?UPS, TraCI: 0ms, vehicles TOT 138 ACT 70 BUF 0)                  \r"
     ]
    },
    {
     "name": "stderr",
     "output_type": "stream",
     "text": [
      "Warning: Vehicle 'CNE.5' performs emergency braking on lane 'end1_junction_2' with decel=9.00, wished=5.00, severity=1.00, time=160.00.\n",
      "Warning: Vehicle 'CNE.5' performs emergency braking on lane 'end1_junction_2' with decel=9.00, wished=5.00, severity=1.00, time=161.21.\n"
     ]
    },
    {
     "name": "stdout",
     "output_type": "stream",
     "text": [
      "state : [ 0  0  0  0  4  2  0  0  0  0 12  0  0  0  0  0  0  0  0  0  0  0  0  0\n",
      "  1  0 15  2  4  2  5  0  0  1 16  0  2  0  0  2  0  9  0  0  0  0  0  1]\n",
      "Q_values : [-3.103682    3.3346555   8.786089   -0.18270482]\n",
      "state : [ 0  0 27  0  3  3  0  0  1  0  8  1  0  0  0  0  0  0  0  0  0  0  0  0\n",
      "  1  1 32  0  4  4  4  0  2  1 12  2  2  1  0  4  0  0  2  1  0  1  0  0]\n",
      "Q_values : [-1.6198671 10.979033  10.170994   3.6905932]\n",
      "Step #341.00 (0ms ?*RT. ?UPS, TraCI: 0ms, vehicles TOT 270 ACT 78 BUF 0)                  \r"
     ]
    },
    {
     "name": "stderr",
     "output_type": "stream",
     "text": [
      "Warning: Vehicle 'CNE.16' performs emergency braking on lane 'end1_junction_2' with decel=9.00, wished=5.00, severity=1.00, time=340.00.\n",
      "Warning: Vehicle 'CNE.16' performs emergency braking on lane 'end1_junction_2' with decel=9.00, wished=5.00, severity=1.00, time=341.02.\n"
     ]
    },
    {
     "name": "stdout",
     "output_type": "stream",
     "text": [
      "state : [ 0  1 26  0  0  0  0  0  0  0  0  0  0  0  0  0  0  0  0  0  0  0  0  0\n",
      "  0  1 31  2  2  2  4  0  0  1 10  0  0  0  0  4  6  4  0  0  0  0  3  2]\n",
      "Q_values : [-4.3932676   7.9451604   0.41084373 -0.11423948]\n",
      "Step #640.00 (0ms ?*RT. ?UPS, TraCI: 0ms, vehicles TOT 506 ACT 112 BUF 4)                 "
     ]
    },
    {
     "name": "stderr",
     "output_type": "stream",
     "text": [
      "Warning: Vehicle 'CENR.1' performs emergency braking on lane 'end2_junction_0' with decel=9.00, wished=5.00, severity=1.00, time=640.00.\n"
     ]
    },
    {
     "name": "stdout",
     "output_type": "stream",
     "text": [
      "state : [ 0  0  6  0 14  0  0  0  4  0 38  0  0  0  0  0  0  0  0  0  0  0  0  0\n",
      "  0  0  8  5 18 13  2  0  4  0 39  0  4  0  6  0  0  0  1  0  9  0  0  0]\n",
      "Q_values : [28.018293 34.465668 64.58219  19.511515]\n",
      "Step #660.00 (1ms ~= 10.00*RT, ~111000.00UPS, TraCI: 90ms, vehicles TOT 517 ACT 111 BUF 5)\r"
     ]
    },
    {
     "name": "stderr",
     "output_type": "stream",
     "text": [
      "Warning: Vehicle 'CES.15' performs emergency braking on lane 'end2_junction_2' with decel=9.00, wished=5.00, severity=1.00, time=660.00.\n",
      "Warning: Vehicle 'CES.15' performs emergency stop at the end of lane 'end2_junction_2' because of a red traffic light (decel=-12.90, offset=0.03), time=660.47.\n"
     ]
    },
    {
     "name": "stdout",
     "output_type": "stream",
     "text": [
      "state : [ 0  0  8  0  0 11  0  0  4  0  0  0  0  0  0  0  0  0  0  0  0  0  0  0\n",
      "  0  1  9  6  9 17  2  0  4  0 23  6  3  0  0  1  7  4  0  0  2  0  7  3]\n",
      "Q_values : [-8.799635  -3.6491861 -0.8136219 -4.3798914]\n",
      "state : [ 0  0 10  0  0 19  0  0  4  0  0  0  0  0  0  0  0  0  0  0  0  0  0  0\n",
      "  0  0 12  5  4 23  2  0  4  0  7  0  4  0  0  2  8  4  0  0  0  0  2  0]\n",
      "Q_values : [ 2.5409107  2.9832935  6.2398715 16.058    ]\n",
      "Step #720.00 (1ms ~= 10.00*RT, ~80000.00UPS, TraCI: 88ms, vehicles TOT 559 ACT 80 BUF 5)  \r"
     ]
    },
    {
     "name": "stderr",
     "output_type": "stream",
     "text": [
      "Warning: Vehicle 'CWE.49' performs emergency braking on lane 'end4_junction_1' with decel=9.00, wished=5.00, severity=1.00, time=720.00.\n",
      "Warning: Vehicle 'CWE.49' performs emergency stop at the end of lane 'end4_junction_1' because of a red traffic light (decel=-20.97, offset=0.04), time=720.23.\n"
     ]
    },
    {
     "name": "stdout",
     "output_type": "stream",
     "text": [
      "state : [ 0  0 12  0  3  0  0  0  4  0  7  0  0  0  0  0  0  0  0  0  0  0  0  0\n",
      "  0  0 12  5  7 16  0  0  4  0  7  0  3  0  0  2  0  0  0  0  9  0  0  0]\n",
      "Q_values : [-3.516921   7.4266815  5.216028  -3.8811908]\n",
      "Step #761.00 (0ms ?*RT. ?UPS, TraCI: 0ms, vehicles TOT 598 ACT 81 BUF 2)                  \r"
     ]
    },
    {
     "name": "stderr",
     "output_type": "stream",
     "text": [
      "Warning: Vehicle 'CNER.3' performs emergency braking on lane 'end1_junction_2' with decel=9.00, wished=5.00, severity=1.00, time=760.00.\n",
      "Warning: Vehicle 'CNER.3' performs emergency braking on lane 'end1_junction_2' with decel=9.00, wished=5.00, severity=1.00, time=761.13.\n"
     ]
    },
    {
     "name": "stdout",
     "output_type": "stream",
     "text": [
      "state : [ 0  1  3  0  0 18  0  2  1  0  0  2  0  0  0  0  0  0  0  0  0  0  0  0\n",
      "  0  2  3  5  4 22  0  2  2  0  0  2  4  0  0  2  6  5  1  0  0  1  6  3]\n",
      "Q_values : [ 3.5084662 -0.7115511  4.1658196 20.48914  ]\n",
      "Step #801.00 (0ms ?*RT. ?UPS, TraCI: 0ms, vehicles TOT 624 ACT 59 BUF 0)                  \r"
     ]
    },
    {
     "name": "stderr",
     "output_type": "stream",
     "text": [
      "Warning: Vehicle 'CESR.9' performs emergency braking on lane 'end2_junction_2' with decel=9.00, wished=5.00, severity=1.00, time=800.00.\n",
      "Warning: Vehicle 'CESR.9' performs emergency braking on lane 'end2_junction_2' with decel=9.00, wished=5.00, severity=1.00, time=801.06.\n"
     ]
    },
    {
     "name": "stdout",
     "output_type": "stream",
     "text": [
      "state : [ 0  0  1  0  9  0  0  0  0  0  3  0  0  0  0  0  0  0  0  0  0  0  0  0\n",
      "  0  0  2  7 13 16  1  0  0  0  4  0  4  0  0  0  0  0  0  0  9  0  0  0]\n",
      "Q_values : [-9.723053  -2.0578861 -1.3076545 -4.713875 ]\n",
      "state : [ 0  0  2  0  0 10  0  0  0  0  0  0  0  0  0  0  0  0  0  0  0  0  0  0\n",
      "  3  1  4  5  5 20  2  2  2  3  1  2  4  0  0  2  2  1  0  0  3  0  7  3]\n",
      "Q_values : [-18.105919  -15.664971   -6.742273    4.1120844]\n",
      "Step #921.00 (0ms ?*RT. ?UPS, TraCI: 0ms, vehicles TOT 714 ACT 61 BUF 0)                  \r"
     ]
    },
    {
     "name": "stderr",
     "output_type": "stream",
     "text": [
      "Warning: Vehicle 'CESR.20' performs emergency braking on lane 'end2_junction_2' with decel=9.00, wished=5.00, severity=1.00, time=920.00.\n",
      "Warning: Vehicle 'CESR.20' performs emergency braking on lane 'end2_junction_2' with decel=9.00, wished=5.00, severity=1.00, time=921.15.\n"
     ]
    },
    {
     "name": "stdout",
     "output_type": "stream",
     "text": [
      "state : [ 0  2  4  0  0 11  0  2  2  0  0  0  0  0  0  0  0  0  0  0  0  0  0  0\n",
      "  0  2  6  7  3 15  2  2  2  0  2  0  4  0  0  2  1  0  2  0  2  2  4  3]\n",
      "Q_values : [-1.847681  -2.3416317 -0.5824512 10.604245 ]\n",
      "state : [ 0  2  6  0  6  0  0  2  2  0  2  0  0  0  0  0  0  0  0  0  0  0  0  0\n",
      "  0  2  8  5 10  4  2  2  2  0  4  0  3  0  0  0  0  0  0  0 10  0  0  0]\n",
      "Q_values : [-5.0037236  4.4356656  3.684804  -1.8637248]\n",
      "state : [ 0  2  1  0  0 13  0  3  0  0  0  1  0  0  0  0  0  0  0  0  0  0  0  0\n",
      "  2  4  2  7 11 16  2  4  2  2  2  2  4  0  0  0  3  2  0  0  0  0  7  3]\n",
      "Q_values : [-3.1087046 -3.1270196  0.7836779  7.634563 ]\n",
      "Step #1060.00 (0ms ?*RT. ?UPS, TraCI: 87ms, vehicles TOT 818 ACT 76 BUF 4)                \r"
     ]
    },
    {
     "name": "stderr",
     "output_type": "stream",
     "text": [
      "Warning: Vehicle 'AWER.12' performs emergency stop at the end of lane 'end4_junction_1' because of a red traffic light (decel=-17.62, offset=0.06), time=1060.89.\n"
     ]
    },
    {
     "name": "stdout",
     "output_type": "stream",
     "text": [
      "state : [ 0  0  6  0  0  6  0  0  2  0  0  0  0  0  0  0  0  0  0  0  0  0  0  0\n",
      "  0  0  6  5 13 10  0  0  2  0  0  0  4  0  0  1  4  2  0  0  0  0  8  2]\n",
      "Q_values : [-3.8660467   0.16728449  3.7620854   2.0608108 ]\n",
      "state : [ 0  0  6  0  0  9  0  0  2  0  0  0  0  0  0  0  0  0  0  0  0  0  0  0\n",
      "  0  0  8  5  4 14  2  0  2  0  1  0  4  0  0  0  1  0  0  0  0  0  7  5]\n",
      "Q_values : [-1.926256    0.23189664  2.9648788  10.131364  ]\n",
      "state : [0 0 8 0 3 0 0 0 2 0 1 0 0 0 0 0 0 0 0 0 0 0 0 0 2 1 8 7 7 5 2 1 2 2 2 0 4\n",
      " 0 0 2 0 0 0 0 8 0 0 0]\n",
      "Q_values : [-5.942563   8.407676   1.0187738 -4.027987 ]\n",
      "Step #1181.00 (1ms ~= 10.00*RT, ~61000.00UPS, TraCI: 0ms, vehicles TOT 912 ACT 61 BUF 6)  \r"
     ]
    },
    {
     "name": "stderr",
     "output_type": "stream",
     "text": [
      "Warning: Vehicle 'CESR.45' performs emergency braking on lane 'end2_junction_2' with decel=9.00, wished=5.00, severity=1.00, time=1181.32.\n"
     ]
    },
    {
     "name": "stdout",
     "output_type": "stream",
     "text": [
      "episode : 22\n",
      "Step #1300.00 (0ms ?*RT. ?UPS, TraCI: 0ms, vehicles TOT 924 ACT 16 BUF 0)                 \n",
      " Retrying in 1 seconds\n"
     ]
    },
    {
     "name": "stderr",
     "output_type": "stream",
     "text": [
      "Warning: Environment variable SUMO_HOME is not set properly, disabling XML validation. Set 'auto' or 'always' for web lookups.\n"
     ]
    },
    {
     "name": "stdout",
     "output_type": "stream",
     "text": [
      "state : [0 2 2 0 0 2 0 2 2 0 0 2 0 0 0 0 0 0 0 0 0 0 0 0 1 2 7 2 0 2 5 2 2 1 3 2 2\n",
      " 0 0 2 2 0 2 0 0 1 2 0]\n",
      "Q_values : [-4.9294386  2.5907593  0.3190596  1.7638959]\n"
     ]
    },
    {
     "name": "stderr",
     "output_type": "stream",
     "text": [
      "Warning: Vehicle 'CNE.3' performs emergency braking on lane 'end1_junction_2' with decel=9.00, wished=5.00, severity=1.00, time=63.79.\n"
     ]
    },
    {
     "name": "stdout",
     "output_type": "stream",
     "text": [
      "state : [ 0  3  0  0  1  3  0  3  0  0  1  1  0  0  0  0  0  0  0  0  0  0  0  0          \n",
      "  0  4 12  0  2  4  4  4  0  0  6  2  2  0  0  3  1  9  2  0  0  2  0  2]\n",
      "Q_values : [-14.937754   -8.605583   -4.6252975  -2.9130323]\n",
      "state : [ 0  4 15  0  0  2  0  4  0  0  0  0  0  0  0  0  0  0  0  0  0  0  0  0\n",
      "  1  4 19  2  0  2  6  4  0  1  3  0  2  0  0  3  5  4  0  0  0  0  2  1]\n",
      "Q_values : [-1.0334744 13.956875   3.547906   2.5037248]\n",
      "state : [ 0  4  0  0  0  2  0  4  0  0  2  0  0  0  0  0  0  0  0  0  0  0  0  0\n",
      "  0  4 11  2  2  4  4  4  0  0  6  0  0  0  0  3  0 10  0  0  0  0  0  0]\n",
      "Q_values : [-7.548179   -3.9992557   0.64424855 -1.2308168 ]\n",
      "Step #240.00 (0ms ?*RT. ?UPS, TraCI: 0ms, vehicles TOT 186 ACT 51 BUF 0)                  "
     ]
    },
    {
     "name": "stderr",
     "output_type": "stream",
     "text": [
      "Warning: Vehicle 'CNE.14' performs emergency braking on lane 'end1_junction_2' with decel=9.00, wished=5.00, severity=1.00, time=240.00.\n"
     ]
    },
    {
     "name": "stdout",
     "output_type": "stream",
     "text": [
      "Step #300.00 (1ms ~= 10.00*RT, ~72000.00UPS, TraCI: 67ms, vehicles TOT 243 ACT 72 BUF 3)  \r"
     ]
    },
    {
     "name": "stderr",
     "output_type": "stream",
     "text": [
      "Warning: Vehicle 'CWE.23' performs emergency braking on lane 'end4_junction_1' with decel=9.00, wished=5.00, severity=1.00, time=300.00.\n",
      "Warning: Vehicle 'CWE.23' performs emergency stop at the end of lane 'end4_junction_1' because of a red traffic light (decel=-30.81, offset=0.05), time=300.90.\n"
     ]
    },
    {
     "name": "stdout",
     "output_type": "stream",
     "text": [
      "state : [ 0  5  0  0  1  7  0  5  0  0  2  1  0  0  0  0  0  0  0  0  0  0  0  0\n",
      "  0  7 13  0  2  8  4  6  1  1  6  2  2  0  0  4  0  9  2  0  0  1  0  1]\n",
      "Q_values : [-9.073738  -5.0119314 -2.9390087  3.7512574]\n",
      "Step #320.00 (0ms ?*RT. ?UPS, TraCI: 90ms, vehicles TOT 252 ACT 72 BUF 0)                 \r"
     ]
    },
    {
     "name": "stderr",
     "output_type": "stream",
     "text": [
      "Warning: Vehicle 'CSW.2' performs emergency braking on lane 'end3_junction_2' with decel=9.00, wished=5.00, severity=1.00, time=320.00.\n",
      "Warning: Vehicle 'CSW.2' performs emergency stop at the end of lane 'end3_junction_2' because of a red traffic light (decel=-16.89, offset=0.03), time=320.47.\n",
      "Warning: Teleporting vehicle 'CNS.0'; waited too long (yield), lane='end1_junction_1', time=331.25.\n",
      "Warning: Vehicle 'CNS.0' ends teleporting on edge 'junction_end3', time=331.25.\n",
      "Warning: Teleporting vehicle 'ASN.0'; waited too long (yield), lane='end3_junction_1', time=331.82.\n",
      "Warning: Vehicle 'ASN.0' ends teleporting on edge 'junction_end1', time=331.82.\n"
     ]
    },
    {
     "name": "stdout",
     "output_type": "stream",
     "text": [
      "state : [ 0  3 10  0  2  0  0  3  1  0  6  0  0  0  0  0  0  0  0  0  0  0  0  0          \n",
      "  1  5 17  2  4  2  6  5  1  1 10  0  1  1  1  2  0  3  0  1  7  1  0  0]\n",
      "Q_values : [-4.580068   6.0743694  4.931978  -2.9100614]\n",
      "Step #360.00 (0ms ?*RT. ?UPS, TraCI: 69ms, vehicles TOT 280 ACT 63 BUF 8)                 \r"
     ]
    },
    {
     "name": "stderr",
     "output_type": "stream",
     "text": [
      "Warning: Vehicle 'CNE.25' performs emergency braking on lane 'end1_junction_2' with decel=9.00, wished=5.00, severity=1.00, time=360.00.\n",
      "Warning: Vehicle 'CNE.25' performs emergency stop at the end of lane 'end1_junction_2' because of a red traffic light (decel=-15.79, offset=0.06), time=360.15.\n"
     ]
    },
    {
     "name": "stdout",
     "output_type": "stream",
     "text": [
      "state : [ 0  0 16  0  2  0  0  0  0  0  7  0  0  0  0  0  0  0  0  0  0  0  0  0\n",
      "  0  0 19  2  4  2  4  0  0  0 11  0  0  3  2  4  0  0  0  3  2  0  0  0]\n",
      "Q_values : [-3.8053377  7.862475   7.551826  -1.2833953]\n",
      "state : [ 0  0  0  0  4  2  0  0  0  0 11  0  0  0  0  0  0  0  0  0  0  0  0  0\n",
      "  4  1 10  4  5  2  6  1  0  4 14  0  2  0  0  4  0  9  0  0  0  0  0  0]\n",
      "Q_values : [-11.47344    -2.9931617   2.2151845  -3.2878203]\n",
      "Step #580.00 (0ms ?*RT. ?UPS, TraCI: 67ms, vehicles TOT 440 ACT 89 BUF 16)                \r"
     ]
    },
    {
     "name": "stderr",
     "output_type": "stream",
     "text": [
      "Warning: Vehicle 'CNE.36' performs emergency braking on lane 'end1_junction_2' with decel=9.00, wished=5.00, severity=1.00, time=580.00.\n",
      "Warning: Vehicle 'CNE.36' performs emergency stop at the end of lane 'end1_junction_2' because of a red traffic light (decel=-13.52, offset=0.03), time=580.37.\n"
     ]
    },
    {
     "name": "stdout",
     "output_type": "stream",
     "text": [
      "state : [ 0  2 26  0  2  0  0  2  2  0 10  0  0  0  0  0  0  0  0  0  0  0  0  0\n",
      "  2  4 29  5  5  3  2  4  4  2 19  2  2  0  2  2  1  0  2  0  7  1  1  0]\n",
      "Q_values : [-4.588184   8.814027   8.109997  -2.9598334]\n",
      "Step #680.00 (1ms ~= 10.00*RT, ~87000.00UPS, TraCI: 68ms, vehicles TOT 533 ACT 87 BUF 1)  \r"
     ]
    },
    {
     "name": "stderr",
     "output_type": "stream",
     "text": [
      "Warning: Vehicle 'CNE.47' performs emergency braking on lane 'end1_junction_2' with decel=9.00, wished=5.00, severity=1.00, time=680.00.\n",
      "Warning: Vehicle 'CNE.47' performs emergency stop at the end of lane 'end1_junction_2' because of a red traffic light (decel=-15.06, offset=0.03), time=680.21.\n"
     ]
    },
    {
     "name": "stdout",
     "output_type": "stream",
     "text": [
      "state : [ 0  0  0  0 17 10  0  0  0  0 23  0  0  0  0  0  0  0  0  0  0  0  0  0\n",
      "  0  0  2  5 21 14  2  0  0  0 25  0  4  0  0  2  0  9  0  0  0  0  0  0]\n",
      "Q_values : [13.871828  13.6166935 35.214775  18.242853 ]\n",
      "state : [ 0  0  8  0  0 10  0  0  2  0  0  0  0  0  0  0  0  0  0  0  0  0  0  0\n",
      "  0  1  9  6 20 15  2  0  2  1  8  0  2  0  0  2  7  3  0  0  0  0  7  3]\n",
      "Q_values : [-11.195999   -3.4026413  -2.897286   -8.892081 ]\n",
      "Step #882.00 (0ms ?*RT. ?UPS, TraCI: 0ms, vehicles TOT 677 ACT 75 BUF 1)                  \r"
     ]
    },
    {
     "name": "stderr",
     "output_type": "stream",
     "text": [
      "Warning: Vehicle 'CEWR.17' performs emergency braking on lane 'end2_junction_1' with decel=9.00, wished=5.00, severity=1.00, time=882.10.\n"
     ]
    },
    {
     "name": "stdout",
     "output_type": "stream",
     "text": [
      "Step #920.00 (0ms ?*RT. ?UPS, TraCI: 68ms, vehicles TOT 713 ACT 81 BUF 1)                 \r"
     ]
    },
    {
     "name": "stderr",
     "output_type": "stream",
     "text": [
      "Warning: Vehicle 'CNSR.2' performs emergency braking on lane 'end1_junction_1' with decel=9.00, wished=5.00, severity=1.00, time=920.00.\n",
      "Warning: Vehicle 'CNSR.2' performs emergency stop at the end of lane 'end1_junction_1' because of a red traffic light (decel=-18.73, offset=0.03), time=920.76.\n"
     ]
    },
    {
     "name": "stdout",
     "output_type": "stream",
     "text": [
      "Step #960.00 (1ms ~= 10.00*RT, ~81000.00UPS, TraCI: 67ms, vehicles TOT 742 ACT 81 BUF 8)  \r"
     ]
    },
    {
     "name": "stderr",
     "output_type": "stream",
     "text": [
      "Warning: Vehicle 'CNER.8' performs emergency braking on lane 'end1_junction_2' with decel=9.00, wished=5.00, severity=1.00, time=960.00.\n",
      "Warning: Vehicle 'CNER.8' performs emergency stop at the end of lane 'end1_junction_2' because of a red traffic light (decel=-14.50, offset=0.02), time=960.30.\n"
     ]
    },
    {
     "name": "stdout",
     "output_type": "stream",
     "text": [
      "Step #1040.00 (0ms ?*RT. ?UPS, TraCI: 67ms, vehicles TOT 809 ACT 79 BUF 1)                \r"
     ]
    },
    {
     "name": "stderr",
     "output_type": "stream",
     "text": [
      "Warning: Vehicle 'CESR.25' performs emergency braking on lane 'end2_junction_2' with decel=9.00, wished=5.00, severity=1.00, time=1040.00.\n",
      "Warning: Vehicle 'CESR.25' performs emergency stop at the end of lane 'end2_junction_2' because of a red traffic light (decel=-13.13, offset=0.00), time=1040.39.\n"
     ]
    },
    {
     "name": "stdout",
     "output_type": "stream",
     "text": [
      "Step #1060.00 (0ms ?*RT. ?UPS, TraCI: 67ms, vehicles TOT 818 ACT 76 BUF 4)                \r"
     ]
    },
    {
     "name": "stderr",
     "output_type": "stream",
     "text": [
      "Warning: Vehicle 'ANSR.3' performs emergency stop at the end of lane 'end1_junction_1' because of a red traffic light (decel=-19.14, offset=0.05), time=1060.74.\n"
     ]
    },
    {
     "name": "stdout",
     "output_type": "stream",
     "text": [
      "state : [ 0  2  3  0 16  0  0  0  2  0  4  0  0  0  0  0  0  0  0  0  0  0  0  0\n",
      "  0  2  5  5 20 18  2  0  2  0  6  0  3  0  2  2  0  0  2  0  9  2  0  0]\n",
      "Q_values : [-6.742492    0.9847212   8.009587    0.22027472]\n",
      "state : [ 0  2  5  0  0 10  0  0  2  0  0  0  0  0  0  0  0  0  0  0  0  0  0  0\n",
      "  0  2  5  6 11 22  0  0  2  0  0  0  3  0  0  2  3  2  0  0  3  0  7  3]\n",
      "Q_values : [-18.619133  -10.878609   -7.2956553   2.6524944]\n",
      "state : [ 0  2  5  0 10  0  0  0  2  0  0  0  0  0  0  0  0  0  0  0  0  0  0  0\n",
      "  0  2  7  7 14 13  2  0  2  0  2  0  4  0  0  0  0  0  0  0  8  0  2  0]\n",
      "Q_values : [-14.834011   -6.2097425  -5.7361116 -10.7836275]\n",
      "Step #1121.00 (0ms ?*RT. ?UPS, TraCI: 0ms, vehicles TOT 862 ACT 66 BUF 2)                 \r"
     ]
    },
    {
     "name": "stderr",
     "output_type": "stream",
     "text": [
      "Warning: Vehicle 'CESR.36' performs emergency braking on lane 'end2_junction_2' with decel=9.00, wished=5.00, severity=1.00, time=1121.25.\n"
     ]
    },
    {
     "name": "stdout",
     "output_type": "stream",
     "text": [
      "state : [ 0  2  7  0  0 16  0  0  2  0  0  0  0  0  0  0  0  0  0  0  0  0  0  0\n",
      "  0  2  9  5  4 21  2  0  2  0  1  0  4  0  0  0  1  0  0  0  0  0  5  1]\n",
      "Q_values : [-2.097717    1.5862298  -0.18689716 12.745446  ]\n",
      "state : [ 0  2  9  0  6  0  0  0  2  0  1  0  0  0  0  0  0  0  0  0  0  0  0  0\n",
      "  2  4 11  5 11  5  2  2  4  2  3  1  4  0  0  0  0  0  0  0 13  0  0  0]\n",
      "Q_values : [-5.113182   6.8826885  1.0222615 -4.613708 ]\n",
      "Step #1204.00 (0ms ?*RT. ?UPS, TraCI: 0ms, vehicles TOT 924 ACT 67 BUF 0)                 \r"
     ]
    },
    {
     "name": "stderr",
     "output_type": "stream",
     "text": [
      "Warning: Vehicle 'CESR.47' performs emergency braking on lane 'end2_junction_2' with decel=9.00, wished=5.00, severity=1.00, time=1201.57.\n",
      "Warning: Vehicle 'CWNR.4' performs emergency braking on lane 'end4_junction_2' with decel=9.00, wished=5.00, severity=1.00, time=1204.12.\n"
     ]
    },
    {
     "name": "stdout",
     "output_type": "stream",
     "text": [
      "episode : 23\n",
      "Step #1300.00 (0ms ?*RT. ?UPS, TraCI: 0ms, vehicles TOT 924 ACT 21 BUF 0)                 \n",
      " Retrying in 1 seconds\n"
     ]
    },
    {
     "name": "stderr",
     "output_type": "stream",
     "text": [
      "Warning: Environment variable SUMO_HOME is not set properly, disabling XML validation. Set 'auto' or 'always' for web lookups.\n"
     ]
    },
    {
     "name": "stdout",
     "output_type": "stream",
     "text": [
      "state : [ 0  0 10  0  0  2  0  0  2  0  0  0  0  0  0  0  0  0  0  0  0  0  0  0\n",
      "  0  1 13  4  1  2  4  0  2  1  3  0  2  0  0  3  6  4  0  0  0  0  2  1]\n",
      "Q_values : [-4.5064416  3.6765087  1.9703841 -3.400895 ]\n",
      "Step #80.00 (0ms ?*RT. ?UPS, TraCI: 88ms, vehicles TOT 71 ACT 49 BUF 1)                   \r"
     ]
    },
    {
     "name": "stderr",
     "output_type": "stream",
     "text": [
      "Warning: Vehicle 'AWE.5' performs emergency stop at the end of lane 'end4_junction_1' because of a red traffic light (decel=-35.80, offset=0.10), time=80.14.\n"
     ]
    },
    {
     "name": "stdout",
     "output_type": "stream",
     "text": [
      "Step #101.00 (0ms ?*RT. ?UPS, TraCI: 0ms, vehicles TOT 84 ACT 42 BUF 0)                   \r"
     ]
    },
    {
     "name": "stderr",
     "output_type": "stream",
     "text": [
      "Warning: Vehicle 'CNE.5' performs emergency braking on lane 'end1_junction_2' with decel=9.00, wished=5.00, severity=1.00, time=100.00.\n",
      "Warning: Vehicle 'CNE.5' performs emergency braking on lane 'end1_junction_2' with decel=9.00, wished=5.00, severity=1.00, time=101.20.\n"
     ]
    },
    {
     "name": "stdout",
     "output_type": "stream",
     "text": [
      "state : [ 0  0 12  0  4  6  0  0  0  0 13  0  0  0  0  0  0  0  0  0  0  0  0  0\n",
      "  3  2 16  2  7  7  5  3  1  3 18  1  0  0  0  3  0  0  0  0  0  0  0  0]\n",
      "Q_values : [-0.92757845  6.17928    11.62875     4.095764  ]\n",
      "state : [ 0  1 14  0  0  7  0  1  1  0  0  1  0  0  0  0  0  0  0  0  0  0  0  0\n",
      "  0  2 19  0  0  8  4  2  2  0  8  2  2  0  0  4  6  4  2  0  0  2  3  2]\n",
      "Q_values : [-3.7915018   5.3450894   4.2024918   0.75190043]\n",
      "Step #180.00 (0ms ?*RT. ?UPS, TraCI: 89ms, vehicles TOT 148 ACT 77 BUF 8)                 \r"
     ]
    },
    {
     "name": "stderr",
     "output_type": "stream",
     "text": [
      "Warning: Vehicle 'AWE.11' performs emergency stop at the end of lane 'end4_junction_1' because of a red traffic light (decel=-12.84, offset=0.02), time=180.75.\n"
     ]
    },
    {
     "name": "stdout",
     "output_type": "stream",
     "text": [
      "state : [ 0  2  0  0  0  8  0  2  0  0  8  2  0  0  0  0  0  0  0  0  0  0  0  0\n",
      "  0  3 11  2  2 10  4  2  0  1 11  2  0  0  0  3  2  9  0  0  0  0  0  1]\n",
      "Q_values : [-4.178276   1.0698524  3.5074375  1.2097098]\n",
      "state : [ 0  3  5  0  5  0  0  3  1  0 12  0  0  0  0  0  0  0  0  0  0  0  0  0\n",
      "  0  5  9  0  6  1  4  4  2  1 16  1  2  0  1  4  0  0  1  0  6  2  0  0]\n",
      "Q_values : [ 0.10297966 10.534404   13.672129    4.041966  ]\n",
      "Step #320.00 (0ms ?*RT. ?UPS, TraCI: 89ms, vehicles TOT 252 ACT 66 BUF 0)                 \r"
     ]
    },
    {
     "name": "stderr",
     "output_type": "stream",
     "text": [
      "Warning: Vehicle 'CWN.2' performs emergency braking on lane 'end4_junction_2' with decel=9.00, wished=5.00, severity=1.00, time=320.00.\n",
      "Warning: Vehicle 'CES.8' performs emergency braking on lane 'end2_junction_2' with decel=9.00, wished=5.00, severity=1.00, time=320.00.\n",
      "Warning: Vehicle 'CES.8' performs emergency stop at the end of lane 'end2_junction_2' because of a red traffic light (decel=-20.94, offset=0.04), time=320.21.\n",
      "Warning: Vehicle 'CWN.2' performs emergency stop at the end of lane 'end4_junction_2' because of a red traffic light (decel=-18.96, offset=0.00), time=320.32.\n"
     ]
    },
    {
     "name": "stdout",
     "output_type": "stream",
     "text": [
      "state : [ 0  0 13  0  1  2  0  0  2  0  7  1  0  0  0  0  0  0  0  0  0  0  0  0\n",
      "  0  0 16  0  2  3  4  0  2  0 11  1  2  2  1  3  1  1  0  2  1  0  0  0]\n",
      "Q_values : [ 0.43196726 12.630381    8.817268    7.8392076 ]\n",
      "Step #380.00 (0ms ?*RT. ?UPS, TraCI: 67ms, vehicles TOT 294 ACT 55 BUF 0)                 \r"
     ]
    },
    {
     "name": "stderr",
     "output_type": "stream",
     "text": [
      "Warning: Vehicle 'CNE.27' performs emergency braking on lane 'end1_junction_2' with decel=9.00, wished=5.00, severity=1.00, time=380.00.\n",
      "Warning: Vehicle 'CNE.27' performs emergency stop at the end of lane 'end1_junction_2' because of a red traffic light (decel=-14.68, offset=0.05), time=380.24.\n"
     ]
    },
    {
     "name": "stdout",
     "output_type": "stream",
     "text": [
      "state : [ 0  0  8  0  0  5  0  0  0  0  0  1  0  0  0  0  0  0  0  0  0  0  0  0\n",
      "  1  0 12  2  0  5  5  0  0  1  6  1  2  0  0  1  7  6  0  0  0  0  2  1]\n",
      "Q_values : [-4.712227    0.8291507   0.31470275  0.2773691 ]\n",
      "state : [ 0  0  0  0  0  5  0  0  0  0  5  1  0  0  0  0  0  0  0  0  0  0  0  0\n",
      "  0  0  4  2  2  7  4  0  0  0  9  1  0  0  0  2  1 10  0  0  0  0  0  0]\n",
      "Q_values : [-8.346777  -6.101383  -1.4034256 -3.5301738]\n",
      "state : [ 0  0  6  0  0  7  0  0  0  0  0  1  0  0  0  0  0  0  0  0  0  0  0  0\n",
      "  2  2 11  1  1  9  5  2  2  2  4  3  0  0  0  1  3  1  0  0  0  0  1  0]\n",
      "Q_values : [-11.074348   -7.614407   -2.7985764  -3.8089435]\n",
      "Step #500.00 (0ms ?*RT. ?UPS, TraCI: 68ms, vehicles TOT 384 ACT 57 BUF 0)                 \r"
     ]
    },
    {
     "name": "stderr",
     "output_type": "stream",
     "text": [
      "Warning: Vehicle 'CEW.13' performs emergency braking on lane 'end2_junction_1' with decel=9.00, wished=5.00, severity=1.00, time=500.00.\n",
      "Warning: Vehicle 'CEW.13' performs emergency stop at the end of lane 'end2_junction_1' because of a red traffic light (decel=-19.37, offset=0.01), time=500.69.\n"
     ]
    },
    {
     "name": "stdout",
     "output_type": "stream",
     "text": [
      "Step #520.00 (1ms ~= 10.00*RT, ~64000.00UPS, TraCI: 68ms, vehicles TOT 402 ACT 64 BUF 0)  \r"
     ]
    },
    {
     "name": "stderr",
     "output_type": "stream",
     "text": [
      "Warning: Vehicle 'CNE.38' performs emergency braking on lane 'end1_junction_2' with decel=9.00, wished=5.00, severity=1.00, time=520.00.\n",
      "Warning: Vehicle 'CNE.38' performs emergency stop at the end of lane 'end1_junction_2' because of a red traffic light (decel=-12.71, offset=0.02), time=520.45.\n"
     ]
    },
    {
     "name": "stdout",
     "output_type": "stream",
     "text": [
      "state : [ 0  0  9  0  2 12  0  0  0  0  6  3  0  0  0  0  0  0  0  0  0  0  0  0\n",
      "  0  0 13  0  3 13  4  0  0  0 10  3  2  1  0  4  0  2  0  1  0  0  0  0]\n",
      "Q_values : [ 1.9793024  7.434373  11.584238   9.383638 ]\n",
      "state : [ 0  2 14  0  0  9  0  2  4  0  0  4  0  0  0  0  0  0  0  0  0  0  0  0\n",
      "  1  3 14  6  3 12  2  2  4  1  1  4  2  0  0  3  6  4  2  0  0  2  4  1]\n",
      "Q_values : [ 2.2747416 11.811658  11.512612  11.740121 ]\n",
      "Step #660.00 (1ms ~= 10.00*RT, ~64000.00UPS, TraCI: 68ms, vehicles TOT 517 ACT 64 BUF 5)  \r"
     ]
    },
    {
     "name": "stderr",
     "output_type": "stream",
     "text": [
      "Warning: Vehicle 'CNE.49' performs emergency braking on lane 'end1_junction_2' with decel=9.00, wished=5.00, severity=1.00, time=660.00.\n",
      "Warning: Vehicle 'CNE.49' performs emergency stop at the end of lane 'end1_junction_2' because of a red traffic light (decel=-13.85, offset=0.02), time=660.33.\n"
     ]
    },
    {
     "name": "stdout",
     "output_type": "stream",
     "text": [
      "Step #680.00 (0ms ?*RT. ?UPS, TraCI: 68ms, vehicles TOT 533 ACT 62 BUF 1)                 \r"
     ]
    },
    {
     "name": "stderr",
     "output_type": "stream",
     "text": [
      "Warning: Vehicle 'CESR.2' performs emergency braking on lane 'end2_junction_2' with decel=9.00, wished=5.00, severity=1.00, time=680.00.\n",
      "Warning: Vehicle 'CESR.2' performs emergency stop at the end of lane 'end2_junction_2' because of a red traffic light (decel=-13.18, offset=0.04), time=680.37.\n"
     ]
    },
    {
     "name": "stdout",
     "output_type": "stream",
     "text": [
      "state : [ 0  2  1  0  0 14  0  2  0  0  0  0  0  0  0  0  0  0  0  0  0  0  0  0\n",
      "  0  2  2  5  4 19  0  2  0  0  0  0  4  0  0  2  2  0  0  0  0  0  3  2]\n",
      "Q_values : [-0.21347666  3.8184917   1.3785189  15.303379  ]\n",
      "Step #781.00 (0ms ?*RT. ?UPS, TraCI: 0ms, vehicles TOT 610 ACT 64 BUF 8)                  \r"
     ]
    },
    {
     "name": "stderr",
     "output_type": "stream",
     "text": [
      "Warning: Vehicle 'CEWR.12' performs emergency braking on lane 'end2_junction_1' with decel=9.00, wished=5.00, severity=1.00, time=780.00.\n",
      "Warning: Vehicle 'CEWR.12' performs emergency stop at the end of lane 'end2_junction_1' because of a red traffic light (decel=-14.03, offset=0.01), time=781.28.\n"
     ]
    },
    {
     "name": "stdout",
     "output_type": "stream",
     "text": [
      "state : [ 0  0  2  0  6 17  0  0  0  0  2  2  0  0  0  0  0  0  0  0  0  0  0  0\n",
      "  1  1  2  7 10 20  2  0  0  1  3  2  2  2  2  2  0  0  0  2  1  0  0  0]\n",
      "Q_values : [ 2.467012   6.0419083 11.633261  13.89015  ]\n",
      "Step #840.00 (0ms ?*RT. ?UPS, TraCI: 68ms, vehicles TOT 649 ACT 58 BUF 5)                 \r"
     ]
    },
    {
     "name": "stderr",
     "output_type": "stream",
     "text": [
      "Warning: Vehicle 'CESR.13' performs emergency braking on lane 'end2_junction_2' with decel=9.00, wished=5.00, severity=1.00, time=840.00.\n",
      "Warning: Vehicle 'CESR.13' performs emergency stop at the end of lane 'end2_junction_2' because of a red traffic light (decel=-11.86, offset=0.02), time=840.52.\n"
     ]
    },
    {
     "name": "stdout",
     "output_type": "stream",
     "text": [
      "state : [ 0  0  6  0 20  0  0  0  0  0  6  0  0  0  0  0  0  0  0  0  0  0  0  0\n",
      "  3  1  8  5 24  4  2  2  2  3  7  2  4  0  0  2  0  0  0  0 11  0  0  0]\n",
      "Q_values : [-0.7239008  5.486698  11.229296   3.476913 ]\n",
      "Step #943.00 (1ms ~= 10.00*RT, ~65000.00UPS, TraCI: 0ms, vehicles TOT 731 ACT 65 BUF 1)   \r"
     ]
    },
    {
     "name": "stderr",
     "output_type": "stream",
     "text": [
      "Warning: Vehicle 'CESR.26' performs emergency braking on lane 'end2_junction_2' with decel=9.00, wished=5.00, severity=1.00, time=943.91.\n"
     ]
    },
    {
     "name": "stdout",
     "output_type": "stream",
     "text": [
      "state : [ 0  2  0  0 18  2  0  2  0  0  2  0  0  0  0  0  0  0  0  0  0  0  0  0\n",
      "  0  2  0  5 22  7  0  2  0  0  2  0  4  0  0  2  0  9  0  0  0  0  0  1]\n",
      "Q_values : [-9.8009109e-03  2.2858982e+00  1.5859955e+01  5.5261931e+00]\n",
      "state : [ 0  2  0  0 10 10  0  2  0  0  1  0  0  0  0  0  0  0  0  0  0  0  0  0\n",
      "  1  3  0  7 16 13  2  2  0  1  2  0  4  0  0  2  0  1  0  0  0  0  1  0]\n",
      "Q_values : [-3.8742418 -1.1180208  7.0604973  2.167655 ]\n",
      "state : [ 0  2  0  0  0 13  0  2  0  0  0  0  0  0  0  0  0  0  0  0  0  0  0  0\n",
      "  0  2  2  5  8 17  2  2  0  0  1  0  4  0  0  0  2  0  0  0  0  0  6  4]\n",
      "Q_values : [-8.364016   -5.7137213  -0.00883484  5.9472356 ]\n",
      "Step #1020.00 (0ms ?*RT. ?UPS, TraCI: 90ms, vehicles TOT 781 ACT 58 BUF 5)                \r"
     ]
    },
    {
     "name": "stderr",
     "output_type": "stream",
     "text": [
      "Warning: Vehicle 'CWER.11' performs emergency braking on lane 'end4_junction_1' with decel=9.00, wished=5.00, severity=1.00, time=1020.00.\n",
      "Warning: Vehicle 'CWER.11' performs emergency stop at the end of lane 'end4_junction_1' because of a red traffic light (decel=-30.27, offset=0.12), time=1020.96.\n"
     ]
    },
    {
     "name": "stdout",
     "output_type": "stream",
     "text": [
      "Step #1060.00 (0ms ?*RT. ?UPS, TraCI: 68ms, vehicles TOT 818 ACT 64 BUF 4)                \r"
     ]
    },
    {
     "name": "stderr",
     "output_type": "stream",
     "text": [
      "Warning: Vehicle 'ANSR.3' performs emergency stop at the end of lane 'end1_junction_1' because of a red traffic light (decel=-16.81, offset=0.06), time=1060.97.\n"
     ]
    },
    {
     "name": "stdout",
     "output_type": "stream",
     "text": [
      "state : [ 0  0  6  0  5 15  0  0  2  0  1  2  0  0  0  0  0  0  0  0  0  0  0  0\n",
      "  0  0  6  5  9 20  0  0  2  0  2  2  3  0  0  2  0  0  0  1  0  0  1  0]\n",
      "Q_values : [ 1.8555388  4.6502843  6.211054  18.673496 ]\n",
      "Step #1121.00 (0ms ?*RT. ?UPS, TraCI: 0ms, vehicles TOT 862 ACT 62 BUF 2)                 \r"
     ]
    },
    {
     "name": "stderr",
     "output_type": "stream",
     "text": [
      "Warning: Vehicle 'CESR.37' performs emergency braking on lane 'end2_junction_2' with decel=9.00, wished=5.00, severity=1.00, time=1121.31.\n"
     ]
    },
    {
     "name": "stdout",
     "output_type": "stream",
     "text": [
      "state : [ 0  0  0  0 19 18  0  0  0  0  6  0  0  0  0  0  0  0  0  0  0  0  0  0\n",
      "  2  1  0  7 22 21  2  1  0  2  7  0  4  0  0  2  0  1  0  0  0  0  0  0]\n",
      "Q_values : [ 1.9288802   0.20317483 17.40855    23.00576   ]\n",
      "Step #1221.00 (1ms ~= 10.00*RT, ~70000.00UPS, TraCI: 0ms, vehicles TOT 924 ACT 70 BUF 0)  \r"
     ]
    },
    {
     "name": "stderr",
     "output_type": "stream",
     "text": [
      "Warning: Vehicle 'CESR.48' performs emergency braking on lane 'end2_junction_2' with decel=9.00, wished=5.00, severity=1.00, time=1220.00.\n",
      "Warning: Vehicle 'CESR.48' performs emergency braking on lane 'end2_junction_2' with decel=9.00, wished=5.00, severity=1.00, time=1221.06.\n"
     ]
    },
    {
     "name": "stdout",
     "output_type": "stream",
     "text": [
      "episode : 24\n",
      "Step #1300.00 (1ms ~= 10.00*RT, ~22000.00UPS, TraCI: 0ms, vehicles TOT 924 ACT 22 BUF 0)  \n",
      " Retrying in 1 seconds\n"
     ]
    },
    {
     "name": "stderr",
     "output_type": "stream",
     "text": [
      "Warning: Environment variable SUMO_HOME is not set properly, disabling XML validation. Set 'auto' or 'always' for web lookups.\n"
     ]
    },
    {
     "name": "stdout",
     "output_type": "stream",
     "text": [
      "state : [0 0 0 0 0 0 0 0 0 0 0 0 0 0 0 0 0 0 0 0 0 0 0 0 0 0 0 0 0 0 0 0 0 0 0 0 0\n",
      " 0 0 0 0 0 0 0 0 0 0 0]\n",
      "Q_values : [-7.8875628 -4.648267  -4.10853   -5.0549393]\n",
      "state : [0 2 2 0 0 2 0 2 2 0 0 2 0 0 0 0 0 0 0 0 0 0 0 0 1 2 7 2 0 2 5 2 2 1 3 2 2\n",
      " 0 0 2 2 0 2 0 0 1 2 0]\n",
      "Q_values : [-5.408299   -0.15630245  0.6924782  -1.8413703 ]\n",
      "state : [ 0  2  0  0  2  4  0  2  0  0  6  2  0  0  0  0  0  0  0  0  0  0  0  0\n",
      "  1  2  3  1  4  6  6  2  0  1 10  2  0  0  0  3  0  4  0  0  0  0  0  0]\n",
      "Q_values : [-2.9144304  2.0336077  6.993721   2.0545828]\n",
      "state : [0 2 2 0 0 6 0 2 0 0 0 2 0 0 0 0 0 0 0 0 0 0 0 0 0 2 6 2 3 7 4 2 0 0 3 2 2\n",
      " 0 0 4 6 5 0 0 0 0 2 1]\n",
      "Q_values : [-2.8955905   3.2389119   0.62686926  5.199347  ]\n",
      "state : [0 2 6 0 1 0 0 2 0 0 2 0 0 0 0 0 0 0 0 0 0 0 0 0 0 3 9 0 2 1 4 2 0 1 6 0 2\n",
      " 0 1 3 0 1 0 0 6 0 0 0]\n",
      "Q_values : [-3.6282613  6.999131   3.5671167 -3.1774638]\n",
      "Step #141.00 (0ms ?*RT. ?UPS, TraCI: 0ms, vehicles TOT 108 ACT 41 BUF 0)                  \r"
     ]
    },
    {
     "name": "stderr",
     "output_type": "stream",
     "text": [
      "Warning: Vehicle 'CES.3' performs emergency braking on lane 'end2_junction_2' with decel=9.00, wished=5.00, severity=1.00, time=140.00.\n",
      "Warning: Vehicle 'CES.3' performs emergency stop at the end of lane 'end2_junction_2' because of a red traffic light (decel=-13.23, offset=0.04), time=141.19.\n"
     ]
    },
    {
     "name": "stdout",
     "output_type": "stream",
     "text": [
      "state : [ 0  3  1  0  3  0  0  3  1  0  9  0  0  0  0  0  0  0  0  0  0  0  0  0\n",
      "  0  4  6  0  4  0  4  4  2  0 13  0  2  0  2  4  0  1  2  0  3  2  0  0]\n",
      "Q_values : [-1.6353028   6.712776    8.260967    0.59296995]\n",
      "state : [ 0  0  2  0  2  2  0  0  0  0  7  0  0  0  0  0  0  0  0  0  0  0  0  0\n",
      "  0  0  6  2  4  4  4  0  0  0 11  0  0  2  1  4  0  1  0  2  1  0  0  0]\n",
      "Q_values : [-5.5274963   0.48295784  2.5800843  -2.5776668 ]\n",
      "state : [0 0 6 0 0 4 0 0 0 0 0 0 0 0 0 0 0 0 0 0 0 0 0 0 0 1 9 4 1 4 4 0 0 1 3 0 2\n",
      " 0 0 3 6 5 0 0 0 0 2 1]\n",
      "Q_values : [-4.0065713  1.9660416 -0.9405768  0.6706847]\n",
      "Step #261.00 (0ms ?*RT. ?UPS, TraCI: 0ms, vehicles TOT 204 ACT 48 BUF 0)                  \r"
     ]
    },
    {
     "name": "stderr",
     "output_type": "stream",
     "text": [
      "Warning: Vehicle 'AWE.20' performs emergency stop at the end of lane 'end4_junction_1' because of a red traffic light (decel=-17.86, offset=0.07), time=261.53.\n"
     ]
    },
    {
     "name": "stdout",
     "output_type": "stream",
     "text": [
      "state : [0 0 2 0 0 6 0 0 0 0 0 0 0 0 0 0 0 0 0 0 0 0 0 0 2 3 5 2 3 7 5 2 1 3 3 1 2\n",
      " 0 0 4 4 4 0 0 0 0 1 0]\n",
      "Q_values : [-7.2301908 -3.7377555 -2.279698  -4.65952  ]\n",
      "state : [0 1 5 0 0 7 0 1 1 0 0 1 0 0 0 0 0 0 0 0 0 0 0 0 0 3 9 0 1 8 4 2 2 1 3 2 2\n",
      " 0 0 3 2 0 2 0 0 2 1 0]\n",
      "Q_values : [-4.5434923  -0.22470713 -0.2596413   1.0162703 ]\n",
      "Step #320.00 (0ms ?*RT. ?UPS, TraCI: 100ms, vehicles TOT 252 ACT 48 BUF 0)                \r"
     ]
    },
    {
     "name": "stderr",
     "output_type": "stream",
     "text": [
      "Warning: Vehicle 'CEW.8' performs emergency braking on lane 'end2_junction_1' with decel=9.00, wished=5.00, severity=1.00, time=320.00.\n",
      "Warning: Vehicle 'CEW.8' performs emergency stop at the end of lane 'end2_junction_1' because of a red traffic light (decel=-24.12, offset=0.01), time=320.16.\n"
     ]
    },
    {
     "name": "stdout",
     "output_type": "stream",
     "text": [
      "Step #360.00 (0ms ?*RT. ?UPS, TraCI: 69ms, vehicles TOT 280 ACT 49 BUF 8)                 \r"
     ]
    },
    {
     "name": "stderr",
     "output_type": "stream",
     "text": [
      "Warning: Vehicle 'CNE.27' performs emergency braking on lane 'end1_junction_2' with decel=9.00, wished=5.00, severity=1.00, time=360.00.\n",
      "Warning: Vehicle 'CNE.27' performs emergency stop at the end of lane 'end1_junction_2' because of a red traffic light (decel=-14.51, offset=0.01), time=360.26.\n"
     ]
    },
    {
     "name": "stdout",
     "output_type": "stream",
     "text": [
      "state : [ 0  2  0  0  2  4  0  2  0  0 11  0  0  0  0  0  0  0  0  0  0  0  0  0\n",
      "  2  4  5  1  4  6  5  4  2  3 15  2  0  0  0  2  0  1  0  0  0  0  0  0]\n",
      "Q_values : [-6.1103234  -2.9046228  -0.27016628 -2.3591347 ]\n",
      "state : [ 0  4  0  0  4  2  0  4  0  0 16  0  0  0  0  0  0  0  0  0  0  0  0  0\n",
      "  0  5  3  2  6  4  4  4  0  1 19  0  0  0  0  4  0  9  0  0  0  0  0  0]\n",
      "Q_values : [-0.49071932  9.093245   16.731195    5.5993285 ]\n",
      "state : [ 0  4  3  0  0  4  0  4  0  0  0  0  0  0  0  0  0  0  0  0  0  0  0  0\n",
      "  2  4  6  2  0  4  5  4  0  2 10  0  2  0  0  2  7  4  0  0  0  0  3  2]\n",
      "Q_values : [-5.0598936  3.0813046  0.5141064 -0.811583 ]\n",
      "state : [ 0  4  0  0  0  4  0  4  0  0 10  0  0  0  0  0  0  0  0  0  0  0  0  0\n",
      "  2  6  4  2  2  6  4  6  2  2 14  2  0  0  0  3  1  6  0  0  0  0  0  0]\n",
      "Q_values : [-5.170326   -1.9867795   1.1694812  -0.70596457]\n",
      "state : [0 6 3 0 0 6 0 3 2 0 0 2 0 0 0 0 0 0 0 0 0 0 0 0 2 8 6 5 3 9 2 7 4 2 4 4 2        \n",
      " 1 0 3 7 3 2 0 0 1 1 1]\n",
      "Q_values : [-5.1874795   0.3610382  -0.24495232  0.5057539 ]\n",
      "Step #620.00 (1ms ~= 10.00*RT, ~79000.00UPS, TraCI: 92ms, vehicles TOT 491 ACT 79 BUF 1)  \r"
     ]
    },
    {
     "name": "stderr",
     "output_type": "stream",
     "text": [
      "Warning: Teleporting vehicle 'ASN.2'; waited too long (yield), lane='end3_junction_1', time=619.32.\n",
      "Warning: Vehicle 'ASN.2' ends teleporting on edge 'junction_end1', time=619.32.\n",
      "Warning: Teleporting vehicle 'CNS.2'; waited too long (yield), lane='end1_junction_1', time=620.49.\n",
      "Warning: Vehicle 'CNS.2' ends teleporting on edge 'junction_end3', time=620.49.\n",
      "Warning: Vehicle 'AWE.49' performs emergency stop at the end of lane 'end4_junction_1' because of a red traffic light (decel=-14.52, offset=0.02), time=620.59.\n"
     ]
    },
    {
     "name": "stdout",
     "output_type": "stream",
     "text": [
      "Step #644.00 (0ms ?*RT. ?UPS, TraCI: 0ms, vehicles TOT 509 ACT 71 BUF 1)                  \r"
     ]
    },
    {
     "name": "stderr",
     "output_type": "stream",
     "text": [
      "Warning: Vehicle 'CESR.1' performs emergency braking on lane 'end2_junction_2' with decel=9.00, wished=5.00, severity=1.00, time=644.16.\n"
     ]
    },
    {
     "name": "stdout",
     "output_type": "stream",
     "text": [
      "state : [ 0  7  0  0  8  6  0  7  0  0  6  0  0  0  0  0  0  0  0  0  0  0  0  0\n",
      "  0  7  2  5 13 10  2  7  0  1  7  0  3  0  0  2  0  1  0  0  0  0  0  0]\n",
      "Q_values : [ 0.33825827  4.256359   15.823491    6.4541116 ]\n",
      "state : [ 0  0  4  0  6  0  0  0  0  0  1  0  0  0  0  0  0  0  0  0  0  0  0  0\n",
      "  0  0  4  5 10 10  0  0  0  0  2  0  3  0  0  2  0  0  0  0  9  0  0  0]\n",
      "Q_values : [-5.615457    0.72615314  1.1687608  -2.364051  ]\n",
      "state : [ 0  0  4  0  0  9  0  0  0  0  0  0  0  0  0  0  0  0  0  0  0  0  0  0\n",
      "  2  2  6  7  3 12  2  2  2  2  2  2  4  0  0  0  1  0  0  0  3  0  6  3]\n",
      "Q_values : [-5.9203243  -2.089055    0.5333209  -0.77255684]\n",
      "state : [ 0  1  6  0  0 12  0  2  1  0  0  2  0  0  0  0  0  0  0  0  0  0  0  0\n",
      "  1  2  6  5  4 16  0  2  2  0  0  2  4  0  0  2  2  0  1  0  0  1  3  0]\n",
      "Q_values : [-0.9006939  5.2902107  0.5318424 10.678842 ]\n",
      "Step #781.00 (0ms ?*RT. ?UPS, TraCI: 0ms, vehicles TOT 610 ACT 58 BUF 8)                  \r"
     ]
    },
    {
     "name": "stderr",
     "output_type": "stream",
     "text": [
      "Warning: Vehicle 'CEWR.12' performs emergency braking on lane 'end2_junction_1' with decel=9.00, wished=5.00, severity=1.00, time=780.00.\n",
      "Warning: Vehicle 'CEWR.12' performs emergency stop at the end of lane 'end2_junction_1' because of a red traffic light (decel=-10.87, offset=0.01), time=781.63.\n"
     ]
    },
    {
     "name": "stdout",
     "output_type": "stream",
     "text": [
      "Step #823.00 (0ms ?*RT. ?UPS, TraCI: 0ms, vehicles TOT 641 ACT 57 BUF 1)                  \r"
     ]
    },
    {
     "name": "stderr",
     "output_type": "stream",
     "text": [
      "Warning: Vehicle 'CESR.16' performs emergency braking on lane 'end2_junction_2' with decel=9.00, wished=5.00, severity=1.00, time=823.83.\n"
     ]
    },
    {
     "name": "stdout",
     "output_type": "stream",
     "text": [
      "state : [ 0  0 10  0 13  0  0  0  2  0  4  0  0  0  0  0  0  0  0  0  0  0  0  0\n",
      "  0  1 11  5 18  3  2  0  2  1  5  0  3  0  0  2  0  0  0  0  6  0  0  0]\n",
      "Q_values : [ 2.6227183 11.111906  12.732279   3.7482357]\n",
      "Step #960.00 (0ms ?*RT. ?UPS, TraCI: 67ms, vehicles TOT 742 ACT 81 BUF 8)                 \r"
     ]
    },
    {
     "name": "stderr",
     "output_type": "stream",
     "text": [
      "Warning: Vehicle 'CESR.25' performs emergency braking on lane 'end2_junction_2' with decel=9.00, wished=5.00, severity=1.00, time=960.00.\n",
      "Warning: Vehicle 'CESR.25' performs emergency stop at the end of lane 'end2_junction_2' because of a red traffic light (decel=-13.41, offset=0.04), time=960.36.\n"
     ]
    },
    {
     "name": "stdout",
     "output_type": "stream",
     "text": [
      "Step #999.00 (0ms ?*RT. ?UPS, TraCI: 0ms, vehicles TOT 770 ACT 89 BUF 4)                  \r"
     ]
    },
    {
     "name": "stderr",
     "output_type": "stream",
     "text": [
      "Warning: Teleporting vehicle 'ANER.2'; waited too long (yield), lane='end1_junction_2', time=999.38.\n",
      "Warning: Vehicle 'ANER.2' ends teleporting on edge 'junction_end2', time=999.38.\n"
     ]
    },
    {
     "name": "stdout",
     "output_type": "stream",
     "text": [
      "state : [ 0  0 12  0 10 15  0  0  4  0  0  0  0  0  0  0  0  0  0  0  0  0  0  0\n",
      "  0  0 19  5 20 19  2  0  4  0  2  0  4  0  0  0  0  0  0  0  0  0  1  0]\n",
      "Q_values : [-1.8303049  8.216742   9.709521   4.772321 ]\n",
      "state : [ 0  0 19  0  0 18  0  0  4  0  0  0  0  0  0  0  0  0  0  0  0  0  0  0\n",
      "  3  2 20  6 11 23  4  2  4  3  1  2  3  0  0  1  2  0  0  0  0  0  6  4]\n",
      "Q_values : [-2.7412887  9.663425   4.874267   7.2237153]\n",
      "state : [ 0  0 12  0 17 10  0  0  1  0  3  0  0  0  0  0  0  0  0  0  0  0  0  0\n",
      "  0  0 12  6 21 22  0  0  1  0  4  0  2  1  1  2  0  0  0  1  4  0  0  0]\n",
      "Q_values : [ 3.3438249 11.217756  22.27197   18.284971 ]\n",
      "state : [ 0  0  0  0  6 31  0  0  0  0  2  0  0  0  0  0  0  0  0  0  0  0  0  0\n",
      "  2  1  0  7 10 34  2  1  0  2  3  0  3  0  0  2  0  7  0  0  0  0  0  0]\n",
      "Q_values : [ 0.23532772  5.550171   10.005576   19.907064  ]\n",
      "state : [ 0  0  0  0  9  5  0  0  0  0  2  0  0  0  0  0  0  0  0  0  0  0  0  0\n",
      "  2  2  2  5 14 27  2  2  2  2  4  1  4  0  0  0  0  0  0  0  8  0  0  0]\n",
      "Q_values : [-11.976848   -8.9628     -3.3861876  -3.7629497]\n",
      "Step #1204.00 (0ms ?*RT. ?UPS, TraCI: 0ms, vehicles TOT 924 ACT 80 BUF 0)                 \r"
     ]
    },
    {
     "name": "stderr",
     "output_type": "stream",
     "text": [
      "Warning: Vehicle 'CESR.36' performs emergency braking on lane 'end2_junction_2' with decel=9.00, wished=5.00, severity=1.00, time=1201.25.\n",
      "Warning: Vehicle 'CWNR.4' performs emergency braking on lane 'end4_junction_2' with decel=9.00, wished=5.00, severity=1.00, time=1204.12.\n"
     ]
    },
    {
     "name": "stdout",
     "output_type": "stream",
     "text": [
      "state : [ 0  2  2  0  0 11  0  2  2  0  0  1  0  0  0  0  0  0  0  0  0  0  0  0\n",
      "  0  2  2  1  3 27  0  2  2  0  0  1  3  0  0  1  3  1  2  0  2  2  6  4]\n",
      "Q_values : [-3.005859  -1.2633072  1.0864171 10.969058 ]\n",
      "episode : 250 (0ms ?*RT. ?UPS, TraCI: 0ms, vehicles TOT 924 ACT 22 BUF 0)                 \n",
      "Step #1300.00 (0ms ?*RT. ?UPS, TraCI: 1ms, vehicles TOT 924 ACT 14 BUF 0)                 \n",
      " Retrying in 1 seconds\n"
     ]
    },
    {
     "name": "stderr",
     "output_type": "stream",
     "text": [
      "Warning: Vehicle 'CESR.47' performs emergency braking on lane 'end2_junction_2' with decel=9.00, wished=5.00, severity=1.00, time=1280.00.\n",
      "Warning: Vehicle 'CESR.47' performs emergency braking on lane 'end2_junction_2' with decel=9.00, wished=5.00, severity=1.00, time=1281.28.\n",
      "Warning: Environment variable SUMO_HOME is not set properly, disabling XML validation. Set 'auto' or 'always' for web lookups.\n"
     ]
    },
    {
     "name": "stdout",
     "output_type": "stream",
     "text": [
      "state : [ 0  0  0  0  2  4  0  0  0  0 11  0  0  0  0  0  0  0  0  0  0  0  0  0\n",
      "  3  2  6  2  5  5  5  3  1  3 16  1  0  0  0  3  0  9  0  0  0  0  0  0]\n",
      "Q_values : [-9.190458  -7.3946605 -4.8914742 -4.1503787]\n",
      "Step #160.00 (1ms ~= 10.00*RT, ~66000.00UPS, TraCI: 89ms, vehicles TOT 138 ACT 66 BUF 0)  \r"
     ]
    },
    {
     "name": "stderr",
     "output_type": "stream",
     "text": [
      "Warning: Vehicle 'CNE.10' performs emergency braking on lane 'end1_junction_2' with decel=9.00, wished=5.00, severity=1.00, time=160.00.\n",
      "Warning: Vehicle 'CNE.10' performs emergency stop at the end of lane 'end1_junction_2' because of a red traffic light (decel=-14.30, offset=0.03), time=160.27.\n"
     ]
    },
    {
     "name": "stdout",
     "output_type": "stream",
     "text": [
      "state : [ 0  0 13  0  2  0  0  0  0  0 20  0  0  0  0  0  0  0  0  0  0  0  0  0\n",
      "  1  0 17  1  4  2  5  0  0  1 24  0  0  0  0  2  0  0  0  0  0  0  0  0]\n",
      "Q_values : [-1.8473554  6.318122  11.152742   3.6564164]\n",
      "state : [ 0  0 19  0  0  3  0  1  1  0  0  1  0  0  0  0  0  0  0  0  0  0  0  0\n",
      "  0  3 23  0  0  4  4  2  2  1  5  2  2  0  0  4  6  5  1  0  0  1  1  0]\n",
      "Q_values : [-4.06373     5.9507065  -0.72485185 -0.03761176]\n",
      "Step #320.00 (1ms ~= 10.00*RT, ~70000.00UPS, TraCI: 88ms, vehicles TOT 252 ACT 70 BUF 0)  \r"
     ]
    },
    {
     "name": "stderr",
     "output_type": "stream",
     "text": [
      "Warning: Vehicle 'AWE.24' performs emergency stop at the end of lane 'end4_junction_1' because of a red traffic light (decel=-23.16, offset=0.12), time=320.11.\n"
     ]
    },
    {
     "name": "stdout",
     "output_type": "stream",
     "text": [
      "Step #341.00 (0ms ?*RT. ?UPS, TraCI: 0ms, vehicles TOT 270 ACT 63 BUF 0)                  \r"
     ]
    },
    {
     "name": "stderr",
     "output_type": "stream",
     "text": [
      "Warning: Vehicle 'CNE.20' performs emergency braking on lane 'end1_junction_2' with decel=9.00, wished=5.00, severity=1.00, time=340.00.\n",
      "Warning: Vehicle 'CNE.20' performs emergency braking on lane 'end1_junction_2' with decel=9.00, wished=5.00, severity=1.00, time=341.24.\n"
     ]
    },
    {
     "name": "stdout",
     "output_type": "stream",
     "text": [
      "state : [ 0  0 20  0  0  4  0  0  0  0  0  0  0  0  0  0  0  0  0  0  0  0  0  0\n",
      "  3  2 25  1  1  6  5  2  2  2  4  2  0  0  0  2  8  5  0  0  0  0  1  0]\n",
      "Q_values : [-3.7623148  5.5405006 -1.3495293 -2.098843 ]\n",
      "Step #480.00 (0ms ?*RT. ?UPS, TraCI: 68ms, vehicles TOT 375 ACT 71 BUF 3)                 \r"
     ]
    },
    {
     "name": "stderr",
     "output_type": "stream",
     "text": [
      "Warning: Vehicle 'CNE.31' performs emergency braking on lane 'end1_junction_2' with decel=9.00, wished=5.00, severity=1.00, time=480.00.\n",
      "Warning: Vehicle 'CNE.31' performs emergency stop at the end of lane 'end1_junction_2' because of a red traffic light (decel=-9.90, offset=0.00), time=480.76.\n"
     ]
    },
    {
     "name": "stdout",
     "output_type": "stream",
     "text": [
      "state : [ 0  0 11  0  2  7  0  0  0  0  7  2  0  0  0  0  0  0  0  0  0  0  0  0\n",
      "  0  1 20  0  3  8  4  0  0  1 10  2  2  1  0  4  0  2  0  1  0  0  0  0]\n",
      "Q_values : [-1.3888826  6.649959   3.3469844  3.505753 ]\n",
      "Step #541.00 (0ms ?*RT. ?UPS, TraCI: 0ms, vehicles TOT 412 ACT 66 BUF 8)                  \r"
     ]
    },
    {
     "name": "stderr",
     "output_type": "stream",
     "text": [
      "Warning: Vehicle 'CNE.42' performs emergency braking on lane 'end1_junction_2' with decel=9.00, wished=5.00, severity=1.00, time=540.00.\n",
      "Warning: Vehicle 'CNE.42' performs emergency braking on lane 'end1_junction_2' with decel=9.00, wished=5.00, severity=1.00, time=541.21.\n"
     ]
    },
    {
     "name": "stdout",
     "output_type": "stream",
     "text": [
      "state : [ 0  2  3  0  0  2  0  2  2  0  0  2  0  0  0  0  0  0  0  0  0  0  0  0\n",
      "  2  4  6  6  3  4  2  4  4  2 17  4  2  0  0  3  6  7  2  0  0  2  6  3]\n",
      "Q_values : [-14.750505  -9.382631 -11.147601 -12.332555]\n",
      "state : [ 0  4  0  0  1  4  0  4  0  0 10  4  0  0  0  0  0  0  0  0  0  0  0  0\n",
      "  1  5  0  7  5  8  2  4  0  1 18  4  2  0  0  1  1  6  1  0  0  2  0  3]\n",
      "Q_values : [-1.3757572  2.3170438  9.925024   6.8143616]\n",
      "Step #660.00 (1ms ~= 10.00*RT, ~67000.00UPS, TraCI: 67ms, vehicles TOT 517 ACT 67 BUF 5)  \r"
     ]
    },
    {
     "name": "stderr",
     "output_type": "stream",
     "text": [
      "Warning: Vehicle 'CEWR.2' performs emergency braking on lane 'end2_junction_1' with decel=9.00, wished=5.00, severity=1.00, time=660.00.\n",
      "Warning: Vehicle 'CEWR.2' performs emergency stop at the end of lane 'end2_junction_1' because of a red traffic light (decel=-20.25, offset=0.10), time=660.59.\n"
     ]
    },
    {
     "name": "stdout",
     "output_type": "stream",
     "text": [
      "state : [ 0  4  0  0  6  3  0  4  0  0  8  0  0  0  0  0  0  0  0  0  0  0  0  0\n",
      "  0  4  0  7 10  7  2  4  0  0  9  0  3  0  0  0  0  2  0  0  2  0  0  0]\n",
      "Q_values : [-1.8974595  6.558384  13.134276   3.8113453]\n",
      "state : [ 0  4  0  0  0  7  0  4  0  0  0  0  0  0  0  0  0  0  0  0  0  0  0  0\n",
      "  0  4  2  5  4 11  2  4  0  0  2  0  4  0  0  2  6  4  0  0  0  0  7  3]\n",
      "Q_values : [-3.624768   3.620894   6.3047495  4.71459  ]\n",
      "state : [ 0  0  6  0  0 24  0  0  2  0  0  2  0  0  0  0  0  0  0  0  0  0  0  0\n",
      "  1  1  6  7  3 27  2  0  2  1  1  2  3  0  0  1  2  0  0  0  0  0  3  0]\n",
      "Q_values : [ 1.9483972  9.129189   8.882736  20.582703 ]\n",
      "Step #820.00 (0ms ?*RT. ?UPS, TraCI: 0ms, vehicles TOT 638 ACT 63 BUF 4)                  "
     ]
    },
    {
     "name": "stderr",
     "output_type": "stream",
     "text": [
      "Warning: Vehicle 'CENR.16' performs emergency braking on lane 'end2_junction_0' with decel=9.00, wished=5.00, severity=1.00, time=820.00.\n"
     ]
    },
    {
     "name": "stdout",
     "output_type": "stream",
     "text": [
      "state : [ 0  0  8  0  6 10  0  0  2  0  2  0  0  0  0  0  0  0  0  0  0  0  0  0\n",
      "  0  1  9  5 10 24  2  0  2  1  3  0  3  0  0  2  0  0  0  0  3  0  0  0]\n",
      "Q_values : [-2.3304389  4.3900375  4.932911   5.964719 ]\n",
      "Step #880.00 (0ms ?*RT. ?UPS, TraCI: 66ms, vehicles TOT 674 ACT 67 BUF 4)                 \r"
     ]
    },
    {
     "name": "stderr",
     "output_type": "stream",
     "text": [
      "Warning: Vehicle 'CESR.15' performs emergency braking on lane 'end2_junction_2' with decel=9.00, wished=5.00, severity=1.00, time=880.00.\n",
      "Warning: Vehicle 'CESR.15' performs emergency stop at the end of lane 'end2_junction_2' because of a red traffic light (decel=-11.35, offset=0.01), time=880.60.\n"
     ]
    },
    {
     "name": "stdout",
     "output_type": "stream",
     "text": [
      "state : [ 0  0 10  0 13 11  0  0  2  0  4  0  0  0  0  0  0  0  0  0  0  0  0  0\n",
      "  3  1 12  5 17 19  2  2  4  3  5  2  4  0  0  2  0  0  0  0  2  0  0  0]\n",
      "Q_values : [ 0.71921015  5.8351707  11.698615    8.91344   ]\n",
      "state : [ 0  0 12  0  0 18  0  1  3  0  0  1  0  0  0  0  0  0  0  0  0  0  0  0\n",
      "  2  2 12  6  8 23  1  2  4  2  0  2  3  0  0  0  3  1  0  0  0  0  7  3]\n",
      "Q_values : [ 0.750916  8.218673  8.766891 14.853842]\n",
      "state : [ 0  2 14  0 10  0  0  2  4  0  2  0  0  0  0  0  0  0  0  0  0  0  0  0\n",
      "  0  2 14  5 15  7  0  2  4  0  2  0  4  0  0  2  0  0  0  0 13  0  0  0]\n",
      "Q_values : [-0.6271968 13.66918    8.246656  -0.9343615]\n",
      "Step #961.00 (0ms ?*RT. ?UPS, TraCI: 0ms, vehicles TOT 742 ACT 74 BUF 8)                  \r"
     ]
    },
    {
     "name": "stderr",
     "output_type": "stream",
     "text": [
      "Warning: Vehicle 'CESR.26' performs emergency braking on lane 'end2_junction_2' with decel=9.00, wished=5.00, severity=1.00, time=960.00.\n",
      "Warning: Vehicle 'CESR.26' performs emergency braking on lane 'end2_junction_2' with decel=9.00, wished=5.00, severity=1.00, time=961.14.\n"
     ]
    },
    {
     "name": "stdout",
     "output_type": "stream",
     "text": [
      "Step #980.00 (1ms ~= 10.00*RT, ~68000.00UPS, TraCI: 69ms, vehicles TOT 755 ACT 68 BUF 1)  \r"
     ]
    },
    {
     "name": "stderr",
     "output_type": "stream",
     "text": [
      "Warning: Vehicle 'CNER.8' performs emergency braking on lane 'end1_junction_2' with decel=9.00, wished=5.00, severity=1.00, time=980.00.\n",
      "Warning: Vehicle 'CNER.8' performs emergency stop at the end of lane 'end1_junction_2' because of a red traffic light (decel=-14.32, offset=0.01), time=980.32.\n"
     ]
    },
    {
     "name": "stdout",
     "output_type": "stream",
     "text": [
      "state : [ 0  0  0  0 25  6  0  0  0  0  6  0  0  0  0  0  0  0  0  0  0  0  0  0\n",
      "  3  1  2  6 29 10  4  2  0  3  7  2  2  0  0  2  0  7  0  0  0  0  0  0]\n",
      "Q_values : [ 4.539365   6.5975943 22.021639  12.567711 ]\n",
      "Step #1060.00 (0ms ?*RT. ?UPS, TraCI: 68ms, vehicles TOT 818 ACT 77 BUF 4)                \r"
     ]
    },
    {
     "name": "stderr",
     "output_type": "stream",
     "text": [
      "Warning: Vehicle 'AWER.12' performs emergency stop at the end of lane 'end4_junction_1' because of a red traffic light (decel=-17.68, offset=0.01), time=1060.89.\n"
     ]
    },
    {
     "name": "stdout",
     "output_type": "stream",
     "text": [
      "state : [ 0  0  4  0  0 23  0  0  0  0  0  2  0  0  0  0  0  0  0  0  0  0  0  0\n",
      "  0  0  4  5 21 27  0  0  0  0  0  2  4  0  0  1  4  2  0  0  0  0  7  3]\n",
      "Q_values : [-6.947865  -4.003058   3.6907887  6.8508725]\n",
      "state : [ 0  0  6  0 24 10  0  0  0  0  2  0  0  0  0  0  0  0  0  0  0  0  0  0\n",
      "  2  1  6  6 28 22  2  1  0  2  3  0  4  0  0  2  0  0  0  0  3  0  0  0]\n",
      "Q_values : [ 2.7258463  4.551029  18.840353  11.4772835]\n",
      "state : [ 0  0  0  0 20 26  0  0  0  0  2  2  0  0  0  0  0  0  0  0  0  0  0  0\n",
      "  0  0  0  0 20 26  0  0  0  0  2  2  0  0  0  0  0  0  0  0  0  0  0  0]\n",
      "Q_values : [ 5.725861  8.950392 21.275835 20.167164]\n",
      "episode : 26\n",
      "Step #1300.00 (1ms ~= 10.00*RT, ~36000.00UPS, TraCI: 0ms, vehicles TOT 924 ACT 36 BUF 0)  \n",
      " Retrying in 1 seconds\n"
     ]
    },
    {
     "name": "stderr",
     "output_type": "stream",
     "text": [
      "Warning: Environment variable SUMO_HOME is not set properly, disabling XML validation. Set 'auto' or 'always' for web lookups.\n"
     ]
    },
    {
     "name": "stdout",
     "output_type": "stream",
     "text": [
      "state : [0 0 0 0 0 0 0 0 0 0 0 0 0 0 0 0 0 0 0 0 0 0 0 0 0 0 0 0 0 0 0 0 0 0 0 0 0\n",
      " 0 0 0 0 0 0 0 0 0 0 0]\n",
      "Q_values : [-6.728588  -4.100276  -3.8139894 -5.4440765]\n",
      "state : [0 2 2 0 2 0 0 2 2 0 3 0 0 0 0 0 0 0 0 0 0 0 0 0 1 2 7 2 2 0 6 2 2 1 7 0 2\n",
      " 0 2 2 0 0 2 0 2 2 0 0]\n",
      "Q_values : [-1.7544835   5.923087    7.240345   -0.89366233]\n"
     ]
    },
    {
     "name": "stderr",
     "output_type": "stream",
     "text": [
      "Warning: Vehicle 'CES.3' performs emergency braking on lane 'end2_junction_2' with decel=9.00, wished=5.00, severity=1.00, time=140.00.\n",
      "Warning: Vehicle 'CES.3' performs emergency stop at the end of lane 'end2_junction_2' because of a red traffic light (decel=-13.71, offset=0.00), time=141.12.\n"
     ]
    },
    {
     "name": "stdout",
     "output_type": "stream",
     "text": [
      "state : [ 0  0 34  0  7  2  0  0  4  0 19  0  0  0  0  0  0  0  0  0  0  0  0  0          \n",
      "  0  1 37  2  7  2  5  0  4  1 23  0  2  0  0  2  0  0  0  0  0  0  0  0]\n",
      "Q_values : [ 8.832804  25.564453  39.11439    6.4593077]\n",
      "Step #320.00 (0ms ?*RT. ?UPS, TraCI: 69ms, vehicles TOT 252 ACT 116 BUF 0)                \r"
     ]
    },
    {
     "name": "stderr",
     "output_type": "stream",
     "text": [
      "Warning: Vehicle 'CWN.2' performs emergency braking on lane 'end4_junction_2' with decel=9.00, wished=5.00, severity=1.00, time=320.00.\n",
      "Warning: Vehicle 'CES.8' performs emergency braking on lane 'end2_junction_2' with decel=9.00, wished=5.00, severity=1.00, time=320.00.\n",
      "Warning: Vehicle 'CES.8' performs emergency stop at the end of lane 'end2_junction_2' because of a red traffic light (decel=-20.90, offset=0.03), time=320.22.\n",
      "Warning: Vehicle 'CWN.2' performs emergency stop at the end of lane 'end4_junction_2' because of a red traffic light (decel=-18.85, offset=0.06), time=320.34.\n"
     ]
    },
    {
     "name": "stdout",
     "output_type": "stream",
     "text": [
      "Step #334.00 (0ms ?*RT. ?UPS, TraCI: 0ms, vehicles TOT 264 ACT 124 BUF 0)                 \r"
     ]
    },
    {
     "name": "stderr",
     "output_type": "stream",
     "text": [
      "Warning: Teleporting vehicle 'ASW.0'; waited too long (yield), lane='end3_junction_2', time=333.72.\n",
      "Warning: Vehicle 'ASW.0' ends teleporting on edge 'junction_end4', time=333.72.\n",
      "Warning: Teleporting vehicle 'ANE.0'; waited too long (yield), lane='end1_junction_2', time=334.68.\n",
      "Warning: Vehicle 'ANE.0' ends teleporting on edge 'junction_end2', time=334.68.\n"
     ]
    },
    {
     "name": "stdout",
     "output_type": "stream",
     "text": [
      "Step #420.00 (1ms ~= 10.00*RT, ~113000.00UPS, TraCI: 0ms, vehicles TOT 318 ACT 113 BUF 0) "
     ]
    },
    {
     "name": "stderr",
     "output_type": "stream",
     "text": [
      "Warning: Vehicle 'CNE.11' performs emergency braking on lane 'end1_junction_2' with decel=9.00, wished=5.00, severity=1.00, time=420.00.\n"
     ]
    },
    {
     "name": "stdout",
     "output_type": "stream",
     "text": [
      "Step #481.00 (0ms ?*RT. ?UPS, TraCI: 0ms, vehicles TOT 375 ACT 122 BUF 3)                 \r"
     ]
    },
    {
     "name": "stderr",
     "output_type": "stream",
     "text": [
      "Warning: Vehicle 'CNE.15' performs emergency braking on lane 'end1_junction_2' with decel=9.00, wished=5.00, severity=1.00, time=481.35.\n"
     ]
    },
    {
     "name": "stdout",
     "output_type": "stream",
     "text": [
      "Step #520.00 (1ms ~= 10.00*RT, ~115000.00UPS, TraCI: 71ms, vehicles TOT 402 ACT 115 BUF 0)\r"
     ]
    },
    {
     "name": "stderr",
     "output_type": "stream",
     "text": [
      "Warning: Vehicle 'CWE.30' performs emergency braking on lane 'end4_junction_1' with decel=9.00, wished=5.00, severity=1.00, time=520.00.\n",
      "Warning: Vehicle 'CWE.30' performs emergency stop at the end of lane 'end4_junction_1' because of a red traffic light (decel=-12.94, offset=0.03), time=520.90.\n"
     ]
    },
    {
     "name": "stdout",
     "output_type": "stream",
     "text": [
      "state : [ 0  0 56  0  0  0  0  0  0  0  2  0  0  0  0  0  0  0  0  0  0  0  0  0\n",
      "  0  0 60  2  2  2  4  0  0  1 19  0  0  0  0  4  8  2  0  0  0  0  1  0]\n",
      "Q_values : [ 1.7849517 24.417282   4.0499735 -3.9335537]\n",
      "state : [ 0  5 57  0  5  0  0  3  4  0 16  0  0  0  0  0  0  0  0  0  0  0  0  0\n",
      "  0  5 58  5  9  4  2  3  4  0 17  0  4  0  0  0  0  0  2  0  3  2  0  0]\n",
      "Q_values : [12.648521 44.074657 25.509314 19.347012]\n",
      "state : [ 0  4 30  0  8  3  0  3  0  0 17  0  0  0  0  0  0  0  0  0  0  0  0  0\n",
      "  0  4 50  6 13  6  2  3  0  1 18  0  3  0  0  2  0  9  0  0  0  0  0  3]\n",
      "Q_values : [ 4.43063  19.167522 16.929214  9.85994 ]\n",
      "state : [ 0  4  0  0 12  7  0  3  0  0 18  0  0  0  0  0  0  0  0  0  0  0  0  0\n",
      "  0  8 34  7 15 10  2  3  0  0 19  0  4  0  0  0  0 12  0  0  0  0  0  0]\n",
      "Q_values : [-3.9006114  0.7413945 11.782484   3.6066496]\n",
      "state : [ 0  4  6  0  6 13  0  3  0  0  9  0  0  0  0  0  0  0  0  0  0  0  0  0\n",
      "  0  4 29  5 10 18  0  3  0  0  9  0  3  0  0  2  2  8  0  0  0  0  1  0]\n",
      "Q_values : [-0.29780293  1.8786712   7.22024    10.993717  ]\n",
      "state : [ 0  0  0  0  8 29  0  0  0  0  2  2  0  0  0  0  0  0  0  0  0  0  0  0\n",
      "  3  1 15  5 13 33  2  2  2  3  3  4  4  0  0  2  0 13  0  0  0  0  0  0]\n",
      "Q_values : [ 2.8553905  1.9237566  5.7365804 18.15295  ]\n",
      "state : [ 0  2  0  0 15 10  0  2  0  0  4  0  0  0  0  0  0  0  0  0  0  0  0  0\n",
      "  0  2  6  7 19 28  2  2  0  0  6  0  4  0  0  2  0  9  2  0  3  2  0  1]\n",
      "Q_values : [ 0.51337814 -0.11519146  9.311674    9.57794   ]\n",
      "Step #940.00 (0ms ?*RT. ?UPS, TraCI: 88ms, vehicles TOT 728 ACT 96 BUF 4)                 \r"
     ]
    },
    {
     "name": "stderr",
     "output_type": "stream",
     "text": [
      "Warning: Vehicle 'ANER.7' performs emergency stop at the end of lane 'end1_junction_2' because of a red traffic light (decel=-16.99, offset=0.01), time=940.11.\n"
     ]
    },
    {
     "name": "stdout",
     "output_type": "stream",
     "text": [
      "Step #960.00 (1ms ~= 10.00*RT, ~83000.00UPS, TraCI: 0ms, vehicles TOT 738 ACT 83 BUF 0)   "
     ]
    },
    {
     "name": "stderr",
     "output_type": "stream",
     "text": [
      "Warning: Vehicle 'CESR.19' performs emergency braking on lane 'end2_junction_2' with decel=9.00, wished=5.00, severity=1.00, time=960.00.\n"
     ]
    },
    {
     "name": "stdout",
     "output_type": "stream",
     "text": [
      "state : [ 0  0  0  0 26 24  0  0  0  0  8  0  0  0  0  0  0  0  0  0  0  0  0  0\n",
      "  1  1  0  6 30 27  2  0  0  1  9  0  3  0  0  2  0  7  0  0  0  0  0  0]\n",
      "Q_values : [ 7.7488437 10.220441  34.06406   19.20299  ]\n",
      "Step #1020.00 (0ms ?*RT. ?UPS, TraCI: 71ms, vehicles TOT 781 ACT 86 BUF 5)                \r"
     ]
    },
    {
     "name": "stderr",
     "output_type": "stream",
     "text": [
      "Warning: Vehicle 'CWER.11' performs emergency braking on lane 'end4_junction_1' with decel=9.00, wished=5.00, severity=1.00, time=1020.00.\n",
      "Warning: Vehicle 'CWER.11' performs emergency stop at the end of lane 'end4_junction_1' because of a red traffic light (decel=-30.18, offset=0.12), time=1020.97.\n"
     ]
    },
    {
     "name": "stdout",
     "output_type": "stream",
     "text": [
      "state : [ 0  2  2  0 10 10  0  2  0  0  0  0  0  0  0  0  0  0  0  0  0  0  0  0\n",
      "  0  2  4  7 32 33  2  2  0  0  2  0  4  0  0  0  0  0  0  0  9  0  1  0]\n",
      "Q_values : [-11.115696   -7.494693   -1.2110296  -6.61692  ]\n",
      "Step #1160.00 (1ms ~= 10.00*RT, ~99000.00UPS, TraCI: 89ms, vehicles TOT 887 ACT 99 BUF 1) \r"
     ]
    },
    {
     "name": "stderr",
     "output_type": "stream",
     "text": [
      "Warning: Vehicle 'CESR.30' performs emergency braking on lane 'end2_junction_2' with decel=9.00, wished=5.00, severity=1.00, time=1160.00.\n",
      "Warning: Vehicle 'CESR.30' performs emergency stop at the end of lane 'end2_junction_2' because of a red traffic light (decel=-14.11, offset=0.01), time=1160.30.\n"
     ]
    },
    {
     "name": "stdout",
     "output_type": "stream",
     "text": [
      "state : [ 0  2  4  0  0 26  0  2  0  0  0  0  0  0  0  0  0  0  0  0  0  0  0  0\n",
      "  2  4  6  5 14 39  2  4  2  2  2  2  3  0  0  0  0  0  0  0  0  0  8  5]\n",
      "Q_values : [-1.551414  -2.6138463 -1.194786   8.111561 ]\n",
      "Step #1202.00 (0ms ?*RT. ?UPS, TraCI: 0ms, vehicles TOT 924 ACT 100 BUF 0)                \r"
     ]
    },
    {
     "name": "stderr",
     "output_type": "stream",
     "text": [
      "Warning: Vehicle 'CEWR.42' performs emergency braking on lane 'end2_junction_1' with decel=9.00, wished=5.00, severity=1.00, time=1202.14.\n"
     ]
    },
    {
     "name": "stdout",
     "output_type": "stream",
     "text": [
      "episode : 27\n",
      "Step #1300.00 (0ms ?*RT. ?UPS, TraCI: 0ms, vehicles TOT 924 ACT 38 BUF 0)                 \n",
      " Retrying in 1 seconds\n"
     ]
    },
    {
     "name": "stderr",
     "output_type": "stream",
     "text": [
      "Warning: Environment variable SUMO_HOME is not set properly, disabling XML validation. Set 'auto' or 'always' for web lookups.\n"
     ]
    },
    {
     "name": "stdout",
     "output_type": "stream",
     "text": [
      "state : [ 0  0  6  0  2  0  0  0  2  0  6  0  0  0  0  0  0  0  0  0  0  0  0  0\n",
      "  0  0 10  2  4  2  4  0  2  0 10  0  0  1  0  4  0  0  0  1  0  0  0  0]\n",
      "Q_values : [-4.594314   3.4561744  3.7359781 -4.9246583]\n"
     ]
    },
    {
     "name": "stderr",
     "output_type": "stream",
     "text": [
      "Warning: Vehicle 'AWE.5' performs emergency stop at the end of lane 'end4_junction_1' because of a red traffic light (decel=-35.80, offset=0.10), time=80.14.\n"
     ]
    },
    {
     "name": "stdout",
     "output_type": "stream",
     "text": [
      "state : [ 0  0 13  0  0  2  0  0  2  0  3  0  0  0  0  0  0  0  0  0  0  0  0  0          \n",
      "  1  0 17  1  2  4  5  0  2  1  7  0  0  0  0  2  1  0  0  0  0  0  0  0]\n",
      "Q_values : [-2.5638618  7.472525   2.0660276 -2.878911 ]\n",
      "Step #120.00 (0ms ?*RT. ?UPS, TraCI: 0ms, vehicles TOT 96 ACT 54 BUF 0)                   "
     ]
    },
    {
     "name": "stderr",
     "output_type": "stream",
     "text": [
      "Warning: Vehicle 'CNE.5' performs emergency braking on lane 'end1_junction_2' with decel=9.00, wished=5.00, severity=1.00, time=120.00.\n"
     ]
    },
    {
     "name": "stdout",
     "output_type": "stream",
     "text": [
      "Step #141.00 (0ms ?*RT. ?UPS, TraCI: 0ms, vehicles TOT 108 ACT 48 BUF 0)                  \r"
     ]
    },
    {
     "name": "stderr",
     "output_type": "stream",
     "text": [
      "Warning: Vehicle 'CES.3' performs emergency braking on lane 'end2_junction_2' with decel=9.00, wished=5.00, severity=1.00, time=140.00.\n",
      "Warning: Vehicle 'CES.3' performs emergency stop at the end of lane 'end2_junction_2' because of a red traffic light (decel=-13.54, offset=0.03), time=141.15.\n"
     ]
    },
    {
     "name": "stdout",
     "output_type": "stream",
     "text": [
      "state : [ 0  1  0  0  6  2  0  1  0  0 16  1  0  0  0  0  0  0  0  0  0  0  0  0\n",
      "  0  2  3  0  6  3  4  2  0  0 20  2  2  0  0  4  0  7  2  0  0  2  0  2]\n",
      "Q_values : [ 0.5198698  0.3499186 15.955162   5.1420555]\n",
      "state : [ 0  2  2  0  0  3  0  2  0  0  0  2  0  0  0  0  0  0  0  0  0  0  0  0\n",
      "  0  3  6  2  2  5  4  2  0  1 11  2  0  0  0  4  6  5  0  0  0  0  3  2]\n",
      "Q_values : [-8.454553  -5.6852207 -1.7825121 -8.024509 ]\n",
      "state : [ 0  2 13  0  2  0  0  2  0  0  2  0  0  0  0  0  0  0  0  0  0  0  0  0\n",
      "  0  3 16  4  3  0  4  2  0  1  6  0  2  0  1  4  0  0  0  0  7  0  0  0]\n",
      "Q_values : [-2.1986015  8.348629   1.565678  -4.7989016]\n",
      "state : [ 0  4  6  0  2  0  0  4  0  0  3  0  0  0  0  0  0  0  0  0  0  0  0  0\n",
      "  1  4 10  2  2  0  6  4  0  1  7  0  2  0  1  2  0  0  0  0  8  0  0  0]\n",
      "Q_values : [-1.9822137  6.0840983  4.5087605 -1.7970119]\n",
      "state : [ 0  4  0  0  2  0  0  4  0  0  6  0  0  0  0  0  0  0  0  0  0  0  0  0\n",
      "  0  4  3  2  4  2  4  4  0  0 10  0  0  0  0  4  0  9  0  0  0  0  0  0]\n",
      "Q_values : [-1.6390445  1.5085125  7.693273   1.1479872]\n",
      "Step #476.00 (0ms ?*RT. ?UPS, TraCI: 0ms, vehicles TOT 371 ACT 60 BUF 1)                  \r"
     ]
    },
    {
     "name": "stderr",
     "output_type": "stream",
     "text": [
      "Warning: Teleporting vehicle 'ASN.1'; waited too long (yield), lane='end3_junction_1', time=475.28.\n",
      "Warning: Vehicle 'ASN.1' ends teleporting on edge 'junction_end1', time=475.28.\n",
      "Warning: Teleporting vehicle 'CNS.1'; waited too long (yield), lane='end1_junction_1', time=476.23.\n",
      "Warning: Vehicle 'CNS.1' ends teleporting on edge 'junction_end3', time=476.23.\n"
     ]
    },
    {
     "name": "stdout",
     "output_type": "stream",
     "text": [
      "state : [ 0  5  0  0  2  1  0  5  0  0  7  0  0  0  0  0  0  0  0  0  0  0  0  0\n",
      "  0  6  5  0  3  2  4  5  0  1 10  0  2  0  0  4  0  9  0  0  0  0  0  2]\n",
      "Q_values : [-1.4926262  3.8823354  9.244093   1.8008659]\n",
      "state : [ 0  0 12  0  2  0  0  0  0  0  6  0  0  0  0  0  0  0  0  0  0  0  0  0\n",
      "  0  1 15  2  4  2  4  0  0  1  9  0  0  3  2  4  0  0  0  3  2  0  0  0]\n",
      "Q_values : [-3.0298789  6.929968   6.0032387 -1.7838252]\n",
      "Step #580.00 (0ms ?*RT. ?UPS, TraCI: 67ms, vehicles TOT 440 ACT 51 BUF 16)                \r"
     ]
    },
    {
     "name": "stderr",
     "output_type": "stream",
     "text": [
      "Warning: Vehicle 'CNE.44' performs emergency braking on lane 'end1_junction_2' with decel=9.00, wished=5.00, severity=1.00, time=580.00.\n",
      "Warning: Vehicle 'CNE.44' performs emergency braking on lane 'end1_junction_2' with decel=9.00, wished=5.00, severity=1.00, time=580.96.\n"
     ]
    },
    {
     "name": "stdout",
     "output_type": "stream",
     "text": [
      "state : [ 0  2  0  0  8  4  0  2  0  0 18  4  0  0  0  0  0  0  0  0  0  0  0  0\n",
      "  1  2  3  7 11  8  2  2  0  1 19  4  2  0  0  3  0  9  2  0  0  2  0  3]\n",
      "Q_values : [ 3.4659052  7.4577336 24.934267  14.893473 ]\n",
      "Step #660.00 (0ms ?*RT. ?UPS, TraCI: 68ms, vehicles TOT 517 ACT 74 BUF 5)                 \r"
     ]
    },
    {
     "name": "stderr",
     "output_type": "stream",
     "text": [
      "Warning: Vehicle 'CEWR.2' performs emergency braking on lane 'end2_junction_1' with decel=9.00, wished=5.00, severity=1.00, time=660.00.\n",
      "Warning: Vehicle 'CEWR.2' performs emergency stop at the end of lane 'end2_junction_1' because of a red traffic light (decel=-18.93, offset=0.05), time=660.68.\n"
     ]
    },
    {
     "name": "stdout",
     "output_type": "stream",
     "text": [
      "state : [ 0  0  8  0 13  0  0  0  0  0 12  0  0  0  0  0  0  0  0  0  0  0  0  0\n",
      "  0  0  8  5 18  4  0  0  0  0 12  0  3  0  0  2  0  0  0  0  9  0  0  0]\n",
      "Q_values : [-0.57777786  8.347566   11.936755    6.281192  ]\n",
      "Step #740.00 (1ms ~= 10.00*RT, ~63000.00UPS, TraCI: 88ms, vehicles TOT 569 ACT 63 BUF 1)  \r"
     ]
    },
    {
     "name": "stderr",
     "output_type": "stream",
     "text": [
      "Warning: Vehicle 'CESR.9' performs emergency braking on lane 'end2_junction_2' with decel=9.00, wished=5.00, severity=1.00, time=740.00.\n",
      "Warning: Vehicle 'CESR.9' performs emergency stop at the end of lane 'end2_junction_2' because of a red traffic light (decel=-13.10, offset=0.03), time=740.83.\n"
     ]
    },
    {
     "name": "stdout",
     "output_type": "stream",
     "text": [
      "state : [ 0  0 10  0  8  7  0  0  1  0  1  2  0  0  0  0  0  0  0  0  0  0  0  0\n",
      "  1  0 10  5 12 11  0  0  2  0  2  2  3  1  1  2  1  0  1  2  0  1  1  0]\n",
      "Q_values : [-0.48519707  5.599681   10.143202    9.206925  ]\n",
      "state : [ 0  0 10  0  0 10  0  0  2  0  0  2  0  0  0  0  0  0  0  0  0  0  0  0\n",
      "  0  0 12  5  4 15  2  0  2  0  2  2  3  0  0  0  1  0  1  0  0  2  7  3]\n",
      "Q_values : [-1.111933   4.919595   6.2693777  9.8817215]\n",
      "Step #881.00 (0ms ?*RT. ?UPS, TraCI: 0ms, vehicles TOT 676 ACT 69 BUF 2)                  \r"
     ]
    },
    {
     "name": "stderr",
     "output_type": "stream",
     "text": [
      "Warning: Vehicle 'CESR.20' performs emergency braking on lane 'end2_junction_2' with decel=9.00, wished=5.00, severity=1.00, time=880.00.\n",
      "Warning: Vehicle 'CESR.20' performs emergency braking on lane 'end2_junction_2' with decel=9.00, wished=5.00, severity=1.00, time=881.19.\n"
     ]
    },
    {
     "name": "stdout",
     "output_type": "stream",
     "text": [
      "Step #900.00 (0ms ?*RT. ?UPS, TraCI: 69ms, vehicles TOT 703 ACT 85 BUF 5)                 \r"
     ]
    },
    {
     "name": "stderr",
     "output_type": "stream",
     "text": [
      "Warning: Vehicle 'CNER.5' performs emergency braking on lane 'end1_junction_2' with decel=9.00, wished=5.00, severity=1.00, time=900.00.\n",
      "Warning: Vehicle 'CNER.5' performs emergency stop at the end of lane 'end1_junction_2' because of a red traffic light (decel=-10.36, offset=0.01), time=900.72.\n"
     ]
    },
    {
     "name": "stdout",
     "output_type": "stream",
     "text": [
      "Step #920.00 (0ms ?*RT. ?UPS, TraCI: 69ms, vehicles TOT 713 ACT 76 BUF 1)                 \r"
     ]
    },
    {
     "name": "stderr",
     "output_type": "stream",
     "text": [
      "Warning: Vehicle 'CNSR.2' performs emergency braking on lane 'end1_junction_1' with decel=9.00, wished=5.00, severity=1.00, time=920.00.\n",
      "Warning: Vehicle 'CNSR.2' performs emergency stop at the end of lane 'end1_junction_1' because of a red traffic light (decel=-25.20, offset=0.01), time=920.04.\n"
     ]
    },
    {
     "name": "stdout",
     "output_type": "stream",
     "text": [
      "Step #1204.00 (0ms ?*RT. ?UPS, TraCI: 0ms, vehicles TOT 924 ACT 77 BUF 0)                 \r"
     ]
    },
    {
     "name": "stderr",
     "output_type": "stream",
     "text": [
      "Warning: Vehicle 'CWNR.4' performs emergency braking on lane 'end4_junction_2' with decel=9.00, wished=5.00, severity=1.00, time=1204.17.\n"
     ]
    },
    {
     "name": "stdout",
     "output_type": "stream",
     "text": [
      "state : [ 0  2  0  0 23  9  0  2  0  0  4  1  0  0  0  0  0  0  0  0  0  0  0  0\n",
      "  0  2  0  1 24 11  0  2  0  0  4  1  3  0  0  2  0  3  2  0  3  2  0  2]\n",
      "Q_values : [ 9.321745   8.7753315 31.04837   15.29841  ]\n",
      "episode : 28\n",
      "Step #1300.00 (0ms ?*RT. ?UPS, TraCI: 0ms, vehicles TOT 924 ACT 12 BUF 0)                 \n",
      " Retrying in 1 seconds\n"
     ]
    },
    {
     "name": "stderr",
     "output_type": "stream",
     "text": [
      "Warning: Environment variable SUMO_HOME is not set properly, disabling XML validation. Set 'auto' or 'always' for web lookups.\n"
     ]
    },
    {
     "name": "stdout",
     "output_type": "stream",
     "text": [
      "state : [0 0 0 0 0 0 0 0 0 0 0 0 0 0 0 0 0 0 0 0 0 0 0 0 0 0 0 0 0 0 0 0 0 0 0 0 0\n",
      " 0 0 0 0 0 0 0 0 0 0 0]\n",
      "Q_values : [-6.5509953 -3.788431  -3.707816  -4.168627 ]\n",
      "state : [0 0 0 0 0 0 0 0 0 0 0 0 0 0 0 0 0 0 0 0 0 0 0 0 2 3 3 2 2 2 4 2 2 3 3 2 0\n",
      " 0 0 0 0 0 0 0 0 0 0 0]\n",
      "Q_values : [-13.737855   -8.960095   -7.801797   -7.7032356]\n",
      "state : [ 0  2 10  0  0  2  0  2  2  0  0  0  0  0  0  0  0  0  0  0  0  0  0  0\n",
      "  0  3 13  4  1  2  4  2  2  1  3  0  2  0  0  4  5  4  0  0  0  0  2  1]\n",
      "Q_values : [-6.960098   9.889396  -3.3358922  0.9176661]\n",
      "Step #80.00 (0ms ?*RT. ?UPS, TraCI: 84ms, vehicles TOT 71 ACT 53 BUF 1)                   \r"
     ]
    },
    {
     "name": "stderr",
     "output_type": "stream",
     "text": [
      "Warning: Vehicle 'AWE.5' performs emergency stop at the end of lane 'end4_junction_1' because of a red traffic light (decel=-36.12, offset=0.21), time=80.13.\n"
     ]
    },
    {
     "name": "stdout",
     "output_type": "stream",
     "text": [
      "Step #101.00 (0ms ?*RT. ?UPS, TraCI: 0ms, vehicles TOT 84 ACT 46 BUF 0)                   \r"
     ]
    },
    {
     "name": "stderr",
     "output_type": "stream",
     "text": [
      "Warning: Vehicle 'CNE.5' performs emergency braking on lane 'end1_junction_2' with decel=9.00, wished=5.00, severity=1.00, time=100.00.\n",
      "Warning: Vehicle 'CNE.5' performs emergency braking on lane 'end1_junction_2' with decel=9.00, wished=5.00, severity=1.00, time=101.21.\n"
     ]
    },
    {
     "name": "stdout",
     "output_type": "stream",
     "text": [
      "state : [ 0  0  5  0  2  4  0  0  0  0  6  0  0  0  0  0  0  0  0  0  0  0  0  0\n",
      "  0  0  9  2  5  5  4  0  0  0 10  0  1  2  0  4  0  2  0  1  0  0  0  0]\n",
      "Q_values : [-5.521802    3.646593   -0.24308586 -0.531996  ]\n",
      "state : [ 0  0  0  0  4  6  0  0  0  0 13  0  0  0  0  0  0  0  0  0  0  0  0  0\n",
      "  3  3  2  2  7  7  5  3  1  3 18  1  1  0  0  3  0  4  0  0  0  0  0  0]\n",
      "Q_values : [-4.4429398   0.82632923  5.2459755   0.7227635 ]\n",
      "state : [0 1 1 0 0 7 0 1 1 0 0 1 0 0 0 0 0 0 0 0 0 0 0 0 0 2 6 0 0 8 4 2 2 0 8 2 2\n",
      " 0 0 4 6 6 2 0 0 2 3 2]\n",
      "Q_values : [-10.979261    -5.642519    -2.0495086    0.32187694]\n",
      "Step #180.00 (1ms ~= 10.00*RT, ~66000.00UPS, TraCI: 83ms, vehicles TOT 148 ACT 66 BUF 8)  \r"
     ]
    },
    {
     "name": "stderr",
     "output_type": "stream",
     "text": [
      "Warning: Vehicle 'AWE.11' performs emergency stop at the end of lane 'end4_junction_1' because of a red traffic light (decel=-13.15, offset=0.02), time=180.72.\n"
     ]
    },
    {
     "name": "stdout",
     "output_type": "stream",
     "text": [
      "state : [ 0  0  9  0  2  2  0  0  2  0 11  0  0  0  0  0  0  0  0  0  0  0  0  0\n",
      "  1  0 13  2  2  2  5  0  2  1 15  0  1  2  0  2  0  0  0  1  0  0  0  0]\n",
      "Q_values : [-0.981256  10.629962   9.335351   2.0662131]\n",
      "state : [ 0  0  0  0  2  2  0  0  0  0 15  0  0  0  0  0  0  0  0  0  0  0  0  0\n",
      "  0  0  5  2  4  4  4  0  0  0 18  0  0  0  0  4  0  8  0  0  0  0  0  1]\n",
      "Q_values : [-3.096652    4.606739    7.2558727  -0.03780375]\n",
      "Step #241.00 (0ms ?*RT. ?UPS, TraCI: 0ms, vehicles TOT 189 ACT 55 BUF 3)                  \r"
     ]
    },
    {
     "name": "stderr",
     "output_type": "stream",
     "text": [
      "Warning: Vehicle 'CNE.17' performs emergency braking on lane 'end1_junction_2' with decel=9.00, wished=5.00, severity=1.00, time=240.00.\n",
      "Warning: Vehicle 'CNE.17' performs emergency braking on lane 'end1_junction_2' with decel=9.00, wished=5.00, severity=1.00, time=241.24.\n"
     ]
    },
    {
     "name": "stdout",
     "output_type": "stream",
     "text": [
      "state : [ 0  0  0  0  0  4  0  0  0  0  9  0  0  0  0  0  0  0  0  0  0  0  0  0\n",
      "  1  0  3  1  2  6  5  0  0  1 13  0  0  0  0  1  2  8  0  0  0  0  0  0]\n",
      "Q_values : [-5.331918   0.2839818  3.0574007 -1.619471 ]\n",
      "state : [0 0 2 0 0 6 0 0 0 0 0 0 0 0 0 0 0 0 0 0 0 0 0 0 2 3 5 2 3 7 5 2 1 3 4 1 2\n",
      " 0 0 3 7 6 0 0 0 0 1 0]\n",
      "Q_values : [-10.926387   -4.5370674  -3.6330655  -5.8537793]\n",
      "Step #320.00 (0ms ?*RT. ?UPS, TraCI: 64ms, vehicles TOT 252 ACT 50 BUF 0)                 \r"
     ]
    },
    {
     "name": "stderr",
     "output_type": "stream",
     "text": [
      "Warning: Vehicle 'CEW.8' performs emergency braking on lane 'end2_junction_1' with decel=9.00, wished=5.00, severity=1.00, time=320.00.\n",
      "Warning: Vehicle 'CEW.8' performs emergency stop at the end of lane 'end2_junction_1' because of a red traffic light (decel=-23.49, offset=0.07), time=320.23.\n"
     ]
    },
    {
     "name": "stdout",
     "output_type": "stream",
     "text": [
      "state : [ 0  2  2  0  2  0  0  2  0  0  6  0  0  0  0  0  0  0  0  0  0  0  0  0\n",
      "  0  2  6  0  3  0  4  2  0  0 10  0  2  0  1  4  0  1  0  0  8  0  0  0]\n",
      "Q_values : [-1.7188134  6.1814923  5.784772  -2.2930171]\n",
      "state : [ 0  2  0  0  5  2  0  2  0  0 17  0  0  0  0  0  0  0  0  0  0  0  0  0\n",
      "  0  2  3  2  7  4  4  2  0  0 20  0  0  0  0  4  0  3  0  0  0  0  0  0]\n",
      "Q_values : [ 2.4124594  6.4452133 16.530304   8.8859215]\n",
      "state : [ 0  2  0  0  0  4  0  2  0  0 10  0  0  0  0  0  0  0  0  0  0  0  0  0\n",
      "  2  4  5  1  2  6  5  4  2  3 15  2  0  0  0  3  0  6  0  0  0  0  0  0]\n",
      "Q_values : [-7.7889366 -5.6440516 -1.7248651 -3.4644394]\n",
      "Step #480.00 (0ms ?*RT. ?UPS, TraCI: 65ms, vehicles TOT 375 ACT 67 BUF 3)                 \r"
     ]
    },
    {
     "name": "stderr",
     "output_type": "stream",
     "text": [
      "Warning: Vehicle 'AWE.37' performs emergency stop at the end of lane 'end4_junction_1' because of a red traffic light (decel=-12.95, offset=0.01), time=480.74.\n"
     ]
    },
    {
     "name": "stdout",
     "output_type": "stream",
     "text": [
      "state : [ 0  0  3  0  2  8  0  0  0  0  9  2  0  0  0  0  0  0  0  0  0  0  0  0\n",
      "  1  0  7  2  4 10  5  0  0  1 13  2  0  2  1  2  0  0  0  2  1  0  0  0]\n",
      "Q_values : [-2.3011189  3.4680662  8.535397   3.0250673]\n",
      "Step #540.00 (0ms ?*RT. ?UPS, TraCI: 66ms, vehicles TOT 412 ACT 54 BUF 8)                 \r"
     ]
    },
    {
     "name": "stderr",
     "output_type": "stream",
     "text": [
      "Warning: Vehicle 'AWE.43' performs emergency stop at the end of lane 'end4_junction_1' because of a red traffic light (decel=-13.06, offset=0.01), time=540.73.\n"
     ]
    },
    {
     "name": "stdout",
     "output_type": "stream",
     "text": [
      "state : [ 0  0  0  0  0 12  0  0  0  0  2  2  0  0  0  0  0  0  0  0  0  0  0  0\n",
      "  2  2  4  2  2 14  4  2  2  2  6  4  0  0  0  3  0  6  0  0  0  0  0  0]\n",
      "Q_values : [-9.254354  -6.146531  -1.0623671  6.016548 ]\n",
      "Step #620.00 (0ms ?*RT. ?UPS, TraCI: 68ms, vehicles TOT 491 ACT 74 BUF 1)                 \r"
     ]
    },
    {
     "name": "stderr",
     "output_type": "stream",
     "text": [
      "Warning: Vehicle 'CES.15' performs emergency braking on lane 'end2_junction_2' with decel=9.00, wished=5.00, severity=1.00, time=620.00.\n",
      "Warning: Vehicle 'CES.15' performs emergency stop at the end of lane 'end2_junction_2' because of a red traffic light (decel=-13.18, offset=0.02), time=620.44.\n"
     ]
    },
    {
     "name": "stdout",
     "output_type": "stream",
     "text": [
      "state : [ 0  0  0  0 14 16  0  0  0  0 11  2  0  0  0  0  0  0  0  0  0  0  0  0\n",
      "  0  0  0  7 17 19  1  0  0  0 12  2  4  0  0  0  0  2  0  0  0  0  0  0]\n",
      "Q_values : [ 4.1872773  5.8503127 22.765211  18.893269 ]\n",
      "state : [ 0  0  1  0  8  0  0  0  0  0  1  0  0  0  0  0  0  0  0  0  0  0  0  0\n",
      "  0  0  2  5 12 16  0  0  0  0  2  0  3  0  1  2  1  0  0  0  9  0  1  0]\n",
      "Q_values : [-7.068179   -5.201018    0.60984516 -3.5593066 ]\n",
      "state : [ 0  0  2  0  0 10  0  0  0  0  0  0  0  0  0  0  0  0  0  0  0  0  0  0\n",
      "  2  2  4  7  3 18  2  2  2  2  2  2  4  0  0  0  1  0  0  0  3  0  7  3]\n",
      "Q_values : [-14.2421     -8.255722   -3.541415   -0.8238364]\n",
      "Step #780.00 (0ms ?*RT. ?UPS, TraCI: 0ms, vehicles TOT 606 ACT 58 BUF 0)                  "
     ]
    },
    {
     "name": "stderr",
     "output_type": "stream",
     "text": [
      "Warning: Vehicle 'CESR.9' performs emergency braking on lane 'end2_junction_2' with decel=9.00, wished=5.00, severity=1.00, time=780.00.\n"
     ]
    },
    {
     "name": "stdout",
     "output_type": "stream",
     "text": [
      "state : [ 0  0  4  0  6 10  0  0  2  0  2  0  0  0  0  0  0  0  0  0  0  0  0  0\n",
      "  0  0  6  5 10 15  2  0  2  0  4  0  2  1  1  0  0  0  2  1  3  2  0  0]\n",
      "Q_values : [-0.03198099  3.2167394   9.391418    2.430385  ]\n",
      "state : [ 0  0  6  0  0 14  0  0  2  0  0  0  0  0  0  0  0  0  0  0  0  0  0  0\n",
      "  1  1  6  7  3 17  2  0  2  1  1  0  2  0  0  2  2  1  0  0  0  0  6  3]\n",
      "Q_values : [-1.5107353  4.9203672  2.7464824  8.096675 ]\n",
      "state : [ 0  0  6  0  2  0  0  0  2  0  0  0  0  0  0  0  0  0  0  0  0  0  0  0\n",
      "  0  0  8  5  7 10  2  0  2  0  2  0  4  0  0  0  0  0  0  0  9  0  0  0]\n",
      "Q_values : [-3.7988658  1.5084302  1.810765  -6.070845 ]\n",
      "state : [ 0  0 10  0  0 16  0  0  2  0  0  0  0  0  0  0  0  0  0  0  0  0  0  0\n",
      "  3  1 12  5  4 20  2  2  4  3  1  2  4  0  0  1  0  0  0  0  0  0  3  0]\n",
      "Q_values : [-3.4006934  5.9174223 -1.3618321  6.243151 ]\n",
      "state : [ 0  0 12  0  3  0  0  1  3  0  0  0  0  0  0  0  0  0  0  0  0  0  0  0\n",
      "  2  2 12  5  7 13  1  2  4  2  2  0  3  0  2  0  0  0  0  0  9  0  0  0]\n",
      "Q_values : [-3.1338022  3.6103427  2.7469866 -4.0928416]\n",
      "Step #920.00 (0ms ?*RT. ?UPS, TraCI: 0ms, vehicles TOT 713 ACT 69 BUF 1)                  "
     ]
    },
    {
     "name": "stderr",
     "output_type": "stream",
     "text": [
      "Warning: Vehicle 'CESR.20' performs emergency braking on lane 'end2_junction_2' with decel=9.00, wished=5.00, severity=1.00, time=920.00.\n"
     ]
    },
    {
     "name": "stdout",
     "output_type": "stream",
     "text": [
      "Step #940.00 (0ms ?*RT. ?UPS, TraCI: 65ms, vehicles TOT 728 ACT 70 BUF 4)                 \r"
     ]
    },
    {
     "name": "stderr",
     "output_type": "stream",
     "text": [
      "Warning: Vehicle 'CNER.8' performs emergency braking on lane 'end1_junction_2' with decel=9.00, wished=5.00, severity=1.00, time=940.00.\n",
      "Warning: Vehicle 'CNER.8' performs emergency stop at the end of lane 'end1_junction_2' because of a red traffic light (decel=-14.42, offset=0.03), time=940.31.\n"
     ]
    },
    {
     "name": "stdout",
     "output_type": "stream",
     "text": [
      "state : [ 0  0  3  0 10  6  0  0  0  0  0  1  0  0  0  0  0  0  0  0  0  0  0  0\n",
      "  2  2  4  7 18 10  2  0  2  2  2  2  4  3  0  0  0  0  0  1  0  0  1  0]\n",
      "Q_values : [-7.160328   -5.1788387   2.205963   -0.68971837]\n",
      "Step #1060.00 (0ms ?*RT. ?UPS, TraCI: 86ms, vehicles TOT 818 ACT 62 BUF 4)                \r"
     ]
    },
    {
     "name": "stderr",
     "output_type": "stream",
     "text": [
      "Warning: Vehicle 'ANSR.3' performs emergency stop at the end of lane 'end1_junction_1' because of a red traffic light (decel=-17.18, offset=0.05), time=1060.94.\n"
     ]
    },
    {
     "name": "stdout",
     "output_type": "stream",
     "text": [
      "state : [ 0  0  0  0 13 17  0  0  0  0  2  2  0  0  0  0  0  0  0  0  0  0  0  0\n",
      "  0  0  2  7 16 20  2  0  0  0  4  2  4  0  0  1  0  5  0  0  0  0  0  1]\n",
      "Q_values : [ 3.257092   -0.76593184 15.484246   16.18107   ]\n",
      "state : [ 0  0  2  0 16  0  0  0  0  0  4  0  0  0  0  0  0  0  0  0  0  0  0  0\n",
      "  0  0  2  5 20 13  0  0  0  0  4  0  4  0  1  2  0  0  0  0  8  0  0  0]\n",
      "Q_values : [-3.5996182 -1.3821416 10.87362    3.7811804]\n",
      "Step #1141.00 (1ms ~= 10.00*RT, ~65000.00UPS, TraCI: 0ms, vehicles TOT 874 ACT 65 BUF 8)  \r"
     ]
    },
    {
     "name": "stderr",
     "output_type": "stream",
     "text": [
      "Warning: Vehicle 'CESR.38' performs emergency braking on lane 'end2_junction_2' with decel=9.00, wished=5.00, severity=1.00, time=1141.37.\n"
     ]
    },
    {
     "name": "stdout",
     "output_type": "stream",
     "text": [
      "state : [ 0  0  2  0  0 11  0  0  0  0  0  0  0  0  0  0  0  0  0  0  0  0  0  0\n",
      "  0  0  4  6 11 17  2  0  0  0  1  0  3  0  0  0  3  1  0  0  2  0  8  2]\n",
      "Q_values : [-10.312663   -6.955222   -0.8591778  -0.761484 ]\n",
      "Step #1204.00 (1ms ~= 10.00*RT, ~62000.00UPS, TraCI: 0ms, vehicles TOT 924 ACT 62 BUF 0)  \r"
     ]
    },
    {
     "name": "stderr",
     "output_type": "stream",
     "text": [
      "Warning: Vehicle 'CWNR.4' performs emergency braking on lane 'end4_junction_2' with decel=9.00, wished=5.00, severity=1.00, time=1204.16.\n"
     ]
    },
    {
     "name": "stdout",
     "output_type": "stream",
     "text": [
      "episode : 29\n",
      "Step #1300.00 (0ms ?*RT. ?UPS, TraCI: 0ms, vehicles TOT 924 ACT 11 BUF 0)                 \n",
      " Retrying in 1 seconds\n"
     ]
    },
    {
     "name": "stderr",
     "output_type": "stream",
     "text": [
      "Warning: Environment variable SUMO_HOME is not set properly, disabling XML validation. Set 'auto' or 'always' for web lookups.\n"
     ]
    },
    {
     "name": "stdout",
     "output_type": "stream",
     "text": [
      "state : [0 0 0 0 0 0 0 0 0 0 0 0 0 0 0 0 0 0 0 0 0 0 0 0 0 0 0 0 0 0 0 0 0 0 0 0 0\n",
      " 0 0 0 0 0 0 0 0 0 0 0]\n",
      "Q_values : [-5.0319166 -3.4778965 -3.7561326 -4.2822022]\n",
      "state : [ 0  0  6  0  6  0  0  0  0  0 17  0  0  0  0  0  0  0  0  0  0  0  0  0\n",
      "  0  0 10  3  8  1  4  0  0  0 20  0  2  0  0  4  0  0  0  0  1  0  0  0]\n",
      "Q_values : [ 0.22059488  7.0524416  13.61969     3.5903115 ]\n",
      "state : [ 0  0 16  0  1  1  0  0  1  0 14  1  0  0  0  0  0  0  0  0  0  0  0  0\n",
      "  0  0 20  0  2  2  4  0  2  0 18  2  2  1  0  4  0  0  2  2  0  2  0  0]\n",
      "Q_values : [-0.07019901 10.318757   10.437134    3.0510159 ]\n",
      "state : [ 0  0 20  0  0  2  0  0  2  0  0  2  0  0  0  0  0  0  0  0  0  0  0  0\n",
      "  0  1 23  2  2  4  4  0  2  1  9  2  0  0  0  4  6  4  0  0  0  0  1  0]\n",
      "Q_values : [-3.8547504  5.692423   1.4921404 -4.773734 ]\n"
     ]
    },
    {
     "name": "stderr",
     "output_type": "stream",
     "text": [
      "Warning: Vehicle 'CNE.10' performs emergency braking on lane 'end1_junction_2' with decel=9.00, wished=5.00, severity=1.00, time=220.00.\n",
      "Warning: Vehicle 'CNE.10' performs emergency stop at the end of lane 'end1_junction_2' because of a red traffic light (decel=-14.29, offset=0.00), time=220.27.\n"
     ]
    },
    {
     "name": "stdout",
     "output_type": "stream",
     "text": [
      "state : [ 0  0 19  0  4  0  0  0  0  0 16  0  0  0  0  0  0  0  0  0  0  0  0  0          \n",
      "  0  1 22  4  5  0  4  0  0  1 19  0  2  0  0  4  0  0  0  0  2  0  0  0]\n",
      "Q_values : [ 2.7959342 17.525795  15.194805   3.6217055]\n",
      "state : [ 0  0  0  0  4  0  0  0  0  0 19  0  0  0  0  0  0  0  0  0  0  0  0  0\n",
      "  1  0 15  1  6  2  5  0  0  1 23  0  0  0  0  2  0  9  0  0  0  0  0  0]\n",
      "Q_values : [-5.196288   2.9253085  9.99436   -1.8422045]\n",
      "state : [ 0  0 10  0  0  2  0  0  0  0  0  0  0  0  0  0  0  0  0  0  0  0  0  0\n",
      "  2  3 17  2  3  3  4  3  1  3 16  1  2  0  0  4  4  7  0  0  0  0  3  2]\n",
      "Q_values : [-14.902831   -5.331349   -8.982535  -14.9458065]\n",
      "state : [ 0  2  2  0  3  0  0  2  0  0 23  0  0  0  0  0  0  0  0  0  0  0  0  0\n",
      "  0  2  6  0  4  0  4  2  0  0 26  0  2  0  1  4  0  1  0  0  6  0  0  0]\n",
      "Q_values : [ 1.9104872 13.297769  20.526396   3.4748566]\n",
      "state : [ 0  2  0  0  2  2  0  2  0  0 10  0  0  0  0  0  0  0  0  0  0  0  0  0\n",
      "  1  2  3  2  2  2  6  2  0  1 21  0  2  0  0  1  2  8  0  0  0  0  0  0]\n",
      "Q_values : [-6.031795  -0.3623674  8.197564  -3.4688482]\n",
      "state : [ 0  2  2  0  0  2  0  2  0  0  0  0  0  0  0  0  0  0  0  0  0  0  0  0\n",
      "  0  2  6  2  2  4  4  2  0  0 12  0  0  0  0  3  7  6  0  0  0  0  1  0]\n",
      "Q_values : [-11.427563  -7.276886  -4.568662  -8.50094 ]\n",
      "Step #442.00 (0ms ?*RT. ?UPS, TraCI: 0ms, vehicles TOT 348 ACT 62 BUF 0)                  \r"
     ]
    },
    {
     "name": "stderr",
     "output_type": "stream",
     "text": [
      "Warning: Vehicle 'AWE.35' performs emergency stop at the end of lane 'end4_junction_1' because of a red traffic light (decel=-16.53, offset=0.05), time=442.19.\n"
     ]
    },
    {
     "name": "stdout",
     "output_type": "stream",
     "text": [
      "Step #484.00 (1ms ~= 10.00*RT, ~57000.00UPS, TraCI: 0ms, vehicles TOT 378 ACT 57 BUF 0)   "
     ]
    },
    {
     "name": "stderr",
     "output_type": "stream",
     "text": [
      "Warning: Vehicle 'CNE.38' performs emergency braking on lane 'end1_junction_2' with decel=9.00, wished=5.00, severity=1.00, time=484.00.\n"
     ]
    },
    {
     "name": "stdout",
     "output_type": "stream",
     "text": [
      "state : [ 0  0 13  0  0 10  0  0  0  0  0  2  0  0  0  0  0  0  0  0  0  0  0  0\n",
      "  0  1 16  2  2 12  4  0  0  1  3  2  0  0  0  3  4  0  0  0  0  0  0  0]\n",
      "Q_values : [-0.99324083  9.147543    2.5626144   8.278315  ]\n",
      "state : [ 0  4  0  0  9  2  0  4  0  0 13  0  0  0  0  0  0  0  0  0  0  0  0  0\n",
      "  0  4  1  5 13  7  2  4  0  0 14  0  4  0  0  0  0  5  0  0  0  0  0  3]\n",
      "Q_values : [ 2.9557052  6.00354   20.208838  11.109408 ]\n",
      "Step #720.00 (0ms ?*RT. ?UPS, TraCI: 0ms, vehicles TOT 558 ACT 57 BUF 0)                  "
     ]
    },
    {
     "name": "stderr",
     "output_type": "stream",
     "text": [
      "Warning: Vehicle 'CEWR.7' performs emergency braking on lane 'end2_junction_1' with decel=9.00, wished=5.00, severity=1.00, time=720.00.\n"
     ]
    },
    {
     "name": "stdout",
     "output_type": "stream",
     "text": [
      "state : [ 0  0  4  0  6  0  0  0  0  0  2  0  0  0  0  0  0  0  0  0  0  0  0  0\n",
      "  0  1  5  6 10 19  2  0  0  1  3  0  3  0  0  2  0  0  0  0 12  0  0  0]\n",
      "Q_values : [-5.733925   -0.49477625 -0.75608253 -2.782432  ]\n",
      "state : [ 0  0  0  0 13 21  0  0  0  0  4  0  0  0  0  0  0  0  0  0  0  0  0  0\n",
      "  3  1  2  5 17 25  2  2  2  3  5  2  4  0  0  2  0  1  0  0  0  0  0  0]\n",
      "Q_values : [ 1.8155508  0.2311604 11.301828  14.7667055]\n",
      "state : [ 0  0  2  0 27  0  0  0  0  0  8  0  0  0  0  0  0  0  0  0  0  0  0  0\n",
      "  0  0  4  6 30 17  2  0  0  0 10  0  2  0  0  0  0  0  0  0  9  0  0  0]\n",
      "Q_values : [-1.4989903  2.0663455 18.56819   12.414717 ]\n",
      "Step #980.00 (0ms ?*RT. ?UPS, TraCI: 0ms, vehicles TOT 755 ACT 82 BUF 1)                  "
     ]
    },
    {
     "name": "stderr",
     "output_type": "stream",
     "text": [
      "Warning: Vehicle 'CESR.23' performs emergency braking on lane 'end2_junction_2' with decel=9.00, wished=5.00, severity=1.00, time=980.00.\n"
     ]
    },
    {
     "name": "stdout",
     "output_type": "stream",
     "text": [
      "state : [ 0  0  6  0 24  0  0  0  0  0  2  0  0  0  0  0  0  0  0  0  0  0  0  0\n",
      "  3  2  7  6 28 16  4  2  0  3  3  2  3  0  0  2  0  0  0  0  9  0  0  0]\n",
      "Q_values : [-6.191945  -1.4293418  8.89071    2.2037396]\n",
      "Step #1060.00 (0ms ?*RT. ?UPS, TraCI: 67ms, vehicles TOT 818 ACT 87 BUF 4)                \r"
     ]
    },
    {
     "name": "stderr",
     "output_type": "stream",
     "text": [
      "Warning: Vehicle 'AWER.12' performs emergency stop at the end of lane 'end4_junction_1' because of a red traffic light (decel=-17.76, offset=0.02), time=1060.88.\n"
     ]
    },
    {
     "name": "stdout",
     "output_type": "stream",
     "text": [
      "state : [ 0  2  0  0 22 21  0  2  0  0  3  2  0  0  0  0  0  0  0  0  0  0  0  0\n",
      "  0  2  0  6 26 26  0  2  0  0  4  2  3  0  0  2  0  2  0  0  0  0  0  0]\n",
      "Q_values : [ 5.3995214  9.136013  29.342323  26.900667 ]\n",
      "state : [ 0  2  2  0  0 28  0  2  0  0  0  2  0  0  0  0  0  0  0  0  0  0  0  0\n",
      "  0  2  2  5  8 32  0  2  0  0  0  2  4  0  0  2  2  0  0  0  0  0  8  4]\n",
      "Q_values : [ 4.75254    3.75085    9.7378845 21.034864 ]\n",
      "Step #1142.00 (1ms ~= 10.00*RT, ~76000.00UPS, TraCI: 0ms, vehicles TOT 874 ACT 76 BUF 8)  \r"
     ]
    },
    {
     "name": "stderr",
     "output_type": "stream",
     "text": [
      "Warning: Vehicle 'CEWR.40' performs emergency braking on lane 'end2_junction_1' with decel=9.00, wished=5.00, severity=1.00, time=1142.16.\n"
     ]
    },
    {
     "name": "stdout",
     "output_type": "stream",
     "text": [
      "Step #1160.00 (0ms ?*RT. ?UPS, TraCI: 69ms, vehicles TOT 887 ACT 69 BUF 1)                \r"
     ]
    },
    {
     "name": "stderr",
     "output_type": "stream",
     "text": [
      "Warning: Vehicle 'CESR.34' performs emergency braking on lane 'end2_junction_2' with decel=9.00, wished=5.00, severity=1.00, time=1160.00.\n",
      "Warning: Vehicle 'CESR.34' performs emergency braking on lane 'end2_junction_2' with decel=9.00, wished=5.00, severity=1.00, time=1160.96.\n"
     ]
    },
    {
     "name": "stdout",
     "output_type": "stream",
     "text": [
      "state : [ 0  2  0  0 10 11  0  2  0  0  2  0  0  0  0  0  0  0  0  0  0  0  0  0\n",
      "  2  3  0  7 14 27  2  3  0  2  3  0  4  0  0  2  0  4  0  0  2  0  0  0]\n",
      "Q_values : [-2.9126055 -4.6560526  4.66173    5.5470133]\n",
      "Step #1204.00 (0ms ?*RT. ?UPS, TraCI: 1ms, vehicles TOT 924 ACT 82 BUF 0)                 \r"
     ]
    },
    {
     "name": "stderr",
     "output_type": "stream",
     "text": [
      "Warning: Vehicle 'CWNR.4' performs emergency braking on lane 'end4_junction_2' with decel=9.00, wished=5.00, severity=1.00, time=1204.13.\n"
     ]
    },
    {
     "name": "stdout",
     "output_type": "stream",
     "text": [
      "state : [ 0  0  0  0  0 20  0  0  0  0  0  1  0  0  0  0  0  0  0  0  0  0  0  0\n",
      "  0  0  0  0  0 20  0  0  0  0  0  1  0  0  0  0  0  1  0  0  0  0  0  1]\n",
      "Q_values : [ 0.65839195  1.241672    5.033167   14.09027   ]\n",
      "episode : 30\n",
      "Step #1300.00 (0ms ?*RT. ?UPS, TraCI: 0ms, vehicles TOT 924 ACT 20 BUF 0)                 \n",
      " Retrying in 1 seconds\n"
     ]
    },
    {
     "name": "stderr",
     "output_type": "stream",
     "text": [
      "Warning: Environment variable SUMO_HOME is not set properly, disabling XML validation. Set 'auto' or 'always' for web lookups.\n"
     ]
    },
    {
     "name": "stdout",
     "output_type": "stream",
     "text": [
      "state : [0 2 2 0 2 0 0 2 2 0 3 0 0 0 0 0 0 0 0 0 0 0 0 0 1 2 7 2 2 0 6 2 2 1 7 0 2\n",
      " 0 2 2 0 0 2 0 2 2 0 0]\n",
      "Q_values : [-1.6686807  3.871472   7.607031  -3.2460678]\n"
     ]
    },
    {
     "name": "stderr",
     "output_type": "stream",
     "text": [
      "Warning: Vehicle 'CNE.5' performs emergency braking on lane 'end1_junction_2' with decel=9.00, wished=5.00, severity=1.00, time=100.00.\n",
      "Warning: Vehicle 'CNE.5' performs emergency braking on lane 'end1_junction_2' with decel=9.00, wished=5.00, severity=1.00, time=101.19.\n"
     ]
    },
    {
     "name": "stdout",
     "output_type": "stream",
     "text": [
      "state : [ 0  2  0  0  3  0  0  2  0  0  9  0  0  0  0  0  0  0  0  0  0  0  0  0          \n",
      "  0  3  3  0  4  2  4  2  0  1 12  0  2  0  0  4  0  9  0  0  0  0  0  0]\n",
      "Q_values : [-4.589779  -0.9594691  5.3365755  2.269841 ]\n",
      "state : [ 0  4  9  0  2  0  0  4  0  0  6  0  0  0  0  0  0  0  0  0  0  0  0  0\n",
      "  0  4 13  2  4  2  4  4  0  0 10  0  0  0  0  4  0  0  0  0  0  0  0  0]\n",
      "Q_values : [-1.7321899  3.6295261  6.645236   3.218115 ]\n",
      "state : [ 0  5 22  0  0  5  0  5  1  0  0  1  0  0  0  0  0  0  0  0  0  0  0  0\n",
      "  0  7 26  0  0  6  4  6  2  1  3  2  2  0  0  4  1  0  2  0  0  1  1  0]\n",
      "Q_values : [ 2.4896464 14.290953   9.659144   7.7727075]\n",
      "Step #331.00 (0ms ?*RT. ?UPS, TraCI: 0ms, vehicles TOT 263 ACT 78 BUF 1)                  \r"
     ]
    },
    {
     "name": "stderr",
     "output_type": "stream",
     "text": [
      "Warning: Teleporting vehicle 'CNS.0'; waited too long (yield), lane='end1_junction_1', time=330.56.\n",
      "Warning: Vehicle 'CNS.0' ends teleporting on edge 'junction_end3', time=330.56.\n",
      "Warning: Teleporting vehicle 'ASN.0'; waited too long (yield), lane='end3_junction_1', time=331.30.\n",
      "Warning: Vehicle 'ASN.0' ends teleporting on edge 'junction_end1', time=331.30.\n"
     ]
    },
    {
     "name": "stdout",
     "output_type": "stream",
     "text": [
      "Step #400.00 (1ms ~= 10.00*RT, ~76000.00UPS, TraCI: 68ms, vehicles TOT 308 ACT 76 BUF 4)  \r"
     ]
    },
    {
     "name": "stderr",
     "output_type": "stream",
     "text": [
      "Warning: Vehicle 'CNE.24' performs emergency braking on lane 'end1_junction_2' with decel=9.00, wished=5.00, severity=1.00, time=400.00.\n",
      "Warning: Vehicle 'CNE.24' performs emergency stop at the end of lane 'end1_junction_2' because of a red traffic light (decel=-14.54, offset=0.02), time=400.31.\n"
     ]
    },
    {
     "name": "stdout",
     "output_type": "stream",
     "text": [
      "state : [ 0  2 42  0  0  8  0  2  2  0  0  2  0  0  0  0  0  0  0  0  0  0  0  0\n",
      "  0  2 45  2  2 10  4  2  2  1  3  2  0  0  0  3  4  0  0  0  0  0  0  0]\n",
      "Q_values : [ 5.232569 24.328714 10.619882 21.160263]\n",
      "Step #600.00 (1ms ~= 10.00*RT, ~101000.00UPS, TraCI: 67ms, vehicles TOT 466 ACT 101 BUF 20\r"
     ]
    },
    {
     "name": "stderr",
     "output_type": "stream",
     "text": [
      "Warning: Vehicle 'CNE.35' performs emergency braking on lane 'end1_junction_2' with decel=9.00, wished=5.00, severity=1.00, time=600.00.\n",
      "Warning: Vehicle 'CNE.35' performs emergency stop at the end of lane 'end1_junction_2' because of a red traffic light (decel=-15.34, offset=0.03), time=600.29.\n"
     ]
    },
    {
     "name": "stdout",
     "output_type": "stream",
     "text": [
      "state : [ 0  4 10  0  0 12  0  4  2  0  0  4  0  0  0  0  0  0  0  0  0  0  0  0\n",
      "  2  6 31  5  2 16  2  6  4  2  2  6  2  0  0  2  7  6  2  0  0  1  2  2]\n",
      "Q_values : [-1.4855978  8.360271  -3.8327007  7.9856668]\n",
      "Step #680.00 (1ms ~= 10.00*RT, ~86000.00UPS, TraCI: 67ms, vehicles TOT 533 ACT 86 BUF 1)  \r"
     ]
    },
    {
     "name": "stderr",
     "output_type": "stream",
     "text": [
      "Warning: Vehicle 'CES.16' performs emergency braking on lane 'end2_junction_2' with decel=9.00, wished=5.00, severity=1.00, time=680.00.\n",
      "Warning: Vehicle 'CES.16' performs emergency stop at the end of lane 'end2_junction_2' because of a red traffic light (decel=-15.13, offset=0.01), time=680.25.\n"
     ]
    },
    {
     "name": "stdout",
     "output_type": "stream",
     "text": [
      "state : [ 0  0 23  0  0 11  0  0  0  0  0  0  0  0  0  0  0  0  0  0  0  0  0  0\n",
      "  0  0 24  7  3 17  1  0  0  0  0  0  4  0  0  0  3  2  0  0  2  0  7  3]\n",
      "Q_values : [ 6.8685722e-01  1.3481703e+01 -4.5139790e-03  1.1093933e+01]\n",
      "Step #720.00 (1ms ~= 10.00*RT, ~70000.00UPS, TraCI: 69ms, vehicles TOT 559 ACT 70 BUF 5)  \r"
     ]
    },
    {
     "name": "stderr",
     "output_type": "stream",
     "text": [
      "Warning: Vehicle 'CNE.46' performs emergency braking on lane 'end1_junction_2' with decel=9.00, wished=5.00, severity=1.00, time=720.00.\n",
      "Warning: Vehicle 'CNE.46' performs emergency stop at the end of lane 'end1_junction_2' because of a red traffic light (decel=-15.00, offset=0.06), time=720.23.\n"
     ]
    },
    {
     "name": "stdout",
     "output_type": "stream",
     "text": [
      "state : [ 0  0 19  0  3 12  0  0  2  0  2  2  0  0  0  0  0  0  0  0  0  0  0  0\n",
      "  1  1 19  7  7 15  2  0  2  1  3  2  1  2  0  2  0  0  0  1  0  0  0  0]\n",
      "Q_values : [ 3.0232582 13.919531  11.575016  17.581137 ]\n",
      "Step #820.00 (0ms ?*RT. ?UPS, TraCI: 0ms, vehicles TOT 638 ACT 67 BUF 4)                  "
     ]
    },
    {
     "name": "stderr",
     "output_type": "stream",
     "text": [
      "Warning: Vehicle 'CENR.16' performs emergency braking on lane 'end2_junction_0' with decel=9.00, wished=5.00, severity=1.00, time=820.00.\n"
     ]
    },
    {
     "name": "stdout",
     "output_type": "stream",
     "text": [
      "state : [ 0  0 20  0  6  0  0  0  2  0  2  0  0  0  0  0  0  0  0  0  0  0  0  0\n",
      "  0  0 21  5 11  8  2  0  2  0  4  0  4  0  1  0  0  0  0  0  9  0  0  0]\n",
      "Q_values : [-1.0025907  6.172194  10.090616   2.6598394]\n",
      "state : [ 0  0 21  0  0  7  0  0  2  0  0  0  0  0  0  0  0  0  0  0  0  0  0  0\n",
      "  0  1 22  5  4 12  2  0  2  1  1  0  3  0  0  1  2  2  0  0  3  0  6  3]\n",
      "Q_values : [-0.08129644  9.367252    7.2861347  11.0448675 ]\n",
      "state : [ 0  0 23  0  7  0  0  0  2  0  2  0  0  0  0  0  0  0  0  0  0  0  0  0\n",
      "  3  1 25  5 11  4  2  2  4  3  3  2  4  0  0  2  0  0  0  0  5  0  0  0]\n",
      "Q_values : [-3.3576877  6.176895   6.21397    1.526406 ]\n",
      "state : [ 0  2 25  0  3  0  0  2  4  0  0  0  0  0  0  0  0  0  0  0  0  0  0  0\n",
      "  0  2 27  7  7  3  2  2  4  0  2  0  3  0  1  1  1  0  2  0  6  1  1  0]\n",
      "Q_values : [-1.2210903 11.52154   12.338296   4.143534 ]\n",
      "Step #943.00 (0ms ?*RT. ?UPS, TraCI: 0ms, vehicles TOT 731 ACT 72 BUF 1)                  \r"
     ]
    },
    {
     "name": "stderr",
     "output_type": "stream",
     "text": [
      "Warning: Vehicle 'CESR.26' performs emergency braking on lane 'end2_junction_2' with decel=9.00, wished=5.00, severity=1.00, time=943.87.\n"
     ]
    },
    {
     "name": "stdout",
     "output_type": "stream",
     "text": [
      "state : [ 0  0 27  0  2  6  0  0  4  0  0  0  0  0  0  0  0  0  0  0  0  0  0  0\n",
      "  0  0 29  5  7 10  2  0  4  0  2  0  3  1  1  0  0  0  0  1  0  0  0  0]\n",
      "Q_values : [ 0.26811457 16.457718   13.173969    9.169693  ]\n",
      "state : [ 0  0 10  0  9 13  0  0  0  0  2  0  0  0  0  0  0  0  0  0  0  0  0  0\n",
      "  0  0 20  5 13 17  2  0  0  0  4  0  4  0  0  0  0  3  0  0  0  0  0  0]\n",
      "Q_values : [-0.7109976  4.537115   8.906722   8.15762  ]\n",
      "Step #1100.00 (0ms ?*RT. ?UPS, TraCI: 67ms, vehicles TOT 845 ACT 81 BUF 1)                \r"
     ]
    },
    {
     "name": "stderr",
     "output_type": "stream",
     "text": [
      "Warning: Vehicle 'CNER.7' performs emergency braking on lane 'end1_junction_2' with decel=9.00, wished=5.00, severity=1.00, time=1100.00.\n",
      "Warning: Vehicle 'CNER.7' performs emergency stop at the end of lane 'end1_junction_2' because of a red traffic light (decel=-12.40, offset=0.03), time=1100.50.\n"
     ]
    },
    {
     "name": "stdout",
     "output_type": "stream",
     "text": [
      "state : [ 0  0 17  0 16  0  0  0  0  0  6  0  0  0  0  0  0  0  0  0  0  0  0  0\n",
      "  2  1 17  7 20 21  2  1  0  2  7  0  4  0  0  2  0  0  0  0  8  0  0  0]\n",
      "Q_values : [-2.1489656  4.248929   7.241287   3.4011476]\n",
      "state : [ 0  0 18  0  0 11  0  0  0  0  0  0  0  0  0  0  0  0  0  0  0  0  0  0\n",
      "  2  2 19  5 12 25  2  2  2  2  2  2  4  0  0  0  3  2  0  0  2  0  7  3]\n",
      "Q_values : [-4.313906  -5.056469  -1.8484448  8.314259 ]\n",
      "Step #1240.00 (0ms ?*RT. ?UPS, TraCI: 0ms, vehicles TOT 924 ACT 59 BUF 0)                 "
     ]
    },
    {
     "name": "stderr",
     "output_type": "stream",
     "text": [
      "Warning: Vehicle 'CESR.48' performs emergency braking on lane 'end2_junction_2' with decel=9.00, wished=5.00, severity=1.00, time=1240.00.\n"
     ]
    },
    {
     "name": "stdout",
     "output_type": "stream",
     "text": [
      "state : [ 0  0 19  0 13  3  0  0  2  0  2  0  0  0  0  0  0  0  0  0  0  0  0  0\n",
      "  0  0 19  0 13  3  0  0  2  0  2  0  0  0  0  0  0  0  0  0  0  0  0  0]\n",
      "Q_values : [ 7.0025735 13.541178  18.473732  20.140137 ]\n",
      "episode : 31\n",
      "Step #1300.00 (0ms ?*RT. ?UPS, TraCI: 0ms, vehicles TOT 924 ACT 39 BUF 0)                 \n",
      " Retrying in 1 seconds\n"
     ]
    },
    {
     "name": "stderr",
     "output_type": "stream",
     "text": [
      "Warning: Environment variable SUMO_HOME is not set properly, disabling XML validation. Set 'auto' or 'always' for web lookups.\n"
     ]
    },
    {
     "name": "stdout",
     "output_type": "stream",
     "text": [
      "state : [0 0 0 0 0 0 0 0 0 0 0 0 0 0 0 0 0 0 0 0 0 0 0 0 2 3 3 2 2 2 4 2 2 3 3 2 0\n",
      " 0 0 0 0 0 0 0 0 0 0 0]\n",
      "Q_values : [-10.858969 -10.917358 -11.618171  -9.348252]\n",
      "state : [0 2 2 0 2 0 0 2 2 0 3 0 0 0 0 0 0 0 0 0 0 0 0 0 1 2 7 2 2 0 6 2 2 1 7 0 2\n",
      " 0 2 2 0 0 2 0 2 2 0 0]\n",
      "Q_values : [-0.38028526  3.299961    7.79814    -4.5919795 ]\n"
     ]
    },
    {
     "name": "stderr",
     "output_type": "stream",
     "text": [
      "Warning: Vehicle 'AWE.10' performs emergency stop at the end of lane 'end4_junction_1' because of a red traffic light (decel=-37.68, offset=0.16), time=140.10.\n"
     ]
    },
    {
     "name": "stdout",
     "output_type": "stream",
     "text": [
      "state : [ 0  0  0  0  0  2  0  0  0  0  3  0  0  0  0  0  0  0  0  0  0  0  0  0          \n",
      "  3  2 16  2  3  3  5  3  1  3  8  1  0  0  0  3  0 10  0  0  0  0  0  1]\n",
      "Q_values : [-12.552568 -12.660541 -13.682593 -14.703709]\n",
      "Step #161.00 (0ms ?*RT. ?UPS, TraCI: 0ms, vehicles TOT 138 ACT 65 BUF 0)                  \r"
     ]
    },
    {
     "name": "stderr",
     "output_type": "stream",
     "text": [
      "Warning: Vehicle 'CNE.5' performs emergency braking on lane 'end1_junction_2' with decel=9.00, wished=5.00, severity=1.00, time=160.00.\n",
      "Warning: Vehicle 'CNE.5' performs emergency braking on lane 'end1_junction_2' with decel=9.00, wished=5.00, severity=1.00, time=161.22.\n"
     ]
    },
    {
     "name": "stdout",
     "output_type": "stream",
     "text": [
      "state : [ 0  2  0  0  2 16  0  2  0  0 11  4  0  0  0  0  0  0  0  0  0  0  0  0\n",
      "  0  2  3  2  4 18  4  2  0  0 14  4  0  0  0  4  0  3  0  0  0  0  0  0]\n",
      "Q_values : [ 3.8217158  4.8058653 14.090683  18.870722 ]\n",
      "Step #440.00 (0ms ?*RT. ?UPS, TraCI: 0ms, vehicles TOT 344 ACT 78 BUF 4)                  "
     ]
    },
    {
     "name": "stderr",
     "output_type": "stream",
     "text": [
      "Warning: Vehicle 'CES.8' performs emergency braking on lane 'end2_junction_2' with decel=9.00, wished=5.00, severity=1.00, time=440.00.\n"
     ]
    },
    {
     "name": "stdout",
     "output_type": "stream",
     "text": [
      "state : [ 0  0  0  0  2  4  0  0  0  0 11  0  0  0  0  0  0  0  0  0  0  0  0  0\n",
      "  2  0  7  2  2  4  5  0  0  2 28  0  2  0  0  1  2  9  0  0  0  0  0  0]\n",
      "Q_values : [-12.906803   -3.4245281   4.086111   -5.5729647]\n",
      "Step #580.00 (0ms ?*RT. ?UPS, TraCI: 0ms, vehicles TOT 440 ACT 69 BUF 16)                 "
     ]
    },
    {
     "name": "stderr",
     "output_type": "stream",
     "text": [
      "Warning: Vehicle 'CNE.44' performs emergency braking on lane 'end1_junction_2' with decel=9.00, wished=5.00, severity=1.00, time=580.00.\n"
     ]
    },
    {
     "name": "stdout",
     "output_type": "stream",
     "text": [
      "state : [ 0  0  7  0  0  4  0  0  0  0  0  0  0  0  0  0  0  0  0  0  0  0  0  0\n",
      "  2  2 11  2  2  6  4  2  2  2 19  2  0  0  0  4  6  7  0  0  0  0  1  0]\n",
      "Q_values : [-16.81522  -10.018444  -7.594386 -11.458674]\n",
      "state : [ 0  2 11  0  0  6  0  2  2  0  0  2  0  0  0  0  0  0  0  0  0  0  0  0\n",
      "  2  4 13  5  3  9  2  4  4  2  8  4  2  0  0  3  7  5  2  0  0  1  1  1]\n",
      "Q_values : [-3.559184   2.8415647  0.3676225  2.1896842]\n",
      "state : [ 0  0  2  0  4 12  0  0  0  0  8  4  0  0  0  0  0  0  0  0  0  0  0  0\n",
      "  0  0  4  5  9 16  2  0  0  0 10  4  4  2  1  0  0  3  1  2  1  0  0  0]\n",
      "Q_values : [ 2.3230095  5.127846  12.845746  12.21625  ]\n",
      "state : [ 0  0  6  0  0 22  0  0  0  0  0  4  0  0  0  0  0  0  0  0  0  0  0  0\n",
      "  0  0  8  5  4 26  2  0  0  0  2  4  4  0  0  2  1  0  0  0  0  0  3  2]\n",
      "Q_values : [ 0.9402962  8.570218   3.2772427 16.748852 ]\n",
      "Step #740.00 (0ms ?*RT. ?UPS, TraCI: 69ms, vehicles TOT 569 ACT 60 BUF 1)                 \r"
     ]
    },
    {
     "name": "stderr",
     "output_type": "stream",
     "text": [
      "Warning: Vehicle 'CESR.2' performs emergency braking on lane 'end2_junction_2' with decel=9.00, wished=5.00, severity=1.00, time=740.00.\n",
      "Warning: Vehicle 'CESR.2' performs emergency stop at the end of lane 'end2_junction_2' because of a red traffic light (decel=-13.27, offset=0.01), time=740.36.\n"
     ]
    },
    {
     "name": "stdout",
     "output_type": "stream",
     "text": [
      "state : [ 0  0  8  0  6 11  0  0  0  0  2  0  0  0  0  0  0  0  0  0  0  0  0  0\n",
      "  2  2 10  7 10 21  2  2  2  2  4  2  4  0  0  0  0  0  0  0  2  0  0  0]\n",
      "Q_values : [-4.1349072  -0.8629999   0.22046602  2.9802349 ]\n",
      "state : [ 0  0 10  0 13 10  0  0  2  0  4  0  0  0  0  0  0  0  0  0  0  0  0  0\n",
      "  0  0 12  5 17 18  2  0  2  0  6  0  2  1  1  0  0  0  2  1  4  2  0  0]\n",
      "Q_values : [ 2.7554612  8.500241  18.875439  13.615075 ]\n",
      "Step #841.00 (1ms ~= 10.00*RT, ~66000.00UPS, TraCI: 0ms, vehicles TOT 649 ACT 66 BUF 5)   \r"
     ]
    },
    {
     "name": "stderr",
     "output_type": "stream",
     "text": [
      "Warning: Vehicle 'CWER.6' performs emergency braking on lane 'end4_junction_1' with decel=9.00, wished=5.00, severity=1.00, time=840.00.\n",
      "Warning: Vehicle 'CWER.6' performs emergency stop at the end of lane 'end4_junction_1' because of a red traffic light (decel=-29.72, offset=0.09), time=841.02.\n"
     ]
    },
    {
     "name": "stdout",
     "output_type": "stream",
     "text": [
      "state : [ 0  0 15  0  0 27  0  0  2  0  0  0  0  0  0  0  0  0  0  0  0  0  0  0\n",
      "  0  0 16  7  3 30  1  0  2  0  0  0  3  0  0  0  3  0  0  0  0  0  4  2]\n",
      "Q_values : [ 3.6938276 13.673285   4.110068  22.011663 ]\n",
      "Step #880.00 (0ms ?*RT. ?UPS, TraCI: 0ms, vehicles TOT 674 ACT 74 BUF 4)                  "
     ]
    },
    {
     "name": "stderr",
     "output_type": "stream",
     "text": [
      "Warning: Vehicle 'CENR.21' performs emergency braking on lane 'end2_junction_0' with decel=9.00, wished=5.00, severity=1.00, time=880.00.\n"
     ]
    },
    {
     "name": "stdout",
     "output_type": "stream",
     "text": [
      "Step #900.00 (0ms ?*RT. ?UPS, TraCI: 68ms, vehicles TOT 703 ACT 87 BUF 5)                 \r"
     ]
    },
    {
     "name": "stderr",
     "output_type": "stream",
     "text": [
      "Warning: Vehicle 'CESR.13' performs emergency braking on lane 'end2_junction_2' with decel=9.00, wished=5.00, severity=1.00, time=900.00.\n",
      "Warning: Vehicle 'CESR.13' performs emergency stop at the end of lane 'end2_junction_2' because of a red traffic light (decel=-11.95, offset=0.02), time=900.51.\n"
     ]
    },
    {
     "name": "stdout",
     "output_type": "stream",
     "text": [
      "state : [ 0  2 18  0  3  0  0  2  4  0  0  0  0  0  0  0  0  0  0  0  0  0  0  0\n",
      "  0  2 20  7  7 18  2  2  4  0  2  0  4  0  1  1  1  0  2  0  9  1  1  0]\n",
      "Q_values : [-2.9198773  8.780577   0.6299169 -1.4506879]\n",
      "state : [ 0  2  0  0 10 21  0  2  0  0  2  0  0  0  0  0  0  0  0  0  0  0  0  0\n",
      "  0  2  2  6 14 26  2  2  0  0  4  0  3  0  0  0  0 11  0  0  0  0  0  0]\n",
      "Q_values : [ 2.055564   1.4854727 11.225221  12.92498  ]\n",
      "state : [ 0  2  1  0 24  0  0  3  0  0  6  0  0  0  0  0  0  0  0  0  0  0  0  0\n",
      "  2  4  2  6 28  4  2  4  2  2  8  0  4  0  1  0  0  0  0  0  9  0  0  0]\n",
      "Q_values : [ 6.190811  7.543022 19.73044   9.196179]\n",
      "Step #1080.00 (0ms ?*RT. ?UPS, TraCI: 70ms, vehicles TOT 835 ACT 83 BUF 5)                \r"
     ]
    },
    {
     "name": "stderr",
     "output_type": "stream",
     "text": [
      "Warning: Vehicle 'AEWR.30' performs emergency stop at the end of lane 'end2_junction_1' because of a red traffic light (decel=-11.11, offset=0.00), time=1080.93.\n"
     ]
    },
    {
     "name": "stdout",
     "output_type": "stream",
     "text": [
      "state : [ 0  0  1  0 26 27  0  0  2  0  3  2  0  0  0  0  0  0  0  0  0  0  0  0\n",
      "  0  0  1  1 28 28  0  0  2  0  3  2  2  2  0  2  0  0  1  2  0  2  0  0]\n",
      "Q_values : [18.402699 20.085163 40.043297 45.55087 ]\n",
      "Step #1240.00 (0ms ?*RT. ?UPS, TraCI: 69ms, vehicles TOT 924 ACT 64 BUF 0)                \r"
     ]
    },
    {
     "name": "stderr",
     "output_type": "stream",
     "text": [
      "Warning: Vehicle 'CESR.41' performs emergency braking on lane 'end2_junction_2' with decel=9.00, wished=5.00, severity=1.00, time=1240.00.\n",
      "Warning: Vehicle 'CESR.41' performs emergency stop at the end of lane 'end2_junction_2' because of a red traffic light (decel=-13.86, offset=0.02), time=1240.37.\n"
     ]
    },
    {
     "name": "stdout",
     "output_type": "stream",
     "text": [
      "state : [ 0  0  1  0 28 11  0  0  2  0  3  0  0  0  0  0  0  0  0  0  0  0  0  0\n",
      "  0  0  1  0 28 17  0  0  2  0  3  0  0  0  0  0  0  0  0  0  2  0  0  0]\n",
      "Q_values : [11.48133  11.653322 26.544231 32.291927]\n",
      "state : [ 0  0  1  0 28  0  0  0  2  0  3  0  0  0  0  0  0  0  0  0  0  0  0  0\n",
      "  0  0  1  0 28  6  0  0  2  0  3  0  0  0  0  0  0  0  0  0  9  0  0  0]\n",
      "Q_values : [ 8.839657 11.86912  25.99932  19.590292]\n",
      "episode : 32\n",
      "Step #1300.00 (0ms ?*RT. ?UPS, TraCI: 1ms, vehicles TOT 924 ACT 42 BUF 0)                 \n",
      " Retrying in 1 seconds\n"
     ]
    },
    {
     "name": "stderr",
     "output_type": "stream",
     "text": [
      "Warning: Environment variable SUMO_HOME is not set properly, disabling XML validation. Set 'auto' or 'always' for web lookups.\n"
     ]
    },
    {
     "name": "stdout",
     "output_type": "stream",
     "text": [
      "state : [0 0 0 0 0 0 0 0 0 0 0 0 0 0 0 0 0 0 0 0 0 0 0 0 2 3 3 2 2 2 4 2 2 3 3 2 0\n",
      " 0 0 0 0 0 0 0 0 0 0 0]\n",
      "Q_values : [-11.170187  -9.545497 -10.195512  -9.990723]\n",
      "state : [0 2 0 0 2 2 0 2 0 0 3 2 0 0 0 0 0 0 0 0 0 0 0 0 1 2 3 2 2 2 6 2 0 1 7 2 2\n",
      " 0 0 2 0 3 2 0 0 2 0 2]\n",
      "Q_values : [-3.96309     0.21206045  3.3394985   0.7128021 ]\n",
      "state : [ 0  2 16  0  2  0  0  2  0  0  6  0  0  0  0  0  0  0  0  0  0  0  0  0\n",
      "  0  3 19  0  3  1  4  2  0  1  9  0  2  0  0  4  0  0  0  0  1  0  0  0]\n",
      "Q_values : [0.2735343 9.948911  9.293414  3.2403593]\n",
      "Step #141.00 (0ms ?*RT. ?UPS, TraCI: 0ms, vehicles TOT 108 ACT 49 BUF 0)                  \r"
     ]
    },
    {
     "name": "stderr",
     "output_type": "stream",
     "text": [
      "Warning: Vehicle 'CES.3' performs emergency braking on lane 'end2_junction_2' with decel=9.00, wished=5.00, severity=1.00, time=140.00.\n",
      "Warning: Vehicle 'CES.3' performs emergency stop at the end of lane 'end2_junction_2' because of a red traffic light (decel=-13.62, offset=0.03), time=141.13.\n"
     ]
    },
    {
     "name": "stdout",
     "output_type": "stream",
     "text": [
      "Step #160.00 (0ms ?*RT. ?UPS, TraCI: 75ms, vehicles TOT 138 ACT 72 BUF 0)                 \r"
     ]
    },
    {
     "name": "stderr",
     "output_type": "stream",
     "text": [
      "Warning: Vehicle 'CNE.7' performs emergency braking on lane 'end1_junction_2' with decel=9.00, wished=5.00, severity=1.00, time=160.00.\n",
      "Warning: Vehicle 'CNE.7' performs emergency stop at the end of lane 'end1_junction_2' because of a red traffic light (decel=-12.24, offset=0.02), time=160.53.\n"
     ]
    },
    {
     "name": "stdout",
     "output_type": "stream",
     "text": [
      "state : [ 0  4  0  0  5  0  0  4  0  0 16  0  0  0  0  0  0  0  0  0  0  0  0  0\n",
      "  0  5  7  2  7  2  4  4  0  1 19  0  0  0  0  4  0  9  0  0  0  0  0  1]\n",
      "Q_values : [ 2.9173107  7.1045647 15.838379   8.993945 ]\n",
      "state : [ 0  4  7  0  0  2  0  4  0  0  0  0  0  0  0  0  0  0  0  0  0  0  0  0\n",
      "  1  4 11  2  0  2  6  4  0  1 11  0  2  0  0  3  6  8  0  0  0  0  4  3]\n",
      "Q_values : [-4.2156343   0.23521733 -0.31963485  0.06782839]\n",
      "Step #220.00 (0ms ?*RT. ?UPS, TraCI: 92ms, vehicles TOT 176 ACT 69 BUF 4)                 \r"
     ]
    },
    {
     "name": "stderr",
     "output_type": "stream",
     "text": [
      "Warning: Vehicle 'AWE.13' performs emergency stop at the end of lane 'end4_junction_1' because of a red traffic light (decel=-11.36, offset=0.01), time=220.91.\n"
     ]
    },
    {
     "name": "stdout",
     "output_type": "stream",
     "text": [
      "state : [ 0  1 12  0  5  0  0  1  1  0 23  0  0  0  0  0  0  0  0  0  0  0  0  0\n",
      "  0  3 16  0  6  1  4  2  2  2 27  1  2  0  1  4  0  0  1  0  1  2  0  0]\n",
      "Q_values : [ 6.6895247 12.92362   24.038485   7.550548 ]\n",
      "Step #320.00 (0ms ?*RT. ?UPS, TraCI: 92ms, vehicles TOT 252 ACT 75 BUF 0)                 \r"
     ]
    },
    {
     "name": "stderr",
     "output_type": "stream",
     "text": [
      "Warning: Vehicle 'CES.8' performs emergency braking on lane 'end2_junction_2' with decel=9.00, wished=5.00, severity=1.00, time=320.00.\n",
      "Warning: Vehicle 'CWN.2' performs emergency braking on lane 'end4_junction_2' with decel=9.00, wished=5.00, severity=1.00, time=320.00.\n",
      "Warning: Vehicle 'CES.8' performs emergency stop at the end of lane 'end2_junction_2' because of a red traffic light (decel=-20.93, offset=0.02), time=320.22.\n",
      "Warning: Vehicle 'CWN.2' performs emergency stop at the end of lane 'end4_junction_2' because of a red traffic light (decel=-18.93, offset=0.01), time=320.32.\n"
     ]
    },
    {
     "name": "stdout",
     "output_type": "stream",
     "text": [
      "state : [ 0  2 16  0  0  1  0  2  2  0  0  1  0  0  0  0  0  0  0  0  0  0  0  0\n",
      "  1  2 20  2  3  2  5  2  2  1 19  1  1  0  0  2  6  4  2  0  0  1  3  2]\n",
      "Q_values : [-7.9416237 -0.9923303  1.0629003 -5.685862 ]\n",
      "state : [ 0  2 20  0  0  2  0  2  2  0  0  1  0  0  0  0  0  0  0  0  0  0  0  0\n",
      "  0  2 23  0  0  3  4  2  2  0  9  1  2  0  0  3  9  5  0  0  0  0  2  0]\n",
      "Q_values : [0.17834044 8.751865   3.498881   6.6921306 ]\n",
      "Step #360.00 (1ms ~= 10.00*RT, ~72000.00UPS, TraCI: 94ms, vehicles TOT 280 ACT 72 BUF 8)  \r"
     ]
    },
    {
     "name": "stderr",
     "output_type": "stream",
     "text": [
      "Warning: Vehicle 'CWE.25' performs emergency braking on lane 'end4_junction_1' with decel=9.00, wished=5.00, severity=1.00, time=360.00.\n",
      "Warning: Vehicle 'CWE.25' performs emergency stop at the end of lane 'end4_junction_1' because of a red traffic light (decel=-16.59, offset=0.01), time=360.67.\n"
     ]
    },
    {
     "name": "stdout",
     "output_type": "stream",
     "text": [
      "state : [ 0  2  0  0  0  3  0  2  0  0  8  1  0  0  0  0  0  0  0  0  0  0  0  0\n",
      "  0  3 15  2  2  5  4  2  0  1 12  1  0  0  0  3  1  9  0  0  0  0  0  1]\n",
      "Q_values : [-9.278788  -3.0295227  0.5244333 -4.056243 ]\n",
      "state : [ 0  2 10  0  0  5  0  2  0  0  0  1  0  0  0  0  0  0  0  0  0  0  0  0\n",
      "  1  2 19  2  0  5  5  2  0  1  4  1  2  0  0  2  7  7  0  0  0  0  2  0]\n",
      "Q_values : [-2.0325232   5.1487846  -0.19691902  4.2323627 ]\n",
      "state : [ 0  2  0  0  0  5  0  2  0  0  3  1  0  0  0  0  0  0  0  0  0  0  0  0\n",
      "  0  2 11  2  2  7  4  2  0  0  7  1  0  0  0  4  2  9  0  0  0  0  0  0]\n",
      "Q_values : [-5.785925   -1.3658711  -1.0090585  -0.73700017]\n",
      "Step #420.00 (0ms ?*RT. ?UPS, TraCI: 0ms, vehicles TOT 318 ACT 54 BUF 0)                  "
     ]
    },
    {
     "name": "stderr",
     "output_type": "stream",
     "text": [
      "Warning: Vehicle 'CNE.29' performs emergency braking on lane 'end1_junction_2' with decel=9.00, wished=5.00, severity=1.00, time=420.00.\n"
     ]
    },
    {
     "name": "stdout",
     "output_type": "stream",
     "text": [
      "state : [ 0  4 21  0  0  1  0  4  2  0  0  0  0  0  0  0  0  0  0  0  0  0  0  0\n",
      "  0  5 24  0  0  2  4  4  2  1  2  0  2  0  0  4  4  3  0  0  0  0  2  0]\n",
      "Q_values : [ 1.5045075 18.601454   5.559368   6.6153517]\n",
      "state : [ 0  4  0  0  1  3  0  4  0  0  5  0  0  0  0  0  0  0  0  0  0  0  0  0\n",
      "  0  4  9  0  2  4  4  4  0  0  9  0  2  0  0  4  0 13  0  0  0  0  0  0]\n",
      "Q_values : [-6.2144985 -0.6690786  0.984087  -2.5244923]\n",
      "Step #540.00 (1ms ~= 10.00*RT, ~60000.00UPS, TraCI: 100ms, vehicles TOT 412 ACT 60 BUF 8) \r"
     ]
    },
    {
     "name": "stderr",
     "output_type": "stream",
     "text": [
      "Warning: Vehicle 'CNE.40' performs emergency braking on lane 'end1_junction_2' with decel=9.00, wished=5.00, severity=1.00, time=540.00.\n",
      "Warning: Vehicle 'CNE.40' performs emergency stop at the end of lane 'end1_junction_2' because of a red traffic light (decel=-14.76, offset=0.02), time=540.27.\n"
     ]
    },
    {
     "name": "stdout",
     "output_type": "stream",
     "text": [
      "state : [ 0  6  8  0  2  0  0  2  2  0  6  0  0  0  0  0  0  0  0  0  0  0  0  0          \n",
      "  2  8 10  5  5  3  2  7  4  2  8  2  2  1  2  3  0  3  2  0  7  2  0  0]\n",
      "Q_values : [-5.382546   1.2096198  3.3704088 -3.6169586]\n",
      "Step #621.00 (1ms ~= 10.00*RT, ~81000.00UPS, TraCI: 0ms, vehicles TOT 492 ACT 81 BUF 0)   \r"
     ]
    },
    {
     "name": "stderr",
     "output_type": "stream",
     "text": [
      "Warning: Teleporting vehicle 'ASN.2'; waited too long (yield), lane='end3_junction_1', time=619.09.\n",
      "Warning: Vehicle 'ASN.2' ends teleporting on edge 'junction_end1', time=619.09.\n",
      "Warning: Teleporting vehicle 'CNS.2'; waited too long (yield), lane='end1_junction_1', time=621.68.\n",
      "Warning: Vehicle 'CNS.2' ends teleporting on edge 'junction_end3', time=621.68.\n"
     ]
    },
    {
     "name": "stdout",
     "output_type": "stream",
     "text": [
      "state : [ 0  7 10  0  0  2  0  7  4  0  0  2  0  0  0  0  0  0  0  0  0  0  0  0\n",
      "  1  8 10  6  3  6  2  7  4  1  1  2  2  0  0  4  4  3  2  0  0  2  3  0]\n",
      "Q_values : [2.0723248 9.657366  4.649593  8.082377 ]\n",
      "state : [ 0  7  0  0  6  0  0  7  0  0  2  0  0  0  0  0  0  0  0  0  0  0  0  0\n",
      "  0  7  2  5 11  9  2  7  0  0  4  0  4  0  1  2  0  1  0  0  8  0  0  0]\n",
      "Q_values : [-0.5700574   3.9138827   6.502848    0.52586716]\n",
      "state : [ 0  7  0  0  3 12  0  7  0  0  0  0  0  0  0  0  0  0  0  0  0  0  0  0\n",
      "  2  9  2  7  7 15  2  9  2  2  2  2  4  0  0  0  0  1  0  0  0  0  0  0]\n",
      "Q_values : [-2.356391   -0.04606676 -2.9722512   8.594813  ]\n",
      "state : [ 0  9  2  0  6  0  0  9  1  0  1  0  0  0  0  0  0  0  0  0  0  0  0  0\n",
      "  1  9  2  5 11  8  0  9  2  1  2  0  4  0  2  2  0  0  1  0  9  1  0  0]\n",
      "Q_values : [-0.23850775  4.1006756   6.7525234   1.7943826 ]\n",
      "state : [ 0  9  2  0  0  7  0  9  2  0  0  0  0  0  0  0  0  0  0  0  0  0  0  0\n",
      "  0  9  4  5  4 12  2  9  2  0  1  0  3  0  0  1  2  0  2  0  3  1  7  3]\n",
      "Q_values : [ 1.4284277  6.505167   1.8289518 14.427855 ]\n",
      "state : [ 0  9  4  0  3  0  0  9  2  0  1  0  0  0  0  0  0  0  0  0  0  0  0  0\n",
      "  1 10  4  7  7  3  2  9  2  1  2  0  3  0  0  2  0  0  0  0  9  0  0  0]\n",
      "Q_values : [ 3.6864882 13.741939   5.5537906  3.6048753]\n",
      "state : [ 0  9  0  0  7  2  0  9  0  0  1  0  0  0  0  0  0  0  0  0  0  0  0  0\n",
      "  0  9  1  5 11  7  2  9  0  0  3  0  4  0  0  0  0  3  0  0  2  0  0  1]\n",
      "Q_values : [-0.8000426  3.586872   8.711718   5.7177944]\n",
      "Step #843.00 (0ms ?*RT. ?UPS, TraCI: 0ms, vehicles TOT 650 ACT 58 BUF 4)                  \r"
     ]
    },
    {
     "name": "stderr",
     "output_type": "stream",
     "text": [
      "Warning: Vehicle 'CNER.6' performs emergency braking on lane 'end1_junction_2' with decel=9.00, wished=5.00, severity=1.00, time=843.98.\n"
     ]
    },
    {
     "name": "stdout",
     "output_type": "stream",
     "text": [
      "state : [ 0  9  1  0  0  6  0  9  0  0  0  0  0  0  0  0  0  0  0  0  0  0  0  0\n",
      "  0 10  2  5  5 10  2  9  0  1  1  0  3  0  0  2  2  1  0  0  0  0  6  3]\n",
      "Q_values : [-1.076683  4.268531  3.495504 13.433145]\n",
      "state : [ 0  9  0  0  7  2  0  9  0  0  2  0  0  0  0  0  0  0  0  0  0  0  0  0\n",
      "  3 10  2  5 11  7  2 11  2  3  3  2  4  0  0  2  0  3  0  0  2  0  0  0]\n",
      "Q_values : [-1.8108394  3.872837   5.9932156  7.009267 ]\n",
      "Step #924.00 (0ms ?*RT. ?UPS, TraCI: 0ms, vehicles TOT 718 ACT 77 BUF 8)                  \r"
     ]
    },
    {
     "name": "stderr",
     "output_type": "stream",
     "text": [
      "Warning: Teleporting vehicle 'CSN.2'; waited too long (yield), lane='end3_junction_1', time=921.95.\n",
      "Warning: Vehicle 'CSN.2' ends teleporting on edge 'junction_end1', time=921.95.\n",
      "Warning: Teleporting vehicle 'ANS.2'; waited too long (yield), lane='end1_junction_1', time=924.53.\n",
      "Warning: Vehicle 'ANS.2' ends teleporting on edge 'junction_end3', time=924.53.\n"
     ]
    },
    {
     "name": "stdout",
     "output_type": "stream",
     "text": [
      "state : [ 0 10  2  0 17  0  0 10  0  0  6  0  0  0  0  0  0  0  0  0  0  0  0  0\n",
      "  0 10  2  5 21  4  0 10  0  0  6  0  4  0  0  2  0  0  0  0  5  0  0  0]\n",
      "Q_values : [ 5.5879297 14.040596  27.82622   19.050209 ]\n",
      "Step #1100.00 (0ms ?*RT. ?UPS, TraCI: 0ms, vehicles TOT 845 ACT 77 BUF 1)                 "
     ]
    },
    {
     "name": "stderr",
     "output_type": "stream",
     "text": [
      "Warning: Vehicle 'CESR.33' performs emergency braking on lane 'end2_junction_2' with decel=9.00, wished=5.00, severity=1.00, time=1100.00.\n"
     ]
    },
    {
     "name": "stdout",
     "output_type": "stream",
     "text": [
      "state : [ 0  0  0  0 20 11  0  0  0  0  6  0  0  0  0  0  0  0  0  0  0  0  0  0\n",
      "  0  0  2  6 24 19  2  0  0  0  8  0  4  0  0  1  0  9  0  0  2  0  0  1]\n",
      "Q_values : [ 3.3639197 10.003187  18.327744  13.253811 ]\n",
      "state : [ 0  0  2  0  0 19  0  0  0  0  0  0  0  0  0  0  0  0  0  0  0  0  0  0\n",
      "  0  0  2  5 15 23  0  0  0  0  0  0  4  0  0  2  4  5  0  0  0  0  7  3]\n",
      "Q_values : [-3.706398  -2.6080995  4.5540457  8.295361 ]\n",
      "Step #1204.00 (0ms ?*RT. ?UPS, TraCI: 0ms, vehicles TOT 924 ACT 79 BUF 0)                 \r"
     ]
    },
    {
     "name": "stderr",
     "output_type": "stream",
     "text": [
      "Warning: Vehicle 'CESR.44' performs emergency braking on lane 'end2_junction_2' with decel=9.00, wished=5.00, severity=1.00, time=1200.00.\n",
      "Warning: Vehicle 'CESR.44' performs emergency braking on lane 'end2_junction_2' with decel=9.00, wished=5.00, severity=1.00, time=1201.13.\n",
      "Warning: Vehicle 'CWNR.4' performs emergency braking on lane 'end4_junction_2' with decel=9.00, wished=5.00, severity=1.00, time=1204.13.\n"
     ]
    },
    {
     "name": "stdout",
     "output_type": "stream",
     "text": [
      "state : [ 0  2  0  0 10  0  0  2  0  0  0  0  0  0  0  0  0  0  0  0  0  0  0  0\n",
      "  0  2  0  0 14  0  0  2  0  0  0  0  0  0  1  0  0  0  0  0  9  0  1  0]\n",
      "Q_values : [0.73946095 2.2742372  9.685255   5.170556  ]\n",
      "state : [0 2 0 0 0 0 0 2 0 0 0 0 0 0 0 0 0 0 0 0 0 0 0 0 0 2 0 0 2 0 0 2 0 0 0 0 0\n",
      " 0 0 0 0 0 0 0 3 0 7 3]\n",
      "Q_values : [-8.392421  -7.650775   0.933589   4.8974667]\n",
      "Step #1280.00 (0ms ?*RT. ?UPS, TraCI: 104ms, vehicles TOT 924 ACT 20 BUF 0)               \r"
     ]
    },
    {
     "name": "stderr",
     "output_type": "stream",
     "text": [
      "Warning: Vehicle 'AEWR.49' performs emergency stop at the end of lane 'end2_junction_1' because of a red traffic light (decel=-19.42, offset=0.09), time=1280.16.\n",
      "Warning: Environment variable SUMO_HOME is not set properly, disabling XML validation. Set 'auto' or 'always' for web lookups.\n"
     ]
    },
    {
     "name": "stdout",
     "output_type": "stream",
     "text": [
      "episode : 33\n",
      "Step #1300.00 (0ms ?*RT. ?UPS, TraCI: 0ms, vehicles TOT 924 ACT 7 BUF 0)                  \n",
      " Retrying in 1 seconds\n",
      "state : [0 0 0 0 0 0 0 0 0 0 0 0 0 0 0 0 0 0 0 0 0 0 0 0 2 3 3 2 2 2 4 2 2 3 3 2 0\n",
      " 0 0 0 0 0 0 0 0 0 0 0]\n",
      "Q_values : [ -9.006638  -9.942784 -10.338176 -11.356134]\n",
      "state : [ 0  0 10  0  4  0  0  0  2  0 10  0  0  0  0  0  0  0  0  0  0  0  0  0\n",
      "  0  1 13  4  5  0  4  0  2  1 13  0  2  0  1  4  0  0  0  0  3  0  0  0]\n",
      "Q_values : [ 3.0380592 15.707311  15.395517   2.1938257]\n",
      "state : [ 0  0  0  0  4  0  0  0  0  0 13  0  0  0  0  0  0  0  0  0  0  0  0  0\n",
      "  1  0  6  1  6  2  5  0  0  1 17  0  0  0  0  3  0 10  0  0  0  0  0  1]\n",
      "Q_values : [-2.5450134  4.7492666 10.367809   0.6242216]\n",
      "Step #100.00(0ms ?*RT. ?UPS, TraCI: 0ms, vehicles TOT 84 ACT 57 BUF 0)                    "
     ]
    },
    {
     "name": "stderr",
     "output_type": "stream",
     "text": [
      "Warning: Vehicle 'CNE.5' performs emergency braking on lane 'end1_junction_2' with decel=9.00, wished=5.00, severity=1.00, time=100.00.\n"
     ]
    },
    {
     "name": "stdout",
     "output_type": "stream",
     "text": [
      "state : [0 0 5 0 0 2 0 0 0 0 0 0 0 0 0 0 0 0 0 0 0 0 0 0 0 0 9 2 3 3 4 0 0 0 8 0 2\n",
      " 0 0 4 6 7 0 0 0 0 3 2]\n",
      "Q_values : [-9.876295  -4.6068563 -2.6591592 -5.3889823]\n",
      "state : [ 0  0  9  0  0  3  0  0  0  0  0  0  0  0  0  0  0  0  0  0  0  0  0  0\n",
      "  0  1 12  0  0  4  4  0  0  1  2  0  2  0  0  4  5  3  0  0  0  0  1  0]\n",
      "Q_values : [-2.098046   5.8091536  1.4217772  4.142748 ]\n",
      "state : [0 0 0 0 0 4 0 0 0 0 2 0 0 0 0 0 0 0 0 0 0 0 0 0 3 2 5 2 3 5 5 3 1 3 7 1 0\n",
      " 0 0 3 0 9 0 0 0 0 0 0]\n",
      "Q_values : [ -9.642281 -10.309027 -10.441169  -9.524164]\n",
      "state : [ 0  2  0  0  2  0  0  2  0  0  9  0  0  0  0  0  0  0  0  0  0  0  0  0\n",
      "  0  3  3  2  4  2  4  2  0  1 12  0  0  0  0  4  0  7  0  0  0  0  0  1]\n",
      "Q_values : [-5.30495   -2.163301   4.9536743  1.1535667]\n",
      "state : [0 2 3 0 0 2 0 2 0 0 0 0 0 0 0 0 0 0 0 0 0 0 0 0 1 2 7 2 0 2 5 2 0 1 4 0 2\n",
      " 0 0 2 6 4 0 0 0 0 2 1]\n",
      "Q_values : [-4.5821886  -0.7048907  -0.12347794  0.76654446]\n",
      "Interrupt signal received, trying to exit gracefully.T 178 ACT 48 BUF 2)                  \n"
     ]
    },
    {
     "ename": "KeyboardInterrupt",
     "evalue": "",
     "output_type": "error",
     "traceback": [
      "\u001b[0;31m---------------------------------------------------------------------------\u001b[0m",
      "\u001b[0;31mKeyboardInterrupt\u001b[0m                         Traceback (most recent call last)",
      "Cell \u001b[0;32mIn[51], line 55\u001b[0m\n\u001b[1;32m     52\u001b[0m         \u001b[38;5;28;01mif\u001b[39;00m \u001b[38;5;28mlen\u001b[39m(replay_buffer) \u001b[38;5;241m>\u001b[39m\u001b[38;5;241m=\u001b[39m batch_size\u001b[38;5;241m*\u001b[39m\u001b[38;5;241m10\u001b[39m:\n\u001b[1;32m     53\u001b[0m             training_step(batch_size)\n\u001b[0;32m---> 55\u001b[0m     \u001b[43mtraci\u001b[49m\u001b[38;5;241;43m.\u001b[39;49m\u001b[43msimulationStep\u001b[49m\u001b[43m(\u001b[49m\u001b[43m)\u001b[49m\n\u001b[1;32m     57\u001b[0m \u001b[38;5;28;01mif\u001b[39;00m episode\u001b[38;5;241m%\u001b[39m\u001b[38;5;241m5\u001b[39m\u001b[38;5;241m==\u001b[39m\u001b[38;5;241m0\u001b[39m:\n\u001b[1;32m     58\u001b[0m     target\u001b[38;5;241m.\u001b[39mset_weights(model_action\u001b[38;5;241m.\u001b[39mget_weights())\n",
      "File \u001b[0;32m~/.pyenv/versions/3.10.6/envs/RL_traffic/lib/python3.10/site-packages/traci/main.py:198\u001b[0m, in \u001b[0;36msimulationStep\u001b[0;34m(step)\u001b[0m\n\u001b[1;32m    192\u001b[0m \u001b[38;5;28;01mdef\u001b[39;00m\u001b[38;5;250m \u001b[39m\u001b[38;5;21msimulationStep\u001b[39m(step\u001b[38;5;241m=\u001b[39m\u001b[38;5;241m0\u001b[39m):\n\u001b[1;32m    193\u001b[0m \u001b[38;5;250m    \u001b[39m\u001b[38;5;124;03m\"\"\"simulationStep(float) -> None\u001b[39;00m\n\u001b[1;32m    194\u001b[0m \u001b[38;5;124;03m    Make a simulation step and simulate up to the given second in sim time.\u001b[39;00m\n\u001b[1;32m    195\u001b[0m \u001b[38;5;124;03m    If the given value is 0 or absent, exactly one step is performed.\u001b[39;00m\n\u001b[1;32m    196\u001b[0m \u001b[38;5;124;03m    Values smaller than or equal to the current sim time result in no action.\u001b[39;00m\n\u001b[1;32m    197\u001b[0m \u001b[38;5;124;03m    \"\"\"\u001b[39;00m\n\u001b[0;32m--> 198\u001b[0m     \u001b[43mconnection\u001b[49m\u001b[38;5;241;43m.\u001b[39;49m\u001b[43mcheck\u001b[49m\u001b[43m(\u001b[49m\u001b[43m)\u001b[49m\u001b[38;5;241;43m.\u001b[39;49m\u001b[43msimulationStep\u001b[49m\u001b[43m(\u001b[49m\u001b[43mstep\u001b[49m\u001b[43m)\u001b[49m\n",
      "File \u001b[0;32m~/.pyenv/versions/3.10.6/envs/RL_traffic/lib/python3.10/site-packages/traci/connection.py:370\u001b[0m, in \u001b[0;36mConnection.simulationStep\u001b[0;34m(self, step)\u001b[0m\n\u001b[1;32m    368\u001b[0m \u001b[38;5;28;01mif\u001b[39;00m \u001b[38;5;28mtype\u001b[39m(step) \u001b[38;5;129;01mis\u001b[39;00m \u001b[38;5;28mint\u001b[39m \u001b[38;5;129;01mand\u001b[39;00m step \u001b[38;5;241m>\u001b[39m\u001b[38;5;241m=\u001b[39m \u001b[38;5;241m1000\u001b[39m:\n\u001b[1;32m    369\u001b[0m     warnings\u001b[38;5;241m.\u001b[39mwarn(\u001b[38;5;124m\"\u001b[39m\u001b[38;5;124mAPI change now handles step as floating point seconds\u001b[39m\u001b[38;5;124m\"\u001b[39m, stacklevel\u001b[38;5;241m=\u001b[39m\u001b[38;5;241m2\u001b[39m)\n\u001b[0;32m--> 370\u001b[0m result \u001b[38;5;241m=\u001b[39m \u001b[38;5;28;43mself\u001b[39;49m\u001b[38;5;241;43m.\u001b[39;49m\u001b[43m_sendCmd\u001b[49m\u001b[43m(\u001b[49m\u001b[43mtc\u001b[49m\u001b[38;5;241;43m.\u001b[39;49m\u001b[43mCMD_SIMSTEP\u001b[49m\u001b[43m,\u001b[49m\u001b[43m \u001b[49m\u001b[38;5;28;43;01mNone\u001b[39;49;00m\u001b[43m,\u001b[49m\u001b[43m \u001b[49m\u001b[38;5;28;43;01mNone\u001b[39;49;00m\u001b[43m,\u001b[49m\u001b[43m \u001b[49m\u001b[38;5;124;43m\"\u001b[39;49m\u001b[38;5;124;43mD\u001b[39;49m\u001b[38;5;124;43m\"\u001b[39;49m\u001b[43m,\u001b[49m\u001b[43m \u001b[49m\u001b[43mstep\u001b[49m\u001b[43m)\u001b[49m\n\u001b[1;32m    371\u001b[0m \u001b[38;5;28;01mfor\u001b[39;00m subscriptionResults \u001b[38;5;129;01min\u001b[39;00m \u001b[38;5;28mself\u001b[39m\u001b[38;5;241m.\u001b[39m_subscriptionMapping\u001b[38;5;241m.\u001b[39mvalues():\n\u001b[1;32m    372\u001b[0m     subscriptionResults\u001b[38;5;241m.\u001b[39mreset()\n",
      "File \u001b[0;32m~/.pyenv/versions/3.10.6/envs/RL_traffic/lib/python3.10/site-packages/traci/connection.py:232\u001b[0m, in \u001b[0;36mConnection._sendCmd\u001b[0;34m(self, cmdID, varID, objID, format, *values)\u001b[0m\n\u001b[1;32m    230\u001b[0m     \u001b[38;5;28mself\u001b[39m\u001b[38;5;241m.\u001b[39m_string \u001b[38;5;241m+\u001b[39m\u001b[38;5;241m=\u001b[39m struct\u001b[38;5;241m.\u001b[39mpack(\u001b[38;5;124m\"\u001b[39m\u001b[38;5;124m!i\u001b[39m\u001b[38;5;124m\"\u001b[39m, \u001b[38;5;28mlen\u001b[39m(objID)) \u001b[38;5;241m+\u001b[39m objID\n\u001b[1;32m    231\u001b[0m \u001b[38;5;28mself\u001b[39m\u001b[38;5;241m.\u001b[39m_string \u001b[38;5;241m+\u001b[39m\u001b[38;5;241m=\u001b[39m packed\n\u001b[0;32m--> 232\u001b[0m \u001b[38;5;28;01mreturn\u001b[39;00m \u001b[38;5;28;43mself\u001b[39;49m\u001b[38;5;241;43m.\u001b[39;49m\u001b[43m_sendExact\u001b[49m\u001b[43m(\u001b[49m\u001b[43m)\u001b[49m\n",
      "File \u001b[0;32m~/.pyenv/versions/3.10.6/envs/RL_traffic/lib/python3.10/site-packages/traci/connection.py:130\u001b[0m, in \u001b[0;36mConnection._sendExact\u001b[0;34m(self)\u001b[0m\n\u001b[1;32m    128\u001b[0m \u001b[38;5;28;01mif\u001b[39;00m _DEBUG:\n\u001b[1;32m    129\u001b[0m     \u001b[38;5;28mprint\u001b[39m(\u001b[38;5;124m\"\u001b[39m\u001b[38;5;124msending\u001b[39m\u001b[38;5;124m\"\u001b[39m, Storage(length \u001b[38;5;241m+\u001b[39m \u001b[38;5;28mself\u001b[39m\u001b[38;5;241m.\u001b[39m_string)\u001b[38;5;241m.\u001b[39mgetDebugString())\n\u001b[0;32m--> 130\u001b[0m \u001b[38;5;28;43mself\u001b[39;49m\u001b[38;5;241;43m.\u001b[39;49m\u001b[43m_socket\u001b[49m\u001b[38;5;241;43m.\u001b[39;49m\u001b[43msend\u001b[49m\u001b[43m(\u001b[49m\u001b[43mlength\u001b[49m\u001b[43m \u001b[49m\u001b[38;5;241;43m+\u001b[39;49m\u001b[43m \u001b[49m\u001b[38;5;28;43mself\u001b[39;49m\u001b[38;5;241;43m.\u001b[39;49m\u001b[43m_string\u001b[49m\u001b[43m)\u001b[49m\n\u001b[1;32m    131\u001b[0m result \u001b[38;5;241m=\u001b[39m \u001b[38;5;28mself\u001b[39m\u001b[38;5;241m.\u001b[39m_recvExact()\n\u001b[1;32m    132\u001b[0m \u001b[38;5;28;01mif\u001b[39;00m _DEBUG:\n",
      "\u001b[0;31mKeyboardInterrupt\u001b[0m: "
     ]
    }
   ],
   "source": [
    "sumoConfig3 = r\"Traditional_traffic/traditional_traffic.sumo.cfg\"\n",
    "\n",
    "\n",
    "rewards = []\n",
    "best_score = 0\n",
    "reward = 0\n",
    "total_reward = 0\n",
    "list_values = []\n",
    "weights = []\n",
    "wait_times = []\n",
    "replay_buffer = deque(maxlen=10000)\n",
    "\n",
    "\n",
    "sumoCmd = [sumo_bin, \"-c\",simulConfig,'--start']\n",
    "print(sumoCmd)\n",
    "for episode in range(80):\n",
    "    if traci.isLoaded():\n",
    "        traci.close()\n",
    "    traci.start(sumoCmd)\n",
    "    lane_ids =  traci.lane.getIDList()\n",
    "    # print(lane_ids[0])\n",
    "\n",
    "    trafic_light_ids = traci.trafficlight.getIDList()\n",
    "\n",
    "    # state = np.array(queue(lane_ids))\n",
    "    state=np.array(get_state(lane_ids))\n",
    "    action=-1\n",
    "    # print(state)\n",
    "    wait_times.append(0)\n",
    "    for step in range(130000): ## TO CHANGED\n",
    "        epsilon = max(1 - episode / 80, 0.01)\n",
    "\n",
    "        if step%2000 == 0:\n",
    "            #######################################################################\n",
    "            next_state = np.array(get_state(lane_ids))\n",
    "            reward = np.sum(state[:24])- np.sum(next_state[:24])\n",
    "            replay_buffer.append((state, action, reward, next_state))\n",
    "            #######################################################################\n",
    "\n",
    "            state=next_state\n",
    "            action = epsilon_greedy_policy(state, epsilon)\n",
    "            traci.trafficlight.setPhase(trafic_light_ids[0],2*action)\n",
    "\n",
    "            if len(replay_buffer) >= batch_size*10:\n",
    "                training_step(batch_size)\n",
    "\n",
    "        traci.simulationStep()\n",
    "\n",
    "    if episode%5==0:\n",
    "        target.set_weights(model_action.get_weights())\n",
    "    print(f'episode : {episode}')\n",
    "    traci.close()\n"
   ]
  },
  {
   "cell_type": "code",
   "execution_count": null,
   "metadata": {},
   "outputs": [],
   "source": []
  },
  {
   "cell_type": "code",
   "execution_count": null,
   "metadata": {},
   "outputs": [
    {
     "name": "stdout",
     "output_type": "stream",
     "text": [
      " Retrying in 1 seconds\n",
      "state : [0 0 0 0 0 0 0 0 0 0 0 0 0 0 0 0 0 0 0 0 0 0 0 0 0 0 0 0 0 0 0 0 0 0 0 0 0\n",
      " 0 0 0 0 0 0 0 0 0 0 0]\n",
      "Q_values : [-5.0287285 -5.4861917 -5.2892523 -4.848423 ]\n",
      "state : [0 0 0 0 0 0 0 0 0 0 0 0 0 0 0 0 0 0 0 0 0 0 0 0 2 3 3 2 2 2 4 2 2 3 3 2 0\n",
      " 0 0 0 0 0 0 0 0 0 0 0]\n",
      "Q_values : [-10.795435  -11.943055  -12.3541155 -10.7902355]\n",
      "state : [0 2 2 0 2 0 0 2 2 0 3 0 0 0 0 0 0 0 0 0 0 0 0 0 1 2 7 2 2 0 6 2 2 1 7 0 2\n",
      " 0 2 2 0 0 2 0 2 2 0 0]\n",
      "Q_values : [-6.6604815 -2.3230062  3.8427765 -1.3727925]\n",
      "state : [ 0  2  6  0  0  0  0  2  2  0  0  0  0  0  0  0  0  0  0  0  0  0  0  0\n",
      "  0  2 10  2  1  2  4  2  2  0  3  0  0  0  0  4  4  2  0  0  0  0  2  0]\n",
      "Q_values : [-3.7509315   2.073576    0.12481058  1.949066  ]\n",
      "state : [0 2 0 0 1 2 0 2 0 0 2 0 0 0 0 0 0 0 0 0 0 0 0 0 0 3 3 4 2 2 4 2 0 1 6 0 2\n",
      " 0 0 4 0 9 0 0 0 0 0 1]\n",
      "Q_values : [-8.6424675 -5.243136  -1.0198042 -2.2205286]\n",
      "state : [0 2 3 0 0 2 0 2 0 0 0 0 0 0 0 0 0 0 0 0 0 0 0 0 1 2 7 1 1 4 5 2 0 1 3 0 0\n",
      " 0 0 3 4 4 0 0 0 0 2 0]\n",
      "Q_values : [-5.1426196  -2.2351985  -1.3361306   0.37369198]\n",
      "state : [ 0  2  6  0  1  0  0  2  0  0  2  0  0  0  0  0  0  0  0  0  0  0  0  0\n",
      "  0  2 10  2  4  1  4  2  0  0  6  0  2  0  0  3  0  1  0  0  3  0  0  0]\n",
      "Q_values : [-5.4110217  -0.51420164  1.2084574  -1.4080065 ]\n",
      "state : [ 0  2 10  0  0  0  0  2  0  0  0  0  0  0  0  0  0  0  0  0  0  0  0  0\n",
      "  0  3 13  0  0  2  4  2  0  1  2  0  2  0  0  4  3  2  0  0  0  0  2  0]\n",
      "Q_values : [-3.1568542   3.4238272  -0.09664583  3.1724644 ]\n",
      "state : [0 2 0 0 0 2 0 2 0 0 2 0 0 0 0 0 0 0 0 0 0 0 0 0 3 4 6 2 3 3 6 5 1 3 7 1 0\n",
      " 0 0 3 0 9 0 0 0 0 0 0]\n",
      "Q_values : [-10.497348 -11.463193 -11.6255   -10.09859 ]\n",
      "state : [0 3 4 0 1 0 0 3 1 0 4 0 0 0 0 0 0 0 0 0 0 0 0 0 0 4 9 0 2 0 4 4 2 0 9 0 2\n",
      " 0 2 4 0 2 2 0 4 2 0 0]\n",
      "Q_values : [-6.551604   -2.222764    3.731846   -0.39583123]\n",
      "state : [ 0  4  9  0  0  0  0  4  2  0  0  0  0  0  0  0  0  0  0  0  0  0  0  0\n",
      "  0  5 12  2  2  2  4  4  2  1  2  0  0  0  0  4  5  4  0  0  0  0  1  0]\n",
      "Q_values : [-2.6285727  4.232861   1.8865113  3.7629464]\n",
      "state : [0 4 0 0 2 2 0 4 0 0 2 0 0 0 0 0 0 0 0 0 0 0 0 0 1 4 5 2 2 2 6 4 0 1 6 0 2\n",
      " 0 0 2 0 9 0 0 0 0 0 1]\n",
      "Q_values : [-5.126542  -2.548155   2.0324473  0.6676718]\n",
      "state : [0 4 4 0 0 2 0 4 0 0 0 0 0 0 0 0 0 0 0 0 0 0 0 0 0 4 8 2 2 4 4 4 0 0 3 0 0\n",
      " 0 0 4 4 5 0 0 0 0 1 0]\n",
      "Q_values : [-3.8369017   0.5403626  -0.38561773  2.5689383 ]\n",
      "state : [ 0  4  8  0  2  0  0  4  0  0  2  0  0  0  0  0  0  0  0  0  0  0  0  0\n",
      "  0  5 11  4  3  0  4  4  0  1  6  0  2  0  0  4  0  0  0  0  3  0  0  0]\n",
      "Q_values : [-3.8427458   2.1270971   3.6552684   0.54470813]\n",
      "state : [ 0  4 11  0  0  0  0  4  0  0  0  0  0  0  0  0  0  0  0  0  0  0  0  0\n",
      "  1  4 15  1  1  2  5  4  0  1  3  0  0  0  0  2  5  3  0  0  0  0  2  0]\n",
      "Q_values : [-2.954255    3.205802    0.58739567  3.6705894 ]\n",
      "state : [ 0  4 15  0  1  0  0  4  0  0  2  0  0  0  0  0  0  0  0  0  0  0  0  0\n",
      "  2  7 17  2  4  1  5  6  1  3  6  1  2  0  0  3  1  0  0  0  2  0  0  0]\n",
      "Q_values : [-3.9464386   2.3426743   2.069572    0.62702227]\n",
      "state : [ 0  5  0  0  2  1  0  5  0  0  5  1  0  0  0  0  0  0  0  0  0  0  0  0\n",
      "  0  7 10  0  3  2  4  6  1  1  9  2  2  0  0  4  0  9  2  0  0  1  0  1]\n",
      "Q_values : [-6.9205017  -4.09639     2.3749232   0.32873943]\n",
      "state : [ 0  3 10  0  0  2  0  3  1  0  0  2  0  0  0  0  0  0  0  0  0  0  0  0\n",
      "  1  5 14  2  3  3  6  5  1  1  3  2  1  1  0  1  6  6  1  1  0  1  2  1]\n",
      "Q_values : [-2.5938175  3.3339396  1.6805948  4.353441 ]\n",
      "state : [ 0  5 14  0  1  0  0  5  1  0  2  0  0  0  0  0  0  0  0  0  0  0  0  0\n",
      "  0  5 17  0  2  0  4  5  1  0  6  0  2  0  1  3  0  1  0  0  3  0  0  0]\n",
      "Q_values : [-0.95972776  6.19586     8.986069    5.6454782 ]\n",
      "state : [ 0  5 17  0  0  0  0  5  1  0  0  0  0  0  0  0  0  0  0  0  0  0  0  0\n",
      "  0  6 20  2  2  2  4  5  1  1  3  0  0  0  0  4  3  2  0  0  0  0  1  0]\n",
      "Q_values : [-0.84124947  8.097361    3.9179184   6.6935835 ]\n",
      "state : [ 0  5  0  0  2  2  0  5  0  0  3  0  0  0  0  0  0  0  0  0  0  0  0  0\n",
      "  1  5 13  2  2  2  6  5  0  1  7  0  2  0  0  2  0  9  0  0  0  0  0  1]\n",
      "Q_values : [-6.7965984  -3.6303985   0.9306151  -0.54900426]\n",
      "state : [ 0  5 10  0  0  2  0  5  0  0  0  0  0  0  0  0  0  0  0  0  0  0  0  0\n",
      "  0  5 16  2  2  4  4  5  0  0  3  0  0  0  0  4  4  6  0  0  0  0  1  0]\n",
      "Q_values : [-2.1297524  4.723174   0.726588   5.396241 ]\n"
     ]
    },
    {
     "ename": "FatalTraCIError",
     "evalue": "Connection closed by SUMO.",
     "output_type": "error",
     "traceback": [
      "\u001b[0;31m---------------------------------------------------------------------------\u001b[0m",
      "\u001b[0;31mFatalTraCIError\u001b[0m                           Traceback (most recent call last)",
      "Cell \u001b[0;32mIn[60], line 25\u001b[0m\n\u001b[1;32m     20\u001b[0m         \u001b[38;5;66;03m# action = np.random.randint(8)\u001b[39;00m\n\u001b[1;32m     21\u001b[0m         \u001b[38;5;66;03m# print(\"action\", action)\u001b[39;00m\n\u001b[1;32m     22\u001b[0m         \u001b[38;5;66;03m# print(traci.trafficlight.getAllProgramLogics(nom_du_feu))\u001b[39;00m\n\u001b[1;32m     23\u001b[0m         \u001b[38;5;66;03m# print(traci.trafficlight.getAllProgramLogics(nom_du_feu)[0].phases[action])\u001b[39;00m\n\u001b[1;32m     24\u001b[0m         traci\u001b[38;5;241m.\u001b[39mtrafficlight\u001b[38;5;241m.\u001b[39msetPhase(trafic_light_ids[\u001b[38;5;241m0\u001b[39m],action)\n\u001b[0;32m---> 25\u001b[0m     \u001b[43mtraci\u001b[49m\u001b[38;5;241;43m.\u001b[39;49m\u001b[43msimulationStep\u001b[49m\u001b[43m(\u001b[49m\u001b[43m)\u001b[49m\n\u001b[1;32m     27\u001b[0m traci\u001b[38;5;241m.\u001b[39mclose()\n",
      "File \u001b[0;32m~/.pyenv/versions/3.10.6/envs/RL_traffic/lib/python3.10/site-packages/traci/main.py:198\u001b[0m, in \u001b[0;36msimulationStep\u001b[0;34m(step)\u001b[0m\n\u001b[1;32m    192\u001b[0m \u001b[38;5;28;01mdef\u001b[39;00m\u001b[38;5;250m \u001b[39m\u001b[38;5;21msimulationStep\u001b[39m(step\u001b[38;5;241m=\u001b[39m\u001b[38;5;241m0\u001b[39m):\n\u001b[1;32m    193\u001b[0m \u001b[38;5;250m    \u001b[39m\u001b[38;5;124;03m\"\"\"simulationStep(float) -> None\u001b[39;00m\n\u001b[1;32m    194\u001b[0m \u001b[38;5;124;03m    Make a simulation step and simulate up to the given second in sim time.\u001b[39;00m\n\u001b[1;32m    195\u001b[0m \u001b[38;5;124;03m    If the given value is 0 or absent, exactly one step is performed.\u001b[39;00m\n\u001b[1;32m    196\u001b[0m \u001b[38;5;124;03m    Values smaller than or equal to the current sim time result in no action.\u001b[39;00m\n\u001b[1;32m    197\u001b[0m \u001b[38;5;124;03m    \"\"\"\u001b[39;00m\n\u001b[0;32m--> 198\u001b[0m     \u001b[43mconnection\u001b[49m\u001b[38;5;241;43m.\u001b[39;49m\u001b[43mcheck\u001b[49m\u001b[43m(\u001b[49m\u001b[43m)\u001b[49m\u001b[38;5;241;43m.\u001b[39;49m\u001b[43msimulationStep\u001b[49m\u001b[43m(\u001b[49m\u001b[43mstep\u001b[49m\u001b[43m)\u001b[49m\n",
      "File \u001b[0;32m~/.pyenv/versions/3.10.6/envs/RL_traffic/lib/python3.10/site-packages/traci/connection.py:370\u001b[0m, in \u001b[0;36mConnection.simulationStep\u001b[0;34m(self, step)\u001b[0m\n\u001b[1;32m    368\u001b[0m \u001b[38;5;28;01mif\u001b[39;00m \u001b[38;5;28mtype\u001b[39m(step) \u001b[38;5;129;01mis\u001b[39;00m \u001b[38;5;28mint\u001b[39m \u001b[38;5;129;01mand\u001b[39;00m step \u001b[38;5;241m>\u001b[39m\u001b[38;5;241m=\u001b[39m \u001b[38;5;241m1000\u001b[39m:\n\u001b[1;32m    369\u001b[0m     warnings\u001b[38;5;241m.\u001b[39mwarn(\u001b[38;5;124m\"\u001b[39m\u001b[38;5;124mAPI change now handles step as floating point seconds\u001b[39m\u001b[38;5;124m\"\u001b[39m, stacklevel\u001b[38;5;241m=\u001b[39m\u001b[38;5;241m2\u001b[39m)\n\u001b[0;32m--> 370\u001b[0m result \u001b[38;5;241m=\u001b[39m \u001b[38;5;28;43mself\u001b[39;49m\u001b[38;5;241;43m.\u001b[39;49m\u001b[43m_sendCmd\u001b[49m\u001b[43m(\u001b[49m\u001b[43mtc\u001b[49m\u001b[38;5;241;43m.\u001b[39;49m\u001b[43mCMD_SIMSTEP\u001b[49m\u001b[43m,\u001b[49m\u001b[43m \u001b[49m\u001b[38;5;28;43;01mNone\u001b[39;49;00m\u001b[43m,\u001b[49m\u001b[43m \u001b[49m\u001b[38;5;28;43;01mNone\u001b[39;49;00m\u001b[43m,\u001b[49m\u001b[43m \u001b[49m\u001b[38;5;124;43m\"\u001b[39;49m\u001b[38;5;124;43mD\u001b[39;49m\u001b[38;5;124;43m\"\u001b[39;49m\u001b[43m,\u001b[49m\u001b[43m \u001b[49m\u001b[43mstep\u001b[49m\u001b[43m)\u001b[49m\n\u001b[1;32m    371\u001b[0m \u001b[38;5;28;01mfor\u001b[39;00m subscriptionResults \u001b[38;5;129;01min\u001b[39;00m \u001b[38;5;28mself\u001b[39m\u001b[38;5;241m.\u001b[39m_subscriptionMapping\u001b[38;5;241m.\u001b[39mvalues():\n\u001b[1;32m    372\u001b[0m     subscriptionResults\u001b[38;5;241m.\u001b[39mreset()\n",
      "File \u001b[0;32m~/.pyenv/versions/3.10.6/envs/RL_traffic/lib/python3.10/site-packages/traci/connection.py:232\u001b[0m, in \u001b[0;36mConnection._sendCmd\u001b[0;34m(self, cmdID, varID, objID, format, *values)\u001b[0m\n\u001b[1;32m    230\u001b[0m     \u001b[38;5;28mself\u001b[39m\u001b[38;5;241m.\u001b[39m_string \u001b[38;5;241m+\u001b[39m\u001b[38;5;241m=\u001b[39m struct\u001b[38;5;241m.\u001b[39mpack(\u001b[38;5;124m\"\u001b[39m\u001b[38;5;124m!i\u001b[39m\u001b[38;5;124m\"\u001b[39m, \u001b[38;5;28mlen\u001b[39m(objID)) \u001b[38;5;241m+\u001b[39m objID\n\u001b[1;32m    231\u001b[0m \u001b[38;5;28mself\u001b[39m\u001b[38;5;241m.\u001b[39m_string \u001b[38;5;241m+\u001b[39m\u001b[38;5;241m=\u001b[39m packed\n\u001b[0;32m--> 232\u001b[0m \u001b[38;5;28;01mreturn\u001b[39;00m \u001b[38;5;28;43mself\u001b[39;49m\u001b[38;5;241;43m.\u001b[39;49m\u001b[43m_sendExact\u001b[49m\u001b[43m(\u001b[49m\u001b[43m)\u001b[49m\n",
      "File \u001b[0;32m~/.pyenv/versions/3.10.6/envs/RL_traffic/lib/python3.10/site-packages/traci/connection.py:137\u001b[0m, in \u001b[0;36mConnection._sendExact\u001b[0;34m(self)\u001b[0m\n\u001b[1;32m    135\u001b[0m     \u001b[38;5;28mself\u001b[39m\u001b[38;5;241m.\u001b[39m_socket\u001b[38;5;241m.\u001b[39mclose()\n\u001b[1;32m    136\u001b[0m     \u001b[38;5;28mself\u001b[39m\u001b[38;5;241m.\u001b[39m_socket \u001b[38;5;241m=\u001b[39m \u001b[38;5;28;01mNone\u001b[39;00m\n\u001b[0;32m--> 137\u001b[0m     \u001b[38;5;28;01mraise\u001b[39;00m FatalTraCIError(\u001b[38;5;124m\"\u001b[39m\u001b[38;5;124mConnection closed by SUMO.\u001b[39m\u001b[38;5;124m\"\u001b[39m)\n\u001b[1;32m    138\u001b[0m \u001b[38;5;28;01mfor\u001b[39;00m command \u001b[38;5;129;01min\u001b[39;00m \u001b[38;5;28mself\u001b[39m\u001b[38;5;241m.\u001b[39m_queue:\n\u001b[1;32m    139\u001b[0m     prefix \u001b[38;5;241m=\u001b[39m result\u001b[38;5;241m.\u001b[39mread(\u001b[38;5;124m\"\u001b[39m\u001b[38;5;124m!BBB\u001b[39m\u001b[38;5;124m\"\u001b[39m)\n",
      "\u001b[0;31mFatalTraCIError\u001b[0m: Connection closed by SUMO."
     ]
    }
   ],
   "source": [
    "sumoCmd = [sumo_gui_bin, \"-c\",simulConfig,\"--start\", \"--no-warnings\"]\n",
    "\n",
    "if traci.isLoaded():\n",
    "    traci.close()\n",
    "traci.start(sumoCmd)\n",
    "lane_ids =  traci.lane.getIDList()\n",
    "trafic_light_ids = traci.trafficlight.getIDList()\n",
    "\n",
    "state = np.array(get_state(lane_ids))\n",
    "action=-1\n",
    "# print(state)\n",
    "wait_times.append(0)\n",
    "for step in range(130000): ## TO CHANGED\n",
    "    #epsilon = max(1 - episode / 10, 0.01)\n",
    "    nom_du_feu= traci.trafficlight.getIDList()[0]\n",
    "\n",
    "    if step%2000 == 0:\n",
    "        state=np.array(get_state(lane_ids))\n",
    "        action = epsilon_greedy_policy(state,0)*2\n",
    "        # action = np.random.randint(8)\n",
    "        # print(\"action\", action)\n",
    "        # print(traci.trafficlight.getAllProgramLogics(nom_du_feu))\n",
    "        # print(traci.trafficlight.getAllProgramLogics(nom_du_feu)[0].phases[action])\n",
    "        traci.trafficlight.setPhase(trafic_light_ids[0],action)\n",
    "    traci.simulationStep()\n",
    "\n",
    "traci.close()\n"
   ]
  }
 ],
 "metadata": {
  "kernelspec": {
   "display_name": "RL_traffic",
   "language": "python",
   "name": "python3"
  },
  "language_info": {
   "codemirror_mode": {
    "name": "ipython",
    "version": 3
   },
   "file_extension": ".py",
   "mimetype": "text/x-python",
   "name": "python",
   "nbconvert_exporter": "python",
   "pygments_lexer": "ipython3",
   "version": "3.10.6"
  }
 },
 "nbformat": 4,
 "nbformat_minor": 2
}
