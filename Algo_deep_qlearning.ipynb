{
 "cells": [
  {
   "cell_type": "code",
   "execution_count": 1,
   "metadata": {},
   "outputs": [],
   "source": [
    "%load_ext autoreload\n",
    "%autoreload 2"
   ]
  },
  {
   "cell_type": "code",
   "execution_count": 2,
   "metadata": {},
   "outputs": [],
   "source": [
    "from state import get_state, queue\n",
    "from basic.reward_basic import calculate_reward\n",
    "from basic.learner_basic import Learner\n",
    "from traffic_lights_maps import get_traffic_light_phases, make_map\n",
    "import os\n",
    "import sys\n",
    "\n",
    "import traci\n",
    "import random\n",
    "import gym\n",
    "from gym import spaces"
   ]
  },
  {
   "cell_type": "code",
   "execution_count": 3,
   "metadata": {},
   "outputs": [],
   "source": [
    "from tensorflow.keras import Sequential, layers\n",
    "from tensorflow.random import set_seed\n",
    "import numpy as np\n",
    "from collections import deque\n",
    "from tensorflow import keras\n",
    "from tensorflow import reduce_sum, reduce_mean, one_hot, GradientTape\n",
    "from tensorflow.keras.losses import MeanSquaredError\n",
    "import matplotlib.pyplot as plt"
   ]
  },
  {
   "cell_type": "code",
   "execution_count": 4,
   "metadata": {},
   "outputs": [
    {
     "name": "stderr",
     "output_type": "stream",
     "text": [
      "/Users/arseneclaustre/.pyenv/versions/3.10.6/envs/RL_traffic/lib/python3.10/site-packages/keras/src/layers/core/dense.py:87: UserWarning: Do not pass an `input_shape`/`input_dim` argument to a layer. When using Sequential models, prefer using an `Input(shape)` object as the first layer in the model instead.\n",
      "  super().__init__(activity_regularizer=activity_regularizer, **kwargs)\n"
     ]
    }
   ],
   "source": [
    "set_seed(42)  # extra code – ensures reproducibility on the CPU\n",
    "\n",
    "input_shape = [36]  # == env.observation_space.shape\n",
    "n_outputs = 4  # == env.action_space.n\n",
    "#[((Phase(duration=30.0, state='GGrGrrGGrGrr', minDur=30.0, maxDur=30.0), Phase(duration=20.0, state='grGgrrgrGgrr', minDur=20.0, maxDur=20.0), Phase(duration=30.0, state='GrrGGrGrrGGr', minDur=30.0, maxDur=30.0), Phase(duration=20.0, state='grrgrGgrrgrG', minDur=20.0, maxDur=20.0)), [0, 2, 4, 6])]\n",
    "model_action = Sequential([\n",
    "    layers.Dense(32, activation=\"elu\", input_shape=input_shape),\n",
    "    layers.Dense(32, activation=\"elu\"),\n",
    "    # layers.Dense(2, activation=\"elu\"),\n",
    "    layers.Dense(n_outputs)])"
   ]
  },
  {
   "cell_type": "code",
   "execution_count": 5,
   "metadata": {},
   "outputs": [],
   "source": [
    "def epsilon_greedy_policy(state, epsilon=0):\n",
    "    if np.random.rand() < epsilon:\n",
    "        return np.random.randint(n_outputs)  # random action\n",
    "    else:\n",
    "        Q_values = model_action.predict(state[np.newaxis], verbose=0)[0]\n",
    "        print(f\"state : {state}\")\n",
    "        print(f\"Q_values : {Q_values}\")\n",
    "        return Q_values.argmax()  # optimal action according to the DQN"
   ]
  },
  {
   "cell_type": "code",
   "execution_count": 6,
   "metadata": {},
   "outputs": [],
   "source": [
    "def sample_experiences(batch_size):\n",
    "    indices = np.random.randint(len(replay_buffer), size=batch_size)\n",
    "    batch = [replay_buffer[index] for index in indices]\n",
    "    states, actions, rewards, next_states = [\n",
    "        np.array([experience[field_index] for experience in batch])\n",
    "        for field_index in range(4)\n",
    "    ]\n",
    "    return states, actions, rewards, next_states"
   ]
  },
  {
   "cell_type": "code",
   "execution_count": 7,
   "metadata": {},
   "outputs": [],
   "source": [
    "batch_size = 32\n",
    "discount_factor = 0.5\n",
    "optimizer = keras.optimizers.Nadam(learning_rate=1e-1)\n",
    "loss_fn = MeanSquaredError()\n",
    "\n",
    "def training_step(batch_size):\n",
    "    experiences = sample_experiences(batch_size)\n",
    "    states, actions, rewards, next_states = experiences  # a changer\n",
    "    next_Q_values = model_action.predict(next_states, verbose=0)\n",
    "    max_next_Q_values = next_Q_values.max(axis=1)\n",
    "    # runs = 1.0 - (dones | truncateds)  # episode is not done or truncated\n",
    "    target_Q_values = rewards + discount_factor * max_next_Q_values\n",
    "    target_Q_values = target_Q_values.reshape(-1, 1)\n",
    "    mask = one_hot(actions, n_outputs)\n",
    "    with GradientTape() as tape:\n",
    "        all_Q_values = model_action(states)\n",
    "        Q_values = reduce_sum(all_Q_values * mask, axis=1, keepdims=True)\n",
    "        loss = reduce_mean(loss_fn(target_Q_values, Q_values))\n",
    "\n",
    "    grads = tape.gradient(loss, model_action.trainable_variables)\n",
    "    optimizer.apply_gradients(zip(grads, model_action.trainable_variables))"
   ]
  },
  {
   "cell_type": "code",
   "execution_count": 13,
   "metadata": {},
   "outputs": [],
   "source": [
    "import traci\n",
    "\n",
    "class SimulationSUMO:\n",
    "    def __init__(self, sumoCmd,frame):\n",
    "        self.frame=frame\n",
    "        if traci.isLoaded():\n",
    "            traci.close()\n",
    "        traci.start(sumoCmd)  # Start SUMO once\n",
    "\n",
    "    def step(self,action):\n",
    "        ###CODER UN STEP qui prend une action en argument\n",
    "        #utiliser un modele, renvoyer next state: array, reward:int, done :\n",
    "\n",
    "        state = np.array(self.queue(self.get_lane()))\n",
    "        traci.trafficlight.setPhase(self.get_trafficlight_id()[0],2*action)\n",
    "        for _ in range(self.frame):\n",
    "            traci.simulationStep()\n",
    "        next_state = np.array(self.queue(self.get_lane()))\n",
    "        reward = sum(next_state)-sum(state)\n",
    "        return next_state,reward\n",
    "\n",
    "\n",
    "    def get_state(self):\n",
    "        return traci.vehicle.getIDList()  # Example: Get list of vehicles\n",
    "\n",
    "    def get_lane(self):\n",
    "        return traci.lane.getIDList()\n",
    "\n",
    "    def get_trafficlight_id(self):\n",
    "        return traci.trafficlight.getIDList()\n",
    "\n",
    "    def queue(self,lane_ids):\n",
    "        return [traci.lane.getLastStepHaltingNumber(lane_id) for lane_id in lane_ids]\n",
    "    def close(self):\n",
    "        traci.close()  # Properly close SUMO\n",
    "        os.system(\"pkill -f sumo\")\n",
    "\n",
    "# Example usage\n",
    "# sumoCmd = [sumoBinary2, \"-c\", sumoConfig3, \"--start\"]\n",
    "# simulation = SimulationSUMO(sumoCmd)\n",
    "\n",
    "# for _ in range(10000):  # Run 100 steps\n",
    "#     simulation.step()\n",
    "#     print(simulation.get_state())  # Print vehicle IDs\n",
    "\n",
    "# simulation.close()  # Close SUMO properly"
   ]
  },
  {
   "cell_type": "code",
   "execution_count": 15,
   "metadata": {},
   "outputs": [
    {
     "name": "stdout",
     "output_type": "stream",
     "text": [
      "episode : 0\n",
      "Step #5420.26 (0ms ?*RT. ?UPS, TraCI: 6643ms, vehicles TOT 33 ACT 0 BUF 0)                \n",
      " Retrying in 1 seconds\n"
     ]
    },
    {
     "name": "stderr",
     "output_type": "stream",
     "text": [
      "Warning: Environment variable SUMO_HOME is not set properly, disabling XML validation. Set 'auto' or 'always' for web lookups.\n",
      "Warning: Vehicle 'veh_11' performs emergency stop at the end of lane 'end2_junction_2' because of a red traffic light (decel=-15.71, offset=0.06), time=31.18.\n"
     ]
    },
    {
     "name": "stdout",
     "output_type": "stream",
     "text": [
      "Step #2000.00 (0ms ?*RT. ?UPS, TraCI: 1ms, vehicles TOT 33 ACT 0 BUF 0)                   s ?*RT. ?UPS, TraCI: 0ms, vehicles TOT 33 ACT 0 BUF 0)                    raCI: 0ms, vehicles TOT 33 ACT 0 BUF 0)                   \n",
      "episode : 1\n",
      " Retrying in 1 seconds\n"
     ]
    },
    {
     "name": "stderr",
     "output_type": "stream",
     "text": [
      "Warning: Environment variable SUMO_HOME is not set properly, disabling XML validation. Set 'auto' or 'always' for web lookups.\n"
     ]
    },
    {
     "name": "stdout",
     "output_type": "stream",
     "text": [
      "Step #720.00 (0ms ?*RT. ?UPS, TraCI: 0ms, vehicles TOT 33 ACT 0 BUF 0)                    state : [0 0 0 0 0 0 0 0 0 0 0 0 0 0 0 0 0 0 0 0 0 0 0 0 0 0 0 0 0 0 0 0 0 0 0 0]\n",
      "Q_values : [ 1.1042756   1.0991768  -0.44582456  0.07099307]\n",
      "Step #2000.00 (0ms ?*RT. ?UPS, TraCI: 34ms, vehicles TOT 33 ACT 0 BUF 0)                  raCI: 37ms, vehicles TOT 33 ACT 0 BUF 0)                  \n",
      "episode : 2\n",
      " Retrying in 1 seconds\n"
     ]
    },
    {
     "name": "stderr",
     "output_type": "stream",
     "text": [
      "Warning: Environment variable SUMO_HOME is not set properly, disabling XML validation. Set 'auto' or 'always' for web lookups.\n"
     ]
    },
    {
     "name": "stdout",
     "output_type": "stream",
     "text": [
      "Step #2000.00 (0ms ?*RT. ?UPS, TraCI: 32ms, vehicles TOT 33 ACT 0 BUF 0)                  s ?*RT. ?UPS, TraCI: 37ms, vehicles TOT 33 ACT 0 BUF 0)                   raCI: 32ms, vehicles TOT 33 ACT 0 BUF 0)                  \n",
      "episode : 3\n",
      " Retrying in 1 seconds\n"
     ]
    },
    {
     "name": "stderr",
     "output_type": "stream",
     "text": [
      "Warning: Environment variable SUMO_HOME is not set properly, disabling XML validation. Set 'auto' or 'always' for web lookups.\n",
      "Warning: Vehicle 'veh_10' performs emergency stop at the end of lane 'end2_junction_1' because of a red traffic light (decel=-14.80, offset=0.00), time=31.18.\n",
      "Warning: Vehicle 'veh_20' performs emergency stop at the end of lane 'end2_junction_2' because of a red traffic light (decel=-20.54, offset=0.01), time=40.30.\n",
      "Warning: Vehicle 'veh_23' performs emergency stop at the end of lane 'end4_junction_2' because of a red traffic light (decel=-19.20, offset=0.09), time=42.38.\n"
     ]
    },
    {
     "name": "stdout",
     "output_type": "stream",
     "text": [
      "state : [0 0 0 0 0 0 0 0 0 0 0 0 0 0 0 0 0 0 0 0 0 0 0 0 0 0 0 0 0 0 0 0 0 0 0 0]         \n",
      "Q_values : [ 0.1872248   0.11655951  0.6456197  -0.00412214]\n",
      "state : [0 0 0 0 0 0 0 0 0 0 0 0 0 0 0 0 0 0 0 0 0 0 0 0 0 0 0 0 0 0 0 0 0 0 0 0]\n",
      "Q_values : [0.19153982 0.3676957  0.10658354 0.13728786]\n",
      "Step #763.00 (0ms ?*RT. ?UPS, TraCI: 1ms, vehicles TOT 33 ACT 0 BUF 0)                    state : [0 0 0 0 0 0 0 0 0 0 0 0 0 0 0 0 0 0 0 0 0 0 0 0 0 0 0 0 0 0 0 0 0 0 0 0]\n",
      "Q_values : [0.52629745 0.6726074  0.611826   1.1136694 ]\n",
      "state : [0 0 0 0 0 0 0 0 0 0 0 0 0 0 0 0 0 0 0 0 0 0 0 0 0 0 0 0 0 0 0 0 0 0 0 0]\n",
      "Q_values : [0.5003823  1.0434748  0.84982026 0.86869025]\n",
      "Step #2000.00 (0ms ?*RT. ?UPS, TraCI: 33ms, vehicles TOT 33 ACT 0 BUF 0)                  raCI: 0ms, vehicles TOT 33 ACT 0 BUF 0)                   \n",
      "episode : 4\n",
      " Retrying in 1 seconds\n"
     ]
    },
    {
     "name": "stderr",
     "output_type": "stream",
     "text": [
      "Warning: Environment variable SUMO_HOME is not set properly, disabling XML validation. Set 'auto' or 'always' for web lookups.\n"
     ]
    },
    {
     "name": "stdout",
     "output_type": "stream",
     "text": [
      "Step #2000.00 (0ms ?*RT. ?UPS, TraCI: 37ms, vehicles TOT 33 ACT 0 BUF 0)                  s ?*RT. ?UPS, TraCI: 33ms, vehicles TOT 33 ACT 0 BUF 0)                   raCI: 33ms, vehicles TOT 33 ACT 0 BUF 0)                  \n",
      "episode : 5\n",
      " Retrying in 1 seconds\n"
     ]
    },
    {
     "name": "stderr",
     "output_type": "stream",
     "text": [
      "Warning: Environment variable SUMO_HOME is not set properly, disabling XML validation. Set 'auto' or 'always' for web lookups.\n",
      "Warning: Vehicle 'veh_11' performs emergency stop at the end of lane 'end2_junction_2' because of a red traffic light (decel=-15.82, offset=0.01), time=31.17.\n",
      "Warning: Vehicle 'veh_22' performs emergency stop at the end of lane 'end4_junction_1' because of a red traffic light (decel=-42.49, offset=0.27), time=40.34.\n"
     ]
    },
    {
     "name": "stdout",
     "output_type": "stream",
     "text": [
      "Step #761.00 (0ms ?*RT. ?UPS, TraCI: 32ms, vehicles TOT 33 ACT 0 BUF 0)                   state : [0 0 0 0 0 0 0 0 0 0 0 0 0 0 0 0 0 0 0 0 0 0 0 0 0 0 0 0 0 0 0 0 0 0 0 0]\n",
      "Q_values : [0.25030005 0.28351796 0.05710292 0.34657574]\n",
      "state : [0 0 0 0 0 0 0 0 0 0 0 0 0 0 0 0 0 0 0 0 0 0 0 0 0 0 0 0 0 0 0 0 0 0 0 0]\n",
      "Q_values : [0.23352951 0.5268856  0.36909008 0.03245211]\n",
      "state : [0 0 0 0 0 0 0 0 0 0 0 0 0 0 0 0 0 0 0 0 0 0 0 0 0 0 0 0 0 0 0 0 0 0 0 0]\n",
      "Q_values : [0.6639167  0.05908    0.15134025 0.23743439]\n",
      "Step #2000.00 (0ms ?*RT. ?UPS, TraCI: 32ms, vehicles TOT 33 ACT 0 BUF 0)                  raCI: 0ms, vehicles TOT 33 ACT 0 BUF 0)                   \n",
      "episode : 6\n",
      " Retrying in 1 seconds\n"
     ]
    },
    {
     "name": "stderr",
     "output_type": "stream",
     "text": [
      "Warning: Environment variable SUMO_HOME is not set properly, disabling XML validation. Set 'auto' or 'always' for web lookups.\n",
      "Warning: Vehicle 'veh_20' performs emergency stop at the end of lane 'end2_junction_2' because of a red traffic light (decel=-20.55, offset=0.05), time=40.32.\n",
      "Warning: Vehicle 'veh_23' performs emergency stop at the end of lane 'end4_junction_2' because of a red traffic light (decel=-19.20, offset=0.09), time=42.38.\n"
     ]
    },
    {
     "name": "stdout",
     "output_type": "stream",
     "text": [
      "state : [0 0 0 0 0 0 0 0 0 0 0 0 0 1 0 0 0 0 0 0 0 0 0 0 0 0 0 0 0 0 0 0 0 0 0 0]         \n",
      "Q_values : [ 0.03887403  0.03334987 -0.13301826 -0.20952034]\n",
      "state : [0 0 0 0 0 0 0 0 0 0 0 0 0 0 0 0 0 0 0 0 0 0 0 0 0 0 0 0 0 0 0 0 0 0 0 0]\n",
      "Q_values : [ 0.1668998   0.24679863  0.13525534 -0.14861894]\n",
      "Step #763.00 (0ms ?*RT. ?UPS, TraCI: 0ms, vehicles TOT 33 ACT 0 BUF 0)                    state : [0 0 0 0 0 0 0 0 0 0 0 0 0 0 0 0 0 0 0 0 0 0 0 0 0 0 0 0 0 0 0 0 0 0 0 0]\n",
      "Q_values : [0.23079807 0.33197117 0.18895125 0.18587708]\n",
      "Step #1483.00 (0ms ?*RT. ?UPS, TraCI: 0ms, vehicles TOT 33 ACT 0 BUF 0)                   state : [0 0 0 0 0 0 0 0 0 0 0 0 0 0 0 0 0 0 0 0 0 0 0 0 0 0 0 0 0 0 0 0 0 0 0 0]\n",
      "Q_values : [0.2968005  0.8046684  0.2980795  0.02068019]\n",
      "Step #2000.00 (0ms ?*RT. ?UPS, TraCI: 32ms, vehicles TOT 33 ACT 0 BUF 0)                  \n",
      "episode : 7\n",
      " Retrying in 1 seconds\n"
     ]
    },
    {
     "name": "stderr",
     "output_type": "stream",
     "text": [
      "Warning: Environment variable SUMO_HOME is not set properly, disabling XML validation. Set 'auto' or 'always' for web lookups.\n"
     ]
    },
    {
     "name": "stdout",
     "output_type": "stream",
     "text": [
      "state : [0 0 0 0 0 0 0 0 0 0 0 0 0 0 0 0 0 0 0 0 0 0 0 0 0 0 0 0 0 0 0 0 0 0 0 0]\n",
      "Q_values : [0.14089233 0.5064281  0.35587335 0.30247855]\n",
      "state : [0 0 0 0 0 0 0 0 0 0 0 0 0 0 0 0 0 0 0 0 0 0 0 0 0 0 0 0 0 0 0 0 0 0 0 0]\n",
      "Q_values : [0.6805077  0.53517306 0.2839365  0.1791122 ]\n",
      "state : [0 0 0 0 0 0 0 0 0 0 0 0 0 0 0 0 0 0 0 0 0 0 0 0 0 0 0 0 0 0 0 0 0 0 0 0]\n",
      "Q_values : [0.22709507 0.40667343 0.5438967  0.11301422]\n",
      "Step #720.00 (0ms ?*RT. ?UPS, TraCI: 0ms, vehicles TOT 33 ACT 0 BUF 0)                    state : [0 0 0 0 0 0 0 0 0 0 0 0 0 0 0 0 0 0 0 0 0 0 0 0 0 0 0 0 0 0 0 0 0 0 0 0]\n",
      "Q_values : [0.48165593 1.0415663  0.46678686 0.30060577]\n",
      "state : [0 0 0 0 0 0 0 0 0 0 0 0 0 0 0 0 0 0 0 0 0 0 0 0 0 0 0 0 0 0 0 0 0 0 0 0]\n",
      "Q_values : [0.10141999 0.7311125  0.5914557  0.37568474]\n",
      "state : [0 0 0 0 0 0 0 0 0 0 0 0 0 0 0 0 0 0 0 0 0 0 0 0 0 0 0 0 0 0 0 0 0 0 0 0]\n",
      "Q_values : [1.0525842  0.8066931  0.7329807  0.24356127]\n",
      "Step #2000.00 (0ms ?*RT. ?UPS, TraCI: 31ms, vehicles TOT 33 ACT 0 BUF 0)                  raCI: 54ms, vehicles TOT 33 ACT 0 BUF 0)                  \n",
      "episode : 8\n",
      " Retrying in 1 seconds\n"
     ]
    },
    {
     "name": "stderr",
     "output_type": "stream",
     "text": [
      "Warning: Environment variable SUMO_HOME is not set properly, disabling XML validation. Set 'auto' or 'always' for web lookups.\n",
      "Warning: Vehicle 'veh_10' performs emergency stop at the end of lane 'end2_junction_1' because of a red traffic light (decel=-14.41, offset=0.03), time=31.21.\n",
      "Warning: Vehicle 'veh_20' performs emergency stop at the end of lane 'end2_junction_2' because of a red traffic light (decel=-20.55, offset=0.08), time=40.31.\n",
      "Warning: Vehicle 'veh_23' performs emergency stop at the end of lane 'end4_junction_2' because of a red traffic light (decel=-19.20, offset=0.09), time=42.38.\n"
     ]
    },
    {
     "name": "stdout",
     "output_type": "stream",
     "text": [
      "state : [0 0 0 0 0 0 0 0 0 0 0 0 0 0 0 0 4 0 0 0 0 0 4 0 0 0 0 0 0 0 0 0 0 0 0 0]         \n",
      "Q_values : [ 0.12091428  0.11274755  0.43915772 -0.2220571 ]\n",
      "state : [0 0 0 0 0 0 0 0 0 0 0 0 0 0 0 0 0 0 0 0 0 0 0 0 0 0 0 0 0 0 0 0 0 0 0 0]\n",
      "Q_values : [0.8984258  0.3626789  0.05042386 0.3025787 ]\n",
      "Step #763.00 (0ms ?*RT. ?UPS, TraCI: 0ms, vehicles TOT 33 ACT 0 BUF 0)                    state : [0 0 0 0 0 0 0 0 0 0 0 0 0 0 0 0 0 0 0 0 0 0 0 0 0 0 0 0 0 0 0 0 0 0 0 0]\n",
      "Q_values : [0.1603896  0.13027453 0.40408874 0.16820478]\n",
      "state : [0 0 0 0 0 0 0 0 0 0 0 0 0 0 0 0 0 0 0 0 0 0 0 0 0 0 0 0 0 0 0 0 0 0 0 0]\n",
      "Q_values : [0.2768628  0.41702127 0.37734985 0.34386015]\n",
      "state : [0 0 0 0 0 0 0 0 0 0 0 0 0 0 0 0 0 0 0 0 0 0 0 0 0 0 0 0 0 0 0 0 0 0 0 0]\n",
      "Q_values : [-0.05456495 -0.1135025  -0.12543058 -0.11451292]\n",
      "Step #1483.00 (0ms ?*RT. ?UPS, TraCI: 0ms, vehicles TOT 33 ACT 0 BUF 0)                   state : [0 0 0 0 0 0 0 0 0 0 0 0 0 0 0 0 0 0 0 0 0 0 0 0 0 0 0 0 0 0 0 0 0 0 0 0]\n",
      "Q_values : [ 0.10276723  0.26043355  0.09259796 -0.32656455]\n",
      "Step #2000.00 (0ms ?*RT. ?UPS, TraCI: 32ms, vehicles TOT 33 ACT 0 BUF 0)                  \n",
      "episode : 9\n",
      " Retrying in 1 seconds\n"
     ]
    },
    {
     "name": "stderr",
     "output_type": "stream",
     "text": [
      "Warning: Environment variable SUMO_HOME is not set properly, disabling XML validation. Set 'auto' or 'always' for web lookups.\n",
      "Warning: Vehicle 'veh_20' performs emergency stop at the end of lane 'end2_junction_2' because of a red traffic light (decel=-20.55, offset=0.08), time=40.31.\n",
      "Warning: Vehicle 'veh_23' performs emergency stop at the end of lane 'end4_junction_2' because of a red traffic light (decel=-19.20, offset=0.09), time=42.38.\n"
     ]
    },
    {
     "name": "stdout",
     "output_type": "stream",
     "text": [
      "state : [0 0 0 0 0 0 0 0 0 0 0 0 0 0 0 0 0 0 0 0 0 0 0 0 0 0 0 0 0 0 0 0 0 0 0 0]         \n",
      "Q_values : [ 0.14610118  0.2032063  -0.02717471  0.20451474]\n",
      "Step #763.00 (0ms ?*RT. ?UPS, TraCI: 0ms, vehicles TOT 33 ACT 0 BUF 0)                    state : [0 0 0 0 0 0 0 0 0 0 0 0 0 0 0 0 0 0 0 0 0 0 0 0 0 0 0 0 0 0 0 0 0 0 0 0]\n",
      "Q_values : [ 0.05986649  0.06351018  0.02009845 -0.36610126]\n",
      "Step #1483.00 (0ms ?*RT. ?UPS, TraCI: 1ms, vehicles TOT 33 ACT 0 BUF 0)                   state : [0 0 0 0 0 0 0 0 0 0 0 0 0 0 0 0 0 0 0 0 0 0 0 0 0 0 0 0 0 0 0 0 0 0 0 0]\n",
      "Q_values : [0.49563113 0.18506193 0.12118244 0.17930079]\n",
      "state : [0 0 0 0 0 0 0 0 0 0 0 0 0 0 0 0 0 0 0 0 0 0 0 0 0 0 0 0 0 0 0 0 0 0 0 0]\n",
      "Q_values : [0.7602359  0.07722652 0.03484321 0.08842301]\n",
      "state : [0 0 0 0 0 0 0 0 0 0 0 0 0 0 0 0 0 0 0 0 0 0 0 0 0 0 0 0 0 0 0 0 0 0 0 0]\n",
      "Q_values : [0.22786856 0.11628771 0.08361888 0.34512043]\n",
      "Step #2000.00 (0ms ?*RT. ?UPS, TraCI: 31ms, vehicles TOT 33 ACT 0 BUF 0)                  \n"
     ]
    }
   ],
   "source": [
    "sumoBinary = \"/Users/arseneclaustre/sumo/bin/sumo-gui\"\n",
    "sumoBinary2 = \"/Users/arseneclaustre/sumo/bin/sumo\"\n",
    "sumoConfig = r\"C:/Program Files/rl_project/2025-02-12-16-24-37/osm.sumocfg\"\n",
    "sumoConfig2 = r\"C:/Program Files/rl_project/2025-02-25-19-05-44/osm.sumocfg\"\n",
    "# sumoConfig3 = r\"/home/psels/code/psels/RL_traffic/RL_traffic/Traditional_traffic/traditional_traffic.sumo.cfg\"\n",
    "sumoConfig3 = r\"Traditional_traffic/traditional_traffic.sumo.cfg\"\n",
    "\n",
    "\n",
    "rewards = []\n",
    "best_score = 0\n",
    "reward = 0\n",
    "total_reward = 0\n",
    "list_values = []\n",
    "weights = []\n",
    "wait_times = []\n",
    "replay_buffer = deque(maxlen=2000)\n",
    "\n",
    "sumoCmd = [sumoBinary2, \"-c\", sumoConfig3, \"--start\"]\n",
    "for episode in range(10):\n",
    "    print(f'episode : {episode}')\n",
    "    epsilon = max(1 - episode / 300, 0.01)\n",
    "    simulation=SimulationSUMO(sumoCmd,1000)\n",
    "    lane_ids = simulation.get_lane()\n",
    "    # print(lane_ids[0])\n",
    "\n",
    "    #trafic_light_ids = traci.trafficlight.getIDList()\n",
    "    trafic_light_ids = simulation.get_trafficlight_id()\n",
    "\n",
    "    state = np.array(simulation.queue(lane_ids))\n",
    "\n",
    "    action=-1\n",
    "    wait_times.append(0)\n",
    "    for _ in range(200): ## TO CHANGED\n",
    "        action = epsilon_greedy_policy(state, epsilon)\n",
    "        next_state,reward = simulation.step(action)\n",
    "        replay_buffer.append((state, action, reward, next_state))\n",
    "        state = next_state\n",
    "        if len(replay_buffer) >= batch_size*10:\n",
    "                training_step(batch_size)\n",
    "\n",
    "    simulation.close()"
   ]
  },
  {
   "cell_type": "code",
   "execution_count": 16,
   "metadata": {},
   "outputs": [
    {
     "name": "stdout",
     "output_type": "stream",
     "text": [
      " Retrying in 1 seconds\n",
      "state : [0 0 0 0 0 0 0 0 0 0 0 0 0 0 0 0 0 0 0 0 0 0 0 0 0 0 0 0 0 0 0 0 0 0 0 0]\n",
      "Q_values : [ 0.04640955  0.12251711  0.06835556 -0.85784125]\n",
      "action 1\n",
      "state : [0 0 0 0 0 0 0 0 0 0 0 0 0 0 0 0 0 0 0 0 0 0 0 0 0 0 0 0 0 0 0 0 0 0 0 0]\n",
      "Q_values : [ 0.04640955  0.12251711  0.06835556 -0.85784125]\n",
      "action 1\n",
      "state : [0 0 0 0 0 0 0 0 0 0 0 0 0 0 0 0 0 0 0 0 0 0 0 0 0 0 0 0 0 0 0 0 0 0 0 0]\n",
      "Q_values : [ 0.04640955  0.12251711  0.06835556 -0.85784125]\n",
      "action 1\n",
      "state : [0 0 0 0 0 0 0 0 0 0 0 0 0 1 0 0 1 1 0 0 0 0 0 0 0 0 0 0 0 0 0 0 0 0 0 0]\n",
      "Q_values : [ 0.04640931  0.12251568  0.06835747 -0.8578422 ]\n",
      "action 1\n",
      "state : [0 0 0 0 0 0 0 0 0 0 0 0 0 1 0 0 4 4 0 0 0 0 0 0 0 0 0 0 0 0 0 0 0 0 0 0]\n",
      "Q_values : [ 0.04639333  0.12236452  0.06846619 -0.8579109 ]\n",
      "action 1\n",
      "state : [0 0 0 0 0 0 0 0 0 0 0 0 0 1 0 0 6 6 0 0 0 0 2 1 0 0 0 0 0 0 0 0 0 0 0 0]\n",
      "Q_values : [ 0.04641241  0.12236285  0.06840611 -0.85788894]\n",
      "action 1\n",
      "state : [0 0 0 0 0 0 0 0 0 0 0 0 0 1 0 0 6 6 0 0 0 0 4 4 0 0 0 0 0 0 0 0 0 0 0 0]\n",
      "Q_values : [ 0.04633445  0.12218165  0.06872129 -0.8580363 ]\n",
      "action 1\n",
      "state : [0 0 0 0 0 0 0 0 0 0 0 0 0 1 0 0 6 6 0 0 0 0 4 4 0 0 0 0 0 0 0 0 0 0 0 0]\n",
      "Q_values : [ 0.04633445  0.12218165  0.06872129 -0.8580363 ]\n",
      "action 1\n",
      "state : [0 0 0 0 0 0 0 0 0 0 0 0 0 1 0 0 6 6 0 0 0 0 4 4 0 0 0 0 0 0 0 0 0 0 0 0]\n",
      "Q_values : [ 0.04633445  0.12218165  0.06872129 -0.8580363 ]\n",
      "action 1\n",
      "state : [0 0 0 0 0 0 0 0 0 0 0 0 0 1 0 0 6 6 0 0 0 0 4 4 0 0 0 0 0 0 0 0 0 0 0 0]\n",
      "Q_values : [ 0.04633445  0.12218165  0.06872129 -0.8580363 ]\n",
      "action 1\n"
     ]
    }
   ],
   "source": [
    "sumoBinary = \"/Users/arseneclaustre/sumo/bin/sumo-gui\"\n",
    "sumoBinary2 = \"/Users/arseneclaustre/sumo/bin/sumo\"\n",
    "sumoConfig = r\"C:/Program Files/rl_project/2025-02-12-16-24-37/osm.sumocfg\"\n",
    "sumoConfig2 = r\"C:/Program Files/rl_project/2025-02-25-19-05-44/osm.sumocfg\"\n",
    "# sumoConfig3 = r\"/home/psels/code/psels/RL_traffic/RL_traffic/Traditional_traffic/traditional_traffic.sumo.cfg\"\n",
    "sumoConfig3 = r\"Traditional_traffic/traditional_traffic.sumo.cfg\"\n",
    "\n",
    "\n",
    "rewards = []\n",
    "best_score = 0\n",
    "reward = 0\n",
    "total_reward = 0\n",
    "list_values = []\n",
    "weights = []\n",
    "wait_times = []\n",
    "replay_buffer = deque(maxlen=2000)\n",
    "\n",
    "\n",
    "sumoCmd = [sumoBinary, \"-c\", sumoConfig3, \"--start\"]\n",
    "\n",
    "if traci.isLoaded():\n",
    "    traci.close()\n",
    "traci.start(sumoCmd)\n",
    "lane_ids =  traci.lane.getIDList()\n",
    "# print(lane_ids[0])\n",
    "\n",
    "trafic_light_ids = traci.trafficlight.getIDList()\n",
    "\n",
    "state = np.array(queue(lane_ids))\n",
    "action=-1\n",
    "# print(state)\n",
    "wait_times.append(0)\n",
    "for step in range(10000): ## TO CHANGED\n",
    "    #epsilon = max(1 - episode / 10, 0.01)\n",
    "    state=np.array(queue(lane_ids))\n",
    "    if step%1000 == 0:\n",
    "        state=np.array(queue(lane_ids))\n",
    "        action = epsilon_greedy_policy(state,0)\n",
    "        print(\"action\", action)\n",
    "        traci.trafficlight.setPhase(trafic_light_ids[0],action)\n",
    "    traci.simulationStep()\n",
    "\n",
    "traci.close()"
   ]
  }
 ],
 "metadata": {
  "kernelspec": {
   "display_name": "RL_traffic",
   "language": "python",
   "name": "python3"
  },
  "language_info": {
   "codemirror_mode": {
    "name": "ipython",
    "version": 3
   },
   "file_extension": ".py",
   "mimetype": "text/x-python",
   "name": "python",
   "nbconvert_exporter": "python",
   "pygments_lexer": "ipython3",
   "version": "3.10.6"
  }
 },
 "nbformat": 4,
 "nbformat_minor": 2
}
