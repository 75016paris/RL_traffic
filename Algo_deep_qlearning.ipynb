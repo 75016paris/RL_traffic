{
 "cells": [
  {
   "cell_type": "code",
   "execution_count": 1,
   "metadata": {},
   "outputs": [],
   "source": [
    "%load_ext autoreload\n",
    "%autoreload 2"
   ]
  },
  {
   "cell_type": "code",
   "execution_count": 2,
   "metadata": {},
   "outputs": [],
   "source": [
    "from state import get_state, queue\n",
    "from basic.reward_basic import calculate_reward\n",
    "from basic.learner_basic import Learner\n",
    "from traffic_lights_maps import get_traffic_light_phases, make_map\n",
    "import os\n",
    "import sys\n",
    "\n",
    "import traci\n",
    "import random\n",
    "import gym\n",
    "from gym import spaces"
   ]
  },
  {
   "cell_type": "code",
   "execution_count": 3,
   "metadata": {},
   "outputs": [],
   "source": [
    "from tensorflow.keras import Sequential, layers\n",
    "from tensorflow.random import set_seed\n",
    "import numpy as np\n",
    "from collections import deque\n",
    "from tensorflow import keras\n",
    "from tensorflow import reduce_sum, reduce_mean, one_hot, GradientTape\n",
    "from tensorflow.keras.losses import MeanSquaredError\n",
    "import matplotlib.pyplot as plt"
   ]
  },
  {
   "cell_type": "code",
   "execution_count": 4,
   "metadata": {},
   "outputs": [
    {
     "name": "stderr",
     "output_type": "stream",
     "text": [
      "/Users/arseneclaustre/.pyenv/versions/3.10.6/envs/RL_traffic/lib/python3.10/site-packages/keras/src/layers/core/dense.py:87: UserWarning: Do not pass an `input_shape`/`input_dim` argument to a layer. When using Sequential models, prefer using an `Input(shape)` object as the first layer in the model instead.\n",
      "  super().__init__(activity_regularizer=activity_regularizer, **kwargs)\n"
     ]
    }
   ],
   "source": [
    "set_seed(42)  # extra code – ensures reproducibility on the CPU\n",
    "\n",
    "input_shape = [36]  # == env.observation_space.shape\n",
    "n_outputs = 4  # == env.action_space.n\n",
    "#[((Phase(duration=30.0, state='GGrGrrGGrGrr', minDur=30.0, maxDur=30.0), Phase(duration=20.0, state='grGgrrgrGgrr', minDur=20.0, maxDur=20.0), Phase(duration=30.0, state='GrrGGrGrrGGr', minDur=30.0, maxDur=30.0), Phase(duration=20.0, state='grrgrGgrrgrG', minDur=20.0, maxDur=20.0)), [0, 2, 4, 6])]\n",
    "model_action = Sequential([\n",
    "    layers.Dense(32, activation=\"elu\", input_shape=input_shape),\n",
    "    layers.Dense(32, activation=\"elu\"),\n",
    "    # layers.Dense(2, activation=\"elu\"),\n",
    "    layers.Dense(n_outputs)])"
   ]
  },
  {
   "cell_type": "code",
   "execution_count": 5,
   "metadata": {},
   "outputs": [],
   "source": [
    "def epsilon_greedy_policy(state, epsilon=0):\n",
    "    if np.random.rand() < epsilon:\n",
    "        return np.random.randint(n_outputs)  # random action\n",
    "    else:\n",
    "        Q_values = model_action.predict(state[np.newaxis], verbose=0)[0]\n",
    "        print(f\"state : {state}\")\n",
    "        print(f\"Q_values : {Q_values}\")\n",
    "        return Q_values.argmax()  # optimal action according to the DQN"
   ]
  },
  {
   "cell_type": "code",
   "execution_count": 6,
   "metadata": {},
   "outputs": [],
   "source": [
    "def sample_experiences(batch_size):\n",
    "    indices = np.random.randint(len(replay_buffer), size=batch_size)\n",
    "    batch = [replay_buffer[index] for index in indices]\n",
    "    states, actions, rewards, next_states = [\n",
    "        np.array([experience[field_index] for experience in batch])\n",
    "        for field_index in range(4)\n",
    "    ]\n",
    "    return states, actions, rewards, next_states"
   ]
  },
  {
   "cell_type": "code",
   "execution_count": 7,
   "metadata": {},
   "outputs": [],
   "source": [
    "batch_size = 32\n",
    "discount_factor = 0.5\n",
    "optimizer = keras.optimizers.Nadam(learning_rate=1e-1)\n",
    "loss_fn = MeanSquaredError()\n",
    "\n",
    "def training_step(batch_size):\n",
    "    experiences = sample_experiences(batch_size)\n",
    "    states, actions, rewards, next_states = experiences  # a changer\n",
    "    next_Q_values = model_action.predict(next_states, verbose=0)\n",
    "    max_next_Q_values = next_Q_values.max(axis=1)\n",
    "    # runs = 1.0 - (dones | truncateds)  # episode is not done or truncated\n",
    "    target_Q_values = rewards + discount_factor * max_next_Q_values\n",
    "    target_Q_values = target_Q_values.reshape(-1, 1)\n",
    "    mask = one_hot(actions, n_outputs)\n",
    "    with GradientTape() as tape:\n",
    "        all_Q_values = model_action(states)\n",
    "        Q_values = reduce_sum(all_Q_values * mask, axis=1, keepdims=True)\n",
    "        loss = reduce_mean(loss_fn(target_Q_values, Q_values))\n",
    "\n",
    "    grads = tape.gradient(loss, model_action.trainable_variables)\n",
    "    optimizer.apply_gradients(zip(grads, model_action.trainable_variables))"
   ]
  },
  {
   "cell_type": "code",
   "execution_count": 17,
   "metadata": {},
   "outputs": [],
   "source": [
    "import traci\n",
    "\n",
    "class SimulationSUMO:\n",
    "    def __init__(self, sumoCmd,frame):\n",
    "        self.frame=frame\n",
    "        if traci.isLoaded():\n",
    "            traci.close()\n",
    "        traci.start(sumoCmd)  # Start SUMO once\n",
    "\n",
    "    def step(self,action):\n",
    "        ###CODER UN STEP qui prend une action en argument\n",
    "        #utiliser un modele, renvoyer next state: array, reward:int, done :\n",
    "\n",
    "        state = np.array(self.queue(self.get_lane()))\n",
    "        traci.trafficlight.setPhase(self.get_trafficlight_id()[0],2*action)\n",
    "        for _ in range(self.frame):\n",
    "            traci.simulationStep()\n",
    "        next_state = np.array(self.queue(self.get_lane()))\n",
    "        reward = sum(next_state)-sum(state)\n",
    "        return next_state,reward\n",
    "\n",
    "\n",
    "    def get_state(self):\n",
    "        return traci.vehicle.getIDList()  # Example: Get list of vehicles\n",
    "\n",
    "    def get_lane(self):\n",
    "        return traci.lane.getIDList()\n",
    "\n",
    "    def get_trafficlight_id(self):\n",
    "        return traci.trafficlight.getIDList()\n",
    "\n",
    "    def queue(self,lane_ids):\n",
    "        return [traci.lane.getLastStepHaltingNumber(lane_id) for lane_id in lane_ids]\n",
    "    def close(self):\n",
    "        traci.close()  # Properly close SUMO\n",
    "        os.system(\"pkill -f sumo\")\n",
    "\n",
    "# Example usage\n",
    "# sumoCmd = [sumoBinary2, \"-c\", sumoConfig3, \"--start\"]\n",
    "# simulation = SimulationSUMO(sumoCmd)\n",
    "\n",
    "# for _ in range(10000):  # Run 100 steps\n",
    "#     simulation.step()\n",
    "#     print(simulation.get_state())  # Print vehicle IDs\n",
    "\n",
    "# simulation.close()  # Close SUMO properly"
   ]
  },
  {
   "cell_type": "code",
   "execution_count": 22,
   "metadata": {},
   "outputs": [
    {
     "name": "stdout",
     "output_type": "stream",
     "text": [
      "episode : 0\n",
      " Retrying in 1 seconds\n"
     ]
    },
    {
     "name": "stderr",
     "output_type": "stream",
     "text": [
      "Warning: Environment variable SUMO_HOME is not set properly, disabling XML validation. Set 'auto' or 'always' for web lookups.\n",
      "Warning: Vehicle 'veh_11' performs emergency stop at the end of lane 'end2_junction_2' because of a red traffic light (decel=-10.65, offset=0.00), time=31.67.\n",
      "Warning: Vehicle 'veh_25' performs emergency stop at the end of lane 'end4_junction_1' because of a red traffic light (decel=-24.49, offset=0.14), time=45.21.\n"
     ]
    },
    {
     "name": "stdout",
     "output_type": "stream",
     "text": [
      "Step #100.00 (0ms ?*RT. ?UPS, TraCI: 0ms, vehicles TOT 33 ACT 0 BUF 0)                     \n",
      "episode : 1\n",
      " Retrying in 1 seconds\n"
     ]
    },
    {
     "name": "stderr",
     "output_type": "stream",
     "text": [
      "Warning: Environment variable SUMO_HOME is not set properly, disabling XML validation. Set 'auto' or 'always' for web lookups.\n",
      "Warning: Vehicle 'veh_26' performs emergency stop at the end of lane 'end4_junction_2' because of a red traffic light (decel=-19.48, offset=0.09), time=45.88.\n"
     ]
    },
    {
     "name": "stdout",
     "output_type": "stream",
     "text": [
      "Step #100.00 (0ms ?*RT. ?UPS, TraCI: 1ms, vehicles TOT 33 ACT 2 BUF 0)                     \n",
      "episode : 2\n",
      " Retrying in 1 seconds\n"
     ]
    },
    {
     "name": "stderr",
     "output_type": "stream",
     "text": [
      "Warning: Environment variable SUMO_HOME is not set properly, disabling XML validation. Set 'auto' or 'always' for web lookups.\n",
      "Warning: Vehicle 'veh_2' performs emergency stop at the end of lane 'end1_junction_2' because of a red traffic light (decel=-20.39, offset=0.10), time=21.24.\n",
      "Warning: Vehicle 'veh_10' performs emergency stop at the end of lane 'end2_junction_1' because of a red traffic light (decel=-14.66, offset=0.00), time=31.19.\n"
     ]
    },
    {
     "name": "stdout",
     "output_type": "stream",
     "text": [
      "state : [0 0 0 0 0 0 0 0 0 0 0 0 0 0 0 0 2 4 0 0 0 0 0 0 0 0 0 0 0 0 0 0 0 0 0 0]         \n",
      "Q_values : [ 0.13195437  0.63871884  0.22971821 -0.7547903 ]\n",
      "Step #100.00 (0ms ?*RT. ?UPS, TraCI: 1ms, vehicles TOT 33 ACT 10 BUF 0)                    \n",
      "episode : 3\n",
      " Retrying in 1 seconds\n"
     ]
    },
    {
     "name": "stderr",
     "output_type": "stream",
     "text": [
      "Warning: Environment variable SUMO_HOME is not set properly, disabling XML validation. Set 'auto' or 'always' for web lookups.\n",
      "Warning: Vehicle 'veh_19' performs emergency stop at the end of lane 'end2_junction_1' because of a red traffic light (decel=-26.33, offset=0.12), time=40.03.\n",
      "Warning: Vehicle 'veh_22' performs emergency stop at the end of lane 'end4_junction_1' because of a red traffic light (decel=-42.49, offset=0.27), time=40.34.\n"
     ]
    },
    {
     "name": "stdout",
     "output_type": "stream",
     "text": [
      "Step #100.00 (0ms ?*RT. ?UPS, TraCI: 1ms, vehicles TOT 33 ACT 0 BUF 0)                     \n",
      "episode : 4\n",
      " Retrying in 1 seconds\n"
     ]
    },
    {
     "name": "stderr",
     "output_type": "stream",
     "text": [
      "Warning: Environment variable SUMO_HOME is not set properly, disabling XML validation. Set 'auto' or 'always' for web lookups.\n",
      "Warning: Vehicle 'veh_25' performs emergency stop at the end of lane 'end4_junction_1' because of a red traffic light (decel=-24.49, offset=0.14), time=45.21.\n"
     ]
    },
    {
     "name": "stdout",
     "output_type": "stream",
     "text": [
      "state : [0 0 0 0 0 0 0 0 0 0 0 0 0 0 0 0 0 2 0 0 0 0 3 1 0 0 0 0 0 0 0 0 0 0 0 0]         \n",
      "Q_values : [ 0.13195771  0.6387136   0.22972679 -0.75478363]\n",
      "state : [0 0 0 0 0 0 0 0 0 0 0 0 0 0 0 0 0 0 0 0 0 0 0 0 0 0 0 0 0 0 0 0 0 0 0 0]\n",
      "Q_values : [ 0.1318726   0.6387751   0.2295959  -0.75494003]\n",
      "Step #100.00 (0ms ?*RT. ?UPS, TraCI: 1ms, vehicles TOT 33 ACT 1 BUF 0)                     \n",
      "episode : 5\n",
      " Retrying in 1 seconds\n"
     ]
    },
    {
     "name": "stderr",
     "output_type": "stream",
     "text": [
      "Warning: Environment variable SUMO_HOME is not set properly, disabling XML validation. Set 'auto' or 'always' for web lookups.\n"
     ]
    },
    {
     "name": "stdout",
     "output_type": "stream",
     "text": [
      "state : [0 0 0 0 0 0 0 0 0 0 0 0 0 0 0 0 0 0 0 0 0 0 0 0 0 0 0 0 0 0 0 0 0 0 0 0]\n",
      "Q_values : [ 0.1318726   0.6387751   0.2295959  -0.75494003]\n",
      "Step #31.00 (0ms ?*RT. ?UPS, TraCI: 0ms, vehicles TOT 31 ACT 31 BUF 1)                    \r"
     ]
    },
    {
     "name": "stderr",
     "output_type": "stream",
     "text": [
      "Warning: Vehicle 'veh_2' performs emergency stop at the end of lane 'end1_junction_2' because of a red traffic light (decel=-20.39, offset=0.10), time=21.24.\n",
      "Warning: Vehicle 'veh_10' performs emergency stop at the end of lane 'end2_junction_1' because of a red traffic light (decel=-14.80, offset=0.00), time=31.18.\n"
     ]
    },
    {
     "name": "stdout",
     "output_type": "stream",
     "text": [
      "Step #45.00 (0ms ?*RT. ?UPS, TraCI: 2ms, vehicles TOT 33 ACT 28 BUF 0)                    \r"
     ]
    },
    {
     "name": "stderr",
     "output_type": "stream",
     "text": [
      "Warning: Vehicle 'veh_25' performs emergency stop at the end of lane 'end4_junction_1' because of a red traffic light (decel=-24.49, offset=0.14), time=45.21.\n"
     ]
    },
    {
     "name": "stdout",
     "output_type": "stream",
     "text": [
      "Step #100.00 (0ms ?*RT. ?UPS, TraCI: 1ms, vehicles TOT 33 ACT 1 BUF 0)                     \n",
      "episode : 6\n",
      " Retrying in 1 seconds\n"
     ]
    },
    {
     "name": "stderr",
     "output_type": "stream",
     "text": [
      "Warning: Environment variable SUMO_HOME is not set properly, disabling XML validation. Set 'auto' or 'always' for web lookups.\n",
      "Warning: Vehicle 'veh_10' performs emergency stop at the end of lane 'end2_junction_1' because of a red traffic light (decel=-22.28, offset=0.04), time=30.42.\n",
      "Warning: Vehicle 'veh_20' performs emergency stop at the end of lane 'end2_junction_2' because of a red traffic light (decel=-20.55, offset=0.07), time=40.09.\n",
      "Warning: Vehicle 'veh_23' performs emergency stop at the end of lane 'end4_junction_2' because of a red traffic light (decel=-19.20, offset=0.09), time=42.38.\n",
      "Warning: Vehicle 'veh_25' performs emergency stop at the end of lane 'end4_junction_1' because of a red traffic light (decel=-25.88, offset=0.06), time=45.07.\n"
     ]
    },
    {
     "name": "stdout",
     "output_type": "stream",
     "text": [
      "Step #100.00 (0ms ?*RT. ?UPS, TraCI: 1ms, vehicles TOT 33 ACT 0 BUF 0)                     \n",
      "episode : 7\n",
      " Retrying in 1 seconds\n"
     ]
    },
    {
     "name": "stderr",
     "output_type": "stream",
     "text": [
      "Warning: Environment variable SUMO_HOME is not set properly, disabling XML validation. Set 'auto' or 'always' for web lookups.\n",
      "Warning: Vehicle 'veh_23' performs emergency stop at the end of lane 'end4_junction_2' because of a red traffic light (decel=-19.20, offset=0.09), time=42.38.\n",
      "Warning: Vehicle 'veh_16' performs emergency stop at the end of lane 'end2_junction_1' because of a red traffic light (decel=-11.17, offset=0.01), time=50.76.\n"
     ]
    },
    {
     "name": "stdout",
     "output_type": "stream",
     "text": [
      "Step #100.00 (0ms ?*RT. ?UPS, TraCI: 1ms, vehicles TOT 33 ACT 0 BUF 0)                     \n",
      "episode : 8\n",
      " Retrying in 1 seconds\n"
     ]
    },
    {
     "name": "stderr",
     "output_type": "stream",
     "text": [
      "Warning: Environment variable SUMO_HOME is not set properly, disabling XML validation. Set 'auto' or 'always' for web lookups.\n"
     ]
    },
    {
     "name": "stdout",
     "output_type": "stream",
     "text": [
      "state : [0 0 0 0 0 0 0 0 0 0 0 0 0 0 0 0 2 2 0 0 0 0 0 0 0 0 0 0 0 0 0 0 0 0 0 0]\n",
      "Q_values : [ 0.1319527   0.63872075  0.22971463 -0.75479317]\n",
      "Step #45.00 (0ms ?*RT. ?UPS, TraCI: 2ms, vehicles TOT 33 ACT 28 BUF 0)                    \r"
     ]
    },
    {
     "name": "stderr",
     "output_type": "stream",
     "text": [
      "Warning: Vehicle 'veh_25' performs emergency stop at the end of lane 'end4_junction_1' because of a red traffic light (decel=-24.49, offset=0.14), time=45.21.\n",
      "Warning: Vehicle 'veh_16' performs emergency stop at the end of lane 'end2_junction_1' because of a red traffic light (decel=-10.88, offset=0.00), time=45.79.\n"
     ]
    },
    {
     "name": "stdout",
     "output_type": "stream",
     "text": [
      "Step #100.00 (0ms ?*RT. ?UPS, TraCI: 1ms, vehicles TOT 33 ACT 0 BUF 0)                     \n",
      "episode : 9\n",
      " Retrying in 1 seconds\n"
     ]
    },
    {
     "name": "stderr",
     "output_type": "stream",
     "text": [
      "Warning: Environment variable SUMO_HOME is not set properly, disabling XML validation. Set 'auto' or 'always' for web lookups.\n"
     ]
    },
    {
     "name": "stdout",
     "output_type": "stream",
     "text": [
      "state : [0 0 0 0 0 0 0 0 0 0 0 0 0 0 0 0 0 0 0 0 0 0 0 0 0 0 0 0 0 0 0 0 0 0 0 0]\n",
      "Q_values : [ 0.1318726   0.6387751   0.2295959  -0.75494003]\n"
     ]
    },
    {
     "name": "stderr",
     "output_type": "stream",
     "text": [
      "Warning: Vehicle 'veh_16' performs emergency stop at the end of lane 'end2_junction_1' because of a red traffic light (decel=-10.35, offset=0.00), time=65.84.\n"
     ]
    },
    {
     "name": "stdout",
     "output_type": "stream",
     "text": [
      "state : [0 0 0 0 0 0 0 0 0 0 0 0 0 0 0 0 0 0 0 0 0 0 0 0 0 0 0 0 0 0 0 0 0 0 0 0]         \n",
      "Q_values : [ 0.1318726   0.6387751   0.2295959  -0.75494003]\n",
      "Step #100.00 (0ms ?*RT. ?UPS, TraCI: 1ms, vehicles TOT 33 ACT 0 BUF 0)                     \n",
      "episode : 10\n",
      " Retrying in 1 seconds\n"
     ]
    },
    {
     "name": "stderr",
     "output_type": "stream",
     "text": [
      "Warning: Environment variable SUMO_HOME is not set properly, disabling XML validation. Set 'auto' or 'always' for web lookups.\n"
     ]
    },
    {
     "name": "stdout",
     "output_type": "stream",
     "text": [
      "state : [0 0 0 0 0 0 0 0 0 0 0 0 0 1 0 0 1 1 0 0 0 0 0 0 0 0 0 0 0 0 0 0 0 0 0 0]\n",
      "Q_values : [ 0.13187355  0.63877463  0.22959685 -0.7549381 ]\n",
      "Step #45.00 (0ms ?*RT. ?UPS, TraCI: 1ms, vehicles TOT 33 ACT 28 BUF 0)                    \r"
     ]
    },
    {
     "name": "stderr",
     "output_type": "stream",
     "text": [
      "Warning: Vehicle 'veh_23' performs emergency stop at the end of lane 'end4_junction_2' because of a red traffic light (decel=-19.20, offset=0.09), time=42.38.\n",
      "Warning: Vehicle 'veh_25' performs emergency stop at the end of lane 'end4_junction_1' because of a red traffic light (decel=-25.77, offset=0.05), time=45.07.\n"
     ]
    },
    {
     "name": "stdout",
     "output_type": "stream",
     "text": [
      "state : [0 0 0 0 0 0 0 0 0 0 0 0 0 1 0 0 0 0 0 0 0 0 0 1 0 0 0 0 0 0 0 0 0 0 0 0]\n",
      "Q_values : [ 0.1318726   0.6387751   0.2295959  -0.75494003]\n",
      "state : [0 0 0 0 0 0 0 0 0 0 0 0 0 1 0 0 0 0 0 0 0 0 0 1 0 0 0 0 0 0 0 0 0 0 0 0]\n",
      "Q_values : [ 0.1318726   0.6387751   0.2295959  -0.75494003]\n",
      "Step #100.00 (0ms ?*RT. ?UPS, TraCI: 2ms, vehicles TOT 33 ACT 0 BUF 0)                     \n",
      "episode : 11\n",
      " Retrying in 1 seconds\n"
     ]
    },
    {
     "name": "stderr",
     "output_type": "stream",
     "text": [
      "Warning: Environment variable SUMO_HOME is not set properly, disabling XML validation. Set 'auto' or 'always' for web lookups.\n",
      "Warning: Vehicle 'veh_11' performs emergency stop at the end of lane 'end2_junction_2' because of a red traffic light (decel=-10.65, offset=0.00), time=31.67.\n"
     ]
    },
    {
     "name": "stdout",
     "output_type": "stream",
     "text": [
      "state : [0 0 0 0 0 0 0 0 0 0 0 0 0 0 0 0 0 0 0 0 0 0 0 0 0 0 0 0 0 0 0 0 0 0 0 0]         \n",
      "Q_values : [ 0.1318726   0.6387751   0.2295959  -0.75494003]\n",
      "Step #100.00 (0ms ?*RT. ?UPS, TraCI: 1ms, vehicles TOT 33 ACT 0 BUF 0)                     \n",
      "episode : 12\n",
      " Retrying in 1 seconds\n"
     ]
    },
    {
     "name": "stderr",
     "output_type": "stream",
     "text": [
      "Warning: Environment variable SUMO_HOME is not set properly, disabling XML validation. Set 'auto' or 'always' for web lookups.\n"
     ]
    },
    {
     "name": "stdout",
     "output_type": "stream",
     "text": [
      "state : [0 0 0 0 0 0 0 0 0 0 0 0 0 0 0 0 0 0 0 0 0 0 0 0 0 0 0 0 0 0 0 0 0 0 0 0]\n",
      "Q_values : [ 0.1318726   0.6387751   0.2295959  -0.75494003]\n"
     ]
    },
    {
     "name": "stderr",
     "output_type": "stream",
     "text": [
      "Warning: Vehicle 'veh_26' performs emergency stop at the end of lane 'end4_junction_2' because of a red traffic light (decel=-19.50, offset=0.01), time=45.88.\n",
      "Warning: Vehicle 'veh_19' performs emergency stop at the end of lane 'end2_junction_1' because of a red traffic light (decel=-10.89, offset=0.00), time=60.79.\n"
     ]
    },
    {
     "name": "stdout",
     "output_type": "stream",
     "text": [
      "state : [0 0 0 0 0 0 0 0 0 0 0 0 0 0 0 0 1 0 0 0 0 0 0 0 0 0 0 0 0 0 0 0 0 0 0 0]         \n",
      "Q_values : [ 0.13191885  0.6387427   0.22966647 -0.7548542 ]\n",
      "state : [0 0 0 0 0 0 0 0 0 0 0 0 0 0 0 0 1 0 0 0 0 0 0 0 0 0 0 0 0 0 0 0 0 0 0 0]\n",
      "Q_values : [ 0.13191885  0.6387427   0.22966647 -0.7548542 ]\n",
      "Step #100.00 (0ms ?*RT. ?UPS, TraCI: 1ms, vehicles TOT 33 ACT 1 BUF 0)                     \n",
      "episode : 13\n",
      " Retrying in 1 seconds\n"
     ]
    },
    {
     "name": "stderr",
     "output_type": "stream",
     "text": [
      "Warning: Environment variable SUMO_HOME is not set properly, disabling XML validation. Set 'auto' or 'always' for web lookups.\n",
      "Warning: Vehicle 'veh_2' performs emergency stop at the end of lane 'end1_junction_2' because of a red traffic light (decel=-20.39, offset=0.10), time=21.24.\n",
      "Warning: Vehicle 'veh_10' performs emergency stop at the end of lane 'end2_junction_1' because of a red traffic light (decel=-14.66, offset=0.00), time=31.19.\n"
     ]
    },
    {
     "name": "stdout",
     "output_type": "stream",
     "text": [
      "state : [0 0 0 0 0 0 0 0 0 0 0 0 0 0 1 0 0 0 0 0 0 0 0 1 0 0 0 0 0 0 0 0 0 0 0 0]         \n",
      "Q_values : [ 0.1318726   0.6387751   0.2295959  -0.75494003]\n",
      "state : [0 0 0 0 0 0 0 0 0 0 0 0 0 0 0 0 0 0 0 0 0 0 0 0 0 0 0 0 0 0 0 0 0 0 0 0]\n",
      "Q_values : [ 0.1318726   0.6387751   0.2295959  -0.75494003]\n",
      "Step #100.00 (0ms ?*RT. ?UPS, TraCI: 1ms, vehicles TOT 33 ACT 0 BUF 0)                     \n",
      "episode : 14\n",
      " Retrying in 1 seconds\n"
     ]
    },
    {
     "name": "stderr",
     "output_type": "stream",
     "text": [
      "Warning: Environment variable SUMO_HOME is not set properly, disabling XML validation. Set 'auto' or 'always' for web lookups.\n",
      "Warning: Vehicle 'veh_2' performs emergency stop at the end of lane 'end1_junction_2' because of a red traffic light (decel=-20.39, offset=0.10), time=21.24.\n"
     ]
    },
    {
     "name": "stdout",
     "output_type": "stream",
     "text": [
      "state : [0 0 0 0 0 0 0 0 0 0 0 0 0 1 1 0 0 2 0 0 0 0 0 0 0 0 0 0 0 0 0 0 0 0 0 0]         \n",
      "Q_values : [ 0.1318726   0.6387751   0.2295959  -0.75494003]\n",
      "Step #100.00 (0ms ?*RT. ?UPS, TraCI: 1ms, vehicles TOT 33 ACT 1 BUF 0)                     \n",
      "episode : 15\n",
      " Retrying in 1 seconds\n"
     ]
    },
    {
     "name": "stderr",
     "output_type": "stream",
     "text": [
      "Warning: Environment variable SUMO_HOME is not set properly, disabling XML validation. Set 'auto' or 'always' for web lookups.\n",
      "Warning: Vehicle 'veh_11' performs emergency stop at the end of lane 'end2_junction_2' because of a red traffic light (decel=-15.82, offset=0.01), time=31.17.\n",
      "Warning: Vehicle 'veh_22' performs emergency stop at the end of lane 'end4_junction_1' because of a red traffic light (decel=-42.49, offset=0.27), time=40.34.\n"
     ]
    },
    {
     "name": "stdout",
     "output_type": "stream",
     "text": [
      "state : [0 0 0 0 0 0 0 0 0 0 0 0 0 0 0 0 2 0 0 0 0 0 2 0 0 0 0 0 0 0 0 0 0 0 0 0]         \n",
      "Q_values : [ 0.13196915  0.6387055   0.22974491 -0.7547636 ]\n",
      "Step #100.00 (0ms ?*RT. ?UPS, TraCI: 31ms, vehicles TOT 33 ACT 0 BUF 0)                    \n",
      "episode : 16\n",
      " Retrying in 1 seconds\n"
     ]
    },
    {
     "name": "stderr",
     "output_type": "stream",
     "text": [
      "Warning: Environment variable SUMO_HOME is not set properly, disabling XML validation. Set 'auto' or 'always' for web lookups.\n",
      "Warning: Vehicle 'veh_2' performs emergency stop at the end of lane 'end1_junction_2' because of a red traffic light (decel=-20.39, offset=0.10), time=21.24.\n",
      "Warning: Vehicle 'veh_10' performs emergency stop at the end of lane 'end2_junction_1' because of a red traffic light (decel=-14.80, offset=0.00), time=31.18.\n"
     ]
    },
    {
     "name": "stdout",
     "output_type": "stream",
     "text": [
      "state : [0 0 0 0 0 0 0 0 0 0 0 0 0 1 1 0 0 1 0 0 0 0 0 0 0 0 0 0 0 0 0 0 0 0 0 0]         \n",
      "Q_values : [2.3493361  0.98962593 1.5061088  2.3934507 ]\n",
      "state : [0 0 0 0 0 0 0 0 0 0 0 0 0 0 1 0 0 2 0 0 0 0 0 1 0 0 0 0 0 0 0 0 0 0 0 0]         \n",
      "Q_values : [3.349609  3.9749804 2.0841827 1.1418071]\n",
      "state : [0 0 0 0 0 0 0 0 0 0 0 0 0 0 0 0 0 3 0 0 0 0 1 1 0 0 0 0 0 0 0 0 0 0 0 0]UF 0)    \n",
      "Q_values : [ 4.0181475  1.931333   2.6235027 -0.5157902]\n"
     ]
    },
    {
     "name": "stderr",
     "output_type": "stream",
     "text": [
      "Warning: Vehicle 'veh_25' performs emergency stop at the end of lane 'end4_junction_1' because of a red traffic light (decel=-24.49, offset=0.14), time=45.21.\n"
     ]
    },
    {
     "name": "stdout",
     "output_type": "stream",
     "text": [
      "state : [0 0 0 0 0 0 0 0 0 0 0 0 0 0 0 0 0 3 0 0 0 0 0 4 0 0 0 0 0 0 0 0 0 0 0 0]\n",
      "Q_values : [ 1.7286003   1.6330577  -0.21371794  0.16178727]\n",
      "state : [0 0 0 0 0 0 0 0 0 0 0 0 0 0 0 0 0 3 0 0 0 0 0 4 0 0 0 0 0 0 0 0 0 0 0 0]\n",
      "Q_values : [ 3.3399737   1.5314198  -0.87907577  1.8559296 ]\n",
      "Step #100.00 (0ms ?*RT. ?UPS, TraCI: 28ms, vehicles TOT 33 ACT 7 BUF 0)                    \n",
      "episode : 17\n",
      " Retrying in 1 seconds\n"
     ]
    },
    {
     "name": "stderr",
     "output_type": "stream",
     "text": [
      "Warning: Environment variable SUMO_HOME is not set properly, disabling XML validation. Set 'auto' or 'always' for web lookups.\n",
      "Warning: Vehicle 'veh_26' performs emergency stop at the end of lane 'end4_junction_2' because of a red traffic light (decel=-19.48, offset=0.09), time=45.88.\n"
     ]
    },
    {
     "name": "stdout",
     "output_type": "stream",
     "text": [
      "state : [0 0 0 0 0 0 0 0 0 0 0 0 0 0 0 0 6 0 0 0 0 0 4 3 0 0 0 0 0 0 0 0 0 0 0 0]         \n",
      "Q_values : [ 2.1443775   2.2008514  -0.15141845  0.23710728]\n",
      "state : [0 0 0 0 0 0 0 0 0 0 0 0 0 0 0 0 6 0 0 0 0 0 4 0 0 0 0 0 0 0 0 0 0 0 0 0]\n",
      "Q_values : [4.307349  3.3461845 1.5254376 1.553829 ]\n",
      "state : [0 0 0 0 0 0 0 0 0 0 0 0 0 0 0 0 6 0 0 0 0 0 4 0 0 0 0 0 0 0 0 0 0 0 0 0]\n",
      "Q_values : [4.400671   3.596352   1.9924858  0.95163417]\n",
      "Step #100.00 (0ms ?*RT. ?UPS, TraCI: 32ms, vehicles TOT 33 ACT 10 BUF 0)                   \n",
      "episode : 18\n",
      " Retrying in 1 seconds\n"
     ]
    },
    {
     "name": "stderr",
     "output_type": "stream",
     "text": [
      "Warning: Environment variable SUMO_HOME is not set properly, disabling XML validation. Set 'auto' or 'always' for web lookups.\n",
      "Warning: Vehicle 'veh_10' performs emergency stop at the end of lane 'end2_junction_1' because of a red traffic light (decel=-14.28, offset=0.04), time=31.22.\n"
     ]
    },
    {
     "name": "stdout",
     "output_type": "stream",
     "text": [
      "Step #45.00 (0ms ?*RT. ?UPS, TraCI: 33ms, vehicles TOT 33 ACT 27 BUF 0)                   \r"
     ]
    },
    {
     "name": "stderr",
     "output_type": "stream",
     "text": [
      "Warning: Vehicle 'veh_25' performs emergency stop at the end of lane 'end4_junction_1' because of a red traffic light (decel=-24.47, offset=0.13), time=45.21.\n"
     ]
    },
    {
     "name": "stdout",
     "output_type": "stream",
     "text": [
      "Step #100.00 (0ms ?*RT. ?UPS, TraCI: 30ms, vehicles TOT 33 ACT 0 BUF 0)                    \n",
      "episode : 19\n",
      " Retrying in 1 seconds\n"
     ]
    },
    {
     "name": "stderr",
     "output_type": "stream",
     "text": [
      "Warning: Environment variable SUMO_HOME is not set properly, disabling XML validation. Set 'auto' or 'always' for web lookups.\n"
     ]
    },
    {
     "name": "stdout",
     "output_type": "stream",
     "text": [
      "state : [0 0 0 0 0 0 0 0 0 0 0 0 0 0 0 0 2 1 0 0 0 0 4 0 0 0 0 0 0 0 0 0 0 0 0 0]\n",
      "Q_values : [2.527595   2.9435124  0.45126176 1.9573343 ]\n",
      "state : [0 0 0 0 0 0 0 0 0 0 0 0 0 0 0 0 0 0 0 0 0 0 0 0 0 0 0 0 0 0 0 0 0 0 0 0]\n",
      "Q_values : [3.2698588  3.3164053  1.3681304  0.10736632]\n",
      "state : [0 0 0 0 0 0 0 0 0 0 0 0 0 0 0 0 0 0 0 0 0 0 0 0 0 0 0 0 0 0 0 0 0 0 0 0]\n",
      "Q_values : [2.3008008  3.042107   2.1949506  0.68670607]\n",
      "Step #100.00 (0ms ?*RT. ?UPS, TraCI: 30ms, vehicles TOT 33 ACT 0 BUF 0)                    \n",
      "episode : 20\n",
      " Retrying in 1 seconds\n"
     ]
    },
    {
     "name": "stderr",
     "output_type": "stream",
     "text": [
      "Warning: Environment variable SUMO_HOME is not set properly, disabling XML validation. Set 'auto' or 'always' for web lookups.\n",
      "Warning: Vehicle 'veh_11' performs emergency stop at the end of lane 'end2_junction_2' because of a red traffic light (decel=-10.65, offset=0.00), time=31.67.\n"
     ]
    },
    {
     "name": "stdout",
     "output_type": "stream",
     "text": [
      "Step #100.00 (0ms ?*RT. ?UPS, TraCI: 30ms, vehicles TOT 33 ACT 8 BUF 0)                    \n",
      "episode : 21\n",
      " Retrying in 1 seconds\n"
     ]
    },
    {
     "name": "stderr",
     "output_type": "stream",
     "text": [
      "Warning: Environment variable SUMO_HOME is not set properly, disabling XML validation. Set 'auto' or 'always' for web lookups.\n",
      "Warning: Vehicle 'veh_22' performs emergency stop at the end of lane 'end4_junction_1' because of a red traffic light (decel=-42.49, offset=0.27), time=40.34.\n",
      "Warning: Vehicle 'veh_26' performs emergency stop at the end of lane 'end4_junction_2' because of a red traffic light (decel=-19.50, offset=0.01), time=45.88.\n"
     ]
    },
    {
     "name": "stdout",
     "output_type": "stream",
     "text": [
      "state : [0 0 0 0 0 0 0 0 0 0 0 0 0 0 0 0 0 0 0 0 0 0 0 0 0 0 0 0 0 0 0 0 0 0 0 0]         \n",
      "Q_values : [ 2.3098688   1.3319503  -0.76113176  0.27742076]\n",
      "state : [0 0 0 0 0 0 0 0 0 0 0 0 0 0 0 0 0 0 0 0 0 0 0 0 0 0 0 0 0 0 0 0 0 0 0 0]\n",
      "Q_values : [ 1.9471242   2.938921   -0.2115643  -0.16258407]\n",
      "Step #100.00 (0ms ?*RT. ?UPS, TraCI: 30ms, vehicles TOT 33 ACT 0 BUF 0)                    \n",
      "episode : 22\n",
      " Retrying in 1 seconds\n"
     ]
    },
    {
     "name": "stderr",
     "output_type": "stream",
     "text": [
      "Warning: Environment variable SUMO_HOME is not set properly, disabling XML validation. Set 'auto' or 'always' for web lookups.\n"
     ]
    },
    {
     "name": "stdout",
     "output_type": "stream",
     "text": [
      "state : [0 0 0 0 0 0 0 0 0 0 0 0 0 0 0 0 0 0 0 0 0 0 0 0 0 0 0 0 0 0 0 0 0 0 0 0]\n",
      "Q_values : [2.6100922  3.1200736  1.868427   0.52302575]\n",
      "Step #21.00 (0ms ?*RT. ?UPS, TraCI: 0ms, vehicles TOT 22 ACT 22 BUF 0)                    \r"
     ]
    },
    {
     "name": "stderr",
     "output_type": "stream",
     "text": [
      "Warning: Vehicle 'veh_2' performs emergency stop at the end of lane 'end1_junction_2' because of a red traffic light (decel=-20.39, offset=0.10), time=21.24.\n"
     ]
    },
    {
     "name": "stdout",
     "output_type": "stream",
     "text": [
      "Step #45.00 (0ms ?*RT. ?UPS, TraCI: 31ms, vehicles TOT 33 ACT 28 BUF 0)                   \r"
     ]
    },
    {
     "name": "stderr",
     "output_type": "stream",
     "text": [
      "Warning: Vehicle 'veh_25' performs emergency stop at the end of lane 'end4_junction_1' because of a red traffic light (decel=-24.47, offset=0.13), time=45.21.\n"
     ]
    },
    {
     "name": "stdout",
     "output_type": "stream",
     "text": [
      "state : [0 0 0 0 0 0 0 0 0 0 0 0 0 0 0 0 0 0 0 0 0 0 0 0 0 0 0 0 0 0 0 0 0 0 0 0]\n",
      "Q_values : [1.694405  3.0601292 0.3912747 0.5162735]\n",
      "state : [0 0 0 0 0 0 0 0 0 0 0 0 0 0 0 0 0 0 0 0 0 0 0 0 0 0 0 0 0 0 0 0 0 0 0 0]\n",
      "Q_values : [2.2358823  1.3435292  0.5063939  0.64414144]\n",
      "Step #100.00 (0ms ?*RT. ?UPS, TraCI: 31ms, vehicles TOT 33 ACT 0 BUF 0)                    \n",
      "episode : 23\n",
      " Retrying in 1 seconds\n"
     ]
    },
    {
     "name": "stderr",
     "output_type": "stream",
     "text": [
      "Warning: Environment variable SUMO_HOME is not set properly, disabling XML validation. Set 'auto' or 'always' for web lookups.\n"
     ]
    },
    {
     "name": "stdout",
     "output_type": "stream",
     "text": [
      "state : [0 0 0 0 0 0 0 0 0 0 0 0 0 0 0 0 0 0 0 0 0 0 0 0 0 0 0 0 0 0 0 0 0 0 0 0]\n",
      "Q_values : [2.3333397 2.714537  1.4812748 1.1529038]\n",
      "Step #21.00 (0ms ?*RT. ?UPS, TraCI: 0ms, vehicles TOT 22 ACT 22 BUF 0)                    \r"
     ]
    },
    {
     "name": "stderr",
     "output_type": "stream",
     "text": [
      "Warning: Vehicle 'veh_2' performs emergency stop at the end of lane 'end1_junction_2' because of a red traffic light (decel=-20.39, offset=0.10), time=21.24.\n"
     ]
    },
    {
     "name": "stdout",
     "output_type": "stream",
     "text": [
      "state : [0 0 0 0 0 0 0 0 0 0 0 0 0 1 1 0 0 0 0 0 0 0 0 0 0 0 0 0 0 0 0 0 0 0 0 0]\n",
      "Q_values : [ 1.743287   1.6994363 -0.7124202 -0.7687006]\n",
      "state : [0 0 0 0 0 0 0 0 0 0 0 0 0 0 0 0 5 6 0 0 0 0 2 1 0 0 0 0 0 0 0 0 0 0 0 0]\n",
      "Q_values : [2.0855842 1.7551541 1.0281789 1.3905275]\n",
      "Step #100.00 (0ms ?*RT. ?UPS, TraCI: 29ms, vehicles TOT 33 ACT 10 BUF 0)                   \n",
      "episode : 24\n",
      " Retrying in 1 seconds\n"
     ]
    },
    {
     "name": "stderr",
     "output_type": "stream",
     "text": [
      "Warning: Environment variable SUMO_HOME is not set properly, disabling XML validation. Set 'auto' or 'always' for web lookups.\n"
     ]
    },
    {
     "name": "stdout",
     "output_type": "stream",
     "text": [
      "state : [0 0 0 0 0 0 0 0 0 0 0 0 0 0 0 0 0 0 0 0 0 0 0 0 0 0 0 0 0 0 0 0 0 0 0 0]\n",
      "Q_values : [ 1.1434137   0.5808327   0.5918524  -0.23208117]\n",
      "state : [0 0 0 0 0 0 0 0 0 0 0 0 0 0 0 0 0 0 0 0 0 0 0 0 0 0 0 0 0 0 0 0 0 0 0 0]\n",
      "Q_values : [ 2.629303    0.9646313   0.23335934 -0.67184997]\n",
      "state : [0 0 0 0 0 0 0 0 0 0 0 0 0 0 0 0 2 0 0 0 0 0 4 0 0 0 0 0 0 0 0 0 0 0 0 0]\n",
      "Q_values : [ 2.3771124   1.3046333  -0.00701237  0.8246174 ]\n",
      "Step #100.00 (0ms ?*RT. ?UPS, TraCI: 31ms, vehicles TOT 33 ACT 0 BUF 0)                    \n",
      "episode : 25\n",
      " Retrying in 1 seconds\n"
     ]
    },
    {
     "name": "stderr",
     "output_type": "stream",
     "text": [
      "Warning: Environment variable SUMO_HOME is not set properly, disabling XML validation. Set 'auto' or 'always' for web lookups.\n",
      "Warning: Vehicle 'veh_11' performs emergency stop at the end of lane 'end2_junction_2' because of a red traffic light (decel=-15.71, offset=0.06), time=31.18.\n"
     ]
    },
    {
     "name": "stdout",
     "output_type": "stream",
     "text": [
      "Step #100.00 (0ms ?*RT. ?UPS, TraCI: 30ms, vehicles TOT 33 ACT 8 BUF 0)                    \n",
      "episode : 26\n",
      " Retrying in 1 seconds\n"
     ]
    },
    {
     "name": "stderr",
     "output_type": "stream",
     "text": [
      "Warning: Environment variable SUMO_HOME is not set properly, disabling XML validation. Set 'auto' or 'always' for web lookups.\n"
     ]
    },
    {
     "name": "stdout",
     "output_type": "stream",
     "text": [
      "state : [0 0 0 0 0 0 0 0 0 0 0 0 0 0 0 0 0 0 0 0 0 0 0 0 0 0 0 0 0 0 0 0 0 0 0 0]\n",
      "Q_values : [ 1.935867    1.7140765   0.63626695 -0.40287828]\n",
      "state : [0 0 0 0 0 0 0 0 0 0 0 0 0 0 1 0 1 0 0 0 0 0 0 0 0 0 0 0 0 0 0 0 0 0 0 0]\n",
      "Q_values : [ 0.79017365  1.8388728  -0.32831407 -0.40786982]\n",
      "state : [0 0 0 0 0 0 0 0 0 0 0 0 0 0 0 0 2 0 0 0 0 0 0 0 0 0 0 0 0 0 0 0 0 0 0 0]\n",
      "Q_values : [ 2.8864796e+00  2.3419905e+00  1.6471447e+00 -1.8777847e-03]\n",
      "Step #45.00 (0ms ?*RT. ?UPS, TraCI: 32ms, vehicles TOT 33 ACT 28 BUF 0)                   \r"
     ]
    },
    {
     "name": "stderr",
     "output_type": "stream",
     "text": [
      "Warning: Vehicle 'veh_25' performs emergency stop at the end of lane 'end4_junction_1' because of a red traffic light (decel=-24.49, offset=0.14), time=45.21.\n",
      "Warning: Vehicle 'veh_16' performs emergency stop at the end of lane 'end2_junction_1' because of a red traffic light (decel=-10.05, offset=0.00), time=45.87.\n"
     ]
    },
    {
     "name": "stdout",
     "output_type": "stream",
     "text": [
      "Step #100.00 (0ms ?*RT. ?UPS, TraCI: 31ms, vehicles TOT 33 ACT 11 BUF 0)                   \n",
      "episode : 27\n",
      " Retrying in 1 seconds\n"
     ]
    },
    {
     "name": "stderr",
     "output_type": "stream",
     "text": [
      "Warning: Environment variable SUMO_HOME is not set properly, disabling XML validation. Set 'auto' or 'always' for web lookups.\n",
      "Warning: Vehicle 'veh_10' performs emergency stop at the end of lane 'end2_junction_1' because of a red traffic light (decel=-22.28, offset=0.04), time=30.42.\n"
     ]
    },
    {
     "name": "stdout",
     "output_type": "stream",
     "text": [
      "state : [0 0 0 0 0 0 0 0 0 0 0 0 0 0 0 0 2 3 0 0 0 0 0 0 0 0 0 0 0 0 0 0 0 0 0 0]         \n",
      "Q_values : [ 1.8645798   2.3258672   1.4634354  -0.39384842]\n",
      "state : [0 0 0 0 0 0 0 0 0 0 0 0 0 0 0 0 4 4 0 0 0 0 1 1 0 0 0 0 0 0 0 0 0 0 0 0]\n",
      "Q_values : [ 1.3254074   1.7034416   0.8347323  -0.69530463]\n",
      "Step #100.00 (0ms ?*RT. ?UPS, TraCI: 30ms, vehicles TOT 33 ACT 0 BUF 0)                    \n",
      "episode : 28\n",
      " Retrying in 1 seconds\n"
     ]
    },
    {
     "name": "stderr",
     "output_type": "stream",
     "text": [
      "Warning: Environment variable SUMO_HOME is not set properly, disabling XML validation. Set 'auto' or 'always' for web lookups.\n"
     ]
    },
    {
     "name": "stdout",
     "output_type": "stream",
     "text": [
      "state : [0 0 0 0 0 0 0 0 0 0 0 0 0 0 0 0 0 0 0 0 0 0 0 0 0 0 0 0 0 0 0 0 0 0 0 0]\n",
      "Q_values : [ 2.7064645   2.8010538  -0.49874973  0.00760698]\n",
      "Step #100.00 (0ms ?*RT. ?UPS, TraCI: 65ms, vehicles TOT 33 ACT 2 BUF 0)                    \n",
      "episode : 29\n",
      " Retrying in 1 seconds\n"
     ]
    },
    {
     "name": "stderr",
     "output_type": "stream",
     "text": [
      "Warning: Environment variable SUMO_HOME is not set properly, disabling XML validation. Set 'auto' or 'always' for web lookups.\n"
     ]
    },
    {
     "name": "stdout",
     "output_type": "stream",
     "text": [
      "state : [0 0 0 0 0 0 0 0 0 0 0 0 0 0 0 0 0 0 0 0 0 0 0 0 0 0 0 0 0 0 0 0 0 0 0 0]\n",
      "Q_values : [ 1.7105601   1.8656024  -0.44242477  1.6516063 ]\n",
      "Step #21.00 (0ms ?*RT. ?UPS, TraCI: 0ms, vehicles TOT 22 ACT 22 BUF 0)                    \r"
     ]
    },
    {
     "name": "stderr",
     "output_type": "stream",
     "text": [
      "Warning: Vehicle 'veh_2' performs emergency stop at the end of lane 'end1_junction_2' because of a red traffic light (decel=-20.39, offset=0.10), time=21.24.\n",
      "Warning: Vehicle 'veh_10' performs emergency stop at the end of lane 'end2_junction_1' because of a red traffic light (decel=-14.80, offset=0.00), time=31.18.\n"
     ]
    },
    {
     "name": "stdout",
     "output_type": "stream",
     "text": [
      "state : [0 0 0 0 0 0 0 0 0 0 0 0 0 1 1 0 0 1 0 0 0 0 0 0 0 0 0 0 0 0 0 0 0 0 0 0]\n",
      "Q_values : [ 2.0539174  1.8097556  1.1901785 -1.1290026]\n",
      "Step #42.00 (0ms ?*RT. ?UPS, TraCI: 0ms, vehicles TOT 33 ACT 30 BUF 0)                    \r"
     ]
    },
    {
     "name": "stderr",
     "output_type": "stream",
     "text": [
      "Warning: Vehicle 'veh_23' performs emergency stop at the end of lane 'end4_junction_2' because of a red traffic light (decel=-19.20, offset=0.09), time=42.38.\n",
      "Warning: Vehicle 'veh_25' performs emergency stop at the end of lane 'end4_junction_1' because of a red traffic light (decel=-25.77, offset=0.05), time=45.07.\n"
     ]
    },
    {
     "name": "stdout",
     "output_type": "stream",
     "text": [
      "state : [0 0 0 0 0 0 0 0 0 0 0 0 0 0 0 0 0 0 0 0 0 0 3 0 0 0 0 0 0 0 0 0 0 0 0 0]         \n",
      "Q_values : [2.5990806  1.94895    0.3396566  0.29490852]\n",
      "state : [0 0 0 0 0 0 0 0 0 0 0 0 0 0 0 0 0 0 0 0 0 0 3 0 0 0 0 0 0 0 0 0 0 0 0 0]\n",
      "Q_values : [ 1.2904052   0.83711874 -0.27249408 -0.2646594 ]\n",
      "Step #100.00 (0ms ?*RT. ?UPS, TraCI: 31ms, vehicles TOT 33 ACT 3 BUF 0)                    \n",
      "episode : 30\n",
      " Retrying in 1 seconds\n"
     ]
    },
    {
     "name": "stderr",
     "output_type": "stream",
     "text": [
      "Warning: Environment variable SUMO_HOME is not set properly, disabling XML validation. Set 'auto' or 'always' for web lookups.\n"
     ]
    },
    {
     "name": "stdout",
     "output_type": "stream",
     "text": [
      "state : [0 0 0 0 0 0 0 0 0 0 0 0 0 0 0 0 0 0 0 0 0 0 0 0 0 0 0 0 0 0 0 0 0 0 0 0]\n",
      "Q_values : [2.2526164 2.1377788 1.851713  1.3427112]\n"
     ]
    },
    {
     "name": "stderr",
     "output_type": "stream",
     "text": [
      "Warning: Vehicle 'veh_19' performs emergency stop at the end of lane 'end2_junction_1' because of a red traffic light (decel=-24.81, offset=0.10), time=40.18.\n",
      "Warning: Vehicle 'veh_22' performs emergency stop at the end of lane 'end4_junction_1' because of a red traffic light (decel=-42.49, offset=0.27), time=40.34.\n"
     ]
    },
    {
     "name": "stdout",
     "output_type": "stream",
     "text": [
      "state : [0 0 0 0 0 0 0 0 0 0 0 0 0 0 0 0 1 0 0 0 0 0 2 0 0 0 0 0 0 0 0 0 0 0 0 0]         \n",
      "Q_values : [ 2.4812124   1.5053604  -0.07930994  1.9346488 ]\n",
      "state : [0 0 0 0 0 0 0 0 0 0 0 0 0 0 0 0 1 0 0 0 0 0 4 0 0 0 0 0 0 0 0 0 0 0 0 0]\n",
      "Q_values : [2.2598844  2.178654   0.01857424 0.7771847 ]\n",
      "state : [0 0 0 0 0 0 0 0 0 0 0 0 0 0 0 0 1 0 0 0 0 0 4 0 0 0 0 0 0 0 0 0 0 0 0 0]\n",
      "Q_values : [ 1.6480677  1.9401596  0.2459836 -2.1407423]\n",
      "state : [0 0 0 0 0 0 0 0 0 0 0 0 0 0 0 0 1 0 0 0 0 0 4 0 0 0 0 0 0 0 0 0 0 0 0 0]\n",
      "Q_values : [ 0.91991675  1.2844326   0.24701762 -3.9942956 ]\n",
      "Step #100.00 (0ms ?*RT. ?UPS, TraCI: 30ms, vehicles TOT 33 ACT 5 BUF 0)                    \n",
      "episode : 31\n",
      " Retrying in 1 seconds\n"
     ]
    },
    {
     "name": "stderr",
     "output_type": "stream",
     "text": [
      "Warning: Environment variable SUMO_HOME is not set properly, disabling XML validation. Set 'auto' or 'always' for web lookups.\n",
      "Warning: Vehicle 'veh_20' performs emergency stop at the end of lane 'end2_junction_2' because of a red traffic light (decel=-20.55, offset=0.07), time=40.09.\n",
      "Warning: Vehicle 'veh_23' performs emergency stop at the end of lane 'end4_junction_2' because of a red traffic light (decel=-19.20, offset=0.09), time=42.38.\n"
     ]
    },
    {
     "name": "stdout",
     "output_type": "stream",
     "text": [
      "state : [0 0 0 0 0 0 0 0 0 0 0 0 0 1 0 0 0 0 0 0 0 0 0 0 0 0 0 0 0 0 0 0 0 0 0 0]         \n",
      "Q_values : [ 2.6699314  1.8769011  0.2723074 -1.0812883]\n",
      "Step #100.00 (0ms ?*RT. ?UPS, TraCI: 32ms, vehicles TOT 33 ACT 0 BUF 0)                    \n",
      "episode : 32\n",
      " Retrying in 1 seconds\n"
     ]
    },
    {
     "name": "stderr",
     "output_type": "stream",
     "text": [
      "Warning: Environment variable SUMO_HOME is not set properly, disabling XML validation. Set 'auto' or 'always' for web lookups.\n"
     ]
    },
    {
     "name": "stdout",
     "output_type": "stream",
     "text": [
      "state : [0 0 0 0 0 0 0 0 0 0 0 0 0 0 0 0 0 0 0 0 0 0 0 0 0 0 0 0 0 0 0 0 0 0 0 0]\n",
      "Q_values : [ 0.5552842  1.1396416 -0.7269366  0.2680204]\n"
     ]
    },
    {
     "name": "stderr",
     "output_type": "stream",
     "text": [
      "Warning: Vehicle 'veh_11' performs emergency stop at the end of lane 'end2_junction_2' because of a red traffic light (decel=-15.82, offset=0.01), time=31.17.\n",
      "Warning: Vehicle 'veh_22' performs emergency stop at the end of lane 'end4_junction_1' because of a red traffic light (decel=-42.49, offset=0.27), time=40.34.\n"
     ]
    },
    {
     "name": "stdout",
     "output_type": "stream",
     "text": [
      "state : [0 0 0 0 0 0 0 0 0 0 0 0 0 0 1 0 0 2 0 0 0 0 0 0 0 0 0 0 0 0 0 0 0 0 0 0]         \n",
      "Q_values : [2.3785434 2.5363579 2.1515272 1.300915 ]\n",
      "state : [0 0 0 0 0 0 0 0 0 0 0 0 0 0 0 0 0 0 0 0 0 0 0 0 0 0 0 0 0 0 0 0 0 0 0 0]         \n",
      "Q_values : [2.9447052 2.625274  0.5028355 0.6375818]\n",
      "state : [0 0 0 0 0 0 0 0 0 0 0 0 0 0 0 0 0 0 0 0 0 0 0 0 0 0 0 0 0 0 0 0 0 0 0 0]\n",
      "Q_values : [1.5806797 2.2122643 1.0368359 1.2837822]\n",
      "state : [0 0 0 0 0 0 0 0 0 0 0 0 0 0 0 0 0 0 0 0 0 0 0 0 0 0 0 0 0 0 0 0 0 0 0 0]\n",
      "Q_values : [ 1.6936152  0.7879852  2.0049493 -0.9296472]\n",
      "Step #100.00 (0ms ?*RT. ?UPS, TraCI: 30ms, vehicles TOT 33 ACT 0 BUF 0)                    \n",
      "episode : 33\n",
      " Retrying in 1 seconds\n"
     ]
    },
    {
     "name": "stderr",
     "output_type": "stream",
     "text": [
      "Warning: Environment variable SUMO_HOME is not set properly, disabling XML validation. Set 'auto' or 'always' for web lookups.\n"
     ]
    },
    {
     "name": "stdout",
     "output_type": "stream",
     "text": [
      "state : [0 0 0 0 0 0 0 0 0 0 0 0 0 0 0 0 0 0 0 0 0 0 0 0 0 0 0 0 0 0 0 0 0 0 0 0]\n",
      "Q_values : [ 1.5420382  3.0246072  1.1041434 -2.2434032]\n",
      "Step #21.00 (0ms ?*RT. ?UPS, TraCI: 0ms, vehicles TOT 22 ACT 22 BUF 0)                    \r"
     ]
    },
    {
     "name": "stderr",
     "output_type": "stream",
     "text": [
      "Warning: Vehicle 'veh_2' performs emergency stop at the end of lane 'end1_junction_2' because of a red traffic light (decel=-20.39, offset=0.10), time=21.24.\n"
     ]
    },
    {
     "name": "stdout",
     "output_type": "stream",
     "text": [
      "state : [0 0 0 0 0 0 0 0 0 0 0 0 0 0 1 0 0 1 0 0 0 0 0 0 0 0 0 0 0 0 0 0 0 0 0 0]\n",
      "Q_values : [ 1.8292758   2.0469847   1.327688   -0.07164478]\n",
      "state : [0 0 0 0 0 0 0 0 0 0 0 0 0 0 0 0 1 3 0 0 0 0 0 0 0 0 0 0 0 0 0 0 0 0 0 0]\n",
      "Q_values : [ 1.8636563   1.4366893   0.37604523 -0.11124921]\n",
      "state : [0 0 0 0 0 0 0 0 0 0 0 0 0 0 0 0 2 0 0 0 0 0 4 0 0 0 0 0 0 0 0 0 0 0 0 0]\n",
      "Q_values : [2.285011   0.95708203 0.22249103 0.17614198]\n",
      "state : [0 0 0 0 0 0 0 0 0 0 0 0 0 0 0 0 2 0 0 0 0 0 4 0 0 0 0 0 0 0 0 0 0 0 0 0]\n",
      "Q_values : [1.8220057  1.5667138  0.5228436  0.16899991]\n",
      "state : [0 0 0 0 0 0 0 0 0 0 0 0 0 0 0 0 2 0 0 0 0 0 4 0 0 0 0 0 0 0 0 0 0 0 0 0]\n",
      "Q_values : [4.745708  2.632578  1.8996642 0.9559746]\n",
      "Step #100.00 (0ms ?*RT. ?UPS, TraCI: 31ms, vehicles TOT 33 ACT 6 BUF 0)                    \n",
      "episode : 34\n",
      " Retrying in 1 seconds\n"
     ]
    },
    {
     "name": "stderr",
     "output_type": "stream",
     "text": [
      "Warning: Environment variable SUMO_HOME is not set properly, disabling XML validation. Set 'auto' or 'always' for web lookups.\n"
     ]
    },
    {
     "name": "stdout",
     "output_type": "stream",
     "text": [
      "state : [0 0 0 0 0 0 0 0 0 0 0 0 0 0 0 0 0 0 0 0 0 0 0 0 0 0 0 0 0 0 0 0 0 0 0 0]\n",
      "Q_values : [2.9381106 3.8822918 1.3977945 2.218554 ]\n"
     ]
    },
    {
     "name": "stderr",
     "output_type": "stream",
     "text": [
      "Warning: Vehicle 'veh_11' performs emergency stop at the end of lane 'end2_junction_2' because of a red traffic light (decel=-10.65, offset=0.00), time=31.67.\n"
     ]
    },
    {
     "name": "stdout",
     "output_type": "stream",
     "text": [
      "state : [0 0 0 0 0 0 0 0 0 0 0 0 0 0 0 0 0 0 0 0 0 0 0 0 0 0 0 0 0 0 0 0 0 0 0 0]         \n",
      "Q_values : [ 1.7712154   0.72585976 -1.3872321  -0.17626476]\n",
      "Step #100.00 (0ms ?*RT. ?UPS, TraCI: 31ms, vehicles TOT 33 ACT 8 BUF 0)                    \n",
      "episode : 35\n"
     ]
    },
    {
     "name": "stderr",
     "output_type": "stream",
     "text": [
      "Warning: Vehicle 'veh_16' performs emergency stop at the end of lane 'end2_junction_1' because of a red traffic light (decel=-10.86, offset=0.00), time=85.79.\n"
     ]
    },
    {
     "name": "stdout",
     "output_type": "stream",
     "text": [
      " Retrying in 1 seconds\n"
     ]
    },
    {
     "name": "stderr",
     "output_type": "stream",
     "text": [
      "Warning: Environment variable SUMO_HOME is not set properly, disabling XML validation. Set 'auto' or 'always' for web lookups.\n"
     ]
    },
    {
     "name": "stdout",
     "output_type": "stream",
     "text": [
      "state : [0 0 0 0 0 0 0 0 0 0 0 0 0 0 0 0 0 0 0 0 0 0 0 0 0 0 0 0 0 0 0 0 0 0 0 0]\n",
      "Q_values : [2.553882   2.2703183  0.62753034 0.95987105]\n",
      "state : [0 0 0 0 0 0 0 0 0 0 0 0 0 0 0 0 2 0 0 0 0 0 0 0 0 0 0 0 0 0 0 0 0 0 0 0]\n",
      "Q_values : [ 1.1468472  1.6693418 -1.5895987 -1.3630147]\n",
      "state : [0 0 0 0 0 0 0 0 0 0 0 0 0 0 0 0 0 0 0 0 0 0 0 0 0 0 0 0 0 0 0 0 0 0 0 0]\n",
      "Q_values : [ 2.2942238  1.7403598  1.3347193 -1.449316 ]\n",
      "state : [0 0 0 0 0 0 0 0 0 0 0 0 0 0 0 0 0 0 0 0 0 0 0 0 0 0 0 0 0 0 0 0 0 0 0 0]\n",
      "Q_values : [ 1.9263623   0.81234074 -0.97976255 -1.2157323 ]\n",
      "Step #100.00 (0ms ?*RT. ?UPS, TraCI: 30ms, vehicles TOT 33 ACT 0 BUF 0)                    \n",
      "episode : 36\n",
      " Retrying in 1 seconds\n"
     ]
    },
    {
     "name": "stderr",
     "output_type": "stream",
     "text": [
      "Warning: Environment variable SUMO_HOME is not set properly, disabling XML validation. Set 'auto' or 'always' for web lookups.\n"
     ]
    },
    {
     "name": "stdout",
     "output_type": "stream",
     "text": [
      "state : [0 0 0 0 0 0 0 0 0 0 0 0 0 0 0 0 0 0 0 0 0 0 0 0 0 0 0 0 0 0 0 0 0 0 0 0]\n",
      "Q_values : [ 1.0337013   1.9163677  -0.34592223  0.8925688 ]\n",
      "state : [0 0 0 0 0 0 0 0 0 0 0 0 0 0 0 0 1 1 0 0 0 0 0 0 0 0 0 0 0 0 0 0 0 0 0 0]\n",
      "Q_values : [3.0748825  2.032043   0.30580902 0.14630866]\n"
     ]
    },
    {
     "name": "stderr",
     "output_type": "stream",
     "text": [
      "Warning: Vehicle 'veh_22' performs emergency stop at the end of lane 'end4_junction_1' because of a red traffic light (decel=-42.49, offset=0.27), time=40.34.\n"
     ]
    },
    {
     "name": "stdout",
     "output_type": "stream",
     "text": [
      "state : [0 0 0 0 0 0 0 0 0 0 0 0 0 0 0 0 0 6 0 0 0 0 0 4 0 0 0 0 0 0 0 0 0 0 0 0]         \n",
      "Q_values : [1.2080178  2.3726773  0.25139928 0.50595975]\n",
      "state : [0 0 0 0 0 0 0 0 0 0 0 0 0 0 0 0 0 0 0 0 0 0 0 0 0 0 0 0 0 0 0 0 0 0 0 0]\n",
      "Q_values : [3.5312088 2.028698  1.3469305 1.4396353]\n",
      "state : [0 0 0 0 0 0 0 0 0 0 0 0 0 0 0 0 0 1 0 0 0 0 0 0 0 0 0 0 0 0 0 0 0 0 0 0]\n",
      "Q_values : [3.4997945 4.174803  1.9443735 1.1371791]\n",
      "Step #100.00 (0ms ?*RT. ?UPS, TraCI: 31ms, vehicles TOT 33 ACT 10 BUF 0)                   \n",
      "episode : 37\n",
      " Retrying in 1 seconds\n"
     ]
    },
    {
     "name": "stderr",
     "output_type": "stream",
     "text": [
      "Warning: Environment variable SUMO_HOME is not set properly, disabling XML validation. Set 'auto' or 'always' for web lookups.\n",
      "Warning: Vehicle 'veh_19' performs emergency stop at the end of lane 'end2_junction_1' because of a red traffic light (decel=-24.68, offset=0.07), time=40.18.\n",
      "Warning: Vehicle 'veh_22' performs emergency stop at the end of lane 'end4_junction_1' because of a red traffic light (decel=-42.49, offset=0.27), time=40.34.\n"
     ]
    },
    {
     "name": "stdout",
     "output_type": "stream",
     "text": [
      "state : [0 0 0 0 0 0 0 0 0 0 0 0 0 1 0 0 1 5 0 0 0 0 1 1 0 0 0 0 0 0 0 0 0 0 0 0]         \n",
      "Q_values : [ 1.9529423  0.765208  -0.7902596 -0.2722082]\n",
      "state : [0 0 0 0 0 0 0 0 0 0 0 0 0 0 0 0 0 6 0 0 0 0 0 4 0 0 0 0 0 0 0 0 0 0 0 0]\n",
      "Q_values : [2.790061   2.6300032  0.6208658  0.76976085]\n",
      "Step #100.00 (0ms ?*RT. ?UPS, TraCI: 32ms, vehicles TOT 33 ACT 10 BUF 0)                   \n",
      "episode : 38\n",
      " Retrying in 1 seconds\n"
     ]
    },
    {
     "name": "stderr",
     "output_type": "stream",
     "text": [
      "Warning: Environment variable SUMO_HOME is not set properly, disabling XML validation. Set 'auto' or 'always' for web lookups.\n"
     ]
    },
    {
     "name": "stdout",
     "output_type": "stream",
     "text": [
      "state : [0 0 0 0 0 0 0 0 0 0 0 0 0 0 1 0 4 0 0 0 0 0 0 0 0 0 0 0 0 0 0 0 0 0 0 0]\n",
      "Q_values : [ 0.6329495  0.6647301 -0.0712316 -1.1242962]\n",
      "Step #42.00 (0ms ?*RT. ?UPS, TraCI: 0ms, vehicles TOT 33 ACT 30 BUF 0)                    \r"
     ]
    },
    {
     "name": "stderr",
     "output_type": "stream",
     "text": [
      "Warning: Vehicle 'veh_23' performs emergency stop at the end of lane 'end4_junction_2' because of a red traffic light (decel=-19.20, offset=0.09), time=42.38.\n"
     ]
    },
    {
     "name": "stdout",
     "output_type": "stream",
     "text": [
      "state : [0 0 0 0 0 0 0 0 0 0 0 0 0 0 0 0 6 0 0 0 0 0 3 0 0 0 0 0 0 0 0 0 0 0 0 0]\n",
      "Q_values : [1.1155149  1.8062619  0.41427517 0.7855208 ]\n",
      "Step #65.00 (1ms ~= 10.00*RT, ~18000.00UPS, TraCI: 32ms, vehicles TOT 33 ACT 18 BUF 0)    \r"
     ]
    },
    {
     "name": "stderr",
     "output_type": "stream",
     "text": [
      "Warning: Vehicle 'veh_16' performs emergency stop at the end of lane 'end2_junction_1' because of a red traffic light (decel=-11.06, offset=0.00), time=65.77.\n"
     ]
    },
    {
     "name": "stdout",
     "output_type": "stream",
     "text": [
      "state : [0 0 0 0 0 0 0 0 0 0 0 0 0 0 0 0 2 0 0 0 0 0 0 0 0 0 0 0 0 0 0 0 0 0 0 0]\n",
      "Q_values : [2.4466517 3.3337607 1.6450472 1.4138088]\n",
      "state : [0 0 0 0 0 0 0 0 0 0 0 0 0 0 0 0 2 0 0 0 0 0 0 0 0 0 0 0 0 0 0 0 0 0 0 0]\n",
      "Q_values : [2.022267  1.6533737 1.2120959 0.7329359]\n",
      "Step #100.00 (0ms ?*RT. ?UPS, TraCI: 32ms, vehicles TOT 33 ACT 2 BUF 0)                    \n",
      "episode : 39\n",
      " Retrying in 1 seconds\n"
     ]
    },
    {
     "name": "stderr",
     "output_type": "stream",
     "text": [
      "Warning: Environment variable SUMO_HOME is not set properly, disabling XML validation. Set 'auto' or 'always' for web lookups.\n"
     ]
    },
    {
     "name": "stdout",
     "output_type": "stream",
     "text": [
      "state : [0 0 0 0 0 0 0 0 0 0 0 0 0 0 0 0 0 0 0 0 0 0 0 0 0 0 0 0 0 0 0 0 0 0 0 0]\n",
      "Q_values : [ 2.3820176   2.0141     -0.2564845   0.07053971]\n",
      "state : [0 0 0 0 0 0 0 0 0 0 0 0 0 0 0 0 0 0 0 0 0 0 0 0 0 0 0 0 0 0 0 0 0 0 0 0]\n",
      "Q_values : [ 1.2472272   1.5303823   0.30917192 -0.09830379]\n",
      "state : [0 0 0 0 0 0 0 0 0 0 0 0 0 0 0 0 1 0 0 0 0 0 0 0 0 0 0 0 0 0 0 0 0 0 0 0]\n",
      "Q_values : [1.8229539  2.6446776  1.2650887  0.48355913]\n",
      "state : [0 0 0 0 0 0 0 0 0 0 0 0 0 0 0 0 1 1 0 0 0 0 0 0 0 0 0 0 0 0 0 0 0 0 0 0]\n",
      "Q_values : [2.9868946 2.3289387 1.1510472 0.6855533]\n",
      "state : [0 0 0 0 0 0 0 0 0 0 0 0 0 0 0 0 0 4 0 0 0 0 0 0 0 0 0 0 0 0 0 0 0 0 0 0]\n",
      "Q_values : [1.9163072  1.8133403  1.1242213  0.17607427]\n",
      "state : [0 0 0 0 0 0 0 0 0 0 0 0 0 0 0 0 1 5 0 0 0 0 1 1 0 0 0 0 0 0 0 0 0 0 0 0]         \n",
      "Q_values : [1.0048488 2.3197367 0.3183651 0.278399 ]\n"
     ]
    },
    {
     "name": "stderr",
     "output_type": "stream",
     "text": [
      "Warning: Vehicle 'veh_22' performs emergency stop at the end of lane 'end4_junction_1' because of a red traffic light (decel=-42.49, offset=0.27), time=40.34.\n"
     ]
    },
    {
     "name": "stdout",
     "output_type": "stream",
     "text": [
      "state : [0 0 0 0 0 0 0 0 0 0 0 0 0 0 0 0 0 0 0 0 0 0 0 0 0 0 0 0 0 0 0 0 0 0 0 0]\n",
      "Q_values : [ 1.0682024   0.9629384  -0.28749108 -1.3364968 ]\n",
      "state : [0 0 0 0 0 0 0 0 0 0 0 0 0 0 0 0 0 2 0 0 0 0 0 0 0 0 0 0 0 0 0 0 0 0 0 0]\n",
      "Q_values : [ 1.204505   1.0403384 -1.9792953 -2.2913399]\n",
      "state : [0 0 0 0 0 0 0 0 0 0 0 0 0 0 0 0 0 0 0 0 0 0 0 0 0 0 0 0 0 0 0 0 0 0 0 0]\n",
      "Q_values : [2.8274832 3.4739227 2.275849  2.721022 ]\n",
      "Step #100.00 (0ms ?*RT. ?UPS, TraCI: 30ms, vehicles TOT 33 ACT 2 BUF 0)                    \n",
      "episode : 40\n",
      " Retrying in 1 seconds\n"
     ]
    },
    {
     "name": "stderr",
     "output_type": "stream",
     "text": [
      "Warning: Environment variable SUMO_HOME is not set properly, disabling XML validation. Set 'auto' or 'always' for web lookups.\n"
     ]
    },
    {
     "name": "stdout",
     "output_type": "stream",
     "text": [
      "state : [0 0 0 0 0 0 0 0 0 0 0 0 0 0 0 0 0 0 0 0 0 0 0 0 0 0 0 0 0 0 0 0 0 0 0 0]\n",
      "Q_values : [2.7927773 1.1239648 2.4933481 1.8613002]\n",
      "state : [0 0 0 0 0 0 0 0 0 0 0 0 0 0 1 0 1 0 0 0 0 0 0 0 0 0 0 0 0 0 0 0 0 0 0 0]\n",
      "Q_values : [ 0.6436672  1.5617595 -0.9246602 -1.0772612]\n",
      "state : [0 0 0 0 0 0 0 0 0 0 0 0 0 0 0 0 1 1 0 0 0 0 0 0 0 0 0 0 0 0 0 0 0 0 0 0]\n",
      "Q_values : [ 3.0694757  1.022451  -1.0554204 -1.7288365]\n",
      "state : [0 0 0 0 0 0 0 0 0 0 0 0 0 0 0 0 2 2 0 0 0 0 0 0 0 0 0 0 0 0 0 0 0 0 0 0]\n",
      "Q_values : [ 2.6636343  1.614907  -0.8897445 -1.3256857]\n",
      "state : [0 0 0 0 0 0 0 0 0 0 0 0 0 0 0 0 4 4 0 0 0 0 0 0 0 0 0 0 0 0 0 0 0 0 0 0]\n",
      "Q_values : [ 3.2188985   2.748269   -0.28079653  0.08251667]\n",
      "state : [0 0 0 0 0 0 0 0 0 0 0 0 0 0 0 0 6 5 0 0 0 0 1 1 0 0 0 0 0 0 0 0 0 0 0 0]\n",
      "Q_values : [3.5862126  3.3792963  0.5681474  0.69918895]\n",
      "state : [0 0 0 0 0 0 0 0 0 0 0 0 0 0 0 0 0 0 0 0 0 0 0 0 0 0 0 0 0 0 0 0 0 0 0 0]\n",
      "Q_values : [ 2.9665241   1.3197712   0.20213866 -1.149365  ]\n",
      "Step #100.00 (0ms ?*RT. ?UPS, TraCI: 31ms, vehicles TOT 33 ACT 0 BUF 0)                    \n",
      "episode : 41\n",
      " Retrying in 1 seconds\n"
     ]
    },
    {
     "name": "stderr",
     "output_type": "stream",
     "text": [
      "Warning: Environment variable SUMO_HOME is not set properly, disabling XML validation. Set 'auto' or 'always' for web lookups.\n"
     ]
    },
    {
     "name": "stdout",
     "output_type": "stream",
     "text": [
      "state : [0 0 0 0 0 0 0 0 0 0 0 0 0 0 0 0 0 0 0 0 0 0 0 0 0 0 0 0 0 0 0 0 0 0 0 0]\n",
      "Q_values : [ 1.8526232  1.7743381  0.8060565 -0.7206924]\n",
      "state : [0 0 0 0 0 0 0 0 0 0 0 0 0 0 0 0 0 0 0 0 0 0 0 0 0 0 0 0 0 0 0 0 0 0 0 0]\n",
      "Q_values : [ 0.9831836   1.4558232  -0.41703558 -1.9910858 ]\n"
     ]
    },
    {
     "name": "stderr",
     "output_type": "stream",
     "text": [
      "Warning: Vehicle 'veh_23' performs emergency stop at the end of lane 'end4_junction_2' because of a red traffic light (decel=-19.20, offset=0.09), time=42.38.\n"
     ]
    },
    {
     "name": "stdout",
     "output_type": "stream",
     "text": [
      "state : [0 0 0 0 0 0 0 0 0 0 0 0 0 0 0 0 2 1 0 0 0 0 1 1 0 0 0 0 0 0 0 0 0 0 0 0]         \n",
      "Q_values : [2.7499952 1.9320403 0.5814948 1.5100489]\n",
      "state : [0 0 0 0 0 0 0 0 0 0 0 0 0 0 0 0 2 2 0 0 0 0 2 1 0 0 0 0 0 0 0 0 0 0 0 0]\n",
      "Q_values : [2.205317   1.6178426  0.23158741 0.2563951 ]\n",
      "state : [0 0 0 0 0 0 0 0 0 0 0 0 0 0 0 0 2 2 0 0 0 0 4 4 0 0 0 0 0 0 0 0 0 0 0 0]\n",
      "Q_values : [ 0.9767034   2.8650205  -1.3072159   0.22852468]\n",
      "state : [0 0 0 0 0 0 0 0 0 0 0 0 0 0 0 0 2 2 0 0 0 0 4 4 0 0 0 0 0 0 0 0 0 0 0 0]\n",
      "Q_values : [1.9574057  3.2717857  0.4081092  0.20918703]\n",
      "Step #100.00 (0ms ?*RT. ?UPS, TraCI: 32ms, vehicles TOT 33 ACT 4 BUF 0)                    \n",
      "episode : 42\n",
      " Retrying in 1 seconds\n"
     ]
    },
    {
     "name": "stderr",
     "output_type": "stream",
     "text": [
      "Warning: Environment variable SUMO_HOME is not set properly, disabling XML validation. Set 'auto' or 'always' for web lookups.\n"
     ]
    },
    {
     "name": "stdout",
     "output_type": "stream",
     "text": [
      "state : [0 0 0 0 0 0 0 0 0 0 0 0 0 0 0 0 0 0 0 0 0 0 0 0 0 0 0 0 0 0 0 0 0 0 0 0]\n",
      "Q_values : [1.6562281 1.8162227 0.9709747 0.5686357]\n",
      "state : [0 0 0 0 0 0 0 0 0 0 0 0 0 0 0 0 0 0 0 0 0 0 0 0 0 0 0 0 0 0 0 0 0 0 0 0]\n",
      "Q_values : [1.784939   1.2641551  0.79496336 0.2606945 ]\n",
      "state : [0 0 0 0 0 0 0 0 0 0 0 0 0 1 1 0 0 0 0 0 0 0 0 0 0 0 0 0 0 0 0 0 0 0 0 0]\n",
      "Q_values : [ 2.8274689  3.1486049 -1.2202389  1.5132318]\n",
      "state : [0 0 0 0 0 0 0 0 0 0 0 0 0 1 0 0 1 1 0 0 0 0 0 0 0 0 0 0 0 0 0 0 0 0 0 0]\n",
      "Q_values : [ 2.723957    2.1131225  -0.10083461  0.7317333 ]\n",
      "state : [0 0 0 0 0 0 0 0 0 0 0 0 0 0 0 0 0 6 0 0 0 0 0 4 0 0 0 0 0 0 0 0 0 0 0 0]\n",
      "Q_values : [3.09571   3.133473  1.6234515 1.056153 ]\n",
      "state : [0 0 0 0 0 0 0 0 0 0 0 0 0 0 0 0 0 6 0 0 0 0 0 4 0 0 0 0 0 0 0 0 0 0 0 0]\n",
      "Q_values : [2.8248172  2.9366257  1.2096486  0.63633347]\n",
      "state : [0 0 0 0 0 0 0 0 0 0 0 0 0 0 0 0 0 6 0 0 0 0 0 4 0 0 0 0 0 0 0 0 0 0 0 0]\n",
      "Q_values : [3.0302837  3.0907722  0.24976516 0.5015948 ]\n",
      "state : [0 0 0 0 0 0 0 0 0 0 0 0 0 0 0 0 0 6 0 0 0 0 0 4 0 0 0 0 0 0 0 0 0 0 0 0]\n",
      "Q_values : [ 3.4459891  1.8118325 -0.3515954  1.0779238]\n",
      "state : [0 0 0 0 0 0 0 0 0 0 0 0 0 0 0 0 0 6 0 0 0 0 0 4 0 0 0 0 0 0 0 0 0 0 0 0]\n",
      "Q_values : [2.5054553 2.4075885 0.131145  1.1326234]\n",
      "Step #100.00 (0ms ?*RT. ?UPS, TraCI: 31ms, vehicles TOT 33 ACT 10 BUF 0)                   \n",
      "episode : 43\n",
      " Retrying in 1 seconds\n"
     ]
    },
    {
     "name": "stderr",
     "output_type": "stream",
     "text": [
      "Warning: Environment variable SUMO_HOME is not set properly, disabling XML validation. Set 'auto' or 'always' for web lookups.\n"
     ]
    },
    {
     "name": "stdout",
     "output_type": "stream",
     "text": [
      "state : [0 0 0 0 0 0 0 0 0 0 0 0 0 0 0 0 0 0 0 0 0 0 0 0 0 0 0 0 0 0 0 0 0 0 0 0]\n",
      "Q_values : [0.7858455  1.5777338  0.7357259  0.54395676]\n",
      "state : [0 0 0 0 0 0 0 0 0 0 0 0 0 1 0 0 1 0 0 0 0 0 0 0 0 0 0 0 0 0 0 0 0 0 0 0]\n",
      "Q_values : [ 1.4263324   1.7083845  -0.23193407 -1.5035338 ]\n",
      "state : [0 0 0 0 0 0 0 0 0 0 0 0 0 0 0 0 4 0 0 0 0 0 0 0 0 0 0 0 0 0 0 0 0 0 0 0]\n",
      "Q_values : [1.9545856  2.5787044  0.11335015 0.58165574]\n",
      "Step #42.00 (1ms ~= 10.00*RT, ~30000.00UPS, TraCI: 0ms, vehicles TOT 33 ACT 30 BUF 0)     \r"
     ]
    },
    {
     "name": "stderr",
     "output_type": "stream",
     "text": [
      "Warning: Vehicle 'veh_23' performs emergency stop at the end of lane 'end4_junction_2' because of a red traffic light (decel=-19.20, offset=0.09), time=42.38.\n"
     ]
    },
    {
     "name": "stdout",
     "output_type": "stream",
     "text": [
      "state : [0 0 0 0 0 0 0 0 0 0 0 0 0 0 0 0 6 0 0 0 0 0 3 0 0 0 0 0 0 0 0 0 0 0 0 0]\n",
      "Q_values : [ 3.5233302   2.2031083   0.67921233 -0.94075036]\n",
      "state : [0 0 0 0 0 0 0 0 0 0 0 0 0 0 0 0 6 0 0 0 0 0 4 0 0 0 0 0 0 0 0 0 0 0 0 0]\n",
      "Q_values : [ 2.861627   1.6726396  1.8702722 -1.4173365]\n",
      "state : [0 0 0 0 0 0 0 0 0 0 0 0 0 0 0 0 6 0 0 0 0 0 4 0 0 0 0 0 0 0 0 0 0 0 0 0]\n",
      "Q_values : [ 0.36080724  1.4976145  -1.4160593  -0.5206828 ]\n",
      "Step #100.00 (0ms ?*RT. ?UPS, TraCI: 31ms, vehicles TOT 33 ACT 8 BUF 0)                    \n",
      "episode : 44\n",
      " Retrying in 1 seconds\n"
     ]
    },
    {
     "name": "stderr",
     "output_type": "stream",
     "text": [
      "Warning: Environment variable SUMO_HOME is not set properly, disabling XML validation. Set 'auto' or 'always' for web lookups.\n"
     ]
    },
    {
     "name": "stdout",
     "output_type": "stream",
     "text": [
      "state : [0 0 0 0 0 0 0 0 0 0 0 0 0 0 0 0 0 0 0 0 0 0 0 0 0 0 0 0 0 0 0 0 0 0 0 0]\n",
      "Q_values : [2.8050842 2.1885493 2.0598867 0.5266664]\n",
      "state : [0 0 0 0 0 0 0 0 0 0 0 0 0 0 0 0 0 0 0 0 0 0 0 0 0 0 0 0 0 0 0 0 0 0 0 0]\n",
      "Q_values : [3.112274  2.9227438 1.9152966 1.3035431]\n",
      "state : [0 0 0 0 0 0 0 0 0 0 0 0 0 0 0 0 2 1 0 0 0 0 3 1 0 0 0 0 0 0 0 0 0 0 0 0]\n",
      "Q_values : [3.1750717 2.9918587 2.942731  1.634711 ]\n",
      "Step #100.00 (0ms ?*RT. ?UPS, TraCI: 31ms, vehicles TOT 33 ACT 0 BUF 0)                    \n",
      "episode : 45\n",
      " Retrying in 1 seconds\n"
     ]
    },
    {
     "name": "stderr",
     "output_type": "stream",
     "text": [
      "Warning: Environment variable SUMO_HOME is not set properly, disabling XML validation. Set 'auto' or 'always' for web lookups.\n"
     ]
    },
    {
     "name": "stdout",
     "output_type": "stream",
     "text": [
      "state : [0 0 0 0 0 0 0 0 0 0 0 0 0 0 0 0 0 0 0 0 0 0 0 0 0 0 0 0 0 0 0 0 0 0 0 0]\n",
      "Q_values : [ 0.92758656  0.73527646 -0.46666503 -0.24332643]\n",
      "state : [0 0 0 0 0 0 0 0 0 0 0 0 0 0 0 0 0 0 0 0 0 0 0 0 0 0 0 0 0 0 0 0 0 0 0 0]\n",
      "Q_values : [1.8021473  1.774802   0.787029   0.33016014]\n",
      "state : [0 0 0 0 0 0 0 0 0 0 0 0 0 0 1 0 4 1 0 0 0 0 0 0 0 0 0 0 0 0 0 0 0 0 0 0]\n",
      "Q_values : [ 1.9456791   1.5129168  -1.0015883   0.28953242]\n",
      "state : [0 0 0 0 0 0 0 0 0 0 0 0 0 0 1 0 6 2 0 0 0 0 1 1 0 0 0 0 0 0 0 0 0 0 0 0]\n",
      "Q_values : [ 1.8659096   1.4703718  -0.13277769 -0.38333797]\n",
      "state : [0 0 0 0 0 0 0 0 0 0 0 0 0 0 0 0 6 3 0 0 0 0 4 4 0 0 0 0 0 0 0 0 0 0 0 0]\n",
      "Q_values : [ 1.1531378   2.2585297  -0.45870137 -0.2827661 ]\n",
      "state : [0 0 0 0 0 0 0 0 0 0 0 0 0 0 0 0 6 3 0 0 0 0 4 4 0 0 0 0 0 0 0 0 0 0 0 0]\n",
      "Q_values : [ 2.972477    1.7820467   1.0073354  -0.05375171]\n"
     ]
    },
    {
     "name": "stderr",
     "output_type": "stream",
     "text": [
      "Warning: Vehicle 'veh_16' performs emergency stop at the end of lane 'end2_junction_1' because of a red traffic light (decel=-10.86, offset=0.00), time=85.79.\n"
     ]
    },
    {
     "name": "stdout",
     "output_type": "stream",
     "text": [
      "state : [0 0 0 0 0 0 0 0 0 0 0 0 0 0 0 0 2 0 0 0 0 0 0 0 0 0 0 0 0 0 0 0 0 0 0 0]         \n",
      "Q_values : [3.0298448  1.7257781  0.49918914 1.303318  ]\n",
      "Step #100.00 (0ms ?*RT. ?UPS, TraCI: 34ms, vehicles TOT 33 ACT 15 BUF 0)                   \n",
      "episode : 46\n",
      " Retrying in 1 seconds\n"
     ]
    },
    {
     "name": "stderr",
     "output_type": "stream",
     "text": [
      "Warning: Environment variable SUMO_HOME is not set properly, disabling XML validation. Set 'auto' or 'always' for web lookups.\n",
      "Warning: Vehicle 'veh_10' performs emergency stop at the end of lane 'end2_junction_1' because of a red traffic light (decel=-14.66, offset=0.00), time=31.19.\n"
     ]
    },
    {
     "name": "stdout",
     "output_type": "stream",
     "text": [
      "state : [0 0 0 0 0 0 0 0 0 0 0 0 0 0 1 0 1 2 0 0 0 0 0 0 0 0 0 0 0 0 0 0 0 0 0 0]         \n",
      "Q_values : [ 2.538312    1.5121468   0.01443052 -0.5648303 ]\n",
      "state : [0 0 0 0 0 0 0 0 0 0 0 0 0 0 0 0 4 6 0 0 0 0 4 4 0 0 0 0 0 0 0 0 0 0 0 0]\n",
      "Q_values : [1.7398963  0.4011215  0.22534084 0.54068303]\n",
      "state : [0 0 0 0 0 0 0 0 0 0 0 0 0 0 0 0 0 2 0 0 0 0 0 0 0 0 0 0 0 0 0 0 0 0 0 0]\n",
      "Q_values : [2.3509603 2.4361053 0.6873429 0.5560303]\n",
      "state : [0 0 0 0 0 0 0 0 0 0 0 0 0 0 0 0 0 2 0 0 0 0 0 0 0 0 0 0 0 0 0 0 0 0 0 0]\n",
      "Q_values : [1.2865732 2.251604  1.2124414 0.7010441]\n",
      "Step #100.00 (0ms ?*RT. ?UPS, TraCI: 32ms, vehicles TOT 33 ACT 7 BUF 0)                    \n",
      "episode : 47\n",
      " Retrying in 1 seconds\n"
     ]
    },
    {
     "name": "stderr",
     "output_type": "stream",
     "text": [
      "Warning: Environment variable SUMO_HOME is not set properly, disabling XML validation. Set 'auto' or 'always' for web lookups.\n"
     ]
    },
    {
     "name": "stdout",
     "output_type": "stream",
     "text": [
      "state : [0 0 0 0 0 0 0 0 0 0 0 0 0 1 1 0 0 2 0 0 0 0 0 0 0 0 0 0 0 0 0 0 0 0 0 0]\n",
      "Q_values : [1.9164374  3.3652623  2.0514932  0.60395694]\n",
      "state : [0 0 0 0 0 0 0 0 0 0 0 0 0 1 0 0 0 5 0 0 0 0 0 1 0 0 0 0 0 0 0 0 0 0 0 0]\n",
      "Q_values : [ 2.1339436  2.7117271  1.6397712 -0.7133329]\n",
      "Step #45.00 (1ms ~= 10.00*RT, ~28000.00UPS, TraCI: 55ms, vehicles TOT 33 ACT 28 BUF 0)    \r"
     ]
    },
    {
     "name": "stderr",
     "output_type": "stream",
     "text": [
      "Warning: Vehicle 'veh_25' performs emergency stop at the end of lane 'end4_junction_1' because of a red traffic light (decel=-24.49, offset=0.14), time=45.21.\n"
     ]
    },
    {
     "name": "stdout",
     "output_type": "stream",
     "text": [
      "state : [0 0 0 0 0 0 0 0 0 0 0 0 0 1 0 0 0 6 0 0 0 0 0 3 0 0 0 0 0 0 0 0 0 0 0 0]\n",
      "Q_values : [ 1.626415    1.016524    0.2904265  -0.03300548]\n",
      "state : [0 0 0 0 0 0 0 0 0 0 0 0 0 0 0 0 0 6 0 0 0 0 0 4 0 0 0 0 0 0 0 0 0 0 0 0]\n",
      "Q_values : [ 0.90005547  1.9002742  -1.3031008   0.32169223]\n",
      "state : [0 0 0 0 0 0 0 0 0 0 0 0 0 0 0 0 0 6 0 0 0 0 0 4 0 0 0 0 0 0 0 0 0 0 0 0]\n",
      "Q_values : [1.0779591 2.7810888 0.3910818 0.7432411]\n",
      "state : [0 0 0 0 0 0 0 0 0 0 0 0 0 0 0 0 0 6 0 0 0 0 0 4 0 0 0 0 0 0 0 0 0 0 0 0]\n",
      "Q_values : [ 2.0221786   1.7532345   1.4809195  -0.06680155]\n",
      "Step #100.00 (1ms ~= 10.00*RT, ~10000.00UPS, TraCI: 31ms, vehicles TOT 33 ACT 10 BUF 0)    \n",
      "episode : 48\n",
      " Retrying in 1 seconds\n"
     ]
    },
    {
     "name": "stderr",
     "output_type": "stream",
     "text": [
      "Warning: Environment variable SUMO_HOME is not set properly, disabling XML validation. Set 'auto' or 'always' for web lookups.\n"
     ]
    },
    {
     "name": "stdout",
     "output_type": "stream",
     "text": [
      "state : [0 0 0 0 0 0 0 0 0 0 0 0 0 1 0 0 1 0 0 0 0 0 0 0 0 0 0 0 0 0 0 0 0 0 0 0]\n",
      "Q_values : [ 1.743277    1.3346678  -0.7536905  -0.09387231]\n",
      "state : [0 0 0 0 0 0 0 0 0 0 0 0 0 0 0 0 1 1 0 0 0 0 0 0 0 0 0 0 0 0 0 0 0 0 0 0]\n",
      "Q_values : [1.7503935  1.4200423  0.29467607 0.13180304]\n"
     ]
    },
    {
     "name": "stderr",
     "output_type": "stream",
     "text": [
      "Warning: Vehicle 'veh_25' performs emergency stop at the end of lane 'end4_junction_1' because of a red traffic light (decel=-24.49, offset=0.14), time=45.21.\n",
      "Warning: Vehicle 'veh_16' performs emergency stop at the end of lane 'end2_junction_1' because of a red traffic light (decel=-10.88, offset=0.00), time=45.79.\n"
     ]
    },
    {
     "name": "stdout",
     "output_type": "stream",
     "text": [
      "Step #100.00 (0ms ?*RT. ?UPS, TraCI: 31ms, vehicles TOT 33 ACT 0 BUF 0)                    \n",
      "episode : 49\n",
      " Retrying in 1 seconds\n"
     ]
    },
    {
     "name": "stderr",
     "output_type": "stream",
     "text": [
      "Warning: Environment variable SUMO_HOME is not set properly, disabling XML validation. Set 'auto' or 'always' for web lookups.\n",
      "Warning: Vehicle 'veh_10' performs emergency stop at the end of lane 'end2_junction_1' because of a red traffic light (decel=-22.28, offset=0.04), time=30.42.\n",
      "Warning: Vehicle 'veh_20' performs emergency stop at the end of lane 'end2_junction_2' because of a red traffic light (decel=-20.55, offset=0.07), time=40.09.\n",
      "Warning: Vehicle 'veh_23' performs emergency stop at the end of lane 'end4_junction_2' because of a red traffic light (decel=-19.20, offset=0.09), time=42.38.\n"
     ]
    },
    {
     "name": "stdout",
     "output_type": "stream",
     "text": [
      "state : [0 0 0 0 0 0 0 0 0 0 0 0 0 0 1 0 4 1 0 0 0 0 1 1 0 0 0 0 0 0 0 0 0 0 0 0]         \n",
      "Q_values : [ 1.686923    2.2164989  -0.3692174  -0.51921153]\n",
      "state : [0 0 0 0 0 0 0 0 0 0 0 0 0 0 0 0 0 1 0 0 0 0 0 3 0 0 0 0 0 0 0 0 0 0 0 0]\n",
      "Q_values : [ 1.5580995   3.0412111  -0.20997334  0.94589067]\n",
      "state : [0 0 0 0 0 0 0 0 0 0 0 0 0 0 0 0 0 1 0 0 0 0 0 4 0 0 0 0 0 0 0 0 0 0 0 0]\n",
      "Q_values : [ 2.32936    2.5700145 -0.2720809  1.4993439]\n",
      "state : [0 0 0 0 0 0 0 0 0 0 0 0 0 0 0 0 0 1 0 0 0 0 0 4 0 0 0 0 0 0 0 0 0 0 0 0]\n",
      "Q_values : [ 3.4541473   1.9717721  -0.25614548  1.7851319 ]\n",
      "state : [0 0 0 0 0 0 0 0 0 0 0 0 0 0 0 0 0 1 0 0 0 0 0 4 0 0 0 0 0 0 0 0 0 0 0 0]\n",
      "Q_values : [ 1.6097869  1.9724287 -0.7342651 -1.5586822]\n",
      "Step #100.00 (0ms ?*RT. ?UPS, TraCI: 32ms, vehicles TOT 33 ACT 5 BUF 0)                    \n",
      "episode : 50\n",
      " Retrying in 1 seconds\n"
     ]
    },
    {
     "name": "stderr",
     "output_type": "stream",
     "text": [
      "Warning: Environment variable SUMO_HOME is not set properly, disabling XML validation. Set 'auto' or 'always' for web lookups.\n"
     ]
    },
    {
     "name": "stdout",
     "output_type": "stream",
     "text": [
      "state : [0 0 0 0 0 0 0 0 0 0 0 0 0 0 0 0 0 0 0 0 0 0 0 0 0 0 0 0 0 0 0 0 0 0 0 0]\n",
      "Q_values : [ 2.366591   2.1735635  0.7361684 -0.2576337]\n",
      "state : [0 0 0 0 0 0 0 0 0 0 0 0 0 0 0 0 0 0 0 0 0 0 0 0 0 0 0 0 0 0 0 0 0 0 0 0]\n",
      "Q_values : [2.3541398 2.6010594 0.7060504 1.0974596]\n",
      "state : [0 0 0 0 0 0 0 0 0 0 0 0 0 0 0 0 0 0 0 0 0 0 0 0 0 0 0 0 0 0 0 0 0 0 0 0]\n",
      "Q_values : [2.1711168  1.9453312  1.3647475  0.94766355]\n",
      "state : [0 0 0 0 0 0 0 0 0 0 0 0 0 0 0 0 1 1 0 0 0 0 0 0 0 0 0 0 0 0 0 0 0 0 0 0]\n",
      "Q_values : [ 1.6560276   1.0320469   0.2604282  -0.14781857]\n",
      "state : [0 0 0 0 0 0 0 0 0 0 0 0 0 0 0 0 6 5 0 0 0 0 1 1 0 0 0 0 0 0 0 0 0 0 0 0]\n",
      "Q_values : [3.2623837  2.3160896  0.7564535  0.24656892]\n",
      "state : [0 0 0 0 0 0 0 0 0 0 0 0 0 0 0 0 2 0 0 0 0 0 0 0 0 0 0 0 0 0 0 0 0 0 0 0]\n",
      "Q_values : [ 0.6505349  1.9409331 -1.0411072 -0.2955346]\n",
      "Step #100.00 (0ms ?*RT. ?UPS, TraCI: 30ms, vehicles TOT 33 ACT 2 BUF 0)                    \n",
      "episode : 51\n",
      " Retrying in 1 seconds\n"
     ]
    },
    {
     "name": "stderr",
     "output_type": "stream",
     "text": [
      "Warning: Environment variable SUMO_HOME is not set properly, disabling XML validation. Set 'auto' or 'always' for web lookups.\n"
     ]
    },
    {
     "name": "stdout",
     "output_type": "stream",
     "text": [
      "state : [0 0 0 0 0 0 0 0 0 0 0 0 0 0 0 0 0 0 0 0 0 0 0 0 0 0 0 0 0 0 0 0 0 0 0 0]\n",
      "Q_values : [ 4.0720882   2.1780038   0.92515206 -0.6302619 ]\n",
      "state : [0 0 0 0 0 0 0 0 0 0 0 0 0 0 1 0 0 0 0 0 0 0 0 0 0 0 0 0 0 0 0 0 0 0 0 0]\n",
      "Q_values : [2.4669986  3.6354308  0.88541174 0.01017022]\n",
      "state : [0 0 0 0 0 0 0 0 0 0 0 0 0 0 0 0 0 2 0 0 0 0 0 0 0 0 0 0 0 0 0 0 0 0 0 0]\n",
      "Q_values : [1.3306947  1.8301651  0.53637147 0.9619658 ]\n",
      "state : [0 0 0 0 0 0 0 0 0 0 0 0 0 0 0 0 0 6 0 0 0 0 0 1 0 0 0 0 0 0 0 0 0 0 0 0]\n",
      "Q_values : [ 2.5204844   0.6585022  -1.5041134   0.38161016]\n",
      "state : [0 0 0 0 0 0 0 0 0 0 0 0 0 0 0 0 0 6 0 0 0 0 0 4 0 0 0 0 0 0 0 0 0 0 0 0]\n",
      "Q_values : [1.7838342  1.702255   0.7472353  0.73265886]\n",
      "state : [0 0 0 0 0 0 0 0 0 0 0 0 0 0 0 0 0 6 0 0 0 0 0 4 0 0 0 0 0 0 0 0 0 0 0 0]\n",
      "Q_values : [ 1.2154553  1.1799494  0.6208501 -0.7140763]\n",
      "state : [0 0 0 0 0 0 0 0 0 0 0 0 0 0 0 0 0 6 0 0 0 0 0 4 0 0 0 0 0 0 0 0 0 0 0 0]\n",
      "Q_values : [ 2.5796733  1.3689388  0.6979091 -1.2953308]\n",
      "Step #100.00 (0ms ?*RT. ?UPS, TraCI: 33ms, vehicles TOT 33 ACT 10 BUF 0)                   \n",
      "episode : 52\n",
      " Retrying in 1 seconds\n"
     ]
    },
    {
     "name": "stderr",
     "output_type": "stream",
     "text": [
      "Warning: Environment variable SUMO_HOME is not set properly, disabling XML validation. Set 'auto' or 'always' for web lookups.\n"
     ]
    },
    {
     "name": "stdout",
     "output_type": "stream",
     "text": [
      "state : [0 0 0 0 0 0 0 0 0 0 0 0 0 0 0 0 0 0 0 0 0 0 0 0 0 0 0 0 0 0 0 0 0 0 0 0]\n",
      "Q_values : [ 1.849344   2.8227968 -1.223764  -0.3400383]\n",
      "state : [0 0 0 0 0 0 0 0 0 0 0 0 0 0 0 0 0 0 0 0 0 0 0 0 0 0 0 0 0 0 0 0 0 0 0 0]\n",
      "Q_values : [ 2.7164176  1.9504637 -0.5199604  0.4052117]\n",
      "state : [0 0 0 0 0 0 0 0 0 0 0 0 0 0 0 0 0 0 0 0 0 0 0 0 0 0 0 0 0 0 0 0 0 0 0 0]\n",
      "Q_values : [ 1.9590247   1.9223448  -0.17097259  0.81719327]\n",
      "state : [0 0 0 0 0 0 0 0 0 0 0 0 0 0 0 0 2 2 0 0 0 0 0 0 0 0 0 0 0 0 0 0 0 0 0 0]\n",
      "Q_values : [ 1.3973418   1.375646    0.47541785 -0.5302272 ]\n",
      "state : [0 0 0 0 0 0 0 0 0 0 0 0 0 0 0 0 0 6 0 0 0 0 0 1 0 0 0 0 0 0 0 0 0 0 0 0]\n",
      "Q_values : [2.1222591  2.1051717  0.75078344 0.276114  ]\n",
      "state : [0 0 0 0 0 0 0 0 0 0 0 0 0 0 0 0 0 6 0 0 0 0 1 4 0 0 0 0 0 0 0 0 0 0 0 0]\n",
      "Q_values : [1.4290575 2.8755834 0.4319694 0.5673311]\n",
      "state : [0 0 0 0 0 0 0 0 0 0 0 0 0 0 0 0 0 6 0 0 0 0 1 4 0 0 0 0 0 0 0 0 0 0 0 0]\n",
      "Q_values : [3.3212428  1.7962369  0.14364219 1.8149999 ]\n",
      "state : [0 0 0 0 0 0 0 0 0 0 0 0 0 0 0 0 0 6 0 0 0 0 1 4 0 0 0 0 0 0 0 0 0 0 0 0]\n",
      "Q_values : [2.9701972  2.6072204  0.94169784 2.2870073 ]\n",
      "state : [0 0 0 0 0 0 0 0 0 0 0 0 0 0 0 0 0 0 0 0 0 0 1 0 0 0 0 0 0 0 0 0 0 0 0 0]\n",
      "Q_values : [2.5054142  1.9373165  2.0211747  0.28517628]\n",
      "Step #100.00 (0ms ?*RT. ?UPS, TraCI: 31ms, vehicles TOT 33 ACT 11 BUF 0)                   \n",
      "episode : 53\n",
      " Retrying in 1 seconds\n"
     ]
    },
    {
     "name": "stderr",
     "output_type": "stream",
     "text": [
      "Warning: Environment variable SUMO_HOME is not set properly, disabling XML validation. Set 'auto' or 'always' for web lookups.\n"
     ]
    },
    {
     "name": "stdout",
     "output_type": "stream",
     "text": [
      "state : [0 0 0 0 0 0 0 0 0 0 0 0 0 0 0 0 0 0 0 0 0 0 0 0 0 0 0 0 0 0 0 0 0 0 0 0]\n",
      "Q_values : [ 1.817884   1.3603512  1.2638397 -1.2307553]\n",
      "state : [0 0 0 0 0 0 0 0 0 0 0 0 0 0 0 0 0 0 0 0 0 0 0 0 0 0 0 0 0 0 0 0 0 0 0 0]\n",
      "Q_values : [ 2.66355     1.2391733  -0.7807975  -0.17047119]\n",
      "state : [0 0 0 0 0 0 0 0 0 0 0 0 0 0 1 0 1 0 0 0 0 0 0 0 0 0 0 0 0 0 0 0 0 0 0 0]         \n",
      "Q_values : [ 2.2658398   2.732419   -0.04179502  1.2209089 ]\n",
      "Step #31.00 (0ms ?*RT. ?UPS, TraCI: 0ms, vehicles TOT 31 ACT 31 BUF 1)                    \r"
     ]
    },
    {
     "name": "stderr",
     "output_type": "stream",
     "text": [
      "Warning: Vehicle 'veh_2' performs emergency stop at the end of lane 'end1_junction_2' because of a red traffic light (decel=-20.39, offset=0.10), time=21.24.\n",
      "Warning: Vehicle 'veh_11' performs emergency stop at the end of lane 'end2_junction_2' because of a red traffic light (decel=-10.65, offset=0.00), time=31.67.\n"
     ]
    },
    {
     "name": "stdout",
     "output_type": "stream",
     "text": [
      "state : [0 0 0 0 0 0 0 0 0 0 0 0 0 0 0 0 0 4 0 0 0 0 0 3 0 0 0 0 0 0 0 0 0 0 0 0]\n",
      "Q_values : [2.037972  1.950782  1.8669434 0.9254956]\n",
      "Step #55.00 (0ms ?*RT. ?UPS, TraCI: 57ms, vehicles TOT 33 ACT 23 BUF 0)                   \r"
     ]
    },
    {
     "name": "stderr",
     "output_type": "stream",
     "text": [
      "Warning: Vehicle 'veh_16' performs emergency stop at the end of lane 'end2_junction_1' because of a red traffic light (decel=-10.17, offset=0.00), time=55.86.\n"
     ]
    },
    {
     "name": "stdout",
     "output_type": "stream",
     "text": [
      "state : [0 0 0 0 0 0 0 0 0 0 0 0 0 0 0 0 2 4 0 0 0 0 0 4 0 0 0 0 0 0 0 0 0 0 0 0]\n",
      "Q_values : [ 2.3398561   1.6399678  -0.5482085  -0.91533804]\n",
      "state : [0 0 0 0 0 0 0 0 0 0 0 0 0 0 0 0 2 4 0 0 0 0 0 4 0 0 0 0 0 0 0 0 0 0 0 0]\n",
      "Q_values : [ 1.6891887   2.4710605  -0.54610395 -0.06919122]\n",
      "state : [0 0 0 0 0 0 0 0 0 0 0 0 0 0 0 0 2 4 0 0 0 0 0 4 0 0 0 0 0 0 0 0 0 0 0 0]\n",
      "Q_values : [ 3.2864695  2.3769388 -0.2854283  2.0107088]\n",
      "Step #100.00 (0ms ?*RT. ?UPS, TraCI: 31ms, vehicles TOT 33 ACT 10 BUF 0)                   \n",
      "episode : 54\n",
      " Retrying in 1 seconds\n"
     ]
    },
    {
     "name": "stderr",
     "output_type": "stream",
     "text": [
      "Warning: Environment variable SUMO_HOME is not set properly, disabling XML validation. Set 'auto' or 'always' for web lookups.\n"
     ]
    },
    {
     "name": "stdout",
     "output_type": "stream",
     "text": [
      "state : [0 0 0 0 0 0 0 0 0 0 0 0 0 0 0 0 0 0 0 0 0 0 0 0 0 0 0 0 0 0 0 0 0 0 0 0]\n",
      "Q_values : [2.3308213 2.3763914 1.8450243 1.8254027]\n",
      "state : [0 0 0 0 0 0 0 0 0 0 0 0 0 0 0 0 0 0 0 0 0 0 0 0 0 0 0 0 0 0 0 0 0 0 0 0]\n",
      "Q_values : [ 2.014431    2.4852293   1.8037245  -0.51811814]\n"
     ]
    },
    {
     "name": "stderr",
     "output_type": "stream",
     "text": [
      "Warning: Vehicle 'veh_2' performs emergency stop at the end of lane 'end1_junction_2' because of a red traffic light (decel=-20.39, offset=0.10), time=21.24.\n",
      "Warning: Vehicle 'veh_10' performs emergency stop at the end of lane 'end2_junction_1' because of a red traffic light (decel=-14.66, offset=0.00), time=31.19.\n"
     ]
    },
    {
     "name": "stdout",
     "output_type": "stream",
     "text": [
      "state : [0 0 0 0 0 0 0 0 0 0 0 0 0 0 1 0 0 1 0 0 0 0 0 0 0 0 0 0 0 0 0 0 0 0 0 0]         \n",
      "Q_values : [1.6211107e+00 1.2435042e+00 9.0456009e-04 3.9659739e-01]\n",
      "state : [0 0 0 0 0 0 0 0 0 0 0 0 0 0 1 0 1 2 0 0 0 0 0 0 0 0 0 0 0 0 0 0 0 0 0 0]         \n",
      "Q_values : [ 1.1248442  1.3929669 -0.4281516  0.601959 ]\n",
      "state : [0 0 0 0 0 0 0 0 0 0 0 0 0 0 0 0 0 6 0 0 0 0 1 4 0 0 0 0 0 0 0 0 0 0 0 0]\n",
      "Q_values : [ 1.4712579  2.1500585  1.4254725 -0.8740597]\n",
      "state : [0 0 0 0 0 0 0 0 0 0 0 0 0 0 0 0 0 6 0 0 0 0 1 4 0 0 0 0 0 0 0 0 0 0 0 0]\n",
      "Q_values : [ 1.9176087   1.6598098  -0.29040742 -0.50776434]\n",
      "state : [0 0 0 0 0 0 0 0 0 0 0 0 0 0 0 0 0 6 0 0 0 0 1 4 0 0 0 0 0 0 0 0 0 0 0 0]\n",
      "Q_values : [ 2.0536065   0.7434844  -0.41691256 -0.30901742]\n",
      "state : [0 0 0 0 0 0 0 0 0 0 0 0 0 0 0 0 0 0 0 0 0 0 1 0 0 0 0 0 0 0 0 0 0 0 0 0]\n",
      "Q_values : [ 2.3070495  3.3441966 -0.5244005 -0.1551404]\n",
      "state : [0 0 0 0 0 0 0 0 0 0 0 0 0 0 0 0 0 1 0 0 0 0 1 0 0 0 0 0 0 0 0 0 0 0 0 0]\n",
      "Q_values : [ 2.5838432   2.6590095  -0.6186731   0.87754154]\n",
      "state : [0 0 0 0 0 0 0 0 0 0 0 0 0 0 0 0 0 2 0 0 0 0 1 0 0 0 0 0 0 0 0 0 0 0 0 0]\n",
      "Q_values : [ 1.4387196  1.6618415 -0.6029372  1.4159324]\n",
      "Step #100.00 (0ms ?*RT. ?UPS, TraCI: 32ms, vehicles TOT 33 ACT 11 BUF 0)                   \n",
      "episode : 55\n",
      " Retrying in 1 seconds\n"
     ]
    },
    {
     "name": "stderr",
     "output_type": "stream",
     "text": [
      "Warning: Environment variable SUMO_HOME is not set properly, disabling XML validation. Set 'auto' or 'always' for web lookups.\n"
     ]
    },
    {
     "name": "stdout",
     "output_type": "stream",
     "text": [
      "state : [0 0 0 0 0 0 0 0 0 0 0 0 0 0 0 0 0 0 0 0 0 0 0 0 0 0 0 0 0 0 0 0 0 0 0 0]\n",
      "Q_values : [ 1.0956429   1.9365158   0.91482997 -0.3753488 ]\n",
      "state : [0 0 0 0 0 0 0 0 0 0 0 0 0 0 0 0 0 0 0 0 0 0 0 0 0 0 0 0 0 0 0 0 0 0 0 0]\n",
      "Q_values : [ 2.5332034  0.6776968  1.7936167 -1.6271114]\n"
     ]
    },
    {
     "name": "stderr",
     "output_type": "stream",
     "text": [
      "Warning: Vehicle 'veh_2' performs emergency stop at the end of lane 'end1_junction_2' because of a red traffic light (decel=-20.39, offset=0.10), time=21.24.\n"
     ]
    },
    {
     "name": "stdout",
     "output_type": "stream",
     "text": [
      "state : [0 0 0 0 0 0 0 0 0 0 0 0 0 0 1 0 1 0 0 0 0 0 0 0 0 0 0 0 0 0 0 0 0 0 0 0]         \n",
      "Q_values : [ 2.2237246  1.9053665  1.2894316 -1.7504199]\n",
      "state : [0 0 0 0 0 0 0 0 0 0 0 0 0 0 0 0 1 5 0 0 0 0 1 1 0 0 0 0 0 0 0 0 0 0 0 0]         \n",
      "Q_values : [ 1.3560473  1.7507658 -0.3604343  0.611994 ]\n",
      "state : [0 0 0 0 0 0 0 0 0 0 0 0 0 0 0 0 2 6 0 0 0 0 2 1 0 0 0 0 0 0 0 0 0 0 0 0]\n",
      "Q_values : [ 1.1819069   1.4968355  -0.30507445  0.00350475]\n"
     ]
    },
    {
     "name": "stderr",
     "output_type": "stream",
     "text": [
      "Warning: Vehicle 'veh_22' performs emergency stop at the end of lane 'end4_junction_1' because of a red traffic light (decel=-42.49, offset=0.27), time=40.34.\n"
     ]
    },
    {
     "name": "stdout",
     "output_type": "stream",
     "text": [
      "state : [0 0 0 0 0 0 0 0 0 0 0 0 0 0 0 0 0 6 0 0 0 0 0 4 0 0 0 0 0 0 0 0 0 0 0 0]\n",
      "Q_values : [ 2.3814254   1.7674444  -1.2242804  -0.38301396]\n",
      "state : [0 0 0 0 0 0 0 0 0 0 0 0 0 0 0 0 0 6 0 0 0 0 0 4 0 0 0 0 0 0 0 0 0 0 0 0]\n",
      "Q_values : [3.1078136  1.4451394  0.84545994 0.7448101 ]\n",
      "state : [0 0 0 0 0 0 0 0 0 0 0 0 0 0 0 0 0 6 0 0 0 0 0 4 0 0 0 0 0 0 0 0 0 0 0 0]\n",
      "Q_values : [1.8903542  1.7817174  0.90603185 1.597712  ]\n",
      "Step #100.00 (0ms ?*RT. ?UPS, TraCI: 32ms, vehicles TOT 33 ACT 10 BUF 0)                   \n",
      "episode : 56\n",
      " Retrying in 1 seconds\n"
     ]
    },
    {
     "name": "stderr",
     "output_type": "stream",
     "text": [
      "Warning: Environment variable SUMO_HOME is not set properly, disabling XML validation. Set 'auto' or 'always' for web lookups.\n"
     ]
    },
    {
     "name": "stdout",
     "output_type": "stream",
     "text": [
      "state : [0 0 0 0 0 0 0 0 0 0 0 0 0 0 0 0 0 0 0 0 0 0 0 0 0 0 0 0 0 0 0 0 0 0 0 0]\n",
      "Q_values : [ 2.121273    2.2840133   1.4335574  -0.69800663]\n",
      "state : [0 0 0 0 0 0 0 0 0 0 0 0 0 0 0 0 0 0 0 0 0 0 0 0 0 0 0 0 0 0 0 0 0 0 0 0]\n",
      "Q_values : [ 3.0852685  2.320732   0.5969696 -0.9773586]\n",
      "state : [0 0 0 0 0 0 0 0 0 0 0 0 0 0 1 0 0 3 0 0 0 0 0 0 0 0 0 0 0 0 0 0 0 0 0 0]\n",
      "Q_values : [2.0886378  2.4469767  0.30555677 0.06476974]\n",
      "Step #40.00 (0ms ?*RT. ?UPS, TraCI: 54ms, vehicles TOT 33 ACT 31 BUF 0)                   \r"
     ]
    },
    {
     "name": "stderr",
     "output_type": "stream",
     "text": [
      "Warning: Vehicle 'veh_19' performs emergency stop at the end of lane 'end2_junction_1' because of a red traffic light (decel=-26.33, offset=0.14), time=40.03.\n",
      "Warning: Vehicle 'veh_22' performs emergency stop at the end of lane 'end4_junction_1' because of a red traffic light (decel=-42.49, offset=0.27), time=40.34.\n"
     ]
    },
    {
     "name": "stdout",
     "output_type": "stream",
     "text": [
      "state : [0 0 0 0 0 0 0 0 0 0 0 0 0 0 0 0 0 1 0 0 0 0 0 0 0 0 0 0 0 0 0 0 0 0 0 0]\n",
      "Q_values : [ 2.9615588   3.15028    -0.71598125 -0.5271833 ]\n",
      "state : [0 0 0 0 0 0 0 0 0 0 0 0 0 0 0 0 0 1 0 0 0 0 0 0 0 0 0 0 0 0 0 0 0 0 0 0]\n",
      "Q_values : [ 1.3228567   3.8255146   0.6912768  -0.46574855]\n",
      "state : [0 0 0 0 0 0 0 0 0 0 0 0 0 0 0 0 0 1 0 0 0 0 0 0 0 0 0 0 0 0 0 0 0 0 0 0]\n",
      "Q_values : [ 2.2906184   3.9121652   1.0641141  -0.26494074]\n",
      "state : [0 0 0 0 0 0 0 0 0 0 0 0 0 0 0 0 0 1 0 0 0 0 0 0 0 0 0 0 0 0 0 0 0 0 0 0]\n",
      "Q_values : [2.9832842  2.5368526  1.100414   0.45598674]\n",
      "Step #100.00 (0ms ?*RT. ?UPS, TraCI: 31ms, vehicles TOT 33 ACT 1 BUF 0)                    \n",
      "episode : 57\n",
      " Retrying in 1 seconds\n"
     ]
    },
    {
     "name": "stderr",
     "output_type": "stream",
     "text": [
      "Warning: Environment variable SUMO_HOME is not set properly, disabling XML validation. Set 'auto' or 'always' for web lookups.\n"
     ]
    },
    {
     "name": "stdout",
     "output_type": "stream",
     "text": [
      "state : [0 0 0 0 0 0 0 0 0 0 0 0 0 0 0 0 0 0 0 0 0 0 0 0 0 0 0 0 0 0 0 0 0 0 0 0]\n",
      "Q_values : [1.9849412 1.1307319 0.2360599 0.6814816]\n",
      "state : [0 0 0 0 0 0 0 0 0 0 0 0 0 0 0 0 0 0 0 0 0 0 0 0 0 0 0 0 0 0 0 0 0 0 0 0]\n",
      "Q_values : [ 0.96369946  1.531452   -1.963321   -0.8425474 ]\n",
      "state : [0 0 0 0 0 0 0 0 0 0 0 0 0 1 0 0 1 0 0 0 0 0 0 0 0 0 0 0 0 0 0 0 0 0 0 0]\n",
      "Q_values : [ 0.5694291   1.7587934  -2.3188865  -0.95604944]\n",
      "state : [0 0 0 0 0 0 0 0 0 0 0 0 0 1 0 0 1 1 0 0 0 0 0 0 0 0 0 0 0 0 0 0 0 0 0 0]\n",
      "Q_values : [ 1.1838809  1.6527643 -1.1583552 -0.8591242]\n"
     ]
    },
    {
     "name": "stderr",
     "output_type": "stream",
     "text": [
      "Warning: Vehicle 'veh_23' performs emergency stop at the end of lane 'end4_junction_2' because of a red traffic light (decel=-19.20, offset=0.09), time=42.38.\n",
      "Warning: Vehicle 'veh_25' performs emergency stop at the end of lane 'end4_junction_1' because of a red traffic light (decel=-25.77, offset=0.05), time=45.07.\n",
      "Warning: Vehicle 'veh_16' performs emergency stop at the end of lane 'end2_junction_1' because of a red traffic light (decel=-10.88, offset=0.00), time=45.79.\n"
     ]
    },
    {
     "name": "stdout",
     "output_type": "stream",
     "text": [
      "state : [0 0 0 0 0 0 0 0 0 0 0 0 0 1 0 0 0 1 0 0 0 0 0 1 0 0 0 0 0 0 0 0 0 0 0 0]         \n",
      "Q_values : [ 2.0467734   0.49408042  0.7227814  -1.3644865 ]\n",
      "state : [0 0 0 0 0 0 0 0 0 0 0 0 0 0 0 0 0 2 0 0 0 0 0 4 0 0 0 0 0 0 0 0 0 0 0 0]         \n",
      "Q_values : [ 2.457726    2.6619022  -0.36044312  1.2245948 ]\n",
      "state : [0 0 0 0 0 0 0 0 0 0 0 0 0 0 0 0 0 2 0 0 0 0 0 4 0 0 0 0 0 0 0 0 0 0 0 0]\n",
      "Q_values : [2.2856655  3.127556   0.11825037 1.0071988 ]\n",
      "state : [0 0 0 0 0 0 0 0 0 0 0 0 0 0 0 0 0 2 0 0 0 0 0 4 0 0 0 0 0 0 0 0 0 0 0 0]\n",
      "Q_values : [3.0721426 3.3044555 1.9255468 1.2485456]\n",
      "state : [0 0 0 0 0 0 0 0 0 0 0 0 0 0 0 0 0 2 0 0 0 0 0 4 0 0 0 0 0 0 0 0 0 0 0 0]\n",
      "Q_values : [ 1.976216    2.0143232   0.81588244 -0.25698948]\n",
      "state : [0 0 0 0 0 0 0 0 0 0 0 0 0 0 0 0 0 2 0 0 0 0 0 4 0 0 0 0 0 0 0 0 0 0 0 0]\n",
      "Q_values : [ 2.093339    1.199894   -0.7104745  -0.35449457]\n",
      "Step #100.00 (0ms ?*RT. ?UPS, TraCI: 34ms, vehicles TOT 33 ACT 6 BUF 0)                    \n",
      "episode : 58\n",
      " Retrying in 1 seconds\n"
     ]
    },
    {
     "name": "stderr",
     "output_type": "stream",
     "text": [
      "Warning: Environment variable SUMO_HOME is not set properly, disabling XML validation. Set 'auto' or 'always' for web lookups.\n"
     ]
    },
    {
     "name": "stdout",
     "output_type": "stream",
     "text": [
      "state : [0 0 0 0 0 0 0 0 0 0 0 0 0 0 0 0 0 0 0 0 0 0 0 0 0 0 0 0 0 0 0 0 0 0 0 0]\n",
      "Q_values : [ 2.2691483   3.0665736  -0.7227092  -0.36135983]\n",
      "state : [0 0 0 0 0 0 0 0 0 0 0 0 0 0 0 0 0 0 0 0 0 0 0 0 0 0 0 0 0 0 0 0 0 0 0 0]\n",
      "Q_values : [ 3.1731493  2.9504442 -0.2866645 -1.0116024]\n",
      "state : [0 0 0 0 0 0 0 0 0 0 0 0 0 0 0 0 0 0 0 0 0 0 0 0 0 0 0 0 0 0 0 0 0 0 0 0]\n",
      "Q_values : [1.4555206 2.4895015 1.9687481 0.7750113]\n",
      "state : [0 0 0 0 0 0 0 0 0 0 0 0 0 1 1 0 0 0 0 0 0 0 0 0 0 0 0 0 0 0 0 0 0 0 0 0]         \n",
      "Q_values : [1.1758907 1.7126181 1.5283597 0.4584849]\n"
     ]
    },
    {
     "name": "stderr",
     "output_type": "stream",
     "text": [
      "Warning: Vehicle 'veh_2' performs emergency stop at the end of lane 'end1_junction_2' because of a red traffic light (decel=-20.39, offset=0.10), time=21.24.\n"
     ]
    },
    {
     "name": "stdout",
     "output_type": "stream",
     "text": [
      "state : [0 0 0 0 0 0 0 0 0 0 0 0 0 1 0 0 1 1 0 0 0 0 0 0 0 0 0 0 0 0 0 0 0 0 0 0]\n",
      "Q_values : [ 1.3885221   1.4866197   1.0194795  -0.05747247]\n",
      "state : [0 0 0 0 0 0 0 0 0 0 0 0 0 0 0 0 3 4 0 0 0 0 0 0 0 0 0 0 0 0 0 0 0 0 0 0]\n",
      "Q_values : [ 2.6841106   1.9258714  -1.2232001  -0.61309505]\n",
      "state : [0 0 0 0 0 0 0 0 0 0 0 0 0 0 0 0 5 0 0 0 0 0 2 0 0 0 0 0 0 0 0 0 0 0 0 0]\n",
      "Q_values : [ 2.5172768  2.6032507 -1.8893678  1.0715785]\n",
      "Step #60.00 (0ms ?*RT. ?UPS, TraCI: 33ms, vehicles TOT 33 ACT 22 BUF 0)                   \r"
     ]
    },
    {
     "name": "stderr",
     "output_type": "stream",
     "text": [
      "Warning: Vehicle 'veh_19' performs emergency stop at the end of lane 'end2_junction_1' because of a red traffic light (decel=-10.89, offset=0.00), time=60.79.\n"
     ]
    },
    {
     "name": "stdout",
     "output_type": "stream",
     "text": [
      "state : [0 0 0 0 0 0 0 0 0 0 0 0 0 0 0 0 0 0 0 0 0 0 0 0 0 0 0 0 0 0 0 0 0 0 0 0]\n",
      "Q_values : [ 1.8888134  0.8663833 -0.8222041 -1.1557128]\n",
      "Step #100.00 (0ms ?*RT. ?UPS, TraCI: 31ms, vehicles TOT 33 ACT 0 BUF 0)                    \n",
      "episode : 59\n",
      " Retrying in 1 seconds\n"
     ]
    },
    {
     "name": "stderr",
     "output_type": "stream",
     "text": [
      "Warning: Environment variable SUMO_HOME is not set properly, disabling XML validation. Set 'auto' or 'always' for web lookups.\n"
     ]
    },
    {
     "name": "stdout",
     "output_type": "stream",
     "text": [
      "state : [0 0 0 0 0 0 0 0 0 0 0 0 0 0 0 0 0 0 0 0 0 0 0 0 0 0 0 0 0 0 0 0 0 0 0 0]\n",
      "Q_values : [3.6586545  3.573124   2.3993552  0.75817585]\n",
      "state : [0 0 0 0 0 0 0 0 0 0 0 0 0 0 0 0 0 0 0 0 0 0 0 0 0 0 0 0 0 0 0 0 0 0 0 0]\n",
      "Q_values : [2.9751463 2.7871642 2.6838174 1.5807841]\n",
      "state : [0 0 0 0 0 0 0 0 0 0 0 0 0 0 0 0 0 0 0 0 0 0 0 0 0 0 0 0 0 0 0 0 0 0 0 0]\n",
      "Q_values : [1.1563586 1.317094  3.0201695 1.4309494]\n"
     ]
    },
    {
     "name": "stderr",
     "output_type": "stream",
     "text": [
      "Warning: Vehicle 'veh_23' performs emergency stop at the end of lane 'end4_junction_2' because of a red traffic light (decel=-19.20, offset=0.09), time=42.38.\n"
     ]
    },
    {
     "name": "stdout",
     "output_type": "stream",
     "text": [
      "state : [0 0 0 0 0 0 0 0 0 0 0 0 0 0 0 0 5 0 0 0 0 0 4 0 0 0 0 0 0 0 0 0 0 0 0 0]         \n",
      "Q_values : [ 3.3583996   1.4917561  -0.76247025  1.0087256 ]\n",
      "state : [0 0 0 0 0 0 0 0 0 0 0 0 0 0 0 0 5 0 0 0 0 0 4 0 0 0 0 0 0 0 0 0 0 0 0 0]\n",
      "Q_values : [3.0308728  2.2954426  0.07075405 0.38015103]\n",
      "Step #100.00 (0ms ?*RT. ?UPS, TraCI: 32ms, vehicles TOT 33 ACT 9 BUF 0)                    \n",
      "episode : 60\n",
      " Retrying in 1 seconds\n"
     ]
    },
    {
     "name": "stderr",
     "output_type": "stream",
     "text": [
      "Warning: Environment variable SUMO_HOME is not set properly, disabling XML validation. Set 'auto' or 'always' for web lookups.\n"
     ]
    },
    {
     "name": "stdout",
     "output_type": "stream",
     "text": [
      "state : [0 0 0 0 0 0 0 0 0 0 0 0 0 0 0 0 0 0 0 0 0 0 0 0 0 0 0 0 0 0 0 0 0 0 0 0]\n",
      "Q_values : [ 1.1403946   1.6679355  -0.01110983 -1.7294052 ]\n",
      "state : [0 0 0 0 0 0 0 0 0 0 0 0 0 0 0 0 1 4 0 0 0 0 0 0 0 0 0 0 0 0 0 0 0 0 0 0]\n",
      "Q_values : [3.9435737 3.1385775 2.105587  0.5147481]\n",
      "state : [0 0 0 0 0 0 0 0 0 0 0 0 0 0 0 0 0 6 0 0 0 0 0 1 0 0 0 0 0 0 0 0 0 0 0 0]\n",
      "Q_values : [3.4828672  2.134028   2.1697257  0.46213555]\n",
      "state : [0 0 0 0 0 0 0 0 0 0 0 0 0 0 0 0 0 0 0 0 0 0 1 0 0 0 0 0 0 0 0 0 0 0 0 0]\n",
      "Q_values : [ 1.7507727   2.0206215   0.7980075  -0.52124333]\n",
      "state : [0 0 0 0 0 0 0 0 0 0 0 0 0 0 0 0 0 1 0 0 0 0 1 0 0 0 0 0 0 0 0 0 0 0 0 0]\n",
      "Q_values : [ 1.8822874   1.9401575  -0.36066985 -1.4001896 ]\n",
      "state : [0 0 0 0 0 0 0 0 0 0 0 0 0 0 0 0 0 2 0 0 0 0 1 0 0 0 0 0 0 0 0 0 0 0 0 0]\n",
      "Q_values : [ 1.3745008   2.366857   -0.80545807 -2.1177893 ]\n",
      "state : [0 0 0 0 0 0 0 0 0 0 0 0 0 0 0 0 0 2 0 0 0 0 1 0 0 0 0 0 0 0 0 0 0 0 0 0]\n",
      "Q_values : [ 3.322731   3.3735404 -1.2247226 -1.6471238]\n",
      "state : [0 0 0 0 0 0 0 0 0 0 0 0 0 0 0 0 0 2 0 0 0 0 1 0 0 0 0 0 0 0 0 0 0 0 0 0]\n",
      "Q_values : [ 3.717259    3.6123576  -0.49986053 -1.2937212 ]\n",
      "state : [0 0 0 0 0 0 0 0 0 0 0 0 0 0 0 0 0 2 0 0 0 0 1 0 0 0 0 0 0 0 0 0 0 0 0 0]\n",
      "Q_values : [3.3640864  4.2117043  0.5176499  0.56627417]\n",
      "state : [0 0 0 0 0 0 0 0 0 0 0 0 0 0 0 0 0 2 0 0 0 0 1 0 0 0 0 0 0 0 0 0 0 0 0 0]\n",
      "Q_values : [3.0429516  3.6999354  1.3032877  0.28796268]\n",
      "Step #100.00 (0ms ?*RT. ?UPS, TraCI: 30ms, vehicles TOT 33 ACT 3 BUF 0)                    \n",
      "episode : 61\n",
      " Retrying in 1 seconds\n"
     ]
    },
    {
     "name": "stderr",
     "output_type": "stream",
     "text": [
      "Warning: Environment variable SUMO_HOME is not set properly, disabling XML validation. Set 'auto' or 'always' for web lookups.\n"
     ]
    },
    {
     "name": "stdout",
     "output_type": "stream",
     "text": [
      "state : [0 0 0 0 0 0 0 0 0 0 0 0 0 0 0 0 0 0 0 0 0 0 0 0 0 0 0 0 0 0 0 0 0 0 0 0]\n",
      "Q_values : [1.2558341 1.7300352 0.6243851 1.3779147]\n",
      "state : [0 0 0 0 0 0 0 0 0 0 0 0 0 0 0 0 0 0 0 0 0 0 0 0 0 0 0 0 0 0 0 0 0 0 0 0]\n",
      "Q_values : [0.5925414  0.8922893  0.55037427 0.99714637]\n",
      "state : [0 0 0 0 0 0 0 0 0 0 0 0 0 0 0 0 0 0 0 0 0 0 0 0 0 0 0 0 0 0 0 0 0 0 0 0]\n",
      "Q_values : [ 1.653152    1.6088312  -0.81485915 -0.80055904]\n",
      "state : [0 0 0 0 0 0 0 0 0 0 0 0 0 0 0 0 2 2 0 0 0 0 0 0 0 0 0 0 0 0 0 0 0 0 0 0]\n",
      "Q_values : [2.7072477  2.6864643  0.33502102 0.2320559 ]\n",
      "state : [0 0 0 0 0 0 0 0 0 0 0 0 0 0 0 0 0 6 0 0 0 0 0 1 0 0 0 0 0 0 0 0 0 0 0 0]\n",
      "Q_values : [ 0.94466764  1.7780168  -0.03521991  1.0413079 ]\n",
      "state : [0 0 0 0 0 0 0 0 0 0 0 0 0 0 0 0 2 6 0 0 0 0 1 3 0 0 0 0 0 0 0 0 0 0 0 0]\n",
      "Q_values : [1.4295402  2.362543   0.27011347 0.57522917]\n",
      "state : [0 0 0 0 0 0 0 0 0 0 0 0 0 0 0 0 2 6 0 0 0 0 1 4 0 0 0 0 0 0 0 0 0 0 0 0]\n",
      "Q_values : [ 3.1083949   3.226381   -0.02636552 -1.2902782 ]\n",
      "state : [0 0 0 0 0 0 0 0 0 0 0 0 0 0 0 0 2 0 0 0 0 0 1 0 0 0 0 0 0 0 0 0 0 0 0 0]\n",
      "Q_values : [ 2.7167344   3.038034    0.19344974 -0.8327837 ]\n",
      "Step #100.00 (0ms ?*RT. ?UPS, TraCI: 33ms, vehicles TOT 33 ACT 13 BUF 0)                   \n",
      "episode : 62\n",
      " Retrying in 1 seconds\n"
     ]
    },
    {
     "name": "stderr",
     "output_type": "stream",
     "text": [
      "Warning: Environment variable SUMO_HOME is not set properly, disabling XML validation. Set 'auto' or 'always' for web lookups.\n"
     ]
    },
    {
     "name": "stdout",
     "output_type": "stream",
     "text": [
      "state : [0 0 0 0 0 0 0 0 0 0 0 0 0 0 0 0 0 0 0 0 0 0 0 0 0 0 0 0 0 0 0 0 0 0 0 0]\n",
      "Q_values : [1.96405    2.804522   0.3535533  0.99996805]\n",
      "state : [0 0 0 0 0 0 0 0 0 0 0 0 0 0 0 0 0 0 0 0 0 0 0 0 0 0 0 0 0 0 0 0 0 0 0 0]\n",
      "Q_values : [2.2196865  3.4105387  0.38221645 0.45829797]\n",
      "state : [0 0 0 0 0 0 0 0 0 0 0 0 0 1 0 0 1 0 0 0 0 0 0 0 0 0 0 0 0 0 0 0 0 0 0 0]\n",
      "Q_values : [2.040227   1.8565186  0.9643369  0.02214813]\n",
      "state : [0 0 0 0 0 0 0 0 0 0 0 0 0 0 0 0 4 2 0 0 0 0 0 0 0 0 0 0 0 0 0 0 0 0 0 0]         \n",
      "Q_values : [1.5209715  1.8502017  1.3267648  0.41865993]\n"
     ]
    },
    {
     "name": "stderr",
     "output_type": "stream",
     "text": [
      "Warning: Vehicle 'veh_11' performs emergency stop at the end of lane 'end2_junction_2' because of a red traffic light (decel=-10.45, offset=0.00), time=31.69.\n"
     ]
    },
    {
     "name": "stdout",
     "output_type": "stream",
     "text": [
      "state : [0 0 0 0 0 0 0 0 0 0 0 0 0 0 0 0 6 3 0 0 0 0 1 1 0 0 0 0 0 0 0 0 0 0 0 0]\n",
      "Q_values : [1.1932142 1.6522937 1.4315913 0.6536777]\n",
      "state : [0 0 0 0 0 0 0 0 0 0 0 0 0 0 0 0 6 4 0 0 0 0 2 1 0 0 0 0 0 0 0 0 0 0 0 0]\n",
      "Q_values : [1.4450516  2.11311    0.7442188  0.37527466]\n",
      "state : [0 0 0 0 0 0 0 0 0 0 0 0 0 0 0 0 6 4 0 0 0 0 3 3 0 0 0 0 0 0 0 0 0 0 0 0]\n",
      "Q_values : [ 1.6925992   1.7459534   0.19683456 -0.19845343]\n",
      "Step #100.00 (0ms ?*RT. ?UPS, TraCI: 32ms, vehicles TOT 33 ACT 10 BUF 0)                   \n",
      "episode : 63\n",
      " Retrying in 1 seconds\n"
     ]
    },
    {
     "name": "stderr",
     "output_type": "stream",
     "text": [
      "Warning: Environment variable SUMO_HOME is not set properly, disabling XML validation. Set 'auto' or 'always' for web lookups.\n"
     ]
    },
    {
     "name": "stdout",
     "output_type": "stream",
     "text": [
      "state : [0 0 0 0 0 0 0 0 0 0 0 0 0 0 0 0 0 0 0 0 0 0 0 0 0 0 0 0 0 0 0 0 0 0 0 0]\n",
      "Q_values : [1.6199473 2.9288068 0.4893229 0.7486253]\n",
      "state : [0 0 0 0 0 0 0 0 0 0 0 0 0 0 0 0 0 0 0 0 0 0 0 0 0 0 0 0 0 0 0 0 0 0 0 0]\n",
      "Q_values : [2.1907644  2.3580341  1.5005503  0.31629252]\n",
      "state : [0 0 0 0 0 0 0 0 0 0 0 0 0 0 0 0 0 0 0 0 0 0 0 0 0 0 0 0 0 0 0 0 0 0 0 0]\n",
      "Q_values : [ 1.2574434   1.7499526   1.2647507  -0.76961017]\n",
      "state : [0 0 0 0 0 0 0 0 0 0 0 0 0 0 0 0 1 0 0 0 0 0 0 0 0 0 0 0 0 0 0 0 0 0 0 0]\n",
      "Q_values : [ 1.0308566  1.4671112  0.7726271 -1.1916568]\n",
      "state : [0 0 0 0 0 0 0 0 0 0 0 0 0 0 0 0 2 2 0 0 0 0 0 0 0 0 0 0 0 0 0 0 0 0 0 0]\n",
      "Q_values : [ 1.9100868   1.2394446  -0.40535808 -1.0250325 ]\n",
      "state : [0 0 0 0 0 0 0 0 0 0 0 0 0 0 0 0 4 4 0 0 0 0 0 0 0 0 0 0 0 0 0 0 0 0 0 0]\n",
      "Q_values : [ 2.13901    1.3553257 -0.0959723 -0.7705052]\n",
      "state : [0 0 0 0 0 0 0 0 0 0 0 0 0 0 0 0 6 0 0 0 0 0 2 0 0 0 0 0 0 0 0 0 0 0 0 0]\n",
      "Q_values : [2.6717858  2.710935   0.20725489 1.2643063 ]\n",
      "state : [0 0 0 0 0 0 0 0 0 0 0 0 0 0 0 0 6 2 0 0 0 0 4 1 0 0 0 0 0 0 0 0 0 0 0 0]\n",
      "Q_values : [1.7525256  1.8277352  1.0951703  0.97040534]\n",
      "state : [0 0 0 0 0 0 0 0 0 0 0 0 0 0 0 0 6 2 0 0 0 0 4 1 0 0 0 0 0 0 0 0 0 0 0 0]\n",
      "Q_values : [2.425265  1.1220485 2.0426269 0.7313788]\n",
      "Step #100.00 (0ms ?*RT. ?UPS, TraCI: 32ms, vehicles TOT 33 ACT 11 BUF 0)                   \n",
      "episode : 64\n",
      " Retrying in 1 seconds\n"
     ]
    },
    {
     "name": "stderr",
     "output_type": "stream",
     "text": [
      "Warning: Environment variable SUMO_HOME is not set properly, disabling XML validation. Set 'auto' or 'always' for web lookups.\n"
     ]
    },
    {
     "name": "stdout",
     "output_type": "stream",
     "text": [
      "state : [0 0 0 0 0 0 0 0 0 0 0 0 0 0 0 0 0 0 0 0 0 0 0 0 0 0 0 0 0 0 0 0 0 0 0 0]\n",
      "Q_values : [ 2.581984   2.2045927 -0.7157185 -1.5138445]\n",
      "state : [0 0 0 0 0 0 0 0 0 0 0 0 0 0 0 0 0 0 0 0 0 0 0 0 0 0 0 0 0 0 0 0 0 0 0 0]\n",
      "Q_values : [1.379202  2.9461985 1.2421335 0.6614227]\n",
      "state : [0 0 0 0 0 0 0 0 0 0 0 0 0 1 0 0 1 1 0 0 0 0 0 0 0 0 0 0 0 0 0 0 0 0 0 0]\n",
      "Q_values : [ 2.1378138   1.7327428   1.3680693  -0.04873514]\n",
      "state : [0 0 0 0 0 0 0 0 0 0 0 0 0 0 0 0 6 0 0 0 0 0 1 0 0 0 0 0 0 0 0 0 0 0 0 0]\n",
      "Q_values : [2.675407   1.5379217  0.11568522 0.0719471 ]\n",
      "Step #45.00 (0ms ?*RT. ?UPS, TraCI: 54ms, vehicles TOT 33 ACT 29 BUF 0)                   \r"
     ]
    },
    {
     "name": "stderr",
     "output_type": "stream",
     "text": [
      "Warning: Vehicle 'veh_26' performs emergency stop at the end of lane 'end4_junction_2' because of a red traffic light (decel=-19.50, offset=0.01), time=45.88.\n"
     ]
    },
    {
     "name": "stdout",
     "output_type": "stream",
     "text": [
      "state : [0 0 0 0 0 0 0 0 0 0 0 0 0 0 0 0 0 2 0 0 0 0 0 3 0 0 0 0 0 0 0 0 0 0 0 0]\n",
      "Q_values : [2.872549   2.3444092  0.26541996 0.8160274 ]\n",
      "state : [0 0 0 0 0 0 0 0 0 0 0 0 0 0 0 0 0 2 0 0 0 0 0 3 0 0 0 0 0 0 0 0 0 0 0 0]\n",
      "Q_values : [3.2310855  2.3316212  0.9118953  0.84140277]\n",
      "state : [0 0 0 0 0 0 0 0 0 0 0 0 0 0 0 0 0 0 0 0 0 0 0 0 0 0 0 0 0 0 0 0 0 0 0 0]\n",
      "Q_values : [ 1.5482013  1.3439918  0.574461  -0.5134256]\n",
      "Step #100.00 (0ms ?*RT. ?UPS, TraCI: 31ms, vehicles TOT 33 ACT 0 BUF 0)                    \n",
      "episode : 65\n",
      " Retrying in 1 seconds\n"
     ]
    },
    {
     "name": "stderr",
     "output_type": "stream",
     "text": [
      "Warning: Environment variable SUMO_HOME is not set properly, disabling XML validation. Set 'auto' or 'always' for web lookups.\n"
     ]
    },
    {
     "name": "stdout",
     "output_type": "stream",
     "text": [
      "state : [0 0 0 0 0 0 0 0 0 0 0 0 0 0 0 0 0 0 0 0 0 0 0 0 0 0 0 0 0 0 0 0 0 0 0 0]\n",
      "Q_values : [ 2.6736193   1.0788877  -0.74325776 -2.0558343 ]\n",
      "state : [0 0 0 0 0 0 0 0 0 0 0 0 0 0 0 0 0 0 0 0 0 0 0 0 0 0 0 0 0 0 0 0 0 0 0 0]\n",
      "Q_values : [ 0.9840182   0.8295369  -0.8393359   0.38133097]\n",
      "state : [0 0 0 0 0 0 0 0 0 0 0 0 0 0 0 0 0 0 0 0 0 0 0 0 0 0 0 0 0 0 0 0 0 0 0 0]\n",
      "Q_values : [ 0.67909133  1.2555937  -1.2274952   0.4606228 ]\n",
      "state : [0 0 0 0 0 0 0 0 0 0 0 0 0 0 0 0 1 0 0 0 0 0 0 0 0 0 0 0 0 0 0 0 0 0 0 0]\n",
      "Q_values : [ 4.0935917   2.4259067   0.38124776 -1.3508697 ]\n",
      "Step #31.00 (0ms ?*RT. ?UPS, TraCI: 0ms, vehicles TOT 31 ACT 31 BUF 1)                    \r"
     ]
    },
    {
     "name": "stderr",
     "output_type": "stream",
     "text": [
      "Warning: Vehicle 'veh_11' performs emergency stop at the end of lane 'end2_junction_2' because of a red traffic light (decel=-10.45, offset=0.00), time=31.69.\n"
     ]
    },
    {
     "name": "stdout",
     "output_type": "stream",
     "text": [
      "state : [0 0 0 0 0 0 0 0 0 0 0 0 0 0 0 0 2 1 0 0 0 0 0 0 0 0 0 0 0 0 0 0 0 0 0 0]\n",
      "Q_values : [ 4.0838003   2.747942    0.40081596 -0.21835089]\n",
      "state : [0 0 0 0 0 0 0 0 0 0 0 0 0 0 0 0 0 4 0 0 0 0 0 1 0 0 0 0 0 0 0 0 0 0 0 0]\n",
      "Q_values : [ 3.268663    3.118997    0.95695424 -0.57642365]\n",
      "state : [0 0 0 0 0 0 0 0 0 0 0 0 0 0 0 0 0 0 0 0 0 0 0 0 0 0 0 0 0 0 0 0 0 0 0 0]\n",
      "Q_values : [ 1.0583063   0.5295353  -0.6454692  -0.64687586]\n",
      "state : [0 0 0 0 0 0 0 0 0 0 0 0 0 0 0 0 0 0 0 0 0 0 0 0 0 0 0 0 0 0 0 0 0 0 0 0]\n",
      "Q_values : [ 1.5666898   0.82863724 -0.6163595  -0.30649257]\n",
      "state : [0 0 0 0 0 0 0 0 0 0 0 0 0 0 0 0 0 0 0 0 0 0 0 0 0 0 0 0 0 0 0 0 0 0 0 0]\n",
      "Q_values : [ 2.3079667  1.8959472 -2.2972379  0.8689649]\n",
      "Step #100.00 (0ms ?*RT. ?UPS, TraCI: 31ms, vehicles TOT 33 ACT 0 BUF 0)                    \n",
      "episode : 66\n",
      " Retrying in 1 seconds\n"
     ]
    },
    {
     "name": "stderr",
     "output_type": "stream",
     "text": [
      "Warning: Environment variable SUMO_HOME is not set properly, disabling XML validation. Set 'auto' or 'always' for web lookups.\n"
     ]
    },
    {
     "name": "stdout",
     "output_type": "stream",
     "text": [
      "state : [0 0 0 0 0 0 0 0 0 0 0 0 0 0 0 0 0 0 0 0 0 0 0 0 0 0 0 0 0 0 0 0 0 0 0 0]\n",
      "Q_values : [ 1.4172326   4.0944977   0.56899214 -2.0079927 ]\n",
      "state : [0 0 0 0 0 0 0 0 0 0 0 0 0 1 0 0 1 0 0 0 0 0 0 0 0 0 0 0 0 0 0 0 0 0 0 0]\n",
      "Q_values : [ 2.1665802  2.8616004  1.4978513 -2.0931697]\n",
      "state : [0 0 0 0 0 0 0 0 0 0 0 0 0 1 0 0 2 2 0 0 0 0 0 0 0 0 0 0 0 0 0 0 0 0 0 0]\n",
      "Q_values : [5.3490076  2.2916923  2.1128457  0.70740795]\n",
      "state : [0 0 0 0 0 0 0 0 0 0 0 0 0 0 0 0 6 5 0 0 0 0 1 1 0 0 0 0 0 0 0 0 0 0 0 0]\n",
      "Q_values : [3.0260148 3.3948088 0.1899445 1.8816392]\n",
      "state : [0 0 0 0 0 0 0 0 0 0 0 0 0 0 0 0 6 6 0 0 0 0 2 1 0 0 0 0 0 0 0 0 0 0 0 0]\n",
      "Q_values : [ 1.4351008   2.6731322  -0.3745296   0.87021804]\n",
      "state : [0 0 0 0 0 0 0 0 0 0 0 0 0 0 0 0 0 6 0 0 0 0 0 4 0 0 0 0 0 0 0 0 0 0 0 0]\n",
      "Q_values : [ 1.3585387   1.6610668  -0.7951126  -0.47591972]\n",
      "state : [0 0 0 0 0 0 0 0 0 0 0 0 0 0 0 0 0 6 0 0 0 0 0 4 0 0 0 0 0 0 0 0 0 0 0 0]\n",
      "Q_values : [1.5571833  1.5690649  0.32287288 0.43345213]\n",
      "state : [0 0 0 0 0 0 0 0 0 0 0 0 0 0 0 0 0 6 0 0 0 0 0 4 0 0 0 0 0 0 0 0 0 0 0 0]\n",
      "Q_values : [3.037861   2.1188369  1.0527599  0.34972453]\n",
      "state : [0 0 0 0 0 0 0 0 0 0 0 0 0 0 0 0 0 6 0 0 0 0 0 4 0 0 0 0 0 0 0 0 0 0 0 0]\n",
      "Q_values : [2.2025967 2.729598  1.8673878 0.536314 ]\n",
      "Step #100.00 (0ms ?*RT. ?UPS, TraCI: 31ms, vehicles TOT 33 ACT 10 BUF 0)                   \n",
      "episode : 67\n",
      " Retrying in 1 seconds\n"
     ]
    },
    {
     "name": "stderr",
     "output_type": "stream",
     "text": [
      "Warning: Environment variable SUMO_HOME is not set properly, disabling XML validation. Set 'auto' or 'always' for web lookups.\n"
     ]
    },
    {
     "name": "stdout",
     "output_type": "stream",
     "text": [
      "state : [0 0 0 0 0 0 0 0 0 0 0 0 0 0 0 0 0 0 0 0 0 0 0 0 0 0 0 0 0 0 0 0 0 0 0 0]\n",
      "Q_values : [2.0581155 3.044361  1.8369987 1.0112071]\n",
      "state : [0 0 0 0 0 0 0 0 0 0 0 0 0 0 0 0 0 0 0 0 0 0 0 0 0 0 0 0 0 0 0 0 0 0 0 0]\n",
      "Q_values : [1.4720308 1.609345  1.7710106 1.3986535]\n",
      "state : [0 0 0 0 0 0 0 0 0 0 0 0 0 0 0 0 0 0 0 0 0 0 0 0 0 0 0 0 0 0 0 0 0 0 0 0]\n",
      "Q_values : [2.0116234 2.0459423 1.3777807 0.9676571]\n",
      "state : [0 0 0 0 0 0 0 0 0 0 0 0 0 1 1 0 1 0 0 0 0 0 0 0 0 0 0 0 0 0 0 0 0 0 0 0]         \n",
      "Q_values : [ 1.8331782   1.6570457  -0.07897758 -1.9122558 ]\n"
     ]
    },
    {
     "name": "stderr",
     "output_type": "stream",
     "text": [
      "Warning: Vehicle 'veh_2' performs emergency stop at the end of lane 'end1_junction_2' because of a red traffic light (decel=-20.39, offset=0.10), time=21.24.\n"
     ]
    },
    {
     "name": "stdout",
     "output_type": "stream",
     "text": [
      "state : [0 0 0 0 0 0 0 0 0 0 0 0 0 0 0 0 2 1 0 0 0 0 0 0 0 0 0 0 0 0 0 0 0 0 0 0]\n",
      "Q_values : [ 2.425185    2.1988306  -0.11241698 -2.4041905 ]\n",
      "state : [0 0 0 0 0 0 0 0 0 0 0 0 0 0 0 0 6 4 0 0 0 0 1 1 0 0 0 0 0 0 0 0 0 0 0 0]\n",
      "Q_values : [2.309525   3.3480933  0.5632181  0.41075993]\n",
      "state : [0 0 0 0 0 0 0 0 0 0 0 0 0 0 0 0 6 5 0 0 0 0 2 1 0 0 0 0 0 0 0 0 0 0 0 0]\n",
      "Q_values : [2.266973  3.436522  1.492007  1.5103979]\n",
      "state : [0 0 0 0 0 0 0 0 0 0 0 0 0 0 0 0 6 5 0 0 0 0 3 3 0 0 0 0 0 0 0 0 0 0 0 0]\n",
      "Q_values : [2.648357  2.2129004 1.3872857 1.7972468]\n",
      "state : [0 0 0 0 0 0 0 0 0 0 0 0 0 0 0 0 6 5 0 0 0 0 4 4 0 0 0 0 0 0 0 0 0 0 0 0]\n",
      "Q_values : [2.4383197  1.294964   0.49189138 1.8119748 ]\n",
      "state : [0 0 0 0 0 0 0 0 0 0 0 0 0 0 0 0 6 5 0 0 0 0 4 4 0 0 0 0 0 0 0 0 0 0 0 0]\n",
      "Q_values : [ 1.844438   2.2075782 -0.2041707  1.1837037]\n",
      "Step #75.00 (0ms ?*RT. ?UPS, TraCI: 32ms, vehicles TOT 33 ACT 19 BUF 0)                   \r"
     ]
    },
    {
     "name": "stderr",
     "output_type": "stream",
     "text": [
      "Warning: Vehicle 'veh_16' performs emergency stop at the end of lane 'end2_junction_1' because of a red traffic light (decel=-10.86, offset=0.00), time=75.79.\n"
     ]
    },
    {
     "name": "stdout",
     "output_type": "stream",
     "text": [
      "state : [0 0 0 0 0 0 0 0 0 0 0 0 0 0 0 0 0 1 0 0 0 0 0 0 0 0 0 0 0 0 0 0 0 0 0 0]\n",
      "Q_values : [ 2.4925694   1.7549644  -0.03241158 -0.55408573]\n",
      "Step #100.00 (0ms ?*RT. ?UPS, TraCI: 31ms, vehicles TOT 33 ACT 2 BUF 0)                    \n",
      "episode : 68\n",
      " Retrying in 1 seconds\n"
     ]
    },
    {
     "name": "stderr",
     "output_type": "stream",
     "text": [
      "Warning: Environment variable SUMO_HOME is not set properly, disabling XML validation. Set 'auto' or 'always' for web lookups.\n"
     ]
    },
    {
     "name": "stdout",
     "output_type": "stream",
     "text": [
      "state : [0 0 0 0 0 0 0 0 0 0 0 0 0 0 0 0 0 0 0 0 0 0 0 0 0 0 0 0 0 0 0 0 0 0 0 0]\n",
      "Q_values : [2.804697   2.9606524  0.10851908 0.8498242 ]\n",
      "state : [0 0 0 0 0 0 0 0 0 0 0 0 0 0 0 0 0 0 0 0 0 0 0 0 0 0 0 0 0 0 0 0 0 0 0 0]\n",
      "Q_values : [2.9124045 0.9742551 1.0087657 1.5291414]\n",
      "state : [0 0 0 0 0 0 0 0 0 0 0 0 0 0 1 0 1 0 0 0 0 0 0 0 0 0 0 0 0 0 0 0 0 0 0 0]\n",
      "Q_values : [ 2.8056257   1.3870583  -0.45339537  1.8708326 ]\n",
      "state : [0 0 0 0 0 0 0 0 0 0 0 0 0 0 1 0 1 1 0 0 0 0 0 0 0 0 0 0 0 0 0 0 0 0 0 0]\n",
      "Q_values : [2.3374348 2.0068843 0.5025029 1.3355296]\n",
      "state : [0 0 0 0 0 0 0 0 0 0 0 0 0 0 1 0 2 2 0 0 0 0 0 0 0 0 0 0 0 0 0 0 0 0 0 0]\n",
      "Q_values : [2.0758812  1.2828499  0.02717566 0.5662215 ]\n",
      "state : [0 0 0 0 0 0 0 0 0 0 0 0 0 0 1 0 4 4 0 0 0 0 0 0 0 0 0 0 0 0 0 0 0 0 0 0]\n",
      "Q_values : [ 1.4105542   2.102387   -0.13838816  0.37407446]\n",
      "state : [0 0 0 0 0 0 0 0 0 0 0 0 0 0 0 0 0 6 0 0 0 0 0 1 0 0 0 0 0 0 0 0 0 0 0 0]\n",
      "Q_values : [ 2.2647967   2.6732705  -1.0533209  -0.18711114]\n",
      "state : [0 0 0 0 0 0 0 0 0 0 0 0 0 0 0 0 2 6 0 0 0 0 1 3 0 0 0 0 0 0 0 0 0 0 0 0]\n",
      "Q_values : [ 2.5008845   2.0773554  -0.29621577 -0.04388189]\n",
      "state : [0 0 0 0 0 0 0 0 0 0 0 0 0 0 0 0 2 6 0 0 0 0 1 4 0 0 0 0 0 0 0 0 0 0 0 0]\n",
      "Q_values : [ 2.0208669  2.0128152  0.5153384 -0.3355987]\n",
      "state : [0 0 0 0 0 0 0 0 0 0 0 0 0 0 0 0 2 6 0 0 0 0 1 4 0 0 0 0 0 0 0 0 0 0 0 0]\n",
      "Q_values : [2.4642205  1.784632   0.97307515 0.08962417]\n",
      "state : [0 0 0 0 0 0 0 0 0 0 0 0 0 0 0 0 2 6 0 0 0 0 1 4 0 0 0 0 0 0 0 0 0 0 0 0]\n",
      "Q_values : [ 1.9532849  2.4220052  1.4845488 -1.1907587]\n",
      "state : [0 0 0 0 0 0 0 0 0 0 0 0 0 0 0 0 0 6 0 0 0 0 0 4 0 0 0 0 0 0 0 0 0 0 0 0]\n",
      "Q_values : [ 2.645177   2.5268734  1.7184949 -0.9936333]\n",
      "state : [0 0 0 0 0 0 0 0 0 0 0 0 0 0 0 0 0 6 0 0 0 0 0 4 0 0 0 0 0 0 0 0 0 0 0 0]\n",
      "Q_values : [ 2.3810205   2.2847009   0.8017893  -0.11283255]\n",
      "state : [0 0 0 0 0 0 0 0 0 0 0 0 0 0 0 0 0 6 0 0 0 0 0 4 0 0 0 0 0 0 0 0 0 0 0 0]\n",
      "Q_values : [ 1.5547233  1.6913774  0.7096176 -0.1273861]\n",
      "Step #100.00 (0ms ?*RT. ?UPS, TraCI: 32ms, vehicles TOT 33 ACT 10 BUF 0)                   \n",
      "episode : 69\n",
      " Retrying in 1 seconds\n"
     ]
    },
    {
     "name": "stderr",
     "output_type": "stream",
     "text": [
      "Warning: Environment variable SUMO_HOME is not set properly, disabling XML validation. Set 'auto' or 'always' for web lookups.\n"
     ]
    },
    {
     "name": "stdout",
     "output_type": "stream",
     "text": [
      "state : [0 0 0 0 0 0 0 0 0 0 0 0 0 0 0 0 0 0 0 0 0 0 0 0 0 0 0 0 0 0 0 0 0 0 0 0]\n",
      "Q_values : [ 2.3964446  1.5828269 -0.3407433 -2.6902423]\n",
      "state : [0 0 0 0 0 0 0 0 0 0 0 0 0 0 0 0 0 0 0 0 0 0 0 0 0 0 0 0 0 0 0 0 0 0 0 0]\n",
      "Q_values : [ 3.580948    3.4429176  -0.22373247 -2.6450126 ]\n",
      "state : [0 0 0 0 0 0 0 0 0 0 0 0 0 0 0 0 0 0 0 0 0 0 0 0 0 0 0 0 0 0 0 0 0 0 0 0]\n",
      "Q_values : [ 2.7128205   2.8102126  -0.5729308  -0.90604234]\n",
      "state : [0 0 0 0 0 0 0 0 0 0 0 0 0 1 1 0 1 0 0 0 0 0 0 0 0 0 0 0 0 0 0 0 0 0 0 0]\n",
      "Q_values : [2.2690456 1.676913  0.6516986 0.4498875]\n",
      "Step #31.00 (1ms ~= 10.00*RT, ~31000.00UPS, TraCI: 0ms, vehicles TOT 31 ACT 31 BUF 1)     \r"
     ]
    },
    {
     "name": "stderr",
     "output_type": "stream",
     "text": [
      "Warning: Vehicle 'veh_11' performs emergency stop at the end of lane 'end2_junction_2' because of a red traffic light (decel=-10.65, offset=0.00), time=31.67.\n"
     ]
    },
    {
     "name": "stdout",
     "output_type": "stream",
     "text": [
      "Step #45.00 (0ms ?*RT. ?UPS, TraCI: 34ms, vehicles TOT 33 ACT 29 BUF 0)                   \r"
     ]
    },
    {
     "name": "stderr",
     "output_type": "stream",
     "text": [
      "Warning: Vehicle 'veh_26' performs emergency stop at the end of lane 'end4_junction_2' because of a red traffic light (decel=-19.50, offset=0.01), time=45.88.\n"
     ]
    },
    {
     "name": "stdout",
     "output_type": "stream",
     "text": [
      "state : [0 0 0 0 0 0 0 0 0 0 0 0 0 0 0 0 5 0 0 0 0 0 4 0 0 0 0 0 0 0 0 0 0 0 0 0]\n",
      "Q_values : [2.3515282 2.6871595 1.1466722 0.5084336]\n",
      "state : [0 0 0 0 0 0 0 0 0 0 0 0 0 0 0 0 5 0 0 0 0 0 4 0 0 0 0 0 0 0 0 0 0 0 0 0]\n",
      "Q_values : [2.6801271  2.3231902  1.2928073  0.61728907]\n",
      "state : [0 0 0 0 0 0 0 0 0 0 0 0 0 0 0 0 5 0 0 0 0 0 4 0 0 0 0 0 0 0 0 0 0 0 0 0]\n",
      "Q_values : [2.8763433  2.7968535  0.14181423 0.95037556]\n",
      "Step #100.00 (0ms ?*RT. ?UPS, TraCI: 33ms, vehicles TOT 33 ACT 9 BUF 0)                    \n",
      "episode : 70\n",
      " Retrying in 1 seconds\n"
     ]
    },
    {
     "name": "stderr",
     "output_type": "stream",
     "text": [
      "Warning: Environment variable SUMO_HOME is not set properly, disabling XML validation. Set 'auto' or 'always' for web lookups.\n"
     ]
    },
    {
     "name": "stdout",
     "output_type": "stream",
     "text": [
      "state : [0 0 0 0 0 0 0 0 0 0 0 0 0 0 0 0 0 0 0 0 0 0 0 0 0 0 0 0 0 0 0 0 0 0 0 0]\n",
      "Q_values : [ 3.0326953  3.2297325 -1.1080568  0.5946479]\n",
      "state : [0 0 0 0 0 0 0 0 0 0 0 0 0 0 0 0 1 0 0 0 0 0 0 0 0 0 0 0 0 0 0 0 0 0 0 0]\n",
      "Q_values : [ 2.3520489   2.2832096  -0.5766995   0.97555256]\n",
      "state : [0 0 0 0 0 0 0 0 0 0 0 0 0 0 0 0 1 1 0 0 0 0 0 0 0 0 0 0 0 0 0 0 0 0 0 0]\n",
      "Q_values : [ 1.2571158  1.4177204 -1.6389594  1.3091784]\n",
      "state : [0 0 0 0 0 0 0 0 0 0 0 0 0 0 0 0 4 4 0 0 0 0 0 0 0 0 0 0 0 0 0 0 0 0 0 0]\n",
      "Q_values : [0.728998   1.5171224  0.02692771 0.98875403]\n",
      "state : [0 0 0 0 0 0 0 0 0 0 0 0 0 0 0 0 0 6 0 0 0 0 0 1 0 0 0 0 0 0 0 0 0 0 0 0]\n",
      "Q_values : [ 2.8434453   1.3390014   0.46793938 -0.49963236]\n",
      "Step #50.00 (0ms ?*RT. ?UPS, TraCI: 56ms, vehicles TOT 33 ACT 27 BUF 0)                   \r"
     ]
    },
    {
     "name": "stderr",
     "output_type": "stream",
     "text": [
      "Warning: Vehicle 'veh_16' performs emergency stop at the end of lane 'end2_junction_1' because of a red traffic light (decel=-11.17, offset=0.01), time=50.76.\n"
     ]
    },
    {
     "name": "stdout",
     "output_type": "stream",
     "text": [
      "state : [0 0 0 0 0 0 0 0 0 0 0 0 0 0 0 0 2 6 0 0 0 0 1 3 0 0 0 0 0 0 0 0 0 0 0 0]\n",
      "Q_values : [ 3.296597    2.9624357  -0.3029375   0.01114607]\n",
      "state : [0 0 0 0 0 0 0 0 0 0 0 0 0 0 0 0 2 0 0 0 0 0 1 0 0 0 0 0 0 0 0 0 0 0 0 0]\n",
      "Q_values : [ 1.922147   2.1568909  0.815233  -1.1716311]\n",
      "state : [0 0 0 0 0 0 0 0 0 0 0 0 0 0 0 0 2 0 0 0 0 0 1 0 0 0 0 0 0 0 0 0 0 0 0 0]\n",
      "Q_values : [ 3.442942    1.0616157   0.8008077  -0.99835944]\n",
      "state : [0 0 0 0 0 0 0 0 0 0 0 0 0 0 0 0 2 0 0 0 0 0 1 0 0 0 0 0 0 0 0 0 0 0 0 0]\n",
      "Q_values : [ 3.3571448   2.3553798   0.80883956 -0.52837133]\n",
      "Step #100.00 (0ms ?*RT. ?UPS, TraCI: 30ms, vehicles TOT 33 ACT 3 BUF 0)                    \n",
      "episode : 71\n",
      " Retrying in 1 seconds\n"
     ]
    },
    {
     "name": "stderr",
     "output_type": "stream",
     "text": [
      "Warning: Environment variable SUMO_HOME is not set properly, disabling XML validation. Set 'auto' or 'always' for web lookups.\n"
     ]
    },
    {
     "name": "stdout",
     "output_type": "stream",
     "text": [
      "state : [0 0 0 0 0 0 0 0 0 0 0 0 0 0 0 0 0 0 0 0 0 0 0 0 0 0 0 0 0 0 0 0 0 0 0 0]\n",
      "Q_values : [ 2.3517692   1.3725291  -0.7535248   0.94961023]\n",
      "state : [0 0 0 0 0 0 0 0 0 0 0 0 0 1 1 0 1 0 0 0 0 0 0 0 0 0 0 0 0 0 0 0 0 0 0 0]\n",
      "Q_values : [ 1.6848488   1.6658758   0.04175162 -0.650697  ]\n"
     ]
    },
    {
     "name": "stderr",
     "output_type": "stream",
     "text": [
      "Warning: Vehicle 'veh_23' performs emergency stop at the end of lane 'end4_junction_2' because of a red traffic light (decel=-19.20, offset=0.09), time=42.38.\n"
     ]
    },
    {
     "name": "stdout",
     "output_type": "stream",
     "text": [
      "state : [0 0 0 0 0 0 0 0 0 0 0 0 0 0 1 0 6 0 0 0 0 0 2 0 0 0 0 0 0 0 0 0 0 0 0 0]         \n",
      "Q_values : [2.909075   3.4747832  0.23012805 2.154677  ]\n",
      "state : [0 0 0 0 0 0 0 0 0 0 0 0 0 0 0 0 2 0 0 0 0 0 0 0 0 0 0 0 0 0 0 0 0 0 0 0]         \n",
      "Q_values : [ 3.4617896   2.6333914  -0.04791498  2.238006  ]\n",
      "state : [0 0 0 0 0 0 0 0 0 0 0 0 0 0 0 0 2 0 0 0 0 0 0 0 0 0 0 0 0 0 0 0 0 0 0 0]\n",
      "Q_values : [3.8130307  2.7051752  0.03694057 1.3369606 ]\n"
     ]
    },
    {
     "name": "stderr",
     "output_type": "stream",
     "text": [
      "Warning: Vehicle 'veh_16' performs emergency stop at the end of lane 'end2_junction_1' because of a red traffic light (decel=-10.35, offset=0.00), time=65.84.\n"
     ]
    },
    {
     "name": "stdout",
     "output_type": "stream",
     "text": [
      "state : [0 0 0 0 0 0 0 0 0 0 0 0 0 0 0 0 2 0 0 0 0 0 0 0 0 0 0 0 0 0 0 0 0 0 0 0]\n",
      "Q_values : [3.4619746  2.6049724  0.07826447 0.95111156]\n",
      "state : [0 0 0 0 0 0 0 0 0 0 0 0 0 0 0 0 0 0 0 0 0 0 0 0 0 0 0 0 0 0 0 0 0 0 0 0]\n",
      "Q_values : [1.842602   1.756937   0.00316644 0.5257139 ]\n",
      "Step #100.00 (0ms ?*RT. ?UPS, TraCI: 33ms, vehicles TOT 33 ACT 2 BUF 0)                    \n",
      "episode : 72\n",
      " Retrying in 1 seconds\n"
     ]
    },
    {
     "name": "stderr",
     "output_type": "stream",
     "text": [
      "Warning: Environment variable SUMO_HOME is not set properly, disabling XML validation. Set 'auto' or 'always' for web lookups.\n"
     ]
    },
    {
     "name": "stdout",
     "output_type": "stream",
     "text": [
      "state : [0 0 0 0 0 0 0 0 0 0 0 0 0 0 0 0 0 0 0 0 0 0 0 0 0 0 0 0 0 0 0 0 0 0 0 0]\n",
      "Q_values : [ 2.9142084   0.85588646 -0.679544   -3.825453  ]\n",
      "state : [0 0 0 0 0 0 0 0 0 0 0 0 0 0 0 0 0 0 0 0 0 0 0 0 0 0 0 0 0 0 0 0 0 0 0 0]\n",
      "Q_values : [ 3.5023441  2.446629  -0.470392  -2.874433 ]\n",
      "state : [0 0 0 0 0 0 0 0 0 0 0 0 0 0 0 0 0 0 0 0 0 0 0 0 0 0 0 0 0 0 0 0 0 0 0 0]\n",
      "Q_values : [ 3.257554    3.1201937  -0.06415844 -1.9927804 ]\n",
      "state : [0 0 0 0 0 0 0 0 0 0 0 0 0 0 1 0 1 0 0 0 0 0 0 0 0 0 0 0 0 0 0 0 0 0 0 0]\n",
      "Q_values : [ 3.518341    2.3287432   0.19946241 -1.397305  ]\n"
     ]
    },
    {
     "name": "stderr",
     "output_type": "stream",
     "text": [
      "Warning: Vehicle 'veh_22' performs emergency stop at the end of lane 'end4_junction_1' because of a red traffic light (decel=-42.49, offset=0.27), time=40.34.\n"
     ]
    },
    {
     "name": "stdout",
     "output_type": "stream",
     "text": [
      "state : [0 0 0 0 0 0 0 0 0 0 0 0 0 0 1 0 2 3 0 0 0 0 2 1 0 0 0 0 0 0 0 0 0 0 0 0]         \n",
      "Q_values : [1.3194689  1.5591336  0.14737129 1.7480876 ]\n",
      "state : [0 0 0 0 0 0 0 0 0 0 0 0 0 0 1 0 2 0 0 0 0 0 3 0 0 0 0 0 0 0 0 0 0 0 0 0]\n",
      "Q_values : [ 1.5876453   1.690289   -0.8921497   0.36439824]\n",
      "state : [0 0 0 0 0 0 0 0 0 0 0 0 0 0 0 0 0 0 0 0 0 0 0 0 0 0 0 0 0 0 0 0 0 0 0 0]\n",
      "Q_values : [ 2.2078743  2.0157204  0.6627574 -0.4991839]\n",
      "Step #100.00 (0ms ?*RT. ?UPS, TraCI: 30ms, vehicles TOT 33 ACT 0 BUF 0)                    \n",
      "episode : 73\n",
      " Retrying in 1 seconds\n"
     ]
    },
    {
     "name": "stderr",
     "output_type": "stream",
     "text": [
      "Warning: Environment variable SUMO_HOME is not set properly, disabling XML validation. Set 'auto' or 'always' for web lookups.\n"
     ]
    },
    {
     "name": "stdout",
     "output_type": "stream",
     "text": [
      "state : [0 0 0 0 0 0 0 0 0 0 0 0 0 0 0 0 0 0 0 0 0 0 0 0 0 0 0 0 0 0 0 0 0 0 0 0]\n",
      "Q_values : [1.9421601  2.863077   0.40975976 1.3167977 ]\n",
      "state : [0 0 0 0 0 0 0 0 0 0 0 0 0 0 0 0 0 0 0 0 0 0 0 0 0 0 0 0 0 0 0 0 0 0 0 0]\n",
      "Q_values : [2.5203128 1.9174908 0.5260365 0.9950936]\n",
      "state : [0 0 0 0 0 0 0 0 0 0 0 0 0 0 0 0 0 0 0 0 0 0 0 0 0 0 0 0 0 0 0 0 0 0 0 0]\n",
      "Q_values : [ 2.102397   1.5617067 -0.9010463  1.030993 ]\n",
      "state : [0 0 0 0 0 0 0 0 0 0 0 0 0 0 1 0 1 0 0 0 0 0 0 0 0 0 0 0 0 0 0 0 0 0 0 0]\n",
      "Q_values : [ 0.8259149  1.7078656 -0.776634   1.020011 ]\n",
      "state : [0 0 0 0 0 0 0 0 0 0 0 0 0 0 0 0 2 2 0 0 0 0 0 0 0 0 0 0 0 0 0 0 0 0 0 0]\n",
      "Q_values : [ 1.7181594   2.4057617  -0.19474411 -0.32413793]\n",
      "state : [0 0 0 0 0 0 0 0 0 0 0 0 0 0 0 0 4 4 0 0 0 0 0 0 0 0 0 0 0 0 0 0 0 0 0 0]\n",
      "Q_values : [ 2.9459372   2.443874    0.28841925 -0.23455381]\n",
      "state : [0 0 0 0 0 0 0 0 0 0 0 0 0 0 0 0 6 5 0 0 0 0 1 1 0 0 0 0 0 0 0 0 0 0 0 0]\n",
      "Q_values : [2.7593582  2.9772892  0.9506302  0.02803493]\n",
      "state : [0 0 0 0 0 0 0 0 0 0 0 0 0 0 0 0 6 6 0 0 0 0 2 1 0 0 0 0 0 0 0 0 0 0 0 0]\n",
      "Q_values : [ 2.989407    2.2504044   0.4544022  -0.14012241]\n",
      "state : [0 0 0 0 0 0 0 0 0 0 0 0 0 0 0 0 6 6 0 0 0 0 4 4 0 0 0 0 0 0 0 0 0 0 0 0]\n",
      "Q_values : [ 2.9159026   1.7921249  -1.3552053   0.89446354]\n",
      "state : [0 0 0 0 0 0 0 0 0 0 0 0 0 0 0 0 6 6 0 0 0 0 4 4 0 0 0 0 0 0 0 0 0 0 0 0]\n",
      "Q_values : [ 2.1995     2.8030472 -1.8544629  1.0676882]\n",
      "state : [0 0 0 0 0 0 0 0 0 0 0 0 0 0 0 0 0 2 0 0 0 0 0 0 0 0 0 0 0 0 0 0 0 0 0 0]\n",
      "Q_values : [ 2.5228987   1.5767663   0.42987323 -1.1175945 ]\n",
      "state : [0 0 0 0 0 0 0 0 0 0 0 0 0 0 0 0 0 2 0 0 0 0 0 0 0 0 0 0 0 0 0 0 0 0 0 0]\n",
      "Q_values : [2.505342   2.1735759  1.1919942  0.30875516]\n",
      "Step #100.00 (0ms ?*RT. ?UPS, TraCI: 29ms, vehicles TOT 33 ACT 2 BUF 0)                    \n",
      "episode : 74\n",
      " Retrying in 1 seconds\n"
     ]
    },
    {
     "name": "stderr",
     "output_type": "stream",
     "text": [
      "Warning: Environment variable SUMO_HOME is not set properly, disabling XML validation. Set 'auto' or 'always' for web lookups.\n"
     ]
    },
    {
     "name": "stdout",
     "output_type": "stream",
     "text": [
      "state : [0 0 0 0 0 0 0 0 0 0 0 0 0 0 0 0 0 0 0 0 0 0 0 0 0 0 0 0 0 0 0 0 0 0 0 0]\n",
      "Q_values : [1.576151   2.3393574  1.6260092  0.51264596]\n",
      "state : [0 0 0 0 0 0 0 0 0 0 0 0 0 0 0 0 0 0 0 0 0 0 0 0 0 0 0 0 0 0 0 0 0 0 0 0]\n",
      "Q_values : [2.7024517  2.2509522  0.34993744 0.4846542 ]\n",
      "state : [0 0 0 0 0 0 0 0 0 0 0 0 0 0 0 0 1 1 0 0 0 0 0 0 0 0 0 0 0 0 0 0 0 0 0 0]\n",
      "Q_values : [ 1.2021762  1.8812948 -1.3706396 -0.1916151]\n",
      "state : [0 0 0 0 0 0 0 0 0 0 0 0 0 0 0 0 1 2 0 0 0 0 0 0 0 0 0 0 0 0 0 0 0 0 0 0]\n",
      "Q_values : [ 1.1433854  1.5516498 -1.2637041 -0.6645868]\n",
      "state : [0 0 0 0 0 0 0 0 0 0 0 0 0 0 0 0 0 2 0 0 0 0 0 1 0 0 0 0 0 0 0 0 0 0 0 0]\n",
      "Q_values : [ 2.3108025   1.498577   -0.22794509  0.92836404]\n",
      "state : [0 0 0 0 0 0 0 0 0 0 0 0 0 0 0 0 0 2 0 0 0 0 0 1 0 0 0 0 0 0 0 0 0 0 0 0]\n",
      "Q_values : [ 2.1969392   3.135757   -0.16576672  1.3610997 ]\n",
      "state : [0 0 0 0 0 0 0 0 0 0 0 0 0 0 0 0 0 2 0 0 0 0 0 1 0 0 0 0 0 0 0 0 0 0 0 0]\n",
      "Q_values : [3.0977497 3.3558    0.8478854 0.7231755]\n",
      "state : [0 0 0 0 0 0 0 0 0 0 0 0 0 0 0 0 0 2 0 0 0 0 0 1 0 0 0 0 0 0 0 0 0 0 0 0]\n",
      "Q_values : [ 3.5402126  3.2690492  1.6315955 -1.0705836]\n",
      "Step #100.00 (0ms ?*RT. ?UPS, TraCI: 29ms, vehicles TOT 33 ACT 3 BUF 0)                    \n",
      "episode : 75\n",
      " Retrying in 1 seconds\n"
     ]
    },
    {
     "name": "stderr",
     "output_type": "stream",
     "text": [
      "Warning: Environment variable SUMO_HOME is not set properly, disabling XML validation. Set 'auto' or 'always' for web lookups.\n"
     ]
    },
    {
     "name": "stdout",
     "output_type": "stream",
     "text": [
      "state : [0 0 0 0 0 0 0 0 0 0 0 0 0 0 0 0 1 1 0 0 0 0 0 0 0 0 0 0 0 0 0 0 0 0 0 0]\n",
      "Q_values : [ 1.4940164   1.6062086  -0.44037914 -0.82328486]\n",
      "state : [0 0 0 0 0 0 0 0 0 0 0 0 0 0 0 0 2 1 0 0 0 0 0 0 0 0 0 0 0 0 0 0 0 0 0 0]\n",
      "Q_values : [ 1.1491889  1.9849203 -1.2798193 -1.1564763]\n",
      "state : [0 0 0 0 0 0 0 0 0 0 0 0 0 0 0 0 4 3 0 0 0 0 0 0 0 0 0 0 0 0 0 0 0 0 0 0]\n",
      "Q_values : [ 1.4833312  2.220301  -1.2346652 -1.5141032]\n",
      "state : [0 0 0 0 0 0 0 0 0 0 0 0 0 0 0 0 6 4 0 0 0 0 1 1 0 0 0 0 0 0 0 0 0 0 0 0]\n",
      "Q_values : [ 1.8915589  3.140193  -1.8061755 -1.13058  ]\n",
      "state : [0 0 0 0 0 0 0 0 0 0 0 0 0 0 0 0 6 0 0 0 0 0 4 0 0 0 0 0 0 0 0 0 0 0 0 0]\n",
      "Q_values : [2.6880686  1.8991429  0.77194476 1.3640599 ]\n",
      "state : [0 0 0 0 0 0 0 0 0 0 0 0 0 0 0 0 6 1 0 0 0 0 4 0 0 0 0 0 0 0 0 0 0 0 0 0]\n",
      "Q_values : [2.9048934 2.3260474 0.0888617 2.3424778]\n",
      "state : [0 0 0 0 0 0 0 0 0 0 0 0 0 0 0 0 6 1 0 0 0 0 4 0 0 0 0 0 0 0 0 0 0 0 0 0]\n",
      "Q_values : [2.78061   2.4945288 0.364851  1.3991318]\n",
      "state : [0 0 0 0 0 0 0 0 0 0 0 0 0 0 0 0 6 1 0 0 0 0 4 0 0 0 0 0 0 0 0 0 0 0 0 0]\n",
      "Q_values : [2.6412039  1.7601415  0.30655074 1.092413  ]\n",
      "state : [0 0 0 0 0 0 0 0 0 0 0 0 0 0 0 0 6 1 0 0 0 0 4 0 0 0 0 0 0 0 0 0 0 0 0 0]\n",
      "Q_values : [1.8835552  1.9658511  0.17869568 0.4032457 ]\n",
      "Step #100.00 (0ms ?*RT. ?UPS, TraCI: 29ms, vehicles TOT 33 ACT 11 BUF 0)                   \n",
      "episode : 76\n",
      " Retrying in 1 seconds\n"
     ]
    },
    {
     "name": "stderr",
     "output_type": "stream",
     "text": [
      "Warning: Environment variable SUMO_HOME is not set properly, disabling XML validation. Set 'auto' or 'always' for web lookups.\n"
     ]
    },
    {
     "name": "stdout",
     "output_type": "stream",
     "text": [
      "state : [0 0 0 0 0 0 0 0 0 0 0 0 0 0 0 0 0 0 0 0 0 0 0 0 0 0 0 0 0 0 0 0 0 0 0 0]\n",
      "Q_values : [ 2.6815333   1.9390079   0.05538177 -1.836818  ]\n",
      "state : [0 0 0 0 0 0 0 0 0 0 0 0 0 0 0 0 0 0 0 0 0 0 0 0 0 0 0 0 0 0 0 0 0 0 0 0]\n",
      "Q_values : [ 2.4490962   2.6586866  -0.32130504  0.26591134]\n",
      "state : [0 0 0 0 0 0 0 0 0 0 0 0 0 1 0 0 1 0 0 0 0 0 0 0 0 0 0 0 0 0 0 0 0 0 0 0]\n",
      "Q_values : [ 2.4045925  2.5710068 -1.151149   0.360713 ]\n",
      "state : [0 0 0 0 0 0 0 0 0 0 0 0 0 1 0 0 0 2 0 0 0 0 0 0 0 0 0 0 0 0 0 0 0 0 0 0]\n",
      "Q_values : [ 1.3759882  1.869109  -0.6834464 -1.7261605]\n",
      "state : [0 0 0 0 0 0 0 0 0 0 0 0 0 1 0 0 1 4 0 0 0 0 0 0 0 0 0 0 0 0 0 0 0 0 0 0]\n",
      "Q_values : [ 1.6489816   1.7468287   0.39621854 -1.5454264 ]\n",
      "state : [0 0 0 0 0 0 0 0 0 0 0 0 0 1 0 0 2 5 0 0 0 0 1 1 0 0 0 0 0 0 0 0 0 0 0 0]\n",
      "Q_values : [ 1.5775135  1.6893789  0.7253983 -1.5797825]\n",
      "state : [0 0 0 0 0 0 0 0 0 0 0 0 0 1 0 0 2 6 0 0 0 0 3 3 0 0 0 0 0 0 0 0 0 0 0 0]\n",
      "Q_values : [ 1.6157577  2.4162626  0.9298105 -2.4492202]\n",
      "state : [0 0 0 0 0 0 0 0 0 0 0 0 0 1 0 0 0 6 0 0 0 0 0 4 0 0 0 0 0 0 0 0 0 0 0 0]\n",
      "Q_values : [3.5566907  2.0215788  0.28946638 0.0802505 ]\n",
      "state : [0 0 0 0 0 0 0 0 0 0 0 0 0 0 0 0 0 1 0 0 0 0 0 0 0 0 0 0 0 0 0 0 0 0 0 0]\n",
      "Q_values : [1.5071973  3.2728217  0.56363916 0.6371887 ]\n",
      "state : [0 0 0 0 0 0 0 0 0 0 0 0 0 0 0 0 0 2 0 0 0 0 0 0 0 0 0 0 0 0 0 0 0 0 0 0]\n",
      "Q_values : [ 1.6974308   2.30457    -0.53556514  0.5015023 ]\n",
      "state : [0 0 0 0 0 0 0 0 0 0 0 0 0 0 0 0 0 2 0 0 0 0 0 0 0 0 0 0 0 0 0 0 0 0 0 0]\n",
      "Q_values : [ 1.5942109   2.0861053  -0.28824806  0.3433931 ]\n",
      "Step #100.00 (0ms ?*RT. ?UPS, TraCI: 29ms, vehicles TOT 33 ACT 2 BUF 0)                    \n",
      "episode : 77\n",
      " Retrying in 1 seconds\n"
     ]
    },
    {
     "name": "stderr",
     "output_type": "stream",
     "text": [
      "Warning: Environment variable SUMO_HOME is not set properly, disabling XML validation. Set 'auto' or 'always' for web lookups.\n"
     ]
    },
    {
     "name": "stdout",
     "output_type": "stream",
     "text": [
      "state : [0 0 0 0 0 0 0 0 0 0 0 0 0 0 0 0 0 0 0 0 0 0 0 0 0 0 0 0 0 0 0 0 0 0 0 0]\n",
      "Q_values : [ 2.1350956   0.9923334  -0.04900551 -0.43589115]\n",
      "state : [0 0 0 0 0 0 0 0 0 0 0 0 0 0 0 0 0 0 0 0 0 0 0 0 0 0 0 0 0 0 0 0 0 0 0 0]\n",
      "Q_values : [ 2.5380297   2.5636144   0.14477396 -0.06892085]\n"
     ]
    },
    {
     "name": "stderr",
     "output_type": "stream",
     "text": [
      "Warning: Vehicle 'veh_2' performs emergency stop at the end of lane 'end1_junction_2' because of a red traffic light (decel=-20.39, offset=0.10), time=21.24.\n"
     ]
    },
    {
     "name": "stdout",
     "output_type": "stream",
     "text": [
      "state : [0 0 0 0 0 0 0 0 0 0 0 0 0 1 0 0 1 1 0 0 0 0 0 0 0 0 0 0 0 0 0 0 0 0 0 0]         \n",
      "Q_values : [2.3091662  2.7688518  0.02241516 0.04919147]\n",
      "state : [0 0 0 0 0 0 0 0 0 0 0 0 0 1 0 0 2 1 0 0 0 0 0 0 0 0 0 0 0 0 0 0 0 0 0 0]\n",
      "Q_values : [ 2.3455622   2.4704776   0.05553842 -0.2419889 ]\n",
      "state : [0 0 0 0 0 0 0 0 0 0 0 0 0 1 0 0 4 3 0 0 0 0 0 0 0 0 0 0 0 0 0 0 0 0 0 0]\n",
      "Q_values : [ 2.8215365   2.195104    0.99337554 -0.45839596]\n",
      "state : [0 0 0 0 0 0 0 0 0 0 0 0 0 0 0 0 6 4 0 0 0 0 1 1 0 0 0 0 0 0 0 0 0 0 0 0]\n",
      "Q_values : [ 3.428277   2.3698888  1.5284431 -1.2982666]\n",
      "state : [0 0 0 0 0 0 0 0 0 0 0 0 0 0 0 0 6 5 0 0 0 0 2 1 0 0 0 0 0 0 0 0 0 0 0 0]\n",
      "Q_values : [ 3.3177204  2.9359279  2.245524  -1.4511731]\n",
      "state : [0 0 0 0 0 0 0 0 0 0 0 0 0 0 0 0 6 5 0 0 0 0 3 3 0 0 0 0 0 0 0 0 0 0 0 0]\n",
      "Q_values : [3.1709075  3.3027964  2.633525   0.16062212]\n",
      "state : [0 0 0 0 0 0 0 0 0 0 0 0 0 0 0 0 0 5 0 0 0 0 0 4 0 0 0 0 0 0 0 0 0 0 0 0]\n",
      "Q_values : [2.2044978  1.8078525  0.7214253  0.40817976]\n",
      "state : [0 0 0 0 0 0 0 0 0 0 0 0 0 0 0 0 2 5 0 0 0 0 0 4 0 0 0 0 0 0 0 0 0 0 0 0]\n",
      "Q_values : [ 1.49083     1.7123895  -0.26779628  0.5382855 ]\n",
      "state : [0 0 0 0 0 0 0 0 0 0 0 0 0 0 0 0 2 5 0 0 0 0 0 4 0 0 0 0 0 0 0 0 0 0 0 0]\n",
      "Q_values : [ 2.0375433   1.8618025  -0.76282096  0.04540062]\n",
      "state : [0 0 0 0 0 0 0 0 0 0 0 0 0 0 0 0 2 5 0 0 0 0 0 4 0 0 0 0 0 0 0 0 0 0 0 0]\n",
      "Q_values : [ 1.6938814   1.1122924  -0.88168263 -0.5317216 ]\n",
      "Step #100.00 (0ms ?*RT. ?UPS, TraCI: 29ms, vehicles TOT 33 ACT 11 BUF 0)                   \n",
      "episode : 78\n",
      " Retrying in 1 seconds\n"
     ]
    },
    {
     "name": "stderr",
     "output_type": "stream",
     "text": [
      "Warning: Environment variable SUMO_HOME is not set properly, disabling XML validation. Set 'auto' or 'always' for web lookups.\n"
     ]
    },
    {
     "name": "stdout",
     "output_type": "stream",
     "text": [
      "state : [0 0 0 0 0 0 0 0 0 0 0 0 0 0 0 0 0 0 0 0 0 0 0 0 0 0 0 0 0 0 0 0 0 0 0 0]\n",
      "Q_values : [2.6830559  2.7422028  0.24909854 0.08737946]\n",
      "state : [0 0 0 0 0 0 0 0 0 0 0 0 0 0 0 0 0 0 0 0 0 0 0 0 0 0 0 0 0 0 0 0 0 0 0 0]\n",
      "Q_values : [ 2.9554975   3.1165981   0.63144875 -0.09508944]\n",
      "state : [0 0 0 0 0 0 0 0 0 0 0 0 0 0 0 0 0 0 0 0 0 0 0 0 0 0 0 0 0 0 0 0 0 0 0 0]\n",
      "Q_values : [ 2.9282598  3.5881698  1.1894352 -0.5021558]\n",
      "state : [0 0 0 0 0 0 0 0 0 0 0 0 0 0 0 0 0 0 0 0 0 0 0 0 0 0 0 0 0 0 0 0 0 0 0 0]\n",
      "Q_values : [ 1.5406566  2.4184647  1.8822733 -1.0772705]\n",
      "state : [0 0 0 0 0 0 0 0 0 0 0 0 0 1 0 0 0 1 0 0 0 0 0 0 0 0 0 0 0 0 0 0 0 0 0 0]\n",
      "Q_values : [ 2.3165927   2.4695292   1.8624952  -0.46822786]\n",
      "Step #31.00 (0ms ?*RT. ?UPS, TraCI: 0ms, vehicles TOT 31 ACT 31 BUF 1)                    \r"
     ]
    },
    {
     "name": "stderr",
     "output_type": "stream",
     "text": [
      "Warning: Vehicle 'veh_10' performs emergency stop at the end of lane 'end2_junction_1' because of a red traffic light (decel=-14.28, offset=0.04), time=31.22.\n"
     ]
    },
    {
     "name": "stdout",
     "output_type": "stream",
     "text": [
      "state : [0 0 0 0 0 0 0 0 0 0 0 0 0 0 0 0 2 4 0 0 0 0 0 0 0 0 0 0 0 0 0 0 0 0 0 0]\n",
      "Q_values : [1.884148   0.6802206  0.68099713 0.50180197]\n",
      "state : [0 0 0 0 0 0 0 0 0 0 0 0 0 0 0 0 4 5 0 0 0 0 1 1 0 0 0 0 0 0 0 0 0 0 0 0]\n",
      "Q_values : [ 1.7245132   2.4750004  -0.24460149  0.65224385]\n",
      "state : [0 0 0 0 0 0 0 0 0 0 0 0 0 0 0 0 4 6 0 0 0 0 2 1 0 0 0 0 0 0 0 0 0 0 0 0]\n",
      "Q_values : [ 2.3914332   2.5315766  -1.3025424   0.28200316]\n",
      "state : [0 0 0 0 0 0 0 0 0 0 0 0 0 0 0 0 4 0 0 0 0 0 4 0 0 0 0 0 0 0 0 0 0 0 0 0]\n",
      "Q_values : [ 1.9335939  1.7632006 -1.8095913  0.7244866]\n",
      "state : [0 0 0 0 0 0 0 0 0 0 0 0 0 0 0 0 4 1 0 0 0 0 4 0 0 0 0 0 0 0 0 0 0 0 0 0]\n",
      "Q_values : [ 1.854364   2.877485  -2.3476179  0.9474807]\n",
      "state : [0 0 0 0 0 0 0 0 0 0 0 0 0 0 0 0 4 2 0 0 0 0 4 0 0 0 0 0 0 0 0 0 0 0 0 0]\n",
      "Q_values : [ 2.7326999   3.212072   -1.4753702   0.60061693]\n",
      "state : [0 0 0 0 0 0 0 0 0 0 0 0 0 0 0 0 4 2 0 0 0 0 4 0 0 0 0 0 0 0 0 0 0 0 0 0]\n",
      "Q_values : [ 3.777771    1.7170607  -0.37390375 -0.6930561 ]\n",
      "Step #100.00 (0ms ?*RT. ?UPS, TraCI: 30ms, vehicles TOT 33 ACT 10 BUF 0)                   \n",
      "episode : 79\n",
      " Retrying in 1 seconds\n"
     ]
    },
    {
     "name": "stderr",
     "output_type": "stream",
     "text": [
      "Warning: Environment variable SUMO_HOME is not set properly, disabling XML validation. Set 'auto' or 'always' for web lookups.\n"
     ]
    },
    {
     "name": "stdout",
     "output_type": "stream",
     "text": [
      "state : [0 0 0 0 0 0 0 0 0 0 0 0 0 0 0 0 0 0 0 0 0 0 0 0 0 0 0 0 0 0 0 0 0 0 0 0]\n",
      "Q_values : [ 2.5828972  1.871969   1.0470638 -0.4880576]\n",
      "state : [0 0 0 0 0 0 0 0 0 0 0 0 0 0 0 0 0 0 0 0 0 0 0 0 0 0 0 0 0 0 0 0 0 0 0 0]\n",
      "Q_values : [ 1.7911719   1.9861602   0.31043077 -0.69364095]\n",
      "state : [0 0 0 0 0 0 0 0 0 0 0 0 0 0 0 0 0 0 0 0 0 0 0 0 0 0 0 0 0 0 0 0 0 0 0 0]\n",
      "Q_values : [ 0.508649    0.9214022   0.55179334 -0.2882483 ]\n",
      "state : [0 0 0 0 0 0 0 0 0 0 0 0 0 0 0 0 0 0 0 0 0 0 0 0 0 0 0 0 0 0 0 0 0 0 0 0]\n",
      "Q_values : [0.77832    1.2961862  0.27702808 0.30806136]\n",
      "state : [0 0 0 0 0 0 0 0 0 0 0 0 0 0 0 0 0 0 0 0 0 0 0 0 0 0 0 0 0 0 0 0 0 0 0 0]\n",
      "Q_values : [2.292768   1.8534578  0.03222585 0.44354963]\n",
      "state : [0 0 0 0 0 0 0 0 0 0 0 0 0 0 1 0 1 0 0 0 0 0 0 0 0 0 0 0 0 0 0 0 0 0 0 0]         \n",
      "Q_values : [ 2.7817497e+00  2.2653360e+00  1.4119363e-01 -5.0973892e-04]\n"
     ]
    },
    {
     "name": "stderr",
     "output_type": "stream",
     "text": [
      "Warning: Vehicle 'veh_2' performs emergency stop at the end of lane 'end1_junction_2' because of a red traffic light (decel=-20.39, offset=0.10), time=21.24.\n"
     ]
    },
    {
     "name": "stdout",
     "output_type": "stream",
     "text": [
      "state : [0 0 0 0 0 0 0 0 0 0 0 0 0 0 1 0 1 1 0 0 0 0 0 0 0 0 0 0 0 0 0 0 0 0 0 0]\n",
      "Q_values : [ 2.563927    1.9518532  -0.39245224  0.12968874]\n",
      "state : [0 0 0 0 0 0 0 0 0 0 0 0 0 0 1 0 2 2 0 0 0 0 0 0 0 0 0 0 0 0 0 0 0 0 0 0]\n",
      "Q_values : [ 2.069136    3.1400216  -0.33931613  0.65981984]\n",
      "state : [0 0 0 0 0 0 0 0 0 0 0 0 0 0 0 0 6 0 0 0 0 0 3 0 0 0 0 0 0 0 0 0 0 0 0 0]\n",
      "Q_values : [ 1.1314619  1.8069221 -2.3220773 -1.6755738]\n",
      "state : [0 0 0 0 0 0 0 0 0 0 0 0 0 0 0 0 6 0 0 0 0 0 4 0 0 0 0 0 0 0 0 0 0 0 0 0]\n",
      "Q_values : [ 1.9289567  1.3682956 -2.7655694 -1.6301973]\n",
      "state : [0 0 0 0 0 0 0 0 0 0 0 0 0 0 0 0 6 0 0 0 0 0 4 0 0 0 0 0 0 0 0 0 0 0 0 0]\n",
      "Q_values : [ 2.0561085   1.6715533  -1.75352    -0.60862064]\n",
      "state : [0 0 0 0 0 0 0 0 0 0 0 0 0 0 0 0 6 0 0 0 0 0 4 0 0 0 0 0 0 0 0 0 0 0 0 0]\n",
      "Q_values : [ 2.398973    2.1150246  -1.4650426   0.10527635]\n",
      "state : [0 0 0 0 0 0 0 0 0 0 0 0 0 0 0 0 6 0 0 0 0 0 4 0 0 0 0 0 0 0 0 0 0 0 0 0]\n",
      "Q_values : [2.5352263  1.8904659  0.953949   0.31739426]\n",
      "Step #100.00 (0ms ?*RT. ?UPS, TraCI: 30ms, vehicles TOT 33 ACT 10 BUF 0)                   \n",
      "episode : 80\n",
      " Retrying in 1 seconds\n"
     ]
    },
    {
     "name": "stderr",
     "output_type": "stream",
     "text": [
      "Warning: Environment variable SUMO_HOME is not set properly, disabling XML validation. Set 'auto' or 'always' for web lookups.\n"
     ]
    },
    {
     "name": "stdout",
     "output_type": "stream",
     "text": [
      "state : [0 0 0 0 0 0 0 0 0 0 0 0 0 0 0 0 0 0 0 0 0 0 0 0 0 0 0 0 0 0 0 0 0 0 0 0]\n",
      "Q_values : [ 1.8358074   2.556797    2.4405847  -0.36309695]\n",
      "state : [0 0 0 0 0 0 0 0 0 0 0 0 0 0 0 0 0 0 0 0 0 0 0 0 0 0 0 0 0 0 0 0 0 0 0 0]\n",
      "Q_values : [ 2.2722895  3.9447405  2.243783  -1.2235084]\n",
      "state : [0 0 0 0 0 0 0 0 0 0 0 0 0 0 0 0 0 0 0 0 0 0 0 0 0 0 0 0 0 0 0 0 0 0 0 0]\n",
      "Q_values : [ 3.388964    3.7250395   1.9607899  -0.66248035]\n"
     ]
    },
    {
     "name": "stderr",
     "output_type": "stream",
     "text": [
      "Warning: Vehicle 'veh_2' performs emergency stop at the end of lane 'end1_junction_2' because of a red traffic light (decel=-20.39, offset=0.10), time=21.24.\n",
      "Warning: Vehicle 'veh_10' performs emergency stop at the end of lane 'end2_junction_1' because of a red traffic light (decel=-22.33, offset=0.06), time=30.42.\n"
     ]
    },
    {
     "name": "stdout",
     "output_type": "stream",
     "text": [
      "state : [0 0 0 0 0 0 0 0 0 0 0 0 0 1 1 0 0 1 0 0 0 0 0 0 0 0 0 0 0 0 0 0 0 0 0 0]         \n",
      "Q_values : [ 2.3438344   3.4347873   1.3417745  -0.71183133]\n",
      "state : [0 0 0 0 0 0 0 0 0 0 0 0 0 1 0 0 4 0 0 0 0 0 1 0 0 0 0 0 0 0 0 0 0 0 0 0]         \n",
      "Q_values : [2.2295642 1.0062218 0.2526238 1.3563397]\n",
      "state : [0 0 0 0 0 0 0 0 0 0 0 0 0 0 0 0 4 0 0 0 0 0 2 1 0 0 0 0 0 0 0 0 0 0 0 0]         \n",
      "Q_values : [ 1.8989797   1.1564379  -0.19622731 -0.08127904]\n",
      "state : [0 0 0 0 0 0 0 0 0 0 0 0 0 0 0 0 4 0 0 0 0 0 3 2 0 0 0 0 0 0 0 0 0 0 0 0]\n",
      "Q_values : [ 1.9959555   1.0929228  -0.392339   -0.96652865]\n"
     ]
    },
    {
     "name": "stderr",
     "output_type": "stream",
     "text": [
      "Warning: Vehicle 'veh_26' performs emergency stop at the end of lane 'end4_junction_2' because of a red traffic light (decel=-19.48, offset=0.09), time=45.88.\n"
     ]
    },
    {
     "name": "stdout",
     "output_type": "stream",
     "text": [
      "state : [0 0 0 0 0 0 0 0 0 0 0 0 0 0 0 0 4 0 0 0 0 0 4 3 0 0 0 0 0 0 0 0 0 0 0 0]\n",
      "Q_values : [ 2.0556822   2.9299195  -0.32866883 -1.3939397 ]\n",
      "state : [0 0 0 0 0 0 0 0 0 0 0 0 0 0 0 0 4 0 0 0 0 0 4 3 0 0 0 0 0 0 0 0 0 0 0 0]\n",
      "Q_values : [ 2.4288785  3.4190621 -1.1190779 -1.7482295]\n",
      "state : [0 0 0 0 0 0 0 0 0 0 0 0 0 0 0 0 0 0 0 0 0 0 0 3 0 0 0 0 0 0 0 0 0 0 0 0]\n",
      "Q_values : [ 1.3102763  1.6025585 -0.665498  -1.3125572]\n",
      "Step #100.00 (0ms ?*RT. ?UPS, TraCI: 29ms, vehicles TOT 33 ACT 11 BUF 0)                   \n",
      "episode : 81\n",
      " Retrying in 1 seconds\n"
     ]
    },
    {
     "name": "stderr",
     "output_type": "stream",
     "text": [
      "Warning: Environment variable SUMO_HOME is not set properly, disabling XML validation. Set 'auto' or 'always' for web lookups.\n"
     ]
    },
    {
     "name": "stdout",
     "output_type": "stream",
     "text": [
      "state : [0 0 0 0 0 0 0 0 0 0 0 0 0 0 0 0 0 0 0 0 0 0 0 0 0 0 0 0 0 0 0 0 0 0 0 0]\n",
      "Q_values : [ 0.8975742   1.7239968   0.14600015 -1.6188436 ]\n"
     ]
    },
    {
     "name": "stderr",
     "output_type": "stream",
     "text": [
      "Warning: Vehicle 'veh_2' performs emergency stop at the end of lane 'end1_junction_2' because of a red traffic light (decel=-20.39, offset=0.10), time=21.24.\n"
     ]
    },
    {
     "name": "stdout",
     "output_type": "stream",
     "text": [
      "state : [0 0 0 0 0 0 0 0 0 0 0 0 0 1 0 0 5 5 0 0 0 0 1 1 0 0 0 0 0 0 0 0 0 0 0 0]         \n",
      "Q_values : [3.5871546 3.3647382 2.1911035 1.8014852]\n",
      "state : [0 0 0 0 0 0 0 0 0 0 0 0 0 0 0 0 5 6 0 0 0 0 2 1 0 0 0 0 0 0 0 0 0 0 0 0]\n",
      "Q_values : [3.946308  3.2865615 2.7409525 0.9583843]\n",
      "state : [0 0 0 0 0 0 0 0 0 0 0 0 0 0 0 0 0 6 0 0 0 0 0 4 0 0 0 0 0 0 0 0 0 0 0 0]\n",
      "Q_values : [ 3.4502864   3.5907946   2.0884166  -0.02755141]\n",
      "state : [0 0 0 0 0 0 0 0 0 0 0 0 0 0 0 0 1 6 0 0 0 0 0 4 0 0 0 0 0 0 0 0 0 0 0 0]         \n",
      "Q_values : [ 2.5037973   3.2607722   0.31737518 -0.3218565 ]\n"
     ]
    },
    {
     "name": "stderr",
     "output_type": "stream",
     "text": [
      "Warning: Vehicle 'veh_19' performs emergency stop at the end of lane 'end2_junction_1' because of a red traffic light (decel=-10.89, offset=0.00), time=60.79.\n"
     ]
    },
    {
     "name": "stdout",
     "output_type": "stream",
     "text": [
      "state : [0 0 0 0 0 0 0 0 0 0 0 0 0 0 0 0 0 6 0 0 0 0 0 4 0 0 0 0 0 0 0 0 0 0 0 0]\n",
      "Q_values : [ 0.74821186  0.6392206  -0.17295623 -0.6873934 ]\n",
      "state : [0 0 0 0 0 0 0 0 0 0 0 0 0 0 0 0 0 6 0 0 0 0 0 4 0 0 0 0 0 0 0 0 0 0 0 0]\n",
      "Q_values : [ 0.58955514  1.3968718  -0.7388916  -1.7225008 ]\n",
      "state : [0 0 0 0 0 0 0 0 0 0 0 0 0 0 0 0 0 6 0 0 0 0 0 4 0 0 0 0 0 0 0 0 0 0 0 0]\n",
      "Q_values : [ 1.4664422  1.135199  -0.9185841 -1.3773136]\n",
      "state : [0 0 0 0 0 0 0 0 0 0 0 0 0 0 0 0 0 6 0 0 0 0 0 4 0 0 0 0 0 0 0 0 0 0 0 0]\n",
      "Q_values : [ 2.6412659   2.2745323   0.17013502 -0.8519521 ]\n",
      "Step #100.00 (0ms ?*RT. ?UPS, TraCI: 29ms, vehicles TOT 33 ACT 10 BUF 0)                   \n",
      "episode : 82\n",
      " Retrying in 1 seconds\n"
     ]
    },
    {
     "name": "stderr",
     "output_type": "stream",
     "text": [
      "Warning: Environment variable SUMO_HOME is not set properly, disabling XML validation. Set 'auto' or 'always' for web lookups.\n"
     ]
    },
    {
     "name": "stdout",
     "output_type": "stream",
     "text": [
      "state : [0 0 0 0 0 0 0 0 0 0 0 0 0 0 0 0 0 0 0 0 0 0 0 0 0 0 0 0 0 0 0 0 0 0 0 0]\n",
      "Q_values : [ 2.0261602   3.0491462   0.23570943 -0.03216982]\n",
      "state : [0 0 0 0 0 0 0 0 0 0 0 0 0 0 0 0 0 0 0 0 0 0 0 0 0 0 0 0 0 0 0 0 0 0 0 0]\n",
      "Q_values : [ 1.7201359   2.408514   -1.6223655   0.29006886]\n",
      "state : [0 0 0 0 0 0 0 0 0 0 0 0 0 0 0 0 0 0 0 0 0 0 0 0 0 0 0 0 0 0 0 0 0 0 0 0]\n",
      "Q_values : [ 1.5519284   2.6777225  -0.21350026  0.69190526]\n",
      "state : [0 0 0 0 0 0 0 0 0 0 0 0 0 0 0 0 0 0 0 0 0 0 0 0 0 0 0 0 0 0 0 0 0 0 0 0]\n",
      "Q_values : [2.0834823  1.7197801  0.11499381 0.6600318 ]\n",
      "state : [0 0 0 0 0 0 0 0 0 0 0 0 0 0 1 0 1 0 0 0 0 0 0 0 0 0 0 0 0 0 0 0 0 0 0 0]         \n",
      "Q_values : [2.069437   1.7030743  0.47375512 0.05026674]\n"
     ]
    },
    {
     "name": "stderr",
     "output_type": "stream",
     "text": [
      "Warning: Vehicle 'veh_2' performs emergency stop at the end of lane 'end1_junction_2' because of a red traffic light (decel=-20.39, offset=0.10), time=21.24.\n"
     ]
    },
    {
     "name": "stdout",
     "output_type": "stream",
     "text": [
      "state : [0 0 0 0 0 0 0 0 0 0 0 0 0 0 0 0 2 2 0 0 0 0 0 0 0 0 0 0 0 0 0 0 0 0 0 0]\n",
      "Q_values : [ 2.12604    2.311998  -0.1809802 -0.7003224]\n",
      "state : [0 0 0 0 0 0 0 0 0 0 0 0 0 0 0 0 4 4 0 0 0 0 0 0 0 0 0 0 0 0 0 0 0 0 0 0]\n",
      "Q_values : [ 1.5690904   2.4121468   0.23153424 -0.37419152]\n",
      "state : [0 0 0 0 0 0 0 0 0 0 0 0 0 0 0 0 6 6 0 0 0 0 2 1 0 0 0 0 0 0 0 0 0 0 0 0]\n",
      "Q_values : [ 0.93755686  1.7691858  -0.02362251 -1.5361896 ]\n",
      "state : [0 0 0 0 0 0 0 0 0 0 0 0 0 0 0 0 6 6 0 0 0 0 3 3 0 0 0 0 0 0 0 0 0 0 0 0]\n",
      "Q_values : [ 2.8552437   0.7717991  -0.02390885 -2.4061575 ]\n",
      "state : [0 0 0 0 0 0 0 0 0 0 0 0 0 0 0 0 6 0 0 0 0 0 4 0 0 0 0 0 0 0 0 0 0 0 0 0]\n",
      "Q_values : [ 2.7818809   3.3145676   0.37726974 -0.56041884]\n",
      "state : [0 0 0 0 0 0 0 0 0 0 0 0 0 0 0 0 6 1 0 0 0 0 4 0 0 0 0 0 0 0 0 0 0 0 0 0]\n",
      "Q_values : [3.3314748 3.0201511 0.5333991 0.7556486]\n",
      "state : [0 0 0 0 0 0 0 0 0 0 0 0 0 0 0 0 0 2 0 0 0 0 0 0 0 0 0 0 0 0 0 0 0 0 0 0]\n",
      "Q_values : [ 3.446844    1.6228776  -0.14844537  1.6718619 ]\n",
      "state : [0 0 0 0 0 0 0 0 0 0 0 0 0 0 0 0 2 2 0 0 0 0 0 0 0 0 0 0 0 0 0 0 0 0 0 0]         \n",
      "Q_values : [ 2.3030047   2.8372407  -1.1110616   0.36337066]\n"
     ]
    },
    {
     "name": "stderr",
     "output_type": "stream",
     "text": [
      "Warning: Vehicle 'veh_16' performs emergency stop at the end of lane 'end2_junction_1' because of a red traffic light (decel=-10.36, offset=0.00), time=80.84.\n"
     ]
    },
    {
     "name": "stdout",
     "output_type": "stream",
     "text": [
      "Step #100.00 (0ms ?*RT. ?UPS, TraCI: 32ms, vehicles TOT 33 ACT 4 BUF 0)                    \n",
      "episode : 83\n",
      " Retrying in 1 seconds\n"
     ]
    },
    {
     "name": "stderr",
     "output_type": "stream",
     "text": [
      "Warning: Environment variable SUMO_HOME is not set properly, disabling XML validation. Set 'auto' or 'always' for web lookups.\n"
     ]
    },
    {
     "name": "stdout",
     "output_type": "stream",
     "text": [
      "state : [0 0 0 0 0 0 0 0 0 0 0 0 0 0 0 0 0 0 0 0 0 0 0 0 0 0 0 0 0 0 0 0 0 0 0 0]\n",
      "Q_values : [ 1.7103987   1.6447902   0.93507195 -1.5879874 ]\n",
      "state : [0 0 0 0 0 0 0 0 0 0 0 0 0 0 0 0 0 0 0 0 0 0 0 0 0 0 0 0 0 0 0 0 0 0 0 0]\n",
      "Q_values : [ 2.2951355  1.9328169  0.9298115 -1.3599925]\n",
      "state : [0 0 0 0 0 0 0 0 0 0 0 0 0 1 1 0 0 1 0 0 0 0 0 0 0 0 0 0 0 0 0 0 0 0 0 0]\n",
      "Q_values : [ 2.6690097   2.1085386  -0.4223888  -0.05822706]\n",
      "state : [0 0 0 0 0 0 0 0 0 0 0 0 0 0 1 0 1 1 0 0 0 0 0 0 0 0 0 0 0 0 0 0 0 0 0 0]         \n",
      "Q_values : [ 2.0182147   2.4641263  -0.00412226  0.9843416 ]\n",
      "state : [0 0 0 0 0 0 0 0 0 0 0 0 0 0 0 0 2 3 0 0 0 0 0 0 0 0 0 0 0 0 0 0 0 0 0 0]\n",
      "Q_values : [2.5196426 1.8452495 0.6321621 1.2568712]\n"
     ]
    },
    {
     "name": "stderr",
     "output_type": "stream",
     "text": [
      "Warning: Vehicle 'veh_10' performs emergency stop at the end of lane 'end2_junction_1' because of a red traffic light (decel=-22.33, offset=0.06), time=30.42.\n"
     ]
    },
    {
     "name": "stdout",
     "output_type": "stream",
     "text": [
      "state : [0 0 0 0 0 0 0 0 0 0 0 0 0 0 0 0 4 4 0 0 0 0 1 1 0 0 0 0 0 0 0 0 0 0 0 0]\n",
      "Q_values : [1.8182372 1.5315833 1.2854664 0.7388165]\n",
      "state : [0 0 0 0 0 0 0 0 0 0 0 0 0 0 0 0 4 5 0 0 0 0 2 1 0 0 0 0 0 0 0 0 0 0 0 0]\n",
      "Q_values : [1.447439   2.146778   0.43385363 0.04288697]\n",
      "state : [0 0 0 0 0 0 0 0 0 0 0 0 0 0 0 0 4 5 0 0 0 0 3 3 0 0 0 0 0 0 0 0 0 0 0 0]\n",
      "Q_values : [ 2.3916984   1.3759167  -1.1415834  -0.46204567]\n",
      "state : [0 0 0 0 0 0 0 0 0 0 0 0 0 0 0 0 4 5 0 0 0 0 4 4 0 0 0 0 0 0 0 0 0 0 0 0]\n",
      "Q_values : [ 2.2874422  1.5331429 -1.3998408 -0.9185858]\n",
      "state : [0 0 0 0 0 0 0 0 0 0 0 0 0 0 0 0 4 5 0 0 0 0 4 4 0 0 0 0 0 0 0 0 0 0 0 0]\n",
      "Q_values : [ 1.4893495   2.7420087  -0.8683398  -0.81314754]\n",
      "state : [0 0 0 0 0 0 0 0 0 0 0 0 0 0 0 0 0 1 0 0 0 0 0 0 0 0 0 0 0 0 0 0 0 0 0 0]\n",
      "Q_values : [ 1.4753258   1.5715835  -1.2579293   0.34533286]\n",
      "Step #100.00 (0ms ?*RT. ?UPS, TraCI: 31ms, vehicles TOT 33 ACT 9 BUF 0)                    \n",
      "episode : 84\n",
      " Retrying in 1 seconds\n"
     ]
    },
    {
     "name": "stderr",
     "output_type": "stream",
     "text": [
      "Warning: Environment variable SUMO_HOME is not set properly, disabling XML validation. Set 'auto' or 'always' for web lookups.\n"
     ]
    },
    {
     "name": "stdout",
     "output_type": "stream",
     "text": [
      "state : [0 0 0 0 0 0 0 0 0 0 0 0 0 0 0 0 0 0 0 0 0 0 0 0 0 0 0 0 0 0 0 0 0 0 0 0]\n",
      "Q_values : [ 1.5903988   2.2402725  -0.20918775 -0.6148288 ]\n",
      "state : [0 0 0 0 0 0 0 0 0 0 0 0 0 0 0 0 0 0 0 0 0 0 0 0 0 0 0 0 0 0 0 0 0 0 0 0]\n",
      "Q_values : [ 1.2155561  2.2315302  0.4888208 -0.8516681]\n",
      "state : [0 0 0 0 0 0 0 0 0 0 0 0 0 0 0 0 0 0 0 0 0 0 0 0 0 0 0 0 0 0 0 0 0 0 0 0]\n",
      "Q_values : [ 1.7346854  2.2862816  1.1885217 -0.8266344]\n",
      "state : [0 0 0 0 0 0 0 0 0 0 0 0 0 0 0 0 0 0 0 0 0 0 0 0 0 0 0 0 0 0 0 0 0 0 0 0]\n",
      "Q_values : [ 1.58915    1.9345617  1.8965154 -1.618187 ]\n",
      "Step #21.00 (0ms ?*RT. ?UPS, TraCI: 0ms, vehicles TOT 22 ACT 22 BUF 0)                    \r"
     ]
    },
    {
     "name": "stderr",
     "output_type": "stream",
     "text": [
      "Warning: Vehicle 'veh_2' performs emergency stop at the end of lane 'end1_junction_2' because of a red traffic light (decel=-20.39, offset=0.10), time=21.24.\n"
     ]
    },
    {
     "name": "stdout",
     "output_type": "stream",
     "text": [
      "state : [0 0 0 0 0 0 0 0 0 0 0 0 0 0 1 0 2 2 0 0 0 0 0 0 0 0 0 0 0 0 0 0 0 0 0 0]\n",
      "Q_values : [ 1.6207116   2.034006   -0.8221135   0.25463986]\n",
      "state : [0 0 0 0 0 0 0 0 0 0 0 0 0 0 0 0 6 0 0 0 0 0 2 0 0 0 0 0 0 0 0 0 0 0 0 0]\n",
      "Q_values : [ 2.3502135  3.0161657 -1.7559311  1.2426081]\n",
      "state : [0 0 0 0 0 0 0 0 0 0 0 0 0 0 0 0 6 0 0 0 0 0 4 0 0 0 0 0 0 0 0 0 0 0 0 0]\n",
      "Q_values : [ 2.4798975   3.6767354  -0.46796393  1.5537531 ]\n",
      "state : [0 0 0 0 0 0 0 0 0 0 0 0 0 0 0 0 0 0 0 0 0 0 0 0 0 0 0 0 0 0 0 0 0 0 0 0]\n",
      "Q_values : [ 2.5572004   1.530984   -2.0969574   0.09084773]\n",
      "state : [0 0 0 0 0 0 0 0 0 0 0 0 0 0 0 0 2 0 0 0 0 0 0 0 0 0 0 0 0 0 0 0 0 0 0 0]\n",
      "Q_values : [ 1.9775333  1.1427877 -1.6743121 -0.3800223]\n",
      "state : [0 0 0 0 0 0 0 0 0 0 0 0 0 0 0 0 2 0 0 0 0 0 0 0 0 0 0 0 0 0 0 0 0 0 0 0]\n",
      "Q_values : [ 2.8163211  1.4573667 -1.19132   -0.9402971]\n",
      "state : [0 0 0 0 0 0 0 0 0 0 0 0 0 0 0 0 2 0 0 0 0 0 0 0 0 0 0 0 0 0 0 0 0 0 0 0]\n",
      "Q_values : [ 2.2036252   1.9364947  -0.16791892 -1.1986985 ]\n",
      "state : [0 0 0 0 0 0 0 0 0 0 0 0 0 0 0 0 2 0 0 0 0 0 0 0 0 0 0 0 0 0 0 0 0 0 0 0]\n",
      "Q_values : [ 1.3100324  1.796166   0.5549841 -1.7345016]\n",
      "state : [0 0 0 0 0 0 0 0 0 0 0 0 0 0 0 0 2 0 0 0 0 0 0 0 0 0 0 0 0 0 0 0 0 0 0 0]\n",
      "Q_values : [ 0.86767286  1.8018409   0.6796553  -1.543067  ]\n",
      "Step #100.00 (0ms ?*RT. ?UPS, TraCI: 31ms, vehicles TOT 33 ACT 2 BUF 0)                    \n",
      "episode : 85\n",
      " Retrying in 1 seconds\n"
     ]
    },
    {
     "name": "stderr",
     "output_type": "stream",
     "text": [
      "Warning: Environment variable SUMO_HOME is not set properly, disabling XML validation. Set 'auto' or 'always' for web lookups.\n"
     ]
    },
    {
     "name": "stdout",
     "output_type": "stream",
     "text": [
      "state : [0 0 0 0 0 0 0 0 0 0 0 0 0 0 0 0 0 0 0 0 0 0 0 0 0 0 0 0 0 0 0 0 0 0 0 0]\n",
      "Q_values : [ 1.4454986  2.5619302 -0.3008194 -1.1638494]\n",
      "state : [0 0 0 0 0 0 0 0 0 0 0 0 0 0 0 0 0 0 0 0 0 0 0 0 0 0 0 0 0 0 0 0 0 0 0 0]\n",
      "Q_values : [ 1.8514311   2.9103804  -0.12341738 -0.6788738 ]\n",
      "state : [0 0 0 0 0 0 0 0 0 0 0 0 0 0 0 0 0 0 0 0 0 0 0 0 0 0 0 0 0 0 0 0 0 0 0 0]\n",
      "Q_values : [ 2.430677    2.0559726   0.504313   -0.35643625]\n",
      "state : [0 0 0 0 0 0 0 0 0 0 0 0 0 0 0 0 0 0 0 0 0 0 0 0 0 0 0 0 0 0 0 0 0 0 0 0]\n",
      "Q_values : [2.7203207 2.78446   0.6265111 0.8074515]\n",
      "state : [0 0 0 0 0 0 0 0 0 0 0 0 0 1 0 0 1 0 0 0 0 0 0 0 0 0 0 0 0 0 0 0 0 0 0 0]\n",
      "Q_values : [2.6744864  2.6489744  0.41522145 1.2100797 ]\n",
      "state : [0 0 0 0 0 0 0 0 0 0 0 0 0 0 0 0 2 2 0 0 0 0 0 0 0 0 0 0 0 0 0 0 0 0 0 0]\n",
      "Q_values : [ 1.5614077   2.7648625  -0.5029192  -0.38547444]\n",
      "state : [0 0 0 0 0 0 0 0 0 0 0 0 0 0 0 0 4 4 0 0 0 0 0 0 0 0 0 0 0 0 0 0 0 0 0 0]\n",
      "Q_values : [ 2.1140556   1.7456173  -0.23213387 -0.7230785 ]\n",
      "state : [0 0 0 0 0 0 0 0 0 0 0 0 0 0 0 0 6 5 0 0 0 0 1 1 0 0 0 0 0 0 0 0 0 0 0 0]\n",
      "Q_values : [ 1.4419698   2.311912   -0.06582785 -1.6744995 ]\n",
      "state : [0 0 0 0 0 0 0 0 0 0 0 0 0 0 0 0 6 6 0 0 0 0 2 1 0 0 0 0 0 0 0 0 0 0 0 0]\n",
      "Q_values : [ 1.9484006  1.7965472  0.4246347 -1.8201823]\n",
      "state : [0 0 0 0 0 0 0 0 0 0 0 0 0 0 0 0 2 0 0 0 0 0 0 0 0 0 0 0 0 0 0 0 0 0 0 0]\n",
      "Q_values : [ 2.1548953   3.378788    1.5283291  -0.45833445]\n",
      "state : [0 0 0 0 0 0 0 0 0 0 0 0 0 0 0 0 2 0 0 0 0 0 0 0 0 0 0 0 0 0 0 0 0 0 0 0]\n",
      "Q_values : [ 3.2550006   3.9963517   1.0506358  -0.08330655]\n",
      "state : [0 0 0 0 0 0 0 0 0 0 0 0 0 0 0 0 2 0 0 0 0 0 0 0 0 0 0 0 0 0 0 0 0 0 0 0]\n",
      "Q_values : [3.1814988  2.9122643  1.6176567  0.09312606]\n",
      "state : [0 0 0 0 0 0 0 0 0 0 0 0 0 0 0 0 2 0 0 0 0 0 0 0 0 0 0 0 0 0 0 0 0 0 0 0]\n",
      "Q_values : [ 3.092564    2.2720127   1.0404735  -0.15152097]\n",
      "Step #100.00 (0ms ?*RT. ?UPS, TraCI: 32ms, vehicles TOT 33 ACT 2 BUF 0)                    \n",
      "episode : 86\n",
      " Retrying in 1 seconds\n"
     ]
    },
    {
     "name": "stderr",
     "output_type": "stream",
     "text": [
      "Warning: Environment variable SUMO_HOME is not set properly, disabling XML validation. Set 'auto' or 'always' for web lookups.\n"
     ]
    },
    {
     "name": "stdout",
     "output_type": "stream",
     "text": [
      "state : [0 0 0 0 0 0 0 0 0 0 0 0 0 0 0 0 0 0 0 0 0 0 0 0 0 0 0 0 0 0 0 0 0 0 0 0]\n",
      "Q_values : [3.0141182  1.9807768  0.5447619  0.05274248]\n",
      "state : [0 0 0 0 0 0 0 0 0 0 0 0 0 0 0 0 0 0 0 0 0 0 0 0 0 0 0 0 0 0 0 0 0 0 0 0]\n",
      "Q_values : [ 2.284707    2.2362618  -0.02301717 -0.12757802]\n",
      "state : [0 0 0 0 0 0 0 0 0 0 0 0 0 0 0 0 0 0 0 0 0 0 0 0 0 0 0 0 0 0 0 0 0 0 0 0]\n",
      "Q_values : [ 1.4857078   1.4986215  -1.3074603   0.27640462]\n",
      "state : [0 0 0 0 0 0 0 0 0 0 0 0 0 0 0 0 0 0 0 0 0 0 0 0 0 0 0 0 0 0 0 0 0 0 0 0]\n",
      "Q_values : [ 1.0377613  1.6607736 -1.0333195  0.519413 ]\n",
      "state : [0 0 0 0 0 0 0 0 0 0 0 0 0 0 0 0 0 0 0 0 0 0 0 0 0 0 0 0 0 0 0 0 0 0 0 0]\n",
      "Q_values : [ 0.6299388  1.2980597 -2.2296817 -0.2756214]\n",
      "state : [0 0 0 0 0 0 0 0 0 0 0 0 0 1 0 0 1 0 0 0 0 0 0 0 0 0 0 0 0 0 0 0 0 0 0 0]\n",
      "Q_values : [ 1.0027711   1.6431593  -1.8816175  -0.35536838]\n",
      "state : [0 0 0 0 0 0 0 0 0 0 0 0 0 0 0 0 4 1 0 0 0 0 0 0 0 0 0 0 0 0 0 0 0 0 0 0]\n",
      "Q_values : [ 4.03874    3.639751   1.0094967 -1.2576137]\n",
      "state : [0 0 0 0 0 0 0 0 0 0 0 0 0 0 0 0 0 3 0 0 0 0 0 1 0 0 0 0 0 0 0 0 0 0 0 0]\n",
      "Q_values : [ 2.6450458   3.511856    2.4899583  -0.40342903]\n",
      "state : [0 0 0 0 0 0 0 0 0 0 0 0 0 0 0 0 0 0 0 0 0 0 0 0 0 0 0 0 0 0 0 0 0 0 0 0]\n",
      "Q_values : [ 1.9506625   1.4214892  -0.21221924 -0.681005  ]\n",
      "state : [0 0 0 0 0 0 0 0 0 0 0 0 0 0 0 0 0 0 0 0 0 0 0 0 0 0 0 0 0 0 0 0 0 0 0 0]\n",
      "Q_values : [ 1.7194617   2.3793721  -2.1492403  -0.34674144]\n",
      "state : [0 0 0 0 0 0 0 0 0 0 0 0 0 0 0 0 0 0 0 0 0 0 0 0 0 0 0 0 0 0 0 0 0 0 0 0]\n",
      "Q_values : [ 2.2041368  2.588459  -2.5429888  0.5584073]\n",
      "state : [0 0 0 0 0 0 0 0 0 0 0 0 0 0 0 0 0 0 0 0 0 0 0 0 0 0 0 0 0 0 0 0 0 0 0 0]\n",
      "Q_values : [ 1.7081031  2.4720361 -1.7190878 -0.5337012]\n",
      "state : [0 0 0 0 0 0 0 0 0 0 0 0 0 0 0 0 0 0 0 0 0 0 0 0 0 0 0 0 0 0 0 0 0 0 0 0]\n",
      "Q_values : [ 1.1085719  2.0848145 -0.3847711 -1.30633  ]\n",
      "Step #100.00 (0ms ?*RT. ?UPS, TraCI: 31ms, vehicles TOT 33 ACT 0 BUF 0)                    \n",
      "episode : 87\n",
      " Retrying in 1 seconds\n"
     ]
    },
    {
     "name": "stderr",
     "output_type": "stream",
     "text": [
      "Warning: Environment variable SUMO_HOME is not set properly, disabling XML validation. Set 'auto' or 'always' for web lookups.\n"
     ]
    },
    {
     "name": "stdout",
     "output_type": "stream",
     "text": [
      "state : [0 0 0 0 0 0 0 0 0 0 0 0 0 0 0 0 0 0 0 0 0 0 0 0 0 0 0 0 0 0 0 0 0 0 0 0]\n",
      "Q_values : [ 0.86539054  1.6030738  -0.18476391 -0.85780644]\n",
      "state : [0 0 0 0 0 0 0 0 0 0 0 0 0 0 0 0 0 0 0 0 0 0 0 0 0 0 0 0 0 0 0 0 0 0 0 0]\n",
      "Q_values : [ 2.6228712   1.7944633   0.21082282 -1.0207064 ]\n",
      "state : [0 0 0 0 0 0 0 0 0 0 0 0 0 0 0 0 0 0 0 0 0 0 0 0 0 0 0 0 0 0 0 0 0 0 0 0]\n",
      "Q_values : [ 3.3279705   1.5649753   1.0989635  -0.95383525]\n",
      "state : [0 0 0 0 0 0 0 0 0 0 0 0 0 1 1 0 1 0 0 0 0 0 0 0 0 0 0 0 0 0 0 0 0 0 0 0]\n",
      "Q_values : [ 1.5296996   2.97695     0.79107094 -0.4801755 ]\n",
      "state : [0 0 0 0 0 0 0 0 0 0 0 0 0 1 0 0 2 1 0 0 0 0 0 0 0 0 0 0 0 0 0 0 0 0 0 0]         \n",
      "Q_values : [ 1.7951413   2.3393044   0.53957987 -1.0094609 ]\n"
     ]
    },
    {
     "name": "stderr",
     "output_type": "stream",
     "text": [
      "Warning: Vehicle 'veh_11' performs emergency stop at the end of lane 'end2_junction_2' because of a red traffic light (decel=-15.71, offset=0.06), time=31.18.\n"
     ]
    },
    {
     "name": "stdout",
     "output_type": "stream",
     "text": [
      "state : [0 0 0 0 0 0 0 0 0 0 0 0 0 1 0 0 0 3 0 0 0 0 0 1 0 0 0 0 0 0 0 0 0 0 0 0]\n",
      "Q_values : [ 2.360559    1.6684909  -0.50623035 -1.8265388 ]\n",
      "state : [0 0 0 0 0 0 0 0 0 0 0 0 0 0 0 0 2 4 0 0 0 0 2 3 0 0 0 0 0 0 0 0 0 0 0 0]         \n",
      "Q_values : [ 2.3672347  0.6966404 -1.7555592 -1.5947762]\n"
     ]
    },
    {
     "name": "stderr",
     "output_type": "stream",
     "text": [
      "Warning: Vehicle 'veh_25' performs emergency stop at the end of lane 'end4_junction_1' because of a red traffic light (decel=-24.49, offset=0.14), time=45.21.\n",
      "Warning: Vehicle 'veh_16' performs emergency stop at the end of lane 'end2_junction_1' because of a red traffic light (decel=-10.87, offset=0.00), time=45.79.\n"
     ]
    },
    {
     "name": "stdout",
     "output_type": "stream",
     "text": [
      "state : [0 0 0 0 0 0 0 0 0 0 0 0 0 0 0 0 2 4 0 0 0 0 3 4 0 0 0 0 0 0 0 0 0 0 0 0]\n",
      "Q_values : [ 1.7634715  2.4656718 -1.2734377 -1.722147 ]\n",
      "state : [0 0 0 0 0 0 0 0 0 0 0 0 0 0 0 0 2 4 0 0 0 0 3 4 0 0 0 0 0 0 0 0 0 0 0 0]\n",
      "Q_values : [ 1.4597068   2.6234508  -0.20872688 -0.7961831 ]\n",
      "state : [0 0 0 0 0 0 0 0 0 0 0 0 0 0 0 0 2 4 0 0 0 0 3 4 0 0 0 0 0 0 0 0 0 0 0 0]\n",
      "Q_values : [ 2.0485902  2.0246744  1.1254041 -0.1875577]\n",
      "state : [0 0 0 0 0 0 0 0 0 0 0 0 0 0 0 0 2 0 0 0 0 0 3 0 0 0 0 0 0 0 0 0 0 0 0 0]\n",
      "Q_values : [1.8426251  1.7046949  1.7360594  0.62582254]\n",
      "state : [0 0 0 0 0 0 0 0 0 0 0 0 0 0 0 0 2 0 0 0 0 0 3 0 0 0 0 0 0 0 0 0 0 0 0 0]\n",
      "Q_values : [2.0518074 1.4204607 1.8739576 0.5945432]\n",
      "Step #100.00 (0ms ?*RT. ?UPS, TraCI: 30ms, vehicles TOT 33 ACT 12 BUF 0)                   \n",
      "episode : 88\n",
      " Retrying in 1 seconds\n"
     ]
    },
    {
     "name": "stderr",
     "output_type": "stream",
     "text": [
      "Warning: Environment variable SUMO_HOME is not set properly, disabling XML validation. Set 'auto' or 'always' for web lookups.\n"
     ]
    },
    {
     "name": "stdout",
     "output_type": "stream",
     "text": [
      "state : [0 0 0 0 0 0 0 0 0 0 0 0 0 0 0 0 0 0 0 0 0 0 0 0 0 0 0 0 0 0 0 0 0 0 0 0]\n",
      "Q_values : [ 0.8204628   1.3146937  -1.2159631   0.15634346]\n",
      "state : [0 0 0 0 0 0 0 0 0 0 0 0 0 0 0 0 0 0 0 0 0 0 0 0 0 0 0 0 0 0 0 0 0 0 0 0]\n",
      "Q_values : [ 0.24806088  1.6030602  -2.23857    -0.7648089 ]\n",
      "state : [0 0 0 0 0 0 0 0 0 0 0 0 0 0 0 0 0 0 0 0 0 0 0 0 0 0 0 0 0 0 0 0 0 0 0 0]\n",
      "Q_values : [ 2.1589718   2.283681   -2.3628483  -0.33498645]\n",
      "state : [0 0 0 0 0 0 0 0 0 0 0 0 0 1 0 0 1 0 0 0 0 0 0 0 0 0 0 0 0 0 0 0 0 0 0 0]\n",
      "Q_values : [ 1.4649068   0.96329725 -2.8969483  -1.3948948 ]\n",
      "state : [0 0 0 0 0 0 0 0 0 0 0 0 0 0 0 0 2 2 0 0 0 0 0 0 0 0 0 0 0 0 0 0 0 0 0 0]\n",
      "Q_values : [ 1.7433347  0.5692421 -0.2906804 -1.968272 ]\n",
      "state : [0 0 0 0 0 0 0 0 0 0 0 0 0 0 0 0 4 4 0 0 0 0 0 0 0 0 0 0 0 0 0 0 0 0 0 0]\n",
      "Q_values : [ 1.9388252   1.654251   -0.07268143 -1.6746888 ]\n",
      "state : [0 0 0 0 0 0 0 0 0 0 0 0 0 0 0 0 0 1 0 0 0 0 0 1 0 0 0 0 0 0 0 0 0 0 0 0]\n",
      "Q_values : [2.6895123 2.8976622 0.7888813 0.6428387]\n",
      "state : [0 0 0 0 0 0 0 0 0 0 0 0 0 0 0 0 2 2 0 0 0 0 0 1 0 0 0 0 0 0 0 0 0 0 0 0]\n",
      "Q_values : [3.1070843  2.4847012  0.23735857 1.4455009 ]\n",
      "state : [0 0 0 0 0 0 0 0 0 0 0 0 0 0 0 0 2 0 0 0 0 0 0 0 0 0 0 0 0 0 0 0 0 0 0 0]\n",
      "Q_values : [3.2058744  2.2048926  0.30939293 1.9777482 ]\n",
      "state : [0 0 0 0 0 0 0 0 0 0 0 0 0 0 0 0 2 0 0 0 0 0 0 0 0 0 0 0 0 0 0 0 0 0 0 0]\n",
      "Q_values : [ 1.3052577  2.13242   -1.4724147  1.9915702]\n",
      "state : [0 0 0 0 0 0 0 0 0 0 0 0 0 0 0 0 2 0 0 0 0 0 0 0 0 0 0 0 0 0 0 0 0 0 0 0]\n",
      "Q_values : [ 0.9908564  2.6659975 -1.6786232  1.4814379]\n",
      "state : [0 0 0 0 0 0 0 0 0 0 0 0 0 0 0 0 2 0 0 0 0 0 0 0 0 0 0 0 0 0 0 0 0 0 0 0]\n",
      "Q_values : [ 1.4932525   2.260765   -0.99551344  1.4347699 ]\n",
      "Step #100.00 (0ms ?*RT. ?UPS, TraCI: 31ms, vehicles TOT 33 ACT 2 BUF 0)                    \n",
      "episode : 89\n",
      " Retrying in 1 seconds\n"
     ]
    },
    {
     "name": "stderr",
     "output_type": "stream",
     "text": [
      "Warning: Environment variable SUMO_HOME is not set properly, disabling XML validation. Set 'auto' or 'always' for web lookups.\n"
     ]
    },
    {
     "name": "stdout",
     "output_type": "stream",
     "text": [
      "state : [0 0 0 0 0 0 0 0 0 0 0 0 0 0 0 0 0 0 0 0 0 0 0 0 0 0 0 0 0 0 0 0 0 0 0 0]\n",
      "Q_values : [ 2.2381341   1.8054395  -0.49175024 -1.147249  ]\n",
      "state : [0 0 0 0 0 0 0 0 0 0 0 0 0 0 0 0 0 0 0 0 0 0 0 0 0 0 0 0 0 0 0 0 0 0 0 0]\n",
      "Q_values : [ 2.134072   1.6306567 -1.4143424 -1.37047  ]\n",
      "state : [0 0 0 0 0 0 0 0 0 0 0 0 0 0 0 0 0 0 0 0 0 0 0 0 0 0 0 0 0 0 0 0 0 0 0 0]\n",
      "Q_values : [ 1.4989713  2.162919  -1.3297555 -1.2785275]\n",
      "state : [0 0 0 0 0 0 0 0 0 0 0 0 0 0 0 0 0 0 0 0 0 0 0 0 0 0 0 0 0 0 0 0 0 0 0 0]\n",
      "Q_values : [ 1.8899624   2.2671838  -0.91315174 -0.7274816 ]\n",
      "state : [0 0 0 0 0 0 0 0 0 0 0 0 0 1 0 0 1 0 0 0 0 0 0 0 0 0 0 0 0 0 0 0 0 0 0 0]\n",
      "Q_values : [ 1.7537917   2.0171356  -1.209698    0.06590223]\n",
      "state : [0 0 0 0 0 0 0 0 0 0 0 0 0 1 0 0 1 1 0 0 0 0 0 0 0 0 0 0 0 0 0 0 0 0 0 0]\n",
      "Q_values : [ 2.4371963  1.4215147 -0.7760906  0.6384814]\n",
      "state : [0 0 0 0 0 0 0 0 0 0 0 0 0 0 0 0 4 4 0 0 0 0 0 0 0 0 0 0 0 0 0 0 0 0 0 0]\n",
      "Q_values : [1.4125638  2.72685    0.31443858 0.08337092]\n",
      "state : [0 0 0 0 0 0 0 0 0 0 0 0 0 0 0 0 6 5 0 0 0 0 1 1 0 0 0 0 0 0 0 0 0 0 0 0]\n",
      "Q_values : [ 1.3964986   2.8085947   0.9577918  -0.53554654]\n",
      "state : [0 0 0 0 0 0 0 0 0 0 0 0 0 0 0 0 6 6 0 0 0 0 2 1 0 0 0 0 0 0 0 0 0 0 0 0]\n",
      "Q_values : [ 3.0120535  2.5007944  1.5306804 -0.7723563]\n",
      "state : [0 0 0 0 0 0 0 0 0 0 0 0 0 0 0 0 6 0 0 0 0 0 4 0 0 0 0 0 0 0 0 0 0 0 0 0]\n",
      "Q_values : [3.6876454  2.6914177  1.6638894  0.29196167]\n",
      "state : [0 0 0 0 0 0 0 0 0 0 0 0 0 0 0 0 6 0 0 0 0 0 4 0 0 0 0 0 0 0 0 0 0 0 0 0]\n",
      "Q_values : [ 3.6017084   2.3547323  -0.35688114  0.87927556]\n",
      "state : [0 0 0 0 0 0 0 0 0 0 0 0 0 0 0 0 6 0 0 0 0 0 4 0 0 0 0 0 0 0 0 0 0 0 0 0]\n",
      "Q_values : [ 2.2191648  1.945549  -0.7386465  1.3138056]\n",
      "state : [0 0 0 0 0 0 0 0 0 0 0 0 0 0 0 0 6 0 0 0 0 0 4 0 0 0 0 0 0 0 0 0 0 0 0 0]\n",
      "Q_values : [ 0.99163485  1.6037052  -0.3546841   1.5759497 ]\n",
      "state : [0 0 0 0 0 0 0 0 0 0 0 0 0 0 0 0 6 0 0 0 0 0 4 0 0 0 0 0 0 0 0 0 0 0 0 0]\n",
      "Q_values : [ 0.8139149  1.1265334 -0.925102  -0.7431452]\n",
      "Step #100.00 (0ms ?*RT. ?UPS, TraCI: 31ms, vehicles TOT 33 ACT 10 BUF 0)                   \n",
      "episode : 90\n",
      " Retrying in 1 seconds\n"
     ]
    },
    {
     "name": "stderr",
     "output_type": "stream",
     "text": [
      "Warning: Environment variable SUMO_HOME is not set properly, disabling XML validation. Set 'auto' or 'always' for web lookups.\n"
     ]
    },
    {
     "name": "stdout",
     "output_type": "stream",
     "text": [
      "state : [0 0 0 0 0 0 0 0 0 0 0 0 0 0 0 0 0 0 0 0 0 0 0 0 0 0 0 0 0 0 0 0 0 0 0 0]\n",
      "Q_values : [ 1.3012347  1.4593699 -2.0234826 -1.8670456]\n",
      "state : [0 0 0 0 0 0 0 0 0 0 0 0 0 0 0 0 0 0 0 0 0 0 0 0 0 0 0 0 0 0 0 0 0 0 0 0]\n",
      "Q_values : [ 1.208561   1.0379254 -1.7618563 -2.4185076]\n",
      "state : [0 0 0 0 0 0 0 0 0 0 0 0 0 0 0 0 0 0 0 0 0 0 0 0 0 0 0 0 0 0 0 0 0 0 0 0]\n",
      "Q_values : [ 1.8221055  2.2745042 -1.3881521 -2.5594184]\n",
      "state : [0 0 0 0 0 0 0 0 0 0 0 0 0 0 0 0 0 0 0 0 0 0 0 0 0 0 0 0 0 0 0 0 0 0 0 0]\n",
      "Q_values : [ 2.4969      3.2211244  -0.72779346 -2.616459  ]\n",
      "state : [0 0 0 0 0 0 0 0 0 0 0 0 0 0 0 0 0 0 0 0 0 0 0 0 0 0 0 0 0 0 0 0 0 0 0 0]\n",
      "Q_values : [ 2.894742    4.2008343   0.18378282 -1.0020235 ]\n",
      "state : [0 0 0 0 0 0 0 0 0 0 0 0 0 1 0 0 1 0 0 0 0 0 0 0 0 0 0 0 0 0 0 0 0 0 0 0]\n",
      "Q_values : [ 3.30578     4.2031384   0.70317817 -0.29644656]\n",
      "state : [0 0 0 0 0 0 0 0 0 0 0 0 0 1 0 0 1 1 0 0 0 0 0 0 0 0 0 0 0 0 0 0 0 0 0 0]\n",
      "Q_values : [3.5474238 3.129346  1.5102704 1.0678413]\n",
      "state : [0 0 0 0 0 0 0 0 0 0 0 0 0 0 0 0 2 2 0 0 0 0 0 0 0 0 0 0 0 0 0 0 0 0 0 0]\n",
      "Q_values : [2.8089428 2.0593085 1.428369  1.1382663]\n",
      "state : [0 0 0 0 0 0 0 0 0 0 0 0 0 0 0 0 4 4 0 0 0 0 0 0 0 0 0 0 0 0 0 0 0 0 0 0]\n",
      "Q_values : [1.7068386 2.0889404 0.3715899 1.1388824]\n",
      "state : [0 0 0 0 0 0 0 0 0 0 0 0 0 0 0 0 6 5 0 0 0 0 1 1 0 0 0 0 0 0 0 0 0 0 0 0]\n",
      "Q_values : [ 1.3219819  1.2337483 -0.8199675  1.3096032]\n",
      "state : [0 0 0 0 0 0 0 0 0 0 0 0 0 0 0 0 6 6 0 0 0 0 3 3 0 0 0 0 0 0 0 0 0 0 0 0]\n",
      "Q_values : [ 1.0067701  1.2459377 -0.8097446 -1.7401907]\n"
     ]
    },
    {
     "name": "stderr",
     "output_type": "stream",
     "text": [
      "Warning: Vehicle 'veh_16' performs emergency stop at the end of lane 'end2_junction_1' because of a red traffic light (decel=-10.35, offset=0.00), time=65.84.\n"
     ]
    },
    {
     "name": "stdout",
     "output_type": "stream",
     "text": [
      "state : [0 0 0 0 0 0 0 0 0 0 0 0 0 0 0 0 0 6 0 0 0 0 0 4 0 0 0 0 0 0 0 0 0 0 0 0]         \n",
      "Q_values : [ 1.4147873  2.9154499  0.7758806 -0.6874461]\n",
      "state : [0 0 0 0 0 0 0 0 0 0 0 0 0 0 0 0 0 0 0 0 0 0 0 0 0 0 0 0 0 0 0 0 0 0 0 0]\n",
      "Q_values : [3.4977913 2.0151258 1.4027076 1.9195341]\n",
      "Step #100.00 (0ms ?*RT. ?UPS, TraCI: 33ms, vehicles TOT 33 ACT 10 BUF 0)                   \n",
      "episode : 91\n",
      " Retrying in 1 seconds\n"
     ]
    },
    {
     "name": "stderr",
     "output_type": "stream",
     "text": [
      "Warning: Environment variable SUMO_HOME is not set properly, disabling XML validation. Set 'auto' or 'always' for web lookups.\n"
     ]
    },
    {
     "name": "stdout",
     "output_type": "stream",
     "text": [
      "state : [0 0 0 0 0 0 0 0 0 0 0 0 0 0 0 0 0 0 0 0 0 0 0 0 0 0 0 0 0 0 0 0 0 0 0 0]\n",
      "Q_values : [3.123373  2.5236368 0.9269819 2.2487183]\n",
      "state : [0 0 0 0 0 0 0 0 0 0 0 0 0 0 0 0 0 0 0 0 0 0 0 0 0 0 0 0 0 0 0 0 0 0 0 0]\n",
      "Q_values : [3.6193051 2.9633    0.906945  2.1964116]\n",
      "state : [0 0 0 0 0 0 0 0 0 0 0 0 0 0 0 0 0 0 0 0 0 0 0 0 0 0 0 0 0 0 0 0 0 0 0 0]\n",
      "Q_values : [2.5805693  2.7078598  0.49127817 1.0092633 ]\n",
      "state : [0 0 0 0 0 0 0 0 0 0 0 0 0 0 0 0 0 0 0 0 0 0 0 0 0 0 0 0 0 0 0 0 0 0 0 0]\n",
      "Q_values : [ 2.6507287   2.2543416  -0.49127412 -0.2772417 ]\n",
      "state : [0 0 0 0 0 0 0 0 0 0 0 0 0 0 0 0 0 0 0 0 0 0 0 0 0 0 0 0 0 0 0 0 0 0 0 0]\n",
      "Q_values : [ 2.4849534  2.8463218 -1.1077757 -0.6306722]\n",
      "state : [0 0 0 0 0 0 0 0 0 0 0 0 0 0 0 0 1 0 0 0 0 0 0 0 0 0 0 0 0 0 0 0 0 0 0 0]\n",
      "Q_values : [ 2.0672867  2.3633525 -0.9698982 -1.1940663]\n",
      "state : [0 0 0 0 0 0 0 0 0 0 0 0 0 0 0 0 1 1 0 0 0 0 0 0 0 0 0 0 0 0 0 0 0 0 0 0]\n",
      "Q_values : [ 2.043867    1.4957892  -0.42846322 -1.5565236 ]\n",
      "state : [0 0 0 0 0 0 0 0 0 0 0 0 0 0 0 0 0 5 0 0 0 0 0 1 0 0 0 0 0 0 0 0 0 0 0 0]\n",
      "Q_values : [ 1.9186733  1.9164537 -0.1865499 -0.9882567]\n",
      "Step #45.00 (0ms ?*RT. ?UPS, TraCI: 54ms, vehicles TOT 33 ACT 28 BUF 0)                   \r"
     ]
    },
    {
     "name": "stderr",
     "output_type": "stream",
     "text": [
      "Warning: Vehicle 'veh_25' performs emergency stop at the end of lane 'end4_junction_1' because of a red traffic light (decel=-24.47, offset=0.13), time=45.21.\n"
     ]
    },
    {
     "name": "stdout",
     "output_type": "stream",
     "text": [
      "state : [0 0 0 0 0 0 0 0 0 0 0 0 0 0 0 0 0 6 0 0 0 0 1 1 0 0 0 0 0 0 0 0 0 0 0 0]\n",
      "Q_values : [ 1.8020281   2.6857357  -0.17554474 -1.2269444 ]\n",
      "state : [0 0 0 0 0 0 0 0 0 0 0 0 0 0 0 0 0 6 0 0 0 0 2 3 0 0 0 0 0 0 0 0 0 0 0 0]\n",
      "Q_values : [ 2.0205572  2.222226   0.4429853 -0.4823084]\n",
      "state : [0 0 0 0 0 0 0 0 0 0 0 0 0 0 0 0 0 6 0 0 0 0 3 4 0 0 0 0 0 0 0 0 0 0 0 0]\n",
      "Q_values : [ 3.2836401   2.2737947   0.52914786 -0.27925205]\n",
      "state : [0 0 0 0 0 0 0 0 0 0 0 0 0 0 0 0 0 6 0 0 0 0 3 4 0 0 0 0 0 0 0 0 0 0 0 0]\n",
      "Q_values : [ 3.263678    2.8927546   1.3299007  -0.51050234]\n",
      "state : [0 0 0 0 0 0 0 0 0 0 0 0 0 0 0 0 0 0 0 0 0 0 3 0 0 0 0 0 0 0 0 0 0 0 0 0]\n",
      "Q_values : [ 2.6665738  2.9329247 -1.2008076 -1.54463  ]\n",
      "state : [0 0 0 0 0 0 0 0 0 0 0 0 0 0 0 0 0 1 0 0 0 0 3 0 0 0 0 0 0 0 0 0 0 0 0 0]\n",
      "Q_values : [ 2.1953106   2.6679747  -0.70694566 -1.9952488 ]\n",
      "Step #100.00 (0ms ?*RT. ?UPS, TraCI: 32ms, vehicles TOT 33 ACT 13 BUF 0)                   \n",
      "episode : 92\n",
      " Retrying in 1 seconds\n"
     ]
    },
    {
     "name": "stderr",
     "output_type": "stream",
     "text": [
      "Warning: Environment variable SUMO_HOME is not set properly, disabling XML validation. Set 'auto' or 'always' for web lookups.\n"
     ]
    },
    {
     "name": "stdout",
     "output_type": "stream",
     "text": [
      "state : [0 0 0 0 0 0 0 0 0 0 0 0 0 0 0 0 0 0 0 0 0 0 0 0 0 0 0 0 0 0 0 0 0 0 0 0]\n",
      "Q_values : [ 2.3381078   2.432807    0.13833356 -2.8630617 ]\n",
      "state : [0 0 0 0 0 0 0 0 0 0 0 0 0 0 0 0 0 0 0 0 0 0 0 0 0 0 0 0 0 0 0 0 0 0 0 0]\n",
      "Q_values : [ 2.072801   2.2175982 -0.5560572 -0.8741231]\n",
      "state : [0 0 0 0 0 0 0 0 0 0 0 0 0 0 0 0 0 0 0 0 0 0 0 0 0 0 0 0 0 0 0 0 0 0 0 0]\n",
      "Q_values : [ 1.8649104e+00  1.7337241e+00 -7.4352479e-01  6.7472458e-04]\n",
      "state : [0 0 0 0 0 0 0 0 0 0 0 0 0 0 1 0 1 0 0 0 0 0 0 0 0 0 0 0 0 0 0 0 0 0 0 0]         \n",
      "Q_values : [ 1.9610014   1.6602647  -1.39328     0.94357276]\n"
     ]
    },
    {
     "name": "stderr",
     "output_type": "stream",
     "text": [
      "Warning: Vehicle 'veh_2' performs emergency stop at the end of lane 'end1_junction_2' because of a red traffic light (decel=-20.39, offset=0.10), time=21.24.\n"
     ]
    },
    {
     "name": "stdout",
     "output_type": "stream",
     "text": [
      "state : [0 0 0 0 0 0 0 0 0 0 0 0 0 0 1 0 1 1 0 0 0 0 0 0 0 0 0 0 0 0 0 0 0 0 0 0]\n",
      "Q_values : [ 2.2526002  2.133869  -1.1005673  1.0772557]\n",
      "state : [0 0 0 0 0 0 0 0 0 0 0 0 0 0 1 0 2 2 0 0 0 0 0 0 0 0 0 0 0 0 0 0 0 0 0 0]\n",
      "Q_values : [ 1.8997648  3.184875  -0.3086722  0.6720693]\n",
      "state : [0 0 0 0 0 0 0 0 0 0 0 0 0 0 0 0 4 4 0 0 0 0 0 0 0 0 0 0 0 0 0 0 0 0 0 0]\n",
      "Q_values : [3.0328069  4.0530367  0.76740193 0.596457  ]\n",
      "state : [0 0 0 0 0 0 0 0 0 0 0 0 0 0 0 0 6 6 0 0 0 0 2 1 0 0 0 0 0 0 0 0 0 0 0 0]\n",
      "Q_values : [ 2.7096114  1.6266925  1.2549412 -1.600425 ]\n",
      "state : [0 0 0 0 0 0 0 0 0 0 0 0 0 0 0 0 6 6 0 0 0 0 3 3 0 0 0 0 0 0 0 0 0 0 0 0]\n",
      "Q_values : [ 2.1393867  1.6515473  1.5411282 -2.71857  ]\n",
      "Step #65.00 (0ms ?*RT. ?UPS, TraCI: 38ms, vehicles TOT 33 ACT 22 BUF 0)                   \r"
     ]
    },
    {
     "name": "stderr",
     "output_type": "stream",
     "text": [
      "Warning: Vehicle 'veh_16' performs emergency stop at the end of lane 'end2_junction_1' because of a red traffic light (decel=-11.06, offset=0.00), time=65.77.\n"
     ]
    },
    {
     "name": "stdout",
     "output_type": "stream",
     "text": [
      "state : [0 0 0 0 0 0 0 0 0 0 0 0 0 0 0 0 2 0 0 0 0 0 0 0 0 0 0 0 0 0 0 0 0 0 0 0]\n",
      "Q_values : [ 1.5698304   1.633847   -0.48067236 -1.9699187 ]\n",
      "state : [0 0 0 0 0 0 0 0 0 0 0 0 0 0 0 0 0 2 0 0 0 0 0 0 0 0 0 0 0 0 0 0 0 0 0 0]\n",
      "Q_values : [ 3.0677164  1.5837557 -1.8710616 -0.5467024]\n",
      "Step #100.00 (0ms ?*RT. ?UPS, TraCI: 34ms, vehicles TOT 33 ACT 2 BUF 0)                    \n",
      "episode : 93\n",
      " Retrying in 1 seconds\n"
     ]
    },
    {
     "name": "stderr",
     "output_type": "stream",
     "text": [
      "Warning: Environment variable SUMO_HOME is not set properly, disabling XML validation. Set 'auto' or 'always' for web lookups.\n"
     ]
    },
    {
     "name": "stdout",
     "output_type": "stream",
     "text": [
      "state : [0 0 0 0 0 0 0 0 0 0 0 0 0 0 0 0 0 0 0 0 0 0 0 0 0 0 0 0 0 0 0 0 0 0 0 0]\n",
      "Q_values : [ 1.7852483   1.9053339  -1.2496367  -0.25393224]\n",
      "state : [0 0 0 0 0 0 0 0 0 0 0 0 0 0 0 0 0 0 0 0 0 0 0 0 0 0 0 0 0 0 0 0 0 0 0 0]\n",
      "Q_values : [ 1.4522291   2.3679924  -0.21896219 -0.56364155]\n",
      "state : [0 0 0 0 0 0 0 0 0 0 0 0 0 0 0 0 0 0 0 0 0 0 0 0 0 0 0 0 0 0 0 0 0 0 0 0]\n",
      "Q_values : [ 3.0554576   2.0557146  -0.82324696 -0.25848222]\n",
      "state : [0 0 0 0 0 0 0 0 0 0 0 0 0 0 0 0 0 0 0 0 0 0 0 0 0 0 0 0 0 0 0 0 0 0 0 0]\n",
      "Q_values : [ 3.4722319   2.4934034  -0.03672671  0.60018945]\n",
      "state : [0 0 0 0 0 0 0 0 0 0 0 0 0 0 1 0 1 0 0 0 0 0 0 0 0 0 0 0 0 0 0 0 0 0 0 0]\n",
      "Q_values : [3.3087873  2.3497314  0.07081389 0.87882113]\n",
      "state : [0 0 0 0 0 0 0 0 0 0 0 0 0 0 1 0 1 1 0 0 0 0 0 0 0 0 0 0 0 0 0 0 0 0 0 0]\n",
      "Q_values : [2.8901844  3.0477118  0.12548423 1.2973251 ]\n",
      "state : [0 0 0 0 0 0 0 0 0 0 0 0 0 0 0 0 2 2 0 0 0 0 0 0 0 0 0 0 0 0 0 0 0 0 0 0]\n",
      "Q_values : [3.8649588  2.2611809  0.47520804 1.375726  ]\n",
      "state : [0 0 0 0 0 0 0 0 0 0 0 0 0 0 0 0 4 4 0 0 0 0 0 0 0 0 0 0 0 0 0 0 0 0 0 0]\n",
      "Q_values : [3.4813051 3.1289155 0.9942262 1.6735194]\n",
      "state : [0 0 0 0 0 0 0 0 0 0 0 0 0 0 0 0 0 6 0 0 0 0 0 1 0 0 0 0 0 0 0 0 0 0 0 0]\n",
      "Q_values : [2.6039672  3.2488859  1.0957651  0.38247633]\n",
      "state : [0 0 0 0 0 0 0 0 0 0 0 0 0 0 0 0 0 6 0 0 0 0 0 4 0 0 0 0 0 0 0 0 0 0 0 0]\n",
      "Q_values : [ 3.8156958  2.269195   1.501579  -1.325851 ]\n",
      "state : [0 0 0 0 0 0 0 0 0 0 0 0 0 0 0 0 0 6 0 0 0 0 0 4 0 0 0 0 0 0 0 0 0 0 0 0]\n",
      "Q_values : [ 2.9994717  2.1245818  1.135556  -1.4657004]\n",
      "state : [0 0 0 0 0 0 0 0 0 0 0 0 0 0 0 0 0 0 0 0 0 0 0 0 0 0 0 0 0 0 0 0 0 0 0 0]\n",
      "Q_values : [1.7372575  2.697729   0.6252105  0.00409198]\n",
      "state : [0 0 0 0 0 0 0 0 0 0 0 0 0 0 0 0 0 1 0 0 0 0 0 0 0 0 0 0 0 0 0 0 0 0 0 0]\n",
      "Q_values : [ 2.4775643   2.247452    0.44762015 -1.4540997 ]\n",
      "state : [0 0 0 0 0 0 0 0 0 0 0 0 0 0 0 0 0 2 0 0 0 0 0 0 0 0 0 0 0 0 0 0 0 0 0 0]\n",
      "Q_values : [ 2.6798298   1.807979   -0.05655169 -1.3998587 ]\n",
      "state : [0 0 0 0 0 0 0 0 0 0 0 0 0 0 0 0 0 2 0 0 0 0 0 0 0 0 0 0 0 0 0 0 0 0 0 0]\n",
      "Q_values : [ 2.2302556   3.1794164   0.01848936 -0.7838385 ]\n",
      "Step #100.00 (0ms ?*RT. ?UPS, TraCI: 34ms, vehicles TOT 33 ACT 2 BUF 0)                    \n",
      "episode : 94\n",
      " Retrying in 1 seconds\n"
     ]
    },
    {
     "name": "stderr",
     "output_type": "stream",
     "text": [
      "Warning: Environment variable SUMO_HOME is not set properly, disabling XML validation. Set 'auto' or 'always' for web lookups.\n"
     ]
    },
    {
     "name": "stdout",
     "output_type": "stream",
     "text": [
      "state : [0 0 0 0 0 0 0 0 0 0 0 0 0 0 0 0 0 0 0 0 0 0 0 0 0 0 0 0 0 0 0 0 0 0 0 0]\n",
      "Q_values : [3.3483465  2.8582988  0.42522502 0.03191614]\n",
      "state : [0 0 0 0 0 0 0 0 0 0 0 0 0 0 0 0 0 0 0 0 0 0 0 0 0 0 0 0 0 0 0 0 0 0 0 0]\n",
      "Q_values : [ 2.6414165   1.4543369   1.1606393  -0.04873013]\n"
     ]
    },
    {
     "name": "stderr",
     "output_type": "stream",
     "text": [
      "Warning: Vehicle 'veh_2' performs emergency stop at the end of lane 'end1_junction_2' because of a red traffic light (decel=-20.39, offset=0.10), time=21.24.\n",
      "Warning: Vehicle 'veh_11' performs emergency stop at the end of lane 'end2_junction_2' because of a red traffic light (decel=-15.71, offset=0.06), time=31.18.\n"
     ]
    },
    {
     "name": "stdout",
     "output_type": "stream",
     "text": [
      "state : [0 0 0 0 0 0 0 0 0 0 0 0 0 1 1 0 1 0 0 0 0 0 0 0 0 0 0 0 0 0 0 0 0 0 0 0]         \n",
      "Q_values : [ 2.2342682  1.7839983  0.9559257 -0.5126724]\n",
      "state : [0 0 0 0 0 0 0 0 0 0 0 0 0 0 1 0 4 0 0 0 0 0 0 0 0 0 0 0 0 0 0 0 0 0 0 0]         \n",
      "Q_values : [ 2.1141572   1.8296202  -0.38112926  0.04938889]\n",
      "state : [0 0 0 0 0 0 0 0 0 0 0 0 0 0 1 0 6 1 0 0 0 0 1 1 0 0 0 0 0 0 0 0 0 0 0 0]         \n",
      "Q_values : [ 1.8321719   1.4182199  -1.6961367   0.55944586]\n"
     ]
    },
    {
     "name": "stderr",
     "output_type": "stream",
     "text": [
      "Warning: Vehicle 'veh_23' performs emergency stop at the end of lane 'end4_junction_2' because of a red traffic light (decel=-19.20, offset=0.09), time=42.38.\n"
     ]
    },
    {
     "name": "stdout",
     "output_type": "stream",
     "text": [
      "state : [0 0 0 0 0 0 0 0 0 0 0 0 0 0 1 0 6 1 0 0 0 0 2 1 0 0 0 0 0 0 0 0 0 0 0 0]\n",
      "Q_values : [ 2.400445    2.1278996  -1.405539    0.32474113]\n",
      "state : [0 0 0 0 0 0 0 0 0 0 0 0 0 0 1 0 6 1 0 0 0 0 3 3 0 0 0 0 0 0 0 0 0 0 0 0]\n",
      "Q_values : [ 3.110365    2.1685958  -0.94266725 -0.2197411 ]\n",
      "state : [0 0 0 0 0 0 0 0 0 0 0 0 0 0 1 0 6 1 0 0 0 0 4 4 0 0 0 0 0 0 0 0 0 0 0 0]\n",
      "Q_values : [ 2.1640563   3.8875413   0.62797236 -0.07040215]\n",
      "state : [0 0 0 0 0 0 0 0 0 0 0 0 0 0 0 0 6 1 0 0 0 0 4 4 0 0 0 0 0 0 0 0 0 0 0 0]\n",
      "Q_values : [3.41019    3.7749448  0.08077669 0.09389806]\n",
      "state : [0 0 0 0 0 0 0 0 0 0 0 0 0 0 0 0 0 1 0 0 0 0 0 4 0 0 0 0 0 0 0 0 0 0 0 0]\n",
      "Q_values : [ 2.1245866   1.8692868  -0.5206816   0.63986707]\n",
      "state : [0 0 0 0 0 0 0 0 0 0 0 0 0 0 0 0 2 1 0 0 0 0 0 4 0 0 0 0 0 0 0 0 0 0 0 0]\n",
      "Q_values : [ 2.1434813   1.1294903  -0.88640046 -0.2957809 ]\n",
      "Step #100.00 (0ms ?*RT. ?UPS, TraCI: 35ms, vehicles TOT 33 ACT 13 BUF 0)                   \n",
      "episode : 95\n",
      " Retrying in 1 seconds\n"
     ]
    },
    {
     "name": "stderr",
     "output_type": "stream",
     "text": [
      "Warning: Environment variable SUMO_HOME is not set properly, disabling XML validation. Set 'auto' or 'always' for web lookups.\n"
     ]
    },
    {
     "name": "stdout",
     "output_type": "stream",
     "text": [
      "state : [0 0 0 0 0 0 0 0 0 0 0 0 0 0 0 0 0 0 0 0 0 0 0 0 0 0 0 0 0 0 0 0 0 0 0 0]\n",
      "Q_values : [ 1.9915289  1.9581406 -1.5473623 -1.0618863]\n",
      "state : [0 0 0 0 0 0 0 0 0 0 0 0 0 0 0 0 0 0 0 0 0 0 0 0 0 0 0 0 0 0 0 0 0 0 0 0]\n",
      "Q_values : [ 1.5565833   1.8275747  -0.14955616 -0.7004669 ]\n",
      "state : [0 0 0 0 0 0 0 0 0 0 0 0 0 0 0 0 0 0 0 0 0 0 0 0 0 0 0 0 0 0 0 0 0 0 0 0]\n",
      "Q_values : [ 2.0715566   2.0505052  -0.6414325  -0.19856405]\n",
      "state : [0 0 0 0 0 0 0 0 0 0 0 0 0 0 0 0 2 0 0 0 0 0 0 0 0 0 0 0 0 0 0 0 0 0 0 0]\n",
      "Q_values : [ 2.4843357   1.8387737  -0.44623446  0.26649332]\n",
      "state : [0 0 0 0 0 0 0 0 0 0 0 0 0 0 0 0 4 1 0 0 0 0 0 0 0 0 0 0 0 0 0 0 0 0 0 0]\n",
      "Q_values : [ 2.6817045   1.2019578  -0.19944096  0.5736468 ]\n",
      "state : [0 0 0 0 0 0 0 0 0 0 0 0 0 0 0 0 0 2 0 0 0 0 0 4 0 0 0 0 0 0 0 0 0 0 0 0]\n",
      "Q_values : [ 2.4595866   2.8955097  -0.892529    0.20887685]\n",
      "state : [0 0 0 0 0 0 0 0 0 0 0 0 0 0 0 0 0 2 0 0 0 0 0 4 0 0 0 0 0 0 0 0 0 0 0 0]\n",
      "Q_values : [ 2.776832    2.5933118  -1.0866659  -0.31616807]\n",
      "state : [0 0 0 0 0 0 0 0 0 0 0 0 0 0 0 0 0 2 0 0 0 0 0 4 0 0 0 0 0 0 0 0 0 0 0 0]\n",
      "Q_values : [ 1.7395636  2.3282068 -1.9305625 -0.6283765]\n",
      "state : [0 0 0 0 0 0 0 0 0 0 0 0 0 0 0 0 0 2 0 0 0 0 0 4 0 0 0 0 0 0 0 0 0 0 0 0]\n",
      "Q_values : [ 2.207364   2.472786  -0.9280071 -1.0261557]\n",
      "state : [0 0 0 0 0 0 0 0 0 0 0 0 0 0 0 0 0 2 0 0 0 0 0 4 0 0 0 0 0 0 0 0 0 0 0 0]\n",
      "Q_values : [ 2.8656116   0.85138774 -0.22478938 -0.566386  ]\n",
      "state : [0 0 0 0 0 0 0 0 0 0 0 0 0 0 0 0 0 2 0 0 0 0 0 4 0 0 0 0 0 0 0 0 0 0 0 0]\n",
      "Q_values : [ 3.425113    1.9429865   0.17006302 -0.354033  ]\n",
      "Step #100.00 (0ms ?*RT. ?UPS, TraCI: 34ms, vehicles TOT 33 ACT 6 BUF 0)                    \n",
      "episode : 96\n",
      " Retrying in 1 seconds\n"
     ]
    },
    {
     "name": "stderr",
     "output_type": "stream",
     "text": [
      "Warning: Environment variable SUMO_HOME is not set properly, disabling XML validation. Set 'auto' or 'always' for web lookups.\n"
     ]
    },
    {
     "name": "stdout",
     "output_type": "stream",
     "text": [
      "state : [0 0 0 0 0 0 0 0 0 0 0 0 0 0 0 0 0 0 0 0 0 0 0 0 0 0 0 0 0 0 0 0 0 0 0 0]\n",
      "Q_values : [ 3.261806    3.6354873   0.33095884 -0.07247877]\n",
      "state : [0 0 0 0 0 0 0 0 0 0 0 0 0 0 0 0 0 0 0 0 0 0 0 0 0 0 0 0 0 0 0 0 0 0 0 0]\n",
      "Q_values : [ 2.3809626  4.6742644  0.6580436 -0.8236635]\n",
      "state : [0 0 0 0 0 0 0 0 0 0 0 0 0 0 0 0 0 0 0 0 0 0 0 0 0 0 0 0 0 0 0 0 0 0 0 0]\n",
      "Q_values : [ 4.09962     4.2423697   0.53550124 -0.09510708]\n",
      "state : [0 0 0 0 0 0 0 0 0 0 0 0 0 0 0 0 0 0 0 0 0 0 0 0 0 0 0 0 0 0 0 0 0 0 0 0]\n",
      "Q_values : [3.7881966  2.1147845  0.84683204 0.47210217]\n",
      "state : [0 0 0 0 0 0 0 0 0 0 0 0 0 0 0 0 1 0 0 0 0 0 0 0 0 0 0 0 0 0 0 0 0 0 0 0]\n",
      "Q_values : [2.3651757  2.0641642  0.35215688 0.10377431]\n",
      "state : [0 0 0 0 0 0 0 0 0 0 0 0 0 0 0 0 1 1 0 0 0 0 0 0 0 0 0 0 0 0 0 0 0 0 0 0]\n",
      "Q_values : [1.609834   1.7400763  0.01067543 0.02429581]\n",
      "state : [0 0 0 0 0 0 0 0 0 0 0 0 0 0 0 0 6 5 0 0 0 0 1 1 0 0 0 0 0 0 0 0 0 0 0 0]\n",
      "Q_values : [1.454834  1.696279  0.3230307 0.5392995]\n",
      "state : [0 0 0 0 0 0 0 0 0 0 0 0 0 0 0 0 6 6 0 0 0 0 2 1 0 0 0 0 0 0 0 0 0 0 0 0]\n",
      "Q_values : [ 1.8418403   2.4868288  -0.2697506  -0.17653012]\n",
      "state : [0 0 0 0 0 0 0 0 0 0 0 0 0 0 0 0 6 6 0 0 0 0 3 3 0 0 0 0 0 0 0 0 0 0 0 0]\n",
      "Q_values : [ 2.34549     2.1305065  -0.38373733 -0.68024254]\n",
      "state : [0 0 0 0 0 0 0 0 0 0 0 0 0 0 0 0 2 6 0 0 0 0 0 4 0 0 0 0 0 0 0 0 0 0 0 0]\n",
      "Q_values : [ 2.4140592   2.0478244  -0.10503149 -1.3464379 ]\n",
      "state : [0 0 0 0 0 0 0 0 0 0 0 0 0 0 0 0 2 6 0 0 0 0 0 4 0 0 0 0 0 0 0 0 0 0 0 0]\n",
      "Q_values : [ 1.6800528  1.5423511 -0.2301712 -0.7711897]\n",
      "state : [0 0 0 0 0 0 0 0 0 0 0 0 0 0 0 0 2 6 0 0 0 0 0 4 0 0 0 0 0 0 0 0 0 0 0 0]\n",
      "Q_values : [ 1.8365552   1.5162534   0.17088008 -0.66187   ]\n",
      "state : [0 0 0 0 0 0 0 0 0 0 0 0 0 0 0 0 2 6 0 0 0 0 0 4 0 0 0 0 0 0 0 0 0 0 0 0]\n",
      "Q_values : [ 3.0504375   1.7394527  -1.159924   -0.63682723]\n",
      "Step #100.00 (0ms ?*RT. ?UPS, TraCI: 33ms, vehicles TOT 33 ACT 12 BUF 0)                   \n",
      "episode : 97\n",
      " Retrying in 1 seconds\n"
     ]
    },
    {
     "name": "stderr",
     "output_type": "stream",
     "text": [
      "Warning: Environment variable SUMO_HOME is not set properly, disabling XML validation. Set 'auto' or 'always' for web lookups.\n"
     ]
    },
    {
     "name": "stdout",
     "output_type": "stream",
     "text": [
      "state : [0 0 0 0 0 0 0 0 0 0 0 0 0 0 0 0 0 0 0 0 0 0 0 0 0 0 0 0 0 0 0 0 0 0 0 0]\n",
      "Q_values : [ 3.2384982  3.3501954 -1.3259168 -0.3937807]\n",
      "state : [0 0 0 0 0 0 0 0 0 0 0 0 0 0 0 0 0 0 0 0 0 0 0 0 0 0 0 0 0 0 0 0 0 0 0 0]\n",
      "Q_values : [ 2.8182504   2.690212   -1.5035143  -0.40071774]\n",
      "state : [0 0 0 0 0 0 0 0 0 0 0 0 0 0 0 0 0 0 0 0 0 0 0 0 0 0 0 0 0 0 0 0 0 0 0 0]\n",
      "Q_values : [ 2.5519834   2.5789566  -1.1613092  -0.41572738]\n",
      "state : [0 0 0 0 0 0 0 0 0 0 0 0 0 0 0 0 0 0 0 0 0 0 0 0 0 0 0 0 0 0 0 0 0 0 0 0]\n",
      "Q_values : [ 2.201394    2.3421574   0.68065834 -0.95271873]\n",
      "state : [0 0 0 0 0 0 0 0 0 0 0 0 0 1 0 0 1 0 0 0 0 0 0 0 0 0 0 0 0 0 0 0 0 0 0 0]\n",
      "Q_values : [ 1.5835934   1.5218217  -0.33686233 -1.112318  ]\n",
      "state : [0 0 0 0 0 0 0 0 0 0 0 0 0 0 0 0 1 1 0 0 0 0 0 0 0 0 0 0 0 0 0 0 0 0 0 0]\n",
      "Q_values : [ 1.6793177   1.329877   -0.90342927 -1.5958152 ]\n",
      "state : [0 0 0 0 0 0 0 0 0 0 0 0 0 0 0 0 2 2 0 0 0 0 0 0 0 0 0 0 0 0 0 0 0 0 0 0]\n",
      "Q_values : [ 1.7769749  1.7745966 -2.016699  -1.9375815]\n",
      "state : [0 0 0 0 0 0 0 0 0 0 0 0 0 0 0 0 4 4 0 0 0 0 0 0 0 0 0 0 0 0 0 0 0 0 0 0]\n",
      "Q_values : [ 2.3733525  2.0423627 -3.2319722 -2.6740239]\n",
      "state : [0 0 0 0 0 0 0 0 0 0 0 0 0 0 0 0 6 6 0 0 0 0 2 1 0 0 0 0 0 0 0 0 0 0 0 0]\n",
      "Q_values : [ 3.040729    2.4459949  -0.50921035 -0.5443797 ]\n",
      "state : [0 0 0 0 0 0 0 0 0 0 0 0 0 0 0 0 6 6 0 0 0 0 3 3 0 0 0 0 0 0 0 0 0 0 0 0]\n",
      "Q_values : [ 2.524958    2.4039688   0.43325472 -0.48211694]\n",
      "state : [0 0 0 0 0 0 0 0 0 0 0 0 0 0 0 0 2 6 0 0 0 0 0 4 0 0 0 0 0 0 0 0 0 0 0 0]\n",
      "Q_values : [ 2.4590096   2.5111938  -0.23489141 -0.75071025]\n",
      "state : [0 0 0 0 0 0 0 0 0 0 0 0 0 0 0 0 2 6 0 0 0 0 0 4 0 0 0 0 0 0 0 0 0 0 0 0]\n",
      "Q_values : [ 2.576036    2.3476472  -0.56156707 -0.24240065]\n",
      "state : [0 0 0 0 0 0 0 0 0 0 0 0 0 0 0 0 2 6 0 0 0 0 0 4 0 0 0 0 0 0 0 0 0 0 0 0]\n",
      "Q_values : [ 2.1336637   1.4320197  -0.79923606  0.04029727]\n",
      "state : [0 0 0 0 0 0 0 0 0 0 0 0 0 0 0 0 2 6 0 0 0 0 0 4 0 0 0 0 0 0 0 0 0 0 0 0]\n",
      "Q_values : [ 1.9148425  1.0677845 -0.0827899  0.7255144]\n",
      "state : [0 0 0 0 0 0 0 0 0 0 0 0 0 0 0 0 2 6 0 0 0 0 0 4 0 0 0 0 0 0 0 0 0 0 0 0]\n",
      "Q_values : [ 2.7920356  1.3757477 -0.6484494  1.0368025]\n",
      "state : [0 0 0 0 0 0 0 0 0 0 0 0 0 0 0 0 2 6 0 0 0 0 0 4 0 0 0 0 0 0 0 0 0 0 0 0]\n",
      "Q_values : [ 2.3466866   2.5608978  -0.37363315  0.06340241]\n",
      "Step #100.00 (0ms ?*RT. ?UPS, TraCI: 34ms, vehicles TOT 33 ACT 12 BUF 0)                   \n",
      "episode : 98\n",
      " Retrying in 1 seconds\n"
     ]
    },
    {
     "name": "stderr",
     "output_type": "stream",
     "text": [
      "Warning: Environment variable SUMO_HOME is not set properly, disabling XML validation. Set 'auto' or 'always' for web lookups.\n"
     ]
    },
    {
     "name": "stdout",
     "output_type": "stream",
     "text": [
      "state : [0 0 0 0 0 0 0 0 0 0 0 0 0 0 0 0 0 0 0 0 0 0 0 0 0 0 0 0 0 0 0 0 0 0 0 0]\n",
      "Q_values : [ 2.660019    2.4422078  -0.77693176  0.18248439]\n",
      "state : [0 0 0 0 0 0 0 0 0 0 0 0 0 0 0 0 0 0 0 0 0 0 0 0 0 0 0 0 0 0 0 0 0 0 0 0]\n",
      "Q_values : [ 2.069516   1.5655054 -0.2651925 -1.1733842]\n",
      "state : [0 0 0 0 0 0 0 0 0 0 0 0 0 0 0 0 0 0 0 0 0 0 0 0 0 0 0 0 0 0 0 0 0 0 0 0]\n",
      "Q_values : [ 1.1673913  1.4711286 -1.2749767 -1.5728784]\n",
      "state : [0 0 0 0 0 0 0 0 0 0 0 0 0 1 0 0 1 0 0 0 0 0 0 0 0 0 0 0 0 0 0 0 0 0 0 0]\n",
      "Q_values : [ 0.9150921  2.1917143 -2.2407074 -1.4938817]\n",
      "state : [0 0 0 0 0 0 0 0 0 0 0 0 0 1 0 0 1 1 0 0 0 0 0 0 0 0 0 0 0 0 0 0 0 0 0 0]\n",
      "Q_values : [ 1.6821055  2.4166617 -2.5327113 -2.6383154]\n",
      "state : [0 0 0 0 0 0 0 0 0 0 0 0 0 1 0 0 4 0 0 0 0 0 0 0 0 0 0 0 0 0 0 0 0 0 0 0]\n",
      "Q_values : [ 2.552344   2.0067625 -2.3384442 -2.2578843]\n",
      "state : [0 0 0 0 0 0 0 0 0 0 0 0 0 0 0 0 6 1 0 0 0 0 1 1 0 0 0 0 0 0 0 0 0 0 0 0]         \n",
      "Q_values : [ 2.6822948  2.8602877 -2.1144185 -0.9459622]\n",
      "state : [0 0 0 0 0 0 0 0 0 0 0 0 0 0 0 0 6 2 0 0 0 0 2 1 0 0 0 0 0 0 0 0 0 0 0 0]\n",
      "Q_values : [ 2.126804    2.8209472  -0.6229677  -0.25110078]\n"
     ]
    },
    {
     "name": "stderr",
     "output_type": "stream",
     "text": [
      "Warning: Vehicle 'veh_23' performs emergency stop at the end of lane 'end4_junction_2' because of a red traffic light (decel=-19.20, offset=0.09), time=42.38.\n"
     ]
    },
    {
     "name": "stdout",
     "output_type": "stream",
     "text": [
      "state : [0 0 0 0 0 0 0 0 0 0 0 0 0 0 0 0 6 2 0 0 0 0 3 3 0 0 0 0 0 0 0 0 0 0 0 0]\n",
      "Q_values : [ 2.536497    2.3540998  -0.20187116  0.05390143]\n",
      "state : [0 0 0 0 0 0 0 0 0 0 0 0 0 0 0 0 6 2 0 0 0 0 4 4 0 0 0 0 0 0 0 0 0 0 0 0]\n",
      "Q_values : [2.4168005 2.328102  1.1509788 0.6904166]\n",
      "state : [0 0 0 0 0 0 0 0 0 0 0 0 0 0 0 0 6 2 0 0 0 0 4 4 0 0 0 0 0 0 0 0 0 0 0 0]\n",
      "Q_values : [1.860595  2.219703  1.6675438 1.286135 ]\n",
      "state : [0 0 0 0 0 0 0 0 0 0 0 0 0 0 0 0 6 2 0 0 0 0 4 4 0 0 0 0 0 0 0 0 0 0 0 0]\n",
      "Q_values : [2.905724  1.7352121 2.221691  1.4285164]\n",
      "state : [0 0 0 0 0 0 0 0 0 0 0 0 0 0 0 0 6 2 0 0 0 0 4 4 0 0 0 0 0 0 0 0 0 0 0 0]\n",
      "Q_values : [2.5799727 2.091022  1.8688331 2.0504599]\n",
      "state : [0 0 0 0 0 0 0 0 0 0 0 0 0 0 0 0 6 0 0 0 0 0 4 0 0 0 0 0 0 0 0 0 0 0 0 0]\n",
      "Q_values : [ 2.2169528  1.591646  -0.868839  -1.5606358]\n",
      "Step #100.00 (0ms ?*RT. ?UPS, TraCI: 31ms, vehicles TOT 33 ACT 14 BUF 0)                   \n",
      "episode : 99\n",
      " Retrying in 1 seconds\n"
     ]
    },
    {
     "name": "stderr",
     "output_type": "stream",
     "text": [
      "Warning: Environment variable SUMO_HOME is not set properly, disabling XML validation. Set 'auto' or 'always' for web lookups.\n"
     ]
    },
    {
     "name": "stdout",
     "output_type": "stream",
     "text": [
      "state : [0 0 0 0 0 0 0 0 0 0 0 0 0 0 0 0 0 0 0 0 0 0 0 0 0 0 0 0 0 0 0 0 0 0 0 0]\n",
      "Q_values : [ 2.885116   2.635238  -0.7785511 -1.2200332]\n",
      "state : [0 0 0 0 0 0 0 0 0 0 0 0 0 0 0 0 0 0 0 0 0 0 0 0 0 0 0 0 0 0 0 0 0 0 0 0]\n",
      "Q_values : [ 3.7414389   2.4724393  -0.42100668 -1.4474297 ]\n"
     ]
    },
    {
     "name": "stderr",
     "output_type": "stream",
     "text": [
      "Warning: Vehicle 'veh_2' performs emergency stop at the end of lane 'end1_junction_2' because of a red traffic light (decel=-20.39, offset=0.10), time=21.24.\n"
     ]
    },
    {
     "name": "stdout",
     "output_type": "stream",
     "text": [
      "state : [0 0 0 0 0 0 0 0 0 0 0 0 0 1 1 0 0 0 0 0 0 0 0 0 0 0 0 0 0 0 0 0 0 0 0 0]F 0)     \n",
      "Q_values : [ 1.4743552   3.4880824   0.2864809  -0.36397767]\n",
      "state : [0 0 0 0 0 0 0 0 0 0 0 0 0 1 0 0 1 1 0 0 0 0 0 0 0 0 0 0 0 0 0 0 0 0 0 0]\n",
      "Q_values : [1.45071    3.0490627  0.7756882  0.65612674]\n",
      "state : [0 0 0 0 0 0 0 0 0 0 0 0 0 1 0 0 1 5 0 0 0 0 1 1 0 0 0 0 0 0 0 0 0 0 0 0]         \n",
      "Q_values : [2.029055   2.210523   1.2295725  0.71244836]\n",
      "state : [0 0 0 0 0 0 0 0 0 0 0 0 0 1 0 0 1 6 0 0 0 0 2 1 0 0 0 0 0 0 0 0 0 0 0 0]\n",
      "Q_values : [ 1.3771199   1.7434801   0.9775772  -0.17639136]\n"
     ]
    },
    {
     "name": "stderr",
     "output_type": "stream",
     "text": [
      "Warning: Vehicle 'veh_22' performs emergency stop at the end of lane 'end4_junction_1' because of a red traffic light (decel=-42.49, offset=0.27), time=40.34.\n"
     ]
    },
    {
     "name": "stdout",
     "output_type": "stream",
     "text": [
      "state : [0 0 0 0 0 0 0 0 0 0 0 0 0 1 0 0 1 6 0 0 0 0 3 3 0 0 0 0 0 0 0 0 0 0 0 0]\n",
      "Q_values : [ 0.6844482   1.7202132   0.1624217  -0.08718276]\n",
      "state : [0 0 0 0 0 0 0 0 0 0 0 0 0 1 0 0 1 6 0 0 0 0 4 4 0 0 0 0 0 0 0 0 0 0 0 0]\n",
      "Q_values : [ 2.9301295   1.7872046  -0.36539412  0.07854629]\n",
      "state : [0 0 0 0 0 0 0 0 0 0 0 0 0 0 0 0 1 1 0 0 0 0 4 0 0 0 0 0 0 0 0 0 0 0 0 0]\n",
      "Q_values : [ 2.8092098  2.1823792 -1.2664697 -0.1365292]\n",
      "state : [0 0 0 0 0 0 0 0 0 0 0 0 0 0 0 0 1 2 0 0 0 0 4 0 0 0 0 0 0 0 0 0 0 0 0 0]\n",
      "Q_values : [ 2.0720716   1.9542478  -0.64897466  0.84220004]\n",
      "state : [0 0 0 0 0 0 0 0 0 0 0 0 0 0 0 0 1 2 0 0 0 0 4 0 0 0 0 0 0 0 0 0 0 0 0 0]\n",
      "Q_values : [ 1.3906555   2.6430418  -0.20267153  0.32438064]\n",
      "state : [0 0 0 0 0 0 0 0 0 0 0 0 0 0 0 0 1 2 0 0 0 0 4 0 0 0 0 0 0 0 0 0 0 0 0 0]\n",
      "Q_values : [ 1.270251    2.1114883   0.19722009 -0.42498207]\n",
      "Step #100.00 (1ms ~= 10.00*RT, ~7000.00UPS, TraCI: 31ms, vehicles TOT 33 ACT 7 BUF 0)      \n",
      "episode : 100\n",
      " Retrying in 1 seconds\n"
     ]
    },
    {
     "name": "stderr",
     "output_type": "stream",
     "text": [
      "Warning: Environment variable SUMO_HOME is not set properly, disabling XML validation. Set 'auto' or 'always' for web lookups.\n"
     ]
    },
    {
     "name": "stdout",
     "output_type": "stream",
     "text": [
      "state : [0 0 0 0 0 0 0 0 0 0 0 0 0 0 0 0 0 0 0 0 0 0 0 0 0 0 0 0 0 0 0 0 0 0 0 0]\n",
      "Q_values : [ 2.430305   1.7882738 -1.0429897 -2.6466749]\n",
      "state : [0 0 0 0 0 0 0 0 0 0 0 0 0 0 0 0 0 0 0 0 0 0 0 0 0 0 0 0 0 0 0 0 0 0 0 0]\n",
      "Q_values : [ 1.9903944  2.6776075 -1.0267887 -2.6152234]\n",
      "state : [0 0 0 0 0 0 0 0 0 0 0 0 0 0 0 0 0 0 0 0 0 0 0 0 0 0 0 0 0 0 0 0 0 0 0 0]\n",
      "Q_values : [ 2.3910103  2.6413884 -0.5190122 -2.0276365]\n",
      "state : [0 0 0 0 0 0 0 0 0 0 0 0 0 1 0 0 1 0 0 0 0 0 0 0 0 0 0 0 0 0 0 0 0 0 0 0]\n",
      "Q_values : [ 2.6913767   2.7328117  -0.06925869 -1.6373079 ]\n",
      "state : [0 0 0 0 0 0 0 0 0 0 0 0 0 1 0 0 0 2 0 0 0 0 0 0 0 0 0 0 0 0 0 0 0 0 0 0]\n",
      "Q_values : [ 2.6975653   2.3227558   0.01607847 -0.09208608]\n",
      "state : [0 0 0 0 0 0 0 0 0 0 0 0 0 0 0 0 1 4 0 0 0 0 0 0 0 0 0 0 0 0 0 0 0 0 0 0]\n",
      "Q_values : [ 2.7371716   1.5142844  -0.20926595  1.1265764 ]\n",
      "state : [0 0 0 0 0 0 0 0 0 0 0 0 0 0 0 0 0 6 0 0 0 0 0 3 0 0 0 0 0 0 0 0 0 0 0 0]\n",
      "Q_values : [ 2.1470172   3.731309   -1.5241587  -0.39859605]\n",
      "state : [0 0 0 0 0 0 0 0 0 0 0 0 0 0 0 0 0 6 0 0 0 0 0 4 0 0 0 0 0 0 0 0 0 0 0 0]\n",
      "Q_values : [ 3.4548783   2.9500341  -1.1879969  -0.07073617]\n",
      "state : [0 0 0 0 0 0 0 0 0 0 0 0 0 0 0 0 0 6 0 0 0 0 0 4 0 0 0 0 0 0 0 0 0 0 0 0]\n",
      "Q_values : [ 2.6929297   2.7533646  -0.71758485 -0.1142242 ]\n",
      "state : [0 0 0 0 0 0 0 0 0 0 0 0 0 0 0 0 0 6 0 0 0 0 0 4 0 0 0 0 0 0 0 0 0 0 0 0]\n",
      "Q_values : [ 2.140394    1.6180819   0.16324925 -0.01753712]\n",
      "state : [0 0 0 0 0 0 0 0 0 0 0 0 0 0 0 0 0 0 0 0 0 0 0 0 0 0 0 0 0 0 0 0 0 0 0 0]\n",
      "Q_values : [ 1.756537    1.1328876   0.9768207  -0.85063386]\n",
      "Step #100.00 (0ms ?*RT. ?UPS, TraCI: 32ms, vehicles TOT 33 ACT 10 BUF 0)                   \n",
      "episode : 101\n",
      " Retrying in 1 seconds\n"
     ]
    },
    {
     "name": "stderr",
     "output_type": "stream",
     "text": [
      "Warning: Environment variable SUMO_HOME is not set properly, disabling XML validation. Set 'auto' or 'always' for web lookups.\n"
     ]
    },
    {
     "name": "stdout",
     "output_type": "stream",
     "text": [
      "state : [0 0 0 0 0 0 0 0 0 0 0 0 0 0 0 0 0 0 0 0 0 0 0 0 0 0 0 0 0 0 0 0 0 0 0 0]\n",
      "Q_values : [ 1.9856496   2.572566    0.47937465 -2.0629845 ]\n",
      "state : [0 0 0 0 0 0 0 0 0 0 0 0 0 0 0 0 0 0 0 0 0 0 0 0 0 0 0 0 0 0 0 0 0 0 0 0]\n",
      "Q_values : [ 1.4464824  1.7269804  0.6868291 -1.715559 ]\n",
      "state : [0 0 0 0 0 0 0 0 0 0 0 0 0 0 0 0 0 0 0 0 0 0 0 0 0 0 0 0 0 0 0 0 0 0 0 0]\n",
      "Q_values : [ 2.5698488  1.8521086  0.8302393 -1.2479396]\n",
      "state : [0 0 0 0 0 0 0 0 0 0 0 0 0 0 0 0 0 0 0 0 0 0 0 0 0 0 0 0 0 0 0 0 0 0 0 0]\n",
      "Q_values : [ 2.5679028  2.608144   1.0200305 -1.7588737]\n",
      "state : [0 0 0 0 0 0 0 0 0 0 0 0 0 1 0 0 1 0 0 0 0 0 0 0 0 0 0 0 0 0 0 0 0 0 0 0]\n",
      "Q_values : [ 1.8585068  1.6716841  0.4147613 -0.7812705]\n",
      "state : [0 0 0 0 0 0 0 0 0 0 0 0 0 0 0 0 1 1 0 0 0 0 0 0 0 0 0 0 0 0 0 0 0 0 0 0]\n",
      "Q_values : [0.9356762 2.0985365 0.0882616 0.0090549]\n",
      "state : [0 0 0 0 0 0 0 0 0 0 0 0 0 0 0 0 2 2 0 0 0 0 0 0 0 0 0 0 0 0 0 0 0 0 0 0]\n",
      "Q_values : [ 1.8138955   2.053924   -0.61396146 -0.39953446]\n",
      "state : [0 0 0 0 0 0 0 0 0 0 0 0 0 0 0 0 4 4 0 0 0 0 0 0 0 0 0 0 0 0 0 0 0 0 0 0]\n",
      "Q_values : [ 2.9797103   2.3078194  -1.1567307  -0.76887345]\n",
      "state : [0 0 0 0 0 0 0 0 0 0 0 0 0 0 0 0 6 5 0 0 0 0 1 1 0 0 0 0 0 0 0 0 0 0 0 0]\n",
      "Q_values : [ 2.4124207   2.6699204  -0.37730598 -1.0136669 ]\n",
      "state : [0 0 0 0 0 0 0 0 0 0 0 0 0 0 0 0 6 6 0 0 0 0 2 1 0 0 0 0 0 0 0 0 0 0 0 0]\n",
      "Q_values : [ 2.0453768   2.1091232  -0.25487113 -1.7723169 ]\n",
      "state : [0 0 0 0 0 0 0 0 0 0 0 0 0 0 0 0 6 6 0 0 0 0 3 3 0 0 0 0 0 0 0 0 0 0 0 0]\n",
      "Q_values : [ 2.60152    2.2200727 -0.4184339 -1.1289794]\n",
      "state : [0 0 0 0 0 0 0 0 0 0 0 0 0 0 0 0 6 6 0 0 0 0 4 4 0 0 0 0 0 0 0 0 0 0 0 0]\n",
      "Q_values : [ 1.2024989  2.7599    -0.576514  -1.1077373]\n",
      "state : [0 0 0 0 0 0 0 0 0 0 0 0 0 0 0 0 0 6 0 0 0 0 0 4 0 0 0 0 0 0 0 0 0 0 0 0]\n",
      "Q_values : [2.9392166  2.5192413  0.3925414  0.48755503]\n",
      "state : [0 0 0 0 0 0 0 0 0 0 0 0 0 0 0 0 2 6 0 0 0 0 0 4 0 0 0 0 0 0 0 0 0 0 0 0]\n",
      "Q_values : [2.401578   2.1772914  0.7973738  0.95293283]\n",
      "state : [0 0 0 0 0 0 0 0 0 0 0 0 0 0 0 0 2 6 0 0 0 0 0 4 0 0 0 0 0 0 0 0 0 0 0 0]\n",
      "Q_values : [2.3351731 1.4279945 0.4594841 1.1961432]\n",
      "state : [0 0 0 0 0 0 0 0 0 0 0 0 0 0 0 0 2 0 0 0 0 0 0 0 0 0 0 0 0 0 0 0 0 0 0 0]\n",
      "Q_values : [1.3279446  1.9750563  0.22917604 0.23788285]\n",
      "Step #100.00 (0ms ?*RT. ?UPS, TraCI: 31ms, vehicles TOT 33 ACT 12 BUF 0)                   \n",
      "episode : 102\n",
      " Retrying in 1 seconds\n"
     ]
    },
    {
     "name": "stderr",
     "output_type": "stream",
     "text": [
      "Warning: Environment variable SUMO_HOME is not set properly, disabling XML validation. Set 'auto' or 'always' for web lookups.\n"
     ]
    },
    {
     "name": "stdout",
     "output_type": "stream",
     "text": [
      "state : [0 0 0 0 0 0 0 0 0 0 0 0 0 0 0 0 0 0 0 0 0 0 0 0 0 0 0 0 0 0 0 0 0 0 0 0]\n",
      "Q_values : [ 2.6186442  2.5143433 -0.5175364 -1.4185534]\n",
      "state : [0 0 0 0 0 0 0 0 0 0 0 0 0 0 0 0 0 0 0 0 0 0 0 0 0 0 0 0 0 0 0 0 0 0 0 0]\n",
      "Q_values : [ 2.7864337  2.6518013 -1.0099564 -2.4869115]\n",
      "state : [0 0 0 0 0 0 0 0 0 0 0 0 0 0 0 0 0 0 0 0 0 0 0 0 0 0 0 0 0 0 0 0 0 0 0 0]\n",
      "Q_values : [ 2.5657477  2.5687747 -1.5167704 -2.9239557]\n",
      "state : [0 0 0 0 0 0 0 0 0 0 0 0 0 0 0 0 1 0 0 0 0 0 0 0 0 0 0 0 0 0 0 0 0 0 0 0]\n",
      "Q_values : [ 1.6686642  1.645608  -1.2082682 -2.3663661]\n",
      "Step #31.00 (0ms ?*RT. ?UPS, TraCI: 0ms, vehicles TOT 31 ACT 31 BUF 1)                    \r"
     ]
    },
    {
     "name": "stderr",
     "output_type": "stream",
     "text": [
      "Warning: Vehicle 'veh_11' performs emergency stop at the end of lane 'end2_junction_2' because of a red traffic light (decel=-10.45, offset=0.00), time=31.69.\n"
     ]
    },
    {
     "name": "stdout",
     "output_type": "stream",
     "text": [
      "state : [0 0 0 0 0 0 0 0 0 0 0 0 0 0 0 0 4 2 0 0 0 0 0 0 0 0 0 0 0 0 0 0 0 0 0 0]\n",
      "Q_values : [ 2.1717963  1.1890808 -1.2665682 -1.0257232]\n",
      "state : [0 0 0 0 0 0 0 0 0 0 0 0 0 0 0 0 6 0 0 0 0 0 3 0 0 0 0 0 0 0 0 0 0 0 0 0]\n",
      "Q_values : [ 1.7460773  2.77535   -1.516808  -0.6986568]\n",
      "state : [0 0 0 0 0 0 0 0 0 0 0 0 0 0 0 0 6 0 0 0 0 0 4 0 0 0 0 0 0 0 0 0 0 0 0 0]\n",
      "Q_values : [ 1.9961792   2.2101812   0.27613258 -0.73473597]\n",
      "state : [0 0 0 0 0 0 0 0 0 0 0 0 0 0 0 0 6 0 0 0 0 0 4 0 0 0 0 0 0 0 0 0 0 0 0 0]\n",
      "Q_values : [ 2.15834     2.655787    1.4852899  -0.48648763]\n",
      "state : [0 0 0 0 0 0 0 0 0 0 0 0 0 0 0 0 6 0 0 0 0 0 4 0 0 0 0 0 0 0 0 0 0 0 0 0]\n",
      "Q_values : [ 1.8725933   1.7866901   0.8119142  -0.18249464]\n",
      "state : [0 0 0 0 0 0 0 0 0 0 0 0 0 0 0 0 6 0 0 0 0 0 4 0 0 0 0 0 0 0 0 0 0 0 0 0]\n",
      "Q_values : [2.281368  1.5504501 0.7759764 0.534148 ]\n",
      "state : [0 0 0 0 0 0 0 0 0 0 0 0 0 0 0 0 6 0 0 0 0 0 4 0 0 0 0 0 0 0 0 0 0 0 0 0]\n",
      "Q_values : [ 2.606441    1.9320928  -1.2730098   0.10636425]\n",
      "state : [0 0 0 0 0 0 0 0 0 0 0 0 0 0 0 0 6 0 0 0 0 0 4 0 0 0 0 0 0 0 0 0 0 0 0 0]\n",
      "Q_values : [ 2.3455365   2.6492207  -3.0963533   0.25903988]\n",
      "Step #100.00 (0ms ?*RT. ?UPS, TraCI: 35ms, vehicles TOT 33 ACT 10 BUF 0)                   \n",
      "episode : 103\n",
      " Retrying in 1 seconds\n"
     ]
    },
    {
     "name": "stderr",
     "output_type": "stream",
     "text": [
      "Warning: Environment variable SUMO_HOME is not set properly, disabling XML validation. Set 'auto' or 'always' for web lookups.\n"
     ]
    },
    {
     "name": "stdout",
     "output_type": "stream",
     "text": [
      "state : [0 0 0 0 0 0 0 0 0 0 0 0 0 0 1 0 1 0 0 0 0 0 0 0 0 0 0 0 0 0 0 0 0 0 0 0]\n",
      "Q_values : [3.2368083  2.3683925  1.9400961  0.05284262]\n",
      "state : [0 0 0 0 0 0 0 0 0 0 0 0 0 0 1 0 1 1 0 0 0 0 0 0 0 0 0 0 0 0 0 0 0 0 0 0]\n",
      "Q_values : [2.4501348  2.8084893  2.6088047  0.08330035]\n",
      "state : [0 0 0 0 0 0 0 0 0 0 0 0 0 0 0 0 4 0 0 0 0 0 0 0 0 0 0 0 0 0 0 0 0 0 0 0]\n",
      "Q_values : [1.8420684 2.1307063 1.9517542 1.2491176]\n",
      "state : [0 0 0 0 0 0 0 0 0 0 0 0 0 0 0 0 6 1 0 0 0 0 1 1 0 0 0 0 0 0 0 0 0 0 0 0]         \n",
      "Q_values : [1.4408383 2.4255853 1.6872909 0.9617491]\n"
     ]
    },
    {
     "name": "stderr",
     "output_type": "stream",
     "text": [
      "Warning: Vehicle 'veh_23' performs emergency stop at the end of lane 'end4_junction_2' because of a red traffic light (decel=-19.20, offset=0.09), time=42.38.\n"
     ]
    },
    {
     "name": "stdout",
     "output_type": "stream",
     "text": [
      "state : [0 0 0 0 0 0 0 0 0 0 0 0 0 0 0 0 6 2 0 0 0 0 2 1 0 0 0 0 0 0 0 0 0 0 0 0]\n",
      "Q_values : [1.3628739  2.0938144  0.28341413 0.8427911 ]\n",
      "state : [0 0 0 0 0 0 0 0 0 0 0 0 0 0 0 0 6 2 0 0 0 0 3 3 0 0 0 0 0 0 0 0 0 0 0 0]\n",
      "Q_values : [ 1.5937645  0.94286   -0.9322407  0.4167881]\n",
      "state : [0 0 0 0 0 0 0 0 0 0 0 0 0 0 0 0 6 2 0 0 0 0 4 4 0 0 0 0 0 0 0 0 0 0 0 0]\n",
      "Q_values : [ 1.7841271  0.7728143 -1.2546353 -0.8014369]\n",
      "state : [0 0 0 0 0 0 0 0 0 0 0 0 0 0 0 0 6 2 0 0 0 0 4 4 0 0 0 0 0 0 0 0 0 0 0 0]\n",
      "Q_values : [ 1.6786546  1.7675765 -4.325292  -2.6163976]\n",
      "state : [0 0 0 0 0 0 0 0 0 0 0 0 0 0 0 0 6 2 0 0 0 0 4 4 0 0 0 0 0 0 0 0 0 0 0 0]\n",
      "Q_values : [ 1.8075063  1.8216779 -2.5813148 -2.185354 ]\n",
      "state : [0 0 0 0 0 0 0 0 0 0 0 0 0 0 0 0 6 2 0 0 0 0 4 4 0 0 0 0 0 0 0 0 0 0 0 0]\n",
      "Q_values : [ 2.1300492  2.2412114 -1.400265  -2.1935341]\n",
      "Step #100.00 (0ms ?*RT. ?UPS, TraCI: 34ms, vehicles TOT 33 ACT 16 BUF 0)                   \n",
      "episode : 104\n",
      " Retrying in 1 seconds\n"
     ]
    },
    {
     "name": "stderr",
     "output_type": "stream",
     "text": [
      "Warning: Environment variable SUMO_HOME is not set properly, disabling XML validation. Set 'auto' or 'always' for web lookups.\n"
     ]
    },
    {
     "name": "stdout",
     "output_type": "stream",
     "text": [
      "state : [0 0 0 0 0 0 0 0 0 0 0 0 0 0 0 0 0 0 0 0 0 0 0 0 0 0 0 0 0 0 0 0 0 0 0 0]\n",
      "Q_values : [2.5145245 2.6140132 1.752854  1.284327 ]\n",
      "state : [0 0 0 0 0 0 0 0 0 0 0 0 0 0 0 0 0 0 0 0 0 0 0 0 0 0 0 0 0 0 0 0 0 0 0 0]\n",
      "Q_values : [1.8420306  2.3031738  1.4093434  0.25648117]\n",
      "state : [0 0 0 0 0 0 0 0 0 0 0 0 0 1 0 0 1 1 0 0 0 0 0 0 0 0 0 0 0 0 0 0 0 0 0 0]         \n",
      "Q_values : [ 1.8736911  0.7068814 -2.1630776 -1.3721652]\n"
     ]
    },
    {
     "name": "stderr",
     "output_type": "stream",
     "text": [
      "Warning: Vehicle 'veh_2' performs emergency stop at the end of lane 'end1_junction_2' because of a red traffic light (decel=-20.39, offset=0.10), time=21.24.\n"
     ]
    },
    {
     "name": "stdout",
     "output_type": "stream",
     "text": [
      "state : [0 0 0 0 0 0 0 0 0 0 0 0 0 0 0 0 1 2 0 0 0 0 0 0 0 0 0 0 0 0 0 0 0 0 0 0]\n",
      "Q_values : [ 1.8406754  1.1742527 -3.015684  -1.482022 ]\n",
      "state : [0 0 0 0 0 0 0 0 0 0 0 0 0 0 0 0 3 4 0 0 0 0 0 0 0 0 0 0 0 0 0 0 0 0 0 0]\n",
      "Q_values : [ 2.558814   2.1160696 -4.1757574 -0.9120481]\n",
      "state : [0 0 0 0 0 0 0 0 0 0 0 0 0 0 0 0 5 5 0 0 0 0 1 1 0 0 0 0 0 0 0 0 0 0 0 0]\n",
      "Q_values : [ 2.6178942   2.7998033  -3.1950448   0.42586422]\n",
      "state : [0 0 0 0 0 0 0 0 0 0 0 0 0 0 0 0 5 6 0 0 0 0 2 1 0 0 0 0 0 0 0 0 0 0 0 0]\n",
      "Q_values : [ 2.1020432  3.5379698 -2.2700524  0.2569518]\n",
      "state : [0 0 0 0 0 0 0 0 0 0 0 0 0 0 0 0 5 6 0 0 0 0 3 3 0 0 0 0 0 0 0 0 0 0 0 0]\n",
      "Q_values : [ 2.917109   2.9031038  0.2481811 -0.6172044]\n",
      "state : [0 0 0 0 0 0 0 0 0 0 0 0 0 0 0 0 5 6 0 0 0 0 4 4 0 0 0 0 0 0 0 0 0 0 0 0]\n",
      "Q_values : [ 2.606143   1.8664821  1.1726251 -0.7316642]\n",
      "state : [0 0 0 0 0 0 0 0 0 0 0 0 0 0 0 0 5 6 0 0 0 0 4 4 0 0 0 0 0 0 0 0 0 0 0 0]\n",
      "Q_values : [ 1.5717878  1.5680039  1.4854902 -1.4162691]\n",
      "state : [0 0 0 0 0 0 0 0 0 0 0 0 0 0 0 0 5 6 0 0 0 0 4 4 0 0 0 0 0 0 0 0 0 0 0 0]\n",
      "Q_values : [ 1.7138216  2.3266366  1.2683032 -0.8982272]\n",
      "state : [0 0 0 0 0 0 0 0 0 0 0 0 0 0 0 0 5 6 0 0 0 0 4 4 0 0 0 0 0 0 0 0 0 0 0 0]\n",
      "Q_values : [ 2.0273461   2.0133743   0.16776204 -1.0819373 ]\n",
      "state : [0 0 0 0 0 0 0 0 0 0 0 0 0 0 0 0 5 6 0 0 0 0 4 4 0 0 0 0 0 0 0 0 0 0 0 0]\n",
      "Q_values : [ 2.7638965  1.559989  -1.4580212 -0.5973592]\n",
      "state : [0 0 0 0 0 0 0 0 0 0 0 0 0 0 0 0 5 6 0 0 0 0 4 4 0 0 0 0 0 0 0 0 0 0 0 0]\n",
      "Q_values : [ 2.536192    3.0916576  -1.9137597   0.09291697]\n",
      "state : [0 0 0 0 0 0 0 0 0 0 0 0 0 0 0 0 5 6 0 0 0 0 4 4 0 0 0 0 0 0 0 0 0 0 0 0]\n",
      "Q_values : [ 2.1202037   3.4607008  -2.250499   -0.58110356]\n",
      "state : [0 0 0 0 0 0 0 0 0 0 0 0 0 0 0 0 5 6 0 0 0 0 4 4 0 0 0 0 0 0 0 0 0 0 0 0]\n",
      "Q_values : [ 2.2789867   3.604538   -1.5115755  -0.02653456]\n",
      "Step #100.00 (0ms ?*RT. ?UPS, TraCI: 35ms, vehicles TOT 33 ACT 19 BUF 0)                   \n",
      "episode : 105\n",
      " Retrying in 1 seconds\n"
     ]
    },
    {
     "name": "stderr",
     "output_type": "stream",
     "text": [
      "Warning: Environment variable SUMO_HOME is not set properly, disabling XML validation. Set 'auto' or 'always' for web lookups.\n"
     ]
    },
    {
     "name": "stdout",
     "output_type": "stream",
     "text": [
      "state : [0 0 0 0 0 0 0 0 0 0 0 0 0 0 0 0 0 0 0 0 0 0 0 0 0 0 0 0 0 0 0 0 0 0 0 0]\n",
      "Q_values : [ 2.8480158   3.3072424  -1.7802777   0.68544245]\n",
      "state : [0 0 0 0 0 0 0 0 0 0 0 0 0 0 0 0 0 0 0 0 0 0 0 0 0 0 0 0 0 0 0 0 0 0 0 0]\n",
      "Q_values : [ 2.8195     3.1282835 -1.916403   1.523464 ]\n",
      "state : [0 0 0 0 0 0 0 0 0 0 0 0 0 0 0 0 0 0 0 0 0 0 0 0 0 0 0 0 0 0 0 0 0 0 0 0]\n",
      "Q_values : [3.4239523  2.0626066  0.17435741 1.1932428 ]\n",
      "state : [0 0 0 0 0 0 0 0 0 0 0 0 0 0 0 0 0 0 0 0 0 0 0 0 0 0 0 0 0 0 0 0 0 0 0 0]\n",
      "Q_values : [2.1061254  3.7701435  0.88835883 1.1986077 ]\n",
      "state : [0 0 0 0 0 0 0 0 0 0 0 0 0 0 0 0 1 0 0 0 0 0 0 0 0 0 0 0 0 0 0 0 0 0 0 0]\n",
      "Q_values : [3.6459377  3.6198125  1.5735711  0.65321374]\n",
      "state : [0 0 0 0 0 0 0 0 0 0 0 0 0 0 0 0 1 1 0 0 0 0 0 0 0 0 0 0 0 0 0 0 0 0 0 0]\n",
      "Q_values : [2.4722102 2.3177557 2.2071707 0.5130842]\n",
      "state : [0 0 0 0 0 0 0 0 0 0 0 0 0 0 0 0 2 2 0 0 0 0 0 0 0 0 0 0 0 0 0 0 0 0 0 0]\n",
      "Q_values : [1.2898221e+00 2.6339157e+00 2.7083569e+00 2.6896000e-03]\n",
      "state : [0 0 0 0 0 0 0 0 0 0 0 0 0 0 0 0 0 5 0 0 0 0 0 1 0 0 0 0 0 0 0 0 0 0 0 0]\n",
      "Q_values : [ 1.7479247   1.1436045   1.8750517  -0.42147803]\n",
      "state : [0 0 0 0 0 0 0 0 0 0 0 0 0 0 0 0 0 6 0 0 0 0 0 1 0 0 0 0 0 0 0 0 0 0 0 0]\n",
      "Q_values : [ 1.8340672   1.8079191   1.1259274  -0.36081672]\n",
      "state : [0 0 0 0 0 0 0 0 0 0 0 0 0 0 0 0 0 6 0 0 0 0 1 3 0 0 0 0 0 0 0 0 0 0 0 0]\n",
      "Q_values : [ 1.6417872   2.0283434  -0.5867276  -0.05649734]\n",
      "state : [0 0 0 0 0 0 0 0 0 0 0 0 0 0 0 0 0 6 0 0 0 0 1 4 0 0 0 0 0 0 0 0 0 0 0 0]\n",
      "Q_values : [ 1.1920317   1.8246363  -2.0435863   0.37014604]\n",
      "state : [0 0 0 0 0 0 0 0 0 0 0 0 0 0 0 0 0 2 0 0 0 0 1 0 0 0 0 0 0 0 0 0 0 0 0 0]\n",
      "Q_values : [ 2.4691343   1.5404699  -1.1628137   0.59605527]\n",
      "state : [0 0 0 0 0 0 0 0 0 0 0 0 0 0 0 0 0 2 0 0 0 0 1 0 0 0 0 0 0 0 0 0 0 0 0 0]\n",
      "Q_values : [ 2.3192246  3.2958255 -0.0991919  0.3292265]\n",
      "Step #100.00 (0ms ?*RT. ?UPS, TraCI: 35ms, vehicles TOT 33 ACT 3 BUF 0)                    \n",
      "episode : 106\n",
      " Retrying in 1 seconds\n"
     ]
    },
    {
     "name": "stderr",
     "output_type": "stream",
     "text": [
      "Warning: Environment variable SUMO_HOME is not set properly, disabling XML validation. Set 'auto' or 'always' for web lookups.\n"
     ]
    },
    {
     "name": "stdout",
     "output_type": "stream",
     "text": [
      "state : [0 0 0 0 0 0 0 0 0 0 0 0 0 0 0 0 0 0 0 0 0 0 0 0 0 0 0 0 0 0 0 0 0 0 0 0]\n",
      "Q_values : [3.9017305  3.074152   0.79766655 0.77559566]\n",
      "state : [0 0 0 0 0 0 0 0 0 0 0 0 0 0 0 0 0 0 0 0 0 0 0 0 0 0 0 0 0 0 0 0 0 0 0 0]\n",
      "Q_values : [2.9059134  3.495449   0.78753734 0.4593253 ]\n",
      "state : [0 0 0 0 0 0 0 0 0 0 0 0 0 0 0 0 0 0 0 0 0 0 0 0 0 0 0 0 0 0 0 0 0 0 0 0]\n",
      "Q_values : [ 2.966185    2.4734886   0.05781269 -0.12792563]\n",
      "state : [0 0 0 0 0 0 0 0 0 0 0 0 0 0 0 0 0 0 0 0 0 0 0 0 0 0 0 0 0 0 0 0 0 0 0 0]\n",
      "Q_values : [ 2.766552    2.5950623  -0.12968373  0.18262911]\n",
      "state : [0 0 0 0 0 0 0 0 0 0 0 0 0 0 0 0 0 0 0 0 0 0 0 0 0 0 0 0 0 0 0 0 0 0 0 0]\n",
      "Q_values : [ 2.0683622   2.5336146  -0.12937117  0.33872962]\n",
      "state : [0 0 0 0 0 0 0 0 0 0 0 0 0 0 0 0 1 1 0 0 0 0 0 0 0 0 0 0 0 0 0 0 0 0 0 0]\n",
      "Q_values : [ 2.6508923   2.151289   -0.31512165 -1.6573536 ]\n",
      "state : [0 0 0 0 0 0 0 0 0 0 0 0 0 0 0 0 4 4 0 0 0 0 0 0 0 0 0 0 0 0 0 0 0 0 0 0]\n",
      "Q_values : [ 2.5710201  2.342915  -1.1999319 -1.1827517]\n",
      "state : [0 0 0 0 0 0 0 0 0 0 0 0 0 0 0 0 6 5 0 0 0 0 1 1 0 0 0 0 0 0 0 0 0 0 0 0]\n",
      "Q_values : [ 2.4000702   2.3175774  -0.12287331 -1.0572653 ]\n",
      "state : [0 0 0 0 0 0 0 0 0 0 0 0 0 0 0 0 6 6 0 0 0 0 2 1 0 0 0 0 0 0 0 0 0 0 0 0]\n",
      "Q_values : [ 2.4152637   2.2265525  -0.02037549 -0.57884073]\n",
      "state : [0 0 0 0 0 0 0 0 0 0 0 0 0 0 0 0 6 6 0 0 0 0 3 3 0 0 0 0 0 0 0 0 0 0 0 0]\n",
      "Q_values : [ 2.3201742  2.5620828 -0.6985862  0.2539649]\n",
      "state : [0 0 0 0 0 0 0 0 0 0 0 0 0 0 0 0 0 6 0 0 0 0 0 4 0 0 0 0 0 0 0 0 0 0 0 0]\n",
      "Q_values : [1.3227726  1.8319478  0.12407374 1.2405574 ]\n",
      "state : [0 0 0 0 0 0 0 0 0 0 0 0 0 0 0 0 0 6 0 0 0 0 0 4 0 0 0 0 0 0 0 0 0 0 0 0]\n",
      "Q_values : [ 1.5902212   1.9086556  -0.16475368  0.9821956 ]\n",
      "state : [0 0 0 0 0 0 0 0 0 0 0 0 0 0 0 0 0 2 0 0 0 0 0 0 0 0 0 0 0 0 0 0 0 0 0 0]\n",
      "Q_values : [ 2.6117892  2.1230621 -1.0827107 -1.6753428]\n",
      "Step #100.00 (0ms ?*RT. ?UPS, TraCI: 34ms, vehicles TOT 33 ACT 10 BUF 0)                   \n",
      "episode : 107\n",
      " Retrying in 1 seconds\n"
     ]
    },
    {
     "name": "stderr",
     "output_type": "stream",
     "text": [
      "Warning: Environment variable SUMO_HOME is not set properly, disabling XML validation. Set 'auto' or 'always' for web lookups.\n"
     ]
    },
    {
     "name": "stdout",
     "output_type": "stream",
     "text": [
      "state : [0 0 0 0 0 0 0 0 0 0 0 0 0 0 0 0 0 0 0 0 0 0 0 0 0 0 0 0 0 0 0 0 0 0 0 0]\n",
      "Q_values : [ 3.1944737   2.2515821   0.20609689 -1.7864804 ]\n",
      "state : [0 0 0 0 0 0 0 0 0 0 0 0 0 0 0 0 0 0 0 0 0 0 0 0 0 0 0 0 0 0 0 0 0 0 0 0]\n",
      "Q_values : [1.6634915 2.342609  2.2451434 0.6766021]\n",
      "state : [0 0 0 0 0 0 0 0 0 0 0 0 0 1 0 0 1 0 0 0 0 0 0 0 0 0 0 0 0 0 0 0 0 0 0 0]\n",
      "Q_values : [1.2812014  2.4679236  0.21961308 0.47111678]\n",
      "state : [0 0 0 0 0 0 0 0 0 0 0 0 0 1 0 0 0 2 0 0 0 0 0 0 0 0 0 0 0 0 0 0 0 0 0 0]\n",
      "Q_values : [ 2.1407895  3.3437777 -2.4490023 -1.7668302]\n",
      "state : [0 0 0 0 0 0 0 0 0 0 0 0 0 1 0 0 1 4 0 0 0 0 0 0 0 0 0 0 0 0 0 0 0 0 0 0]\n",
      "Q_values : [ 3.1645212  3.1529884 -2.3838239 -2.2633057]\n",
      "state : [0 0 0 0 0 0 0 0 0 0 0 0 0 0 0 0 2 5 0 0 0 0 1 1 0 0 0 0 0 0 0 0 0 0 0 0]\n",
      "Q_values : [ 3.4118357  2.9512122 -2.756333  -2.2253618]\n",
      "state : [0 0 0 0 0 0 0 0 0 0 0 0 0 0 0 0 2 0 0 0 0 0 4 0 0 0 0 0 0 0 0 0 0 0 0 0]\n",
      "Q_values : [ 2.3030548   2.1843834  -0.46951938 -0.5556581 ]\n",
      "state : [0 0 0 0 0 0 0 0 0 0 0 0 0 0 0 0 2 0 0 0 0 0 4 0 0 0 0 0 0 0 0 0 0 0 0 0]\n",
      "Q_values : [1.6183836  2.281343   0.49712777 0.21142507]\n",
      "state : [0 0 0 0 0 0 0 0 0 0 0 0 0 0 0 0 2 0 0 0 0 0 4 0 0 0 0 0 0 0 0 0 0 0 0 0]\n",
      "Q_values : [2.400152  1.1680237 0.7461941 1.1534863]\n",
      "state : [0 0 0 0 0 0 0 0 0 0 0 0 0 0 0 0 2 0 0 0 0 0 4 0 0 0 0 0 0 0 0 0 0 0 0 0]\n",
      "Q_values : [ 2.7634234  2.0260365  0.4569192 -0.3333974]\n",
      "state : [0 0 0 0 0 0 0 0 0 0 0 0 0 0 0 0 2 0 0 0 0 0 4 0 0 0 0 0 0 0 0 0 0 0 0 0]\n",
      "Q_values : [ 2.6214452   2.289092    0.40548015 -0.30323243]\n",
      "state : [0 0 0 0 0 0 0 0 0 0 0 0 0 0 0 0 2 0 0 0 0 0 4 0 0 0 0 0 0 0 0 0 0 0 0 0]\n",
      "Q_values : [2.932685   2.5149999  0.40026498 0.02244711]\n",
      "Step #100.00 (0ms ?*RT. ?UPS, TraCI: 34ms, vehicles TOT 33 ACT 6 BUF 0)                    \n",
      "episode : 108\n",
      " Retrying in 1 seconds\n"
     ]
    },
    {
     "name": "stderr",
     "output_type": "stream",
     "text": [
      "Warning: Environment variable SUMO_HOME is not set properly, disabling XML validation. Set 'auto' or 'always' for web lookups.\n"
     ]
    },
    {
     "name": "stdout",
     "output_type": "stream",
     "text": [
      "state : [0 0 0 0 0 0 0 0 0 0 0 0 0 0 0 0 0 0 0 0 0 0 0 0 0 0 0 0 0 0 0 0 0 0 0 0]\n",
      "Q_values : [ 2.2459612   2.715435   -0.07015371  0.12245035]\n",
      "state : [0 0 0 0 0 0 0 0 0 0 0 0 0 0 0 0 0 0 0 0 0 0 0 0 0 0 0 0 0 0 0 0 0 0 0 0]\n",
      "Q_values : [ 2.4782224   3.3816442  -0.09051037  0.16738176]\n",
      "state : [0 0 0 0 0 0 0 0 0 0 0 0 0 0 0 0 0 0 0 0 0 0 0 0 0 0 0 0 0 0 0 0 0 0 0 0]\n",
      "Q_values : [ 3.0128834  2.4643006 -0.2977357  0.7155993]\n",
      "state : [0 0 0 0 0 0 0 0 0 0 0 0 0 0 0 0 0 0 0 0 0 0 0 0 0 0 0 0 0 0 0 0 0 0 0 0]\n",
      "Q_values : [2.802192   1.5408361  0.17978811 0.25953865]\n",
      "state : [0 0 0 0 0 0 0 0 0 0 0 0 0 0 1 0 1 0 0 0 0 0 0 0 0 0 0 0 0 0 0 0 0 0 0 0]\n",
      "Q_values : [ 2.9200282   2.3711252  -0.00720263  0.63204265]\n"
     ]
    },
    {
     "name": "stderr",
     "output_type": "stream",
     "text": [
      "Warning: Vehicle 'veh_23' performs emergency stop at the end of lane 'end4_junction_2' because of a red traffic light (decel=-19.20, offset=0.09), time=42.38.\n",
      "Warning: Vehicle 'veh_25' performs emergency stop at the end of lane 'end4_junction_1' because of a red traffic light (decel=-25.77, offset=0.05), time=45.07.\n"
     ]
    },
    {
     "name": "stdout",
     "output_type": "stream",
     "text": [
      "state : [0 0 0 0 0 0 0 0 0 0 0 0 0 0 0 0 2 0 0 0 0 0 1 0 0 0 0 0 0 0 0 0 0 0 0 0]         \n",
      "Q_values : [ 3.0133166   2.518209   -0.19402838 -1.6834147 ]\n",
      "state : [0 0 0 0 0 0 0 0 0 0 0 0 0 0 0 0 2 0 0 0 0 0 2 1 0 0 0 0 0 0 0 0 0 0 0 0]\n",
      "Q_values : [ 2.5610118  2.1177702  0.7307372 -2.1081278]\n",
      "state : [0 0 0 0 0 0 0 0 0 0 0 0 0 0 0 0 2 0 0 0 0 0 3 1 0 0 0 0 0 0 0 0 0 0 0 0]\n",
      "Q_values : [ 2.1285462  1.9955295  0.4099319 -1.7997563]\n",
      "state : [0 0 0 0 0 0 0 0 0 0 0 0 0 0 0 0 2 0 0 0 0 0 3 1 0 0 0 0 0 0 0 0 0 0 0 0]\n",
      "Q_values : [ 1.2217743   1.3416462   0.25628328 -1.1879814 ]\n",
      "state : [0 0 0 0 0 0 0 0 0 0 0 0 0 0 0 0 2 0 0 0 0 0 3 1 0 0 0 0 0 0 0 0 0 0 0 0]\n",
      "Q_values : [ 1.5229422   0.8983271  -0.23428702 -1.6874416 ]\n",
      "state : [0 0 0 0 0 0 0 0 0 0 0 0 0 0 0 0 2 0 0 0 0 0 3 1 0 0 0 0 0 0 0 0 0 0 0 0]\n",
      "Q_values : [ 1.4301404   0.8509431  -0.91217804 -1.7919369 ]\n",
      "state : [0 0 0 0 0 0 0 0 0 0 0 0 0 0 0 0 2 0 0 0 0 0 3 1 0 0 0 0 0 0 0 0 0 0 0 0]\n",
      "Q_values : [ 1.4925123  1.5859478 -1.6956737 -1.4580774]\n",
      "state : [0 0 0 0 0 0 0 0 0 0 0 0 0 0 0 0 2 0 0 0 0 0 3 1 0 0 0 0 0 0 0 0 0 0 0 0]\n",
      "Q_values : [ 1.7574797  1.9442104 -1.2192822 -1.5698841]\n",
      "state : [0 0 0 0 0 0 0 0 0 0 0 0 0 0 0 0 2 0 0 0 0 0 3 1 0 0 0 0 0 0 0 0 0 0 0 0]\n",
      "Q_values : [ 2.3962455   1.8591946  -1.3600104  -0.82454634]\n",
      "Step #100.00 (0ms ?*RT. ?UPS, TraCI: 33ms, vehicles TOT 33 ACT 6 BUF 0)                    \n",
      "episode : 109\n",
      " Retrying in 1 seconds\n"
     ]
    },
    {
     "name": "stderr",
     "output_type": "stream",
     "text": [
      "Warning: Environment variable SUMO_HOME is not set properly, disabling XML validation. Set 'auto' or 'always' for web lookups.\n"
     ]
    },
    {
     "name": "stdout",
     "output_type": "stream",
     "text": [
      "state : [0 0 0 0 0 0 0 0 0 0 0 0 0 0 0 0 0 0 0 0 0 0 0 0 0 0 0 0 0 0 0 0 0 0 0 0]\n",
      "Q_values : [ 2.220561    1.7305528  -1.0651445  -0.38840628]\n",
      "state : [0 0 0 0 0 0 0 0 0 0 0 0 0 0 0 0 0 0 0 0 0 0 0 0 0 0 0 0 0 0 0 0 0 0 0 0]\n",
      "Q_values : [ 2.0654798  1.7633069 -0.5139308 -0.511601 ]\n",
      "state : [0 0 0 0 0 0 0 0 0 0 0 0 0 0 0 0 0 0 0 0 0 0 0 0 0 0 0 0 0 0 0 0 0 0 0 0]\n",
      "Q_values : [ 1.847389   2.9106865 -1.1979942  0.1599884]\n",
      "state : [0 0 0 0 0 0 0 0 0 0 0 0 0 0 0 0 0 0 0 0 0 0 0 0 0 0 0 0 0 0 0 0 0 0 0 0]\n",
      "Q_values : [ 3.923604   2.7987742 -1.5672135  1.1085265]\n",
      "state : [0 0 0 0 0 0 0 0 0 0 0 0 0 0 1 0 1 0 0 0 0 0 0 0 0 0 0 0 0 0 0 0 0 0 0 0]         \n",
      "Q_values : [ 3.9462085   3.0742762  -0.97745657  1.7610655 ]\n"
     ]
    },
    {
     "name": "stderr",
     "output_type": "stream",
     "text": [
      "Warning: Vehicle 'veh_2' performs emergency stop at the end of lane 'end1_junction_2' because of a red traffic light (decel=-20.39, offset=0.10), time=21.24.\n"
     ]
    },
    {
     "name": "stdout",
     "output_type": "stream",
     "text": [
      "state : [0 0 0 0 0 0 0 0 0 0 0 0 0 0 1 0 1 1 0 0 0 0 0 0 0 0 0 0 0 0 0 0 0 0 0 0]\n",
      "Q_values : [ 3.0247464   2.6362622  -0.75696564  2.6099594 ]\n",
      "state : [0 0 0 0 0 0 0 0 0 0 0 0 0 0 1 0 2 2 0 0 0 0 0 0 0 0 0 0 0 0 0 0 0 0 0 0]\n",
      "Q_values : [ 1.8458221   2.6276128  -0.24461007  3.2777817 ]\n",
      "state : [0 0 0 0 0 0 0 0 0 0 0 0 0 0 1 0 4 0 0 0 0 0 0 0 0 0 0 0 0 0 0 0 0 0 0 0]\n",
      "Q_values : [3.1385593 2.1889834 1.357419  3.535957 ]\n",
      "state : [0 0 0 0 0 0 0 0 0 0 0 0 0 0 1 0 6 0 0 0 0 0 1 0 0 0 0 0 0 0 0 0 0 0 0 0]\n",
      "Q_values : [3.3400583 2.6193647 2.2837925 2.829321 ]\n",
      "state : [0 0 0 0 0 0 0 0 0 0 0 0 0 0 1 0 6 0 0 0 0 0 2 1 0 0 0 0 0 0 0 0 0 0 0 0]         \n",
      "Q_values : [1.941263  3.156341  3.0523748 1.8173711]\n"
     ]
    },
    {
     "name": "stderr",
     "output_type": "stream",
     "text": [
      "Warning: Vehicle 'veh_26' performs emergency stop at the end of lane 'end4_junction_2' because of a red traffic light (decel=-19.48, offset=0.09), time=45.88.\n"
     ]
    },
    {
     "name": "stdout",
     "output_type": "stream",
     "text": [
      "state : [0 0 0 0 0 0 0 0 0 0 0 0 0 0 0 0 6 0 0 0 0 0 3 2 0 0 0 0 0 0 0 0 0 0 0 0]\n",
      "Q_values : [1.5513307  2.8802648  2.5845895  0.25254536]\n",
      "state : [0 0 0 0 0 0 0 0 0 0 0 0 0 0 0 0 6 0 0 0 0 0 4 0 0 0 0 0 0 0 0 0 0 0 0 0]\n",
      "Q_values : [ 2.8921318   2.372456    0.08109522 -2.489869  ]\n",
      "state : [0 0 0 0 0 0 0 0 0 0 0 0 0 0 0 0 6 0 0 0 0 0 4 0 0 0 0 0 0 0 0 0 0 0 0 0]\n",
      "Q_values : [ 3.5960293  2.1685324 -0.3107946 -1.0990803]\n",
      "state : [0 0 0 0 0 0 0 0 0 0 0 0 0 0 0 0 6 0 0 0 0 0 4 0 0 0 0 0 0 0 0 0 0 0 0 0]\n",
      "Q_values : [ 2.9198382   2.5267391  -0.24262476 -0.54818773]\n",
      "state : [0 0 0 0 0 0 0 0 0 0 0 0 0 0 0 0 6 0 0 0 0 0 4 0 0 0 0 0 0 0 0 0 0 0 0 0]\n",
      "Q_values : [ 2.6239328   2.2197008  -0.13971663 -0.15638351]\n",
      "Step #100.00 (0ms ?*RT. ?UPS, TraCI: 32ms, vehicles TOT 33 ACT 10 BUF 0)                   \n",
      "episode : 110\n",
      " Retrying in 1 seconds\n"
     ]
    },
    {
     "name": "stderr",
     "output_type": "stream",
     "text": [
      "Warning: Environment variable SUMO_HOME is not set properly, disabling XML validation. Set 'auto' or 'always' for web lookups.\n"
     ]
    },
    {
     "name": "stdout",
     "output_type": "stream",
     "text": [
      "state : [0 0 0 0 0 0 0 0 0 0 0 0 0 0 0 0 0 0 0 0 0 0 0 0 0 0 0 0 0 0 0 0 0 0 0 0]\n",
      "Q_values : [ 1.8165305   1.7443985  -2.1585677  -0.37511992]\n",
      "state : [0 0 0 0 0 0 0 0 0 0 0 0 0 0 0 0 0 0 0 0 0 0 0 0 0 0 0 0 0 0 0 0 0 0 0 0]\n",
      "Q_values : [ 2.3254905  2.1953773 -3.0644343 -0.878572 ]\n",
      "state : [0 0 0 0 0 0 0 0 0 0 0 0 0 0 0 0 0 0 0 0 0 0 0 0 0 0 0 0 0 0 0 0 0 0 0 0]\n",
      "Q_values : [ 1.7826668  1.9581801 -2.512572  -1.458646 ]\n",
      "state : [0 0 0 0 0 0 0 0 0 0 0 0 0 0 0 0 0 0 0 0 0 0 0 0 0 0 0 0 0 0 0 0 0 0 0 0]\n",
      "Q_values : [ 1.2615604  1.2824942 -1.3037748 -1.8866878]\n",
      "state : [0 0 0 0 0 0 0 0 0 0 0 0 0 1 0 0 1 0 0 0 0 0 0 0 0 0 0 0 0 0 0 0 0 0 0 0]\n",
      "Q_values : [ 0.9573244   1.7062463  -0.10540533 -3.1177526 ]\n",
      "state : [0 0 0 0 0 0 0 0 0 0 0 0 0 1 0 0 1 4 0 0 0 0 0 0 0 0 0 0 0 0 0 0 0 0 0 0]\n",
      "Q_values : [2.3695784  1.6339855  1.0708663  0.52726126]\n",
      "state : [0 0 0 0 0 0 0 0 0 0 0 0 0 0 0 0 2 5 0 0 0 0 1 1 0 0 0 0 0 0 0 0 0 0 0 0]\n",
      "Q_values : [1.5422999 1.6028672 1.2296679 2.0219154]\n",
      "state : [0 0 0 0 0 0 0 0 0 0 0 0 0 0 0 0 2 0 0 0 0 0 2 0 0 0 0 0 0 0 0 0 0 0 0 0]\n",
      "Q_values : [2.2413006  2.194169   0.55101705 2.6979465 ]\n",
      "state : [0 0 0 0 0 0 0 0 0 0 0 0 0 0 0 0 2 0 0 0 0 0 4 0 0 0 0 0 0 0 0 0 0 0 0 0]\n",
      "Q_values : [ 2.152337    2.6380389  -0.68342376  0.6909385 ]\n",
      "state : [0 0 0 0 0 0 0 0 0 0 0 0 0 0 0 0 2 0 0 0 0 0 4 0 0 0 0 0 0 0 0 0 0 0 0 0]\n",
      "Q_values : [ 2.3061943   2.7784896  -0.33392382  0.54340625]\n",
      "state : [0 0 0 0 0 0 0 0 0 0 0 0 0 0 0 0 2 0 0 0 0 0 4 0 0 0 0 0 0 0 0 0 0 0 0 0]\n",
      "Q_values : [ 2.499846    2.4586577  -0.669405   -0.40237546]\n",
      "state : [0 0 0 0 0 0 0 0 0 0 0 0 0 0 0 0 2 0 0 0 0 0 4 0 0 0 0 0 0 0 0 0 0 0 0 0]\n",
      "Q_values : [ 1.3345687  1.7325776 -2.0433545 -0.5192821]\n",
      "state : [0 0 0 0 0 0 0 0 0 0 0 0 0 0 0 0 2 0 0 0 0 0 4 0 0 0 0 0 0 0 0 0 0 0 0 0]\n",
      "Q_values : [ 1.2946825  1.1446009 -2.0367281 -1.6721702]\n",
      "state : [0 0 0 0 0 0 0 0 0 0 0 0 0 0 0 0 2 0 0 0 0 0 4 0 0 0 0 0 0 0 0 0 0 0 0 0]\n",
      "Q_values : [ 1.4015653  1.5208992 -0.9598856 -2.1810544]\n",
      "state : [0 0 0 0 0 0 0 0 0 0 0 0 0 0 0 0 2 0 0 0 0 0 4 0 0 0 0 0 0 0 0 0 0 0 0 0]\n",
      "Q_values : [ 1.6135557   2.1912966   0.26996374 -1.7585773 ]\n",
      "state : [0 0 0 0 0 0 0 0 0 0 0 0 0 0 0 0 2 0 0 0 0 0 4 0 0 0 0 0 0 0 0 0 0 0 0 0]\n",
      "Q_values : [ 2.13126     1.7719047   0.99477434 -0.4868033 ]\n",
      "Step #100.00 (0ms ?*RT. ?UPS, TraCI: 32ms, vehicles TOT 33 ACT 6 BUF 0)                    \n",
      "episode : 111\n",
      " Retrying in 1 seconds\n"
     ]
    },
    {
     "name": "stderr",
     "output_type": "stream",
     "text": [
      "Warning: Environment variable SUMO_HOME is not set properly, disabling XML validation. Set 'auto' or 'always' for web lookups.\n"
     ]
    },
    {
     "name": "stdout",
     "output_type": "stream",
     "text": [
      "state : [0 0 0 0 0 0 0 0 0 0 0 0 0 0 0 0 0 0 0 0 0 0 0 0 0 0 0 0 0 0 0 0 0 0 0 0]\n",
      "Q_values : [1.533014   2.32436    0.40928197 0.22304893]\n",
      "state : [0 0 0 0 0 0 0 0 0 0 0 0 0 0 0 0 0 0 0 0 0 0 0 0 0 0 0 0 0 0 0 0 0 0 0 0]\n",
      "Q_values : [2.734046   2.0163255  0.26910806 0.8526907 ]\n",
      "state : [0 0 0 0 0 0 0 0 0 0 0 0 0 0 0 0 0 0 0 0 0 0 0 0 0 0 0 0 0 0 0 0 0 0 0 0]\n",
      "Q_values : [2.8221602  2.692206   1.1893703  0.22990274]\n",
      "state : [0 0 0 0 0 0 0 0 0 0 0 0 0 0 1 0 1 0 0 0 0 0 0 0 0 0 0 0 0 0 0 0 0 0 0 0]\n",
      "Q_values : [ 2.2499642  2.718033  -1.5438182 -1.2539799]\n",
      "state : [0 0 0 0 0 0 0 0 0 0 0 0 0 0 0 0 0 4 0 0 0 0 0 0 0 0 0 0 0 0 0 0 0 0 0 0]\n",
      "Q_values : [ 1.4077349  1.3191772 -0.6236987 -1.4182816]\n",
      "state : [0 0 0 0 0 0 0 0 0 0 0 0 0 0 0 0 1 5 0 0 0 0 1 1 0 0 0 0 0 0 0 0 0 0 0 0]         \n",
      "Q_values : [ 0.7761472   1.1254131  -0.21386433 -1.0151064 ]\n",
      "state : [0 0 0 0 0 0 0 0 0 0 0 0 0 0 0 0 2 6 0 0 0 0 2 1 0 0 0 0 0 0 0 0 0 0 0 0]\n",
      "Q_values : [ 1.5684222   1.0867839  -0.18359375 -0.50643086]\n"
     ]
    },
    {
     "name": "stderr",
     "output_type": "stream",
     "text": [
      "Warning: Vehicle 'veh_22' performs emergency stop at the end of lane 'end4_junction_1' because of a red traffic light (decel=-42.49, offset=0.27), time=40.34.\n"
     ]
    },
    {
     "name": "stdout",
     "output_type": "stream",
     "text": [
      "state : [0 0 0 0 0 0 0 0 0 0 0 0 0 0 0 0 2 6 0 0 0 0 3 3 0 0 0 0 0 0 0 0 0 0 0 0]\n",
      "Q_values : [ 2.2192261   2.2103329  -0.08704948 -1.3806736 ]\n",
      "state : [0 0 0 0 0 0 0 0 0 0 0 0 0 0 0 0 2 6 0 0 0 0 4 4 0 0 0 0 0 0 0 0 0 0 0 0]\n",
      "Q_values : [ 1.8520861  2.2662866 -0.6578753 -2.137686 ]\n",
      "state : [0 0 0 0 0 0 0 0 0 0 0 0 0 0 0 0 2 6 0 0 0 0 4 4 0 0 0 0 0 0 0 0 0 0 0 0]\n",
      "Q_values : [ 2.275989   1.678079  -1.1399384 -2.3175652]\n",
      "state : [0 0 0 0 0 0 0 0 0 0 0 0 0 0 0 0 2 6 0 0 0 0 4 4 0 0 0 0 0 0 0 0 0 0 0 0]\n",
      "Q_values : [ 1.6680927  1.7549474 -1.4834354 -1.1020336]\n",
      "state : [0 0 0 0 0 0 0 0 0 0 0 0 0 0 0 0 2 6 0 0 0 0 4 4 0 0 0 0 0 0 0 0 0 0 0 0]\n",
      "Q_values : [ 1.6480812   1.6818395  -1.2055001  -0.34414053]\n",
      "state : [0 0 0 0 0 0 0 0 0 0 0 0 0 0 0 0 2 6 0 0 0 0 4 4 0 0 0 0 0 0 0 0 0 0 0 0]\n",
      "Q_values : [ 0.91346455  1.2293427  -1.4665685   0.52521753]\n",
      "state : [0 0 0 0 0 0 0 0 0 0 0 0 0 0 0 0 0 6 0 0 0 0 0 4 0 0 0 0 0 0 0 0 0 0 0 0]\n",
      "Q_values : [ 2.476228   2.6595497 -1.9528217  1.6686742]\n",
      "Step #100.00 (0ms ?*RT. ?UPS, TraCI: 31ms, vehicles TOT 33 ACT 16 BUF 0)                   \n",
      "episode : 112\n",
      " Retrying in 1 seconds\n"
     ]
    },
    {
     "name": "stderr",
     "output_type": "stream",
     "text": [
      "Warning: Environment variable SUMO_HOME is not set properly, disabling XML validation. Set 'auto' or 'always' for web lookups.\n"
     ]
    },
    {
     "name": "stdout",
     "output_type": "stream",
     "text": [
      "state : [0 0 0 0 0 0 0 0 0 0 0 0 0 0 0 0 0 0 0 0 0 0 0 0 0 0 0 0 0 0 0 0 0 0 0 0]\n",
      "Q_values : [ 2.629544   2.9324064 -1.8846881  2.1697724]\n",
      "state : [0 0 0 0 0 0 0 0 0 0 0 0 0 0 0 0 0 0 0 0 0 0 0 0 0 0 0 0 0 0 0 0 0 0 0 0]\n",
      "Q_values : [ 2.7678719  3.8265395 -1.2733088  1.5941503]\n",
      "state : [0 0 0 0 0 0 0 0 0 0 0 0 0 0 0 0 0 0 0 0 0 0 0 0 0 0 0 0 0 0 0 0 0 0 0 0]\n",
      "Q_values : [ 3.8877025   3.6076775  -0.01865888  1.44489   ]\n",
      "state : [0 0 0 0 0 0 0 0 0 0 0 0 0 0 0 0 0 0 0 0 0 0 0 0 0 0 0 0 0 0 0 0 0 0 0 0]\n",
      "Q_values : [2.9348187  2.2235608  1.4633337  0.10146308]\n",
      "state : [0 0 0 0 0 0 0 0 0 0 0 0 0 0 1 0 0 1 0 0 0 0 0 0 0 0 0 0 0 0 0 0 0 0 0 0]         \n",
      "Q_values : [ 2.7795806   2.830473    0.9625459  -0.21319747]\n",
      "Step #31.00 (0ms ?*RT. ?UPS, TraCI: 0ms, vehicles TOT 31 ACT 31 BUF 1)                    \r"
     ]
    },
    {
     "name": "stderr",
     "output_type": "stream",
     "text": [
      "Warning: Vehicle 'veh_2' performs emergency stop at the end of lane 'end1_junction_2' because of a red traffic light (decel=-20.39, offset=0.10), time=21.24.\n",
      "Warning: Vehicle 'veh_10' performs emergency stop at the end of lane 'end2_junction_1' because of a red traffic light (decel=-14.66, offset=0.00), time=31.19.\n"
     ]
    },
    {
     "name": "stdout",
     "output_type": "stream",
     "text": [
      "state : [0 0 0 0 0 0 0 0 0 0 0 0 0 0 0 0 1 2 0 0 0 0 0 0 0 0 0 0 0 0 0 0 0 0 0 0]\n",
      "Q_values : [ 1.5171789   1.7401371   0.9588301  -0.34129643]\n",
      "state : [0 0 0 0 0 0 0 0 0 0 0 0 0 0 0 0 4 6 0 0 0 0 2 1 0 0 0 0 0 0 0 0 0 0 0 0]\n",
      "Q_values : [ 2.6393247   1.9602551  -1.4021335  -0.59619164]\n",
      "state : [0 0 0 0 0 0 0 0 0 0 0 0 0 0 0 0 4 6 0 0 0 0 3 3 0 0 0 0 0 0 0 0 0 0 0 0]\n",
      "Q_values : [ 2.4243312   1.8197451  -1.0771718  -0.08309579]\n",
      "state : [0 0 0 0 0 0 0 0 0 0 0 0 0 0 0 0 4 6 0 0 0 0 4 4 0 0 0 0 0 0 0 0 0 0 0 0]\n",
      "Q_values : [ 2.7328877  2.7896252 -1.1367891 -1.2827919]\n",
      "state : [0 0 0 0 0 0 0 0 0 0 0 0 0 0 0 0 0 6 0 0 0 0 0 4 0 0 0 0 0 0 0 0 0 0 0 0]\n",
      "Q_values : [ 2.9758432  2.266983  -1.1539831 -1.8318686]\n",
      "state : [0 0 0 0 0 0 0 0 0 0 0 0 0 0 0 0 0 6 0 0 0 0 0 4 0 0 0 0 0 0 0 0 0 0 0 0]\n",
      "Q_values : [ 2.2268054  2.261857  -1.0102997 -1.5631611]\n",
      "state : [0 0 0 0 0 0 0 0 0 0 0 0 0 0 0 0 0 6 0 0 0 0 0 4 0 0 0 0 0 0 0 0 0 0 0 0]\n",
      "Q_values : [ 2.5455925  2.6682758 -1.5252037 -1.565875 ]\n",
      "state : [0 0 0 0 0 0 0 0 0 0 0 0 0 0 0 0 0 6 0 0 0 0 0 4 0 0 0 0 0 0 0 0 0 0 0 0]\n",
      "Q_values : [ 3.1507215   2.7460172  -0.48478484 -1.1500962 ]\n",
      "state : [0 0 0 0 0 0 0 0 0 0 0 0 0 0 0 0 0 6 0 0 0 0 0 4 0 0 0 0 0 0 0 0 0 0 0 0]\n",
      "Q_values : [ 2.9414423  3.1148891  0.04319   -1.5580499]\n",
      "Step #100.00 (0ms ?*RT. ?UPS, TraCI: 31ms, vehicles TOT 33 ACT 10 BUF 0)                   \n",
      "episode : 113\n",
      " Retrying in 1 seconds\n"
     ]
    },
    {
     "name": "stderr",
     "output_type": "stream",
     "text": [
      "Warning: Environment variable SUMO_HOME is not set properly, disabling XML validation. Set 'auto' or 'always' for web lookups.\n"
     ]
    },
    {
     "name": "stdout",
     "output_type": "stream",
     "text": [
      "state : [0 0 0 0 0 0 0 0 0 0 0 0 0 0 0 0 0 0 0 0 0 0 0 0 0 0 0 0 0 0 0 0 0 0 0 0]\n",
      "Q_values : [ 2.850173   3.3641462  0.4147246 -1.676265 ]\n",
      "state : [0 0 0 0 0 0 0 0 0 0 0 0 0 0 0 0 0 0 0 0 0 0 0 0 0 0 0 0 0 0 0 0 0 0 0 0]\n",
      "Q_values : [ 1.9979737  2.788247   1.0158942 -1.4575171]\n",
      "state : [0 0 0 0 0 0 0 0 0 0 0 0 0 0 0 0 0 0 0 0 0 0 0 0 0 0 0 0 0 0 0 0 0 0 0 0]\n",
      "Q_values : [ 1.5373721  1.2218364  1.4841579 -0.5841987]\n",
      "state : [0 0 0 0 0 0 0 0 0 0 0 0 0 0 0 0 0 0 0 0 0 0 0 0 0 0 0 0 0 0 0 0 0 0 0 0]\n",
      "Q_values : [ 1.5510848   0.723451    0.36251903 -0.49705338]\n",
      "state : [0 0 0 0 0 0 0 0 0 0 0 0 0 0 0 0 0 0 0 0 0 0 0 0 0 0 0 0 0 0 0 0 0 0 0 0]\n",
      "Q_values : [1.3372012  0.81095195 0.27272987 0.03274322]\n",
      "state : [0 0 0 0 0 0 0 0 0 0 0 0 0 0 1 0 1 1 0 0 0 0 0 0 0 0 0 0 0 0 0 0 0 0 0 0]\n",
      "Q_values : [ 1.9241776   1.8887041  -1.9572532  -0.69152236]\n",
      "state : [0 0 0 0 0 0 0 0 0 0 0 0 0 0 1 0 2 2 0 0 0 0 0 0 0 0 0 0 0 0 0 0 0 0 0 0]\n",
      "Q_values : [ 1.9731541  1.704927  -2.6457815 -2.081556 ]\n",
      "state : [0 0 0 0 0 0 0 0 0 0 0 0 0 0 1 0 4 4 0 0 0 0 0 0 0 0 0 0 0 0 0 0 0 0 0 0]\n",
      "Q_values : [ 2.394011   1.6282189 -2.8046248 -2.717961 ]\n",
      "state : [0 0 0 0 0 0 0 0 0 0 0 0 0 0 1 0 6 5 0 0 0 0 1 1 0 0 0 0 0 0 0 0 0 0 0 0]\n",
      "Q_values : [ 1.8639853  2.3712652 -2.9501133 -2.0630772]\n",
      "state : [0 0 0 0 0 0 0 0 0 0 0 0 0 0 0 0 6 6 0 0 0 0 2 1 0 0 0 0 0 0 0 0 0 0 0 0]\n",
      "Q_values : [ 2.4675205  1.8445201 -2.456623  -1.2299271]\n",
      "state : [0 0 0 0 0 0 0 0 0 0 0 0 0 0 0 0 6 6 0 0 0 0 3 3 0 0 0 0 0 0 0 0 0 0 0 0]\n",
      "Q_values : [ 2.8519459   1.7227234  -1.5468471  -0.09378958]\n",
      "state : [0 0 0 0 0 0 0 0 0 0 0 0 0 0 0 0 6 6 0 0 0 0 4 4 0 0 0 0 0 0 0 0 0 0 0 0]\n",
      "Q_values : [ 2.5256255   2.0299087  -0.04138827 -0.03599477]\n",
      "state : [0 0 0 0 0 0 0 0 0 0 0 0 0 0 0 0 6 6 0 0 0 0 4 4 0 0 0 0 0 0 0 0 0 0 0 0]\n",
      "Q_values : [ 1.5315397   1.9110636   1.2397258  -0.04421782]\n",
      "state : [0 0 0 0 0 0 0 0 0 0 0 0 0 0 0 0 6 6 0 0 0 0 4 4 0 0 0 0 0 0 0 0 0 0 0 0]\n",
      "Q_values : [1.5325979 2.0485778 2.1508253 0.8089988]\n"
     ]
    },
    {
     "name": "stderr",
     "output_type": "stream",
     "text": [
      "Warning: Vehicle 'veh_16' performs emergency stop at the end of lane 'end2_junction_1' because of a red traffic light (decel=-10.96, offset=0.00), time=75.78.\n"
     ]
    },
    {
     "name": "stdout",
     "output_type": "stream",
     "text": [
      "state : [0 0 0 0 0 0 0 0 0 0 0 0 0 0 0 0 2 0 0 0 0 0 0 0 0 0 0 0 0 0 0 0 0 0 0 0]UF 0)    \n",
      "Q_values : [1.4840318 2.0213108 2.3158352 2.0767407]\n",
      "state : [0 0 0 0 0 0 0 0 0 0 0 0 0 0 0 0 0 1 0 0 0 0 0 0 0 0 0 0 0 0 0 0 0 0 0 0]\n",
      "Q_values : [2.649284  1.9224815 1.9733027 1.758477 ]\n",
      "state : [0 0 0 0 0 0 0 0 0 0 0 0 0 0 0 0 0 2 0 0 0 0 0 0 0 0 0 0 0 0 0 0 0 0 0 0]\n",
      "Q_values : [2.7827973  2.8868709  1.2575775  0.06003237]\n",
      "Step #100.00 (0ms ?*RT. ?UPS, TraCI: 35ms, vehicles TOT 33 ACT 3 BUF 0)                    \n",
      "episode : 114\n",
      " Retrying in 1 seconds\n"
     ]
    },
    {
     "name": "stderr",
     "output_type": "stream",
     "text": [
      "Warning: Environment variable SUMO_HOME is not set properly, disabling XML validation. Set 'auto' or 'always' for web lookups.\n"
     ]
    },
    {
     "name": "stdout",
     "output_type": "stream",
     "text": [
      "state : [0 0 0 0 0 0 0 0 0 0 0 0 0 0 0 0 0 0 0 0 0 0 0 0 0 0 0 0 0 0 0 0 0 0 0 0]\n",
      "Q_values : [2.430145   2.2841492  0.09695816 0.09949875]\n",
      "state : [0 0 0 0 0 0 0 0 0 0 0 0 0 0 0 0 0 0 0 0 0 0 0 0 0 0 0 0 0 0 0 0 0 0 0 0]\n",
      "Q_values : [ 0.716951   2.053585  -0.9164605 -0.5268705]\n",
      "state : [0 0 0 0 0 0 0 0 0 0 0 0 0 0 0 0 0 0 0 0 0 0 0 0 0 0 0 0 0 0 0 0 0 0 0 0]\n",
      "Q_values : [ 1.6200025  2.2159655 -1.6702344 -0.7123132]\n",
      "state : [0 0 0 0 0 0 0 0 0 0 0 0 0 0 0 0 0 0 0 0 0 0 0 0 0 0 0 0 0 0 0 0 0 0 0 0]\n",
      "Q_values : [ 2.546012    2.2311578  -1.8711064  -0.43223166]\n",
      "state : [0 0 0 0 0 0 0 0 0 0 0 0 0 0 1 0 1 0 0 0 0 0 0 0 0 0 0 0 0 0 0 0 0 0 0 0]         \n",
      "Q_values : [ 2.0343027   2.183271   -2.3296213   0.07124305]\n"
     ]
    },
    {
     "name": "stderr",
     "output_type": "stream",
     "text": [
      "Warning: Vehicle 'veh_2' performs emergency stop at the end of lane 'end1_junction_2' because of a red traffic light (decel=-20.39, offset=0.10), time=21.24.\n"
     ]
    },
    {
     "name": "stdout",
     "output_type": "stream",
     "text": [
      "state : [0 0 0 0 0 0 0 0 0 0 0 0 0 0 0 0 1 1 0 0 0 0 0 0 0 0 0 0 0 0 0 0 0 0 0 0]\n",
      "Q_values : [ 1.7263812  2.875098  -2.3102157  0.5663123]\n",
      "state : [0 0 0 0 0 0 0 0 0 0 0 0 0 0 0 0 0 4 0 0 0 0 0 0 0 0 0 0 0 0 0 0 0 0 0 0]\n",
      "Q_values : [ 2.1025057   2.1516054  -2.4748378   0.55529404]\n",
      "Step #40.00 (0ms ?*RT. ?UPS, TraCI: 58ms, vehicles TOT 33 ACT 31 BUF 0)                   \r"
     ]
    },
    {
     "name": "stderr",
     "output_type": "stream",
     "text": [
      "Warning: Vehicle 'veh_22' performs emergency stop at the end of lane 'end4_junction_1' because of a red traffic light (decel=-42.49, offset=0.27), time=40.34.\n"
     ]
    },
    {
     "name": "stdout",
     "output_type": "stream",
     "text": [
      "state : [0 0 0 0 0 0 0 0 0 0 0 0 0 0 0 0 1 5 0 0 0 0 1 1 0 0 0 0 0 0 0 0 0 0 0 0]\n",
      "Q_values : [ 2.3470445  1.678162  -2.2339497  0.7093308]\n",
      "state : [0 0 0 0 0 0 0 0 0 0 0 0 0 0 0 0 2 6 0 0 0 0 2 1 0 0 0 0 0 0 0 0 0 0 0 0]\n",
      "Q_values : [ 2.6960564   1.3502094  -0.7182734   0.36852717]\n",
      "state : [0 0 0 0 0 0 0 0 0 0 0 0 0 0 0 0 0 6 0 0 0 0 0 4 0 0 0 0 0 0 0 0 0 0 0 0]\n",
      "Q_values : [ 2.6821423  2.7301056  0.9354296 -0.044168 ]\n",
      "state : [0 0 0 0 0 0 0 0 0 0 0 0 0 0 0 0 0 6 0 0 0 0 0 4 0 0 0 0 0 0 0 0 0 0 0 0]\n",
      "Q_values : [1.8584447  1.8244978  0.49361444 0.41083908]\n",
      "state : [0 0 0 0 0 0 0 0 0 0 0 0 0 0 0 0 0 6 0 0 0 0 0 4 0 0 0 0 0 0 0 0 0 0 0 0]\n",
      "Q_values : [2.1846547  1.6975204  0.42921448 0.30826735]\n",
      "state : [0 0 0 0 0 0 0 0 0 0 0 0 0 0 0 0 0 0 0 0 0 0 0 0 0 0 0 0 0 0 0 0 0 0 0 0]\n",
      "Q_values : [ 1.8154564   2.4644175  -2.0089746  -0.47514868]\n",
      "Step #100.00 (0ms ?*RT. ?UPS, TraCI: 34ms, vehicles TOT 33 ACT 10 BUF 0)                   \n",
      "episode : 115\n",
      " Retrying in 1 seconds\n"
     ]
    },
    {
     "name": "stderr",
     "output_type": "stream",
     "text": [
      "Warning: Environment variable SUMO_HOME is not set properly, disabling XML validation. Set 'auto' or 'always' for web lookups.\n"
     ]
    },
    {
     "name": "stdout",
     "output_type": "stream",
     "text": [
      "state : [0 0 0 0 0 0 0 0 0 0 0 0 0 0 0 0 0 0 0 0 0 0 0 0 0 0 0 0 0 0 0 0 0 0 0 0]\n",
      "Q_values : [ 2.520956    2.522863   -1.5636756  -0.47058725]\n",
      "state : [0 0 0 0 0 0 0 0 0 0 0 0 0 0 0 0 0 0 0 0 0 0 0 0 0 0 0 0 0 0 0 0 0 0 0 0]\n",
      "Q_values : [ 2.0763993  1.6534677 -0.6884804 -0.7203407]\n",
      "state : [0 0 0 0 0 0 0 0 0 0 0 0 0 0 0 0 0 0 0 0 0 0 0 0 0 0 0 0 0 0 0 0 0 0 0 0]\n",
      "Q_values : [ 1.4609518   1.4520465  -0.04817176 -0.53615975]\n",
      "state : [0 0 0 0 0 0 0 0 0 0 0 0 0 0 0 0 0 0 0 0 0 0 0 0 0 0 0 0 0 0 0 0 0 0 0 0]\n",
      "Q_values : [ 1.7969507   1.5037513   0.01949477 -0.180614  ]\n",
      "state : [0 0 0 0 0 0 0 0 0 0 0 0 0 0 1 0 1 0 0 0 0 0 0 0 0 0 0 0 0 0 0 0 0 0 0 0]\n",
      "Q_values : [ 2.6449306   2.8825436   0.13509631 -0.70771146]\n",
      "state : [0 0 0 0 0 0 0 0 0 0 0 0 0 0 0 0 1 1 0 0 0 0 0 0 0 0 0 0 0 0 0 0 0 0 0 0]\n",
      "Q_values : [ 3.1291475   2.3257065   0.08682513 -0.20589948]\n",
      "state : [0 0 0 0 0 0 0 0 0 0 0 0 0 0 0 0 4 0 0 0 0 0 0 0 0 0 0 0 0 0 0 0 0 0 0 0]\n",
      "Q_values : [ 2.724204   1.6539402 -1.6523418 -1.5289023]\n",
      "Step #42.00 (0ms ?*RT. ?UPS, TraCI: 0ms, vehicles TOT 33 ACT 30 BUF 0)                    \r"
     ]
    },
    {
     "name": "stderr",
     "output_type": "stream",
     "text": [
      "Warning: Vehicle 'veh_23' performs emergency stop at the end of lane 'end4_junction_2' because of a red traffic light (decel=-19.20, offset=0.09), time=42.38.\n"
     ]
    },
    {
     "name": "stdout",
     "output_type": "stream",
     "text": [
      "state : [0 0 0 0 0 0 0 0 0 0 0 0 0 0 0 0 6 1 0 0 0 0 1 1 0 0 0 0 0 0 0 0 0 0 0 0]\n",
      "Q_values : [ 2.7355485  2.8760133 -2.0018399 -0.5533726]\n",
      "state : [0 0 0 0 0 0 0 0 0 0 0 0 0 0 0 0 6 1 0 0 0 0 2 1 0 0 0 0 0 0 0 0 0 0 0 0]\n",
      "Q_values : [ 2.2392173   2.9615602  -1.4085395  -0.34930444]\n",
      "state : [0 0 0 0 0 0 0 0 0 0 0 0 0 0 0 0 6 1 0 0 0 0 3 3 0 0 0 0 0 0 0 0 0 0 0 0]\n",
      "Q_values : [ 1.7441278   2.227994   -0.68726015  0.21612167]\n",
      "state : [0 0 0 0 0 0 0 0 0 0 0 0 0 0 0 0 6 1 0 0 0 0 4 4 0 0 0 0 0 0 0 0 0 0 0 0]\n",
      "Q_values : [1.6516498  1.4100691  0.6589966  0.45619822]\n",
      "state : [0 0 0 0 0 0 0 0 0 0 0 0 0 0 0 0 6 0 0 0 0 0 4 0 0 0 0 0 0 0 0 0 0 0 0 0]\n",
      "Q_values : [1.8265399 1.8680654 2.2079983 0.5256083]\n",
      "state : [0 0 0 0 0 0 0 0 0 0 0 0 0 0 0 0 0 0 0 0 0 0 0 0 0 0 0 0 0 0 0 0 0 0 0 0]\n",
      "Q_values : [1.7417289  1.2525771  1.9468691  0.14606476]\n",
      "state : [0 0 0 0 0 0 0 0 0 0 0 0 0 0 0 0 0 0 0 0 0 0 0 0 0 0 0 0 0 0 0 0 0 0 0 0]\n",
      "Q_values : [ 1.972507   1.7332263 -0.7430389 -1.0006511]\n",
      "state : [0 0 0 0 0 0 0 0 0 0 0 0 0 0 0 0 0 0 0 0 0 0 0 0 0 0 0 0 0 0 0 0 0 0 0 0]\n",
      "Q_values : [ 2.2531445  2.272181  -1.3944368 -1.1979313]\n",
      "state : [0 0 0 0 0 0 0 0 0 0 0 0 0 0 0 0 0 0 0 0 0 0 0 0 0 0 0 0 0 0 0 0 0 0 0 0]\n",
      "Q_values : [ 1.6647221  2.3667455 -2.6471014 -2.2904935]\n",
      "Step #100.00 (0ms ?*RT. ?UPS, TraCI: 31ms, vehicles TOT 33 ACT 0 BUF 0)                    \n",
      "episode : 116\n",
      " Retrying in 1 seconds\n"
     ]
    },
    {
     "name": "stderr",
     "output_type": "stream",
     "text": [
      "Warning: Environment variable SUMO_HOME is not set properly, disabling XML validation. Set 'auto' or 'always' for web lookups.\n"
     ]
    },
    {
     "name": "stdout",
     "output_type": "stream",
     "text": [
      "state : [0 0 0 0 0 0 0 0 0 0 0 0 0 0 1 0 1 0 0 0 0 0 0 0 0 0 0 0 0 0 0 0 0 0 0 0]\n",
      "Q_values : [3.118898  3.4575534 0.6927726 0.528167 ]\n",
      "state : [0 0 0 0 0 0 0 0 0 0 0 0 0 0 0 0 1 1 0 0 0 0 0 0 0 0 0 0 0 0 0 0 0 0 0 0]\n",
      "Q_values : [3.0681567 2.4618282 1.6280272 1.3752728]\n",
      "state : [0 0 0 0 0 0 0 0 0 0 0 0 0 0 0 0 2 1 0 0 0 0 0 0 0 0 0 0 0 0 0 0 0 0 0 0]\n",
      "Q_values : [2.3127983 2.1833858 2.637877  1.5043662]\n",
      "state : [0 0 0 0 0 0 0 0 0 0 0 0 0 0 0 0 0 3 0 0 0 0 0 0 0 0 0 0 0 0 0 0 0 0 0 0]\n",
      "Q_values : [2.2965455 1.9307489 2.1313133 1.5254884]\n",
      "state : [0 0 0 0 0 0 0 0 0 0 0 0 0 0 0 0 1 4 0 0 0 0 1 1 0 0 0 0 0 0 0 0 0 0 0 0]         \n",
      "Q_values : [1.8886616  1.6124028  2.2313764  0.46431184]\n"
     ]
    },
    {
     "name": "stderr",
     "output_type": "stream",
     "text": [
      "Warning: Vehicle 'veh_22' performs emergency stop at the end of lane 'end4_junction_1' because of a red traffic light (decel=-42.49, offset=0.27), time=40.34.\n"
     ]
    },
    {
     "name": "stdout",
     "output_type": "stream",
     "text": [
      "state : [0 0 0 0 0 0 0 0 0 0 0 0 0 0 0 0 0 5 0 0 0 0 1 3 0 0 0 0 0 0 0 0 0 0 0 0]\n",
      "Q_values : [ 1.7878149  2.437891  -0.4668007 -0.0824132]\n",
      "state : [0 0 0 0 0 0 0 0 0 0 0 0 0 0 0 0 0 5 0 0 0 0 0 4 0 0 0 0 0 0 0 0 0 0 0 0]\n",
      "Q_values : [ 2.7900772  2.0973368 -1.915853  -1.8545878]\n",
      "state : [0 0 0 0 0 0 0 0 0 0 0 0 0 0 0 0 0 5 0 0 0 0 0 4 0 0 0 0 0 0 0 0 0 0 0 0]\n",
      "Q_values : [ 2.705687   2.0106816 -2.9142125 -1.7078557]\n",
      "state : [0 0 0 0 0 0 0 0 0 0 0 0 0 0 0 0 0 5 0 0 0 0 0 4 0 0 0 0 0 0 0 0 0 0 0 0]\n",
      "Q_values : [ 2.423409   2.0592155 -2.4678643 -1.1455431]\n",
      "state : [0 0 0 0 0 0 0 0 0 0 0 0 0 0 0 0 0 0 0 0 0 0 0 0 0 0 0 0 0 0 0 0 0 0 0 0]\n",
      "Q_values : [ 1.3321917  1.8266675 -0.5242357 -1.0028086]\n",
      "state : [0 0 0 0 0 0 0 0 0 0 0 0 0 0 0 0 0 1 0 0 0 0 0 0 0 0 0 0 0 0 0 0 0 0 0 0]\n",
      "Q_values : [ 1.3648688   2.5323353   0.42413068 -0.9799228 ]\n",
      "Step #100.00 (0ms ?*RT. ?UPS, TraCI: 30ms, vehicles TOT 33 ACT 9 BUF 0)                    \n",
      "episode : 117\n",
      " Retrying in 1 seconds\n"
     ]
    },
    {
     "name": "stderr",
     "output_type": "stream",
     "text": [
      "Warning: Environment variable SUMO_HOME is not set properly, disabling XML validation. Set 'auto' or 'always' for web lookups.\n"
     ]
    },
    {
     "name": "stdout",
     "output_type": "stream",
     "text": [
      "state : [0 0 0 0 0 0 0 0 0 0 0 0 0 0 0 0 0 0 0 0 0 0 0 0 0 0 0 0 0 0 0 0 0 0 0 0]\n",
      "Q_values : [ 1.5565675   2.5545359  -0.70500255 -0.32650638]\n",
      "state : [0 0 0 0 0 0 0 0 0 0 0 0 0 0 0 0 0 0 0 0 0 0 0 0 0 0 0 0 0 0 0 0 0 0 0 0]\n",
      "Q_values : [ 1.8488975   3.1414564  -1.4078751   0.28129172]\n",
      "state : [0 0 0 0 0 0 0 0 0 0 0 0 0 0 0 0 0 0 0 0 0 0 0 0 0 0 0 0 0 0 0 0 0 0 0 0]\n",
      "Q_values : [ 2.9510121  2.6132195 -1.6103024  0.634002 ]\n",
      "Step #21.00 (0ms ?*RT. ?UPS, TraCI: 0ms, vehicles TOT 22 ACT 22 BUF 0)                    \r"
     ]
    },
    {
     "name": "stderr",
     "output_type": "stream",
     "text": [
      "Warning: Vehicle 'veh_2' performs emergency stop at the end of lane 'end1_junction_2' because of a red traffic light (decel=-20.39, offset=0.10), time=21.24.\n",
      "Warning: Vehicle 'veh_10' performs emergency stop at the end of lane 'end2_junction_1' because of a red traffic light (decel=-14.66, offset=0.00), time=31.19.\n"
     ]
    },
    {
     "name": "stdout",
     "output_type": "stream",
     "text": [
      "state : [0 0 0 0 0 0 0 0 0 0 0 0 0 0 1 0 0 1 0 0 0 0 0 0 0 0 0 0 0 0 0 0 0 0 0 0]\n",
      "Q_values : [ 2.6062443   2.6643007  -1.0088694   0.20520139]\n",
      "state : [0 0 0 0 0 0 0 0 0 0 0 0 0 0 0 0 1 2 0 0 0 0 0 0 0 0 0 0 0 0 0 0 0 0 0 0]         \n",
      "Q_values : [ 3.3809128   1.8208795  -0.4221084  -0.14147902]\n",
      "state : [0 0 0 0 0 0 0 0 0 0 0 0 0 0 0 0 2 4 0 0 0 0 0 0 0 0 0 0 0 0 0 0 0 0 0 0]\n",
      "Q_values : [ 2.8177156   2.3012142   0.41741562 -0.00788426]\n",
      "state : [0 0 0 0 0 0 0 0 0 0 0 0 0 0 0 0 4 5 0 0 0 0 1 1 0 0 0 0 0 0 0 0 0 0 0 0]\n",
      "Q_values : [2.098814  2.9849129 1.0462611 0.5216186]\n",
      "state : [0 0 0 0 0 0 0 0 0 0 0 0 0 0 0 0 4 6 0 0 0 0 2 1 0 0 0 0 0 0 0 0 0 0 0 0]\n",
      "Q_values : [1.5956924  3.5551295  1.2182899  0.92185855]\n",
      "state : [0 0 0 0 0 0 0 0 0 0 0 0 0 0 0 0 4 6 0 0 0 0 3 3 0 0 0 0 0 0 0 0 0 0 0 0]\n",
      "Q_values : [2.1177378 3.5034003 0.5753126 1.3763404]\n",
      "state : [0 0 0 0 0 0 0 0 0 0 0 0 0 0 0 0 4 6 0 0 0 0 4 4 0 0 0 0 0 0 0 0 0 0 0 0]\n",
      "Q_values : [ 2.89697     2.8342037  -0.42681742  1.0972786 ]\n",
      "state : [0 0 0 0 0 0 0 0 0 0 0 0 0 0 0 0 4 6 0 0 0 0 4 4 0 0 0 0 0 0 0 0 0 0 0 0]\n",
      "Q_values : [ 2.4874792   2.5875936  -0.43412805  0.5151944 ]\n",
      "state : [0 0 0 0 0 0 0 0 0 0 0 0 0 0 0 0 4 6 0 0 0 0 4 4 0 0 0 0 0 0 0 0 0 0 0 0]\n",
      "Q_values : [ 1.6873066   1.6956838  -0.22748232 -0.29145122]\n",
      "state : [0 0 0 0 0 0 0 0 0 0 0 0 0 0 0 0 4 6 0 0 0 0 4 4 0 0 0 0 0 0 0 0 0 0 0 0]\n",
      "Q_values : [ 2.2307725   1.2231463   0.10915184 -0.8446536 ]\n",
      "state : [0 0 0 0 0 0 0 0 0 0 0 0 0 0 0 0 4 6 0 0 0 0 4 4 0 0 0 0 0 0 0 0 0 0 0 0]\n",
      "Q_values : [ 1.488584    2.0243745  -0.03279853 -2.2204437 ]\n",
      "state : [0 0 0 0 0 0 0 0 0 0 0 0 0 0 0 0 4 6 0 0 0 0 4 4 0 0 0 0 0 0 0 0 0 0 0 0]\n",
      "Q_values : [ 1.7182598   1.8889698   0.18309689 -2.584363  ]\n",
      "Step #100.00 (0ms ?*RT. ?UPS, TraCI: 31ms, vehicles TOT 33 ACT 18 BUF 0)                   \n",
      "episode : 118\n",
      " Retrying in 1 seconds\n"
     ]
    },
    {
     "name": "stderr",
     "output_type": "stream",
     "text": [
      "Warning: Environment variable SUMO_HOME is not set properly, disabling XML validation. Set 'auto' or 'always' for web lookups.\n"
     ]
    },
    {
     "name": "stdout",
     "output_type": "stream",
     "text": [
      "state : [0 0 0 0 0 0 0 0 0 0 0 0 0 0 0 0 0 0 0 0 0 0 0 0 0 0 0 0 0 0 0 0 0 0 0 0]\n",
      "Q_values : [ 1.8355558   2.0808651  -0.71816087 -3.5234156 ]\n",
      "state : [0 0 0 0 0 0 0 0 0 0 0 0 0 0 0 0 0 0 0 0 0 0 0 0 0 0 0 0 0 0 0 0 0 0 0 0]\n",
      "Q_values : [ 1.3515894   1.870646   -0.65575933 -2.6312253 ]\n",
      "state : [0 0 0 0 0 0 0 0 0 0 0 0 0 0 0 0 0 0 0 0 0 0 0 0 0 0 0 0 0 0 0 0 0 0 0 0]\n",
      "Q_values : [ 2.708804    1.9860827  -0.13357568 -1.7317755 ]\n",
      "state : [0 0 0 0 0 0 0 0 0 0 0 0 0 0 0 0 0 0 0 0 0 0 0 0 0 0 0 0 0 0 0 0 0 0 0 0]\n",
      "Q_values : [ 2.7533574   2.985341   -0.69512725 -1.402529  ]\n",
      "state : [0 0 0 0 0 0 0 0 0 0 0 0 0 0 0 0 1 1 0 0 0 0 0 0 0 0 0 0 0 0 0 0 0 0 0 0]\n",
      "Q_values : [ 2.5659556   2.7909539  -0.57364964 -0.01277232]\n",
      "state : [0 0 0 0 0 0 0 0 0 0 0 0 0 0 0 0 2 2 0 0 0 0 0 0 0 0 0 0 0 0 0 0 0 0 0 0]\n",
      "Q_values : [ 2.453487    1.186026   -0.04501915  0.2502861 ]\n",
      "state : [0 0 0 0 0 0 0 0 0 0 0 0 0 0 0 0 6 5 0 0 0 0 1 1 0 0 0 0 0 0 0 0 0 0 0 0]\n",
      "Q_values : [ 2.5037212  1.9046879 -1.0271153 -1.6218424]\n",
      "state : [0 0 0 0 0 0 0 0 0 0 0 0 0 0 0 0 6 6 0 0 0 0 2 1 0 0 0 0 0 0 0 0 0 0 0 0]\n",
      "Q_values : [ 2.2445617  3.1693547 -0.7379565 -2.2321513]\n",
      "state : [0 0 0 0 0 0 0 0 0 0 0 0 0 0 0 0 6 6 0 0 0 0 3 3 0 0 0 0 0 0 0 0 0 0 0 0]\n",
      "Q_values : [ 3.3983216   2.5394936  -0.73556805 -2.1321173 ]\n",
      "state : [0 0 0 0 0 0 0 0 0 0 0 0 0 0 0 0 6 6 0 0 0 0 4 4 0 0 0 0 0 0 0 0 0 0 0 0]\n",
      "Q_values : [ 2.9135385  3.745903  -0.4602673 -1.602035 ]\n",
      "state : [0 0 0 0 0 0 0 0 0 0 0 0 0 0 0 0 6 1 0 0 0 0 4 0 0 0 0 0 0 0 0 0 0 0 0 0]\n",
      "Q_values : [1.8457472  2.5536294  1.118617   0.16329908]\n",
      "state : [0 0 0 0 0 0 0 0 0 0 0 0 0 0 0 0 6 2 0 0 0 0 4 0 0 0 0 0 0 0 0 0 0 0 0 0]\n",
      "Q_values : [ 1.6583047   1.360496    1.5613759  -0.02624464]\n",
      "state : [0 0 0 0 0 0 0 0 0 0 0 0 0 0 0 0 6 2 0 0 0 0 4 0 0 0 0 0 0 0 0 0 0 0 0 0]\n",
      "Q_values : [ 1.0231183   0.9575746   0.00492287 -0.5718968 ]\n",
      "state : [0 0 0 0 0 0 0 0 0 0 0 0 0 0 0 0 0 2 0 0 0 0 0 0 0 0 0 0 0 0 0 0 0 0 0 0]\n",
      "Q_values : [ 1.2682458  1.1277001 -2.50792   -1.6316645]\n",
      "Step #100.00 (0ms ?*RT. ?UPS, TraCI: 31ms, vehicles TOT 33 ACT 12 BUF 0)                   \n",
      "episode : 119\n",
      " Retrying in 1 seconds\n"
     ]
    },
    {
     "name": "stderr",
     "output_type": "stream",
     "text": [
      "Warning: Environment variable SUMO_HOME is not set properly, disabling XML validation. Set 'auto' or 'always' for web lookups.\n"
     ]
    },
    {
     "name": "stdout",
     "output_type": "stream",
     "text": [
      "state : [0 0 0 0 0 0 0 0 0 0 0 0 0 0 0 0 0 0 0 0 0 0 0 0 0 0 0 0 0 0 0 0 0 0 0 0]\n",
      "Q_values : [ 1.1260083  1.4044651 -3.4400876 -2.0069757]\n",
      "state : [0 0 0 0 0 0 0 0 0 0 0 0 0 0 0 0 0 0 0 0 0 0 0 0 0 0 0 0 0 0 0 0 0 0 0 0]\n",
      "Q_values : [ 0.90167266  1.7548138  -3.5765178  -1.4448609 ]\n",
      "state : [0 0 0 0 0 0 0 0 0 0 0 0 0 0 0 0 0 0 0 0 0 0 0 0 0 0 0 0 0 0 0 0 0 0 0 0]\n",
      "Q_values : [ 1.5246673   1.6655489  -3.164974   -0.94914985]\n",
      "state : [0 0 0 0 0 0 0 0 0 0 0 0 0 0 0 0 0 0 0 0 0 0 0 0 0 0 0 0 0 0 0 0 0 0 0 0]\n",
      "Q_values : [ 2.893837    2.696927   -2.1721835  -0.61184597]\n",
      "state : [0 0 0 0 0 0 0 0 0 0 0 0 0 0 1 0 1 0 0 0 0 0 0 0 0 0 0 0 0 0 0 0 0 0 0 0]         \n",
      "Q_values : [ 3.9920967   3.08113    -1.4573703  -0.26880193]\n"
     ]
    },
    {
     "name": "stderr",
     "output_type": "stream",
     "text": [
      "Warning: Vehicle 'veh_2' performs emergency stop at the end of lane 'end1_junction_2' because of a red traffic light (decel=-20.39, offset=0.10), time=21.24.\n"
     ]
    },
    {
     "name": "stdout",
     "output_type": "stream",
     "text": [
      "state : [0 0 0 0 0 0 0 0 0 0 0 0 0 0 1 0 2 0 0 0 0 0 0 0 0 0 0 0 0 0 0 0 0 0 0 0]\n",
      "Q_values : [2.3614542  2.5325036  0.40338254 0.30658746]\n",
      "state : [0 0 0 0 0 0 0 0 0 0 0 0 0 0 0 0 4 1 0 0 0 0 0 0 0 0 0 0 0 0 0 0 0 0 0 0]\n",
      "Q_values : [2.1082144  1.9101564  0.54695296 0.6346097 ]\n",
      "state : [0 0 0 0 0 0 0 0 0 0 0 0 0 0 0 0 6 3 0 0 0 0 2 1 0 0 0 0 0 0 0 0 0 0 0 0]\n",
      "Q_values : [1.4332169 2.1751683 0.7355697 0.5181911]\n",
      "state : [0 0 0 0 0 0 0 0 0 0 0 0 0 0 0 0 6 3 0 0 0 0 3 3 0 0 0 0 0 0 0 0 0 0 0 0]\n",
      "Q_values : [2.3678863 2.3255687 1.3523843 0.3794515]\n",
      "state : [0 0 0 0 0 0 0 0 0 0 0 0 0 0 0 0 6 3 0 0 0 0 4 4 0 0 0 0 0 0 0 0 0 0 0 0]\n",
      "Q_values : [ 2.6121361   1.9297048   1.5489216  -0.70573425]\n",
      "state : [0 0 0 0 0 0 0 0 0 0 0 0 0 0 0 0 6 3 0 0 0 0 4 4 0 0 0 0 0 0 0 0 0 0 0 0]\n",
      "Q_values : [ 2.4573011  2.1485534  1.809139  -1.1907325]\n",
      "state : [0 0 0 0 0 0 0 0 0 0 0 0 0 0 0 0 6 3 0 0 0 0 4 4 0 0 0 0 0 0 0 0 0 0 0 0]\n",
      "Q_values : [ 1.8389387  2.3742175  1.9950957 -2.6808949]\n",
      "state : [0 0 0 0 0 0 0 0 0 0 0 0 0 0 0 0 0 3 0 0 0 0 0 4 0 0 0 0 0 0 0 0 0 0 0 0]\n",
      "Q_values : [ 2.236709   1.9139752  0.278198  -3.0379188]\n",
      "state : [0 0 0 0 0 0 0 0 0 0 0 0 0 0 0 0 2 3 0 0 0 0 0 4 0 0 0 0 0 0 0 0 0 0 0 0]         \n",
      "Q_values : [ 2.3419886   1.6181248  -0.45396614 -2.4309702 ]\n",
      "state : [0 0 0 0 0 0 0 0 0 0 0 0 0 0 0 0 2 3 0 0 0 0 0 4 0 0 0 0 0 0 0 0 0 0 0 0]\n",
      "Q_values : [ 2.0378246  3.248817  -2.3358831 -1.7800443]\n"
     ]
    },
    {
     "name": "stderr",
     "output_type": "stream",
     "text": [
      "Warning: Vehicle 'veh_16' performs emergency stop at the end of lane 'end2_junction_1' because of a red traffic light (decel=-10.36, offset=0.00), time=80.84.\n"
     ]
    },
    {
     "name": "stdout",
     "output_type": "stream",
     "text": [
      "state : [0 0 0 0 0 0 0 0 0 0 0 0 0 0 0 0 2 3 0 0 0 0 0 4 0 0 0 0 0 0 0 0 0 0 0 0]\n",
      "Q_values : [ 1.8476099  2.3217506 -2.467208  -1.8510866]\n",
      "Step #100.00 (0ms ?*RT. ?UPS, TraCI: 31ms, vehicles TOT 33 ACT 9 BUF 0)                    \n",
      "episode : 120\n",
      " Retrying in 1 seconds\n"
     ]
    },
    {
     "name": "stderr",
     "output_type": "stream",
     "text": [
      "Warning: Environment variable SUMO_HOME is not set properly, disabling XML validation. Set 'auto' or 'always' for web lookups.\n"
     ]
    },
    {
     "name": "stdout",
     "output_type": "stream",
     "text": [
      "state : [0 0 0 0 0 0 0 0 0 0 0 0 0 0 0 0 0 0 0 0 0 0 0 0 0 0 0 0 0 0 0 0 0 0 0 0]\n",
      "Q_values : [ 2.0030642  1.0118134 -2.5688756 -1.3197014]\n",
      "state : [0 0 0 0 0 0 0 0 0 0 0 0 0 0 0 0 0 0 0 0 0 0 0 0 0 0 0 0 0 0 0 0 0 0 0 0]\n",
      "Q_values : [ 2.0982673  1.8253751 -2.9124875 -0.9423487]\n",
      "state : [0 0 0 0 0 0 0 0 0 0 0 0 0 0 0 0 0 0 0 0 0 0 0 0 0 0 0 0 0 0 0 0 0 0 0 0]\n",
      "Q_values : [ 2.5568671   2.1930828  -2.087363   -0.70852304]\n",
      "state : [0 0 0 0 0 0 0 0 0 0 0 0 0 0 0 0 0 0 0 0 0 0 0 0 0 0 0 0 0 0 0 0 0 0 0 0]\n",
      "Q_values : [ 2.9625688   1.9471844  -2.2496383   0.01455402]\n",
      "state : [0 0 0 0 0 0 0 0 0 0 0 0 0 0 1 0 1 0 0 0 0 0 0 0 0 0 0 0 0 0 0 0 0 0 0 0]\n",
      "Q_values : [ 2.2839117   2.5939107  -1.4639752  -0.30563378]\n",
      "state : [0 0 0 0 0 0 0 0 0 0 0 0 0 0 0 0 1 1 0 0 0 0 0 0 0 0 0 0 0 0 0 0 0 0 0 0]\n",
      "Q_values : [ 2.5706954   3.0656958  -0.81252193 -0.25543332]\n",
      "state : [0 0 0 0 0 0 0 0 0 0 0 0 0 0 0 0 2 2 0 0 0 0 0 0 0 0 0 0 0 0 0 0 0 0 0 0]\n",
      "Q_values : [ 3.3154593   3.7886536  -0.64087963 -0.34212255]\n",
      "state : [0 0 0 0 0 0 0 0 0 0 0 0 0 0 0 0 4 4 0 0 0 0 0 0 0 0 0 0 0 0 0 0 0 0 0 0]\n",
      "Q_values : [ 2.8866053   3.3678875  -0.05649328  0.03592968]\n",
      "state : [0 0 0 0 0 0 0 0 0 0 0 0 0 0 0 0 6 6 0 0 0 0 2 1 0 0 0 0 0 0 0 0 0 0 0 0]\n",
      "Q_values : [ 0.99450207  1.0365276   0.56305766 -0.01703739]\n",
      "state : [0 0 0 0 0 0 0 0 0 0 0 0 0 0 0 0 6 6 0 0 0 0 3 3 0 0 0 0 0 0 0 0 0 0 0 0]\n",
      "Q_values : [ 1.0181316  0.6404283  0.8581104 -0.4618194]\n",
      "state : [0 0 0 0 0 0 0 0 0 0 0 0 0 0 0 0 6 0 0 0 0 0 4 0 0 0 0 0 0 0 0 0 0 0 0 0]\n",
      "Q_values : [ 1.5538945  1.7492284 -0.7219496 -1.6708634]\n",
      "state : [0 0 0 0 0 0 0 0 0 0 0 0 0 0 0 0 6 1 0 0 0 0 4 0 0 0 0 0 0 0 0 0 0 0 0 0]\n",
      "Q_values : [ 1.8358078  1.5944464 -1.1545906 -2.5463002]\n"
     ]
    },
    {
     "name": "stderr",
     "output_type": "stream",
     "text": [
      "Warning: Vehicle 'veh_16' performs emergency stop at the end of lane 'end2_junction_1' because of a red traffic light (decel=-10.76, offset=0.01), time=80.80.\n"
     ]
    },
    {
     "name": "stdout",
     "output_type": "stream",
     "text": [
      "state : [0 0 0 0 0 0 0 0 0 0 0 0 0 0 0 0 2 0 0 0 0 0 0 0 0 0 0 0 0 0 0 0 0 0 0 0]         \n",
      "Q_values : [ 1.7327082  1.8475221 -3.1922774 -1.7225981]\n",
      "state : [0 0 0 0 0 0 0 0 0 0 0 0 0 0 0 0 2 0 0 0 0 0 0 0 0 0 0 0 0 0 0 0 0 0 0 0]\n",
      "Q_values : [ 2.920383   2.3741686 -3.061332  -0.8481333]\n",
      "Step #100.00 (0ms ?*RT. ?UPS, TraCI: 31ms, vehicles TOT 33 ACT 3 BUF 0)                    \n",
      "episode : 121\n",
      " Retrying in 1 seconds\n"
     ]
    },
    {
     "name": "stderr",
     "output_type": "stream",
     "text": [
      "Warning: Environment variable SUMO_HOME is not set properly, disabling XML validation. Set 'auto' or 'always' for web lookups.\n"
     ]
    },
    {
     "name": "stdout",
     "output_type": "stream",
     "text": [
      "state : [0 0 0 0 0 0 0 0 0 0 0 0 0 0 0 0 0 0 0 0 0 0 0 0 0 0 0 0 0 0 0 0 0 0 0 0]\n",
      "Q_values : [ 2.6414278   2.7936215  -2.067616    0.64299965]\n",
      "state : [0 0 0 0 0 0 0 0 0 0 0 0 0 0 0 0 0 0 0 0 0 0 0 0 0 0 0 0 0 0 0 0 0 0 0 0]\n",
      "Q_values : [ 2.7552342  2.4772391 -1.4118049  0.7151141]\n",
      "state : [0 0 0 0 0 0 0 0 0 0 0 0 0 0 0 0 0 0 0 0 0 0 0 0 0 0 0 0 0 0 0 0 0 0 0 0]\n",
      "Q_values : [ 2.5982642   1.8672308  -0.76425457  1.0023394 ]\n"
     ]
    },
    {
     "name": "stderr",
     "output_type": "stream",
     "text": [
      "Warning: Vehicle 'veh_2' performs emergency stop at the end of lane 'end1_junction_2' because of a red traffic light (decel=-20.39, offset=0.10), time=21.24.\n"
     ]
    },
    {
     "name": "stdout",
     "output_type": "stream",
     "text": [
      "state : [0 0 0 0 0 0 0 0 0 0 0 0 0 1 1 0 1 0 0 0 0 0 0 0 0 0 0 0 0 0 0 0 0 0 0 0]         \n",
      "Q_values : [ 2.2325256  2.9140625  2.24796   -2.9333587]\n",
      "state : [0 0 0 0 0 0 0 0 0 0 0 0 0 1 0 0 1 1 0 0 0 0 0 0 0 0 0 0 0 0 0 0 0 0 0 0]\n",
      "Q_values : [ 2.219603   2.3673344  2.035622  -1.7003636]\n",
      "state : [0 0 0 0 0 0 0 0 0 0 0 0 0 1 0 0 2 1 0 0 0 0 0 0 0 0 0 0 0 0 0 0 0 0 0 0]\n",
      "Q_values : [ 1.8351088  1.8870503  1.0907016 -1.4360054]\n",
      "state : [0 0 0 0 0 0 0 0 0 0 0 0 0 1 0 0 4 3 0 0 0 0 0 0 0 0 0 0 0 0 0 0 0 0 0 0]\n",
      "Q_values : [ 1.2566416   1.37741     0.56416607 -0.8049605 ]\n",
      "state : [0 0 0 0 0 0 0 0 0 0 0 0 0 1 0 0 6 4 0 0 0 0 1 1 0 0 0 0 0 0 0 0 0 0 0 0]\n",
      "Q_values : [ 2.0615888   1.5383786  -0.26504898 -0.76423573]\n",
      "state : [0 0 0 0 0 0 0 0 0 0 0 0 0 0 0 0 6 5 0 0 0 0 2 1 0 0 0 0 0 0 0 0 0 0 0 0]\n",
      "Q_values : [ 2.4920704   2.3914547  -1.0281756  -0.83429646]\n",
      "state : [0 0 0 0 0 0 0 0 0 0 0 0 0 0 0 0 6 5 0 0 0 0 4 4 0 0 0 0 0 0 0 0 0 0 0 0]\n",
      "Q_values : [ 3.015878   2.1714187 -2.2341242 -0.6558254]\n",
      "state : [0 0 0 0 0 0 0 0 0 0 0 0 0 0 0 0 6 5 0 0 0 0 4 4 0 0 0 0 0 0 0 0 0 0 0 0]\n",
      "Q_values : [ 3.30886    1.9470024 -2.3840864 -1.0681846]\n",
      "state : [0 0 0 0 0 0 0 0 0 0 0 0 0 0 0 0 6 5 0 0 0 0 4 4 0 0 0 0 0 0 0 0 0 0 0 0]\n",
      "Q_values : [ 2.9906394  3.5488915 -1.838999  -0.6061294]\n",
      "state : [0 0 0 0 0 0 0 0 0 0 0 0 0 0 0 0 6 5 0 0 0 0 4 4 0 0 0 0 0 0 0 0 0 0 0 0]\n",
      "Q_values : [ 3.3105812  3.8420444 -1.3244736 -0.2821071]\n",
      "state : [0 0 0 0 0 0 0 0 0 0 0 0 0 0 0 0 6 5 0 0 0 0 4 4 0 0 0 0 0 0 0 0 0 0 0 0]\n",
      "Q_values : [ 2.717152    2.5486417  -0.60767627  0.10156155]\n",
      "state : [0 0 0 0 0 0 0 0 0 0 0 0 0 0 0 0 6 5 0 0 0 0 4 4 0 0 0 0 0 0 0 0 0 0 0 0]\n",
      "Q_values : [ 2.0321398   2.9160137   0.35427237 -0.10522199]\n",
      "Step #100.00 (0ms ?*RT. ?UPS, TraCI: 31ms, vehicles TOT 33 ACT 19 BUF 0)                   \n",
      "episode : 122\n",
      " Retrying in 1 seconds\n"
     ]
    },
    {
     "name": "stderr",
     "output_type": "stream",
     "text": [
      "Warning: Environment variable SUMO_HOME is not set properly, disabling XML validation. Set 'auto' or 'always' for web lookups.\n"
     ]
    },
    {
     "name": "stdout",
     "output_type": "stream",
     "text": [
      "state : [0 0 0 0 0 0 0 0 0 0 0 0 0 0 0 0 0 0 0 0 0 0 0 0 0 0 0 0 0 0 0 0 0 0 0 0]\n",
      "Q_values : [1.6762922  2.016267   0.19622779 0.2440157 ]\n",
      "state : [0 0 0 0 0 0 0 0 0 0 0 0 0 0 0 0 0 0 0 0 0 0 0 0 0 0 0 0 0 0 0 0 0 0 0 0]\n",
      "Q_values : [ 1.2403728   1.7264944   0.35598612 -0.10839295]\n",
      "state : [0 0 0 0 0 0 0 0 0 0 0 0 0 0 0 0 0 0 0 0 0 0 0 0 0 0 0 0 0 0 0 0 0 0 0 0]\n",
      "Q_values : [ 2.0753267   2.326634   -0.7249594  -0.59613895]\n",
      "state : [0 0 0 0 0 0 0 0 0 0 0 0 0 0 0 0 0 0 0 0 0 0 0 0 0 0 0 0 0 0 0 0 0 0 0 0]\n",
      "Q_values : [ 2.8390274  1.7930405 -1.6198282 -1.0558429]\n",
      "Step #21.00 (0ms ?*RT. ?UPS, TraCI: 0ms, vehicles TOT 22 ACT 22 BUF 0)                    \r"
     ]
    },
    {
     "name": "stderr",
     "output_type": "stream",
     "text": [
      "Warning: Vehicle 'veh_2' performs emergency stop at the end of lane 'end1_junction_2' because of a red traffic light (decel=-20.39, offset=0.10), time=21.24.\n"
     ]
    },
    {
     "name": "stdout",
     "output_type": "stream",
     "text": [
      "state : [0 0 0 0 0 0 0 0 0 0 0 0 0 0 0 0 0 1 0 0 0 0 0 0 0 0 0 0 0 0 0 0 0 0 0 0]\n",
      "Q_values : [ 2.4075594   3.0334373  -0.97203517 -0.5384426 ]\n",
      "state : [0 0 0 0 0 0 0 0 0 0 0 0 0 0 0 0 1 2 0 0 0 0 1 1 0 0 0 0 0 0 0 0 0 0 0 0]         \n",
      "Q_values : [ 2.4337091  3.0971456 -1.5937006 -0.5181353]\n"
     ]
    },
    {
     "name": "stderr",
     "output_type": "stream",
     "text": [
      "Warning: Vehicle 'veh_22' performs emergency stop at the end of lane 'end4_junction_1' because of a red traffic light (decel=-42.49, offset=0.27), time=40.34.\n"
     ]
    },
    {
     "name": "stdout",
     "output_type": "stream",
     "text": [
      "state : [0 0 0 0 0 0 0 0 0 0 0 0 0 0 0 0 2 3 0 0 0 0 3 3 0 0 0 0 0 0 0 0 0 0 0 0]\n",
      "Q_values : [ 2.307915    1.8024255  -0.35951424 -0.08204651]\n",
      "state : [0 0 0 0 0 0 0 0 0 0 0 0 0 0 0 0 2 3 0 0 0 0 4 4 0 0 0 0 0 0 0 0 0 0 0 0]\n",
      "Q_values : [ 1.9491869   2.121479    0.48335385 -0.640223  ]\n",
      "state : [0 0 0 0 0 0 0 0 0 0 0 0 0 0 0 0 2 3 0 0 0 0 4 4 0 0 0 0 0 0 0 0 0 0 0 0]\n",
      "Q_values : [ 2.234682   2.3590379  1.1765139 -0.8478601]\n",
      "state : [0 0 0 0 0 0 0 0 0 0 0 0 0 0 0 0 2 3 0 0 0 0 4 4 0 0 0 0 0 0 0 0 0 0 0 0]\n",
      "Q_values : [ 1.8146083   1.9893898   0.97691584 -1.0665166 ]\n",
      "state : [0 0 0 0 0 0 0 0 0 0 0 0 0 0 0 0 2 3 0 0 0 0 4 4 0 0 0 0 0 0 0 0 0 0 0 0]\n",
      "Q_values : [ 1.6447992  1.4206414  1.4752336 -0.9059479]\n",
      "state : [0 0 0 0 0 0 0 0 0 0 0 0 0 0 0 0 2 3 0 0 0 0 4 4 0 0 0 0 0 0 0 0 0 0 0 0]\n",
      "Q_values : [ 2.3445458  1.5307579  1.7746522 -1.4551623]\n",
      "state : [0 0 0 0 0 0 0 0 0 0 0 0 0 0 0 0 2 3 0 0 0 0 4 4 0 0 0 0 0 0 0 0 0 0 0 0]\n",
      "Q_values : [ 2.3252358  2.8271406  1.7141261 -1.5257938]\n",
      "state : [0 0 0 0 0 0 0 0 0 0 0 0 0 0 0 0 2 3 0 0 0 0 4 4 0 0 0 0 0 0 0 0 0 0 0 0]\n",
      "Q_values : [ 3.4183965  2.738696   1.8657982 -1.6890473]\n",
      "state : [0 0 0 0 0 0 0 0 0 0 0 0 0 0 0 0 2 3 0 0 0 0 4 4 0 0 0 0 0 0 0 0 0 0 0 0]\n",
      "Q_values : [ 3.2484374  3.1043835  1.802911  -1.7116289]\n",
      "Step #100.00 (0ms ?*RT. ?UPS, TraCI: 30ms, vehicles TOT 33 ACT 13 BUF 0)                   \n",
      "episode : 123\n",
      " Retrying in 1 seconds\n"
     ]
    },
    {
     "name": "stderr",
     "output_type": "stream",
     "text": [
      "Warning: Environment variable SUMO_HOME is not set properly, disabling XML validation. Set 'auto' or 'always' for web lookups.\n"
     ]
    },
    {
     "name": "stdout",
     "output_type": "stream",
     "text": [
      "state : [0 0 0 0 0 0 0 0 0 0 0 0 0 0 0 0 0 0 0 0 0 0 0 0 0 0 0 0 0 0 0 0 0 0 0 0]\n",
      "Q_values : [ 3.1529284  2.7480001 -0.7368052  0.8467641]\n",
      "state : [0 0 0 0 0 0 0 0 0 0 0 0 0 0 0 0 0 0 0 0 0 0 0 0 0 0 0 0 0 0 0 0 0 0 0 0]\n",
      "Q_values : [ 3.1178787  2.358847  -1.6729932  1.5741363]\n",
      "state : [0 0 0 0 0 0 0 0 0 0 0 0 0 0 0 0 0 0 0 0 0 0 0 0 0 0 0 0 0 0 0 0 0 0 0 0]\n",
      "Q_values : [ 2.2518482  2.1424327 -1.828609   1.7295277]\n",
      "state : [0 0 0 0 0 0 0 0 0 0 0 0 0 0 1 0 1 0 0 0 0 0 0 0 0 0 0 0 0 0 0 0 0 0 0 0]\n",
      "Q_values : [ 1.171167   1.5452396 -2.353895   2.0814147]\n",
      "state : [0 0 0 0 0 0 0 0 0 0 0 0 0 0 1 0 1 0 0 0 0 0 0 0 0 0 0 0 0 0 0 0 0 0 0 0]\n",
      "Q_values : [ 1.538291   2.089769  -0.6347563  1.6760371]\n"
     ]
    },
    {
     "name": "stderr",
     "output_type": "stream",
     "text": [
      "Warning: Vehicle 'veh_11' performs emergency stop at the end of lane 'end2_junction_2' because of a red traffic light (decel=-10.65, offset=0.00), time=31.67.\n",
      "Warning: Vehicle 'veh_22' performs emergency stop at the end of lane 'end4_junction_1' because of a red traffic light (decel=-42.49, offset=0.27), time=40.34.\n"
     ]
    },
    {
     "name": "stdout",
     "output_type": "stream",
     "text": [
      "state : [0 0 0 0 0 0 0 0 0 0 0 0 0 0 0 0 0 2 0 0 0 0 0 0 0 0 0 0 0 0 0 0 0 0 0 0]         \n",
      "Q_values : [ 2.3279173   2.0909867  -0.1664691  -0.73749685]\n",
      "state : [0 0 0 0 0 0 0 0 0 0 0 0 0 0 0 0 1 3 0 0 0 0 1 1 0 0 0 0 0 0 0 0 0 0 0 0]UF 0)    \n",
      "Q_values : [ 2.5077848   2.0763068  -0.47977662 -1.3411636 ]\n",
      "state : [0 0 0 0 0 0 0 0 0 0 0 0 0 0 0 0 2 4 0 0 0 0 2 1 0 0 0 0 0 0 0 0 0 0 0 0]\n",
      "Q_values : [ 2.610705    2.5381632  -0.51854944 -1.4874837 ]\n",
      "state : [0 0 0 0 0 0 0 0 0 0 0 0 0 0 0 0 2 4 0 0 0 0 3 3 0 0 0 0 0 0 0 0 0 0 0 0]\n",
      "Q_values : [ 1.4296575  3.0441203 -0.7319906 -2.1219606]\n",
      "state : [0 0 0 0 0 0 0 0 0 0 0 0 0 0 0 0 2 4 0 0 0 0 4 4 0 0 0 0 0 0 0 0 0 0 0 0]\n",
      "Q_values : [ 2.420701   2.2489595 -0.3749938 -2.5102117]\n",
      "state : [0 0 0 0 0 0 0 0 0 0 0 0 0 0 0 0 2 4 0 0 0 0 4 4 0 0 0 0 0 0 0 0 0 0 0 0]\n",
      "Q_values : [ 1.9654673   1.6321685  -0.40228534 -2.6741934 ]\n",
      "state : [0 0 0 0 0 0 0 0 0 0 0 0 0 0 0 0 2 4 0 0 0 0 4 4 0 0 0 0 0 0 0 0 0 0 0 0]\n",
      "Q_values : [ 1.3100284   1.8709708  -0.32639837 -2.0899298 ]\n",
      "state : [0 0 0 0 0 0 0 0 0 0 0 0 0 0 0 0 2 4 0 0 0 0 4 4 0 0 0 0 0 0 0 0 0 0 0 0]\n",
      "Q_values : [ 2.46898    1.3988876 -1.1153979 -0.9889355]\n",
      "state : [0 0 0 0 0 0 0 0 0 0 0 0 0 0 0 0 2 4 0 0 0 0 4 4 0 0 0 0 0 0 0 0 0 0 0 0]\n",
      "Q_values : [ 1.943505   3.1922443 -1.9828436 -0.5561974]\n",
      "state : [0 0 0 0 0 0 0 0 0 0 0 0 0 0 0 0 2 4 0 0 0 0 4 4 0 0 0 0 0 0 0 0 0 0 0 0]\n",
      "Q_values : [ 2.0351787  3.295827  -1.5713477 -1.3061395]\n",
      "Step #100.00 (0ms ?*RT. ?UPS, TraCI: 31ms, vehicles TOT 33 ACT 14 BUF 0)                   \n",
      "episode : 124\n",
      " Retrying in 1 seconds\n"
     ]
    },
    {
     "name": "stderr",
     "output_type": "stream",
     "text": [
      "Warning: Environment variable SUMO_HOME is not set properly, disabling XML validation. Set 'auto' or 'always' for web lookups.\n"
     ]
    },
    {
     "name": "stdout",
     "output_type": "stream",
     "text": [
      "state : [0 0 0 0 0 0 0 0 0 0 0 0 0 0 0 0 0 0 0 0 0 0 0 0 0 0 0 0 0 0 0 0 0 0 0 0]\n",
      "Q_values : [ 2.5717733  2.6919487 -1.2893171 -0.5377588]\n",
      "state : [0 0 0 0 0 0 0 0 0 0 0 0 0 0 0 0 0 0 0 0 0 0 0 0 0 0 0 0 0 0 0 0 0 0 0 0]\n",
      "Q_values : [ 2.4540489   1.4264667  -0.17008042 -0.04540586]\n",
      "state : [0 0 0 0 0 0 0 0 0 0 0 0 0 0 0 0 0 0 0 0 0 0 0 0 0 0 0 0 0 0 0 0 0 0 0 0]\n",
      "Q_values : [1.6852155  2.469888   0.61196995 0.11466646]\n",
      "state : [0 0 0 0 0 0 0 0 0 0 0 0 0 0 0 0 0 0 0 0 0 0 0 0 0 0 0 0 0 0 0 0 0 0 0 0]\n",
      "Q_values : [2.0404372 2.3319573 1.5066106 0.6037822]\n",
      "state : [0 0 0 0 0 0 0 0 0 0 0 0 0 0 0 0 0 0 0 0 0 0 0 0 0 0 0 0 0 0 0 0 0 0 0 0]\n",
      "Q_values : [2.7940242 2.2347126 1.4998288 1.0314703]\n",
      "state : [0 0 0 0 0 0 0 0 0 0 0 0 0 0 1 0 1 0 0 0 0 0 0 0 0 0 0 0 0 0 0 0 0 0 0 0]         \n",
      "Q_values : [2.5653343 2.5574512 1.8616426 1.0108294]\n"
     ]
    },
    {
     "name": "stderr",
     "output_type": "stream",
     "text": [
      "Warning: Vehicle 'veh_2' performs emergency stop at the end of lane 'end1_junction_2' because of a red traffic light (decel=-20.39, offset=0.10), time=21.24.\n"
     ]
    },
    {
     "name": "stdout",
     "output_type": "stream",
     "text": [
      "state : [0 0 0 0 0 0 0 0 0 0 0 0 0 0 1 0 1 1 0 0 0 0 0 0 0 0 0 0 0 0 0 0 0 0 0 0]\n",
      "Q_values : [2.404234  2.3234944 1.8466523 0.8943236]\n",
      "state : [0 0 0 0 0 0 0 0 0 0 0 0 0 0 1 0 2 2 0 0 0 0 0 0 0 0 0 0 0 0 0 0 0 0 0 0]\n",
      "Q_values : [2.4927325  2.45014    1.8257235  0.30984044]\n",
      "state : [0 0 0 0 0 0 0 0 0 0 0 0 0 0 1 0 4 4 0 0 0 0 0 0 0 0 0 0 0 0 0 0 0 0 0 0]\n",
      "Q_values : [ 1.9893466   2.2541006   1.8352594  -0.15599251]\n",
      "state : [0 0 0 0 0 0 0 0 0 0 0 0 0 0 0 0 6 5 0 0 0 0 1 1 0 0 0 0 0 0 0 0 0 0 0 0]\n",
      "Q_values : [ 1.3935896  1.5218105  1.3919634 -0.5060022]\n",
      "state : [0 0 0 0 0 0 0 0 0 0 0 0 0 0 0 0 6 6 0 0 0 0 2 1 0 0 0 0 0 0 0 0 0 0 0 0]\n",
      "Q_values : [ 1.3423269   1.0476129  -0.15528631 -0.540822  ]\n",
      "state : [0 0 0 0 0 0 0 0 0 0 0 0 0 0 0 0 6 6 0 0 0 0 3 3 0 0 0 0 0 0 0 0 0 0 0 0]\n",
      "Q_values : [ 1.1196486  1.4740096 -2.6582494 -1.4666295]\n",
      "state : [0 0 0 0 0 0 0 0 0 0 0 0 0 0 0 0 6 6 0 0 0 0 4 4 0 0 0 0 0 0 0 0 0 0 0 0]\n",
      "Q_values : [ 2.0122006  1.6124192 -3.7897527 -1.8826897]\n",
      "state : [0 0 0 0 0 0 0 0 0 0 0 0 0 0 0 0 6 6 0 0 0 0 4 4 0 0 0 0 0 0 0 0 0 0 0 0]\n",
      "Q_values : [ 2.108488   1.8966664 -3.8820794 -2.4544458]\n",
      "state : [0 0 0 0 0 0 0 0 0 0 0 0 0 0 0 0 6 6 0 0 0 0 4 4 0 0 0 0 0 0 0 0 0 0 0 0]\n",
      "Q_values : [ 2.528985   2.0225554 -2.7540138 -2.4332364]\n",
      "state : [0 0 0 0 0 0 0 0 0 0 0 0 0 0 0 0 6 6 0 0 0 0 4 4 0 0 0 0 0 0 0 0 0 0 0 0]\n",
      "Q_values : [ 2.9487586  1.8539052 -2.1089263 -1.6686237]\n",
      "state : [0 0 0 0 0 0 0 0 0 0 0 0 0 0 0 0 6 6 0 0 0 0 4 4 0 0 0 0 0 0 0 0 0 0 0 0]\n",
      "Q_values : [ 2.803791   2.466434  -0.8708854 -0.0281415]\n",
      "state : [0 0 0 0 0 0 0 0 0 0 0 0 0 0 0 0 6 1 0 0 0 0 4 0 0 0 0 0 0 0 0 0 0 0 0 0]\n",
      "Q_values : [2.6142845 1.6644046 2.1092165 1.7113881]\n",
      "Step #100.00 (0ms ?*RT. ?UPS, TraCI: 32ms, vehicles TOT 33 ACT 20 BUF 0)                   \n",
      "episode : 125\n",
      " Retrying in 1 seconds\n"
     ]
    },
    {
     "name": "stderr",
     "output_type": "stream",
     "text": [
      "Warning: Environment variable SUMO_HOME is not set properly, disabling XML validation. Set 'auto' or 'always' for web lookups.\n"
     ]
    },
    {
     "name": "stdout",
     "output_type": "stream",
     "text": [
      "state : [0 0 0 0 0 0 0 0 0 0 0 0 0 0 0 0 0 0 0 0 0 0 0 0 0 0 0 0 0 0 0 0 0 0 0 0]\n",
      "Q_values : [2.5681868  2.1437697  2.4409719  0.94365144]\n",
      "state : [0 0 0 0 0 0 0 0 0 0 0 0 0 0 0 0 0 0 0 0 0 0 0 0 0 0 0 0 0 0 0 0 0 0 0 0]\n",
      "Q_values : [3.046445  2.985269  2.1473813 0.2097218]\n",
      "state : [0 0 0 0 0 0 0 0 0 0 0 0 0 0 0 0 0 0 0 0 0 0 0 0 0 0 0 0 0 0 0 0 0 0 0 0]\n",
      "Q_values : [ 2.8194966   2.807689    0.28481174 -0.4932065 ]\n",
      "state : [0 0 0 0 0 0 0 0 0 0 0 0 0 0 0 0 0 0 0 0 0 0 0 0 0 0 0 0 0 0 0 0 0 0 0 0]\n",
      "Q_values : [ 2.1509602   3.016326    0.00303125 -2.23351   ]\n",
      "state : [0 0 0 0 0 0 0 0 0 0 0 0 0 0 0 0 0 0 0 0 0 0 0 0 0 0 0 0 0 0 0 0 0 0 0 0]\n",
      "Q_values : [ 2.3438864  2.85686   -1.0312054 -2.710479 ]\n",
      "state : [0 0 0 0 0 0 0 0 0 0 0 0 0 1 0 0 1 0 0 0 0 0 0 0 0 0 0 0 0 0 0 0 0 0 0 0]\n",
      "Q_values : [ 3.6588936  1.6880776 -1.2741642 -3.090669 ]\n",
      "state : [0 0 0 0 0 0 0 0 0 0 0 0 0 0 0 0 1 1 0 0 0 0 0 0 0 0 0 0 0 0 0 0 0 0 0 0]\n",
      "Q_values : [ 2.9249904  2.6987193 -2.151995  -3.3848248]\n",
      "state : [0 0 0 0 0 0 0 0 0 0 0 0 0 0 0 0 2 2 0 0 0 0 0 0 0 0 0 0 0 0 0 0 0 0 0 0]\n",
      "Q_values : [ 2.8946812  2.652604  -2.161886  -2.2970357]\n",
      "state : [0 0 0 0 0 0 0 0 0 0 0 0 0 0 0 0 4 4 0 0 0 0 0 0 0 0 0 0 0 0 0 0 0 0 0 0]\n",
      "Q_values : [ 2.330625    2.3999748  -1.9622734  -0.22711062]\n",
      "state : [0 0 0 0 0 0 0 0 0 0 0 0 0 0 0 0 6 6 0 0 0 0 2 1 0 0 0 0 0 0 0 0 0 0 0 0]\n",
      "Q_values : [ 1.6888392  1.9764873 -2.8295238  1.3566191]\n",
      "state : [0 0 0 0 0 0 0 0 0 0 0 0 0 0 0 0 6 6 0 0 0 0 3 3 0 0 0 0 0 0 0 0 0 0 0 0]\n",
      "Q_values : [ 1.0915558   1.9496052  -2.949708   -0.13629746]\n",
      "state : [0 0 0 0 0 0 0 0 0 0 0 0 0 0 0 0 6 6 0 0 0 0 4 4 0 0 0 0 0 0 0 0 0 0 0 0]\n",
      "Q_values : [ 1.5872436   2.7107427  -1.8933556  -0.42660832]\n",
      "state : [0 0 0 0 0 0 0 0 0 0 0 0 0 0 0 0 0 6 0 0 0 0 0 4 0 0 0 0 0 0 0 0 0 0 0 0]\n",
      "Q_values : [ 3.2575722   2.5807989  -0.42003417 -0.34592938]\n",
      "state : [0 0 0 0 0 0 0 0 0 0 0 0 0 0 0 0 2 6 0 0 0 0 0 4 0 0 0 0 0 0 0 0 0 0 0 0]\n",
      "Q_values : [ 2.8557363   2.3938866   0.09716439 -0.4072752 ]\n",
      "state : [0 0 0 0 0 0 0 0 0 0 0 0 0 0 0 0 2 6 0 0 0 0 0 4 0 0 0 0 0 0 0 0 0 0 0 0]\n",
      "Q_values : [3.0084527 3.2188733 1.286562  0.6338434]\n",
      "state : [0 0 0 0 0 0 0 0 0 0 0 0 0 0 0 0 2 6 0 0 0 0 0 4 0 0 0 0 0 0 0 0 0 0 0 0]\n",
      "Q_values : [2.663022   3.4803925  1.553338   0.93532944]\n",
      "state : [0 0 0 0 0 0 0 0 0 0 0 0 0 0 0 0 2 6 0 0 0 0 0 4 0 0 0 0 0 0 0 0 0 0 0 0]\n",
      "Q_values : [2.0048614  3.4020083  2.0468402  0.59440994]\n",
      "state : [0 0 0 0 0 0 0 0 0 0 0 0 0 0 0 0 2 6 0 0 0 0 0 4 0 0 0 0 0 0 0 0 0 0 0 0]\n",
      "Q_values : [2.423665  3.0191994 1.9939306 0.8189862]\n",
      "Step #100.00 (0ms ?*RT. ?UPS, TraCI: 29ms, vehicles TOT 33 ACT 12 BUF 0)                   \n",
      "episode : 126\n",
      " Retrying in 1 seconds\n"
     ]
    },
    {
     "name": "stderr",
     "output_type": "stream",
     "text": [
      "Warning: Environment variable SUMO_HOME is not set properly, disabling XML validation. Set 'auto' or 'always' for web lookups.\n"
     ]
    },
    {
     "name": "stdout",
     "output_type": "stream",
     "text": [
      "state : [0 0 0 0 0 0 0 0 0 0 0 0 0 0 0 0 0 0 0 0 0 0 0 0 0 0 0 0 0 0 0 0 0 0 0 0]\n",
      "Q_values : [2.2702918 1.9415197 1.9913257 0.9892576]\n",
      "state : [0 0 0 0 0 0 0 0 0 0 0 0 0 0 0 0 0 0 0 0 0 0 0 0 0 0 0 0 0 0 0 0 0 0 0 0]\n",
      "Q_values : [1.9410167 1.0585935 1.4270015 1.1381054]\n",
      "state : [0 0 0 0 0 0 0 0 0 0 0 0 0 0 0 0 0 0 0 0 0 0 0 0 0 0 0 0 0 0 0 0 0 0 0 0]\n",
      "Q_values : [ 0.61689687  1.1801813  -1.2089157   0.6972554 ]\n",
      "state : [0 0 0 0 0 0 0 0 0 0 0 0 0 0 0 0 0 0 0 0 0 0 0 0 0 0 0 0 0 0 0 0 0 0 0 0]\n",
      "Q_values : [ 0.62341857  0.85227203 -3.015151   -0.11781549]\n",
      "state : [0 0 0 0 0 0 0 0 0 0 0 0 0 1 0 0 1 0 0 0 0 0 0 0 0 0 0 0 0 0 0 0 0 0 0 0]\n",
      "Q_values : [ 1.7170715  1.2554153 -3.1915553 -1.047461 ]\n",
      "state : [0 0 0 0 0 0 0 0 0 0 0 0 0 0 0 0 1 1 0 0 0 0 0 0 0 0 0 0 0 0 0 0 0 0 0 0]\n",
      "Q_values : [ 2.0024843  2.5244586 -2.2467346 -1.0472105]\n",
      "state : [0 0 0 0 0 0 0 0 0 0 0 0 0 0 0 0 2 2 0 0 0 0 0 0 0 0 0 0 0 0 0 0 0 0 0 0]\n",
      "Q_values : [ 2.0231905  3.3232293 -1.3619723 -2.3870156]\n",
      "state : [0 0 0 0 0 0 0 0 0 0 0 0 0 0 0 0 4 4 0 0 0 0 0 0 0 0 0 0 0 0 0 0 0 0 0 0]\n",
      "Q_values : [ 2.626152    3.5415754  -0.06067181 -2.7618067 ]\n",
      "state : [0 0 0 0 0 0 0 0 0 0 0 0 0 0 0 0 6 5 0 0 0 0 1 1 0 0 0 0 0 0 0 0 0 0 0 0]\n",
      "Q_values : [ 3.2421486  3.024076   1.0884957 -1.7139544]\n",
      "state : [0 0 0 0 0 0 0 0 0 0 0 0 0 0 0 0 6 6 0 0 0 0 2 1 0 0 0 0 0 0 0 0 0 0 0 0]\n",
      "Q_values : [ 2.3516545  3.097218   1.6654847 -2.0737653]\n",
      "state : [0 0 0 0 0 0 0 0 0 0 0 0 0 0 0 0 6 6 0 0 0 0 3 3 0 0 0 0 0 0 0 0 0 0 0 0]\n",
      "Q_values : [ 1.5359524   2.6431851   0.28300834 -1.6250205 ]\n",
      "state : [0 0 0 0 0 0 0 0 0 0 0 0 0 0 0 0 6 6 0 0 0 0 4 4 0 0 0 0 0 0 0 0 0 0 0 0]\n",
      "Q_values : [ 2.2469049   1.7152152   0.12707043 -1.2706766 ]\n",
      "state : [0 0 0 0 0 0 0 0 0 0 0 0 0 0 0 0 6 6 0 0 0 0 4 4 0 0 0 0 0 0 0 0 0 0 0 0]\n",
      "Q_values : [ 2.931106   1.7683208 -0.0125742 -1.3748085]\n",
      "state : [0 0 0 0 0 0 0 0 0 0 0 0 0 0 0 0 6 6 0 0 0 0 4 4 0 0 0 0 0 0 0 0 0 0 0 0]\n",
      "Q_values : [ 2.3484907   2.4197173  -0.44887757 -1.8814247 ]\n",
      "state : [0 0 0 0 0 0 0 0 0 0 0 0 0 0 0 0 6 6 0 0 0 0 4 4 0 0 0 0 0 0 0 0 0 0 0 0]\n",
      "Q_values : [ 2.210019   2.739942  -1.3066623 -1.7884374]\n",
      "state : [0 0 0 0 0 0 0 0 0 0 0 0 0 0 0 0 6 0 0 0 0 0 4 0 0 0 0 0 0 0 0 0 0 0 0 0]\n",
      "Q_values : [ 2.1544962  2.7472358 -1.8043177 -0.9024954]\n",
      "state : [0 0 0 0 0 0 0 0 0 0 0 0 0 0 0 0 6 1 0 0 0 0 4 0 0 0 0 0 0 0 0 0 0 0 0 0]\n",
      "Q_values : [ 2.5975723  2.4649675 -2.7449348 -0.213382 ]\n",
      "state : [0 0 0 0 0 0 0 0 0 0 0 0 0 0 0 0 6 2 0 0 0 0 4 0 0 0 0 0 0 0 0 0 0 0 0 0]\n",
      "Q_values : [ 2.027012    2.5034928  -2.3767333  -0.68183136]\n",
      "Step #100.00 (0ms ?*RT. ?UPS, TraCI: 29ms, vehicles TOT 33 ACT 20 BUF 0)                   \n",
      "episode : 127\n",
      " Retrying in 1 seconds\n"
     ]
    },
    {
     "name": "stderr",
     "output_type": "stream",
     "text": [
      "Warning: Environment variable SUMO_HOME is not set properly, disabling XML validation. Set 'auto' or 'always' for web lookups.\n"
     ]
    },
    {
     "name": "stdout",
     "output_type": "stream",
     "text": [
      "state : [0 0 0 0 0 0 0 0 0 0 0 0 0 0 0 0 0 0 0 0 0 0 0 0 0 0 0 0 0 0 0 0 0 0 0 0]\n",
      "Q_values : [ 2.1311464  3.1451113 -2.0544717 -1.5321367]\n",
      "state : [0 0 0 0 0 0 0 0 0 0 0 0 0 0 0 0 0 0 0 0 0 0 0 0 0 0 0 0 0 0 0 0 0 0 0 0]\n",
      "Q_values : [ 3.6285028  3.4469585 -1.1481681 -1.6966226]\n",
      "state : [0 0 0 0 0 0 0 0 0 0 0 0 0 0 0 0 0 0 0 0 0 0 0 0 0 0 0 0 0 0 0 0 0 0 0 0]\n",
      "Q_values : [ 4.3285427   2.7033675   0.00655961 -1.6790729 ]\n",
      "state : [0 0 0 0 0 0 0 0 0 0 0 0 0 0 0 0 0 0 0 0 0 0 0 0 0 0 0 0 0 0 0 0 0 0 0 0]\n",
      "Q_values : [ 3.621756    2.6029534   0.44091177 -0.8053901 ]\n",
      "state : [0 0 0 0 0 0 0 0 0 0 0 0 0 0 0 0 0 0 0 0 0 0 0 0 0 0 0 0 0 0 0 0 0 0 0 0]\n",
      "Q_values : [ 2.5985994   2.704445    1.6004252  -0.04652548]\n",
      "state : [0 0 0 0 0 0 0 0 0 0 0 0 0 0 0 0 1 0 0 0 0 0 0 0 0 0 0 0 0 0 0 0 0 0 0 0]\n",
      "Q_values : [1.5380319 2.249821  1.7071548 0.7229593]\n",
      "state : [0 0 0 0 0 0 0 0 0 0 0 0 0 0 0 0 1 1 0 0 0 0 0 0 0 0 0 0 0 0 0 0 0 0 0 0]\n",
      "Q_values : [1.1468216 1.9632839 1.3168418 0.8046701]\n",
      "state : [0 0 0 0 0 0 0 0 0 0 0 0 0 0 0 0 2 2 0 0 0 0 0 0 0 0 0 0 0 0 0 0 0 0 0 0]\n",
      "Q_values : [1.5225377 1.1017876 1.3577929 0.5310552]\n",
      "state : [0 0 0 0 0 0 0 0 0 0 0 0 0 0 0 0 4 4 0 0 0 0 0 0 0 0 0 0 0 0 0 0 0 0 0 0]\n",
      "Q_values : [2.0390406  1.4739697  0.09400702 0.08831668]\n",
      "state : [0 0 0 0 0 0 0 0 0 0 0 0 0 0 0 0 6 5 0 0 0 0 1 1 0 0 0 0 0 0 0 0 0 0 0 0]\n",
      "Q_values : [ 2.2068524   2.1851397  -1.2450099  -0.29397058]\n",
      "state : [0 0 0 0 0 0 0 0 0 0 0 0 0 0 0 0 6 6 0 0 0 0 2 1 0 0 0 0 0 0 0 0 0 0 0 0]\n",
      "Q_values : [ 2.9052556  1.6863086 -2.3700428 -0.7459943]\n",
      "state : [0 0 0 0 0 0 0 0 0 0 0 0 0 0 0 0 6 6 0 0 0 0 3 3 0 0 0 0 0 0 0 0 0 0 0 0]\n",
      "Q_values : [ 2.762713   1.9782493 -3.1988742 -2.2687135]\n",
      "state : [0 0 0 0 0 0 0 0 0 0 0 0 0 0 0 0 6 6 0 0 0 0 4 4 0 0 0 0 0 0 0 0 0 0 0 0]\n",
      "Q_values : [ 1.8379428  2.5781999 -3.4256034 -2.4738765]\n",
      "state : [0 0 0 0 0 0 0 0 0 0 0 0 0 0 0 0 6 0 0 0 0 0 4 0 0 0 0 0 0 0 0 0 0 0 0 0]\n",
      "Q_values : [ 2.1161768  3.0137463 -1.8716135 -1.3891301]\n",
      "state : [0 0 0 0 0 0 0 0 0 0 0 0 0 0 0 0 6 1 0 0 0 0 4 0 0 0 0 0 0 0 0 0 0 0 0 0]\n",
      "Q_values : [ 2.2474656  3.0360005 -1.659328  -1.3029833]\n",
      "state : [0 0 0 0 0 0 0 0 0 0 0 0 0 0 0 0 6 2 0 0 0 0 4 0 0 0 0 0 0 0 0 0 0 0 0 0]\n",
      "Q_values : [ 2.3326783   2.798584   -1.565458   -0.81075597]\n",
      "state : [0 0 0 0 0 0 0 0 0 0 0 0 0 0 0 0 6 2 0 0 0 0 4 0 0 0 0 0 0 0 0 0 0 0 0 0]\n",
      "Q_values : [ 2.0782864  1.746568  -1.3476195 -0.6411247]\n",
      "state : [0 0 0 0 0 0 0 0 0 0 0 0 0 0 0 0 6 2 0 0 0 0 4 0 0 0 0 0 0 0 0 0 0 0 0 0]\n",
      "Q_values : [ 1.2115607   2.1384323  -0.35699463 -1.595895  ]\n",
      "state : [0 0 0 0 0 0 0 0 0 0 0 0 0 0 0 0 6 2 0 0 0 0 4 0 0 0 0 0 0 0 0 0 0 0 0 0]\n",
      "Q_values : [ 1.6087787  2.2817488  0.4976375 -1.7969561]\n",
      "Step #100.00 (0ms ?*RT. ?UPS, TraCI: 28ms, vehicles TOT 33 ACT 12 BUF 0)                   \n",
      "episode : 128\n",
      " Retrying in 1 seconds\n"
     ]
    },
    {
     "name": "stderr",
     "output_type": "stream",
     "text": [
      "Warning: Environment variable SUMO_HOME is not set properly, disabling XML validation. Set 'auto' or 'always' for web lookups.\n"
     ]
    },
    {
     "name": "stdout",
     "output_type": "stream",
     "text": [
      "state : [0 0 0 0 0 0 0 0 0 0 0 0 0 0 0 0 0 0 0 0 0 0 0 0 0 0 0 0 0 0 0 0 0 0 0 0]\n",
      "Q_values : [ 2.3278937   1.8744894  -1.1920893  -0.43539858]\n",
      "state : [0 0 0 0 0 0 0 0 0 0 0 0 0 0 0 0 0 0 0 0 0 0 0 0 0 0 0 0 0 0 0 0 0 0 0 0]\n",
      "Q_values : [ 2.6151526  1.1552812 -1.4871135  0.4975531]\n",
      "state : [0 0 0 0 0 0 0 0 0 0 0 0 0 0 0 0 0 0 0 0 0 0 0 0 0 0 0 0 0 0 0 0 0 0 0 0]\n",
      "Q_values : [ 2.8869398  2.3539746 -1.622273   1.4818501]\n",
      "state : [0 0 0 0 0 0 0 0 0 0 0 0 0 0 1 0 1 0 0 0 0 0 0 0 0 0 0 0 0 0 0 0 0 0 0 0]\n",
      "Q_values : [ 3.2210584  2.067049  -2.0515263  2.1303406]\n",
      "state : [0 0 0 0 0 0 0 0 0 0 0 0 0 0 1 0 1 1 0 0 0 0 0 0 0 0 0 0 0 0 0 0 0 0 0 0]\n",
      "Q_values : [ 2.6624951  2.690712  -1.9413571  2.6103199]\n",
      "state : [0 0 0 0 0 0 0 0 0 0 0 0 0 0 0 0 4 0 0 0 0 0 0 0 0 0 0 0 0 0 0 0 0 0 0 0]\n",
      "Q_values : [ 1.8395283   2.6593723  -0.55490875  2.696874  ]\n",
      "state : [0 0 0 0 0 0 0 0 0 0 0 0 0 0 0 0 6 0 0 0 0 0 1 0 0 0 0 0 0 0 0 0 0 0 0 0]\n",
      "Q_values : [ 1.8856115   1.8109372  -0.00779057  1.334938  ]\n",
      "state : [0 0 0 0 0 0 0 0 0 0 0 0 0 0 0 0 6 0 0 0 0 0 2 1 0 0 0 0 0 0 0 0 0 0 0 0]         \n",
      "Q_values : [ 1.3145357   2.0957494  -0.5332298  -0.78680134]\n"
     ]
    },
    {
     "name": "stderr",
     "output_type": "stream",
     "text": [
      "Warning: Vehicle 'veh_26' performs emergency stop at the end of lane 'end4_junction_2' because of a red traffic light (decel=-19.48, offset=0.09), time=45.88.\n"
     ]
    },
    {
     "name": "stdout",
     "output_type": "stream",
     "text": [
      "state : [0 0 0 0 0 0 0 0 0 0 0 0 0 0 0 0 6 0 0 0 0 0 3 2 0 0 0 0 0 0 0 0 0 0 0 0]\n",
      "Q_values : [ 1.9778965  2.0079346 -1.1844049 -1.9829364]\n",
      "state : [0 0 0 0 0 0 0 0 0 0 0 0 0 0 0 0 6 0 0 0 0 0 4 3 0 0 0 0 0 0 0 0 0 0 0 0]\n",
      "Q_values : [ 1.3824925  1.7282199 -1.5948536 -4.4696946]\n",
      "state : [0 0 0 0 0 0 0 0 0 0 0 0 0 0 0 0 6 0 0 0 0 0 4 3 0 0 0 0 0 0 0 0 0 0 0 0]\n",
      "Q_values : [ 2.2744007   1.1303078  -0.52813005 -4.45973   ]\n",
      "state : [0 0 0 0 0 0 0 0 0 0 0 0 0 0 0 0 6 0 0 0 0 0 4 3 0 0 0 0 0 0 0 0 0 0 0 0]\n",
      "Q_values : [ 2.0375047   2.1565785  -0.26467037 -3.3538458 ]\n",
      "state : [0 0 0 0 0 0 0 0 0 0 0 0 0 0 0 0 6 0 0 0 0 0 4 3 0 0 0 0 0 0 0 0 0 0 0 0]\n",
      "Q_values : [ 2.3275256   2.0010648  -0.66384363 -2.2385952 ]\n",
      "state : [0 0 0 0 0 0 0 0 0 0 0 0 0 0 0 0 6 0 0 0 0 0 4 0 0 0 0 0 0 0 0 0 0 0 0 0]\n",
      "Q_values : [ 2.6578517  2.4334805 -1.0616481 -0.108953 ]\n",
      "state : [0 0 0 0 0 0 0 0 0 0 0 0 0 0 0 0 6 0 0 0 0 0 4 0 0 0 0 0 0 0 0 0 0 0 0 0]\n",
      "Q_values : [ 2.4021838   2.4733026  -1.0678415   0.10217094]\n",
      "Step #100.00 (0ms ?*RT. ?UPS, TraCI: 30ms, vehicles TOT 33 ACT 13 BUF 0)                   \n",
      "episode : 129\n",
      " Retrying in 1 seconds\n"
     ]
    },
    {
     "name": "stderr",
     "output_type": "stream",
     "text": [
      "Warning: Environment variable SUMO_HOME is not set properly, disabling XML validation. Set 'auto' or 'always' for web lookups.\n"
     ]
    },
    {
     "name": "stdout",
     "output_type": "stream",
     "text": [
      "state : [0 0 0 0 0 0 0 0 0 0 0 0 0 0 0 0 0 0 0 0 0 0 0 0 0 0 0 0 0 0 0 0 0 0 0 0]\n",
      "Q_values : [ 1.8747265   1.9558595  -1.4702566   0.88743377]\n",
      "state : [0 0 0 0 0 0 0 0 0 0 0 0 0 0 0 0 0 0 0 0 0 0 0 0 0 0 0 0 0 0 0 0 0 0 0 0]\n",
      "Q_values : [ 1.6205726   2.5414557  -1.3768849  -0.09777331]\n",
      "state : [0 0 0 0 0 0 0 0 0 0 0 0 0 0 0 0 0 0 0 0 0 0 0 0 0 0 0 0 0 0 0 0 0 0 0 0]\n",
      "Q_values : [ 1.7768608   2.9947753  -0.7765944  -0.28740525]\n",
      "state : [0 0 0 0 0 0 0 0 0 0 0 0 0 0 0 0 0 0 0 0 0 0 0 0 0 0 0 0 0 0 0 0 0 0 0 0]\n",
      "Q_values : [ 2.4216013   2.6011052  -0.49493575 -0.2483406 ]\n",
      "state : [0 0 0 0 0 0 0 0 0 0 0 0 0 0 0 0 0 0 0 0 0 0 0 0 0 0 0 0 0 0 0 0 0 0 0 0]\n",
      "Q_values : [ 1.9080006   1.9524076  -0.29061294  0.31218362]\n",
      "state : [0 0 0 0 0 0 0 0 0 0 0 0 0 1 0 0 1 0 0 0 0 0 0 0 0 0 0 0 0 0 0 0 0 0 0 0]\n",
      "Q_values : [ 1.3155254   1.3941357  -0.21406198 -0.2367692 ]\n",
      "state : [0 0 0 0 0 0 0 0 0 0 0 0 0 0 0 0 4 4 0 0 0 0 0 0 0 0 0 0 0 0 0 0 0 0 0 0]\n",
      "Q_values : [ 1.9718808   2.355883    0.39857578 -2.9261131 ]\n",
      "state : [0 0 0 0 0 0 0 0 0 0 0 0 0 0 0 0 6 5 0 0 0 0 1 1 0 0 0 0 0 0 0 0 0 0 0 0]\n",
      "Q_values : [ 2.260381   1.9581544  0.5752299 -2.8051264]\n",
      "state : [0 0 0 0 0 0 0 0 0 0 0 0 0 0 0 0 6 6 0 0 0 0 2 1 0 0 0 0 0 0 0 0 0 0 0 0]\n",
      "Q_values : [ 1.7830105  2.2579346  0.4560237 -2.7375433]\n",
      "state : [0 0 0 0 0 0 0 0 0 0 0 0 0 0 0 0 6 0 0 0 0 0 4 0 0 0 0 0 0 0 0 0 0 0 0 0]\n",
      "Q_values : [ 1.2984843   1.6334659   0.70303893 -2.6937551 ]\n",
      "state : [0 0 0 0 0 0 0 0 0 0 0 0 0 0 0 0 6 1 0 0 0 0 4 0 0 0 0 0 0 0 0 0 0 0 0 0]\n",
      "Q_values : [ 1.5632175   1.1009156   0.06959295 -2.3788805 ]\n",
      "state : [0 0 0 0 0 0 0 0 0 0 0 0 0 0 0 0 6 0 0 0 0 0 4 0 0 0 0 0 0 0 0 0 0 0 0 0]\n",
      "Q_values : [ 1.4127963  1.579388  -1.5382118 -1.618099 ]\n",
      "state : [0 0 0 0 0 0 0 0 0 0 0 0 0 0 0 0 6 0 0 0 0 0 4 0 0 0 0 0 0 0 0 0 0 0 0 0]\n",
      "Q_values : [ 1.8753616  1.6882449 -1.9233809 -2.3398547]\n",
      "state : [0 0 0 0 0 0 0 0 0 0 0 0 0 0 0 0 6 0 0 0 0 0 4 0 0 0 0 0 0 0 0 0 0 0 0 0]\n",
      "Q_values : [ 3.5318923  2.692017  -2.0608485 -2.13218  ]\n",
      "state : [0 0 0 0 0 0 0 0 0 0 0 0 0 0 0 0 6 0 0 0 0 0 4 0 0 0 0 0 0 0 0 0 0 0 0 0]\n",
      "Q_values : [ 3.402375   3.5235653 -1.2256875 -1.3664114]\n",
      "state : [0 0 0 0 0 0 0 0 0 0 0 0 0 0 0 0 6 0 0 0 0 0 4 0 0 0 0 0 0 0 0 0 0 0 0 0]\n",
      "Q_values : [ 3.2303524   2.8265533  -0.26625133 -0.46285963]\n",
      "Step #100.00 (0ms ?*RT. ?UPS, TraCI: 30ms, vehicles TOT 33 ACT 10 BUF 0)                   \n",
      "episode : 130\n",
      " Retrying in 1 seconds\n"
     ]
    },
    {
     "name": "stderr",
     "output_type": "stream",
     "text": [
      "Warning: Environment variable SUMO_HOME is not set properly, disabling XML validation. Set 'auto' or 'always' for web lookups.\n"
     ]
    },
    {
     "name": "stdout",
     "output_type": "stream",
     "text": [
      "state : [0 0 0 0 0 0 0 0 0 0 0 0 0 0 0 0 0 0 0 0 0 0 0 0 0 0 0 0 0 0 0 0 0 0 0 0]\n",
      "Q_values : [ 2.9809575   2.5423784   0.40355754 -0.9239819 ]\n",
      "state : [0 0 0 0 0 0 0 0 0 0 0 0 0 0 0 0 0 0 0 0 0 0 0 0 0 0 0 0 0 0 0 0 0 0 0 0]\n",
      "Q_values : [ 2.3966928  2.4560497  1.2125875 -0.7882793]\n",
      "state : [0 0 0 0 0 0 0 0 0 0 0 0 0 0 0 0 0 0 0 0 0 0 0 0 0 0 0 0 0 0 0 0 0 0 0 0]\n",
      "Q_values : [ 2.159439    1.3580409   0.7022979  -0.32071376]\n",
      "state : [0 0 0 0 0 0 0 0 0 0 0 0 0 0 0 0 0 0 0 0 0 0 0 0 0 0 0 0 0 0 0 0 0 0 0 0]\n",
      "Q_values : [ 2.6110406   2.0872095   0.83664155 -0.8400264 ]\n",
      "state : [0 0 0 0 0 0 0 0 0 0 0 0 0 0 0 0 0 0 0 0 0 0 0 0 0 0 0 0 0 0 0 0 0 0 0 0]\n",
      "Q_values : [ 1.7708025   1.9284573  -0.50432754 -1.5436399 ]\n",
      "state : [0 0 0 0 0 0 0 0 0 0 0 0 0 0 0 0 1 0 0 0 0 0 0 0 0 0 0 0 0 0 0 0 0 0 0 0]\n",
      "Q_values : [ 1.4629937  1.4619392 -1.0464673 -1.3877201]\n",
      "state : [0 0 0 0 0 0 0 0 0 0 0 0 0 0 0 0 1 1 0 0 0 0 0 0 0 0 0 0 0 0 0 0 0 0 0 0]\n",
      "Q_values : [ 2.4465294  1.4508679 -1.46036   -0.7616732]\n",
      "state : [0 0 0 0 0 0 0 0 0 0 0 0 0 0 0 0 2 2 0 0 0 0 0 0 0 0 0 0 0 0 0 0 0 0 0 0]\n",
      "Q_values : [ 3.0170362   1.8012714  -1.9243462  -0.35786343]\n",
      "state : [0 0 0 0 0 0 0 0 0 0 0 0 0 0 0 0 6 5 0 0 0 0 1 1 0 0 0 0 0 0 0 0 0 0 0 0]\n",
      "Q_values : [ 2.214581    2.7199419  -1.0152521  -0.47559762]\n",
      "state : [0 0 0 0 0 0 0 0 0 0 0 0 0 0 0 0 6 6 0 0 0 0 2 1 0 0 0 0 0 0 0 0 0 0 0 0]\n",
      "Q_values : [ 1.9479766   2.2265437  -1.7872932  -0.11649728]\n",
      "state : [0 0 0 0 0 0 0 0 0 0 0 0 0 0 0 0 6 6 0 0 0 0 3 3 0 0 0 0 0 0 0 0 0 0 0 0]\n",
      "Q_values : [ 2.1953502  1.8136226 -1.175683  -0.5341821]\n",
      "state : [0 0 0 0 0 0 0 0 0 0 0 0 0 0 0 0 6 6 0 0 0 0 4 4 0 0 0 0 0 0 0 0 0 0 0 0]\n",
      "Q_values : [ 3.2633114   1.7885487  -1.4192126  -0.78036404]\n",
      "state : [0 0 0 0 0 0 0 0 0 0 0 0 0 0 0 0 6 6 0 0 0 0 4 4 0 0 0 0 0 0 0 0 0 0 0 0]\n",
      "Q_values : [ 3.411088   1.956342  -1.124619  -0.9611447]\n",
      "state : [0 0 0 0 0 0 0 0 0 0 0 0 0 0 0 0 6 6 0 0 0 0 4 4 0 0 0 0 0 0 0 0 0 0 0 0]\n",
      "Q_values : [ 2.5938888  2.6488228 -0.3030622 -1.113353 ]\n",
      "state : [0 0 0 0 0 0 0 0 0 0 0 0 0 0 0 0 6 6 0 0 0 0 4 4 0 0 0 0 0 0 0 0 0 0 0 0]\n",
      "Q_values : [ 1.6337426   2.921725    0.06976438 -0.91320777]\n",
      "state : [0 0 0 0 0 0 0 0 0 0 0 0 0 0 0 0 6 6 0 0 0 0 4 4 0 0 0 0 0 0 0 0 0 0 0 0]\n",
      "Q_values : [ 1.8312781   2.6703143   0.76406026 -0.37726903]\n",
      "state : [0 0 0 0 0 0 0 0 0 0 0 0 0 0 0 0 6 6 0 0 0 0 4 4 0 0 0 0 0 0 0 0 0 0 0 0]\n",
      "Q_values : [ 1.6323619   2.557125    1.2348814  -0.32078934]\n",
      "state : [0 0 0 0 0 0 0 0 0 0 0 0 0 0 0 0 6 0 0 0 0 0 4 0 0 0 0 0 0 0 0 0 0 0 0 0]\n",
      "Q_values : [ 3.716964    2.207501    1.2172594  -0.21779585]\n",
      "Step #100.00 (0ms ?*RT. ?UPS, TraCI: 29ms, vehicles TOT 33 ACT 20 BUF 0)                   \n",
      "episode : 131\n",
      " Retrying in 1 seconds\n"
     ]
    },
    {
     "name": "stderr",
     "output_type": "stream",
     "text": [
      "Warning: Environment variable SUMO_HOME is not set properly, disabling XML validation. Set 'auto' or 'always' for web lookups.\n"
     ]
    },
    {
     "name": "stdout",
     "output_type": "stream",
     "text": [
      "state : [0 0 0 0 0 0 0 0 0 0 0 0 0 0 0 0 0 0 0 0 0 0 0 0 0 0 0 0 0 0 0 0 0 0 0 0]\n",
      "Q_values : [ 3.7387981   2.6390264   1.1082358  -0.21374583]\n",
      "state : [0 0 0 0 0 0 0 0 0 0 0 0 0 0 0 0 0 0 0 0 0 0 0 0 0 0 0 0 0 0 0 0 0 0 0 0]\n",
      "Q_values : [ 3.3544867   3.3311062   1.0529647  -0.79834795]\n",
      "state : [0 0 0 0 0 0 0 0 0 0 0 0 0 0 0 0 0 0 0 0 0 0 0 0 0 0 0 0 0 0 0 0 0 0 0 0]\n",
      "Q_values : [ 1.9556679   2.998345   -0.54469776 -1.5577402 ]\n",
      "state : [0 0 0 0 0 0 0 0 0 0 0 0 0 0 0 0 0 0 0 0 0 0 0 0 0 0 0 0 0 0 0 0 0 0 0 0]\n",
      "Q_values : [ 1.6624314  2.16922   -0.9150486 -2.6093597]\n",
      "state : [0 0 0 0 0 0 0 0 0 0 0 0 0 0 0 0 0 0 0 0 0 0 0 0 0 0 0 0 0 0 0 0 0 0 0 0]\n",
      "Q_values : [ 1.4907333   1.1536218  -0.96588826 -2.8552055 ]\n",
      "state : [0 0 0 0 0 0 0 0 0 0 0 0 0 0 1 0 1 0 0 0 0 0 0 0 0 0 0 0 0 0 0 0 0 0 0 0]F 0)     \n",
      "Q_values : [ 1.4827456  1.2321153 -1.1026502 -2.2539175]\n"
     ]
    },
    {
     "name": "stderr",
     "output_type": "stream",
     "text": [
      "Warning: Vehicle 'veh_2' performs emergency stop at the end of lane 'end1_junction_2' because of a red traffic light (decel=-20.39, offset=0.10), time=21.24.\n"
     ]
    },
    {
     "name": "stdout",
     "output_type": "stream",
     "text": [
      "state : [0 0 0 0 0 0 0 0 0 0 0 0 0 0 0 0 6 0 0 0 0 0 1 0 0 0 0 0 0 0 0 0 0 0 0 0]\n",
      "Q_values : [ 2.2985487   3.1037161  -0.5255828  -0.20043159]\n",
      "state : [0 0 0 0 0 0 0 0 0 0 0 0 0 0 0 0 6 1 0 0 0 0 2 1 0 0 0 0 0 0 0 0 0 0 0 0]         \n",
      "Q_values : [ 3.818501    2.1711233  -1.6942635   0.17707372]\n",
      "state : [0 0 0 0 0 0 0 0 0 0 0 0 0 0 0 0 6 2 0 0 0 0 3 2 0 0 0 0 0 0 0 0 0 0 0 0]\n",
      "Q_values : [ 2.0355968   2.3422258  -2.0602682   0.05712914]\n"
     ]
    },
    {
     "name": "stderr",
     "output_type": "stream",
     "text": [
      "Warning: Vehicle 'veh_26' performs emergency stop at the end of lane 'end4_junction_2' because of a red traffic light (decel=-19.50, offset=0.01), time=45.88.\n"
     ]
    },
    {
     "name": "stdout",
     "output_type": "stream",
     "text": [
      "state : [0 0 0 0 0 0 0 0 0 0 0 0 0 0 0 0 6 2 0 0 0 0 4 3 0 0 0 0 0 0 0 0 0 0 0 0]\n",
      "Q_values : [ 1.804521    2.5840273  -2.0350409  -0.30986285]\n",
      "state : [0 0 0 0 0 0 0 0 0 0 0 0 0 0 0 0 6 2 0 0 0 0 4 3 0 0 0 0 0 0 0 0 0 0 0 0]\n",
      "Q_values : [ 1.6112616   2.7517939  -1.8573937  -0.06817651]\n",
      "state : [0 0 0 0 0 0 0 0 0 0 0 0 0 0 0 0 6 2 0 0 0 0 4 3 0 0 0 0 0 0 0 0 0 0 0 0]\n",
      "Q_values : [ 2.38286     2.0249987  -1.5331302  -0.01379657]\n",
      "state : [0 0 0 0 0 0 0 0 0 0 0 0 0 0 0 0 6 2 0 0 0 0 4 3 0 0 0 0 0 0 0 0 0 0 0 0]\n",
      "Q_values : [ 2.461616    1.7852752  -0.9931724   0.46998525]\n",
      "state : [0 0 0 0 0 0 0 0 0 0 0 0 0 0 0 0 6 2 0 0 0 0 4 3 0 0 0 0 0 0 0 0 0 0 0 0]\n",
      "Q_values : [ 2.266297    1.7846956  -0.06932497 -0.50772667]\n",
      "state : [0 0 0 0 0 0 0 0 0 0 0 0 0 0 0 0 6 2 0 0 0 0 4 3 0 0 0 0 0 0 0 0 0 0 0 0]\n",
      "Q_values : [ 2.0163422   1.728967   -0.12966537 -1.3352933 ]\n",
      "state : [0 0 0 0 0 0 0 0 0 0 0 0 0 0 0 0 6 2 0 0 0 0 4 3 0 0 0 0 0 0 0 0 0 0 0 0]\n",
      "Q_values : [ 1.233262    2.6632524   0.18550563 -2.4053555 ]\n",
      "state : [0 0 0 0 0 0 0 0 0 0 0 0 0 0 0 0 6 2 0 0 0 0 4 3 0 0 0 0 0 0 0 0 0 0 0 0]\n",
      "Q_values : [ 1.6981912  3.155504   0.5790367 -3.1015232]\n",
      "Step #100.00 (0ms ?*RT. ?UPS, TraCI: 31ms, vehicles TOT 33 ACT 15 BUF 0)                   \n",
      "episode : 132\n",
      " Retrying in 1 seconds\n"
     ]
    },
    {
     "name": "stderr",
     "output_type": "stream",
     "text": [
      "Warning: Environment variable SUMO_HOME is not set properly, disabling XML validation. Set 'auto' or 'always' for web lookups.\n"
     ]
    },
    {
     "name": "stdout",
     "output_type": "stream",
     "text": [
      "state : [0 0 0 0 0 0 0 0 0 0 0 0 0 0 0 0 0 0 0 0 0 0 0 0 0 0 0 0 0 0 0 0 0 0 0 0]\n",
      "Q_values : [ 3.367911   2.5658386  1.1097047 -3.1939983]\n",
      "state : [0 0 0 0 0 0 0 0 0 0 0 0 0 0 0 0 0 0 0 0 0 0 0 0 0 0 0 0 0 0 0 0 0 0 0 0]\n",
      "Q_values : [ 1.4641275   1.272272    0.36335683 -2.1619313 ]\n",
      "state : [0 0 0 0 0 0 0 0 0 0 0 0 0 0 0 0 0 0 0 0 0 0 0 0 0 0 0 0 0 0 0 0 0 0 0 0]\n",
      "Q_values : [ 1.76774     0.75995374 -0.28998947 -2.3780594 ]\n",
      "state : [0 0 0 0 0 0 0 0 0 0 0 0 0 0 0 0 0 0 0 0 0 0 0 0 0 0 0 0 0 0 0 0 0 0 0 0]\n",
      "Q_values : [ 1.58869    1.4073887 -1.0779171 -2.3294513]\n",
      "state : [0 0 0 0 0 0 0 0 0 0 0 0 0 0 1 0 0 1 0 0 0 0 0 0 0 0 0 0 0 0 0 0 0 0 0 0]\n",
      "Q_values : [ 2.3697772  3.260221  -1.053237  -1.7587957]\n",
      "state : [0 0 0 0 0 0 0 0 0 0 0 0 0 0 0 0 1 2 0 0 0 0 0 0 0 0 0 0 0 0 0 0 0 0 0 0]         \n",
      "Q_values : [ 2.5409045  3.1330934 -1.0886662 -2.6103992]\n",
      "state : [0 0 0 0 0 0 0 0 0 0 0 0 0 0 0 0 2 4 0 0 0 0 0 0 0 0 0 0 0 0 0 0 0 0 0 0]\n",
      "Q_values : [ 2.6361623   3.175098   -1.1492038  -0.84498644]\n"
     ]
    },
    {
     "name": "stderr",
     "output_type": "stream",
     "text": [
      "Warning: Vehicle 'veh_10' performs emergency stop at the end of lane 'end2_junction_1' because of a red traffic light (decel=-14.39, offset=0.01), time=31.21.\n"
     ]
    },
    {
     "name": "stdout",
     "output_type": "stream",
     "text": [
      "state : [0 0 0 0 0 0 0 0 0 0 0 0 0 0 0 0 4 5 0 0 0 0 1 1 0 0 0 0 0 0 0 0 0 0 0 0]\n",
      "Q_values : [ 2.0890694   2.063686   -0.85137606 -0.20039725]\n",
      "state : [0 0 0 0 0 0 0 0 0 0 0 0 0 0 0 0 0 6 0 0 0 0 0 4 0 0 0 0 0 0 0 0 0 0 0 0]\n",
      "Q_values : [ 2.5823767   2.0614274  -1.2107568  -0.06328225]\n",
      "state : [0 0 0 0 0 0 0 0 0 0 0 0 0 0 0 0 0 6 0 0 0 0 0 4 0 0 0 0 0 0 0 0 0 0 0 0]\n",
      "Q_values : [ 1.964026   2.3396206 -1.3923709 -0.6469836]\n",
      "state : [0 0 0 0 0 0 0 0 0 0 0 0 0 0 0 0 0 6 0 0 0 0 0 4 0 0 0 0 0 0 0 0 0 0 0 0]\n",
      "Q_values : [ 1.3755815   3.1176372  -0.37830234 -0.10714674]\n",
      "state : [0 0 0 0 0 0 0 0 0 0 0 0 0 0 0 0 0 6 0 0 0 0 0 4 0 0 0 0 0 0 0 0 0 0 0 0]\n",
      "Q_values : [3.2514143  3.5136697  0.16965818 0.31920195]\n",
      "state : [0 0 0 0 0 0 0 0 0 0 0 0 0 0 0 0 0 6 0 0 0 0 0 4 0 0 0 0 0 0 0 0 0 0 0 0]\n",
      "Q_values : [3.522085   2.5409317  0.8307016  0.05607104]\n",
      "state : [0 0 0 0 0 0 0 0 0 0 0 0 0 0 0 0 0 6 0 0 0 0 0 4 0 0 0 0 0 0 0 0 0 0 0 0]\n",
      "Q_values : [ 3.5112936   2.1691532   1.6050019  -0.21134734]\n",
      "state : [0 0 0 0 0 0 0 0 0 0 0 0 0 0 0 0 0 6 0 0 0 0 0 4 0 0 0 0 0 0 0 0 0 0 0 0]\n",
      "Q_values : [ 1.698388    2.3685396  -0.18387365 -0.11047029]\n",
      "Step #100.00 (0ms ?*RT. ?UPS, TraCI: 30ms, vehicles TOT 33 ACT 10 BUF 0)                   \n",
      "episode : 133\n",
      " Retrying in 1 seconds\n"
     ]
    },
    {
     "name": "stderr",
     "output_type": "stream",
     "text": [
      "Warning: Environment variable SUMO_HOME is not set properly, disabling XML validation. Set 'auto' or 'always' for web lookups.\n"
     ]
    },
    {
     "name": "stdout",
     "output_type": "stream",
     "text": [
      "state : [0 0 0 0 0 0 0 0 0 0 0 0 0 0 0 0 0 0 0 0 0 0 0 0 0 0 0 0 0 0 0 0 0 0 0 0]\n",
      "Q_values : [ 1.3544805   2.0894291  -0.7078073   0.47128153]\n",
      "state : [0 0 0 0 0 0 0 0 0 0 0 0 0 0 0 0 0 0 0 0 0 0 0 0 0 0 0 0 0 0 0 0 0 0 0 0]\n",
      "Q_values : [ 1.5083761   1.0929428  -1.6684144   0.17826676]\n",
      "state : [0 0 0 0 0 0 0 0 0 0 0 0 0 0 0 0 0 0 0 0 0 0 0 0 0 0 0 0 0 0 0 0 0 0 0 0]\n",
      "Q_values : [ 0.9659317   0.82671463 -3.2578776   0.49271894]\n",
      "state : [0 0 0 0 0 0 0 0 0 0 0 0 0 0 0 0 0 0 0 0 0 0 0 0 0 0 0 0 0 0 0 0 0 0 0 0]\n",
      "Q_values : [ 0.42088205  0.80864596 -3.735313   -0.02363777]\n",
      "state : [0 0 0 0 0 0 0 0 0 0 0 0 0 0 0 0 0 0 0 0 0 0 0 0 0 0 0 0 0 0 0 0 0 0 0 0]\n",
      "Q_values : [ 0.31490308  1.271167   -4.318554   -0.8492887 ]\n",
      "state : [0 0 0 0 0 0 0 0 0 0 0 0 0 1 0 0 1 0 0 0 0 0 0 0 0 0 0 0 0 0 0 0 0 0 0 0]\n",
      "Q_values : [ 2.5392976  1.5062475 -3.9143784 -1.3437192]\n",
      "state : [0 0 0 0 0 0 0 0 0 0 0 0 0 0 0 0 2 2 0 0 0 0 0 0 0 0 0 0 0 0 0 0 0 0 0 0]\n",
      "Q_values : [ 3.084354    3.5429173  -0.16418529 -1.210568  ]\n",
      "state : [0 0 0 0 0 0 0 0 0 0 0 0 0 0 0 0 4 4 0 0 0 0 0 0 0 0 0 0 0 0 0 0 0 0 0 0]\n",
      "Q_values : [ 4.4632554   2.8057652   1.2902842  -0.08886218]\n",
      "state : [0 0 0 0 0 0 0 0 0 0 0 0 0 0 0 0 6 5 0 0 0 0 1 1 0 0 0 0 0 0 0 0 0 0 0 0]\n",
      "Q_values : [4.6282463 3.4968836 2.4162934 0.7579949]\n",
      "state : [0 0 0 0 0 0 0 0 0 0 0 0 0 0 0 0 6 6 0 0 0 0 2 1 0 0 0 0 0 0 0 0 0 0 0 0]\n",
      "Q_values : [3.3838458  3.220997   2.8764672  0.39420128]\n",
      "state : [0 0 0 0 0 0 0 0 0 0 0 0 0 0 0 0 6 6 0 0 0 0 3 3 0 0 0 0 0 0 0 0 0 0 0 0]\n",
      "Q_values : [2.3121214 2.768857  3.607386  0.5980165]\n",
      "state : [0 0 0 0 0 0 0 0 0 0 0 0 0 0 0 0 0 6 0 0 0 0 0 4 0 0 0 0 0 0 0 0 0 0 0 0]\n",
      "Q_values : [2.150581  2.6194894 3.863827  1.4571524]\n",
      "state : [0 0 0 0 0 0 0 0 0 0 0 0 0 0 0 0 0 0 0 0 0 0 0 0 0 0 0 0 0 0 0 0 0 0 0 0]\n",
      "Q_values : [1.8368869 2.7552693 1.4180565 1.9078493]\n",
      "state : [0 0 0 0 0 0 0 0 0 0 0 0 0 0 0 0 0 2 0 0 0 0 0 0 0 0 0 0 0 0 0 0 0 0 0 0]\n",
      "Q_values : [1.7627627  3.0856066  0.24808478 1.2841315 ]\n",
      "state : [0 0 0 0 0 0 0 0 0 0 0 0 0 0 0 0 0 2 0 0 0 0 0 0 0 0 0 0 0 0 0 0 0 0 0 0]\n",
      "Q_values : [ 2.3853545   2.3888168  -0.17030811  0.06709266]\n",
      "state : [0 0 0 0 0 0 0 0 0 0 0 0 0 0 0 0 0 2 0 0 0 0 0 0 0 0 0 0 0 0 0 0 0 0 0 0]\n",
      "Q_values : [ 1.9940482  1.4357592 -0.4392357 -0.2743187]\n",
      "state : [0 0 0 0 0 0 0 0 0 0 0 0 0 0 0 0 0 2 0 0 0 0 0 0 0 0 0 0 0 0 0 0 0 0 0 0]\n",
      "Q_values : [ 1.9458233   1.1194081  -1.3467634  -0.49983382]\n",
      "Step #100.00 (0ms ?*RT. ?UPS, TraCI: 30ms, vehicles TOT 33 ACT 2 BUF 0)                    \n",
      "episode : 134\n",
      " Retrying in 1 seconds\n"
     ]
    },
    {
     "name": "stderr",
     "output_type": "stream",
     "text": [
      "Warning: Environment variable SUMO_HOME is not set properly, disabling XML validation. Set 'auto' or 'always' for web lookups.\n"
     ]
    },
    {
     "name": "stdout",
     "output_type": "stream",
     "text": [
      "state : [0 0 0 0 0 0 0 0 0 0 0 0 0 0 0 0 0 0 0 0 0 0 0 0 0 0 0 0 0 0 0 0 0 0 0 0]\n",
      "Q_values : [ 1.5627549  1.4168854 -2.0069191 -1.0715072]\n",
      "state : [0 0 0 0 0 0 0 0 0 0 0 0 0 0 0 0 0 0 0 0 0 0 0 0 0 0 0 0 0 0 0 0 0 0 0 0]\n",
      "Q_values : [ 2.1515903   0.99824584 -2.6070051  -1.3535173 ]\n",
      "state : [0 0 0 0 0 0 0 0 0 0 0 0 0 0 0 0 0 0 0 0 0 0 0 0 0 0 0 0 0 0 0 0 0 0 0 0]\n",
      "Q_values : [ 1.8634224   1.8218206  -2.724013   -0.25866127]\n",
      "state : [0 0 0 0 0 0 0 0 0 0 0 0 0 0 0 0 0 0 0 0 0 0 0 0 0 0 0 0 0 0 0 0 0 0 0 0]\n",
      "Q_values : [ 1.9856086   2.4118226  -2.585722   -0.28152418]\n",
      "state : [0 0 0 0 0 0 0 0 0 0 0 0 0 0 0 0 0 0 0 0 0 0 0 0 0 0 0 0 0 0 0 0 0 0 0 0]\n",
      "Q_values : [ 1.7164217   2.592602   -2.7521365   0.23701715]\n",
      "state : [0 0 0 0 0 0 0 0 0 0 0 0 0 1 0 0 1 0 0 0 0 0 0 0 0 0 0 0 0 0 0 0 0 0 0 0]\n",
      "Q_values : [ 2.885378   2.6711175 -2.7281847 -0.6595762]\n",
      "state : [0 0 0 0 0 0 0 0 0 0 0 0 0 0 0 0 1 1 0 0 0 0 0 0 0 0 0 0 0 0 0 0 0 0 0 0]\n",
      "Q_values : [ 2.6638267   3.3440866  -3.0975451  -0.80917525]\n",
      "state : [0 0 0 0 0 0 0 0 0 0 0 0 0 0 0 0 2 2 0 0 0 0 0 0 0 0 0 0 0 0 0 0 0 0 0 0]\n",
      "Q_values : [ 2.331382   3.4759064 -3.2222295 -0.8645704]\n",
      "state : [0 0 0 0 0 0 0 0 0 0 0 0 0 0 0 0 4 4 0 0 0 0 0 0 0 0 0 0 0 0 0 0 0 0 0 0]\n",
      "Q_values : [ 2.6575723  3.3916974 -3.0528338 -1.2787955]\n",
      "state : [0 0 0 0 0 0 0 0 0 0 0 0 0 0 0 0 6 5 0 0 0 0 1 1 0 0 0 0 0 0 0 0 0 0 0 0]\n",
      "Q_values : [ 2.625019   2.9276161 -2.1351295 -1.2540555]\n",
      "state : [0 0 0 0 0 0 0 0 0 0 0 0 0 0 0 0 6 6 0 0 0 0 2 1 0 0 0 0 0 0 0 0 0 0 0 0]\n",
      "Q_values : [ 2.770887    2.0471363  -0.8768244  -0.27833533]\n",
      "state : [0 0 0 0 0 0 0 0 0 0 0 0 0 0 0 0 6 1 0 0 0 0 4 0 0 0 0 0 0 0 0 0 0 0 0 0]\n",
      "Q_values : [1.4877522  2.46885    0.41176462 0.04602885]\n",
      "state : [0 0 0 0 0 0 0 0 0 0 0 0 0 0 0 0 6 2 0 0 0 0 4 0 0 0 0 0 0 0 0 0 0 0 0 0]\n",
      "Q_values : [ 2.3983483  2.5368056  0.7907295 -1.1907561]\n",
      "state : [0 0 0 0 0 0 0 0 0 0 0 0 0 0 0 0 6 2 0 0 0 0 4 0 0 0 0 0 0 0 0 0 0 0 0 0]\n",
      "Q_values : [ 2.1195147  2.616952   1.1323926 -1.3859243]\n",
      "state : [0 0 0 0 0 0 0 0 0 0 0 0 0 0 0 0 6 2 0 0 0 0 4 0 0 0 0 0 0 0 0 0 0 0 0 0]\n",
      "Q_values : [ 1.6404173   2.4101882   0.21372962 -1.9595196 ]\n",
      "state : [0 0 0 0 0 0 0 0 0 0 0 0 0 0 0 0 6 2 0 0 0 0 4 0 0 0 0 0 0 0 0 0 0 0 0 0]\n",
      "Q_values : [ 1.2390879  2.3405008 -0.3697753 -1.2161207]\n",
      "state : [0 0 0 0 0 0 0 0 0 0 0 0 0 0 0 0 6 2 0 0 0 0 4 0 0 0 0 0 0 0 0 0 0 0 0 0]\n",
      "Q_values : [ 1.3728864  1.9107444 -1.4169064 -1.5423877]\n",
      "state : [0 0 0 0 0 0 0 0 0 0 0 0 0 0 0 0 6 2 0 0 0 0 4 0 0 0 0 0 0 0 0 0 0 0 0 0]\n",
      "Q_values : [ 1.8389326   1.7580713  -1.1255343  -0.76167154]\n",
      "Step #100.00 (0ms ?*RT. ?UPS, TraCI: 31ms, vehicles TOT 33 ACT 12 BUF 0)                   \n",
      "episode : 135\n",
      " Retrying in 1 seconds\n"
     ]
    },
    {
     "name": "stderr",
     "output_type": "stream",
     "text": [
      "Warning: Environment variable SUMO_HOME is not set properly, disabling XML validation. Set 'auto' or 'always' for web lookups.\n"
     ]
    },
    {
     "name": "stdout",
     "output_type": "stream",
     "text": [
      "state : [0 0 0 0 0 0 0 0 0 0 0 0 0 0 0 0 0 0 0 0 0 0 0 0 0 0 0 0 0 0 0 0 0 0 0 0]\n",
      "Q_values : [ 1.759834    0.959831   -0.79821444  0.42479634]\n",
      "state : [0 0 0 0 0 0 0 0 0 0 0 0 0 0 0 0 0 0 0 0 0 0 0 0 0 0 0 0 0 0 0 0 0 0 0 0]\n",
      "Q_values : [ 1.3300669   0.99973226 -0.859365    0.98502517]\n",
      "state : [0 0 0 0 0 0 0 0 0 0 0 0 0 0 0 0 0 0 0 0 0 0 0 0 0 0 0 0 0 0 0 0 0 0 0 0]\n",
      "Q_values : [ 1.340669    1.8181846  -1.4552991   0.82127905]\n",
      "state : [0 0 0 0 0 0 0 0 0 0 0 0 0 0 0 0 0 0 0 0 0 0 0 0 0 0 0 0 0 0 0 0 0 0 0 0]\n",
      "Q_values : [ 1.7995474   2.3933606  -1.8100567   0.03763223]\n",
      "state : [0 0 0 0 0 0 0 0 0 0 0 0 0 1 0 0 1 0 0 0 0 0 0 0 0 0 0 0 0 0 0 0 0 0 0 0]\n",
      "Q_values : [ 1.9540623   2.1829958  -1.9683628   0.07542038]\n",
      "state : [0 0 0 0 0 0 0 0 0 0 0 0 0 1 0 0 1 1 0 0 0 0 0 0 0 0 0 0 0 0 0 0 0 0 0 0]\n",
      "Q_values : [ 2.4865508   2.7448552  -1.7186685  -0.34585166]\n",
      "state : [0 0 0 0 0 0 0 0 0 0 0 0 0 1 0 0 2 2 0 0 0 0 0 0 0 0 0 0 0 0 0 0 0 0 0 0]\n",
      "Q_values : [ 3.0447292   3.361393   -0.85977244 -0.9317703 ]\n",
      "state : [0 0 0 0 0 0 0 0 0 0 0 0 0 0 0 0 6 5 0 0 0 0 1 1 0 0 0 0 0 0 0 0 0 0 0 0]\n",
      "Q_values : [ 2.6027083   2.5712261  -0.13865614 -1.4176111 ]\n",
      "state : [0 0 0 0 0 0 0 0 0 0 0 0 0 0 0 0 6 6 0 0 0 0 2 1 0 0 0 0 0 0 0 0 0 0 0 0]\n",
      "Q_values : [ 1.6622252  2.2591722  0.4765594 -1.2493699]\n",
      "state : [0 0 0 0 0 0 0 0 0 0 0 0 0 0 0 0 6 6 0 0 0 0 3 3 0 0 0 0 0 0 0 0 0 0 0 0]\n",
      "Q_values : [ 2.4331236   1.7543534   0.43652534 -1.0934641 ]\n",
      "state : [0 0 0 0 0 0 0 0 0 0 0 0 0 0 0 0 6 6 0 0 0 0 4 4 0 0 0 0 0 0 0 0 0 0 0 0]\n",
      "Q_values : [ 2.529442    3.3653102   0.45707488 -1.0688694 ]\n",
      "state : [0 0 0 0 0 0 0 0 0 0 0 0 0 0 0 0 6 6 0 0 0 0 4 4 0 0 0 0 0 0 0 0 0 0 0 0]\n",
      "Q_values : [ 3.2303133   2.9978716  -0.57766867 -1.9650934 ]\n",
      "state : [0 0 0 0 0 0 0 0 0 0 0 0 0 0 0 0 6 6 0 0 0 0 4 4 0 0 0 0 0 0 0 0 0 0 0 0]\n",
      "Q_values : [ 2.673555   3.3210416 -1.0024714 -1.0238914]\n",
      "state : [0 0 0 0 0 0 0 0 0 0 0 0 0 0 0 0 6 6 0 0 0 0 4 4 0 0 0 0 0 0 0 0 0 0 0 0]\n",
      "Q_values : [ 2.9556432  2.5046167 -1.5999138 -0.5993695]\n",
      "state : [0 0 0 0 0 0 0 0 0 0 0 0 0 0 0 0 6 6 0 0 0 0 4 4 0 0 0 0 0 0 0 0 0 0 0 0]\n",
      "Q_values : [ 3.2984529   1.9339545  -2.067993   -0.54409814]\n",
      "state : [0 0 0 0 0 0 0 0 0 0 0 0 0 0 0 0 6 6 0 0 0 0 4 4 0 0 0 0 0 0 0 0 0 0 0 0]\n",
      "Q_values : [ 2.0933878   1.7972608  -2.2938683  -0.25777745]\n",
      "state : [0 0 0 0 0 0 0 0 0 0 0 0 0 0 0 0 6 6 0 0 0 0 4 4 0 0 0 0 0 0 0 0 0 0 0 0]\n",
      "Q_values : [ 0.7741358  1.9903173 -2.5181456 -1.0001566]\n",
      "state : [0 0 0 0 0 0 0 0 0 0 0 0 0 0 0 0 6 6 0 0 0 0 4 4 0 0 0 0 0 0 0 0 0 0 0 0]\n",
      "Q_values : [ 2.5142934  2.1560664 -2.4988487 -1.7966895]\n",
      "Step #100.00 (0ms ?*RT. ?UPS, TraCI: 30ms, vehicles TOT 33 ACT 20 BUF 0)                   \n",
      "episode : 136\n",
      " Retrying in 1 seconds\n"
     ]
    },
    {
     "name": "stderr",
     "output_type": "stream",
     "text": [
      "Warning: Environment variable SUMO_HOME is not set properly, disabling XML validation. Set 'auto' or 'always' for web lookups.\n"
     ]
    },
    {
     "name": "stdout",
     "output_type": "stream",
     "text": [
      "state : [0 0 0 0 0 0 0 0 0 0 0 0 0 0 0 0 0 0 0 0 0 0 0 0 0 0 0 0 0 0 0 0 0 0 0 0]\n",
      "Q_values : [ 2.5922816  2.736291  -1.0314958 -1.9713871]\n",
      "state : [0 0 0 0 0 0 0 0 0 0 0 0 0 0 0 0 0 0 0 0 0 0 0 0 0 0 0 0 0 0 0 0 0 0 0 0]\n",
      "Q_values : [ 3.0023422   1.6008296  -0.32802367 -1.4881346 ]\n",
      "state : [0 0 0 0 0 0 0 0 0 0 0 0 0 0 0 0 0 0 0 0 0 0 0 0 0 0 0 0 0 0 0 0 0 0 0 0]\n",
      "Q_values : [ 3.141923   1.6748873  0.5164635 -2.3041031]\n",
      "state : [0 0 0 0 0 0 0 0 0 0 0 0 0 0 0 0 0 0 0 0 0 0 0 0 0 0 0 0 0 0 0 0 0 0 0 0]\n",
      "Q_values : [ 2.7017522  3.7238874  1.3084629 -2.4093237]\n",
      "state : [0 0 0 0 0 0 0 0 0 0 0 0 0 0 0 0 1 0 0 0 0 0 0 0 0 0 0 0 0 0 0 0 0 0 0 0]\n",
      "Q_values : [ 2.8847792  2.398557   1.9645631 -2.2285576]\n",
      "state : [0 0 0 0 0 0 0 0 0 0 0 0 0 0 0 0 1 1 0 0 0 0 0 0 0 0 0 0 0 0 0 0 0 0 0 0]\n",
      "Q_values : [ 3.3370013   2.2552295   2.5335515  -0.75143886]\n",
      "state : [0 0 0 0 0 0 0 0 0 0 0 0 0 0 0 0 2 2 0 0 0 0 0 0 0 0 0 0 0 0 0 0 0 0 0 0]\n",
      "Q_values : [2.9267628  2.7341218  2.3197403  0.13583112]\n",
      "state : [0 0 0 0 0 0 0 0 0 0 0 0 0 0 0 0 4 4 0 0 0 0 0 0 0 0 0 0 0 0 0 0 0 0 0 0]\n",
      "Q_values : [2.2670946 3.4134889 2.4724264 0.554564 ]\n",
      "state : [0 0 0 0 0 0 0 0 0 0 0 0 0 0 0 0 6 5 0 0 0 0 1 1 0 0 0 0 0 0 0 0 0 0 0 0]\n",
      "Q_values : [1.6876962  2.8396983  2.5623188  0.63681364]\n",
      "state : [0 0 0 0 0 0 0 0 0 0 0 0 0 0 0 0 6 6 0 0 0 0 2 1 0 0 0 0 0 0 0 0 0 0 0 0]\n",
      "Q_values : [1.6548853 2.7676816 2.0087667 0.5070689]\n",
      "state : [0 0 0 0 0 0 0 0 0 0 0 0 0 0 0 0 6 6 0 0 0 0 3 3 0 0 0 0 0 0 0 0 0 0 0 0]\n",
      "Q_values : [3.7188644 2.916854  0.588459  0.3657596]\n",
      "state : [0 0 0 0 0 0 0 0 0 0 0 0 0 0 0 0 6 6 0 0 0 0 4 4 0 0 0 0 0 0 0 0 0 0 0 0]\n",
      "Q_values : [ 3.616057    2.934544   -0.5686574   0.24424171]\n",
      "state : [0 0 0 0 0 0 0 0 0 0 0 0 0 0 0 0 6 6 0 0 0 0 4 4 0 0 0 0 0 0 0 0 0 0 0 0]\n",
      "Q_values : [ 3.8278558   2.497835   -0.83926845  0.2880888 ]\n",
      "state : [0 0 0 0 0 0 0 0 0 0 0 0 0 0 0 0 6 6 0 0 0 0 4 4 0 0 0 0 0 0 0 0 0 0 0 0]\n",
      "Q_values : [ 3.0586224   2.7830153  -1.7773671  -0.33655715]\n",
      "state : [0 0 0 0 0 0 0 0 0 0 0 0 0 0 0 0 6 0 0 0 0 0 4 0 0 0 0 0 0 0 0 0 0 0 0 0]\n",
      "Q_values : [ 0.971856   2.2226381 -1.5026295 -1.3241715]\n",
      "state : [0 0 0 0 0 0 0 0 0 0 0 0 0 0 0 0 6 1 0 0 0 0 4 0 0 0 0 0 0 0 0 0 0 0 0 0]\n",
      "Q_values : [ 1.0668195  2.3811893 -1.6962903 -1.7619126]\n",
      "state : [0 0 0 0 0 0 0 0 0 0 0 0 0 0 0 0 6 2 0 0 0 0 4 0 0 0 0 0 0 0 0 0 0 0 0 0]\n",
      "Q_values : [ 2.2285602  2.4050202 -1.5592194 -2.5463204]\n",
      "state : [0 0 0 0 0 0 0 0 0 0 0 0 0 0 0 0 6 2 0 0 0 0 4 0 0 0 0 0 0 0 0 0 0 0 0 0]\n",
      "Q_values : [ 2.4541812  1.6483634 -1.1346946 -2.6489897]\n",
      "Step #100.00 (0ms ?*RT. ?UPS, TraCI: 31ms, vehicles TOT 33 ACT 12 BUF 0)                   \n",
      "episode : 137\n",
      " Retrying in 1 seconds\n"
     ]
    },
    {
     "name": "stderr",
     "output_type": "stream",
     "text": [
      "Warning: Environment variable SUMO_HOME is not set properly, disabling XML validation. Set 'auto' or 'always' for web lookups.\n"
     ]
    },
    {
     "name": "stdout",
     "output_type": "stream",
     "text": [
      "state : [0 0 0 0 0 0 0 0 0 0 0 0 0 0 0 0 0 0 0 0 0 0 0 0 0 0 0 0 0 0 0 0 0 0 0 0]\n",
      "Q_values : [ 2.2236028  1.5223113 -0.7977481 -3.0816302]\n",
      "state : [0 0 0 0 0 0 0 0 0 0 0 0 0 0 0 0 0 0 0 0 0 0 0 0 0 0 0 0 0 0 0 0 0 0 0 0]\n",
      "Q_values : [ 2.7326255   1.3993272  -0.51299334 -3.3413389 ]\n",
      "state : [0 0 0 0 0 0 0 0 0 0 0 0 0 0 0 0 0 0 0 0 0 0 0 0 0 0 0 0 0 0 0 0 0 0 0 0]\n",
      "Q_values : [ 2.0746036   2.5227494  -0.67686415 -3.9801552 ]\n",
      "state : [0 0 0 0 0 0 0 0 0 0 0 0 0 0 0 0 0 0 0 0 0 0 0 0 0 0 0 0 0 0 0 0 0 0 0 0]\n",
      "Q_values : [ 2.3217754   2.9221473  -0.27075887 -1.5912375 ]\n",
      "state : [0 0 0 0 0 0 0 0 0 0 0 0 0 0 0 0 0 0 0 0 0 0 0 0 0 0 0 0 0 0 0 0 0 0 0 0]\n",
      "Q_values : [ 3.2113976   2.578331    0.24513102 -1.3091173 ]\n",
      "state : [0 0 0 0 0 0 0 0 0 0 0 0 0 0 1 0 1 0 0 0 0 0 0 0 0 0 0 0 0 0 0 0 0 0 0 0]F 0)     \n",
      "Q_values : [ 2.850988    4.128054    0.62878156 -0.18281555]\n"
     ]
    },
    {
     "name": "stderr",
     "output_type": "stream",
     "text": [
      "Warning: Vehicle 'veh_2' performs emergency stop at the end of lane 'end1_junction_2' because of a red traffic light (decel=-20.39, offset=0.10), time=21.24.\n"
     ]
    },
    {
     "name": "stdout",
     "output_type": "stream",
     "text": [
      "state : [0 0 0 0 0 0 0 0 0 0 0 0 0 0 0 0 1 1 0 0 0 0 0 0 0 0 0 0 0 0 0 0 0 0 0 0]\n",
      "Q_values : [3.8788383  3.1455688  1.10271    0.68378687]\n",
      "state : [0 0 0 0 0 0 0 0 0 0 0 0 0 0 0 0 2 2 0 0 0 0 0 0 0 0 0 0 0 0 0 0 0 0 0 0]\n",
      "Q_values : [3.5866938 3.3738089 1.7132412 1.4290514]\n",
      "state : [0 0 0 0 0 0 0 0 0 0 0 0 0 0 0 0 6 5 0 0 0 0 1 1 0 0 0 0 0 0 0 0 0 0 0 0]\n",
      "Q_values : [2.4388752 2.0635161 1.2832618 1.1348817]\n",
      "state : [0 0 0 0 0 0 0 0 0 0 0 0 0 0 0 0 6 6 0 0 0 0 2 1 0 0 0 0 0 0 0 0 0 0 0 0]\n",
      "Q_values : [1.6549858 1.6535805 1.3426352 0.4792137]\n",
      "state : [0 0 0 0 0 0 0 0 0 0 0 0 0 0 0 0 6 6 0 0 0 0 3 3 0 0 0 0 0 0 0 0 0 0 0 0]\n",
      "Q_values : [ 1.127331    1.5487952   1.1248991  -0.33675718]\n",
      "state : [0 0 0 0 0 0 0 0 0 0 0 0 0 0 0 0 6 6 0 0 0 0 4 4 0 0 0 0 0 0 0 0 0 0 0 0]\n",
      "Q_values : [ 0.47089455  1.1319565   0.5089245  -1.8081    ]\n",
      "state : [0 0 0 0 0 0 0 0 0 0 0 0 0 0 0 0 6 6 0 0 0 0 4 4 0 0 0 0 0 0 0 0 0 0 0 0]\n",
      "Q_values : [ 1.2695024   1.1079462   0.08516312 -2.887989  ]\n",
      "state : [0 0 0 0 0 0 0 0 0 0 0 0 0 0 0 0 6 6 0 0 0 0 4 4 0 0 0 0 0 0 0 0 0 0 0 0]\n",
      "Q_values : [ 1.6914      1.146396   -0.10307169 -3.8127816 ]\n",
      "state : [0 0 0 0 0 0 0 0 0 0 0 0 0 0 0 0 6 6 0 0 0 0 4 4 0 0 0 0 0 0 0 0 0 0 0 0]\n",
      "Q_values : [ 1.5074348  1.4964172 -2.094479  -4.2390814]\n",
      "state : [0 0 0 0 0 0 0 0 0 0 0 0 0 0 0 0 6 6 0 0 0 0 4 4 0 0 0 0 0 0 0 0 0 0 0 0]\n",
      "Q_values : [ 1.831666   1.5671321 -2.9430091 -3.9864383]\n",
      "state : [0 0 0 0 0 0 0 0 0 0 0 0 0 0 0 0 6 6 0 0 0 0 4 4 0 0 0 0 0 0 0 0 0 0 0 0]\n",
      "Q_values : [ 1.6355724  1.6823725 -2.9565046 -3.6589403]\n",
      "state : [0 0 0 0 0 0 0 0 0 0 0 0 0 0 0 0 6 6 0 0 0 0 4 4 0 0 0 0 0 0 0 0 0 0 0 0]\n",
      "Q_values : [ 1.247023   1.4832993 -3.2389235 -2.9057844]\n",
      "Step #100.00 (0ms ?*RT. ?UPS, TraCI: 31ms, vehicles TOT 33 ACT 20 BUF 0)                   \n",
      "episode : 138\n",
      " Retrying in 1 seconds\n"
     ]
    },
    {
     "name": "stderr",
     "output_type": "stream",
     "text": [
      "Warning: Environment variable SUMO_HOME is not set properly, disabling XML validation. Set 'auto' or 'always' for web lookups.\n"
     ]
    },
    {
     "name": "stdout",
     "output_type": "stream",
     "text": [
      "state : [0 0 0 0 0 0 0 0 0 0 0 0 0 0 0 0 0 0 0 0 0 0 0 0 0 0 0 0 0 0 0 0 0 0 0 0]\n",
      "Q_values : [ 1.7299819  1.9158397 -3.4141467 -2.2407057]\n",
      "state : [0 0 0 0 0 0 0 0 0 0 0 0 0 0 0 0 0 0 0 0 0 0 0 0 0 0 0 0 0 0 0 0 0 0 0 0]\n",
      "Q_values : [ 2.234744   2.8576674 -3.0520191 -1.8475916]\n",
      "state : [0 0 0 0 0 0 0 0 0 0 0 0 0 0 0 0 0 0 0 0 0 0 0 0 0 0 0 0 0 0 0 0 0 0 0 0]\n",
      "Q_values : [ 2.9539695   3.3751087  -2.0535233  -0.96014357]\n",
      "state : [0 0 0 0 0 0 0 0 0 0 0 0 0 0 0 0 0 0 0 0 0 0 0 0 0 0 0 0 0 0 0 0 0 0 0 0]\n",
      "Q_values : [ 3.667817   2.882192  -0.9119148 -0.2284894]\n",
      "state : [0 0 0 0 0 0 0 0 0 0 0 0 0 0 0 0 0 0 0 0 0 0 0 0 0 0 0 0 0 0 0 0 0 0 0 0]\n",
      "Q_values : [ 3.207812    2.462192   -0.00611687  0.17966723]\n",
      "state : [0 0 0 0 0 0 0 0 0 0 0 0 0 0 1 0 1 0 0 0 0 0 0 0 0 0 0 0 0 0 0 0 0 0 0 0]\n",
      "Q_values : [ 2.814168    2.6940272   0.71686673 -0.27152967]\n",
      "state : [0 0 0 0 0 0 0 0 0 0 0 0 0 0 1 0 1 1 0 0 0 0 0 0 0 0 0 0 0 0 0 0 0 0 0 0]\n",
      "Q_values : [ 2.4223974  2.2261326  1.3276725 -1.179291 ]\n",
      "state : [0 0 0 0 0 0 0 0 0 0 0 0 0 0 1 0 2 2 0 0 0 0 0 0 0 0 0 0 0 0 0 0 0 0 0 0]\n",
      "Q_values : [ 2.0604808  1.550707   1.8814601 -0.910923 ]\n",
      "state : [0 0 0 0 0 0 0 0 0 0 0 0 0 0 1 0 4 4 0 0 0 0 0 0 0 0 0 0 0 0 0 0 0 0 0 0]\n",
      "Q_values : [ 1.1107469   1.1071911   2.1021771  -0.79600143]\n",
      "state : [0 0 0 0 0 0 0 0 0 0 0 0 0 0 1 0 0 5 0 0 0 0 0 1 0 0 0 0 0 0 0 0 0 0 0 0]\n",
      "Q_values : [ 1.6856012   1.9772409   0.24133539 -0.77754164]\n",
      "state : [0 0 0 0 0 0 0 0 0 0 0 0 0 0 0 0 2 6 0 0 0 0 2 3 0 0 0 0 0 0 0 0 0 0 0 0]         \n",
      "Q_values : [ 1.1772395  1.1500285 -1.2329547 -2.0004623]\n"
     ]
    },
    {
     "name": "stderr",
     "output_type": "stream",
     "text": [
      "Warning: Vehicle 'veh_25' performs emergency stop at the end of lane 'end4_junction_1' because of a red traffic light (decel=-24.49, offset=0.14), time=45.21.\n"
     ]
    },
    {
     "name": "stdout",
     "output_type": "stream",
     "text": [
      "state : [0 0 0 0 0 0 0 0 0 0 0 0 0 0 0 0 2 6 0 0 0 0 3 4 0 0 0 0 0 0 0 0 0 0 0 0]\n",
      "Q_values : [ 1.239533   1.4317262 -2.4509604 -2.1184905]\n",
      "state : [0 0 0 0 0 0 0 0 0 0 0 0 0 0 0 0 2 6 0 0 0 0 3 4 0 0 0 0 0 0 0 0 0 0 0 0]\n",
      "Q_values : [ 2.0345223  1.6913584 -3.7280185 -3.7797313]\n",
      "state : [0 0 0 0 0 0 0 0 0 0 0 0 0 0 0 0 2 6 0 0 0 0 3 4 0 0 0 0 0 0 0 0 0 0 0 0]\n",
      "Q_values : [ 1.6735238  2.7066839 -4.4293947 -5.1423373]\n",
      "state : [0 0 0 0 0 0 0 0 0 0 0 0 0 0 0 0 2 6 0 0 0 0 3 4 0 0 0 0 0 0 0 0 0 0 0 0]\n",
      "Q_values : [ 2.3726225  2.2352662 -4.8240514 -5.164215 ]\n",
      "state : [0 0 0 0 0 0 0 0 0 0 0 0 0 0 0 0 2 6 0 0 0 0 3 4 0 0 0 0 0 0 0 0 0 0 0 0]\n",
      "Q_values : [ 2.9559464  1.8472162 -4.905416  -4.152092 ]\n",
      "state : [0 0 0 0 0 0 0 0 0 0 0 0 0 0 0 0 2 6 0 0 0 0 3 4 0 0 0 0 0 0 0 0 0 0 0 0]\n",
      "Q_values : [ 3.228705   2.8481467 -5.162458  -4.0528955]\n",
      "state : [0 0 0 0 0 0 0 0 0 0 0 0 0 0 0 0 2 6 0 0 0 0 3 4 0 0 0 0 0 0 0 0 0 0 0 0]\n",
      "Q_values : [ 2.7670069  2.848791  -4.497944  -2.0822203]\n",
      "state : [0 0 0 0 0 0 0 0 0 0 0 0 0 0 0 0 2 6 0 0 0 0 3 4 0 0 0 0 0 0 0 0 0 0 0 0]\n",
      "Q_values : [ 2.491364   2.1190372 -3.6537178 -1.1109319]\n",
      "Step #100.00 (0ms ?*RT. ?UPS, TraCI: 31ms, vehicles TOT 33 ACT 15 BUF 0)                   \n",
      "episode : 139\n",
      " Retrying in 1 seconds\n"
     ]
    },
    {
     "name": "stderr",
     "output_type": "stream",
     "text": [
      "Warning: Environment variable SUMO_HOME is not set properly, disabling XML validation. Set 'auto' or 'always' for web lookups.\n"
     ]
    },
    {
     "name": "stdout",
     "output_type": "stream",
     "text": [
      "state : [0 0 0 0 0 0 0 0 0 0 0 0 0 0 0 0 0 0 0 0 0 0 0 0 0 0 0 0 0 0 0 0 0 0 0 0]\n",
      "Q_values : [ 2.2784138  1.9029632 -0.3593886  0.2173636]\n",
      "state : [0 0 0 0 0 0 0 0 0 0 0 0 0 0 0 0 0 0 0 0 0 0 0 0 0 0 0 0 0 0 0 0 0 0 0 0]\n",
      "Q_values : [ 3.0132656   2.1899867   1.023721   -0.05318928]\n",
      "state : [0 0 0 0 0 0 0 0 0 0 0 0 0 0 0 0 0 0 0 0 0 0 0 0 0 0 0 0 0 0 0 0 0 0 0 0]\n",
      "Q_values : [2.9687157  2.4450777  2.1323595  0.19782591]\n",
      "state : [0 0 0 0 0 0 0 0 0 0 0 0 0 0 0 0 0 0 0 0 0 0 0 0 0 0 0 0 0 0 0 0 0 0 0 0]\n",
      "Q_values : [2.482441  2.2626028 1.4598724 0.4584701]\n",
      "state : [0 0 0 0 0 0 0 0 0 0 0 0 0 0 1 0 1 0 0 0 0 0 0 0 0 0 0 0 0 0 0 0 0 0 0 0]\n",
      "Q_values : [ 2.0542498  2.133838   0.8598051 -0.6135063]\n",
      "state : [0 0 0 0 0 0 0 0 0 0 0 0 0 0 0 0 1 1 0 0 0 0 0 0 0 0 0 0 0 0 0 0 0 0 0 0]\n",
      "Q_values : [ 1.4536737   2.0847456   0.10968709 -1.37426   ]\n",
      "state : [0 0 0 0 0 0 0 0 0 0 0 0 0 0 0 0 2 2 0 0 0 0 0 0 0 0 0 0 0 0 0 0 0 0 0 0]\n",
      "Q_values : [ 1.808017   1.4342934 -0.7989123 -1.5661163]\n",
      "state : [0 0 0 0 0 0 0 0 0 0 0 0 0 0 0 0 4 4 0 0 0 0 0 0 0 0 0 0 0 0 0 0 0 0 0 0]\n",
      "Q_values : [ 1.8690734  1.2862564 -0.9274545 -1.575145 ]\n",
      "state : [0 0 0 0 0 0 0 0 0 0 0 0 0 0 0 0 6 5 0 0 0 0 1 1 0 0 0 0 0 0 0 0 0 0 0 0]\n",
      "Q_values : [ 1.7719805  1.6210855 -2.2649858 -0.9676349]\n",
      "state : [0 0 0 0 0 0 0 0 0 0 0 0 0 0 0 0 6 6 0 0 0 0 2 1 0 0 0 0 0 0 0 0 0 0 0 0]\n",
      "Q_values : [ 2.2964675   1.4079598  -2.5995321  -0.12385988]\n",
      "state : [0 0 0 0 0 0 0 0 0 0 0 0 0 0 0 0 6 6 0 0 0 0 3 3 0 0 0 0 0 0 0 0 0 0 0 0]\n",
      "Q_values : [ 1.9769068   1.8612185  -3.257282    0.32416868]\n",
      "state : [0 0 0 0 0 0 0 0 0 0 0 0 0 0 0 0 6 6 0 0 0 0 4 4 0 0 0 0 0 0 0 0 0 0 0 0]\n",
      "Q_values : [ 2.0467544  1.8837001 -3.2409337  0.8115885]\n",
      "state : [0 0 0 0 0 0 0 0 0 0 0 0 0 0 0 0 6 6 0 0 0 0 4 4 0 0 0 0 0 0 0 0 0 0 0 0]\n",
      "Q_values : [ 2.7451468  2.2744064 -2.8842523  1.2240763]\n",
      "state : [0 0 0 0 0 0 0 0 0 0 0 0 0 0 0 0 6 6 0 0 0 0 4 4 0 0 0 0 0 0 0 0 0 0 0 0]\n",
      "Q_values : [ 1.7309223  2.8914485 -1.9887383  1.7439091]\n",
      "state : [0 0 0 0 0 0 0 0 0 0 0 0 0 0 0 0 6 6 0 0 0 0 4 4 0 0 0 0 0 0 0 0 0 0 0 0]\n",
      "Q_values : [ 2.2096648  3.0744157 -0.5230746  2.1386442]\n",
      "state : [0 0 0 0 0 0 0 0 0 0 0 0 0 0 0 0 6 6 0 0 0 0 4 4 0 0 0 0 0 0 0 0 0 0 0 0]\n",
      "Q_values : [3.1204839 2.5319567 0.5662377 1.9364077]\n",
      "state : [0 0 0 0 0 0 0 0 0 0 0 0 0 0 0 0 6 6 0 0 0 0 4 4 0 0 0 0 0 0 0 0 0 0 0 0]\n",
      "Q_values : [3.282086   2.07548    0.05081177 1.8046336 ]\n",
      "state : [0 0 0 0 0 0 0 0 0 0 0 0 0 0 0 0 6 0 0 0 0 0 4 0 0 0 0 0 0 0 0 0 0 0 0 0]\n",
      "Q_values : [ 3.1009164   3.1435914   0.18538713 -0.35252428]\n",
      "Step #100.00 (0ms ?*RT. ?UPS, TraCI: 30ms, vehicles TOT 33 ACT 20 BUF 0)                   \n",
      "episode : 140\n",
      " Retrying in 1 seconds\n"
     ]
    },
    {
     "name": "stderr",
     "output_type": "stream",
     "text": [
      "Warning: Environment variable SUMO_HOME is not set properly, disabling XML validation. Set 'auto' or 'always' for web lookups.\n"
     ]
    },
    {
     "name": "stdout",
     "output_type": "stream",
     "text": [
      "state : [0 0 0 0 0 0 0 0 0 0 0 0 0 0 0 0 0 0 0 0 0 0 0 0 0 0 0 0 0 0 0 0 0 0 0 0]\n",
      "Q_values : [ 2.1660247   2.6972246   0.40851283 -0.77114534]\n",
      "state : [0 0 0 0 0 0 0 0 0 0 0 0 0 0 0 0 0 0 0 0 0 0 0 0 0 0 0 0 0 0 0 0 0 0 0 0]\n",
      "Q_values : [ 2.3460329  1.6343532  0.6848519 -1.77437  ]\n",
      "state : [0 0 0 0 0 0 0 0 0 0 0 0 0 0 0 0 0 0 0 0 0 0 0 0 0 0 0 0 0 0 0 0 0 0 0 0]\n",
      "Q_values : [ 1.9356058   1.503676    0.53906226 -1.152355  ]\n",
      "state : [0 0 0 0 0 0 0 0 0 0 0 0 0 0 0 0 0 0 0 0 0 0 0 0 0 0 0 0 0 0 0 0 0 0 0 0]\n",
      "Q_values : [ 2.5960739   2.3638954   0.24471784 -0.77963114]\n",
      "state : [0 0 0 0 0 0 0 0 0 0 0 0 0 0 1 0 1 0 0 0 0 0 0 0 0 0 0 0 0 0 0 0 0 0 0 0]         \n",
      "Q_values : [ 3.4260874   2.3418746  -0.6725676  -0.23289633]\n",
      "state : [0 0 0 0 0 0 0 0 0 0 0 0 0 0 1 0 1 1 0 0 0 0 0 0 0 0 0 0 0 0 0 0 0 0 0 0]\n",
      "Q_values : [ 2.6196854   2.4834886  -1.1028457   0.44126058]\n"
     ]
    },
    {
     "name": "stderr",
     "output_type": "stream",
     "text": [
      "Warning: Vehicle 'veh_2' performs emergency stop at the end of lane 'end1_junction_2' because of a red traffic light (decel=-20.39, offset=0.10), time=21.24.\n"
     ]
    },
    {
     "name": "stdout",
     "output_type": "stream",
     "text": [
      "state : [0 0 0 0 0 0 0 0 0 0 0 0 0 0 1 0 2 2 0 0 0 0 0 0 0 0 0 0 0 0 0 0 0 0 0 0]\n",
      "Q_values : [ 2.374023    2.4827025  -0.62602305  0.92864823]\n",
      "state : [0 0 0 0 0 0 0 0 0 0 0 0 0 0 0 0 4 4 0 0 0 0 0 0 0 0 0 0 0 0 0 0 0 0 0 0]\n",
      "Q_values : [ 2.4412532  2.813342  -0.8918364  1.1049039]\n",
      "state : [0 0 0 0 0 0 0 0 0 0 0 0 0 0 0 0 6 5 0 0 0 0 1 1 0 0 0 0 0 0 0 0 0 0 0 0]\n",
      "Q_values : [ 2.8103175   2.966929   -0.76227     0.48637438]\n",
      "state : [0 0 0 0 0 0 0 0 0 0 0 0 0 0 0 0 6 6 0 0 0 0 2 1 0 0 0 0 0 0 0 0 0 0 0 0]\n",
      "Q_values : [ 2.6220398   3.0360806  -0.8357427   0.22383094]\n",
      "state : [0 0 0 0 0 0 0 0 0 0 0 0 0 0 0 0 6 6 0 0 0 0 3 3 0 0 0 0 0 0 0 0 0 0 0 0]\n",
      "Q_values : [ 2.3843346   2.0808966  -1.3401232  -0.17520857]\n",
      "state : [0 0 0 0 0 0 0 0 0 0 0 0 0 0 0 0 6 6 0 0 0 0 4 4 0 0 0 0 0 0 0 0 0 0 0 0]\n",
      "Q_values : [ 1.9762086  1.7505649 -1.531842  -0.4392314]\n",
      "state : [0 0 0 0 0 0 0 0 0 0 0 0 0 0 0 0 6 6 0 0 0 0 4 4 0 0 0 0 0 0 0 0 0 0 0 0]\n",
      "Q_values : [ 2.2210264  1.3080629 -1.4407549 -0.3744607]\n",
      "state : [0 0 0 0 0 0 0 0 0 0 0 0 0 0 0 0 6 6 0 0 0 0 4 4 0 0 0 0 0 0 0 0 0 0 0 0]\n",
      "Q_values : [ 1.8770148  1.8932515 -1.174365  -0.9972167]\n",
      "state : [0 0 0 0 0 0 0 0 0 0 0 0 0 0 0 0 6 6 0 0 0 0 4 4 0 0 0 0 0 0 0 0 0 0 0 0]\n",
      "Q_values : [ 2.536172   2.2411647 -0.805779  -1.6216664]\n",
      "state : [0 0 0 0 0 0 0 0 0 0 0 0 0 0 0 0 6 0 0 0 0 0 4 0 0 0 0 0 0 0 0 0 0 0 0 0]\n",
      "Q_values : [ 3.0167022  2.147471  -0.4240148 -1.498014 ]\n",
      "state : [0 0 0 0 0 0 0 0 0 0 0 0 0 0 0 0 6 1 0 0 0 0 4 0 0 0 0 0 0 0 0 0 0 0 0 0]\n",
      "Q_values : [ 2.175737    2.350371    0.01929617 -1.3260181 ]\n",
      "Step #100.00 (0ms ?*RT. ?UPS, TraCI: 31ms, vehicles TOT 33 ACT 20 BUF 0)                   \n",
      "episode : 141\n",
      " Retrying in 1 seconds\n"
     ]
    },
    {
     "name": "stderr",
     "output_type": "stream",
     "text": [
      "Warning: Environment variable SUMO_HOME is not set properly, disabling XML validation. Set 'auto' or 'always' for web lookups.\n"
     ]
    },
    {
     "name": "stdout",
     "output_type": "stream",
     "text": [
      "state : [0 0 0 0 0 0 0 0 0 0 0 0 0 0 0 0 0 0 0 0 0 0 0 0 0 0 0 0 0 0 0 0 0 0 0 0]\n",
      "Q_values : [ 1.3517057  1.5610101 -0.7917197 -1.1064758]\n",
      "state : [0 0 0 0 0 0 0 0 0 0 0 0 0 0 0 0 0 0 0 0 0 0 0 0 0 0 0 0 0 0 0 0 0 0 0 0]\n",
      "Q_values : [ 1.4700102  1.6755333 -2.7887802 -1.0644925]\n",
      "state : [0 0 0 0 0 0 0 0 0 0 0 0 0 0 0 0 0 0 0 0 0 0 0 0 0 0 0 0 0 0 0 0 0 0 0 0]\n",
      "Q_values : [ 1.2011728   1.5689344  -2.6209245  -0.07880831]\n",
      "state : [0 0 0 0 0 0 0 0 0 0 0 0 0 1 0 0 1 0 0 0 0 0 0 0 0 0 0 0 0 0 0 0 0 0 0 0]\n",
      "Q_values : [ 2.733872    1.8337799  -1.7861302   0.27529573]\n",
      "state : [0 0 0 0 0 0 0 0 0 0 0 0 0 0 0 0 0 2 0 0 0 0 0 0 0 0 0 0 0 0 0 0 0 0 0 0]\n",
      "Q_values : [ 3.21309    3.287395  -1.1216285  1.011594 ]\n",
      "state : [0 0 0 0 0 0 0 0 0 0 0 0 0 0 0 0 1 4 0 0 0 0 0 0 0 0 0 0 0 0 0 0 0 0 0 0]\n",
      "Q_values : [ 2.9276037   3.1942177  -0.5787816   0.82232165]\n",
      "state : [0 0 0 0 0 0 0 0 0 0 0 0 0 0 0 0 2 5 0 0 0 0 1 1 0 0 0 0 0 0 0 0 0 0 0 0]\n",
      "Q_values : [2.7182167  2.1804996  0.26442885 1.4440951 ]\n",
      "state : [0 0 0 0 0 0 0 0 0 0 0 0 0 0 0 0 2 6 0 0 0 0 2 1 0 0 0 0 0 0 0 0 0 0 0 0]\n",
      "Q_values : [2.462997  1.47253   0.2760346 0.9348798]\n",
      "state : [0 0 0 0 0 0 0 0 0 0 0 0 0 0 0 0 2 6 0 0 0 0 3 3 0 0 0 0 0 0 0 0 0 0 0 0]\n",
      "Q_values : [1.6640548  1.861135   0.22111964 0.6811955 ]\n",
      "state : [0 0 0 0 0 0 0 0 0 0 0 0 0 0 0 0 2 6 0 0 0 0 4 4 0 0 0 0 0 0 0 0 0 0 0 0]\n",
      "Q_values : [ 1.7346065   1.4205188  -0.80770946 -2.7849817 ]\n",
      "state : [0 0 0 0 0 0 0 0 0 0 0 0 0 0 0 0 2 6 0 0 0 0 4 4 0 0 0 0 0 0 0 0 0 0 0 0]\n",
      "Q_values : [ 2.1117125  0.7687274 -1.3875554 -4.034348 ]\n",
      "state : [0 0 0 0 0 0 0 0 0 0 0 0 0 0 0 0 2 6 0 0 0 0 4 4 0 0 0 0 0 0 0 0 0 0 0 0]\n",
      "Q_values : [ 3.7642832  2.705163  -1.6197333 -4.836719 ]\n",
      "state : [0 0 0 0 0 0 0 0 0 0 0 0 0 0 0 0 2 6 0 0 0 0 4 4 0 0 0 0 0 0 0 0 0 0 0 0]\n",
      "Q_values : [ 3.3628573   3.0911322  -0.72991705 -5.0404053 ]\n",
      "state : [0 0 0 0 0 0 0 0 0 0 0 0 0 0 0 0 2 6 0 0 0 0 4 4 0 0 0 0 0 0 0 0 0 0 0 0]\n",
      "Q_values : [ 2.6685462  2.7862039 -0.748811  -4.626882 ]\n",
      "state : [0 0 0 0 0 0 0 0 0 0 0 0 0 0 0 0 2 6 0 0 0 0 4 4 0 0 0 0 0 0 0 0 0 0 0 0]\n",
      "Q_values : [ 1.9981084   1.8117372  -0.95188546 -3.9257648 ]\n",
      "state : [0 0 0 0 0 0 0 0 0 0 0 0 0 0 0 0 2 6 0 0 0 0 4 4 0 0 0 0 0 0 0 0 0 0 0 0]\n",
      "Q_values : [ 1.0742579  1.5975893 -1.1904507 -3.0322917]\n",
      "Step #100.00 (0ms ?*RT. ?UPS, TraCI: 31ms, vehicles TOT 33 ACT 16 BUF 0)                   \n",
      "episode : 142\n",
      " Retrying in 1 seconds\n"
     ]
    },
    {
     "name": "stderr",
     "output_type": "stream",
     "text": [
      "Warning: Environment variable SUMO_HOME is not set properly, disabling XML validation. Set 'auto' or 'always' for web lookups.\n"
     ]
    },
    {
     "name": "stdout",
     "output_type": "stream",
     "text": [
      "state : [0 0 0 0 0 0 0 0 0 0 0 0 0 0 0 0 0 0 0 0 0 0 0 0 0 0 0 0 0 0 0 0 0 0 0 0]\n",
      "Q_values : [ 1.142486   1.5550612 -1.9996109 -2.5232384]\n",
      "state : [0 0 0 0 0 0 0 0 0 0 0 0 0 0 0 0 0 0 0 0 0 0 0 0 0 0 0 0 0 0 0 0 0 0 0 0]\n",
      "Q_values : [ 1.1508735  1.3382007 -2.3673038 -1.9443386]\n",
      "state : [0 0 0 0 0 0 0 0 0 0 0 0 0 0 0 0 0 0 0 0 0 0 0 0 0 0 0 0 0 0 0 0 0 0 0 0]\n",
      "Q_values : [ 1.3293744   0.80142844 -2.645637   -1.1489575 ]\n",
      "state : [0 0 0 0 0 0 0 0 0 0 0 0 0 0 0 0 0 0 0 0 0 0 0 0 0 0 0 0 0 0 0 0 0 0 0 0]\n",
      "Q_values : [ 2.136248   1.6203336 -2.6065965 -0.5897658]\n",
      "state : [0 0 0 0 0 0 0 0 0 0 0 0 0 0 0 0 0 0 0 0 0 0 0 0 0 0 0 0 0 0 0 0 0 0 0 0]\n",
      "Q_values : [ 1.9601694   2.0459423  -3.117068    0.22921824]\n",
      "state : [0 0 0 0 0 0 0 0 0 0 0 0 0 0 0 0 1 1 0 0 0 0 0 0 0 0 0 0 0 0 0 0 0 0 0 0]\n",
      "Q_values : [ 2.0436778   2.8858294  -2.7864666   0.18537593]\n",
      "state : [0 0 0 0 0 0 0 0 0 0 0 0 0 0 0 0 2 2 0 0 0 0 0 0 0 0 0 0 0 0 0 0 0 0 0 0]\n",
      "Q_values : [ 3.2287822  3.229315  -1.8307478 -1.1053412]\n",
      "state : [0 0 0 0 0 0 0 0 0 0 0 0 0 0 0 0 4 4 0 0 0 0 0 0 0 0 0 0 0 0 0 0 0 0 0 0]\n",
      "Q_values : [ 2.0948267   3.3233933  -0.43744254 -1.5783927 ]\n",
      "state : [0 0 0 0 0 0 0 0 0 0 0 0 0 0 0 0 6 5 0 0 0 0 1 1 0 0 0 0 0 0 0 0 0 0 0 0]\n",
      "Q_values : [ 2.0982242  2.7397325  0.7069843 -2.4325435]\n",
      "state : [0 0 0 0 0 0 0 0 0 0 0 0 0 0 0 0 6 6 0 0 0 0 2 1 0 0 0 0 0 0 0 0 0 0 0 0]\n",
      "Q_values : [ 2.0403442  2.2828586  1.4308472 -2.960346 ]\n",
      "state : [0 0 0 0 0 0 0 0 0 0 0 0 0 0 0 0 6 6 0 0 0 0 3 3 0 0 0 0 0 0 0 0 0 0 0 0]\n",
      "Q_values : [ 2.0157294  1.8799741  1.3134185 -2.9335105]\n",
      "state : [0 0 0 0 0 0 0 0 0 0 0 0 0 0 0 0 6 6 0 0 0 0 4 4 0 0 0 0 0 0 0 0 0 0 0 0]\n",
      "Q_values : [ 2.1445284   1.7467457   0.59924746 -3.349826  ]\n",
      "state : [0 0 0 0 0 0 0 0 0 0 0 0 0 0 0 0 6 6 0 0 0 0 4 4 0 0 0 0 0 0 0 0 0 0 0 0]\n",
      "Q_values : [ 1.9778022   2.5342436  -0.16415739 -3.479041  ]\n",
      "state : [0 0 0 0 0 0 0 0 0 0 0 0 0 0 0 0 6 0 0 0 0 0 4 0 0 0 0 0 0 0 0 0 0 0 0 0]\n",
      "Q_values : [ 2.4542348  2.6477847 -1.5789852 -1.3055398]\n",
      "state : [0 0 0 0 0 0 0 0 0 0 0 0 0 0 0 0 6 1 0 0 0 0 4 0 0 0 0 0 0 0 0 0 0 0 0 0]\n",
      "Q_values : [ 1.7892447  2.0184712 -1.6078727 -0.90572  ]\n",
      "state : [0 0 0 0 0 0 0 0 0 0 0 0 0 0 0 0 6 2 0 0 0 0 4 0 0 0 0 0 0 0 0 0 0 0 0 0]\n",
      "Q_values : [ 1.3688483   1.4047866  -1.2209179  -0.31391048]\n",
      "state : [0 0 0 0 0 0 0 0 0 0 0 0 0 0 0 0 6 2 0 0 0 0 4 0 0 0 0 0 0 0 0 0 0 0 0 0]\n",
      "Q_values : [ 1.7734052   1.9078469  -1.3118079  -0.29922938]\n",
      "state : [0 0 0 0 0 0 0 0 0 0 0 0 0 0 0 0 6 2 0 0 0 0 4 0 0 0 0 0 0 0 0 0 0 0 0 0]\n",
      "Q_values : [ 2.021634    2.6763103  -1.1885579  -0.07830524]\n",
      "Step #100.00 (0ms ?*RT. ?UPS, TraCI: 31ms, vehicles TOT 33 ACT 12 BUF 0)                   \n",
      "episode : 143\n",
      " Retrying in 1 seconds\n"
     ]
    },
    {
     "name": "stderr",
     "output_type": "stream",
     "text": [
      "Warning: Environment variable SUMO_HOME is not set properly, disabling XML validation. Set 'auto' or 'always' for web lookups.\n"
     ]
    },
    {
     "name": "stdout",
     "output_type": "stream",
     "text": [
      "state : [0 0 0 0 0 0 0 0 0 0 0 0 0 0 0 0 0 0 0 0 0 0 0 0 0 0 0 0 0 0 0 0 0 0 0 0]\n",
      "Q_values : [ 2.6347544   2.0528355  -1.5487757   0.47980857]\n",
      "state : [0 0 0 0 0 0 0 0 0 0 0 0 0 0 0 0 0 0 0 0 0 0 0 0 0 0 0 0 0 0 0 0 0 0 0 0]\n",
      "Q_values : [ 2.606594   1.4761493 -1.0532336 -0.3164506]\n",
      "state : [0 0 0 0 0 0 0 0 0 0 0 0 0 0 0 0 0 0 0 0 0 0 0 0 0 0 0 0 0 0 0 0 0 0 0 0]\n",
      "Q_values : [ 2.1742735   2.0746875  -0.31629014 -1.2673855 ]\n",
      "state : [0 0 0 0 0 0 0 0 0 0 0 0 0 0 0 0 0 0 0 0 0 0 0 0 0 0 0 0 0 0 0 0 0 0 0 0]\n",
      "Q_values : [ 2.224586    2.762422   -0.29332733 -1.5203655 ]\n",
      "state : [0 0 0 0 0 0 0 0 0 0 0 0 0 0 0 0 0 0 0 0 0 0 0 0 0 0 0 0 0 0 0 0 0 0 0 0]\n",
      "Q_values : [ 2.7915902   2.8840308  -0.37009048 -2.1273205 ]\n",
      "state : [0 0 0 0 0 0 0 0 0 0 0 0 0 1 0 0 1 0 0 0 0 0 0 0 0 0 0 0 0 0 0 0 0 0 0 0]\n",
      "Q_values : [ 2.3401594  2.7211413 -0.2962904 -2.919275 ]\n",
      "state : [0 0 0 0 0 0 0 0 0 0 0 0 0 1 0 0 1 1 0 0 0 0 0 0 0 0 0 0 0 0 0 0 0 0 0 0]\n",
      "Q_values : [ 2.4590187  2.671911  -1.3845336 -3.902608 ]\n",
      "state : [0 0 0 0 0 0 0 0 0 0 0 0 0 1 0 0 2 2 0 0 0 0 0 0 0 0 0 0 0 0 0 0 0 0 0 0]\n",
      "Q_values : [ 1.9853978  2.0412674 -1.4881787 -4.8784018]\n",
      "state : [0 0 0 0 0 0 0 0 0 0 0 0 0 1 0 0 4 4 0 0 0 0 0 0 0 0 0 0 0 0 0 0 0 0 0 0]\n",
      "Q_values : [ 1.9199433  2.3047533 -1.5175915 -5.239517 ]\n",
      "state : [0 0 0 0 0 0 0 0 0 0 0 0 0 1 0 0 6 5 0 0 0 0 1 1 0 0 0 0 0 0 0 0 0 0 0 0]\n",
      "Q_values : [ 3.0160909  1.422472  -1.6490409 -5.565339 ]\n",
      "state : [0 0 0 0 0 0 0 0 0 0 0 0 0 0 0 0 6 6 0 0 0 0 2 1 0 0 0 0 0 0 0 0 0 0 0 0]\n",
      "Q_values : [ 2.741077   1.9655722 -0.9681587 -3.5212123]\n",
      "state : [0 0 0 0 0 0 0 0 0 0 0 0 0 0 0 0 6 6 0 0 0 0 3 3 0 0 0 0 0 0 0 0 0 0 0 0]\n",
      "Q_values : [ 2.20272    2.4685135 -0.6904278 -2.8403814]\n",
      "state : [0 0 0 0 0 0 0 0 0 0 0 0 0 0 0 0 6 6 0 0 0 0 4 4 0 0 0 0 0 0 0 0 0 0 0 0]\n",
      "Q_values : [ 1.2402925  1.863418  -0.7252946 -2.5947757]\n",
      "state : [0 0 0 0 0 0 0 0 0 0 0 0 0 0 0 0 6 6 0 0 0 0 4 4 0 0 0 0 0 0 0 0 0 0 0 0]\n",
      "Q_values : [ 1.1474029   1.5402443  -0.29883862 -2.0602102 ]\n",
      "state : [0 0 0 0 0 0 0 0 0 0 0 0 0 0 0 0 6 6 0 0 0 0 4 4 0 0 0 0 0 0 0 0 0 0 0 0]\n",
      "Q_values : [ 1.4321533   1.4975799  -0.48048735 -1.738733  ]\n",
      "state : [0 0 0 0 0 0 0 0 0 0 0 0 0 0 0 0 6 6 0 0 0 0 4 4 0 0 0 0 0 0 0 0 0 0 0 0]\n",
      "Q_values : [ 1.5515704   1.4057683  -0.94245553 -1.4072485 ]\n",
      "state : [0 0 0 0 0 0 0 0 0 0 0 0 0 0 0 0 6 6 0 0 0 0 4 4 0 0 0 0 0 0 0 0 0 0 0 0]\n",
      "Q_values : [ 2.5128546  1.9817095 -0.910105  -1.9054668]\n",
      "state : [0 0 0 0 0 0 0 0 0 0 0 0 0 0 0 0 6 6 0 0 0 0 4 4 0 0 0 0 0 0 0 0 0 0 0 0]\n",
      "Q_values : [ 2.6900082  1.8626101 -0.8159046 -1.745434 ]\n",
      "state : [0 0 0 0 0 0 0 0 0 0 0 0 0 0 0 0 6 6 0 0 0 0 4 4 0 0 0 0 0 0 0 0 0 0 0 0]\n",
      "Q_values : [ 3.3468342  2.395978  -0.6747768 -1.319902 ]\n",
      "Step #100.00 (0ms ?*RT. ?UPS, TraCI: 32ms, vehicles TOT 33 ACT 20 BUF 0)                   \n",
      "episode : 144\n",
      " Retrying in 1 seconds\n"
     ]
    },
    {
     "name": "stderr",
     "output_type": "stream",
     "text": [
      "Warning: Environment variable SUMO_HOME is not set properly, disabling XML validation. Set 'auto' or 'always' for web lookups.\n"
     ]
    },
    {
     "name": "stdout",
     "output_type": "stream",
     "text": [
      "state : [0 0 0 0 0 0 0 0 0 0 0 0 0 0 0 0 0 0 0 0 0 0 0 0 0 0 0 0 0 0 0 0 0 0 0 0]\n",
      "Q_values : [ 2.556279    3.0635412  -0.7239702   0.97190785]\n",
      "state : [0 0 0 0 0 0 0 0 0 0 0 0 0 0 0 0 0 0 0 0 0 0 0 0 0 0 0 0 0 0 0 0 0 0 0 0]\n",
      "Q_values : [ 2.8659692  2.8614635 -1.0273817  1.8928086]\n",
      "state : [0 0 0 0 0 0 0 0 0 0 0 0 0 0 0 0 0 0 0 0 0 0 0 0 0 0 0 0 0 0 0 0 0 0 0 0]\n",
      "Q_values : [ 2.5563993  2.5224187 -1.4282248  2.2801213]\n",
      "state : [0 0 0 0 0 0 0 0 0 0 0 0 0 0 0 0 0 0 0 0 0 0 0 0 0 0 0 0 0 0 0 0 0 0 0 0]\n",
      "Q_values : [ 2.0480466  1.9513118 -0.8460684  0.8996365]\n",
      "state : [0 0 0 0 0 0 0 0 0 0 0 0 0 0 1 0 1 0 0 0 0 0 0 0 0 0 0 0 0 0 0 0 0 0 0 0]\n",
      "Q_values : [ 2.593704    1.0986668  -1.0263381  -0.02093649]\n",
      "state : [0 0 0 0 0 0 0 0 0 0 0 0 0 0 1 0 1 1 0 0 0 0 0 0 0 0 0 0 0 0 0 0 0 0 0 0]\n",
      "Q_values : [ 1.7148511  1.9475679 -1.1652613 -0.664454 ]\n",
      "state : [0 0 0 0 0 0 0 0 0 0 0 0 0 0 0 0 2 2 0 0 0 0 0 0 0 0 0 0 0 0 0 0 0 0 0 0]\n",
      "Q_values : [ 1.972414    1.7683208  -0.57554483 -0.6130564 ]\n",
      "state : [0 0 0 0 0 0 0 0 0 0 0 0 0 0 0 0 4 4 0 0 0 0 0 0 0 0 0 0 0 0 0 0 0 0 0 0]\n",
      "Q_values : [ 2.2872043  2.419024  -0.9020157 -1.7881889]\n",
      "state : [0 0 0 0 0 0 0 0 0 0 0 0 0 0 0 0 6 5 0 0 0 0 1 1 0 0 0 0 0 0 0 0 0 0 0 0]\n",
      "Q_values : [ 1.3962048   3.282549   -0.54019785 -2.6504214 ]\n",
      "state : [0 0 0 0 0 0 0 0 0 0 0 0 0 0 0 0 6 6 0 0 0 0 2 1 0 0 0 0 0 0 0 0 0 0 0 0]\n",
      "Q_values : [ 1.9597752  2.665928  -0.6837349 -2.8096356]\n",
      "state : [0 0 0 0 0 0 0 0 0 0 0 0 0 0 0 0 6 6 0 0 0 0 3 3 0 0 0 0 0 0 0 0 0 0 0 0]\n",
      "Q_values : [ 2.1983292  2.3912888 -0.5530803 -2.38596  ]\n",
      "state : [0 0 0 0 0 0 0 0 0 0 0 0 0 0 0 0 6 6 0 0 0 0 4 4 0 0 0 0 0 0 0 0 0 0 0 0]\n",
      "Q_values : [ 2.607328   2.6589575 -0.5117693 -2.3376813]\n",
      "state : [0 0 0 0 0 0 0 0 0 0 0 0 0 0 0 0 6 6 0 0 0 0 4 4 0 0 0 0 0 0 0 0 0 0 0 0]\n",
      "Q_values : [ 2.5989141   2.373662   -0.47392917 -2.6532679 ]\n",
      "state : [0 0 0 0 0 0 0 0 0 0 0 0 0 0 0 0 6 6 0 0 0 0 4 4 0 0 0 0 0 0 0 0 0 0 0 0]\n",
      "Q_values : [ 2.377236   2.3010366 -0.6139271 -1.9087143]\n",
      "state : [0 0 0 0 0 0 0 0 0 0 0 0 0 0 0 0 6 6 0 0 0 0 4 4 0 0 0 0 0 0 0 0 0 0 0 0]\n",
      "Q_values : [ 1.8614452   1.9011155  -0.18864655 -1.4991963 ]\n",
      "state : [0 0 0 0 0 0 0 0 0 0 0 0 0 0 0 0 6 6 0 0 0 0 4 4 0 0 0 0 0 0 0 0 0 0 0 0]\n",
      "Q_values : [ 0.7283261   2.043577    0.17973232 -0.9271579 ]\n",
      "state : [0 0 0 0 0 0 0 0 0 0 0 0 0 0 0 0 6 6 0 0 0 0 4 4 0 0 0 0 0 0 0 0 0 0 0 0]\n",
      "Q_values : [ 1.6686351  2.1625843  0.4133892 -0.8049159]\n",
      "state : [0 0 0 0 0 0 0 0 0 0 0 0 0 0 0 0 6 6 0 0 0 0 4 4 0 0 0 0 0 0 0 0 0 0 0 0]\n",
      "Q_values : [ 2.0683722  1.7307087  0.624022  -3.0693872]\n",
      "state : [0 0 0 0 0 0 0 0 0 0 0 0 0 0 0 0 6 6 0 0 0 0 4 4 0 0 0 0 0 0 0 0 0 0 0 0]\n",
      "Q_values : [ 1.8960942   1.8375198   0.32262826 -3.9682665 ]\n",
      "Step #100.00 (0ms ?*RT. ?UPS, TraCI: 32ms, vehicles TOT 33 ACT 20 BUF 0)                   \n",
      "episode : 145\n",
      " Retrying in 1 seconds\n"
     ]
    },
    {
     "name": "stderr",
     "output_type": "stream",
     "text": [
      "Warning: Environment variable SUMO_HOME is not set properly, disabling XML validation. Set 'auto' or 'always' for web lookups.\n"
     ]
    },
    {
     "name": "stdout",
     "output_type": "stream",
     "text": [
      "state : [0 0 0 0 0 0 0 0 0 0 0 0 0 0 0 0 0 0 0 0 0 0 0 0 0 0 0 0 0 0 0 0 0 0 0 0]\n",
      "Q_values : [ 1.8064401  1.4803321 -0.0636301 -4.1394973]\n",
      "state : [0 0 0 0 0 0 0 0 0 0 0 0 0 0 0 0 0 0 0 0 0 0 0 0 0 0 0 0 0 0 0 0 0 0 0 0]\n",
      "Q_values : [ 1.6915406   1.8511088  -0.57122993 -3.95284   ]\n",
      "state : [0 0 0 0 0 0 0 0 0 0 0 0 0 0 0 0 0 0 0 0 0 0 0 0 0 0 0 0 0 0 0 0 0 0 0 0]\n",
      "Q_values : [ 2.3759289  2.1413703 -0.8745067 -4.40646  ]\n",
      "state : [0 0 0 0 0 0 0 0 0 0 0 0 0 0 0 0 0 0 0 0 0 0 0 0 0 0 0 0 0 0 0 0 0 0 0 0]\n",
      "Q_values : [ 2.7573075  2.3720627 -2.201868  -4.0224867]\n",
      "state : [0 0 0 0 0 0 0 0 0 0 0 0 0 0 0 0 0 0 0 0 0 0 0 0 0 0 0 0 0 0 0 0 0 0 0 0]\n",
      "Q_values : [ 2.9619713  3.8633766 -2.5076306 -2.9007304]\n",
      "state : [0 0 0 0 0 0 0 0 0 0 0 0 0 0 0 0 1 0 0 0 0 0 0 0 0 0 0 0 0 0 0 0 0 0 0 0]\n",
      "Q_values : [ 3.782575   2.8983555 -3.0461397 -2.1721582]\n",
      "state : [0 0 0 0 0 0 0 0 0 0 0 0 0 0 0 0 1 1 0 0 0 0 0 0 0 0 0 0 0 0 0 0 0 0 0 0]\n",
      "Q_values : [ 3.405272   3.4717326 -3.3830616 -1.7427642]\n",
      "state : [0 0 0 0 0 0 0 0 0 0 0 0 0 0 0 0 2 2 0 0 0 0 0 0 0 0 0 0 0 0 0 0 0 0 0 0]\n",
      "Q_values : [ 3.3070657  3.1879375 -3.7796445 -0.8634784]\n",
      "state : [0 0 0 0 0 0 0 0 0 0 0 0 0 0 0 0 4 4 0 0 0 0 0 0 0 0 0 0 0 0 0 0 0 0 0 0]\n",
      "Q_values : [ 2.7067137   2.7054396  -3.6550896  -0.30704927]\n",
      "state : [0 0 0 0 0 0 0 0 0 0 0 0 0 0 0 0 6 5 0 0 0 0 1 1 0 0 0 0 0 0 0 0 0 0 0 0]\n",
      "Q_values : [ 1.7283335  1.7835126 -3.4447107 -0.9458368]\n",
      "state : [0 0 0 0 0 0 0 0 0 0 0 0 0 0 0 0 6 6 0 0 0 0 2 1 0 0 0 0 0 0 0 0 0 0 0 0]\n",
      "Q_values : [ 0.98799217  1.6259018  -3.9746757  -0.974921  ]\n",
      "state : [0 0 0 0 0 0 0 0 0 0 0 0 0 0 0 0 6 6 0 0 0 0 3 3 0 0 0 0 0 0 0 0 0 0 0 0]\n",
      "Q_values : [ 1.6342583  1.7372078 -4.1822143 -2.7571702]\n",
      "state : [0 0 0 0 0 0 0 0 0 0 0 0 0 0 0 0 6 6 0 0 0 0 4 4 0 0 0 0 0 0 0 0 0 0 0 0]\n",
      "Q_values : [ 1.4422702  2.242691  -3.0238292 -2.6842682]\n",
      "state : [0 0 0 0 0 0 0 0 0 0 0 0 0 0 0 0 6 6 0 0 0 0 4 4 0 0 0 0 0 0 0 0 0 0 0 0]\n",
      "Q_values : [ 2.3069701  2.019913  -3.2143157 -3.255364 ]\n",
      "state : [0 0 0 0 0 0 0 0 0 0 0 0 0 0 0 0 6 6 0 0 0 0 4 4 0 0 0 0 0 0 0 0 0 0 0 0]\n",
      "Q_values : [ 2.2303677  2.074315  -2.35447   -3.3672943]\n",
      "state : [0 0 0 0 0 0 0 0 0 0 0 0 0 0 0 0 6 6 0 0 0 0 4 4 0 0 0 0 0 0 0 0 0 0 0 0]\n",
      "Q_values : [ 2.5796463  2.2337098 -1.715606  -3.7050695]\n",
      "state : [0 0 0 0 0 0 0 0 0 0 0 0 0 0 0 0 6 6 0 0 0 0 4 4 0 0 0 0 0 0 0 0 0 0 0 0]\n",
      "Q_values : [ 2.3963618  3.3104587 -1.0541303 -3.5243888]\n",
      "state : [0 0 0 0 0 0 0 0 0 0 0 0 0 0 0 0 6 6 0 0 0 0 4 4 0 0 0 0 0 0 0 0 0 0 0 0]\n",
      "Q_values : [ 2.8528633   2.7312446   0.13716412 -3.1480122 ]\n",
      "state : [0 0 0 0 0 0 0 0 0 0 0 0 0 0 0 0 0 6 0 0 0 0 0 4 0 0 0 0 0 0 0 0 0 0 0 0]\n",
      "Q_values : [ 1.4821429  2.1724594  1.1627016 -1.3435848]\n",
      "Step #100.00 (0ms ?*RT. ?UPS, TraCI: 31ms, vehicles TOT 33 ACT 20 BUF 0)                   \n",
      "episode : 146\n",
      " Retrying in 1 seconds\n"
     ]
    },
    {
     "name": "stderr",
     "output_type": "stream",
     "text": [
      "Warning: Environment variable SUMO_HOME is not set properly, disabling XML validation. Set 'auto' or 'always' for web lookups.\n"
     ]
    },
    {
     "name": "stdout",
     "output_type": "stream",
     "text": [
      "state : [0 0 0 0 0 0 0 0 0 0 0 0 0 0 0 0 0 0 0 0 0 0 0 0 0 0 0 0 0 0 0 0 0 0 0 0]\n",
      "Q_values : [ 1.8159695  2.2904806  1.6700466 -0.4783795]\n",
      "state : [0 0 0 0 0 0 0 0 0 0 0 0 0 0 0 0 0 0 0 0 0 0 0 0 0 0 0 0 0 0 0 0 0 0 0 0]\n",
      "Q_values : [ 1.6887827   2.0250523   2.0015593  -0.06357145]\n",
      "state : [0 0 0 0 0 0 0 0 0 0 0 0 0 0 0 0 0 0 0 0 0 0 0 0 0 0 0 0 0 0 0 0 0 0 0 0]\n",
      "Q_values : [ 3.2476735   1.5017214   0.83048725 -0.7047374 ]\n",
      "state : [0 0 0 0 0 0 0 0 0 0 0 0 0 0 0 0 0 0 0 0 0 0 0 0 0 0 0 0 0 0 0 0 0 0 0 0]\n",
      "Q_values : [ 3.3627949  2.4471593  0.3918593 -1.8597863]\n",
      "state : [0 0 0 0 0 0 0 0 0 0 0 0 0 0 0 0 0 0 0 0 0 0 0 0 0 0 0 0 0 0 0 0 0 0 0 0]\n",
      "Q_values : [ 2.3728106  3.436395  -0.6771996 -2.278394 ]\n",
      "state : [0 0 0 0 0 0 0 0 0 0 0 0 0 0 0 0 1 0 0 0 0 0 0 0 0 0 0 0 0 0 0 0 0 0 0 0]\n",
      "Q_values : [ 2.980022  3.431806 -2.044413 -2.576402]\n",
      "state : [0 0 0 0 0 0 0 0 0 0 0 0 0 0 0 0 1 1 0 0 0 0 0 0 0 0 0 0 0 0 0 0 0 0 0 0]\n",
      "Q_values : [ 2.4146032  2.47643   -2.9641197 -3.5194945]\n",
      "state : [0 0 0 0 0 0 0 0 0 0 0 0 0 0 0 0 2 2 0 0 0 0 0 0 0 0 0 0 0 0 0 0 0 0 0 0]\n",
      "Q_values : [ 1.7808948  1.4151276 -2.5810773 -3.919175 ]\n",
      "state : [0 0 0 0 0 0 0 0 0 0 0 0 0 0 0 0 4 4 0 0 0 0 0 0 0 0 0 0 0 0 0 0 0 0 0 0]\n",
      "Q_values : [ 1.365335   2.2344518 -3.6250017 -3.3244445]\n",
      "state : [0 0 0 0 0 0 0 0 0 0 0 0 0 0 0 0 6 5 0 0 0 0 1 1 0 0 0 0 0 0 0 0 0 0 0 0]\n",
      "Q_values : [ 1.9140503  2.7219837 -3.5760207 -2.9982257]\n",
      "state : [0 0 0 0 0 0 0 0 0 0 0 0 0 0 0 0 6 6 0 0 0 0 2 1 0 0 0 0 0 0 0 0 0 0 0 0]\n",
      "Q_values : [ 2.0170622  3.1112127 -3.5701075 -2.2051344]\n",
      "state : [0 0 0 0 0 0 0 0 0 0 0 0 0 0 0 0 6 6 0 0 0 0 3 3 0 0 0 0 0 0 0 0 0 0 0 0]\n",
      "Q_values : [ 2.1975608  3.6088238 -3.0325472 -1.491885 ]\n",
      "state : [0 0 0 0 0 0 0 0 0 0 0 0 0 0 0 0 6 6 0 0 0 0 4 4 0 0 0 0 0 0 0 0 0 0 0 0]\n",
      "Q_values : [ 3.7608442   2.5364032  -2.6336272  -0.99799204]\n",
      "state : [0 0 0 0 0 0 0 0 0 0 0 0 0 0 0 0 6 6 0 0 0 0 4 4 0 0 0 0 0 0 0 0 0 0 0 0]\n",
      "Q_values : [ 4.676942   2.785264  -1.1761684 -0.6830647]\n",
      "state : [0 0 0 0 0 0 0 0 0 0 0 0 0 0 0 0 6 6 0 0 0 0 4 4 0 0 0 0 0 0 0 0 0 0 0 0]\n",
      "Q_values : [ 4.7494907   3.4611235  -0.58966684  0.4838767 ]\n",
      "state : [0 0 0 0 0 0 0 0 0 0 0 0 0 0 0 0 6 6 0 0 0 0 4 4 0 0 0 0 0 0 0 0 0 0 0 0]\n",
      "Q_values : [ 2.9766767   2.8948758  -0.06022239  1.3829522 ]\n",
      "state : [0 0 0 0 0 0 0 0 0 0 0 0 0 0 0 0 6 6 0 0 0 0 4 4 0 0 0 0 0 0 0 0 0 0 0 0]\n",
      "Q_values : [2.1450188  2.1441894  0.42218852 1.1851196 ]\n",
      "state : [0 0 0 0 0 0 0 0 0 0 0 0 0 0 0 0 6 6 0 0 0 0 4 4 0 0 0 0 0 0 0 0 0 0 0 0]\n",
      "Q_values : [1.7052125  2.2412095  0.23405385 0.6501632 ]\n",
      "state : [0 0 0 0 0 0 0 0 0 0 0 0 0 0 0 0 6 6 0 0 0 0 4 4 0 0 0 0 0 0 0 0 0 0 0 0]\n",
      "Q_values : [ 2.2604256   2.320286   -0.04251266 -0.3166957 ]\n",
      "state : [0 0 0 0 0 0 0 0 0 0 0 0 0 0 0 0 6 6 0 0 0 0 4 4 0 0 0 0 0 0 0 0 0 0 0 0]\n",
      "Q_values : [ 1.9835037   2.9172862  -0.17328072 -0.7849457 ]\n",
      "Step #100.00 (0ms ?*RT. ?UPS, TraCI: 31ms, vehicles TOT 33 ACT 20 BUF 0)                   \n",
      "episode : 147\n",
      " Retrying in 1 seconds\n"
     ]
    },
    {
     "name": "stderr",
     "output_type": "stream",
     "text": [
      "Warning: Environment variable SUMO_HOME is not set properly, disabling XML validation. Set 'auto' or 'always' for web lookups.\n"
     ]
    },
    {
     "name": "stdout",
     "output_type": "stream",
     "text": [
      "state : [0 0 0 0 0 0 0 0 0 0 0 0 0 0 0 0 0 0 0 0 0 0 0 0 0 0 0 0 0 0 0 0 0 0 0 0]\n",
      "Q_values : [ 2.15484     1.9974618  -0.48190498 -1.5508554 ]\n",
      "state : [0 0 0 0 0 0 0 0 0 0 0 0 0 0 0 0 0 0 0 0 0 0 0 0 0 0 0 0 0 0 0 0 0 0 0 0]\n",
      "Q_values : [ 2.445951   2.4569817 -0.9263201 -2.6320536]\n",
      "state : [0 0 0 0 0 0 0 0 0 0 0 0 0 0 0 0 0 0 0 0 0 0 0 0 0 0 0 0 0 0 0 0 0 0 0 0]\n",
      "Q_values : [ 2.5943274  1.7397524 -1.5573895 -3.4225538]\n",
      "state : [0 0 0 0 0 0 0 0 0 0 0 0 0 0 0 0 0 0 0 0 0 0 0 0 0 0 0 0 0 0 0 0 0 0 0 0]\n",
      "Q_values : [ 2.8312407  1.1981622 -1.7735996 -3.2879217]\n",
      "state : [0 0 0 0 0 0 0 0 0 0 0 0 0 0 0 0 0 0 0 0 0 0 0 0 0 0 0 0 0 0 0 0 0 0 0 0]\n",
      "Q_values : [ 1.943404   1.8201516 -1.851707  -2.576546 ]\n",
      "state : [0 0 0 0 0 0 0 0 0 0 0 0 0 0 1 0 1 0 0 0 0 0 0 0 0 0 0 0 0 0 0 0 0 0 0 0]\n",
      "Q_values : [ 2.016002   2.0828853 -2.8164032 -2.6700954]\n",
      "state : [0 0 0 0 0 0 0 0 0 0 0 0 0 0 0 0 1 1 0 0 0 0 0 0 0 0 0 0 0 0 0 0 0 0 0 0]\n",
      "Q_values : [ 1.4868863  2.5567095 -2.8169093 -2.0701227]\n",
      "state : [0 0 0 0 0 0 0 0 0 0 0 0 0 0 0 0 2 2 0 0 0 0 0 0 0 0 0 0 0 0 0 0 0 0 0 0]\n",
      "Q_values : [ 1.7108907  3.1878426 -2.7894084 -1.792803 ]\n",
      "state : [0 0 0 0 0 0 0 0 0 0 0 0 0 0 0 0 4 4 0 0 0 0 0 0 0 0 0 0 0 0 0 0 0 0 0 0]\n",
      "Q_values : [ 2.5467188  2.8338642 -1.8149772 -1.170708 ]\n",
      "state : [0 0 0 0 0 0 0 0 0 0 0 0 0 0 0 0 6 5 0 0 0 0 1 1 0 0 0 0 0 0 0 0 0 0 0 0]\n",
      "Q_values : [ 2.8248749   3.243219   -1.6702893  -0.10078716]\n",
      "state : [0 0 0 0 0 0 0 0 0 0 0 0 0 0 0 0 6 6 0 0 0 0 2 1 0 0 0 0 0 0 0 0 0 0 0 0]\n",
      "Q_values : [ 2.302281    1.8797253  -1.2247715  -0.37637043]\n",
      "state : [0 0 0 0 0 0 0 0 0 0 0 0 0 0 0 0 6 6 0 0 0 0 3 3 0 0 0 0 0 0 0 0 0 0 0 0]\n",
      "Q_values : [ 1.7440826  2.2632186 -0.5255456 -1.2539854]\n",
      "state : [0 0 0 0 0 0 0 0 0 0 0 0 0 0 0 0 6 6 0 0 0 0 4 4 0 0 0 0 0 0 0 0 0 0 0 0]\n",
      "Q_values : [ 1.6984886  1.7587105 -0.3400371 -1.2561877]\n",
      "state : [0 0 0 0 0 0 0 0 0 0 0 0 0 0 0 0 6 6 0 0 0 0 4 4 0 0 0 0 0 0 0 0 0 0 0 0]\n",
      "Q_values : [ 1.1328938   1.1120532   0.18068528 -0.93715215]\n",
      "state : [0 0 0 0 0 0 0 0 0 0 0 0 0 0 0 0 6 6 0 0 0 0 4 4 0 0 0 0 0 0 0 0 0 0 0 0]\n",
      "Q_values : [ 1.0269476   1.232188   -0.58366585 -2.1169949 ]\n",
      "state : [0 0 0 0 0 0 0 0 0 0 0 0 0 0 0 0 6 6 0 0 0 0 4 4 0 0 0 0 0 0 0 0 0 0 0 0]\n",
      "Q_values : [ 1.2474298  2.0644665 -1.2731638 -2.515666 ]\n",
      "state : [0 0 0 0 0 0 0 0 0 0 0 0 0 0 0 0 6 6 0 0 0 0 4 4 0 0 0 0 0 0 0 0 0 0 0 0]\n",
      "Q_values : [ 2.2258239  2.2212152 -1.348449  -2.463529 ]\n",
      "state : [0 0 0 0 0 0 0 0 0 0 0 0 0 0 0 0 0 6 0 0 0 0 0 4 0 0 0 0 0 0 0 0 0 0 0 0]\n",
      "Q_values : [ 2.5779934  2.6099458 -1.1379561 -3.281922 ]\n",
      "Step #100.00 (0ms ?*RT. ?UPS, TraCI: 32ms, vehicles TOT 33 ACT 20 BUF 0)                   \n",
      "episode : 148\n",
      " Retrying in 1 seconds\n"
     ]
    },
    {
     "name": "stderr",
     "output_type": "stream",
     "text": [
      "Warning: Environment variable SUMO_HOME is not set properly, disabling XML validation. Set 'auto' or 'always' for web lookups.\n"
     ]
    },
    {
     "name": "stdout",
     "output_type": "stream",
     "text": [
      "state : [0 0 0 0 0 0 0 0 0 0 0 0 0 0 0 0 0 0 0 0 0 0 0 0 0 0 0 0 0 0 0 0 0 0 0 0]\n",
      "Q_values : [ 2.4073098  3.3121967 -0.7605934 -3.8469353]\n",
      "state : [0 0 0 0 0 0 0 0 0 0 0 0 0 0 0 0 0 0 0 0 0 0 0 0 0 0 0 0 0 0 0 0 0 0 0 0]\n",
      "Q_values : [ 3.6620293  3.1602316 -0.5009432 -2.198953 ]\n",
      "state : [0 0 0 0 0 0 0 0 0 0 0 0 0 0 0 0 0 0 0 0 0 0 0 0 0 0 0 0 0 0 0 0 0 0 0 0]\n",
      "Q_values : [ 3.5736566   2.9929729   0.01311135 -1.4735663 ]\n",
      "state : [0 0 0 0 0 0 0 0 0 0 0 0 0 0 0 0 0 0 0 0 0 0 0 0 0 0 0 0 0 0 0 0 0 0 0 0]\n",
      "Q_values : [ 2.225227   3.041878   0.6640465 -0.8823488]\n",
      "state : [0 0 0 0 0 0 0 0 0 0 0 0 0 0 0 0 0 0 0 0 0 0 0 0 0 0 0 0 0 0 0 0 0 0 0 0]\n",
      "Q_values : [ 2.1643987   2.376883    1.0896201  -0.52469397]\n",
      "state : [0 0 0 0 0 0 0 0 0 0 0 0 0 1 0 0 1 0 0 0 0 0 0 0 0 0 0 0 0 0 0 0 0 0 0 0]\n",
      "Q_values : [ 1.590126   1.3288634  1.6317668 -0.6927998]\n",
      "state : [0 0 0 0 0 0 0 0 0 0 0 0 0 1 0 0 0 1 0 0 0 0 0 0 0 0 0 0 0 0 0 0 0 0 0 0]\n",
      "Q_values : [ 2.099585    1.6120186   1.3551334  -0.35184622]\n",
      "state : [0 0 0 0 0 0 0 0 0 0 0 0 0 0 0 0 1 2 0 0 0 0 0 0 0 0 0 0 0 0 0 0 0 0 0 0]         \n",
      "Q_values : [2.610543  2.2523756 1.4769684 0.2141087]\n",
      "state : [0 0 0 0 0 0 0 0 0 0 0 0 0 0 0 0 2 4 0 0 0 0 0 0 0 0 0 0 0 0 0 0 0 0 0 0]\n",
      "Q_values : [2.2049751  2.2576902  0.89528775 0.68247676]\n"
     ]
    },
    {
     "name": "stderr",
     "output_type": "stream",
     "text": [
      "Warning: Vehicle 'veh_10' performs emergency stop at the end of lane 'end2_junction_1' because of a red traffic light (decel=-14.53, offset=0.01), time=31.20.\n"
     ]
    },
    {
     "name": "stdout",
     "output_type": "stream",
     "text": [
      "state : [0 0 0 0 0 0 0 0 0 0 0 0 0 0 0 0 4 5 0 0 0 0 1 1 0 0 0 0 0 0 0 0 0 0 0 0]\n",
      "Q_values : [2.6116796 2.696355  0.5425565 0.7844441]\n",
      "state : [0 0 0 0 0 0 0 0 0 0 0 0 0 0 0 0 4 6 0 0 0 0 2 1 0 0 0 0 0 0 0 0 0 0 0 0]\n",
      "Q_values : [ 2.174983   1.9812591 -0.7107544 -0.7097447]\n",
      "state : [0 0 0 0 0 0 0 0 0 0 0 0 0 0 0 0 4 6 0 0 0 0 3 3 0 0 0 0 0 0 0 0 0 0 0 0]\n",
      "Q_values : [ 2.2440343  1.9245929 -1.88588   -1.5215466]\n",
      "state : [0 0 0 0 0 0 0 0 0 0 0 0 0 0 0 0 4 6 0 0 0 0 4 4 0 0 0 0 0 0 0 0 0 0 0 0]\n",
      "Q_values : [ 2.209221   2.0647154 -3.075896  -2.1485934]\n",
      "state : [0 0 0 0 0 0 0 0 0 0 0 0 0 0 0 0 4 6 0 0 0 0 4 4 0 0 0 0 0 0 0 0 0 0 0 0]\n",
      "Q_values : [ 1.5266733  1.8352016 -3.3992875 -2.4968998]\n",
      "state : [0 0 0 0 0 0 0 0 0 0 0 0 0 0 0 0 4 6 0 0 0 0 4 4 0 0 0 0 0 0 0 0 0 0 0 0]\n",
      "Q_values : [ 1.8788099  2.318605  -4.321939  -3.1056354]\n",
      "state : [0 0 0 0 0 0 0 0 0 0 0 0 0 0 0 0 4 6 0 0 0 0 4 4 0 0 0 0 0 0 0 0 0 0 0 0]\n",
      "Q_values : [ 2.6192493  3.1080112 -4.7918544 -3.0546227]\n",
      "state : [0 0 0 0 0 0 0 0 0 0 0 0 0 0 0 0 4 6 0 0 0 0 4 4 0 0 0 0 0 0 0 0 0 0 0 0]\n",
      "Q_values : [ 2.9112282  3.0062277 -5.304584  -2.6704502]\n",
      "state : [0 0 0 0 0 0 0 0 0 0 0 0 0 0 0 0 4 6 0 0 0 0 4 4 0 0 0 0 0 0 0 0 0 0 0 0]\n",
      "Q_values : [ 2.7727444  3.386366  -4.896907  -2.2113175]\n",
      "state : [0 0 0 0 0 0 0 0 0 0 0 0 0 0 0 0 4 6 0 0 0 0 4 4 0 0 0 0 0 0 0 0 0 0 0 0]\n",
      "Q_values : [ 2.4757953  2.6338353 -5.3769507 -1.1909347]\n",
      "state : [0 0 0 0 0 0 0 0 0 0 0 0 0 0 0 0 4 6 0 0 0 0 4 4 0 0 0 0 0 0 0 0 0 0 0 0]\n",
      "Q_values : [ 2.1694338  1.4601885 -5.175412  -0.5502837]\n",
      "Step #100.00 (0ms ?*RT. ?UPS, TraCI: 32ms, vehicles TOT 33 ACT 18 BUF 0)                   \n",
      "episode : 149\n",
      " Retrying in 1 seconds\n"
     ]
    },
    {
     "name": "stderr",
     "output_type": "stream",
     "text": [
      "Warning: Environment variable SUMO_HOME is not set properly, disabling XML validation. Set 'auto' or 'always' for web lookups.\n"
     ]
    },
    {
     "name": "stdout",
     "output_type": "stream",
     "text": [
      "state : [0 0 0 0 0 0 0 0 0 0 0 0 0 0 0 0 0 0 0 0 0 0 0 0 0 0 0 0 0 0 0 0 0 0 0 0]\n",
      "Q_values : [ 0.6330506   1.335371   -5.1965027   0.08338094]\n",
      "state : [0 0 0 0 0 0 0 0 0 0 0 0 0 0 0 0 0 0 0 0 0 0 0 0 0 0 0 0 0 0 0 0 0 0 0 0]\n",
      "Q_values : [ 2.0453284   1.6773121  -4.338858    0.60538197]\n",
      "state : [0 0 0 0 0 0 0 0 0 0 0 0 0 0 0 0 0 0 0 0 0 0 0 0 0 0 0 0 0 0 0 0 0 0 0 0]\n",
      "Q_values : [ 2.369564    1.8049328  -2.4033432   0.50012946]\n",
      "state : [0 0 0 0 0 0 0 0 0 0 0 0 0 0 0 0 0 0 0 0 0 0 0 0 0 0 0 0 0 0 0 0 0 0 0 0]\n",
      "Q_values : [ 2.2668357   2.7396135  -1.1806886   0.70108366]\n",
      "state : [0 0 0 0 0 0 0 0 0 0 0 0 0 0 0 0 0 0 0 0 0 0 0 0 0 0 0 0 0 0 0 0 0 0 0 0]\n",
      "Q_values : [ 1.8241954   2.6217868   0.13688731 -0.9632473 ]\n",
      "state : [0 0 0 0 0 0 0 0 0 0 0 0 0 1 0 0 1 0 0 0 0 0 0 0 0 0 0 0 0 0 0 0 0 0 0 0]\n",
      "Q_values : [ 2.4827473  2.053677   1.2440783 -1.2457314]\n",
      "state : [0 0 0 0 0 0 0 0 0 0 0 0 0 0 0 0 1 1 0 0 0 0 0 0 0 0 0 0 0 0 0 0 0 0 0 0]\n",
      "Q_values : [ 2.5925283   2.4275496   0.86531043 -1.821857  ]\n",
      "state : [0 0 0 0 0 0 0 0 0 0 0 0 0 0 0 0 2 2 0 0 0 0 0 0 0 0 0 0 0 0 0 0 0 0 0 0]\n",
      "Q_values : [ 1.9038746  2.2178648  1.085906  -3.1267624]\n",
      "state : [0 0 0 0 0 0 0 0 0 0 0 0 0 0 0 0 4 4 0 0 0 0 0 0 0 0 0 0 0 0 0 0 0 0 0 0]\n",
      "Q_values : [ 2.2436411  1.9208361  0.6834116 -3.2086813]\n",
      "state : [0 0 0 0 0 0 0 0 0 0 0 0 0 0 0 0 6 5 0 0 0 0 1 1 0 0 0 0 0 0 0 0 0 0 0 0]\n",
      "Q_values : [ 2.5145802   2.1050076  -0.22889495 -3.0648477 ]\n",
      "state : [0 0 0 0 0 0 0 0 0 0 0 0 0 0 0 0 6 6 0 0 0 0 2 1 0 0 0 0 0 0 0 0 0 0 0 0]\n",
      "Q_values : [ 2.8754034  1.9461414 -0.3303628 -2.9216046]\n",
      "state : [0 0 0 0 0 0 0 0 0 0 0 0 0 0 0 0 6 6 0 0 0 0 3 3 0 0 0 0 0 0 0 0 0 0 0 0]\n",
      "Q_values : [ 3.5460553   2.9347835  -0.57178855 -2.3125284 ]\n",
      "state : [0 0 0 0 0 0 0 0 0 0 0 0 0 0 0 0 6 6 0 0 0 0 4 4 0 0 0 0 0 0 0 0 0 0 0 0]\n",
      "Q_values : [ 3.3662214  3.8434877 -1.1276019 -3.5304766]\n",
      "state : [0 0 0 0 0 0 0 0 0 0 0 0 0 0 0 0 6 6 0 0 0 0 4 4 0 0 0 0 0 0 0 0 0 0 0 0]\n",
      "Q_values : [ 2.7062926  3.1474667 -1.2094667 -3.5863602]\n",
      "state : [0 0 0 0 0 0 0 0 0 0 0 0 0 0 0 0 6 6 0 0 0 0 4 4 0 0 0 0 0 0 0 0 0 0 0 0]\n",
      "Q_values : [ 2.4125013  1.928208  -2.9998841 -3.2781782]\n",
      "state : [0 0 0 0 0 0 0 0 0 0 0 0 0 0 0 0 6 6 0 0 0 0 4 4 0 0 0 0 0 0 0 0 0 0 0 0]\n",
      "Q_values : [ 2.7127438  1.6124259 -3.1674445 -3.5615036]\n",
      "state : [0 0 0 0 0 0 0 0 0 0 0 0 0 0 0 0 6 6 0 0 0 0 4 4 0 0 0 0 0 0 0 0 0 0 0 0]\n",
      "Q_values : [ 2.9619904  1.8675506 -2.7815576 -3.2402024]\n",
      "state : [0 0 0 0 0 0 0 0 0 0 0 0 0 0 0 0 6 6 0 0 0 0 4 4 0 0 0 0 0 0 0 0 0 0 0 0]\n",
      "Q_values : [ 3.0962977  2.8302007 -2.5718288 -2.036618 ]\n",
      "state : [0 0 0 0 0 0 0 0 0 0 0 0 0 0 0 0 6 6 0 0 0 0 4 4 0 0 0 0 0 0 0 0 0 0 0 0]\n",
      "Q_values : [ 3.244759   2.8136857 -2.5114028 -1.1122127]\n",
      "state : [0 0 0 0 0 0 0 0 0 0 0 0 0 0 0 0 6 6 0 0 0 0 4 4 0 0 0 0 0 0 0 0 0 0 0 0]\n",
      "Q_values : [ 1.8668373   2.3482492  -2.9489574   0.07371545]\n",
      "Step #100.00 (0ms ?*RT. ?UPS, TraCI: 31ms, vehicles TOT 33 ACT 20 BUF 0)                   \n",
      "episode : 150\n",
      " Retrying in 1 seconds\n"
     ]
    },
    {
     "name": "stderr",
     "output_type": "stream",
     "text": [
      "Warning: Environment variable SUMO_HOME is not set properly, disabling XML validation. Set 'auto' or 'always' for web lookups.\n"
     ]
    },
    {
     "name": "stdout",
     "output_type": "stream",
     "text": [
      "state : [0 0 0 0 0 0 0 0 0 0 0 0 0 0 0 0 0 0 0 0 0 0 0 0 0 0 0 0 0 0 0 0 0 0 0 0]\n",
      "Q_values : [ 1.911927    3.224268   -2.6486595  -0.09664416]\n",
      "state : [0 0 0 0 0 0 0 0 0 0 0 0 0 0 0 0 0 0 0 0 0 0 0 0 0 0 0 0 0 0 0 0 0 0 0 0]\n",
      "Q_values : [ 3.413535    3.3250818  -2.32554    -0.06880403]\n",
      "state : [0 0 0 0 0 0 0 0 0 0 0 0 0 0 0 0 0 0 0 0 0 0 0 0 0 0 0 0 0 0 0 0 0 0 0 0]\n",
      "Q_values : [ 3.5172849  1.9016039 -2.1631386 -0.3594811]\n",
      "state : [0 0 0 0 0 0 0 0 0 0 0 0 0 0 0 0 0 0 0 0 0 0 0 0 0 0 0 0 0 0 0 0 0 0 0 0]\n",
      "Q_values : [ 1.932035    1.7421284  -2.0318556   0.23958182]\n",
      "state : [0 0 0 0 0 0 0 0 0 0 0 0 0 0 0 0 0 0 0 0 0 0 0 0 0 0 0 0 0 0 0 0 0 0 0 0]\n",
      "Q_values : [ 1.4425342  1.329115  -1.906558  -0.764483 ]\n",
      "state : [0 0 0 0 0 0 0 0 0 0 0 0 0 0 1 0 1 0 0 0 0 0 0 0 0 0 0 0 0 0 0 0 0 0 0 0]\n",
      "Q_values : [ 1.0335587  0.716794  -1.6898947 -1.4284489]\n",
      "state : [0 0 0 0 0 0 0 0 0 0 0 0 0 0 1 0 1 1 0 0 0 0 0 0 0 0 0 0 0 0 0 0 0 0 0 0]\n",
      "Q_values : [ 1.1884987   0.83826566 -1.8367171  -1.9975085 ]\n",
      "state : [0 0 0 0 0 0 0 0 0 0 0 0 0 0 1 0 2 2 0 0 0 0 0 0 0 0 0 0 0 0 0 0 0 0 0 0]\n",
      "Q_values : [ 1.7000936  2.267915  -2.0305521 -1.6990783]\n",
      "state : [0 0 0 0 0 0 0 0 0 0 0 0 0 0 0 0 4 4 0 0 0 0 0 0 0 0 0 0 0 0 0 0 0 0 0 0]\n",
      "Q_values : [ 2.946639   3.1468472 -1.6316202 -1.5135908]\n",
      "state : [0 0 0 0 0 0 0 0 0 0 0 0 0 0 0 0 6 5 0 0 0 0 1 1 0 0 0 0 0 0 0 0 0 0 0 0]\n",
      "Q_values : [ 2.991939   3.4188461 -1.2944345 -1.4747815]\n",
      "state : [0 0 0 0 0 0 0 0 0 0 0 0 0 0 0 0 6 6 0 0 0 0 2 1 0 0 0 0 0 0 0 0 0 0 0 0]\n",
      "Q_values : [ 3.9483626  3.456154  -1.2783625 -1.3658123]\n",
      "state : [0 0 0 0 0 0 0 0 0 0 0 0 0 0 0 0 6 6 0 0 0 0 3 3 0 0 0 0 0 0 0 0 0 0 0 0]\n",
      "Q_values : [ 3.398375    3.0937738  -1.0450733  -0.88511395]\n",
      "state : [0 0 0 0 0 0 0 0 0 0 0 0 0 0 0 0 6 6 0 0 0 0 4 4 0 0 0 0 0 0 0 0 0 0 0 0]\n",
      "Q_values : [ 3.3481164   2.071869   -0.13037515 -0.9524441 ]\n",
      "state : [0 0 0 0 0 0 0 0 0 0 0 0 0 0 0 0 6 6 0 0 0 0 4 4 0 0 0 0 0 0 0 0 0 0 0 0]\n",
      "Q_values : [ 2.1171703   1.9449468   0.3318181  -0.51780343]\n",
      "state : [0 0 0 0 0 0 0 0 0 0 0 0 0 0 0 0 6 6 0 0 0 0 4 4 0 0 0 0 0 0 0 0 0 0 0 0]\n",
      "Q_values : [ 1.1654613   1.5211599  -0.13654256 -0.40892196]\n",
      "state : [0 0 0 0 0 0 0 0 0 0 0 0 0 0 0 0 6 6 0 0 0 0 4 4 0 0 0 0 0 0 0 0 0 0 0 0]\n",
      "Q_values : [ 1.1115592   2.276619   -0.02482867 -0.6212249 ]\n",
      "state : [0 0 0 0 0 0 0 0 0 0 0 0 0 0 0 0 6 6 0 0 0 0 4 4 0 0 0 0 0 0 0 0 0 0 0 0]\n",
      "Q_values : [ 2.2829099   1.9173111  -0.01129341 -0.52911186]\n",
      "state : [0 0 0 0 0 0 0 0 0 0 0 0 0 0 0 0 6 6 0 0 0 0 4 4 0 0 0 0 0 0 0 0 0 0 0 0]\n",
      "Q_values : [ 2.9478095  2.2385278 -0.9774282 -1.1242285]\n",
      "state : [0 0 0 0 0 0 0 0 0 0 0 0 0 0 0 0 6 6 0 0 0 0 4 4 0 0 0 0 0 0 0 0 0 0 0 0]\n",
      "Q_values : [ 2.8967805   2.6681547  -0.90597177 -1.401597  ]\n",
      "state : [0 0 0 0 0 0 0 0 0 0 0 0 0 0 0 0 6 6 0 0 0 0 4 4 0 0 0 0 0 0 0 0 0 0 0 0]\n",
      "Q_values : [ 1.9950428  2.6053224 -1.8502774 -1.7869532]\n",
      "Step #100.00 (0ms ?*RT. ?UPS, TraCI: 32ms, vehicles TOT 33 ACT 20 BUF 0)                   \n",
      "episode : 151\n",
      " Retrying in 1 seconds\n"
     ]
    },
    {
     "name": "stderr",
     "output_type": "stream",
     "text": [
      "Warning: Environment variable SUMO_HOME is not set properly, disabling XML validation. Set 'auto' or 'always' for web lookups.\n"
     ]
    },
    {
     "name": "stdout",
     "output_type": "stream",
     "text": [
      "state : [0 0 0 0 0 0 0 0 0 0 0 0 0 0 0 0 0 0 0 0 0 0 0 0 0 0 0 0 0 0 0 0 0 0 0 0]\n",
      "Q_values : [ 2.0723429  1.8918686 -2.490676  -2.1070118]\n",
      "state : [0 0 0 0 0 0 0 0 0 0 0 0 0 0 0 0 0 0 0 0 0 0 0 0 0 0 0 0 0 0 0 0 0 0 0 0]\n",
      "Q_values : [ 1.8258584  1.232987  -2.9902816 -1.9071147]\n",
      "state : [0 0 0 0 0 0 0 0 0 0 0 0 0 0 0 0 0 0 0 0 0 0 0 0 0 0 0 0 0 0 0 0 0 0 0 0]\n",
      "Q_values : [ 1.4370288  1.9743189 -2.9588985 -1.5538287]\n",
      "state : [0 0 0 0 0 0 0 0 0 0 0 0 0 0 0 0 0 0 0 0 0 0 0 0 0 0 0 0 0 0 0 0 0 0 0 0]\n",
      "Q_values : [ 2.3731246  1.8379825 -2.2160983 -1.2629695]\n",
      "state : [0 0 0 0 0 0 0 0 0 0 0 0 0 0 0 0 0 0 0 0 0 0 0 0 0 0 0 0 0 0 0 0 0 0 0 0]\n",
      "Q_values : [ 2.1900225  1.9477191 -2.8626466 -1.5510821]\n",
      "state : [0 0 0 0 0 0 0 0 0 0 0 0 0 0 1 0 1 0 0 0 0 0 0 0 0 0 0 0 0 0 0 0 0 0 0 0]\n",
      "Q_values : [ 2.3628085  3.1745386 -2.3379085 -1.0869298]\n",
      "state : [0 0 0 0 0 0 0 0 0 0 0 0 0 0 0 0 1 1 0 0 0 0 0 0 0 0 0 0 0 0 0 0 0 0 0 0]\n",
      "Q_values : [ 2.5431085   3.970386   -1.3290005  -0.48450875]\n",
      "state : [0 0 0 0 0 0 0 0 0 0 0 0 0 0 0 0 2 2 0 0 0 0 0 0 0 0 0 0 0 0 0 0 0 0 0 0]\n",
      "Q_values : [ 3.4061422   1.5769899  -0.47488403 -0.14153218]\n",
      "state : [0 0 0 0 0 0 0 0 0 0 0 0 0 0 0 0 4 4 0 0 0 0 0 0 0 0 0 0 0 0 0 0 0 0 0 0]\n",
      "Q_values : [ 2.2831426   2.0800672   0.26470828 -0.34570742]\n",
      "state : [0 0 0 0 0 0 0 0 0 0 0 0 0 0 0 0 6 5 0 0 0 0 1 1 0 0 0 0 0 0 0 0 0 0 0 0]\n",
      "Q_values : [ 2.0564146  2.2106261  0.8410151 -0.3526032]\n",
      "state : [0 0 0 0 0 0 0 0 0 0 0 0 0 0 0 0 6 6 0 0 0 0 2 1 0 0 0 0 0 0 0 0 0 0 0 0]\n",
      "Q_values : [ 1.4599891  1.7510147  1.5028503 -0.58987  ]\n",
      "state : [0 0 0 0 0 0 0 0 0 0 0 0 0 0 0 0 6 6 0 0 0 0 3 3 0 0 0 0 0 0 0 0 0 0 0 0]\n",
      "Q_values : [ 2.289726    1.2312254   1.2353354  -0.43161583]\n",
      "state : [0 0 0 0 0 0 0 0 0 0 0 0 0 0 0 0 6 6 0 0 0 0 4 4 0 0 0 0 0 0 0 0 0 0 0 0]\n",
      "Q_values : [ 2.1859236   2.3678846   0.78619266 -0.77477384]\n",
      "state : [0 0 0 0 0 0 0 0 0 0 0 0 0 0 0 0 6 6 0 0 0 0 4 4 0 0 0 0 0 0 0 0 0 0 0 0]\n",
      "Q_values : [ 2.0536036   2.0210757   0.68572164 -0.6597078 ]\n",
      "state : [0 0 0 0 0 0 0 0 0 0 0 0 0 0 0 0 6 6 0 0 0 0 4 4 0 0 0 0 0 0 0 0 0 0 0 0]\n",
      "Q_values : [ 2.418755    1.7661878  -0.24740577 -0.3355937 ]\n",
      "state : [0 0 0 0 0 0 0 0 0 0 0 0 0 0 0 0 6 6 0 0 0 0 4 4 0 0 0 0 0 0 0 0 0 0 0 0]\n",
      "Q_values : [ 2.0269547   2.1767223  -1.2407324  -0.42220426]\n",
      "state : [0 0 0 0 0 0 0 0 0 0 0 0 0 0 0 0 6 6 0 0 0 0 4 4 0 0 0 0 0 0 0 0 0 0 0 0]\n",
      "Q_values : [ 2.1512682  2.4391546 -2.665357  -0.3002627]\n",
      "state : [0 0 0 0 0 0 0 0 0 0 0 0 0 0 0 0 6 6 0 0 0 0 4 4 0 0 0 0 0 0 0 0 0 0 0 0]\n",
      "Q_values : [ 1.8931545  1.7846328 -3.7092252 -0.6428132]\n",
      "state : [0 0 0 0 0 0 0 0 0 0 0 0 0 0 0 0 6 6 0 0 0 0 4 4 0 0 0 0 0 0 0 0 0 0 0 0]\n",
      "Q_values : [ 2.2050838  1.278908  -4.416912  -0.368443 ]\n",
      "state : [0 0 0 0 0 0 0 0 0 0 0 0 0 0 0 0 6 6 0 0 0 0 4 4 0 0 0 0 0 0 0 0 0 0 0 0]\n",
      "Q_values : [ 2.7947369   1.986963   -4.77997    -0.88194466]\n",
      "Step #100.00 (0ms ?*RT. ?UPS, TraCI: 32ms, vehicles TOT 33 ACT 20 BUF 0)                   \n",
      "episode : 152\n",
      " Retrying in 1 seconds\n"
     ]
    },
    {
     "name": "stderr",
     "output_type": "stream",
     "text": [
      "Warning: Environment variable SUMO_HOME is not set properly, disabling XML validation. Set 'auto' or 'always' for web lookups.\n"
     ]
    },
    {
     "name": "stdout",
     "output_type": "stream",
     "text": [
      "state : [0 0 0 0 0 0 0 0 0 0 0 0 0 0 0 0 0 0 0 0 0 0 0 0 0 0 0 0 0 0 0 0 0 0 0 0]\n",
      "Q_values : [ 3.0529842  3.077446  -4.5539227 -1.1551747]\n",
      "state : [0 0 0 0 0 0 0 0 0 0 0 0 0 0 0 0 0 0 0 0 0 0 0 0 0 0 0 0 0 0 0 0 0 0 0 0]\n",
      "Q_values : [ 2.6358323  3.6158867 -3.9750679 -1.1229105]\n",
      "state : [0 0 0 0 0 0 0 0 0 0 0 0 0 0 0 0 0 0 0 0 0 0 0 0 0 0 0 0 0 0 0 0 0 0 0 0]\n",
      "Q_values : [ 2.9270205  2.3306751 -2.8887665 -1.0935979]\n",
      "state : [0 0 0 0 0 0 0 0 0 0 0 0 0 0 0 0 0 0 0 0 0 0 0 0 0 0 0 0 0 0 0 0 0 0 0 0]\n",
      "Q_values : [ 2.8872836  2.6519165 -1.163187  -1.6612048]\n",
      "state : [0 0 0 0 0 0 0 0 0 0 0 0 0 0 0 0 0 0 0 0 0 0 0 0 0 0 0 0 0 0 0 0 0 0 0 0]\n",
      "Q_values : [ 1.811466   2.229681  -0.4850998 -2.7877324]\n",
      "state : [0 0 0 0 0 0 0 0 0 0 0 0 0 0 0 0 1 0 0 0 0 0 0 0 0 0 0 0 0 0 0 0 0 0 0 0]\n",
      "Q_values : [ 2.5109773   2.3714688  -0.15927029 -3.9822948 ]\n",
      "state : [0 0 0 0 0 0 0 0 0 0 0 0 0 0 0 0 1 1 0 0 0 0 0 0 0 0 0 0 0 0 0 0 0 0 0 0]\n",
      "Q_values : [ 2.8521094   1.8121107  -0.75799966 -4.809796  ]\n",
      "state : [0 0 0 0 0 0 0 0 0 0 0 0 0 0 0 0 2 2 0 0 0 0 0 0 0 0 0 0 0 0 0 0 0 0 0 0]\n",
      "Q_values : [ 2.251758   1.9072852 -1.0092206 -4.8132734]\n",
      "state : [0 0 0 0 0 0 0 0 0 0 0 0 0 0 0 0 4 4 0 0 0 0 0 0 0 0 0 0 0 0 0 0 0 0 0 0]\n",
      "Q_values : [ 2.4722333  2.0751686 -1.4918799 -4.5947247]\n",
      "state : [0 0 0 0 0 0 0 0 0 0 0 0 0 0 0 0 6 5 0 0 0 0 1 1 0 0 0 0 0 0 0 0 0 0 0 0]\n",
      "Q_values : [ 1.4651613  2.1617067 -1.2290759 -4.2969666]\n",
      "state : [0 0 0 0 0 0 0 0 0 0 0 0 0 0 0 0 6 6 0 0 0 0 2 1 0 0 0 0 0 0 0 0 0 0 0 0]\n",
      "Q_values : [ 1.8532474   1.5889372  -0.86556244 -3.815539  ]\n",
      "state : [0 0 0 0 0 0 0 0 0 0 0 0 0 0 0 0 6 6 0 0 0 0 3 3 0 0 0 0 0 0 0 0 0 0 0 0]\n",
      "Q_values : [ 1.9873914   2.6460907  -0.48647547 -3.5986438 ]\n",
      "state : [0 0 0 0 0 0 0 0 0 0 0 0 0 0 0 0 6 6 0 0 0 0 4 4 0 0 0 0 0 0 0 0 0 0 0 0]\n",
      "Q_values : [ 2.3755512   2.2843804  -0.13797855 -3.4710543 ]\n",
      "state : [0 0 0 0 0 0 0 0 0 0 0 0 0 0 0 0 6 6 0 0 0 0 4 4 0 0 0 0 0 0 0 0 0 0 0 0]\n",
      "Q_values : [ 2.2091155  2.189384  -0.7563667 -3.6783278]\n",
      "state : [0 0 0 0 0 0 0 0 0 0 0 0 0 0 0 0 6 6 0 0 0 0 4 4 0 0 0 0 0 0 0 0 0 0 0 0]\n",
      "Q_values : [ 1.580785   2.3182316 -1.3174393 -3.693617 ]\n",
      "state : [0 0 0 0 0 0 0 0 0 0 0 0 0 0 0 0 6 6 0 0 0 0 4 4 0 0 0 0 0 0 0 0 0 0 0 0]\n",
      "Q_values : [ 2.2158146  2.2158728 -2.0445085 -3.7260683]\n",
      "state : [0 0 0 0 0 0 0 0 0 0 0 0 0 0 0 0 6 6 0 0 0 0 4 4 0 0 0 0 0 0 0 0 0 0 0 0]\n",
      "Q_values : [ 2.933314   1.8712343 -2.0858116 -2.9431357]\n",
      "state : [0 0 0 0 0 0 0 0 0 0 0 0 0 0 0 0 6 6 0 0 0 0 4 4 0 0 0 0 0 0 0 0 0 0 0 0]\n",
      "Q_values : [ 3.7815013  2.506119  -1.2809322 -2.339129 ]\n",
      "state : [0 0 0 0 0 0 0 0 0 0 0 0 0 0 0 0 6 6 0 0 0 0 4 4 0 0 0 0 0 0 0 0 0 0 0 0]\n",
      "Q_values : [ 3.2066746  2.8273935 -1.5384378 -1.9672198]\n",
      "state : [0 0 0 0 0 0 0 0 0 0 0 0 0 0 0 0 6 6 0 0 0 0 4 4 0 0 0 0 0 0 0 0 0 0 0 0]\n",
      "Q_values : [ 2.419808   2.8220263 -1.7210572 -0.9340935]\n",
      "Step #100.00 (0ms ?*RT. ?UPS, TraCI: 32ms, vehicles TOT 33 ACT 20 BUF 0)                   \n",
      "episode : 153\n",
      " Retrying in 1 seconds\n"
     ]
    },
    {
     "name": "stderr",
     "output_type": "stream",
     "text": [
      "Warning: Environment variable SUMO_HOME is not set properly, disabling XML validation. Set 'auto' or 'always' for web lookups.\n"
     ]
    },
    {
     "name": "stdout",
     "output_type": "stream",
     "text": [
      "state : [0 0 0 0 0 0 0 0 0 0 0 0 0 0 0 0 0 0 0 0 0 0 0 0 0 0 0 0 0 0 0 0 0 0 0 0]\n",
      "Q_values : [ 2.6817617   2.902362   -2.2219026   0.24944973]\n",
      "state : [0 0 0 0 0 0 0 0 0 0 0 0 0 0 0 0 0 0 0 0 0 0 0 0 0 0 0 0 0 0 0 0 0 0 0 0]\n",
      "Q_values : [ 1.9933445  2.6675596 -2.7484667  0.6362052]\n",
      "state : [0 0 0 0 0 0 0 0 0 0 0 0 0 0 0 0 0 0 0 0 0 0 0 0 0 0 0 0 0 0 0 0 0 0 0 0]\n",
      "Q_values : [ 2.2017717   1.9397255  -2.8193185   0.02127695]\n",
      "state : [0 0 0 0 0 0 0 0 0 0 0 0 0 0 0 0 0 0 0 0 0 0 0 0 0 0 0 0 0 0 0 0 0 0 0 0]\n",
      "Q_values : [ 1.8643341   1.9266375  -2.9582758  -0.16542768]\n",
      "state : [0 0 0 0 0 0 0 0 0 0 0 0 0 0 0 0 0 0 0 0 0 0 0 0 0 0 0 0 0 0 0 0 0 0 0 0]\n",
      "Q_values : [ 2.0534835  2.168119  -3.2474182 -1.0950141]\n",
      "state : [0 0 0 0 0 0 0 0 0 0 0 0 0 1 0 0 1 0 0 0 0 0 0 0 0 0 0 0 0 0 0 0 0 0 0 0]\n",
      "Q_values : [ 2.2489753  2.153314  -1.9902091 -1.392417 ]\n",
      "state : [0 0 0 0 0 0 0 0 0 0 0 0 0 0 0 0 1 1 0 0 0 0 0 0 0 0 0 0 0 0 0 0 0 0 0 0]\n",
      "Q_values : [ 1.9542534  1.9420903 -1.011579  -1.4981983]\n",
      "state : [0 0 0 0 0 0 0 0 0 0 0 0 0 0 0 0 2 2 0 0 0 0 0 0 0 0 0 0 0 0 0 0 0 0 0 0]\n",
      "Q_values : [ 1.7991571  1.9967434 -1.027627  -2.4355946]\n",
      "state : [0 0 0 0 0 0 0 0 0 0 0 0 0 0 0 0 6 5 0 0 0 0 1 1 0 0 0 0 0 0 0 0 0 0 0 0]\n",
      "Q_values : [ 2.1735134   1.764524    0.01953316 -3.2761467 ]\n",
      "state : [0 0 0 0 0 0 0 0 0 0 0 0 0 0 0 0 6 6 0 0 0 0 2 1 0 0 0 0 0 0 0 0 0 0 0 0]\n",
      "Q_values : [ 2.9110298  2.2496104  0.5141678 -3.9705546]\n",
      "state : [0 0 0 0 0 0 0 0 0 0 0 0 0 0 0 0 6 6 0 0 0 0 3 3 0 0 0 0 0 0 0 0 0 0 0 0]\n",
      "Q_values : [ 2.5276835  2.4722455  0.0739634 -3.3920915]\n",
      "state : [0 0 0 0 0 0 0 0 0 0 0 0 0 0 0 0 6 6 0 0 0 0 4 4 0 0 0 0 0 0 0 0 0 0 0 0]\n",
      "Q_values : [ 1.815486    2.3034172  -0.39679313 -3.192276  ]\n",
      "state : [0 0 0 0 0 0 0 0 0 0 0 0 0 0 0 0 6 6 0 0 0 0 4 4 0 0 0 0 0 0 0 0 0 0 0 0]\n",
      "Q_values : [ 3.0861595  1.5432854 -1.1368945 -2.2649946]\n",
      "state : [0 0 0 0 0 0 0 0 0 0 0 0 0 0 0 0 6 6 0 0 0 0 4 4 0 0 0 0 0 0 0 0 0 0 0 0]\n",
      "Q_values : [ 2.5406015  2.504014  -1.2023737 -2.2154644]\n",
      "state : [0 0 0 0 0 0 0 0 0 0 0 0 0 0 0 0 6 6 0 0 0 0 4 4 0 0 0 0 0 0 0 0 0 0 0 0]\n",
      "Q_values : [ 2.1747139  2.2137532 -1.5900943 -1.6051848]\n",
      "state : [0 0 0 0 0 0 0 0 0 0 0 0 0 0 0 0 6 6 0 0 0 0 4 4 0 0 0 0 0 0 0 0 0 0 0 0]\n",
      "Q_values : [ 1.1258326  2.864706  -1.6368134 -0.890795 ]\n",
      "state : [0 0 0 0 0 0 0 0 0 0 0 0 0 0 0 0 6 6 0 0 0 0 4 4 0 0 0 0 0 0 0 0 0 0 0 0]\n",
      "Q_values : [ 1.8057564  2.6024542 -1.1934764 -1.3660059]\n",
      "state : [0 0 0 0 0 0 0 0 0 0 0 0 0 0 0 0 6 6 0 0 0 0 4 4 0 0 0 0 0 0 0 0 0 0 0 0]\n",
      "Q_values : [ 2.6578329   2.6022165  -0.7871113  -0.34720278]\n",
      "state : [0 0 0 0 0 0 0 0 0 0 0 0 0 0 0 0 6 6 0 0 0 0 4 4 0 0 0 0 0 0 0 0 0 0 0 0]\n",
      "Q_values : [ 1.9852619   2.3948274  -0.34967256  0.33229136]\n",
      "Step #100.00 (0ms ?*RT. ?UPS, TraCI: 31ms, vehicles TOT 33 ACT 20 BUF 0)                   \n",
      "episode : 154\n",
      " Retrying in 1 seconds\n"
     ]
    },
    {
     "name": "stderr",
     "output_type": "stream",
     "text": [
      "Warning: Environment variable SUMO_HOME is not set properly, disabling XML validation. Set 'auto' or 'always' for web lookups.\n"
     ]
    },
    {
     "name": "stdout",
     "output_type": "stream",
     "text": [
      "state : [0 0 0 0 0 0 0 0 0 0 0 0 0 0 0 0 0 0 0 0 0 0 0 0 0 0 0 0 0 0 0 0 0 0 0 0]\n",
      "Q_values : [1.4784151  2.5509582  0.04525089 1.2094736 ]\n",
      "state : [0 0 0 0 0 0 0 0 0 0 0 0 0 0 0 0 0 0 0 0 0 0 0 0 0 0 0 0 0 0 0 0 0 0 0 0]\n",
      "Q_values : [ 2.4788923   2.1089792  -0.03746533  1.0036738 ]\n",
      "state : [0 0 0 0 0 0 0 0 0 0 0 0 0 0 0 0 0 0 0 0 0 0 0 0 0 0 0 0 0 0 0 0 0 0 0 0]\n",
      "Q_values : [1.7449857  3.5885706  0.33777857 0.98140836]\n",
      "state : [0 0 0 0 0 0 0 0 0 0 0 0 0 0 0 0 0 0 0 0 0 0 0 0 0 0 0 0 0 0 0 0 0 0 0 0]\n",
      "Q_values : [2.4001474e+00 3.4344659e+00 3.3712387e-04 5.3558302e-01]\n",
      "state : [0 0 0 0 0 0 0 0 0 0 0 0 0 0 0 0 0 0 0 0 0 0 0 0 0 0 0 0 0 0 0 0 0 0 0 0]\n",
      "Q_values : [ 2.320805    3.0404954  -0.11580825  0.11468911]\n",
      "state : [0 0 0 0 0 0 0 0 0 0 0 0 0 1 0 0 1 0 0 0 0 0 0 0 0 0 0 0 0 0 0 0 0 0 0 0]\n",
      "Q_values : [ 2.5005178   2.9821587  -0.1273086  -0.52896523]\n",
      "state : [0 0 0 0 0 0 0 0 0 0 0 0 0 1 0 0 1 1 0 0 0 0 0 0 0 0 0 0 0 0 0 0 0 0 0 0]\n",
      "Q_values : [ 2.7659261   2.9341652  -0.06106663 -0.73001504]\n",
      "state : [0 0 0 0 0 0 0 0 0 0 0 0 0 1 0 0 2 2 0 0 0 0 0 0 0 0 0 0 0 0 0 0 0 0 0 0]\n",
      "Q_values : [ 3.3076384   2.1187606  -0.01679611 -0.86227083]\n",
      "state : [0 0 0 0 0 0 0 0 0 0 0 0 0 0 0 0 4 4 0 0 0 0 0 0 0 0 0 0 0 0 0 0 0 0 0 0]\n",
      "Q_values : [ 3.338665    1.6227921  -0.57285047 -1.5217907 ]\n",
      "state : [0 0 0 0 0 0 0 0 0 0 0 0 0 0 0 0 6 5 0 0 0 0 1 1 0 0 0 0 0 0 0 0 0 0 0 0]\n",
      "Q_values : [ 2.7789068  2.9190402 -1.8958735 -1.890907 ]\n",
      "state : [0 0 0 0 0 0 0 0 0 0 0 0 0 0 0 0 6 6 0 0 0 0 2 1 0 0 0 0 0 0 0 0 0 0 0 0]\n",
      "Q_values : [ 2.8601289  2.7876434 -2.0656698 -2.4334142]\n",
      "state : [0 0 0 0 0 0 0 0 0 0 0 0 0 0 0 0 6 6 0 0 0 0 3 3 0 0 0 0 0 0 0 0 0 0 0 0]\n",
      "Q_values : [ 2.1657758  2.7310424 -1.3945141 -2.7846894]\n",
      "state : [0 0 0 0 0 0 0 0 0 0 0 0 0 0 0 0 6 6 0 0 0 0 4 4 0 0 0 0 0 0 0 0 0 0 0 0]\n",
      "Q_values : [ 1.4540567  3.4556565 -0.9374831 -3.364259 ]\n",
      "state : [0 0 0 0 0 0 0 0 0 0 0 0 0 0 0 0 6 6 0 0 0 0 4 4 0 0 0 0 0 0 0 0 0 0 0 0]\n",
      "Q_values : [ 2.7617078  3.3494248 -0.9524772 -3.7463083]\n",
      "state : [0 0 0 0 0 0 0 0 0 0 0 0 0 0 0 0 6 6 0 0 0 0 4 4 0 0 0 0 0 0 0 0 0 0 0 0]\n",
      "Q_values : [ 1.8674757  2.6624255 -1.0283406 -4.1014605]\n",
      "state : [0 0 0 0 0 0 0 0 0 0 0 0 0 0 0 0 6 6 0 0 0 0 4 4 0 0 0 0 0 0 0 0 0 0 0 0]\n",
      "Q_values : [ 2.0388563  1.9990649 -1.2207553 -4.2468843]\n",
      "state : [0 0 0 0 0 0 0 0 0 0 0 0 0 0 0 0 6 6 0 0 0 0 4 4 0 0 0 0 0 0 0 0 0 0 0 0]\n",
      "Q_values : [ 1.5591767   2.4442112  -0.90916157 -3.9793286 ]\n",
      "state : [0 0 0 0 0 0 0 0 0 0 0 0 0 0 0 0 6 6 0 0 0 0 4 4 0 0 0 0 0 0 0 0 0 0 0 0]\n",
      "Q_values : [ 1.336246   1.9509518 -1.9844961 -3.5445008]\n",
      "state : [0 0 0 0 0 0 0 0 0 0 0 0 0 0 0 0 6 6 0 0 0 0 4 4 0 0 0 0 0 0 0 0 0 0 0 0]\n",
      "Q_values : [ 1.53703    1.5019345 -1.6954396 -2.5840998]\n",
      "state : [0 0 0 0 0 0 0 0 0 0 0 0 0 0 0 0 6 6 0 0 0 0 4 4 0 0 0 0 0 0 0 0 0 0 0 0]\n",
      "Q_values : [ 2.40428    1.3019819 -1.7374444 -1.6554909]\n",
      "Step #100.00 (0ms ?*RT. ?UPS, TraCI: 32ms, vehicles TOT 33 ACT 20 BUF 0)                   \n",
      "episode : 155\n",
      " Retrying in 1 seconds\n"
     ]
    },
    {
     "name": "stderr",
     "output_type": "stream",
     "text": [
      "Warning: Environment variable SUMO_HOME is not set properly, disabling XML validation. Set 'auto' or 'always' for web lookups.\n"
     ]
    },
    {
     "name": "stdout",
     "output_type": "stream",
     "text": [
      "state : [0 0 0 0 0 0 0 0 0 0 0 0 0 0 0 0 0 0 0 0 0 0 0 0 0 0 0 0 0 0 0 0 0 0 0 0]\n",
      "Q_values : [ 2.2212553  1.6161337 -2.0707488 -1.2229843]\n",
      "state : [0 0 0 0 0 0 0 0 0 0 0 0 0 0 0 0 0 0 0 0 0 0 0 0 0 0 0 0 0 0 0 0 0 0 0 0]\n",
      "Q_values : [ 1.6707737  2.5930004 -2.3959835 -1.0155289]\n",
      "state : [0 0 0 0 0 0 0 0 0 0 0 0 0 0 0 0 0 0 0 0 0 0 0 0 0 0 0 0 0 0 0 0 0 0 0 0]\n",
      "Q_values : [ 1.7172918   3.4371903  -3.0207467  -0.14608955]\n",
      "state : [0 0 0 0 0 0 0 0 0 0 0 0 0 0 0 0 0 0 0 0 0 0 0 0 0 0 0 0 0 0 0 0 0 0 0 0]\n",
      "Q_values : [ 3.015399   2.3211308 -3.3904097 -0.354141 ]\n",
      "state : [0 0 0 0 0 0 0 0 0 0 0 0 0 0 0 0 0 0 0 0 0 0 0 0 0 0 0 0 0 0 0 0 0 0 0 0]\n",
      "Q_values : [ 2.7578833   2.3883553  -3.4200313  -0.99829674]\n",
      "state : [0 0 0 0 0 0 0 0 0 0 0 0 0 0 1 0 1 0 0 0 0 0 0 0 0 0 0 0 0 0 0 0 0 0 0 0]\n",
      "Q_values : [ 1.9943066  2.2123032 -3.5903952 -0.614341 ]\n",
      "state : [0 0 0 0 0 0 0 0 0 0 0 0 0 0 0 0 1 1 0 0 0 0 0 0 0 0 0 0 0 0 0 0 0 0 0 0]\n",
      "Q_values : [ 2.521025   2.3416705 -2.5507057 -0.9185393]\n",
      "state : [0 0 0 0 0 0 0 0 0 0 0 0 0 0 0 0 2 2 0 0 0 0 0 0 0 0 0 0 0 0 0 0 0 0 0 0]\n",
      "Q_values : [ 2.6744523  3.248166  -1.8290823 -1.1091185]\n",
      "state : [0 0 0 0 0 0 0 0 0 0 0 0 0 0 0 0 4 4 0 0 0 0 0 0 0 0 0 0 0 0 0 0 0 0 0 0]\n",
      "Q_values : [ 2.471397   2.8433447 -1.2870073 -1.5264909]\n",
      "state : [0 0 0 0 0 0 0 0 0 0 0 0 0 0 0 0 6 5 0 0 0 0 1 1 0 0 0 0 0 0 0 0 0 0 0 0]\n",
      "Q_values : [ 1.7813733   2.3668594  -0.79152274 -2.1014616 ]\n",
      "state : [0 0 0 0 0 0 0 0 0 0 0 0 0 0 0 0 6 6 0 0 0 0 2 1 0 0 0 0 0 0 0 0 0 0 0 0]\n",
      "Q_values : [ 2.2593262  1.8949472 -1.01492   -3.2184715]\n",
      "state : [0 0 0 0 0 0 0 0 0 0 0 0 0 0 0 0 6 6 0 0 0 0 3 3 0 0 0 0 0 0 0 0 0 0 0 0]\n",
      "Q_values : [ 3.6323829   2.3949258  -0.62948656 -4.0760384 ]\n",
      "state : [0 0 0 0 0 0 0 0 0 0 0 0 0 0 0 0 6 6 0 0 0 0 4 4 0 0 0 0 0 0 0 0 0 0 0 0]\n",
      "Q_values : [ 2.4233584   3.6377106  -0.32033396 -4.064001  ]\n",
      "state : [0 0 0 0 0 0 0 0 0 0 0 0 0 0 0 0 6 6 0 0 0 0 4 4 0 0 0 0 0 0 0 0 0 0 0 0]\n",
      "Q_values : [ 2.8209603  3.3607702  0.1815362 -3.1353226]\n",
      "state : [0 0 0 0 0 0 0 0 0 0 0 0 0 0 0 0 6 6 0 0 0 0 4 4 0 0 0 0 0 0 0 0 0 0 0 0]\n",
      "Q_values : [ 2.9111853  2.5892646  0.506516  -2.579358 ]\n",
      "state : [0 0 0 0 0 0 0 0 0 0 0 0 0 0 0 0 6 6 0 0 0 0 4 4 0 0 0 0 0 0 0 0 0 0 0 0]\n",
      "Q_values : [ 2.6383064   3.0671954  -0.38490582 -1.9665647 ]\n",
      "state : [0 0 0 0 0 0 0 0 0 0 0 0 0 0 0 0 6 6 0 0 0 0 4 4 0 0 0 0 0 0 0 0 0 0 0 0]\n",
      "Q_values : [ 2.4384184  2.23706   -0.6319587 -1.953212 ]\n",
      "state : [0 0 0 0 0 0 0 0 0 0 0 0 0 0 0 0 6 6 0 0 0 0 4 4 0 0 0 0 0 0 0 0 0 0 0 0]\n",
      "Q_values : [ 2.7617218   1.2720294  -0.49252605 -1.3378999 ]\n",
      "state : [0 0 0 0 0 0 0 0 0 0 0 0 0 0 0 0 6 6 0 0 0 0 4 4 0 0 0 0 0 0 0 0 0 0 0 0]\n",
      "Q_values : [ 2.8768797   2.3843412  -0.82899356 -1.5887039 ]\n",
      "state : [0 0 0 0 0 0 0 0 0 0 0 0 0 0 0 0 6 6 0 0 0 0 4 4 0 0 0 0 0 0 0 0 0 0 0 0]\n",
      "Q_values : [ 2.5901089  2.0401745 -1.0886054 -0.8133786]\n",
      "Step #100.00 (0ms ?*RT. ?UPS, TraCI: 35ms, vehicles TOT 33 ACT 20 BUF 0)                   \n",
      "episode : 156\n",
      " Retrying in 1 seconds\n"
     ]
    },
    {
     "name": "stderr",
     "output_type": "stream",
     "text": [
      "Warning: Environment variable SUMO_HOME is not set properly, disabling XML validation. Set 'auto' or 'always' for web lookups.\n"
     ]
    },
    {
     "name": "stdout",
     "output_type": "stream",
     "text": [
      "state : [0 0 0 0 0 0 0 0 0 0 0 0 0 0 0 0 0 0 0 0 0 0 0 0 0 0 0 0 0 0 0 0 0 0 0 0]\n",
      "Q_values : [ 2.3524213   2.4969625  -1.1229463  -0.45223284]\n",
      "state : [0 0 0 0 0 0 0 0 0 0 0 0 0 0 0 0 0 0 0 0 0 0 0 0 0 0 0 0 0 0 0 0 0 0 0 0]\n",
      "Q_values : [ 2.599576   1.8134207 -2.0375762 -0.7802434]\n",
      "state : [0 0 0 0 0 0 0 0 0 0 0 0 0 0 0 0 0 0 0 0 0 0 0 0 0 0 0 0 0 0 0 0 0 0 0 0]\n",
      "Q_values : [ 2.6729822  2.6243846 -2.735376  -1.1940174]\n",
      "state : [0 0 0 0 0 0 0 0 0 0 0 0 0 0 0 0 0 0 0 0 0 0 0 0 0 0 0 0 0 0 0 0 0 0 0 0]\n",
      "Q_values : [ 2.9458456  2.264358  -2.7086093 -1.4462564]\n",
      "state : [0 0 0 0 0 0 0 0 0 0 0 0 0 0 0 0 0 0 0 0 0 0 0 0 0 0 0 0 0 0 0 0 0 0 0 0]\n",
      "Q_values : [ 4.6880507  2.528512  -2.5125232 -1.6343126]\n",
      "state : [0 0 0 0 0 0 0 0 0 0 0 0 0 0 1 0 1 0 0 0 0 0 0 0 0 0 0 0 0 0 0 0 0 0 0 0]\n",
      "Q_values : [ 2.831851   2.9250183 -1.6577396 -1.5484297]\n",
      "state : [0 0 0 0 0 0 0 0 0 0 0 0 0 0 0 0 1 1 0 0 0 0 0 0 0 0 0 0 0 0 0 0 0 0 0 0]\n",
      "Q_values : [ 1.8561236  2.326304  -1.1853673 -2.360183 ]\n",
      "state : [0 0 0 0 0 0 0 0 0 0 0 0 0 0 0 0 2 2 0 0 0 0 0 0 0 0 0 0 0 0 0 0 0 0 0 0]\n",
      "Q_values : [ 1.4972401  2.146751  -0.8588543 -3.0418217]\n",
      "state : [0 0 0 0 0 0 0 0 0 0 0 0 0 0 0 0 4 4 0 0 0 0 0 0 0 0 0 0 0 0 0 0 0 0 0 0]\n",
      "Q_values : [ 1.7349353  1.5435524 -0.2896979 -3.163277 ]\n",
      "state : [0 0 0 0 0 0 0 0 0 0 0 0 0 0 0 0 6 5 0 0 0 0 1 1 0 0 0 0 0 0 0 0 0 0 0 0]\n",
      "Q_values : [ 1.6032574   2.2559748  -0.38683677 -3.8805716 ]\n",
      "state : [0 0 0 0 0 0 0 0 0 0 0 0 0 0 0 0 6 6 0 0 0 0 2 1 0 0 0 0 0 0 0 0 0 0 0 0]\n",
      "Q_values : [ 2.0838685   2.1086707  -0.14439178 -3.543811  ]\n",
      "state : [0 0 0 0 0 0 0 0 0 0 0 0 0 0 0 0 6 6 0 0 0 0 3 3 0 0 0 0 0 0 0 0 0 0 0 0]\n",
      "Q_values : [ 2.29992    1.4113756 -1.5795557 -3.015816 ]\n",
      "state : [0 0 0 0 0 0 0 0 0 0 0 0 0 0 0 0 6 6 0 0 0 0 4 4 0 0 0 0 0 0 0 0 0 0 0 0]\n",
      "Q_values : [ 4.5305142  1.9404664 -1.9215379 -2.5526493]\n",
      "state : [0 0 0 0 0 0 0 0 0 0 0 0 0 0 0 0 6 6 0 0 0 0 4 4 0 0 0 0 0 0 0 0 0 0 0 0]\n",
      "Q_values : [ 4.09467    3.2756753 -2.0476942 -1.3991828]\n",
      "state : [0 0 0 0 0 0 0 0 0 0 0 0 0 0 0 0 6 6 0 0 0 0 4 4 0 0 0 0 0 0 0 0 0 0 0 0]\n",
      "Q_values : [ 3.5973287   3.1273518  -1.6232531  -0.42703772]\n",
      "state : [0 0 0 0 0 0 0 0 0 0 0 0 0 0 0 0 6 6 0 0 0 0 4 4 0 0 0 0 0 0 0 0 0 0 0 0]\n",
      "Q_values : [ 3.2445765   2.9067376  -1.5569291  -0.09133768]\n",
      "state : [0 0 0 0 0 0 0 0 0 0 0 0 0 0 0 0 6 6 0 0 0 0 4 4 0 0 0 0 0 0 0 0 0 0 0 0]\n",
      "Q_values : [ 2.2158787   2.9980917  -1.6036928  -0.04203868]\n",
      "state : [0 0 0 0 0 0 0 0 0 0 0 0 0 0 0 0 6 6 0 0 0 0 4 4 0 0 0 0 0 0 0 0 0 0 0 0]\n",
      "Q_values : [ 1.7235708   2.774038   -1.7051249  -0.45980215]\n",
      "state : [0 0 0 0 0 0 0 0 0 0 0 0 0 0 0 0 6 6 0 0 0 0 4 4 0 0 0 0 0 0 0 0 0 0 0 0]\n",
      "Q_values : [ 1.9046322  2.6824946 -1.2072275 -1.3842087]\n",
      "state : [0 0 0 0 0 0 0 0 0 0 0 0 0 0 0 0 6 6 0 0 0 0 4 4 0 0 0 0 0 0 0 0 0 0 0 0]\n",
      "Q_values : [ 2.1092582   2.2983832  -0.68256235 -1.859946  ]\n",
      "Step #100.00 (0ms ?*RT. ?UPS, TraCI: 36ms, vehicles TOT 33 ACT 20 BUF 0)                   \n",
      "episode : 157\n",
      " Retrying in 1 seconds\n"
     ]
    },
    {
     "name": "stderr",
     "output_type": "stream",
     "text": [
      "Warning: Environment variable SUMO_HOME is not set properly, disabling XML validation. Set 'auto' or 'always' for web lookups.\n"
     ]
    },
    {
     "name": "stdout",
     "output_type": "stream",
     "text": [
      "state : [0 0 0 0 0 0 0 0 0 0 0 0 0 0 0 0 0 0 0 0 0 0 0 0 0 0 0 0 0 0 0 0 0 0 0 0]\n",
      "Q_values : [ 2.4990857  1.203625  -0.5946505 -2.1954582]\n",
      "state : [0 0 0 0 0 0 0 0 0 0 0 0 0 0 0 0 0 0 0 0 0 0 0 0 0 0 0 0 0 0 0 0 0 0 0 0]\n",
      "Q_values : [ 2.4239347   2.1489773  -0.22277069 -3.3431041 ]\n",
      "state : [0 0 0 0 0 0 0 0 0 0 0 0 0 0 0 0 0 0 0 0 0 0 0 0 0 0 0 0 0 0 0 0 0 0 0 0]\n",
      "Q_values : [ 2.729915    2.1077847   0.02449155 -3.4052546 ]\n",
      "state : [0 0 0 0 0 0 0 0 0 0 0 0 0 0 0 0 0 0 0 0 0 0 0 0 0 0 0 0 0 0 0 0 0 0 0 0]\n",
      "Q_values : [ 2.5929925  2.4565306  0.3343377 -2.819313 ]\n",
      "state : [0 0 0 0 0 0 0 0 0 0 0 0 0 0 0 0 0 0 0 0 0 0 0 0 0 0 0 0 0 0 0 0 0 0 0 0]\n",
      "Q_values : [ 1.991801   2.3793964  0.6972468 -2.9767485]\n",
      "state : [0 0 0 0 0 0 0 0 0 0 0 0 0 0 0 0 1 0 0 0 0 0 0 0 0 0 0 0 0 0 0 0 0 0 0 0]\n",
      "Q_values : [ 2.3287315   1.9959546   0.96467924 -3.1073992 ]\n",
      "state : [0 0 0 0 0 0 0 0 0 0 0 0 0 0 0 0 1 1 0 0 0 0 0 0 0 0 0 0 0 0 0 0 0 0 0 0]\n",
      "Q_values : [ 2.8192606   1.4371225   0.76250696 -2.882119  ]\n",
      "state : [0 0 0 0 0 0 0 0 0 0 0 0 0 0 0 0 2 2 0 0 0 0 0 0 0 0 0 0 0 0 0 0 0 0 0 0]\n",
      "Q_values : [ 2.7115338  1.9058053  0.959043  -2.5416605]\n",
      "state : [0 0 0 0 0 0 0 0 0 0 0 0 0 0 0 0 4 4 0 0 0 0 0 0 0 0 0 0 0 0 0 0 0 0 0 0]\n",
      "Q_values : [ 1.877984    2.6186442   0.52121305 -1.6783304 ]\n",
      "state : [0 0 0 0 0 0 0 0 0 0 0 0 0 0 0 0 6 5 0 0 0 0 1 1 0 0 0 0 0 0 0 0 0 0 0 0]\n",
      "Q_values : [ 1.4086328   2.2329469  -0.01455355 -1.6781056 ]\n",
      "state : [0 0 0 0 0 0 0 0 0 0 0 0 0 0 0 0 6 6 0 0 0 0 2 1 0 0 0 0 0 0 0 0 0 0 0 0]\n",
      "Q_values : [ 1.4064581   1.918811    0.05050898 -1.1176629 ]\n",
      "state : [0 0 0 0 0 0 0 0 0 0 0 0 0 0 0 0 6 6 0 0 0 0 3 3 0 0 0 0 0 0 0 0 0 0 0 0]\n",
      "Q_values : [ 1.421147   1.720142  -2.8844728 -0.9554956]\n",
      "state : [0 0 0 0 0 0 0 0 0 0 0 0 0 0 0 0 6 6 0 0 0 0 4 4 0 0 0 0 0 0 0 0 0 0 0 0]\n",
      "Q_values : [ 2.5088248  2.2999938 -3.6250408 -0.6080384]\n",
      "state : [0 0 0 0 0 0 0 0 0 0 0 0 0 0 0 0 6 6 0 0 0 0 4 4 0 0 0 0 0 0 0 0 0 0 0 0]\n",
      "Q_values : [ 3.0586033   2.4146113  -4.243495    0.01825356]\n",
      "state : [0 0 0 0 0 0 0 0 0 0 0 0 0 0 0 0 6 6 0 0 0 0 4 4 0 0 0 0 0 0 0 0 0 0 0 0]\n",
      "Q_values : [ 4.1339703  2.7716923 -4.3973265  0.6995456]\n",
      "state : [0 0 0 0 0 0 0 0 0 0 0 0 0 0 0 0 6 6 0 0 0 0 4 4 0 0 0 0 0 0 0 0 0 0 0 0]\n",
      "Q_values : [ 3.7967134  4.348709  -4.996071   1.0929325]\n",
      "state : [0 0 0 0 0 0 0 0 0 0 0 0 0 0 0 0 6 6 0 0 0 0 4 4 0 0 0 0 0 0 0 0 0 0 0 0]\n",
      "Q_values : [ 3.184286   3.7066298 -4.0411577  1.695133 ]\n",
      "state : [0 0 0 0 0 0 0 0 0 0 0 0 0 0 0 0 6 6 0 0 0 0 4 4 0 0 0 0 0 0 0 0 0 0 0 0]\n",
      "Q_values : [ 2.1399066  3.1088421 -2.596993   2.0499115]\n",
      "state : [0 0 0 0 0 0 0 0 0 0 0 0 0 0 0 0 6 6 0 0 0 0 4 4 0 0 0 0 0 0 0 0 0 0 0 0]\n",
      "Q_values : [ 1.9080689  1.9715604 -1.526748   2.540948 ]\n",
      "state : [0 0 0 0 0 0 0 0 0 0 0 0 0 0 0 0 6 0 0 0 0 0 4 0 0 0 0 0 0 0 0 0 0 0 0 0]\n",
      "Q_values : [ 2.3121326   2.4173474  -0.06507516  1.7076261 ]\n",
      "Step #100.00 (1ms ~= 10.00*RT, ~20000.00UPS, TraCI: 33ms, vehicles TOT 33 ACT 20 BUF 0)    \n",
      "episode : 158\n",
      " Retrying in 1 seconds\n"
     ]
    },
    {
     "name": "stderr",
     "output_type": "stream",
     "text": [
      "Warning: Environment variable SUMO_HOME is not set properly, disabling XML validation. Set 'auto' or 'always' for web lookups.\n"
     ]
    },
    {
     "name": "stdout",
     "output_type": "stream",
     "text": [
      "state : [0 0 0 0 0 0 0 0 0 0 0 0 0 0 0 0 0 0 0 0 0 0 0 0 0 0 0 0 0 0 0 0 0 0 0 0]\n",
      "Q_values : [2.1129742  2.5171049  1.0158465  0.79101324]\n",
      "state : [0 0 0 0 0 0 0 0 0 0 0 0 0 0 0 0 0 0 0 0 0 0 0 0 0 0 0 0 0 0 0 0 0 0 0 0]\n",
      "Q_values : [ 2.9817643  1.8146586  1.9659017 -0.8498113]\n",
      "state : [0 0 0 0 0 0 0 0 0 0 0 0 0 0 0 0 0 0 0 0 0 0 0 0 0 0 0 0 0 0 0 0 0 0 0 0]\n",
      "Q_values : [ 2.404502   2.7519994  2.8139613 -1.9452388]\n",
      "state : [0 0 0 0 0 0 0 0 0 0 0 0 0 0 0 0 0 0 0 0 0 0 0 0 0 0 0 0 0 0 0 0 0 0 0 0]\n",
      "Q_values : [ 2.570798   2.4291604  3.5775928 -2.8277056]\n",
      "state : [0 0 0 0 0 0 0 0 0 0 0 0 0 0 0 0 0 0 0 0 0 0 0 0 0 0 0 0 0 0 0 0 0 0 0 0]\n",
      "Q_values : [ 3.172863   2.7755594  4.085033  -3.0869467]\n",
      "state : [0 0 0 0 0 0 0 0 0 0 0 0 0 1 1 0 0 0 0 0 0 0 0 0 0 0 0 0 0 0 0 0 0 0 0 0]\n",
      "Q_values : [ 2.6590858  3.8478222  4.3632946 -3.5540073]\n",
      "state : [0 0 0 0 0 0 0 0 0 0 0 0 0 1 1 0 0 1 0 0 0 0 0 0 0 0 0 0 0 0 0 0 0 0 0 0]\n",
      "Q_values : [ 4.0535026  3.2976096  3.529735  -3.6978586]\n",
      "state : [0 0 0 0 0 0 0 0 0 0 0 0 0 0 1 0 1 2 0 0 0 0 0 0 0 0 0 0 0 0 0 0 0 0 0 0]         \n",
      "Q_values : [ 3.3284104  1.7393943  3.3519049 -4.117589 ]\n"
     ]
    },
    {
     "name": "stderr",
     "output_type": "stream",
     "text": [
      "Warning: Vehicle 'veh_10' performs emergency stop at the end of lane 'end2_junction_1' because of a red traffic light (decel=-14.41, offset=0.03), time=31.21.\n",
      "Warning: Vehicle 'veh_19' performs emergency stop at the end of lane 'end2_junction_1' because of a red traffic light (decel=-23.27, offset=0.08), time=40.30.\n",
      "Warning: Vehicle 'veh_22' performs emergency stop at the end of lane 'end4_junction_1' because of a red traffic light (decel=-42.49, offset=0.27), time=40.34.\n"
     ]
    },
    {
     "name": "stdout",
     "output_type": "stream",
     "text": [
      "state : [0 0 0 0 0 0 0 0 0 0 0 0 0 0 1 0 0 4 0 0 0 0 0 0 0 0 0 0 0 0 0 0 0 0 0 0]\n",
      "Q_values : [ 2.2127573  1.453943   2.1580024 -4.3715496]\n",
      "state : [0 0 0 0 0 0 0 0 0 0 0 0 0 0 1 0 1 5 0 0 0 0 1 1 0 0 0 0 0 0 0 0 0 0 0 0]         \n",
      "Q_values : [ 2.2755086  1.5371383  1.3727256 -4.0150156]\n",
      "state : [0 0 0 0 0 0 0 0 0 0 0 0 0 0 1 0 1 6 0 0 0 0 2 1 0 0 0 0 0 0 0 0 0 0 0 0]\n",
      "Q_values : [ 1.6659825   1.778704    0.63529253 -3.1684625 ]\n",
      "state : [0 0 0 0 0 0 0 0 0 0 0 0 0 0 0 0 1 6 0 0 0 0 3 3 0 0 0 0 0 0 0 0 0 0 0 0]\n",
      "Q_values : [ 2.17103     2.028998    0.04704857 -2.2036228 ]\n",
      "state : [0 0 0 0 0 0 0 0 0 0 0 0 0 0 0 0 1 6 0 0 0 0 4 4 0 0 0 0 0 0 0 0 0 0 0 0]\n",
      "Q_values : [ 2.588803   2.2813005 -1.0691812 -1.7975421]\n",
      "state : [0 0 0 0 0 0 0 0 0 0 0 0 0 0 0 0 1 6 0 0 0 0 4 4 0 0 0 0 0 0 0 0 0 0 0 0]\n",
      "Q_values : [ 2.1937203  2.0137496 -1.9879112 -1.7913551]\n",
      "state : [0 0 0 0 0 0 0 0 0 0 0 0 0 0 0 0 1 6 0 0 0 0 4 4 0 0 0 0 0 0 0 0 0 0 0 0]\n",
      "Q_values : [ 1.9553367  2.9003215 -2.445401  -1.1362488]\n",
      "state : [0 0 0 0 0 0 0 0 0 0 0 0 0 0 0 0 1 6 0 0 0 0 4 4 0 0 0 0 0 0 0 0 0 0 0 0]\n",
      "Q_values : [ 2.1063862   3.1535187  -3.3850756  -0.40834188]\n",
      "state : [0 0 0 0 0 0 0 0 0 0 0 0 0 0 0 0 1 6 0 0 0 0 4 4 0 0 0 0 0 0 0 0 0 0 0 0]\n",
      "Q_values : [ 3.1127543  2.0109506 -3.4689977 -0.6301365]\n",
      "state : [0 0 0 0 0 0 0 0 0 0 0 0 0 0 0 0 1 6 0 0 0 0 4 4 0 0 0 0 0 0 0 0 0 0 0 0]\n",
      "Q_values : [ 1.7085571  2.0937414 -2.8419797 -0.6618192]\n",
      "state : [0 0 0 0 0 0 0 0 0 0 0 0 0 0 0 0 1 6 0 0 0 0 4 4 0 0 0 0 0 0 0 0 0 0 0 0]\n",
      "Q_values : [ 2.0109153   1.3665042  -2.8254962  -0.71223855]\n",
      "state : [0 0 0 0 0 0 0 0 0 0 0 0 0 0 0 0 1 6 0 0 0 0 4 4 0 0 0 0 0 0 0 0 0 0 0 0]\n",
      "Q_values : [ 2.1935897  2.2691257 -3.1688948 -0.7090981]\n",
      "Step #100.00 (0ms ?*RT. ?UPS, TraCI: 32ms, vehicles TOT 33 ACT 15 BUF 0)                   \n",
      "episode : 159\n",
      " Retrying in 1 seconds\n"
     ]
    },
    {
     "name": "stderr",
     "output_type": "stream",
     "text": [
      "Warning: Environment variable SUMO_HOME is not set properly, disabling XML validation. Set 'auto' or 'always' for web lookups.\n"
     ]
    },
    {
     "name": "stdout",
     "output_type": "stream",
     "text": [
      "state : [0 0 0 0 0 0 0 0 0 0 0 0 0 0 0 0 0 0 0 0 0 0 0 0 0 0 0 0 0 0 0 0 0 0 0 0]\n",
      "Q_values : [ 1.8369625  2.7914033 -2.777082  -0.5423312]\n",
      "state : [0 0 0 0 0 0 0 0 0 0 0 0 0 0 0 0 0 0 0 0 0 0 0 0 0 0 0 0 0 0 0 0 0 0 0 0]\n",
      "Q_values : [ 2.5626664   2.6707914  -3.086388   -0.36434174]\n",
      "state : [0 0 0 0 0 0 0 0 0 0 0 0 0 0 0 0 0 0 0 0 0 0 0 0 0 0 0 0 0 0 0 0 0 0 0 0]\n",
      "Q_values : [ 2.656262    2.4719028  -3.7587137  -0.25407696]\n",
      "state : [0 0 0 0 0 0 0 0 0 0 0 0 0 0 0 0 0 0 0 0 0 0 0 0 0 0 0 0 0 0 0 0 0 0 0 0]\n",
      "Q_values : [ 3.1809444   2.2808948  -3.6130865  -0.30097365]\n",
      "state : [0 0 0 0 0 0 0 0 0 0 0 0 0 0 0 0 0 0 0 0 0 0 0 0 0 0 0 0 0 0 0 0 0 0 0 0]\n",
      "Q_values : [ 3.188311    2.390323   -3.1471734  -0.69143677]\n",
      "state : [0 0 0 0 0 0 0 0 0 0 0 0 0 0 1 0 1 0 0 0 0 0 0 0 0 0 0 0 0 0 0 0 0 0 0 0]\n",
      "Q_values : [ 3.2725883   2.9128866  -2.684768   -0.57624793]\n",
      "state : [0 0 0 0 0 0 0 0 0 0 0 0 0 0 1 0 1 1 0 0 0 0 0 0 0 0 0 0 0 0 0 0 0 0 0 0]\n",
      "Q_values : [ 1.8651409  2.7003329 -2.0692077 -0.3913257]\n",
      "state : [0 0 0 0 0 0 0 0 0 0 0 0 0 0 0 0 2 2 0 0 0 0 0 0 0 0 0 0 0 0 0 0 0 0 0 0]\n",
      "Q_values : [ 1.5084796   1.7374206  -0.88461137 -0.27550936]\n",
      "state : [0 0 0 0 0 0 0 0 0 0 0 0 0 0 0 0 4 4 0 0 0 0 0 0 0 0 0 0 0 0 0 0 0 0 0 0]\n",
      "Q_values : [ 2.216332    2.0994232  -0.48549366 -0.19405317]\n",
      "state : [0 0 0 0 0 0 0 0 0 0 0 0 0 0 0 0 6 5 0 0 0 0 1 1 0 0 0 0 0 0 0 0 0 0 0 0]\n",
      "Q_values : [ 2.7696378   2.607613   -0.04080606 -0.6469581 ]\n",
      "state : [0 0 0 0 0 0 0 0 0 0 0 0 0 0 0 0 6 6 0 0 0 0 2 1 0 0 0 0 0 0 0 0 0 0 0 0]\n",
      "Q_values : [ 2.7360678  3.113686   0.5695033 -1.5121319]\n",
      "state : [0 0 0 0 0 0 0 0 0 0 0 0 0 0 0 0 6 6 0 0 0 0 3 3 0 0 0 0 0 0 0 0 0 0 0 0]\n",
      "Q_values : [ 1.9840124  2.331762   0.7701709 -2.2028468]\n",
      "state : [0 0 0 0 0 0 0 0 0 0 0 0 0 0 0 0 6 6 0 0 0 0 4 4 0 0 0 0 0 0 0 0 0 0 0 0]\n",
      "Q_values : [ 2.4309998  2.7556696  0.8271091 -2.2044125]\n",
      "state : [0 0 0 0 0 0 0 0 0 0 0 0 0 0 0 0 6 6 0 0 0 0 4 4 0 0 0 0 0 0 0 0 0 0 0 0]\n",
      "Q_values : [ 1.5305276   1.6520256   0.38217282 -2.4987261 ]\n",
      "state : [0 0 0 0 0 0 0 0 0 0 0 0 0 0 0 0 6 6 0 0 0 0 4 4 0 0 0 0 0 0 0 0 0 0 0 0]\n",
      "Q_values : [ 2.0099359   1.1281859   0.30107522 -3.0000608 ]\n",
      "state : [0 0 0 0 0 0 0 0 0 0 0 0 0 0 0 0 6 6 0 0 0 0 4 4 0 0 0 0 0 0 0 0 0 0 0 0]\n",
      "Q_values : [ 1.8758925  1.6291045 -1.4996254 -3.0663755]\n",
      "state : [0 0 0 0 0 0 0 0 0 0 0 0 0 0 0 0 6 6 0 0 0 0 4 4 0 0 0 0 0 0 0 0 0 0 0 0]\n",
      "Q_values : [ 1.8255405  1.8823369 -2.907087  -3.1839828]\n",
      "state : [0 0 0 0 0 0 0 0 0 0 0 0 0 0 0 0 6 6 0 0 0 0 4 4 0 0 0 0 0 0 0 0 0 0 0 0]\n",
      "Q_values : [ 2.4821692  1.7233655 -3.6413016 -3.166159 ]\n",
      "state : [0 0 0 0 0 0 0 0 0 0 0 0 0 0 0 0 6 6 0 0 0 0 4 4 0 0 0 0 0 0 0 0 0 0 0 0]\n",
      "Q_values : [ 3.5193748  3.1580682 -4.039282  -2.79118  ]\n",
      "state : [0 0 0 0 0 0 0 0 0 0 0 0 0 0 0 0 6 6 0 0 0 0 4 4 0 0 0 0 0 0 0 0 0 0 0 0]\n",
      "Q_values : [ 4.0158267  2.786995  -2.5894608 -1.9997325]\n",
      "Step #100.00 (0ms ?*RT. ?UPS, TraCI: 33ms, vehicles TOT 33 ACT 20 BUF 0)                   \n",
      "episode : 160\n",
      " Retrying in 1 seconds\n"
     ]
    },
    {
     "name": "stderr",
     "output_type": "stream",
     "text": [
      "Warning: Environment variable SUMO_HOME is not set properly, disabling XML validation. Set 'auto' or 'always' for web lookups.\n"
     ]
    },
    {
     "name": "stdout",
     "output_type": "stream",
     "text": [
      "state : [0 0 0 0 0 0 0 0 0 0 0 0 0 0 0 0 0 0 0 0 0 0 0 0 0 0 0 0 0 0 0 0 0 0 0 0]\n",
      "Q_values : [ 3.0777287  2.6370735 -2.1355677 -2.5101635]\n",
      "state : [0 0 0 0 0 0 0 0 0 0 0 0 0 0 0 0 0 0 0 0 0 0 0 0 0 0 0 0 0 0 0 0 0 0 0 0]\n",
      "Q_values : [ 2.6487694  2.7070072 -1.1872075 -2.0104048]\n",
      "state : [0 0 0 0 0 0 0 0 0 0 0 0 0 0 0 0 0 0 0 0 0 0 0 0 0 0 0 0 0 0 0 0 0 0 0 0]\n",
      "Q_values : [ 1.5530913   2.2741923  -1.2792151  -0.89273524]\n",
      "state : [0 0 0 0 0 0 0 0 0 0 0 0 0 0 0 0 0 0 0 0 0 0 0 0 0 0 0 0 0 0 0 0 0 0 0 0]\n",
      "Q_values : [ 2.1214528  2.9876833 -0.7327666 -1.0324736]\n",
      "state : [0 0 0 0 0 0 0 0 0 0 0 0 0 0 0 0 0 0 0 0 0 0 0 0 0 0 0 0 0 0 0 0 0 0 0 0]\n",
      "Q_values : [ 1.915942   1.8424647 -0.9611342 -1.5962522]\n",
      "state : [0 0 0 0 0 0 0 0 0 0 0 0 0 0 1 0 1 0 0 0 0 0 0 0 0 0 0 0 0 0 0 0 0 0 0 0]         \n",
      "Q_values : [ 1.5204922  1.1693897 -0.6528163 -1.7948942]\n"
     ]
    },
    {
     "name": "stderr",
     "output_type": "stream",
     "text": [
      "Warning: Vehicle 'veh_2' performs emergency stop at the end of lane 'end1_junction_2' because of a red traffic light (decel=-20.39, offset=0.10), time=21.24.\n"
     ]
    },
    {
     "name": "stdout",
     "output_type": "stream",
     "text": [
      "state : [0 0 0 0 0 0 0 0 0 0 0 0 0 0 1 0 1 1 0 0 0 0 0 0 0 0 0 0 0 0 0 0 0 0 0 0]\n",
      "Q_values : [ 1.7856748   0.6886704  -0.39889503 -1.9462295 ]\n",
      "state : [0 0 0 0 0 0 0 0 0 0 0 0 0 0 1 0 2 2 0 0 0 0 0 0 0 0 0 0 0 0 0 0 0 0 0 0]\n",
      "Q_values : [ 2.2423973  0.9782195 -0.1300149 -2.6354718]\n",
      "state : [0 0 0 0 0 0 0 0 0 0 0 0 0 0 1 0 4 4 0 0 0 0 0 0 0 0 0 0 0 0 0 0 0 0 0 0]\n",
      "Q_values : [ 2.3210125  1.8636861 -1.1541374 -2.9111645]\n",
      "state : [0 0 0 0 0 0 0 0 0 0 0 0 0 0 1 0 6 5 0 0 0 0 1 1 0 0 0 0 0 0 0 0 0 0 0 0]\n",
      "Q_values : [ 2.8567538  2.092948  -1.4951522 -3.1193867]\n",
      "state : [0 0 0 0 0 0 0 0 0 0 0 0 0 0 1 0 6 6 0 0 0 0 2 1 0 0 0 0 0 0 0 0 0 0 0 0]\n",
      "Q_values : [ 2.8020945  2.799049  -2.2642467 -2.9107614]\n",
      "state : [0 0 0 0 0 0 0 0 0 0 0 0 0 0 1 0 6 6 0 0 0 0 3 3 0 0 0 0 0 0 0 0 0 0 0 0]\n",
      "Q_values : [ 2.4499393  3.812113  -3.3193133 -2.7163584]\n",
      "state : [0 0 0 0 0 0 0 0 0 0 0 0 0 0 0 0 6 6 0 0 0 0 4 4 0 0 0 0 0 0 0 0 0 0 0 0]\n",
      "Q_values : [ 3.329115   3.132629  -3.9936476 -1.9076653]\n",
      "state : [0 0 0 0 0 0 0 0 0 0 0 0 0 0 0 0 6 6 0 0 0 0 4 4 0 0 0 0 0 0 0 0 0 0 0 0]\n",
      "Q_values : [ 2.55568    2.4193413 -4.515713  -1.6486447]\n",
      "state : [0 0 0 0 0 0 0 0 0 0 0 0 0 0 0 0 6 6 0 0 0 0 4 4 0 0 0 0 0 0 0 0 0 0 0 0]\n",
      "Q_values : [ 2.257205   1.5389876 -3.980345  -1.1667233]\n",
      "state : [0 0 0 0 0 0 0 0 0 0 0 0 0 0 0 0 6 6 0 0 0 0 4 4 0 0 0 0 0 0 0 0 0 0 0 0]\n",
      "Q_values : [ 2.5404236  1.826659  -3.97948   -1.1771092]\n",
      "state : [0 0 0 0 0 0 0 0 0 0 0 0 0 0 0 0 6 6 0 0 0 0 4 4 0 0 0 0 0 0 0 0 0 0 0 0]\n",
      "Q_values : [ 1.9162264   2.067728   -4.2925873  -0.85879755]\n",
      "state : [0 0 0 0 0 0 0 0 0 0 0 0 0 0 0 0 6 6 0 0 0 0 4 4 0 0 0 0 0 0 0 0 0 0 0 0]\n",
      "Q_values : [ 0.85549045  1.7215927  -2.562884   -0.6691086 ]\n",
      "state : [0 0 0 0 0 0 0 0 0 0 0 0 0 0 0 0 6 6 0 0 0 0 4 4 0 0 0 0 0 0 0 0 0 0 0 0]\n",
      "Q_values : [ 1.118246   2.2881527 -1.384068  -0.584568 ]\n",
      "state : [0 0 0 0 0 0 0 0 0 0 0 0 0 0 0 0 6 6 0 0 0 0 4 4 0 0 0 0 0 0 0 0 0 0 0 0]\n",
      "Q_values : [ 2.2346163  2.468432  -0.5622153 -0.3018763]\n",
      "Step #100.00 (0ms ?*RT. ?UPS, TraCI: 34ms, vehicles TOT 33 ACT 20 BUF 0)                   \n",
      "episode : 161\n",
      " Retrying in 1 seconds\n"
     ]
    },
    {
     "name": "stderr",
     "output_type": "stream",
     "text": [
      "Warning: Environment variable SUMO_HOME is not set properly, disabling XML validation. Set 'auto' or 'always' for web lookups.\n"
     ]
    },
    {
     "name": "stdout",
     "output_type": "stream",
     "text": [
      "state : [0 0 0 0 0 0 0 0 0 0 0 0 0 0 0 0 0 0 0 0 0 0 0 0 0 0 0 0 0 0 0 0 0 0 0 0]\n",
      "Q_values : [ 2.4694328   1.6157361  -0.35133028 -0.37627602]\n",
      "state : [0 0 0 0 0 0 0 0 0 0 0 0 0 0 0 0 0 0 0 0 0 0 0 0 0 0 0 0 0 0 0 0 0 0 0 0]\n",
      "Q_values : [ 2.2143302  2.2201102  0.2137084 -1.4472923]\n",
      "state : [0 0 0 0 0 0 0 0 0 0 0 0 0 0 0 0 0 0 0 0 0 0 0 0 0 0 0 0 0 0 0 0 0 0 0 0]\n",
      "Q_values : [ 1.930394   2.0575032  0.7791705 -1.5441887]\n",
      "state : [0 0 0 0 0 0 0 0 0 0 0 0 0 0 0 0 0 0 0 0 0 0 0 0 0 0 0 0 0 0 0 0 0 0 0 0]\n",
      "Q_values : [ 2.2521138  3.1594572  1.2657443 -2.3977838]\n",
      "state : [0 0 0 0 0 0 0 0 0 0 0 0 0 0 0 0 0 0 0 0 0 0 0 0 0 0 0 0 0 0 0 0 0 0 0 0]\n",
      "Q_values : [ 2.8841877  2.9561913  1.059274  -2.617779 ]\n",
      "state : [0 0 0 0 0 0 0 0 0 0 0 0 0 1 0 0 1 0 0 0 0 0 0 0 0 0 0 0 0 0 0 0 0 0 0 0]\n",
      "Q_values : [ 3.021239   2.850856   1.1715096 -2.9860513]\n",
      "state : [0 0 0 0 0 0 0 0 0 0 0 0 0 0 0 0 1 1 0 0 0 0 0 0 0 0 0 0 0 0 0 0 0 0 0 0]\n",
      "Q_values : [ 3.0097563   2.593979    0.67034984 -2.7063653 ]\n",
      "state : [0 0 0 0 0 0 0 0 0 0 0 0 0 0 0 0 2 2 0 0 0 0 0 0 0 0 0 0 0 0 0 0 0 0 0 0]\n",
      "Q_values : [ 1.522146    2.1401105   0.10609317 -2.7336757 ]\n",
      "state : [0 0 0 0 0 0 0 0 0 0 0 0 0 0 0 0 4 4 0 0 0 0 0 0 0 0 0 0 0 0 0 0 0 0 0 0]\n",
      "Q_values : [ 2.31711    2.001575  -0.8016257 -3.1647158]\n",
      "state : [0 0 0 0 0 0 0 0 0 0 0 0 0 0 0 0 6 5 0 0 0 0 1 1 0 0 0 0 0 0 0 0 0 0 0 0]\n",
      "Q_values : [ 1.793808   2.3033404 -1.8594844 -3.7558606]\n",
      "state : [0 0 0 0 0 0 0 0 0 0 0 0 0 0 0 0 6 6 0 0 0 0 2 1 0 0 0 0 0 0 0 0 0 0 0 0]\n",
      "Q_values : [ 1.411062   2.01071   -2.693637  -3.9814746]\n",
      "state : [0 0 0 0 0 0 0 0 0 0 0 0 0 0 0 0 6 6 0 0 0 0 3 3 0 0 0 0 0 0 0 0 0 0 0 0]\n",
      "Q_values : [ 1.3830974  1.9872422 -3.144806  -4.375045 ]\n",
      "state : [0 0 0 0 0 0 0 0 0 0 0 0 0 0 0 0 6 6 0 0 0 0 4 4 0 0 0 0 0 0 0 0 0 0 0 0]\n",
      "Q_values : [ 1.5067854  1.5833253 -4.0904303 -4.970213 ]\n",
      "state : [0 0 0 0 0 0 0 0 0 0 0 0 0 0 0 0 6 6 0 0 0 0 4 4 0 0 0 0 0 0 0 0 0 0 0 0]\n",
      "Q_values : [ 2.9335728  0.8944988 -4.785783  -5.261755 ]\n",
      "state : [0 0 0 0 0 0 0 0 0 0 0 0 0 0 0 0 6 6 0 0 0 0 4 4 0 0 0 0 0 0 0 0 0 0 0 0]\n",
      "Q_values : [ 2.959313   2.0274777 -4.3700867 -4.281935 ]\n",
      "state : [0 0 0 0 0 0 0 0 0 0 0 0 0 0 0 0 6 6 0 0 0 0 4 4 0 0 0 0 0 0 0 0 0 0 0 0]\n",
      "Q_values : [ 3.0784478  3.2589855 -4.2394295 -2.8126693]\n",
      "state : [0 0 0 0 0 0 0 0 0 0 0 0 0 0 0 0 6 6 0 0 0 0 4 4 0 0 0 0 0 0 0 0 0 0 0 0]\n",
      "Q_values : [ 2.384172   3.5781746 -3.993244  -0.9608691]\n",
      "state : [0 0 0 0 0 0 0 0 0 0 0 0 0 0 0 0 6 6 0 0 0 0 4 4 0 0 0 0 0 0 0 0 0 0 0 0]\n",
      "Q_values : [ 3.1743727   3.5080838  -2.328442   -0.12501812]\n",
      "state : [0 0 0 0 0 0 0 0 0 0 0 0 0 0 0 0 6 6 0 0 0 0 4 4 0 0 0 0 0 0 0 0 0 0 0 0]\n",
      "Q_values : [ 3.1762438   3.532582   -1.3041415   0.02241254]\n",
      "state : [0 0 0 0 0 0 0 0 0 0 0 0 0 0 0 0 6 6 0 0 0 0 4 4 0 0 0 0 0 0 0 0 0 0 0 0]\n",
      "Q_values : [ 2.337802   3.3468857 -1.1441116  0.0848794]\n",
      "Step #100.00 (0ms ?*RT. ?UPS, TraCI: 33ms, vehicles TOT 33 ACT 20 BUF 0)                   \n",
      "episode : 162\n",
      " Retrying in 1 seconds\n"
     ]
    },
    {
     "name": "stderr",
     "output_type": "stream",
     "text": [
      "Warning: Environment variable SUMO_HOME is not set properly, disabling XML validation. Set 'auto' or 'always' for web lookups.\n"
     ]
    },
    {
     "name": "stdout",
     "output_type": "stream",
     "text": [
      "state : [0 0 0 0 0 0 0 0 0 0 0 0 0 0 0 0 0 0 0 0 0 0 0 0 0 0 0 0 0 0 0 0 0 0 0 0]\n",
      "Q_values : [ 2.8619661   2.3623376  -0.5160961   0.65553904]\n",
      "state : [0 0 0 0 0 0 0 0 0 0 0 0 0 0 0 0 0 0 0 0 0 0 0 0 0 0 0 0 0 0 0 0 0 0 0 0]\n",
      "Q_values : [ 2.8793921   1.9816532  -0.5575981  -0.47657847]\n",
      "state : [0 0 0 0 0 0 0 0 0 0 0 0 0 0 0 0 0 0 0 0 0 0 0 0 0 0 0 0 0 0 0 0 0 0 0 0]\n",
      "Q_values : [ 2.994313   1.7531657 -0.9956403 -0.6067767]\n",
      "state : [0 0 0 0 0 0 0 0 0 0 0 0 0 0 0 0 0 0 0 0 0 0 0 0 0 0 0 0 0 0 0 0 0 0 0 0]\n",
      "Q_values : [ 3.2316942   3.5278606  -0.82652617 -1.7554338 ]\n",
      "state : [0 0 0 0 0 0 0 0 0 0 0 0 0 0 0 0 0 0 0 0 0 0 0 0 0 0 0 0 0 0 0 0 0 0 0 0]\n",
      "Q_values : [ 2.6556647   2.7714872  -0.68134856 -1.4548843 ]\n",
      "state : [0 0 0 0 0 0 0 0 0 0 0 0 0 1 0 0 1 0 0 0 0 0 0 0 0 0 0 0 0 0 0 0 0 0 0 0]\n",
      "Q_values : [ 2.012617   2.1277485 -0.8594911 -1.4183571]\n",
      "state : [0 0 0 0 0 0 0 0 0 0 0 0 0 1 0 0 1 1 0 0 0 0 0 0 0 0 0 0 0 0 0 0 0 0 0 0]\n",
      "Q_values : [ 1.7939553  2.1263099 -1.1731415 -1.5096323]\n",
      "state : [0 0 0 0 0 0 0 0 0 0 0 0 0 1 0 0 2 2 0 0 0 0 0 0 0 0 0 0 0 0 0 0 0 0 0 0]\n",
      "Q_values : [ 1.7966896  1.7632957 -0.7958958 -1.7423644]\n",
      "state : [0 0 0 0 0 0 0 0 0 0 0 0 0 0 0 0 4 4 0 0 0 0 0 0 0 0 0 0 0 0 0 0 0 0 0 0]\n",
      "Q_values : [ 1.442996    1.2336607   0.05511284 -1.7282252 ]\n",
      "state : [0 0 0 0 0 0 0 0 0 0 0 0 0 0 0 0 6 5 0 0 0 0 1 1 0 0 0 0 0 0 0 0 0 0 0 0]\n",
      "Q_values : [ 1.0502856   1.1536158   0.43838716 -2.2552626 ]\n",
      "state : [0 0 0 0 0 0 0 0 0 0 0 0 0 0 0 0 6 6 0 0 0 0 2 1 0 0 0 0 0 0 0 0 0 0 0 0]\n",
      "Q_values : [ 1.5493803   1.6357591   0.87651634 -2.0699635 ]\n",
      "state : [0 0 0 0 0 0 0 0 0 0 0 0 0 0 0 0 6 6 0 0 0 0 3 3 0 0 0 0 0 0 0 0 0 0 0 0]\n",
      "Q_values : [ 0.8501283   2.3615491   0.83138156 -2.1099203 ]\n",
      "state : [0 0 0 0 0 0 0 0 0 0 0 0 0 0 0 0 6 6 0 0 0 0 4 4 0 0 0 0 0 0 0 0 0 0 0 0]\n",
      "Q_values : [ 3.614788   3.3202486  0.2510159 -2.2388875]\n",
      "state : [0 0 0 0 0 0 0 0 0 0 0 0 0 0 0 0 6 6 0 0 0 0 4 4 0 0 0 0 0 0 0 0 0 0 0 0]\n",
      "Q_values : [ 3.9127917   3.0909686  -0.27152753 -1.9800451 ]\n",
      "state : [0 0 0 0 0 0 0 0 0 0 0 0 0 0 0 0 6 6 0 0 0 0 4 4 0 0 0 0 0 0 0 0 0 0 0 0]\n",
      "Q_values : [ 3.6924229  3.2668662 -0.5782454 -1.7850893]\n",
      "state : [0 0 0 0 0 0 0 0 0 0 0 0 0 0 0 0 6 6 0 0 0 0 4 4 0 0 0 0 0 0 0 0 0 0 0 0]\n",
      "Q_values : [ 3.537782   2.8546972 -1.1886585 -1.6657989]\n",
      "state : [0 0 0 0 0 0 0 0 0 0 0 0 0 0 0 0 6 6 0 0 0 0 4 4 0 0 0 0 0 0 0 0 0 0 0 0]\n",
      "Q_values : [ 2.9968708  2.5673833 -1.0066614 -1.1074147]\n",
      "state : [0 0 0 0 0 0 0 0 0 0 0 0 0 0 0 0 6 6 0 0 0 0 4 4 0 0 0 0 0 0 0 0 0 0 0 0]\n",
      "Q_values : [ 2.0876784   2.0986068  -0.62650824 -0.81835556]\n",
      "state : [0 0 0 0 0 0 0 0 0 0 0 0 0 0 0 0 6 6 0 0 0 0 4 4 0 0 0 0 0 0 0 0 0 0 0 0]\n",
      "Q_values : [ 1.710715    2.2078671  -0.4276135  -0.90404177]\n",
      "state : [0 0 0 0 0 0 0 0 0 0 0 0 0 0 0 0 6 6 0 0 0 0 4 4 0 0 0 0 0 0 0 0 0 0 0 0]\n",
      "Q_values : [ 1.4259663  1.8676028 -0.2901175 -0.94716  ]\n",
      "Step #100.00 (0ms ?*RT. ?UPS, TraCI: 33ms, vehicles TOT 33 ACT 20 BUF 0)                   \n",
      "episode : 163\n",
      " Retrying in 1 seconds\n"
     ]
    },
    {
     "name": "stderr",
     "output_type": "stream",
     "text": [
      "Warning: Environment variable SUMO_HOME is not set properly, disabling XML validation. Set 'auto' or 'always' for web lookups.\n"
     ]
    },
    {
     "name": "stdout",
     "output_type": "stream",
     "text": [
      "state : [0 0 0 0 0 0 0 0 0 0 0 0 0 0 0 0 0 0 0 0 0 0 0 0 0 0 0 0 0 0 0 0 0 0 0 0]\n",
      "Q_values : [ 1.5750787   1.7870106  -0.15175676 -1.005857  ]\n",
      "state : [0 0 0 0 0 0 0 0 0 0 0 0 0 0 0 0 0 0 0 0 0 0 0 0 0 0 0 0 0 0 0 0 0 0 0 0]\n",
      "Q_values : [ 1.8872272  2.2201488 -1.7048631 -0.9741788]\n",
      "state : [0 0 0 0 0 0 0 0 0 0 0 0 0 0 0 0 0 0 0 0 0 0 0 0 0 0 0 0 0 0 0 0 0 0 0 0]\n",
      "Q_values : [ 2.6272793   2.653082   -2.347729   -0.69300747]\n",
      "state : [0 0 0 0 0 0 0 0 0 0 0 0 0 0 0 0 0 0 0 0 0 0 0 0 0 0 0 0 0 0 0 0 0 0 0 0]\n",
      "Q_values : [ 3.027554    2.4639254  -2.6711466  -0.76618075]\n",
      "state : [0 0 0 0 0 0 0 0 0 0 0 0 0 0 0 0 0 0 0 0 0 0 0 0 0 0 0 0 0 0 0 0 0 0 0 0]\n",
      "Q_values : [ 3.2270277  2.9950614 -2.803706  -1.0974567]\n",
      "state : [0 0 0 0 0 0 0 0 0 0 0 0 0 0 1 0 1 0 0 0 0 0 0 0 0 0 0 0 0 0 0 0 0 0 0 0]\n",
      "Q_values : [ 2.3306308   3.0307803  -2.6351533  -0.31419063]\n",
      "state : [0 0 0 0 0 0 0 0 0 0 0 0 0 0 0 0 1 1 0 0 0 0 0 0 0 0 0 0 0 0 0 0 0 0 0 0]\n",
      "Q_values : [ 2.3950212   2.1197248  -2.52158     0.07962108]\n",
      "state : [0 0 0 0 0 0 0 0 0 0 0 0 0 0 0 0 2 2 0 0 0 0 0 0 0 0 0 0 0 0 0 0 0 0 0 0]\n",
      "Q_values : [ 1.8582851   1.5891871  -2.123232    0.02049708]\n",
      "state : [0 0 0 0 0 0 0 0 0 0 0 0 0 0 0 0 4 4 0 0 0 0 0 0 0 0 0 0 0 0 0 0 0 0 0 0]\n",
      "Q_values : [ 1.7574397  1.2434245 -1.4722025 -0.9293716]\n",
      "state : [0 0 0 0 0 0 0 0 0 0 0 0 0 0 0 0 6 5 0 0 0 0 1 1 0 0 0 0 0 0 0 0 0 0 0 0]\n",
      "Q_values : [ 2.194284   1.4055392 -1.2768002 -1.160639 ]\n",
      "state : [0 0 0 0 0 0 0 0 0 0 0 0 0 0 0 0 6 6 0 0 0 0 2 1 0 0 0 0 0 0 0 0 0 0 0 0]\n",
      "Q_values : [ 2.3746738  1.8230468 -1.3624542 -1.8015895]\n",
      "state : [0 0 0 0 0 0 0 0 0 0 0 0 0 0 0 0 6 6 0 0 0 0 3 3 0 0 0 0 0 0 0 0 0 0 0 0]\n",
      "Q_values : [ 1.2587745  2.468794  -1.1118174 -2.5306413]\n",
      "state : [0 0 0 0 0 0 0 0 0 0 0 0 0 0 0 0 6 6 0 0 0 0 4 4 0 0 0 0 0 0 0 0 0 0 0 0]\n",
      "Q_values : [ 2.6963477   2.2520218  -0.96223664 -2.4990387 ]\n",
      "state : [0 0 0 0 0 0 0 0 0 0 0 0 0 0 0 0 6 6 0 0 0 0 4 4 0 0 0 0 0 0 0 0 0 0 0 0]\n",
      "Q_values : [ 2.8256686   2.351541   -0.59742403 -2.722405  ]\n",
      "state : [0 0 0 0 0 0 0 0 0 0 0 0 0 0 0 0 6 6 0 0 0 0 4 4 0 0 0 0 0 0 0 0 0 0 0 0]\n",
      "Q_values : [ 2.8516536   3.2068355  -0.89903903 -2.49195   ]\n",
      "state : [0 0 0 0 0 0 0 0 0 0 0 0 0 0 0 0 6 6 0 0 0 0 4 4 0 0 0 0 0 0 0 0 0 0 0 0]\n",
      "Q_values : [ 2.230177    3.3899386  -0.69544554 -2.5423663 ]\n",
      "state : [0 0 0 0 0 0 0 0 0 0 0 0 0 0 0 0 6 6 0 0 0 0 4 4 0 0 0 0 0 0 0 0 0 0 0 0]\n",
      "Q_values : [ 2.2372775  2.856055  -0.9097688 -1.6578281]\n",
      "state : [0 0 0 0 0 0 0 0 0 0 0 0 0 0 0 0 6 6 0 0 0 0 4 4 0 0 0 0 0 0 0 0 0 0 0 0]\n",
      "Q_values : [ 1.7597289  2.8445935 -0.6386981 -0.8112674]\n",
      "state : [0 0 0 0 0 0 0 0 0 0 0 0 0 0 0 0 6 6 0 0 0 0 4 4 0 0 0 0 0 0 0 0 0 0 0 0]\n",
      "Q_values : [ 1.7251806   2.3183336  -0.9330039   0.15078712]\n",
      "state : [0 0 0 0 0 0 0 0 0 0 0 0 0 0 0 0 6 6 0 0 0 0 4 4 0 0 0 0 0 0 0 0 0 0 0 0]\n",
      "Q_values : [ 3.1111865  1.753954  -0.9329846  0.8147762]\n",
      "Step #100.00 (0ms ?*RT. ?UPS, TraCI: 31ms, vehicles TOT 33 ACT 20 BUF 0)                   \n",
      "episode : 164\n",
      " Retrying in 1 seconds\n"
     ]
    },
    {
     "name": "stderr",
     "output_type": "stream",
     "text": [
      "Warning: Environment variable SUMO_HOME is not set properly, disabling XML validation. Set 'auto' or 'always' for web lookups.\n"
     ]
    },
    {
     "name": "stdout",
     "output_type": "stream",
     "text": [
      "state : [0 0 0 0 0 0 0 0 0 0 0 0 0 0 0 0 0 0 0 0 0 0 0 0 0 0 0 0 0 0 0 0 0 0 0 0]\n",
      "Q_values : [ 2.735103   1.5205977 -1.1698177  0.8498492]\n",
      "state : [0 0 0 0 0 0 0 0 0 0 0 0 0 0 0 0 0 0 0 0 0 0 0 0 0 0 0 0 0 0 0 0 0 0 0 0]\n",
      "Q_values : [ 2.7400742   2.3518367  -1.5157154  -0.06910849]\n",
      "state : [0 0 0 0 0 0 0 0 0 0 0 0 0 0 0 0 0 0 0 0 0 0 0 0 0 0 0 0 0 0 0 0 0 0 0 0]\n",
      "Q_values : [ 2.3750896  2.7741642 -1.5313845 -0.5549414]\n",
      "state : [0 0 0 0 0 0 0 0 0 0 0 0 0 0 0 0 0 0 0 0 0 0 0 0 0 0 0 0 0 0 0 0 0 0 0 0]\n",
      "Q_values : [ 1.7655767   2.0140128  -1.3186371  -0.68684363]\n",
      "state : [0 0 0 0 0 0 0 0 0 0 0 0 0 0 0 0 0 0 0 0 0 0 0 0 0 0 0 0 0 0 0 0 0 0 0 0]\n",
      "Q_values : [ 1.6555294  1.6403441 -1.2769327 -1.1766124]\n",
      "state : [0 0 0 0 0 0 0 0 0 0 0 0 0 0 1 0 1 0 0 0 0 0 0 0 0 0 0 0 0 0 0 0 0 0 0 0]         \n",
      "Q_values : [ 1.2160745  1.924445  -1.7558954 -1.2202623]\n"
     ]
    },
    {
     "name": "stderr",
     "output_type": "stream",
     "text": [
      "Warning: Vehicle 'veh_2' performs emergency stop at the end of lane 'end1_junction_2' because of a red traffic light (decel=-20.39, offset=0.10), time=21.24.\n"
     ]
    },
    {
     "name": "stdout",
     "output_type": "stream",
     "text": [
      "state : [0 0 0 0 0 0 0 0 0 0 0 0 0 0 0 0 1 1 0 0 0 0 0 0 0 0 0 0 0 0 0 0 0 0 0 0]\n",
      "Q_values : [ 1.4192771   1.3500394  -1.5211833  -0.79632235]\n",
      "state : [0 0 0 0 0 0 0 0 0 0 0 0 0 0 0 0 2 2 0 0 0 0 0 0 0 0 0 0 0 0 0 0 0 0 0 0]\n",
      "Q_values : [ 2.5649552   1.1346687  -1.7259727  -0.52800584]\n",
      "state : [0 0 0 0 0 0 0 0 0 0 0 0 0 0 0 0 4 4 0 0 0 0 0 0 0 0 0 0 0 0 0 0 0 0 0 0]\n",
      "Q_values : [ 2.895078    2.3523579  -1.8715937  -0.12547278]\n",
      "state : [0 0 0 0 0 0 0 0 0 0 0 0 0 0 0 0 6 5 0 0 0 0 1 1 0 0 0 0 0 0 0 0 0 0 0 0]\n",
      "Q_values : [ 2.5662227  2.3767467 -1.9752557 -0.4242308]\n",
      "state : [0 0 0 0 0 0 0 0 0 0 0 0 0 0 0 0 6 6 0 0 0 0 2 1 0 0 0 0 0 0 0 0 0 0 0 0]\n",
      "Q_values : [ 2.2159033  2.2765288 -1.6400871 -0.585397 ]\n",
      "state : [0 0 0 0 0 0 0 0 0 0 0 0 0 0 0 0 6 6 0 0 0 0 3 3 0 0 0 0 0 0 0 0 0 0 0 0]\n",
      "Q_values : [ 2.4002447   1.4157293  -1.5407279  -0.61072636]\n",
      "state : [0 0 0 0 0 0 0 0 0 0 0 0 0 0 0 0 6 6 0 0 0 0 4 4 0 0 0 0 0 0 0 0 0 0 0 0]\n",
      "Q_values : [ 1.6975634  2.0365045 -1.6821039 -0.5363016]\n",
      "state : [0 0 0 0 0 0 0 0 0 0 0 0 0 0 0 0 6 6 0 0 0 0 4 4 0 0 0 0 0 0 0 0 0 0 0 0]\n",
      "Q_values : [ 1.7709863   1.5859509  -2.198683   -0.32011795]\n",
      "state : [0 0 0 0 0 0 0 0 0 0 0 0 0 0 0 0 6 6 0 0 0 0 4 4 0 0 0 0 0 0 0 0 0 0 0 0]\n",
      "Q_values : [ 1.3049959  1.3804113 -2.4275    -0.4591241]\n",
      "state : [0 0 0 0 0 0 0 0 0 0 0 0 0 0 0 0 6 6 0 0 0 0 4 4 0 0 0 0 0 0 0 0 0 0 0 0]\n",
      "Q_values : [ 1.1375968   1.8205009  -1.6838334  -0.24377394]\n",
      "state : [0 0 0 0 0 0 0 0 0 0 0 0 0 0 0 0 6 6 0 0 0 0 4 4 0 0 0 0 0 0 0 0 0 0 0 0]\n",
      "Q_values : [ 1.7230085   1.5378023  -1.4641724   0.08167553]\n",
      "state : [0 0 0 0 0 0 0 0 0 0 0 0 0 0 0 0 6 6 0 0 0 0 4 4 0 0 0 0 0 0 0 0 0 0 0 0]\n",
      "Q_values : [ 1.6920269   1.9306492  -1.2663786   0.00344539]\n",
      "state : [0 0 0 0 0 0 0 0 0 0 0 0 0 0 0 0 6 6 0 0 0 0 4 4 0 0 0 0 0 0 0 0 0 0 0 0]\n",
      "Q_values : [ 2.0669732   2.7335467  -0.7950289   0.11894155]\n",
      "state : [0 0 0 0 0 0 0 0 0 0 0 0 0 0 0 0 6 6 0 0 0 0 4 4 0 0 0 0 0 0 0 0 0 0 0 0]\n",
      "Q_values : [ 3.4221983   3.2172036  -0.3674891   0.22502685]\n",
      "Step #100.00 (0ms ?*RT. ?UPS, TraCI: 32ms, vehicles TOT 33 ACT 20 BUF 0)                   \n",
      "episode : 165\n",
      " Retrying in 1 seconds\n"
     ]
    },
    {
     "name": "stderr",
     "output_type": "stream",
     "text": [
      "Warning: Environment variable SUMO_HOME is not set properly, disabling XML validation. Set 'auto' or 'always' for web lookups.\n"
     ]
    },
    {
     "name": "stdout",
     "output_type": "stream",
     "text": [
      "state : [0 0 0 0 0 0 0 0 0 0 0 0 0 0 0 0 0 0 0 0 0 0 0 0 0 0 0 0 0 0 0 0 0 0 0 0]\n",
      "Q_values : [3.0677953  2.3665051  0.15775156 0.17042065]\n",
      "state : [0 0 0 0 0 0 0 0 0 0 0 0 0 0 0 0 0 0 0 0 0 0 0 0 0 0 0 0 0 0 0 0 0 0 0 0]\n",
      "Q_values : [2.411771   1.6616048  0.9106574  0.07630277]\n",
      "state : [0 0 0 0 0 0 0 0 0 0 0 0 0 0 0 0 0 0 0 0 0 0 0 0 0 0 0 0 0 0 0 0 0 0 0 0]\n",
      "Q_values : [ 1.8290213  1.2043867  1.4675616 -0.4138689]\n",
      "state : [0 0 0 0 0 0 0 0 0 0 0 0 0 0 0 0 0 0 0 0 0 0 0 0 0 0 0 0 0 0 0 0 0 0 0 0]\n",
      "Q_values : [ 2.180735   1.5833768  1.2466085 -0.7498996]\n",
      "state : [0 0 0 0 0 0 0 0 0 0 0 0 0 0 0 0 0 0 0 0 0 0 0 0 0 0 0 0 0 0 0 0 0 0 0 0]\n",
      "Q_values : [ 1.8201493  2.0174103  1.1484022 -1.1648161]\n",
      "state : [0 0 0 0 0 0 0 0 0 0 0 0 0 0 0 0 1 0 0 0 0 0 0 0 0 0 0 0 0 0 0 0 0 0 0 0]\n",
      "Q_values : [ 2.481062    1.8305914   0.45472693 -1.492135  ]\n",
      "state : [0 0 0 0 0 0 0 0 0 0 0 0 0 0 0 0 1 1 0 0 0 0 0 0 0 0 0 0 0 0 0 0 0 0 0 0]\n",
      "Q_values : [ 2.5592399   2.021154    0.21998572 -1.9406455 ]\n",
      "state : [0 0 0 0 0 0 0 0 0 0 0 0 0 0 0 0 2 2 0 0 0 0 0 0 0 0 0 0 0 0 0 0 0 0 0 0]\n",
      "Q_values : [ 2.2798972  2.0446527 -1.3147871 -2.3831172]\n",
      "state : [0 0 0 0 0 0 0 0 0 0 0 0 0 0 0 0 4 4 0 0 0 0 0 0 0 0 0 0 0 0 0 0 0 0 0 0]\n",
      "Q_values : [ 2.2261634  2.0519466 -1.8895397 -2.725299 ]\n",
      "state : [0 0 0 0 0 0 0 0 0 0 0 0 0 0 0 0 6 5 0 0 0 0 1 1 0 0 0 0 0 0 0 0 0 0 0 0]\n",
      "Q_values : [ 2.347208   2.1600032 -2.233797  -2.2201016]\n",
      "state : [0 0 0 0 0 0 0 0 0 0 0 0 0 0 0 0 6 6 0 0 0 0 2 1 0 0 0 0 0 0 0 0 0 0 0 0]\n",
      "Q_values : [ 1.8927683  2.1515465 -2.1543405 -2.5912125]\n",
      "state : [0 0 0 0 0 0 0 0 0 0 0 0 0 0 0 0 6 6 0 0 0 0 3 3 0 0 0 0 0 0 0 0 0 0 0 0]\n",
      "Q_values : [ 1.7132473  1.6987776 -1.9011939 -2.6052835]\n",
      "state : [0 0 0 0 0 0 0 0 0 0 0 0 0 0 0 0 6 6 0 0 0 0 4 4 0 0 0 0 0 0 0 0 0 0 0 0]\n",
      "Q_values : [ 1.808519   1.4047034 -2.449426  -2.5113804]\n",
      "state : [0 0 0 0 0 0 0 0 0 0 0 0 0 0 0 0 6 6 0 0 0 0 4 4 0 0 0 0 0 0 0 0 0 0 0 0]\n",
      "Q_values : [ 1.815788   1.682131  -2.5349944 -2.502322 ]\n",
      "state : [0 0 0 0 0 0 0 0 0 0 0 0 0 0 0 0 6 6 0 0 0 0 4 4 0 0 0 0 0 0 0 0 0 0 0 0]\n",
      "Q_values : [ 3.2420726  1.9213195 -2.6763883 -2.0778291]\n",
      "state : [0 0 0 0 0 0 0 0 0 0 0 0 0 0 0 0 6 6 0 0 0 0 4 4 0 0 0 0 0 0 0 0 0 0 0 0]\n",
      "Q_values : [ 2.2816372  2.2988315 -2.415212  -1.6456511]\n",
      "state : [0 0 0 0 0 0 0 0 0 0 0 0 0 0 0 0 6 6 0 0 0 0 4 4 0 0 0 0 0 0 0 0 0 0 0 0]\n",
      "Q_values : [ 2.076227    2.3658183  -1.9971585  -0.50695133]\n",
      "state : [0 0 0 0 0 0 0 0 0 0 0 0 0 0 0 0 6 6 0 0 0 0 4 4 0 0 0 0 0 0 0 0 0 0 0 0]\n",
      "Q_values : [ 2.2429843   2.2585838  -0.9562528   0.10750461]\n",
      "state : [0 0 0 0 0 0 0 0 0 0 0 0 0 0 0 0 6 6 0 0 0 0 4 4 0 0 0 0 0 0 0 0 0 0 0 0]\n",
      "Q_values : [2.0869899  2.2481942  0.33642435 0.66079116]\n",
      "state : [0 0 0 0 0 0 0 0 0 0 0 0 0 0 0 0 6 6 0 0 0 0 4 4 0 0 0 0 0 0 0 0 0 0 0 0]\n",
      "Q_values : [1.9789579  1.9731385  0.4798882  0.24376345]\n",
      "Step #100.00 (0ms ?*RT. ?UPS, TraCI: 31ms, vehicles TOT 33 ACT 20 BUF 0)                   \n",
      "episode : 166\n",
      " Retrying in 1 seconds\n"
     ]
    },
    {
     "name": "stderr",
     "output_type": "stream",
     "text": [
      "Warning: Environment variable SUMO_HOME is not set properly, disabling XML validation. Set 'auto' or 'always' for web lookups.\n"
     ]
    },
    {
     "name": "stdout",
     "output_type": "stream",
     "text": [
      "state : [0 0 0 0 0 0 0 0 0 0 0 0 0 0 0 0 0 0 0 0 0 0 0 0 0 0 0 0 0 0 0 0 0 0 0 0]\n",
      "Q_values : [ 1.9960854  1.6055409  0.6284876 -0.1504581]\n",
      "state : [0 0 0 0 0 0 0 0 0 0 0 0 0 0 0 0 0 0 0 0 0 0 0 0 0 0 0 0 0 0 0 0 0 0 0 0]\n",
      "Q_values : [ 1.7250638   2.0662217  -0.21089935 -0.8829417 ]\n",
      "state : [0 0 0 0 0 0 0 0 0 0 0 0 0 0 0 0 0 0 0 0 0 0 0 0 0 0 0 0 0 0 0 0 0 0 0 0]\n",
      "Q_values : [ 1.6462305   2.1358309  -0.50697017 -1.9528241 ]\n",
      "state : [0 0 0 0 0 0 0 0 0 0 0 0 0 0 0 0 0 0 0 0 0 0 0 0 0 0 0 0 0 0 0 0 0 0 0 0]\n",
      "Q_values : [ 2.4280682  1.864274  -1.165024  -2.9202545]\n",
      "state : [0 0 0 0 0 0 0 0 0 0 0 0 0 0 0 0 0 0 0 0 0 0 0 0 0 0 0 0 0 0 0 0 0 0 0 0]\n",
      "Q_values : [ 2.1979957  2.1992102 -1.55687   -2.6796649]\n",
      "state : [0 0 0 0 0 0 0 0 0 0 0 0 0 0 0 0 1 0 0 0 0 0 0 0 0 0 0 0 0 0 0 0 0 0 0 0]\n",
      "Q_values : [ 1.887273   1.714873  -1.6911175 -3.1972108]\n",
      "state : [0 0 0 0 0 0 0 0 0 0 0 0 0 0 0 0 1 1 0 0 0 0 0 0 0 0 0 0 0 0 0 0 0 0 0 0]\n",
      "Q_values : [ 1.2074373  1.6602314 -1.1543379 -2.4225988]\n",
      "state : [0 0 0 0 0 0 0 0 0 0 0 0 0 0 0 0 2 2 0 0 0 0 0 0 0 0 0 0 0 0 0 0 0 0 0 0]\n",
      "Q_values : [ 1.6365993  2.2980452 -1.0316851 -2.0320787]\n",
      "state : [0 0 0 0 0 0 0 0 0 0 0 0 0 0 0 0 4 4 0 0 0 0 0 0 0 0 0 0 0 0 0 0 0 0 0 0]\n",
      "Q_values : [ 2.4051876  2.2345223 -0.9093137 -2.0266654]\n",
      "state : [0 0 0 0 0 0 0 0 0 0 0 0 0 0 0 0 6 5 0 0 0 0 1 1 0 0 0 0 0 0 0 0 0 0 0 0]\n",
      "Q_values : [ 2.169094   2.2630086 -0.4597819 -1.8089767]\n",
      "state : [0 0 0 0 0 0 0 0 0 0 0 0 0 0 0 0 6 6 0 0 0 0 2 1 0 0 0 0 0 0 0 0 0 0 0 0]\n",
      "Q_values : [ 3.0132308   3.0310202  -0.78895783 -2.1394877 ]\n",
      "state : [0 0 0 0 0 0 0 0 0 0 0 0 0 0 0 0 6 6 0 0 0 0 3 3 0 0 0 0 0 0 0 0 0 0 0 0]\n",
      "Q_values : [ 2.0596075  1.8450762 -0.5105121 -1.9648621]\n",
      "state : [0 0 0 0 0 0 0 0 0 0 0 0 0 0 0 0 6 6 0 0 0 0 4 4 0 0 0 0 0 0 0 0 0 0 0 0]\n",
      "Q_values : [ 1.7974904   1.8651298  -0.45956683 -1.5222337 ]\n",
      "state : [0 0 0 0 0 0 0 0 0 0 0 0 0 0 0 0 6 6 0 0 0 0 4 4 0 0 0 0 0 0 0 0 0 0 0 0]\n",
      "Q_values : [ 2.0974207   1.7257115  -0.30960655 -1.4538898 ]\n",
      "state : [0 0 0 0 0 0 0 0 0 0 0 0 0 0 0 0 6 6 0 0 0 0 4 4 0 0 0 0 0 0 0 0 0 0 0 0]\n",
      "Q_values : [ 2.7185574  1.4647015 -1.1980278 -1.861253 ]\n",
      "state : [0 0 0 0 0 0 0 0 0 0 0 0 0 0 0 0 6 6 0 0 0 0 4 4 0 0 0 0 0 0 0 0 0 0 0 0]\n",
      "Q_values : [ 2.2135844  1.5165498 -1.5153475 -1.7142365]\n",
      "state : [0 0 0 0 0 0 0 0 0 0 0 0 0 0 0 0 6 6 0 0 0 0 4 4 0 0 0 0 0 0 0 0 0 0 0 0]\n",
      "Q_values : [ 2.903387   1.9430022 -1.568614  -1.5830536]\n",
      "state : [0 0 0 0 0 0 0 0 0 0 0 0 0 0 0 0 6 6 0 0 0 0 4 4 0 0 0 0 0 0 0 0 0 0 0 0]\n",
      "Q_values : [ 3.480754   2.3269336 -2.1919482 -1.6523013]\n",
      "state : [0 0 0 0 0 0 0 0 0 0 0 0 0 0 0 0 6 6 0 0 0 0 4 4 0 0 0 0 0 0 0 0 0 0 0 0]\n",
      "Q_values : [ 3.576325   3.007134  -2.4108987 -1.6532805]\n",
      "state : [0 0 0 0 0 0 0 0 0 0 0 0 0 0 0 0 6 6 0 0 0 0 4 4 0 0 0 0 0 0 0 0 0 0 0 0]\n",
      "Q_values : [ 2.7416205  3.0062017 -2.5077114 -1.4013178]\n",
      "Step #100.00 (1ms ~= 10.00*RT, ~20000.00UPS, TraCI: 30ms, vehicles TOT 33 ACT 20 BUF 0)    \n",
      "episode : 167\n",
      " Retrying in 1 seconds\n"
     ]
    },
    {
     "name": "stderr",
     "output_type": "stream",
     "text": [
      "Warning: Environment variable SUMO_HOME is not set properly, disabling XML validation. Set 'auto' or 'always' for web lookups.\n"
     ]
    },
    {
     "name": "stdout",
     "output_type": "stream",
     "text": [
      "state : [0 0 0 0 0 0 0 0 0 0 0 0 0 0 0 0 0 0 0 0 0 0 0 0 0 0 0 0 0 0 0 0 0 0 0 0]\n",
      "Q_values : [ 2.176284   1.7191067 -2.2049477 -1.5022147]\n",
      "state : [0 0 0 0 0 0 0 0 0 0 0 0 0 0 0 0 0 0 0 0 0 0 0 0 0 0 0 0 0 0 0 0 0 0 0 0]\n",
      "Q_values : [ 2.1286907  1.6087823 -1.6501341 -1.3204339]\n",
      "state : [0 0 0 0 0 0 0 0 0 0 0 0 0 0 0 0 0 0 0 0 0 0 0 0 0 0 0 0 0 0 0 0 0 0 0 0]\n",
      "Q_values : [ 2.906795   1.6053009 -1.8716891 -1.0789115]\n",
      "state : [0 0 0 0 0 0 0 0 0 0 0 0 0 0 0 0 0 0 0 0 0 0 0 0 0 0 0 0 0 0 0 0 0 0 0 0]\n",
      "Q_values : [ 2.489788   3.4115186 -1.2706873 -1.300844 ]\n",
      "state : [0 0 0 0 0 0 0 0 0 0 0 0 0 0 0 0 0 0 0 0 0 0 0 0 0 0 0 0 0 0 0 0 0 0 0 0]\n",
      "Q_values : [ 3.2772465   3.776605   -0.93569875 -0.9916086 ]\n",
      "state : [0 0 0 0 0 0 0 0 0 0 0 0 0 1 0 0 1 0 0 0 0 0 0 0 0 0 0 0 0 0 0 0 0 0 0 0]\n",
      "Q_values : [ 3.153151   3.1135416 -0.6647446 -1.2335839]\n",
      "state : [0 0 0 0 0 0 0 0 0 0 0 0 0 0 0 0 1 1 0 0 0 0 0 0 0 0 0 0 0 0 0 0 0 0 0 0]\n",
      "Q_values : [ 2.284737    2.7097492  -0.27199984 -1.0912704 ]\n",
      "state : [0 0 0 0 0 0 0 0 0 0 0 0 0 0 0 0 2 2 0 0 0 0 0 0 0 0 0 0 0 0 0 0 0 0 0 0]\n",
      "Q_values : [ 1.3926187  2.3129926 -0.8842664 -0.8880112]\n",
      "state : [0 0 0 0 0 0 0 0 0 0 0 0 0 0 0 0 4 4 0 0 0 0 0 0 0 0 0 0 0 0 0 0 0 0 0 0]\n",
      "Q_values : [ 0.72722095  0.7356417  -1.4041045  -0.6452944 ]\n",
      "state : [0 0 0 0 0 0 0 0 0 0 0 0 0 0 0 0 6 5 0 0 0 0 1 1 0 0 0 0 0 0 0 0 0 0 0 0]\n",
      "Q_values : [ 0.67584133  1.5458589  -1.9154925  -0.4920435 ]\n",
      "state : [0 0 0 0 0 0 0 0 0 0 0 0 0 0 0 0 6 6 0 0 0 0 2 1 0 0 0 0 0 0 0 0 0 0 0 0]\n",
      "Q_values : [ 1.59114     1.9336734  -1.7772672  -0.33617187]\n",
      "state : [0 0 0 0 0 0 0 0 0 0 0 0 0 0 0 0 6 6 0 0 0 0 3 3 0 0 0 0 0 0 0 0 0 0 0 0]\n",
      "Q_values : [ 1.9837537   2.4771478  -2.36684    -0.95248604]\n",
      "state : [0 0 0 0 0 0 0 0 0 0 0 0 0 0 0 0 6 6 0 0 0 0 4 4 0 0 0 0 0 0 0 0 0 0 0 0]\n",
      "Q_values : [ 2.2996745  2.3281772 -2.7479897 -2.5945354]\n",
      "state : [0 0 0 0 0 0 0 0 0 0 0 0 0 0 0 0 6 6 0 0 0 0 4 4 0 0 0 0 0 0 0 0 0 0 0 0]\n",
      "Q_values : [ 2.2767005  2.0127625 -2.545495  -3.4732375]\n",
      "state : [0 0 0 0 0 0 0 0 0 0 0 0 0 0 0 0 6 6 0 0 0 0 4 4 0 0 0 0 0 0 0 0 0 0 0 0]\n",
      "Q_values : [ 1.8535252  1.8947581 -1.8696573 -3.3602324]\n",
      "state : [0 0 0 0 0 0 0 0 0 0 0 0 0 0 0 0 6 6 0 0 0 0 4 4 0 0 0 0 0 0 0 0 0 0 0 0]\n",
      "Q_values : [ 2.6227002  2.200309  -1.6091273 -3.377808 ]\n",
      "state : [0 0 0 0 0 0 0 0 0 0 0 0 0 0 0 0 6 6 0 0 0 0 4 4 0 0 0 0 0 0 0 0 0 0 0 0]\n",
      "Q_values : [ 2.7760339  3.1324787 -1.4569232 -2.9413602]\n",
      "state : [0 0 0 0 0 0 0 0 0 0 0 0 0 0 0 0 6 6 0 0 0 0 4 4 0 0 0 0 0 0 0 0 0 0 0 0]\n",
      "Q_values : [ 3.5442557  2.4242306 -0.7440748 -2.3222117]\n",
      "state : [0 0 0 0 0 0 0 0 0 0 0 0 0 0 0 0 6 6 0 0 0 0 4 4 0 0 0 0 0 0 0 0 0 0 0 0]\n",
      "Q_values : [ 3.4899807  2.078859  -1.1849444 -2.1200345]\n",
      "state : [0 0 0 0 0 0 0 0 0 0 0 0 0 0 0 0 6 6 0 0 0 0 4 4 0 0 0 0 0 0 0 0 0 0 0 0]\n",
      "Q_values : [ 2.8350596  3.4480867 -1.5314498 -1.7756214]\n",
      "Step #100.00 (0ms ?*RT. ?UPS, TraCI: 31ms, vehicles TOT 33 ACT 20 BUF 0)                   \n",
      "episode : 168\n",
      " Retrying in 1 seconds\n"
     ]
    },
    {
     "name": "stderr",
     "output_type": "stream",
     "text": [
      "Warning: Environment variable SUMO_HOME is not set properly, disabling XML validation. Set 'auto' or 'always' for web lookups.\n"
     ]
    },
    {
     "name": "stdout",
     "output_type": "stream",
     "text": [
      "state : [0 0 0 0 0 0 0 0 0 0 0 0 0 0 0 0 0 0 0 0 0 0 0 0 0 0 0 0 0 0 0 0 0 0 0 0]\n",
      "Q_values : [ 2.1773953  2.9325519 -1.3146594 -1.6514142]\n",
      "state : [0 0 0 0 0 0 0 0 0 0 0 0 0 0 0 0 0 0 0 0 0 0 0 0 0 0 0 0 0 0 0 0 0 0 0 0]\n",
      "Q_values : [ 1.6916049  2.1048176 -1.1081083 -1.8050611]\n",
      "state : [0 0 0 0 0 0 0 0 0 0 0 0 0 0 0 0 0 0 0 0 0 0 0 0 0 0 0 0 0 0 0 0 0 0 0 0]\n",
      "Q_values : [ 2.4358184   1.972261   -0.72208786 -1.7872906 ]\n",
      "state : [0 0 0 0 0 0 0 0 0 0 0 0 0 0 0 0 0 0 0 0 0 0 0 0 0 0 0 0 0 0 0 0 0 0 0 0]\n",
      "Q_values : [ 2.3334641  1.7251252 -0.51088   -1.8377793]\n",
      "state : [0 0 0 0 0 0 0 0 0 0 0 0 0 0 0 0 0 0 0 0 0 0 0 0 0 0 0 0 0 0 0 0 0 0 0 0]\n",
      "Q_values : [ 1.8788848  2.6584656 -0.4518485 -1.8517303]\n",
      "state : [0 0 0 0 0 0 0 0 0 0 0 0 0 0 0 0 1 0 0 0 0 0 0 0 0 0 0 0 0 0 0 0 0 0 0 0]\n",
      "Q_values : [ 1.8906828  2.5791903 -0.8471122 -1.0048518]\n",
      "state : [0 0 0 0 0 0 0 0 0 0 0 0 0 0 0 0 1 1 0 0 0 0 0 0 0 0 0 0 0 0 0 0 0 0 0 0]\n",
      "Q_values : [ 1.4971006  2.3311727 -1.276335  -1.2257822]\n",
      "state : [0 0 0 0 0 0 0 0 0 0 0 0 0 0 0 0 2 2 0 0 0 0 0 0 0 0 0 0 0 0 0 0 0 0 0 0]\n",
      "Q_values : [ 2.1336594  1.6452343 -2.1585667 -0.6934564]\n",
      "state : [0 0 0 0 0 0 0 0 0 0 0 0 0 0 0 0 4 4 0 0 0 0 0 0 0 0 0 0 0 0 0 0 0 0 0 0]\n",
      "Q_values : [ 2.2309566   2.941793   -2.4319055  -0.19336104]\n",
      "state : [0 0 0 0 0 0 0 0 0 0 0 0 0 0 0 0 6 5 0 0 0 0 1 1 0 0 0 0 0 0 0 0 0 0 0 0]\n",
      "Q_values : [ 2.3807325   2.3598516  -2.5992007   0.14417005]\n",
      "state : [0 0 0 0 0 0 0 0 0 0 0 0 0 0 0 0 6 6 0 0 0 0 2 1 0 0 0 0 0 0 0 0 0 0 0 0]\n",
      "Q_values : [ 1.3238913   2.4007049  -2.1959164   0.44810152]\n",
      "state : [0 0 0 0 0 0 0 0 0 0 0 0 0 0 0 0 6 6 0 0 0 0 3 3 0 0 0 0 0 0 0 0 0 0 0 0]\n",
      "Q_values : [ 2.5489137   2.355188   -1.9090228   0.82361984]\n",
      "state : [0 0 0 0 0 0 0 0 0 0 0 0 0 0 0 0 6 6 0 0 0 0 4 4 0 0 0 0 0 0 0 0 0 0 0 0]\n",
      "Q_values : [ 2.1754231  1.4106702 -1.7336671  1.1745586]\n",
      "state : [0 0 0 0 0 0 0 0 0 0 0 0 0 0 0 0 6 6 0 0 0 0 4 4 0 0 0 0 0 0 0 0 0 0 0 0]\n",
      "Q_values : [ 1.9134269  1.9500943 -1.5873897  0.90785  ]\n",
      "state : [0 0 0 0 0 0 0 0 0 0 0 0 0 0 0 0 6 6 0 0 0 0 4 4 0 0 0 0 0 0 0 0 0 0 0 0]\n",
      "Q_values : [ 1.896997   1.4845368 -1.4556742  0.9300816]\n",
      "state : [0 0 0 0 0 0 0 0 0 0 0 0 0 0 0 0 6 6 0 0 0 0 4 4 0 0 0 0 0 0 0 0 0 0 0 0]\n",
      "Q_values : [ 2.5167327  2.334951  -0.7877283  0.9513476]\n",
      "state : [0 0 0 0 0 0 0 0 0 0 0 0 0 0 0 0 6 6 0 0 0 0 4 4 0 0 0 0 0 0 0 0 0 0 0 0]\n",
      "Q_values : [ 3.5123327   2.4424734  -0.24279499  0.7872293 ]\n",
      "state : [0 0 0 0 0 0 0 0 0 0 0 0 0 0 0 0 6 6 0 0 0 0 4 4 0 0 0 0 0 0 0 0 0 0 0 0]\n",
      "Q_values : [3.5310183  2.862589   0.15127277 0.8596473 ]\n",
      "state : [0 0 0 0 0 0 0 0 0 0 0 0 0 0 0 0 6 6 0 0 0 0 4 4 0 0 0 0 0 0 0 0 0 0 0 0]\n",
      "Q_values : [3.4095302  2.855424   0.05248928 1.2369108 ]\n",
      "Step #100.00 (0ms ?*RT. ?UPS, TraCI: 30ms, vehicles TOT 33 ACT 20 BUF 0)                   \n",
      "episode : 169\n",
      " Retrying in 1 seconds\n"
     ]
    },
    {
     "name": "stderr",
     "output_type": "stream",
     "text": [
      "Warning: Environment variable SUMO_HOME is not set properly, disabling XML validation. Set 'auto' or 'always' for web lookups.\n"
     ]
    },
    {
     "name": "stdout",
     "output_type": "stream",
     "text": [
      "state : [0 0 0 0 0 0 0 0 0 0 0 0 0 0 0 0 0 0 0 0 0 0 0 0 0 0 0 0 0 0 0 0 0 0 0 0]\n",
      "Q_values : [ 3.4371185   2.8602462  -0.09168124  1.2251999 ]\n",
      "state : [0 0 0 0 0 0 0 0 0 0 0 0 0 0 0 0 0 0 0 0 0 0 0 0 0 0 0 0 0 0 0 0 0 0 0 0]\n",
      "Q_values : [2.9135318  3.04945    0.08963656 1.3004799 ]\n",
      "state : [0 0 0 0 0 0 0 0 0 0 0 0 0 0 0 0 0 0 0 0 0 0 0 0 0 0 0 0 0 0 0 0 0 0 0 0]\n",
      "Q_values : [ 2.0137734   2.286428   -0.07213855  0.8388641 ]\n",
      "state : [0 0 0 0 0 0 0 0 0 0 0 0 0 0 0 0 0 0 0 0 0 0 0 0 0 0 0 0 0 0 0 0 0 0 0 0]\n",
      "Q_values : [ 1.8183485   1.9730579  -0.03671885  0.6872604 ]\n",
      "state : [0 0 0 0 0 0 0 0 0 0 0 0 0 0 0 0 0 0 0 0 0 0 0 0 0 0 0 0 0 0 0 0 0 0 0 0]\n",
      "Q_values : [ 1.9181745   2.6783      0.16265225 -0.30229235]\n",
      "state : [0 0 0 0 0 0 0 0 0 0 0 0 0 1 0 0 1 0 0 0 0 0 0 0 0 0 0 0 0 0 0 0 0 0 0 0]\n",
      "Q_values : [ 2.428369    2.8976746   0.49344373 -1.1144919 ]\n",
      "state : [0 0 0 0 0 0 0 0 0 0 0 0 0 1 0 0 1 1 0 0 0 0 0 0 0 0 0 0 0 0 0 0 0 0 0 0]\n",
      "Q_values : [ 2.706336    2.9089394   0.39547682 -1.4511883 ]\n",
      "state : [0 0 0 0 0 0 0 0 0 0 0 0 0 1 0 0 2 2 0 0 0 0 0 0 0 0 0 0 0 0 0 0 0 0 0 0]\n",
      "Q_values : [ 2.538342    2.4432101  -0.49352145 -1.8693016 ]\n",
      "state : [0 0 0 0 0 0 0 0 0 0 0 0 0 0 0 0 4 4 0 0 0 0 0 0 0 0 0 0 0 0 0 0 0 0 0 0]\n",
      "Q_values : [ 2.0705533   2.3813205  -0.49677944 -2.9661624 ]\n",
      "state : [0 0 0 0 0 0 0 0 0 0 0 0 0 0 0 0 6 5 0 0 0 0 1 1 0 0 0 0 0 0 0 0 0 0 0 0]\n",
      "Q_values : [ 1.6933893  2.397588  -0.554662  -4.8030334]\n",
      "state : [0 0 0 0 0 0 0 0 0 0 0 0 0 0 0 0 6 6 0 0 0 0 2 1 0 0 0 0 0 0 0 0 0 0 0 0]\n",
      "Q_values : [ 2.3848562   3.0635185  -0.40811348 -5.4837523 ]\n",
      "state : [0 0 0 0 0 0 0 0 0 0 0 0 0 0 0 0 6 6 0 0 0 0 3 3 0 0 0 0 0 0 0 0 0 0 0 0]\n",
      "Q_values : [ 3.204199    2.924953   -0.26526213 -6.290161  ]\n",
      "state : [0 0 0 0 0 0 0 0 0 0 0 0 0 0 0 0 6 6 0 0 0 0 4 4 0 0 0 0 0 0 0 0 0 0 0 0]\n",
      "Q_values : [ 2.3509996   2.9425945   0.05289507 -6.4789124 ]\n",
      "state : [0 0 0 0 0 0 0 0 0 0 0 0 0 0 0 0 6 6 0 0 0 0 4 4 0 0 0 0 0 0 0 0 0 0 0 0]\n",
      "Q_values : [ 3.301525    3.6345377   0.24841785 -5.283446  ]\n",
      "state : [0 0 0 0 0 0 0 0 0 0 0 0 0 0 0 0 6 6 0 0 0 0 4 4 0 0 0 0 0 0 0 0 0 0 0 0]\n",
      "Q_values : [ 2.9223416   3.3473816   0.16017675 -4.974054  ]\n",
      "state : [0 0 0 0 0 0 0 0 0 0 0 0 0 0 0 0 6 6 0 0 0 0 4 4 0 0 0 0 0 0 0 0 0 0 0 0]\n",
      "Q_values : [ 2.4524171  2.6890218 -1.1418393 -4.695465 ]\n",
      "state : [0 0 0 0 0 0 0 0 0 0 0 0 0 0 0 0 6 6 0 0 0 0 4 4 0 0 0 0 0 0 0 0 0 0 0 0]\n",
      "Q_values : [ 2.4799638  2.177331  -1.6476362 -4.713748 ]\n",
      "state : [0 0 0 0 0 0 0 0 0 0 0 0 0 0 0 0 6 6 0 0 0 0 4 4 0 0 0 0 0 0 0 0 0 0 0 0]\n",
      "Q_values : [ 1.4747285  1.6499556 -2.267471  -4.1979704]\n",
      "state : [0 0 0 0 0 0 0 0 0 0 0 0 0 0 0 0 6 6 0 0 0 0 4 4 0 0 0 0 0 0 0 0 0 0 0 0]\n",
      "Q_values : [ 1.2456169  2.1949232 -2.601236  -4.260716 ]\n",
      "state : [0 0 0 0 0 0 0 0 0 0 0 0 0 0 0 0 6 6 0 0 0 0 4 4 0 0 0 0 0 0 0 0 0 0 0 0]\n",
      "Q_values : [ 1.9735633  1.4967829 -2.9744608 -3.541246 ]\n",
      "Step #100.00 (0ms ?*RT. ?UPS, TraCI: 30ms, vehicles TOT 33 ACT 20 BUF 0)                   \n",
      "episode : 170\n",
      " Retrying in 1 seconds\n"
     ]
    },
    {
     "name": "stderr",
     "output_type": "stream",
     "text": [
      "Warning: Environment variable SUMO_HOME is not set properly, disabling XML validation. Set 'auto' or 'always' for web lookups.\n"
     ]
    },
    {
     "name": "stdout",
     "output_type": "stream",
     "text": [
      "state : [0 0 0 0 0 0 0 0 0 0 0 0 0 0 0 0 0 0 0 0 0 0 0 0 0 0 0 0 0 0 0 0 0 0 0 0]\n",
      "Q_values : [ 2.471881   2.0952425 -2.7765067 -1.4140053]\n",
      "state : [0 0 0 0 0 0 0 0 0 0 0 0 0 0 0 0 0 0 0 0 0 0 0 0 0 0 0 0 0 0 0 0 0 0 0 0]\n",
      "Q_values : [ 3.1788356   2.834958   -3.1192768  -0.43386602]\n",
      "state : [0 0 0 0 0 0 0 0 0 0 0 0 0 0 0 0 0 0 0 0 0 0 0 0 0 0 0 0 0 0 0 0 0 0 0 0]\n",
      "Q_values : [ 2.1866274   2.621766   -3.3009124   0.49369144]\n",
      "state : [0 0 0 0 0 0 0 0 0 0 0 0 0 0 0 0 0 0 0 0 0 0 0 0 0 0 0 0 0 0 0 0 0 0 0 0]\n",
      "Q_values : [ 2.071029   2.7166023 -3.044519   0.9771006]\n",
      "state : [0 0 0 0 0 0 0 0 0 0 0 0 0 0 0 0 0 0 0 0 0 0 0 0 0 0 0 0 0 0 0 0 0 0 0 0]\n",
      "Q_values : [ 2.233776    2.5068338  -2.6480033   0.27455807]\n",
      "state : [0 0 0 0 0 0 0 0 0 0 0 0 0 1 0 0 1 0 0 0 0 0 0 0 0 0 0 0 0 0 0 0 0 0 0 0]\n",
      "Q_values : [ 2.4981785  2.1427011 -2.612148   0.2581296]\n",
      "state : [0 0 0 0 0 0 0 0 0 0 0 0 0 0 0 0 1 1 0 0 0 0 0 0 0 0 0 0 0 0 0 0 0 0 0 0]\n",
      "Q_values : [ 2.590763    1.4484859  -2.5095475  -0.02964568]\n",
      "state : [0 0 0 0 0 0 0 0 0 0 0 0 0 0 0 0 2 2 0 0 0 0 0 0 0 0 0 0 0 0 0 0 0 0 0 0]\n",
      "Q_values : [ 1.9998227   3.2527118  -2.4171658  -0.49988484]\n",
      "state : [0 0 0 0 0 0 0 0 0 0 0 0 0 0 0 0 4 4 0 0 0 0 0 0 0 0 0 0 0 0 0 0 0 0 0 0]\n",
      "Q_values : [ 2.7246866  2.469665  -2.4633431 -1.2958233]\n",
      "state : [0 0 0 0 0 0 0 0 0 0 0 0 0 0 0 0 6 5 0 0 0 0 1 1 0 0 0 0 0 0 0 0 0 0 0 0]\n",
      "Q_values : [ 3.2827728  2.906052  -1.9261122 -2.2591069]\n",
      "state : [0 0 0 0 0 0 0 0 0 0 0 0 0 0 0 0 6 6 0 0 0 0 3 3 0 0 0 0 0 0 0 0 0 0 0 0]\n",
      "Q_values : [ 2.5651631   2.4226499  -0.04297376 -3.856228  ]\n",
      "state : [0 0 0 0 0 0 0 0 0 0 0 0 0 0 0 0 6 6 0 0 0 0 4 4 0 0 0 0 0 0 0 0 0 0 0 0]\n",
      "Q_values : [ 1.8212078   1.8185754  -0.00751781 -3.768384  ]\n",
      "state : [0 0 0 0 0 0 0 0 0 0 0 0 0 0 0 0 6 6 0 0 0 0 4 4 0 0 0 0 0 0 0 0 0 0 0 0]\n",
      "Q_values : [ 1.406893   1.1597027  0.2815485 -3.2810392]\n",
      "state : [0 0 0 0 0 0 0 0 0 0 0 0 0 0 0 0 6 6 0 0 0 0 4 4 0 0 0 0 0 0 0 0 0 0 0 0]\n",
      "Q_values : [ 1.6422623   1.6844366   0.62751245 -3.2775497 ]\n",
      "state : [0 0 0 0 0 0 0 0 0 0 0 0 0 0 0 0 6 6 0 0 0 0 4 4 0 0 0 0 0 0 0 0 0 0 0 0]\n",
      "Q_values : [ 1.790286   1.465822  -0.4246688 -4.0395937]\n",
      "state : [0 0 0 0 0 0 0 0 0 0 0 0 0 0 0 0 6 6 0 0 0 0 4 4 0 0 0 0 0 0 0 0 0 0 0 0]\n",
      "Q_values : [ 2.1474762   1.554496   -0.88329744 -4.089055  ]\n",
      "state : [0 0 0 0 0 0 0 0 0 0 0 0 0 0 0 0 6 6 0 0 0 0 4 4 0 0 0 0 0 0 0 0 0 0 0 0]\n",
      "Q_values : [ 2.3582804  2.1401181 -1.2308877 -4.5846252]\n",
      "state : [0 0 0 0 0 0 0 0 0 0 0 0 0 0 0 0 6 6 0 0 0 0 4 4 0 0 0 0 0 0 0 0 0 0 0 0]\n",
      "Q_values : [ 2.7386575  2.77026   -1.1500123 -3.9563332]\n",
      "state : [0 0 0 0 0 0 0 0 0 0 0 0 0 0 0 0 6 6 0 0 0 0 4 4 0 0 0 0 0 0 0 0 0 0 0 0]\n",
      "Q_values : [ 2.7704487  2.055313  -1.5974805 -3.8258755]\n",
      "Step #100.00 (0ms ?*RT. ?UPS, TraCI: 29ms, vehicles TOT 33 ACT 20 BUF 0)                   \n",
      "episode : 171\n",
      " Retrying in 1 seconds\n"
     ]
    },
    {
     "name": "stderr",
     "output_type": "stream",
     "text": [
      "Warning: Environment variable SUMO_HOME is not set properly, disabling XML validation. Set 'auto' or 'always' for web lookups.\n"
     ]
    },
    {
     "name": "stdout",
     "output_type": "stream",
     "text": [
      "state : [0 0 0 0 0 0 0 0 0 0 0 0 0 0 0 0 0 0 0 0 0 0 0 0 0 0 0 0 0 0 0 0 0 0 0 0]\n",
      "Q_values : [ 2.1362162  2.689155  -1.8422692 -3.107628 ]\n",
      "state : [0 0 0 0 0 0 0 0 0 0 0 0 0 0 0 0 0 0 0 0 0 0 0 0 0 0 0 0 0 0 0 0 0 0 0 0]\n",
      "Q_values : [ 1.5983577  2.6265898 -2.5241218 -2.7456298]\n",
      "state : [0 0 0 0 0 0 0 0 0 0 0 0 0 0 0 0 0 0 0 0 0 0 0 0 0 0 0 0 0 0 0 0 0 0 0 0]\n",
      "Q_values : [ 2.833683   3.0780406 -2.96346   -2.4196656]\n",
      "state : [0 0 0 0 0 0 0 0 0 0 0 0 0 0 0 0 0 0 0 0 0 0 0 0 0 0 0 0 0 0 0 0 0 0 0 0]\n",
      "Q_values : [ 2.6372256  2.9270446 -2.795467  -1.2568619]\n",
      "state : [0 0 0 0 0 0 0 0 0 0 0 0 0 0 0 0 0 0 0 0 0 0 0 0 0 0 0 0 0 0 0 0 0 0 0 0]\n",
      "Q_values : [ 3.3004124  3.2532063 -3.0169523 -0.4260118]\n",
      "state : [0 0 0 0 0 0 0 0 0 0 0 0 0 0 1 0 1 0 0 0 0 0 0 0 0 0 0 0 0 0 0 0 0 0 0 0]         \n",
      "Q_values : [ 3.0512705   2.2862754  -2.8449667   0.65796375]\n"
     ]
    },
    {
     "name": "stderr",
     "output_type": "stream",
     "text": [
      "Warning: Vehicle 'veh_2' performs emergency stop at the end of lane 'end1_junction_2' because of a red traffic light (decel=-20.39, offset=0.10), time=21.24.\n"
     ]
    },
    {
     "name": "stdout",
     "output_type": "stream",
     "text": [
      "state : [0 0 0 0 0 0 0 0 0 0 0 0 0 0 1 0 1 1 0 0 0 0 0 0 0 0 0 0 0 0 0 0 0 0 0 0]\n",
      "Q_values : [ 2.2180858  1.9419497 -1.9010074  1.1224992]\n",
      "state : [0 0 0 0 0 0 0 0 0 0 0 0 0 0 1 0 2 2 0 0 0 0 0 0 0 0 0 0 0 0 0 0 0 0 0 0]\n",
      "Q_values : [ 1.7884471  2.0458403 -1.2906041  1.7530918]\n",
      "state : [0 0 0 0 0 0 0 0 0 0 0 0 0 0 0 0 4 4 0 0 0 0 0 0 0 0 0 0 0 0 0 0 0 0 0 0]\n",
      "Q_values : [ 1.6327083  1.6572697 -1.2029772  0.5963454]\n",
      "state : [0 0 0 0 0 0 0 0 0 0 0 0 0 0 0 0 6 5 0 0 0 0 1 1 0 0 0 0 0 0 0 0 0 0 0 0]\n",
      "Q_values : [ 0.94677657  0.92412007 -0.6755483   0.3562553 ]\n",
      "state : [0 0 0 0 0 0 0 0 0 0 0 0 0 0 0 0 6 6 0 0 0 0 2 1 0 0 0 0 0 0 0 0 0 0 0 0]\n",
      "Q_values : [ 1.2253064   0.6500987  -0.25330925 -0.9728937 ]\n",
      "state : [0 0 0 0 0 0 0 0 0 0 0 0 0 0 0 0 6 6 0 0 0 0 3 3 0 0 0 0 0 0 0 0 0 0 0 0]\n",
      "Q_values : [ 2.0983143   1.5981942  -0.27710342 -1.6421092 ]\n",
      "state : [0 0 0 0 0 0 0 0 0 0 0 0 0 0 0 0 6 6 0 0 0 0 4 4 0 0 0 0 0 0 0 0 0 0 0 0]\n",
      "Q_values : [ 1.8909819   1.8820584   0.12359238 -2.0619702 ]\n",
      "state : [0 0 0 0 0 0 0 0 0 0 0 0 0 0 0 0 6 6 0 0 0 0 4 4 0 0 0 0 0 0 0 0 0 0 0 0]\n",
      "Q_values : [ 2.011663    1.9446663   0.25032806 -1.8465006 ]\n",
      "state : [0 0 0 0 0 0 0 0 0 0 0 0 0 0 0 0 6 6 0 0 0 0 4 4 0 0 0 0 0 0 0 0 0 0 0 0]\n",
      "Q_values : [ 2.1732063  2.792356   0.4029932 -1.3258657]\n",
      "state : [0 0 0 0 0 0 0 0 0 0 0 0 0 0 0 0 6 6 0 0 0 0 4 4 0 0 0 0 0 0 0 0 0 0 0 0]\n",
      "Q_values : [ 2.5902827   2.8214905   0.20761108 -1.164511  ]\n",
      "state : [0 0 0 0 0 0 0 0 0 0 0 0 0 0 0 0 6 6 0 0 0 0 4 4 0 0 0 0 0 0 0 0 0 0 0 0]\n",
      "Q_values : [ 1.9151169   1.5478674  -1.0024877  -0.64047575]\n",
      "state : [0 0 0 0 0 0 0 0 0 0 0 0 0 0 0 0 6 6 0 0 0 0 4 4 0 0 0 0 0 0 0 0 0 0 0 0]\n",
      "Q_values : [ 2.1863616   2.067428   -1.938662   -0.34811902]\n",
      "state : [0 0 0 0 0 0 0 0 0 0 0 0 0 0 0 0 6 6 0 0 0 0 4 4 0 0 0 0 0 0 0 0 0 0 0 0]\n",
      "Q_values : [ 1.5943047  2.4576547 -2.243496  -0.3268752]\n",
      "state : [0 0 0 0 0 0 0 0 0 0 0 0 0 0 0 0 6 6 0 0 0 0 4 4 0 0 0 0 0 0 0 0 0 0 0 0]\n",
      "Q_values : [ 1.6418934  1.863846  -2.819969  -1.1671665]\n",
      "Step #100.00 (0ms ?*RT. ?UPS, TraCI: 28ms, vehicles TOT 33 ACT 20 BUF 0)                   \n",
      "episode : 172\n",
      " Retrying in 1 seconds\n"
     ]
    },
    {
     "name": "stderr",
     "output_type": "stream",
     "text": [
      "Warning: Environment variable SUMO_HOME is not set properly, disabling XML validation. Set 'auto' or 'always' for web lookups.\n"
     ]
    },
    {
     "name": "stdout",
     "output_type": "stream",
     "text": [
      "state : [0 0 0 0 0 0 0 0 0 0 0 0 0 0 0 0 0 0 0 0 0 0 0 0 0 0 0 0 0 0 0 0 0 0 0 0]\n",
      "Q_values : [ 2.0048923  1.9689397 -2.7620308 -0.552124 ]\n",
      "state : [0 0 0 0 0 0 0 0 0 0 0 0 0 0 0 0 0 0 0 0 0 0 0 0 0 0 0 0 0 0 0 0 0 0 0 0]\n",
      "Q_values : [ 2.1949492  1.8011602 -3.408265  -0.7920337]\n",
      "state : [0 0 0 0 0 0 0 0 0 0 0 0 0 0 0 0 0 0 0 0 0 0 0 0 0 0 0 0 0 0 0 0 0 0 0 0]\n",
      "Q_values : [ 1.9006926  2.040431  -3.0922713 -1.2514803]\n",
      "state : [0 0 0 0 0 0 0 0 0 0 0 0 0 0 0 0 0 0 0 0 0 0 0 0 0 0 0 0 0 0 0 0 0 0 0 0]\n",
      "Q_values : [ 1.6688445  3.0432208 -3.7958302 -1.0235727]\n",
      "state : [0 0 0 0 0 0 0 0 0 0 0 0 0 0 0 0 0 0 0 0 0 0 0 0 0 0 0 0 0 0 0 0 0 0 0 0]\n",
      "Q_values : [ 1.9874179  2.0759435 -3.7088382 -1.0291395]\n",
      "state : [0 0 0 0 0 0 0 0 0 0 0 0 0 1 0 0 1 0 0 0 0 0 0 0 0 0 0 0 0 0 0 0 0 0 0 0]\n",
      "Q_values : [ 2.526596   1.385125  -3.499275  -1.0341506]\n",
      "state : [0 0 0 0 0 0 0 0 0 0 0 0 0 0 0 0 1 1 0 0 0 0 0 0 0 0 0 0 0 0 0 0 0 0 0 0]\n",
      "Q_values : [ 2.71489    1.1531116 -2.0494657 -1.406549 ]\n",
      "state : [0 0 0 0 0 0 0 0 0 0 0 0 0 0 0 0 2 2 0 0 0 0 0 0 0 0 0 0 0 0 0 0 0 0 0 0]\n",
      "Q_values : [ 2.3569572  1.8027562 -0.9363277 -1.0030298]\n",
      "state : [0 0 0 0 0 0 0 0 0 0 0 0 0 0 0 0 4 4 0 0 0 0 0 0 0 0 0 0 0 0 0 0 0 0 0 0]\n",
      "Q_values : [ 2.3282304   2.0344858  -0.16061139 -0.9629195 ]\n",
      "state : [0 0 0 0 0 0 0 0 0 0 0 0 0 0 0 0 6 5 0 0 0 0 1 1 0 0 0 0 0 0 0 0 0 0 0 0]\n",
      "Q_values : [ 2.237691    1.7699325  -0.8688283  -0.61056066]\n",
      "state : [0 0 0 0 0 0 0 0 0 0 0 0 0 0 0 0 6 6 0 0 0 0 2 1 0 0 0 0 0 0 0 0 0 0 0 0]\n",
      "Q_values : [ 2.3325377   2.4790943  -0.9790144  -0.17645764]\n",
      "state : [0 0 0 0 0 0 0 0 0 0 0 0 0 0 0 0 6 6 0 0 0 0 3 3 0 0 0 0 0 0 0 0 0 0 0 0]\n",
      "Q_values : [ 2.0541909   2.5804093  -1.2547092   0.09396172]\n",
      "state : [0 0 0 0 0 0 0 0 0 0 0 0 0 0 0 0 6 6 0 0 0 0 4 4 0 0 0 0 0 0 0 0 0 0 0 0]\n",
      "Q_values : [ 2.072064    3.3413548  -1.1782634  -0.01832652]\n",
      "state : [0 0 0 0 0 0 0 0 0 0 0 0 0 0 0 0 6 6 0 0 0 0 4 4 0 0 0 0 0 0 0 0 0 0 0 0]\n",
      "Q_values : [ 2.1063652   1.9984398  -0.8792846   0.16443491]\n",
      "state : [0 0 0 0 0 0 0 0 0 0 0 0 0 0 0 0 6 6 0 0 0 0 4 4 0 0 0 0 0 0 0 0 0 0 0 0]\n",
      "Q_values : [ 1.9699962   1.1716866  -0.37206864 -0.15044665]\n",
      "state : [0 0 0 0 0 0 0 0 0 0 0 0 0 0 0 0 6 6 0 0 0 0 4 4 0 0 0 0 0 0 0 0 0 0 0 0]\n",
      "Q_values : [ 2.2560086   1.6493361  -0.10219216 -0.07756424]\n",
      "state : [0 0 0 0 0 0 0 0 0 0 0 0 0 0 0 0 6 6 0 0 0 0 4 4 0 0 0 0 0 0 0 0 0 0 0 0]\n",
      "Q_values : [ 2.2841592   2.094716    0.14082003 -0.60383654]\n",
      "state : [0 0 0 0 0 0 0 0 0 0 0 0 0 0 0 0 6 6 0 0 0 0 4 4 0 0 0 0 0 0 0 0 0 0 0 0]\n",
      "Q_values : [ 2.913008    1.9746959   0.01920557 -1.1400797 ]\n",
      "state : [0 0 0 0 0 0 0 0 0 0 0 0 0 0 0 0 6 6 0 0 0 0 4 4 0 0 0 0 0 0 0 0 0 0 0 0]\n",
      "Q_values : [ 2.396049    2.1518936   0.26686168 -1.9828415 ]\n",
      "state : [0 0 0 0 0 0 0 0 0 0 0 0 0 0 0 0 6 6 0 0 0 0 4 4 0 0 0 0 0 0 0 0 0 0 0 0]\n",
      "Q_values : [ 1.9252096  2.3011827  0.5239825 -2.967933 ]\n",
      "Step #100.00 (0ms ?*RT. ?UPS, TraCI: 29ms, vehicles TOT 33 ACT 20 BUF 0)                   \n",
      "episode : 173\n",
      " Retrying in 1 seconds\n"
     ]
    },
    {
     "name": "stderr",
     "output_type": "stream",
     "text": [
      "Warning: Environment variable SUMO_HOME is not set properly, disabling XML validation. Set 'auto' or 'always' for web lookups.\n"
     ]
    },
    {
     "name": "stdout",
     "output_type": "stream",
     "text": [
      "state : [0 0 0 0 0 0 0 0 0 0 0 0 0 0 0 0 0 0 0 0 0 0 0 0 0 0 0 0 0 0 0 0 0 0 0 0]\n",
      "Q_values : [ 2.6603966   2.0216236   0.05637407 -3.6178145 ]\n",
      "state : [0 0 0 0 0 0 0 0 0 0 0 0 0 0 0 0 0 0 0 0 0 0 0 0 0 0 0 0 0 0 0 0 0 0 0 0]\n",
      "Q_values : [ 2.2659807   1.9535106   0.24819446 -4.5562563 ]\n",
      "state : [0 0 0 0 0 0 0 0 0 0 0 0 0 0 0 0 0 0 0 0 0 0 0 0 0 0 0 0 0 0 0 0 0 0 0 0]\n",
      "Q_values : [ 2.3781986   1.2841841   0.47075677 -4.847942  ]\n",
      "state : [0 0 0 0 0 0 0 0 0 0 0 0 0 0 0 0 0 0 0 0 0 0 0 0 0 0 0 0 0 0 0 0 0 0 0 0]\n",
      "Q_values : [ 2.1904092   1.956051    0.57789826 -4.8817215 ]\n",
      "state : [0 0 0 0 0 0 0 0 0 0 0 0 0 0 0 0 0 0 0 0 0 0 0 0 0 0 0 0 0 0 0 0 0 0 0 0]\n",
      "Q_values : [ 2.4163566   2.6254897   0.67437196 -5.0442634 ]\n",
      "state : [0 0 0 0 0 0 0 0 0 0 0 0 0 0 0 0 1 0 0 0 0 0 0 0 0 0 0 0 0 0 0 0 0 0 0 0]\n",
      "Q_values : [ 3.2497497   2.8556924  -0.37951565 -4.7852497 ]\n",
      "state : [0 0 0 0 0 0 0 0 0 0 0 0 0 0 0 0 1 1 0 0 0 0 0 0 0 0 0 0 0 0 0 0 0 0 0 0]\n",
      "Q_values : [ 2.8067884   2.5549893  -0.51435685 -3.8121958 ]\n",
      "state : [0 0 0 0 0 0 0 0 0 0 0 0 0 0 0 0 2 2 0 0 0 0 0 0 0 0 0 0 0 0 0 0 0 0 0 0]\n",
      "Q_values : [ 2.534753   2.6631827 -0.7654083 -3.0273051]\n",
      "state : [0 0 0 0 0 0 0 0 0 0 0 0 0 0 0 0 4 4 0 0 0 0 0 0 0 0 0 0 0 0 0 0 0 0 0 0]\n",
      "Q_values : [ 2.4448237  2.0104709 -1.1148114 -1.8245955]\n",
      "state : [0 0 0 0 0 0 0 0 0 0 0 0 0 0 0 0 6 5 0 0 0 0 1 1 0 0 0 0 0 0 0 0 0 0 0 0]\n",
      "Q_values : [ 2.7132988  1.3315513 -1.3709774 -0.8483019]\n",
      "state : [0 0 0 0 0 0 0 0 0 0 0 0 0 0 0 0 6 6 0 0 0 0 2 1 0 0 0 0 0 0 0 0 0 0 0 0]\n",
      "Q_values : [ 2.567067   2.2594714 -1.7258661 -0.9855914]\n",
      "state : [0 0 0 0 0 0 0 0 0 0 0 0 0 0 0 0 6 6 0 0 0 0 3 3 0 0 0 0 0 0 0 0 0 0 0 0]\n",
      "Q_values : [ 2.4814863   2.4922395  -1.6439118  -0.34552574]\n",
      "state : [0 0 0 0 0 0 0 0 0 0 0 0 0 0 0 0 6 6 0 0 0 0 4 4 0 0 0 0 0 0 0 0 0 0 0 0]\n",
      "Q_values : [ 2.5899987   2.5605106  -2.0211935  -0.07776332]\n",
      "state : [0 0 0 0 0 0 0 0 0 0 0 0 0 0 0 0 6 6 0 0 0 0 4 4 0 0 0 0 0 0 0 0 0 0 0 0]\n",
      "Q_values : [ 2.746797    1.97324    -1.9970834   0.23561525]\n",
      "state : [0 0 0 0 0 0 0 0 0 0 0 0 0 0 0 0 6 6 0 0 0 0 4 4 0 0 0 0 0 0 0 0 0 0 0 0]\n",
      "Q_values : [ 2.45689     1.8154323  -1.8521421   0.20313072]\n",
      "state : [0 0 0 0 0 0 0 0 0 0 0 0 0 0 0 0 6 6 0 0 0 0 4 4 0 0 0 0 0 0 0 0 0 0 0 0]\n",
      "Q_values : [ 2.2271142   2.5687456  -1.8310101  -0.63339996]\n",
      "state : [0 0 0 0 0 0 0 0 0 0 0 0 0 0 0 0 6 6 0 0 0 0 4 4 0 0 0 0 0 0 0 0 0 0 0 0]\n",
      "Q_values : [ 1.921598   3.589877  -2.2758641 -0.8761568]\n",
      "state : [0 0 0 0 0 0 0 0 0 0 0 0 0 0 0 0 6 6 0 0 0 0 4 4 0 0 0 0 0 0 0 0 0 0 0 0]\n",
      "Q_values : [ 3.1263545  3.203164  -1.6150327 -1.1670442]\n",
      "state : [0 0 0 0 0 0 0 0 0 0 0 0 0 0 0 0 6 6 0 0 0 0 4 4 0 0 0 0 0 0 0 0 0 0 0 0]\n",
      "Q_values : [ 3.4021764  2.895556  -1.3205206 -1.3865852]\n",
      "state : [0 0 0 0 0 0 0 0 0 0 0 0 0 0 0 0 6 6 0 0 0 0 4 4 0 0 0 0 0 0 0 0 0 0 0 0]\n",
      "Q_values : [ 2.5224273  2.53574   -1.3031368 -1.5942183]\n",
      "Step #100.00 (0ms ?*RT. ?UPS, TraCI: 29ms, vehicles TOT 33 ACT 20 BUF 0)                   \n",
      "episode : 174\n",
      " Retrying in 1 seconds\n"
     ]
    },
    {
     "name": "stderr",
     "output_type": "stream",
     "text": [
      "Warning: Environment variable SUMO_HOME is not set properly, disabling XML validation. Set 'auto' or 'always' for web lookups.\n"
     ]
    },
    {
     "name": "stdout",
     "output_type": "stream",
     "text": [
      "state : [0 0 0 0 0 0 0 0 0 0 0 0 0 0 0 0 0 0 0 0 0 0 0 0 0 0 0 0 0 0 0 0 0 0 0 0]\n",
      "Q_values : [ 2.1275368   1.8454996  -0.66323876 -1.7408988 ]\n",
      "state : [0 0 0 0 0 0 0 0 0 0 0 0 0 0 0 0 0 0 0 0 0 0 0 0 0 0 0 0 0 0 0 0 0 0 0 0]\n",
      "Q_values : [ 0.6249336   1.2017887  -0.21921992 -1.7679818 ]\n",
      "state : [0 0 0 0 0 0 0 0 0 0 0 0 0 0 0 0 0 0 0 0 0 0 0 0 0 0 0 0 0 0 0 0 0 0 0 0]\n",
      "Q_values : [ 0.06980395  0.5680554   0.23701882 -1.8511732 ]\n",
      "state : [0 0 0 0 0 0 0 0 0 0 0 0 0 0 0 0 0 0 0 0 0 0 0 0 0 0 0 0 0 0 0 0 0 0 0 0]\n",
      "Q_values : [ 1.7821627  0.9577429  0.6009426 -1.9260838]\n",
      "state : [0 0 0 0 0 0 0 0 0 0 0 0 0 0 0 0 0 0 0 0 0 0 0 0 0 0 0 0 0 0 0 0 0 0 0 0]\n",
      "Q_values : [ 2.0278149   2.2896135   0.94551206 -1.8121438 ]\n",
      "state : [0 0 0 0 0 0 0 0 0 0 0 0 0 0 0 0 1 0 0 0 0 0 0 0 0 0 0 0 0 0 0 0 0 0 0 0]\n",
      "Q_values : [ 2.3625188  2.0152576  0.4492197 -2.076976 ]\n",
      "state : [0 0 0 0 0 0 0 0 0 0 0 0 0 0 0 0 1 1 0 0 0 0 0 0 0 0 0 0 0 0 0 0 0 0 0 0]\n",
      "Q_values : [ 3.0555053   1.8758206   0.03150153 -2.1820602 ]\n",
      "state : [0 0 0 0 0 0 0 0 0 0 0 0 0 0 0 0 2 2 0 0 0 0 0 0 0 0 0 0 0 0 0 0 0 0 0 0]\n",
      "Q_values : [ 2.931287   2.5867796 -0.6610036 -2.2766745]\n",
      "state : [0 0 0 0 0 0 0 0 0 0 0 0 0 0 0 0 4 4 0 0 0 0 0 0 0 0 0 0 0 0 0 0 0 0 0 0]\n",
      "Q_values : [ 2.9168577  2.3849828 -1.3139026 -3.0867507]\n",
      "state : [0 0 0 0 0 0 0 0 0 0 0 0 0 0 0 0 6 5 0 0 0 0 1 1 0 0 0 0 0 0 0 0 0 0 0 0]\n",
      "Q_values : [ 2.4909751  2.733873  -1.2607555 -3.7108772]\n",
      "state : [0 0 0 0 0 0 0 0 0 0 0 0 0 0 0 0 6 6 0 0 0 0 2 1 0 0 0 0 0 0 0 0 0 0 0 0]\n",
      "Q_values : [ 1.9750837  3.1606119 -2.4716077 -4.0004473]\n",
      "state : [0 0 0 0 0 0 0 0 0 0 0 0 0 0 0 0 6 6 0 0 0 0 3 3 0 0 0 0 0 0 0 0 0 0 0 0]\n",
      "Q_values : [ 1.3149891  2.5422935 -2.803216  -4.4235983]\n",
      "state : [0 0 0 0 0 0 0 0 0 0 0 0 0 0 0 0 6 6 0 0 0 0 4 4 0 0 0 0 0 0 0 0 0 0 0 0]\n",
      "Q_values : [ 1.5683124  1.5733341 -3.091143  -4.370144 ]\n",
      "state : [0 0 0 0 0 0 0 0 0 0 0 0 0 0 0 0 6 6 0 0 0 0 4 4 0 0 0 0 0 0 0 0 0 0 0 0]\n",
      "Q_values : [ 1.7268524  1.6732528 -3.418015  -4.8429475]\n",
      "state : [0 0 0 0 0 0 0 0 0 0 0 0 0 0 0 0 6 6 0 0 0 0 4 4 0 0 0 0 0 0 0 0 0 0 0 0]\n",
      "Q_values : [ 1.5923563  1.5303868 -3.880095  -4.1148744]\n",
      "state : [0 0 0 0 0 0 0 0 0 0 0 0 0 0 0 0 6 6 0 0 0 0 4 4 0 0 0 0 0 0 0 0 0 0 0 0]\n",
      "Q_values : [ 2.3651166  1.0836309 -3.8257558 -3.9307876]\n",
      "state : [0 0 0 0 0 0 0 0 0 0 0 0 0 0 0 0 6 6 0 0 0 0 4 4 0 0 0 0 0 0 0 0 0 0 0 0]\n",
      "Q_values : [ 2.7611058  2.4251304 -3.617057  -4.102663 ]\n",
      "state : [0 0 0 0 0 0 0 0 0 0 0 0 0 0 0 0 6 6 0 0 0 0 4 4 0 0 0 0 0 0 0 0 0 0 0 0]\n",
      "Q_values : [ 2.4355     2.9146636 -3.5926278 -3.754186 ]\n",
      "state : [0 0 0 0 0 0 0 0 0 0 0 0 0 0 0 0 6 6 0 0 0 0 4 4 0 0 0 0 0 0 0 0 0 0 0 0]\n",
      "Q_values : [ 2.5505261  2.611255  -3.5706313 -3.0063508]\n",
      "state : [0 0 0 0 0 0 0 0 0 0 0 0 0 0 0 0 6 6 0 0 0 0 4 4 0 0 0 0 0 0 0 0 0 0 0 0]\n",
      "Q_values : [ 2.3045492  2.7443833 -3.3609543 -3.0091228]\n",
      "Step #100.00 (0ms ?*RT. ?UPS, TraCI: 29ms, vehicles TOT 33 ACT 20 BUF 0)                   \n",
      "episode : 175\n",
      " Retrying in 1 seconds\n"
     ]
    },
    {
     "name": "stderr",
     "output_type": "stream",
     "text": [
      "Warning: Environment variable SUMO_HOME is not set properly, disabling XML validation. Set 'auto' or 'always' for web lookups.\n"
     ]
    },
    {
     "name": "stdout",
     "output_type": "stream",
     "text": [
      "state : [0 0 0 0 0 0 0 0 0 0 0 0 0 0 0 0 0 0 0 0 0 0 0 0 0 0 0 0 0 0 0 0 0 0 0 0]\n",
      "Q_values : [ 2.0685546  2.8160877 -3.262135  -2.219493 ]\n",
      "state : [0 0 0 0 0 0 0 0 0 0 0 0 0 0 0 0 0 0 0 0 0 0 0 0 0 0 0 0 0 0 0 0 0 0 0 0]\n",
      "Q_values : [ 2.5081549  2.1100512 -3.5411308 -1.9854748]\n",
      "state : [0 0 0 0 0 0 0 0 0 0 0 0 0 0 0 0 0 0 0 0 0 0 0 0 0 0 0 0 0 0 0 0 0 0 0 0]\n",
      "Q_values : [ 2.5665305  2.8296351 -2.955851  -1.6847744]\n",
      "state : [0 0 0 0 0 0 0 0 0 0 0 0 0 0 0 0 0 0 0 0 0 0 0 0 0 0 0 0 0 0 0 0 0 0 0 0]\n",
      "Q_values : [ 1.9037013  2.3301122 -2.4407902 -1.4625607]\n",
      "state : [0 0 0 0 0 0 0 0 0 0 0 0 0 0 0 0 0 0 0 0 0 0 0 0 0 0 0 0 0 0 0 0 0 0 0 0]\n",
      "Q_values : [ 1.8524443  2.4810944 -1.6764162 -0.6679139]\n",
      "state : [0 0 0 0 0 0 0 0 0 0 0 0 0 1 0 0 1 0 0 0 0 0 0 0 0 0 0 0 0 0 0 0 0 0 0 0]\n",
      "Q_values : [ 2.5677915  1.5610391 -1.0659502 -0.6516528]\n",
      "state : [0 0 0 0 0 0 0 0 0 0 0 0 0 0 0 0 1 1 0 0 0 0 0 0 0 0 0 0 0 0 0 0 0 0 0 0]\n",
      "Q_values : [ 2.5304546   1.8874346  -0.48570538 -1.2048492 ]\n",
      "state : [0 0 0 0 0 0 0 0 0 0 0 0 0 0 0 0 2 2 0 0 0 0 0 0 0 0 0 0 0 0 0 0 0 0 0 0]\n",
      "Q_values : [ 2.7552404   2.9766033   0.23474216 -1.1666229 ]\n",
      "state : [0 0 0 0 0 0 0 0 0 0 0 0 0 0 0 0 4 4 0 0 0 0 0 0 0 0 0 0 0 0 0 0 0 0 0 0]\n",
      "Q_values : [ 2.8753204   2.4345107   0.85541916 -1.2133036 ]\n",
      "state : [0 0 0 0 0 0 0 0 0 0 0 0 0 0 0 0 6 5 0 0 0 0 1 1 0 0 0 0 0 0 0 0 0 0 0 0]\n",
      "Q_values : [ 2.3749192  3.1127076  1.4135053 -1.2553368]\n",
      "state : [0 0 0 0 0 0 0 0 0 0 0 0 0 0 0 0 6 6 0 0 0 0 2 1 0 0 0 0 0 0 0 0 0 0 0 0]\n",
      "Q_values : [ 3.5984383  1.9063281  1.7286692 -1.7917612]\n",
      "state : [0 0 0 0 0 0 0 0 0 0 0 0 0 0 0 0 6 6 0 0 0 0 3 3 0 0 0 0 0 0 0 0 0 0 0 0]\n",
      "Q_values : [ 3.4258542  1.81808    1.4831877 -2.0952582]\n",
      "state : [0 0 0 0 0 0 0 0 0 0 0 0 0 0 0 0 6 6 0 0 0 0 4 4 0 0 0 0 0 0 0 0 0 0 0 0]\n",
      "Q_values : [ 3.3085594  2.5532064  1.4279842 -1.6048853]\n",
      "state : [0 0 0 0 0 0 0 0 0 0 0 0 0 0 0 0 6 6 0 0 0 0 4 4 0 0 0 0 0 0 0 0 0 0 0 0]\n",
      "Q_values : [ 3.336255    2.9725566   0.82172537 -1.9802337 ]\n",
      "state : [0 0 0 0 0 0 0 0 0 0 0 0 0 0 0 0 6 6 0 0 0 0 4 4 0 0 0 0 0 0 0 0 0 0 0 0]\n",
      "Q_values : [ 2.945177    2.327115    0.67387986 -1.8020205 ]\n",
      "state : [0 0 0 0 0 0 0 0 0 0 0 0 0 0 0 0 6 6 0 0 0 0 4 4 0 0 0 0 0 0 0 0 0 0 0 0]\n",
      "Q_values : [ 2.6300478   1.9376272  -0.71465826 -2.1092885 ]\n",
      "state : [0 0 0 0 0 0 0 0 0 0 0 0 0 0 0 0 6 6 0 0 0 0 4 4 0 0 0 0 0 0 0 0 0 0 0 0]\n",
      "Q_values : [ 2.1373346  2.140584  -1.0391057 -2.1314714]\n",
      "state : [0 0 0 0 0 0 0 0 0 0 0 0 0 0 0 0 6 6 0 0 0 0 4 4 0 0 0 0 0 0 0 0 0 0 0 0]\n",
      "Q_values : [ 2.1496174  2.0430055 -1.7537394 -2.1148078]\n",
      "state : [0 0 0 0 0 0 0 0 0 0 0 0 0 0 0 0 6 6 0 0 0 0 4 4 0 0 0 0 0 0 0 0 0 0 0 0]\n",
      "Q_values : [ 2.0105581  1.8631188 -2.2766328 -1.6958039]\n",
      "state : [0 0 0 0 0 0 0 0 0 0 0 0 0 0 0 0 6 6 0 0 0 0 4 4 0 0 0 0 0 0 0 0 0 0 0 0]\n",
      "Q_values : [ 2.3710911  2.2316508 -2.985802  -1.8485863]\n",
      "Step #100.00 (0ms ?*RT. ?UPS, TraCI: 29ms, vehicles TOT 33 ACT 20 BUF 0)                   \n",
      "episode : 176\n",
      " Retrying in 1 seconds\n"
     ]
    },
    {
     "name": "stderr",
     "output_type": "stream",
     "text": [
      "Warning: Environment variable SUMO_HOME is not set properly, disabling XML validation. Set 'auto' or 'always' for web lookups.\n"
     ]
    },
    {
     "name": "stdout",
     "output_type": "stream",
     "text": [
      "state : [0 0 0 0 0 0 0 0 0 0 0 0 0 0 0 0 0 0 0 0 0 0 0 0 0 0 0 0 0 0 0 0 0 0 0 0]\n",
      "Q_values : [ 2.692337   2.7148283 -3.6026413 -1.6234415]\n",
      "state : [0 0 0 0 0 0 0 0 0 0 0 0 0 0 0 0 0 0 0 0 0 0 0 0 0 0 0 0 0 0 0 0 0 0 0 0]\n",
      "Q_values : [ 3.0362997  3.3134964 -4.2620144 -1.5207725]\n",
      "state : [0 0 0 0 0 0 0 0 0 0 0 0 0 0 0 0 0 0 0 0 0 0 0 0 0 0 0 0 0 0 0 0 0 0 0 0]\n",
      "Q_values : [ 3.726956   2.5204084 -4.8029165 -1.76423  ]\n",
      "state : [0 0 0 0 0 0 0 0 0 0 0 0 0 0 0 0 0 0 0 0 0 0 0 0 0 0 0 0 0 0 0 0 0 0 0 0]\n",
      "Q_values : [ 2.6727867  2.6884046 -4.8185987 -2.6242008]\n",
      "state : [0 0 0 0 0 0 0 0 0 0 0 0 0 0 0 0 0 0 0 0 0 0 0 0 0 0 0 0 0 0 0 0 0 0 0 0]\n",
      "Q_values : [ 1.7378085  1.3134477 -4.3347197 -2.6777081]\n",
      "state : [0 0 0 0 0 0 0 0 0 0 0 0 0 0 1 0 1 0 0 0 0 0 0 0 0 0 0 0 0 0 0 0 0 0 0 0]         \n",
      "Q_values : [ 1.6125643  1.1392827 -4.544052  -2.6406565]\n"
     ]
    },
    {
     "name": "stderr",
     "output_type": "stream",
     "text": [
      "Warning: Vehicle 'veh_2' performs emergency stop at the end of lane 'end1_junction_2' because of a red traffic light (decel=-20.39, offset=0.10), time=21.24.\n"
     ]
    },
    {
     "name": "stdout",
     "output_type": "stream",
     "text": [
      "state : [0 0 0 0 0 0 0 0 0 0 0 0 0 0 1 0 1 1 0 0 0 0 0 0 0 0 0 0 0 0 0 0 0 0 0 0]\n",
      "Q_values : [ 0.89776486  1.5668387  -3.7021108  -4.029676  ]\n",
      "state : [0 0 0 0 0 0 0 0 0 0 0 0 0 0 0 0 2 2 0 0 0 0 0 0 0 0 0 0 0 0 0 0 0 0 0 0]\n",
      "Q_values : [ 1.6288049  2.7101629 -2.6734183 -4.6617393]\n",
      "state : [0 0 0 0 0 0 0 0 0 0 0 0 0 0 0 0 4 4 0 0 0 0 0 0 0 0 0 0 0 0 0 0 0 0 0 0]\n",
      "Q_values : [ 2.9228358  2.428206  -2.0744133 -5.089261 ]\n",
      "state : [0 0 0 0 0 0 0 0 0 0 0 0 0 0 0 0 6 5 0 0 0 0 1 1 0 0 0 0 0 0 0 0 0 0 0 0]\n",
      "Q_values : [ 3.779982   2.4844456 -0.9370811 -4.97696  ]\n",
      "state : [0 0 0 0 0 0 0 0 0 0 0 0 0 0 0 0 6 6 0 0 0 0 2 1 0 0 0 0 0 0 0 0 0 0 0 0]\n",
      "Q_values : [ 3.5478842   3.1431065  -0.19647264 -4.187215  ]\n",
      "state : [0 0 0 0 0 0 0 0 0 0 0 0 0 0 0 0 6 6 0 0 0 0 3 3 0 0 0 0 0 0 0 0 0 0 0 0]\n",
      "Q_values : [ 2.6906052   3.478418    0.18798566 -4.9138107 ]\n",
      "state : [0 0 0 0 0 0 0 0 0 0 0 0 0 0 0 0 6 6 0 0 0 0 4 4 0 0 0 0 0 0 0 0 0 0 0 0]\n",
      "Q_values : [ 3.5547395  3.2859015  0.7063472 -5.101532 ]\n",
      "state : [0 0 0 0 0 0 0 0 0 0 0 0 0 0 0 0 6 6 0 0 0 0 4 4 0 0 0 0 0 0 0 0 0 0 0 0]\n",
      "Q_values : [ 1.8579853   2.683402    0.61769986 -5.2093835 ]\n",
      "state : [0 0 0 0 0 0 0 0 0 0 0 0 0 0 0 0 6 6 0 0 0 0 4 4 0 0 0 0 0 0 0 0 0 0 0 0]\n",
      "Q_values : [ 1.8794605   2.673008    0.79240084 -4.771369  ]\n",
      "state : [0 0 0 0 0 0 0 0 0 0 0 0 0 0 0 0 6 6 0 0 0 0 4 4 0 0 0 0 0 0 0 0 0 0 0 0]\n",
      "Q_values : [ 1.7134795  2.20861    0.5061228 -4.644285 ]\n",
      "state : [0 0 0 0 0 0 0 0 0 0 0 0 0 0 0 0 6 6 0 0 0 0 4 4 0 0 0 0 0 0 0 0 0 0 0 0]\n",
      "Q_values : [ 2.5006967   2.2223892   0.50023794 -4.826112  ]\n",
      "state : [0 0 0 0 0 0 0 0 0 0 0 0 0 0 0 0 6 6 0 0 0 0 4 4 0 0 0 0 0 0 0 0 0 0 0 0]\n",
      "Q_values : [ 1.8072      1.9620383   0.52748466 -4.69935   ]\n",
      "state : [0 0 0 0 0 0 0 0 0 0 0 0 0 0 0 0 6 6 0 0 0 0 4 4 0 0 0 0 0 0 0 0 0 0 0 0]\n",
      "Q_values : [ 0.90239596  1.2160441   0.13390064 -4.608884  ]\n",
      "state : [0 0 0 0 0 0 0 0 0 0 0 0 0 0 0 0 6 6 0 0 0 0 4 4 0 0 0 0 0 0 0 0 0 0 0 0]\n",
      "Q_values : [ 1.6021155   0.9983064  -0.52597284 -4.5499105 ]\n",
      "Step #100.00 (0ms ?*RT. ?UPS, TraCI: 29ms, vehicles TOT 33 ACT 20 BUF 0)                   \n",
      "episode : 177\n",
      " Retrying in 1 seconds\n"
     ]
    },
    {
     "name": "stderr",
     "output_type": "stream",
     "text": [
      "Warning: Environment variable SUMO_HOME is not set properly, disabling XML validation. Set 'auto' or 'always' for web lookups.\n"
     ]
    },
    {
     "name": "stdout",
     "output_type": "stream",
     "text": [
      "state : [0 0 0 0 0 0 0 0 0 0 0 0 0 0 0 0 0 0 0 0 0 0 0 0 0 0 0 0 0 0 0 0 0 0 0 0]\n",
      "Q_values : [ 1.8865749  3.0359359 -1.5387762 -4.75157  ]\n",
      "state : [0 0 0 0 0 0 0 0 0 0 0 0 0 0 0 0 0 0 0 0 0 0 0 0 0 0 0 0 0 0 0 0 0 0 0 0]\n",
      "Q_values : [ 2.8738904  3.2902792 -1.8467381 -4.635075 ]\n",
      "state : [0 0 0 0 0 0 0 0 0 0 0 0 0 0 0 0 0 0 0 0 0 0 0 0 0 0 0 0 0 0 0 0 0 0 0 0]\n",
      "Q_values : [ 3.6143556  3.6337638 -1.6367002 -4.8741417]\n",
      "state : [0 0 0 0 0 0 0 0 0 0 0 0 0 0 0 0 0 0 0 0 0 0 0 0 0 0 0 0 0 0 0 0 0 0 0 0]\n",
      "Q_values : [ 3.034484   3.0645323 -1.4402435 -4.7298007]\n",
      "state : [0 0 0 0 0 0 0 0 0 0 0 0 0 0 0 0 0 0 0 0 0 0 0 0 0 0 0 0 0 0 0 0 0 0 0 0]\n",
      "Q_values : [ 2.8426225  2.4828777 -0.9246094 -4.9732847]\n",
      "state : [0 0 0 0 0 0 0 0 0 0 0 0 0 0 1 0 1 0 0 0 0 0 0 0 0 0 0 0 0 0 0 0 0 0 0 0]         \n",
      "Q_values : [ 1.9789016   2.2889094  -0.68921757 -5.068644  ]\n"
     ]
    },
    {
     "name": "stderr",
     "output_type": "stream",
     "text": [
      "Warning: Vehicle 'veh_2' performs emergency stop at the end of lane 'end1_junction_2' because of a red traffic light (decel=-20.39, offset=0.10), time=21.24.\n"
     ]
    },
    {
     "name": "stdout",
     "output_type": "stream",
     "text": [
      "state : [0 0 0 0 0 0 0 0 0 0 0 0 0 0 0 0 1 1 0 0 0 0 0 0 0 0 0 0 0 0 0 0 0 0 0 0]\n",
      "Q_values : [ 2.1670327   1.2939785  -0.64030385 -4.2853775 ]\n",
      "state : [0 0 0 0 0 0 0 0 0 0 0 0 0 0 0 0 2 2 0 0 0 0 0 0 0 0 0 0 0 0 0 0 0 0 0 0]\n",
      "Q_values : [ 2.4400897   1.9435809  -0.51899314 -3.6164024 ]\n",
      "state : [0 0 0 0 0 0 0 0 0 0 0 0 0 0 0 0 4 4 0 0 0 0 0 0 0 0 0 0 0 0 0 0 0 0 0 0]\n",
      "Q_values : [ 2.4341583   1.686799   -0.28809452 -2.853617  ]\n",
      "state : [0 0 0 0 0 0 0 0 0 0 0 0 0 0 0 0 6 5 0 0 0 0 1 1 0 0 0 0 0 0 0 0 0 0 0 0]\n",
      "Q_values : [ 1.550746    2.7523465  -0.13784337 -2.0422344 ]\n",
      "state : [0 0 0 0 0 0 0 0 0 0 0 0 0 0 0 0 6 6 0 0 0 0 2 1 0 0 0 0 0 0 0 0 0 0 0 0]\n",
      "Q_values : [ 1.7846959  3.3968377 -1.1892402 -1.2073047]\n",
      "state : [0 0 0 0 0 0 0 0 0 0 0 0 0 0 0 0 6 6 0 0 0 0 3 3 0 0 0 0 0 0 0 0 0 0 0 0]\n",
      "Q_values : [ 2.283007    2.7823758  -1.8690925  -0.36538315]\n",
      "state : [0 0 0 0 0 0 0 0 0 0 0 0 0 0 0 0 6 6 0 0 0 0 4 4 0 0 0 0 0 0 0 0 0 0 0 0]\n",
      "Q_values : [ 2.3496604   2.2704306  -2.4447517  -0.14153624]\n",
      "state : [0 0 0 0 0 0 0 0 0 0 0 0 0 0 0 0 6 6 0 0 0 0 4 4 0 0 0 0 0 0 0 0 0 0 0 0]\n",
      "Q_values : [ 2.0495195  2.598594  -3.3604624 -0.4150598]\n",
      "state : [0 0 0 0 0 0 0 0 0 0 0 0 0 0 0 0 6 6 0 0 0 0 4 4 0 0 0 0 0 0 0 0 0 0 0 0]\n",
      "Q_values : [ 2.0152614   2.376981   -3.5546825  -0.23785615]\n",
      "state : [0 0 0 0 0 0 0 0 0 0 0 0 0 0 0 0 6 6 0 0 0 0 4 4 0 0 0 0 0 0 0 0 0 0 0 0]\n",
      "Q_values : [ 2.3132834  1.7184719 -3.0718355 -0.7270093]\n",
      "state : [0 0 0 0 0 0 0 0 0 0 0 0 0 0 0 0 6 6 0 0 0 0 4 4 0 0 0 0 0 0 0 0 0 0 0 0]\n",
      "Q_values : [ 2.0512273  1.1142128 -3.4466002 -1.529854 ]\n",
      "state : [0 0 0 0 0 0 0 0 0 0 0 0 0 0 0 0 6 6 0 0 0 0 4 4 0 0 0 0 0 0 0 0 0 0 0 0]\n",
      "Q_values : [ 1.1362679  1.2323706 -3.27944   -1.7666812]\n",
      "state : [0 0 0 0 0 0 0 0 0 0 0 0 0 0 0 0 6 6 0 0 0 0 4 4 0 0 0 0 0 0 0 0 0 0 0 0]\n",
      "Q_values : [ 1.0568905  0.9486352 -2.7317088 -1.8274577]\n",
      "state : [0 0 0 0 0 0 0 0 0 0 0 0 0 0 0 0 6 6 0 0 0 0 4 4 0 0 0 0 0 0 0 0 0 0 0 0]\n",
      "Q_values : [ 1.3978354  1.7543479 -2.8291645 -1.7090881]\n",
      "Step #100.00 (0ms ?*RT. ?UPS, TraCI: 30ms, vehicles TOT 33 ACT 20 BUF 0)                   \n",
      "episode : 178\n",
      " Retrying in 1 seconds\n"
     ]
    },
    {
     "name": "stderr",
     "output_type": "stream",
     "text": [
      "Warning: Environment variable SUMO_HOME is not set properly, disabling XML validation. Set 'auto' or 'always' for web lookups.\n"
     ]
    },
    {
     "name": "stdout",
     "output_type": "stream",
     "text": [
      "state : [0 0 0 0 0 0 0 0 0 0 0 0 0 0 0 0 0 0 0 0 0 0 0 0 0 0 0 0 0 0 0 0 0 0 0 0]\n",
      "Q_values : [ 1.6173664  2.877441  -1.9808836 -1.5561917]\n",
      "state : [0 0 0 0 0 0 0 0 0 0 0 0 0 0 0 0 0 0 0 0 0 0 0 0 0 0 0 0 0 0 0 0 0 0 0 0]\n",
      "Q_values : [ 2.5357356  3.6914332 -1.6493075 -1.0837691]\n",
      "state : [0 0 0 0 0 0 0 0 0 0 0 0 0 0 0 0 0 0 0 0 0 0 0 0 0 0 0 0 0 0 0 0 0 0 0 0]\n",
      "Q_values : [ 3.6307607  3.4875946 -0.621768  -0.8578265]\n",
      "state : [0 0 0 0 0 0 0 0 0 0 0 0 0 0 0 0 0 0 0 0 0 0 0 0 0 0 0 0 0 0 0 0 0 0 0 0]\n",
      "Q_values : [ 2.9711518  3.8958836 -0.8776312 -0.6773598]\n",
      "state : [0 0 0 0 0 0 0 0 0 0 0 0 0 1 0 0 1 0 0 0 0 0 0 0 0 0 0 0 0 0 0 0 0 0 0 0]\n",
      "Q_values : [ 1.8078805   1.8300791  -0.93470764 -1.9691925 ]\n",
      "state : [0 0 0 0 0 0 0 0 0 0 0 0 0 1 0 0 1 1 0 0 0 0 0 0 0 0 0 0 0 0 0 0 0 0 0 0]\n",
      "Q_values : [ 1.5015879  1.2267194 -1.1839752 -2.1621606]\n",
      "state : [0 0 0 0 0 0 0 0 0 0 0 0 0 0 0 0 2 2 0 0 0 0 0 0 0 0 0 0 0 0 0 0 0 0 0 0]\n",
      "Q_values : [ 1.3637313  0.8616203 -1.2700951 -2.5540583]\n",
      "state : [0 0 0 0 0 0 0 0 0 0 0 0 0 0 0 0 4 4 0 0 0 0 0 0 0 0 0 0 0 0 0 0 0 0 0 0]\n",
      "Q_values : [ 0.9506252  1.4417148 -1.99701   -2.6371458]\n",
      "state : [0 0 0 0 0 0 0 0 0 0 0 0 0 0 0 0 6 5 0 0 0 0 1 1 0 0 0 0 0 0 0 0 0 0 0 0]\n",
      "Q_values : [ 1.4561787  1.6980134 -2.3427644 -2.58345  ]\n",
      "state : [0 0 0 0 0 0 0 0 0 0 0 0 0 0 0 0 6 6 0 0 0 0 2 1 0 0 0 0 0 0 0 0 0 0 0 0]\n",
      "Q_values : [ 1.5005802  2.4713187 -2.7676008 -2.6471472]\n",
      "state : [0 0 0 0 0 0 0 0 0 0 0 0 0 0 0 0 6 6 0 0 0 0 3 3 0 0 0 0 0 0 0 0 0 0 0 0]\n",
      "Q_values : [ 1.9724979  1.8973985 -2.6746116 -2.5095963]\n",
      "state : [0 0 0 0 0 0 0 0 0 0 0 0 0 0 0 0 6 6 0 0 0 0 4 4 0 0 0 0 0 0 0 0 0 0 0 0]\n",
      "Q_values : [ 2.0550947  2.2673364 -2.7693334 -2.5492   ]\n",
      "state : [0 0 0 0 0 0 0 0 0 0 0 0 0 0 0 0 6 6 0 0 0 0 4 4 0 0 0 0 0 0 0 0 0 0 0 0]\n",
      "Q_values : [ 2.9566712  3.2056682 -2.245871  -2.855685 ]\n",
      "state : [0 0 0 0 0 0 0 0 0 0 0 0 0 0 0 0 6 6 0 0 0 0 4 4 0 0 0 0 0 0 0 0 0 0 0 0]\n",
      "Q_values : [ 3.1457555  3.0955718 -2.0294058 -2.6727207]\n",
      "state : [0 0 0 0 0 0 0 0 0 0 0 0 0 0 0 0 6 6 0 0 0 0 4 4 0 0 0 0 0 0 0 0 0 0 0 0]\n",
      "Q_values : [ 2.6965842  2.1226358 -1.8526886 -2.7635868]\n",
      "state : [0 0 0 0 0 0 0 0 0 0 0 0 0 0 0 0 6 6 0 0 0 0 4 4 0 0 0 0 0 0 0 0 0 0 0 0]\n",
      "Q_values : [ 2.84559    2.7863622 -1.6652689 -2.7163892]\n",
      "state : [0 0 0 0 0 0 0 0 0 0 0 0 0 0 0 0 6 6 0 0 0 0 4 4 0 0 0 0 0 0 0 0 0 0 0 0]\n",
      "Q_values : [ 2.8693643  2.872552  -1.5099182 -2.711111 ]\n",
      "state : [0 0 0 0 0 0 0 0 0 0 0 0 0 0 0 0 6 6 0 0 0 0 4 4 0 0 0 0 0 0 0 0 0 0 0 0]\n",
      "Q_values : [ 2.9280634   1.929182   -0.54441357 -2.706361  ]\n",
      "state : [0 0 0 0 0 0 0 0 0 0 0 0 0 0 0 0 6 6 0 0 0 0 4 4 0 0 0 0 0 0 0 0 0 0 0 0]\n",
      "Q_values : [ 2.88269     1.877811    0.00465441 -3.1023188 ]\n",
      "Step #100.00 (0ms ?*RT. ?UPS, TraCI: 30ms, vehicles TOT 33 ACT 20 BUF 0)                   \n",
      "episode : 179\n",
      " Retrying in 1 seconds\n"
     ]
    },
    {
     "name": "stderr",
     "output_type": "stream",
     "text": [
      "Warning: Environment variable SUMO_HOME is not set properly, disabling XML validation. Set 'auto' or 'always' for web lookups.\n"
     ]
    },
    {
     "name": "stdout",
     "output_type": "stream",
     "text": [
      "state : [0 0 0 0 0 0 0 0 0 0 0 0 0 0 0 0 0 0 0 0 0 0 0 0 0 0 0 0 0 0 0 0 0 0 0 0]\n",
      "Q_values : [ 2.2163897   2.3643036  -0.03671646 -3.6167157 ]\n",
      "state : [0 0 0 0 0 0 0 0 0 0 0 0 0 0 0 0 0 0 0 0 0 0 0 0 0 0 0 0 0 0 0 0 0 0 0 0]\n",
      "Q_values : [ 1.8954713   2.4184155   0.47659874 -3.2360554 ]\n",
      "state : [0 0 0 0 0 0 0 0 0 0 0 0 0 0 0 0 0 0 0 0 0 0 0 0 0 0 0 0 0 0 0 0 0 0 0 0]\n",
      "Q_values : [ 2.2508993   2.485083    0.84226775 -2.9712322 ]\n",
      "state : [0 0 0 0 0 0 0 0 0 0 0 0 0 0 0 0 0 0 0 0 0 0 0 0 0 0 0 0 0 0 0 0 0 0 0 0]\n",
      "Q_values : [ 1.8538163  1.9333384  1.2458184 -1.7427301]\n",
      "state : [0 0 0 0 0 0 0 0 0 0 0 0 0 0 0 0 0 0 0 0 0 0 0 0 0 0 0 0 0 0 0 0 0 0 0 0]\n",
      "Q_values : [ 2.158816   1.4253199  1.5229912 -0.968977 ]\n",
      "state : [0 0 0 0 0 0 0 0 0 0 0 0 0 0 1 0 1 0 0 0 0 0 0 0 0 0 0 0 0 0 0 0 0 0 0 0]         \n",
      "Q_values : [ 2.6803646  1.1518931  1.7912438 -0.3630693]\n"
     ]
    },
    {
     "name": "stderr",
     "output_type": "stream",
     "text": [
      "Warning: Vehicle 'veh_2' performs emergency stop at the end of lane 'end1_junction_2' because of a red traffic light (decel=-20.39, offset=0.10), time=21.24.\n"
     ]
    },
    {
     "name": "stdout",
     "output_type": "stream",
     "text": [
      "state : [0 0 0 0 0 0 0 0 0 0 0 0 0 0 1 0 1 1 0 0 0 0 0 0 0 0 0 0 0 0 0 0 0 0 0 0]\n",
      "Q_values : [ 2.5131454  1.88728    1.6865265 -0.05091  ]\n",
      "state : [0 0 0 0 0 0 0 0 0 0 0 0 0 0 1 0 2 2 0 0 0 0 0 0 0 0 0 0 0 0 0 0 0 0 0 0]\n",
      "Q_values : [ 1.2082107   2.7682605   1.7259334  -0.04064345]\n",
      "state : [0 0 0 0 0 0 0 0 0 0 0 0 0 0 0 0 4 4 0 0 0 0 0 0 0 0 0 0 0 0 0 0 0 0 0 0]\n",
      "Q_values : [2.580449   2.8168092  1.6809587  0.25028205]\n",
      "state : [0 0 0 0 0 0 0 0 0 0 0 0 0 0 0 0 6 5 0 0 0 0 1 1 0 0 0 0 0 0 0 0 0 0 0 0]\n",
      "Q_values : [ 2.8107429   2.706503    1.1711787  -0.00931382]\n",
      "state : [0 0 0 0 0 0 0 0 0 0 0 0 0 0 0 0 6 6 0 0 0 0 2 1 0 0 0 0 0 0 0 0 0 0 0 0]\n",
      "Q_values : [ 2.3464456   2.2907317   0.97242284 -0.739234  ]\n",
      "state : [0 0 0 0 0 0 0 0 0 0 0 0 0 0 0 0 6 6 0 0 0 0 3 3 0 0 0 0 0 0 0 0 0 0 0 0]\n",
      "Q_values : [ 2.3832865   1.8517593   0.13509989 -0.9193795 ]\n",
      "state : [0 0 0 0 0 0 0 0 0 0 0 0 0 0 0 0 6 6 0 0 0 0 4 4 0 0 0 0 0 0 0 0 0 0 0 0]\n",
      "Q_values : [ 1.1433791   2.091268   -0.31053042 -1.4846325 ]\n",
      "state : [0 0 0 0 0 0 0 0 0 0 0 0 0 0 0 0 6 6 0 0 0 0 4 4 0 0 0 0 0 0 0 0 0 0 0 0]\n",
      "Q_values : [ 2.2320132   1.770514   -0.71179986 -1.8287475 ]\n",
      "state : [0 0 0 0 0 0 0 0 0 0 0 0 0 0 0 0 6 6 0 0 0 0 4 4 0 0 0 0 0 0 0 0 0 0 0 0]\n",
      "Q_values : [ 2.4254591  2.4119797 -1.368643  -2.140637 ]\n",
      "state : [0 0 0 0 0 0 0 0 0 0 0 0 0 0 0 0 6 6 0 0 0 0 4 4 0 0 0 0 0 0 0 0 0 0 0 0]\n",
      "Q_values : [ 1.5260925  2.0490634 -2.3454833 -2.6553376]\n",
      "state : [0 0 0 0 0 0 0 0 0 0 0 0 0 0 0 0 6 6 0 0 0 0 4 4 0 0 0 0 0 0 0 0 0 0 0 0]\n",
      "Q_values : [ 1.106189  1.524724 -2.737061 -2.93409 ]\n",
      "state : [0 0 0 0 0 0 0 0 0 0 0 0 0 0 0 0 6 6 0 0 0 0 4 4 0 0 0 0 0 0 0 0 0 0 0 0]\n",
      "Q_values : [ 1.7892495  1.6301696 -3.2028663 -3.5969934]\n",
      "state : [0 0 0 0 0 0 0 0 0 0 0 0 0 0 0 0 6 6 0 0 0 0 4 4 0 0 0 0 0 0 0 0 0 0 0 0]\n",
      "Q_values : [ 1.8867629  1.4443421 -3.6222994 -4.1598496]\n",
      "state : [0 0 0 0 0 0 0 0 0 0 0 0 0 0 0 0 6 6 0 0 0 0 4 4 0 0 0 0 0 0 0 0 0 0 0 0]\n",
      "Q_values : [ 1.9017527  1.8891867 -3.6048863 -5.357801 ]\n",
      "Step #100.00 (0ms ?*RT. ?UPS, TraCI: 41ms, vehicles TOT 33 ACT 20 BUF 0)                   \n",
      "episode : 180\n",
      " Retrying in 1 seconds\n"
     ]
    },
    {
     "name": "stderr",
     "output_type": "stream",
     "text": [
      "Warning: Environment variable SUMO_HOME is not set properly, disabling XML validation. Set 'auto' or 'always' for web lookups.\n"
     ]
    },
    {
     "name": "stdout",
     "output_type": "stream",
     "text": [
      "state : [0 0 0 0 0 0 0 0 0 0 0 0 0 0 0 0 0 0 0 0 0 0 0 0 0 0 0 0 0 0 0 0 0 0 0 0]\n",
      "Q_values : [ 1.3121442  2.1588645 -4.792603  -6.0763345]\n",
      "state : [0 0 0 0 0 0 0 0 0 0 0 0 0 0 0 0 0 0 0 0 0 0 0 0 0 0 0 0 0 0 0 0 0 0 0 0]\n",
      "Q_values : [ 2.8431213  2.3627372 -4.698165  -5.705387 ]\n",
      "state : [0 0 0 0 0 0 0 0 0 0 0 0 0 0 0 0 0 0 0 0 0 0 0 0 0 0 0 0 0 0 0 0 0 0 0 0]\n",
      "Q_values : [ 2.4455643  2.7834115 -4.9362807 -6.0576544]\n",
      "state : [0 0 0 0 0 0 0 0 0 0 0 0 0 0 0 0 0 0 0 0 0 0 0 0 0 0 0 0 0 0 0 0 0 0 0 0]\n",
      "Q_values : [ 2.0723546  2.589534  -5.150691  -4.9362516]\n",
      "state : [0 0 0 0 0 0 0 0 0 0 0 0 0 0 0 0 0 0 0 0 0 0 0 0 0 0 0 0 0 0 0 0 0 0 0 0]\n",
      "Q_values : [ 2.0897954  1.7411952 -5.4541473 -4.1198993]\n",
      "Step #21.00 (0ms ?*RT. ?UPS, TraCI: 0ms, vehicles TOT 22 ACT 22 BUF 0)                    \r"
     ]
    },
    {
     "name": "stderr",
     "output_type": "stream",
     "text": [
      "Warning: Vehicle 'veh_2' performs emergency stop at the end of lane 'end1_junction_2' because of a red traffic light (decel=-20.39, offset=0.10), time=21.24.\n"
     ]
    },
    {
     "name": "stdout",
     "output_type": "stream",
     "text": [
      "state : [0 0 0 0 0 0 0 0 0 0 0 0 0 0 1 0 1 0 0 0 0 0 0 0 0 0 0 0 0 0 0 0 0 0 0 0]\n",
      "Q_values : [ 1.7282174  1.4620327 -4.752323  -3.2277703]\n",
      "state : [0 0 0 0 0 0 0 0 0 0 0 0 0 0 1 0 1 1 0 0 0 0 0 0 0 0 0 0 0 0 0 0 0 0 0 0]\n",
      "Q_values : [ 1.1777346  1.3044518 -4.1860867 -2.5011199]\n",
      "state : [0 0 0 0 0 0 0 0 0 0 0 0 0 0 0 0 2 2 0 0 0 0 0 0 0 0 0 0 0 0 0 0 0 0 0 0]\n",
      "Q_values : [ 1.6775897  1.1526611 -3.5911822 -2.3795714]\n",
      "state : [0 0 0 0 0 0 0 0 0 0 0 0 0 0 0 0 4 4 0 0 0 0 0 0 0 0 0 0 0 0 0 0 0 0 0 0]\n",
      "Q_values : [ 2.5907779  1.618009  -3.158655  -2.2373214]\n",
      "state : [0 0 0 0 0 0 0 0 0 0 0 0 0 0 0 0 6 5 0 0 0 0 1 1 0 0 0 0 0 0 0 0 0 0 0 0]\n",
      "Q_values : [ 2.662376   3.5316958 -3.1732433 -2.0155134]\n",
      "state : [0 0 0 0 0 0 0 0 0 0 0 0 0 0 0 0 6 6 0 0 0 0 2 1 0 0 0 0 0 0 0 0 0 0 0 0]\n",
      "Q_values : [ 2.9747562  2.2328396 -2.6483762 -1.5467222]\n",
      "state : [0 0 0 0 0 0 0 0 0 0 0 0 0 0 0 0 6 6 0 0 0 0 3 3 0 0 0 0 0 0 0 0 0 0 0 0]\n",
      "Q_values : [ 2.3866525  2.7601278 -2.3422    -1.2472696]\n",
      "state : [0 0 0 0 0 0 0 0 0 0 0 0 0 0 0 0 6 6 0 0 0 0 4 4 0 0 0 0 0 0 0 0 0 0 0 0]\n",
      "Q_values : [ 1.598696   2.8045313 -2.066504  -1.6291993]\n",
      "state : [0 0 0 0 0 0 0 0 0 0 0 0 0 0 0 0 6 6 0 0 0 0 4 4 0 0 0 0 0 0 0 0 0 0 0 0]\n",
      "Q_values : [ 2.2967377  2.0565734 -2.0029635 -1.6654713]\n",
      "state : [0 0 0 0 0 0 0 0 0 0 0 0 0 0 0 0 6 6 0 0 0 0 4 4 0 0 0 0 0 0 0 0 0 0 0 0]\n",
      "Q_values : [ 2.7083879  2.483532  -1.9683614 -1.5688732]\n",
      "state : [0 0 0 0 0 0 0 0 0 0 0 0 0 0 0 0 6 6 0 0 0 0 4 4 0 0 0 0 0 0 0 0 0 0 0 0]\n",
      "Q_values : [ 2.7725887   2.670641   -1.719461   -0.91824937]\n",
      "state : [0 0 0 0 0 0 0 0 0 0 0 0 0 0 0 0 6 6 0 0 0 0 4 4 0 0 0 0 0 0 0 0 0 0 0 0]\n",
      "Q_values : [ 2.547169    2.8506575  -1.5436263  -0.46426225]\n",
      "state : [0 0 0 0 0 0 0 0 0 0 0 0 0 0 0 0 6 6 0 0 0 0 4 4 0 0 0 0 0 0 0 0 0 0 0 0]\n",
      "Q_values : [ 2.2676587e+00  2.8822849e+00 -1.1186664e+00  1.4402866e-03]\n",
      "state : [0 0 0 0 0 0 0 0 0 0 0 0 0 0 0 0 6 6 0 0 0 0 4 4 0 0 0 0 0 0 0 0 0 0 0 0]\n",
      "Q_values : [ 2.195653    2.8446414  -1.4629107   0.45964456]\n",
      "state : [0 0 0 0 0 0 0 0 0 0 0 0 0 0 0 0 6 6 0 0 0 0 4 4 0 0 0 0 0 0 0 0 0 0 0 0]\n",
      "Q_values : [ 1.8916799   2.2703214  -1.2855983   0.10444665]\n",
      "Step #100.00 (0ms ?*RT. ?UPS, TraCI: 30ms, vehicles TOT 33 ACT 20 BUF 0)                   \n",
      "episode : 181\n",
      " Retrying in 1 seconds\n"
     ]
    },
    {
     "name": "stderr",
     "output_type": "stream",
     "text": [
      "Warning: Environment variable SUMO_HOME is not set properly, disabling XML validation. Set 'auto' or 'always' for web lookups.\n"
     ]
    },
    {
     "name": "stdout",
     "output_type": "stream",
     "text": [
      "state : [0 0 0 0 0 0 0 0 0 0 0 0 0 0 0 0 0 0 0 0 0 0 0 0 0 0 0 0 0 0 0 0 0 0 0 0]\n",
      "Q_values : [ 1.9920974  2.718248  -1.5918756 -0.5146971]\n",
      "state : [0 0 0 0 0 0 0 0 0 0 0 0 0 0 0 0 0 0 0 0 0 0 0 0 0 0 0 0 0 0 0 0 0 0 0 0]\n",
      "Q_values : [ 1.9715905  3.2240908 -1.4822993 -0.7689054]\n",
      "state : [0 0 0 0 0 0 0 0 0 0 0 0 0 0 0 0 0 0 0 0 0 0 0 0 0 0 0 0 0 0 0 0 0 0 0 0]\n",
      "Q_values : [ 3.114423   3.8244045 -1.2623973 -0.997807 ]\n",
      "state : [0 0 0 0 0 0 0 0 0 0 0 0 0 0 0 0 0 0 0 0 0 0 0 0 0 0 0 0 0 0 0 0 0 0 0 0]\n",
      "Q_values : [ 3.634122   2.3300316 -1.1691892 -2.215612 ]\n",
      "state : [0 0 0 0 0 0 0 0 0 0 0 0 0 0 0 0 0 0 0 0 0 0 0 0 0 0 0 0 0 0 0 0 0 0 0 0]\n",
      "Q_values : [ 3.722639   3.2210543 -0.8716545 -2.8969986]\n",
      "state : [0 0 0 0 0 0 0 0 0 0 0 0 0 0 1 0 1 0 0 0 0 0 0 0 0 0 0 0 0 0 0 0 0 0 0 0]\n",
      "Q_values : [ 2.2650802   3.1618633  -0.31389356 -3.4800293 ]\n",
      "state : [0 0 0 0 0 0 0 0 0 0 0 0 0 0 0 0 1 1 0 0 0 0 0 0 0 0 0 0 0 0 0 0 0 0 0 0]\n",
      "Q_values : [ 2.5185375  2.469816  -1.1560626 -4.357885 ]\n",
      "state : [0 0 0 0 0 0 0 0 0 0 0 0 0 0 0 0 2 2 0 0 0 0 0 0 0 0 0 0 0 0 0 0 0 0 0 0]\n",
      "Q_values : [ 1.8790361  2.3699365 -1.0199685 -4.892826 ]\n",
      "state : [0 0 0 0 0 0 0 0 0 0 0 0 0 0 0 0 4 4 0 0 0 0 0 0 0 0 0 0 0 0 0 0 0 0 0 0]\n",
      "Q_values : [ 2.0429423  2.8793337 -0.745698  -4.4757624]\n",
      "state : [0 0 0 0 0 0 0 0 0 0 0 0 0 0 0 0 6 5 0 0 0 0 1 1 0 0 0 0 0 0 0 0 0 0 0 0]\n",
      "Q_values : [ 2.5449898  2.1282172 -1.0826833 -4.122899 ]\n",
      "state : [0 0 0 0 0 0 0 0 0 0 0 0 0 0 0 0 6 6 0 0 0 0 2 1 0 0 0 0 0 0 0 0 0 0 0 0]\n",
      "Q_values : [ 2.7247937  2.020235  -1.1802216 -3.1632783]\n",
      "state : [0 0 0 0 0 0 0 0 0 0 0 0 0 0 0 0 6 6 0 0 0 0 3 3 0 0 0 0 0 0 0 0 0 0 0 0]\n",
      "Q_values : [ 2.5040333   2.8277125  -0.52800155 -2.3750134 ]\n",
      "state : [0 0 0 0 0 0 0 0 0 0 0 0 0 0 0 0 6 6 0 0 0 0 4 4 0 0 0 0 0 0 0 0 0 0 0 0]\n",
      "Q_values : [ 2.6906896   2.207409   -0.01339984 -1.5476675 ]\n",
      "state : [0 0 0 0 0 0 0 0 0 0 0 0 0 0 0 0 6 6 0 0 0 0 4 4 0 0 0 0 0 0 0 0 0 0 0 0]\n",
      "Q_values : [ 3.0716743   2.086059   -0.63242126 -0.16055512]\n",
      "state : [0 0 0 0 0 0 0 0 0 0 0 0 0 0 0 0 6 6 0 0 0 0 4 4 0 0 0 0 0 0 0 0 0 0 0 0]\n",
      "Q_values : [ 2.0838351  2.5229616 -1.299782   1.058775 ]\n",
      "state : [0 0 0 0 0 0 0 0 0 0 0 0 0 0 0 0 6 6 0 0 0 0 4 4 0 0 0 0 0 0 0 0 0 0 0 0]\n",
      "Q_values : [ 1.5530345  2.233395  -1.3400345  2.0120723]\n",
      "state : [0 0 0 0 0 0 0 0 0 0 0 0 0 0 0 0 6 6 0 0 0 0 4 4 0 0 0 0 0 0 0 0 0 0 0 0]\n",
      "Q_values : [ 1.8161571  1.9568288 -1.340188   2.0196533]\n",
      "state : [0 0 0 0 0 0 0 0 0 0 0 0 0 0 0 0 6 0 0 0 0 0 4 0 0 0 0 0 0 0 0 0 0 0 0 0]\n",
      "Q_values : [ 1.1454575  1.3650917 -2.253983   2.4260795]\n",
      "state : [0 0 0 0 0 0 0 0 0 0 0 0 0 0 0 0 6 0 0 0 0 0 4 0 0 0 0 0 0 0 0 0 0 0 0 0]\n",
      "Q_values : [ 1.9372038  2.332328  -2.6832857  1.9897369]\n",
      "state : [0 0 0 0 0 0 0 0 0 0 0 0 0 0 0 0 6 0 0 0 0 0 4 0 0 0 0 0 0 0 0 0 0 0 0 0]\n",
      "Q_values : [ 2.283033   1.9392982 -3.80719    1.9179908]\n",
      "Step #100.00 (0ms ?*RT. ?UPS, TraCI: 30ms, vehicles TOT 33 ACT 20 BUF 0)                   \n",
      "episode : 182\n",
      " Retrying in 1 seconds\n"
     ]
    },
    {
     "name": "stderr",
     "output_type": "stream",
     "text": [
      "Warning: Environment variable SUMO_HOME is not set properly, disabling XML validation. Set 'auto' or 'always' for web lookups.\n"
     ]
    },
    {
     "name": "stdout",
     "output_type": "stream",
     "text": [
      "state : [0 0 0 0 0 0 0 0 0 0 0 0 0 0 0 0 0 0 0 0 0 0 0 0 0 0 0 0 0 0 0 0 0 0 0 0]\n",
      "Q_values : [ 1.8659407   1.9313159  -4.1903954   0.64309335]\n",
      "state : [0 0 0 0 0 0 0 0 0 0 0 0 0 0 0 0 0 0 0 0 0 0 0 0 0 0 0 0 0 0 0 0 0 0 0 0]\n",
      "Q_values : [ 2.8277678   1.2624395  -4.298211    0.08196568]\n",
      "state : [0 0 0 0 0 0 0 0 0 0 0 0 0 0 0 0 0 0 0 0 0 0 0 0 0 0 0 0 0 0 0 0 0 0 0 0]\n",
      "Q_values : [ 2.693986    3.1500013  -4.591035   -0.42330074]\n",
      "state : [0 0 0 0 0 0 0 0 0 0 0 0 0 0 0 0 0 0 0 0 0 0 0 0 0 0 0 0 0 0 0 0 0 0 0 0]\n",
      "Q_values : [ 3.3158693  3.726129  -3.9609938 -1.3075633]\n",
      "state : [0 0 0 0 0 0 0 0 0 0 0 0 0 0 0 0 0 0 0 0 0 0 0 0 0 0 0 0 0 0 0 0 0 0 0 0]\n",
      "Q_values : [ 3.012829   3.092301  -3.622632  -2.3888276]\n",
      "state : [0 0 0 0 0 0 0 0 0 0 0 0 0 1 0 0 1 0 0 0 0 0 0 0 0 0 0 0 0 0 0 0 0 0 0 0]\n",
      "Q_values : [ 2.9509342  2.7703228 -3.0372956 -3.1401515]\n",
      "state : [0 0 0 0 0 0 0 0 0 0 0 0 0 0 0 0 1 1 0 0 0 0 0 0 0 0 0 0 0 0 0 0 0 0 0 0]\n",
      "Q_values : [ 2.8790932  1.3349638 -2.0388546 -3.8122685]\n",
      "state : [0 0 0 0 0 0 0 0 0 0 0 0 0 0 0 0 2 2 0 0 0 0 0 0 0 0 0 0 0 0 0 0 0 0 0 0]\n",
      "Q_values : [ 1.7684431  1.5920492 -1.340483  -3.664809 ]\n",
      "state : [0 0 0 0 0 0 0 0 0 0 0 0 0 0 0 0 4 4 0 0 0 0 0 0 0 0 0 0 0 0 0 0 0 0 0 0]\n",
      "Q_values : [ 0.79217225  2.3186464  -0.5304835  -3.8885276 ]\n",
      "state : [0 0 0 0 0 0 0 0 0 0 0 0 0 0 0 0 6 5 0 0 0 0 1 1 0 0 0 0 0 0 0 0 0 0 0 0]\n",
      "Q_values : [ 1.5113208   1.805534    0.21052217 -3.9328759 ]\n",
      "state : [0 0 0 0 0 0 0 0 0 0 0 0 0 0 0 0 6 6 0 0 0 0 2 1 0 0 0 0 0 0 0 0 0 0 0 0]\n",
      "Q_values : [ 2.4662688   1.9186738   0.96943927 -3.700476  ]\n",
      "state : [0 0 0 0 0 0 0 0 0 0 0 0 0 0 0 0 6 6 0 0 0 0 3 3 0 0 0 0 0 0 0 0 0 0 0 0]\n",
      "Q_values : [ 2.1733809  2.5629954  1.3134924 -3.655551 ]\n",
      "state : [0 0 0 0 0 0 0 0 0 0 0 0 0 0 0 0 6 6 0 0 0 0 4 4 0 0 0 0 0 0 0 0 0 0 0 0]\n",
      "Q_values : [ 2.1936343  3.0820103  1.6044388 -3.6150966]\n",
      "state : [0 0 0 0 0 0 0 0 0 0 0 0 0 0 0 0 6 6 0 0 0 0 4 4 0 0 0 0 0 0 0 0 0 0 0 0]\n",
      "Q_values : [ 3.05305    2.9349337  1.2073675 -1.9371824]\n",
      "state : [0 0 0 0 0 0 0 0 0 0 0 0 0 0 0 0 6 6 0 0 0 0 4 4 0 0 0 0 0 0 0 0 0 0 0 0]\n",
      "Q_values : [ 2.9658852  3.8231478  1.2178315 -1.3527288]\n",
      "state : [0 0 0 0 0 0 0 0 0 0 0 0 0 0 0 0 6 6 0 0 0 0 4 4 0 0 0 0 0 0 0 0 0 0 0 0]\n",
      "Q_values : [ 2.4020567   2.387495    1.2862861  -0.08387828]\n",
      "state : [0 0 0 0 0 0 0 0 0 0 0 0 0 0 0 0 6 6 0 0 0 0 4 4 0 0 0 0 0 0 0 0 0 0 0 0]\n",
      "Q_values : [1.9311031 1.5639185 1.2981384 0.5655608]\n",
      "state : [0 0 0 0 0 0 0 0 0 0 0 0 0 0 0 0 6 6 0 0 0 0 4 4 0 0 0 0 0 0 0 0 0 0 0 0]\n",
      "Q_values : [2.0475817 1.0709045 0.9755223 1.1790133]\n",
      "state : [0 0 0 0 0 0 0 0 0 0 0 0 0 0 0 0 6 6 0 0 0 0 4 4 0 0 0 0 0 0 0 0 0 0 0 0]\n",
      "Q_values : [1.9584222  1.5649137  0.63503075 0.8354752 ]\n",
      "Step #100.00 (0ms ?*RT. ?UPS, TraCI: 30ms, vehicles TOT 33 ACT 20 BUF 0)                   \n",
      "episode : 183\n",
      " Retrying in 1 seconds\n"
     ]
    },
    {
     "name": "stderr",
     "output_type": "stream",
     "text": [
      "Warning: Environment variable SUMO_HOME is not set properly, disabling XML validation. Set 'auto' or 'always' for web lookups.\n"
     ]
    },
    {
     "name": "stdout",
     "output_type": "stream",
     "text": [
      "state : [0 0 0 0 0 0 0 0 0 0 0 0 0 0 0 0 0 0 0 0 0 0 0 0 0 0 0 0 0 0 0 0 0 0 0 0]\n",
      "Q_values : [2.0739913  2.2515917  0.45246625 0.24833512]\n",
      "state : [0 0 0 0 0 0 0 0 0 0 0 0 0 0 0 0 0 0 0 0 0 0 0 0 0 0 0 0 0 0 0 0 0 0 0 0]\n",
      "Q_values : [ 2.8844507   2.3920064   0.27631283 -0.03111172]\n",
      "state : [0 0 0 0 0 0 0 0 0 0 0 0 0 0 0 0 0 0 0 0 0 0 0 0 0 0 0 0 0 0 0 0 0 0 0 0]\n",
      "Q_values : [ 2.1436038   2.7330685   0.20187974 -1.1791787 ]\n",
      "state : [0 0 0 0 0 0 0 0 0 0 0 0 0 0 0 0 0 0 0 0 0 0 0 0 0 0 0 0 0 0 0 0 0 0 0 0]\n",
      "Q_values : [ 1.8620129   2.4530857   0.17909503 -1.4767542 ]\n",
      "state : [0 0 0 0 0 0 0 0 0 0 0 0 0 0 0 0 0 0 0 0 0 0 0 0 0 0 0 0 0 0 0 0 0 0 0 0]\n",
      "Q_values : [ 2.212595   2.6478624  0.4146452 -2.4063094]\n",
      "state : [0 0 0 0 0 0 0 0 0 0 0 0 0 1 0 0 1 0 0 0 0 0 0 0 0 0 0 0 0 0 0 0 0 0 0 0]\n",
      "Q_values : [ 3.2260196   2.3439884   0.55224085 -2.9955456 ]\n",
      "state : [0 0 0 0 0 0 0 0 0 0 0 0 0 0 0 0 1 1 0 0 0 0 0 0 0 0 0 0 0 0 0 0 0 0 0 0]\n",
      "Q_values : [ 2.6046185   2.7114596   0.72172046 -3.5261226 ]\n",
      "state : [0 0 0 0 0 0 0 0 0 0 0 0 0 0 0 0 2 2 0 0 0 0 0 0 0 0 0 0 0 0 0 0 0 0 0 0]\n",
      "Q_values : [ 2.4985867   1.642153    0.49551058 -4.0123596 ]\n",
      "state : [0 0 0 0 0 0 0 0 0 0 0 0 0 0 0 0 4 4 0 0 0 0 0 0 0 0 0 0 0 0 0 0 0 0 0 0]\n",
      "Q_values : [ 1.7501982   1.7715147   0.34604955 -3.86852   ]\n",
      "state : [0 0 0 0 0 0 0 0 0 0 0 0 0 0 0 0 6 5 0 0 0 0 1 1 0 0 0 0 0 0 0 0 0 0 0 0]\n",
      "Q_values : [ 1.7116995   1.9406179  -0.31078458 -3.3302643 ]\n",
      "state : [0 0 0 0 0 0 0 0 0 0 0 0 0 0 0 0 6 6 0 0 0 0 2 1 0 0 0 0 0 0 0 0 0 0 0 0]\n",
      "Q_values : [ 1.8609226  1.729748  -0.6304388 -2.3369298]\n",
      "state : [0 0 0 0 0 0 0 0 0 0 0 0 0 0 0 0 6 6 0 0 0 0 3 3 0 0 0 0 0 0 0 0 0 0 0 0]\n",
      "Q_values : [ 1.3597924  0.8152462 -1.5294979 -1.8368645]\n",
      "state : [0 0 0 0 0 0 0 0 0 0 0 0 0 0 0 0 6 6 0 0 0 0 4 4 0 0 0 0 0 0 0 0 0 0 0 0]\n",
      "Q_values : [ 1.8705122  1.1321548 -2.0762694 -1.3865831]\n",
      "state : [0 0 0 0 0 0 0 0 0 0 0 0 0 0 0 0 6 6 0 0 0 0 4 4 0 0 0 0 0 0 0 0 0 0 0 0]\n",
      "Q_values : [ 2.776629   2.8050764 -2.3374336 -0.981123 ]\n",
      "state : [0 0 0 0 0 0 0 0 0 0 0 0 0 0 0 0 6 6 0 0 0 0 4 4 0 0 0 0 0 0 0 0 0 0 0 0]\n",
      "Q_values : [ 2.8457386  3.1804118 -3.041623  -2.1553137]\n",
      "state : [0 0 0 0 0 0 0 0 0 0 0 0 0 0 0 0 6 6 0 0 0 0 4 4 0 0 0 0 0 0 0 0 0 0 0 0]\n",
      "Q_values : [ 3.0352135  3.6216717 -3.555887  -2.2150953]\n",
      "state : [0 0 0 0 0 0 0 0 0 0 0 0 0 0 0 0 6 6 0 0 0 0 4 4 0 0 0 0 0 0 0 0 0 0 0 0]\n",
      "Q_values : [ 2.6371148  3.4020443 -4.329937  -2.0320096]\n",
      "state : [0 0 0 0 0 0 0 0 0 0 0 0 0 0 0 0 6 6 0 0 0 0 4 4 0 0 0 0 0 0 0 0 0 0 0 0]\n",
      "Q_values : [ 2.6154199  2.762069  -3.772105  -1.9728432]\n",
      "state : [0 0 0 0 0 0 0 0 0 0 0 0 0 0 0 0 6 6 0 0 0 0 4 4 0 0 0 0 0 0 0 0 0 0 0 0]\n",
      "Q_values : [ 2.5276632  2.646727  -3.6937687 -1.9512618]\n",
      "state : [0 0 0 0 0 0 0 0 0 0 0 0 0 0 0 0 6 6 0 0 0 0 4 4 0 0 0 0 0 0 0 0 0 0 0 0]\n",
      "Q_values : [ 1.3865237  1.8535925 -4.1011434 -1.8205647]\n",
      "Step #100.00 (0ms ?*RT. ?UPS, TraCI: 30ms, vehicles TOT 33 ACT 20 BUF 0)                   \n",
      "episode : 184\n",
      " Retrying in 1 seconds\n"
     ]
    },
    {
     "name": "stderr",
     "output_type": "stream",
     "text": [
      "Warning: Environment variable SUMO_HOME is not set properly, disabling XML validation. Set 'auto' or 'always' for web lookups.\n"
     ]
    },
    {
     "name": "stdout",
     "output_type": "stream",
     "text": [
      "state : [0 0 0 0 0 0 0 0 0 0 0 0 0 0 0 0 0 0 0 0 0 0 0 0 0 0 0 0 0 0 0 0 0 0 0 0]\n",
      "Q_values : [ 1.2448399  1.5283253 -4.623723  -1.5582216]\n",
      "state : [0 0 0 0 0 0 0 0 0 0 0 0 0 0 0 0 0 0 0 0 0 0 0 0 0 0 0 0 0 0 0 0 0 0 0 0]\n",
      "Q_values : [ 0.9235734  1.8957131 -4.648928  -1.1767325]\n",
      "state : [0 0 0 0 0 0 0 0 0 0 0 0 0 0 0 0 0 0 0 0 0 0 0 0 0 0 0 0 0 0 0 0 0 0 0 0]\n",
      "Q_values : [ 1.6413687  2.1117024 -4.801596  -1.2071865]\n",
      "state : [0 0 0 0 0 0 0 0 0 0 0 0 0 0 0 0 0 0 0 0 0 0 0 0 0 0 0 0 0 0 0 0 0 0 0 0]\n",
      "Q_values : [ 3.0537639  2.3108268 -4.939063  -1.0921047]\n",
      "state : [0 0 0 0 0 0 0 0 0 0 0 0 0 0 0 0 0 0 0 0 0 0 0 0 0 0 0 0 0 0 0 0 0 0 0 0]\n",
      "Q_values : [ 2.374951   2.5555148 -4.123086  -0.9974425]\n",
      "state : [0 0 0 0 0 0 0 0 0 0 0 0 0 0 0 0 1 0 0 0 0 0 0 0 0 0 0 0 0 0 0 0 0 0 0 0]\n",
      "Q_values : [ 2.8603833  2.5608678 -3.8189216 -1.4683511]\n",
      "state : [0 0 0 0 0 0 0 0 0 0 0 0 0 0 0 0 1 1 0 0 0 0 0 0 0 0 0 0 0 0 0 0 0 0 0 0]\n",
      "Q_values : [ 2.4867706  2.9097776 -3.1703575 -2.07545  ]\n",
      "state : [0 0 0 0 0 0 0 0 0 0 0 0 0 0 0 0 2 2 0 0 0 0 0 0 0 0 0 0 0 0 0 0 0 0 0 0]\n",
      "Q_values : [ 1.9195247  1.9737856 -2.6035411 -2.7323573]\n",
      "state : [0 0 0 0 0 0 0 0 0 0 0 0 0 0 0 0 4 4 0 0 0 0 0 0 0 0 0 0 0 0 0 0 0 0 0 0]\n",
      "Q_values : [ 1.9788427  2.1860414 -2.1707482 -2.7793136]\n",
      "state : [0 0 0 0 0 0 0 0 0 0 0 0 0 0 0 0 6 5 0 0 0 0 1 1 0 0 0 0 0 0 0 0 0 0 0 0]\n",
      "Q_values : [ 1.6140361  2.6112893 -2.6161275 -2.8723342]\n",
      "state : [0 0 0 0 0 0 0 0 0 0 0 0 0 0 0 0 6 6 0 0 0 0 2 1 0 0 0 0 0 0 0 0 0 0 0 0]\n",
      "Q_values : [ 2.266243   2.8338509 -2.336101  -3.020062 ]\n",
      "state : [0 0 0 0 0 0 0 0 0 0 0 0 0 0 0 0 6 6 0 0 0 0 3 3 0 0 0 0 0 0 0 0 0 0 0 0]\n",
      "Q_values : [ 2.05613    2.5925398 -2.3828769 -2.0496972]\n",
      "state : [0 0 0 0 0 0 0 0 0 0 0 0 0 0 0 0 6 6 0 0 0 0 4 4 0 0 0 0 0 0 0 0 0 0 0 0]\n",
      "Q_values : [ 2.1040635  2.6006994 -2.2979612 -2.0342534]\n",
      "state : [0 0 0 0 0 0 0 0 0 0 0 0 0 0 0 0 6 6 0 0 0 0 4 4 0 0 0 0 0 0 0 0 0 0 0 0]\n",
      "Q_values : [ 2.6967952  1.8475815 -1.7205493 -1.500617 ]\n",
      "state : [0 0 0 0 0 0 0 0 0 0 0 0 0 0 0 0 6 6 0 0 0 0 4 4 0 0 0 0 0 0 0 0 0 0 0 0]\n",
      "Q_values : [ 2.804285   1.3964813 -0.9290216 -1.1407351]\n",
      "state : [0 0 0 0 0 0 0 0 0 0 0 0 0 0 0 0 6 6 0 0 0 0 4 4 0 0 0 0 0 0 0 0 0 0 0 0]\n",
      "Q_values : [ 3.6618881  2.0758903 -0.8032992 -0.8405385]\n",
      "state : [0 0 0 0 0 0 0 0 0 0 0 0 0 0 0 0 6 6 0 0 0 0 4 4 0 0 0 0 0 0 0 0 0 0 0 0]\n",
      "Q_values : [ 4.258489    2.7579284  -0.52877164 -0.37734342]\n",
      "state : [0 0 0 0 0 0 0 0 0 0 0 0 0 0 0 0 6 6 0 0 0 0 4 4 0 0 0 0 0 0 0 0 0 0 0 0]\n",
      "Q_values : [ 3.846714    4.086717   -0.62339926 -0.05168056]\n",
      "state : [0 0 0 0 0 0 0 0 0 0 0 0 0 0 0 0 6 6 0 0 0 0 4 4 0 0 0 0 0 0 0 0 0 0 0 0]\n",
      "Q_values : [ 2.9258752   2.9079628  -0.35194588  0.39297605]\n",
      "state : [0 0 0 0 0 0 0 0 0 0 0 0 0 0 0 0 6 6 0 0 0 0 4 4 0 0 0 0 0 0 0 0 0 0 0 0]\n",
      "Q_values : [ 2.2872138   1.9643478  -0.7974136   0.79897594]\n",
      "Step #100.00 (0ms ?*RT. ?UPS, TraCI: 31ms, vehicles TOT 33 ACT 20 BUF 0)                   \n",
      "episode : 185\n",
      " Retrying in 1 seconds\n"
     ]
    },
    {
     "name": "stderr",
     "output_type": "stream",
     "text": [
      "Warning: Environment variable SUMO_HOME is not set properly, disabling XML validation. Set 'auto' or 'always' for web lookups.\n"
     ]
    },
    {
     "name": "stdout",
     "output_type": "stream",
     "text": [
      "state : [0 0 0 0 0 0 0 0 0 0 0 0 0 0 0 0 0 0 0 0 0 0 0 0 0 0 0 0 0 0 0 0 0 0 0 0]\n",
      "Q_values : [ 0.5580829  1.4071934 -1.2117722  1.1278896]\n",
      "state : [0 0 0 0 0 0 0 0 0 0 0 0 0 0 0 0 0 0 0 0 0 0 0 0 0 0 0 0 0 0 0 0 0 0 0 0]\n",
      "Q_values : [ 0.41246355  1.65537    -2.6233888   1.1761928 ]\n",
      "state : [0 0 0 0 0 0 0 0 0 0 0 0 0 0 0 0 0 0 0 0 0 0 0 0 0 0 0 0 0 0 0 0 0 0 0 0]\n",
      "Q_values : [ 1.8336973  1.9832195 -2.6529305  1.1670792]\n",
      "state : [0 0 0 0 0 0 0 0 0 0 0 0 0 0 0 0 0 0 0 0 0 0 0 0 0 0 0 0 0 0 0 0 0 0 0 0]\n",
      "Q_values : [ 1.8041089  1.8289895 -3.0028296  1.2267547]\n",
      "state : [0 0 0 0 0 0 0 0 0 0 0 0 0 0 0 0 0 0 0 0 0 0 0 0 0 0 0 0 0 0 0 0 0 0 0 0]\n",
      "Q_values : [ 2.7599988  2.157879  -3.3178985  1.286515 ]\n",
      "state : [0 0 0 0 0 0 0 0 0 0 0 0 0 0 1 0 1 0 0 0 0 0 0 0 0 0 0 0 0 0 0 0 0 0 0 0]         \n",
      "Q_values : [ 2.7668476  2.2205791 -3.2584534  1.3403275]\n"
     ]
    },
    {
     "name": "stderr",
     "output_type": "stream",
     "text": [
      "Warning: Vehicle 'veh_2' performs emergency stop at the end of lane 'end1_junction_2' because of a red traffic light (decel=-20.39, offset=0.10), time=21.24.\n"
     ]
    },
    {
     "name": "stdout",
     "output_type": "stream",
     "text": [
      "state : [0 0 0 0 0 0 0 0 0 0 0 0 0 0 1 0 1 1 0 0 0 0 0 0 0 0 0 0 0 0 0 0 0 0 0 0]\n",
      "Q_values : [ 2.7423153   2.0354009  -3.028383    0.67302537]\n",
      "state : [0 0 0 0 0 0 0 0 0 0 0 0 0 0 1 0 2 2 0 0 0 0 0 0 0 0 0 0 0 0 0 0 0 0 0 0]\n",
      "Q_values : [ 2.6485138   1.9997691  -2.8504386   0.67963314]\n",
      "state : [0 0 0 0 0 0 0 0 0 0 0 0 0 0 1 0 4 4 0 0 0 0 0 0 0 0 0 0 0 0 0 0 0 0 0 0]\n",
      "Q_values : [ 2.4832044  1.7888709 -2.5203805  0.5584538]\n",
      "state : [0 0 0 0 0 0 0 0 0 0 0 0 0 0 1 0 6 5 0 0 0 0 1 1 0 0 0 0 0 0 0 0 0 0 0 0]\n",
      "Q_values : [ 2.168005   1.981437  -1.9117785  0.2121098]\n",
      "state : [0 0 0 0 0 0 0 0 0 0 0 0 0 0 1 0 6 6 0 0 0 0 2 1 0 0 0 0 0 0 0 0 0 0 0 0]\n",
      "Q_values : [ 1.8876879   2.1848288  -2.8073874   0.01266909]\n",
      "state : [0 0 0 0 0 0 0 0 0 0 0 0 0 0 0 0 6 6 0 0 0 0 3 3 0 0 0 0 0 0 0 0 0 0 0 0]\n",
      "Q_values : [ 2.66754     2.0692894  -3.1197007  -0.08843565]\n",
      "state : [0 0 0 0 0 0 0 0 0 0 0 0 0 0 0 0 6 6 0 0 0 0 4 4 0 0 0 0 0 0 0 0 0 0 0 0]\n",
      "Q_values : [ 2.8260007  2.0256848 -3.143349  -0.8400345]\n",
      "state : [0 0 0 0 0 0 0 0 0 0 0 0 0 0 0 0 6 6 0 0 0 0 4 4 0 0 0 0 0 0 0 0 0 0 0 0]\n",
      "Q_values : [ 3.0293436  3.1170778 -2.5991354 -1.2213576]\n",
      "state : [0 0 0 0 0 0 0 0 0 0 0 0 0 0 0 0 6 6 0 0 0 0 4 4 0 0 0 0 0 0 0 0 0 0 0 0]\n",
      "Q_values : [ 2.1634064  2.452884  -2.4248064 -1.6694901]\n",
      "state : [0 0 0 0 0 0 0 0 0 0 0 0 0 0 0 0 6 6 0 0 0 0 4 4 0 0 0 0 0 0 0 0 0 0 0 0]\n",
      "Q_values : [ 1.2924416  2.678862  -2.2678273 -2.5401447]\n",
      "state : [0 0 0 0 0 0 0 0 0 0 0 0 0 0 0 0 6 6 0 0 0 0 4 4 0 0 0 0 0 0 0 0 0 0 0 0]\n",
      "Q_values : [ 1.3775039  1.7194483 -2.1839848 -3.0791552]\n",
      "state : [0 0 0 0 0 0 0 0 0 0 0 0 0 0 0 0 6 6 0 0 0 0 4 4 0 0 0 0 0 0 0 0 0 0 0 0]\n",
      "Q_values : [ 1.5142078   0.67446196 -1.8583081  -3.14083   ]\n",
      "state : [0 0 0 0 0 0 0 0 0 0 0 0 0 0 0 0 6 6 0 0 0 0 4 4 0 0 0 0 0 0 0 0 0 0 0 0]\n",
      "Q_values : [ 1.8079107  1.075546  -1.5523331 -2.1900673]\n",
      "state : [0 0 0 0 0 0 0 0 0 0 0 0 0 0 0 0 6 6 0 0 0 0 4 4 0 0 0 0 0 0 0 0 0 0 0 0]\n",
      "Q_values : [ 2.0793269  2.0676618 -1.7058797 -1.6670129]\n",
      "Step #100.00 (0ms ?*RT. ?UPS, TraCI: 31ms, vehicles TOT 33 ACT 20 BUF 0)                   \n",
      "episode : 186\n",
      " Retrying in 1 seconds\n"
     ]
    },
    {
     "name": "stderr",
     "output_type": "stream",
     "text": [
      "Warning: Environment variable SUMO_HOME is not set properly, disabling XML validation. Set 'auto' or 'always' for web lookups.\n"
     ]
    },
    {
     "name": "stdout",
     "output_type": "stream",
     "text": [
      "state : [0 0 0 0 0 0 0 0 0 0 0 0 0 0 0 0 0 0 0 0 0 0 0 0 0 0 0 0 0 0 0 0 0 0 0 0]\n",
      "Q_values : [ 3.3097525  2.8271387 -1.3380833 -1.4974735]\n",
      "state : [0 0 0 0 0 0 0 0 0 0 0 0 0 0 0 0 0 0 0 0 0 0 0 0 0 0 0 0 0 0 0 0 0 0 0 0]\n",
      "Q_values : [ 2.8315392  3.1319485 -1.6769409 -2.1066887]\n",
      "state : [0 0 0 0 0 0 0 0 0 0 0 0 0 0 0 0 0 0 0 0 0 0 0 0 0 0 0 0 0 0 0 0 0 0 0 0]\n",
      "Q_values : [ 2.68004    2.5430596 -1.7385116 -1.984685 ]\n",
      "state : [0 0 0 0 0 0 0 0 0 0 0 0 0 0 0 0 0 0 0 0 0 0 0 0 0 0 0 0 0 0 0 0 0 0 0 0]\n",
      "Q_values : [ 3.4424472  1.7370349 -1.5679584 -2.0015092]\n",
      "state : [0 0 0 0 0 0 0 0 0 0 0 0 0 0 0 0 0 0 0 0 0 0 0 0 0 0 0 0 0 0 0 0 0 0 0 0]\n",
      "Q_values : [ 3.0646782  4.011367  -1.2799268 -2.2229638]\n",
      "state : [0 0 0 0 0 0 0 0 0 0 0 0 0 0 0 0 1 0 0 0 0 0 0 0 0 0 0 0 0 0 0 0 0 0 0 0]\n",
      "Q_values : [ 3.3848948   2.548554   -0.89365625 -1.8540337 ]\n",
      "state : [0 0 0 0 0 0 0 0 0 0 0 0 0 0 0 0 1 1 0 0 0 0 0 0 0 0 0 0 0 0 0 0 0 0 0 0]\n",
      "Q_values : [ 2.870494    2.5475874  -0.28015614 -1.7448311 ]\n",
      "state : [0 0 0 0 0 0 0 0 0 0 0 0 0 0 0 0 2 2 0 0 0 0 0 0 0 0 0 0 0 0 0 0 0 0 0 0]\n",
      "Q_values : [ 2.97971    2.1862502 -0.516958  -2.143827 ]\n",
      "state : [0 0 0 0 0 0 0 0 0 0 0 0 0 0 0 0 4 4 0 0 0 0 0 0 0 0 0 0 0 0 0 0 0 0 0 0]\n",
      "Q_values : [ 2.5245178   1.9131619  -0.29405355 -1.6644993 ]\n",
      "state : [0 0 0 0 0 0 0 0 0 0 0 0 0 0 0 0 6 5 0 0 0 0 1 1 0 0 0 0 0 0 0 0 0 0 0 0]\n",
      "Q_values : [ 2.2005239   2.904296   -0.08141875 -1.5185995 ]\n",
      "state : [0 0 0 0 0 0 0 0 0 0 0 0 0 0 0 0 6 6 0 0 0 0 2 1 0 0 0 0 0 0 0 0 0 0 0 0]\n",
      "Q_values : [ 2.465249    1.8332233  -0.43892288 -1.0266044 ]\n",
      "state : [0 0 0 0 0 0 0 0 0 0 0 0 0 0 0 0 6 6 0 0 0 0 3 3 0 0 0 0 0 0 0 0 0 0 0 0]\n",
      "Q_values : [ 2.3842244   1.1788921  -0.7146592  -0.75450134]\n",
      "state : [0 0 0 0 0 0 0 0 0 0 0 0 0 0 0 0 6 6 0 0 0 0 4 4 0 0 0 0 0 0 0 0 0 0 0 0]\n",
      "Q_values : [ 2.1810308   1.6832898  -0.58939385 -1.1093681 ]\n",
      "state : [0 0 0 0 0 0 0 0 0 0 0 0 0 0 0 0 6 6 0 0 0 0 4 4 0 0 0 0 0 0 0 0 0 0 0 0]\n",
      "Q_values : [ 2.4062157  2.001549  -1.0987942 -1.1446657]\n",
      "state : [0 0 0 0 0 0 0 0 0 0 0 0 0 0 0 0 6 6 0 0 0 0 4 4 0 0 0 0 0 0 0 0 0 0 0 0]\n",
      "Q_values : [ 1.5213128  3.2548633 -1.3256865 -0.7602148]\n",
      "state : [0 0 0 0 0 0 0 0 0 0 0 0 0 0 0 0 6 6 0 0 0 0 4 4 0 0 0 0 0 0 0 0 0 0 0 0]\n",
      "Q_values : [ 2.8634906  2.9121032 -0.9472141 -1.3301632]\n",
      "state : [0 0 0 0 0 0 0 0 0 0 0 0 0 0 0 0 6 6 0 0 0 0 4 4 0 0 0 0 0 0 0 0 0 0 0 0]\n",
      "Q_values : [ 2.5890112  2.5602608 -0.8825669 -2.207001 ]\n",
      "state : [0 0 0 0 0 0 0 0 0 0 0 0 0 0 0 0 6 6 0 0 0 0 4 4 0 0 0 0 0 0 0 0 0 0 0 0]\n",
      "Q_values : [ 2.0254288  2.8742044 -1.2277384 -2.6627295]\n",
      "state : [0 0 0 0 0 0 0 0 0 0 0 0 0 0 0 0 6 6 0 0 0 0 4 4 0 0 0 0 0 0 0 0 0 0 0 0]\n",
      "Q_values : [ 2.2190113  2.296059  -1.3473823 -2.773254 ]\n",
      "state : [0 0 0 0 0 0 0 0 0 0 0 0 0 0 0 0 6 6 0 0 0 0 4 4 0 0 0 0 0 0 0 0 0 0 0 0]\n",
      "Q_values : [ 2.6777968  1.6985464 -0.9391043 -2.5200949]\n",
      "Step #100.00 (0ms ?*RT. ?UPS, TraCI: 30ms, vehicles TOT 33 ACT 20 BUF 0)                   \n",
      "episode : 187\n",
      " Retrying in 1 seconds\n"
     ]
    },
    {
     "name": "stderr",
     "output_type": "stream",
     "text": [
      "Warning: Environment variable SUMO_HOME is not set properly, disabling XML validation. Set 'auto' or 'always' for web lookups.\n"
     ]
    },
    {
     "name": "stdout",
     "output_type": "stream",
     "text": [
      "state : [0 0 0 0 0 0 0 0 0 0 0 0 0 0 0 0 0 0 0 0 0 0 0 0 0 0 0 0 0 0 0 0 0 0 0 0]\n",
      "Q_values : [ 1.9559206  1.9545606 -0.6477959 -2.8398664]\n",
      "state : [0 0 0 0 0 0 0 0 0 0 0 0 0 0 0 0 0 0 0 0 0 0 0 0 0 0 0 0 0 0 0 0 0 0 0 0]\n",
      "Q_values : [ 1.4430637   1.1836351  -0.41897416 -2.6266942 ]\n",
      "state : [0 0 0 0 0 0 0 0 0 0 0 0 0 0 0 0 0 0 0 0 0 0 0 0 0 0 0 0 0 0 0 0 0 0 0 0]\n",
      "Q_values : [ 1.9675447   2.1628306  -0.06625152 -2.6018572 ]\n",
      "state : [0 0 0 0 0 0 0 0 0 0 0 0 0 0 0 0 0 0 0 0 0 0 0 0 0 0 0 0 0 0 0 0 0 0 0 0]\n",
      "Q_values : [ 2.4937005   2.559323    0.25631905 -3.0421472 ]\n",
      "state : [0 0 0 0 0 0 0 0 0 0 0 0 0 0 0 0 0 0 0 0 0 0 0 0 0 0 0 0 0 0 0 0 0 0 0 0]\n",
      "Q_values : [ 3.1451778  2.7576165  0.5082867 -3.2690446]\n",
      "state : [0 0 0 0 0 0 0 0 0 0 0 0 0 0 1 0 1 0 0 0 0 0 0 0 0 0 0 0 0 0 0 0 0 0 0 0]         \n",
      "Q_values : [ 3.2133021   2.8620515   0.00398755 -3.094865  ]\n"
     ]
    },
    {
     "name": "stderr",
     "output_type": "stream",
     "text": [
      "Warning: Vehicle 'veh_2' performs emergency stop at the end of lane 'end1_junction_2' because of a red traffic light (decel=-20.39, offset=0.10), time=21.24.\n"
     ]
    },
    {
     "name": "stdout",
     "output_type": "stream",
     "text": [
      "state : [0 0 0 0 0 0 0 0 0 0 0 0 0 0 1 0 1 1 0 0 0 0 0 0 0 0 0 0 0 0 0 0 0 0 0 0]\n",
      "Q_values : [ 2.9138165   3.8523178   0.16256833 -2.417009  ]\n",
      "state : [0 0 0 0 0 0 0 0 0 0 0 0 0 0 0 0 2 2 0 0 0 0 0 0 0 0 0 0 0 0 0 0 0 0 0 0]\n",
      "Q_values : [ 2.9015036   1.898437    0.30958652 -1.3504348 ]\n",
      "state : [0 0 0 0 0 0 0 0 0 0 0 0 0 0 0 0 4 4 0 0 0 0 0 0 0 0 0 0 0 0 0 0 0 0 0 0]\n",
      "Q_values : [ 1.7235773   2.2153263   0.38008714 -0.7611444 ]\n",
      "state : [0 0 0 0 0 0 0 0 0 0 0 0 0 0 0 0 6 5 0 0 0 0 1 1 0 0 0 0 0 0 0 0 0 0 0 0]\n",
      "Q_values : [ 1.3109851  1.194894   0.1606853 -1.2855265]\n",
      "state : [0 0 0 0 0 0 0 0 0 0 0 0 0 0 0 0 6 6 0 0 0 0 2 1 0 0 0 0 0 0 0 0 0 0 0 0]\n",
      "Q_values : [ 0.93135434  1.9113654  -0.5704498  -1.706295  ]\n",
      "state : [0 0 0 0 0 0 0 0 0 0 0 0 0 0 0 0 6 6 0 0 0 0 3 3 0 0 0 0 0 0 0 0 0 0 0 0]\n",
      "Q_values : [ 2.3515553  2.3598971 -0.799227  -1.677638 ]\n",
      "state : [0 0 0 0 0 0 0 0 0 0 0 0 0 0 0 0 6 6 0 0 0 0 4 4 0 0 0 0 0 0 0 0 0 0 0 0]\n",
      "Q_values : [ 2.6075368   1.9432143  -0.76525307 -2.2678685 ]\n",
      "state : [0 0 0 0 0 0 0 0 0 0 0 0 0 0 0 0 6 6 0 0 0 0 4 4 0 0 0 0 0 0 0 0 0 0 0 0]\n",
      "Q_values : [ 3.2215118  1.6289003 -1.006824  -3.0224674]\n",
      "state : [0 0 0 0 0 0 0 0 0 0 0 0 0 0 0 0 6 6 0 0 0 0 4 4 0 0 0 0 0 0 0 0 0 0 0 0]\n",
      "Q_values : [ 2.2685847  3.6380606 -1.1612961 -3.478562 ]\n",
      "state : [0 0 0 0 0 0 0 0 0 0 0 0 0 0 0 0 6 6 0 0 0 0 4 4 0 0 0 0 0 0 0 0 0 0 0 0]\n",
      "Q_values : [ 2.510209    3.1255307  -0.85774255 -4.5352926 ]\n",
      "state : [0 0 0 0 0 0 0 0 0 0 0 0 0 0 0 0 6 6 0 0 0 0 4 4 0 0 0 0 0 0 0 0 0 0 0 0]\n",
      "Q_values : [ 2.8015103   2.5417085  -0.61435556 -4.5717826 ]\n",
      "state : [0 0 0 0 0 0 0 0 0 0 0 0 0 0 0 0 6 6 0 0 0 0 4 4 0 0 0 0 0 0 0 0 0 0 0 0]\n",
      "Q_values : [ 2.433213    1.7499304  -0.48041606 -4.8950243 ]\n",
      "state : [0 0 0 0 0 0 0 0 0 0 0 0 0 0 0 0 6 6 0 0 0 0 4 4 0 0 0 0 0 0 0 0 0 0 0 0]\n",
      "Q_values : [ 1.9803953   1.3331596  -0.10744357 -5.470605  ]\n",
      "state : [0 0 0 0 0 0 0 0 0 0 0 0 0 0 0 0 6 6 0 0 0 0 4 4 0 0 0 0 0 0 0 0 0 0 0 0]\n",
      "Q_values : [ 2.1529067   0.9738283  -0.98401904 -5.8535786 ]\n",
      "Step #100.00 (0ms ?*RT. ?UPS, TraCI: 30ms, vehicles TOT 33 ACT 20 BUF 0)                   \n",
      "episode : 188\n",
      " Retrying in 1 seconds\n"
     ]
    },
    {
     "name": "stderr",
     "output_type": "stream",
     "text": [
      "Warning: Environment variable SUMO_HOME is not set properly, disabling XML validation. Set 'auto' or 'always' for web lookups.\n"
     ]
    },
    {
     "name": "stdout",
     "output_type": "stream",
     "text": [
      "state : [0 0 0 0 0 0 0 0 0 0 0 0 0 0 0 0 0 0 0 0 0 0 0 0 0 0 0 0 0 0 0 0 0 0 0 0]\n",
      "Q_values : [ 1.5626271  2.3193486 -0.7962315 -6.424037 ]\n",
      "state : [0 0 0 0 0 0 0 0 0 0 0 0 0 0 0 0 0 0 0 0 0 0 0 0 0 0 0 0 0 0 0 0 0 0 0 0]\n",
      "Q_values : [ 2.132774   3.0974312 -1.4424789 -5.411664 ]\n",
      "state : [0 0 0 0 0 0 0 0 0 0 0 0 0 0 0 0 0 0 0 0 0 0 0 0 0 0 0 0 0 0 0 0 0 0 0 0]\n",
      "Q_values : [ 2.5850933  2.8845482 -1.9654281 -4.8844757]\n",
      "state : [0 0 0 0 0 0 0 0 0 0 0 0 0 0 0 0 0 0 0 0 0 0 0 0 0 0 0 0 0 0 0 0 0 0 0 0]\n",
      "Q_values : [ 2.411821   2.6585007 -2.076555  -4.1312532]\n",
      "state : [0 0 0 0 0 0 0 0 0 0 0 0 0 0 0 0 0 0 0 0 0 0 0 0 0 0 0 0 0 0 0 0 0 0 0 0]\n",
      "Q_values : [ 2.900669   1.9917852 -2.787143  -4.3162127]\n",
      "state : [0 0 0 0 0 0 0 0 0 0 0 0 0 0 1 0 1 0 0 0 0 0 0 0 0 0 0 0 0 0 0 0 0 0 0 0]         \n",
      "Q_values : [ 2.9978268  2.7131577 -2.9535937 -3.247914 ]\n"
     ]
    },
    {
     "name": "stderr",
     "output_type": "stream",
     "text": [
      "Warning: Vehicle 'veh_2' performs emergency stop at the end of lane 'end1_junction_2' because of a red traffic light (decel=-20.39, offset=0.10), time=21.24.\n"
     ]
    },
    {
     "name": "stdout",
     "output_type": "stream",
     "text": [
      "state : [0 0 0 0 0 0 0 0 0 0 0 0 0 0 1 0 1 1 0 0 0 0 0 0 0 0 0 0 0 0 0 0 0 0 0 0]\n",
      "Q_values : [ 2.5117602  2.4581566 -3.042132  -2.7216072]\n",
      "state : [0 0 0 0 0 0 0 0 0 0 0 0 0 0 1 0 2 2 0 0 0 0 0 0 0 0 0 0 0 0 0 0 0 0 0 0]\n",
      "Q_values : [ 1.5737475  2.3287473 -2.5428424 -2.6898699]\n",
      "state : [0 0 0 0 0 0 0 0 0 0 0 0 0 0 0 0 4 4 0 0 0 0 0 0 0 0 0 0 0 0 0 0 0 0 0 0]\n",
      "Q_values : [ 1.5106914  2.1540513 -2.130963  -2.4517896]\n",
      "state : [0 0 0 0 0 0 0 0 0 0 0 0 0 0 0 0 6 5 0 0 0 0 1 1 0 0 0 0 0 0 0 0 0 0 0 0]\n",
      "Q_values : [ 2.2689242  2.1343718 -1.8909309 -2.1208558]\n",
      "state : [0 0 0 0 0 0 0 0 0 0 0 0 0 0 0 0 6 6 0 0 0 0 2 1 0 0 0 0 0 0 0 0 0 0 0 0]\n",
      "Q_values : [ 2.8827505  1.9125665 -1.674794  -2.3738246]\n",
      "state : [0 0 0 0 0 0 0 0 0 0 0 0 0 0 0 0 6 6 0 0 0 0 3 3 0 0 0 0 0 0 0 0 0 0 0 0]\n",
      "Q_values : [ 2.8743837  3.5308485 -1.2477825 -2.3667166]\n",
      "state : [0 0 0 0 0 0 0 0 0 0 0 0 0 0 0 0 6 6 0 0 0 0 4 4 0 0 0 0 0 0 0 0 0 0 0 0]\n",
      "Q_values : [ 2.9110153  3.4129891 -0.748615  -2.360313 ]\n",
      "state : [0 0 0 0 0 0 0 0 0 0 0 0 0 0 0 0 6 6 0 0 0 0 4 4 0 0 0 0 0 0 0 0 0 0 0 0]\n",
      "Q_values : [ 2.697791   2.0766842 -0.2631054 -2.791111 ]\n",
      "state : [0 0 0 0 0 0 0 0 0 0 0 0 0 0 0 0 6 6 0 0 0 0 4 4 0 0 0 0 0 0 0 0 0 0 0 0]\n",
      "Q_values : [ 2.6015596  1.7489276  0.1064961 -2.9721253]\n",
      "state : [0 0 0 0 0 0 0 0 0 0 0 0 0 0 0 0 6 6 0 0 0 0 4 4 0 0 0 0 0 0 0 0 0 0 0 0]\n",
      "Q_values : [ 1.7965975   2.4852061   0.46833634 -3.1351202 ]\n",
      "state : [0 0 0 0 0 0 0 0 0 0 0 0 0 0 0 0 6 6 0 0 0 0 4 4 0 0 0 0 0 0 0 0 0 0 0 0]\n",
      "Q_values : [ 1.992608    2.5383751   0.83827996 -3.3735998 ]\n",
      "state : [0 0 0 0 0 0 0 0 0 0 0 0 0 0 0 0 6 6 0 0 0 0 4 4 0 0 0 0 0 0 0 0 0 0 0 0]\n",
      "Q_values : [ 2.1726801  2.1856523  1.1761943 -3.597542 ]\n",
      "state : [0 0 0 0 0 0 0 0 0 0 0 0 0 0 0 0 6 6 0 0 0 0 4 4 0 0 0 0 0 0 0 0 0 0 0 0]\n",
      "Q_values : [ 1.3794606  1.8268896  0.7109468 -4.5567822]\n",
      "state : [0 0 0 0 0 0 0 0 0 0 0 0 0 0 0 0 6 6 0 0 0 0 4 4 0 0 0 0 0 0 0 0 0 0 0 0]\n",
      "Q_values : [ 1.3818972   1.6403934   0.66451836 -5.0495987 ]\n",
      "Step #100.00 (0ms ?*RT. ?UPS, TraCI: 31ms, vehicles TOT 33 ACT 20 BUF 0)                   \n",
      "episode : 189\n",
      " Retrying in 1 seconds\n"
     ]
    },
    {
     "name": "stderr",
     "output_type": "stream",
     "text": [
      "Warning: Environment variable SUMO_HOME is not set properly, disabling XML validation. Set 'auto' or 'always' for web lookups.\n"
     ]
    },
    {
     "name": "stdout",
     "output_type": "stream",
     "text": [
      "state : [0 0 0 0 0 0 0 0 0 0 0 0 0 0 0 0 0 0 0 0 0 0 0 0 0 0 0 0 0 0 0 0 0 0 0 0]\n",
      "Q_values : [ 1.6200914   1.6764013  -0.02284575 -5.069895  ]\n",
      "state : [0 0 0 0 0 0 0 0 0 0 0 0 0 0 0 0 0 0 0 0 0 0 0 0 0 0 0 0 0 0 0 0 0 0 0 0]\n",
      "Q_values : [ 1.9630468  1.3605276 -0.1250639 -4.85285  ]\n",
      "state : [0 0 0 0 0 0 0 0 0 0 0 0 0 0 0 0 0 0 0 0 0 0 0 0 0 0 0 0 0 0 0 0 0 0 0 0]\n",
      "Q_values : [ 2.2209132   2.2910988  -0.23572516 -4.150728  ]\n",
      "state : [0 0 0 0 0 0 0 0 0 0 0 0 0 0 0 0 0 0 0 0 0 0 0 0 0 0 0 0 0 0 0 0 0 0 0 0]\n",
      "Q_values : [ 3.512995   2.1083322 -0.3746419 -3.8127985]\n",
      "state : [0 0 0 0 0 0 0 0 0 0 0 0 0 0 0 0 0 0 0 0 0 0 0 0 0 0 0 0 0 0 0 0 0 0 0 0]\n",
      "Q_values : [ 4.104929    4.3321753  -0.49973202 -3.476964  ]\n",
      "state : [0 0 0 0 0 0 0 0 0 0 0 0 0 0 0 0 1 0 0 0 0 0 0 0 0 0 0 0 0 0 0 0 0 0 0 0]\n",
      "Q_values : [ 3.990518    3.6800907  -0.33744836 -2.5612538 ]\n",
      "state : [0 0 0 0 0 0 0 0 0 0 0 0 0 0 0 0 1 1 0 0 0 0 0 0 0 0 0 0 0 0 0 0 0 0 0 0]\n",
      "Q_values : [ 3.1750472   4.2501383  -0.14659643 -2.0391746 ]\n",
      "state : [0 0 0 0 0 0 0 0 0 0 0 0 0 0 0 0 2 2 0 0 0 0 0 0 0 0 0 0 0 0 0 0 0 0 0 0]\n",
      "Q_values : [ 3.3434672   3.5678406  -0.46721077 -1.2613578 ]\n",
      "state : [0 0 0 0 0 0 0 0 0 0 0 0 0 0 0 0 4 4 0 0 0 0 0 0 0 0 0 0 0 0 0 0 0 0 0 0]\n",
      "Q_values : [ 2.6386476   3.533271   -0.56183434 -0.17621684]\n",
      "state : [0 0 0 0 0 0 0 0 0 0 0 0 0 0 0 0 6 5 0 0 0 0 1 1 0 0 0 0 0 0 0 0 0 0 0 0]\n",
      "Q_values : [ 2.8197117  2.599029  -0.7726066  0.6845465]\n",
      "state : [0 0 0 0 0 0 0 0 0 0 0 0 0 0 0 0 6 6 0 0 0 0 2 1 0 0 0 0 0 0 0 0 0 0 0 0]\n",
      "Q_values : [ 2.0840926  2.1352673 -1.4901254  1.3955343]\n",
      "state : [0 0 0 0 0 0 0 0 0 0 0 0 0 0 0 0 6 6 0 0 0 0 3 3 0 0 0 0 0 0 0 0 0 0 0 0]\n",
      "Q_values : [ 1.2324606  1.5909501 -1.6988657  2.0114691]\n",
      "state : [0 0 0 0 0 0 0 0 0 0 0 0 0 0 0 0 6 0 0 0 0 0 4 0 0 0 0 0 0 0 0 0 0 0 0 0]\n",
      "Q_values : [ 1.831828   1.2320657 -2.209953   2.5775917]\n",
      "state : [0 0 0 0 0 0 0 0 0 0 0 0 0 0 0 0 6 0 0 0 0 0 4 0 0 0 0 0 0 0 0 0 0 0 0 0]\n",
      "Q_values : [ 2.1445684  2.3950682 -2.5527263  2.25114  ]\n",
      "state : [0 0 0 0 0 0 0 0 0 0 0 0 0 0 0 0 6 0 0 0 0 0 4 0 0 0 0 0 0 0 0 0 0 0 0 0]\n",
      "Q_values : [ 1.630553  2.406014 -2.861377  2.275228]\n",
      "state : [0 0 0 0 0 0 0 0 0 0 0 0 0 0 0 0 6 0 0 0 0 0 4 0 0 0 0 0 0 0 0 0 0 0 0 0]\n",
      "Q_values : [ 2.433042   2.7872927 -2.7579472  2.4767652]\n",
      "state : [0 0 0 0 0 0 0 0 0 0 0 0 0 0 0 0 6 0 0 0 0 0 4 0 0 0 0 0 0 0 0 0 0 0 0 0]\n",
      "Q_values : [ 2.0112562  2.5033832 -2.5328095  2.5905325]\n",
      "state : [0 0 0 0 0 0 0 0 0 0 0 0 0 0 0 0 6 0 0 0 0 0 4 0 0 0 0 0 0 0 0 0 0 0 0 0]\n",
      "Q_values : [ 2.241195   2.5825853 -2.478281   1.0227854]\n",
      "state : [0 0 0 0 0 0 0 0 0 0 0 0 0 0 0 0 6 0 0 0 0 0 4 0 0 0 0 0 0 0 0 0 0 0 0 0]\n",
      "Q_values : [ 1.744664   1.8838085 -2.4291816 -0.316329 ]\n",
      "state : [0 0 0 0 0 0 0 0 0 0 0 0 0 0 0 0 6 0 0 0 0 0 4 0 0 0 0 0 0 0 0 0 0 0 0 0]\n",
      "Q_values : [ 1.5810816  2.3261628 -1.9799032 -1.734087 ]\n",
      "Step #100.00 (0ms ?*RT. ?UPS, TraCI: 31ms, vehicles TOT 33 ACT 10 BUF 0)                   \n",
      "episode : 190\n",
      " Retrying in 1 seconds\n"
     ]
    },
    {
     "name": "stderr",
     "output_type": "stream",
     "text": [
      "Warning: Environment variable SUMO_HOME is not set properly, disabling XML validation. Set 'auto' or 'always' for web lookups.\n"
     ]
    },
    {
     "name": "stdout",
     "output_type": "stream",
     "text": [
      "state : [0 0 0 0 0 0 0 0 0 0 0 0 0 0 0 0 0 0 0 0 0 0 0 0 0 0 0 0 0 0 0 0 0 0 0 0]\n",
      "Q_values : [ 2.3955264   2.049605   -0.98119426 -3.0594158 ]\n",
      "state : [0 0 0 0 0 0 0 0 0 0 0 0 0 0 0 0 0 0 0 0 0 0 0 0 0 0 0 0 0 0 0 0 0 0 0 0]\n",
      "Q_values : [ 2.8313637   1.4725888  -0.29020667 -4.012412  ]\n",
      "state : [0 0 0 0 0 0 0 0 0 0 0 0 0 0 0 0 0 0 0 0 0 0 0 0 0 0 0 0 0 0 0 0 0 0 0 0]\n",
      "Q_values : [ 1.9339496   2.4733686   0.25410008 -4.5127554 ]\n",
      "state : [0 0 0 0 0 0 0 0 0 0 0 0 0 0 0 0 0 0 0 0 0 0 0 0 0 0 0 0 0 0 0 0 0 0 0 0]\n",
      "Q_values : [ 2.6912966   2.4128885   0.96937895 -4.0993385 ]\n",
      "state : [0 0 0 0 0 0 0 0 0 0 0 0 0 0 0 0 0 0 0 0 0 0 0 0 0 0 0 0 0 0 0 0 0 0 0 0]\n",
      "Q_values : [ 2.2468557  2.1549258  1.5351534 -3.6018894]\n",
      "state : [0 0 0 0 0 0 0 0 0 0 0 0 0 0 1 0 1 0 0 0 0 0 0 0 0 0 0 0 0 0 0 0 0 0 0 0]\n",
      "Q_values : [ 1.2561126  1.9119297  1.4710059 -3.194651 ]\n",
      "state : [0 0 0 0 0 0 0 0 0 0 0 0 0 0 0 0 1 1 0 0 0 0 0 0 0 0 0 0 0 0 0 0 0 0 0 0]\n",
      "Q_values : [ 0.94240344  1.7468529   1.6786056  -3.4445329 ]\n",
      "state : [0 0 0 0 0 0 0 0 0 0 0 0 0 0 0 0 2 2 0 0 0 0 0 0 0 0 0 0 0 0 0 0 0 0 0 0]\n",
      "Q_values : [ 2.1052318  2.18891    1.8655388 -3.2396069]\n",
      "state : [0 0 0 0 0 0 0 0 0 0 0 0 0 0 0 0 4 4 0 0 0 0 0 0 0 0 0 0 0 0 0 0 0 0 0 0]\n",
      "Q_values : [ 2.819612   2.0174508  1.219465  -3.1475356]\n",
      "state : [0 0 0 0 0 0 0 0 0 0 0 0 0 0 0 0 6 5 0 0 0 0 1 1 0 0 0 0 0 0 0 0 0 0 0 0]\n",
      "Q_values : [ 3.109549   3.3581195  1.0236001 -3.1302183]\n",
      "state : [0 0 0 0 0 0 0 0 0 0 0 0 0 0 0 0 6 6 0 0 0 0 2 1 0 0 0 0 0 0 0 0 0 0 0 0]\n",
      "Q_values : [ 3.6192186  3.4816914  0.8472357 -3.8524826]\n",
      "state : [0 0 0 0 0 0 0 0 0 0 0 0 0 0 0 0 6 6 0 0 0 0 3 3 0 0 0 0 0 0 0 0 0 0 0 0]\n",
      "Q_values : [ 3.540541   2.8334856  0.688427  -4.138444 ]\n",
      "state : [0 0 0 0 0 0 0 0 0 0 0 0 0 0 0 0 6 6 0 0 0 0 4 4 0 0 0 0 0 0 0 0 0 0 0 0]\n",
      "Q_values : [ 2.988737   2.6377954  0.5454271 -3.238311 ]\n",
      "state : [0 0 0 0 0 0 0 0 0 0 0 0 0 0 0 0 6 6 0 0 0 0 4 4 0 0 0 0 0 0 0 0 0 0 0 0]\n",
      "Q_values : [ 2.8699808  2.3229256  0.1738553 -2.0003867]\n",
      "state : [0 0 0 0 0 0 0 0 0 0 0 0 0 0 0 0 6 6 0 0 0 0 4 4 0 0 0 0 0 0 0 0 0 0 0 0]\n",
      "Q_values : [ 2.5640583   2.6662574   0.39278507 -1.020236  ]\n",
      "state : [0 0 0 0 0 0 0 0 0 0 0 0 0 0 0 0 6 6 0 0 0 0 4 4 0 0 0 0 0 0 0 0 0 0 0 0]\n",
      "Q_values : [ 2.1211135   2.1821728  -0.23328662 -0.56316185]\n",
      "state : [0 0 0 0 0 0 0 0 0 0 0 0 0 0 0 0 6 6 0 0 0 0 4 4 0 0 0 0 0 0 0 0 0 0 0 0]\n",
      "Q_values : [ 1.6558154   2.437453   -0.2798736  -0.64167523]\n",
      "state : [0 0 0 0 0 0 0 0 0 0 0 0 0 0 0 0 6 6 0 0 0 0 4 4 0 0 0 0 0 0 0 0 0 0 0 0]\n",
      "Q_values : [ 1.4196832   2.392167   -1.1114533  -0.09076309]\n",
      "state : [0 0 0 0 0 0 0 0 0 0 0 0 0 0 0 0 6 6 0 0 0 0 4 4 0 0 0 0 0 0 0 0 0 0 0 0]\n",
      "Q_values : [ 2.0892859   2.1314034  -1.5366259   0.34477115]\n",
      "state : [0 0 0 0 0 0 0 0 0 0 0 0 0 0 0 0 6 6 0 0 0 0 4 4 0 0 0 0 0 0 0 0 0 0 0 0]\n",
      "Q_values : [ 2.1451316  3.2957983 -1.7219386  0.6917701]\n",
      "Step #100.00 (0ms ?*RT. ?UPS, TraCI: 31ms, vehicles TOT 33 ACT 20 BUF 0)                   \n",
      "episode : 191\n",
      " Retrying in 1 seconds\n"
     ]
    },
    {
     "name": "stderr",
     "output_type": "stream",
     "text": [
      "Warning: Environment variable SUMO_HOME is not set properly, disabling XML validation. Set 'auto' or 'always' for web lookups.\n"
     ]
    },
    {
     "name": "stdout",
     "output_type": "stream",
     "text": [
      "state : [0 0 0 0 0 0 0 0 0 0 0 0 0 0 0 0 0 0 0 0 0 0 0 0 0 0 0 0 0 0 0 0 0 0 0 0]\n",
      "Q_values : [ 3.1653738   3.3783848  -2.4295352  -0.18718839]\n",
      "state : [0 0 0 0 0 0 0 0 0 0 0 0 0 0 0 0 0 0 0 0 0 0 0 0 0 0 0 0 0 0 0 0 0 0 0 0]\n",
      "Q_values : [ 2.9964604  2.718869  -3.4349198 -1.9269893]\n",
      "state : [0 0 0 0 0 0 0 0 0 0 0 0 0 0 0 0 0 0 0 0 0 0 0 0 0 0 0 0 0 0 0 0 0 0 0 0]\n",
      "Q_values : [ 3.3144736  2.3858004 -3.4018588 -2.7763717]\n",
      "state : [0 0 0 0 0 0 0 0 0 0 0 0 0 0 0 0 0 0 0 0 0 0 0 0 0 0 0 0 0 0 0 0 0 0 0 0]\n",
      "Q_values : [ 2.7895646  2.0758848 -2.9181058 -3.2134213]\n",
      "state : [0 0 0 0 0 0 0 0 0 0 0 0 0 0 0 0 0 0 0 0 0 0 0 0 0 0 0 0 0 0 0 0 0 0 0 0]\n",
      "Q_values : [ 1.7335368  2.8394623 -2.6708376 -3.762256 ]\n",
      "state : [0 0 0 0 0 0 0 0 0 0 0 0 0 0 0 0 1 0 0 0 0 0 0 0 0 0 0 0 0 0 0 0 0 0 0 0]\n",
      "Q_values : [ 1.545602   3.1641226 -1.9861088 -4.256449 ]\n",
      "state : [0 0 0 0 0 0 0 0 0 0 0 0 0 0 0 0 1 1 0 0 0 0 0 0 0 0 0 0 0 0 0 0 0 0 0 0]\n",
      "Q_values : [ 2.6919346  2.3025699 -1.5744772 -5.009383 ]\n",
      "state : [0 0 0 0 0 0 0 0 0 0 0 0 0 0 0 0 2 2 0 0 0 0 0 0 0 0 0 0 0 0 0 0 0 0 0 0]\n",
      "Q_values : [ 3.6489751  2.024016  -1.2291899 -5.8111963]\n",
      "state : [0 0 0 0 0 0 0 0 0 0 0 0 0 0 0 0 4 4 0 0 0 0 0 0 0 0 0 0 0 0 0 0 0 0 0 0]\n",
      "Q_values : [ 3.1041026  3.4814591 -0.6860595 -6.405305 ]\n",
      "state : [0 0 0 0 0 0 0 0 0 0 0 0 0 0 0 0 6 5 0 0 0 0 1 1 0 0 0 0 0 0 0 0 0 0 0 0]\n",
      "Q_values : [ 2.3333244   3.3205903  -0.19850016 -6.9402714 ]\n",
      "state : [0 0 0 0 0 0 0 0 0 0 0 0 0 0 0 0 6 6 0 0 0 0 2 1 0 0 0 0 0 0 0 0 0 0 0 0]\n",
      "Q_values : [ 2.7279527   3.4190354   0.15682125 -6.81392   ]\n",
      "state : [0 0 0 0 0 0 0 0 0 0 0 0 0 0 0 0 6 6 0 0 0 0 3 3 0 0 0 0 0 0 0 0 0 0 0 0]\n",
      "Q_values : [ 2.8912654   1.9648564   0.76259065 -7.2071724 ]\n",
      "state : [0 0 0 0 0 0 0 0 0 0 0 0 0 0 0 0 6 6 0 0 0 0 4 4 0 0 0 0 0 0 0 0 0 0 0 0]\n",
      "Q_values : [ 2.3430562  1.4644371  1.1798279 -7.4575   ]\n",
      "state : [0 0 0 0 0 0 0 0 0 0 0 0 0 0 0 0 6 6 0 0 0 0 4 4 0 0 0 0 0 0 0 0 0 0 0 0]\n",
      "Q_values : [ 1.5326465  1.559087   1.5548961 -7.1443205]\n",
      "state : [0 0 0 0 0 0 0 0 0 0 0 0 0 0 0 0 6 6 0 0 0 0 4 4 0 0 0 0 0 0 0 0 0 0 0 0]\n",
      "Q_values : [ 0.9314092  0.9270928  1.5629685 -6.683547 ]\n",
      "state : [0 0 0 0 0 0 0 0 0 0 0 0 0 0 0 0 0 6 0 0 0 0 0 4 0 0 0 0 0 0 0 0 0 0 0 0]\n",
      "Q_values : [ 1.7597103   1.7974896   0.84503865 -5.920333  ]\n",
      "state : [0 0 0 0 0 0 0 0 0 0 0 0 0 0 0 0 2 6 0 0 0 0 0 4 0 0 0 0 0 0 0 0 0 0 0 0]         \n",
      "Q_values : [ 1.8781672   1.8014108   0.62038255 -5.2390037 ]\n",
      "state : [0 0 0 0 0 0 0 0 0 0 0 0 0 0 0 0 2 6 0 0 0 0 0 4 0 0 0 0 0 0 0 0 0 0 0 0]\n",
      "Q_values : [ 1.8459263   1.9398015   0.28787255 -5.031115  ]\n"
     ]
    },
    {
     "name": "stderr",
     "output_type": "stream",
     "text": [
      "Warning: Vehicle 'veh_16' performs emergency stop at the end of lane 'end2_junction_1' because of a red traffic light (decel=-10.86, offset=0.01), time=75.79.\n"
     ]
    },
    {
     "name": "stdout",
     "output_type": "stream",
     "text": [
      "state : [0 0 0 0 0 0 0 0 0 0 0 0 0 0 0 0 2 6 0 0 0 0 0 4 0 0 0 0 0 0 0 0 0 0 0 0]\n",
      "Q_values : [ 1.9445233   1.3578793  -0.05134749 -4.2633467 ]\n",
      "state : [0 0 0 0 0 0 0 0 0 0 0 0 0 0 0 0 2 6 0 0 0 0 0 4 0 0 0 0 0 0 0 0 0 0 0 0]\n",
      "Q_values : [ 1.1660864  1.6864474 -0.9161029 -3.3943932]\n",
      "Step #100.00 (0ms ?*RT. ?UPS, TraCI: 31ms, vehicles TOT 33 ACT 12 BUF 0)                   \n",
      "episode : 192\n",
      " Retrying in 1 seconds\n"
     ]
    },
    {
     "name": "stderr",
     "output_type": "stream",
     "text": [
      "Warning: Environment variable SUMO_HOME is not set properly, disabling XML validation. Set 'auto' or 'always' for web lookups.\n"
     ]
    },
    {
     "name": "stdout",
     "output_type": "stream",
     "text": [
      "state : [0 0 0 0 0 0 0 0 0 0 0 0 0 0 0 0 0 0 0 0 0 0 0 0 0 0 0 0 0 0 0 0 0 0 0 0]\n",
      "Q_values : [ 2.3821754  1.4960847 -1.4254355 -2.7963605]\n",
      "state : [0 0 0 0 0 0 0 0 0 0 0 0 0 0 0 0 0 0 0 0 0 0 0 0 0 0 0 0 0 0 0 0 0 0 0 0]\n",
      "Q_values : [ 2.8171456  1.7902341 -1.8753507 -2.257861 ]\n",
      "state : [0 0 0 0 0 0 0 0 0 0 0 0 0 0 0 0 0 0 0 0 0 0 0 0 0 0 0 0 0 0 0 0 0 0 0 0]\n",
      "Q_values : [ 3.202795   3.392871  -2.0293965 -1.5001283]\n",
      "state : [0 0 0 0 0 0 0 0 0 0 0 0 0 0 0 0 0 0 0 0 0 0 0 0 0 0 0 0 0 0 0 0 0 0 0 0]\n",
      "Q_values : [ 2.6202993   3.3280702  -1.4327176  -0.47138357]\n",
      "state : [0 0 0 0 0 0 0 0 0 0 0 0 0 0 0 0 0 0 0 0 0 0 0 0 0 0 0 0 0 0 0 0 0 0 0 0]\n",
      "Q_values : [ 3.226824    3.1173658  -1.3002288  -0.35641885]\n",
      "state : [0 0 0 0 0 0 0 0 0 0 0 0 0 0 1 0 1 0 0 0 0 0 0 0 0 0 0 0 0 0 0 0 0 0 0 0]         \n",
      "Q_values : [ 1.7999943   3.0945773  -0.6589174   0.39239478]\n"
     ]
    },
    {
     "name": "stderr",
     "output_type": "stream",
     "text": [
      "Warning: Vehicle 'veh_2' performs emergency stop at the end of lane 'end1_junction_2' because of a red traffic light (decel=-20.39, offset=0.10), time=21.24.\n"
     ]
    },
    {
     "name": "stdout",
     "output_type": "stream",
     "text": [
      "state : [0 0 0 0 0 0 0 0 0 0 0 0 0 0 0 0 1 1 0 0 0 0 0 0 0 0 0 0 0 0 0 0 0 0 0 0]\n",
      "Q_values : [ 3.1789436   2.300068   -0.16010046  0.89232445]\n",
      "state : [0 0 0 0 0 0 0 0 0 0 0 0 0 0 0 0 2 2 0 0 0 0 0 0 0 0 0 0 0 0 0 0 0 0 0 0]\n",
      "Q_values : [2.915811   2.0414872  0.03682375 0.9471562 ]\n",
      "state : [0 0 0 0 0 0 0 0 0 0 0 0 0 0 0 0 4 4 0 0 0 0 0 0 0 0 0 0 0 0 0 0 0 0 0 0]\n",
      "Q_values : [ 2.815472    3.0222688   0.32801366 -0.15431166]\n",
      "state : [0 0 0 0 0 0 0 0 0 0 0 0 0 0 0 0 6 5 0 0 0 0 1 1 0 0 0 0 0 0 0 0 0 0 0 0]\n",
      "Q_values : [ 2.3909326   3.0631316  -0.10029459 -0.512202  ]\n",
      "state : [0 0 0 0 0 0 0 0 0 0 0 0 0 0 0 0 6 6 0 0 0 0 2 1 0 0 0 0 0 0 0 0 0 0 0 0]\n",
      "Q_values : [ 2.1425161   2.827824    0.11217356 -1.2746105 ]\n",
      "state : [0 0 0 0 0 0 0 0 0 0 0 0 0 0 0 0 6 6 0 0 0 0 3 3 0 0 0 0 0 0 0 0 0 0 0 0]\n",
      "Q_values : [ 2.0097542   2.6582835   0.37115836 -2.0967479 ]\n",
      "state : [0 0 0 0 0 0 0 0 0 0 0 0 0 0 0 0 6 6 0 0 0 0 4 4 0 0 0 0 0 0 0 0 0 0 0 0]\n",
      "Q_values : [ 2.2377439   3.2160807  -0.10977197 -2.6738584 ]\n",
      "state : [0 0 0 0 0 0 0 0 0 0 0 0 0 0 0 0 6 6 0 0 0 0 4 4 0 0 0 0 0 0 0 0 0 0 0 0]\n",
      "Q_values : [ 2.6143155  2.939837  -0.2708614 -3.6196241]\n",
      "state : [0 0 0 0 0 0 0 0 0 0 0 0 0 0 0 0 6 6 0 0 0 0 4 4 0 0 0 0 0 0 0 0 0 0 0 0]\n",
      "Q_values : [ 2.8199234   2.3162918  -0.50508285 -4.2692413 ]\n",
      "state : [0 0 0 0 0 0 0 0 0 0 0 0 0 0 0 0 6 6 0 0 0 0 4 4 0 0 0 0 0 0 0 0 0 0 0 0]\n",
      "Q_values : [ 2.4298944  2.2606091 -0.9953525 -4.854189 ]\n",
      "state : [0 0 0 0 0 0 0 0 0 0 0 0 0 0 0 0 6 6 0 0 0 0 4 4 0 0 0 0 0 0 0 0 0 0 0 0]\n",
      "Q_values : [ 1.1395981  1.6013272 -1.6780148 -5.3010874]\n",
      "state : [0 0 0 0 0 0 0 0 0 0 0 0 0 0 0 0 6 6 0 0 0 0 4 4 0 0 0 0 0 0 0 0 0 0 0 0]\n",
      "Q_values : [ 1.1734589  0.9104785 -1.9914839 -5.7413197]\n",
      "state : [0 0 0 0 0 0 0 0 0 0 0 0 0 0 0 0 6 6 0 0 0 0 4 4 0 0 0 0 0 0 0 0 0 0 0 0]\n",
      "Q_values : [ 1.5536064  1.0978075 -2.2062953 -5.6648827]\n",
      "state : [0 0 0 0 0 0 0 0 0 0 0 0 0 0 0 0 6 6 0 0 0 0 4 4 0 0 0 0 0 0 0 0 0 0 0 0]\n",
      "Q_values : [ 1.8361018  2.672507  -2.842736  -5.820092 ]\n",
      "Step #100.00 (0ms ?*RT. ?UPS, TraCI: 31ms, vehicles TOT 33 ACT 20 BUF 0)                   \n",
      "episode : 193\n",
      " Retrying in 1 seconds\n"
     ]
    },
    {
     "name": "stderr",
     "output_type": "stream",
     "text": [
      "Warning: Environment variable SUMO_HOME is not set properly, disabling XML validation. Set 'auto' or 'always' for web lookups.\n"
     ]
    },
    {
     "name": "stdout",
     "output_type": "stream",
     "text": [
      "state : [0 0 0 0 0 0 0 0 0 0 0 0 0 0 0 0 0 0 0 0 0 0 0 0 0 0 0 0 0 0 0 0 0 0 0 0]\n",
      "Q_values : [ 2.2892036  2.9833264 -3.233086  -5.959857 ]\n",
      "state : [0 0 0 0 0 0 0 0 0 0 0 0 0 0 0 0 0 0 0 0 0 0 0 0 0 0 0 0 0 0 0 0 0 0 0 0]\n",
      "Q_values : [ 3.0862093  3.1356494 -3.9902656 -6.0857015]\n",
      "state : [0 0 0 0 0 0 0 0 0 0 0 0 0 0 0 0 0 0 0 0 0 0 0 0 0 0 0 0 0 0 0 0 0 0 0 0]\n",
      "Q_values : [ 2.4547763  3.2658398 -4.0520134 -6.1990194]\n",
      "state : [0 0 0 0 0 0 0 0 0 0 0 0 0 0 0 0 0 0 0 0 0 0 0 0 0 0 0 0 0 0 0 0 0 0 0 0]\n",
      "Q_values : [ 2.0408287  2.963378  -4.3830395 -4.980882 ]\n",
      "state : [0 0 0 0 0 0 0 0 0 0 0 0 0 0 0 0 0 0 0 0 0 0 0 0 0 0 0 0 0 0 0 0 0 0 0 0]\n",
      "Q_values : [ 1.6709113  1.5973371 -4.646629  -4.026684 ]\n",
      "state : [0 0 0 0 0 0 0 0 0 0 0 0 0 0 1 0 1 0 0 0 0 0 0 0 0 0 0 0 0 0 0 0 0 0 0 0]         \n",
      "Q_values : [ 2.5173483  1.0434035 -4.307584  -2.5956128]\n"
     ]
    },
    {
     "name": "stderr",
     "output_type": "stream",
     "text": [
      "Warning: Vehicle 'veh_2' performs emergency stop at the end of lane 'end1_junction_2' because of a red traffic light (decel=-20.39, offset=0.10), time=21.24.\n"
     ]
    },
    {
     "name": "stdout",
     "output_type": "stream",
     "text": [
      "state : [0 0 0 0 0 0 0 0 0 0 0 0 0 0 1 0 2 0 0 0 0 0 0 0 0 0 0 0 0 0 0 0 0 0 0 0]\n",
      "Q_values : [ 3.52421    3.0589495 -1.7869103 -0.7772784]\n",
      "state : [0 0 0 0 0 0 0 0 0 0 0 0 0 0 1 0 4 1 0 0 0 0 0 0 0 0 0 0 0 0 0 0 0 0 0 0]\n",
      "Q_values : [ 2.9974296   3.5785208  -1.5402377  -0.57419205]\n",
      "state : [0 0 0 0 0 0 0 0 0 0 0 0 0 0 0 0 6 2 0 0 0 0 1 1 0 0 0 0 0 0 0 0 0 0 0 0]\n",
      "Q_values : [ 2.7047768  2.4799845 -1.0830512 -1.5395367]\n",
      "state : [0 0 0 0 0 0 0 0 0 0 0 0 0 0 0 0 6 3 0 0 0 0 2 1 0 0 0 0 0 0 0 0 0 0 0 0]\n",
      "Q_values : [ 2.1182582   1.8876436  -0.48396564 -1.838716  ]\n",
      "state : [0 0 0 0 0 0 0 0 0 0 0 0 0 0 0 0 6 3 0 0 0 0 3 3 0 0 0 0 0 0 0 0 0 0 0 0]\n",
      "Q_values : [ 2.690287    2.0379906   0.08545995 -2.375321  ]\n",
      "state : [0 0 0 0 0 0 0 0 0 0 0 0 0 0 0 0 6 3 0 0 0 0 4 4 0 0 0 0 0 0 0 0 0 0 0 0]\n",
      "Q_values : [ 2.8396337  2.1205518 -0.1313076 -2.1535308]\n",
      "state : [0 0 0 0 0 0 0 0 0 0 0 0 0 0 0 0 6 3 0 0 0 0 4 4 0 0 0 0 0 0 0 0 0 0 0 0]\n",
      "Q_values : [ 2.357418    2.1125612   0.23136306 -2.2173116 ]\n",
      "state : [0 0 0 0 0 0 0 0 0 0 0 0 0 0 0 0 6 3 0 0 0 0 4 4 0 0 0 0 0 0 0 0 0 0 0 0]\n",
      "Q_values : [ 2.1901393  1.9586729  0.5176904 -1.7964809]\n",
      "state : [0 0 0 0 0 0 0 0 0 0 0 0 0 0 0 0 6 3 0 0 0 0 4 4 0 0 0 0 0 0 0 0 0 0 0 0]\n",
      "Q_values : [ 1.6622586  2.2521222  0.9515419 -1.2783475]\n",
      "state : [0 0 0 0 0 0 0 0 0 0 0 0 0 0 0 0 6 3 0 0 0 0 4 4 0 0 0 0 0 0 0 0 0 0 0 0]\n",
      "Q_values : [ 1.6071643  2.1738353  1.255841  -0.8052738]\n",
      "state : [0 0 0 0 0 0 0 0 0 0 0 0 0 0 0 0 6 3 0 0 0 0 4 4 0 0 0 0 0 0 0 0 0 0 0 0]\n",
      "Q_values : [ 2.8356845  1.849292   1.5234652 -0.8550439]\n",
      "state : [0 0 0 0 0 0 0 0 0 0 0 0 0 0 0 0 6 3 0 0 0 0 4 4 0 0 0 0 0 0 0 0 0 0 0 0]\n",
      "Q_values : [ 3.3802881   3.3619184   0.89125466 -1.2933469 ]\n",
      "state : [0 0 0 0 0 0 0 0 0 0 0 0 0 0 0 0 6 3 0 0 0 0 4 4 0 0 0 0 0 0 0 0 0 0 0 0]\n",
      "Q_values : [ 3.1478288   2.5669746   0.6429982  -0.66904926]\n",
      "Step #100.00 (0ms ?*RT. ?UPS, TraCI: 32ms, vehicles TOT 33 ACT 17 BUF 0)                   \n",
      "episode : 194\n",
      " Retrying in 1 seconds\n"
     ]
    },
    {
     "name": "stderr",
     "output_type": "stream",
     "text": [
      "Warning: Environment variable SUMO_HOME is not set properly, disabling XML validation. Set 'auto' or 'always' for web lookups.\n"
     ]
    },
    {
     "name": "stdout",
     "output_type": "stream",
     "text": [
      "state : [0 0 0 0 0 0 0 0 0 0 0 0 0 0 0 0 0 0 0 0 0 0 0 0 0 0 0 0 0 0 0 0 0 0 0 0]\n",
      "Q_values : [ 2.245232    2.1969843  -0.23632956 -1.0405579 ]\n",
      "state : [0 0 0 0 0 0 0 0 0 0 0 0 0 0 0 0 0 0 0 0 0 0 0 0 0 0 0 0 0 0 0 0 0 0 0 0]\n",
      "Q_values : [ 2.2210326  2.5646298 -0.5915334 -0.9379227]\n",
      "state : [0 0 0 0 0 0 0 0 0 0 0 0 0 0 0 0 0 0 0 0 0 0 0 0 0 0 0 0 0 0 0 0 0 0 0 0]\n",
      "Q_values : [ 1.6388805   2.3320518  -0.98058724 -0.7559376 ]\n",
      "state : [0 0 0 0 0 0 0 0 0 0 0 0 0 0 0 0 0 0 0 0 0 0 0 0 0 0 0 0 0 0 0 0 0 0 0 0]\n",
      "Q_values : [ 1.1505462   1.2916523  -1.1557779  -0.67089725]\n",
      "state : [0 0 0 0 0 0 0 0 0 0 0 0 0 0 0 0 0 0 0 0 0 0 0 0 0 0 0 0 0 0 0 0 0 0 0 0]\n",
      "Q_values : [ 1.959102    0.7239461  -1.1755319  -0.49557948]\n",
      "state : [0 0 0 0 0 0 0 0 0 0 0 0 0 0 1 0 1 0 0 0 0 0 0 0 0 0 0 0 0 0 0 0 0 0 0 0]         \n",
      "Q_values : [ 2.3037825  1.3325657 -1.9024403 -0.3845122]\n"
     ]
    },
    {
     "name": "stderr",
     "output_type": "stream",
     "text": [
      "Warning: Vehicle 'veh_2' performs emergency stop at the end of lane 'end1_junction_2' because of a red traffic light (decel=-20.39, offset=0.10), time=21.24.\n"
     ]
    },
    {
     "name": "stdout",
     "output_type": "stream",
     "text": [
      "state : [0 0 0 0 0 0 0 0 0 0 0 0 0 0 1 0 1 1 0 0 0 0 0 0 0 0 0 0 0 0 0 0 0 0 0 0]\n",
      "Q_values : [ 2.4011707  2.2474394 -1.0896637 -0.2845049]\n",
      "state : [0 0 0 0 0 0 0 0 0 0 0 0 0 0 1 0 2 2 0 0 0 0 0 0 0 0 0 0 0 0 0 0 0 0 0 0]\n",
      "Q_values : [ 2.660863   2.761917  -1.5120897  0.4765966]\n",
      "state : [0 0 0 0 0 0 0 0 0 0 0 0 0 0 0 0 4 4 0 0 0 0 0 0 0 0 0 0 0 0 0 0 0 0 0 0]\n",
      "Q_values : [ 2.253604    2.9116044  -2.004771    0.16097665]\n",
      "state : [0 0 0 0 0 0 0 0 0 0 0 0 0 0 0 0 6 5 0 0 0 0 1 1 0 0 0 0 0 0 0 0 0 0 0 0]\n",
      "Q_values : [ 2.7360184   2.2366195  -2.2614558  -0.45305657]\n",
      "state : [0 0 0 0 0 0 0 0 0 0 0 0 0 0 0 0 6 6 0 0 0 0 2 1 0 0 0 0 0 0 0 0 0 0 0 0]\n",
      "Q_values : [ 2.6228871   3.0263228  -2.4925852  -0.55957866]\n",
      "state : [0 0 0 0 0 0 0 0 0 0 0 0 0 0 0 0 6 6 0 0 0 0 3 3 0 0 0 0 0 0 0 0 0 0 0 0]\n",
      "Q_values : [ 2.1632447  2.0058577 -2.3908372 -1.1599846]\n",
      "state : [0 0 0 0 0 0 0 0 0 0 0 0 0 0 0 0 6 6 0 0 0 0 4 4 0 0 0 0 0 0 0 0 0 0 0 0]\n",
      "Q_values : [ 1.8653618  1.364761  -2.8006382 -1.4922233]\n",
      "state : [0 0 0 0 0 0 0 0 0 0 0 0 0 0 0 0 6 6 0 0 0 0 4 4 0 0 0 0 0 0 0 0 0 0 0 0]\n",
      "Q_values : [ 1.4897199  1.6143217 -3.4865322 -2.1033406]\n",
      "state : [0 0 0 0 0 0 0 0 0 0 0 0 0 0 0 0 6 6 0 0 0 0 4 4 0 0 0 0 0 0 0 0 0 0 0 0]\n",
      "Q_values : [ 1.5290828  1.0218556 -4.3159323 -2.5057623]\n",
      "state : [0 0 0 0 0 0 0 0 0 0 0 0 0 0 0 0 6 6 0 0 0 0 4 4 0 0 0 0 0 0 0 0 0 0 0 0]\n",
      "Q_values : [ 1.505822   1.858475  -4.8284893 -3.0735018]\n",
      "state : [0 0 0 0 0 0 0 0 0 0 0 0 0 0 0 0 6 6 0 0 0 0 4 4 0 0 0 0 0 0 0 0 0 0 0 0]\n",
      "Q_values : [ 1.8436693  1.8156111 -5.1843987 -3.1860282]\n",
      "state : [0 0 0 0 0 0 0 0 0 0 0 0 0 0 0 0 6 6 0 0 0 0 4 4 0 0 0 0 0 0 0 0 0 0 0 0]\n",
      "Q_values : [ 2.5502472  2.2197828 -5.233944  -3.1207845]\n",
      "state : [0 0 0 0 0 0 0 0 0 0 0 0 0 0 0 0 6 6 0 0 0 0 4 4 0 0 0 0 0 0 0 0 0 0 0 0]\n",
      "Q_values : [ 2.4438324  3.2931876 -4.9285975 -3.2086349]\n",
      "state : [0 0 0 0 0 0 0 0 0 0 0 0 0 0 0 0 6 6 0 0 0 0 4 4 0 0 0 0 0 0 0 0 0 0 0 0]\n",
      "Q_values : [ 2.2851849  2.986075  -4.2280426 -3.384941 ]\n",
      "Step #100.00 (0ms ?*RT. ?UPS, TraCI: 31ms, vehicles TOT 33 ACT 20 BUF 0)                   \n",
      "episode : 195\n",
      " Retrying in 1 seconds\n"
     ]
    },
    {
     "name": "stderr",
     "output_type": "stream",
     "text": [
      "Warning: Environment variable SUMO_HOME is not set properly, disabling XML validation. Set 'auto' or 'always' for web lookups.\n"
     ]
    },
    {
     "name": "stdout",
     "output_type": "stream",
     "text": [
      "state : [0 0 0 0 0 0 0 0 0 0 0 0 0 0 0 0 0 0 0 0 0 0 0 0 0 0 0 0 0 0 0 0 0 0 0 0]\n",
      "Q_values : [ 2.8385992  2.4975495 -2.9487362 -3.1298082]\n",
      "state : [0 0 0 0 0 0 0 0 0 0 0 0 0 0 0 0 0 0 0 0 0 0 0 0 0 0 0 0 0 0 0 0 0 0 0 0]\n",
      "Q_values : [ 2.8764286  1.7817216 -1.8866951 -2.7312577]\n",
      "state : [0 0 0 0 0 0 0 0 0 0 0 0 0 0 0 0 0 0 0 0 0 0 0 0 0 0 0 0 0 0 0 0 0 0 0 0]\n",
      "Q_values : [ 1.6149807   1.9983411  -0.69170904 -2.5349965 ]\n",
      "state : [0 0 0 0 0 0 0 0 0 0 0 0 0 0 0 0 0 0 0 0 0 0 0 0 0 0 0 0 0 0 0 0 0 0 0 0]\n",
      "Q_values : [ 1.0691099   1.677977   -0.47984576 -2.0460045 ]\n",
      "state : [0 0 0 0 0 0 0 0 0 0 0 0 0 0 0 0 0 0 0 0 0 0 0 0 0 0 0 0 0 0 0 0 0 0 0 0]\n",
      "Q_values : [ 1.9512954   1.3102242  -0.31081438 -2.140024  ]\n",
      "Step #21.00 (0ms ?*RT. ?UPS, TraCI: 0ms, vehicles TOT 22 ACT 22 BUF 0)                    \r"
     ]
    },
    {
     "name": "stderr",
     "output_type": "stream",
     "text": [
      "Warning: Vehicle 'veh_2' performs emergency stop at the end of lane 'end1_junction_2' because of a red traffic light (decel=-20.39, offset=0.10), time=21.24.\n"
     ]
    },
    {
     "name": "stdout",
     "output_type": "stream",
     "text": [
      "state : [0 0 0 0 0 0 0 0 0 0 0 0 0 0 1 0 1 0 0 0 0 0 0 0 0 0 0 0 0 0 0 0 0 0 0 0]\n",
      "Q_values : [ 1.6716866  1.2787408 -1.2265098 -2.0416214]\n",
      "state : [0 0 0 0 0 0 0 0 0 0 0 0 0 0 1 0 1 1 0 0 0 0 0 0 0 0 0 0 0 0 0 0 0 0 0 0]\n",
      "Q_values : [ 2.071504   1.8885502 -1.4692633 -1.735513 ]\n",
      "state : [0 0 0 0 0 0 0 0 0 0 0 0 0 0 1 0 2 2 0 0 0 0 0 0 0 0 0 0 0 0 0 0 0 0 0 0]\n",
      "Q_values : [ 2.333889   2.250719  -2.2684329 -1.2022107]\n",
      "state : [0 0 0 0 0 0 0 0 0 0 0 0 0 0 1 0 4 4 0 0 0 0 0 0 0 0 0 0 0 0 0 0 0 0 0 0]\n",
      "Q_values : [ 2.3322415  1.9342859 -2.68912   -1.3189342]\n",
      "state : [0 0 0 0 0 0 0 0 0 0 0 0 0 0 1 0 6 5 0 0 0 0 1 1 0 0 0 0 0 0 0 0 0 0 0 0]\n",
      "Q_values : [ 1.9845291  2.349265  -2.70263   -1.0341666]\n",
      "state : [0 0 0 0 0 0 0 0 0 0 0 0 0 0 0 0 6 6 0 0 0 0 2 1 0 0 0 0 0 0 0 0 0 0 0 0]\n",
      "Q_values : [ 1.9102764  2.5244708 -3.0673978 -0.6996546]\n",
      "state : [0 0 0 0 0 0 0 0 0 0 0 0 0 0 0 0 6 6 0 0 0 0 3 3 0 0 0 0 0 0 0 0 0 0 0 0]\n",
      "Q_values : [ 2.4773173   1.9706192  -2.9772758  -0.47768712]\n",
      "state : [0 0 0 0 0 0 0 0 0 0 0 0 0 0 0 0 6 6 0 0 0 0 4 4 0 0 0 0 0 0 0 0 0 0 0 0]\n",
      "Q_values : [ 2.6566415   2.261631   -3.0553565  -0.27782178]\n",
      "state : [0 0 0 0 0 0 0 0 0 0 0 0 0 0 0 0 6 6 0 0 0 0 4 4 0 0 0 0 0 0 0 0 0 0 0 0]\n",
      "Q_values : [ 2.0990415  2.429621  -2.7851765 -0.6720383]\n",
      "state : [0 0 0 0 0 0 0 0 0 0 0 0 0 0 0 0 6 6 0 0 0 0 4 4 0 0 0 0 0 0 0 0 0 0 0 0]\n",
      "Q_values : [ 3.2032015  1.9591585 -3.0140607 -1.6138463]\n",
      "state : [0 0 0 0 0 0 0 0 0 0 0 0 0 0 0 0 6 6 0 0 0 0 4 4 0 0 0 0 0 0 0 0 0 0 0 0]\n",
      "Q_values : [ 3.8826838  3.1649303 -2.7141037 -2.5686839]\n",
      "state : [0 0 0 0 0 0 0 0 0 0 0 0 0 0 0 0 6 6 0 0 0 0 4 4 0 0 0 0 0 0 0 0 0 0 0 0]\n",
      "Q_values : [ 3.4874864  3.5162704 -2.6140273 -3.713551 ]\n",
      "state : [0 0 0 0 0 0 0 0 0 0 0 0 0 0 0 0 6 6 0 0 0 0 4 4 0 0 0 0 0 0 0 0 0 0 0 0]\n",
      "Q_values : [ 3.6288939  2.761498  -2.1838124 -4.4937873]\n",
      "state : [0 0 0 0 0 0 0 0 0 0 0 0 0 0 0 0 6 6 0 0 0 0 4 4 0 0 0 0 0 0 0 0 0 0 0 0]\n",
      "Q_values : [ 2.3250594  2.3441706 -1.9576123 -4.9978604]\n",
      "state : [0 0 0 0 0 0 0 0 0 0 0 0 0 0 0 0 6 6 0 0 0 0 4 4 0 0 0 0 0 0 0 0 0 0 0 0]\n",
      "Q_values : [ 2.3750753  1.4045964 -1.5881064 -5.582999 ]\n",
      "Step #100.00 (0ms ?*RT. ?UPS, TraCI: 35ms, vehicles TOT 33 ACT 20 BUF 0)                   \n",
      "episode : 196\n",
      " Retrying in 1 seconds\n"
     ]
    },
    {
     "name": "stderr",
     "output_type": "stream",
     "text": [
      "Warning: Environment variable SUMO_HOME is not set properly, disabling XML validation. Set 'auto' or 'always' for web lookups.\n"
     ]
    },
    {
     "name": "stdout",
     "output_type": "stream",
     "text": [
      "state : [0 0 0 0 0 0 0 0 0 0 0 0 0 0 0 0 0 0 0 0 0 0 0 0 0 0 0 0 0 0 0 0 0 0 0 0]\n",
      "Q_values : [ 2.5909905  1.3210095 -1.8966684 -6.4306774]\n",
      "state : [0 0 0 0 0 0 0 0 0 0 0 0 0 0 0 0 0 0 0 0 0 0 0 0 0 0 0 0 0 0 0 0 0 0 0 0]\n",
      "Q_values : [ 1.9829509  2.8863988 -1.9078882 -6.902433 ]\n",
      "state : [0 0 0 0 0 0 0 0 0 0 0 0 0 0 0 0 0 0 0 0 0 0 0 0 0 0 0 0 0 0 0 0 0 0 0 0]\n",
      "Q_values : [ 2.5403175  2.663637  -1.2905359 -7.3893595]\n",
      "state : [0 0 0 0 0 0 0 0 0 0 0 0 0 0 0 0 0 0 0 0 0 0 0 0 0 0 0 0 0 0 0 0 0 0 0 0]\n",
      "Q_values : [ 2.5667336  3.2689118 -1.1982703 -7.827812 ]\n",
      "state : [0 0 0 0 0 0 0 0 0 0 0 0 0 0 0 0 0 0 0 0 0 0 0 0 0 0 0 0 0 0 0 0 0 0 0 0]\n",
      "Q_values : [ 2.3168745  2.5912063 -0.8155029 -7.2402577]\n",
      "state : [0 0 0 0 0 0 0 0 0 0 0 0 0 1 0 0 1 0 0 0 0 0 0 0 0 0 0 0 0 0 0 0 0 0 0 0]\n",
      "Q_values : [ 1.8984163  2.0798864 -1.4937315 -6.5281096]\n",
      "state : [0 0 0 0 0 0 0 0 0 0 0 0 0 1 0 0 1 1 0 0 0 0 0 0 0 0 0 0 0 0 0 0 0 0 0 0]\n",
      "Q_values : [ 1.9191643  1.21281   -0.801816  -5.803939 ]\n",
      "state : [0 0 0 0 0 0 0 0 0 0 0 0 0 0 0 0 2 2 0 0 0 0 0 0 0 0 0 0 0 0 0 0 0 0 0 0]\n",
      "Q_values : [ 2.8928351  1.6675006 -0.5898719 -4.119443 ]\n",
      "state : [0 0 0 0 0 0 0 0 0 0 0 0 0 0 0 0 4 4 0 0 0 0 0 0 0 0 0 0 0 0 0 0 0 0 0 0]\n",
      "Q_values : [ 1.7575188   2.4609435  -0.39902616 -3.3648462 ]\n",
      "state : [0 0 0 0 0 0 0 0 0 0 0 0 0 0 0 0 6 5 0 0 0 0 1 1 0 0 0 0 0 0 0 0 0 0 0 0]\n",
      "Q_values : [ 1.4232278  2.5316286 -0.0220468 -2.2489069]\n",
      "state : [0 0 0 0 0 0 0 0 0 0 0 0 0 0 0 0 6 6 0 0 0 0 2 1 0 0 0 0 0 0 0 0 0 0 0 0]\n",
      "Q_values : [ 2.7179098   2.3836021  -0.12513614 -1.4094574 ]\n",
      "state : [0 0 0 0 0 0 0 0 0 0 0 0 0 0 0 0 6 6 0 0 0 0 3 3 0 0 0 0 0 0 0 0 0 0 0 0]\n",
      "Q_values : [ 2.2623491   2.2220297   0.06155038 -0.6535728 ]\n",
      "state : [0 0 0 0 0 0 0 0 0 0 0 0 0 0 0 0 6 6 0 0 0 0 4 4 0 0 0 0 0 0 0 0 0 0 0 0]\n",
      "Q_values : [ 1.6193085   1.8283929   0.17473626 -0.21752453]\n",
      "state : [0 0 0 0 0 0 0 0 0 0 0 0 0 0 0 0 6 6 0 0 0 0 4 4 0 0 0 0 0 0 0 0 0 0 0 0]\n",
      "Q_values : [ 1.0655884   1.7407167  -0.44672418  0.2910061 ]\n",
      "state : [0 0 0 0 0 0 0 0 0 0 0 0 0 0 0 0 6 6 0 0 0 0 4 4 0 0 0 0 0 0 0 0 0 0 0 0]\n",
      "Q_values : [ 0.94116855  1.8522437  -0.663527    0.7930186 ]\n",
      "state : [0 0 0 0 0 0 0 0 0 0 0 0 0 0 0 0 6 6 0 0 0 0 4 4 0 0 0 0 0 0 0 0 0 0 0 0]\n",
      "Q_values : [ 2.0335178  1.9311113 -1.3917558  0.6351528]\n",
      "state : [0 0 0 0 0 0 0 0 0 0 0 0 0 0 0 0 6 6 0 0 0 0 4 4 0 0 0 0 0 0 0 0 0 0 0 0]\n",
      "Q_values : [ 2.459001   1.9287696 -2.979253   0.0688169]\n",
      "state : [0 0 0 0 0 0 0 0 0 0 0 0 0 0 0 0 6 6 0 0 0 0 4 4 0 0 0 0 0 0 0 0 0 0 0 0]\n",
      "Q_values : [ 2.7758577   2.3977776  -3.518304   -0.10790396]\n",
      "state : [0 0 0 0 0 0 0 0 0 0 0 0 0 0 0 0 6 6 0 0 0 0 4 4 0 0 0 0 0 0 0 0 0 0 0 0]\n",
      "Q_values : [ 2.3073044   2.67049    -3.3929543  -0.26702976]\n",
      "state : [0 0 0 0 0 0 0 0 0 0 0 0 0 0 0 0 6 6 0 0 0 0 4 4 0 0 0 0 0 0 0 0 0 0 0 0]\n",
      "Q_values : [ 2.0500455  2.987152  -3.2738383 -1.0501442]\n",
      "Step #100.00 (0ms ?*RT. ?UPS, TraCI: 32ms, vehicles TOT 33 ACT 20 BUF 0)                   \n",
      "episode : 197\n",
      " Retrying in 1 seconds\n"
     ]
    },
    {
     "name": "stderr",
     "output_type": "stream",
     "text": [
      "Warning: Environment variable SUMO_HOME is not set properly, disabling XML validation. Set 'auto' or 'always' for web lookups.\n"
     ]
    },
    {
     "name": "stdout",
     "output_type": "stream",
     "text": [
      "state : [0 0 0 0 0 0 0 0 0 0 0 0 0 0 0 0 0 0 0 0 0 0 0 0 0 0 0 0 0 0 0 0 0 0 0 0]\n",
      "Q_values : [ 2.0956419  2.1706276 -3.3415675 -1.0294042]\n",
      "state : [0 0 0 0 0 0 0 0 0 0 0 0 0 0 0 0 0 0 0 0 0 0 0 0 0 0 0 0 0 0 0 0 0 0 0 0]\n",
      "Q_values : [ 2.4291449  1.6962273 -3.0565526 -0.6598196]\n",
      "state : [0 0 0 0 0 0 0 0 0 0 0 0 0 0 0 0 0 0 0 0 0 0 0 0 0 0 0 0 0 0 0 0 0 0 0 0]\n",
      "Q_values : [ 2.1231258  2.935382  -2.4736888 -0.5881965]\n",
      "state : [0 0 0 0 0 0 0 0 0 0 0 0 0 0 0 0 0 0 0 0 0 0 0 0 0 0 0 0 0 0 0 0 0 0 0 0]\n",
      "Q_values : [ 1.8326117  2.8694823 -2.1811736 -1.1296308]\n",
      "state : [0 0 0 0 0 0 0 0 0 0 0 0 0 0 0 0 0 0 0 0 0 0 0 0 0 0 0 0 0 0 0 0 0 0 0 0]\n",
      "Q_values : [ 2.0382547  2.5671997 -1.5685914 -0.9817436]\n",
      "state : [0 0 0 0 0 0 0 0 0 0 0 0 0 1 0 0 1 0 0 0 0 0 0 0 0 0 0 0 0 0 0 0 0 0 0 0]\n",
      "Q_values : [ 2.4188032  2.8831785 -1.1825004 -1.354728 ]\n",
      "state : [0 0 0 0 0 0 0 0 0 0 0 0 0 1 0 0 1 1 0 0 0 0 0 0 0 0 0 0 0 0 0 0 0 0 0 0]\n",
      "Q_values : [ 2.2134514   1.9488     -0.83484244 -1.528918  ]\n",
      "state : [0 0 0 0 0 0 0 0 0 0 0 0 0 0 0 0 2 2 0 0 0 0 0 0 0 0 0 0 0 0 0 0 0 0 0 0]\n",
      "Q_values : [ 1.7649239   1.8782923  -0.52179384 -1.484407  ]\n",
      "state : [0 0 0 0 0 0 0 0 0 0 0 0 0 0 0 0 4 4 0 0 0 0 0 0 0 0 0 0 0 0 0 0 0 0 0 0]\n",
      "Q_values : [ 2.0391088  1.8837217  0.3384974 -0.9842279]\n",
      "state : [0 0 0 0 0 0 0 0 0 0 0 0 0 0 0 0 6 5 0 0 0 0 1 1 0 0 0 0 0 0 0 0 0 0 0 0]\n",
      "Q_values : [ 2.6747525   1.8180432   0.10851812 -2.0176353 ]\n",
      "state : [0 0 0 0 0 0 0 0 0 0 0 0 0 0 0 0 6 6 0 0 0 0 2 1 0 0 0 0 0 0 0 0 0 0 0 0]\n",
      "Q_values : [ 2.139248   1.8095193  0.4221475 -2.3699   ]\n",
      "state : [0 0 0 0 0 0 0 0 0 0 0 0 0 0 0 0 6 6 0 0 0 0 3 3 0 0 0 0 0 0 0 0 0 0 0 0]\n",
      "Q_values : [ 1.4850504   2.1375735   0.72331166 -2.6870978 ]\n",
      "state : [0 0 0 0 0 0 0 0 0 0 0 0 0 0 0 0 6 6 0 0 0 0 4 4 0 0 0 0 0 0 0 0 0 0 0 0]\n",
      "Q_values : [ 2.2102926   2.5722132   0.97347164 -2.9727182 ]\n",
      "state : [0 0 0 0 0 0 0 0 0 0 0 0 0 0 0 0 6 6 0 0 0 0 4 4 0 0 0 0 0 0 0 0 0 0 0 0]\n",
      "Q_values : [ 3.2412791  3.915491   1.4949439 -3.2299063]\n",
      "state : [0 0 0 0 0 0 0 0 0 0 0 0 0 0 0 0 6 6 0 0 0 0 4 4 0 0 0 0 0 0 0 0 0 0 0 0]\n",
      "Q_values : [ 3.3419735  3.3924956  1.8543651 -4.1969957]\n",
      "state : [0 0 0 0 0 0 0 0 0 0 0 0 0 0 0 0 6 6 0 0 0 0 4 4 0 0 0 0 0 0 0 0 0 0 0 0]\n",
      "Q_values : [ 2.788551   2.4639592  2.1483588 -4.7191668]\n",
      "state : [0 0 0 0 0 0 0 0 0 0 0 0 0 0 0 0 6 6 0 0 0 0 4 4 0 0 0 0 0 0 0 0 0 0 0 0]\n",
      "Q_values : [ 1.8620179  1.7880332  2.4189734 -5.4866395]\n",
      "state : [0 0 0 0 0 0 0 0 0 0 0 0 0 0 0 0 0 6 0 0 0 0 0 4 0 0 0 0 0 0 0 0 0 0 0 0]\n",
      "Q_values : [ 1.357337   1.0463109  2.5675206 -5.524251 ]\n",
      "state : [0 0 0 0 0 0 0 0 0 0 0 0 0 0 0 0 0 6 0 0 0 0 0 4 0 0 0 0 0 0 0 0 0 0 0 0]\n",
      "Q_values : [ 1.6429667  1.4044216  2.645347  -4.484053 ]\n",
      "state : [0 0 0 0 0 0 0 0 0 0 0 0 0 0 0 0 0 6 0 0 0 0 0 4 0 0 0 0 0 0 0 0 0 0 0 0]\n",
      "Q_values : [ 1.9152884  2.360087   1.8727074 -4.109564 ]\n",
      "Step #100.00 (0ms ?*RT. ?UPS, TraCI: 32ms, vehicles TOT 33 ACT 18 BUF 0)                   \n",
      "episode : 198\n",
      " Retrying in 1 seconds\n"
     ]
    },
    {
     "name": "stderr",
     "output_type": "stream",
     "text": [
      "Warning: Environment variable SUMO_HOME is not set properly, disabling XML validation. Set 'auto' or 'always' for web lookups.\n"
     ]
    },
    {
     "name": "stdout",
     "output_type": "stream",
     "text": [
      "state : [0 0 0 0 0 0 0 0 0 0 0 0 0 0 0 0 0 0 0 0 0 0 0 0 0 0 0 0 0 0 0 0 0 0 0 0]\n",
      "Q_values : [ 2.70328    2.40879    1.5989956 -3.6808329]\n",
      "state : [0 0 0 0 0 0 0 0 0 0 0 0 0 0 0 0 0 0 0 0 0 0 0 0 0 0 0 0 0 0 0 0 0 0 0 0]\n",
      "Q_values : [ 2.6066275  2.9255912  1.3525319 -3.3520026]\n",
      "state : [0 0 0 0 0 0 0 0 0 0 0 0 0 0 0 0 0 0 0 0 0 0 0 0 0 0 0 0 0 0 0 0 0 0 0 0]\n",
      "Q_values : [ 2.83058    3.5436912  1.1306045 -3.4527512]\n",
      "state : [0 0 0 0 0 0 0 0 0 0 0 0 0 0 0 0 0 0 0 0 0 0 0 0 0 0 0 0 0 0 0 0 0 0 0 0]\n",
      "Q_values : [ 2.9164438  3.602244   1.1106367 -3.3803988]\n",
      "state : [0 0 0 0 0 0 0 0 0 0 0 0 0 0 0 0 0 0 0 0 0 0 0 0 0 0 0 0 0 0 0 0 0 0 0 0]\n",
      "Q_values : [ 2.5264509   2.2694156   0.46142602 -2.983174  ]\n",
      "state : [0 0 0 0 0 0 0 0 0 0 0 0 0 0 1 0 1 0 0 0 0 0 0 0 0 0 0 0 0 0 0 0 0 0 0 0]         \n",
      "Q_values : [ 2.4174      2.1118882   0.34091783 -2.8927598 ]\n"
     ]
    },
    {
     "name": "stderr",
     "output_type": "stream",
     "text": [
      "Warning: Vehicle 'veh_2' performs emergency stop at the end of lane 'end1_junction_2' because of a red traffic light (decel=-20.39, offset=0.10), time=21.24.\n"
     ]
    },
    {
     "name": "stdout",
     "output_type": "stream",
     "text": [
      "state : [0 0 0 0 0 0 0 0 0 0 0 0 0 0 1 0 1 1 0 0 0 0 0 0 0 0 0 0 0 0 0 0 0 0 0 0]\n",
      "Q_values : [ 2.024868    1.8043491   0.13511682 -2.442237  ]\n",
      "state : [0 0 0 0 0 0 0 0 0 0 0 0 0 0 1 0 2 2 0 0 0 0 0 0 0 0 0 0 0 0 0 0 0 0 0 0]\n",
      "Q_values : [ 2.2699587   1.6117691  -0.05019665 -2.1855614 ]\n",
      "state : [0 0 0 0 0 0 0 0 0 0 0 0 0 0 1 0 4 4 0 0 0 0 0 0 0 0 0 0 0 0 0 0 0 0 0 0]\n",
      "Q_values : [ 1.2369647   2.4880948  -0.21706009 -1.8531125 ]\n",
      "state : [0 0 0 0 0 0 0 0 0 0 0 0 0 0 0 0 6 5 0 0 0 0 1 1 0 0 0 0 0 0 0 0 0 0 0 0]\n",
      "Q_values : [ 1.9847226   2.046256   -0.36731315 -1.1264703 ]\n",
      "state : [0 0 0 0 0 0 0 0 0 0 0 0 0 0 0 0 6 6 0 0 0 0 2 1 0 0 0 0 0 0 0 0 0 0 0 0]\n",
      "Q_values : [ 2.7607827  1.3306625 -0.3618462 -1.3001616]\n",
      "state : [0 0 0 0 0 0 0 0 0 0 0 0 0 0 0 0 6 6 0 0 0 0 3 3 0 0 0 0 0 0 0 0 0 0 0 0]\n",
      "Q_values : [ 2.0080476  1.2836081 -1.0762615 -0.965209 ]\n",
      "state : [0 0 0 0 0 0 0 0 0 0 0 0 0 0 0 0 6 6 0 0 0 0 4 4 0 0 0 0 0 0 0 0 0 0 0 0]\n",
      "Q_values : [ 2.4919014  2.299266  -1.4102433 -0.7611444]\n",
      "state : [0 0 0 0 0 0 0 0 0 0 0 0 0 0 0 0 6 6 0 0 0 0 4 4 0 0 0 0 0 0 0 0 0 0 0 0]\n",
      "Q_values : [ 2.871611   1.7251782 -1.132577  -1.3439186]\n",
      "state : [0 0 0 0 0 0 0 0 0 0 0 0 0 0 0 0 6 6 0 0 0 0 4 4 0 0 0 0 0 0 0 0 0 0 0 0]\n",
      "Q_values : [ 2.2484446  2.234354  -1.1566062 -1.8466105]\n",
      "state : [0 0 0 0 0 0 0 0 0 0 0 0 0 0 0 0 6 6 0 0 0 0 4 4 0 0 0 0 0 0 0 0 0 0 0 0]\n",
      "Q_values : [ 2.0229926  1.5114224 -1.3143337 -2.526266 ]\n",
      "state : [0 0 0 0 0 0 0 0 0 0 0 0 0 0 0 0 6 6 0 0 0 0 4 4 0 0 0 0 0 0 0 0 0 0 0 0]\n",
      "Q_values : [ 2.392157   1.8354886 -1.0493028 -2.9540265]\n",
      "state : [0 0 0 0 0 0 0 0 0 0 0 0 0 0 0 0 6 6 0 0 0 0 4 4 0 0 0 0 0 0 0 0 0 0 0 0]\n",
      "Q_values : [ 2.3315096  2.1344898 -0.6172795 -2.7892096]\n",
      "state : [0 0 0 0 0 0 0 0 0 0 0 0 0 0 0 0 6 6 0 0 0 0 4 4 0 0 0 0 0 0 0 0 0 0 0 0]\n",
      "Q_values : [ 2.408362   1.8470862 -0.6861899 -2.9013855]\n",
      "state : [0 0 0 0 0 0 0 0 0 0 0 0 0 0 0 0 6 6 0 0 0 0 4 4 0 0 0 0 0 0 0 0 0 0 0 0]\n",
      "Q_values : [ 2.3463964   2.1051955  -0.54053664 -2.6863875 ]\n",
      "Step #100.00 (0ms ?*RT. ?UPS, TraCI: 33ms, vehicles TOT 33 ACT 20 BUF 0)                   \n",
      "episode : 199\n",
      " Retrying in 1 seconds\n"
     ]
    },
    {
     "name": "stderr",
     "output_type": "stream",
     "text": [
      "Warning: Environment variable SUMO_HOME is not set properly, disabling XML validation. Set 'auto' or 'always' for web lookups.\n"
     ]
    },
    {
     "name": "stdout",
     "output_type": "stream",
     "text": [
      "state : [0 0 0 0 0 0 0 0 0 0 0 0 0 0 0 0 0 0 0 0 0 0 0 0 0 0 0 0 0 0 0 0 0 0 0 0]\n",
      "Q_values : [ 2.622302    1.4455855  -0.30690384 -2.3453753 ]\n",
      "state : [0 0 0 0 0 0 0 0 0 0 0 0 0 0 0 0 0 0 0 0 0 0 0 0 0 0 0 0 0 0 0 0 0 0 0 0]\n",
      "Q_values : [ 2.156882    1.8965267  -0.03254628 -2.667725  ]\n",
      "state : [0 0 0 0 0 0 0 0 0 0 0 0 0 0 0 0 0 0 0 0 0 0 0 0 0 0 0 0 0 0 0 0 0 0 0 0]\n",
      "Q_values : [ 1.9442458   1.7753793   0.48879218 -2.7264636 ]\n",
      "state : [0 0 0 0 0 0 0 0 0 0 0 0 0 0 0 0 0 0 0 0 0 0 0 0 0 0 0 0 0 0 0 0 0 0 0 0]\n",
      "Q_values : [ 1.8857319  1.7555486  0.043818  -3.264965 ]\n",
      "state : [0 0 0 0 0 0 0 0 0 0 0 0 0 0 0 0 0 0 0 0 0 0 0 0 0 0 0 0 0 0 0 0 0 0 0 0]\n",
      "Q_values : [ 2.0848026  1.9749163 -0.0069046 -3.9661374]\n",
      "state : [0 0 0 0 0 0 0 0 0 0 0 0 0 0 1 0 1 0 0 0 0 0 0 0 0 0 0 0 0 0 0 0 0 0 0 0]\n",
      "Q_values : [ 1.7398816   2.6677122  -0.04877448 -3.999622  ]\n",
      "state : [0 0 0 0 0 0 0 0 0 0 0 0 0 0 0 0 1 1 0 0 0 0 0 0 0 0 0 0 0 0 0 0 0 0 0 0]\n",
      "Q_values : [ 3.425315    2.6638622  -0.13555312 -4.5727186 ]\n",
      "state : [0 0 0 0 0 0 0 0 0 0 0 0 0 0 0 0 2 2 0 0 0 0 0 0 0 0 0 0 0 0 0 0 0 0 0 0]\n",
      "Q_values : [ 3.1313229   3.8927479  -0.19043684 -4.433151  ]\n",
      "state : [0 0 0 0 0 0 0 0 0 0 0 0 0 0 0 0 4 4 0 0 0 0 0 0 0 0 0 0 0 0 0 0 0 0 0 0]\n",
      "Q_values : [ 2.985949    3.932044    0.10015059 -4.1699915 ]\n",
      "state : [0 0 0 0 0 0 0 0 0 0 0 0 0 0 0 0 6 5 0 0 0 0 1 1 0 0 0 0 0 0 0 0 0 0 0 0]\n",
      "Q_values : [ 3.3719714  3.39245    0.4976666 -4.4054203]\n",
      "state : [0 0 0 0 0 0 0 0 0 0 0 0 0 0 0 0 6 6 0 0 0 0 2 1 0 0 0 0 0 0 0 0 0 0 0 0]\n",
      "Q_values : [ 2.257689   2.3007143  0.7148547 -4.777118 ]\n",
      "state : [0 0 0 0 0 0 0 0 0 0 0 0 0 0 0 0 6 6 0 0 0 0 3 3 0 0 0 0 0 0 0 0 0 0 0 0]\n",
      "Q_values : [ 1.2526503   1.405905    0.94511914 -5.2837524 ]\n",
      "state : [0 0 0 0 0 0 0 0 0 0 0 0 0 0 0 0 6 6 0 0 0 0 4 4 0 0 0 0 0 0 0 0 0 0 0 0]\n",
      "Q_values : [ 1.6310402  1.3442757  1.1167121 -5.590832 ]\n",
      "state : [0 0 0 0 0 0 0 0 0 0 0 0 0 0 0 0 6 6 0 0 0 0 4 4 0 0 0 0 0 0 0 0 0 0 0 0]\n",
      "Q_values : [ 3.0269592  1.4704893  0.5706878 -5.867341 ]\n",
      "state : [0 0 0 0 0 0 0 0 0 0 0 0 0 0 0 0 6 6 0 0 0 0 4 4 0 0 0 0 0 0 0 0 0 0 0 0]\n",
      "Q_values : [ 2.0967875  1.9572058 -0.231282  -6.1163206]\n",
      "state : [0 0 0 0 0 0 0 0 0 0 0 0 0 0 0 0 6 6 0 0 0 0 4 4 0 0 0 0 0 0 0 0 0 0 0 0]\n",
      "Q_values : [ 1.4090469  1.6415958 -1.080545  -6.3405147]\n",
      "state : [0 0 0 0 0 0 0 0 0 0 0 0 0 0 0 0 6 6 0 0 0 0 4 4 0 0 0 0 0 0 0 0 0 0 0 0]\n",
      "Q_values : [ 0.92341137  2.3276     -1.6397216  -6.5423937 ]\n",
      "state : [0 0 0 0 0 0 0 0 0 0 0 0 0 0 0 0 6 6 0 0 0 0 4 4 0 0 0 0 0 0 0 0 0 0 0 0]\n",
      "Q_values : [ 1.5314965  2.1268182 -1.8553922 -5.8950424]\n",
      "state : [0 0 0 0 0 0 0 0 0 0 0 0 0 0 0 0 6 6 0 0 0 0 4 4 0 0 0 0 0 0 0 0 0 0 0 0]\n",
      "Q_values : [ 2.2339292  2.3321705 -2.1859825 -4.247245 ]\n",
      "state : [0 0 0 0 0 0 0 0 0 0 0 0 0 0 0 0 6 6 0 0 0 0 4 4 0 0 0 0 0 0 0 0 0 0 0 0]\n",
      "Q_values : [ 3.4115505  1.8908335 -2.215941  -3.654561 ]\n",
      "Step #100.00 (0ms ?*RT. ?UPS, TraCI: 35ms, vehicles TOT 33 ACT 20 BUF 0)                   \n",
      "episode : 200\n",
      " Retrying in 1 seconds\n"
     ]
    },
    {
     "name": "stderr",
     "output_type": "stream",
     "text": [
      "Warning: Environment variable SUMO_HOME is not set properly, disabling XML validation. Set 'auto' or 'always' for web lookups.\n"
     ]
    },
    {
     "name": "stdout",
     "output_type": "stream",
     "text": [
      "state : [0 0 0 0 0 0 0 0 0 0 0 0 0 0 0 0 0 0 0 0 0 0 0 0 0 0 0 0 0 0 0 0 0 0 0 0]\n",
      "Q_values : [ 2.95959    3.0366912 -2.0564675 -3.3849657]\n",
      "state : [0 0 0 0 0 0 0 0 0 0 0 0 0 0 0 0 0 0 0 0 0 0 0 0 0 0 0 0 0 0 0 0 0 0 0 0]\n",
      "Q_values : [ 2.2716386  3.0169842 -2.881949  -2.5157614]\n",
      "state : [0 0 0 0 0 0 0 0 0 0 0 0 0 0 0 0 0 0 0 0 0 0 0 0 0 0 0 0 0 0 0 0 0 0 0 0]\n",
      "Q_values : [ 2.2341218  2.4945612 -3.6843483 -1.9494541]\n",
      "state : [0 0 0 0 0 0 0 0 0 0 0 0 0 0 0 0 0 0 0 0 0 0 0 0 0 0 0 0 0 0 0 0 0 0 0 0]\n",
      "Q_values : [ 2.5930362  2.0128503 -3.4064653 -1.192106 ]\n",
      "state : [0 0 0 0 0 0 0 0 0 0 0 0 0 0 0 0 0 0 0 0 0 0 0 0 0 0 0 0 0 0 0 0 0 0 0 0]\n",
      "Q_values : [ 2.5726342  2.6475875 -3.1538208 -0.6274247]\n",
      "state : [0 0 0 0 0 0 0 0 0 0 0 0 0 0 0 0 1 0 0 0 0 0 0 0 0 0 0 0 0 0 0 0 0 0 0 0]\n",
      "Q_values : [ 2.2581496   1.839385   -2.826464    0.03221846]\n",
      "state : [0 0 0 0 0 0 0 0 0 0 0 0 0 0 0 0 1 1 0 0 0 0 0 0 0 0 0 0 0 0 0 0 0 0 0 0]\n",
      "Q_values : [ 2.6512651   2.2027087  -2.6634042   0.18191981]\n",
      "state : [0 0 0 0 0 0 0 0 0 0 0 0 0 0 0 0 2 2 0 0 0 0 0 0 0 0 0 0 0 0 0 0 0 0 0 0]\n",
      "Q_values : [ 3.1332839   3.4043798  -1.8814089   0.49326658]\n",
      "state : [0 0 0 0 0 0 0 0 0 0 0 0 0 0 0 0 4 4 0 0 0 0 0 0 0 0 0 0 0 0 0 0 0 0 0 0]\n",
      "Q_values : [ 2.6427493  2.8092709 -1.4783189  0.7736206]\n",
      "state : [0 0 0 0 0 0 0 0 0 0 0 0 0 0 0 0 6 5 0 0 0 0 1 1 0 0 0 0 0 0 0 0 0 0 0 0]\n",
      "Q_values : [ 2.9795032   3.265801   -0.72470355  1.0750434 ]\n",
      "state : [0 0 0 0 0 0 0 0 0 0 0 0 0 0 0 0 6 6 0 0 0 0 2 1 0 0 0 0 0 0 0 0 0 0 0 0]\n",
      "Q_values : [ 2.080081   3.1357684 -1.4535558  1.3232484]\n",
      "state : [0 0 0 0 0 0 0 0 0 0 0 0 0 0 0 0 6 6 0 0 0 0 3 3 0 0 0 0 0 0 0 0 0 0 0 0]\n",
      "Q_values : [ 2.3174329  3.8222837 -1.5310376  1.5070593]\n",
      "state : [0 0 0 0 0 0 0 0 0 0 0 0 0 0 0 0 6 6 0 0 0 0 4 4 0 0 0 0 0 0 0 0 0 0 0 0]\n",
      "Q_values : [ 3.0635905  2.2982144 -1.3254962  1.7227926]\n",
      "state : [0 0 0 0 0 0 0 0 0 0 0 0 0 0 0 0 6 6 0 0 0 0 4 4 0 0 0 0 0 0 0 0 0 0 0 0]\n",
      "Q_values : [ 2.3388076  1.9526206 -1.2708874  1.4058709]\n",
      "state : [0 0 0 0 0 0 0 0 0 0 0 0 0 0 0 0 6 6 0 0 0 0 4 4 0 0 0 0 0 0 0 0 0 0 0 0]\n",
      "Q_values : [ 1.593426    2.2858567  -0.7510772   0.56001353]\n",
      "state : [0 0 0 0 0 0 0 0 0 0 0 0 0 0 0 0 6 6 0 0 0 0 4 4 0 0 0 0 0 0 0 0 0 0 0 0]\n",
      "Q_values : [ 1.3613212   2.1449811  -0.923378    0.22079587]\n",
      "state : [0 0 0 0 0 0 0 0 0 0 0 0 0 0 0 0 6 6 0 0 0 0 4 4 0 0 0 0 0 0 0 0 0 0 0 0]\n",
      "Q_values : [ 2.1702247   2.2978415  -0.88077617 -0.03986478]\n",
      "state : [0 0 0 0 0 0 0 0 0 0 0 0 0 0 0 0 6 6 0 0 0 0 4 4 0 0 0 0 0 0 0 0 0 0 0 0]\n",
      "Q_values : [ 2.279462    2.0074382  -0.51477695 -0.8212645 ]\n",
      "state : [0 0 0 0 0 0 0 0 0 0 0 0 0 0 0 0 6 6 0 0 0 0 4 4 0 0 0 0 0 0 0 0 0 0 0 0]\n",
      "Q_values : [ 1.3733088   1.6412103  -0.34049153 -1.7505715 ]\n",
      "state : [0 0 0 0 0 0 0 0 0 0 0 0 0 0 0 0 6 6 0 0 0 0 4 4 0 0 0 0 0 0 0 0 0 0 0 0]\n",
      "Q_values : [ 2.527143   1.5862405 -0.7319324 -2.3645904]\n",
      "Step #100.00 (0ms ?*RT. ?UPS, TraCI: 34ms, vehicles TOT 33 ACT 20 BUF 0)                   \n",
      "episode : 201\n",
      " Retrying in 1 seconds\n"
     ]
    },
    {
     "name": "stderr",
     "output_type": "stream",
     "text": [
      "Warning: Environment variable SUMO_HOME is not set properly, disabling XML validation. Set 'auto' or 'always' for web lookups.\n"
     ]
    },
    {
     "name": "stdout",
     "output_type": "stream",
     "text": [
      "state : [0 0 0 0 0 0 0 0 0 0 0 0 0 0 0 0 0 0 0 0 0 0 0 0 0 0 0 0 0 0 0 0 0 0 0 0]\n",
      "Q_values : [ 2.5049372  2.7736974 -0.6644771 -2.6347635]\n",
      "state : [0 0 0 0 0 0 0 0 0 0 0 0 0 0 0 0 0 0 0 0 0 0 0 0 0 0 0 0 0 0 0 0 0 0 0 0]\n",
      "Q_values : [ 2.2459278   2.0116563  -0.34627008 -3.4777684 ]\n",
      "state : [0 0 0 0 0 0 0 0 0 0 0 0 0 0 0 0 0 0 0 0 0 0 0 0 0 0 0 0 0 0 0 0 0 0 0 0]\n",
      "Q_values : [ 1.6570005   2.537679   -0.18003654 -3.7196023 ]\n",
      "state : [0 0 0 0 0 0 0 0 0 0 0 0 0 0 0 0 0 0 0 0 0 0 0 0 0 0 0 0 0 0 0 0 0 0 0 0]\n",
      "Q_values : [ 2.1435673  1.8102522  0.4973719 -4.077831 ]\n",
      "state : [0 0 0 0 0 0 0 0 0 0 0 0 0 0 0 0 0 0 0 0 0 0 0 0 0 0 0 0 0 0 0 0 0 0 0 0]\n",
      "Q_values : [ 3.0380826  1.7637193  0.8949008 -4.6227975]\n",
      "state : [0 0 0 0 0 0 0 0 0 0 0 0 0 0 1 0 1 0 0 0 0 0 0 0 0 0 0 0 0 0 0 0 0 0 0 0]\n",
      "Q_values : [ 3.471199    2.5527186   0.52782464 -5.0081024 ]\n",
      "state : [0 0 0 0 0 0 0 0 0 0 0 0 0 0 1 0 1 1 0 0 0 0 0 0 0 0 0 0 0 0 0 0 0 0 0 0]\n",
      "Q_values : [ 2.4851198   2.3208299   0.53043246 -5.3550506 ]\n",
      "state : [0 0 0 0 0 0 0 0 0 0 0 0 0 0 1 0 2 2 0 0 0 0 0 0 0 0 0 0 0 0 0 0 0 0 0 0]\n",
      "Q_values : [ 2.2738962  1.6404085  0.7508261 -5.9332933]\n",
      "state : [0 0 0 0 0 0 0 0 0 0 0 0 0 0 1 0 4 4 0 0 0 0 0 0 0 0 0 0 0 0 0 0 0 0 0 0]\n",
      "Q_values : [ 2.387227    1.8268136   0.55527616 -5.853431  ]\n",
      "state : [0 0 0 0 0 0 0 0 0 0 0 0 0 0 1 0 6 5 0 0 0 0 1 1 0 0 0 0 0 0 0 0 0 0 0 0]\n",
      "Q_values : [ 1.508425   1.9702729 -0.2648499 -6.2372465]\n",
      "state : [0 0 0 0 0 0 0 0 0 0 0 0 0 0 0 0 6 6 0 0 0 0 2 1 0 0 0 0 0 0 0 0 0 0 0 0]\n",
      "Q_values : [ 1.3923299  1.6327043 -0.6328118 -5.778285 ]\n",
      "state : [0 0 0 0 0 0 0 0 0 0 0 0 0 0 0 0 6 6 0 0 0 0 3 3 0 0 0 0 0 0 0 0 0 0 0 0]\n",
      "Q_values : [ 1.3376439  1.8758692 -0.9641433 -6.070634 ]\n",
      "state : [0 0 0 0 0 0 0 0 0 0 0 0 0 0 0 0 6 6 0 0 0 0 4 4 0 0 0 0 0 0 0 0 0 0 0 0]\n",
      "Q_values : [ 1.8230207  1.6858667 -1.2624881 -6.389618 ]\n",
      "state : [0 0 0 0 0 0 0 0 0 0 0 0 0 0 0 0 6 6 0 0 0 0 4 4 0 0 0 0 0 0 0 0 0 0 0 0]\n",
      "Q_values : [ 1.9703941  3.1990905 -1.3559785 -6.5659246]\n",
      "state : [0 0 0 0 0 0 0 0 0 0 0 0 0 0 0 0 6 6 0 0 0 0 4 4 0 0 0 0 0 0 0 0 0 0 0 0]\n",
      "Q_values : [ 2.7560437  2.421869  -1.2849402 -6.007226 ]\n",
      "state : [0 0 0 0 0 0 0 0 0 0 0 0 0 0 0 0 6 6 0 0 0 0 4 4 0 0 0 0 0 0 0 0 0 0 0 0]\n",
      "Q_values : [ 3.363292   3.0277138 -0.6899636 -5.8441105]\n",
      "state : [0 0 0 0 0 0 0 0 0 0 0 0 0 0 0 0 6 6 0 0 0 0 4 4 0 0 0 0 0 0 0 0 0 0 0 0]\n",
      "Q_values : [ 3.354718    2.2973137  -0.15758109 -4.8734274 ]\n",
      "state : [0 0 0 0 0 0 0 0 0 0 0 0 0 0 0 0 6 6 0 0 0 0 4 4 0 0 0 0 0 0 0 0 0 0 0 0]\n",
      "Q_values : [ 2.1214669   2.3344283   0.24611783 -4.3898516 ]\n",
      "state : [0 0 0 0 0 0 0 0 0 0 0 0 0 0 0 0 6 6 0 0 0 0 4 4 0 0 0 0 0 0 0 0 0 0 0 0]\n",
      "Q_values : [ 1.126765    1.2634939   0.57770896 -3.954419  ]\n",
      "state : [0 0 0 0 0 0 0 0 0 0 0 0 0 0 0 0 6 6 0 0 0 0 4 4 0 0 0 0 0 0 0 0 0 0 0 0]\n",
      "Q_values : [ 1.7456887  1.506313   0.8762913 -3.8164625]\n",
      "Step #100.00 (0ms ?*RT. ?UPS, TraCI: 34ms, vehicles TOT 33 ACT 20 BUF 0)                   \n",
      "episode : 202\n",
      " Retrying in 1 seconds\n"
     ]
    },
    {
     "name": "stderr",
     "output_type": "stream",
     "text": [
      "Warning: Environment variable SUMO_HOME is not set properly, disabling XML validation. Set 'auto' or 'always' for web lookups.\n"
     ]
    },
    {
     "name": "stdout",
     "output_type": "stream",
     "text": [
      "state : [0 0 0 0 0 0 0 0 0 0 0 0 0 0 0 0 0 0 0 0 0 0 0 0 0 0 0 0 0 0 0 0 0 0 0 0]\n",
      "Q_values : [ 2.2875798  1.1465151  1.1448686 -3.8314714]\n",
      "state : [0 0 0 0 0 0 0 0 0 0 0 0 0 0 0 0 0 0 0 0 0 0 0 0 0 0 0 0 0 0 0 0 0 0 0 0]\n",
      "Q_values : [ 2.1700735  2.701556   1.3867558 -3.7219405]\n",
      "state : [0 0 0 0 0 0 0 0 0 0 0 0 0 0 0 0 0 0 0 0 0 0 0 0 0 0 0 0 0 0 0 0 0 0 0 0]\n",
      "Q_values : [ 2.4107995  2.2723265  1.517914  -3.6233115]\n",
      "state : [0 0 0 0 0 0 0 0 0 0 0 0 0 0 0 0 0 0 0 0 0 0 0 0 0 0 0 0 0 0 0 0 0 0 0 0]\n",
      "Q_values : [ 2.0029957  2.06212    1.6518137 -3.5345025]\n",
      "state : [0 0 0 0 0 0 0 0 0 0 0 0 0 0 0 0 0 0 0 0 0 0 0 0 0 0 0 0 0 0 0 0 0 0 0 0]\n",
      "Q_values : [ 2.0815246  1.7517573  0.8751862 -3.8814852]\n",
      "Step #21.00 (0ms ?*RT. ?UPS, TraCI: 0ms, vehicles TOT 22 ACT 22 BUF 0)                    \r"
     ]
    },
    {
     "name": "stderr",
     "output_type": "stream",
     "text": [
      "Warning: Vehicle 'veh_2' performs emergency stop at the end of lane 'end1_junction_2' because of a red traffic light (decel=-20.39, offset=0.10), time=21.24.\n"
     ]
    },
    {
     "name": "stdout",
     "output_type": "stream",
     "text": [
      "state : [0 0 0 0 0 0 0 0 0 0 0 0 0 0 1 0 1 0 0 0 0 0 0 0 0 0 0 0 0 0 0 0 0 0 0 0]\n",
      "Q_values : [ 2.3241134   1.57675     0.62008095 -2.8327253 ]\n",
      "state : [0 0 0 0 0 0 0 0 0 0 0 0 0 0 1 0 1 1 0 0 0 0 0 0 0 0 0 0 0 0 0 0 0 0 0 0]\n",
      "Q_values : [ 2.021563    2.3679159  -0.13167787 -1.5759516 ]\n",
      "state : [0 0 0 0 0 0 0 0 0 0 0 0 0 0 0 0 2 2 0 0 0 0 0 0 0 0 0 0 0 0 0 0 0 0 0 0]\n",
      "Q_values : [ 2.4240255   2.8077095  -0.35112143 -1.4209564 ]\n",
      "state : [0 0 0 0 0 0 0 0 0 0 0 0 0 0 0 0 4 4 0 0 0 0 0 0 0 0 0 0 0 0 0 0 0 0 0 0]\n",
      "Q_values : [ 2.9979904   3.0550885  -0.64967275 -1.0122561 ]\n",
      "state : [0 0 0 0 0 0 0 0 0 0 0 0 0 0 0 0 6 5 0 0 0 0 1 1 0 0 0 0 0 0 0 0 0 0 0 0]\n",
      "Q_values : [ 3.3281105   2.7268958  -0.72770596 -0.6442425 ]\n",
      "state : [0 0 0 0 0 0 0 0 0 0 0 0 0 0 0 0 6 6 0 0 0 0 2 1 0 0 0 0 0 0 0 0 0 0 0 0]\n",
      "Q_values : [ 3.61753     2.4803312  -0.88838696 -1.5196877 ]\n",
      "state : [0 0 0 0 0 0 0 0 0 0 0 0 0 0 0 0 6 6 0 0 0 0 3 3 0 0 0 0 0 0 0 0 0 0 0 0]\n",
      "Q_values : [ 3.3702035  3.3112206 -1.4065604 -1.4752238]\n",
      "state : [0 0 0 0 0 0 0 0 0 0 0 0 0 0 0 0 6 6 0 0 0 0 4 4 0 0 0 0 0 0 0 0 0 0 0 0]\n",
      "Q_values : [ 2.4050083  2.1858268 -2.8149548 -1.3109088]\n",
      "state : [0 0 0 0 0 0 0 0 0 0 0 0 0 0 0 0 6 6 0 0 0 0 4 4 0 0 0 0 0 0 0 0 0 0 0 0]\n",
      "Q_values : [ 1.4696236  1.7104384 -3.5526917 -1.2804866]\n",
      "state : [0 0 0 0 0 0 0 0 0 0 0 0 0 0 0 0 6 6 0 0 0 0 4 4 0 0 0 0 0 0 0 0 0 0 0 0]\n",
      "Q_values : [ 2.289831   1.1407439 -4.216989  -1.2530956]\n",
      "state : [0 0 0 0 0 0 0 0 0 0 0 0 0 0 0 0 6 6 0 0 0 0 4 4 0 0 0 0 0 0 0 0 0 0 0 0]\n",
      "Q_values : [ 1.7268977  2.115152  -4.542366  -1.6373446]\n",
      "state : [0 0 0 0 0 0 0 0 0 0 0 0 0 0 0 0 6 6 0 0 0 0 4 4 0 0 0 0 0 0 0 0 0 0 0 0]\n",
      "Q_values : [ 2.291994   2.2000666 -4.5101    -1.7895491]\n",
      "state : [0 0 0 0 0 0 0 0 0 0 0 0 0 0 0 0 6 6 0 0 0 0 4 4 0 0 0 0 0 0 0 0 0 0 0 0]\n",
      "Q_values : [ 3.0518937  2.577335  -4.696394  -2.4819863]\n",
      "state : [0 0 0 0 0 0 0 0 0 0 0 0 0 0 0 0 6 6 0 0 0 0 4 4 0 0 0 0 0 0 0 0 0 0 0 0]\n",
      "Q_values : [ 2.3310099  3.4457302 -4.3588495 -3.3115137]\n",
      "state : [0 0 0 0 0 0 0 0 0 0 0 0 0 0 0 0 6 6 0 0 0 0 4 4 0 0 0 0 0 0 0 0 0 0 0 0]\n",
      "Q_values : [ 2.4183512  3.153243  -4.2943516 -3.6732395]\n",
      "Step #100.00 (0ms ?*RT. ?UPS, TraCI: 34ms, vehicles TOT 33 ACT 20 BUF 0)                   \n",
      "episode : 203\n",
      " Retrying in 1 seconds\n"
     ]
    },
    {
     "name": "stderr",
     "output_type": "stream",
     "text": [
      "Warning: Environment variable SUMO_HOME is not set properly, disabling XML validation. Set 'auto' or 'always' for web lookups.\n"
     ]
    },
    {
     "name": "stdout",
     "output_type": "stream",
     "text": [
      "state : [0 0 0 0 0 0 0 0 0 0 0 0 0 0 0 0 0 0 0 0 0 0 0 0 0 0 0 0 0 0 0 0 0 0 0 0]\n",
      "Q_values : [ 2.6347532  3.6991932 -4.4198    -4.449877 ]\n",
      "state : [0 0 0 0 0 0 0 0 0 0 0 0 0 0 0 0 0 0 0 0 0 0 0 0 0 0 0 0 0 0 0 0 0 0 0 0]\n",
      "Q_values : [ 2.407771   2.7813525 -3.7737217 -4.475975 ]\n",
      "state : [0 0 0 0 0 0 0 0 0 0 0 0 0 0 0 0 0 0 0 0 0 0 0 0 0 0 0 0 0 0 0 0 0 0 0 0]\n",
      "Q_values : [ 3.951475   1.9320621 -3.483722  -4.7449846]\n",
      "state : [0 0 0 0 0 0 0 0 0 0 0 0 0 0 0 0 0 0 0 0 0 0 0 0 0 0 0 0 0 0 0 0 0 0 0 0]\n",
      "Q_values : [ 4.531574   2.9623675 -3.2352626 -4.45277  ]\n",
      "state : [0 0 0 0 0 0 0 0 0 0 0 0 0 0 0 0 0 0 0 0 0 0 0 0 0 0 0 0 0 0 0 0 0 0 0 0]\n",
      "Q_values : [ 3.919269   3.238336  -3.2149305 -4.4405336]\n",
      "state : [0 0 0 0 0 0 0 0 0 0 0 0 0 0 1 0 1 0 0 0 0 0 0 0 0 0 0 0 0 0 0 0 0 0 0 0]\n",
      "Q_values : [ 2.6643498  2.8155959 -2.6790025 -4.429516 ]\n",
      "state : [0 0 0 0 0 0 0 0 0 0 0 0 0 0 0 0 1 1 0 0 0 0 0 0 0 0 0 0 0 0 0 0 0 0 0 0]\n",
      "Q_values : [ 2.2721353  2.1640718 -2.3960705 -3.8804152]\n",
      "state : [0 0 0 0 0 0 0 0 0 0 0 0 0 0 0 0 2 2 0 0 0 0 0 0 0 0 0 0 0 0 0 0 0 0 0 0]\n",
      "Q_values : [ 1.1740843  1.964362  -1.6906674 -3.6415064]\n",
      "state : [0 0 0 0 0 0 0 0 0 0 0 0 0 0 0 0 4 4 0 0 0 0 0 0 0 0 0 0 0 0 0 0 0 0 0 0]\n",
      "Q_values : [ 1.6285172  1.6697575 -1.2690859 -4.274584 ]\n",
      "state : [0 0 0 0 0 0 0 0 0 0 0 0 0 0 0 0 6 5 0 0 0 0 1 1 0 0 0 0 0 0 0 0 0 0 0 0]\n",
      "Q_values : [ 2.763812   1.3294746 -0.889472  -3.9607832]\n",
      "state : [0 0 0 0 0 0 0 0 0 0 0 0 0 0 0 0 6 6 0 0 0 0 2 1 0 0 0 0 0 0 0 0 0 0 0 0]\n",
      "Q_values : [ 2.4230509   2.2032235  -0.25865245 -4.2200446 ]\n",
      "state : [0 0 0 0 0 0 0 0 0 0 0 0 0 0 0 0 6 6 0 0 0 0 3 3 0 0 0 0 0 0 0 0 0 0 0 0]\n",
      "Q_values : [ 2.1302595   2.1572657  -0.07736564 -4.631507  ]\n",
      "state : [0 0 0 0 0 0 0 0 0 0 0 0 0 0 0 0 6 6 0 0 0 0 4 4 0 0 0 0 0 0 0 0 0 0 0 0]\n",
      "Q_values : [ 1.1833156  2.1133385  0.3802595 -4.847248 ]\n",
      "state : [0 0 0 0 0 0 0 0 0 0 0 0 0 0 0 0 6 6 0 0 0 0 4 4 0 0 0 0 0 0 0 0 0 0 0 0]\n",
      "Q_values : [ 1.9428914   1.5169866  -0.05248833 -5.207126  ]\n",
      "state : [0 0 0 0 0 0 0 0 0 0 0 0 0 0 0 0 6 6 0 0 0 0 4 4 0 0 0 0 0 0 0 0 0 0 0 0]\n",
      "Q_values : [ 1.7792541  2.2530107 -0.0814352 -5.4526854]\n",
      "state : [0 0 0 0 0 0 0 0 0 0 0 0 0 0 0 0 6 6 0 0 0 0 4 4 0 0 0 0 0 0 0 0 0 0 0 0]\n",
      "Q_values : [ 2.5999434   2.7969627  -0.33564377 -5.265837  ]\n",
      "state : [0 0 0 0 0 0 0 0 0 0 0 0 0 0 0 0 6 6 0 0 0 0 4 4 0 0 0 0 0 0 0 0 0 0 0 0]\n",
      "Q_values : [ 2.4943552   2.6801877  -0.31465483 -5.2909126 ]\n",
      "state : [0 0 0 0 0 0 0 0 0 0 0 0 0 0 0 0 6 6 0 0 0 0 4 4 0 0 0 0 0 0 0 0 0 0 0 0]\n",
      "Q_values : [ 3.331936    2.7266898  -0.22759557 -5.3134866 ]\n",
      "state : [0 0 0 0 0 0 0 0 0 0 0 0 0 0 0 0 6 6 0 0 0 0 4 4 0 0 0 0 0 0 0 0 0 0 0 0]\n",
      "Q_values : [ 2.89996    2.5865378 -0.6485305 -5.8121085]\n",
      "state : [0 0 0 0 0 0 0 0 0 0 0 0 0 0 0 0 6 6 0 0 0 0 4 4 0 0 0 0 0 0 0 0 0 0 0 0]\n",
      "Q_values : [ 2.315706   2.1715755 -0.8213186 -4.7278395]\n",
      "Step #100.00 (0ms ?*RT. ?UPS, TraCI: 36ms, vehicles TOT 33 ACT 20 BUF 0)                   \n",
      "episode : 204\n",
      " Retrying in 1 seconds\n"
     ]
    },
    {
     "name": "stderr",
     "output_type": "stream",
     "text": [
      "Warning: Environment variable SUMO_HOME is not set properly, disabling XML validation. Set 'auto' or 'always' for web lookups.\n"
     ]
    },
    {
     "name": "stdout",
     "output_type": "stream",
     "text": [
      "state : [0 0 0 0 0 0 0 0 0 0 0 0 0 0 0 0 0 0 0 0 0 0 0 0 0 0 0 0 0 0 0 0 0 0 0 0]\n",
      "Q_values : [ 2.0799062   2.425444   -0.65276885 -3.905275  ]\n",
      "state : [0 0 0 0 0 0 0 0 0 0 0 0 0 0 0 0 0 0 0 0 0 0 0 0 0 0 0 0 0 0 0 0 0 0 0 0]\n",
      "Q_values : [ 2.1094584   2.100163   -0.58370113 -3.613106  ]\n",
      "state : [0 0 0 0 0 0 0 0 0 0 0 0 0 0 0 0 0 0 0 0 0 0 0 0 0 0 0 0 0 0 0 0 0 0 0 0]\n",
      "Q_values : [ 1.8837398  2.1451104 -0.5551102 -3.769303 ]\n",
      "state : [0 0 0 0 0 0 0 0 0 0 0 0 0 0 0 0 0 0 0 0 0 0 0 0 0 0 0 0 0 0 0 0 0 0 0 0]\n",
      "Q_values : [ 3.401213   2.107037  -0.5293648 -3.6601083]\n",
      "state : [0 0 0 0 0 0 0 0 0 0 0 0 0 0 0 0 0 0 0 0 0 0 0 0 0 0 0 0 0 0 0 0 0 0 0 0]\n",
      "Q_values : [ 3.8822286  2.4653192 -0.5061822 -3.7707677]\n",
      "state : [0 0 0 0 0 0 0 0 0 0 0 0 0 0 1 0 1 0 0 0 0 0 0 0 0 0 0 0 0 0 0 0 0 0 0 0]\n",
      "Q_values : [ 3.0596664   3.2679849  -0.48530746 -4.111026  ]\n",
      "state : [0 0 0 0 0 0 0 0 0 0 0 0 0 0 0 0 1 1 0 0 0 0 0 0 0 0 0 0 0 0 0 0 0 0 0 0]\n",
      "Q_values : [ 2.4909375   3.0883327  -0.29246497 -3.5249825 ]\n",
      "state : [0 0 0 0 0 0 0 0 0 0 0 0 0 0 0 0 2 2 0 0 0 0 0 0 0 0 0 0 0 0 0 0 0 0 0 0]\n",
      "Q_values : [ 3.8563273  2.3379092 -0.2013042 -3.3438878]\n",
      "state : [0 0 0 0 0 0 0 0 0 0 0 0 0 0 0 0 4 4 0 0 0 0 0 0 0 0 0 0 0 0 0 0 0 0 0 0]\n",
      "Q_values : [ 3.184389    1.8480624  -0.11922097 -3.180821  ]\n",
      "state : [0 0 0 0 0 0 0 0 0 0 0 0 0 0 0 0 6 5 0 0 0 0 1 1 0 0 0 0 0 0 0 0 0 0 0 0]\n",
      "Q_values : [ 2.9904666   2.4107752  -0.72666883 -3.4052072 ]\n",
      "state : [0 0 0 0 0 0 0 0 0 0 0 0 0 0 0 0 6 6 0 0 0 0 2 1 0 0 0 0 0 0 0 0 0 0 0 0]\n",
      "Q_values : [ 1.7326453  3.1927018 -2.2269862 -3.8358395]\n",
      "state : [0 0 0 0 0 0 0 0 0 0 0 0 0 0 0 0 6 6 0 0 0 0 3 3 0 0 0 0 0 0 0 0 0 0 0 0]\n",
      "Q_values : [ 1.4829246  3.38535   -2.8231616 -3.6008458]\n",
      "state : [0 0 0 0 0 0 0 0 0 0 0 0 0 0 0 0 6 6 0 0 0 0 4 4 0 0 0 0 0 0 0 0 0 0 0 0]\n",
      "Q_values : [ 2.221981   3.3353052 -3.430938  -3.1733956]\n",
      "state : [0 0 0 0 0 0 0 0 0 0 0 0 0 0 0 0 6 6 0 0 0 0 4 4 0 0 0 0 0 0 0 0 0 0 0 0]\n",
      "Q_values : [ 2.6007829  2.434157  -3.9782112 -2.9875948]\n",
      "state : [0 0 0 0 0 0 0 0 0 0 0 0 0 0 0 0 6 6 0 0 0 0 4 4 0 0 0 0 0 0 0 0 0 0 0 0]\n",
      "Q_values : [ 2.0239177  1.6352437 -4.8590884 -3.1946   ]\n",
      "state : [0 0 0 0 0 0 0 0 0 0 0 0 0 0 0 0 6 6 0 0 0 0 4 4 0 0 0 0 0 0 0 0 0 0 0 0]\n",
      "Q_values : [ 2.1008673  1.3202939 -5.149846  -2.8693712]\n",
      "state : [0 0 0 0 0 0 0 0 0 0 0 0 0 0 0 0 6 6 0 0 0 0 4 4 0 0 0 0 0 0 0 0 0 0 0 0]\n",
      "Q_values : [ 1.9942622  1.2388682 -4.970129  -2.734925 ]\n",
      "state : [0 0 0 0 0 0 0 0 0 0 0 0 0 0 0 0 6 6 0 0 0 0 4 4 0 0 0 0 0 0 0 0 0 0 0 0]\n",
      "Q_values : [ 1.55399    1.8884687 -5.088976  -2.6138608]\n",
      "state : [0 0 0 0 0 0 0 0 0 0 0 0 0 0 0 0 6 6 0 0 0 0 4 4 0 0 0 0 0 0 0 0 0 0 0 0]\n",
      "Q_values : [ 2.254456   2.51116   -5.1959915 -2.5048537]\n",
      "state : [0 0 0 0 0 0 0 0 0 0 0 0 0 0 0 0 6 6 0 0 0 0 4 4 0 0 0 0 0 0 0 0 0 0 0 0]\n",
      "Q_values : [ 2.2228436  3.4701676 -4.9257007 -1.8686795]\n",
      "Step #100.00 (0ms ?*RT. ?UPS, TraCI: 33ms, vehicles TOT 33 ACT 20 BUF 0)                   \n",
      "episode : 205\n",
      " Retrying in 1 seconds\n"
     ]
    },
    {
     "name": "stderr",
     "output_type": "stream",
     "text": [
      "Warning: Environment variable SUMO_HOME is not set properly, disabling XML validation. Set 'auto' or 'always' for web lookups.\n"
     ]
    },
    {
     "name": "stdout",
     "output_type": "stream",
     "text": [
      "state : [0 0 0 0 0 0 0 0 0 0 0 0 0 0 0 0 0 0 0 0 0 0 0 0 0 0 0 0 0 0 0 0 0 0 0 0]\n",
      "Q_values : [ 2.4270768  3.6618872 -4.8560786 -0.8978138]\n",
      "state : [0 0 0 0 0 0 0 0 0 0 0 0 0 0 0 0 0 0 0 0 0 0 0 0 0 0 0 0 0 0 0 0 0 0 0 0]\n",
      "Q_values : [ 2.7853742   3.2993565  -4.7933826  -0.91212106]\n",
      "state : [0 0 0 0 0 0 0 0 0 0 0 0 0 0 0 0 0 0 0 0 0 0 0 0 0 0 0 0 0 0 0 0 0 0 0 0]\n",
      "Q_values : [ 2.973875   2.5345669 -4.73693   -1.2428944]\n",
      "state : [0 0 0 0 0 0 0 0 0 0 0 0 0 0 0 0 0 0 0 0 0 0 0 0 0 0 0 0 0 0 0 0 0 0 0 0]\n",
      "Q_values : [ 3.3568075  2.8420863 -4.8326707 -2.4160724]\n",
      "state : [0 0 0 0 0 0 0 0 0 0 0 0 0 0 0 0 0 0 0 0 0 0 0 0 0 0 0 0 0 0 0 0 0 0 0 0]\n",
      "Q_values : [ 2.4956846  2.3494284 -4.3120236 -3.2351797]\n",
      "state : [0 0 0 0 0 0 0 0 0 0 0 0 0 0 1 0 1 0 0 0 0 0 0 0 0 0 0 0 0 0 0 0 0 0 0 0]\n",
      "Q_values : [ 1.599606   1.6882181 -3.6389542 -3.8255405]\n",
      "state : [0 0 0 0 0 0 0 0 0 0 0 0 0 0 0 0 1 1 0 0 0 0 0 0 0 0 0 0 0 0 0 0 0 0 0 0]\n",
      "Q_values : [ 1.189285   0.9136473 -3.2504125 -4.35713  ]\n",
      "state : [0 0 0 0 0 0 0 0 0 0 0 0 0 0 0 0 2 2 0 0 0 0 0 0 0 0 0 0 0 0 0 0 0 0 0 0]\n",
      "Q_values : [ 0.73783255  0.57117605 -2.9005492  -4.441377  ]\n",
      "state : [0 0 0 0 0 0 0 0 0 0 0 0 0 0 0 0 4 4 0 0 0 0 0 0 0 0 0 0 0 0 0 0 0 0 0 0]\n",
      "Q_values : [ 0.81621695  1.5048276  -3.141886   -5.1174507 ]\n",
      "state : [0 0 0 0 0 0 0 0 0 0 0 0 0 0 0 0 6 5 0 0 0 0 1 1 0 0 0 0 0 0 0 0 0 0 0 0]\n",
      "Q_values : [ 1.529407   1.5420482 -2.7736251 -5.0625257]\n",
      "state : [0 0 0 0 0 0 0 0 0 0 0 0 0 0 0 0 6 6 0 0 0 0 2 1 0 0 0 0 0 0 0 0 0 0 0 0]\n",
      "Q_values : [ 2.460735   1.4792979 -2.1737719 -4.769776 ]\n",
      "state : [0 0 0 0 0 0 0 0 0 0 0 0 0 0 0 0 6 6 0 0 0 0 3 3 0 0 0 0 0 0 0 0 0 0 0 0]\n",
      "Q_values : [ 3.409573   2.5683804 -2.3787596 -4.726486 ]\n",
      "state : [0 0 0 0 0 0 0 0 0 0 0 0 0 0 0 0 6 6 0 0 0 0 4 4 0 0 0 0 0 0 0 0 0 0 0 0]\n",
      "Q_values : [ 3.912006   3.9940696 -2.304799  -4.573333 ]\n",
      "state : [0 0 0 0 0 0 0 0 0 0 0 0 0 0 0 0 6 6 0 0 0 0 4 4 0 0 0 0 0 0 0 0 0 0 0 0]\n",
      "Q_values : [ 3.8851156  3.218913  -2.5443482 -4.4895353]\n",
      "state : [0 0 0 0 0 0 0 0 0 0 0 0 0 0 0 0 6 6 0 0 0 0 4 4 0 0 0 0 0 0 0 0 0 0 0 0]\n",
      "Q_values : [ 2.7306676  3.2925115 -1.9548793 -4.8241014]\n",
      "state : [0 0 0 0 0 0 0 0 0 0 0 0 0 0 0 0 6 6 0 0 0 0 4 4 0 0 0 0 0 0 0 0 0 0 0 0]\n",
      "Q_values : [ 1.8775063  2.6144924 -1.7369044 -4.931051 ]\n",
      "state : [0 0 0 0 0 0 0 0 0 0 0 0 0 0 0 0 6 6 0 0 0 0 4 4 0 0 0 0 0 0 0 0 0 0 0 0]\n",
      "Q_values : [ 2.2396176  1.5169868 -1.5406277 -5.027355 ]\n",
      "state : [0 0 0 0 0 0 0 0 0 0 0 0 0 0 0 0 6 6 0 0 0 0 4 4 0 0 0 0 0 0 0 0 0 0 0 0]\n",
      "Q_values : [ 2.2678294  1.4506482 -1.3638885 -5.11407  ]\n",
      "state : [0 0 0 0 0 0 0 0 0 0 0 0 0 0 0 0 6 6 0 0 0 0 4 4 0 0 0 0 0 0 0 0 0 0 0 0]\n",
      "Q_values : [ 2.2302108  2.186726  -1.2047441 -5.192155 ]\n",
      "state : [0 0 0 0 0 0 0 0 0 0 0 0 0 0 0 0 6 6 0 0 0 0 4 4 0 0 0 0 0 0 0 0 0 0 0 0]\n",
      "Q_values : [ 1.9207225   2.2887888  -0.86894727 -6.3383055 ]\n",
      "Step #100.00 (0ms ?*RT. ?UPS, TraCI: 31ms, vehicles TOT 33 ACT 20 BUF 0)                   \n",
      "episode : 206\n",
      " Retrying in 1 seconds\n"
     ]
    },
    {
     "name": "stderr",
     "output_type": "stream",
     "text": [
      "Warning: Environment variable SUMO_HOME is not set properly, disabling XML validation. Set 'auto' or 'always' for web lookups.\n"
     ]
    },
    {
     "name": "stdout",
     "output_type": "stream",
     "text": [
      "state : [0 0 0 0 0 0 0 0 0 0 0 0 0 0 0 0 0 0 0 0 0 0 0 0 0 0 0 0 0 0 0 0 0 0 0 0]\n",
      "Q_values : [ 3.0208588  1.6431962 -0.6578121 -6.504776 ]\n",
      "state : [0 0 0 0 0 0 0 0 0 0 0 0 0 0 0 0 0 0 0 0 0 0 0 0 0 0 0 0 0 0 0 0 0 0 0 0]\n",
      "Q_values : [ 2.5293136  1.9740368 -0.4676938 -6.9819193]\n",
      "state : [0 0 0 0 0 0 0 0 0 0 0 0 0 0 0 0 0 0 0 0 0 0 0 0 0 0 0 0 0 0 0 0 0 0 0 0]\n",
      "Q_values : [ 2.2260516  2.2924232 -0.1525433 -6.6766243]\n",
      "state : [0 0 0 0 0 0 0 0 0 0 0 0 0 0 0 0 0 0 0 0 0 0 0 0 0 0 0 0 0 0 0 0 0 0 0 0]\n",
      "Q_values : [ 2.1298864   2.146892    0.17098737 -6.714282  ]\n",
      "state : [0 0 0 0 0 0 0 0 0 0 0 0 0 0 0 0 0 0 0 0 0 0 0 0 0 0 0 0 0 0 0 0 0 0 0 0]\n",
      "Q_values : [ 1.8862442  2.5226521  0.411134  -6.765177 ]\n",
      "state : [0 0 0 0 0 0 0 0 0 0 0 0 0 1 0 0 1 0 0 0 0 0 0 0 0 0 0 0 0 0 0 0 0 0 0 0]\n",
      "Q_values : [ 2.2377372   2.520489    0.69813275 -6.8029566 ]\n",
      "state : [0 0 0 0 0 0 0 0 0 0 0 0 0 1 0 0 1 1 0 0 0 0 0 0 0 0 0 0 0 0 0 0 0 0 0 0]\n",
      "Q_values : [ 2.727303    2.2410734   0.92302537 -6.8369756 ]\n",
      "state : [0 0 0 0 0 0 0 0 0 0 0 0 0 0 0 0 2 2 0 0 0 0 0 0 0 0 0 0 0 0 0 0 0 0 0 0]\n",
      "Q_values : [ 2.7917776  3.0962625  1.1255302 -6.3545456]\n",
      "state : [0 0 0 0 0 0 0 0 0 0 0 0 0 0 0 0 4 4 0 0 0 0 0 0 0 0 0 0 0 0 0 0 0 0 0 0]\n",
      "Q_values : [ 2.6765776  3.5312896  0.510093  -5.5300064]\n",
      "state : [0 0 0 0 0 0 0 0 0 0 0 0 0 0 0 0 6 5 0 0 0 0 1 1 0 0 0 0 0 0 0 0 0 0 0 0]\n",
      "Q_values : [ 2.7977257   2.2238877   0.43855667 -4.503151  ]\n",
      "state : [0 0 0 0 0 0 0 0 0 0 0 0 0 0 0 0 6 6 0 0 0 0 2 1 0 0 0 0 0 0 0 0 0 0 0 0]\n",
      "Q_values : [ 2.3700805   1.734764    0.32456374 -3.8556478 ]\n",
      "state : [0 0 0 0 0 0 0 0 0 0 0 0 0 0 0 0 6 6 0 0 0 0 3 3 0 0 0 0 0 0 0 0 0 0 0 0]\n",
      "Q_values : [ 1.8509305   1.2423953  -0.03991008 -3.5903034 ]\n",
      "state : [0 0 0 0 0 0 0 0 0 0 0 0 0 0 0 0 6 6 0 0 0 0 4 4 0 0 0 0 0 0 0 0 0 0 0 0]\n",
      "Q_values : [ 1.7840365e+00  1.8356689e+00  5.3453445e-04 -3.6410134e+00]\n",
      "state : [0 0 0 0 0 0 0 0 0 0 0 0 0 0 0 0 6 6 0 0 0 0 4 4 0 0 0 0 0 0 0 0 0 0 0 0]\n",
      "Q_values : [ 1.8976623e+00  2.2699261e+00 -2.3612976e-03 -3.7543705e+00]\n",
      "state : [0 0 0 0 0 0 0 0 0 0 0 0 0 0 0 0 6 6 0 0 0 0 4 4 0 0 0 0 0 0 0 0 0 0 0 0]\n",
      "Q_values : [ 1.449677    1.804222   -0.51927924 -3.3329244 ]\n",
      "state : [0 0 0 0 0 0 0 0 0 0 0 0 0 0 0 0 6 6 0 0 0 0 4 4 0 0 0 0 0 0 0 0 0 0 0 0]\n",
      "Q_values : [ 2.1885414  1.0539064 -1.2722807 -2.7993312]\n",
      "state : [0 0 0 0 0 0 0 0 0 0 0 0 0 0 0 0 6 6 0 0 0 0 4 4 0 0 0 0 0 0 0 0 0 0 0 0]\n",
      "Q_values : [ 2.743064   1.8773199 -1.394732  -2.4800842]\n",
      "state : [0 0 0 0 0 0 0 0 0 0 0 0 0 0 0 0 6 6 0 0 0 0 4 4 0 0 0 0 0 0 0 0 0 0 0 0]\n",
      "Q_values : [ 2.9052424  2.6994658 -1.6527889 -2.1926196]\n",
      "state : [0 0 0 0 0 0 0 0 0 0 0 0 0 0 0 0 6 0 0 0 0 0 4 0 0 0 0 0 0 0 0 0 0 0 0 0]\n",
      "Q_values : [ 3.346318   3.1046858 -2.7629724 -2.9167392]\n",
      "Step #100.00 (0ms ?*RT. ?UPS, TraCI: 32ms, vehicles TOT 33 ACT 20 BUF 0)                   \n",
      "episode : 207\n",
      " Retrying in 1 seconds\n"
     ]
    },
    {
     "name": "stderr",
     "output_type": "stream",
     "text": [
      "Warning: Environment variable SUMO_HOME is not set properly, disabling XML validation. Set 'auto' or 'always' for web lookups.\n"
     ]
    },
    {
     "name": "stdout",
     "output_type": "stream",
     "text": [
      "state : [0 0 0 0 0 0 0 0 0 0 0 0 0 0 0 0 0 0 0 0 0 0 0 0 0 0 0 0 0 0 0 0 0 0 0 0]\n",
      "Q_values : [ 2.8156724  2.71606   -3.16545   -2.7415152]\n",
      "state : [0 0 0 0 0 0 0 0 0 0 0 0 0 0 0 0 0 0 0 0 0 0 0 0 0 0 0 0 0 0 0 0 0 0 0 0]\n",
      "Q_values : [ 2.435936   1.6523906 -3.9820373 -2.7587612]\n",
      "state : [0 0 0 0 0 0 0 0 0 0 0 0 0 0 0 0 0 0 0 0 0 0 0 0 0 0 0 0 0 0 0 0 0 0 0 0]\n",
      "Q_values : [ 1.5644426  2.6132193 -4.066512  -2.454026 ]\n",
      "state : [0 0 0 0 0 0 0 0 0 0 0 0 0 0 0 0 0 0 0 0 0 0 0 0 0 0 0 0 0 0 0 0 0 0 0 0]\n",
      "Q_values : [ 2.0783074  2.524441  -4.736409  -1.9479167]\n",
      "state : [0 0 0 0 0 0 0 0 0 0 0 0 0 0 0 0 0 0 0 0 0 0 0 0 0 0 0 0 0 0 0 0 0 0 0 0]\n",
      "Q_values : [ 3.0495386  2.1383944 -4.820973  -1.4152536]\n",
      "state : [0 0 0 0 0 0 0 0 0 0 0 0 0 0 1 0 1 0 0 0 0 0 0 0 0 0 0 0 0 0 0 0 0 0 0 0]         \n",
      "Q_values : [ 3.014639   2.2987309 -5.0558414 -0.9824362]\n"
     ]
    },
    {
     "name": "stderr",
     "output_type": "stream",
     "text": [
      "Warning: Vehicle 'veh_2' performs emergency stop at the end of lane 'end1_junction_2' because of a red traffic light (decel=-20.39, offset=0.10), time=21.24.\n"
     ]
    },
    {
     "name": "stdout",
     "output_type": "stream",
     "text": [
      "state : [0 0 0 0 0 0 0 0 0 0 0 0 0 0 1 0 1 1 0 0 0 0 0 0 0 0 0 0 0 0 0 0 0 0 0 0]\n",
      "Q_values : [ 3.2256775   2.571076   -5.00513    -0.62862563]\n",
      "state : [0 0 0 0 0 0 0 0 0 0 0 0 0 0 1 0 2 2 0 0 0 0 0 0 0 0 0 0 0 0 0 0 0 0 0 0]\n",
      "Q_values : [ 2.2916079   2.2508829  -4.2575626  -0.31003428]\n",
      "state : [0 0 0 0 0 0 0 0 0 0 0 0 0 0 1 0 4 4 0 0 0 0 0 0 0 0 0 0 0 0 0 0 0 0 0 0]\n",
      "Q_values : [ 1.5565381   1.8353341  -3.5228963  -0.71288776]\n",
      "state : [0 0 0 0 0 0 0 0 0 0 0 0 0 0 0 0 6 5 0 0 0 0 1 1 0 0 0 0 0 0 0 0 0 0 0 0]\n",
      "Q_values : [ 1.7449329  1.2420746 -2.787525  -0.7488427]\n",
      "state : [0 0 0 0 0 0 0 0 0 0 0 0 0 0 0 0 6 6 0 0 0 0 2 1 0 0 0 0 0 0 0 0 0 0 0 0]\n",
      "Q_values : [ 1.5895431  2.145842  -2.4316962 -0.7812214]\n",
      "state : [0 0 0 0 0 0 0 0 0 0 0 0 0 0 0 0 6 6 0 0 0 0 3 3 0 0 0 0 0 0 0 0 0 0 0 0]\n",
      "Q_values : [ 2.5486758   1.9680406  -1.7367442  -0.81037235]\n",
      "state : [0 0 0 0 0 0 0 0 0 0 0 0 0 0 0 0 6 6 0 0 0 0 4 4 0 0 0 0 0 0 0 0 0 0 0 0]\n",
      "Q_values : [ 2.5108986   1.9111099  -0.82876587 -0.2502501 ]\n",
      "state : [0 0 0 0 0 0 0 0 0 0 0 0 0 0 0 0 0 6 0 0 0 0 0 4 0 0 0 0 0 0 0 0 0 0 0 0]\n",
      "Q_values : [ 2.3334699   2.3188608   0.3451538  -0.40415907]\n",
      "state : [0 0 0 0 0 0 0 0 0 0 0 0 0 0 0 0 2 6 0 0 0 0 0 4 0 0 0 0 0 0 0 0 0 0 0 0]\n",
      "Q_values : [ 1.8587736   2.0009172   0.07422471 -0.3426845 ]\n",
      "state : [0 0 0 0 0 0 0 0 0 0 0 0 0 0 0 0 2 6 0 0 0 0 0 4 0 0 0 0 0 0 0 0 0 0 0 0]\n",
      "Q_values : [ 1.5024592   2.3455648   0.10555696 -0.31979036]\n",
      "state : [0 0 0 0 0 0 0 0 0 0 0 0 0 0 0 0 2 6 0 0 0 0 0 4 0 0 0 0 0 0 0 0 0 0 0 0]\n",
      "Q_values : [ 1.5459756   1.6536881   0.17656255 -1.0010059 ]\n",
      "state : [0 0 0 0 0 0 0 0 0 0 0 0 0 0 0 0 2 6 0 0 0 0 0 4 0 0 0 0 0 0 0 0 0 0 0 0]\n",
      "Q_values : [ 1.3769184  2.0477757 -1.2744355 -1.2880368]\n",
      "state : [0 0 0 0 0 0 0 0 0 0 0 0 0 0 0 0 2 6 0 0 0 0 0 4 0 0 0 0 0 0 0 0 0 0 0 0]\n",
      "Q_values : [ 2.047756   1.5333587 -1.6701212 -1.5464907]\n",
      "Step #100.00 (0ms ?*RT. ?UPS, TraCI: 32ms, vehicles TOT 33 ACT 12 BUF 0)                   \n",
      "episode : 208\n",
      " Retrying in 1 seconds\n"
     ]
    },
    {
     "name": "stderr",
     "output_type": "stream",
     "text": [
      "Warning: Environment variable SUMO_HOME is not set properly, disabling XML validation. Set 'auto' or 'always' for web lookups.\n"
     ]
    },
    {
     "name": "stdout",
     "output_type": "stream",
     "text": [
      "state : [0 0 0 0 0 0 0 0 0 0 0 0 0 0 0 0 0 0 0 0 0 0 0 0 0 0 0 0 0 0 0 0 0 0 0 0]\n",
      "Q_values : [ 2.3191342  1.3660897 -2.1178634 -1.976165 ]\n",
      "state : [0 0 0 0 0 0 0 0 0 0 0 0 0 0 0 0 0 0 0 0 0 0 0 0 0 0 0 0 0 0 0 0 0 0 0 0]\n",
      "Q_values : [ 2.6939247  2.5423226 -2.5210357 -1.7721405]\n",
      "state : [0 0 0 0 0 0 0 0 0 0 0 0 0 0 0 0 0 0 0 0 0 0 0 0 0 0 0 0 0 0 0 0 0 0 0 0]\n",
      "Q_values : [ 2.5128016  3.2794404 -2.6429026 -1.824199 ]\n",
      "state : [0 0 0 0 0 0 0 0 0 0 0 0 0 0 0 0 0 0 0 0 0 0 0 0 0 0 0 0 0 0 0 0 0 0 0 0]\n",
      "Q_values : [ 3.2162633  2.886102  -2.9876103 -2.4013464]\n",
      "state : [0 0 0 0 0 0 0 0 0 0 0 0 0 0 0 0 0 0 0 0 0 0 0 0 0 0 0 0 0 0 0 0 0 0 0 0]\n",
      "Q_values : [ 2.9183536  2.5582857 -1.9981992 -2.6697226]\n",
      "state : [0 0 0 0 0 0 0 0 0 0 0 0 0 0 1 0 1 0 0 0 0 0 0 0 0 0 0 0 0 0 0 0 0 0 0 0]\n",
      "Q_values : [ 1.661452   1.9810467 -1.6959424 -3.2257042]\n",
      "state : [0 0 0 0 0 0 0 0 0 0 0 0 0 0 0 0 1 1 0 0 0 0 0 0 0 0 0 0 0 0 0 0 0 0 0 0]\n",
      "Q_values : [ 1.2084947  1.77168   -1.1979253 -3.5773535]\n",
      "state : [0 0 0 0 0 0 0 0 0 0 0 0 0 0 0 0 2 2 0 0 0 0 0 0 0 0 0 0 0 0 0 0 0 0 0 0]\n",
      "Q_values : [ 0.9329194  2.2181442 -1.5222542 -3.8939974]\n",
      "state : [0 0 0 0 0 0 0 0 0 0 0 0 0 0 0 0 4 4 0 0 0 0 0 0 0 0 0 0 0 0 0 0 0 0 0 0]\n",
      "Q_values : [ 2.8348637  1.732111  -1.782213  -4.179124 ]\n",
      "state : [0 0 0 0 0 0 0 0 0 0 0 0 0 0 0 0 6 5 0 0 0 0 1 1 0 0 0 0 0 0 0 0 0 0 0 0]\n",
      "Q_values : [ 2.8101766  2.1931815 -1.6127937 -4.4358635]\n",
      "state : [0 0 0 0 0 0 0 0 0 0 0 0 0 0 0 0 6 6 0 0 0 0 2 1 0 0 0 0 0 0 0 0 0 0 0 0]\n",
      "Q_values : [ 3.410552   2.5975342 -0.8262563 -4.1916237]\n",
      "state : [0 0 0 0 0 0 0 0 0 0 0 0 0 0 0 0 6 6 0 0 0 0 3 3 0 0 0 0 0 0 0 0 0 0 0 0]\n",
      "Q_values : [ 2.992533   2.7876945 -0.4789517 -4.1969776]\n",
      "state : [0 0 0 0 0 0 0 0 0 0 0 0 0 0 0 0 6 6 0 0 0 0 4 4 0 0 0 0 0 0 0 0 0 0 0 0]\n",
      "Q_values : [ 2.6648178   2.5554411  -0.16622114 -4.552594  ]\n",
      "state : [0 0 0 0 0 0 0 0 0 0 0 0 0 0 0 0 6 6 0 0 0 0 4 4 0 0 0 0 0 0 0 0 0 0 0 0]\n",
      "Q_values : [ 2.5052376   2.1102686   0.11537576 -4.227068  ]\n",
      "state : [0 0 0 0 0 0 0 0 0 0 0 0 0 0 0 0 6 6 0 0 0 0 4 4 0 0 0 0 0 0 0 0 0 0 0 0]\n",
      "Q_values : [ 1.7589929   1.9920523   0.36894155 -4.8162355 ]\n",
      "state : [0 0 0 0 0 0 0 0 0 0 0 0 0 0 0 0 6 6 0 0 0 0 4 4 0 0 0 0 0 0 0 0 0 0 0 0]\n",
      "Q_values : [ 1.3442161  1.9296039  0.7030237 -4.7715025]\n",
      "state : [0 0 0 0 0 0 0 0 0 0 0 0 0 0 0 0 6 6 0 0 0 0 4 4 0 0 0 0 0 0 0 0 0 0 0 0]\n",
      "Q_values : [ 1.5746446  1.7964749  0.953727  -5.4316826]\n",
      "state : [0 0 0 0 0 0 0 0 0 0 0 0 0 0 0 0 6 6 0 0 0 0 4 4 0 0 0 0 0 0 0 0 0 0 0 0]\n",
      "Q_values : [ 1.3664963   1.7198586  -0.68902564 -5.3736553 ]\n",
      "state : [0 0 0 0 0 0 0 0 0 0 0 0 0 0 0 0 6 6 0 0 0 0 4 4 0 0 0 0 0 0 0 0 0 0 0 0]\n",
      "Q_values : [ 1.5807931  0.9664397 -1.283196  -4.748705 ]\n",
      "state : [0 0 0 0 0 0 0 0 0 0 0 0 0 0 0 0 6 6 0 0 0 0 4 4 0 0 0 0 0 0 0 0 0 0 0 0]\n",
      "Q_values : [ 1.7943165  1.5693841 -3.1475825 -4.5426702]\n",
      "Step #100.00 (0ms ?*RT. ?UPS, TraCI: 35ms, vehicles TOT 33 ACT 20 BUF 0)                   \n",
      "episode : 209\n",
      " Retrying in 1 seconds\n"
     ]
    },
    {
     "name": "stderr",
     "output_type": "stream",
     "text": [
      "Warning: Environment variable SUMO_HOME is not set properly, disabling XML validation. Set 'auto' or 'always' for web lookups.\n"
     ]
    },
    {
     "name": "stdout",
     "output_type": "stream",
     "text": [
      "state : [0 0 0 0 0 0 0 0 0 0 0 0 0 0 0 0 0 0 0 0 0 0 0 0 0 0 0 0 0 0 0 0 0 0 0 0]\n",
      "Q_values : [ 1.7130461  2.9011228 -4.695382  -4.357147 ]\n",
      "state : [0 0 0 0 0 0 0 0 0 0 0 0 0 0 0 0 0 0 0 0 0 0 0 0 0 0 0 0 0 0 0 0 0 0 0 0]\n",
      "Q_values : [ 2.3301425  2.5896192 -5.852172  -4.190095 ]\n",
      "state : [0 0 0 0 0 0 0 0 0 0 0 0 0 0 0 0 0 0 0 0 0 0 0 0 0 0 0 0 0 0 0 0 0 0 0 0]\n",
      "Q_values : [ 2.5684433  2.0862598 -6.965475  -4.039666 ]\n",
      "state : [0 0 0 0 0 0 0 0 0 0 0 0 0 0 0 0 0 0 0 0 0 0 0 0 0 0 0 0 0 0 0 0 0 0 0 0]\n",
      "Q_values : [ 2.591854   1.8199676 -6.54784   -3.9042177]\n",
      "state : [0 0 0 0 0 0 0 0 0 0 0 0 0 0 0 0 0 0 0 0 0 0 0 0 0 0 0 0 0 0 0 0 0 0 0 0]\n",
      "Q_values : [ 2.0327268  1.8400578 -6.827581  -4.141916 ]\n",
      "state : [0 0 0 0 0 0 0 0 0 0 0 0 0 0 1 0 1 0 0 0 0 0 0 0 0 0 0 0 0 0 0 0 0 0 0 0]\n",
      "Q_values : [ 1.6067895  1.9433541 -6.602026  -4.185504 ]\n",
      "state : [0 0 0 0 0 0 0 0 0 0 0 0 0 0 0 0 1 1 0 0 0 0 0 0 0 0 0 0 0 0 0 0 0 0 0 0]\n",
      "Q_values : [ 1.193713   2.4438176 -6.109133  -4.6209383]\n",
      "state : [0 0 0 0 0 0 0 0 0 0 0 0 0 0 0 0 2 2 0 0 0 0 0 0 0 0 0 0 0 0 0 0 0 0 0 0]\n",
      "Q_values : [ 1.7558315  2.226519  -5.294565  -4.825261 ]\n",
      "state : [0 0 0 0 0 0 0 0 0 0 0 0 0 0 0 0 4 4 0 0 0 0 0 0 0 0 0 0 0 0 0 0 0 0 0 0]\n",
      "Q_values : [ 2.2632124  2.6261811 -4.8527355 -5.0092463]\n",
      "state : [0 0 0 0 0 0 0 0 0 0 0 0 0 0 0 0 6 5 0 0 0 0 1 1 0 0 0 0 0 0 0 0 0 0 0 0]\n",
      "Q_values : [ 2.2833424  2.6711931 -4.454892  -5.1749153]\n",
      "state : [0 0 0 0 0 0 0 0 0 0 0 0 0 0 0 0 6 6 0 0 0 0 2 1 0 0 0 0 0 0 0 0 0 0 0 0]\n",
      "Q_values : [ 1.6969503  2.3352106 -3.6101031 -5.8958893]\n",
      "state : [0 0 0 0 0 0 0 0 0 0 0 0 0 0 0 0 6 6 0 0 0 0 3 3 0 0 0 0 0 0 0 0 0 0 0 0]\n",
      "Q_values : [ 1.8664199  3.0070627 -3.519192  -5.6950846]\n",
      "state : [0 0 0 0 0 0 0 0 0 0 0 0 0 0 0 0 6 6 0 0 0 0 4 4 0 0 0 0 0 0 0 0 0 0 0 0]\n",
      "Q_values : [ 3.340544   2.7458599 -3.2292728 -5.1167407]\n",
      "state : [0 0 0 0 0 0 0 0 0 0 0 0 0 0 0 0 6 6 0 0 0 0 4 4 0 0 0 0 0 0 0 0 0 0 0 0]\n",
      "Q_values : [ 2.454028   2.9749782 -3.069276  -4.8027716]\n",
      "state : [0 0 0 0 0 0 0 0 0 0 0 0 0 0 0 0 6 6 0 0 0 0 4 4 0 0 0 0 0 0 0 0 0 0 0 0]\n",
      "Q_values : [ 2.5579824  2.628366  -2.4937851 -3.9753656]\n",
      "state : [0 0 0 0 0 0 0 0 0 0 0 0 0 0 0 0 6 6 0 0 0 0 4 4 0 0 0 0 0 0 0 0 0 0 0 0]\n",
      "Q_values : [ 2.416879   2.4485505 -2.1573641 -3.5135772]\n",
      "state : [0 0 0 0 0 0 0 0 0 0 0 0 0 0 0 0 6 6 0 0 0 0 4 4 0 0 0 0 0 0 0 0 0 0 0 0]\n",
      "Q_values : [ 1.7849957  1.8001497 -1.8743784 -3.0977592]\n",
      "state : [0 0 0 0 0 0 0 0 0 0 0 0 0 0 0 0 6 6 0 0 0 0 4 4 0 0 0 0 0 0 0 0 0 0 0 0]\n",
      "Q_values : [ 1.6023567  1.1952633 -1.5828521 -3.051951 ]\n",
      "state : [0 0 0 0 0 0 0 0 0 0 0 0 0 0 0 0 6 6 0 0 0 0 4 4 0 0 0 0 0 0 0 0 0 0 0 0]\n",
      "Q_values : [ 1.7653928  2.0174112 -1.13221   -2.5385704]\n",
      "state : [0 0 0 0 0 0 0 0 0 0 0 0 0 0 0 0 6 6 0 0 0 0 4 4 0 0 0 0 0 0 0 0 0 0 0 0]\n",
      "Q_values : [ 1.6672381   2.3131871  -0.64109015 -2.7563884 ]\n",
      "Step #100.00 (0ms ?*RT. ?UPS, TraCI: 33ms, vehicles TOT 33 ACT 20 BUF 0)                   \n",
      "episode : 210\n",
      " Retrying in 1 seconds\n"
     ]
    },
    {
     "name": "stderr",
     "output_type": "stream",
     "text": [
      "Warning: Environment variable SUMO_HOME is not set properly, disabling XML validation. Set 'auto' or 'always' for web lookups.\n"
     ]
    },
    {
     "name": "stdout",
     "output_type": "stream",
     "text": [
      "state : [0 0 0 0 0 0 0 0 0 0 0 0 0 0 0 0 0 0 0 0 0 0 0 0 0 0 0 0 0 0 0 0 0 0 0 0]\n",
      "Q_values : [ 2.480294   2.6557128 -0.284472  -3.2014284]\n",
      "state : [0 0 0 0 0 0 0 0 0 0 0 0 0 0 0 0 0 0 0 0 0 0 0 0 0 0 0 0 0 0 0 0 0 0 0 0]\n",
      "Q_values : [ 3.2368412   2.1849966   0.17281556 -3.3651664 ]\n",
      "state : [0 0 0 0 0 0 0 0 0 0 0 0 0 0 0 0 0 0 0 0 0 0 0 0 0 0 0 0 0 0 0 0 0 0 0 0]\n",
      "Q_values : [ 3.984825   2.6313763  0.6421914 -2.0400944]\n",
      "state : [0 0 0 0 0 0 0 0 0 0 0 0 0 0 0 0 0 0 0 0 0 0 0 0 0 0 0 0 0 0 0 0 0 0 0 0]\n",
      "Q_values : [ 3.3884616  2.99419    1.1506965 -1.5445952]\n",
      "state : [0 0 0 0 0 0 0 0 0 0 0 0 0 0 0 0 0 0 0 0 0 0 0 0 0 0 0 0 0 0 0 0 0 0 0 0]\n",
      "Q_values : [ 2.7945757  2.7348294  0.9558196 -1.2234006]\n",
      "state : [0 0 0 0 0 0 0 0 0 0 0 0 0 0 1 0 1 0 0 0 0 0 0 0 0 0 0 0 0 0 0 0 0 0 0 0]\n",
      "Q_values : [ 2.7753043   2.2134066   0.32390714 -0.8749559 ]\n",
      "state : [0 0 0 0 0 0 0 0 0 0 0 0 0 0 1 0 1 1 0 0 0 0 0 0 0 0 0 0 0 0 0 0 0 0 0 0]\n",
      "Q_values : [ 2.6025095  2.0732079 -0.3939793 -1.1968143]\n",
      "state : [0 0 0 0 0 0 0 0 0 0 0 0 0 0 1 0 2 2 0 0 0 0 0 0 0 0 0 0 0 0 0 0 0 0 0 0]\n",
      "Q_values : [ 2.4747367  1.9922698 -0.8050983 -1.8016138]\n",
      "state : [0 0 0 0 0 0 0 0 0 0 0 0 0 0 1 0 4 4 0 0 0 0 0 0 0 0 0 0 0 0 0 0 0 0 0 0]\n",
      "Q_values : [ 2.2773108  1.7770418 -1.1752877 -2.0542102]\n",
      "state : [0 0 0 0 0 0 0 0 0 0 0 0 0 0 1 0 6 5 0 0 0 0 1 1 0 0 0 0 0 0 0 0 0 0 0 0]\n",
      "Q_values : [ 1.9139116  2.113798  -2.158902  -2.6767385]\n",
      "state : [0 0 0 0 0 0 0 0 0 0 0 0 0 0 0 0 6 6 0 0 0 0 2 1 0 0 0 0 0 0 0 0 0 0 0 0]\n",
      "Q_values : [ 1.385798   1.552348  -3.207517  -2.6607594]\n",
      "state : [0 0 0 0 0 0 0 0 0 0 0 0 0 0 0 0 6 6 0 0 0 0 3 3 0 0 0 0 0 0 0 0 0 0 0 0]\n",
      "Q_values : [ 1.1512316  1.7786852 -3.9283588 -2.8308237]\n",
      "state : [0 0 0 0 0 0 0 0 0 0 0 0 0 0 0 0 6 6 0 0 0 0 4 4 0 0 0 0 0 0 0 0 0 0 0 0]\n",
      "Q_values : [ 2.10666    1.426671  -4.577441  -4.1208715]\n",
      "state : [0 0 0 0 0 0 0 0 0 0 0 0 0 0 0 0 6 6 0 0 0 0 4 4 0 0 0 0 0 0 0 0 0 0 0 0]\n",
      "Q_values : [ 2.5696604  1.8185841 -5.5321407 -4.714922 ]\n",
      "state : [0 0 0 0 0 0 0 0 0 0 0 0 0 0 0 0 6 6 0 0 0 0 4 4 0 0 0 0 0 0 0 0 0 0 0 0]\n",
      "Q_values : [ 3.0682578  2.4182105 -5.807747  -5.2634106]\n",
      "state : [0 0 0 0 0 0 0 0 0 0 0 0 0 0 0 0 6 6 0 0 0 0 4 4 0 0 0 0 0 0 0 0 0 0 0 0]\n",
      "Q_values : [ 2.9774659  3.1030455 -6.249466  -5.7573   ]\n",
      "state : [0 0 0 0 0 0 0 0 0 0 0 0 0 0 0 0 6 6 0 0 0 0 4 4 0 0 0 0 0 0 0 0 0 0 0 0]\n",
      "Q_values : [ 3.183915   3.876143  -6.64721   -5.6826267]\n",
      "state : [0 0 0 0 0 0 0 0 0 0 0 0 0 0 0 0 6 6 0 0 0 0 4 4 0 0 0 0 0 0 0 0 0 0 0 0]\n",
      "Q_values : [ 3.3419247  3.788487  -7.0053606 -5.8926992]\n",
      "state : [0 0 0 0 0 0 0 0 0 0 0 0 0 0 0 0 6 6 0 0 0 0 4 4 0 0 0 0 0 0 0 0 0 0 0 0]\n",
      "Q_values : [ 3.273174   3.3633268 -7.327857  -5.4257665]\n",
      "state : [0 0 0 0 0 0 0 0 0 0 0 0 0 0 0 0 6 6 0 0 0 0 4 4 0 0 0 0 0 0 0 0 0 0 0 0]\n",
      "Q_values : [ 2.186013   2.551309  -6.851214  -5.3091936]\n",
      "Step #100.00 (0ms ?*RT. ?UPS, TraCI: 32ms, vehicles TOT 33 ACT 20 BUF 0)                   \n",
      "episode : 211\n",
      " Retrying in 1 seconds\n"
     ]
    },
    {
     "name": "stderr",
     "output_type": "stream",
     "text": [
      "Warning: Environment variable SUMO_HOME is not set properly, disabling XML validation. Set 'auto' or 'always' for web lookups.\n"
     ]
    },
    {
     "name": "stdout",
     "output_type": "stream",
     "text": [
      "state : [0 0 0 0 0 0 0 0 0 0 0 0 0 0 0 0 0 0 0 0 0 0 0 0 0 0 0 0 0 0 0 0 0 0 0 0]\n",
      "Q_values : [ 1.9060569  2.3250554 -6.7854385 -5.4857106]\n",
      "state : [0 0 0 0 0 0 0 0 0 0 0 0 0 0 0 0 0 0 0 0 0 0 0 0 0 0 0 0 0 0 0 0 0 0 0 0]\n",
      "Q_values : [ 2.3509545  1.5494976 -6.7262044 -5.210457 ]\n",
      "state : [0 0 0 0 0 0 0 0 0 0 0 0 0 0 0 0 0 0 0 0 0 0 0 0 0 0 0 0 0 0 0 0 0 0 0 0]\n",
      "Q_values : [ 2.1414762  1.3871678 -6.009521  -5.238305 ]\n",
      "state : [0 0 0 0 0 0 0 0 0 0 0 0 0 0 0 0 0 0 0 0 0 0 0 0 0 0 0 0 0 0 0 0 0 0 0 0]\n",
      "Q_values : [ 1.9808462  1.6593947 -5.0767956 -5.20028  ]\n",
      "state : [0 0 0 0 0 0 0 0 0 0 0 0 0 0 0 0 0 0 0 0 0 0 0 0 0 0 0 0 0 0 0 0 0 0 0 0]\n",
      "Q_values : [ 2.1190467  1.6873665 -4.522188  -5.1660414]\n",
      "state : [0 0 0 0 0 0 0 0 0 0 0 0 0 0 1 0 1 0 0 0 0 0 0 0 0 0 0 0 0 0 0 0 0 0 0 0]\n",
      "Q_values : [ 1.5853932  2.315391  -4.39881   -4.932731 ]\n",
      "state : [0 0 0 0 0 0 0 0 0 0 0 0 0 0 0 0 1 1 0 0 0 0 0 0 0 0 0 0 0 0 0 0 0 0 0 0]\n",
      "Q_values : [ 2.2199428  2.389104  -4.1095543 -4.8186007]\n",
      "state : [0 0 0 0 0 0 0 0 0 0 0 0 0 0 0 0 2 2 0 0 0 0 0 0 0 0 0 0 0 0 0 0 0 0 0 0]\n",
      "Q_values : [ 2.115397   2.537138  -3.8490949 -4.2187943]\n",
      "state : [0 0 0 0 0 0 0 0 0 0 0 0 0 0 0 0 4 4 0 0 0 0 0 0 0 0 0 0 0 0 0 0 0 0 0 0]\n",
      "Q_values : [ 1.9058892  2.2238748 -3.6145658 -4.660406 ]\n",
      "state : [0 0 0 0 0 0 0 0 0 0 0 0 0 0 0 0 6 5 0 0 0 0 1 1 0 0 0 0 0 0 0 0 0 0 0 0]\n",
      "Q_values : [ 2.0544105  1.853594  -3.170965  -4.704548 ]\n",
      "state : [0 0 0 0 0 0 0 0 0 0 0 0 0 0 0 0 6 6 0 0 0 0 2 1 0 0 0 0 0 0 0 0 0 0 0 0]\n",
      "Q_values : [ 2.3489523  1.8248487 -2.8816764 -4.744298 ]\n",
      "state : [0 0 0 0 0 0 0 0 0 0 0 0 0 0 0 0 6 6 0 0 0 0 3 3 0 0 0 0 0 0 0 0 0 0 0 0]\n",
      "Q_values : [ 2.748577   2.156036  -2.2751484 -4.78009  ]\n",
      "state : [0 0 0 0 0 0 0 0 0 0 0 0 0 0 0 0 6 6 0 0 0 0 4 4 0 0 0 0 0 0 0 0 0 0 0 0]\n",
      "Q_values : [ 3.0052218  2.2530913 -1.8930147 -4.812316 ]\n",
      "state : [0 0 0 0 0 0 0 0 0 0 0 0 0 0 0 0 6 6 0 0 0 0 4 4 0 0 0 0 0 0 0 0 0 0 0 0]\n",
      "Q_values : [ 2.7607193  2.1246233 -1.2589774 -4.8413363]\n",
      "state : [0 0 0 0 0 0 0 0 0 0 0 0 0 0 0 0 6 6 0 0 0 0 4 4 0 0 0 0 0 0 0 0 0 0 0 0]\n",
      "Q_values : [ 2.273914    2.3899097  -0.82548857 -4.867469  ]\n",
      "state : [0 0 0 0 0 0 0 0 0 0 0 0 0 0 0 0 6 6 0 0 0 0 4 4 0 0 0 0 0 0 0 0 0 0 0 0]\n",
      "Q_values : [ 1.1404991  2.8448803 -0.4351523 -4.3883476]\n",
      "state : [0 0 0 0 0 0 0 0 0 0 0 0 0 0 0 0 6 6 0 0 0 0 4 4 0 0 0 0 0 0 0 0 0 0 0 0]\n",
      "Q_values : [ 2.6585283   2.0752301  -0.43795896 -4.195136  ]\n",
      "state : [0 0 0 0 0 0 0 0 0 0 0 0 0 0 0 0 6 6 0 0 0 0 4 4 0 0 0 0 0 0 0 0 0 0 0 0]\n",
      "Q_values : [ 2.5513916   2.29383    -0.63471484 -3.5628383 ]\n",
      "state : [0 0 0 0 0 0 0 0 0 0 0 0 0 0 0 0 6 6 0 0 0 0 4 4 0 0 0 0 0 0 0 0 0 0 0 0]\n",
      "Q_values : [ 2.3866453   2.805643   -0.47679067 -3.210717  ]\n",
      "state : [0 0 0 0 0 0 0 0 0 0 0 0 0 0 0 0 6 6 0 0 0 0 4 4 0 0 0 0 0 0 0 0 0 0 0 0]\n",
      "Q_values : [ 2.395929    2.830555   -0.94626164 -2.893645  ]\n",
      "Step #100.00 (0ms ?*RT. ?UPS, TraCI: 34ms, vehicles TOT 33 ACT 20 BUF 0)                   \n",
      "episode : 212\n",
      " Retrying in 1 seconds\n"
     ]
    },
    {
     "name": "stderr",
     "output_type": "stream",
     "text": [
      "Warning: Environment variable SUMO_HOME is not set properly, disabling XML validation. Set 'auto' or 'always' for web lookups.\n"
     ]
    },
    {
     "name": "stdout",
     "output_type": "stream",
     "text": [
      "state : [0 0 0 0 0 0 0 0 0 0 0 0 0 0 0 0 0 0 0 0 0 0 0 0 0 0 0 0 0 0 0 0 0 0 0 0]\n",
      "Q_values : [ 2.8034897  3.313455  -0.9136162 -2.6081438]\n",
      "state : [0 0 0 0 0 0 0 0 0 0 0 0 0 0 0 0 0 0 0 0 0 0 0 0 0 0 0 0 0 0 0 0 0 0 0 0]\n",
      "Q_values : [ 3.1041942  2.6016707 -0.9800556 -2.3510613]\n",
      "state : [0 0 0 0 0 0 0 0 0 0 0 0 0 0 0 0 0 0 0 0 0 0 0 0 0 0 0 0 0 0 0 0 0 0 0 0]\n",
      "Q_values : [ 3.3780582  2.0487018 -1.2458909 -2.1195698]\n",
      "state : [0 0 0 0 0 0 0 0 0 0 0 0 0 0 0 0 0 0 0 0 0 0 0 0 0 0 0 0 0 0 0 0 0 0 0 0]\n",
      "Q_values : [ 2.7770529  2.5721712 -1.1359544 -1.9111245]\n",
      "state : [0 0 0 0 0 0 0 0 0 0 0 0 0 0 0 0 0 0 0 0 0 0 0 0 0 0 0 0 0 0 0 0 0 0 0 0]\n",
      "Q_values : [ 2.034985   2.6828446 -1.1562297 -1.1991518]\n",
      "state : [0 0 0 0 0 0 0 0 0 0 0 0 0 0 0 0 1 0 0 0 0 0 0 0 0 0 0 0 0 0 0 0 0 0 0 0]\n",
      "Q_values : [ 1.8860162   2.911518   -1.1744831  -0.80655193]\n",
      "state : [0 0 0 0 0 0 0 0 0 0 0 0 0 0 0 0 2 0 0 0 0 0 0 0 0 0 0 0 0 0 0 0 0 0 0 0]\n",
      "Q_values : [ 1.5497924  2.1003203 -1.0469306 -0.1347127]\n",
      "state : [0 0 0 0 0 0 0 0 0 0 0 0 0 0 0 0 4 1 0 0 0 0 0 0 0 0 0 0 0 0 0 0 0 0 0 0]\n",
      "Q_values : [ 1.5131049   2.2656703  -1.0432138   0.15192223]\n",
      "state : [0 0 0 0 0 0 0 0 0 0 0 0 0 0 0 0 6 2 0 0 0 0 1 1 0 0 0 0 0 0 0 0 0 0 0 0]\n",
      "Q_values : [ 2.3047655   2.259489   -1.0398688   0.41002178]\n",
      "state : [0 0 0 0 0 0 0 0 0 0 0 0 0 0 0 0 6 3 0 0 0 0 2 1 0 0 0 0 0 0 0 0 0 0 0 0]\n",
      "Q_values : [ 2.3192053   1.8392408  -1.5033433   0.64242554]\n",
      "state : [0 0 0 0 0 0 0 0 0 0 0 0 0 0 0 0 6 3 0 0 0 0 3 3 0 0 0 0 0 0 0 0 0 0 0 0]\n",
      "Q_values : [ 3.1068368  2.421942  -1.4704292  0.8516967]\n",
      "state : [0 0 0 0 0 0 0 0 0 0 0 0 0 0 0 0 6 3 0 0 0 0 4 4 0 0 0 0 0 0 0 0 0 0 0 0]\n",
      "Q_values : [ 3.0922663   2.386757   -0.33794355  1.040132  ]\n",
      "state : [0 0 0 0 0 0 0 0 0 0 0 0 0 0 0 0 6 3 0 0 0 0 4 4 0 0 0 0 0 0 0 0 0 0 0 0]\n",
      "Q_values : [2.4995732  2.8031857  0.26971364 0.54222417]\n",
      "state : [0 0 0 0 0 0 0 0 0 0 0 0 0 0 0 0 6 3 0 0 0 0 4 4 0 0 0 0 0 0 0 0 0 0 0 0]\n",
      "Q_values : [2.220852   2.2770767  0.75145507 0.41022038]\n",
      "state : [0 0 0 0 0 0 0 0 0 0 0 0 0 0 0 0 6 3 0 0 0 0 4 4 0 0 0 0 0 0 0 0 0 0 0 0]\n",
      "Q_values : [2.146655   2.6223698  1.2131739  0.29135537]\n",
      "state : [0 0 0 0 0 0 0 0 0 0 0 0 0 0 0 0 6 3 0 0 0 0 4 4 0 0 0 0 0 0 0 0 0 0 0 0]\n",
      "Q_values : [2.6089687  1.8024364  1.6131411  0.52070236]\n",
      "state : [0 0 0 0 0 0 0 0 0 0 0 0 0 0 0 0 6 3 0 0 0 0 4 4 0 0 0 0 0 0 0 0 0 0 0 0]\n",
      "Q_values : [2.679723  1.6910063 1.9732938 0.6334243]\n",
      "state : [0 0 0 0 0 0 0 0 0 0 0 0 0 0 0 0 6 3 0 0 0 0 4 4 0 0 0 0 0 0 0 0 0 0 0 0]\n",
      "Q_values : [ 2.2532203   2.3404806   1.1869286  -0.70667005]\n",
      "state : [0 0 0 0 0 0 0 0 0 0 0 0 0 0 0 0 6 3 0 0 0 0 4 4 0 0 0 0 0 0 0 0 0 0 0 0]\n",
      "Q_values : [ 2.572743    2.2228534   0.14352703 -1.9232616 ]\n",
      "Step #100.00 (0ms ?*RT. ?UPS, TraCI: 37ms, vehicles TOT 33 ACT 17 BUF 0)                   \n",
      "episode : 213\n",
      " Retrying in 1 seconds\n"
     ]
    },
    {
     "name": "stderr",
     "output_type": "stream",
     "text": [
      "Warning: Environment variable SUMO_HOME is not set properly, disabling XML validation. Set 'auto' or 'always' for web lookups.\n"
     ]
    },
    {
     "name": "stdout",
     "output_type": "stream",
     "text": [
      "state : [0 0 0 0 0 0 0 0 0 0 0 0 0 0 0 0 0 0 0 0 0 0 0 0 0 0 0 0 0 0 0 0 0 0 0 0]\n",
      "Q_values : [ 1.6864334  2.3976612 -0.2893083 -2.6971414]\n",
      "state : [0 0 0 0 0 0 0 0 0 0 0 0 0 0 0 0 0 0 0 0 0 0 0 0 0 0 0 0 0 0 0 0 0 0 0 0]\n",
      "Q_values : [ 2.1668103  2.522396  -0.5114162 -2.90088  ]\n",
      "state : [0 0 0 0 0 0 0 0 0 0 0 0 0 0 0 0 0 0 0 0 0 0 0 0 0 0 0 0 0 0 0 0 0 0 0 0]\n",
      "Q_values : [ 2.120151   2.056767  -1.3686242 -3.805926 ]\n",
      "state : [0 0 0 0 0 0 0 0 0 0 0 0 0 0 0 0 0 0 0 0 0 0 0 0 0 0 0 0 0 0 0 0 0 0 0 0]\n",
      "Q_values : [ 2.8113465  2.374876  -1.6678383 -4.6516438]\n",
      "state : [0 0 0 0 0 0 0 0 0 0 0 0 0 0 0 0 0 0 0 0 0 0 0 0 0 0 0 0 0 0 0 0 0 0 0 0]\n",
      "Q_values : [ 1.9457191  2.398704  -2.0364199 -5.618761 ]\n",
      "state : [0 0 0 0 0 0 0 0 0 0 0 0 0 0 0 0 1 0 0 0 0 0 0 0 0 0 0 0 0 0 0 0 0 0 0 0]\n",
      "Q_values : [ 2.8545067  1.5669613 -2.0892758 -6.5995426]\n",
      "state : [0 0 0 0 0 0 0 0 0 0 0 0 0 0 0 0 1 1 0 0 0 0 0 0 0 0 0 0 0 0 0 0 0 0 0 0]\n",
      "Q_values : [ 2.695486   3.044482  -1.9657538 -6.6841216]\n",
      "state : [0 0 0 0 0 0 0 0 0 0 0 0 0 0 0 0 2 2 0 0 0 0 0 0 0 0 0 0 0 0 0 0 0 0 0 0]\n",
      "Q_values : [ 1.9059689  3.0296283 -1.9982777 -5.5401306]\n",
      "state : [0 0 0 0 0 0 0 0 0 0 0 0 0 0 0 0 4 4 0 0 0 0 0 0 0 0 0 0 0 0 0 0 0 0 0 0]\n",
      "Q_values : [ 2.3944888  3.2329967 -2.5874262 -4.89539  ]\n",
      "state : [0 0 0 0 0 0 0 0 0 0 0 0 0 0 0 0 6 5 0 0 0 0 1 1 0 0 0 0 0 0 0 0 0 0 0 0]\n",
      "Q_values : [ 2.6197243  2.1919923 -2.8525925 -4.8933716]\n",
      "state : [0 0 0 0 0 0 0 0 0 0 0 0 0 0 0 0 6 6 0 0 0 0 2 1 0 0 0 0 0 0 0 0 0 0 0 0]\n",
      "Q_values : [ 2.3410888  3.1185281 -2.7317622 -4.8447104]\n",
      "state : [0 0 0 0 0 0 0 0 0 0 0 0 0 0 0 0 6 6 0 0 0 0 3 3 0 0 0 0 0 0 0 0 0 0 0 0]\n",
      "Q_values : [ 2.5502799  2.5850558 -2.4225707 -4.194389 ]\n",
      "state : [0 0 0 0 0 0 0 0 0 0 0 0 0 0 0 0 6 6 0 0 0 0 4 4 0 0 0 0 0 0 0 0 0 0 0 0]\n",
      "Q_values : [ 3.466773   2.690271  -3.4296136 -3.86253  ]\n",
      "state : [0 0 0 0 0 0 0 0 0 0 0 0 0 0 0 0 6 6 0 0 0 0 4 4 0 0 0 0 0 0 0 0 0 0 0 0]\n",
      "Q_values : [ 2.8319306  2.9609404 -3.5373883 -3.5637088]\n",
      "state : [0 0 0 0 0 0 0 0 0 0 0 0 0 0 0 0 6 6 0 0 0 0 4 4 0 0 0 0 0 0 0 0 0 0 0 0]\n",
      "Q_values : [ 2.1291869  2.2057931 -4.106285  -3.7095265]\n",
      "state : [0 0 0 0 0 0 0 0 0 0 0 0 0 0 0 0 6 6 0 0 0 0 4 4 0 0 0 0 0 0 0 0 0 0 0 0]\n",
      "Q_values : [ 1.9246731  2.1716256 -4.870138  -3.644232 ]\n",
      "state : [0 0 0 0 0 0 0 0 0 0 0 0 0 0 0 0 6 6 0 0 0 0 4 4 0 0 0 0 0 0 0 0 0 0 0 0]\n",
      "Q_values : [ 1.339586   1.4578449 -5.3617687 -3.5854337]\n",
      "state : [0 0 0 0 0 0 0 0 0 0 0 0 0 0 0 0 6 6 0 0 0 0 4 4 0 0 0 0 0 0 0 0 0 0 0 0]\n",
      "Q_values : [ 0.978436   1.6755615 -5.8044543 -2.8933191]\n",
      "state : [0 0 0 0 0 0 0 0 0 0 0 0 0 0 0 0 6 6 0 0 0 0 4 4 0 0 0 0 0 0 0 0 0 0 0 0]\n",
      "Q_values : [ 1.2467713  2.0133467 -6.2030706 -2.2603285]\n",
      "state : [0 0 0 0 0 0 0 0 0 0 0 0 0 0 0 0 6 6 0 0 0 0 4 4 0 0 0 0 0 0 0 0 0 0 0 0]\n",
      "Q_values : [ 2.2902558  1.797422  -6.5620093 -1.8385696]\n",
      "Step #100.00 (0ms ?*RT. ?UPS, TraCI: 30ms, vehicles TOT 33 ACT 20 BUF 0)                   \n",
      "episode : 214\n",
      " Retrying in 1 seconds\n"
     ]
    },
    {
     "name": "stderr",
     "output_type": "stream",
     "text": [
      "Warning: Environment variable SUMO_HOME is not set properly, disabling XML validation. Set 'auto' or 'always' for web lookups.\n"
     ]
    },
    {
     "name": "stdout",
     "output_type": "stream",
     "text": [
      "state : [0 0 0 0 0 0 0 0 0 0 0 0 0 0 0 0 0 0 0 0 0 0 0 0 0 0 0 0 0 0 0 0 0 0 0 0]\n",
      "Q_values : [ 2.4274287   1.9976263  -5.5522776  -0.95839095]\n",
      "state : [0 0 0 0 0 0 0 0 0 0 0 0 0 0 0 0 0 0 0 0 0 0 0 0 0 0 0 0 0 0 0 0 0 0 0 0]\n",
      "Q_values : [ 2.0572977  2.6853418 -4.689743  -0.7098627]\n",
      "state : [0 0 0 0 0 0 0 0 0 0 0 0 0 0 0 0 0 0 0 0 0 0 0 0 0 0 0 0 0 0 0 0 0 0 0 0]\n",
      "Q_values : [ 1.7369192  2.5862637 -4.184618  -0.6676898]\n",
      "state : [0 0 0 0 0 0 0 0 0 0 0 0 0 0 0 0 0 0 0 0 0 0 0 0 0 0 0 0 0 0 0 0 0 0 0 0]\n",
      "Q_values : [ 2.2336938  2.379077  -3.7324352 -1.1496387]\n",
      "state : [0 0 0 0 0 0 0 0 0 0 0 0 0 0 0 0 0 0 0 0 0 0 0 0 0 0 0 0 0 0 0 0 0 0 0 0]\n",
      "Q_values : [ 2.2351117  1.6865596 -2.9858778 -1.2638276]\n",
      "state : [0 0 0 0 0 0 0 0 0 0 0 0 0 0 1 0 1 0 0 0 0 0 0 0 0 0 0 0 0 0 0 0 0 0 0 0]         \n",
      "Q_values : [ 2.039465   2.1210425 -2.4745123 -1.3666508]\n"
     ]
    },
    {
     "name": "stderr",
     "output_type": "stream",
     "text": [
      "Warning: Vehicle 'veh_2' performs emergency stop at the end of lane 'end1_junction_2' because of a red traffic light (decel=-20.39, offset=0.10), time=21.24.\n"
     ]
    },
    {
     "name": "stdout",
     "output_type": "stream",
     "text": [
      "state : [0 0 0 0 0 0 0 0 0 0 0 0 0 0 0 0 1 1 0 0 0 0 0 0 0 0 0 0 0 0 0 0 0 0 0 0]\n",
      "Q_values : [ 1.5519696  1.5542032 -1.402041  -1.255213 ]\n",
      "state : [0 0 0 0 0 0 0 0 0 0 0 0 0 0 0 0 2 2 0 0 0 0 0 0 0 0 0 0 0 0 0 0 0 0 0 0]\n",
      "Q_values : [ 1.4004667   1.4775074  -0.53772783 -1.2515583 ]\n",
      "state : [0 0 0 0 0 0 0 0 0 0 0 0 0 0 0 0 4 4 0 0 0 0 0 0 0 0 0 0 0 0 0 0 0 0 0 0]\n",
      "Q_values : [ 1.8471994  1.7409343 -0.4317515 -1.2482693]\n",
      "state : [0 0 0 0 0 0 0 0 0 0 0 0 0 0 0 0 6 5 0 0 0 0 1 1 0 0 0 0 0 0 0 0 0 0 0 0]\n",
      "Q_values : [ 2.5108418   1.7530885   0.43450284 -1.2453051 ]\n",
      "state : [0 0 0 0 0 0 0 0 0 0 0 0 0 0 0 0 6 6 0 0 0 0 2 1 0 0 0 0 0 0 0 0 0 0 0 0]\n",
      "Q_values : [ 2.0471659   2.093062    0.18436646 -1.2426379 ]\n",
      "state : [0 0 0 0 0 0 0 0 0 0 0 0 0 0 0 0 6 6 0 0 0 0 3 3 0 0 0 0 0 0 0 0 0 0 0 0]\n",
      "Q_values : [ 2.468843    2.411903    0.33598804 -1.240236  ]\n",
      "state : [0 0 0 0 0 0 0 0 0 0 0 0 0 0 0 0 6 6 0 0 0 0 4 4 0 0 0 0 0 0 0 0 0 0 0 0]\n",
      "Q_values : [ 2.0513234  3.1795385  0.7238257 -1.2380738]\n",
      "state : [0 0 0 0 0 0 0 0 0 0 0 0 0 0 0 0 6 6 0 0 0 0 4 4 0 0 0 0 0 0 0 0 0 0 0 0]\n",
      "Q_values : [ 4.4885244  3.5230105  0.9539492 -0.9976144]\n",
      "state : [0 0 0 0 0 0 0 0 0 0 0 0 0 0 0 0 6 6 0 0 0 0 4 4 0 0 0 0 0 0 0 0 0 0 0 0]\n",
      "Q_values : [ 4.2632356   2.7602339   0.40559006 -0.89413166]\n",
      "state : [0 0 0 0 0 0 0 0 0 0 0 0 0 0 0 0 6 6 0 0 0 0 4 4 0 0 0 0 0 0 0 0 0 0 0 0]\n",
      "Q_values : [ 2.5017073  3.2085814  0.5693705 -0.37675  ]\n",
      "state : [0 0 0 0 0 0 0 0 0 0 0 0 0 0 0 0 6 6 0 0 0 0 4 4 0 0 0 0 0 0 0 0 0 0 0 0]\n",
      "Q_values : [ 1.8521774   2.4931836   0.57489634 -0.7888899 ]\n",
      "state : [0 0 0 0 0 0 0 0 0 0 0 0 0 0 0 0 6 6 0 0 0 0 4 4 0 0 0 0 0 0 0 0 0 0 0 0]\n",
      "Q_values : [ 2.90133     1.8189504   0.57987094 -0.8392463 ]\n",
      "state : [0 0 0 0 0 0 0 0 0 0 0 0 0 0 0 0 6 6 0 0 0 0 4 4 0 0 0 0 0 0 0 0 0 0 0 0]\n",
      "Q_values : [ 2.8725967  2.2187946  0.5843513 -1.4512517]\n",
      "state : [0 0 0 0 0 0 0 0 0 0 0 0 0 0 0 0 6 6 0 0 0 0 4 4 0 0 0 0 0 0 0 0 0 0 0 0]\n",
      "Q_values : [ 2.358605   2.7343159  0.6624534 -2.9329655]\n",
      "Step #100.00 (0ms ?*RT. ?UPS, TraCI: 29ms, vehicles TOT 33 ACT 20 BUF 0)                   \n",
      "episode : 215\n",
      " Retrying in 1 seconds\n"
     ]
    },
    {
     "name": "stderr",
     "output_type": "stream",
     "text": [
      "Warning: Environment variable SUMO_HOME is not set properly, disabling XML validation. Set 'auto' or 'always' for web lookups.\n"
     ]
    },
    {
     "name": "stdout",
     "output_type": "stream",
     "text": [
      "state : [0 0 0 0 0 0 0 0 0 0 0 0 0 0 0 0 0 0 0 0 0 0 0 0 0 0 0 0 0 0 0 0 0 0 0 0]\n",
      "Q_values : [ 1.6565605  1.5081925  0.6976776 -3.6986115]\n",
      "state : [0 0 0 0 0 0 0 0 0 0 0 0 0 0 0 0 0 0 0 0 0 0 0 0 0 0 0 0 0 0 0 0 0 0 0 0]\n",
      "Q_values : [ 1.9439604   1.8661361   0.72939515 -4.299061  ]\n",
      "state : [0 0 0 0 0 0 0 0 0 0 0 0 0 0 0 0 0 0 0 0 0 0 0 0 0 0 0 0 0 0 0 0 0 0 0 0]\n",
      "Q_values : [ 1.4630785  1.5452178  0.779078  -4.4366474]\n",
      "state : [0 0 0 0 0 0 0 0 0 0 0 0 0 0 0 0 0 0 0 0 0 0 0 0 0 0 0 0 0 0 0 0 0 0 0 0]\n",
      "Q_values : [ 1.5289948  1.4068052  0.9869008 -3.8565197]\n",
      "state : [0 0 0 0 0 0 0 0 0 0 0 0 0 0 0 0 0 0 0 0 0 0 0 0 0 0 0 0 0 0 0 0 0 0 0 0]\n",
      "Q_values : [ 2.2266617   2.49064     0.00883627 -3.7675984 ]\n",
      "state : [0 0 0 0 0 0 0 0 0 0 0 0 0 0 0 0 1 0 0 0 0 0 0 0 0 0 0 0 0 0 0 0 0 0 0 0]\n",
      "Q_values : [ 1.967269    2.412333   -0.25093794 -4.108756  ]\n",
      "state : [0 0 0 0 0 0 0 0 0 0 0 0 0 0 0 0 2 2 0 0 0 0 0 0 0 0 0 0 0 0 0 0 0 0 0 0]\n",
      "Q_values : [ 2.669747   2.5483057 -1.6722763 -2.9070716]\n",
      "state : [0 0 0 0 0 0 0 0 0 0 0 0 0 0 0 0 4 4 0 0 0 0 0 0 0 0 0 0 0 0 0 0 0 0 0 0]\n",
      "Q_values : [ 3.3358862  2.0972226 -2.1401439 -2.552126 ]\n",
      "state : [0 0 0 0 0 0 0 0 0 0 0 0 0 0 0 0 6 5 0 0 0 0 1 1 0 0 0 0 0 0 0 0 0 0 0 0]\n",
      "Q_values : [ 2.4312978  2.3996878 -3.6390727 -2.7499342]\n",
      "state : [0 0 0 0 0 0 0 0 0 0 0 0 0 0 0 0 6 6 0 0 0 0 2 1 0 0 0 0 0 0 0 0 0 0 0 0]\n",
      "Q_values : [ 1.8472903  1.820874  -4.4777737 -3.1930902]\n",
      "state : [0 0 0 0 0 0 0 0 0 0 0 0 0 0 0 0 6 6 0 0 0 0 3 3 0 0 0 0 0 0 0 0 0 0 0 0]\n",
      "Q_values : [ 1.6000278  2.0208926 -5.2851486 -3.350344 ]\n",
      "state : [0 0 0 0 0 0 0 0 0 0 0 0 0 0 0 0 6 6 0 0 0 0 4 4 0 0 0 0 0 0 0 0 0 0 0 0]\n",
      "Q_values : [ 2.4070888  1.5261319 -5.987425  -3.1229317]\n",
      "state : [0 0 0 0 0 0 0 0 0 0 0 0 0 0 0 0 6 6 0 0 0 0 4 4 0 0 0 0 0 0 0 0 0 0 0 0]\n",
      "Q_values : [ 2.452918   1.3958385 -6.5158777 -3.0930252]\n",
      "state : [0 0 0 0 0 0 0 0 0 0 0 0 0 0 0 0 6 6 0 0 0 0 4 4 0 0 0 0 0 0 0 0 0 0 0 0]\n",
      "Q_values : [ 1.9047216  2.8343437 -6.3652506 -3.0660987]\n",
      "state : [0 0 0 0 0 0 0 0 0 0 0 0 0 0 0 0 6 6 0 0 0 0 4 4 0 0 0 0 0 0 0 0 0 0 0 0]\n",
      "Q_values : [ 2.3869567  2.8872757 -5.8707557 -2.8314269]\n",
      "state : [0 0 0 0 0 0 0 0 0 0 0 0 0 0 0 0 6 6 0 0 0 0 4 4 0 0 0 0 0 0 0 0 0 0 0 0]\n",
      "Q_values : [ 2.8811343  1.9871305 -5.8070397 -2.4422195]\n",
      "state : [0 0 0 0 0 0 0 0 0 0 0 0 0 0 0 0 6 6 0 0 0 0 4 4 0 0 0 0 0 0 0 0 0 0 0 0]\n",
      "Q_values : [ 3.7522893  1.7614002 -4.4584007 -2.223333 ]\n",
      "state : [0 0 0 0 0 0 0 0 0 0 0 0 0 0 0 0 6 6 0 0 0 0 4 4 0 0 0 0 0 0 0 0 0 0 0 0]\n",
      "Q_values : [ 3.8519034  3.927109  -3.46491   -2.0262408]\n",
      "state : [0 0 0 0 0 0 0 0 0 0 0 0 0 0 0 0 6 6 0 0 0 0 4 4 0 0 0 0 0 0 0 0 0 0 0 0]\n",
      "Q_values : [ 2.543097   2.6414118 -2.7493753 -1.8487642]\n",
      "Step #100.00 (0ms ?*RT. ?UPS, TraCI: 30ms, vehicles TOT 33 ACT 20 BUF 0)                   \n",
      "episode : 216\n",
      " Retrying in 1 seconds\n"
     ]
    },
    {
     "name": "stderr",
     "output_type": "stream",
     "text": [
      "Warning: Environment variable SUMO_HOME is not set properly, disabling XML validation. Set 'auto' or 'always' for web lookups.\n"
     ]
    },
    {
     "name": "stdout",
     "output_type": "stream",
     "text": [
      "state : [0 0 0 0 0 0 0 0 0 0 0 0 0 0 0 0 0 0 0 0 0 0 0 0 0 0 0 0 0 0 0 0 0 0 0 0]\n",
      "Q_values : [ 1.2604135  1.4006006 -2.1050787 -2.2689786]\n",
      "state : [0 0 0 0 0 0 0 0 0 0 0 0 0 0 0 0 0 0 0 0 0 0 0 0 0 0 0 0 0 0 0 0 0 0 0 0]\n",
      "Q_values : [ 1.1947073  1.6739707 -1.3673353 -2.3725061]\n",
      "state : [0 0 0 0 0 0 0 0 0 0 0 0 0 0 0 0 0 0 0 0 0 0 0 0 0 0 0 0 0 0 0 0 0 0 0 0]\n",
      "Q_values : [ 1.4914644  2.1367292 -0.008672  -2.4657292]\n",
      "state : [0 0 0 0 0 0 0 0 0 0 0 0 0 0 0 0 0 0 0 0 0 0 0 0 0 0 0 0 0 0 0 0 0 0 0 0]\n",
      "Q_values : [ 2.2094727   2.3280492   0.85005665 -2.2491786 ]\n",
      "state : [0 0 0 0 0 0 0 0 0 0 0 0 0 0 0 0 0 0 0 0 0 0 0 0 0 0 0 0 0 0 0 0 0 0 0 0]\n",
      "Q_values : [ 2.0776455  2.5839682  1.6507268 -2.1965961]\n",
      "state : [0 0 0 0 0 0 0 0 0 0 0 0 0 1 0 0 1 0 0 0 0 0 0 0 0 0 0 0 0 0 0 0 0 0 0 0]\n",
      "Q_values : [ 2.2784877  1.7355275  2.3586907 -2.149244 ]\n",
      "state : [0 0 0 0 0 0 0 0 0 0 0 0 0 1 0 0 0 1 0 0 0 0 0 0 0 0 0 0 0 0 0 0 0 0 0 0]\n",
      "Q_values : [ 2.189873   2.0922992  2.8930407 -1.823206 ]\n",
      "state : [0 0 0 0 0 0 0 0 0 0 0 0 0 1 0 0 0 2 0 0 0 0 0 0 0 0 0 0 0 0 0 0 0 0 0 0]\n",
      "Q_values : [ 2.1616788  1.5247464  3.4230719 -1.6639409]\n",
      "state : [0 0 0 0 0 0 0 0 0 0 0 0 0 1 0 0 0 4 0 0 0 0 0 0 0 0 0 0 0 0 0 0 0 0 0 0]\n",
      "Q_values : [ 3.092772   2.2270796  2.403408  -1.5205214]\n",
      "state : [0 0 0 0 0 0 0 0 0 0 0 0 0 0 0 0 1 5 0 0 0 0 1 1 0 0 0 0 0 0 0 0 0 0 0 0]UF 0)    \n",
      "Q_values : [ 3.2399104  2.428021   2.1940346 -2.5718913]\n",
      "state : [0 0 0 0 0 0 0 0 0 0 0 0 0 0 0 0 1 6 0 0 0 0 2 1 0 0 0 0 0 0 0 0 0 0 0 0]\n",
      "Q_values : [ 2.5888834  3.357952   2.0055034 -3.4535892]\n"
     ]
    },
    {
     "name": "stderr",
     "output_type": "stream",
     "text": [
      "Warning: Vehicle 'veh_19' performs emergency stop at the end of lane 'end2_junction_1' because of a red traffic light (decel=-24.74, offset=0.09), time=40.18.\n",
      "Warning: Vehicle 'veh_22' performs emergency stop at the end of lane 'end4_junction_1' because of a red traffic light (decel=-42.49, offset=0.27), time=40.34.\n"
     ]
    },
    {
     "name": "stdout",
     "output_type": "stream",
     "text": [
      "state : [0 0 0 0 0 0 0 0 0 0 0 0 0 0 0 0 1 6 0 0 0 0 3 3 0 0 0 0 0 0 0 0 0 0 0 0]\n",
      "Q_values : [ 2.5864816  3.2697835  1.8357399 -4.42756  ]\n",
      "state : [0 0 0 0 0 0 0 0 0 0 0 0 0 0 0 0 1 6 0 0 0 0 4 4 0 0 0 0 0 0 0 0 0 0 0 0]\n",
      "Q_values : [ 2.4966416  3.2872043  1.577858  -5.273178 ]\n",
      "state : [0 0 0 0 0 0 0 0 0 0 0 0 0 0 0 0 1 6 0 0 0 0 4 4 0 0 0 0 0 0 0 0 0 0 0 0]\n",
      "Q_values : [ 2.6535811  2.6248631  1.576174  -5.9563828]\n",
      "state : [0 0 0 0 0 0 0 0 0 0 0 0 0 0 0 0 1 6 0 0 0 0 4 4 0 0 0 0 0 0 0 0 0 0 0 0]\n",
      "Q_values : [ 2.6416326  2.275986   0.5710051 -6.8032207]\n",
      "state : [0 0 0 0 0 0 0 0 0 0 0 0 0 0 0 0 1 6 0 0 0 0 4 4 0 0 0 0 0 0 0 0 0 0 0 0]\n",
      "Q_values : [ 2.9688504   2.6782012   0.10099983 -7.7759457 ]\n",
      "state : [0 0 0 0 0 0 0 0 0 0 0 0 0 0 0 0 1 6 0 0 0 0 4 4 0 0 0 0 0 0 0 0 0 0 0 0]\n",
      "Q_values : [ 2.7505984  1.8484411 -0.3222139 -8.500145 ]\n",
      "state : [0 0 0 0 0 0 0 0 0 0 0 0 0 0 0 0 1 6 0 0 0 0 4 4 0 0 0 0 0 0 0 0 0 0 0 0]\n",
      "Q_values : [ 2.6118307  2.165566  -1.1939073 -9.152248 ]\n",
      "state : [0 0 0 0 0 0 0 0 0 0 0 0 0 0 0 0 1 6 0 0 0 0 4 4 0 0 0 0 0 0 0 0 0 0 0 0]\n",
      "Q_values : [ 1.9190309  2.676156  -1.5272653 -9.739441 ]\n",
      "state : [0 0 0 0 0 0 0 0 0 0 0 0 0 0 0 0 1 6 0 0 0 0 4 4 0 0 0 0 0 0 0 0 0 0 0 0]\n",
      "Q_values : [  1.7828927   2.6241574  -1.9312043 -10.176062 ]\n",
      "Step #100.00 (0ms ?*RT. ?UPS, TraCI: 30ms, vehicles TOT 33 ACT 15 BUF 0)                   \n",
      "episode : 217\n",
      " Retrying in 1 seconds\n"
     ]
    },
    {
     "name": "stderr",
     "output_type": "stream",
     "text": [
      "Warning: Environment variable SUMO_HOME is not set properly, disabling XML validation. Set 'auto' or 'always' for web lookups.\n"
     ]
    },
    {
     "name": "stdout",
     "output_type": "stream",
     "text": [
      "state : [0 0 0 0 0 0 0 0 0 0 0 0 0 0 0 0 0 0 0 0 0 0 0 0 0 0 0 0 0 0 0 0 0 0 0 0]\n",
      "Q_values : [  3.2247167   1.6601865  -2.2949367 -10.4855995]\n",
      "state : [0 0 0 0 0 0 0 0 0 0 0 0 0 0 0 0 0 0 0 0 0 0 0 0 0 0 0 0 0 0 0 0 0 0 0 0]\n",
      "Q_values : [ 3.2874765  3.1233206 -2.6224542 -9.961112 ]\n",
      "state : [0 0 0 0 0 0 0 0 0 0 0 0 0 0 0 0 0 0 0 0 0 0 0 0 0 0 0 0 0 0 0 0 0 0 0 0]\n",
      "Q_values : [ 2.078301   3.1322918 -2.5429611 -9.760677 ]\n",
      "state : [0 0 0 0 0 0 0 0 0 0 0 0 0 0 0 0 0 0 0 0 0 0 0 0 0 0 0 0 0 0 0 0 0 0 0 0]\n",
      "Q_values : [ 1.8653347  2.539454  -2.6487966 -9.645241 ]\n",
      "state : [0 0 0 0 0 0 0 0 0 0 0 0 0 0 0 0 0 0 0 0 0 0 0 0 0 0 0 0 0 0 0 0 0 0 0 0]\n",
      "Q_values : [ 2.3813782  2.385211  -2.3121438 -9.541295 ]\n",
      "state : [0 0 0 0 0 0 0 0 0 0 0 0 0 1 0 0 1 0 0 0 0 0 0 0 0 0 0 0 0 0 0 0 0 0 0 0]\n",
      "Q_values : [ 2.31453    3.0203185 -2.213704  -8.529413 ]\n",
      "state : [0 0 0 0 0 0 0 0 0 0 0 0 0 1 0 0 1 1 0 0 0 0 0 0 0 0 0 0 0 0 0 0 0 0 0 0]\n",
      "Q_values : [ 2.6572042  2.4886026 -2.1250668 -7.8789387]\n",
      "state : [0 0 0 0 0 0 0 0 0 0 0 0 0 0 0 0 2 2 0 0 0 0 0 0 0 0 0 0 0 0 0 0 0 0 0 0]\n",
      "Q_values : [ 2.3629527  1.5805424 -2.0452516 -7.375956 ]\n",
      "state : [0 0 0 0 0 0 0 0 0 0 0 0 0 0 0 0 4 4 0 0 0 0 0 0 0 0 0 0 0 0 0 0 0 0 0 0]\n",
      "Q_values : [ 2.3583326  2.2282186 -1.9733794 -6.923048 ]\n",
      "state : [0 0 0 0 0 0 0 0 0 0 0 0 0 0 0 0 6 5 0 0 0 0 1 1 0 0 0 0 0 0 0 0 0 0 0 0]\n",
      "Q_values : [ 2.4440665  2.916422  -1.7191741 -5.8213205]\n",
      "state : [0 0 0 0 0 0 0 0 0 0 0 0 0 0 0 0 6 6 0 0 0 0 2 1 0 0 0 0 0 0 0 0 0 0 0 0]\n",
      "Q_values : [ 2.6320179  2.5026865 -1.5800793 -5.391467 ]\n",
      "state : [0 0 0 0 0 0 0 0 0 0 0 0 0 0 0 0 6 6 0 0 0 0 3 3 0 0 0 0 0 0 0 0 0 0 0 0]\n",
      "Q_values : [ 2.193132   2.2475233 -1.4548326 -4.686842 ]\n",
      "state : [0 0 0 0 0 0 0 0 0 0 0 0 0 0 0 0 6 6 0 0 0 0 4 4 0 0 0 0 0 0 0 0 0 0 0 0]\n",
      "Q_values : [ 2.6781447  2.4529626 -1.3420506 -4.150502 ]\n",
      "state : [0 0 0 0 0 0 0 0 0 0 0 0 0 0 0 0 6 6 0 0 0 0 4 4 0 0 0 0 0 0 0 0 0 0 0 0]\n",
      "Q_values : [ 2.3559616  2.2691548 -1.2404995 -4.0547323]\n",
      "state : [0 0 0 0 0 0 0 0 0 0 0 0 0 0 0 0 6 6 0 0 0 0 4 4 0 0 0 0 0 0 0 0 0 0 0 0]\n",
      "Q_values : [ 2.2418656  2.8206544 -0.6341312 -3.7850478]\n",
      "state : [0 0 0 0 0 0 0 0 0 0 0 0 0 0 0 0 6 6 0 0 0 0 4 4 0 0 0 0 0 0 0 0 0 0 0 0]\n",
      "Q_values : [ 2.7933168   2.2124133  -0.23998737 -3.508645  ]\n",
      "state : [0 0 0 0 0 0 0 0 0 0 0 0 0 0 0 0 6 6 0 0 0 0 4 4 0 0 0 0 0 0 0 0 0 0 0 0]\n",
      "Q_values : [ 2.3413057   2.8204365   0.07122755 -2.8542075 ]\n",
      "state : [0 0 0 0 0 0 0 0 0 0 0 0 0 0 0 0 6 6 0 0 0 0 4 4 0 0 0 0 0 0 0 0 0 0 0 0]\n",
      "Q_values : [ 2.405968    3.2954183   0.35146046 -2.4646838 ]\n",
      "state : [0 0 0 0 0 0 0 0 0 0 0 0 0 0 0 0 6 6 0 0 0 0 4 4 0 0 0 0 0 0 0 0 0 0 0 0]\n",
      "Q_values : [ 2.5461607  2.6669173  0.6037998 -1.7603192]\n",
      "state : [0 0 0 0 0 0 0 0 0 0 0 0 0 0 0 0 6 6 0 0 0 0 4 4 0 0 0 0 0 0 0 0 0 0 0 0]\n",
      "Q_values : [ 2.6741333  1.3465341  0.8955498 -1.29369  ]\n",
      "Step #100.00 (0ms ?*RT. ?UPS, TraCI: 31ms, vehicles TOT 33 ACT 20 BUF 0)                   \n",
      "episode : 218\n",
      " Retrying in 1 seconds\n"
     ]
    },
    {
     "name": "stderr",
     "output_type": "stream",
     "text": [
      "Warning: Environment variable SUMO_HOME is not set properly, disabling XML validation. Set 'auto' or 'always' for web lookups.\n"
     ]
    },
    {
     "name": "stdout",
     "output_type": "stream",
     "text": [
      "state : [0 0 0 0 0 0 0 0 0 0 0 0 0 0 0 0 0 0 0 0 0 0 0 0 0 0 0 0 0 0 0 0 0 0 0 0]\n",
      "Q_values : [ 2.1405387  1.4712949  0.2824235 -0.873512 ]\n",
      "state : [0 0 0 0 0 0 0 0 0 0 0 0 0 0 0 0 0 0 0 0 0 0 0 0 0 0 0 0 0 0 0 0 0 0 0 0]\n",
      "Q_values : [ 2.027259   2.4552464  0.2005024 -0.4951601]\n",
      "state : [0 0 0 0 0 0 0 0 0 0 0 0 0 0 0 0 0 0 0 0 0 0 0 0 0 0 0 0 0 0 0 0 0 0 0 0]\n",
      "Q_values : [ 1.7220223   2.0120168   0.09370923 -0.00603366]\n",
      "state : [0 0 0 0 0 0 0 0 0 0 0 0 0 0 0 0 0 0 0 0 0 0 0 0 0 0 0 0 0 0 0 0 0 0 0 0]\n",
      "Q_values : [ 1.828225    1.3529798  -0.0024507   0.36404872]\n",
      "state : [0 0 0 0 0 0 0 0 0 0 0 0 0 0 0 0 0 0 0 0 0 0 0 0 0 0 0 0 0 0 0 0 0 0 0 0]\n",
      "Q_values : [ 2.1000934   1.5131197  -0.08903885  0.6972873 ]\n",
      "state : [0 0 0 0 0 0 0 0 0 0 0 0 0 0 1 0 1 0 0 0 0 0 0 0 0 0 0 0 0 0 0 0 0 0 0 0]\n",
      "Q_values : [ 2.1440692   1.6809605  -0.16700411  0.9973538 ]\n",
      "state : [0 0 0 0 0 0 0 0 0 0 0 0 0 0 1 0 1 1 0 0 0 0 0 0 0 0 0 0 0 0 0 0 0 0 0 0]\n",
      "Q_values : [ 3.0260782   2.2080686  -0.12734532  1.2675498 ]\n",
      "state : [0 0 0 0 0 0 0 0 0 0 0 0 0 0 1 0 2 2 0 0 0 0 0 0 0 0 0 0 0 0 0 0 0 0 0 0]\n",
      "Q_values : [ 1.9354882   2.6980247  -0.14370179  0.6687257 ]\n",
      "state : [0 0 0 0 0 0 0 0 0 0 0 0 0 0 0 0 4 4 0 0 0 0 0 0 0 0 0 0 0 0 0 0 0 0 0 0]\n",
      "Q_values : [ 2.6367898   2.60138    -0.15842724  0.5285132 ]\n",
      "state : [0 0 0 0 0 0 0 0 0 0 0 0 0 0 0 0 6 5 0 0 0 0 1 1 0 0 0 0 0 0 0 0 0 0 0 0]\n",
      "Q_values : [ 2.599505    2.2280047  -0.92801857  0.47049546]\n",
      "state : [0 0 0 0 0 0 0 0 0 0 0 0 0 0 0 0 6 6 0 0 0 0 2 1 0 0 0 0 0 0 0 0 0 0 0 0]\n",
      "Q_values : [ 2.4139786  2.3772554 -1.7545552  0.3859129]\n",
      "state : [0 0 0 0 0 0 0 0 0 0 0 0 0 0 0 0 6 6 0 0 0 0 3 3 0 0 0 0 0 0 0 0 0 0 0 0]\n",
      "Q_values : [ 2.739472    2.1189978  -2.0025818   0.30975294]\n",
      "state : [0 0 0 0 0 0 0 0 0 0 0 0 0 0 0 0 6 6 0 0 0 0 4 4 0 0 0 0 0 0 0 0 0 0 0 0]\n",
      "Q_values : [ 3.0976708  2.2250175 -2.0509472 -1.2100878]\n",
      "state : [0 0 0 0 0 0 0 0 0 0 0 0 0 0 0 0 6 6 0 0 0 0 4 4 0 0 0 0 0 0 0 0 0 0 0 0]\n",
      "Q_values : [ 1.8896602  2.9432778 -2.2364643 -2.51527  ]\n",
      "state : [0 0 0 0 0 0 0 0 0 0 0 0 0 0 0 0 6 6 0 0 0 0 4 4 0 0 0 0 0 0 0 0 0 0 0 0]\n",
      "Q_values : [ 1.2688872  2.598218  -2.4035127 -3.3943944]\n",
      "state : [0 0 0 0 0 0 0 0 0 0 0 0 0 0 0 0 6 6 0 0 0 0 4 4 0 0 0 0 0 0 0 0 0 0 0 0]\n",
      "Q_values : [ 1.600996   2.1782513 -2.5539312 -4.64404  ]\n",
      "state : [0 0 0 0 0 0 0 0 0 0 0 0 0 0 0 0 6 6 0 0 0 0 4 4 0 0 0 0 0 0 0 0 0 0 0 0]\n",
      "Q_values : [ 2.270316   2.2423809 -2.6893756 -5.5521064]\n",
      "state : [0 0 0 0 0 0 0 0 0 0 0 0 0 0 0 0 6 6 0 0 0 0 4 4 0 0 0 0 0 0 0 0 0 0 0 0]\n",
      "Q_values : [ 2.5171065  2.4340296 -2.4707952 -6.3697743]\n",
      "state : [0 0 0 0 0 0 0 0 0 0 0 0 0 0 0 0 6 6 0 0 0 0 4 4 0 0 0 0 0 0 0 0 0 0 0 0]\n",
      "Q_values : [ 2.258123   2.6416879 -1.9251592 -6.6192036]\n",
      "state : [0 0 0 0 0 0 0 0 0 0 0 0 0 0 0 0 6 6 0 0 0 0 4 4 0 0 0 0 0 0 0 0 0 0 0 0]\n",
      "Q_values : [ 3.5447927  2.0092168 -1.675643  -7.074419 ]\n",
      "Step #100.00 (0ms ?*RT. ?UPS, TraCI: 30ms, vehicles TOT 33 ACT 20 BUF 0)                   \n",
      "episode : 219\n",
      " Retrying in 1 seconds\n"
     ]
    },
    {
     "name": "stderr",
     "output_type": "stream",
     "text": [
      "Warning: Environment variable SUMO_HOME is not set properly, disabling XML validation. Set 'auto' or 'always' for web lookups.\n"
     ]
    },
    {
     "name": "stdout",
     "output_type": "stream",
     "text": [
      "state : [0 0 0 0 0 0 0 0 0 0 0 0 0 0 0 0 0 0 0 0 0 0 0 0 0 0 0 0 0 0 0 0 0 0 0 0]\n",
      "Q_values : [ 3.2145615  2.874093  -1.4509614 -7.5841217]\n",
      "state : [0 0 0 0 0 0 0 0 0 0 0 0 0 0 0 0 0 0 0 0 0 0 0 0 0 0 0 0 0 0 0 0 0 0 0 0]\n",
      "Q_values : [ 2.6894236  2.3198528 -1.2486484 -7.99578  ]\n",
      "state : [0 0 0 0 0 0 0 0 0 0 0 0 0 0 0 0 0 0 0 0 0 0 0 0 0 0 0 0 0 0 0 0 0 0 0 0]\n",
      "Q_values : [ 2.2579136  3.4579563 -0.8350985 -8.36646  ]\n",
      "state : [0 0 0 0 0 0 0 0 0 0 0 0 0 0 0 0 0 0 0 0 0 0 0 0 0 0 0 0 0 0 0 0 0 0 0 0]\n",
      "Q_values : [ 2.9867373  2.5179605 -0.5723784 -7.9122467]\n",
      "state : [0 0 0 0 0 0 0 0 0 0 0 0 0 0 0 0 0 0 0 0 0 0 0 0 0 0 0 0 0 0 0 0 0 0 0 0]\n",
      "Q_values : [ 2.575848   1.9947044 -0.8657129 -6.854535 ]\n",
      "state : [0 0 0 0 0 0 0 0 0 0 0 0 0 0 1 0 1 0 0 0 0 0 0 0 0 0 0 0 0 0 0 0 0 0 0 0]\n",
      "Q_values : [ 2.1620708   2.3150105  -0.68638635 -6.5473385 ]\n",
      "state : [0 0 0 0 0 0 0 0 0 0 0 0 0 0 0 0 1 1 0 0 0 0 0 0 0 0 0 0 0 0 0 0 0 0 0 0]\n",
      "Q_values : [ 2.3167613  2.1347892 -0.6160798 -6.3933177]\n",
      "state : [0 0 0 0 0 0 0 0 0 0 0 0 0 0 0 0 2 2 0 0 0 0 0 0 0 0 0 0 0 0 0 0 0 0 0 0]\n",
      "Q_values : [ 2.374764   2.1561627 -0.552773  -5.6616335]\n",
      "state : [0 0 0 0 0 0 0 0 0 0 0 0 0 0 0 0 4 4 0 0 0 0 0 0 0 0 0 0 0 0 0 0 0 0 0 0]\n",
      "Q_values : [ 2.429364    1.8532623  -0.49576688 -4.386739  ]\n",
      "state : [0 0 0 0 0 0 0 0 0 0 0 0 0 0 0 0 6 5 0 0 0 0 1 1 0 0 0 0 0 0 0 0 0 0 0 0]\n",
      "Q_values : [ 2.152542    2.430787   -0.44443417 -3.6429503 ]\n",
      "state : [0 0 0 0 0 0 0 0 0 0 0 0 0 0 0 0 6 6 0 0 0 0 2 1 0 0 0 0 0 0 0 0 0 0 0 0]\n",
      "Q_values : [ 1.810619    2.3908148  -0.39821434 -2.973203  ]\n",
      "state : [0 0 0 0 0 0 0 0 0 0 0 0 0 0 0 0 6 6 0 0 0 0 3 3 0 0 0 0 0 0 0 0 0 0 0 0]\n",
      "Q_values : [ 2.1165433   3.0112767  -0.35659552 -2.7024384 ]\n",
      "state : [0 0 0 0 0 0 0 0 0 0 0 0 0 0 0 0 6 6 0 0 0 0 4 4 0 0 0 0 0 0 0 0 0 0 0 0]\n",
      "Q_values : [ 2.432527    2.882186    0.02701378 -2.3011806 ]\n",
      "state : [0 0 0 0 0 0 0 0 0 0 0 0 0 0 0 0 6 6 0 0 0 0 4 4 0 0 0 0 0 0 0 0 0 0 0 0]\n",
      "Q_values : [ 2.2162247   1.8258471   0.20839334 -1.9398663 ]\n",
      "state : [0 0 0 0 0 0 0 0 0 0 0 0 0 0 0 0 6 6 0 0 0 0 4 4 0 0 0 0 0 0 0 0 0 0 0 0]\n",
      "Q_values : [ 1.8722107  1.7815764  0.3717153 -2.2181163]\n",
      "state : [0 0 0 0 0 0 0 0 0 0 0 0 0 0 0 0 6 6 0 0 0 0 4 4 0 0 0 0 0 0 0 0 0 0 0 0]\n",
      "Q_values : [ 1.9600708   2.2517118   0.51878047 -2.1826828 ]\n",
      "state : [0 0 0 0 0 0 0 0 0 0 0 0 0 0 0 0 6 6 0 0 0 0 4 4 0 0 0 0 0 0 0 0 0 0 0 0]\n",
      "Q_values : [ 2.1502092   1.772052    0.65120554 -2.7319486 ]\n",
      "state : [0 0 0 0 0 0 0 0 0 0 0 0 0 0 0 0 6 6 0 0 0 0 4 4 0 0 0 0 0 0 0 0 0 0 0 0]\n",
      "Q_values : [ 2.2917874   1.5732559   0.77044606 -2.6203158 ]\n",
      "state : [0 0 0 0 0 0 0 0 0 0 0 0 0 0 0 0 6 6 0 0 0 0 4 4 0 0 0 0 0 0 0 0 0 0 0 0]\n",
      "Q_values : [ 1.6936157  1.805079   1.0913274 -3.0445056]\n",
      "state : [0 0 0 0 0 0 0 0 0 0 0 0 0 0 0 0 6 6 0 0 0 0 4 4 0 0 0 0 0 0 0 0 0 0 0 0]\n",
      "Q_values : [ 2.463081   2.4022613  0.975343  -3.2520816]\n",
      "Step #100.00 (0ms ?*RT. ?UPS, TraCI: 31ms, vehicles TOT 33 ACT 20 BUF 0)                   \n",
      "episode : 220\n",
      " Retrying in 1 seconds\n"
     ]
    },
    {
     "name": "stderr",
     "output_type": "stream",
     "text": [
      "Warning: Environment variable SUMO_HOME is not set properly, disabling XML validation. Set 'auto' or 'always' for web lookups.\n"
     ]
    },
    {
     "name": "stdout",
     "output_type": "stream",
     "text": [
      "state : [0 0 0 0 0 0 0 0 0 0 0 0 0 0 0 0 0 0 0 0 0 0 0 0 0 0 0 0 0 0 0 0 0 0 0 0]\n",
      "Q_values : [ 3.2096226  2.297581   1.0148387 -4.87446  ]\n",
      "state : [0 0 0 0 0 0 0 0 0 0 0 0 0 0 0 0 0 0 0 0 0 0 0 0 0 0 0 0 0 0 0 0 0 0 0 0]\n",
      "Q_values : [ 2.9926853  2.7755818  0.9234867 -5.6548004]\n",
      "state : [0 0 0 0 0 0 0 0 0 0 0 0 0 0 0 0 0 0 0 0 0 0 0 0 0 0 0 0 0 0 0 0 0 0 0 0]\n",
      "Q_values : [ 2.8780468  1.8986473  0.9529636 -6.357456 ]\n",
      "state : [0 0 0 0 0 0 0 0 0 0 0 0 0 0 0 0 0 0 0 0 0 0 0 0 0 0 0 0 0 0 0 0 0 0 0 0]\n",
      "Q_values : [ 1.9439225   2.9642377   0.95505977 -7.181613  ]\n",
      "state : [0 0 0 0 0 0 0 0 0 0 0 0 0 0 0 0 0 0 0 0 0 0 0 0 0 0 0 0 0 0 0 0 0 0 0 0]\n",
      "Q_values : [ 2.8128085  2.481882   0.9569454 -7.8329754]\n",
      "state : [0 0 0 0 0 0 0 0 0 0 0 0 0 0 1 0 1 0 0 0 0 0 0 0 0 0 0 0 0 0 0 0 0 0 0 0]         \n",
      "Q_values : [ 1.9277349  2.1145837  0.9586477 -8.48566  ]\n"
     ]
    },
    {
     "name": "stderr",
     "output_type": "stream",
     "text": [
      "Warning: Vehicle 'veh_2' performs emergency stop at the end of lane 'end1_junction_2' because of a red traffic light (decel=-20.39, offset=0.10), time=21.24.\n"
     ]
    },
    {
     "name": "stdout",
     "output_type": "stream",
     "text": [
      "state : [0 0 0 0 0 0 0 0 0 0 0 0 0 0 0 0 1 1 0 0 0 0 0 0 0 0 0 0 0 0 0 0 0 0 0 0]\n",
      "Q_values : [ 1.8696061  2.5516174  1.1495342 -9.0420065]\n",
      "state : [0 0 0 0 0 0 0 0 0 0 0 0 0 0 0 0 2 2 0 0 0 0 0 0 0 0 0 0 0 0 0 0 0 0 0 0]\n",
      "Q_values : [ 1.8490165  3.0892746  1.3333521 -9.542971 ]\n",
      "state : [0 0 0 0 0 0 0 0 0 0 0 0 0 0 0 0 4 4 0 0 0 0 0 0 0 0 0 0 0 0 0 0 0 0 0 0]\n",
      "Q_values : [ 2.2345471  3.3605075  1.4506838 -9.994065 ]\n",
      "state : [0 0 0 0 0 0 0 0 0 0 0 0 0 0 0 0 6 5 0 0 0 0 1 1 0 0 0 0 0 0 0 0 0 0 0 0]\n",
      "Q_values : [  2.9665802   2.8856428   1.5563359 -10.400252 ]\n",
      "state : [0 0 0 0 0 0 0 0 0 0 0 0 0 0 0 0 6 6 0 0 0 0 2 1 0 0 0 0 0 0 0 0 0 0 0 0]\n",
      "Q_values : [  3.1275773   2.2363944   1.6514714 -10.437513 ]\n",
      "state : [0 0 0 0 0 0 0 0 0 0 0 0 0 0 0 0 6 6 0 0 0 0 3 3 0 0 0 0 0 0 0 0 0 0 0 0]\n",
      "Q_values : [  2.1771426   2.7185009   1.7371348 -10.626716 ]\n",
      "state : [0 0 0 0 0 0 0 0 0 0 0 0 0 0 0 0 6 6 0 0 0 0 4 4 0 0 0 0 0 0 0 0 0 0 0 0]\n",
      "Q_values : [  1.667278    2.3168025   0.8760452 -10.797089 ]\n",
      "state : [0 0 0 0 0 0 0 0 0 0 0 0 0 0 0 0 6 6 0 0 0 0 4 4 0 0 0 0 0 0 0 0 0 0 0 0]\n",
      "Q_values : [  2.5518918   1.7401123   0.5452807 -10.950499 ]\n",
      "state : [0 0 0 0 0 0 0 0 0 0 0 0 0 0 0 0 6 6 0 0 0 0 4 4 0 0 0 0 0 0 0 0 0 0 0 0]\n",
      "Q_values : [ 2.1791694   1.9130507   0.24744558 -8.772859  ]\n",
      "state : [0 0 0 0 0 0 0 0 0 0 0 0 0 0 0 0 6 6 0 0 0 0 4 4 0 0 0 0 0 0 0 0 0 0 0 0]\n",
      "Q_values : [ 2.0934038   1.6458768  -0.02074265 -5.537753  ]\n",
      "state : [0 0 0 0 0 0 0 0 0 0 0 0 0 0 0 0 6 6 0 0 0 0 4 4 0 0 0 0 0 0 0 0 0 0 0 0]\n",
      "Q_values : [ 2.3613021   2.694597   -0.26223207 -4.168327  ]\n",
      "state : [0 0 0 0 0 0 0 0 0 0 0 0 0 0 0 0 6 6 0 0 0 0 4 4 0 0 0 0 0 0 0 0 0 0 0 0]\n",
      "Q_values : [ 2.9550042   2.6036239  -0.47968078 -3.1248257 ]\n",
      "state : [0 0 0 0 0 0 0 0 0 0 0 0 0 0 0 0 6 6 0 0 0 0 4 4 0 0 0 0 0 0 0 0 0 0 0 0]\n",
      "Q_values : [ 3.1664972   3.6131134  -0.40736127 -2.001939  ]\n",
      "state : [0 0 0 0 0 0 0 0 0 0 0 0 0 0 0 0 6 6 0 0 0 0 4 4 0 0 0 0 0 0 0 0 0 0 0 0]\n",
      "Q_values : [ 2.9647908  2.694125  -0.2684927 -1.5254564]\n",
      "Step #100.00 (0ms ?*RT. ?UPS, TraCI: 32ms, vehicles TOT 33 ACT 20 BUF 0)                   \n",
      "episode : 221\n",
      " Retrying in 1 seconds\n"
     ]
    },
    {
     "name": "stderr",
     "output_type": "stream",
     "text": [
      "Warning: Environment variable SUMO_HOME is not set properly, disabling XML validation. Set 'auto' or 'always' for web lookups.\n"
     ]
    },
    {
     "name": "stdout",
     "output_type": "stream",
     "text": [
      "state : [0 0 0 0 0 0 0 0 0 0 0 0 0 0 0 0 0 0 0 0 0 0 0 0 0 0 0 0 0 0 0 0 0 0 0 0]\n",
      "Q_values : [ 2.250483    2.2807658  -0.23861504 -0.8432152 ]\n",
      "state : [0 0 0 0 0 0 0 0 0 0 0 0 0 0 0 0 0 0 0 0 0 0 0 0 0 0 0 0 0 0 0 0 0 0 0 0]\n",
      "Q_values : [ 1.2924308   1.9569273  -0.21171093 -1.4398448 ]\n",
      "state : [0 0 0 0 0 0 0 0 0 0 0 0 0 0 0 0 0 0 0 0 0 0 0 0 0 0 0 0 0 0 0 0 0 0 0 0]\n",
      "Q_values : [ 1.6762462   1.9514844  -0.07937217 -1.1951447 ]\n",
      "state : [0 0 0 0 0 0 0 0 0 0 0 0 0 0 0 0 0 0 0 0 0 0 0 0 0 0 0 0 0 0 0 0 0 0 0 0]\n",
      "Q_values : [ 2.2090049   1.8586106  -0.01144624 -3.584148  ]\n",
      "state : [0 0 0 0 0 0 0 0 0 0 0 0 0 0 0 0 0 0 0 0 0 0 0 0 0 0 0 0 0 0 0 0 0 0 0 0]\n",
      "Q_values : [ 1.905642   1.5875427 -1.3804684 -4.546012 ]\n",
      "state : [0 0 0 0 0 0 0 0 0 0 0 0 0 0 1 0 1 0 0 0 0 0 0 0 0 0 0 0 0 0 0 0 0 0 0 0]\n",
      "Q_values : [ 2.4679742  1.7779331 -1.7237461 -5.4121246]\n",
      "state : [0 0 0 0 0 0 0 0 0 0 0 0 0 0 1 0 1 1 0 0 0 0 0 0 0 0 0 0 0 0 0 0 0 0 0 0]\n",
      "Q_values : [ 1.9667038  2.3353338 -2.5906746 -6.1920176]\n",
      "state : [0 0 0 0 0 0 0 0 0 0 0 0 0 0 0 0 2 2 0 0 0 0 0 0 0 0 0 0 0 0 0 0 0 0 0 0]\n",
      "Q_values : [ 2.0704293  2.0307717 -3.1544337 -6.894265 ]\n",
      "state : [0 0 0 0 0 0 0 0 0 0 0 0 0 0 0 0 4 4 0 0 0 0 0 0 0 0 0 0 0 0 0 0 0 0 0 0]\n",
      "Q_values : [ 1.941355   1.8674988 -3.6620712 -7.5326605]\n",
      "state : [0 0 0 0 0 0 0 0 0 0 0 0 0 0 0 0 6 5 0 0 0 0 1 1 0 0 0 0 0 0 0 0 0 0 0 0]\n",
      "Q_values : [ 1.6124954  2.0749674 -4.119173  -8.104635 ]\n",
      "state : [0 0 0 0 0 0 0 0 0 0 0 0 0 0 0 0 6 6 0 0 0 0 2 1 0 0 0 0 0 0 0 0 0 0 0 0]\n",
      "Q_values : [ 2.6209955  1.6202644 -4.9709883 -8.619675 ]\n",
      "state : [0 0 0 0 0 0 0 0 0 0 0 0 0 0 0 0 6 6 0 0 0 0 3 3 0 0 0 0 0 0 0 0 0 0 0 0]\n",
      "Q_values : [ 3.2014298  2.0325198 -5.6856174 -8.230357 ]\n",
      "state : [0 0 0 0 0 0 0 0 0 0 0 0 0 0 0 0 6 6 0 0 0 0 4 4 0 0 0 0 0 0 0 0 0 0 0 0]\n",
      "Q_values : [ 2.9621878  2.3627958 -6.2550297 -8.283888 ]\n",
      "state : [0 0 0 0 0 0 0 0 0 0 0 0 0 0 0 0 6 6 0 0 0 0 4 4 0 0 0 0 0 0 0 0 0 0 0 0]\n",
      "Q_values : [ 3.382347   2.3129418 -6.7677546 -8.33209  ]\n",
      "state : [0 0 0 0 0 0 0 0 0 0 0 0 0 0 0 0 6 6 0 0 0 0 4 4 0 0 0 0 0 0 0 0 0 0 0 0]\n",
      "Q_values : [ 2.8957002  2.9340568 -7.2294383 -8.369489 ]\n",
      "state : [0 0 0 0 0 0 0 0 0 0 0 0 0 0 0 0 6 6 0 0 0 0 4 4 0 0 0 0 0 0 0 0 0 0 0 0]\n",
      "Q_values : [ 1.8199403  2.5314817 -7.6451626 -8.4060135]\n",
      "state : [0 0 0 0 0 0 0 0 0 0 0 0 0 0 0 0 6 6 0 0 0 0 4 4 0 0 0 0 0 0 0 0 0 0 0 0]\n",
      "Q_values : [ 1.9887451  2.430118  -8.019503  -7.6070623]\n",
      "state : [0 0 0 0 0 0 0 0 0 0 0 0 0 0 0 0 6 6 0 0 0 0 4 4 0 0 0 0 0 0 0 0 0 0 0 0]\n",
      "Q_values : [ 3.0270367  1.6980407 -7.605653  -7.2818604]\n",
      "state : [0 0 0 0 0 0 0 0 0 0 0 0 0 0 0 0 6 6 0 0 0 0 4 4 0 0 0 0 0 0 0 0 0 0 0 0]\n",
      "Q_values : [ 2.584715   2.4310822 -7.5887613 -6.9890285]\n",
      "state : [0 0 0 0 0 0 0 0 0 0 0 0 0 0 0 0 6 6 0 0 0 0 4 4 0 0 0 0 0 0 0 0 0 0 0 0]\n",
      "Q_values : [ 2.614612   2.2181807 -7.4931536 -6.997172 ]\n",
      "Step #100.00 (0ms ?*RT. ?UPS, TraCI: 30ms, vehicles TOT 33 ACT 20 BUF 0)                   \n",
      "episode : 222\n",
      " Retrying in 1 seconds\n"
     ]
    },
    {
     "name": "stderr",
     "output_type": "stream",
     "text": [
      "Warning: Environment variable SUMO_HOME is not set properly, disabling XML validation. Set 'auto' or 'always' for web lookups.\n"
     ]
    },
    {
     "name": "stdout",
     "output_type": "stream",
     "text": [
      "state : [0 0 0 0 0 0 0 0 0 0 0 0 0 0 0 0 0 0 0 0 0 0 0 0 0 0 0 0 0 0 0 0 0 0 0 0]\n",
      "Q_values : [ 1.7705313  2.522036  -7.4451666 -6.1606617]\n",
      "state : [0 0 0 0 0 0 0 0 0 0 0 0 0 0 0 0 0 0 0 0 0 0 0 0 0 0 0 0 0 0 0 0 0 0 0 0]\n",
      "Q_values : [ 1.7811041  2.2493443 -6.7252955 -5.746331 ]\n",
      "state : [0 0 0 0 0 0 0 0 0 0 0 0 0 0 0 0 0 0 0 0 0 0 0 0 0 0 0 0 0 0 0 0 0 0 0 0]\n",
      "Q_values : [ 2.8863287  2.0290856 -6.397785  -5.642971 ]\n",
      "state : [0 0 0 0 0 0 0 0 0 0 0 0 0 0 0 0 0 0 0 0 0 0 0 0 0 0 0 0 0 0 0 0 0 0 0 0]\n",
      "Q_values : [ 3.8521993  1.7972007 -5.38701   -5.673361 ]\n",
      "state : [0 0 0 0 0 0 0 0 0 0 0 0 0 0 0 0 0 0 0 0 0 0 0 0 0 0 0 0 0 0 0 0 0 0 0 0]\n",
      "Q_values : [ 3.5742927  2.6041608 -4.816217  -5.5816445]\n",
      "state : [0 0 0 0 0 0 0 0 0 0 0 0 0 0 1 0 1 0 0 0 0 0 0 0 0 0 0 0 0 0 0 0 0 0 0 0]\n",
      "Q_values : [ 3.0530186  3.5942094 -3.3159032 -4.8634152]\n",
      "state : [0 0 0 0 0 0 0 0 0 0 0 0 0 0 0 0 1 1 0 0 0 0 0 0 0 0 0 0 0 0 0 0 0 0 0 0]\n",
      "Q_values : [ 2.7680273  2.9016073 -2.4326975 -4.517949 ]\n",
      "state : [0 0 0 0 0 0 0 0 0 0 0 0 0 0 0 0 2 2 0 0 0 0 0 0 0 0 0 0 0 0 0 0 0 0 0 0]\n",
      "Q_values : [ 2.3180394  2.2848175 -2.196509  -4.206875 ]\n",
      "state : [0 0 0 0 0 0 0 0 0 0 0 0 0 0 0 0 4 4 0 0 0 0 0 0 0 0 0 0 0 0 0 0 0 0 0 0]\n",
      "Q_values : [ 1.9949392  2.3078156 -1.7190156 -3.9267676]\n",
      "state : [0 0 0 0 0 0 0 0 0 0 0 0 0 0 0 0 6 5 0 0 0 0 1 1 0 0 0 0 0 0 0 0 0 0 0 0]\n",
      "Q_values : [ 2.4931908  1.5893414 -1.2890565 -3.6745467]\n",
      "state : [0 0 0 0 0 0 0 0 0 0 0 0 0 0 0 0 6 6 0 0 0 0 2 1 0 0 0 0 0 0 0 0 0 0 0 0]\n",
      "Q_values : [ 2.941742    1.3441983  -0.66994977 -3.4474368 ]\n",
      "state : [0 0 0 0 0 0 0 0 0 0 0 0 0 0 0 0 6 6 0 0 0 0 3 3 0 0 0 0 0 0 0 0 0 0 0 0]\n",
      "Q_values : [ 2.9811492   1.8092974  -0.02648735 -3.682578  ]\n",
      "state : [0 0 0 0 0 0 0 0 0 0 0 0 0 0 0 0 6 6 0 0 0 0 4 4 0 0 0 0 0 0 0 0 0 0 0 0]\n",
      "Q_values : [ 3.118896    2.930951    0.46005464 -3.685984  ]\n",
      "state : [0 0 0 0 0 0 0 0 0 0 0 0 0 0 0 0 6 6 0 0 0 0 4 4 0 0 0 0 0 0 0 0 0 0 0 0]\n",
      "Q_values : [ 2.6446204  2.1283453  0.8981619 -3.2349443]\n",
      "state : [0 0 0 0 0 0 0 0 0 0 0 0 0 0 0 0 6 6 0 0 0 0 4 4 0 0 0 0 0 0 0 0 0 0 0 0]\n",
      "Q_values : [ 1.6301619  1.8688196  1.2926544 -3.044018 ]\n",
      "state : [0 0 0 0 0 0 0 0 0 0 0 0 0 0 0 0 6 6 0 0 0 0 4 4 0 0 0 0 0 0 0 0 0 0 0 0]\n",
      "Q_values : [ 1.2170315  1.8606325  1.6478763 -2.8720949]\n",
      "state : [0 0 0 0 0 0 0 0 0 0 0 0 0 0 0 0 6 6 0 0 0 0 4 4 0 0 0 0 0 0 0 0 0 0 0 0]\n",
      "Q_values : [ 2.1950006  2.3972964  1.967736  -2.717287 ]\n",
      "state : [0 0 0 0 0 0 0 0 0 0 0 0 0 0 0 0 6 6 0 0 0 0 4 4 0 0 0 0 0 0 0 0 0 0 0 0]\n",
      "Q_values : [ 2.496933   2.3021212  2.2557538 -2.5778928]\n",
      "state : [0 0 0 0 0 0 0 0 0 0 0 0 0 0 0 0 6 6 0 0 0 0 4 4 0 0 0 0 0 0 0 0 0 0 0 0]\n",
      "Q_values : [ 2.222947   1.9363284  2.5150988 -2.4523706]\n",
      "state : [0 0 0 0 0 0 0 0 0 0 0 0 0 0 0 0 0 6 0 0 0 0 0 4 0 0 0 0 0 0 0 0 0 0 0 0]\n",
      "Q_values : [ 2.40732    2.9516466  2.7249603 -2.3393507]\n",
      "Step #100.00 (0ms ?*RT. ?UPS, TraCI: 30ms, vehicles TOT 33 ACT 20 BUF 0)                   \n",
      "episode : 223\n",
      " Retrying in 1 seconds\n"
     ]
    },
    {
     "name": "stderr",
     "output_type": "stream",
     "text": [
      "Warning: Environment variable SUMO_HOME is not set properly, disabling XML validation. Set 'auto' or 'always' for web lookups.\n"
     ]
    },
    {
     "name": "stdout",
     "output_type": "stream",
     "text": [
      "state : [0 0 0 0 0 0 0 0 0 0 0 0 0 0 0 0 0 0 0 0 0 0 0 0 0 0 0 0 0 0 0 0 0 0 0 0]\n",
      "Q_values : [ 2.7224827  3.040853   1.8920159 -3.137606 ]\n",
      "state : [0 0 0 0 0 0 0 0 0 0 0 0 0 0 0 0 0 0 0 0 0 0 0 0 0 0 0 0 0 0 0 0 0 0 0 0]\n",
      "Q_values : [ 2.7543514  2.1297593  1.6314852 -3.893529 ]\n",
      "state : [0 0 0 0 0 0 0 0 0 0 0 0 0 0 0 0 0 0 0 0 0 0 0 0 0 0 0 0 0 0 0 0 0 0 0 0]\n",
      "Q_values : [ 2.28748    1.6688364  1.3968885 -4.3544407]\n",
      "state : [0 0 0 0 0 0 0 0 0 0 0 0 0 0 0 0 0 0 0 0 0 0 0 0 0 0 0 0 0 0 0 0 0 0 0 0]\n",
      "Q_values : [ 2.4023907  1.3093468  1.3462784 -4.7694664]\n",
      "state : [0 0 0 0 0 0 0 0 0 0 0 0 0 0 0 0 0 0 0 0 0 0 0 0 0 0 0 0 0 0 0 0 0 0 0 0]\n",
      "Q_values : [ 1.8013898  2.6578455  1.2245824 -5.14318  ]\n",
      "state : [0 0 0 0 0 0 0 0 0 0 0 0 0 0 0 0 1 0 0 0 0 0 0 0 0 0 0 0 0 0 0 0 0 0 0 0]\n",
      "Q_values : [ 2.084816   3.1687186  1.1150062 -5.786456 ]\n",
      "state : [0 0 0 0 0 0 0 0 0 0 0 0 0 0 0 0 1 1 0 0 0 0 0 0 0 0 0 0 0 0 0 0 0 0 0 0]\n",
      "Q_values : [ 2.7602043  2.963948   1.0595577 -6.220293 ]\n",
      "state : [0 0 0 0 0 0 0 0 0 0 0 0 0 0 0 0 2 2 0 0 0 0 0 0 0 0 0 0 0 0 0 0 0 0 0 0]\n",
      "Q_values : [ 2.6870089  2.641236   0.9891448 -5.940586 ]\n",
      "state : [0 0 0 0 0 0 0 0 0 0 0 0 0 0 0 0 4 4 0 0 0 0 0 0 0 0 0 0 0 0 0 0 0 0 0 0]\n",
      "Q_values : [ 3.3335304  2.2413073  1.0505869 -6.006314 ]\n",
      "state : [0 0 0 0 0 0 0 0 0 0 0 0 0 0 0 0 6 5 0 0 0 0 1 1 0 0 0 0 0 0 0 0 0 0 0 0]\n",
      "Q_values : [ 2.0452037  2.190032   1.0467453 -6.0654964]\n",
      "state : [0 0 0 0 0 0 0 0 0 0 0 0 0 0 0 0 6 6 0 0 0 0 2 1 0 0 0 0 0 0 0 0 0 0 0 0]\n",
      "Q_values : [ 1.9400609  2.2633193  1.043287  -6.118788 ]\n",
      "state : [0 0 0 0 0 0 0 0 0 0 0 0 0 0 0 0 6 6 0 0 0 0 3 3 0 0 0 0 0 0 0 0 0 0 0 0]\n",
      "Q_values : [ 1.4711635  1.8401043  1.040175  -6.1667776]\n",
      "state : [0 0 0 0 0 0 0 0 0 0 0 0 0 0 0 0 6 6 0 0 0 0 4 4 0 0 0 0 0 0 0 0 0 0 0 0]\n",
      "Q_values : [ 1.8138958   0.9745045   0.10367298 -6.209985  ]\n",
      "state : [0 0 0 0 0 0 0 0 0 0 0 0 0 0 0 0 6 6 0 0 0 0 4 4 0 0 0 0 0 0 0 0 0 0 0 0]\n",
      "Q_values : [ 1.3821862  1.6434146 -1.1448874 -5.628111 ]\n",
      "state : [0 0 0 0 0 0 0 0 0 0 0 0 0 0 0 0 6 6 0 0 0 0 4 4 0 0 0 0 0 0 0 0 0 0 0 0]\n",
      "Q_values : [ 1.5269768  2.5666597 -1.8671949 -5.398353 ]\n",
      "state : [0 0 0 0 0 0 0 0 0 0 0 0 0 0 0 0 6 6 0 0 0 0 4 4 0 0 0 0 0 0 0 0 0 0 0 0]\n",
      "Q_values : [ 1.4517474  2.0659833 -1.8436065 -5.191471 ]\n",
      "state : [0 0 0 0 0 0 0 0 0 0 0 0 0 0 0 0 6 6 0 0 0 0 4 4 0 0 0 0 0 0 0 0 0 0 0 0]\n",
      "Q_values : [ 2.2310638  1.9483911 -1.9911566 -5.0051804]\n",
      "state : [0 0 0 0 0 0 0 0 0 0 0 0 0 0 0 0 6 6 0 0 0 0 4 4 0 0 0 0 0 0 0 0 0 0 0 0]\n",
      "Q_values : [ 1.8464813  2.6616538 -2.1953192 -4.83744  ]\n",
      "state : [0 0 0 0 0 0 0 0 0 0 0 0 0 0 0 0 6 6 0 0 0 0 4 4 0 0 0 0 0 0 0 0 0 0 0 0]\n",
      "Q_values : [ 2.453069   2.7909899 -2.3791568 -4.686391 ]\n",
      "state : [0 0 0 0 0 0 0 0 0 0 0 0 0 0 0 0 6 6 0 0 0 0 4 4 0 0 0 0 0 0 0 0 0 0 0 0]\n",
      "Q_values : [ 2.7230148  3.4683838 -2.544692  -4.5503864]\n",
      "Step #100.00 (0ms ?*RT. ?UPS, TraCI: 31ms, vehicles TOT 33 ACT 20 BUF 0)                   \n",
      "episode : 224\n",
      " Retrying in 1 seconds\n"
     ]
    },
    {
     "name": "stderr",
     "output_type": "stream",
     "text": [
      "Warning: Environment variable SUMO_HOME is not set properly, disabling XML validation. Set 'auto' or 'always' for web lookups.\n"
     ]
    },
    {
     "name": "stdout",
     "output_type": "stream",
     "text": [
      "state : [0 0 0 0 0 0 0 0 0 0 0 0 0 0 0 0 0 0 0 0 0 0 0 0 0 0 0 0 0 0 0 0 0 0 0 0]\n",
      "Q_values : [ 3.1910553  2.1936848 -2.6937482 -4.7531013]\n",
      "state : [0 0 0 0 0 0 0 0 0 0 0 0 0 0 0 0 0 0 0 0 0 0 0 0 0 0 0 0 0 0 0 0 0 0 0 0]\n",
      "Q_values : [ 2.3873706  2.7648935 -2.4311008 -3.9331777]\n",
      "state : [0 0 0 0 0 0 0 0 0 0 0 0 0 0 0 0 0 0 0 0 0 0 0 0 0 0 0 0 0 0 0 0 0 0 0 0]\n",
      "Q_values : [ 1.8835486  2.7977026 -2.382671  -3.131886 ]\n",
      "state : [0 0 0 0 0 0 0 0 0 0 0 0 0 0 0 0 0 0 0 0 0 0 0 0 0 0 0 0 0 0 0 0 0 0 0 0]\n",
      "Q_values : [ 2.3902903  2.6955671 -2.3390625 -2.6307952]\n",
      "state : [0 0 0 0 0 0 0 0 0 0 0 0 0 0 0 0 0 0 0 0 0 0 0 0 0 0 0 0 0 0 0 0 0 0 0 0]\n",
      "Q_values : [ 2.9583006  2.0217736 -2.2997928 -2.1795862]\n",
      "state : [0 0 0 0 0 0 0 0 0 0 0 0 0 0 1 0 1 0 0 0 0 0 0 0 0 0 0 0 0 0 0 0 0 0 0 0]         \n",
      "Q_values : [ 2.8743072  1.446514  -1.7493787 -1.3075576]\n"
     ]
    },
    {
     "name": "stderr",
     "output_type": "stream",
     "text": [
      "Warning: Vehicle 'veh_2' performs emergency stop at the end of lane 'end1_junction_2' because of a red traffic light (decel=-20.39, offset=0.10), time=21.24.\n"
     ]
    },
    {
     "name": "stdout",
     "output_type": "stream",
     "text": [
      "state : [0 0 0 0 0 0 0 0 0 0 0 0 0 0 1 0 1 1 0 0 0 0 0 0 0 0 0 0 0 0 0 0 0 0 0 0]\n",
      "Q_values : [ 2.5246558  1.8066806 -1.4978628 -1.2261527]\n",
      "state : [0 0 0 0 0 0 0 0 0 0 0 0 0 0 1 0 2 2 0 0 0 0 0 0 0 0 0 0 0 0 0 0 0 0 0 0]\n",
      "Q_values : [ 1.3069774  2.032475  -1.2713859 -0.9240074]\n",
      "state : [0 0 0 0 0 0 0 0 0 0 0 0 0 0 0 0 4 4 0 0 0 0 0 0 0 0 0 0 0 0 0 0 0 0 0 0]\n",
      "Q_values : [ 1.3287313   2.240199   -1.0674496  -0.65194035]\n",
      "state : [0 0 0 0 0 0 0 0 0 0 0 0 0 0 0 0 6 5 0 0 0 0 1 1 0 0 0 0 0 0 0 0 0 0 0 0]\n",
      "Q_values : [ 2.7595112   1.5220459  -0.88381696 -0.4069581 ]\n",
      "state : [0 0 0 0 0 0 0 0 0 0 0 0 0 0 0 0 6 6 0 0 0 0 2 1 0 0 0 0 0 0 0 0 0 0 0 0]\n",
      "Q_values : [ 3.165762    2.3117533  -0.71846604 -0.18636227]\n",
      "state : [0 0 0 0 0 0 0 0 0 0 0 0 0 0 0 0 6 6 0 0 0 0 3 3 0 0 0 0 0 0 0 0 0 0 0 0]\n",
      "Q_values : [ 2.3830743   1.7484229  -0.5695753   0.01227236]\n",
      "state : [0 0 0 0 0 0 0 0 0 0 0 0 0 0 0 0 6 6 0 0 0 0 4 4 0 0 0 0 0 0 0 0 0 0 0 0]\n",
      "Q_values : [ 1.6648936   1.5610417  -0.27173734  0.1911323 ]\n",
      "state : [0 0 0 0 0 0 0 0 0 0 0 0 0 0 0 0 6 6 0 0 0 0 4 4 0 0 0 0 0 0 0 0 0 0 0 0]\n",
      "Q_values : [0.5890963  1.6485549  0.0215652  0.35218525]\n",
      "state : [0 0 0 0 0 0 0 0 0 0 0 0 0 0 0 0 6 6 0 0 0 0 4 4 0 0 0 0 0 0 0 0 0 0 0 0]\n",
      "Q_values : [ 1.418504    2.5798602   0.23698473 -0.87089324]\n",
      "state : [0 0 0 0 0 0 0 0 0 0 0 0 0 0 0 0 6 6 0 0 0 0 4 4 0 0 0 0 0 0 0 0 0 0 0 0]\n",
      "Q_values : [ 2.3036761   2.634153   -0.21087766 -1.324003  ]\n",
      "state : [0 0 0 0 0 0 0 0 0 0 0 0 0 0 0 0 6 6 0 0 0 0 4 4 0 0 0 0 0 0 0 0 0 0 0 0]\n",
      "Q_values : [ 2.7235498   2.4279692  -0.31002283 -1.2364333 ]\n",
      "state : [0 0 0 0 0 0 0 0 0 0 0 0 0 0 0 0 6 6 0 0 0 0 4 4 0 0 0 0 0 0 0 0 0 0 0 0]\n",
      "Q_values : [ 3.2870631   2.5179374  -1.0191784  -0.90055823]\n",
      "state : [0 0 0 0 0 0 0 0 0 0 0 0 0 0 0 0 6 6 0 0 0 0 4 4 0 0 0 0 0 0 0 0 0 0 0 0]\n",
      "Q_values : [ 2.7778745   2.7123637  -1.3639452  -0.83118725]\n",
      "state : [0 0 0 0 0 0 0 0 0 0 0 0 0 0 0 0 6 6 0 0 0 0 4 4 0 0 0 0 0 0 0 0 0 0 0 0]\n",
      "Q_values : [ 2.2895508   2.4487891  -1.6743877  -0.57350755]\n",
      "Step #100.00 (0ms ?*RT. ?UPS, TraCI: 30ms, vehicles TOT 33 ACT 20 BUF 0)                   \n",
      "episode : 225\n",
      " Retrying in 1 seconds\n"
     ]
    },
    {
     "name": "stderr",
     "output_type": "stream",
     "text": [
      "Warning: Environment variable SUMO_HOME is not set properly, disabling XML validation. Set 'auto' or 'always' for web lookups.\n"
     ]
    },
    {
     "name": "stdout",
     "output_type": "stream",
     "text": [
      "state : [0 0 0 0 0 0 0 0 0 0 0 0 0 0 0 0 0 0 0 0 0 0 0 0 0 0 0 0 0 0 0 0 0 0 0 0]\n",
      "Q_values : [ 2.2139673   1.7113562  -1.5902948  -0.27584314]\n",
      "state : [0 0 0 0 0 0 0 0 0 0 0 0 0 0 0 0 0 0 0 0 0 0 0 0 0 0 0 0 0 0 0 0 0 0 0 0]\n",
      "Q_values : [ 2.1351426   1.6957755  -1.6868844  -0.08276391]\n",
      "state : [0 0 0 0 0 0 0 0 0 0 0 0 0 0 0 0 0 0 0 0 0 0 0 0 0 0 0 0 0 0 0 0 0 0 0 0]\n",
      "Q_values : [ 1.3386725   1.258211   -1.773859    0.19238758]\n",
      "state : [0 0 0 0 0 0 0 0 0 0 0 0 0 0 0 0 0 0 0 0 0 0 0 0 0 0 0 0 0 0 0 0 0 0 0 0]\n",
      "Q_values : [ 0.47257712  1.4576397  -1.8521738   0.3921399 ]\n",
      "state : [0 0 0 0 0 0 0 0 0 0 0 0 0 0 0 0 0 0 0 0 0 0 0 0 0 0 0 0 0 0 0 0 0 0 0 0]\n",
      "Q_values : [ 1.037241    0.68541396 -1.6815302   0.5720091 ]\n",
      "Step #21.00 (0ms ?*RT. ?UPS, TraCI: 0ms, vehicles TOT 22 ACT 22 BUF 0)                    \r"
     ]
    },
    {
     "name": "stderr",
     "output_type": "stream",
     "text": [
      "Warning: Vehicle 'veh_2' performs emergency stop at the end of lane 'end1_junction_2' because of a red traffic light (decel=-20.39, offset=0.10), time=21.24.\n"
     ]
    },
    {
     "name": "stdout",
     "output_type": "stream",
     "text": [
      "state : [0 0 0 0 0 0 0 0 0 0 0 0 0 0 1 0 1 0 0 0 0 0 0 0 0 0 0 0 0 0 0 0 0 0 0 0]\n",
      "Q_values : [ 1.3036232  2.0338843 -1.4364984  0.7339685]\n",
      "state : [0 0 0 0 0 0 0 0 0 0 0 0 0 0 0 0 1 1 0 0 0 0 0 0 0 0 0 0 0 0 0 0 0 0 0 0]\n",
      "Q_values : [ 2.415543    1.6697183  -1.3133326   0.87981296]\n",
      "state : [0 0 0 0 0 0 0 0 0 0 0 0 0 0 0 0 2 2 0 0 0 0 0 0 0 0 0 0 0 0 0 0 0 0 0 0]\n",
      "Q_values : [ 2.4194522   2.247486   -1.202425    0.15797615]\n",
      "state : [0 0 0 0 0 0 0 0 0 0 0 0 0 0 0 0 4 4 0 0 0 0 0 0 0 0 0 0 0 0 0 0 0 0 0 0]\n",
      "Q_values : [ 3.1528447   2.69593    -1.1025617  -0.08772779]\n",
      "state : [0 0 0 0 0 0 0 0 0 0 0 0 0 0 0 0 6 5 0 0 0 0 1 1 0 0 0 0 0 0 0 0 0 0 0 0]\n",
      "Q_values : [ 3.3414893   2.642088   -1.0126371  -0.30897212]\n",
      "state : [0 0 0 0 0 0 0 0 0 0 0 0 0 0 0 0 6 6 0 0 0 0 2 1 0 0 0 0 0 0 0 0 0 0 0 0]\n",
      "Q_values : [ 2.6441388  2.954805  -0.5865524 -0.5081935]\n",
      "state : [0 0 0 0 0 0 0 0 0 0 0 0 0 0 0 0 6 6 0 0 0 0 3 3 0 0 0 0 0 0 0 0 0 0 0 0]\n",
      "Q_values : [ 1.7425226  2.6043766  0.1140604 -0.6875801]\n",
      "state : [0 0 0 0 0 0 0 0 0 0 0 0 0 0 0 0 6 6 0 0 0 0 4 4 0 0 0 0 0 0 0 0 0 0 0 0]\n",
      "Q_values : [ 1.7948472   1.2325126   0.5171757  -0.84911156]\n",
      "state : [0 0 0 0 0 0 0 0 0 0 0 0 0 0 0 0 6 6 0 0 0 0 4 4 0 0 0 0 0 0 0 0 0 0 0 0]\n",
      "Q_values : [ 1.1956155   1.4472908   0.91582894 -0.9945626 ]\n",
      "state : [0 0 0 0 0 0 0 0 0 0 0 0 0 0 0 0 6 6 0 0 0 0 4 4 0 0 0 0 0 0 0 0 0 0 0 0]\n",
      "Q_values : [ 1.8931518   1.109122    1.239855   -0.97346234]\n",
      "state : [0 0 0 0 0 0 0 0 0 0 0 0 0 0 0 0 6 6 0 0 0 0 4 4 0 0 0 0 0 0 0 0 0 0 0 0]\n",
      "Q_values : [ 1.6470573  2.3668883  0.9493339 -1.0265315]\n",
      "state : [0 0 0 0 0 0 0 0 0 0 0 0 0 0 0 0 6 6 0 0 0 0 4 4 0 0 0 0 0 0 0 0 0 0 0 0]\n",
      "Q_values : [ 1.5680046   2.7680488   0.96768403 -1.0743163 ]\n",
      "state : [0 0 0 0 0 0 0 0 0 0 0 0 0 0 0 0 6 0 0 0 0 0 4 0 0 0 0 0 0 0 0 0 0 0 0 0]\n",
      "Q_values : [ 2.7894757   1.8713961   0.99908113 -1.8925028 ]\n",
      "state : [0 0 0 0 0 0 0 0 0 0 0 0 0 0 0 0 6 1 0 0 0 0 4 0 0 0 0 0 0 0 0 0 0 0 0 0]\n",
      "Q_values : [ 2.4856238   1.5351466   0.11010504 -2.2000434 ]\n",
      "Step #100.00 (0ms ?*RT. ?UPS, TraCI: 31ms, vehicles TOT 33 ACT 20 BUF 0)                   \n",
      "episode : 226\n",
      " Retrying in 1 seconds\n"
     ]
    },
    {
     "name": "stderr",
     "output_type": "stream",
     "text": [
      "Warning: Environment variable SUMO_HOME is not set properly, disabling XML validation. Set 'auto' or 'always' for web lookups.\n"
     ]
    },
    {
     "name": "stdout",
     "output_type": "stream",
     "text": [
      "state : [0 0 0 0 0 0 0 0 0 0 0 0 0 0 0 0 0 0 0 0 0 0 0 0 0 0 0 0 0 0 0 0 0 0 0 0]\n",
      "Q_values : [ 2.2407238   2.2253637  -0.26272893 -2.4769704 ]\n",
      "state : [0 0 0 0 0 0 0 0 0 0 0 0 0 0 0 0 0 0 0 0 0 0 0 0 0 0 0 0 0 0 0 0 0 0 0 0]\n",
      "Q_values : [ 1.0672866  2.7355509 -0.5984452 -2.72633  ]\n",
      "state : [0 0 0 0 0 0 0 0 0 0 0 0 0 0 0 0 0 0 0 0 0 0 0 0 0 0 0 0 0 0 0 0 0 0 0 0]\n",
      "Q_values : [ 1.8929884   2.7772903  -0.90074253 -2.5872128 ]\n",
      "state : [0 0 0 0 0 0 0 0 0 0 0 0 0 0 0 0 0 0 0 0 0 0 0 0 0 0 0 0 0 0 0 0 0 0 0 0]\n",
      "Q_values : [ 2.5435114  1.8197843 -1.7102537 -3.16935  ]\n",
      "state : [0 0 0 0 0 0 0 0 0 0 0 0 0 0 0 0 0 0 0 0 0 0 0 0 0 0 0 0 0 0 0 0 0 0 0 0]\n",
      "Q_values : [ 2.4361796  1.8986576 -2.8446305 -3.4399412]\n",
      "state : [0 0 0 0 0 0 0 0 0 0 0 0 0 0 1 0 1 0 0 0 0 0 0 0 0 0 0 0 0 0 0 0 0 0 0 0]\n",
      "Q_values : [ 2.3886876  2.083203  -3.3588715 -3.3583577]\n",
      "state : [0 0 0 0 0 0 0 0 0 0 0 0 0 0 1 0 1 1 0 0 0 0 0 0 0 0 0 0 0 0 0 0 0 0 0 0]\n",
      "Q_values : [ 2.275165   1.6348712 -4.2384987 -3.4390156]\n",
      "state : [0 0 0 0 0 0 0 0 0 0 0 0 0 0 1 0 2 2 0 0 0 0 0 0 0 0 0 0 0 0 0 0 0 0 0 0]\n",
      "Q_values : [ 2.536703   2.0576692 -4.8767138 -3.446699 ]\n",
      "state : [0 0 0 0 0 0 0 0 0 0 0 0 0 0 1 0 4 4 0 0 0 0 0 0 0 0 0 0 0 0 0 0 0 0 0 0]\n",
      "Q_values : [ 2.3095188  2.9316592 -5.451395  -3.4843943]\n",
      "state : [0 0 0 0 0 0 0 0 0 0 0 0 0 0 0 0 6 5 0 0 0 0 1 1 0 0 0 0 0 0 0 0 0 0 0 0]\n",
      "Q_values : [ 2.556201   2.667848  -5.9688644 -3.5183368]\n",
      "state : [0 0 0 0 0 0 0 0 0 0 0 0 0 0 0 0 6 6 0 0 0 0 2 1 0 0 0 0 0 0 0 0 0 0 0 0]\n",
      "Q_values : [ 2.5115485  2.4261956 -6.434821  -4.0075645]\n",
      "state : [0 0 0 0 0 0 0 0 0 0 0 0 0 0 0 0 6 6 0 0 0 0 3 3 0 0 0 0 0 0 0 0 0 0 0 0]\n",
      "Q_values : [ 1.6777914  2.1215067 -7.0723953 -3.761581 ]\n",
      "state : [0 0 0 0 0 0 0 0 0 0 0 0 0 0 0 0 6 6 0 0 0 0 4 4 0 0 0 0 0 0 0 0 0 0 0 0]\n",
      "Q_values : [ 2.0238357  2.1760778 -6.5865993 -4.2239294]\n",
      "state : [0 0 0 0 0 0 0 0 0 0 0 0 0 0 0 0 6 6 0 0 0 0 4 4 0 0 0 0 0 0 0 0 0 0 0 0]\n",
      "Q_values : [ 1.9341669  2.0175805 -6.6022444 -4.421517 ]\n",
      "state : [0 0 0 0 0 0 0 0 0 0 0 0 0 0 0 0 6 6 0 0 0 0 4 4 0 0 0 0 0 0 0 0 0 0 0 0]\n",
      "Q_values : [ 2.2203963  1.9165342 -6.61633   -4.599435 ]\n",
      "state : [0 0 0 0 0 0 0 0 0 0 0 0 0 0 0 0 6 6 0 0 0 0 4 4 0 0 0 0 0 0 0 0 0 0 0 0]\n",
      "Q_values : [ 2.230042   1.7786549 -6.629014  -4.75964  ]\n",
      "state : [0 0 0 0 0 0 0 0 0 0 0 0 0 0 0 0 6 6 0 0 0 0 4 4 0 0 0 0 0 0 0 0 0 0 0 0]\n",
      "Q_values : [ 1.1315162  1.5805956 -5.8145237 -4.9038982]\n",
      "state : [0 0 0 0 0 0 0 0 0 0 0 0 0 0 0 0 6 6 0 0 0 0 4 4 0 0 0 0 0 0 0 0 0 0 0 0]\n",
      "Q_values : [ 0.62895405  1.658133   -5.4725275  -5.0337973 ]\n",
      "state : [0 0 0 0 0 0 0 0 0 0 0 0 0 0 0 0 6 6 0 0 0 0 4 4 0 0 0 0 0 0 0 0 0 0 0 0]\n",
      "Q_values : [ 2.553155   1.798426  -5.1645765 -4.626712 ]\n",
      "state : [0 0 0 0 0 0 0 0 0 0 0 0 0 0 0 0 6 6 0 0 0 0 4 4 0 0 0 0 0 0 0 0 0 0 0 0]\n",
      "Q_values : [ 2.755652   2.2677536 -4.278402  -4.5084915]\n",
      "Step #100.00 (0ms ?*RT. ?UPS, TraCI: 30ms, vehicles TOT 33 ACT 20 BUF 0)                   \n",
      "episode : 227\n",
      " Retrying in 1 seconds\n"
     ]
    },
    {
     "name": "stderr",
     "output_type": "stream",
     "text": [
      "Warning: Environment variable SUMO_HOME is not set properly, disabling XML validation. Set 'auto' or 'always' for web lookups.\n"
     ]
    },
    {
     "name": "stdout",
     "output_type": "stream",
     "text": [
      "state : [0 0 0 0 0 0 0 0 0 0 0 0 0 0 0 0 0 0 0 0 0 0 0 0 0 0 0 0 0 0 0 0 0 0 0 0]\n",
      "Q_values : [ 3.1610365  2.2366352 -4.4016314 -4.4020452]\n",
      "state : [0 0 0 0 0 0 0 0 0 0 0 0 0 0 0 0 0 0 0 0 0 0 0 0 0 0 0 0 0 0 0 0 0 0 0 0]\n",
      "Q_values : [ 1.8707335  3.5709658 -4.2129335 -4.3061886]\n",
      "state : [0 0 0 0 0 0 0 0 0 0 0 0 0 0 0 0 0 0 0 0 0 0 0 0 0 0 0 0 0 0 0 0 0 0 0 0]\n",
      "Q_values : [ 2.497118   2.9181252 -4.0430174 -4.219879 ]\n",
      "state : [0 0 0 0 0 0 0 0 0 0 0 0 0 0 0 0 0 0 0 0 0 0 0 0 0 0 0 0 0 0 0 0 0 0 0 0]\n",
      "Q_values : [ 3.3537116  1.8437088 -4.3158712 -4.142161 ]\n",
      "state : [0 0 0 0 0 0 0 0 0 0 0 0 0 0 0 0 0 0 0 0 0 0 0 0 0 0 0 0 0 0 0 0 0 0 0 0]\n",
      "Q_values : [ 2.433224   1.5662436 -4.3597584 -4.0721784]\n",
      "state : [0 0 0 0 0 0 0 0 0 0 0 0 0 0 1 0 1 0 0 0 0 0 0 0 0 0 0 0 0 0 0 0 0 0 0 0]\n",
      "Q_values : [ 2.2784657  3.1584032 -4.3992715 -4.009159 ]\n",
      "state : [0 0 0 0 0 0 0 0 0 0 0 0 0 0 0 0 1 1 0 0 0 0 0 0 0 0 0 0 0 0 0 0 0 0 0 0]\n",
      "Q_values : [ 3.047536   2.9854255 -4.4348574 -3.1823533]\n",
      "state : [0 0 0 0 0 0 0 0 0 0 0 0 0 0 0 0 2 2 0 0 0 0 0 0 0 0 0 0 0 0 0 0 0 0 0 0]\n",
      "Q_values : [ 2.927524   2.4034543 -4.466898  -2.8028252]\n",
      "state : [0 0 0 0 0 0 0 0 0 0 0 0 0 0 0 0 4 4 0 0 0 0 0 0 0 0 0 0 0 0 0 0 0 0 0 0]\n",
      "Q_values : [ 2.1811457  2.2392697 -4.4957514 -2.4610786]\n",
      "state : [0 0 0 0 0 0 0 0 0 0 0 0 0 0 0 0 6 6 0 0 0 0 2 1 0 0 0 0 0 0 0 0 0 0 0 0]\n",
      "Q_values : [ 1.5074508  2.3466973 -4.75208   -2.223628 ]\n",
      "state : [0 0 0 0 0 0 0 0 0 0 0 0 0 0 0 0 6 6 0 0 0 0 3 3 0 0 0 0 0 0 0 0 0 0 0 0]\n",
      "Q_values : [ 2.944697   2.5957365 -4.60863   -2.1223001]\n",
      "state : [0 0 0 0 0 0 0 0 0 0 0 0 0 0 0 0 6 6 0 0 0 0 4 4 0 0 0 0 0 0 0 0 0 0 0 0]\n",
      "Q_values : [ 2.2542963  2.5377135 -4.6559777 -2.031058 ]\n",
      "state : [0 0 0 0 0 0 0 0 0 0 0 0 0 0 0 0 6 6 0 0 0 0 4 4 0 0 0 0 0 0 0 0 0 0 0 0]\n",
      "Q_values : [ 2.5820577  1.5689905 -4.6986094 -1.9489007]\n",
      "state : [0 0 0 0 0 0 0 0 0 0 0 0 0 0 0 0 6 6 0 0 0 0 4 4 0 0 0 0 0 0 0 0 0 0 0 0]\n",
      "Q_values : [ 3.0280504  1.7373621 -4.7369986 -1.8749213]\n",
      "state : [0 0 0 0 0 0 0 0 0 0 0 0 0 0 0 0 6 6 0 0 0 0 4 4 0 0 0 0 0 0 0 0 0 0 0 0]\n",
      "Q_values : [ 2.8159757  1.6477178 -4.771568  -1.5031474]\n",
      "state : [0 0 0 0 0 0 0 0 0 0 0 0 0 0 0 0 6 6 0 0 0 0 4 4 0 0 0 0 0 0 0 0 0 0 0 0]\n",
      "Q_values : [ 2.4912968  2.5822523 -4.8026953 -1.3130076]\n",
      "state : [0 0 0 0 0 0 0 0 0 0 0 0 0 0 0 0 6 6 0 0 0 0 4 4 0 0 0 0 0 0 0 0 0 0 0 0]\n",
      "Q_values : [ 1.5636618  3.6499443 -5.2024035 -1.1418004]\n",
      "state : [0 0 0 0 0 0 0 0 0 0 0 0 0 0 0 0 6 6 0 0 0 0 4 4 0 0 0 0 0 0 0 0 0 0 0 0]\n",
      "Q_values : [ 3.4275727   4.620378   -5.386176   -0.98763156]\n",
      "state : [0 0 0 0 0 0 0 0 0 0 0 0 0 0 0 0 6 6 0 0 0 0 4 4 0 0 0 0 0 0 0 0 0 0 0 0]\n",
      "Q_values : [ 4.3854713   4.328974   -4.942956   -0.84881234]\n",
      "Step #100.00 (0ms ?*RT. ?UPS, TraCI: 31ms, vehicles TOT 33 ACT 20 BUF 0)                   \n",
      "episode : 228\n",
      " Retrying in 1 seconds\n"
     ]
    },
    {
     "name": "stderr",
     "output_type": "stream",
     "text": [
      "Warning: Environment variable SUMO_HOME is not set properly, disabling XML validation. Set 'auto' or 'always' for web lookups.\n"
     ]
    },
    {
     "name": "stdout",
     "output_type": "stream",
     "text": [
      "state : [0 0 0 0 0 0 0 0 0 0 0 0 0 0 0 0 0 0 0 0 0 0 0 0 0 0 0 0 0 0 0 0 0 0 0 0]\n",
      "Q_values : [ 3.0506487   3.3596804  -4.153075   -0.72381425]\n",
      "state : [0 0 0 0 0 0 0 0 0 0 0 0 0 0 0 0 0 0 0 0 0 0 0 0 0 0 0 0 0 0 0 0 0 0 0 0]\n",
      "Q_values : [ 2.985001    3.3878622  -3.113522   -0.61125946]\n",
      "state : [0 0 0 0 0 0 0 0 0 0 0 0 0 0 0 0 0 0 0 0 0 0 0 0 0 0 0 0 0 0 0 0 0 0 0 0]\n",
      "Q_values : [ 2.1713352  3.1061196 -2.4857144 -1.2048795]\n",
      "state : [0 0 0 0 0 0 0 0 0 0 0 0 0 0 0 0 0 0 0 0 0 0 0 0 0 0 0 0 0 0 0 0 0 0 0 0]\n",
      "Q_values : [ 2.1025434  2.6663427 -1.9204049 -1.4100714]\n",
      "state : [0 0 0 0 0 0 0 0 0 0 0 0 0 0 0 0 0 0 0 0 0 0 0 0 0 0 0 0 0 0 0 0 0 0 0 0]\n",
      "Q_values : [ 2.987556    3.2155857  -0.79156303 -1.5948391 ]\n",
      "state : [0 0 0 0 0 0 0 0 0 0 0 0 0 1 0 0 1 0 0 0 0 0 0 0 0 0 0 0 0 0 0 0 0 0 0 0]\n",
      "Q_values : [ 2.6377378   3.3107953  -0.06895733 -1.7612114 ]\n",
      "state : [0 0 0 0 0 0 0 0 0 0 0 0 0 1 0 0 1 1 0 0 0 0 0 0 0 0 0 0 0 0 0 0 0 0 0 0]\n",
      "Q_values : [ 2.9255776   1.896927    0.58171654 -1.9110239 ]\n",
      "state : [0 0 0 0 0 0 0 0 0 0 0 0 0 0 0 0 2 2 0 0 0 0 0 0 0 0 0 0 0 0 0 0 0 0 0 0]\n",
      "Q_values : [ 1.8701541  2.0135794  1.1676157 -2.6454833]\n",
      "state : [0 0 0 0 0 0 0 0 0 0 0 0 0 0 0 0 4 4 0 0 0 0 0 0 0 0 0 0 0 0 0 0 0 0 0 0]\n",
      "Q_values : [ 1.9367886  2.2394671  1.695188  -3.5969694]\n",
      "state : [0 0 0 0 0 0 0 0 0 0 0 0 0 0 0 0 6 5 0 0 0 0 1 1 0 0 0 0 0 0 0 0 0 0 0 0]\n",
      "Q_values : [ 2.47788    1.4832618  2.115267  -4.1814804]\n",
      "state : [0 0 0 0 0 0 0 0 0 0 0 0 0 0 0 0 6 6 0 0 0 0 2 1 0 0 0 0 0 0 0 0 0 0 0 0]\n",
      "Q_values : [ 2.4961953  2.099945   1.480951  -4.21675  ]\n",
      "state : [0 0 0 0 0 0 0 0 0 0 0 0 0 0 0 0 6 6 0 0 0 0 3 3 0 0 0 0 0 0 0 0 0 0 0 0]\n",
      "Q_values : [ 2.4507434  2.4304621  1.4017452 -3.9860604]\n",
      "state : [0 0 0 0 0 0 0 0 0 0 0 0 0 0 0 0 6 6 0 0 0 0 4 4 0 0 0 0 0 0 0 0 0 0 0 0]\n",
      "Q_values : [ 2.5887475  2.9605906  1.3304229 -4.01293  ]\n",
      "state : [0 0 0 0 0 0 0 0 0 0 0 0 0 0 0 0 6 6 0 0 0 0 4 4 0 0 0 0 0 0 0 0 0 0 0 0]\n",
      "Q_values : [ 2.6681738   3.0741706   0.32579064 -4.0371294 ]\n",
      "state : [0 0 0 0 0 0 0 0 0 0 0 0 0 0 0 0 6 6 0 0 0 0 4 4 0 0 0 0 0 0 0 0 0 0 0 0]\n",
      "Q_values : [ 2.4778738   3.8728104  -0.13311529 -4.058916  ]\n",
      "state : [0 0 0 0 0 0 0 0 0 0 0 0 0 0 0 0 6 6 0 0 0 0 4 4 0 0 0 0 0 0 0 0 0 0 0 0]\n",
      "Q_values : [ 3.080072    2.7453005  -0.54633594 -4.0785336 ]\n",
      "state : [0 0 0 0 0 0 0 0 0 0 0 0 0 0 0 0 6 6 0 0 0 0 4 4 0 0 0 0 0 0 0 0 0 0 0 0]\n",
      "Q_values : [ 3.1428165  2.266695  -0.5276747 -4.096199 ]\n",
      "state : [0 0 0 0 0 0 0 0 0 0 0 0 0 0 0 0 6 6 0 0 0 0 4 4 0 0 0 0 0 0 0 0 0 0 0 0]\n",
      "Q_values : [ 2.7551754  1.9746358 -1.4510894 -4.112107 ]\n",
      "state : [0 0 0 0 0 0 0 0 0 0 0 0 0 0 0 0 6 6 0 0 0 0 4 4 0 0 0 0 0 0 0 0 0 0 0 0]\n",
      "Q_values : [ 2.1291442  1.7705909 -2.60978   -4.1264286]\n",
      "state : [0 0 0 0 0 0 0 0 0 0 0 0 0 0 0 0 6 6 0 0 0 0 4 4 0 0 0 0 0 0 0 0 0 0 0 0]\n",
      "Q_values : [ 1.5133512  1.857061  -2.976902  -4.139326 ]\n",
      "Step #100.00 (0ms ?*RT. ?UPS, TraCI: 31ms, vehicles TOT 33 ACT 20 BUF 0)                   \n",
      "episode : 229\n",
      " Retrying in 1 seconds\n"
     ]
    },
    {
     "name": "stderr",
     "output_type": "stream",
     "text": [
      "Warning: Environment variable SUMO_HOME is not set properly, disabling XML validation. Set 'auto' or 'always' for web lookups.\n"
     ]
    },
    {
     "name": "stdout",
     "output_type": "stream",
     "text": [
      "state : [0 0 0 0 0 0 0 0 0 0 0 0 0 0 0 0 0 0 0 0 0 0 0 0 0 0 0 0 0 0 0 0 0 0 0 0]\n",
      "Q_values : [ 1.4737468  1.7944967 -3.4739606 -4.1509438]\n",
      "state : [0 0 0 0 0 0 0 0 0 0 0 0 0 0 0 0 0 0 0 0 0 0 0 0 0 0 0 0 0 0 0 0 0 0 0 0]\n",
      "Q_values : [ 1.9920759  1.7991779 -3.9215362 -4.1614   ]\n",
      "state : [0 0 0 0 0 0 0 0 0 0 0 0 0 0 0 0 0 0 0 0 0 0 0 0 0 0 0 0 0 0 0 0 0 0 0 0]\n",
      "Q_values : [ 2.1918797  1.3512794 -4.810931  -4.1708145]\n",
      "state : [0 0 0 0 0 0 0 0 0 0 0 0 0 0 0 0 0 0 0 0 0 0 0 0 0 0 0 0 0 0 0 0 0 0 0 0]\n",
      "Q_values : [ 2.301977   2.561387  -5.3812227 -3.8816416]\n",
      "state : [0 0 0 0 0 0 0 0 0 0 0 0 0 0 0 0 0 0 0 0 0 0 0 0 0 0 0 0 0 0 0 0 0 0 0 0]\n",
      "Q_values : [ 2.3067288  2.792607  -5.8947477 -3.7623184]\n",
      "state : [0 0 0 0 0 0 0 0 0 0 0 0 0 1 0 0 1 0 0 0 0 0 0 0 0 0 0 0 0 0 0 0 0 0 0 0]\n",
      "Q_values : [ 2.1474743  2.0345893 -6.3571463 -4.537242 ]\n",
      "state : [0 0 0 0 0 0 0 0 0 0 0 0 0 0 0 0 1 1 0 0 0 0 0 0 0 0 0 0 0 0 0 0 0 0 0 0]\n",
      "Q_values : [ 1.6507956  1.9677944 -6.060991  -4.305464 ]\n",
      "state : [0 0 0 0 0 0 0 0 0 0 0 0 0 0 0 0 2 2 0 0 0 0 0 0 0 0 0 0 0 0 0 0 0 0 0 0]\n",
      "Q_values : [ 1.1488159  1.8708954 -6.131872  -3.8569567]\n",
      "state : [0 0 0 0 0 0 0 0 0 0 0 0 0 0 0 0 4 4 0 0 0 0 0 0 0 0 0 0 0 0 0 0 0 0 0 0]\n",
      "Q_values : [ 2.8199096  1.3844504 -5.51797   -4.156418 ]\n",
      "state : [0 0 0 0 0 0 0 0 0 0 0 0 0 0 0 0 6 5 0 0 0 0 1 1 0 0 0 0 0 0 0 0 0 0 0 0]\n",
      "Q_values : [ 2.7178438  1.2235407 -5.5810766 -4.2010603]\n",
      "state : [0 0 0 0 0 0 0 0 0 0 0 0 0 0 0 0 6 6 0 0 0 0 2 1 0 0 0 0 0 0 0 0 0 0 0 0]\n",
      "Q_values : [ 1.8997253  1.9043345 -5.4982376 -4.2412605]\n",
      "state : [0 0 0 0 0 0 0 0 0 0 0 0 0 0 0 0 6 6 0 0 0 0 3 3 0 0 0 0 0 0 0 0 0 0 0 0]\n",
      "Q_values : [ 1.6516192  1.9275866 -4.8045893 -4.2774544]\n",
      "state : [0 0 0 0 0 0 0 0 0 0 0 0 0 0 0 0 6 6 0 0 0 0 4 4 0 0 0 0 0 0 0 0 0 0 0 0]\n",
      "Q_values : [ 1.5765693  2.225833  -4.4733944 -4.31005  ]\n",
      "state : [0 0 0 0 0 0 0 0 0 0 0 0 0 0 0 0 6 6 0 0 0 0 4 4 0 0 0 0 0 0 0 0 0 0 0 0]\n",
      "Q_values : [ 2.024829   2.6250648 -4.17517   -4.7576313]\n",
      "state : [0 0 0 0 0 0 0 0 0 0 0 0 0 0 0 0 6 6 0 0 0 0 4 4 0 0 0 0 0 0 0 0 0 0 0 0]\n",
      "Q_values : [ 2.2065191  2.471994  -3.9066324 -5.3216305]\n",
      "state : [0 0 0 0 0 0 0 0 0 0 0 0 0 0 0 0 6 6 0 0 0 0 4 4 0 0 0 0 0 0 0 0 0 0 0 0]\n",
      "Q_values : [ 2.302895   2.3940916 -3.6648288 -5.0596395]\n",
      "state : [0 0 0 0 0 0 0 0 0 0 0 0 0 0 0 0 6 6 0 0 0 0 4 4 0 0 0 0 0 0 0 0 0 0 0 0]\n",
      "Q_values : [ 2.110795   2.4368496 -3.4470954 -5.1078224]\n",
      "state : [0 0 0 0 0 0 0 0 0 0 0 0 0 0 0 0 6 6 0 0 0 0 4 4 0 0 0 0 0 0 0 0 0 0 0 0]\n",
      "Q_values : [ 2.0587494  2.5059977 -2.8020751 -5.15121  ]\n",
      "state : [0 0 0 0 0 0 0 0 0 0 0 0 0 0 0 0 6 6 0 0 0 0 4 4 0 0 0 0 0 0 0 0 0 0 0 0]\n",
      "Q_values : [ 1.9008965  2.2180598 -2.4340627 -5.190271 ]\n",
      "state : [0 0 0 0 0 0 0 0 0 0 0 0 0 0 0 0 6 6 0 0 0 0 4 4 0 0 0 0 0 0 0 0 0 0 0 0]\n",
      "Q_values : [ 2.3859434  1.6228626 -2.1026852 -5.225449 ]\n",
      "Step #100.00 (0ms ?*RT. ?UPS, TraCI: 32ms, vehicles TOT 33 ACT 20 BUF 0)                   \n",
      "episode : 230\n",
      " Retrying in 1 seconds\n"
     ]
    },
    {
     "name": "stderr",
     "output_type": "stream",
     "text": [
      "Warning: Environment variable SUMO_HOME is not set properly, disabling XML validation. Set 'auto' or 'always' for web lookups.\n"
     ]
    },
    {
     "name": "stdout",
     "output_type": "stream",
     "text": [
      "state : [0 0 0 0 0 0 0 0 0 0 0 0 0 0 0 0 0 0 0 0 0 0 0 0 0 0 0 0 0 0 0 0 0 0 0 0]\n",
      "Q_values : [ 1.8697151  1.0496511 -2.132842  -5.257125 ]\n",
      "state : [0 0 0 0 0 0 0 0 0 0 0 0 0 0 0 0 0 0 0 0 0 0 0 0 0 0 0 0 0 0 0 0 0 0 0 0]\n",
      "Q_values : [ 2.0355692  1.5913637 -2.0043104 -5.2856483]\n",
      "state : [0 0 0 0 0 0 0 0 0 0 0 0 0 0 0 0 0 0 0 0 0 0 0 0 0 0 0 0 0 0 0 0 0 0 0 0]\n",
      "Q_values : [ 2.0920563  2.642713  -1.8885767 -4.7333302]\n",
      "state : [0 0 0 0 0 0 0 0 0 0 0 0 0 0 0 0 0 0 0 0 0 0 0 0 0 0 0 0 0 0 0 0 0 0 0 0]\n",
      "Q_values : [ 2.5753388  2.2300081 -1.7843616 -4.5099154]\n",
      "state : [0 0 0 0 0 0 0 0 0 0 0 0 0 0 0 0 0 0 0 0 0 0 0 0 0 0 0 0 0 0 0 0 0 0 0 0]\n",
      "Q_values : [ 2.2971866  2.2840204 -1.6905236 -4.308744 ]\n",
      "state : [0 0 0 0 0 0 0 0 0 0 0 0 0 0 1 0 1 0 0 0 0 0 0 0 0 0 0 0 0 0 0 0 0 0 0 0]\n",
      "Q_values : [ 2.0112114  2.1222196 -1.5249515 -4.1276016]\n",
      "state : [0 0 0 0 0 0 0 0 0 0 0 0 0 0 0 0 1 1 0 0 0 0 0 0 0 0 0 0 0 0 0 0 0 0 0 0]\n",
      "Q_values : [ 2.0883756  2.751278  -1.4142892 -3.9644856]\n",
      "state : [0 0 0 0 0 0 0 0 0 0 0 0 0 0 0 0 2 2 0 0 0 0 0 0 0 0 0 0 0 0 0 0 0 0 0 0]\n",
      "Q_values : [ 2.7150316  2.152835  -1.3146417 -4.062105 ]\n",
      "state : [0 0 0 0 0 0 0 0 0 0 0 0 0 0 0 0 4 4 0 0 0 0 0 0 0 0 0 0 0 0 0 0 0 0 0 0]\n",
      "Q_values : [ 3.2161503  2.7398791 -1.2249157 -4.455281 ]\n",
      "state : [0 0 0 0 0 0 0 0 0 0 0 0 0 0 0 0 6 5 0 0 0 0 1 1 0 0 0 0 0 0 0 0 0 0 0 0]\n",
      "Q_values : [ 2.4644113  2.6262813 -1.1441197 -4.0521345]\n",
      "state : [0 0 0 0 0 0 0 0 0 0 0 0 0 0 0 0 6 6 0 0 0 0 2 1 0 0 0 0 0 0 0 0 0 0 0 0]\n",
      "Q_values : [ 1.8510072  1.5689554 -1.071368  -3.953351 ]\n",
      "state : [0 0 0 0 0 0 0 0 0 0 0 0 0 0 0 0 6 6 0 0 0 0 3 3 0 0 0 0 0 0 0 0 0 0 0 0]\n",
      "Q_values : [ 2.1053057   0.91626143 -1.0058565  -3.4154692 ]\n",
      "state : [0 0 0 0 0 0 0 0 0 0 0 0 0 0 0 0 6 6 0 0 0 0 4 4 0 0 0 0 0 0 0 0 0 0 0 0]\n",
      "Q_values : [ 1.9097226  1.8482031 -0.9468677 -3.1439002]\n",
      "state : [0 0 0 0 0 0 0 0 0 0 0 0 0 0 0 0 6 6 0 0 0 0 4 4 0 0 0 0 0 0 0 0 0 0 0 0]\n",
      "Q_values : [ 2.4581919  1.4318082 -1.6787128 -2.8993666]\n",
      "state : [0 0 0 0 0 0 0 0 0 0 0 0 0 0 0 0 6 6 0 0 0 0 4 4 0 0 0 0 0 0 0 0 0 0 0 0]\n",
      "Q_values : [ 3.1986468  1.465699  -1.9657137 -3.2201693]\n",
      "state : [0 0 0 0 0 0 0 0 0 0 0 0 0 0 0 0 6 6 0 0 0 0 4 4 0 0 0 0 0 0 0 0 0 0 0 0]\n",
      "Q_values : [ 3.4835477  3.5582042 -2.8480334 -2.8085766]\n",
      "state : [0 0 0 0 0 0 0 0 0 0 0 0 0 0 0 0 6 6 0 0 0 0 4 4 0 0 0 0 0 0 0 0 0 0 0 0]\n",
      "Q_values : [ 3.0597045  2.7493167 -3.3467844 -2.648427 ]\n",
      "state : [0 0 0 0 0 0 0 0 0 0 0 0 0 0 0 0 6 6 0 0 0 0 4 4 0 0 0 0 0 0 0 0 0 0 0 0]\n",
      "Q_values : [ 2.5054073  2.2359498 -3.7958822 -2.5042212]\n",
      "state : [0 0 0 0 0 0 0 0 0 0 0 0 0 0 0 0 6 6 0 0 0 0 4 4 0 0 0 0 0 0 0 0 0 0 0 0]\n",
      "Q_values : [ 1.2734742  1.8445623 -3.7099886 -2.3743691]\n",
      "state : [0 0 0 0 0 0 0 0 0 0 0 0 0 0 0 0 6 6 0 0 0 0 4 4 0 0 0 0 0 0 0 0 0 0 0 0]\n",
      "Q_values : [ 1.7584922  1.6529263 -4.906107  -2.2574444]\n",
      "Step #100.00 (0ms ?*RT. ?UPS, TraCI: 31ms, vehicles TOT 33 ACT 20 BUF 0)                   \n",
      "episode : 231\n",
      " Retrying in 1 seconds\n"
     ]
    },
    {
     "name": "stderr",
     "output_type": "stream",
     "text": [
      "Warning: Environment variable SUMO_HOME is not set properly, disabling XML validation. Set 'auto' or 'always' for web lookups.\n"
     ]
    },
    {
     "name": "stdout",
     "output_type": "stream",
     "text": [
      "state : [0 0 0 0 0 0 0 0 0 0 0 0 0 0 0 0 0 0 0 0 0 0 0 0 0 0 0 0 0 0 0 0 0 0 0 0]\n",
      "Q_values : [ 1.9499865  1.6450508 -5.4896235 -2.1521642]\n",
      "state : [0 0 0 0 0 0 0 0 0 0 0 0 0 0 0 0 0 0 0 0 0 0 0 0 0 0 0 0 0 0 0 0 0 0 0 0]\n",
      "Q_values : [ 1.6424527  2.1356406 -6.015048  -2.057361 ]\n",
      "state : [0 0 0 0 0 0 0 0 0 0 0 0 0 0 0 0 0 0 0 0 0 0 0 0 0 0 0 0 0 0 0 0 0 0 0 0]\n",
      "Q_values : [ 2.3241286  2.3658233 -6.4881673 -1.9719954]\n",
      "state : [0 0 0 0 0 0 0 0 0 0 0 0 0 0 0 0 0 0 0 0 0 0 0 0 0 0 0 0 0 0 0 0 0 0 0 0]\n",
      "Q_values : [ 2.65687    2.2823586 -6.1687984 -1.8951283]\n",
      "state : [0 0 0 0 0 0 0 0 0 0 0 0 0 0 0 0 0 0 0 0 0 0 0 0 0 0 0 0 0 0 0 0 0 0 0 0]\n",
      "Q_values : [ 2.0330498  1.9312935 -6.2343388 -1.825911 ]\n",
      "state : [0 0 0 0 0 0 0 0 0 0 0 0 0 0 1 0 1 0 0 0 0 0 0 0 0 0 0 0 0 0 0 0 0 0 0 0]\n",
      "Q_values : [ 1.6515164  2.073392  -6.293351  -1.5003817]\n",
      "state : [0 0 0 0 0 0 0 0 0 0 0 0 0 0 0 0 1 1 0 0 0 0 0 0 0 0 0 0 0 0 0 0 0 0 0 0]\n",
      "Q_values : [ 2.7565348  1.6577083 -6.346492  -1.3319917]\n",
      "state : [0 0 0 0 0 0 0 0 0 0 0 0 0 0 0 0 2 2 0 0 0 0 0 0 0 0 0 0 0 0 0 0 0 0 0 0]\n",
      "Q_values : [ 2.644907   3.2476254 -6.3943424 -1.180373 ]\n",
      "state : [0 0 0 0 0 0 0 0 0 0 0 0 0 0 0 0 4 4 0 0 0 0 0 0 0 0 0 0 0 0 0 0 0 0 0 0]\n",
      "Q_values : [ 2.3772833  2.971455  -5.265628  -1.0438435]\n",
      "state : [0 0 0 0 0 0 0 0 0 0 0 0 0 0 0 0 6 5 0 0 0 0 1 1 0 0 0 0 0 0 0 0 0 0 0 0]\n",
      "Q_values : [ 2.3182397  2.1863432 -4.8045845 -0.9209099]\n",
      "state : [0 0 0 0 0 0 0 0 0 0 0 0 0 0 0 0 6 6 0 0 0 0 2 1 0 0 0 0 0 0 0 0 0 0 0 0]\n",
      "Q_values : [ 1.8816217  2.1150622 -4.389434  -0.8102112]\n",
      "state : [0 0 0 0 0 0 0 0 0 0 0 0 0 0 0 0 6 6 0 0 0 0 3 3 0 0 0 0 0 0 0 0 0 0 0 0]\n",
      "Q_values : [ 2.1643252  1.3227104 -4.0156174 -0.7105322]\n",
      "state : [0 0 0 0 0 0 0 0 0 0 0 0 0 0 0 0 6 6 0 0 0 0 4 4 0 0 0 0 0 0 0 0 0 0 0 0]\n",
      "Q_values : [ 2.76962    2.3511167 -3.679009  -0.6207788]\n",
      "state : [0 0 0 0 0 0 0 0 0 0 0 0 0 0 0 0 6 6 0 0 0 0 4 4 0 0 0 0 0 0 0 0 0 0 0 0]\n",
      "Q_values : [ 2.2324893  3.0007796 -3.3759122 -0.5399585]\n",
      "state : [0 0 0 0 0 0 0 0 0 0 0 0 0 0 0 0 6 6 0 0 0 0 4 4 0 0 0 0 0 0 0 0 0 0 0 0]\n",
      "Q_values : [ 2.2159312   2.9493942  -2.6277885  -0.46718383]\n",
      "state : [0 0 0 0 0 0 0 0 0 0 0 0 0 0 0 0 6 6 0 0 0 0 4 4 0 0 0 0 0 0 0 0 0 0 0 0]\n",
      "Q_values : [ 2.318264    1.7394699  -2.1793866  -0.40165377]\n",
      "state : [0 0 0 0 0 0 0 0 0 0 0 0 0 0 0 0 6 6 0 0 0 0 4 4 0 0 0 0 0 0 0 0 0 0 0 0]\n",
      "Q_values : [ 2.4780927   2.7438393  -2.4254105  -0.34264684]\n",
      "state : [0 0 0 0 0 0 0 0 0 0 0 0 0 0 0 0 6 6 0 0 0 0 4 4 0 0 0 0 0 0 0 0 0 0 0 0]\n",
      "Q_values : [ 2.619186    2.4146726  -2.339098   -0.28951764]\n",
      "state : [0 0 0 0 0 0 0 0 0 0 0 0 0 0 0 0 6 6 0 0 0 0 4 4 0 0 0 0 0 0 0 0 0 0 0 0]\n",
      "Q_values : [ 2.2988586   2.0492783  -1.8762896  -0.24167514]\n",
      "state : [0 0 0 0 0 0 0 0 0 0 0 0 0 0 0 0 6 6 0 0 0 0 4 4 0 0 0 0 0 0 0 0 0 0 0 0]\n",
      "Q_values : [ 2.7477233   2.0538154  -1.6420636  -0.19859266]\n",
      "Step #100.00 (0ms ?*RT. ?UPS, TraCI: 31ms, vehicles TOT 33 ACT 20 BUF 0)                   \n",
      "episode : 232\n",
      " Retrying in 1 seconds\n"
     ]
    },
    {
     "name": "stderr",
     "output_type": "stream",
     "text": [
      "Warning: Environment variable SUMO_HOME is not set properly, disabling XML validation. Set 'auto' or 'always' for web lookups.\n"
     ]
    },
    {
     "name": "stdout",
     "output_type": "stream",
     "text": [
      "state : [0 0 0 0 0 0 0 0 0 0 0 0 0 0 0 0 0 0 0 0 0 0 0 0 0 0 0 0 0 0 0 0 0 0 0 0]\n",
      "Q_values : [ 2.8787923   1.9562377  -1.431154   -0.15980482]\n",
      "state : [0 0 0 0 0 0 0 0 0 0 0 0 0 0 0 0 0 0 0 0 0 0 0 0 0 0 0 0 0 0 0 0 0 0 0 0]\n",
      "Q_values : [ 2.4116645  1.9688823 -1.2412384 -0.9084656]\n",
      "state : [0 0 0 0 0 0 0 0 0 0 0 0 0 0 0 0 0 0 0 0 0 0 0 0 0 0 0 0 0 0 0 0 0 0 0 0]\n",
      "Q_values : [ 2.7982469  2.7684226 -1.0702317 -1.2112513]\n",
      "state : [0 0 0 0 0 0 0 0 0 0 0 0 0 0 0 0 0 0 0 0 0 0 0 0 0 0 0 0 0 0 0 0 0 0 0 0]\n",
      "Q_values : [ 2.395907   2.4521391 -0.9162469 -1.4838929]\n",
      "state : [0 0 0 0 0 0 0 0 0 0 0 0 0 0 0 0 0 0 0 0 0 0 0 0 0 0 0 0 0 0 0 0 0 0 0 0]\n",
      "Q_values : [ 2.1204252  1.2699231 -0.7775917 -1.4762497]\n",
      "state : [0 0 0 0 0 0 0 0 0 0 0 0 0 0 1 0 1 0 0 0 0 0 0 0 0 0 0 0 0 0 0 0 0 0 0 0]         \n",
      "Q_values : [ 1.572248   1.2222297 -1.4515395 -1.589329 ]\n"
     ]
    },
    {
     "name": "stderr",
     "output_type": "stream",
     "text": [
      "Warning: Vehicle 'veh_2' performs emergency stop at the end of lane 'end1_junction_2' because of a red traffic light (decel=-20.39, offset=0.10), time=21.24.\n"
     ]
    },
    {
     "name": "stdout",
     "output_type": "stream",
     "text": [
      "state : [0 0 0 0 0 0 0 0 0 0 0 0 0 0 1 0 1 1 0 0 0 0 0 0 0 0 0 0 0 0 0 0 0 0 0 0]\n",
      "Q_values : [ 1.1221457  1.8217356 -1.6798799 -1.6911502]\n",
      "state : [0 0 0 0 0 0 0 0 0 0 0 0 0 0 0 0 2 2 0 0 0 0 0 0 0 0 0 0 0 0 0 0 0 0 0 0]\n",
      "Q_values : [ 1.6862977  2.8117702 -1.8276207 -1.7828343]\n",
      "state : [0 0 0 0 0 0 0 0 0 0 0 0 0 0 0 0 4 4 0 0 0 0 0 0 0 0 0 0 0 0 0 0 0 0 0 0]\n",
      "Q_values : [ 1.9922582  3.1279488 -1.9880757 -1.8653924]\n",
      "state : [0 0 0 0 0 0 0 0 0 0 0 0 0 0 0 0 6 5 0 0 0 0 1 1 0 0 0 0 0 0 0 0 0 0 0 0]\n",
      "Q_values : [ 2.7098842  2.4182417 -2.4164565 -1.9397337]\n",
      "state : [0 0 0 0 0 0 0 0 0 0 0 0 0 0 0 0 6 6 0 0 0 0 2 1 0 0 0 0 0 0 0 0 0 0 0 0]\n",
      "Q_values : [ 2.944821   2.2277467 -3.2781856 -2.634515 ]\n",
      "state : [0 0 0 0 0 0 0 0 0 0 0 0 0 0 0 0 6 6 0 0 0 0 3 3 0 0 0 0 0 0 0 0 0 0 0 0]\n",
      "Q_values : [ 2.5939698  2.9626744 -3.7647245 -2.962571 ]\n",
      "state : [0 0 0 0 0 0 0 0 0 0 0 0 0 0 0 0 6 6 0 0 0 0 4 4 0 0 0 0 0 0 0 0 0 0 0 0]\n",
      "Q_values : [ 3.4236991  3.0094604 -4.6691246 -3.7784693]\n",
      "state : [0 0 0 0 0 0 0 0 0 0 0 0 0 0 0 0 6 6 0 0 0 0 4 4 0 0 0 0 0 0 0 0 0 0 0 0]\n",
      "Q_values : [ 2.8434665  2.6615553 -5.617546  -4.266422 ]\n",
      "state : [0 0 0 0 0 0 0 0 0 0 0 0 0 0 0 0 6 6 0 0 0 0 4 4 0 0 0 0 0 0 0 0 0 0 0 0]\n",
      "Q_values : [ 2.7786822  2.2211945 -6.30322   -4.705797 ]\n",
      "state : [0 0 0 0 0 0 0 0 0 0 0 0 0 0 0 0 6 6 0 0 0 0 4 4 0 0 0 0 0 0 0 0 0 0 0 0]\n",
      "Q_values : [ 1.708569   2.4740744 -6.9206324 -5.467741 ]\n",
      "state : [0 0 0 0 0 0 0 0 0 0 0 0 0 0 0 0 6 6 0 0 0 0 4 4 0 0 0 0 0 0 0 0 0 0 0 0]\n",
      "Q_values : [ 1.2931298  2.2293224 -7.476583  -6.2894254]\n",
      "state : [0 0 0 0 0 0 0 0 0 0 0 0 0 0 0 0 6 6 0 0 0 0 4 4 0 0 0 0 0 0 0 0 0 0 0 0]\n",
      "Q_values : [ 2.220121   1.6145854 -7.2709727 -6.8827353]\n",
      "state : [0 0 0 0 0 0 0 0 0 0 0 0 0 0 0 0 6 6 0 0 0 0 4 4 0 0 0 0 0 0 0 0 0 0 0 0]\n",
      "Q_values : [ 2.1695464  1.07816   -7.420372  -7.41698  ]\n",
      "state : [0 0 0 0 0 0 0 0 0 0 0 0 0 0 0 0 6 6 0 0 0 0 4 4 0 0 0 0 0 0 0 0 0 0 0 0]\n",
      "Q_values : [ 2.1560705  1.8156863 -6.718796  -8.179639 ]\n",
      "Step #100.00 (0ms ?*RT. ?UPS, TraCI: 31ms, vehicles TOT 33 ACT 20 BUF 0)                   \n",
      "episode : 233\n",
      " Retrying in 1 seconds\n"
     ]
    },
    {
     "name": "stderr",
     "output_type": "stream",
     "text": [
      "Warning: Environment variable SUMO_HOME is not set properly, disabling XML validation. Set 'auto' or 'always' for web lookups.\n"
     ]
    },
    {
     "name": "stdout",
     "output_type": "stream",
     "text": [
      "state : [0 0 0 0 0 0 0 0 0 0 0 0 0 0 0 0 0 0 0 0 0 0 0 0 0 0 0 0 0 0 0 0 0 0 0 0]\n",
      "Q_values : [ 2.8380651  2.610897  -6.483253  -6.996291 ]\n",
      "state : [0 0 0 0 0 0 0 0 0 0 0 0 0 0 0 0 0 0 0 0 0 0 0 0 0 0 0 0 0 0 0 0 0 0 0 0]\n",
      "Q_values : [ 2.7640486  2.447738  -5.4944143 -6.752754 ]\n",
      "state : [0 0 0 0 0 0 0 0 0 0 0 0 0 0 0 0 0 0 0 0 0 0 0 0 0 0 0 0 0 0 0 0 0 0 0 0]\n",
      "Q_values : [ 2.9708314  2.3491607 -4.5049725 -6.5334587]\n",
      "state : [0 0 0 0 0 0 0 0 0 0 0 0 0 0 0 0 0 0 0 0 0 0 0 0 0 0 0 0 0 0 0 0 0 0 0 0]\n",
      "Q_values : [ 3.506186   2.6867554 -3.8355303 -6.3359976]\n",
      "state : [0 0 0 0 0 0 0 0 0 0 0 0 0 0 0 0 0 0 0 0 0 0 0 0 0 0 0 0 0 0 0 0 0 0 0 0]\n",
      "Q_values : [ 2.5223906  2.7492554 -2.5848503 -6.1581903]\n",
      "state : [0 0 0 0 0 0 0 0 0 0 0 0 0 0 0 0 1 0 0 0 0 0 0 0 0 0 0 0 0 0 0 0 0 0 0 0]\n",
      "Q_values : [ 2.8504128  2.7374005 -1.7658703 -5.998083 ]\n",
      "state : [0 0 0 0 0 0 0 0 0 0 0 0 0 0 0 0 1 1 0 0 0 0 0 0 0 0 0 0 0 0 0 0 0 0 0 0]\n",
      "Q_values : [ 1.9327917  3.0796385 -1.0284233 -5.8539147]\n",
      "state : [0 0 0 0 0 0 0 0 0 0 0 0 0 0 0 0 2 2 0 0 0 0 0 0 0 0 0 0 0 0 0 0 0 0 0 0]\n",
      "Q_values : [ 1.8323336   2.4135914  -0.36438775 -5.7240977 ]\n",
      "state : [0 0 0 0 0 0 0 0 0 0 0 0 0 0 0 0 4 4 0 0 0 0 0 0 0 0 0 0 0 0 0 0 0 0 0 0]\n",
      "Q_values : [ 1.6974798   1.6527617   0.23354411 -5.8958497 ]\n",
      "state : [0 0 0 0 0 0 0 0 0 0 0 0 0 0 0 0 6 5 0 0 0 0 1 1 0 0 0 0 0 0 0 0 0 0 0 0]\n",
      "Q_values : [ 1.6375372   2.0536294   0.77195096 -5.9137163 ]\n",
      "state : [0 0 0 0 0 0 0 0 0 0 0 0 0 0 0 0 6 6 0 0 0 0 2 1 0 0 0 0 0 0 0 0 0 0 0 0]\n",
      "Q_values : [ 2.539949   1.8473196  1.2567606 -5.9298024]\n",
      "state : [0 0 0 0 0 0 0 0 0 0 0 0 0 0 0 0 6 6 0 0 0 0 3 3 0 0 0 0 0 0 0 0 0 0 0 0]\n",
      "Q_values : [ 2.414599   2.0550375  1.4971473 -6.471577 ]\n",
      "state : [0 0 0 0 0 0 0 0 0 0 0 0 0 0 0 0 6 6 0 0 0 0 4 4 0 0 0 0 0 0 0 0 0 0 0 0]\n",
      "Q_values : [ 2.9402738  2.3270507  1.8480676 -6.7095203]\n",
      "state : [0 0 0 0 0 0 0 0 0 0 0 0 0 0 0 0 6 6 0 0 0 0 4 4 0 0 0 0 0 0 0 0 0 0 0 0]\n",
      "Q_values : [ 3.9539003  2.01862    2.1070356 -6.923778 ]\n",
      "state : [0 0 0 0 0 0 0 0 0 0 0 0 0 0 0 0 6 6 0 0 0 0 4 4 0 0 0 0 0 0 0 0 0 0 0 0]\n",
      "Q_values : [ 2.7752182  3.0871916  2.357922  -7.116707 ]\n",
      "state : [0 0 0 0 0 0 0 0 0 0 0 0 0 0 0 0 6 6 0 0 0 0 4 4 0 0 0 0 0 0 0 0 0 0 0 0]\n",
      "Q_values : [ 1.862781   2.3247216  2.5032797 -7.290426 ]\n",
      "state : [0 0 0 0 0 0 0 0 0 0 0 0 0 0 0 0 0 6 0 0 0 0 0 4 0 0 0 0 0 0 0 0 0 0 0 0]\n",
      "Q_values : [ 2.6855807  1.8346529  2.6723413 -7.584463 ]\n",
      "state : [0 0 0 0 0 0 0 0 0 0 0 0 0 0 0 0 2 6 0 0 0 0 0 4 0 0 0 0 0 0 0 0 0 0 0 0]\n",
      "Q_values : [ 2.986435   2.094212   2.8245745 -6.9415636]\n",
      "state : [0 0 0 0 0 0 0 0 0 0 0 0 0 0 0 0 2 6 0 0 0 0 0 4 0 0 0 0 0 0 0 0 0 0 0 0]\n",
      "Q_values : [ 3.2139494  2.7854977  2.96165   -6.909584 ]\n",
      "state : [0 0 0 0 0 0 0 0 0 0 0 0 0 0 0 0 2 6 0 0 0 0 0 4 0 0 0 0 0 0 0 0 0 0 0 0]\n",
      "Q_values : [ 2.5225916  3.4523683  2.8165526 -6.007212 ]\n",
      "Step #100.00 (0ms ?*RT. ?UPS, TraCI: 31ms, vehicles TOT 33 ACT 12 BUF 0)                   \n",
      "episode : 234\n",
      " Retrying in 1 seconds\n"
     ]
    },
    {
     "name": "stderr",
     "output_type": "stream",
     "text": [
      "Warning: Environment variable SUMO_HOME is not set properly, disabling XML validation. Set 'auto' or 'always' for web lookups.\n"
     ]
    },
    {
     "name": "stdout",
     "output_type": "stream",
     "text": [
      "state : [0 0 0 0 0 0 0 0 0 0 0 0 0 0 0 0 0 0 0 0 0 0 0 0 0 0 0 0 0 0 0 0 0 0 0 0]\n",
      "Q_values : [ 2.819872   3.1018467  2.8131561 -5.57553  ]\n",
      "state : [0 0 0 0 0 0 0 0 0 0 0 0 0 0 0 0 0 0 0 0 0 0 0 0 0 0 0 0 0 0 0 0 0 0 0 0]\n",
      "Q_values : [ 1.7573795  2.5895534  2.8100972 -4.785272 ]\n",
      "state : [0 0 0 0 0 0 0 0 0 0 0 0 0 0 0 0 0 0 0 0 0 0 0 0 0 0 0 0 0 0 0 0 0 0 0 0]\n",
      "Q_values : [ 1.668443   2.5651717  2.8073425 -4.264024 ]\n",
      "state : [0 0 0 0 0 0 0 0 0 0 0 0 0 0 0 0 0 0 0 0 0 0 0 0 0 0 0 0 0 0 0 0 0 0 0 0]\n",
      "Q_values : [ 3.2518806  2.1594682  2.804861  -3.7946687]\n",
      "state : [0 0 0 0 0 0 0 0 0 0 0 0 0 0 0 0 0 0 0 0 0 0 0 0 0 0 0 0 0 0 0 0 0 0 0 0]\n",
      "Q_values : [ 3.013023   2.3120496  2.8026283 -3.3720326]\n",
      "state : [0 0 0 0 0 0 0 0 0 0 0 0 0 0 1 0 1 0 0 0 0 0 0 0 0 0 0 0 0 0 0 0 0 0 0 0]\n",
      "Q_values : [ 2.289966   2.4281828  2.8006215 -2.9914777]\n",
      "state : [0 0 0 0 0 0 0 0 0 0 0 0 0 0 1 0 0 1 0 0 0 0 0 0 0 0 0 0 0 0 0 0 0 0 0 0]\n",
      "Q_values : [ 2.3833447  1.7562128  2.798808  -2.233183 ]\n",
      "state : [0 0 0 0 0 0 0 0 0 0 0 0 0 0 1 0 0 2 0 0 0 0 0 0 0 0 0 0 0 0 0 0 0 0 0 0]\n",
      "Q_values : [ 2.3300438  1.7487209  2.797178  -1.7473814]\n",
      "state : [0 0 0 0 0 0 0 0 0 0 0 0 0 0 1 0 0 4 0 0 0 0 0 0 0 0 0 0 0 0 0 0 0 0 0 0]\n",
      "Q_values : [ 2.3596342  3.2211854  2.7957084 -1.3099449]\n"
     ]
    },
    {
     "name": "stderr",
     "output_type": "stream",
     "text": [
      "Warning: Vehicle 'veh_19' performs emergency stop at the end of lane 'end2_junction_1' because of a red traffic light (decel=-24.73, offset=0.11), time=40.18.\n",
      "Warning: Vehicle 'veh_22' performs emergency stop at the end of lane 'end4_junction_1' because of a red traffic light (decel=-42.49, offset=0.27), time=40.34.\n"
     ]
    },
    {
     "name": "stdout",
     "output_type": "stream",
     "text": [
      "state : [0 0 0 0 0 0 0 0 0 0 0 0 0 0 0 0 1 5 0 0 0 0 1 1 0 0 0 0 0 0 0 0 0 0 0 0]UF 0)    \n",
      "Q_values : [ 2.933209   3.5085974  2.7943864 -0.9160526]\n",
      "state : [0 0 0 0 0 0 0 0 0 0 0 0 0 0 0 0 1 6 0 0 0 0 2 1 0 0 0 0 0 0 0 0 0 0 0 0]\n",
      "Q_values : [ 2.6551151  2.3293073  2.7931967 -0.5613718]\n",
      "state : [0 0 0 0 0 0 0 0 0 0 0 0 0 0 0 0 0 6 0 0 0 0 0 3 0 0 0 0 0 0 0 0 0 0 0 0]\n",
      "Q_values : [ 2.180489    1.7906742   2.7921243  -0.24200273]\n",
      "state : [0 0 0 0 0 0 0 0 0 0 0 0 0 0 0 0 0 6 0 0 0 0 0 4 0 0 0 0 0 0 0 0 0 0 0 0]\n",
      "Q_values : [2.33323   2.181411  2.7911599 0.0455749]\n",
      "state : [0 0 0 0 0 0 0 0 0 0 0 0 0 0 0 0 0 6 0 0 0 0 0 4 0 0 0 0 0 0 0 0 0 0 0 0]\n",
      "Q_values : [2.31012    1.7995156  2.7902918  0.30452585]\n",
      "state : [0 0 0 0 0 0 0 0 0 0 0 0 0 0 0 0 0 6 0 0 0 0 0 4 0 0 0 0 0 0 0 0 0 0 0 0]\n",
      "Q_values : [3.5149581 2.407094  2.7895083 0.5376985]\n",
      "state : [0 0 0 0 0 0 0 0 0 0 0 0 0 0 0 0 0 6 0 0 0 0 0 4 0 0 0 0 0 0 0 0 0 0 0 0]\n",
      "Q_values : [3.3841052  2.9472592  2.7888036  0.74765635]\n",
      "state : [0 0 0 0 0 0 0 0 0 0 0 0 0 0 0 0 0 6 0 0 0 0 0 4 0 0 0 0 0 0 0 0 0 0 0 0]\n",
      "Q_values : [2.7043223 3.643375  2.78817   0.936713 ]\n",
      "state : [0 0 0 0 0 0 0 0 0 0 0 0 0 0 0 0 0 6 0 0 0 0 0 4 0 0 0 0 0 0 0 0 0 0 0 0]\n",
      "Q_values : [3.5979002 3.3288982 2.7875981 1.1069541]\n",
      "state : [0 0 0 0 0 0 0 0 0 0 0 0 0 0 0 0 0 6 0 0 0 0 0 4 0 0 0 0 0 0 0 0 0 0 0 0]\n",
      "Q_values : [3.4736593 2.4787138 2.7870831 1.260242 ]\n",
      "state : [0 0 0 0 0 0 0 0 0 0 0 0 0 0 0 0 0 6 0 0 0 0 0 4 0 0 0 0 0 0 0 0 0 0 0 0]\n",
      "Q_values : [3.0586057 2.2904735 1.682162  1.3982723]\n",
      "Step #100.00 (0ms ?*RT. ?UPS, TraCI: 32ms, vehicles TOT 33 ACT 10 BUF 0)                   \n",
      "episode : 235\n",
      " Retrying in 1 seconds\n"
     ]
    },
    {
     "name": "stderr",
     "output_type": "stream",
     "text": [
      "Warning: Environment variable SUMO_HOME is not set properly, disabling XML validation. Set 'auto' or 'always' for web lookups.\n"
     ]
    },
    {
     "name": "stdout",
     "output_type": "stream",
     "text": [
      "state : [0 0 0 0 0 0 0 0 0 0 0 0 0 0 0 0 0 0 0 0 0 0 0 0 0 0 0 0 0 0 0 0 0 0 0 0]\n",
      "Q_values : [ 1.746831    2.3228736  -0.80686903  1.5225627 ]\n",
      "state : [0 0 0 0 0 0 0 0 0 0 0 0 0 0 0 0 0 0 0 0 0 0 0 0 0 0 0 0 0 0 0 0 0 0 0 0]\n",
      "Q_values : [ 2.2093568   2.3156452  -1.8948486   0.83766913]\n",
      "state : [0 0 0 0 0 0 0 0 0 0 0 0 0 0 0 0 0 0 0 0 0 0 0 0 0 0 0 0 0 0 0 0 0 0 0 0]\n",
      "Q_values : [ 2.18928     1.7465783  -2.9673588  -0.32304406]\n",
      "state : [0 0 0 0 0 0 0 0 0 0 0 0 0 0 0 0 0 0 0 0 0 0 0 0 0 0 0 0 0 0 0 0 0 0 0 0]\n",
      "Q_values : [ 2.3088593   1.8398819  -3.5283158  -0.93132854]\n",
      "state : [0 0 0 0 0 0 0 0 0 0 0 0 0 0 0 0 0 0 0 0 0 0 0 0 0 0 0 0 0 0 0 0 0 0 0 0]\n",
      "Q_values : [ 2.9399662  2.3079553 -4.225169  -1.4790566]\n",
      "state : [0 0 0 0 0 0 0 0 0 0 0 0 0 0 1 0 1 0 0 0 0 0 0 0 0 0 0 0 0 0 0 0 0 0 0 0]\n",
      "Q_values : [ 2.2804008  2.5982294 -4.8526487 -1.9722602]\n",
      "state : [0 0 0 0 0 0 0 0 0 0 0 0 0 0 0 0 1 1 0 0 0 0 0 0 0 0 0 0 0 0 0 0 0 0 0 0]\n",
      "Q_values : [ 2.2974098  2.2743907 -5.4176655 -2.1041787]\n",
      "state : [0 0 0 0 0 0 0 0 0 0 0 0 0 0 0 0 2 2 0 0 0 0 0 0 0 0 0 0 0 0 0 0 0 0 0 0]\n",
      "Q_values : [ 2.2392602  1.3998265 -5.2711787 -2.370895 ]\n",
      "state : [0 0 0 0 0 0 0 0 0 0 0 0 0 0 0 0 4 4 0 0 0 0 0 0 0 0 0 0 0 0 0 0 0 0 0 0]\n",
      "Q_values : [ 1.4042308  1.5194169 -5.449685  -2.6110556]\n",
      "state : [0 0 0 0 0 0 0 0 0 0 0 0 0 0 0 0 6 5 0 0 0 0 1 1 0 0 0 0 0 0 0 0 0 0 0 0]\n",
      "Q_values : [ 1.5535563  1.4433517 -5.6104207 -2.8273082]\n",
      "state : [0 0 0 0 0 0 0 0 0 0 0 0 0 0 0 0 6 6 0 0 0 0 2 1 0 0 0 0 0 0 0 0 0 0 0 0]\n",
      "Q_values : [ 1.8274416  1.6421556 -4.680192  -3.0220356]\n",
      "state : [0 0 0 0 0 0 0 0 0 0 0 0 0 0 0 0 6 6 0 0 0 0 3 3 0 0 0 0 0 0 0 0 0 0 0 0]\n",
      "Q_values : [ 1.9228319  3.1599374 -4.351911  -3.1973753]\n",
      "state : [0 0 0 0 0 0 0 0 0 0 0 0 0 0 0 0 6 6 0 0 0 0 4 4 0 0 0 0 0 0 0 0 0 0 0 0]\n",
      "Q_values : [ 2.7574968  3.3244686 -4.0563135 -3.3552635]\n",
      "state : [0 0 0 0 0 0 0 0 0 0 0 0 0 0 0 0 6 6 0 0 0 0 4 4 0 0 0 0 0 0 0 0 0 0 0 0]\n",
      "Q_values : [ 2.5679822  2.9033766 -3.7901409 -3.4974277]\n",
      "state : [0 0 0 0 0 0 0 0 0 0 0 0 0 0 0 0 6 6 0 0 0 0 4 4 0 0 0 0 0 0 0 0 0 0 0 0]\n",
      "Q_values : [ 2.388853   1.9658711 -3.5504665 -3.1514466]\n",
      "state : [0 0 0 0 0 0 0 0 0 0 0 0 0 0 0 0 6 6 0 0 0 0 4 4 0 0 0 0 0 0 0 0 0 0 0 0]\n",
      "Q_values : [ 3.3934731  2.4318733 -3.3346534 -3.064526 ]\n",
      "state : [0 0 0 0 0 0 0 0 0 0 0 0 0 0 0 0 6 6 0 0 0 0 4 4 0 0 0 0 0 0 0 0 0 0 0 0]\n",
      "Q_values : [ 2.7017922  3.3031225 -2.6371558 -3.4883242]\n",
      "state : [0 0 0 0 0 0 0 0 0 0 0 0 0 0 0 0 6 6 0 0 0 0 4 4 0 0 0 0 0 0 0 0 0 0 0 0]\n",
      "Q_values : [ 1.7379322  2.9605289 -2.2475839 -3.6320038]\n",
      "state : [0 0 0 0 0 0 0 0 0 0 0 0 0 0 0 0 6 6 0 0 0 0 4 4 0 0 0 0 0 0 0 0 0 0 0 0]\n",
      "Q_values : [ 1.598916   3.4161177 -2.5246124 -3.7613811]\n",
      "state : [0 0 0 0 0 0 0 0 0 0 0 0 0 0 0 0 6 6 0 0 0 0 4 4 0 0 0 0 0 0 0 0 0 0 0 0]\n",
      "Q_values : [ 2.738997   2.15448   -1.6298931 -3.877882 ]\n",
      "Step #100.00 (0ms ?*RT. ?UPS, TraCI: 32ms, vehicles TOT 33 ACT 20 BUF 0)                   \n",
      "episode : 236\n",
      " Retrying in 1 seconds\n"
     ]
    },
    {
     "name": "stderr",
     "output_type": "stream",
     "text": [
      "Warning: Environment variable SUMO_HOME is not set properly, disabling XML validation. Set 'auto' or 'always' for web lookups.\n"
     ]
    },
    {
     "name": "stdout",
     "output_type": "stream",
     "text": [
      "state : [0 0 0 0 0 0 0 0 0 0 0 0 0 0 0 0 0 0 0 0 0 0 0 0 0 0 0 0 0 0 0 0 0 0 0 0]\n",
      "Q_values : [ 1.7825413  2.1251624 -1.9259555 -3.9827838]\n",
      "state : [0 0 0 0 0 0 0 0 0 0 0 0 0 0 0 0 0 0 0 0 0 0 0 0 0 0 0 0 0 0 0 0 0 0 0 0]\n",
      "Q_values : [ 2.607572   3.3564613 -1.860723  -4.0772433]\n",
      "state : [0 0 0 0 0 0 0 0 0 0 0 0 0 0 0 0 0 0 0 0 0 0 0 0 0 0 0 0 0 0 0 0 0 0 0 0]\n",
      "Q_values : [ 2.715167   2.2290037 -1.8019817 -4.162298 ]\n",
      "state : [0 0 0 0 0 0 0 0 0 0 0 0 0 0 0 0 0 0 0 0 0 0 0 0 0 0 0 0 0 0 0 0 0 0 0 0]\n",
      "Q_values : [ 2.7748127  1.8143834 -1.749089  -4.238883 ]\n",
      "state : [0 0 0 0 0 0 0 0 0 0 0 0 0 0 0 0 0 0 0 0 0 0 0 0 0 0 0 0 0 0 0 0 0 0 0 0]\n",
      "Q_values : [ 3.3142307  1.724949  -1.7014658 -4.307847 ]\n",
      "state : [0 0 0 0 0 0 0 0 0 0 0 0 0 0 1 0 1 0 0 0 0 0 0 0 0 0 0 0 0 0 0 0 0 0 0 0]\n",
      "Q_values : [ 2.4159005  3.1435099 -1.658576  -4.3699474]\n",
      "state : [0 0 0 0 0 0 0 0 0 0 0 0 0 0 0 0 1 1 0 0 0 0 0 0 0 0 0 0 0 0 0 0 0 0 0 0]\n",
      "Q_values : [ 2.3455513  3.1394567 -1.6199615 -4.4258604]\n",
      "state : [0 0 0 0 0 0 0 0 0 0 0 0 0 0 0 0 2 2 0 0 0 0 0 0 0 0 0 0 0 0 0 0 0 0 0 0]\n",
      "Q_values : [ 2.6102657  2.77045   -1.5851905 -4.4762073]\n",
      "state : [0 0 0 0 0 0 0 0 0 0 0 0 0 0 0 0 4 4 0 0 0 0 0 0 0 0 0 0 0 0 0 0 0 0 0 0]\n",
      "Q_values : [ 2.6651201  2.845652  -1.5538793 -3.9566612]\n",
      "state : [0 0 0 0 0 0 0 0 0 0 0 0 0 0 0 0 6 5 0 0 0 0 1 1 0 0 0 0 0 0 0 0 0 0 0 0]\n",
      "Q_values : [ 2.373272   2.341444  -1.2266662 -3.7565367]\n",
      "state : [0 0 0 0 0 0 0 0 0 0 0 0 0 0 0 0 6 6 0 0 0 0 2 1 0 0 0 0 0 0 0 0 0 0 0 0]\n",
      "Q_values : [ 1.8605328  2.1590283 -0.8312249 -3.5763366]\n",
      "state : [0 0 0 0 0 0 0 0 0 0 0 0 0 0 0 0 6 6 0 0 0 0 3 3 0 0 0 0 0 0 0 0 0 0 0 0]\n",
      "Q_values : [ 1.7021785   2.838288   -0.59008694 -3.4140728 ]\n",
      "state : [0 0 0 0 0 0 0 0 0 0 0 0 0 0 0 0 6 6 0 0 0 0 4 4 0 0 0 0 0 0 0 0 0 0 0 0]\n",
      "Q_values : [ 2.3434727   2.074706   -0.37295246 -3.7667732 ]\n",
      "state : [0 0 0 0 0 0 0 0 0 0 0 0 0 0 0 0 6 6 0 0 0 0 4 4 0 0 0 0 0 0 0 0 0 0 0 0]\n",
      "Q_values : [ 2.3224173   2.4209564  -0.02197766 -3.8479855 ]\n",
      "state : [0 0 0 0 0 0 0 0 0 0 0 0 0 0 0 0 6 6 0 0 0 0 4 4 0 0 0 0 0 0 0 0 0 0 0 0]\n",
      "Q_values : [ 2.4712405   2.2608256   0.22038102 -3.4324439 ]\n",
      "state : [0 0 0 0 0 0 0 0 0 0 0 0 0 0 0 0 6 6 0 0 0 0 4 4 0 0 0 0 0 0 0 0 0 0 0 0]\n",
      "Q_values : [ 2.2790217   2.11065     0.43861175 -3.28985   ]\n",
      "state : [0 0 0 0 0 0 0 0 0 0 0 0 0 0 0 0 6 6 0 0 0 0 4 4 0 0 0 0 0 0 0 0 0 0 0 0]\n",
      "Q_values : [ 2.3632379  1.7583263  0.5748222 -3.1614492]\n",
      "state : [0 0 0 0 0 0 0 0 0 0 0 0 0 0 0 0 6 6 0 0 0 0 4 4 0 0 0 0 0 0 0 0 0 0 0 0]\n",
      "Q_values : [ 3.066308    1.8759274  -0.05868268 -3.0458379 ]\n",
      "state : [0 0 0 0 0 0 0 0 0 0 0 0 0 0 0 0 6 6 0 0 0 0 4 4 0 0 0 0 0 0 0 0 0 0 0 0]\n",
      "Q_values : [ 2.3496416  2.872175  -1.1040103 -2.9417293]\n",
      "state : [0 0 0 0 0 0 0 0 0 0 0 0 0 0 0 0 6 6 0 0 0 0 4 4 0 0 0 0 0 0 0 0 0 0 0 0]\n",
      "Q_values : [ 2.6684132  3.0509849 -1.6439064 -2.8479877]\n",
      "Step #100.00 (0ms ?*RT. ?UPS, TraCI: 32ms, vehicles TOT 33 ACT 20 BUF 0)                   \n",
      "episode : 237\n",
      " Retrying in 1 seconds\n"
     ]
    },
    {
     "name": "stderr",
     "output_type": "stream",
     "text": [
      "Warning: Environment variable SUMO_HOME is not set properly, disabling XML validation. Set 'auto' or 'always' for web lookups.\n"
     ]
    },
    {
     "name": "stdout",
     "output_type": "stream",
     "text": [
      "state : [0 0 0 0 0 0 0 0 0 0 0 0 0 0 0 0 0 0 0 0 0 0 0 0 0 0 0 0 0 0 0 0 0 0 0 0]\n",
      "Q_values : [ 3.1351604  2.6470714 -2.1300573 -2.7635772]\n",
      "state : [0 0 0 0 0 0 0 0 0 0 0 0 0 0 0 0 0 0 0 0 0 0 0 0 0 0 0 0 0 0 0 0 0 0 0 0]\n",
      "Q_values : [ 2.7003522  2.2956433 -3.2030175 -2.6875737]\n",
      "state : [0 0 0 0 0 0 0 0 0 0 0 0 0 0 0 0 0 0 0 0 0 0 0 0 0 0 0 0 0 0 0 0 0 0 0 0]\n",
      "Q_values : [ 1.555042   2.3224158 -3.8680217 -2.6191313]\n",
      "state : [0 0 0 0 0 0 0 0 0 0 0 0 0 0 0 0 0 0 0 0 0 0 0 0 0 0 0 0 0 0 0 0 0 0 0 0]\n",
      "Q_values : [ 1.7081275  2.318812  -4.359992  -2.5575032]\n",
      "state : [0 0 0 0 0 0 0 0 0 0 0 0 0 0 0 0 0 0 0 0 0 0 0 0 0 0 0 0 0 0 0 0 0 0 0 0]\n",
      "Q_values : [ 1.8581074  2.717887  -4.853612  -2.5020113]\n",
      "state : [0 0 0 0 0 0 0 0 0 0 0 0 0 1 0 0 1 0 0 0 0 0 0 0 0 0 0 0 0 0 0 0 0 0 0 0]\n",
      "Q_values : [ 2.0183659  2.93744   -5.298094  -2.4520414]\n",
      "state : [0 0 0 0 0 0 0 0 0 0 0 0 0 1 0 0 1 1 0 0 0 0 0 0 0 0 0 0 0 0 0 0 0 0 0 0]\n",
      "Q_values : [ 3.6760972  3.0582452 -5.698328  -2.407047 ]\n",
      "state : [0 0 0 0 0 0 0 0 0 0 0 0 0 0 0 0 2 2 0 0 0 0 0 0 0 0 0 0 0 0 0 0 0 0 0 0]\n",
      "Q_values : [ 2.6989388  2.304192  -6.805339  -2.3665276]\n",
      "state : [0 0 0 0 0 0 0 0 0 0 0 0 0 0 0 0 4 4 0 0 0 0 0 0 0 0 0 0 0 0 0 0 0 0 0 0]\n",
      "Q_values : [ 2.5133963  1.8777058 -7.448189  -2.3300488]\n",
      "state : [0 0 0 0 0 0 0 0 0 0 0 0 0 0 0 0 6 5 0 0 0 0 1 1 0 0 0 0 0 0 0 0 0 0 0 0]\n",
      "Q_values : [ 1.991357   1.6305212 -8.027043  -2.2971973]\n",
      "state : [0 0 0 0 0 0 0 0 0 0 0 0 0 0 0 0 6 6 0 0 0 0 2 1 0 0 0 0 0 0 0 0 0 0 0 0]\n",
      "Q_values : [ 1.8662636  1.58188   -7.63553   -2.2676198]\n",
      "state : [0 0 0 0 0 0 0 0 0 0 0 0 0 0 0 0 6 6 0 0 0 0 3 3 0 0 0 0 0 0 0 0 0 0 0 0]\n",
      "Q_values : [ 1.7695569  1.9240837 -6.849334  -2.2409835]\n",
      "state : [0 0 0 0 0 0 0 0 0 0 0 0 0 0 0 0 6 6 0 0 0 0 4 4 0 0 0 0 0 0 0 0 0 0 0 0]\n",
      "Q_values : [ 1.8088683  1.9074997 -6.5517654 -1.5929   ]\n",
      "state : [0 0 0 0 0 0 0 0 0 0 0 0 0 0 0 0 6 6 0 0 0 0 4 4 0 0 0 0 0 0 0 0 0 0 0 0]\n",
      "Q_values : [ 2.9791956  1.8526611 -5.5253553 -1.0569217]\n",
      "state : [0 0 0 0 0 0 0 0 0 0 0 0 0 0 0 0 6 6 0 0 0 0 4 4 0 0 0 0 0 0 0 0 0 0 0 0]\n",
      "Q_values : [ 2.7408593   2.638246   -2.748751   -0.69193196]\n",
      "state : [0 0 0 0 0 0 0 0 0 0 0 0 0 0 0 0 6 6 0 0 0 0 4 4 0 0 0 0 0 0 0 0 0 0 0 0]\n",
      "Q_values : [ 2.0464282  2.4738197 -1.8901927 -0.363276 ]\n",
      "state : [0 0 0 0 0 0 0 0 0 0 0 0 0 0 0 0 6 6 0 0 0 0 4 4 0 0 0 0 0 0 0 0 0 0 0 0]\n",
      "Q_values : [ 1.6988232   2.3034449  -0.83699584 -0.0673399 ]\n",
      "state : [0 0 0 0 0 0 0 0 0 0 0 0 0 0 0 0 6 6 0 0 0 0 4 4 0 0 0 0 0 0 0 0 0 0 0 0]\n",
      "Q_values : [2.897683   3.0810838  0.21080852 0.19913483]\n",
      "state : [0 0 0 0 0 0 0 0 0 0 0 0 0 0 0 0 6 6 0 0 0 0 4 4 0 0 0 0 0 0 0 0 0 0 0 0]\n",
      "Q_values : [2.8461573  2.1436315  1.1071665  0.43908477]\n",
      "state : [0 0 0 0 0 0 0 0 0 0 0 0 0 0 0 0 6 6 0 0 0 0 4 4 0 0 0 0 0 0 0 0 0 0 0 0]\n",
      "Q_values : [2.9440126 1.73191   2.0467856 0.6551473]\n",
      "Step #100.00 (0ms ?*RT. ?UPS, TraCI: 31ms, vehicles TOT 33 ACT 20 BUF 0)                   \n",
      "episode : 238\n",
      " Retrying in 1 seconds\n"
     ]
    },
    {
     "name": "stderr",
     "output_type": "stream",
     "text": [
      "Warning: Environment variable SUMO_HOME is not set properly, disabling XML validation. Set 'auto' or 'always' for web lookups.\n"
     ]
    },
    {
     "name": "stdout",
     "output_type": "stream",
     "text": [
      "state : [0 0 0 0 0 0 0 0 0 0 0 0 0 0 0 0 0 0 0 0 0 0 0 0 0 0 0 0 0 0 0 0 0 0 0 0]\n",
      "Q_values : [ 2.4730184   2.706215    2.8300657  -0.04777002]\n",
      "state : [0 0 0 0 0 0 0 0 0 0 0 0 0 0 0 0 0 0 0 0 0 0 0 0 0 0 0 0 0 0 0 0 0 0 0 0]\n",
      "Q_values : [ 2.265211   2.4219456  3.3927193 -0.255476 ]\n",
      "state : [0 0 0 0 0 0 0 0 0 0 0 0 0 0 0 0 0 0 0 0 0 0 0 0 0 0 0 0 0 0 0 0 0 0 0 0]\n",
      "Q_values : [ 2.193089   2.0812058  3.966958  -1.228895 ]\n",
      "state : [0 0 0 0 0 0 0 0 0 0 0 0 0 0 0 0 0 0 0 0 0 0 0 0 0 0 0 0 0 0 0 0 0 0 0 0]\n",
      "Q_values : [ 3.4947166  2.9380786  4.384794  -1.732656 ]\n",
      "state : [0 0 0 0 0 0 0 0 0 0 0 0 0 0 0 0 0 0 0 0 0 0 0 0 0 0 0 0 0 0 0 0 0 0 0 0]\n",
      "Q_values : [ 4.3452024  3.6996512  4.808061  -2.780089 ]\n",
      "state : [0 0 0 0 0 0 0 0 0 0 0 0 0 1 1 0 0 0 0 0 0 0 0 0 0 0 0 0 0 0 0 0 0 0 0 0]\n",
      "Q_values : [ 3.7640061  4.318929   4.7444024 -3.4417255]\n",
      "state : [0 0 0 0 0 0 0 0 0 0 0 0 0 1 1 0 0 1 0 0 0 0 0 0 0 0 0 0 0 0 0 0 0 0 0 0]\n",
      "Q_values : [ 3.712192   4.7659826  4.418623  -4.037504 ]\n",
      "state : [0 0 0 0 0 0 0 0 0 0 0 0 0 1 0 0 1 2 0 0 0 0 0 0 0 0 0 0 0 0 0 0 0 0 0 0]         \n",
      "Q_values : [ 3.084877   3.5131288  4.3523617 -4.573969 ]\n",
      "state : [0 0 0 0 0 0 0 0 0 0 0 0 0 1 0 0 0 4 0 0 0 0 0 0 0 0 0 0 0 0 0 0 0 0 0 0]\n",
      "Q_values : [ 3.7885356  3.2949438  4.292695  -5.0570254]\n"
     ]
    },
    {
     "name": "stderr",
     "output_type": "stream",
     "text": [
      "Warning: Vehicle 'veh_10' performs emergency stop at the end of lane 'end2_junction_1' because of a red traffic light (decel=-14.41, offset=0.03), time=31.21.\n"
     ]
    },
    {
     "name": "stdout",
     "output_type": "stream",
     "text": [
      "state : [0 0 0 0 0 0 0 0 0 0 0 0 0 1 0 0 0 5 0 0 0 0 0 1 0 0 0 0 0 0 0 0 0 0 0 0]\n",
      "Q_values : [ 3.238787   2.8472571  4.2389684 -5.4919996]\n",
      "state : [0 0 0 0 0 0 0 0 0 0 0 0 0 1 0 0 0 6 0 0 0 0 0 1 0 0 0 0 0 0 0 0 0 0 0 0]\n",
      "Q_values : [ 2.97383    3.4264607  4.190591  -5.883667 ]\n",
      "state : [0 0 0 0 0 0 0 0 0 0 0 0 0 1 0 0 0 6 0 0 0 0 0 3 0 0 0 0 0 0 0 0 0 0 0 0]\n",
      "Q_values : [ 2.5388894  3.552636   4.147028  -6.236347 ]\n",
      "state : [0 0 0 0 0 0 0 0 0 0 0 0 0 1 0 0 0 6 0 0 0 0 0 4 0 0 0 0 0 0 0 0 0 0 0 0]\n",
      "Q_values : [ 4.189637   3.5960085  3.8903277 -6.553915 ]\n",
      "state : [0 0 0 0 0 0 0 0 0 0 0 0 0 0 0 0 0 6 0 0 0 0 0 4 0 0 0 0 0 0 0 0 0 0 0 0]\n",
      "Q_values : [ 3.3398154  2.8205757  3.7622476 -6.8398733]\n",
      "state : [0 0 0 0 0 0 0 0 0 0 0 0 0 0 0 0 0 6 0 0 0 0 0 4 0 0 0 0 0 0 0 0 0 0 0 0]\n",
      "Q_values : [ 3.3567834  3.2590113  2.3558922 -7.0973625]\n",
      "state : [0 0 0 0 0 0 0 0 0 0 0 0 0 0 0 0 0 6 0 0 0 0 0 4 0 0 0 0 0 0 0 0 0 0 0 0]\n",
      "Q_values : [ 2.4663687  3.7877467  0.6231911 -7.449586 ]\n",
      "state : [0 0 0 0 0 0 0 0 0 0 0 0 0 0 0 0 0 6 0 0 0 0 0 4 0 0 0 0 0 0 0 0 0 0 0 0]\n",
      "Q_values : [ 2.2838535   3.1620798  -0.42552662 -6.7912865 ]\n",
      "state : [0 0 0 0 0 0 0 0 0 0 0 0 0 0 0 0 0 6 0 0 0 0 0 4 0 0 0 0 0 0 0 0 0 0 0 0]\n",
      "Q_values : [ 2.2610564  1.9332039 -1.9748785 -6.633645 ]\n",
      "state : [0 0 0 0 0 0 0 0 0 0 0 0 0 0 0 0 0 6 0 0 0 0 0 4 0 0 0 0 0 0 0 0 0 0 0 0]\n",
      "Q_values : [ 1.9844124  1.627355  -2.667492  -5.7286654]\n",
      "state : [0 0 0 0 0 0 0 0 0 0 0 0 0 0 0 0 0 6 0 0 0 0 0 4 0 0 0 0 0 0 0 0 0 0 0 0]\n",
      "Q_values : [ 2.0282776  2.2645733 -2.6459715 -5.275439 ]\n",
      "Step #100.00 (0ms ?*RT. ?UPS, TraCI: 30ms, vehicles TOT 33 ACT 10 BUF 0)                   \n",
      "episode : 239\n",
      " Retrying in 1 seconds\n"
     ]
    },
    {
     "name": "stderr",
     "output_type": "stream",
     "text": [
      "Warning: Environment variable SUMO_HOME is not set properly, disabling XML validation. Set 'auto' or 'always' for web lookups.\n"
     ]
    },
    {
     "name": "stdout",
     "output_type": "stream",
     "text": [
      "state : [0 0 0 0 0 0 0 0 0 0 0 0 0 0 0 0 0 0 0 0 0 0 0 0 0 0 0 0 0 0 0 0 0 0 0 0]\n",
      "Q_values : [ 1.6407285  1.3943017 -2.5418944 -5.2207785]\n",
      "state : [0 0 0 0 0 0 0 0 0 0 0 0 0 0 0 0 0 0 0 0 0 0 0 0 0 0 0 0 0 0 0 0 0 0 0 0]\n",
      "Q_values : [ 1.8667233  1.0257202 -2.3370097 -3.8174496]\n",
      "state : [0 0 0 0 0 0 0 0 0 0 0 0 0 0 0 0 0 0 0 0 0 0 0 0 0 0 0 0 0 0 0 0 0 0 0 0]\n",
      "Q_values : [ 1.4755054  2.5847075 -2.3137426 -3.116376 ]\n",
      "state : [0 0 0 0 0 0 0 0 0 0 0 0 0 0 0 0 0 0 0 0 0 0 0 0 0 0 0 0 0 0 0 0 0 0 0 0]\n",
      "Q_values : [ 1.5578     2.854467  -1.9061558 -2.4850926]\n",
      "state : [0 0 0 0 0 0 0 0 0 0 0 0 0 0 0 0 0 0 0 0 0 0 0 0 0 0 0 0 0 0 0 0 0 0 0 0]\n",
      "Q_values : [ 2.866486   2.4156804 -1.1823218 -1.9166582]\n",
      "state : [0 0 0 0 0 0 0 0 0 0 0 0 0 0 1 0 1 0 0 0 0 0 0 0 0 0 0 0 0 0 0 0 0 0 0 0]         \n",
      "Q_values : [ 2.9457426   2.4893637  -0.78652143 -1.0751522 ]\n"
     ]
    },
    {
     "name": "stderr",
     "output_type": "stream",
     "text": [
      "Warning: Vehicle 'veh_2' performs emergency stop at the end of lane 'end1_junction_2' because of a red traffic light (decel=-20.39, offset=0.10), time=21.24.\n"
     ]
    },
    {
     "name": "stdout",
     "output_type": "stream",
     "text": [
      "state : [0 0 0 0 0 0 0 0 0 0 0 0 0 0 1 0 1 1 0 0 0 0 0 0 0 0 0 0 0 0 0 0 0 0 0 0]\n",
      "Q_values : [ 3.6713853  3.2265456 -0.4301269 -0.4736817]\n",
      "state : [0 0 0 0 0 0 0 0 0 0 0 0 0 0 1 0 2 2 0 0 0 0 0 0 0 0 0 0 0 0 0 0 0 0 0 0]\n",
      "Q_values : [ 2.1996174   3.3848183  -0.10921001 -0.68966556]\n",
      "state : [0 0 0 0 0 0 0 0 0 0 0 0 0 0 0 0 4 4 0 0 0 0 0 0 0 0 0 0 0 0 0 0 0 0 0 0]\n",
      "Q_values : [ 2.5288327   2.2433953   0.64666915 -0.5252991 ]\n",
      "state : [0 0 0 0 0 0 0 0 0 0 0 0 0 0 0 0 6 5 0 0 0 0 1 1 0 0 0 0 0 0 0 0 0 0 0 0]\n",
      "Q_values : [ 2.292654   1.8827748  1.3716156 -0.3773005]\n",
      "state : [0 0 0 0 0 0 0 0 0 0 0 0 0 0 0 0 6 6 0 0 0 0 2 1 0 0 0 0 0 0 0 0 0 0 0 0]\n",
      "Q_values : [ 1.6993423   1.9422171   1.8756099  -0.09380627]\n",
      "state : [0 0 0 0 0 0 0 0 0 0 0 0 0 0 0 0 6 6 0 0 0 0 3 3 0 0 0 0 0 0 0 0 0 0 0 0]\n",
      "Q_values : [1.8999121  2.1996064  2.3402722  0.09026599]\n",
      "state : [0 0 0 0 0 0 0 0 0 0 0 0 0 0 0 0 0 6 0 0 0 0 0 4 0 0 0 0 0 0 0 0 0 0 0 0]\n",
      "Q_values : [2.6105766  2.8617418  2.758679   0.25601387]\n",
      "state : [0 0 0 0 0 0 0 0 0 0 0 0 0 0 0 0 2 6 0 0 0 0 0 4 0 0 0 0 0 0 0 0 0 0 0 0]\n",
      "Q_values : [2.9443917 2.3845387 1.9847848 0.5212691]\n",
      "state : [0 0 0 0 0 0 0 0 0 0 0 0 0 0 0 0 2 6 0 0 0 0 0 4 0 0 0 0 0 0 0 0 0 0 0 0]\n",
      "Q_values : [2.8512468  3.0146854  1.832948   0.70514154]\n",
      "state : [0 0 0 0 0 0 0 0 0 0 0 0 0 0 0 0 2 6 0 0 0 0 0 4 0 0 0 0 0 0 0 0 0 0 0 0]\n",
      "Q_values : [2.715717  2.8086228 1.6962261 0.8707106]\n",
      "state : [0 0 0 0 0 0 0 0 0 0 0 0 0 0 0 0 2 6 0 0 0 0 0 4 0 0 0 0 0 0 0 0 0 0 0 0]\n",
      "Q_values : [2.8898942 2.160626  1.5731144 1.0197947]\n",
      "state : [0 0 0 0 0 0 0 0 0 0 0 0 0 0 0 0 2 6 0 0 0 0 0 4 0 0 0 0 0 0 0 0 0 0 0 0]\n",
      "Q_values : [2.804423  2.9638271 0.7116933 1.1540377]\n",
      "state : [0 0 0 0 0 0 0 0 0 0 0 0 0 0 0 0 2 6 0 0 0 0 0 4 0 0 0 0 0 0 0 0 0 0 0 0]\n",
      "Q_values : [ 2.6651402  1.6835926 -0.6453991  0.3184116]\n",
      "state : [0 0 0 0 0 0 0 0 0 0 0 0 0 0 0 0 2 6 0 0 0 0 0 4 0 0 0 0 0 0 0 0 0 0 0 0]\n",
      "Q_values : [ 2.3167734  1.7576214 -1.4230242  0.0192132]\n",
      "Step #100.00 (0ms ?*RT. ?UPS, TraCI: 30ms, vehicles TOT 33 ACT 12 BUF 0)                   \n",
      "episode : 240\n",
      " Retrying in 1 seconds\n"
     ]
    },
    {
     "name": "stderr",
     "output_type": "stream",
     "text": [
      "Warning: Environment variable SUMO_HOME is not set properly, disabling XML validation. Set 'auto' or 'always' for web lookups.\n"
     ]
    },
    {
     "name": "stdout",
     "output_type": "stream",
     "text": [
      "state : [0 0 0 0 0 0 0 0 0 0 0 0 0 0 0 0 0 0 0 0 0 0 0 0 0 0 0 0 0 0 0 0 0 0 0 0]\n",
      "Q_values : [ 2.312935    1.6818506  -1.8606951  -0.25020003]\n",
      "state : [0 0 0 0 0 0 0 0 0 0 0 0 0 0 0 0 0 0 0 0 0 0 0 0 0 0 0 0 0 0 0 0 0 0 0 0]\n",
      "Q_values : [ 2.4901655  1.463043  -2.3791916 -1.3427622]\n",
      "state : [0 0 0 0 0 0 0 0 0 0 0 0 0 0 0 0 0 0 0 0 0 0 0 0 0 0 0 0 0 0 0 0 0 0 0 0]\n",
      "Q_values : [ 1.8824493  2.2935212 -2.8460703 -1.923634 ]\n",
      "state : [0 0 0 0 0 0 0 0 0 0 0 0 0 0 0 0 0 0 0 0 0 0 0 0 0 0 0 0 0 0 0 0 0 0 0 0]\n",
      "Q_values : [ 2.2177114  2.6671524 -3.266473  -2.1425812]\n",
      "state : [0 0 0 0 0 0 0 0 0 0 0 0 0 0 0 0 0 0 0 0 0 0 0 0 0 0 0 0 0 0 0 0 0 0 0 0]\n",
      "Q_values : [ 2.0524113  2.5740833 -3.1763752 -3.1296356]\n",
      "state : [0 0 0 0 0 0 0 0 0 0 0 0 0 1 0 0 1 0 0 0 0 0 0 0 0 0 0 0 0 0 0 0 0 0 0 0]\n",
      "Q_values : [ 1.8884425  1.9781    -3.8812325 -3.7122734]\n",
      "state : [0 0 0 0 0 0 0 0 0 0 0 0 0 1 0 0 1 1 0 0 0 0 0 0 0 0 0 0 0 0 0 0 0 0 0 0]\n",
      "Q_values : [ 1.2947463  1.7048659 -4.2750754 -4.76175  ]\n",
      "state : [0 0 0 0 0 0 0 0 0 0 0 0 0 1 0 0 2 2 0 0 0 0 0 0 0 0 0 0 0 0 0 0 0 0 0 0]\n",
      "Q_values : [ 1.6793417  1.5675544 -4.6171784 -5.8924437]\n",
      "state : [0 0 0 0 0 0 0 0 0 0 0 0 0 0 0 0 4 4 0 0 0 0 0 0 0 0 0 0 0 0 0 0 0 0 0 0]\n",
      "Q_values : [ 2.845787   1.1361293 -4.7299876 -6.704574 ]\n",
      "state : [0 0 0 0 0 0 0 0 0 0 0 0 0 0 0 0 6 5 0 0 0 0 1 1 0 0 0 0 0 0 0 0 0 0 0 0]\n",
      "Q_values : [ 2.6391387  2.017135  -2.0329363 -7.6215925]\n",
      "state : [0 0 0 0 0 0 0 0 0 0 0 0 0 0 0 0 6 6 0 0 0 0 2 1 0 0 0 0 0 0 0 0 0 0 0 0]\n",
      "Q_values : [ 2.0604148   3.3664033  -0.29719925 -8.359284  ]\n",
      "state : [0 0 0 0 0 0 0 0 0 0 0 0 0 0 0 0 6 6 0 0 0 0 3 3 0 0 0 0 0 0 0 0 0 0 0 0]\n",
      "Q_values : [ 2.8270519  3.6617146  0.9449048 -9.023537 ]\n",
      "state : [0 0 0 0 0 0 0 0 0 0 0 0 0 0 0 0 6 6 0 0 0 0 4 4 0 0 0 0 0 0 0 0 0 0 0 0]\n",
      "Q_values : [ 3.5072713  3.2384093  2.0633585 -9.621663 ]\n",
      "state : [0 0 0 0 0 0 0 0 0 0 0 0 0 0 0 0 6 6 0 0 0 0 4 4 0 0 0 0 0 0 0 0 0 0 0 0]\n",
      "Q_values : [  3.7472138   2.3499923   3.0391502 -10.160249 ]\n",
      "state : [0 0 0 0 0 0 0 0 0 0 0 0 0 0 0 0 6 6 0 0 0 0 4 4 0 0 0 0 0 0 0 0 0 0 0 0]\n",
      "Q_values : [  2.7036037   1.7701021   3.932644  -10.645213 ]\n",
      "state : [0 0 0 0 0 0 0 0 0 0 0 0 0 0 0 0 0 6 0 0 0 0 0 4 0 0 0 0 0 0 0 0 0 0 0 0]\n",
      "Q_values : [  3.2031012   2.519139    4.7371936 -11.081907 ]\n",
      "state : [0 0 0 0 0 0 0 0 0 0 0 0 0 0 0 0 0 6 0 0 0 0 0 4 0 0 0 0 0 0 0 0 0 0 0 0]\n",
      "Q_values : [  3.186048   3.138948   5.221742 -11.475122]\n",
      "state : [0 0 0 0 0 0 0 0 0 0 0 0 0 0 0 0 0 6 0 0 0 0 0 4 0 0 0 0 0 0 0 0 0 0 0 0]\n",
      "Q_values : [  3.5669172   3.785983    5.771726  -11.829195 ]\n",
      "state : [0 0 0 0 0 0 0 0 0 0 0 0 0 0 0 0 0 6 0 0 0 0 0 4 0 0 0 0 0 0 0 0 0 0 0 0]\n",
      "Q_values : [  4.398875    5.139611    6.2669597 -11.678191 ]\n",
      "state : [0 0 0 0 0 0 0 0 0 0 0 0 0 0 0 0 0 6 0 0 0 0 0 4 0 0 0 0 0 0 0 0 0 0 0 0]\n",
      "Q_values : [  4.2577257   4.684759    6.7128925 -11.764842 ]\n",
      "Step #100.00 (0ms ?*RT. ?UPS, TraCI: 35ms, vehicles TOT 33 ACT 10 BUF 0)                   \n",
      "episode : 241\n",
      " Retrying in 1 seconds\n"
     ]
    },
    {
     "name": "stderr",
     "output_type": "stream",
     "text": [
      "Warning: Environment variable SUMO_HOME is not set properly, disabling XML validation. Set 'auto' or 'always' for web lookups.\n"
     ]
    },
    {
     "name": "stdout",
     "output_type": "stream",
     "text": [
      "state : [0 0 0 0 0 0 0 0 0 0 0 0 0 0 0 0 0 0 0 0 0 0 0 0 0 0 0 0 0 0 0 0 0 0 0 0]\n",
      "Q_values : [  4.7989907   4.1914606   5.7614207 -11.842867 ]\n",
      "state : [0 0 0 0 0 0 0 0 0 0 0 0 0 0 0 0 0 0 0 0 0 0 0 0 0 0 0 0 0 0 0 0 0 0 0 0]\n",
      "Q_values : [  4.2349644   3.6374822   5.25374   -11.913118 ]\n",
      "state : [0 0 0 0 0 0 0 0 0 0 0 0 0 0 0 0 0 0 0 0 0 0 0 0 0 0 0 0 0 0 0 0 0 0 0 0]\n",
      "Q_values : [  3.7090557   3.4753633   4.6687517 -11.976378 ]\n",
      "state : [0 0 0 0 0 0 0 0 0 0 0 0 0 0 0 0 0 0 0 0 0 0 0 0 0 0 0 0 0 0 0 0 0 0 0 0]\n",
      "Q_values : [  3.24964     3.7531826   4.0315533 -12.033348 ]\n",
      "state : [0 0 0 0 0 0 0 0 0 0 0 0 0 0 0 0 0 0 0 0 0 0 0 0 0 0 0 0 0 0 0 0 0 0 0 0]\n",
      "Q_values : [  2.821402    3.3304138   3.2625923 -12.084639 ]\n",
      "state : [0 0 0 0 0 0 0 0 0 0 0 0 0 1 0 0 1 0 0 0 0 0 0 0 0 0 0 0 0 0 0 0 0 0 0 0]\n",
      "Q_values : [  2.9262414   1.8861314   2.5538337 -12.130827 ]\n",
      "state : [0 0 0 0 0 0 0 0 0 0 0 0 0 0 0 0 1 1 0 0 0 0 0 0 0 0 0 0 0 0 0 0 0 0 0 0]\n",
      "Q_values : [  1.808196    2.0418794   1.9924281 -12.172411 ]\n",
      "state : [0 0 0 0 0 0 0 0 0 0 0 0 0 0 0 0 2 2 0 0 0 0 0 0 0 0 0 0 0 0 0 0 0 0 0 0]\n",
      "Q_values : [  1.3061289   1.6127367   1.3911624 -12.209858 ]\n",
      "state : [0 0 0 0 0 0 0 0 0 0 0 0 0 0 0 0 4 4 0 0 0 0 0 0 0 0 0 0 0 0 0 0 0 0 0 0]\n",
      "Q_values : [  1.9200307    1.370106    -0.17789316 -12.243577  ]\n",
      "state : [0 0 0 0 0 0 0 0 0 0 0 0 0 0 0 0 6 5 0 0 0 0 1 1 0 0 0 0 0 0 0 0 0 0 0 0]\n",
      "Q_values : [  1.8002225   1.5302944  -1.0818746 -12.273947 ]\n",
      "state : [0 0 0 0 0 0 0 0 0 0 0 0 0 0 0 0 6 6 0 0 0 0 2 1 0 0 0 0 0 0 0 0 0 0 0 0]\n",
      "Q_values : [  1.6750149   1.9991028  -1.6945734 -12.301286 ]\n",
      "state : [0 0 0 0 0 0 0 0 0 0 0 0 0 0 0 0 6 6 0 0 0 0 3 3 0 0 0 0 0 0 0 0 0 0 0 0]\n",
      "Q_values : [  2.557768    1.9591631  -2.3416584 -12.325905 ]\n",
      "state : [0 0 0 0 0 0 0 0 0 0 0 0 0 0 0 0 6 6 0 0 0 0 4 4 0 0 0 0 0 0 0 0 0 0 0 0]\n",
      "Q_values : [  2.900511    2.3985734  -2.9243224 -10.98634  ]\n",
      "state : [0 0 0 0 0 0 0 0 0 0 0 0 0 0 0 0 6 6 0 0 0 0 4 4 0 0 0 0 0 0 0 0 0 0 0 0]\n",
      "Q_values : [  1.8043501   2.521421   -3.448981  -10.425459 ]\n",
      "state : [0 0 0 0 0 0 0 0 0 0 0 0 0 0 0 0 6 6 0 0 0 0 4 4 0 0 0 0 0 0 0 0 0 0 0 0]\n",
      "Q_values : [ 2.0920734  3.332003  -3.6457038 -9.920415 ]\n",
      "state : [0 0 0 0 0 0 0 0 0 0 0 0 0 0 0 0 6 6 0 0 0 0 4 4 0 0 0 0 0 0 0 0 0 0 0 0]\n",
      "Q_values : [ 2.9784815  2.499363  -3.4129257 -9.465645 ]\n",
      "state : [0 0 0 0 0 0 0 0 0 0 0 0 0 0 0 0 6 6 0 0 0 0 4 4 0 0 0 0 0 0 0 0 0 0 0 0]\n",
      "Q_values : [ 2.9958105  2.5478501 -3.4594476 -9.056146 ]\n",
      "state : [0 0 0 0 0 0 0 0 0 0 0 0 0 0 0 0 6 6 0 0 0 0 4 4 0 0 0 0 0 0 0 0 0 0 0 0]\n",
      "Q_values : [ 2.7470737  2.006435  -3.5013392 -7.630464 ]\n",
      "state : [0 0 0 0 0 0 0 0 0 0 0 0 0 0 0 0 6 6 0 0 0 0 4 4 0 0 0 0 0 0 0 0 0 0 0 0]\n",
      "Q_values : [ 1.9923509  3.287056  -3.0424597 -6.8478656]\n",
      "state : [0 0 0 0 0 0 0 0 0 0 0 0 0 0 0 0 6 6 0 0 0 0 4 4 0 0 0 0 0 0 0 0 0 0 0 0]\n",
      "Q_values : [ 1.7909398  2.9745893 -2.387212  -6.1431756]\n",
      "Step #100.00 (0ms ?*RT. ?UPS, TraCI: 35ms, vehicles TOT 33 ACT 20 BUF 0)                   \n",
      "episode : 242\n",
      " Retrying in 1 seconds\n"
     ]
    },
    {
     "name": "stderr",
     "output_type": "stream",
     "text": [
      "Warning: Environment variable SUMO_HOME is not set properly, disabling XML validation. Set 'auto' or 'always' for web lookups.\n"
     ]
    },
    {
     "name": "stdout",
     "output_type": "stream",
     "text": [
      "state : [0 0 0 0 0 0 0 0 0 0 0 0 0 0 0 0 0 0 0 0 0 0 0 0 0 0 0 0 0 0 0 0 0 0 0 0]\n",
      "Q_values : [ 3.2066035  2.4066148 -2.0490515 -5.508644 ]\n",
      "state : [0 0 0 0 0 0 0 0 0 0 0 0 0 0 0 0 0 0 0 0 0 0 0 0 0 0 0 0 0 0 0 0 0 0 0 0]\n",
      "Q_values : [ 3.6339924  2.1646385 -1.7324271 -4.2240887]\n",
      "state : [0 0 0 0 0 0 0 0 0 0 0 0 0 0 0 0 0 0 0 0 0 0 0 0 0 0 0 0 0 0 0 0 0 0 0 0]\n",
      "Q_values : [ 3.3652513  2.1659975 -0.9833002 -3.4055808]\n",
      "state : [0 0 0 0 0 0 0 0 0 0 0 0 0 0 0 0 0 0 0 0 0 0 0 0 0 0 0 0 0 0 0 0 0 0 0 0]\n",
      "Q_values : [ 2.089427    2.2292943  -0.25666928 -2.6685545 ]\n",
      "state : [0 0 0 0 0 0 0 0 0 0 0 0 0 0 0 0 0 0 0 0 0 0 0 0 0 0 0 0 0 0 0 0 0 0 0 0]\n",
      "Q_values : [ 2.187024    2.3757358   0.26868486 -2.0049021 ]\n",
      "state : [0 0 0 0 0 0 0 0 0 0 0 0 0 1 0 0 1 0 0 0 0 0 0 0 0 0 0 0 0 0 0 0 0 0 0 0]\n",
      "Q_values : [ 2.204703    2.6187468   0.74174213 -1.40731   ]\n",
      "state : [0 0 0 0 0 0 0 0 0 0 0 0 0 1 0 0 1 1 0 0 0 0 0 0 0 0 0 0 0 0 0 0 0 0 0 0]\n",
      "Q_values : [ 2.3174856  2.1458006  1.4300776 -0.8692112]\n",
      "state : [0 0 0 0 0 0 0 0 0 0 0 0 0 0 0 0 2 2 0 0 0 0 0 0 0 0 0 0 0 0 0 0 0 0 0 0]\n",
      "Q_values : [ 2.5009627   2.3084671   1.8977869  -0.38467956]\n",
      "state : [0 0 0 0 0 0 0 0 0 0 0 0 0 0 0 0 4 4 0 0 0 0 0 0 0 0 0 0 0 0 0 0 0 0 0 0]\n",
      "Q_values : [2.438886   2.2996979  2.3320806  0.05161643]\n",
      "state : [0 0 0 0 0 0 0 0 0 0 0 0 0 0 0 0 6 5 0 0 0 0 1 1 0 0 0 0 0 0 0 0 0 0 0 0]\n",
      "Q_values : [2.096215  2.4388628 2.6092546 0.4444809]\n",
      "state : [0 0 0 0 0 0 0 0 0 0 0 0 0 0 0 0 0 6 0 0 0 0 0 1 0 0 0 0 0 0 0 0 0 0 0 0]\n",
      "Q_values : [1.206367  1.5656139 2.7792058 0.7982323]\n",
      "state : [0 0 0 0 0 0 0 0 0 0 0 0 0 0 0 0 0 6 0 0 0 0 0 3 0 0 0 0 0 0 0 0 0 0 0 0]\n",
      "Q_values : [3.1087186 2.1992998 2.710828  1.1167672]\n",
      "state : [0 0 0 0 0 0 0 0 0 0 0 0 0 0 0 0 0 6 0 0 0 0 0 4 0 0 0 0 0 0 0 0 0 0 0 0]\n",
      "Q_values : [3.4189835 2.2995045 1.6425138 1.4035954]\n",
      "state : [0 0 0 0 0 0 0 0 0 0 0 0 0 0 0 0 0 6 0 0 0 0 0 4 0 0 0 0 0 0 0 0 0 0 0 0]\n",
      "Q_values : [3.1583738 2.8413062 1.2215542 1.6618729]\n",
      "state : [0 0 0 0 0 0 0 0 0 0 0 0 0 0 0 0 0 6 0 0 0 0 0 4 0 0 0 0 0 0 0 0 0 0 0 0]\n",
      "Q_values : [3.0007806  3.033804   0.98156095 0.8772514 ]\n",
      "state : [0 0 0 0 0 0 0 0 0 0 0 0 0 0 0 0 0 6 0 0 0 0 0 4 0 0 0 0 0 0 0 0 0 0 0 0]\n",
      "Q_values : [2.0692904 2.2169147 0.6995616 0.6526613]\n",
      "state : [0 0 0 0 0 0 0 0 0 0 0 0 0 0 0 0 0 6 0 0 0 0 0 4 0 0 0 0 0 0 0 0 0 0 0 0]\n",
      "Q_values : [ 2.2575116   1.0978519   0.5294771  -0.51172924]\n",
      "state : [0 0 0 0 0 0 0 0 0 0 0 0 0 0 0 0 0 6 0 0 0 0 0 4 0 0 0 0 0 0 0 0 0 0 0 0]\n",
      "Q_values : [ 2.1210725   1.6181109   0.33659196 -1.1041057 ]\n",
      "state : [0 0 0 0 0 0 0 0 0 0 0 0 0 0 0 0 0 6 0 0 0 0 0 4 0 0 0 0 0 0 0 0 0 0 0 0]\n",
      "Q_values : [ 1.5208759   1.6685113   0.23720264 -1.6375141 ]\n",
      "state : [0 0 0 0 0 0 0 0 0 0 0 0 0 0 0 0 0 6 0 0 0 0 0 4 0 0 0 0 0 0 0 0 0 0 0 0]\n",
      "Q_values : [ 2.3301868  1.2874595  0.112499  -2.1178133]\n",
      "Step #100.00 (0ms ?*RT. ?UPS, TraCI: 33ms, vehicles TOT 33 ACT 10 BUF 0)                   \n",
      "episode : 243\n",
      " Retrying in 1 seconds\n"
     ]
    },
    {
     "name": "stderr",
     "output_type": "stream",
     "text": [
      "Warning: Environment variable SUMO_HOME is not set properly, disabling XML validation. Set 'auto' or 'always' for web lookups.\n"
     ]
    },
    {
     "name": "stdout",
     "output_type": "stream",
     "text": [
      "state : [0 0 0 0 0 0 0 0 0 0 0 0 0 0 0 0 0 0 0 0 0 0 0 0 0 0 0 0 0 0 0 0 0 0 0 0]\n",
      "Q_values : [ 2.7800958  1.4861593  0.1083374 -2.5503042]\n",
      "state : [0 0 0 0 0 0 0 0 0 0 0 0 0 0 0 0 0 0 0 0 0 0 0 0 0 0 0 0 0 0 0 0 0 0 0 0]\n",
      "Q_values : [ 2.2257152   1.8497031   0.05334926 -3.5518215 ]\n",
      "state : [0 0 0 0 0 0 0 0 0 0 0 0 0 0 0 0 0 0 0 0 0 0 0 0 0 0 0 0 0 0 0 0 0 0 0 0]\n",
      "Q_values : [ 2.2971532e+00  2.5669971e+00  3.8321018e-03 -4.1634731e+00]\n",
      "state : [0 0 0 0 0 0 0 0 0 0 0 0 0 0 0 0 0 0 0 0 0 0 0 0 0 0 0 0 0 0 0 0 0 0 0 0]\n",
      "Q_values : [ 2.4028563   2.701721   -0.04075408 -4.7142334 ]\n",
      "state : [0 0 0 0 0 0 0 0 0 0 0 0 0 0 0 0 0 0 0 0 0 0 0 0 0 0 0 0 0 0 0 0 0 0 0 0]\n",
      "Q_values : [ 2.5192885   2.1289148   0.26815486 -3.984089  ]\n",
      "state : [0 0 0 0 0 0 0 0 0 0 0 0 0 0 1 0 1 0 0 0 0 0 0 0 0 0 0 0 0 0 0 0 0 0 0 0]         \n",
      "Q_values : [ 2.0548933   2.4534302   0.38089252 -4.1857452 ]\n"
     ]
    },
    {
     "name": "stderr",
     "output_type": "stream",
     "text": [
      "Warning: Vehicle 'veh_2' performs emergency stop at the end of lane 'end1_junction_2' because of a red traffic light (decel=-20.39, offset=0.10), time=21.24.\n"
     ]
    },
    {
     "name": "stdout",
     "output_type": "stream",
     "text": [
      "state : [0 0 0 0 0 0 0 0 0 0 0 0 0 0 0 0 1 1 0 0 0 0 0 0 0 0 0 0 0 0 0 0 0 0 0 0]\n",
      "Q_values : [ 2.571682    2.050056    0.56953907 -4.235341  ]\n",
      "state : [0 0 0 0 0 0 0 0 0 0 0 0 0 0 0 0 2 2 0 0 0 0 0 0 0 0 0 0 0 0 0 0 0 0 0 0]\n",
      "Q_values : [ 2.0917354   2.871553    0.77193666 -4.279999  ]\n",
      "state : [0 0 0 0 0 0 0 0 0 0 0 0 0 0 0 0 4 4 0 0 0 0 0 0 0 0 0 0 0 0 0 0 0 0 0 0]\n",
      "Q_values : [ 2.3936005  2.7256525  1.1938531 -4.3202143]\n",
      "state : [0 0 0 0 0 0 0 0 0 0 0 0 0 0 0 0 6 5 0 0 0 0 1 1 0 0 0 0 0 0 0 0 0 0 0 0]\n",
      "Q_values : [ 1.4975165  3.0037827  1.4435948 -4.356426 ]\n",
      "state : [0 0 0 0 0 0 0 0 0 0 0 0 0 0 0 0 6 6 0 0 0 0 2 1 0 0 0 0 0 0 0 0 0 0 0 0]\n",
      "Q_values : [ 1.7911541  3.4441242  1.6744952 -4.3890305]\n",
      "state : [0 0 0 0 0 0 0 0 0 0 0 0 0 0 0 0 6 6 0 0 0 0 3 3 0 0 0 0 0 0 0 0 0 0 0 0]\n",
      "Q_values : [ 3.3769727  3.4473686  1.8795556 -4.4183903]\n",
      "state : [0 0 0 0 0 0 0 0 0 0 0 0 0 0 0 0 6 6 0 0 0 0 4 4 0 0 0 0 0 0 0 0 0 0 0 0]\n",
      "Q_values : [ 3.033966   3.4502027  2.064204  -4.444829 ]\n",
      "state : [0 0 0 0 0 0 0 0 0 0 0 0 0 0 0 0 6 6 0 0 0 0 4 4 0 0 0 0 0 0 0 0 0 0 0 0]\n",
      "Q_values : [ 3.4158063  2.7555082  2.125313  -4.4686337]\n",
      "state : [0 0 0 0 0 0 0 0 0 0 0 0 0 0 0 0 6 6 0 0 0 0 4 4 0 0 0 0 0 0 0 0 0 0 0 0]\n",
      "Q_values : [ 3.1950204  1.6951475  2.230173  -4.4900684]\n",
      "state : [0 0 0 0 0 0 0 0 0 0 0 0 0 0 0 0 6 6 0 0 0 0 4 4 0 0 0 0 0 0 0 0 0 0 0 0]\n",
      "Q_values : [ 2.7486382  1.6548232  2.3245945 -4.509371 ]\n",
      "state : [0 0 0 0 0 0 0 0 0 0 0 0 0 0 0 0 6 6 0 0 0 0 4 4 0 0 0 0 0 0 0 0 0 0 0 0]\n",
      "Q_values : [ 2.31939    2.0114985  2.3163881 -4.5267496]\n",
      "state : [0 0 0 0 0 0 0 0 0 0 0 0 0 0 0 0 6 6 0 0 0 0 4 4 0 0 0 0 0 0 0 0 0 0 0 0]\n",
      "Q_values : [ 2.4606476  2.0738978  2.3531816 -4.542402 ]\n",
      "state : [0 0 0 0 0 0 0 0 0 0 0 0 0 0 0 0 6 6 0 0 0 0 4 4 0 0 0 0 0 0 0 0 0 0 0 0]\n",
      "Q_values : [ 1.8851445  2.2545376  2.4772048 -4.5564947]\n",
      "state : [0 0 0 0 0 0 0 0 0 0 0 0 0 0 0 0 0 6 0 0 0 0 0 4 0 0 0 0 0 0 0 0 0 0 0 0]\n",
      "Q_values : [ 2.2446473  2.472721   1.3825223 -4.5691853]\n",
      "Step #95.00 (0ms ?*RT. ?UPS, TraCI: 60ms, vehicles TOT 33 ACT 20 BUF 0)                   \r"
     ]
    },
    {
     "name": "stderr",
     "output_type": "stream",
     "text": [
      "Warning: Vehicle 'veh_16' performs emergency stop at the end of lane 'end2_junction_1' because of a red traffic light (decel=-10.35, offset=0.00), time=95.84.\n",
      "Warning: Environment variable SUMO_HOME is not set properly, disabling XML validation. Set 'auto' or 'always' for web lookups.\n"
     ]
    },
    {
     "name": "stdout",
     "output_type": "stream",
     "text": [
      "Step #100.00 (0ms ?*RT. ?UPS, TraCI: 34ms, vehicles TOT 33 ACT 20 BUF 0)                   \n",
      "episode : 244\n",
      " Retrying in 1 seconds\n",
      "state : [0 0 0 0 0 0 0 0 0 0 0 0 0 0 0 0 0 0 0 0 0 0 0 0 0 0 0 0 0 0 0 0 0 0 0 0]\n",
      "Q_values : [ 2.3983862   2.8221006   0.93293047 -4.5806103 ]\n",
      "state : [0 0 0 0 0 0 0 0 0 0 0 0 0 0 0 0 0 0 0 0 0 0 0 0 0 0 0 0 0 0 0 0 0 0 0 0]\n",
      "Q_values : [ 2.2084825   2.5926642   0.53526783 -4.9990625 ]\n",
      "state : [0 0 0 0 0 0 0 0 0 0 0 0 0 0 0 0 0 0 0 0 0 0 0 0 0 0 0 0 0 0 0 0 0 0 0 0]\n",
      "Q_values : [ 1.9011854  2.1795022  0.2560811 -5.182423 ]\n",
      "state : [0 0 0 0 0 0 0 0 0 0 0 0 0 0 0 0 0 0 0 0 0 0 0 0 0 0 0 0 0 0 0 0 0 0 0 0]\n",
      "Q_values : [ 2.1775844   1.4652672  -0.03269935 -5.3475256 ]\n",
      "state : [0 0 0 0 0 0 0 0 0 0 0 0 0 0 0 0 0 0 0 0 0 0 0 0 0 0 0 0 0 0 0 0 0 0 0 0]\n",
      "Q_values : [ 2.0760217   1.7475877  -0.06000972 -5.496193  ]\n",
      "state : [0 0 0 0 0 0 0 0 0 0 0 0 0 0 1 0 1 0 0 0 0 0 0 0 0 0 0 0 0 0 0 0 0 0 0 0]\n",
      "Q_values : [ 2.444281    1.9915074  -0.19488144 -5.630062  ]\n",
      "state : [0 0 0 0 0 0 0 0 0 0 0 0 0 0 1 0 1 1 0 0 0 0 0 0 0 0 0 0 0 0 0 0 0 0 0 0]\n",
      "Q_values : [ 2.3613057  2.1773212 -2.091401  -5.7506046]\n",
      "state : [0 0 0 0 0 0 0 0 0 0 0 0 0 0 1 0 2 2 0 0 0 0 0 0 0 0 0 0 0 0 0 0 0 0 0 0]\n",
      "Q_values : [ 2.7016728  2.0046573 -2.1768668 -5.8591433]\n",
      "state : [0 0 0 0 0 0 0 0 0 0 0 0 0 0 1 0 4 4 0 0 0 0 0 0 0 0 0 0 0 0 0 0 0 0 0 0]\n",
      "Q_values : [ 2.5762405  2.0187988 -1.7904744 -5.956881 ]\n",
      "state : [0 0 0 0 0 0 0 0 0 0 0 0 0 0 1 0 6 5 0 0 0 0 1 1 0 0 0 0 0 0 0 0 0 0 0 0]\n",
      "Q_values : [ 1.8623749  1.8394747 -1.8371673 -6.044886 ]\n",
      "state : [0 0 0 0 0 0 0 0 0 0 0 0 0 0 1 0 6 6 0 0 0 0 2 1 0 0 0 0 0 0 0 0 0 0 0 0]\n",
      "Q_values : [ 1.6474043  1.5638291 -1.3065467 -6.124133 ]\n",
      "state : [0 0 0 0 0 0 0 0 0 0 0 0 0 0 1 0 6 6 0 0 0 0 3 3 0 0 0 0 0 0 0 0 0 0 0 0]\n",
      "Q_values : [ 2.0928628  1.4207981 -1.6938837 -6.1954865]\n",
      "state : [0 0 0 0 0 0 0 0 0 0 0 0 0 0 1 0 6 6 0 0 0 0 4 4 0 0 0 0 0 0 0 0 0 0 0 0]\n",
      "Q_values : [ 2.2766168  2.4149876 -1.761318  -6.259741 ]\n",
      "state : [0 0 0 0 0 0 0 0 0 0 0 0 0 0 0 0 6 6 0 0 0 0 4 4 0 0 0 0 0 0 0 0 0 0 0 0]\n",
      "Q_values : [ 2.7627509  2.8524742 -1.5146883 -6.3175974]\n",
      "state : [0 0 0 0 0 0 0 0 0 0 0 0 0 0 0 0 6 6 0 0 0 0 4 4 0 0 0 0 0 0 0 0 0 0 0 0]\n",
      "Q_values : [ 2.4500113  1.9870898 -1.0301833 -6.3696938]\n",
      "state : [0 0 0 0 0 0 0 0 0 0 0 0 0 0 0 0 6 6 0 0 0 0 4 4 0 0 0 0 0 0 0 0 0 0 0 0]\n",
      "Q_values : [ 2.5894012  2.2437253 -1.1752765 -6.416607 ]\n",
      "state : [0 0 0 0 0 0 0 0 0 0 0 0 0 0 0 0 6 6 0 0 0 0 4 4 0 0 0 0 0 0 0 0 0 0 0 0]\n",
      "Q_values : [ 1.7860706  2.015757  -0.6103072 -6.458847 ]\n",
      "state : [0 0 0 0 0 0 0 0 0 0 0 0 0 0 0 0 6 6 0 0 0 0 4 4 0 0 0 0 0 0 0 0 0 0 0 0]\n",
      "Q_values : [ 2.5803099   2.280579   -0.17641544 -6.496882  ]\n",
      "state : [0 0 0 0 0 0 0 0 0 0 0 0 0 0 0 0 6 6 0 0 0 0 4 4 0 0 0 0 0 0 0 0 0 0 0 0]\n",
      "Q_values : [ 1.3782808   2.3598142   0.13479352 -6.5311327 ]\n",
      "state : [0 0 0 0 0 0 0 0 0 0 0 0 0 0 0 0 6 6 0 0 0 0 4 4 0 0 0 0 0 0 0 0 0 0 0 0]\n",
      "Q_values : [ 0.8565107  1.3784814  0.5234523 -6.56197  ]\n",
      "Step #100.00 (0ms ?*RT. ?UPS, TraCI: 35ms, vehicles TOT 33 ACT 20 BUF 0)                   \n",
      "episode : 245\n",
      " Retrying in 1 seconds\n"
     ]
    },
    {
     "name": "stderr",
     "output_type": "stream",
     "text": [
      "Warning: Environment variable SUMO_HOME is not set properly, disabling XML validation. Set 'auto' or 'always' for web lookups.\n"
     ]
    },
    {
     "name": "stdout",
     "output_type": "stream",
     "text": [
      "state : [0 0 0 0 0 0 0 0 0 0 0 0 0 0 0 0 0 0 0 0 0 0 0 0 0 0 0 0 0 0 0 0 0 0 0 0]\n",
      "Q_values : [ 1.8922216  1.8846263  0.8220289 -6.5897446]\n",
      "state : [0 0 0 0 0 0 0 0 0 0 0 0 0 0 0 0 0 0 0 0 0 0 0 0 0 0 0 0 0 0 0 0 0 0 0 0]\n",
      "Q_values : [ 2.5510778  1.6936156  1.10377   -6.61475  ]\n",
      "state : [0 0 0 0 0 0 0 0 0 0 0 0 0 0 0 0 0 0 0 0 0 0 0 0 0 0 0 0 0 0 0 0 0 0 0 0]\n",
      "Q_values : [ 2.3408036  1.9477563  1.3692055 -6.637266 ]\n",
      "state : [0 0 0 0 0 0 0 0 0 0 0 0 0 0 0 0 0 0 0 0 0 0 0 0 0 0 0 0 0 0 0 0 0 0 0 0]\n",
      "Q_values : [ 1.8537922  1.8637311  1.5790908 -5.8543386]\n",
      "state : [0 0 0 0 0 0 0 0 0 0 0 0 0 0 0 0 0 0 0 0 0 0 0 0 0 0 0 0 0 0 0 0 0 0 0 0]\n",
      "Q_values : [ 2.836584    0.92569685  1.6432365  -5.529997  ]\n",
      "state : [0 0 0 0 0 0 0 0 0 0 0 0 0 0 1 0 1 0 0 0 0 0 0 0 0 0 0 0 0 0 0 0 0 0 0 0]F 0)     \n",
      "Q_values : [ 3.2426136   2.2593431   0.70212317 -5.237944  ]\n"
     ]
    },
    {
     "name": "stderr",
     "output_type": "stream",
     "text": [
      "Warning: Vehicle 'veh_2' performs emergency stop at the end of lane 'end1_junction_2' because of a red traffic light (decel=-20.39, offset=0.10), time=21.24.\n"
     ]
    },
    {
     "name": "stdout",
     "output_type": "stream",
     "text": [
      "state : [0 0 0 0 0 0 0 0 0 0 0 0 0 0 1 0 1 1 0 0 0 0 0 0 0 0 0 0 0 0 0 0 0 0 0 0]\n",
      "Q_values : [ 3.165227    2.4468246   0.45380473 -4.9749656 ]\n",
      "state : [0 0 0 0 0 0 0 0 0 0 0 0 0 0 1 0 2 2 0 0 0 0 0 0 0 0 0 0 0 0 0 0 0 0 0 0]\n",
      "Q_values : [ 2.4977093  2.4391222  0.5103576 -4.738165 ]\n",
      "state : [0 0 0 0 0 0 0 0 0 0 0 0 0 0 1 0 4 4 0 0 0 0 0 0 0 0 0 0 0 0 0 0 0 0 0 0]\n",
      "Q_values : [ 1.9002763  2.1516476  0.4070642 -4.524935 ]\n",
      "state : [0 0 0 0 0 0 0 0 0 0 0 0 0 0 0 0 6 5 0 0 0 0 1 1 0 0 0 0 0 0 0 0 0 0 0 0]\n",
      "Q_values : [ 2.2579489  1.5459524  0.591872  -4.3329344]\n",
      "state : [0 0 0 0 0 0 0 0 0 0 0 0 0 0 0 0 0 6 0 0 0 0 0 3 0 0 0 0 0 0 0 0 0 0 0 0]\n",
      "Q_values : [ 3.0446377  1.7872051 -0.5375726 -5.1300716]\n",
      "state : [0 0 0 0 0 0 0 0 0 0 0 0 0 0 0 0 2 6 0 0 0 0 0 4 0 0 0 0 0 0 0 0 0 0 0 0]         \n",
      "Q_values : [ 3.21949    2.8742876 -0.5964279 -5.364936 ]\n"
     ]
    },
    {
     "name": "stderr",
     "output_type": "stream",
     "text": [
      "Warning: Vehicle 'veh_16' performs emergency stop at the end of lane 'end2_junction_1' because of a red traffic light (decel=-10.17, offset=0.00), time=55.86.\n"
     ]
    },
    {
     "name": "stdout",
     "output_type": "stream",
     "text": [
      "state : [0 0 0 0 0 0 0 0 0 0 0 0 0 0 0 0 2 6 0 0 0 0 0 4 0 0 0 0 0 0 0 0 0 0 0 0]\n",
      "Q_values : [ 2.814355   3.1243384 -0.7510798 -5.576421 ]\n",
      "state : [0 0 0 0 0 0 0 0 0 0 0 0 0 0 0 0 2 6 0 0 0 0 0 4 0 0 0 0 0 0 0 0 0 0 0 0]\n",
      "Q_values : [ 2.4103742  2.6357143 -1.6907847 -5.7668524]\n",
      "state : [0 0 0 0 0 0 0 0 0 0 0 0 0 0 0 0 2 6 0 0 0 0 0 4 0 0 0 0 0 0 0 0 0 0 0 0]\n",
      "Q_values : [ 1.9192891  1.87296   -2.15754   -5.9383273]\n",
      "state : [0 0 0 0 0 0 0 0 0 0 0 0 0 0 0 0 2 6 0 0 0 0 0 4 0 0 0 0 0 0 0 0 0 0 0 0]\n",
      "Q_values : [ 1.80936    1.7597347 -2.2528398 -6.0927315]\n",
      "state : [0 0 0 0 0 0 0 0 0 0 0 0 0 0 0 0 2 6 0 0 0 0 0 4 0 0 0 0 0 0 0 0 0 0 0 0]\n",
      "Q_values : [ 1.5876367  1.9303834 -2.4926457 -6.231763 ]\n",
      "state : [0 0 0 0 0 0 0 0 0 0 0 0 0 0 0 0 2 6 0 0 0 0 0 4 0 0 0 0 0 0 0 0 0 0 0 0]\n",
      "Q_values : [ 1.8962238  1.9288946 -2.7085774 -6.3569584]\n",
      "state : [0 0 0 0 0 0 0 0 0 0 0 0 0 0 0 0 2 6 0 0 0 0 0 4 0 0 0 0 0 0 0 0 0 0 0 0]\n",
      "Q_values : [ 2.0700836  1.7403483 -3.4227583 -6.469688 ]\n",
      "Step #100.00 (0ms ?*RT. ?UPS, TraCI: 33ms, vehicles TOT 33 ACT 12 BUF 0)                   \n",
      "episode : 246\n",
      " Retrying in 1 seconds\n"
     ]
    },
    {
     "name": "stderr",
     "output_type": "stream",
     "text": [
      "Warning: Environment variable SUMO_HOME is not set properly, disabling XML validation. Set 'auto' or 'always' for web lookups.\n"
     ]
    },
    {
     "name": "stdout",
     "output_type": "stream",
     "text": [
      "state : [0 0 0 0 0 0 0 0 0 0 0 0 0 0 0 0 0 0 0 0 0 0 0 0 0 0 0 0 0 0 0 0 0 0 0 0]\n",
      "Q_values : [ 2.9021368  1.7861302 -3.1453822 -6.5711966]\n",
      "state : [0 0 0 0 0 0 0 0 0 0 0 0 0 0 0 0 0 0 0 0 0 0 0 0 0 0 0 0 0 0 0 0 0 0 0 0]\n",
      "Q_values : [ 2.370049   2.7552352 -2.735217  -6.6625986]\n",
      "state : [0 0 0 0 0 0 0 0 0 0 0 0 0 0 0 0 0 0 0 0 0 0 0 0 0 0 0 0 0 0 0 0 0 0 0 0]\n",
      "Q_values : [ 2.1984353  2.6014066 -2.0595832 -6.94831  ]\n",
      "state : [0 0 0 0 0 0 0 0 0 0 0 0 0 0 0 0 0 0 0 0 0 0 0 0 0 0 0 0 0 0 0 0 0 0 0 0]\n",
      "Q_values : [ 2.196274   2.435542  -1.7041478 -7.1091743]\n",
      "state : [0 0 0 0 0 0 0 0 0 0 0 0 0 0 0 0 0 0 0 0 0 0 0 0 0 0 0 0 0 0 0 0 0 0 0 0]\n",
      "Q_values : [ 2.6139898  2.3543918 -1.3840935 -7.254025 ]\n",
      "state : [0 0 0 0 0 0 0 0 0 0 0 0 0 0 1 0 1 0 0 0 0 0 0 0 0 0 0 0 0 0 0 0 0 0 0 0]         \n",
      "Q_values : [ 2.285316   2.3423104 -1.0959005 -7.3844585]\n"
     ]
    },
    {
     "name": "stderr",
     "output_type": "stream",
     "text": [
      "Warning: Vehicle 'veh_2' performs emergency stop at the end of lane 'end1_junction_2' because of a red traffic light (decel=-20.39, offset=0.10), time=21.24.\n"
     ]
    },
    {
     "name": "stdout",
     "output_type": "stream",
     "text": [
      "state : [0 0 0 0 0 0 0 0 0 0 0 0 0 0 0 0 1 1 0 0 0 0 0 0 0 0 0 0 0 0 0 0 0 0 0 0]\n",
      "Q_values : [ 1.449965   2.0461786 -0.8363993 -7.501904 ]\n",
      "state : [0 0 0 0 0 0 0 0 0 0 0 0 0 0 0 0 2 2 0 0 0 0 0 0 0 0 0 0 0 0 0 0 0 0 0 0]\n",
      "Q_values : [ 1.9788525  1.5954493 -0.6027303 -7.6076584]\n",
      "state : [0 0 0 0 0 0 0 0 0 0 0 0 0 0 0 0 4 4 0 0 0 0 0 0 0 0 0 0 0 0 0 0 0 0 0 0]\n",
      "Q_values : [ 1.7487192   1.8410667  -0.39232206 -7.8489323 ]\n",
      "state : [0 0 0 0 0 0 0 0 0 0 0 0 0 0 0 0 6 5 0 0 0 0 1 1 0 0 0 0 0 0 0 0 0 0 0 0]\n",
      "Q_values : [ 2.0449133   1.747607    0.03938627 -7.9969673 ]\n",
      "state : [0 0 0 0 0 0 0 0 0 0 0 0 0 0 0 0 6 6 0 0 0 0 2 1 0 0 0 0 0 0 0 0 0 0 0 0]\n",
      "Q_values : [ 2.334846   2.10734    0.3133049 -8.13027  ]\n",
      "state : [0 0 0 0 0 0 0 0 0 0 0 0 0 0 0 0 6 6 0 0 0 0 3 3 0 0 0 0 0 0 0 0 0 0 0 0]\n",
      "Q_values : [ 2.2866573  2.0296478  0.649508  -8.250301 ]\n",
      "state : [0 0 0 0 0 0 0 0 0 0 0 0 0 0 0 0 6 6 0 0 0 0 4 4 0 0 0 0 0 0 0 0 0 0 0 0]\n",
      "Q_values : [ 1.978102   2.0369368  1.0664918 -8.421633 ]\n",
      "state : [0 0 0 0 0 0 0 0 0 0 0 0 0 0 0 0 6 6 0 0 0 0 4 4 0 0 0 0 0 0 0 0 0 0 0 0]\n",
      "Q_values : [ 2.1963    2.174015  1.367701 -8.545934]\n",
      "state : [0 0 0 0 0 0 0 0 0 0 0 0 0 0 0 0 6 6 0 0 0 0 4 4 0 0 0 0 0 0 0 0 0 0 0 0]\n",
      "Q_values : [ 2.0708842  2.432725   1.6389257 -8.65786  ]\n",
      "state : [0 0 0 0 0 0 0 0 0 0 0 0 0 0 0 0 6 6 0 0 0 0 4 4 0 0 0 0 0 0 0 0 0 0 0 0]\n",
      "Q_values : [ 2.2649703  2.775704   1.8387552 -7.728382 ]\n",
      "state : [0 0 0 0 0 0 0 0 0 0 0 0 0 0 0 0 6 6 0 0 0 0 4 4 0 0 0 0 0 0 0 0 0 0 0 0]\n",
      "Q_values : [ 2.4461594  2.406186   2.0397332 -7.47188  ]\n",
      "state : [0 0 0 0 0 0 0 0 0 0 0 0 0 0 0 0 6 6 0 0 0 0 4 4 0 0 0 0 0 0 0 0 0 0 0 0]\n",
      "Q_values : [ 3.4807086  1.4460459  2.2207007 -6.290435 ]\n",
      "state : [0 0 0 0 0 0 0 0 0 0 0 0 0 0 0 0 6 6 0 0 0 0 4 4 0 0 0 0 0 0 0 0 0 0 0 0]\n",
      "Q_values : [ 3.4669497  1.9588574  2.383655  -5.656472 ]\n",
      "state : [0 0 0 0 0 0 0 0 0 0 0 0 0 0 0 0 6 6 0 0 0 0 4 4 0 0 0 0 0 0 0 0 0 0 0 0]\n",
      "Q_values : [ 2.6636896  2.5269399  2.5303874 -5.085622 ]\n",
      "Step #100.00 (0ms ?*RT. ?UPS, TraCI: 39ms, vehicles TOT 33 ACT 20 BUF 0)                   \n",
      "episode : 247\n",
      " Retrying in 1 seconds\n"
     ]
    },
    {
     "name": "stderr",
     "output_type": "stream",
     "text": [
      "Warning: Environment variable SUMO_HOME is not set properly, disabling XML validation. Set 'auto' or 'always' for web lookups.\n"
     ]
    },
    {
     "name": "stdout",
     "output_type": "stream",
     "text": [
      "state : [0 0 0 0 0 0 0 0 0 0 0 0 0 0 0 0 0 0 0 0 0 0 0 0 0 0 0 0 0 0 0 0 0 0 0 0]\n",
      "Q_values : [ 1.5291102  3.3053164  2.6625113 -3.9018111]\n",
      "state : [0 0 0 0 0 0 0 0 0 0 0 0 0 0 0 0 0 0 0 0 0 0 0 0 0 0 0 0 0 0 0 0 0 0 0 0]\n",
      "Q_values : [ 3.419117   2.6033113  2.7814834 -3.153415 ]\n",
      "state : [0 0 0 0 0 0 0 0 0 0 0 0 0 0 0 0 0 0 0 0 0 0 0 0 0 0 0 0 0 0 0 0 0 0 0 0]\n",
      "Q_values : [ 2.7607756  2.625033   2.8886118 -2.479518 ]\n",
      "state : [0 0 0 0 0 0 0 0 0 0 0 0 0 0 0 0 0 0 0 0 0 0 0 0 0 0 0 0 0 0 0 0 0 0 0 0]\n",
      "Q_values : [ 2.6315188  2.4815636  2.8327336 -1.8727093]\n",
      "state : [0 0 0 0 0 0 0 0 0 0 0 0 0 0 0 0 0 0 0 0 0 0 0 0 0 0 0 0 0 0 0 0 0 0 0 0]\n",
      "Q_values : [ 2.4442096  2.2704363  2.7667422 -1.326309 ]\n",
      "state : [0 0 0 0 0 0 0 0 0 0 0 0 0 1 1 0 0 0 0 0 0 0 0 0 0 0 0 0 0 0 0 0 0 0 0 0]\n",
      "Q_values : [ 1.9795921  2.8352826  2.8140655 -1.313793 ]\n",
      "state : [0 0 0 0 0 0 0 0 0 0 0 0 0 1 0 0 1 1 0 0 0 0 0 0 0 0 0 0 0 0 0 0 0 0 0 0]\n",
      "Q_values : [ 2.355811   2.6625574  2.8258271 -1.0753498]\n",
      "state : [0 0 0 0 0 0 0 0 0 0 0 0 0 1 0 0 0 2 0 0 0 0 0 0 0 0 0 0 0 0 0 0 0 0 0 0]\n",
      "Q_values : [ 1.9748325  2.291672   2.7927785 -0.8606436]\n",
      "state : [0 0 0 0 0 0 0 0 0 0 0 0 0 1 0 0 0 4 0 0 0 0 0 0 0 0 0 0 0 0 0 0 0 0 0 0]\n",
      "Q_values : [ 2.8140156  2.6421633  2.783699  -0.6673119]\n",
      "Step #40.00 (0ms ?*RT. ?UPS, TraCI: 56ms, vehicles TOT 33 ACT 31 BUF 0)                   \r"
     ]
    },
    {
     "name": "stderr",
     "output_type": "stream",
     "text": [
      "Warning: Vehicle 'veh_19' performs emergency stop at the end of lane 'end2_junction_1' because of a red traffic light (decel=-24.43, offset=0.03), time=40.21.\n",
      "Warning: Vehicle 'veh_22' performs emergency stop at the end of lane 'end4_junction_1' because of a red traffic light (decel=-42.49, offset=0.27), time=40.34.\n"
     ]
    },
    {
     "name": "stdout",
     "output_type": "stream",
     "text": [
      "state : [0 0 0 0 0 0 0 0 0 0 0 0 0 0 0 0 1 5 0 0 0 0 1 1 0 0 0 0 0 0 0 0 0 0 0 0]\n",
      "Q_values : [ 3.109989    2.6078339   2.7755256  -0.49322653]\n",
      "state : [0 0 0 0 0 0 0 0 0 0 0 0 0 0 0 0 1 6 0 0 0 0 2 1 0 0 0 0 0 0 0 0 0 0 0 0]\n",
      "Q_values : [ 2.495144    1.7684361   2.7681649  -0.33647013]\n",
      "state : [0 0 0 0 0 0 0 0 0 0 0 0 0 0 0 0 0 6 0 0 0 0 0 3 0 0 0 0 0 0 0 0 0 0 0 0]\n",
      "Q_values : [ 3.1661086   2.6784768   2.6801946  -0.01474357]\n",
      "state : [0 0 0 0 0 0 0 0 0 0 0 0 0 0 0 0 0 6 0 0 0 0 0 4 0 0 0 0 0 0 0 0 0 0 0 0]\n",
      "Q_values : [2.6461403 3.1765015 2.6292372 0.1893754]\n",
      "state : [0 0 0 0 0 0 0 0 0 0 0 0 0 0 0 0 0 6 0 0 0 0 0 4 0 0 0 0 0 0 0 0 0 0 0 0]\n",
      "Q_values : [2.6008477  2.645214   2.2615926  0.37317443]\n",
      "state : [0 0 0 0 0 0 0 0 0 0 0 0 0 0 0 0 0 6 0 0 0 0 0 4 0 0 0 0 0 0 0 0 0 0 0 0]\n",
      "Q_values : [2.553114  2.8259025 1.2508723 0.5386739]\n",
      "state : [0 0 0 0 0 0 0 0 0 0 0 0 0 0 0 0 0 6 0 0 0 0 0 4 0 0 0 0 0 0 0 0 0 0 0 0]\n",
      "Q_values : [3.0852165  2.994123   0.7363217  0.68769765]\n",
      "state : [0 0 0 0 0 0 0 0 0 0 0 0 0 0 0 0 0 6 0 0 0 0 0 4 0 0 0 0 0 0 0 0 0 0 0 0]\n",
      "Q_values : [ 2.9749913   2.5296173  -0.31842422  0.8218894 ]\n",
      "state : [0 0 0 0 0 0 0 0 0 0 0 0 0 0 0 0 0 6 0 0 0 0 0 4 0 0 0 0 0 0 0 0 0 0 0 0]\n",
      "Q_values : [ 2.2975092   3.2136762  -0.79623413  0.9427221 ]\n",
      "state : [0 0 0 0 0 0 0 0 0 0 0 0 0 0 0 0 0 6 0 0 0 0 0 4 0 0 0 0 0 0 0 0 0 0 0 0]\n",
      "Q_values : [ 2.06635    2.7260087 -1.3172469  1.0515261]\n",
      "state : [0 0 0 0 0 0 0 0 0 0 0 0 0 0 0 0 0 6 0 0 0 0 0 4 0 0 0 0 0 0 0 0 0 0 0 0]\n",
      "Q_values : [ 2.7637703  1.44967   -2.1386774  1.1494968]\n",
      "Step #100.00 (0ms ?*RT. ?UPS, TraCI: 33ms, vehicles TOT 33 ACT 10 BUF 0)                   \n",
      "episode : 248\n",
      " Retrying in 1 seconds\n"
     ]
    },
    {
     "name": "stderr",
     "output_type": "stream",
     "text": [
      "Warning: Environment variable SUMO_HOME is not set properly, disabling XML validation. Set 'auto' or 'always' for web lookups.\n"
     ]
    },
    {
     "name": "stdout",
     "output_type": "stream",
     "text": [
      "state : [0 0 0 0 0 0 0 0 0 0 0 0 0 0 0 0 0 0 0 0 0 0 0 0 0 0 0 0 0 0 0 0 0 0 0 0]\n",
      "Q_values : [ 3.2195804  1.6761838 -1.8576808  1.2377133]\n",
      "state : [0 0 0 0 0 0 0 0 0 0 0 0 0 0 0 0 0 0 0 0 0 0 0 0 0 0 0 0 0 0 0 0 0 0 0 0]\n",
      "Q_values : [ 2.320626    1.9436551  -0.12003303  1.3171513 ]\n",
      "state : [0 0 0 0 0 0 0 0 0 0 0 0 0 0 0 0 0 0 0 0 0 0 0 0 0 0 0 0 0 0 0 0 0 0 0 0]\n",
      "Q_values : [ 1.9274487   1.5608901  -0.13100982  1.3886814 ]\n",
      "state : [0 0 0 0 0 0 0 0 0 0 0 0 0 0 0 0 0 0 0 0 0 0 0 0 0 0 0 0 0 0 0 0 0 0 0 0]\n",
      "Q_values : [1.3398191 1.9520084 0.2972648 1.4530871]\n",
      "state : [0 0 0 0 0 0 0 0 0 0 0 0 0 0 0 0 0 0 0 0 0 0 0 0 0 0 0 0 0 0 0 0 0 0 0 0]\n",
      "Q_values : [1.7184274 2.2195728 0.6280596 1.5110848]\n",
      "state : [0 0 0 0 0 0 0 0 0 0 0 0 0 1 0 0 1 0 0 0 0 0 0 0 0 0 0 0 0 0 0 0 0 0 0 0]\n",
      "Q_values : [2.8144054  2.1448894  0.92592573 0.4655516 ]\n",
      "state : [0 0 0 0 0 0 0 0 0 0 0 0 0 0 0 0 1 1 0 0 0 0 0 0 0 0 0 0 0 0 0 0 0 0 0 0]\n",
      "Q_values : [2.007677   2.0377965  1.1941383  0.04431629]\n",
      "state : [0 0 0 0 0 0 0 0 0 0 0 0 0 0 0 0 2 2 0 0 0 0 0 0 0 0 0 0 0 0 0 0 0 0 0 0]\n",
      "Q_values : [ 1.8196843  1.6228881  1.4356495 -1.2868769]\n",
      "state : [0 0 0 0 0 0 0 0 0 0 0 0 0 0 0 0 4 4 0 0 0 0 0 0 0 0 0 0 0 0 0 0 0 0 0 0]\n",
      "Q_values : [ 1.7101707  1.5814564  1.6476493 -2.0342202]\n",
      "state : [0 0 0 0 0 0 0 0 0 0 0 0 0 0 0 0 6 5 0 0 0 0 1 1 0 0 0 0 0 0 0 0 0 0 0 0]\n",
      "Q_values : [ 2.072341   1.4688472  1.0374157 -2.7071671]\n",
      "state : [0 0 0 0 0 0 0 0 0 0 0 0 0 0 0 0 6 6 0 0 0 0 2 1 0 0 0 0 0 0 0 0 0 0 0 0]\n",
      "Q_values : [ 2.132227    2.0334935   0.86875653 -3.313124  ]\n",
      "state : [0 0 0 0 0 0 0 0 0 0 0 0 0 0 0 0 6 6 0 0 0 0 3 3 0 0 0 0 0 0 0 0 0 0 0 0]\n",
      "Q_values : [ 2.6204758   2.1099057   0.84385896 -5.0441847 ]\n",
      "state : [0 0 0 0 0 0 0 0 0 0 0 0 0 0 0 0 6 6 0 0 0 0 4 4 0 0 0 0 0 0 0 0 0 0 0 0]\n",
      "Q_values : [ 2.746616    2.0446622   0.76126933 -6.040658  ]\n",
      "state : [0 0 0 0 0 0 0 0 0 0 0 0 0 0 0 0 6 6 0 0 0 0 4 4 0 0 0 0 0 0 0 0 0 0 0 0]\n",
      "Q_values : [ 2.0961382  2.4365933  0.18013   -6.9379272]\n",
      "state : [0 0 0 0 0 0 0 0 0 0 0 0 0 0 0 0 6 6 0 0 0 0 4 4 0 0 0 0 0 0 0 0 0 0 0 0]\n",
      "Q_values : [ 2.479513    2.0953526   0.01129723 -7.940713  ]\n",
      "state : [0 0 0 0 0 0 0 0 0 0 0 0 0 0 0 0 6 6 0 0 0 0 4 4 0 0 0 0 0 0 0 0 0 0 0 0]\n",
      "Q_values : [ 2.5073562   2.205184    0.04181981 -8.751313  ]\n",
      "state : [0 0 0 0 0 0 0 0 0 0 0 0 0 0 0 0 6 6 0 0 0 0 4 4 0 0 0 0 0 0 0 0 0 0 0 0]\n",
      "Q_values : [ 2.0882454   1.6074902  -0.74120545 -9.48122   ]\n",
      "state : [0 0 0 0 0 0 0 0 0 0 0 0 0 0 0 0 6 6 0 0 0 0 4 4 0 0 0 0 0 0 0 0 0 0 0 0]\n",
      "Q_values : [  1.6105533    2.2615614   -0.92559934 -10.138465  ]\n",
      "state : [0 0 0 0 0 0 0 0 0 0 0 0 0 0 0 0 6 6 0 0 0 0 4 4 0 0 0 0 0 0 0 0 0 0 0 0]\n",
      "Q_values : [  2.6882076   1.3551831  -0.9629321 -10.595854 ]\n",
      "state : [0 0 0 0 0 0 0 0 0 0 0 0 0 0 0 0 6 6 0 0 0 0 4 4 0 0 0 0 0 0 0 0 0 0 0 0]\n",
      "Q_values : [  2.2746544   1.836799   -1.1001422 -11.071413 ]\n",
      "Step #100.00 (1ms ~= 10.00*RT, ~20000.00UPS, TraCI: 33ms, vehicles TOT 33 ACT 20 BUF 0)    \n",
      "episode : 249\n",
      " Retrying in 1 seconds\n"
     ]
    },
    {
     "name": "stderr",
     "output_type": "stream",
     "text": [
      "Warning: Environment variable SUMO_HOME is not set properly, disabling XML validation. Set 'auto' or 'always' for web lookups.\n"
     ]
    },
    {
     "name": "stdout",
     "output_type": "stream",
     "text": [
      "Interrupt signal received, trying to exit gracefully.\n"
     ]
    },
    {
     "ename": "KeyboardInterrupt",
     "evalue": "",
     "output_type": "error",
     "traceback": [
      "\u001b[0;31m---------------------------------------------------------------------------\u001b[0m",
      "\u001b[0;31mConnectionRefusedError\u001b[0m                    Traceback (most recent call last)",
      "File \u001b[0;32m~/.pyenv/versions/3.10.6/envs/RL_traffic/lib/python3.10/site-packages/traci/main.py:97\u001b[0m, in \u001b[0;36mconnect\u001b[0;34m(port, numRetries, host, proc, waitBetweenRetries, traceFile, traceGetters, label)\u001b[0m\n\u001b[1;32m     96\u001b[0m \u001b[38;5;28;01mtry\u001b[39;00m:\n\u001b[0;32m---> 97\u001b[0m     \u001b[38;5;28;01mreturn\u001b[39;00m \u001b[43mconnection\u001b[49m\u001b[38;5;241;43m.\u001b[39;49m\u001b[43mConnection\u001b[49m\u001b[43m(\u001b[49m\u001b[43mhost\u001b[49m\u001b[43m,\u001b[49m\u001b[43m \u001b[49m\u001b[43mport\u001b[49m\u001b[43m,\u001b[49m\u001b[43m \u001b[49m\u001b[43mproc\u001b[49m\u001b[43m,\u001b[49m\u001b[43m \u001b[49m\u001b[43mtraceFile\u001b[49m\u001b[43m,\u001b[49m\u001b[43m \u001b[49m\u001b[43mtraceGetters\u001b[49m\u001b[43m,\u001b[49m\u001b[43m \u001b[49m\u001b[43mlabel\u001b[49m\u001b[43m)\u001b[49m\n\u001b[1;32m     98\u001b[0m \u001b[38;5;28;01mexcept\u001b[39;00m socket\u001b[38;5;241m.\u001b[39merror \u001b[38;5;28;01mas\u001b[39;00m e:\n",
      "File \u001b[0;32m~/.pyenv/versions/3.10.6/envs/RL_traffic/lib/python3.10/site-packages/traci/connection.py:83\u001b[0m, in \u001b[0;36mConnection.__init__\u001b[0;34m(self, host, port, process, traceFile, traceGetters, label)\u001b[0m\n\u001b[1;32m     82\u001b[0m \u001b[38;5;28;01mtry\u001b[39;00m:\n\u001b[0;32m---> 83\u001b[0m     \u001b[38;5;28;43mself\u001b[39;49m\u001b[38;5;241;43m.\u001b[39;49m\u001b[43m_socket\u001b[49m\u001b[38;5;241;43m.\u001b[39;49m\u001b[43mconnect\u001b[49m\u001b[43m(\u001b[49m\u001b[43m(\u001b[49m\u001b[43mhost\u001b[49m\u001b[43m,\u001b[49m\u001b[43m \u001b[49m\u001b[43mport\u001b[49m\u001b[43m)\u001b[49m\u001b[43m)\u001b[49m\n\u001b[1;32m     84\u001b[0m \u001b[38;5;28;01mexcept\u001b[39;00m socket\u001b[38;5;241m.\u001b[39merror:\n",
      "\u001b[0;31mConnectionRefusedError\u001b[0m: [Errno 61] Connection refused",
      "\nDuring handling of the above exception, another exception occurred:\n",
      "\u001b[0;31mKeyboardInterrupt\u001b[0m                         Traceback (most recent call last)",
      "Cell \u001b[0;32mIn[22], line 22\u001b[0m\n\u001b[1;32m     20\u001b[0m \u001b[38;5;28mprint\u001b[39m(\u001b[38;5;124mf\u001b[39m\u001b[38;5;124m'\u001b[39m\u001b[38;5;124mepisode : \u001b[39m\u001b[38;5;132;01m{\u001b[39;00mepisode\u001b[38;5;132;01m}\u001b[39;00m\u001b[38;5;124m'\u001b[39m)\n\u001b[1;32m     21\u001b[0m epsilon \u001b[38;5;241m=\u001b[39m \u001b[38;5;28mmax\u001b[39m(\u001b[38;5;241m1\u001b[39m \u001b[38;5;241m-\u001b[39m episode \u001b[38;5;241m/\u001b[39m \u001b[38;5;241m150\u001b[39m, \u001b[38;5;241m0.01\u001b[39m)\n\u001b[0;32m---> 22\u001b[0m simulation\u001b[38;5;241m=\u001b[39m\u001b[43mSimulationSUMO\u001b[49m\u001b[43m(\u001b[49m\u001b[43msumoCmd\u001b[49m\u001b[43m,\u001b[49m\u001b[38;5;241;43m500\u001b[39;49m\u001b[43m)\u001b[49m\n\u001b[1;32m     23\u001b[0m lane_ids \u001b[38;5;241m=\u001b[39m simulation\u001b[38;5;241m.\u001b[39mget_lane()\n\u001b[1;32m     24\u001b[0m \u001b[38;5;66;03m# print(lane_ids[0])\u001b[39;00m\n\u001b[1;32m     25\u001b[0m \n\u001b[1;32m     26\u001b[0m \u001b[38;5;66;03m#trafic_light_ids = traci.trafficlight.getIDList()\u001b[39;00m\n",
      "Cell \u001b[0;32mIn[17], line 8\u001b[0m, in \u001b[0;36mSimulationSUMO.__init__\u001b[0;34m(self, sumoCmd, frame)\u001b[0m\n\u001b[1;32m      6\u001b[0m \u001b[38;5;28;01mif\u001b[39;00m traci\u001b[38;5;241m.\u001b[39misLoaded():\n\u001b[1;32m      7\u001b[0m     traci\u001b[38;5;241m.\u001b[39mclose()\n\u001b[0;32m----> 8\u001b[0m \u001b[43mtraci\u001b[49m\u001b[38;5;241;43m.\u001b[39;49m\u001b[43mstart\u001b[49m\u001b[43m(\u001b[49m\u001b[43msumoCmd\u001b[49m\u001b[43m)\u001b[49m\n",
      "File \u001b[0;32m~/.pyenv/versions/3.10.6/envs/RL_traffic/lib/python3.10/site-packages/traci/main.py:147\u001b[0m, in \u001b[0;36mstart\u001b[0;34m(cmd, port, numRetries, label, verbose, traceFile, traceGetters, stdout, doSwitch)\u001b[0m\n\u001b[1;32m    145\u001b[0m sumoProcess \u001b[38;5;241m=\u001b[39m subprocess\u001b[38;5;241m.\u001b[39mPopen(cmd2, stdout\u001b[38;5;241m=\u001b[39mstdout)\n\u001b[1;32m    146\u001b[0m \u001b[38;5;28;01mtry\u001b[39;00m:\n\u001b[0;32m--> 147\u001b[0m     result \u001b[38;5;241m=\u001b[39m \u001b[43minit\u001b[49m\u001b[43m(\u001b[49m\u001b[43msumoPort\u001b[49m\u001b[43m,\u001b[49m\u001b[43m \u001b[49m\u001b[43mnumRetries\u001b[49m\u001b[43m,\u001b[49m\u001b[43m \u001b[49m\u001b[38;5;124;43m\"\u001b[39;49m\u001b[38;5;124;43mlocalhost\u001b[39;49m\u001b[38;5;124;43m\"\u001b[39;49m\u001b[43m,\u001b[49m\u001b[43m \u001b[49m\u001b[43mlabel\u001b[49m\u001b[43m,\u001b[49m\u001b[43m \u001b[49m\u001b[43msumoProcess\u001b[49m\u001b[43m,\u001b[49m\u001b[43m \u001b[49m\u001b[43mdoSwitch\u001b[49m\u001b[43m,\u001b[49m\u001b[43m \u001b[49m\u001b[43mtraceFile\u001b[49m\u001b[43m,\u001b[49m\u001b[43m \u001b[49m\u001b[43mtraceGetters\u001b[49m\u001b[43m)\u001b[49m\n\u001b[1;32m    148\u001b[0m     \u001b[38;5;28;01mif\u001b[39;00m traceFile \u001b[38;5;129;01mis\u001b[39;00m \u001b[38;5;129;01mnot\u001b[39;00m \u001b[38;5;28;01mNone\u001b[39;00m:\n\u001b[1;32m    149\u001b[0m         connection\u001b[38;5;241m.\u001b[39mget(label)\u001b[38;5;241m.\u001b[39mwrite(\u001b[38;5;124m\"\u001b[39m\u001b[38;5;124mstart\u001b[39m\u001b[38;5;124m\"\u001b[39m, \u001b[38;5;124m\"\u001b[39m\u001b[38;5;132;01m%s\u001b[39;00m\u001b[38;5;124m, port=\u001b[39m\u001b[38;5;132;01m%s\u001b[39;00m\u001b[38;5;124m, label=\u001b[39m\u001b[38;5;132;01m%s\u001b[39;00m\u001b[38;5;124m\"\u001b[39m \u001b[38;5;241m%\u001b[39m (\u001b[38;5;28mrepr\u001b[39m(cmd), \u001b[38;5;28mrepr\u001b[39m(port), \u001b[38;5;28mrepr\u001b[39m(label)))\n",
      "File \u001b[0;32m~/.pyenv/versions/3.10.6/envs/RL_traffic/lib/python3.10/site-packages/traci/main.py:116\u001b[0m, in \u001b[0;36minit\u001b[0;34m(port, numRetries, host, label, proc, doSwitch, traceFile, traceGetters)\u001b[0m\n\u001b[1;32m    109\u001b[0m \u001b[38;5;28;01mdef\u001b[39;00m\u001b[38;5;250m \u001b[39m\u001b[38;5;21minit\u001b[39m(port\u001b[38;5;241m=\u001b[39m\u001b[38;5;241m8813\u001b[39m, numRetries\u001b[38;5;241m=\u001b[39mtc\u001b[38;5;241m.\u001b[39mDEFAULT_NUM_RETRIES, host\u001b[38;5;241m=\u001b[39m\u001b[38;5;124m\"\u001b[39m\u001b[38;5;124mlocalhost\u001b[39m\u001b[38;5;124m\"\u001b[39m, label\u001b[38;5;241m=\u001b[39m\u001b[38;5;124m\"\u001b[39m\u001b[38;5;124mdefault\u001b[39m\u001b[38;5;124m\"\u001b[39m, proc\u001b[38;5;241m=\u001b[39m\u001b[38;5;28;01mNone\u001b[39;00m, doSwitch\u001b[38;5;241m=\u001b[39m\u001b[38;5;28;01mTrue\u001b[39;00m,\n\u001b[1;32m    110\u001b[0m          traceFile\u001b[38;5;241m=\u001b[39m\u001b[38;5;28;01mNone\u001b[39;00m, traceGetters\u001b[38;5;241m=\u001b[39m\u001b[38;5;28;01mTrue\u001b[39;00m):\n\u001b[1;32m    111\u001b[0m \u001b[38;5;250m    \u001b[39m\u001b[38;5;124;03m\"\"\"\u001b[39;00m\n\u001b[1;32m    112\u001b[0m \u001b[38;5;124;03m    Establish a connection to a TraCI-Server and store it under the given\u001b[39;00m\n\u001b[1;32m    113\u001b[0m \u001b[38;5;124;03m    label. This method is not thread-safe. It accesses the connection\u001b[39;00m\n\u001b[1;32m    114\u001b[0m \u001b[38;5;124;03m    pool concurrently.\u001b[39;00m\n\u001b[1;32m    115\u001b[0m \u001b[38;5;124;03m    \"\"\"\u001b[39;00m\n\u001b[0;32m--> 116\u001b[0m     con \u001b[38;5;241m=\u001b[39m \u001b[43mconnect\u001b[49m\u001b[43m(\u001b[49m\u001b[43mport\u001b[49m\u001b[43m,\u001b[49m\u001b[43m \u001b[49m\u001b[43mnumRetries\u001b[49m\u001b[43m,\u001b[49m\u001b[43m \u001b[49m\u001b[43mhost\u001b[49m\u001b[43m,\u001b[49m\u001b[43m \u001b[49m\u001b[43mproc\u001b[49m\u001b[43m,\u001b[49m\u001b[43m \u001b[49m\u001b[38;5;241;43m1\u001b[39;49m\u001b[43m,\u001b[49m\u001b[43m \u001b[49m\u001b[43mtraceFile\u001b[49m\u001b[43m,\u001b[49m\u001b[43m \u001b[49m\u001b[43mtraceGetters\u001b[49m\u001b[43m,\u001b[49m\u001b[43m \u001b[49m\u001b[43mlabel\u001b[49m\u001b[43m)\u001b[49m\n\u001b[1;32m    117\u001b[0m     \u001b[38;5;28;01mif\u001b[39;00m doSwitch:\n\u001b[1;32m    118\u001b[0m         switch(label)\n",
      "File \u001b[0;32m~/.pyenv/versions/3.10.6/envs/RL_traffic/lib/python3.10/site-packages/traci/main.py:105\u001b[0m, in \u001b[0;36mconnect\u001b[0;34m(port, numRetries, host, proc, waitBetweenRetries, traceFile, traceGetters, label)\u001b[0m\n\u001b[1;32m    103\u001b[0m         \u001b[38;5;28;01mif\u001b[39;00m retry \u001b[38;5;241m<\u001b[39m numRetries \u001b[38;5;241m+\u001b[39m \u001b[38;5;241m1\u001b[39m:\n\u001b[1;32m    104\u001b[0m             \u001b[38;5;28mprint\u001b[39m(\u001b[38;5;124m\"\u001b[39m\u001b[38;5;124m Retrying in \u001b[39m\u001b[38;5;132;01m%s\u001b[39;00m\u001b[38;5;124m seconds\u001b[39m\u001b[38;5;124m\"\u001b[39m \u001b[38;5;241m%\u001b[39m waitBetweenRetries)\n\u001b[0;32m--> 105\u001b[0m             \u001b[43mtime\u001b[49m\u001b[38;5;241;43m.\u001b[39;49m\u001b[43msleep\u001b[49m\u001b[43m(\u001b[49m\u001b[43mwaitBetweenRetries\u001b[49m\u001b[43m)\u001b[49m\n\u001b[1;32m    106\u001b[0m \u001b[38;5;28;01mraise\u001b[39;00m FatalTraCIError(\u001b[38;5;124m\"\u001b[39m\u001b[38;5;124mCould not connect in \u001b[39m\u001b[38;5;132;01m%s\u001b[39;00m\u001b[38;5;124m tries\u001b[39m\u001b[38;5;124m\"\u001b[39m \u001b[38;5;241m%\u001b[39m (numRetries \u001b[38;5;241m+\u001b[39m \u001b[38;5;241m1\u001b[39m))\n",
      "\u001b[0;31mKeyboardInterrupt\u001b[0m: "
     ]
    }
   ],
   "source": [
    "sumoBinary = \"/Users/arseneclaustre/sumo/bin/sumo-gui\"\n",
    "sumoBinary2 = \"/Users/arseneclaustre/sumo/bin/sumo\"\n",
    "sumoConfig = r\"C:/Program Files/rl_project/2025-02-12-16-24-37/osm.sumocfg\"\n",
    "sumoConfig2 = r\"C:/Program Files/rl_project/2025-02-25-19-05-44/osm.sumocfg\"\n",
    "# sumoConfig3 = r\"/home/psels/code/psels/RL_traffic/RL_traffic/Traditional_traffic/traditional_traffic.sumo.cfg\"\n",
    "sumoConfig3 = r\"Traditional_traffic/traditional_traffic.sumo.cfg\"\n",
    "\n",
    "\n",
    "rewards = []\n",
    "best_score = 0\n",
    "reward = 0\n",
    "total_reward = 0\n",
    "list_values = []\n",
    "weights = []\n",
    "wait_times = []\n",
    "replay_buffer = deque(maxlen=2000)\n",
    "\n",
    "sumoCmd = [sumoBinary2, \"-c\", sumoConfig3, \"--start\"]\n",
    "for episode in range(300):\n",
    "    print(f'episode : {episode}')\n",
    "    epsilon = max(1 - episode / 150, 0.01)\n",
    "    simulation=SimulationSUMO(sumoCmd,500)\n",
    "    lane_ids = simulation.get_lane()\n",
    "    # print(lane_ids[0])\n",
    "\n",
    "    #trafic_light_ids = traci.trafficlight.getIDList()\n",
    "    trafic_light_ids = simulation.get_trafficlight_id()\n",
    "\n",
    "    state = np.array(simulation.queue(lane_ids))\n",
    "\n",
    "    action=-1\n",
    "    wait_times.append(0)\n",
    "    for _ in range(20): ## TO CHANGED\n",
    "        action = epsilon_greedy_policy(state, epsilon)\n",
    "        next_state,reward = simulation.step(action)\n",
    "        replay_buffer.append((state, action, reward, next_state))\n",
    "        state = next_state\n",
    "        if len(replay_buffer) >= batch_size*10:\n",
    "                training_step(batch_size)\n",
    "\n",
    "    simulation.close()"
   ]
  },
  {
   "cell_type": "code",
   "execution_count": 25,
   "metadata": {},
   "outputs": [
    {
     "name": "stdout",
     "output_type": "stream",
     "text": [
      " Retrying in 1 seconds\n",
      "state : [0 0 0 0 0 0 0 0 0 0 0 0 0 0 0 0 0 0 0 0 0 0 0 0 0 0 0 0 0 0 0 0 0 0 0 0]\n",
      "Q_values : [  2.2881737   3.4344368  -0.403687  -11.053476 ]\n",
      "action 2\n",
      "state : [0 0 0 0 0 0 0 0 0 0 0 0 0 0 0 0 0 0 0 0 0 0 0 0 0 0 0 0 0 0 0 0 0 0 0 0]\n",
      "Q_values : [  2.2881737   3.4344368  -0.403687  -11.053476 ]\n",
      "action 2\n",
      "state : [0 0 0 0 0 0 0 0 0 0 0 0 0 0 0 0 0 0 0 0 0 0 0 0 0 0 0 0 0 0 0 0 0 0 0 0]\n",
      "Q_values : [  2.2881737   3.4344368  -0.403687  -11.053476 ]\n",
      "action 2\n",
      "state : [0 0 0 0 0 0 0 0 0 0 0 0 0 1 0 0 1 1 0 0 0 0 0 0 0 0 0 0 0 0 0 0 0 0 0 0]\n",
      "Q_values : [  2.2881737   3.4344368  -0.403687  -11.053476 ]\n",
      "action 2\n",
      "state : [0 0 0 0 0 0 0 0 0 0 0 0 0 1 0 0 4 4 0 0 0 0 0 0 0 0 0 0 0 0 0 0 0 0 0 0]\n",
      "Q_values : [  2.288175     3.4344344   -0.40368724 -11.053474  ]\n",
      "action 2\n",
      "state : [0 0 0 0 0 0 0 0 0 0 0 0 0 1 0 0 6 6 0 0 0 0 2 1 0 0 0 0 0 0 0 0 0 0 0 0]\n",
      "Q_values : [  2.288175     3.4344335   -0.40368652 -11.053474  ]\n",
      "action 2\n",
      "state : [0 0 0 0 0 0 0 0 0 0 0 0 0 1 0 0 6 6 0 0 0 0 4 4 0 0 0 0 0 0 0 0 0 0 0 0]\n",
      "Q_values : [  2.288175     3.4344335   -0.40368652 -11.053474  ]\n",
      "action 2\n"
     ]
    },
    {
     "ename": "FatalTraCIError",
     "evalue": "Connection closed by SUMO.",
     "output_type": "error",
     "traceback": [
      "\u001b[0;31m---------------------------------------------------------------------------\u001b[0m",
      "\u001b[0;31mFatalTraCIError\u001b[0m                           Traceback (most recent call last)",
      "Cell \u001b[0;32mIn[25], line 41\u001b[0m\n\u001b[1;32m     39\u001b[0m         \u001b[38;5;28mprint\u001b[39m(\u001b[38;5;124m\"\u001b[39m\u001b[38;5;124maction\u001b[39m\u001b[38;5;124m\"\u001b[39m, action\u001b[38;5;241m*\u001b[39m\u001b[38;5;241m2\u001b[39m)\n\u001b[1;32m     40\u001b[0m         traci\u001b[38;5;241m.\u001b[39mtrafficlight\u001b[38;5;241m.\u001b[39msetPhase(trafic_light_ids[\u001b[38;5;241m0\u001b[39m],action\u001b[38;5;241m*\u001b[39m\u001b[38;5;241m2\u001b[39m)\n\u001b[0;32m---> 41\u001b[0m     \u001b[43mtraci\u001b[49m\u001b[38;5;241;43m.\u001b[39;49m\u001b[43msimulationStep\u001b[49m\u001b[43m(\u001b[49m\u001b[43m)\u001b[49m\n\u001b[1;32m     43\u001b[0m traci\u001b[38;5;241m.\u001b[39mclose()\n",
      "File \u001b[0;32m~/.pyenv/versions/3.10.6/envs/RL_traffic/lib/python3.10/site-packages/traci/main.py:198\u001b[0m, in \u001b[0;36msimulationStep\u001b[0;34m(step)\u001b[0m\n\u001b[1;32m    192\u001b[0m \u001b[38;5;28;01mdef\u001b[39;00m\u001b[38;5;250m \u001b[39m\u001b[38;5;21msimulationStep\u001b[39m(step\u001b[38;5;241m=\u001b[39m\u001b[38;5;241m0\u001b[39m):\n\u001b[1;32m    193\u001b[0m \u001b[38;5;250m    \u001b[39m\u001b[38;5;124;03m\"\"\"simulationStep(float) -> None\u001b[39;00m\n\u001b[1;32m    194\u001b[0m \u001b[38;5;124;03m    Make a simulation step and simulate up to the given second in sim time.\u001b[39;00m\n\u001b[1;32m    195\u001b[0m \u001b[38;5;124;03m    If the given value is 0 or absent, exactly one step is performed.\u001b[39;00m\n\u001b[1;32m    196\u001b[0m \u001b[38;5;124;03m    Values smaller than or equal to the current sim time result in no action.\u001b[39;00m\n\u001b[1;32m    197\u001b[0m \u001b[38;5;124;03m    \"\"\"\u001b[39;00m\n\u001b[0;32m--> 198\u001b[0m     \u001b[43mconnection\u001b[49m\u001b[38;5;241;43m.\u001b[39;49m\u001b[43mcheck\u001b[49m\u001b[43m(\u001b[49m\u001b[43m)\u001b[49m\u001b[38;5;241;43m.\u001b[39;49m\u001b[43msimulationStep\u001b[49m\u001b[43m(\u001b[49m\u001b[43mstep\u001b[49m\u001b[43m)\u001b[49m\n",
      "File \u001b[0;32m~/.pyenv/versions/3.10.6/envs/RL_traffic/lib/python3.10/site-packages/traci/connection.py:370\u001b[0m, in \u001b[0;36mConnection.simulationStep\u001b[0;34m(self, step)\u001b[0m\n\u001b[1;32m    368\u001b[0m \u001b[38;5;28;01mif\u001b[39;00m \u001b[38;5;28mtype\u001b[39m(step) \u001b[38;5;129;01mis\u001b[39;00m \u001b[38;5;28mint\u001b[39m \u001b[38;5;129;01mand\u001b[39;00m step \u001b[38;5;241m>\u001b[39m\u001b[38;5;241m=\u001b[39m \u001b[38;5;241m1000\u001b[39m:\n\u001b[1;32m    369\u001b[0m     warnings\u001b[38;5;241m.\u001b[39mwarn(\u001b[38;5;124m\"\u001b[39m\u001b[38;5;124mAPI change now handles step as floating point seconds\u001b[39m\u001b[38;5;124m\"\u001b[39m, stacklevel\u001b[38;5;241m=\u001b[39m\u001b[38;5;241m2\u001b[39m)\n\u001b[0;32m--> 370\u001b[0m result \u001b[38;5;241m=\u001b[39m \u001b[38;5;28;43mself\u001b[39;49m\u001b[38;5;241;43m.\u001b[39;49m\u001b[43m_sendCmd\u001b[49m\u001b[43m(\u001b[49m\u001b[43mtc\u001b[49m\u001b[38;5;241;43m.\u001b[39;49m\u001b[43mCMD_SIMSTEP\u001b[49m\u001b[43m,\u001b[49m\u001b[43m \u001b[49m\u001b[38;5;28;43;01mNone\u001b[39;49;00m\u001b[43m,\u001b[49m\u001b[43m \u001b[49m\u001b[38;5;28;43;01mNone\u001b[39;49;00m\u001b[43m,\u001b[49m\u001b[43m \u001b[49m\u001b[38;5;124;43m\"\u001b[39;49m\u001b[38;5;124;43mD\u001b[39;49m\u001b[38;5;124;43m\"\u001b[39;49m\u001b[43m,\u001b[49m\u001b[43m \u001b[49m\u001b[43mstep\u001b[49m\u001b[43m)\u001b[49m\n\u001b[1;32m    371\u001b[0m \u001b[38;5;28;01mfor\u001b[39;00m subscriptionResults \u001b[38;5;129;01min\u001b[39;00m \u001b[38;5;28mself\u001b[39m\u001b[38;5;241m.\u001b[39m_subscriptionMapping\u001b[38;5;241m.\u001b[39mvalues():\n\u001b[1;32m    372\u001b[0m     subscriptionResults\u001b[38;5;241m.\u001b[39mreset()\n",
      "File \u001b[0;32m~/.pyenv/versions/3.10.6/envs/RL_traffic/lib/python3.10/site-packages/traci/connection.py:232\u001b[0m, in \u001b[0;36mConnection._sendCmd\u001b[0;34m(self, cmdID, varID, objID, format, *values)\u001b[0m\n\u001b[1;32m    230\u001b[0m     \u001b[38;5;28mself\u001b[39m\u001b[38;5;241m.\u001b[39m_string \u001b[38;5;241m+\u001b[39m\u001b[38;5;241m=\u001b[39m struct\u001b[38;5;241m.\u001b[39mpack(\u001b[38;5;124m\"\u001b[39m\u001b[38;5;124m!i\u001b[39m\u001b[38;5;124m\"\u001b[39m, \u001b[38;5;28mlen\u001b[39m(objID)) \u001b[38;5;241m+\u001b[39m objID\n\u001b[1;32m    231\u001b[0m \u001b[38;5;28mself\u001b[39m\u001b[38;5;241m.\u001b[39m_string \u001b[38;5;241m+\u001b[39m\u001b[38;5;241m=\u001b[39m packed\n\u001b[0;32m--> 232\u001b[0m \u001b[38;5;28;01mreturn\u001b[39;00m \u001b[38;5;28;43mself\u001b[39;49m\u001b[38;5;241;43m.\u001b[39;49m\u001b[43m_sendExact\u001b[49m\u001b[43m(\u001b[49m\u001b[43m)\u001b[49m\n",
      "File \u001b[0;32m~/.pyenv/versions/3.10.6/envs/RL_traffic/lib/python3.10/site-packages/traci/connection.py:137\u001b[0m, in \u001b[0;36mConnection._sendExact\u001b[0;34m(self)\u001b[0m\n\u001b[1;32m    135\u001b[0m     \u001b[38;5;28mself\u001b[39m\u001b[38;5;241m.\u001b[39m_socket\u001b[38;5;241m.\u001b[39mclose()\n\u001b[1;32m    136\u001b[0m     \u001b[38;5;28mself\u001b[39m\u001b[38;5;241m.\u001b[39m_socket \u001b[38;5;241m=\u001b[39m \u001b[38;5;28;01mNone\u001b[39;00m\n\u001b[0;32m--> 137\u001b[0m     \u001b[38;5;28;01mraise\u001b[39;00m FatalTraCIError(\u001b[38;5;124m\"\u001b[39m\u001b[38;5;124mConnection closed by SUMO.\u001b[39m\u001b[38;5;124m\"\u001b[39m)\n\u001b[1;32m    138\u001b[0m \u001b[38;5;28;01mfor\u001b[39;00m command \u001b[38;5;129;01min\u001b[39;00m \u001b[38;5;28mself\u001b[39m\u001b[38;5;241m.\u001b[39m_queue:\n\u001b[1;32m    139\u001b[0m     prefix \u001b[38;5;241m=\u001b[39m result\u001b[38;5;241m.\u001b[39mread(\u001b[38;5;124m\"\u001b[39m\u001b[38;5;124m!BBB\u001b[39m\u001b[38;5;124m\"\u001b[39m)\n",
      "\u001b[0;31mFatalTraCIError\u001b[0m: Connection closed by SUMO."
     ]
    }
   ],
   "source": [
    "sumoBinary = \"/Users/arseneclaustre/sumo/bin/sumo-gui\"\n",
    "sumoBinary2 = \"/Users/arseneclaustre/sumo/bin/sumo\"\n",
    "sumoConfig = r\"C:/Program Files/rl_project/2025-02-12-16-24-37/osm.sumocfg\"\n",
    "sumoConfig2 = r\"C:/Program Files/rl_project/2025-02-25-19-05-44/osm.sumocfg\"\n",
    "# sumoConfig3 = r\"/home/psels/code/psels/RL_traffic/RL_traffic/Traditional_traffic/traditional_traffic.sumo.cfg\"\n",
    "sumoConfig3 = r\"Traditional_traffic/traditional_traffic.sumo.cfg\"\n",
    "\n",
    "\n",
    "rewards = []\n",
    "best_score = 0\n",
    "reward = 0\n",
    "total_reward = 0\n",
    "list_values = []\n",
    "weights = []\n",
    "wait_times = []\n",
    "replay_buffer = deque(maxlen=2000)\n",
    "\n",
    "\n",
    "sumoCmd = [sumoBinary, \"-c\", sumoConfig3, \"--start\"]\n",
    "\n",
    "if traci.isLoaded():\n",
    "    traci.close()\n",
    "traci.start(sumoCmd)\n",
    "lane_ids =  traci.lane.getIDList()\n",
    "# print(lane_ids[0])\n",
    "\n",
    "trafic_light_ids = traci.trafficlight.getIDList()\n",
    "\n",
    "state = np.array(queue(lane_ids))\n",
    "action=-1\n",
    "# print(state)\n",
    "wait_times.append(0)\n",
    "for step in range(10000): ## TO CHANGED\n",
    "    #epsilon = max(1 - episode / 10, 0.01)\n",
    "    state=np.array(queue(lane_ids))\n",
    "    if step%1000 == 0:\n",
    "        state=np.array(queue(lane_ids))\n",
    "        action = epsilon_greedy_policy(state,0)\n",
    "        print(\"action\", action*2)\n",
    "        traci.trafficlight.setPhase(trafic_light_ids[0],action*2)\n",
    "    traci.simulationStep()\n",
    "\n",
    "traci.close()"
   ]
  },
  {
   "cell_type": "code",
   "execution_count": null,
   "metadata": {},
   "outputs": [],
   "source": []
  }
 ],
 "metadata": {
  "kernelspec": {
   "display_name": "RL_traffic",
   "language": "python",
   "name": "python3"
  },
  "language_info": {
   "codemirror_mode": {
    "name": "ipython",
    "version": 3
   },
   "file_extension": ".py",
   "mimetype": "text/x-python",
   "name": "python",
   "nbconvert_exporter": "python",
   "pygments_lexer": "ipython3",
   "version": "3.10.6"
  }
 },
 "nbformat": 4,
 "nbformat_minor": 2
}
