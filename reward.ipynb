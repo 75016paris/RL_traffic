{
 "cells": [
  {
   "cell_type": "code",
   "execution_count": 1,
   "metadata": {},
   "outputs": [],
   "source": [
    "%load_ext autoreload\n",
    "%autoreload 2"
   ]
  },
  {
   "cell_type": "code",
   "execution_count": 2,
   "metadata": {},
   "outputs": [
    {
     "name": "stdout",
     "output_type": "stream",
     "text": [
      "32 simu_opera 20\n",
      "/Users/arseneclaustre/sumo/bin/sumo-gui /Users/arseneclaustre/sumo/bin/sumo\n",
      "/Users/arseneclaustre/code/psels/RL_traffic/Traffic/Opera_2/osm.sumocfg\n"
     ]
    }
   ],
   "source": [
    "import os\n",
    "import traci\n",
    "import sys\n",
    "import argparse\n",
    "import tensorflow as tf\n",
    "import numpy as np\n",
    "from dotenv import load_dotenv\n",
    "\n",
    "# Import internal modules\n",
    "from rl_package.rl_logic.Environnement import EnvironnementSumo\n",
    "from rl_package.rl_logic.Agent import AgentSumo\n",
    "from rl_package.params import *\n",
    "print(BATCH_SIZE,NAME_SIMULATION,WINDOW)\n",
    "print(SUMO_GUI_BIN,SUMO_BIN)\n",
    "print(SIMUL_CONFIG)"
   ]
  },
  {
   "cell_type": "code",
   "execution_count": 3,
   "metadata": {},
   "outputs": [],
   "source": [
    "\n",
    "\n",
    "# Load environment variables\n",
    "#load_dotenv()\n",
    "\n",
    "\n",
    "#SUMO_BIN = r\"C:/Program Files/rl_project/Eclipse/Sumo/bin/sumo.exe\"\n",
    "# SIMUL_CONFIG = r\"double_traffic/double_traffic.sumo.cfg\"\n",
    "#SIMUL_CONFIG = \"/Users/arseneclaustre/code/psels/RL_traffic/Traffic/double_traffic/double_traffic.sumo.cfg\"\n",
    "#SIMUL_CONFIG = \"/Users/arseneclaustre/code/psels/RL_traffic/Traffic/Opera_2/osm.sumocfg\"\n",
    "# SIMUL_CONFIG = \"/Users/arseneclaustre/code/psels/RL_traffic/Traffic/Opera/osm.polycfg\"\n",
    "#BATCH_SIZE=6\n",
    "# SUMO command"
   ]
  },
  {
   "cell_type": "code",
   "execution_count": 4,
   "metadata": {},
   "outputs": [],
   "source": [
    "def preprocess():\n",
    "    \"\"\"\n",
    "    Determines the number of inputs and outputs required for each agent.\n",
    "    \"\"\"\n",
    "    sumoCmd = [SUMO_BIN, \"-c\", SIMUL_CONFIG, '--start', '--no-warnings']\n",
    "    print(sumoCmd)\n",
    "    env = EnvironnementSumo(sumoCmd, WINDOW)\n",
    "    inputs_per_agents = []\n",
    "    outputs_per_agents = []\n",
    "    positions_phases = []\n",
    "\n",
    "    for trafficlight in env.trafficlights_ids:\n",
    "        # Get the number of lanes controlled by this traffic light\n",
    "        n_lanes = len(env.control_lanes(trafficlight))\n",
    "        inputs_per_agents.append(n_lanes * 3)  # Inputs: queue + vehicle count\n",
    "\n",
    "        # Get the number of valid traffic light phases (excluding yellow)\n",
    "        n_phases,position = env.get_phase_without_yellow(trafficlight)\n",
    "        #print(f'trafficlight :{trafficlight},\\n lane associated {env.control_lanes(trafficlight)}')\n",
    "        n_outputs = len(n_phases)\n",
    "        positions_phases.append(position)\n",
    "        outputs_per_agents.append(n_outputs)\n",
    "\n",
    "    env.close()\n",
    "    return inputs_per_agents, outputs_per_agents,positions_phases  # List of inputs, outputs per agent, and the postion phases of each trafficlight\n"
   ]
  },
  {
   "cell_type": "code",
   "execution_count": 5,
   "metadata": {},
   "outputs": [],
   "source": [
    "def train_models(inputs_per_agents, outputs_per_agents, position_phases, type_model=\"DQN\"):\n",
    "    \"\"\"\n",
    "    Trains multiple reinforcement learning agents to optimize traffic lights.\n",
    "    Saves each model separately.\n",
    "    \"\"\"\n",
    "    agents = [AgentSumo(type_model, inputs, outputs) for inputs, outputs in zip(inputs_per_agents, outputs_per_agents)]\n",
    "\n",
    "    # Load pre-trained models if available\n",
    "    for i, agent in enumerate(agents):\n",
    "        agent.build_model()\n",
    "        model_path = f\"models/{NAME_SIMULATION}_{type_model}_Agent{i}.keras\"\n",
    "        if os.path.exists(model_path):\n",
    "            print(f\"🔄 Loading pre-trained model for Agent {i} from {model_path}...\")\n",
    "            agent.model_action = tf.keras.models.load_model(model_path)\n",
    "            if agent.model_target:  # For Double/Dueling DQN\n",
    "                agent.model_target = tf.keras.models.load_model(model_path)\n",
    "\n",
    "    sumoCmd = [SUMO_BIN, \"-c\", SIMUL_CONFIG, '--start', '--no-warnings','--scale','0.3']\n",
    "\n",
    "\n",
    "\n",
    "    for episode in range(EPISODE):\n",
    "        print(f'🔄 Episode {episode}/{EPISODE}')\n",
    "        env = EnvironnementSumo(sumoCmd, WINDOW)\n",
    "\n",
    "        #Store the position phases of the trafficlight in the environment\n",
    "        env.position_phases = position_phases\n",
    "\n",
    "        epsilon = max(1 - episode / EPISODE, 0.01)  # Decaying epsilon for exploration\n",
    "\n",
    "        traffic_lights = env.trafficlights_ids\n",
    "        states = [env.get_states_per_traffic_light(traffic_light) for traffic_light in traffic_lights]\n",
    "\n",
    "        for _ in range(75):  # Steps per episode\n",
    "            actions = [agent.epsilon_greedy_policy(np.array(states[i]), epsilon) for i, agent in enumerate(agents)]\n",
    "            next_states, rewards = env.step(actions)\n",
    "\n",
    "            for i in range(len(agents)):\n",
    "                agents[i].add_to_memory(np.array(states[i]), np.array(actions[i]), np.array(rewards[i]), np.array(next_states[i]))\n",
    "\n",
    "            states = next_states\n",
    "\n",
    "            if len(agents[0].replay_buffer) >= BATCH_SIZE *5:\n",
    "                for agent in agents:\n",
    "                    agent.training_step(BATCH_SIZE)\n",
    "\n",
    "            if env.get_total_number_vehicles() == 0:\n",
    "                break  # Stop simulation if no vehicles left\n",
    "\n",
    "        if episode % 5 == 0 and type_model != 'DQN':\n",
    "            for agent in agents:\n",
    "                agent.model_target.set_weights(agent.model_action.get_weights())\n",
    "\n",
    "        env.close()\n",
    "\n",
    "    for i, agent in enumerate(agents):\n",
    "        model_path = f\"models/{NAME_SIMULATION}_{type_model}_Agent{i}.keras\"\n",
    "        agent.model_action.save(model_path)\n",
    "        print(f\"✅ Model saved for Agent {i} at: {model_path}\")\n"
   ]
  },
  {
   "cell_type": "code",
   "execution_count": 6,
   "metadata": {},
   "outputs": [],
   "source": [
    "\n",
    "def load_trained_agents(inputs_per_agents, outputs_per_agents, type_model=\"DQN\"):\n",
    "    \"\"\"\n",
    "    Loads pre-trained agents from saved model files.\n",
    "    If any model is missing, exits the program.\n",
    "    \"\"\"\n",
    "    agents = [AgentSumo(type_model, inputs, outputs) for inputs, outputs in zip(inputs_per_agents, outputs_per_agents)]\n",
    "\n",
    "    for i, agent in enumerate(agents):\n",
    "        model_path = f\"models/{NAME_SIMULATION}_{type_model}_Agent{i}.keras\"\n",
    "        if os.path.exists(model_path):\n",
    "            print(f\"🔄 Loading pre-trained model for Agent {i} from {model_path}...\")\n",
    "            agent.build_model()\n",
    "            agent.model_action = tf.keras.models.load_model(model_path)\n",
    "        else:\n",
    "            print(f\"❌ No pre-trained model found for Agent {i}.\")\n",
    "            sys.exit(1)\n",
    "\n",
    "    return agents"
   ]
  },
  {
   "cell_type": "code",
   "execution_count": 7,
   "metadata": {},
   "outputs": [],
   "source": [
    "def scenario(agents,positions_phases):\n",
    "    \"\"\"\n",
    "    Runs a SUMO simulation using the trained agents.\n",
    "    \"\"\"\n",
    "    sumoCmd = [SUMO_GUI_BIN, \"-c\", SIMUL_CONFIG, '--start', '--no-warnings','--scale','0.3']\n",
    "    print(WINDOW)\n",
    "    print(sumoCmd)\n",
    "    env = EnvironnementSumo(sumoCmd, WINDOW)\n",
    "    #Store the position phases of the trafficlight in the environment\n",
    "    env.position_phases = positions_phases\n",
    "    env.full_simul(agents)"
   ]
  },
  {
   "cell_type": "code",
   "execution_count": null,
   "metadata": {},
   "outputs": [
    {
     "name": "stdout",
     "output_type": "stream",
     "text": [
      "1 simu_opera\n",
      "['/Users/arseneclaustre/sumo/bin/sumo', '-c', '/Users/arseneclaustre/code/psels/RL_traffic/Traffic/Opera_2/osm.sumocfg', '--start', '--no-warnings']\n",
      " Retrying in 1 seconds\n",
      "***Starting server on port 56862 ***\n"
     ]
    },
    {
     "name": "stderr",
     "output_type": "stream",
     "text": [
      "Warning: Environment variable SUMO_HOME is not set properly, disabling XML validation. Set 'auto' or 'always' for web lookups.\n"
     ]
    },
    {
     "name": "stdout",
     "output_type": "stream",
     "text": [
      "Loading net-file from '/Users/arseneclaustre/code/psels/RL_traffic/Traffic/Opera_2/osm.net.xml.gz' ... done (27ms).\n",
      "Loading additional-files from '/Users/arseneclaustre/code/psels/RL_traffic/Traffic/Opera_2/osm.poly.xml.gz' ... done (4ms).\n",
      "Loading route-files incrementally from '/Users/arseneclaustre/code/psels/RL_traffic/Traffic/Opera_2/osm.passenger.trips.xml'\n",
      "Loading done.\n",
      "Simulation version v1_22_0+0748-755b84baf8f started with time: 0.00.\n",
      "[Phase(duration=42.0, state='GGGrrrr', minDur=5.0, maxDur=50.0, next='(1,)'), Phase(duration=42.0, state='rrrGGGG', minDur=5.0, maxDur=50.0, next='(3,)')]\n",
      "[Phase(duration=42.0, state='GGggGGGgrrr', minDur=5.0, maxDur=50.0, next='(1,)'), Phase(duration=42.0, state='rrrrrrrrGGG', minDur=5.0, maxDur=50.0, next='(3,)')]\n",
      "[Phase(duration=42.0, state='gGGGrrr', minDur=5.0, maxDur=50.0, next='(1,)'), Phase(duration=42.0, state='rrrrGGG', minDur=5.0, maxDur=50.0, next='(3,)')]\n",
      "[Phase(duration=42.0, state='GGggGGGGgrrrr', minDur=5.0, maxDur=50.0, next='(1,)'), Phase(duration=42.0, state='rrrrrrrrrGGGG', minDur=5.0, maxDur=50.0, next='(3,)')]\n",
      "[Phase(duration=42.0, state='Grr', minDur=5.0, maxDur=50.0, next='(1,)'), Phase(duration=42.0, state='rGG', minDur=5.0, maxDur=50.0, next='(3,)')]\n",
      "[Phase(duration=41.0, state='GGGggrrrrGgGGgg', minDur=5.0, maxDur=50.0, next='(1,)'), Phase(duration=40.0, state='rrrrrGGGGrrrrrr', minDur=5.0, maxDur=50.0, next='(4,)')]\n",
      "[Phase(duration=82.0, state='GGG', minDur=5.0, maxDur=50.0, next='(1,)')]\n",
      "[Phase(duration=42.0, state='GGGrrrr', minDur=5.0, maxDur=50.0, next='(1,)'), Phase(duration=42.0, state='rrrGgGG', minDur=5.0, maxDur=50.0, next='(3,)')]\n",
      "[Phase(duration=23.0, state='rGGGGrrrrr', minDur=5.0, maxDur=50.0, next='(1,)'), Phase(duration=25.0, state='rrrrrGgGGG', minDur=5.0, maxDur=50.0, next='(4,)'), Phase(duration=25.0, state='GGrrGrrrrr', minDur=5.0, maxDur=50.0, next='(7,)')]\n",
      "[Phase(duration=36.0, state='GggGgrrrrGGggg', minDur=5.0, maxDur=50.0, next='(1,)'), Phase(duration=6.0, state='rrrrrrrrrGGGGG', minDur=5.0, maxDur=50.0, next='(3,)'), Phase(duration=36.0, state='rrrrrGGGGrrrrr', minDur=5.0, maxDur=50.0, next='(6,)')]\n",
      "[Phase(duration=18.0, state='GgrrGGgrrGGggrrrGGGgrrrr', minDur=5.0, maxDur=50.0, next='(1,)'), Phase(duration=18.0, state='rrGGrrrrrrrrrrrrrrrrGGGG', minDur=5.0, maxDur=50.0, next='(4,)'), Phase(duration=18.0, state='GGrrrrrrrrrrrGGGrrrrrrrr', minDur=5.0, maxDur=50.0, next='(7,)'), Phase(duration=18.0, state='GrrrrrrGgGGrrrrrGGGgrrrr', minDur=5.0, maxDur=50.0, next='(10,)')]\n",
      "[Phase(duration=19.0, state='GGGGGrrrrrrGGGGGGGGrrrrrrrrrrr', minDur=5.0, maxDur=50.0, next='(1,)'), Phase(duration=19.0, state='rrrrrrrrGGGrrrrrrrrrrrrrrrrrrr', minDur=5.0, maxDur=50.0, next='(4,)'), Phase(duration=19.0, state='rrrrrGGGrrrGGGGGGggGGGGGgrrrrr', minDur=5.0, maxDur=50.0, next='(6,)'), Phase(duration=19.0, state='rrrrrGGGrrrGGGGrrrrrrrrrrGggGG', minDur=5.0, maxDur=50.0, next='(8,)')]\n",
      "[Phase(duration=13.0, state='GGrrrrrrrrrrrrrrrrrrrrrr', minDur=5.0, maxDur=50.0, next='(1,)'), Phase(duration=15.0, state='rrGGrrrrrrrrrrrrrrrrrrrr', minDur=5.0, maxDur=50.0, next='(3,)'), Phase(duration=15.0, state='rrrrGGgrrGGgGGGGGrrrrrrr', minDur=5.0, maxDur=50.0, next='(5,)'), Phase(duration=15.0, state='rrrrrrrGGrrrGGrrGGGrrrrr', minDur=5.0, maxDur=50.0, next='(8,)'), Phase(duration=15.0, state='rrrrrrrGGrrrGGgggrrGGGGg', minDur=5.0, maxDur=50.0, next='(10,)')]\n",
      "Simulation ended at time: 0.00.\n",
      "Reason: TraCI requested termination.\n",
      "Performance:\n",
      " Duration: 0.02s\n",
      " TraCI-Duration: 0.00s\n",
      " Real time factor: 0\n",
      " UPS: 0.000000\n",
      "Vehicles:\n",
      " Inserted: 0 (Loaded: 1)\n",
      " Running: 0\n",
      " Waiting: 0\n",
      "Statistics (avg of 0):\n",
      " RouteLength: 0.00\n",
      " Speed: 0.00\n",
      " Duration: 0.00\n",
      " WaitingTime: 0.00\n",
      " TimeLoss: 0.00\n",
      " DepartDelay: 0.00\n",
      "inputs : [12, 15, 15, 18, 9, 18, 3, 12, 15, 15, 30, 51, 36]\n",
      "outputs : [2, 2, 2, 2, 2, 2, 1, 2, 3, 3, 4, 4, 5]\n",
      "positions : [[0, 2], [0, 2], [0, 2], [0, 2], [0, 2], [0, 3], [0], [0, 2], [0, 3, 6], [0, 2, 5], [0, 3, 6, 9], [0, 3, 5, 7], [0, 2, 4, 7, 9]]\n",
      "🚀 Création d'un nouveau modèle 2DQN...\n",
      "🔄 Loading pre-trained model for Agent 0 from models/simu_opera_2DQN_Agent0.keras...\n",
      "🚀 Création d'un nouveau modèle 2DQN...\n",
      "🔄 Loading pre-trained model for Agent 1 from models/simu_opera_2DQN_Agent1.keras...\n",
      "🚀 Création d'un nouveau modèle 2DQN...\n",
      "🔄 Loading pre-trained model for Agent 2 from models/simu_opera_2DQN_Agent2.keras...\n",
      "🚀 Création d'un nouveau modèle 2DQN...\n",
      "🔄 Loading pre-trained model for Agent 3 from models/simu_opera_2DQN_Agent3.keras...\n",
      "🚀 Création d'un nouveau modèle 2DQN...\n",
      "🔄 Loading pre-trained model for Agent 4 from models/simu_opera_2DQN_Agent4.keras...\n",
      "🚀 Création d'un nouveau modèle 2DQN...\n",
      "🔄 Loading pre-trained model for Agent 5 from models/simu_opera_2DQN_Agent5.keras...\n",
      "🚀 Création d'un nouveau modèle 2DQN...\n",
      "🔄 Loading pre-trained model for Agent 6 from models/simu_opera_2DQN_Agent6.keras...\n",
      "🚀 Création d'un nouveau modèle 2DQN...\n",
      "🔄 Loading pre-trained model for Agent 7 from models/simu_opera_2DQN_Agent7.keras...\n",
      "🚀 Création d'un nouveau modèle 2DQN...\n",
      "🔄 Loading pre-trained model for Agent 8 from models/simu_opera_2DQN_Agent8.keras...\n",
      "🚀 Création d'un nouveau modèle 2DQN...\n",
      "🔄 Loading pre-trained model for Agent 9 from models/simu_opera_2DQN_Agent9.keras...\n",
      "🚀 Création d'un nouveau modèle 2DQN...\n",
      "🔄 Loading pre-trained model for Agent 10 from models/simu_opera_2DQN_Agent10.keras...\n",
      "🚀 Création d'un nouveau modèle 2DQN...\n",
      "🔄 Loading pre-trained model for Agent 11 from models/simu_opera_2DQN_Agent11.keras...\n",
      "🚀 Création d'un nouveau modèle 2DQN...\n",
      "🔄 Loading pre-trained model for Agent 12 from models/simu_opera_2DQN_Agent12.keras...\n",
      "🔄 Episode 0/1\n",
      " Retrying in 1 seconds\n",
      "***Starting server on port 56867 ***\n"
     ]
    },
    {
     "name": "stderr",
     "output_type": "stream",
     "text": [
      "Warning: Environment variable SUMO_HOME is not set properly, disabling XML validation. Set 'auto' or 'always' for web lookups.\n"
     ]
    },
    {
     "name": "stdout",
     "output_type": "stream",
     "text": [
      "Loading net-file from '/Users/arseneclaustre/code/psels/RL_traffic/Traffic/Opera_2/osm.net.xml.gz' ... done (35ms).\n",
      "Loading additional-files from '/Users/arseneclaustre/code/psels/RL_traffic/Traffic/Opera_2/osm.poly.xml.gz' ... done (4ms).\n",
      "Loading route-files incrementally from '/Users/arseneclaustre/code/psels/RL_traffic/Traffic/Opera_2/osm.passenger.trips.xml'\n",
      "Loading done.\n",
      "Simulation version v1_22_0+0748-755b84baf8f started with time: 0.00.\n",
      "Simulation ended at time: 1500.00.\n",
      "Reason: TraCI requested termination.\n",
      "Performance:\n",
      " Duration: 1.28s\n",
      " TraCI-Duration: 1.09s\n",
      " Real time factor: 1176.47\n",
      " UPS: 29187.450980\n",
      "Vehicles:\n",
      " Inserted: 234 (Loaded: 861)\n",
      " Running: 24\n",
      " Waiting: 0\n",
      " Teleports: 3 (Yield: 3)\n",
      "Statistics (avg of 210):\n",
      " RouteLength: 581.75\n",
      " Speed: 4.22\n",
      " Duration: 165.79\n",
      " WaitingTime: 74.83\n",
      " TimeLoss: 95.04\n",
      " DepartDelay: 0.79\n",
      "DijkstraRouter answered 235 queries and explored 65.10 edges on average.\n",
      "DijkstraRouter spent 0.00s answering queries (0.00ms on average).\n",
      "✅ Model saved for Agent 0 at: models/simu_opera_2DQN_Agent0.keras\n",
      "✅ Model saved for Agent 1 at: models/simu_opera_2DQN_Agent1.keras\n",
      "✅ Model saved for Agent 2 at: models/simu_opera_2DQN_Agent2.keras\n",
      "✅ Model saved for Agent 3 at: models/simu_opera_2DQN_Agent3.keras\n",
      "✅ Model saved for Agent 4 at: models/simu_opera_2DQN_Agent4.keras\n",
      "✅ Model saved for Agent 5 at: models/simu_opera_2DQN_Agent5.keras\n",
      "✅ Model saved for Agent 6 at: models/simu_opera_2DQN_Agent6.keras\n",
      "✅ Model saved for Agent 7 at: models/simu_opera_2DQN_Agent7.keras\n",
      "✅ Model saved for Agent 8 at: models/simu_opera_2DQN_Agent8.keras\n",
      "✅ Model saved for Agent 9 at: models/simu_opera_2DQN_Agent9.keras\n",
      "✅ Model saved for Agent 10 at: models/simu_opera_2DQN_Agent10.keras\n",
      "✅ Model saved for Agent 11 at: models/simu_opera_2DQN_Agent11.keras\n",
      "✅ Model saved for Agent 12 at: models/simu_opera_2DQN_Agent12.keras\n",
      "🔄 Loading pre-trained model for Agent 0 from models/simu_opera_2DQN_Agent0.keras...\n",
      "🚀 Création d'un nouveau modèle 2DQN...\n",
      "🔄 Loading pre-trained model for Agent 1 from models/simu_opera_2DQN_Agent1.keras...\n",
      "🚀 Création d'un nouveau modèle 2DQN...\n",
      "🔄 Loading pre-trained model for Agent 2 from models/simu_opera_2DQN_Agent2.keras...\n",
      "🚀 Création d'un nouveau modèle 2DQN...\n",
      "🔄 Loading pre-trained model for Agent 3 from models/simu_opera_2DQN_Agent3.keras...\n",
      "🚀 Création d'un nouveau modèle 2DQN...\n",
      "🔄 Loading pre-trained model for Agent 4 from models/simu_opera_2DQN_Agent4.keras...\n",
      "🚀 Création d'un nouveau modèle 2DQN...\n",
      "🔄 Loading pre-trained model for Agent 5 from models/simu_opera_2DQN_Agent5.keras...\n",
      "🚀 Création d'un nouveau modèle 2DQN...\n",
      "🔄 Loading pre-trained model for Agent 6 from models/simu_opera_2DQN_Agent6.keras...\n",
      "🚀 Création d'un nouveau modèle 2DQN...\n",
      "🔄 Loading pre-trained model for Agent 7 from models/simu_opera_2DQN_Agent7.keras...\n",
      "🚀 Création d'un nouveau modèle 2DQN...\n",
      "🔄 Loading pre-trained model for Agent 8 from models/simu_opera_2DQN_Agent8.keras...\n",
      "🚀 Création d'un nouveau modèle 2DQN...\n",
      "🔄 Loading pre-trained model for Agent 9 from models/simu_opera_2DQN_Agent9.keras...\n",
      "🚀 Création d'un nouveau modèle 2DQN...\n",
      "🔄 Loading pre-trained model for Agent 10 from models/simu_opera_2DQN_Agent10.keras...\n",
      "🚀 Création d'un nouveau modèle 2DQN...\n",
      "🔄 Loading pre-trained model for Agent 11 from models/simu_opera_2DQN_Agent11.keras...\n",
      "🚀 Création d'un nouveau modèle 2DQN...\n",
      "🔄 Loading pre-trained model for Agent 12 from models/simu_opera_2DQN_Agent12.keras...\n",
      "🚀 Création d'un nouveau modèle 2DQN...\n",
      "20\n",
      "['/Users/arseneclaustre/sumo/bin/sumo-gui', '-c', '/Users/arseneclaustre/code/psels/RL_traffic/Traffic/Opera_2/osm.sumocfg', '--start', '--no-warnings', '--scale', '0.3']\n",
      " Retrying in 1 seconds\n",
      "WARNING:tensorflow:5 out of the last 5 calls to <function TensorFlowTrainer.make_predict_function.<locals>.one_step_on_data_distributed at 0x14c2a7490> triggered tf.function retracing. Tracing is expensive and the excessive number of tracings could be due to (1) creating @tf.function repeatedly in a loop, (2) passing tensors with different shapes, (3) passing Python objects instead of tensors. For (1), please define your @tf.function outside of the loop. For (2), @tf.function has reduce_retracing=True option that can avoid unnecessary retracing. For (3), please refer to https://www.tensorflow.org/guide/function#controlling_retracing and https://www.tensorflow.org/api_docs/python/tf/function for  more details.\n",
      "WARNING:tensorflow:6 out of the last 6 calls to <function TensorFlowTrainer.make_predict_function.<locals>.one_step_on_data_distributed at 0x14c26eef0> triggered tf.function retracing. Tracing is expensive and the excessive number of tracings could be due to (1) creating @tf.function repeatedly in a loop, (2) passing tensors with different shapes, (3) passing Python objects instead of tensors. For (1), please define your @tf.function outside of the loop. For (2), @tf.function has reduce_retracing=True option that can avoid unnecessary retracing. For (3), please refer to https://www.tensorflow.org/guide/function#controlling_retracing and https://www.tensorflow.org/api_docs/python/tf/function for  more details.\n"
     ]
    }
   ],
   "source": [
    "\n",
    "type_model = \"2DQN\"\n",
    "print(EPISODE,NAME_SIMULATION)\n",
    "EPISODE = 1\n",
    "inputs_per_agents, outputs_per_agents,positions_phases = preprocess()\n",
    "print(f'inputs : {inputs_per_agents}')\n",
    "print(f'outputs : {outputs_per_agents}')\n",
    "print(f'positions : {positions_phases}')\n",
    "train_models(inputs_per_agents, outputs_per_agents, positions_phases, type_model)\n",
    "agents = load_trained_agents(inputs_per_agents, outputs_per_agents, type_model)\n",
    "scenario(agents,positions_phases)\n"
   ]
  },
  {
   "cell_type": "code",
   "execution_count": null,
   "metadata": {},
   "outputs": [
    {
     "name": "stdout",
     "output_type": "stream",
     "text": [
      "simu_opera\n"
     ]
    }
   ],
   "source": [
    "print(NAME_SIMULATION)"
   ]
  },
  {
   "cell_type": "code",
   "execution_count": null,
   "metadata": {},
   "outputs": [
    {
     "name": "stdout",
     "output_type": "stream",
     "text": [
      "/Users/arseneclaustre/code/psels/RL_traffic/Traffic/double_traffic/double_traffic.sumo.cfg\n",
      "simu_2_carrefours\n",
      " Retrying in 1 seconds\n"
     ]
    },
    {
     "name": "stderr",
     "output_type": "stream",
     "text": [
      "Warning: Environment variable SUMO_HOME is not set properly, disabling XML validation. Set 'auto' or 'always' for web lookups.\n"
     ]
    },
    {
     "name": "stdout",
     "output_type": "stream",
     "text": [
      "Step #0.00 (0ms ?*RT. ?UPS, TraCI: 4ms, vehicles TOT 0 ACT 0 BUF 0)                      \n"
     ]
    }
   ],
   "source": [
    "type_model = \"2DQN\"\n",
    "print(SIMUL_CONFIG)\n",
    "#SIMUL_CONFIG = \"/Users/arseneclaustre/code/psels/RL_traffic/Traffic/Traditional_traffic/traditional_traffic.sumo.cfg\"\n",
    "EPISODE = 50\n",
    "print(NAME_SIMULATION)\n",
    "inputs_per_agents, outputs_per_agents,positions_phases = preprocess()"
   ]
  },
  {
   "cell_type": "code",
   "execution_count": null,
   "metadata": {},
   "outputs": [
    {
     "name": "stdout",
     "output_type": "stream",
     "text": [
      "🔄 Loading pre-trained model for Agent 0 from models/simu_opera_2DQN_Agent0.keras...\n",
      "🚀 Création d'un nouveau modèle 2DQN...\n",
      "🔄 Loading pre-trained model for Agent 1 from models/simu_opera_2DQN_Agent1.keras...\n",
      "🚀 Création d'un nouveau modèle 2DQN...\n",
      "🔄 Loading pre-trained model for Agent 2 from models/simu_opera_2DQN_Agent2.keras...\n",
      "🚀 Création d'un nouveau modèle 2DQN...\n",
      "🔄 Loading pre-trained model for Agent 3 from models/simu_opera_2DQN_Agent3.keras...\n",
      "🚀 Création d'un nouveau modèle 2DQN...\n",
      "🔄 Loading pre-trained model for Agent 4 from models/simu_opera_2DQN_Agent4.keras...\n",
      "🚀 Création d'un nouveau modèle 2DQN...\n",
      "🔄 Loading pre-trained model for Agent 5 from models/simu_opera_2DQN_Agent5.keras...\n",
      "🚀 Création d'un nouveau modèle 2DQN...\n",
      "🔄 Loading pre-trained model for Agent 6 from models/simu_opera_2DQN_Agent6.keras...\n",
      "🚀 Création d'un nouveau modèle 2DQN...\n",
      "🔄 Loading pre-trained model for Agent 7 from models/simu_opera_2DQN_Agent7.keras...\n",
      "🚀 Création d'un nouveau modèle 2DQN...\n",
      "🔄 Loading pre-trained model for Agent 8 from models/simu_opera_2DQN_Agent8.keras...\n",
      "🚀 Création d'un nouveau modèle 2DQN...\n",
      "🔄 Loading pre-trained model for Agent 9 from models/simu_opera_2DQN_Agent9.keras...\n",
      "🚀 Création d'un nouveau modèle 2DQN...\n",
      "🔄 Loading pre-trained model for Agent 10 from models/simu_opera_2DQN_Agent10.keras...\n",
      "🚀 Création d'un nouveau modèle 2DQN...\n",
      "🔄 Loading pre-trained model for Agent 11 from models/simu_opera_2DQN_Agent11.keras...\n",
      "🚀 Création d'un nouveau modèle 2DQN...\n",
      "🔄 Loading pre-trained model for Agent 12 from models/simu_opera_2DQN_Agent12.keras...\n",
      "🚀 Création d'un nouveau modèle 2DQN...\n"
     ]
    }
   ],
   "source": [
    "agents = load_trained_agents(inputs_per_agents, outputs_per_agents, type_model)"
   ]
  },
  {
   "cell_type": "code",
   "execution_count": null,
   "metadata": {},
   "outputs": [
    {
     "name": "stdout",
     "output_type": "stream",
     "text": [
      "20\n",
      "['/Users/arseneclaustre/sumo/bin/sumo-gui', '-c', '/Users/arseneclaustre/code/psels/RL_traffic/Traffic/Opera_2/osm.sumocfg', '--start', '--no-warnings', '--scale', '0.3']\n",
      " Retrying in 1 seconds\n"
     ]
    },
    {
     "ename": "KeyboardInterrupt",
     "evalue": "",
     "output_type": "error",
     "traceback": [
      "\u001b[0;31m---------------------------------------------------------------------------\u001b[0m",
      "\u001b[0;31mKeyboardInterrupt\u001b[0m                         Traceback (most recent call last)",
      "Cell \u001b[0;32mIn[35], line 1\u001b[0m\n\u001b[0;32m----> 1\u001b[0m \u001b[43mscenario\u001b[49m\u001b[43m(\u001b[49m\u001b[43magents\u001b[49m\u001b[43m,\u001b[49m\u001b[43mpositions_phases\u001b[49m\u001b[43m)\u001b[49m\n",
      "Cell \u001b[0;32mIn[24], line 11\u001b[0m, in \u001b[0;36mscenario\u001b[0;34m(agents, positions_phases)\u001b[0m\n\u001b[1;32m      9\u001b[0m \u001b[38;5;66;03m#Store the position phases of the trafficlight in the environment\u001b[39;00m\n\u001b[1;32m     10\u001b[0m env\u001b[38;5;241m.\u001b[39mposition_phases \u001b[38;5;241m=\u001b[39m positions_phases\n\u001b[0;32m---> 11\u001b[0m \u001b[43menv\u001b[49m\u001b[38;5;241;43m.\u001b[39;49m\u001b[43mfull_simul\u001b[49m\u001b[43m(\u001b[49m\u001b[43magents\u001b[49m\u001b[43m)\u001b[49m\n",
      "File \u001b[0;32m~/code/psels/RL_traffic/rl_package/rl_logic/Environnement.py:102\u001b[0m, in \u001b[0;36mEnvironnementSumo.full_simul\u001b[0;34m(self, agents)\u001b[0m\n\u001b[1;32m     99\u001b[0m     \u001b[38;5;28;01mfor\u001b[39;00m i,traffic_light \u001b[38;5;129;01min\u001b[39;00m \u001b[38;5;28menumerate\u001b[39m(\u001b[38;5;28mself\u001b[39m\u001b[38;5;241m.\u001b[39mtrafficlights_ids):\n\u001b[1;32m    100\u001b[0m     \u001b[38;5;66;03m#traci.trafficlight.setPhase(traffic_light,2*actions[i])\u001b[39;00m\n\u001b[1;32m    101\u001b[0m         traci\u001b[38;5;241m.\u001b[39mtrafficlight\u001b[38;5;241m.\u001b[39msetPhase(traffic_light,\u001b[38;5;28mself\u001b[39m\u001b[38;5;241m.\u001b[39mposition_phases[i][actions[i]])\n\u001b[0;32m--> 102\u001b[0m \u001b[43mtraci\u001b[49m\u001b[38;5;241;43m.\u001b[39;49m\u001b[43msimulationStep\u001b[49m\u001b[43m(\u001b[49m\u001b[43m)\u001b[49m\n",
      "File \u001b[0;32m~/.pyenv/versions/3.10.6/envs/RL_traffic/lib/python3.10/site-packages/traci/main.py:198\u001b[0m, in \u001b[0;36msimulationStep\u001b[0;34m(step)\u001b[0m\n\u001b[1;32m    192\u001b[0m \u001b[38;5;28;01mdef\u001b[39;00m\u001b[38;5;250m \u001b[39m\u001b[38;5;21msimulationStep\u001b[39m(step\u001b[38;5;241m=\u001b[39m\u001b[38;5;241m0\u001b[39m):\n\u001b[1;32m    193\u001b[0m \u001b[38;5;250m    \u001b[39m\u001b[38;5;124;03m\"\"\"simulationStep(float) -> None\u001b[39;00m\n\u001b[1;32m    194\u001b[0m \u001b[38;5;124;03m    Make a simulation step and simulate up to the given second in sim time.\u001b[39;00m\n\u001b[1;32m    195\u001b[0m \u001b[38;5;124;03m    If the given value is 0 or absent, exactly one step is performed.\u001b[39;00m\n\u001b[1;32m    196\u001b[0m \u001b[38;5;124;03m    Values smaller than or equal to the current sim time result in no action.\u001b[39;00m\n\u001b[1;32m    197\u001b[0m \u001b[38;5;124;03m    \"\"\"\u001b[39;00m\n\u001b[0;32m--> 198\u001b[0m     \u001b[43mconnection\u001b[49m\u001b[38;5;241;43m.\u001b[39;49m\u001b[43mcheck\u001b[49m\u001b[43m(\u001b[49m\u001b[43m)\u001b[49m\u001b[38;5;241;43m.\u001b[39;49m\u001b[43msimulationStep\u001b[49m\u001b[43m(\u001b[49m\u001b[43mstep\u001b[49m\u001b[43m)\u001b[49m\n",
      "File \u001b[0;32m~/.pyenv/versions/3.10.6/envs/RL_traffic/lib/python3.10/site-packages/traci/connection.py:370\u001b[0m, in \u001b[0;36mConnection.simulationStep\u001b[0;34m(self, step)\u001b[0m\n\u001b[1;32m    368\u001b[0m \u001b[38;5;28;01mif\u001b[39;00m \u001b[38;5;28mtype\u001b[39m(step) \u001b[38;5;129;01mis\u001b[39;00m \u001b[38;5;28mint\u001b[39m \u001b[38;5;129;01mand\u001b[39;00m step \u001b[38;5;241m>\u001b[39m\u001b[38;5;241m=\u001b[39m \u001b[38;5;241m1000\u001b[39m:\n\u001b[1;32m    369\u001b[0m     warnings\u001b[38;5;241m.\u001b[39mwarn(\u001b[38;5;124m\"\u001b[39m\u001b[38;5;124mAPI change now handles step as floating point seconds\u001b[39m\u001b[38;5;124m\"\u001b[39m, stacklevel\u001b[38;5;241m=\u001b[39m\u001b[38;5;241m2\u001b[39m)\n\u001b[0;32m--> 370\u001b[0m result \u001b[38;5;241m=\u001b[39m \u001b[38;5;28;43mself\u001b[39;49m\u001b[38;5;241;43m.\u001b[39;49m\u001b[43m_sendCmd\u001b[49m\u001b[43m(\u001b[49m\u001b[43mtc\u001b[49m\u001b[38;5;241;43m.\u001b[39;49m\u001b[43mCMD_SIMSTEP\u001b[49m\u001b[43m,\u001b[49m\u001b[43m \u001b[49m\u001b[38;5;28;43;01mNone\u001b[39;49;00m\u001b[43m,\u001b[49m\u001b[43m \u001b[49m\u001b[38;5;28;43;01mNone\u001b[39;49;00m\u001b[43m,\u001b[49m\u001b[43m \u001b[49m\u001b[38;5;124;43m\"\u001b[39;49m\u001b[38;5;124;43mD\u001b[39;49m\u001b[38;5;124;43m\"\u001b[39;49m\u001b[43m,\u001b[49m\u001b[43m \u001b[49m\u001b[43mstep\u001b[49m\u001b[43m)\u001b[49m\n\u001b[1;32m    371\u001b[0m \u001b[38;5;28;01mfor\u001b[39;00m subscriptionResults \u001b[38;5;129;01min\u001b[39;00m \u001b[38;5;28mself\u001b[39m\u001b[38;5;241m.\u001b[39m_subscriptionMapping\u001b[38;5;241m.\u001b[39mvalues():\n\u001b[1;32m    372\u001b[0m     subscriptionResults\u001b[38;5;241m.\u001b[39mreset()\n",
      "File \u001b[0;32m~/.pyenv/versions/3.10.6/envs/RL_traffic/lib/python3.10/site-packages/traci/connection.py:232\u001b[0m, in \u001b[0;36mConnection._sendCmd\u001b[0;34m(self, cmdID, varID, objID, format, *values)\u001b[0m\n\u001b[1;32m    230\u001b[0m     \u001b[38;5;28mself\u001b[39m\u001b[38;5;241m.\u001b[39m_string \u001b[38;5;241m+\u001b[39m\u001b[38;5;241m=\u001b[39m struct\u001b[38;5;241m.\u001b[39mpack(\u001b[38;5;124m\"\u001b[39m\u001b[38;5;124m!i\u001b[39m\u001b[38;5;124m\"\u001b[39m, \u001b[38;5;28mlen\u001b[39m(objID)) \u001b[38;5;241m+\u001b[39m objID\n\u001b[1;32m    231\u001b[0m \u001b[38;5;28mself\u001b[39m\u001b[38;5;241m.\u001b[39m_string \u001b[38;5;241m+\u001b[39m\u001b[38;5;241m=\u001b[39m packed\n\u001b[0;32m--> 232\u001b[0m \u001b[38;5;28;01mreturn\u001b[39;00m \u001b[38;5;28;43mself\u001b[39;49m\u001b[38;5;241;43m.\u001b[39;49m\u001b[43m_sendExact\u001b[49m\u001b[43m(\u001b[49m\u001b[43m)\u001b[49m\n",
      "File \u001b[0;32m~/.pyenv/versions/3.10.6/envs/RL_traffic/lib/python3.10/site-packages/traci/connection.py:131\u001b[0m, in \u001b[0;36mConnection._sendExact\u001b[0;34m(self)\u001b[0m\n\u001b[1;32m    129\u001b[0m     \u001b[38;5;28mprint\u001b[39m(\u001b[38;5;124m\"\u001b[39m\u001b[38;5;124msending\u001b[39m\u001b[38;5;124m\"\u001b[39m, Storage(length \u001b[38;5;241m+\u001b[39m \u001b[38;5;28mself\u001b[39m\u001b[38;5;241m.\u001b[39m_string)\u001b[38;5;241m.\u001b[39mgetDebugString())\n\u001b[1;32m    130\u001b[0m \u001b[38;5;28mself\u001b[39m\u001b[38;5;241m.\u001b[39m_socket\u001b[38;5;241m.\u001b[39msend(length \u001b[38;5;241m+\u001b[39m \u001b[38;5;28mself\u001b[39m\u001b[38;5;241m.\u001b[39m_string)\n\u001b[0;32m--> 131\u001b[0m result \u001b[38;5;241m=\u001b[39m \u001b[38;5;28;43mself\u001b[39;49m\u001b[38;5;241;43m.\u001b[39;49m\u001b[43m_recvExact\u001b[49m\u001b[43m(\u001b[49m\u001b[43m)\u001b[49m\n\u001b[1;32m    132\u001b[0m \u001b[38;5;28;01mif\u001b[39;00m _DEBUG:\n\u001b[1;32m    133\u001b[0m     \u001b[38;5;28mprint\u001b[39m(\u001b[38;5;124m\"\u001b[39m\u001b[38;5;124mreceiving\u001b[39m\u001b[38;5;124m\"\u001b[39m, result\u001b[38;5;241m.\u001b[39mgetDebugString())\n",
      "File \u001b[0;32m~/.pyenv/versions/3.10.6/envs/RL_traffic/lib/python3.10/site-packages/traci/connection.py:109\u001b[0m, in \u001b[0;36mConnection._recvExact\u001b[0;34m(self)\u001b[0m\n\u001b[1;32m    107\u001b[0m result \u001b[38;5;241m=\u001b[39m \u001b[38;5;28mbytes\u001b[39m()\n\u001b[1;32m    108\u001b[0m \u001b[38;5;28;01mwhile\u001b[39;00m \u001b[38;5;28mlen\u001b[39m(result) \u001b[38;5;241m<\u001b[39m \u001b[38;5;241m4\u001b[39m:\n\u001b[0;32m--> 109\u001b[0m     t \u001b[38;5;241m=\u001b[39m \u001b[38;5;28;43mself\u001b[39;49m\u001b[38;5;241;43m.\u001b[39;49m\u001b[43m_socket\u001b[49m\u001b[38;5;241;43m.\u001b[39;49m\u001b[43mrecv\u001b[49m\u001b[43m(\u001b[49m\u001b[38;5;241;43m4\u001b[39;49m\u001b[43m \u001b[49m\u001b[38;5;241;43m-\u001b[39;49m\u001b[43m \u001b[49m\u001b[38;5;28;43mlen\u001b[39;49m\u001b[43m(\u001b[49m\u001b[43mresult\u001b[49m\u001b[43m)\u001b[49m\u001b[43m)\u001b[49m\n\u001b[1;32m    110\u001b[0m     \u001b[38;5;28;01mif\u001b[39;00m \u001b[38;5;129;01mnot\u001b[39;00m t:\n\u001b[1;32m    111\u001b[0m         \u001b[38;5;28;01mreturn\u001b[39;00m \u001b[38;5;28;01mNone\u001b[39;00m\n",
      "\u001b[0;31mKeyboardInterrupt\u001b[0m: "
     ]
    }
   ],
   "source": [
    "scenario(agents,positions_phases)"
   ]
  }
 ],
 "metadata": {
  "kernelspec": {
   "display_name": "RL_traffic",
   "language": "python",
   "name": "python3"
  },
  "language_info": {
   "codemirror_mode": {
    "name": "ipython",
    "version": 3
   },
   "file_extension": ".py",
   "mimetype": "text/x-python",
   "name": "python",
   "nbconvert_exporter": "python",
   "pygments_lexer": "ipython3",
   "version": "3.10.6"
  }
 },
 "nbformat": 4,
 "nbformat_minor": 2
}
