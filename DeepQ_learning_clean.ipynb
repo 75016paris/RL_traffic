{
 "cells": [
  {
   "cell_type": "code",
   "execution_count": 17,
   "metadata": {},
   "outputs": [
    {
     "name": "stdout",
     "output_type": "stream",
     "text": [
      "The autoreload extension is already loaded. To reload it, use:\n",
      "  %reload_ext autoreload\n"
     ]
    }
   ],
   "source": [
    "%load_ext autoreload\n",
    "%autoreload 2"
   ]
  },
  {
   "cell_type": "code",
   "execution_count": 18,
   "metadata": {},
   "outputs": [],
   "source": [
    "from state import get_state, queue\n",
    "from basic.reward_basic import calculate_reward\n",
    "from basic.learner_basic import Learner\n",
    "from traffic_lights_maps import get_traffic_light_phases, make_map\n",
    "import os\n",
    "import sys\n",
    "\n",
    "import traci\n",
    "import random\n",
    "import gym\n",
    "from gym import spaces"
   ]
  },
  {
   "cell_type": "code",
   "execution_count": 19,
   "metadata": {},
   "outputs": [],
   "source": [
    "from tensorflow.keras import Sequential, layers\n",
    "from tensorflow.random import set_seed\n",
    "import numpy as np\n",
    "from collections import deque\n",
    "from tensorflow import keras\n",
    "from tensorflow import reduce_sum, reduce_mean, one_hot, GradientTape\n",
    "from tensorflow.keras.losses import MeanSquaredError\n",
    "import matplotlib.pyplot as plt\n",
    "import tensorflow as tf"
   ]
  },
  {
   "cell_type": "code",
   "execution_count": 29,
   "metadata": {},
   "outputs": [
    {
     "name": "stderr",
     "output_type": "stream",
     "text": [
      "/Users/arseneclaustre/.pyenv/versions/3.10.6/envs/RL_traffic/lib/python3.10/site-packages/keras/src/layers/activations/leaky_relu.py:41: UserWarning: Argument `alpha` is deprecated. Use `negative_slope` instead.\n",
      "  warnings.warn(\n",
      "/Users/arseneclaustre/.pyenv/versions/3.10.6/envs/RL_traffic/lib/python3.10/site-packages/keras/src/layers/core/dense.py:87: UserWarning: Do not pass an `input_shape`/`input_dim` argument to a layer. When using Sequential models, prefer using an `Input(shape)` object as the first layer in the model instead.\n",
      "  super().__init__(activity_regularizer=activity_regularizer, **kwargs)\n"
     ]
    }
   ],
   "source": [
    "set_seed(42)  # extra code – ensures reproducibility on the CPU\n",
    "\n",
    "input_shape = [48]  # == env.observation_space.shape\n",
    "n_outputs = 4  # == env.action_space.n\n",
    "#[((Phase(duration=30.0, state='GGrGrrGGrGrr', minDur=30.0, maxDur=30.0), Phase(duration=20.0, state='grGgrrgrGgrr', minDur=20.0, maxDur=20.0), Phase(duration=30.0, state='GrrGGrGrrGGr', minDur=30.0, maxDur=30.0), Phase(duration=20.0, state='grrgrGgrrgrG', minDur=20.0, maxDur=20.0)), [0, 2, 4, 6])]\n",
    "model_action = Sequential([\n",
    "    layers.Dense(32,activation=tf.keras.layers.LeakyReLU(alpha=0.01), input_shape=input_shape),\n",
    "    layers.Dense(32, activation=tf.keras.layers.LeakyReLU(alpha=0.01)),\n",
    "    layers.Dense(n_outputs, activation= 'linear')])"
   ]
  },
  {
   "cell_type": "code",
   "execution_count": 30,
   "metadata": {},
   "outputs": [],
   "source": [
    "def epsilon_greedy_policy(state, epsilon=0):\n",
    "    if np.random.rand() < epsilon:\n",
    "        return np.random.randint(n_outputs)  # random action\n",
    "    else:\n",
    "        Q_values = model_action.predict(state[np.newaxis], verbose=0)[0]\n",
    "        print(f\"state : {state}\")\n",
    "        print(f\"Q_values : {Q_values}\")\n",
    "        return Q_values.argmax()  # optimal action according to the DQN"
   ]
  },
  {
   "cell_type": "code",
   "execution_count": 31,
   "metadata": {},
   "outputs": [],
   "source": [
    "def sample_experiences(batch_size):\n",
    "    indices = np.random.randint(len(replay_buffer), size=batch_size)\n",
    "    batch = [replay_buffer[index] for index in indices]\n",
    "    states, actions, rewards, next_states = [\n",
    "        np.array([experience[field_index] for experience in batch])\n",
    "        for field_index in range(4)\n",
    "    ]\n",
    "    return states, actions, rewards, next_states"
   ]
  },
  {
   "cell_type": "code",
   "execution_count": 32,
   "metadata": {},
   "outputs": [],
   "source": [
    "batch_size = 32\n",
    "discount_factor = 0.5\n",
    "optimizer = keras.optimizers.Adam(learning_rate=0.05)\n",
    "loss_fn = MeanSquaredError()\n",
    "\n",
    "def training_step(batch_size):\n",
    "    experiences = sample_experiences(batch_size)\n",
    "    states, actions, rewards, next_states = experiences  # a changer\n",
    "    next_Q_values = model_action.predict(next_states, verbose=0)\n",
    "    max_next_Q_values = next_Q_values.max(axis=1)\n",
    "    # runs = 1.0 - (dones | truncateds)  # episode is not done or truncated\n",
    "    target_Q_values = rewards + discount_factor * max_next_Q_values\n",
    "    target_Q_values = target_Q_values.reshape(-1, 1)\n",
    "    mask = one_hot(actions, n_outputs)\n",
    "    with GradientTape() as tape:\n",
    "        all_Q_values = model_action(states)\n",
    "        Q_values = reduce_sum(all_Q_values * mask, axis=1, keepdims=True)\n",
    "        loss = reduce_mean(loss_fn(target_Q_values, Q_values))\n",
    "\n",
    "    grads = tape.gradient(loss, model_action.trainable_variables)\n",
    "    optimizer.apply_gradients(zip(grads, model_action.trainable_variables))"
   ]
  },
  {
   "cell_type": "code",
   "execution_count": 33,
   "metadata": {},
   "outputs": [
    {
     "name": "stdout",
     "output_type": "stream",
     "text": [
      " Retrying in 1 seconds\n"
     ]
    },
    {
     "name": "stderr",
     "output_type": "stream",
     "text": [
      "Warning: Environment variable SUMO_HOME is not set properly, disabling XML validation. Set 'auto' or 'always' for web lookups.\n"
     ]
    },
    {
     "name": "stdout",
     "output_type": "stream",
     "text": [
      "episode : 0\n",
      "Step #100.00 (1ms ~= 10.00*RT, ~5000.00UPS, TraCI: 0ms, vehicles TOT 33 ACT 5 BUF 0)       \n",
      " Retrying in 1 seconds\n"
     ]
    },
    {
     "name": "stderr",
     "output_type": "stream",
     "text": [
      "Warning: Environment variable SUMO_HOME is not set properly, disabling XML validation. Set 'auto' or 'always' for web lookups.\n"
     ]
    },
    {
     "name": "stdout",
     "output_type": "stream",
     "text": [
      "episode : 1\n",
      "Step #100.00 (0ms ?*RT. ?UPS, TraCI: 0ms, vehicles TOT 33 ACT 11 BUF 0)                    \n",
      " Retrying in 1 seconds\n"
     ]
    },
    {
     "name": "stderr",
     "output_type": "stream",
     "text": [
      "Warning: Environment variable SUMO_HOME is not set properly, disabling XML validation. Set 'auto' or 'always' for web lookups.\n"
     ]
    },
    {
     "name": "stdout",
     "output_type": "stream",
     "text": [
      "episode : 2\n",
      "Step #100.00 (0ms ?*RT. ?UPS, TraCI: 0ms, vehicles TOT 33 ACT 2 BUF 0)                     \n",
      " Retrying in 1 seconds\n"
     ]
    },
    {
     "name": "stderr",
     "output_type": "stream",
     "text": [
      "Warning: Environment variable SUMO_HOME is not set properly, disabling XML validation. Set 'auto' or 'always' for web lookups.\n"
     ]
    },
    {
     "name": "stdout",
     "output_type": "stream",
     "text": [
      "episode : 3\n",
      "Step #100.00 (0ms ?*RT. ?UPS, TraCI: 0ms, vehicles TOT 33 ACT 8 BUF 0)                     \n",
      " Retrying in 1 seconds\n"
     ]
    },
    {
     "name": "stderr",
     "output_type": "stream",
     "text": [
      "Warning: Environment variable SUMO_HOME is not set properly, disabling XML validation. Set 'auto' or 'always' for web lookups.\n"
     ]
    },
    {
     "name": "stdout",
     "output_type": "stream",
     "text": [
      "episode : 4\n",
      "Step #100.00 (0ms ?*RT. ?UPS, TraCI: 0ms, vehicles TOT 33 ACT 8 BUF 0)                     \n",
      " Retrying in 1 seconds\n"
     ]
    },
    {
     "name": "stderr",
     "output_type": "stream",
     "text": [
      "Warning: Environment variable SUMO_HOME is not set properly, disabling XML validation. Set 'auto' or 'always' for web lookups.\n"
     ]
    },
    {
     "name": "stdout",
     "output_type": "stream",
     "text": [
      "episode : 5\n",
      "Step #100.00 (0ms ?*RT. ?UPS, TraCI: 0ms, vehicles TOT 33 ACT 1 BUF 0)                     \n",
      " Retrying in 1 seconds\n"
     ]
    },
    {
     "name": "stderr",
     "output_type": "stream",
     "text": [
      "Warning: Environment variable SUMO_HOME is not set properly, disabling XML validation. Set 'auto' or 'always' for web lookups.\n"
     ]
    },
    {
     "name": "stdout",
     "output_type": "stream",
     "text": [
      "state : [0 0 0 0 0 0 0 0 0 0 0 0 0 0 0 0 0 0 0 0 0 0 0 0 0 0 0 0 0 0 0 0 0 0 0 0 0\n",
      " 0 0 0 0 0 0 0 0 0 0 0]\n",
      "Q_values : [0. 0. 0. 0.]\n",
      "episode : 6\n",
      "Step #100.00 (0ms ?*RT. ?UPS, TraCI: 0ms, vehicles TOT 33 ACT 4 BUF 0)                     \n",
      " Retrying in 1 seconds\n"
     ]
    },
    {
     "name": "stderr",
     "output_type": "stream",
     "text": [
      "Warning: Environment variable SUMO_HOME is not set properly, disabling XML validation. Set 'auto' or 'always' for web lookups.\n"
     ]
    },
    {
     "name": "stdout",
     "output_type": "stream",
     "text": [
      "episode : 7\n",
      "Step #100.00 (0ms ?*RT. ?UPS, TraCI: 0ms, vehicles TOT 33 ACT 7 BUF 0)                     \n",
      " Retrying in 1 seconds\n"
     ]
    },
    {
     "name": "stderr",
     "output_type": "stream",
     "text": [
      "Warning: Environment variable SUMO_HOME is not set properly, disabling XML validation. Set 'auto' or 'always' for web lookups.\n"
     ]
    },
    {
     "name": "stdout",
     "output_type": "stream",
     "text": [
      "episode : 8\n",
      "Step #100.00 (0ms ?*RT. ?UPS, TraCI: 0ms, vehicles TOT 33 ACT 10 BUF 0)                    \n",
      " Retrying in 1 seconds\n"
     ]
    },
    {
     "name": "stderr",
     "output_type": "stream",
     "text": [
      "Warning: Environment variable SUMO_HOME is not set properly, disabling XML validation. Set 'auto' or 'always' for web lookups.\n"
     ]
    },
    {
     "name": "stdout",
     "output_type": "stream",
     "text": [
      "episode : 9\n",
      "Step #100.00 (0ms ?*RT. ?UPS, TraCI: 0ms, vehicles TOT 33 ACT 11 BUF 0)                    \n",
      " Retrying in 1 seconds\n"
     ]
    },
    {
     "name": "stderr",
     "output_type": "stream",
     "text": [
      "Warning: Environment variable SUMO_HOME is not set properly, disabling XML validation. Set 'auto' or 'always' for web lookups.\n"
     ]
    },
    {
     "name": "stdout",
     "output_type": "stream",
     "text": [
      "episode : 10\n",
      "Step #100.00 (0ms ?*RT. ?UPS, TraCI: 0ms, vehicles TOT 33 ACT 11 BUF 0)                    \n",
      " Retrying in 1 seconds\n"
     ]
    },
    {
     "name": "stderr",
     "output_type": "stream",
     "text": [
      "Warning: Environment variable SUMO_HOME is not set properly, disabling XML validation. Set 'auto' or 'always' for web lookups.\n"
     ]
    },
    {
     "name": "stdout",
     "output_type": "stream",
     "text": [
      "episode : 11\n",
      "Step #100.00 (0ms ?*RT. ?UPS, TraCI: 0ms, vehicles TOT 33 ACT 10 BUF 0)                    \n",
      " Retrying in 1 seconds\n"
     ]
    },
    {
     "name": "stderr",
     "output_type": "stream",
     "text": [
      "Warning: Environment variable SUMO_HOME is not set properly, disabling XML validation. Set 'auto' or 'always' for web lookups.\n"
     ]
    },
    {
     "name": "stdout",
     "output_type": "stream",
     "text": [
      "episode : 12\n",
      "Step #100.00 (0ms ?*RT. ?UPS, TraCI: 0ms, vehicles TOT 33 ACT 0 BUF 0)                     \n",
      " Retrying in 1 seconds\n"
     ]
    },
    {
     "name": "stderr",
     "output_type": "stream",
     "text": [
      "Warning: Environment variable SUMO_HOME is not set properly, disabling XML validation. Set 'auto' or 'always' for web lookups.\n"
     ]
    },
    {
     "name": "stdout",
     "output_type": "stream",
     "text": [
      "state : [0 1 0 0 0 0 0 0 0 0 0 0 0 0 0 0 0 0 0 0 0 0 0 0 0 1 0 0 0 0 0 0 0 0 0 0 0\n",
      " 0 3 0 4 0 0 0 0 0 4 0]\n",
      "Q_values : [-0.45146975 -0.19024801  0.46897995  0.10994151]\n",
      "episode : 13\n",
      "Step #100.00 (0ms ?*RT. ?UPS, TraCI: 0ms, vehicles TOT 33 ACT 1 BUF 0)                     \n",
      " Retrying in 1 seconds\n"
     ]
    },
    {
     "name": "stderr",
     "output_type": "stream",
     "text": [
      "Warning: Environment variable SUMO_HOME is not set properly, disabling XML validation. Set 'auto' or 'always' for web lookups.\n"
     ]
    },
    {
     "name": "stdout",
     "output_type": "stream",
     "text": [
      "episode : 14\n",
      "Step #100.00 (0ms ?*RT. ?UPS, TraCI: 0ms, vehicles TOT 33 ACT 10 BUF 0)                    \n",
      " Retrying in 1 seconds\n"
     ]
    },
    {
     "name": "stderr",
     "output_type": "stream",
     "text": [
      "Warning: Environment variable SUMO_HOME is not set properly, disabling XML validation. Set 'auto' or 'always' for web lookups.\n"
     ]
    },
    {
     "name": "stdout",
     "output_type": "stream",
     "text": [
      "state : [0 0 0 0 0 0 0 0 0 0 0 0 0 0 0 0 0 0 0 0 0 0 0 0 0 0 0 0 0 0 0 0 0 0 0 0 0\n",
      " 0 0 0 0 0 0 0 0 0 0 0]\n",
      "Q_values : [0. 0. 0. 0.]\n",
      "episode : 15\n",
      "Step #100.00 (0ms ?*RT. ?UPS, TraCI: 0ms, vehicles TOT 33 ACT 20 BUF 0)                    \n",
      " Retrying in 1 seconds\n"
     ]
    },
    {
     "name": "stderr",
     "output_type": "stream",
     "text": [
      "Warning: Environment variable SUMO_HOME is not set properly, disabling XML validation. Set 'auto' or 'always' for web lookups.\n"
     ]
    },
    {
     "name": "stdout",
     "output_type": "stream",
     "text": [
      "state : [0 1 1 0 1 0 0 0 0 0 0 0 0 0 0 0 0 0 0 0 0 0 0 0 0 1 1 4 6 4 0 0 0 4 4 1 2\n",
      " 0 0 0 0 0 0 0 1 1 0 0]\n",
      "Q_values : [-0.05142614 -0.6805252  -0.42984784  0.44158518]\n",
      "episode : 16\n",
      "Step #100.00 (0ms ?*RT. ?UPS, TraCI: 0ms, vehicles TOT 33 ACT 1 BUF 0)                     \n",
      " Retrying in 1 seconds\n"
     ]
    },
    {
     "name": "stderr",
     "output_type": "stream",
     "text": [
      "Warning: Environment variable SUMO_HOME is not set properly, disabling XML validation. Set 'auto' or 'always' for web lookups.\n"
     ]
    },
    {
     "name": "stdout",
     "output_type": "stream",
     "text": [
      "state : [0 0 0 0 0 0 0 0 0 0 0 0 0 0 0 0 0 0 0 0 0 0 0 0 0 1 1 6 7 4 0 0 0 0 0 0 0\n",
      " 0 0 0 0 0 0 0 0 0 0 0]\n",
      "Q_values : [ 0.03474525  0.5672892  -0.848768   -0.39419878]\n",
      "episode : 17\n",
      "Step #100.00 (0ms ?*RT. ?UPS, TraCI: 0ms, vehicles TOT 33 ACT 0 BUF 0)                     \n",
      " Retrying in 1 seconds\n"
     ]
    },
    {
     "name": "stderr",
     "output_type": "stream",
     "text": [
      "Warning: Environment variable SUMO_HOME is not set properly, disabling XML validation. Set 'auto' or 'always' for web lookups.\n"
     ]
    },
    {
     "name": "stdout",
     "output_type": "stream",
     "text": [
      "episode : 18\n",
      "Step #100.00 (0ms ?*RT. ?UPS, TraCI: 0ms, vehicles TOT 33 ACT 0 BUF 0)                     \n",
      " Retrying in 1 seconds\n"
     ]
    },
    {
     "name": "stderr",
     "output_type": "stream",
     "text": [
      "Warning: Environment variable SUMO_HOME is not set properly, disabling XML validation. Set 'auto' or 'always' for web lookups.\n"
     ]
    },
    {
     "name": "stdout",
     "output_type": "stream",
     "text": [
      "state : [0 0 1 0 0 0 0 0 0 0 1 0 0 0 0 0 0 0 0 0 0 0 0 0 0 0 1 0 0 0 0 0 0 0 1 0 0\n",
      " 0 4 0 0 0 0 0 1 0 0 0]\n",
      "Q_values : [-0.23225044  0.07630242  0.37902096 -0.24742612]\n",
      "episode : 19\n",
      "Step #100.00 (0ms ?*RT. ?UPS, TraCI: 0ms, vehicles TOT 33 ACT 1 BUF 0)                     \n",
      " Retrying in 1 seconds\n"
     ]
    },
    {
     "name": "stderr",
     "output_type": "stream",
     "text": [
      "Warning: Environment variable SUMO_HOME is not set properly, disabling XML validation. Set 'auto' or 'always' for web lookups.\n"
     ]
    },
    {
     "name": "stdout",
     "output_type": "stream",
     "text": [
      "state : [0 0 1 0 1 1 0 0 0 0 0 0 0 0 0 0 0 0 0 0 0 0 0 0 0 0 1 4 6 6 0 0 0 4 4 1 2\n",
      " 0 0 0 0 0 0 1 0 1 0 0]\n",
      "Q_values : [-0.0243894  -0.7350672  -0.16610372  0.2014593 ]\n",
      "episode : 20\n",
      "Step #100.00 (0ms ?*RT. ?UPS, TraCI: 0ms, vehicles TOT 33 ACT 0 BUF 0)                     \n",
      " Retrying in 1 seconds\n"
     ]
    },
    {
     "name": "stderr",
     "output_type": "stream",
     "text": [
      "Warning: Environment variable SUMO_HOME is not set properly, disabling XML validation. Set 'auto' or 'always' for web lookups.\n"
     ]
    },
    {
     "name": "stdout",
     "output_type": "stream",
     "text": [
      "episode : 21\n",
      "Step #100.00 (0ms ?*RT. ?UPS, TraCI: 0ms, vehicles TOT 33 ACT 5 BUF 0)                     \n",
      " Retrying in 1 seconds\n"
     ]
    },
    {
     "name": "stderr",
     "output_type": "stream",
     "text": [
      "Warning: Environment variable SUMO_HOME is not set properly, disabling XML validation. Set 'auto' or 'always' for web lookups.\n"
     ]
    },
    {
     "name": "stdout",
     "output_type": "stream",
     "text": [
      "state : [0 0 1 0 0 0 0 0 0 0 0 1 0 0 0 0 0 0 0 0 0 0 0 0 0 0 1 0 0 0 0 0 0 1 1 4 3\n",
      " 0 0 0 2 0 3 0 3 0 6 0]\n",
      "Q_values : [-1.3958875  -1.2923119   0.48825514 -0.26981744]\n",
      "episode : 22\n",
      "Step #100.00 (0ms ?*RT. ?UPS, TraCI: 0ms, vehicles TOT 33 ACT 0 BUF 0)                     \n",
      " Retrying in 1 seconds\n"
     ]
    },
    {
     "name": "stderr",
     "output_type": "stream",
     "text": [
      "Warning: Environment variable SUMO_HOME is not set properly, disabling XML validation. Set 'auto' or 'always' for web lookups.\n"
     ]
    },
    {
     "name": "stdout",
     "output_type": "stream",
     "text": [
      "state : [0 0 0 0 1 1 0 0 0 0 0 0 0 0 0 0 0 0 0 0 0 0 0 0 0 0 0 4 6 6 0 0 0 4 4 1 2\n",
      " 0 0 0 0 1 0 1 0 1 0 0]\n",
      "Q_values : [-0.25076902 -0.5538528   0.01022142  0.2117034 ]\n",
      "episode : 23\n",
      "Step #100.00 (0ms ?*RT. ?UPS, TraCI: 0ms, vehicles TOT 33 ACT 5 BUF 0)                     \n",
      " Retrying in 1 seconds\n"
     ]
    },
    {
     "name": "stderr",
     "output_type": "stream",
     "text": [
      "Warning: Environment variable SUMO_HOME is not set properly, disabling XML validation. Set 'auto' or 'always' for web lookups.\n"
     ]
    },
    {
     "name": "stdout",
     "output_type": "stream",
     "text": [
      "state : [0 0 0 0 6 0 0 0 0 0 4 1 0 0 0 0 0 0 0 0 0 0 0 0 0 0 0 0 6 0 0 0 0 0 4 1 0\n",
      " 0 3 0 0 1 3 0 3 0 0 0]\n",
      "Q_values : [-1.1697851   0.23183587  2.353033   -0.10366835]\n",
      "episode : 24\n",
      "Step #100.00 (0ms ?*RT. ?UPS, TraCI: 0ms, vehicles TOT 33 ACT 0 BUF 0)                     \n",
      " Retrying in 1 seconds\n"
     ]
    },
    {
     "name": "stderr",
     "output_type": "stream",
     "text": [
      "Warning: Environment variable SUMO_HOME is not set properly, disabling XML validation. Set 'auto' or 'always' for web lookups.\n"
     ]
    },
    {
     "name": "stdout",
     "output_type": "stream",
     "text": [
      "episode : 25\n",
      "Step #100.00 (0ms ?*RT. ?UPS, TraCI: 0ms, vehicles TOT 33 ACT 1 BUF 0)                     \n",
      " Retrying in 1 seconds\n"
     ]
    },
    {
     "name": "stderr",
     "output_type": "stream",
     "text": [
      "Warning: Environment variable SUMO_HOME is not set properly, disabling XML validation. Set 'auto' or 'always' for web lookups.\n"
     ]
    },
    {
     "name": "stdout",
     "output_type": "stream",
     "text": [
      "state : [0 0 0 0 4 4 0 0 0 0 0 0 0 0 0 0 0 0 0 0 0 0 0 0 0 0 0 0 6 6 0 0 0 4 4 4 5\n",
      " 0 0 0 0 0 0 0 0 0 0 0]\n",
      "Q_values : [-1.5144165 -1.4191501  1.888816   1.0314434]\n",
      "state : [0 0 0 0 0 6 0 0 0 0 0 4 0 0 0 0 0 0 0 0 0 0 0 0 0 0 0 0 0 6 0 0 0 0 0 4 0\n",
      " 0 0 0 0 0 0 0 0 0 0 0]\n",
      "Q_values : [-1.9522265 -0.6624952  1.2588916  1.5858204]\n",
      "episode : 26\n",
      "Step #100.00 (0ms ?*RT. ?UPS, TraCI: 0ms, vehicles TOT 33 ACT 10 BUF 0)                    \n",
      " Retrying in 1 seconds\n"
     ]
    },
    {
     "name": "stderr",
     "output_type": "stream",
     "text": [
      "Warning: Environment variable SUMO_HOME is not set properly, disabling XML validation. Set 'auto' or 'always' for web lookups.\n"
     ]
    },
    {
     "name": "stdout",
     "output_type": "stream",
     "text": [
      "state : [0 0 0 0 0 0 0 0 0 0 0 0 0 0 0 0 0 0 0 0 0 0 0 0 1 1 1 3 3 1 0 0 0 0 0 0 0\n",
      " 0 0 0 0 0 0 0 0 0 0 0]\n",
      "Q_values : [ 0.04057351  0.25536615 -0.43769056 -0.07624183]\n",
      "state : [0 0 1 0 4 6 0 0 0 0 2 1 0 0 0 0 0 0 0 0 0 0 0 0 0 0 1 0 4 6 0 0 0 1 4 4 3\n",
      " 0 0 0 0 0 3 0 0 0 0 0]\n",
      "Q_values : [-1.4044456  -1.7611638   1.6877197   0.69145685]\n",
      "episode : 27\n",
      "Step #100.00 (0ms ?*RT. ?UPS, TraCI: 0ms, vehicles TOT 33 ACT 11 BUF 0)                    \n",
      " Retrying in 1 seconds\n"
     ]
    },
    {
     "name": "stderr",
     "output_type": "stream",
     "text": [
      "Warning: Environment variable SUMO_HOME is not set properly, disabling XML validation. Set 'auto' or 'always' for web lookups.\n"
     ]
    },
    {
     "name": "stdout",
     "output_type": "stream",
     "text": [
      "state : [0 0 0 0 0 0 0 0 0 0 0 0 0 0 0 0 0 0 0 0 0 0 0 0 0 0 0 0 0 0 0 0 0 0 0 0 0\n",
      " 0 0 0 0 0 0 0 0 0 0 0]\n",
      "Q_values : [0. 0. 0. 0.]\n",
      "episode : 28\n",
      "Step #100.00 (0ms ?*RT. ?UPS, TraCI: 0ms, vehicles TOT 33 ACT 0 BUF 0)                     \n",
      " Retrying in 1 seconds\n"
     ]
    },
    {
     "name": "stderr",
     "output_type": "stream",
     "text": [
      "Warning: Environment variable SUMO_HOME is not set properly, disabling XML validation. Set 'auto' or 'always' for web lookups.\n"
     ]
    },
    {
     "name": "stdout",
     "output_type": "stream",
     "text": [
      "state : [0 0 0 0 0 1 0 0 0 0 0 4 0 0 0 0 0 0 0 0 0 0 0 0 0 0 0 0 0 1 0 0 0 0 0 4 0\n",
      " 0 0 0 0 0 0 0 0 0 0 0]\n",
      "Q_values : [-1.3413525  -0.68817693  0.97240746  1.1675746 ]\n",
      "episode : 29\n",
      "Step #100.00 (0ms ?*RT. ?UPS, TraCI: 0ms, vehicles TOT 33 ACT 5 BUF 0)                     \n",
      " Retrying in 1 seconds\n"
     ]
    },
    {
     "name": "stderr",
     "output_type": "stream",
     "text": [
      "Warning: Environment variable SUMO_HOME is not set properly, disabling XML validation. Set 'auto' or 'always' for web lookups.\n"
     ]
    },
    {
     "name": "stdout",
     "output_type": "stream",
     "text": [
      "state : [0 0 0 0 0 0 0 0 0 0 0 0 0 0 0 0 0 0 0 0 0 0 0 0 0 0 0 0 0 0 0 0 0 0 0 0 0\n",
      " 0 0 0 0 0 0 0 0 0 0 0]\n",
      "Q_values : [0. 0. 0. 0.]\n",
      "episode : 30\n",
      "Step #100.00 (0ms ?*RT. ?UPS, TraCI: 0ms, vehicles TOT 33 ACT 10 BUF 0)                    \n",
      " Retrying in 1 seconds\n"
     ]
    },
    {
     "name": "stderr",
     "output_type": "stream",
     "text": [
      "Warning: Environment variable SUMO_HOME is not set properly, disabling XML validation. Set 'auto' or 'always' for web lookups.\n"
     ]
    },
    {
     "name": "stdout",
     "output_type": "stream",
     "text": [
      "state : [0 0 0 0 0 0 0 0 0 0 0 0 0 0 0 0 0 0 0 0 0 0 0 0 0 0 0 0 0 0 0 0 0 0 0 0 0\n",
      " 0 0 0 0 0 0 0 0 0 0 0]\n",
      "Q_values : [0. 0. 0. 0.]\n",
      "state : [0 1 0 0 4 4 0 0 0 0 0 0 0 0 0 0 0 0 0 0 0 0 0 0 0 1 0 0 6 6 0 0 0 4 4 4 5\n",
      " 0 0 0 0 0 0 0 0 0 0 0]\n",
      "Q_values : [-1.3561676 -1.3637091  2.1095593  1.0195571]\n",
      "state : [0 0 0 0 0 6 0 0 0 0 1 4 0 0 0 0 0 0 0 0 0 0 0 0 0 0 0 0 0 6 0 0 0 0 1 4 0\n",
      " 0 0 0 0 0 0 1 0 0 0 0]\n",
      "Q_values : [-1.9896039 -0.7173226  1.864843   1.5269748]\n",
      "episode : 31\n",
      "Step #100.00 (0ms ?*RT. ?UPS, TraCI: 0ms, vehicles TOT 33 ACT 10 BUF 0)                    \n",
      " Retrying in 1 seconds\n"
     ]
    },
    {
     "name": "stderr",
     "output_type": "stream",
     "text": [
      "Warning: Environment variable SUMO_HOME is not set properly, disabling XML validation. Set 'auto' or 'always' for web lookups.\n"
     ]
    },
    {
     "name": "stdout",
     "output_type": "stream",
     "text": [
      "state : [0 0 1 0 4 2 0 0 0 0 0 0 0 0 0 0 0 0 0 0 0 0 0 0 0 0 1 0 6 4 0 0 0 4 4 4 5\n",
      " 0 0 0 0 0 0 0 2 0 0 0]\n",
      "Q_values : [4.9345284 4.1239924 7.3999114 5.4637165]\n",
      "episode : 32\n",
      "Step #100.00 (0ms ?*RT. ?UPS, TraCI: 0ms, vehicles TOT 33 ACT 1 BUF 0)                     \n",
      " Retrying in 1 seconds\n"
     ]
    },
    {
     "name": "stderr",
     "output_type": "stream",
     "text": [
      "Warning: Environment variable SUMO_HOME is not set properly, disabling XML validation. Set 'auto' or 'always' for web lookups.\n"
     ]
    },
    {
     "name": "stdout",
     "output_type": "stream",
     "text": [
      "state : [0 0 0 0 0 0 0 0 0 0 0 0 0 0 0 0 0 0 0 0 0 0 0 0 0 0 1 6 7 4 0 0 0 0 0 0 0\n",
      " 0 0 0 0 0 0 0 0 0 0 0]\n",
      "Q_values : [-2.0679698  -0.6438993  -0.04435579 -1.8313829 ]\n",
      "state : [0 0 1 0 0 6 0 0 0 0 0 4 0 0 0 0 0 0 0 0 0 0 0 0 0 0 1 0 0 6 0 0 0 0 0 4 0\n",
      " 0 0 0 4 0 3 0 0 0 4 0]\n",
      "Q_values : [6.5612845 2.8234746 7.063437  5.1014977]\n",
      "state : [0 0 1 0 0 6 0 0 0 0 0 4 0 0 0 0 0 0 0 0 0 0 0 0 0 0 1 0 0 6 0 0 0 0 0 4 0\n",
      " 0 0 0 0 0 0 0 0 0 0 0]\n",
      "Q_values : [5.673639  4.815109  7.2534285 5.7247257]\n",
      "state : [0 0 1 0 0 6 0 0 0 0 0 4 0 0 0 0 0 0 0 0 0 0 0 0 0 0 1 0 0 6 0 0 0 0 0 4 0\n",
      " 0 0 0 0 0 0 0 0 0 0 0]\n",
      "Q_values : [5.2485733 5.457513  7.0439944 6.009448 ]\n",
      "episode : 33\n",
      "Step #100.00 (0ms ?*RT. ?UPS, TraCI: 0ms, vehicles TOT 33 ACT 11 BUF 0)                    \n",
      " Retrying in 1 seconds\n"
     ]
    },
    {
     "name": "stderr",
     "output_type": "stream",
     "text": [
      "Warning: Environment variable SUMO_HOME is not set properly, disabling XML validation. Set 'auto' or 'always' for web lookups.\n"
     ]
    },
    {
     "name": "stdout",
     "output_type": "stream",
     "text": [
      "state : [0 0 0 0 0 0 0 0 0 0 0 0 0 0 0 0 0 0 0 0 0 0 0 0 1 1 1 3 3 1 0 0 0 0 0 0 0\n",
      " 0 0 0 0 0 0 0 0 0 0 0]\n",
      "Q_values : [0.22706941 0.24091849 0.81259924 0.31677938]\n",
      "episode : 34\n",
      "Step #100.00 (0ms ?*RT. ?UPS, TraCI: 0ms, vehicles TOT 33 ACT 10 BUF 0)                    \n",
      " Retrying in 1 seconds\n"
     ]
    },
    {
     "name": "stderr",
     "output_type": "stream",
     "text": [
      "Warning: Environment variable SUMO_HOME is not set properly, disabling XML validation. Set 'auto' or 'always' for web lookups.\n"
     ]
    },
    {
     "name": "stdout",
     "output_type": "stream",
     "text": [
      "state : [0 1 1 0 0 2 0 0 0 0 0 0 0 0 0 0 0 0 0 0 0 0 0 0 0 1 1 0 0 4 0 0 0 4 4 4 5\n",
      " 0 0 0 0 0 0 0 2 0 5 0]\n",
      "Q_values : [-0.6069136 -1.1824667  1.3000774  1.2150389]\n",
      "state : [0 1 1 0 0 0 0 0 0 0 1 0 0 0 0 0 0 0 0 0 0 0 0 0 0 1 1 0 0 0 0 0 0 0 1 0 0\n",
      " 0 4 0 2 0 3 0 4 0 0 0]\n",
      "Q_values : [0.83966774 0.8806428  0.9331193  0.9655366 ]\n",
      "episode : 35\n",
      "Step #100.00 (0ms ?*RT. ?UPS, TraCI: 0ms, vehicles TOT 33 ACT 2 BUF 0)                     \n",
      " Retrying in 1 seconds\n"
     ]
    },
    {
     "name": "stderr",
     "output_type": "stream",
     "text": [
      "Warning: Environment variable SUMO_HOME is not set properly, disabling XML validation. Set 'auto' or 'always' for web lookups.\n"
     ]
    },
    {
     "name": "stdout",
     "output_type": "stream",
     "text": [
      "state : [0 0 0 0 0 0 0 0 0 0 0 0 0 0 0 0 0 0 0 0 0 0 0 0 0 1 1 6 7 4 0 0 0 0 0 0 0\n",
      " 0 0 0 0 0 0 0 0 0 0 0]\n",
      "Q_values : [-4.837109  -3.859678  -1.8403262 -2.8450434]\n",
      "state : [0 0 1 0 1 6 0 0 0 0 2 1 0 0 0 0 0 0 0 0 0 0 0 0 0 0 1 0 1 6 0 0 0 1 4 4 3\n",
      " 0 0 0 0 0 3 1 0 0 1 0]\n",
      "Q_values : [-0.2521342  -0.41023242  1.5172478   3.6214762 ]\n",
      "episode : 36\n",
      "Step #100.00 (0ms ?*RT. ?UPS, TraCI: 1ms, vehicles TOT 33 ACT 4 BUF 0)                     \n",
      " Retrying in 1 seconds\n"
     ]
    },
    {
     "name": "stderr",
     "output_type": "stream",
     "text": [
      "Warning: Environment variable SUMO_HOME is not set properly, disabling XML validation. Set 'auto' or 'always' for web lookups.\n"
     ]
    },
    {
     "name": "stdout",
     "output_type": "stream",
     "text": [
      "state : [0 0 0 0 6 0 0 0 0 0 4 0 0 0 0 0 0 0 0 0 0 0 0 0 0 0 0 0 6 0 0 0 0 0 4 0 0\n",
      " 0 4 0 0 0 0 0 6 0 0 0]\n",
      "Q_values : [5.5446615 2.619989  7.514964  3.2583773]\n",
      "episode : 37\n",
      "Step #100.00 (0ms ?*RT. ?UPS, TraCI: 0ms, vehicles TOT 33 ACT 0 BUF 0)                     \n",
      " Retrying in 1 seconds\n"
     ]
    },
    {
     "name": "stderr",
     "output_type": "stream",
     "text": [
      "Warning: Environment variable SUMO_HOME is not set properly, disabling XML validation. Set 'auto' or 'always' for web lookups.\n"
     ]
    },
    {
     "name": "stdout",
     "output_type": "stream",
     "text": [
      "state : [0 0 0 0 6 4 0 0 0 0 4 4 0 0 0 0 0 0 0 0 0 0 0 0 0 0 0 0 6 4 0 0 0 0 4 4 0\n",
      " 0 0 0 0 1 3 0 0 0 0 0]\n",
      "Q_values : [ 5.20175    6.6305017 11.050107   6.3573604]\n",
      "episode : 38\n",
      "Step #100.00 (0ms ?*RT. ?UPS, TraCI: 0ms, vehicles TOT 33 ACT 0 BUF 0)                     \n",
      " Retrying in 1 seconds\n"
     ]
    },
    {
     "name": "stderr",
     "output_type": "stream",
     "text": [
      "Warning: Environment variable SUMO_HOME is not set properly, disabling XML validation. Set 'auto' or 'always' for web lookups.\n"
     ]
    },
    {
     "name": "stdout",
     "output_type": "stream",
     "text": [
      "state : [0 0 1 0 1 0 0 0 0 0 0 0 0 0 0 0 0 0 0 0 0 0 0 0 0 0 1 4 6 4 0 0 0 4 4 1 2\n",
      " 0 0 0 0 0 0 1 1 1 0 0]\n",
      "Q_values : [-6.239597  -5.3347178 -2.3438547 -3.4727259]\n",
      "episode : 39\n",
      "Step #100.00 (0ms ?*RT. ?UPS, TraCI: 0ms, vehicles TOT 33 ACT 4 BUF 0)                     \n",
      " Retrying in 1 seconds\n"
     ]
    },
    {
     "name": "stderr",
     "output_type": "stream",
     "text": [
      "Warning: Environment variable SUMO_HOME is not set properly, disabling XML validation. Set 'auto' or 'always' for web lookups.\n"
     ]
    },
    {
     "name": "stdout",
     "output_type": "stream",
     "text": [
      "episode : 40\n",
      "Step #100.00 (0ms ?*RT. ?UPS, TraCI: 0ms, vehicles TOT 33 ACT 10 BUF 0)                    \n",
      " Retrying in 1 seconds\n"
     ]
    },
    {
     "name": "stderr",
     "output_type": "stream",
     "text": [
      "Warning: Environment variable SUMO_HOME is not set properly, disabling XML validation. Set 'auto' or 'always' for web lookups.\n"
     ]
    },
    {
     "name": "stdout",
     "output_type": "stream",
     "text": [
      "state : [0 0 0 0 0 0 0 0 0 0 0 0 0 0 0 0 0 0 0 0 0 0 0 0 1 1 1 3 3 1 0 0 0 0 0 0 0\n",
      " 0 0 0 0 0 0 0 0 0 0 0]\n",
      "Q_values : [-1.3056415  -1.2776829  -0.56100786 -0.19764102]\n",
      "state : [0 0 1 0 0 4 0 0 0 0 0 0 0 0 0 0 0 0 0 0 0 0 0 0 0 0 1 0 1 6 0 0 0 4 4 4 5\n",
      " 0 0 0 0 0 0 0 0 0 5 0]\n",
      "Q_values : [-1.9182068  -1.50856     0.26196563  0.08757782]\n",
      "episode : 41\n",
      "Step #100.00 (0ms ?*RT. ?UPS, TraCI: 0ms, vehicles TOT 33 ACT 1 BUF 0)                     \n",
      " Retrying in 1 seconds\n"
     ]
    },
    {
     "name": "stderr",
     "output_type": "stream",
     "text": [
      "Warning: Environment variable SUMO_HOME is not set properly, disabling XML validation. Set 'auto' or 'always' for web lookups.\n"
     ]
    },
    {
     "name": "stdout",
     "output_type": "stream",
     "text": [
      "episode : 42\n",
      "Step #100.00 (0ms ?*RT. ?UPS, TraCI: 0ms, vehicles TOT 33 ACT 2 BUF 0)                     \n",
      " Retrying in 1 seconds\n"
     ]
    },
    {
     "name": "stderr",
     "output_type": "stream",
     "text": [
      "Warning: Environment variable SUMO_HOME is not set properly, disabling XML validation. Set 'auto' or 'always' for web lookups.\n"
     ]
    },
    {
     "name": "stdout",
     "output_type": "stream",
     "text": [
      "episode : 43\n",
      "Step #100.00 (0ms ?*RT. ?UPS, TraCI: 0ms, vehicles TOT 33 ACT 0 BUF 0)                     \n",
      " Retrying in 1 seconds\n"
     ]
    },
    {
     "name": "stderr",
     "output_type": "stream",
     "text": [
      "Warning: Environment variable SUMO_HOME is not set properly, disabling XML validation. Set 'auto' or 'always' for web lookups.\n"
     ]
    },
    {
     "name": "stdout",
     "output_type": "stream",
     "text": [
      "state : [0 0 1 0 1 0 0 0 0 0 0 0 0 0 0 0 0 0 0 0 0 0 0 0 0 0 1 4 6 4 0 0 0 4 4 1 2\n",
      " 0 0 0 0 0 0 1 1 1 0 0]\n",
      "Q_values : [-2.3390484  -2.0051591  -0.78632724 -0.6189909 ]\n",
      "state : [0 0 1 0 0 0 0 0 0 0 0 1 0 0 0 0 0 0 0 0 0 0 0 0 0 0 1 0 0 0 0 0 0 0 0 1 0\n",
      " 0 0 0 0 0 0 0 0 0 0 0]\n",
      "Q_values : [0.42187846 0.05083448 1.4988832  2.603292  ]\n",
      "state : [0 0 1 0 0 0 0 0 0 0 0 0 0 0 0 0 0 0 0 0 0 0 0 0 0 0 1 0 0 0 0 0 0 0 0 0 0\n",
      " 0 1 0 0 0 0 0 0 0 0 0]\n",
      "Q_values : [-0.403019   -0.19824514  0.5219612   0.5376469 ]\n",
      "episode : 44\n",
      "Step #100.00 (0ms ?*RT. ?UPS, TraCI: 0ms, vehicles TOT 33 ACT 1 BUF 0)                     \n",
      " Retrying in 1 seconds\n"
     ]
    },
    {
     "name": "stderr",
     "output_type": "stream",
     "text": [
      "Warning: Environment variable SUMO_HOME is not set properly, disabling XML validation. Set 'auto' or 'always' for web lookups.\n"
     ]
    },
    {
     "name": "stdout",
     "output_type": "stream",
     "text": [
      "state : [0 0 0 0 0 0 0 0 0 0 0 0 0 0 0 0 0 0 0 0 0 0 0 0 0 0 1 6 7 4 0 0 0 0 0 0 0\n",
      " 0 0 0 0 0 0 0 0 0 0 0]\n",
      "Q_values : [-3.934228  -3.0657105 -2.781656  -2.4308345]\n",
      "episode : 45\n",
      "Step #100.00 (0ms ?*RT. ?UPS, TraCI: 0ms, vehicles TOT 33 ACT 8 BUF 0)                     \n",
      " Retrying in 1 seconds\n"
     ]
    },
    {
     "name": "stderr",
     "output_type": "stream",
     "text": [
      "Warning: Environment variable SUMO_HOME is not set properly, disabling XML validation. Set 'auto' or 'always' for web lookups.\n"
     ]
    },
    {
     "name": "stdout",
     "output_type": "stream",
     "text": [
      "state : [0 1 1 0 0 1 0 0 0 0 0 0 0 0 0 0 0 0 0 0 0 0 0 0 0 1 1 3 4 6 0 0 0 4 4 1 2\n",
      " 0 0 0 0 0 0 0 0 1 2 0]\n",
      "Q_values : [-3.4964845  -2.5363507  -0.21257567 -0.10433784]\n",
      "state : [0 1 1 0 2 0 0 0 0 0 0 0 0 0 0 0 0 0 0 0 0 0 0 0 0 1 1 0 4 1 0 0 0 4 4 4 5\n",
      " 0 0 0 0 0 0 0 4 0 1 0]\n",
      "Q_values : [-2.774522  -2.1597059  2.0798953  1.670611 ]\n",
      "episode : 46\n",
      "Step #100.00 (0ms ?*RT. ?UPS, TraCI: 0ms, vehicles TOT 33 ACT 6 BUF 0)                     \n",
      " Retrying in 1 seconds\n"
     ]
    },
    {
     "name": "stderr",
     "output_type": "stream",
     "text": [
      "Warning: Environment variable SUMO_HOME is not set properly, disabling XML validation. Set 'auto' or 'always' for web lookups.\n"
     ]
    },
    {
     "name": "stdout",
     "output_type": "stream",
     "text": [
      "state : [0 0 0 0 1 6 0 0 0 0 4 4 0 0 0 0 0 0 0 0 0 0 0 0 0 0 0 0 1 6 0 0 0 0 4 4 0\n",
      " 0 0 0 0 1 3 0 0 0 0 0]\n",
      "Q_values : [ 8.637987   7.7294316  9.554365  13.283984 ]\n",
      "episode : 47\n",
      "Step #100.00 (0ms ?*RT. ?UPS, TraCI: 0ms, vehicles TOT 33 ACT 0 BUF 0)                     \n",
      " Retrying in 1 seconds\n"
     ]
    },
    {
     "name": "stderr",
     "output_type": "stream",
     "text": [
      "Warning: Environment variable SUMO_HOME is not set properly, disabling XML validation. Set 'auto' or 'always' for web lookups.\n"
     ]
    },
    {
     "name": "stdout",
     "output_type": "stream",
     "text": [
      "state : [0 0 0 0 0 0 0 0 0 0 0 0 0 0 0 0 0 0 0 0 0 0 0 0 0 0 0 0 0 0 0 0 0 0 0 0 0\n",
      " 0 0 0 0 0 0 0 0 0 0 0]\n",
      "Q_values : [-0.64337766 -0.621096   -0.01956832 -0.0927029 ]\n",
      "state : [0 1 1 0 0 4 0 0 0 0 0 0 0 0 0 0 0 0 0 0 0 0 0 0 0 1 1 0 1 6 0 0 0 4 4 4 5\n",
      " 0 0 0 0 0 0 0 0 0 4 0]\n",
      "Q_values : [-1.3280927  -1.1052177   1.903924    0.75097704]\n",
      "episode : 48\n",
      "Step #100.00 (0ms ?*RT. ?UPS, TraCI: 0ms, vehicles TOT 33 ACT 1 BUF 0)                     \n",
      " Retrying in 1 seconds\n"
     ]
    },
    {
     "name": "stderr",
     "output_type": "stream",
     "text": [
      "Warning: Environment variable SUMO_HOME is not set properly, disabling XML validation. Set 'auto' or 'always' for web lookups.\n"
     ]
    },
    {
     "name": "stdout",
     "output_type": "stream",
     "text": [
      "state : [0 0 0 0 4 2 0 0 0 0 0 0 0 0 0 0 0 0 0 0 0 0 0 0 0 0 0 0 6 4 0 0 0 4 4 4 5\n",
      " 0 0 0 0 1 0 0 2 0 0 0]\n",
      "Q_values : [-3.5974321  -2.893108    1.0143812   0.21249802]\n",
      "state : [0 0 0 0 0 4 0 0 0 0 0 1 0 0 0 0 0 0 0 0 0 0 0 0 0 0 0 0 0 4 0 0 0 1 1 4 3\n",
      " 0 0 0 2 0 3 0 0 0 6 0]\n",
      "Q_values : [1.601854  1.46793   2.8189185 4.8245616]\n",
      "state : [0 0 0 0 0 0 0 0 0 0 1 0 0 0 0 0 0 0 0 0 0 0 0 0 0 0 0 0 0 0 0 0 0 0 1 0 0\n",
      " 0 4 0 2 0 3 0 4 0 5 0]\n",
      "Q_values : [0.44608545 0.38609296 0.5875634  0.88994116]\n",
      "episode : 49\n",
      "Step #100.00 (0ms ?*RT. ?UPS, TraCI: 0ms, vehicles TOT 33 ACT 1 BUF 0)                     \n",
      " Retrying in 1 seconds\n"
     ]
    },
    {
     "name": "stderr",
     "output_type": "stream",
     "text": [
      "Warning: Environment variable SUMO_HOME is not set properly, disabling XML validation. Set 'auto' or 'always' for web lookups.\n"
     ]
    },
    {
     "name": "stdout",
     "output_type": "stream",
     "text": [
      "state : [0 0 0 0 0 0 0 0 0 0 0 0 0 0 0 0 0 0 0 0 0 0 0 0 1 1 1 3 3 1 0 0 0 0 0 0 0\n",
      " 0 0 0 0 0 0 0 0 0 0 0]\n",
      "Q_values : [-1.6885631 -1.5208284 -2.0197759 -1.490577 ]\n",
      "state : [0 0 1 0 1 1 0 0 0 0 0 0 0 0 0 0 0 0 0 0 0 0 0 0 0 0 1 4 6 6 0 0 0 4 4 1 2\n",
      " 0 0 0 0 0 0 1 0 1 0 0]\n",
      "Q_values : [-2.1805868 -2.4572327 -1.0637757 -0.6425842]\n",
      "state : [0 0 1 0 6 0 0 0 0 0 4 0 0 0 0 0 0 0 0 0 0 0 0 0 0 0 1 0 6 0 0 0 0 0 4 0 0\n",
      " 0 4 0 0 0 3 0 0 0 0 0]\n",
      "Q_values : [5.852921  4.9968457 9.133179  5.6834455]\n",
      "episode : 50\n",
      "Step #100.00 (0ms ?*RT. ?UPS, TraCI: 0ms, vehicles TOT 33 ACT 1 BUF 0)                     \n",
      " Retrying in 1 seconds\n"
     ]
    },
    {
     "name": "stderr",
     "output_type": "stream",
     "text": [
      "Warning: Environment variable SUMO_HOME is not set properly, disabling XML validation. Set 'auto' or 'always' for web lookups.\n"
     ]
    },
    {
     "name": "stdout",
     "output_type": "stream",
     "text": [
      "episode : 51\n",
      "Step #100.00 (0ms ?*RT. ?UPS, TraCI: 0ms, vehicles TOT 33 ACT 0 BUF 0)                     \n",
      " Retrying in 1 seconds\n"
     ]
    },
    {
     "name": "stderr",
     "output_type": "stream",
     "text": [
      "Warning: Environment variable SUMO_HOME is not set properly, disabling XML validation. Set 'auto' or 'always' for web lookups.\n"
     ]
    },
    {
     "name": "stdout",
     "output_type": "stream",
     "text": [
      "state : [0 0 1 0 4 0 0 0 0 0 4 0 0 0 0 0 0 0 0 0 0 0 0 0 0 0 1 0 4 0 0 0 0 0 4 0 0\n",
      " 0 0 0 0 0 0 0 0 0 0 0]\n",
      "Q_values : [0.39376074 0.3512326  3.5814269  2.9004977 ]\n",
      "episode : 52\n",
      "Step #100.00 (0ms ?*RT. ?UPS, TraCI: 0ms, vehicles TOT 33 ACT 6 BUF 0)                     \n",
      " Retrying in 1 seconds\n"
     ]
    },
    {
     "name": "stderr",
     "output_type": "stream",
     "text": [
      "Warning: Environment variable SUMO_HOME is not set properly, disabling XML validation. Set 'auto' or 'always' for web lookups.\n"
     ]
    },
    {
     "name": "stdout",
     "output_type": "stream",
     "text": [
      "state : [0 0 0 0 0 0 0 0 0 0 0 0 0 0 0 0 0 0 0 0 0 0 0 0 0 1 1 6 7 4 0 0 0 0 0 0 0\n",
      " 0 0 0 0 0 0 0 0 0 0 0]\n",
      "Q_values : [-5.3812547 -5.5530353 -5.9329853 -5.1103683]\n",
      "state : [0 1 0 0 0 4 0 0 0 0 0 4 0 0 0 0 0 0 0 0 0 0 0 0 0 1 0 0 0 4 0 0 0 0 0 4 0\n",
      " 0 0 0 3 0 3 0 0 0 5 0]\n",
      "Q_values : [ 5.8760796  3.4397593  7.458834  14.293882 ]\n",
      "episode : 53\n",
      "Step #100.00 (0ms ?*RT. ?UPS, TraCI: 0ms, vehicles TOT 33 ACT 0 BUF 0)                     \n",
      " Retrying in 1 seconds\n"
     ]
    },
    {
     "name": "stderr",
     "output_type": "stream",
     "text": [
      "Warning: Environment variable SUMO_HOME is not set properly, disabling XML validation. Set 'auto' or 'always' for web lookups.\n"
     ]
    },
    {
     "name": "stdout",
     "output_type": "stream",
     "text": [
      "state : [0 0 0 0 0 0 0 0 0 0 0 0 0 0 0 0 0 0 0 0 0 0 0 0 1 1 1 3 3 1 0 0 0 0 0 0 0\n",
      " 0 0 0 0 0 0 0 0 0 0 0]\n",
      "Q_values : [-1.2288344  -1.0453775  -0.5229184  -0.52024454]\n",
      "state : [0 1 0 0 4 0 0 0 0 0 0 0 0 0 0 0 0 0 0 0 0 0 0 0 0 1 0 0 6 1 0 0 0 4 4 4 5\n",
      " 0 0 0 0 0 0 0 4 0 0 0]\n",
      "Q_values : [-0.43638963  0.10108632  2.8259702   1.3894966 ]\n",
      "state : [0 0 0 0 0 1 0 0 0 0 1 4 0 0 0 0 0 0 0 0 0 0 0 0 0 0 0 0 0 1 0 0 0 0 1 4 0\n",
      " 0 0 0 2 0 3 1 0 0 5 0]\n",
      "Q_values : [1.0483744 1.4450926 2.2763114 2.8335536]\n",
      "state : [0 0 0 0 0 0 0 0 0 0 1 0 0 0 0 0 0 0 0 0 0 0 0 0 0 0 0 0 0 0 0 0 0 0 1 0 0\n",
      " 0 4 0 0 0 0 0 1 0 0 0]\n",
      "Q_values : [-0.26279217 -0.0914913   0.6072633   0.49984962]\n",
      "episode : 54\n",
      "Step #100.00 (0ms ?*RT. ?UPS, TraCI: 0ms, vehicles TOT 33 ACT 0 BUF 0)                     \n",
      " Retrying in 1 seconds\n"
     ]
    },
    {
     "name": "stderr",
     "output_type": "stream",
     "text": [
      "Warning: Environment variable SUMO_HOME is not set properly, disabling XML validation. Set 'auto' or 'always' for web lookups.\n"
     ]
    },
    {
     "name": "stdout",
     "output_type": "stream",
     "text": [
      "state : [0 0 0 0 0 0 0 0 0 0 0 0 0 0 0 0 0 0 0 0 0 0 0 0 0 0 0 0 0 0 0 0 0 0 0 0 0\n",
      " 0 0 0 0 0 0 0 0 0 0 0]\n",
      "Q_values : [-0.8860426  -0.76221883 -0.3444857  -0.14103657]\n",
      "state : [0 0 1 0 1 1 0 0 0 0 0 0 0 0 0 0 0 0 0 0 0 0 0 0 0 0 1 4 6 6 0 0 0 4 4 1 2\n",
      " 0 0 0 0 0 0 1 0 1 0 0]\n",
      "Q_values : [-4.7487173 -4.2673206 -3.0282145 -2.7556973]\n",
      "state : [0 0 1 0 0 1 0 0 0 0 0 4 0 0 0 0 0 0 0 0 0 0 0 0 0 0 1 0 0 1 0 0 0 0 0 4 0\n",
      " 0 0 0 3 0 3 0 0 0 5 0]\n",
      "Q_values : [0.4001866 0.6757257 0.1222617 2.073406 ]\n",
      "episode : 55\n",
      "Step #100.00 (0ms ?*RT. ?UPS, TraCI: 0ms, vehicles TOT 33 ACT 0 BUF 0)                     \n",
      " Retrying in 1 seconds\n"
     ]
    },
    {
     "name": "stderr",
     "output_type": "stream",
     "text": [
      "Warning: Environment variable SUMO_HOME is not set properly, disabling XML validation. Set 'auto' or 'always' for web lookups.\n"
     ]
    },
    {
     "name": "stdout",
     "output_type": "stream",
     "text": [
      "state : [0 0 0 0 4 4 0 0 0 0 0 0 0 0 0 0 0 0 0 0 0 0 0 0 0 0 0 0 6 6 0 0 0 4 4 4 5\n",
      " 0 0 0 0 1 0 0 0 0 0 0]\n",
      "Q_values : [-2.871458  -1.9226962  7.842905   5.518284 ]\n",
      "state : [0 0 0 0 0 6 0 0 0 0 1 4 0 0 0 0 0 0 0 0 0 0 0 0 0 0 0 0 0 6 0 0 0 0 1 4 0\n",
      " 0 0 0 2 0 3 0 0 0 5 0]\n",
      "Q_values : [ 4.1331377  5.3990707  4.16718   14.02261  ]\n",
      "episode : 56\n",
      "Step #100.00 (0ms ?*RT. ?UPS, TraCI: 0ms, vehicles TOT 33 ACT 0 BUF 0)                     \n",
      " Retrying in 1 seconds\n"
     ]
    },
    {
     "name": "stderr",
     "output_type": "stream",
     "text": [
      "Warning: Environment variable SUMO_HOME is not set properly, disabling XML validation. Set 'auto' or 'always' for web lookups.\n"
     ]
    },
    {
     "name": "stdout",
     "output_type": "stream",
     "text": [
      "state : [0 0 0 0 0 0 0 0 0 0 0 0 0 0 0 0 0 0 0 0 0 0 0 0 0 1 1 6 7 4 0 0 0 0 0 0 0\n",
      " 0 0 0 0 0 0 0 0 0 0 0]\n",
      "Q_values : [-1.0845215 -1.7596738 -2.7858763 -2.7474103]\n",
      "state : [0 0 0 0 1 0 0 0 0 0 4 0 0 0 0 0 0 0 0 0 0 0 0 0 0 0 0 0 1 0 0 0 0 0 4 0 0\n",
      " 0 4 0 0 0 0 0 6 0 0 0]\n",
      "Q_values : [4.294792  4.5933356 4.5882893 2.854258 ]\n",
      "episode : 57\n",
      "Step #100.00 (0ms ?*RT. ?UPS, TraCI: 0ms, vehicles TOT 33 ACT 5 BUF 0)                     \n",
      " Retrying in 1 seconds\n"
     ]
    },
    {
     "name": "stderr",
     "output_type": "stream",
     "text": [
      "Warning: Environment variable SUMO_HOME is not set properly, disabling XML validation. Set 'auto' or 'always' for web lookups.\n"
     ]
    },
    {
     "name": "stdout",
     "output_type": "stream",
     "text": [
      "state : [0 1 0 0 0 0 0 0 0 0 1 0 0 0 0 0 0 0 0 0 0 0 0 0 0 1 0 0 0 0 0 0 0 0 1 0 0\n",
      " 0 4 0 2 0 3 0 5 0 0 0]\n",
      "Q_values : [-0.02976424  0.24636978  0.22286862 -0.19107538]\n",
      "episode : 58\n",
      "Step #100.00 (0ms ?*RT. ?UPS, TraCI: 0ms, vehicles TOT 33 ACT 1 BUF 0)                     \n",
      " Retrying in 1 seconds\n"
     ]
    },
    {
     "name": "stderr",
     "output_type": "stream",
     "text": [
      "Warning: Environment variable SUMO_HOME is not set properly, disabling XML validation. Set 'auto' or 'always' for web lookups.\n"
     ]
    },
    {
     "name": "stdout",
     "output_type": "stream",
     "text": [
      "state : [0 0 0 0 0 0 0 0 0 0 0 0 0 0 0 0 0 0 0 0 0 0 0 0 0 0 0 0 0 0 0 0 0 0 0 0 0\n",
      " 0 0 0 0 0 0 0 0 0 0 0]\n",
      "Q_values : [-1.2006965 -1.0356628 -0.1150043  0.5570233]\n",
      "state : [0 0 0 0 0 0 0 0 0 0 0 0 0 0 0 0 0 0 0 0 0 0 0 0 1 1 1 3 3 1 0 0 0 0 0 0 0\n",
      " 0 0 0 0 0 0 0 0 0 0 0]\n",
      "Q_values : [-2.0115507  -2.0088632  -0.8318571  -0.41347647]\n",
      "state : [0 0 1 0 4 2 0 0 0 0 0 0 0 0 0 0 0 0 0 0 0 0 0 0 0 0 1 0 6 4 0 0 0 4 4 4 5\n",
      " 0 0 0 0 0 0 1 2 0 0 0]\n",
      "Q_values : [-2.503262  -1.7150326  3.156241   2.5169852]\n",
      "episode : 59\n",
      "Step #100.00 (0ms ?*RT. ?UPS, TraCI: 1ms, vehicles TOT 33 ACT 8 BUF 0)                     \n",
      " Retrying in 1 seconds\n"
     ]
    },
    {
     "name": "stderr",
     "output_type": "stream",
     "text": [
      "Warning: Environment variable SUMO_HOME is not set properly, disabling XML validation. Set 'auto' or 'always' for web lookups.\n"
     ]
    },
    {
     "name": "stdout",
     "output_type": "stream",
     "text": [
      "state : [0 0 0 0 0 0 0 0 0 0 0 0 0 0 0 0 0 0 0 0 0 0 0 0 0 0 0 0 0 0 0 0 0 0 0 0 0\n",
      " 0 0 0 0 0 0 0 0 0 0 0]\n",
      "Q_values : [-0.7048981  -0.5078739   0.23506296  1.4557459 ]\n",
      "episode : 60\n",
      "Step #100.00 (0ms ?*RT. ?UPS, TraCI: 0ms, vehicles TOT 33 ACT 0 BUF 0)                     \n",
      " Retrying in 1 seconds\n"
     ]
    },
    {
     "name": "stderr",
     "output_type": "stream",
     "text": [
      "Warning: Environment variable SUMO_HOME is not set properly, disabling XML validation. Set 'auto' or 'always' for web lookups.\n"
     ]
    },
    {
     "name": "stdout",
     "output_type": "stream",
     "text": [
      "state : [0 0 0 0 4 4 0 0 0 0 0 0 0 0 0 0 0 0 0 0 0 0 0 0 0 0 0 0 6 6 0 0 0 4 4 4 5\n",
      " 0 0 0 0 0 0 1 0 0 0 0]\n",
      "Q_values : [-1.5552166 -1.8856738  2.8346033  0.5198443]\n",
      "episode : 61\n",
      "Step #100.00 (0ms ?*RT. ?UPS, TraCI: 0ms, vehicles TOT 33 ACT 10 BUF 0)                    \n",
      " Retrying in 1 seconds\n"
     ]
    },
    {
     "name": "stderr",
     "output_type": "stream",
     "text": [
      "Warning: Environment variable SUMO_HOME is not set properly, disabling XML validation. Set 'auto' or 'always' for web lookups.\n"
     ]
    },
    {
     "name": "stdout",
     "output_type": "stream",
     "text": [
      "state : [0 0 0 0 4 4 0 0 0 0 0 0 0 0 0 0 0 0 0 0 0 0 0 0 0 0 0 0 6 6 0 0 0 4 4 4 5\n",
      " 0 0 0 0 1 0 0 0 0 0 0]\n",
      "Q_values : [-1.288286  -1.5461928  4.6681266  3.8712134]\n",
      "state : [0 0 0 0 0 6 0 0 0 0 0 4 0 0 0 0 0 0 0 0 0 0 0 0 0 0 0 0 0 6 0 0 0 0 0 4 0\n",
      " 0 0 0 3 0 3 0 0 0 5 0]\n",
      "Q_values : [ 6.339153   4.9763618  4.3550196 11.379215 ]\n",
      "state : [0 0 0 0 0 0 0 0 0 0 0 0 0 0 0 0 0 0 0 0 0 0 0 0 0 0 0 0 0 0 0 0 0 0 0 0 0\n",
      " 0 4 0 0 0 0 0 5 0 0 0]\n",
      "Q_values : [1.3570223  0.29447365 1.007407   0.9180029 ]\n",
      "state : [0 0 0 0 0 0 0 0 0 0 0 0 0 0 0 0 0 0 0 0 0 0 0 0 0 0 0 0 0 0 0 0 0 0 0 0 0\n",
      " 0 0 0 0 0 0 0 0 0 0 0]\n",
      "Q_values : [-0.14001815 -0.14296211  0.11734331  0.8239901 ]\n",
      "episode : 62\n",
      "Step #100.00 (0ms ?*RT. ?UPS, TraCI: 0ms, vehicles TOT 33 ACT 0 BUF 0)                     \n",
      " Retrying in 1 seconds\n"
     ]
    },
    {
     "name": "stderr",
     "output_type": "stream",
     "text": [
      "Warning: Environment variable SUMO_HOME is not set properly, disabling XML validation. Set 'auto' or 'always' for web lookups.\n"
     ]
    },
    {
     "name": "stdout",
     "output_type": "stream",
     "text": [
      "state : [0 0 0 0 0 0 0 0 0 0 0 0 0 0 0 0 0 0 0 0 0 0 0 0 0 0 0 0 0 0 0 0 0 0 0 0 0\n",
      " 0 0 0 0 0 0 0 0 0 0 0]\n",
      "Q_values : [-0.09974307 -0.07451109  0.16581774  0.79049176]\n",
      "state : [0 0 0 0 0 0 0 0 0 0 0 0 0 0 0 0 0 0 0 0 0 0 0 0 1 1 1 3 3 1 0 0 0 0 0 0 0\n",
      " 0 0 0 0 0 0 0 0 0 0 0]\n",
      "Q_values : [-1.3281446  -0.9920242  -0.8405441  -0.42273605]\n",
      "state : [0 1 1 0 0 4 0 0 0 0 0 0 0 0 0 0 0 0 0 0 0 0 0 0 0 1 1 0 1 6 0 0 0 4 4 4 5\n",
      " 0 0 0 0 0 0 0 0 0 4 0]\n",
      "Q_values : [-0.47521877 -0.05925706  3.325498    3.9144783 ]\n",
      "episode : 63\n",
      "Step #100.00 (0ms ?*RT. ?UPS, TraCI: 0ms, vehicles TOT 33 ACT 2 BUF 0)                     \n",
      " Retrying in 1 seconds\n"
     ]
    },
    {
     "name": "stderr",
     "output_type": "stream",
     "text": [
      "Warning: Environment variable SUMO_HOME is not set properly, disabling XML validation. Set 'auto' or 'always' for web lookups.\n"
     ]
    },
    {
     "name": "stdout",
     "output_type": "stream",
     "text": [
      "state : [0 0 0 0 0 0 0 0 0 0 0 0 0 0 0 0 0 0 0 0 0 0 0 0 0 0 0 0 0 0 0 0 0 0 0 0 0\n",
      " 0 0 0 0 0 0 0 0 0 0 0]\n",
      "Q_values : [-0.30596036 -0.11777966  0.17961693 -0.11261338]\n",
      "state : [0 0 1 0 0 1 0 0 0 0 0 0 0 0 0 0 0 0 0 0 0 0 0 0 0 0 1 3 4 6 0 0 0 4 4 1 2\n",
      " 0 0 0 0 0 0 1 0 1 2 0]\n",
      "Q_values : [-1.8104638 -1.48786   -1.7863106 -2.174651 ]\n",
      "state : [0 0 0 0 4 6 0 0 0 0 4 4 0 0 0 0 0 0 0 0 0 0 0 0 0 0 0 0 4 6 0 0 0 0 4 4 0\n",
      " 0 0 0 0 0 0 0 0 0 0 0]\n",
      "Q_values : [ 4.5669165  5.4525356 11.0609455 13.330193 ]\n",
      "episode : 64\n",
      "Step #100.00 (0ms ?*RT. ?UPS, TraCI: 0ms, vehicles TOT 33 ACT 18 BUF 0)                    \n",
      " Retrying in 1 seconds\n"
     ]
    },
    {
     "name": "stderr",
     "output_type": "stream",
     "text": [
      "Warning: Environment variable SUMO_HOME is not set properly, disabling XML validation. Set 'auto' or 'always' for web lookups.\n"
     ]
    },
    {
     "name": "stdout",
     "output_type": "stream",
     "text": [
      "state : [0 0 0 0 0 0 0 0 0 0 0 0 0 0 0 0 0 0 0 0 0 0 0 0 0 0 0 0 0 0 0 0 0 0 0 0 0\n",
      " 0 0 0 0 0 0 0 0 0 0 0]\n",
      "Q_values : [-1.2721183  -1.3498337  -0.38773322 -0.43678856]\n",
      "state : [0 0 0 0 0 0 0 0 0 0 0 0 0 0 0 0 0 0 0 0 0 0 0 0 1 1 1 3 3 1 0 0 0 0 0 0 0\n",
      " 0 0 0 0 0 0 0 0 0 0 0]\n",
      "Q_values : [-2.2937615 -2.4051893 -1.5358956 -1.7788907]\n",
      "state : [0 0 0 0 0 0 0 0 0 0 0 0 0 0 0 0 0 0 0 0 0 0 0 0 0 1 1 6 7 4 0 0 0 0 0 0 0\n",
      " 0 0 0 0 0 0 0 0 0 0 0]\n",
      "Q_values : [-4.7201743 -5.0994945 -4.436945  -4.57509  ]\n",
      "episode : 65\n",
      "Step #100.00 (0ms ?*RT. ?UPS, TraCI: 0ms, vehicles TOT 33 ACT 0 BUF 0)                     \n",
      " Retrying in 1 seconds\n"
     ]
    },
    {
     "name": "stderr",
     "output_type": "stream",
     "text": [
      "Warning: Environment variable SUMO_HOME is not set properly, disabling XML validation. Set 'auto' or 'always' for web lookups.\n"
     ]
    },
    {
     "name": "stdout",
     "output_type": "stream",
     "text": [
      "state : [0 0 1 0 0 1 0 0 0 0 0 0 0 0 0 0 0 0 0 0 0 0 0 0 0 0 1 3 4 6 0 0 0 4 4 1 2\n",
      " 0 0 0 0 0 0 1 0 1 2 0]\n",
      "Q_values : [-2.336471  -2.4460187 -0.9910898 -0.6604083]\n",
      "episode : 66\n",
      "Step #100.00 (0ms ?*RT. ?UPS, TraCI: 0ms, vehicles TOT 33 ACT 5 BUF 0)                     \n",
      " Retrying in 1 seconds\n"
     ]
    },
    {
     "name": "stderr",
     "output_type": "stream",
     "text": [
      "Warning: Environment variable SUMO_HOME is not set properly, disabling XML validation. Set 'auto' or 'always' for web lookups.\n"
     ]
    },
    {
     "name": "stdout",
     "output_type": "stream",
     "text": [
      "state : [0 0 0 0 0 0 0 0 0 0 0 0 0 0 0 0 0 0 0 0 0 0 0 0 0 0 0 0 0 0 0 0 0 0 0 0 0\n",
      " 0 0 0 0 0 0 0 0 0 0 0]\n",
      "Q_values : [-0.64359725 -0.5407644  -0.14281702  0.22580898]\n",
      "state : [0 0 0 0 6 0 0 0 0 0 4 1 0 0 0 0 0 0 0 0 0 0 0 0 0 0 0 0 6 0 0 0 0 0 4 1 0\n",
      " 0 0 0 0 1 0 0 0 0 0 0]\n",
      "Q_values : [ 4.3867803  4.269794  10.570227   6.013098 ]\n",
      "state : [0 0 0 0 0 0 0 0 0 0 0 1 0 0 0 0 0 0 0 0 0 0 0 0 0 0 0 0 0 0 0 0 0 0 0 1 0\n",
      " 0 0 0 4 0 0 0 0 0 6 0]\n",
      "Q_values : [0.04887223 0.08701123 0.7911831  1.2951039 ]\n",
      "episode : 67\n",
      "Step #100.00 (0ms ?*RT. ?UPS, TraCI: 0ms, vehicles TOT 33 ACT 0 BUF 0)                     \n",
      " Retrying in 1 seconds\n"
     ]
    },
    {
     "name": "stderr",
     "output_type": "stream",
     "text": [
      "Warning: Environment variable SUMO_HOME is not set properly, disabling XML validation. Set 'auto' or 'always' for web lookups.\n"
     ]
    },
    {
     "name": "stdout",
     "output_type": "stream",
     "text": [
      "state : [0 1 1 0 4 0 0 0 0 0 0 0 0 0 0 0 0 0 0 0 0 0 0 0 0 1 1 0 6 0 0 0 0 4 4 4 5\n",
      " 0 0 0 0 0 0 0 5 0 0 0]\n",
      "Q_values : [-2.1246684 -1.4418612  2.1311505  1.0671451]\n",
      "state : [0 1 1 0 0 0 0 0 0 0 0 0 0 0 0 0 0 0 0 0 0 0 0 0 0 1 1 0 0 0 0 0 0 0 0 0 0\n",
      " 0 4 0 0 0 0 0 0 0 0 0]\n",
      "Q_values : [0.5234691  0.68927425 0.27153915 0.5127369 ]\n",
      "episode : 68\n",
      "Step #100.00 (0ms ?*RT. ?UPS, TraCI: 0ms, vehicles TOT 33 ACT 1 BUF 0)                     \n",
      " Retrying in 1 seconds\n"
     ]
    },
    {
     "name": "stderr",
     "output_type": "stream",
     "text": [
      "Warning: Environment variable SUMO_HOME is not set properly, disabling XML validation. Set 'auto' or 'always' for web lookups.\n"
     ]
    },
    {
     "name": "stdout",
     "output_type": "stream",
     "text": [
      "state : [0 0 0 0 0 0 0 0 0 0 0 0 0 0 0 0 0 0 0 0 0 0 0 0 0 0 0 0 0 0 0 0 0 0 0 0 0\n",
      " 0 0 0 0 0 0 0 0 0 0 0]\n",
      "Q_values : [-0.77578807 -0.6764372  -0.1345107  -0.09299356]\n",
      "state : [0 0 1 0 6 0 0 0 0 0 2 0 0 0 0 0 0 0 0 0 0 0 0 0 0 0 1 0 6 0 0 0 0 1 4 1 3\n",
      " 0 2 0 0 0 3 0 5 0 0 0]\n",
      "Q_values : [1.8943902 2.3677537 6.6033773 4.3173795]\n",
      "state : [0 0 1 0 0 0 0 0 0 0 0 1 0 0 0 0 0 0 0 0 0 0 0 0 0 0 1 0 0 0 0 0 0 0 0 1 0\n",
      " 0 3 0 4 0 3 0 6 0 6 0]\n",
      "Q_values : [1.2543359  0.59302896 0.36667022 0.21038282]\n",
      "state : [0 0 0 0 0 0 0 0 0 0 0 1 0 0 0 0 0 0 0 0 0 0 0 0 0 0 0 0 0 0 0 0 0 0 0 1 0\n",
      " 0 0 0 0 1 0 0 0 0 0 0]\n",
      "Q_values : [0.5558901  0.70196617 1.9468242  2.2117155 ]\n",
      "episode : 69\n",
      "Step #100.00 (0ms ?*RT. ?UPS, TraCI: 0ms, vehicles TOT 33 ACT 1 BUF 0)                     \n",
      " Retrying in 1 seconds\n"
     ]
    },
    {
     "name": "stderr",
     "output_type": "stream",
     "text": [
      "Warning: Environment variable SUMO_HOME is not set properly, disabling XML validation. Set 'auto' or 'always' for web lookups.\n"
     ]
    },
    {
     "name": "stdout",
     "output_type": "stream",
     "text": [
      "state : [0 0 0 0 0 0 0 0 0 0 0 0 0 0 0 0 0 0 0 0 0 0 0 0 1 1 1 3 3 1 0 0 0 0 0 0 0\n",
      " 0 0 0 0 0 0 0 0 0 0 0]\n",
      "Q_values : [-1.4154758 -1.5466107 -1.7532821 -1.5378168]\n",
      "episode : 70\n",
      "Step #100.00 (0ms ?*RT. ?UPS, TraCI: 0ms, vehicles TOT 33 ACT 1 BUF 0)                     \n",
      " Retrying in 1 seconds\n"
     ]
    },
    {
     "name": "stderr",
     "output_type": "stream",
     "text": [
      "Warning: Environment variable SUMO_HOME is not set properly, disabling XML validation. Set 'auto' or 'always' for web lookups.\n"
     ]
    },
    {
     "name": "stdout",
     "output_type": "stream",
     "text": [
      "state : [0 0 0 0 0 0 0 0 0 0 0 0 0 0 0 0 0 0 0 0 0 0 0 0 0 1 1 6 7 4 0 0 0 0 0 0 0\n",
      " 0 0 0 0 0 0 0 0 0 0 0]\n",
      "Q_values : [-3.8861938 -3.4712691 -3.9555812 -3.7043664]\n",
      "state : [0 0 0 0 6 0 0 0 0 0 4 1 0 0 0 0 0 0 0 0 0 0 0 0 0 0 0 0 6 0 0 0 0 0 4 1 0\n",
      " 0 3 0 0 0 3 1 0 0 0 0]\n",
      "Q_values : [ 5.064816   5.4227443 10.172516   5.6562862]\n",
      "state : [0 0 0 0 0 0 0 0 0 0 0 1 0 0 0 0 0 0 0 0 0 0 0 0 0 0 0 0 0 0 0 0 0 0 0 1 0\n",
      " 0 0 0 3 0 0 0 0 0 5 0]\n",
      "Q_values : [0.45671827 0.48001432 0.6123621  1.6289062 ]\n",
      "episode : 71\n",
      "Step #100.00 (0ms ?*RT. ?UPS, TraCI: 0ms, vehicles TOT 33 ACT 0 BUF 0)                     \n",
      " Retrying in 1 seconds\n"
     ]
    },
    {
     "name": "stderr",
     "output_type": "stream",
     "text": [
      "Warning: Environment variable SUMO_HOME is not set properly, disabling XML validation. Set 'auto' or 'always' for web lookups.\n"
     ]
    },
    {
     "name": "stdout",
     "output_type": "stream",
     "text": [
      "state : [0 0 0 0 0 0 0 0 0 0 0 0 0 0 0 0 0 0 0 0 0 0 0 0 0 0 1 6 7 4 0 0 0 0 0 0 0\n",
      " 0 0 0 0 0 0 0 0 0 0 0]\n",
      "Q_values : [-2.8264003 -2.8625245 -2.680336  -2.4653914]\n",
      "episode : 72\n",
      "Step #100.00 (0ms ?*RT. ?UPS, TraCI: 1ms, vehicles TOT 33 ACT 1 BUF 0)                     \n",
      " Retrying in 1 seconds\n"
     ]
    },
    {
     "name": "stderr",
     "output_type": "stream",
     "text": [
      "Warning: Environment variable SUMO_HOME is not set properly, disabling XML validation. Set 'auto' or 'always' for web lookups.\n"
     ]
    },
    {
     "name": "stdout",
     "output_type": "stream",
     "text": [
      "state : [0 0 0 0 0 0 0 0 0 0 0 0 0 0 0 0 0 0 0 0 0 0 0 0 0 1 1 6 7 4 0 0 0 0 0 0 0\n",
      " 0 0 0 0 0 0 0 0 0 0 0]\n",
      "Q_values : [-3.1999032 -3.2429397 -3.4494045 -3.098321 ]\n",
      "state : [0 0 1 0 4 2 0 0 0 0 0 0 0 0 0 0 0 0 0 0 0 0 0 0 0 0 1 0 6 4 0 0 0 4 4 4 5\n",
      " 0 0 0 0 0 0 1 2 0 0 0]\n",
      "Q_values : [-2.0617497 -1.6161683  3.4361143  2.3937883]\n",
      "state : [0 0 1 0 0 4 0 0 0 0 1 4 0 0 0 0 0 0 0 0 0 0 0 0 0 0 1 0 0 4 0 0 0 0 1 4 0\n",
      " 0 0 0 2 0 3 0 0 0 5 0]\n",
      "Q_values : [4.6043243 4.074196  4.530387  9.199884 ]\n",
      "episode : 73\n",
      "Step #100.00 (0ms ?*RT. ?UPS, TraCI: 0ms, vehicles TOT 33 ACT 2 BUF 0)                     \n",
      " Retrying in 1 seconds\n"
     ]
    },
    {
     "name": "stderr",
     "output_type": "stream",
     "text": [
      "Warning: Environment variable SUMO_HOME is not set properly, disabling XML validation. Set 'auto' or 'always' for web lookups.\n"
     ]
    },
    {
     "name": "stdout",
     "output_type": "stream",
     "text": [
      "state : [0 0 0 0 0 0 0 0 0 0 0 0 0 0 0 0 0 0 0 0 0 0 0 0 0 1 1 6 7 4 0 0 0 0 0 0 0\n",
      " 0 0 0 0 0 0 0 0 0 0 0]\n",
      "Q_values : [-3.6866438 -3.2027214 -3.6376975 -3.2706237]\n",
      "state : [0 0 0 0 6 0 0 0 0 0 4 0 0 0 0 0 0 0 0 0 0 0 0 0 0 0 0 0 6 0 0 0 0 0 4 0 0\n",
      " 0 1 0 0 0 0 0 0 0 0 0]\n",
      "Q_values : [4.910304  5.2300158 9.982198  5.2543926]\n",
      "state : [0 0 0 0 0 0 0 0 0 0 0 0 0 0 0 0 0 0 0 0 0 0 0 0 0 0 0 0 0 0 0 0 0 0 0 0 0\n",
      " 0 0 0 3 0 0 0 0 0 5 0]\n",
      "Q_values : [-0.37195444 -0.1188574  -0.46280736 -0.17223269]\n",
      "episode : 74\n",
      "Step #100.00 (0ms ?*RT. ?UPS, TraCI: 0ms, vehicles TOT 33 ACT 0 BUF 0)                     \n",
      " Retrying in 1 seconds\n"
     ]
    },
    {
     "name": "stderr",
     "output_type": "stream",
     "text": [
      "Warning: Environment variable SUMO_HOME is not set properly, disabling XML validation. Set 'auto' or 'always' for web lookups.\n"
     ]
    },
    {
     "name": "stdout",
     "output_type": "stream",
     "text": [
      "state : [0 1 0 0 1 1 0 0 0 0 0 0 0 0 0 0 0 0 0 0 0 0 0 0 0 1 0 4 6 6 0 0 0 4 4 1 2\n",
      " 0 0 0 0 1 0 0 0 1 0 0]\n",
      "Q_values : [-3.9391189 -3.4716372 -1.636725  -0.8703709]\n",
      "state : [0 1 0 0 4 0 0 0 0 0 0 0 0 0 0 0 0 0 0 0 0 0 0 0 0 1 0 0 6 1 0 0 0 4 4 4 5\n",
      " 0 0 0 0 0 0 0 4 0 0 0]\n",
      "Q_values : [-2.6719005 -2.116402   2.1136398  1.6174785]\n",
      "state : [0 1 0 0 0 1 0 0 0 0 0 4 0 0 0 0 0 0 0 0 0 0 0 0 0 1 0 0 0 1 0 0 0 0 0 4 0\n",
      " 0 0 0 0 0 0 0 0 0 0 0]\n",
      "Q_values : [3.3180718 2.7435243 3.3987477 6.546206 ]\n",
      "episode : 75\n",
      "Step #100.00 (0ms ?*RT. ?UPS, TraCI: 0ms, vehicles TOT 33 ACT 4 BUF 0)                     \n",
      " Retrying in 1 seconds\n"
     ]
    },
    {
     "name": "stderr",
     "output_type": "stream",
     "text": [
      "Warning: Environment variable SUMO_HOME is not set properly, disabling XML validation. Set 'auto' or 'always' for web lookups.\n"
     ]
    },
    {
     "name": "stdout",
     "output_type": "stream",
     "text": [
      "state : [0 0 0 0 0 0 0 0 0 0 0 0 0 0 0 0 0 0 0 0 0 0 0 0 0 0 0 0 0 0 0 0 0 0 0 0 0\n",
      " 0 0 0 0 0 0 0 0 0 0 0]\n",
      "Q_values : [-0.7560224  -0.75549066 -0.690043   -0.34157616]\n",
      "state : [0 0 0 0 0 0 0 0 0 0 0 0 0 0 0 0 0 0 0 0 0 0 0 0 0 1 1 6 7 4 0 0 0 0 0 0 0\n",
      " 0 0 0 0 0 0 0 0 0 0 0]\n",
      "Q_values : [-3.3605702 -3.4107847 -3.5962071 -4.0356383]\n",
      "state : [0 0 0 0 0 0 0 0 0 0 0 1 0 0 0 0 0 0 0 0 0 0 0 0 0 0 0 0 0 0 0 0 0 0 0 1 0\n",
      " 0 0 0 0 0 0 0 0 0 0 0]\n",
      "Q_values : [0.67365825 0.6448292  1.4735658  1.7174296 ]\n",
      "episode : 76\n",
      "Step #100.00 (0ms ?*RT. ?UPS, TraCI: 0ms, vehicles TOT 33 ACT 0 BUF 0)                     \n",
      " Retrying in 1 seconds\n"
     ]
    },
    {
     "name": "stderr",
     "output_type": "stream",
     "text": [
      "Warning: Environment variable SUMO_HOME is not set properly, disabling XML validation. Set 'auto' or 'always' for web lookups.\n"
     ]
    },
    {
     "name": "stdout",
     "output_type": "stream",
     "text": [
      "state : [0 0 0 0 0 0 0 0 0 0 0 0 0 0 0 0 0 0 0 0 0 0 0 0 0 0 0 0 0 0 0 0 0 0 0 0 0\n",
      " 0 0 0 0 0 0 0 0 0 0 0]\n",
      "Q_values : [-0.77326834 -0.71249175 -0.565033   -0.4121433 ]\n",
      "state : [0 0 0 0 0 0 0 0 0 0 0 0 0 0 0 0 0 0 0 0 0 0 0 0 1 1 1 3 3 1 0 0 0 0 0 0 0\n",
      " 0 0 0 0 0 0 0 0 0 0 0]\n",
      "Q_values : [-1.2177157 -1.6039268 -1.570137  -1.7240427]\n",
      "state : [0 0 1 0 0 1 0 0 0 0 0 0 0 0 0 0 0 0 0 0 0 0 0 0 0 0 1 3 4 6 0 0 0 4 4 1 2\n",
      " 0 0 0 0 0 0 1 0 1 2 0]\n",
      "Q_values : [-3.250126  -2.9429343 -1.3967676 -0.6725005]\n",
      "episode : 77\n",
      "Step #100.00 (0ms ?*RT. ?UPS, TraCI: 0ms, vehicles TOT 33 ACT 0 BUF 0)                     \n",
      " Retrying in 1 seconds\n"
     ]
    },
    {
     "name": "stderr",
     "output_type": "stream",
     "text": [
      "Warning: Environment variable SUMO_HOME is not set properly, disabling XML validation. Set 'auto' or 'always' for web lookups.\n"
     ]
    },
    {
     "name": "stdout",
     "output_type": "stream",
     "text": [
      "state : [0 0 0 0 0 0 0 0 0 0 0 0 0 0 0 0 0 0 0 0 0 0 0 0 0 0 0 0 0 0 0 0 0 0 0 0 0\n",
      " 0 0 0 0 0 0 0 0 0 0 0]\n",
      "Q_values : [-0.869937   -0.64288443 -0.6707616  -0.36859232]\n",
      "state : [0 1 0 0 0 6 0 0 0 0 1 4 0 0 0 0 0 0 0 0 0 0 0 0 0 1 0 0 0 6 0 0 0 0 1 4 0\n",
      " 0 0 0 2 0 3 0 0 0 2 0]\n",
      "Q_values : [ 5.227846   5.054495   6.2090087 10.649297 ]\n",
      "state : [0 1 0 0 0 0 0 0 0 0 0 0 0 0 0 0 0 0 0 0 0 0 0 0 0 1 0 0 0 0 0 0 0 0 0 0 0\n",
      " 0 4 0 1 0 0 0 6 0 0 0]\n",
      "Q_values : [1.2845669 1.4846793 1.3010316 0.2744041]\n",
      "episode : 78\n",
      "Step #100.00 (0ms ?*RT. ?UPS, TraCI: 0ms, vehicles TOT 33 ACT 1 BUF 0)                     \n",
      " Retrying in 1 seconds\n"
     ]
    },
    {
     "name": "stderr",
     "output_type": "stream",
     "text": [
      "Warning: Environment variable SUMO_HOME is not set properly, disabling XML validation. Set 'auto' or 'always' for web lookups.\n"
     ]
    },
    {
     "name": "stdout",
     "output_type": "stream",
     "text": [
      "state : [0 0 0 0 0 0 0 0 0 0 0 0 0 0 0 0 0 0 0 0 0 0 0 0 0 0 0 0 0 0 0 0 0 0 0 0 0\n",
      " 0 0 0 0 0 0 0 0 0 0 0]\n",
      "Q_values : [-0.86137205 -0.73047274 -0.65294737 -0.4304586 ]\n",
      "state : [0 0 1 0 0 4 0 0 0 0 0 1 0 0 0 0 0 0 0 0 0 0 0 0 0 0 1 0 0 4 0 0 0 1 1 4 3\n",
      " 0 0 0 2 0 3 0 0 0 6 0]\n",
      "Q_values : [1.8409421 2.0136886 2.1246333 4.6419387]\n",
      "episode : 79\n",
      "Step #100.00 (0ms ?*RT. ?UPS, TraCI: 0ms, vehicles TOT 33 ACT 1 BUF 0)                     \n",
      " Retrying in 1 seconds\n"
     ]
    },
    {
     "name": "stderr",
     "output_type": "stream",
     "text": [
      "Warning: Environment variable SUMO_HOME is not set properly, disabling XML validation. Set 'auto' or 'always' for web lookups.\n"
     ]
    },
    {
     "name": "stdout",
     "output_type": "stream",
     "text": [
      "state : [0 0 0 0 0 0 0 0 0 0 0 0 0 0 0 0 0 0 0 0 0 0 0 0 1 1 1 3 3 1 0 0 0 0 0 0 0\n",
      " 0 0 0 0 0 0 0 0 0 0 0]\n",
      "Q_values : [-1.5529821 -1.8744692 -1.6053859 -1.831773 ]\n",
      "state : [0 0 0 0 0 0 0 0 0 0 0 0 0 0 0 0 0 0 0 0 0 0 0 0 0 0 1 6 7 4 0 0 0 0 0 0 0\n",
      " 0 0 0 0 0 0 0 0 0 0 0]\n",
      "Q_values : [-2.9926407 -3.0266871 -2.72251   -3.0333028]\n",
      "state : [0 0 0 0 1 6 0 0 0 0 2 1 0 0 0 0 0 0 0 0 0 0 0 0 0 0 0 0 1 6 0 0 0 1 4 4 3\n",
      " 0 0 0 0 1 3 0 0 0 1 0]\n",
      "Q_values : [2.7474997 3.0936654 6.3654594 7.095923 ]\n",
      "state : [0 0 0 0 0 0 0 0 0 0 0 0 0 0 0 0 0 0 0 0 0 0 0 0 0 0 0 0 0 0 0 0 0 0 0 0 0\n",
      " 0 0 0 4 0 0 0 0 0 1 0]\n",
      "Q_values : [0.70313376 0.8009653  0.60624015 1.5282958 ]\n",
      "episode : 80\n",
      "Step #100.00 (0ms ?*RT. ?UPS, TraCI: 0ms, vehicles TOT 33 ACT 3 BUF 0)                     \n",
      " Retrying in 1 seconds\n"
     ]
    },
    {
     "name": "stderr",
     "output_type": "stream",
     "text": [
      "Warning: Environment variable SUMO_HOME is not set properly, disabling XML validation. Set 'auto' or 'always' for web lookups.\n"
     ]
    },
    {
     "name": "stdout",
     "output_type": "stream",
     "text": [
      "state : [0 0 0 0 0 0 0 0 0 0 0 0 0 0 0 0 0 0 0 0 0 0 0 0 0 0 0 0 0 0 0 0 0 0 0 0 0\n",
      " 0 0 0 0 0 0 0 0 0 0 0]\n",
      "Q_values : [-0.9255118 -0.7861622 -0.9287679 -0.5146225]\n",
      "state : [0 0 1 0 4 4 0 0 0 0 0 0 0 0 0 0 0 0 0 0 0 0 0 0 0 0 1 0 6 6 0 0 0 4 4 4 5\n",
      " 0 0 0 0 0 0 0 0 0 0 0]\n",
      "Q_values : [-2.0275574 -1.5356718  2.9305274  3.319736 ]\n",
      "state : [0 0 0 0 6 0 0 0 0 0 4 0 0 0 0 0 0 0 0 0 0 0 0 0 0 0 0 0 6 0 0 0 0 0 4 0 0\n",
      " 0 0 0 0 0 0 0 0 0 0 0]\n",
      "Q_values : [ 5.781231  5.628418 12.123779  6.531914]\n",
      "episode : 81\n",
      "Step #100.00 (0ms ?*RT. ?UPS, TraCI: 0ms, vehicles TOT 33 ACT 8 BUF 0)                     \n",
      " Retrying in 1 seconds\n"
     ]
    },
    {
     "name": "stderr",
     "output_type": "stream",
     "text": [
      "Warning: Environment variable SUMO_HOME is not set properly, disabling XML validation. Set 'auto' or 'always' for web lookups.\n"
     ]
    },
    {
     "name": "stdout",
     "output_type": "stream",
     "text": [
      "state : [0 0 0 0 0 0 0 0 0 0 0 0 0 0 0 0 0 0 0 0 0 0 0 0 1 1 1 3 3 1 0 0 0 0 0 0 0\n",
      " 0 0 0 0 0 0 0 0 0 0 0]\n",
      "Q_values : [-0.998335  -1.4486287 -1.4825933 -1.4572048]\n",
      "state : [0 0 1 0 1 1 0 0 0 0 0 0 0 0 0 0 0 0 0 0 0 0 0 0 0 0 1 4 6 6 0 0 0 4 4 1 2\n",
      " 0 0 0 0 0 0 1 0 1 0 0]\n",
      "Q_values : [-3.4289844 -2.8747535 -1.592984  -0.9169229]\n",
      "episode : 82\n",
      "Step #100.00 (0ms ?*RT. ?UPS, TraCI: 0ms, vehicles TOT 33 ACT 0 BUF 0)                     \n",
      " Retrying in 1 seconds\n"
     ]
    },
    {
     "name": "stderr",
     "output_type": "stream",
     "text": [
      "Warning: Environment variable SUMO_HOME is not set properly, disabling XML validation. Set 'auto' or 'always' for web lookups.\n"
     ]
    },
    {
     "name": "stdout",
     "output_type": "stream",
     "text": [
      "state : [0 0 0 0 0 0 0 0 0 0 0 0 0 0 0 0 0 0 0 0 0 0 0 0 0 0 0 0 0 0 0 0 0 0 0 0 0\n",
      " 0 0 0 0 0 0 0 0 0 0 0]\n",
      "Q_values : [-0.9033735 -0.7825035 -0.7149609 -0.6142542]\n",
      "state : [0 0 0 0 0 0 0 0 0 0 0 0 0 0 0 0 0 0 0 0 0 0 0 0 0 1 1 6 7 4 0 0 0 0 0 0 0\n",
      " 0 0 0 0 0 0 0 0 0 0 0]\n",
      "Q_values : [-3.702011  -3.6365685 -3.6567688 -4.1204023]\n",
      "state : [0 0 0 0 0 1 0 0 0 0 0 4 0 0 0 0 0 0 0 0 0 0 0 0 0 0 0 0 0 1 0 0 0 0 0 4 0\n",
      " 0 0 0 4 0 3 0 0 0 6 0]\n",
      "Q_values : [2.938608  2.6948855 2.9118721 6.0137024]\n",
      "state : [0 0 0 0 0 0 0 0 0 0 0 0 0 0 0 0 0 0 0 0 0 0 0 0 0 0 0 0 0 0 0 0 0 0 0 0 0\n",
      " 0 4 0 3 0 0 0 1 0 5 0]\n",
      "Q_values : [ 0.11979024  0.23804116  0.37902603 -0.05806065]\n",
      "episode : 83\n",
      "Step #100.00 (0ms ?*RT. ?UPS, TraCI: 0ms, vehicles TOT 33 ACT 0 BUF 0)                     \n",
      " Retrying in 1 seconds\n"
     ]
    },
    {
     "name": "stderr",
     "output_type": "stream",
     "text": [
      "Warning: Environment variable SUMO_HOME is not set properly, disabling XML validation. Set 'auto' or 'always' for web lookups.\n"
     ]
    },
    {
     "name": "stdout",
     "output_type": "stream",
     "text": [
      "state : [0 0 1 0 1 1 0 0 0 0 0 0 0 0 0 0 0 0 0 0 0 0 0 0 0 0 1 4 6 6 0 0 0 4 4 1 2\n",
      " 0 0 0 0 0 0 1 0 1 0 0]\n",
      "Q_values : [-3.118907  -3.02925   -1.4607222 -1.3230515]\n",
      "state : [0 0 1 0 4 0 0 0 0 0 0 0 0 0 0 0 0 0 0 0 0 0 0 0 0 0 1 0 6 1 0 0 0 4 4 4 5\n",
      " 0 0 0 0 0 0 0 4 0 0 0]\n",
      "Q_values : [-1.4741371 -1.5264502  2.1347978  0.7145983]\n",
      "state : [0 0 1 0 0 1 0 0 0 0 0 4 0 0 0 0 0 0 0 0 0 0 0 0 0 0 1 0 0 1 0 0 0 0 0 4 0\n",
      " 0 0 0 1 0 0 0 0 0 0 0]\n",
      "Q_values : [3.0629857 2.8607998 2.9564013 5.7454906]\n",
      "state : [0 0 1 0 0 0 0 0 0 0 0 0 0 0 0 0 0 0 0 0 0 0 0 0 0 0 1 0 0 0 0 0 0 0 0 0 0\n",
      " 0 3 0 0 0 0 0 0 0 0 0]\n",
      "Q_values : [ 0.4259868  -0.18647729  0.95777565  0.80607   ]\n",
      "episode : 84\n",
      "Step #100.00 (0ms ?*RT. ?UPS, TraCI: 0ms, vehicles TOT 33 ACT 1 BUF 0)                     \n",
      " Retrying in 1 seconds\n"
     ]
    },
    {
     "name": "stderr",
     "output_type": "stream",
     "text": [
      "Warning: Environment variable SUMO_HOME is not set properly, disabling XML validation. Set 'auto' or 'always' for web lookups.\n"
     ]
    },
    {
     "name": "stdout",
     "output_type": "stream",
     "text": [
      "state : [0 0 0 0 0 0 0 0 0 0 0 0 0 0 0 0 0 0 0 0 0 0 0 0 0 0 0 0 0 0 0 0 0 0 0 0 0\n",
      " 0 0 0 0 0 0 0 0 0 0 0]\n",
      "Q_values : [-0.7944157  -0.7454908  -0.50874126 -0.35552144]\n",
      "state : [0 0 0 0 0 0 0 0 0 0 0 0 0 0 0 0 0 0 0 0 0 0 0 0 1 1 1 3 3 1 0 0 0 0 0 0 0\n",
      " 0 0 0 0 0 0 0 0 0 0 0]\n",
      "Q_values : [-1.4150549 -1.6466446 -1.4249523 -1.4920356]\n",
      "state : [0 0 1 0 4 0 0 0 0 0 0 0 0 0 0 0 0 0 0 0 0 0 0 0 0 0 1 0 6 0 0 0 0 4 4 4 5\n",
      " 0 0 0 0 0 0 0 5 0 0 0]\n",
      "Q_values : [-2.0560942 -1.6955479  1.8098012  0.4097231]\n",
      "state : [0 0 1 0 0 0 0 0 0 0 0 4 0 0 0 0 0 0 0 0 0 0 0 0 0 0 1 0 0 0 0 0 0 0 0 4 0\n",
      " 0 0 0 3 0 3 0 0 0 5 0]\n",
      "Q_values : [1.9115183 1.9727693 2.1655145 4.47661  ]\n",
      "episode : 85\n",
      "Step #100.00 (0ms ?*RT. ?UPS, TraCI: 1ms, vehicles TOT 33 ACT 1 BUF 0)                     \n",
      " Retrying in 1 seconds\n"
     ]
    },
    {
     "name": "stderr",
     "output_type": "stream",
     "text": [
      "Warning: Environment variable SUMO_HOME is not set properly, disabling XML validation. Set 'auto' or 'always' for web lookups.\n"
     ]
    },
    {
     "name": "stdout",
     "output_type": "stream",
     "text": [
      "state : [0 1 1 0 1 0 0 0 0 0 0 0 0 0 0 0 0 0 0 0 0 0 0 0 0 1 1 4 6 4 0 0 0 4 4 1 2\n",
      " 0 0 0 0 0 0 0 1 1 0 0]\n",
      "Q_values : [-3.3145838 -2.9880967 -1.6357784 -1.3054632]\n",
      "state : [0 1 1 0 4 0 0 0 0 0 0 0 0 0 0 0 0 0 0 0 0 0 0 0 0 1 1 0 6 0 0 0 0 4 4 4 5\n",
      " 0 0 0 0 0 0 0 5 0 0 0]\n",
      "Q_values : [-1.9317579 -1.7414575  1.8126378  0.760069 ]\n",
      "episode : 86\n",
      "Step #100.00 (0ms ?*RT. ?UPS, TraCI: 0ms, vehicles TOT 33 ACT 1 BUF 0)                     \n",
      " Retrying in 1 seconds\n"
     ]
    },
    {
     "name": "stderr",
     "output_type": "stream",
     "text": [
      "Warning: Environment variable SUMO_HOME is not set properly, disabling XML validation. Set 'auto' or 'always' for web lookups.\n"
     ]
    },
    {
     "name": "stdout",
     "output_type": "stream",
     "text": [
      "state : [0 0 0 0 0 0 0 0 0 0 0 0 0 0 0 0 0 0 0 0 0 0 0 0 0 0 0 0 0 0 0 0 0 0 0 0 0\n",
      " 0 0 0 0 0 0 0 0 0 0 0]\n",
      "Q_values : [-0.89277226 -0.77720475 -0.5603082  -0.57215846]\n",
      "state : [0 0 1 0 0 2 0 0 0 0 0 0 0 0 0 0 0 0 0 0 0 0 0 0 0 0 1 0 0 4 0 0 0 4 4 4 5\n",
      " 0 0 0 0 0 0 0 2 0 5 0]\n",
      "Q_values : [-1.9852924  -1.8022665  -0.03068143  0.24109867]\n",
      "state : [0 0 1 0 0 0 0 0 0 0 2 0 0 0 0 0 0 0 0 0 0 0 0 0 0 0 1 0 0 0 0 0 0 1 4 1 3\n",
      " 0 2 0 0 0 3 0 4 0 5 0]\n",
      "Q_values : [-0.7978888  -0.6182518   1.3737833   0.90796125]\n",
      "state : [0 0 1 0 0 0 0 0 0 0 0 0 0 0 0 0 0 0 0 0 0 0 0 0 0 0 1 0 0 0 0 0 0 0 0 0 0\n",
      " 0 0 0 0 0 0 0 0 0 0 0]\n",
      "Q_values : [0.29977876 0.40153107 0.70177644 0.57482576]\n",
      "episode : 87\n",
      "Step #100.00 (0ms ?*RT. ?UPS, TraCI: 0ms, vehicles TOT 33 ACT 1 BUF 0)                     \n",
      " Retrying in 1 seconds\n"
     ]
    },
    {
     "name": "stderr",
     "output_type": "stream",
     "text": [
      "Warning: Environment variable SUMO_HOME is not set properly, disabling XML validation. Set 'auto' or 'always' for web lookups.\n"
     ]
    },
    {
     "name": "stdout",
     "output_type": "stream",
     "text": [
      "state : [0 0 0 0 0 0 0 0 0 0 0 0 0 0 0 0 0 0 0 0 0 0 0 0 0 0 0 0 0 0 0 0 0 0 0 0 0\n",
      " 0 0 0 0 0 0 0 0 0 0 0]\n",
      "Q_values : [-0.84189683 -0.7067064  -0.73460066 -0.53024226]\n",
      "state : [0 0 0 0 0 0 0 0 0 0 0 0 0 0 0 0 0 0 0 0 0 0 0 0 1 1 1 3 3 1 0 0 0 0 0 0 0\n",
      " 0 0 0 0 0 0 0 0 0 0 0]\n",
      "Q_values : [-1.2170284 -1.5373414 -1.8055992 -1.667916 ]\n",
      "state : [0 0 0 0 6 0 0 0 0 0 2 0 0 0 0 0 0 0 0 0 0 0 0 0 0 0 0 0 6 0 0 0 0 1 4 1 3\n",
      " 0 2 0 0 0 3 0 4 0 0 0]\n",
      "Q_values : [2.4868574 2.7662945 7.251937  3.511598 ]\n",
      "state : [0 0 0 0 0 0 0 0 0 0 0 1 0 0 0 0 0 0 0 0 0 0 0 0 0 0 0 0 0 0 0 0 0 0 0 1 0\n",
      " 0 3 0 4 0 3 0 3 0 6 0]\n",
      "Q_values : [-0.523013   -0.3388793   0.49351412  1.0566306 ]\n",
      "state : [0 0 0 0 0 0 0 0 0 0 0 0 0 0 0 0 0 0 0 0 0 0 0 0 0 0 0 0 0 0 0 0 0 0 0 0 0\n",
      " 0 1 0 3 0 0 0 0 0 5 0]\n",
      "Q_values : [-0.5452218  -0.4232491  -0.6057842  -0.09229636]\n",
      "episode : 88\n",
      "Step #100.00 (0ms ?*RT. ?UPS, TraCI: 0ms, vehicles TOT 33 ACT 0 BUF 0)                     \n",
      " Retrying in 1 seconds\n"
     ]
    },
    {
     "name": "stderr",
     "output_type": "stream",
     "text": [
      "Warning: Environment variable SUMO_HOME is not set properly, disabling XML validation. Set 'auto' or 'always' for web lookups.\n"
     ]
    },
    {
     "name": "stdout",
     "output_type": "stream",
     "text": [
      "state : [0 0 0 0 0 0 0 0 0 0 0 0 0 0 0 0 0 0 0 0 0 0 0 0 1 1 1 3 3 1 0 0 0 0 0 0 0\n",
      " 0 0 0 0 0 0 0 0 0 0 0]\n",
      "Q_values : [-1.2804786 -1.6216505 -1.6949351 -1.4908155]\n",
      "state : [0 0 1 0 6 6 0 0 0 0 2 1 0 0 0 0 0 0 0 0 0 0 0 0 0 0 1 0 6 6 0 0 0 1 4 4 3\n",
      " 0 0 0 0 0 3 0 0 0 0 0]\n",
      "Q_values : [ 3.5708225  3.9929922  9.852094  10.556093 ]\n",
      "state : [0 0 1 0 6 0 0 0 0 0 4 0 0 0 0 0 0 0 0 0 0 0 0 0 0 0 1 0 6 0 0 0 0 0 4 0 0\n",
      " 0 0 0 0 0 0 0 0 0 0 0]\n",
      "Q_values : [ 5.8217335  5.839713  10.73013    6.448703 ]\n",
      "state : [0 0 1 0 0 0 0 0 0 0 0 0 0 0 0 0 0 0 0 0 0 0 0 0 0 0 1 0 0 0 0 0 0 0 0 0 0\n",
      " 0 0 0 4 0 0 0 0 0 6 0]\n",
      "Q_values : [1.295273   1.2020874  0.64762986 2.026654  ]\n",
      "episode : 89\n",
      "Step #100.00 (0ms ?*RT. ?UPS, TraCI: 0ms, vehicles TOT 33 ACT 9 BUF 0)                     \n",
      " Retrying in 1 seconds\n"
     ]
    },
    {
     "name": "stderr",
     "output_type": "stream",
     "text": [
      "Warning: Environment variable SUMO_HOME is not set properly, disabling XML validation. Set 'auto' or 'always' for web lookups.\n"
     ]
    },
    {
     "name": "stdout",
     "output_type": "stream",
     "text": [
      "state : [0 0 0 0 0 0 0 0 0 0 0 0 0 0 0 0 0 0 0 0 0 0 0 0 0 1 1 6 7 4 0 0 0 0 0 0 0\n",
      " 0 0 0 0 0 0 0 0 0 0 0]\n",
      "Q_values : [-3.4333467 -3.550455  -3.405057  -3.9661882]\n",
      "state : [0 1 1 0 0 1 0 0 0 0 0 0 0 0 0 0 0 0 0 0 0 0 0 0 0 1 1 3 4 6 0 0 0 4 4 1 2\n",
      " 0 0 0 0 0 0 0 0 1 2 0]\n",
      "Q_values : [-2.820821  -2.720002  -1.424083  -1.2167411]\n",
      "state : [0 1 1 0 2 0 0 0 0 0 0 0 0 0 0 0 0 0 0 0 0 0 0 0 0 1 1 0 4 1 0 0 0 4 4 4 5\n",
      " 0 0 0 0 0 0 0 4 0 1 0]\n",
      "Q_values : [-1.6010939  -1.5030992   1.4248334   0.30738735]\n",
      "state : [0 1 0 0 0 0 0 0 0 0 0 0 0 0 0 0 0 0 0 0 0 0 0 0 0 1 0 0 0 0 0 0 0 0 0 0 0\n",
      " 0 4 0 0 0 0 0 1 0 0 0]\n",
      "Q_values : [1.1757194  0.89501894 0.8534418  0.4472052 ]\n",
      "episode : 90\n",
      "Step #100.00 (0ms ?*RT. ?UPS, TraCI: 0ms, vehicles TOT 33 ACT 0 BUF 0)                     \n",
      " Retrying in 1 seconds\n"
     ]
    },
    {
     "name": "stderr",
     "output_type": "stream",
     "text": [
      "Warning: Environment variable SUMO_HOME is not set properly, disabling XML validation. Set 'auto' or 'always' for web lookups.\n"
     ]
    },
    {
     "name": "stdout",
     "output_type": "stream",
     "text": [
      "state : [0 0 0 0 0 0 0 0 0 0 0 0 0 0 0 0 0 0 0 0 0 0 0 0 0 0 0 0 0 0 0 0 0 0 0 0 0\n",
      " 0 0 0 0 0 0 0 0 0 0 0]\n",
      "Q_values : [-0.5980929  -0.53895164 -0.5693731  -0.41941714]\n",
      "state : [0 0 0 0 0 0 0 0 0 0 0 0 0 0 0 0 0 0 0 0 0 0 0 0 0 1 1 6 7 4 0 0 0 0 0 0 0\n",
      " 0 0 0 0 0 0 0 0 0 0 0]\n",
      "Q_values : [-3.0125508 -2.7470894 -3.1297007 -3.19979  ]\n",
      "state : [0 0 0 0 0 6 0 0 0 0 1 4 0 0 0 0 0 0 0 0 0 0 0 0 0 0 0 0 0 6 0 0 0 0 1 4 0\n",
      " 0 0 0 2 0 3 0 0 0 5 0]\n",
      "Q_values : [ 5.050625   4.8370605  5.3939357 10.441126 ]\n",
      "episode : 91\n",
      "Step #100.00 (0ms ?*RT. ?UPS, TraCI: 0ms, vehicles TOT 33 ACT 0 BUF 0)                     \n",
      " Retrying in 1 seconds\n"
     ]
    },
    {
     "name": "stderr",
     "output_type": "stream",
     "text": [
      "Warning: Environment variable SUMO_HOME is not set properly, disabling XML validation. Set 'auto' or 'always' for web lookups.\n"
     ]
    },
    {
     "name": "stdout",
     "output_type": "stream",
     "text": [
      "state : [0 0 0 0 0 0 0 0 0 0 0 0 0 0 0 0 0 0 0 0 0 0 0 0 0 0 0 0 0 0 0 0 0 0 0 0 0\n",
      " 0 0 0 0 0 0 0 0 0 0 0]\n",
      "Q_values : [-0.9459734  -0.7028825  -0.80717576 -0.5962564 ]\n",
      "episode : 92\n",
      "Step #100.00 (0ms ?*RT. ?UPS, TraCI: 1ms, vehicles TOT 33 ACT 0 BUF 0)                     \n",
      " Retrying in 1 seconds\n"
     ]
    },
    {
     "name": "stderr",
     "output_type": "stream",
     "text": [
      "Warning: Environment variable SUMO_HOME is not set properly, disabling XML validation. Set 'auto' or 'always' for web lookups.\n"
     ]
    },
    {
     "name": "stdout",
     "output_type": "stream",
     "text": [
      "state : [0 0 0 0 0 0 0 0 0 0 0 0 0 0 0 0 0 0 0 0 0 0 0 0 0 0 0 0 0 0 0 0 0 0 0 0 0\n",
      " 0 0 0 0 0 0 0 0 0 0 0]\n",
      "Q_values : [-0.7644848  -0.7103054  -0.59723336 -0.5485412 ]\n",
      "state : [0 0 0 0 0 0 0 0 0 0 0 0 0 0 0 0 0 0 0 0 0 0 0 0 0 0 1 6 7 4 0 0 0 0 0 0 0\n",
      " 0 0 0 0 0 0 0 0 0 0 0]\n",
      "Q_values : [-2.802306  -2.6740952 -2.516831  -2.8835194]\n",
      "state : [0 0 0 0 0 0 0 0 0 0 1 0 0 0 0 0 0 0 0 0 0 0 0 0 0 0 0 0 0 0 0 0 0 0 1 0 0\n",
      " 0 4 0 0 0 0 0 5 0 0 0]\n",
      "Q_values : [0.62636095 0.71370053 0.77987343 0.41110796]\n",
      "episode : 93\n",
      "Step #100.00 (0ms ?*RT. ?UPS, TraCI: 0ms, vehicles TOT 33 ACT 0 BUF 0)                     \n",
      " Retrying in 1 seconds\n"
     ]
    },
    {
     "name": "stderr",
     "output_type": "stream",
     "text": [
      "Warning: Environment variable SUMO_HOME is not set properly, disabling XML validation. Set 'auto' or 'always' for web lookups.\n"
     ]
    },
    {
     "name": "stdout",
     "output_type": "stream",
     "text": [
      "state : [0 0 0 0 0 0 0 0 0 0 0 0 0 0 0 0 0 0 0 0 0 0 0 0 0 0 0 0 0 0 0 0 0 0 0 0 0\n",
      " 0 0 0 0 0 0 0 0 0 0 0]\n",
      "Q_values : [-1.0213472  -0.63575023 -0.74987894 -0.6333295 ]\n",
      "state : [0 0 0 0 0 0 0 0 0 0 0 0 0 0 0 0 0 0 0 0 0 0 0 0 0 1 1 6 7 4 0 0 0 0 0 0 0\n",
      " 0 0 0 0 0 0 0 0 0 0 0]\n",
      "Q_values : [-3.8272042 -2.9023318 -3.3113432 -3.3278875]\n",
      "state : [0 1 0 0 0 1 0 0 0 0 0 1 0 0 0 0 0 0 0 0 0 0 0 0 0 1 0 0 0 1 0 0 0 1 1 4 3\n",
      " 0 0 0 2 0 3 0 5 0 6 0]\n",
      "Q_values : [-1.2571032  -1.7453661  -1.0414636  -0.85818607]\n",
      "state : [0 1 0 0 0 0 0 0 0 0 1 0 0 0 0 0 0 0 0 0 0 0 0 0 0 1 0 0 0 0 0 0 0 0 1 0 0\n",
      " 0 4 0 2 0 3 0 1 0 5 0]\n",
      "Q_values : [-0.34199572 -0.1127966   0.9750445   0.12504587]\n",
      "state : [0 1 0 0 0 0 0 0 0 0 0 0 0 0 0 0 0 0 0 0 0 0 0 0 0 1 0 0 0 0 0 0 0 0 0 0 0\n",
      " 0 3 0 1 0 0 0 0 0 0 0]\n",
      "Q_values : [0.68529916 0.63474965 0.5978547  0.36980402]\n",
      "episode : 94\n",
      "Step #100.00 (0ms ?*RT. ?UPS, TraCI: 0ms, vehicles TOT 33 ACT 0 BUF 0)                     \n",
      " Retrying in 1 seconds\n"
     ]
    },
    {
     "name": "stderr",
     "output_type": "stream",
     "text": [
      "Warning: Environment variable SUMO_HOME is not set properly, disabling XML validation. Set 'auto' or 'always' for web lookups.\n"
     ]
    },
    {
     "name": "stdout",
     "output_type": "stream",
     "text": [
      "state : [0 0 1 0 4 2 0 0 0 0 0 0 0 0 0 0 0 0 0 0 0 0 0 0 0 0 1 0 6 4 0 0 0 4 4 4 5\n",
      " 0 0 0 0 0 0 0 2 0 0 0]\n",
      "Q_values : [-1.2683101 -1.2354418  4.4486027  3.2448466]\n",
      "state : [0 0 1 0 0 4 0 0 0 0 0 1 0 0 0 0 0 0 0 0 0 0 0 0 0 0 1 0 0 4 0 0 0 1 1 4 3\n",
      " 0 0 0 2 0 3 0 0 0 6 0]\n",
      "Q_values : [1.3298156 1.7477516 2.290517  5.190648 ]\n",
      "episode : 95\n",
      "Step #100.00 (0ms ?*RT. ?UPS, TraCI: 0ms, vehicles TOT 33 ACT 1 BUF 0)                     \n",
      " Retrying in 1 seconds\n"
     ]
    },
    {
     "name": "stderr",
     "output_type": "stream",
     "text": [
      "Warning: Environment variable SUMO_HOME is not set properly, disabling XML validation. Set 'auto' or 'always' for web lookups.\n"
     ]
    },
    {
     "name": "stdout",
     "output_type": "stream",
     "text": [
      "state : [0 1 0 0 1 1 0 0 0 0 0 0 0 0 0 0 0 0 0 0 0 0 0 0 0 1 0 4 6 6 0 0 0 4 4 1 2\n",
      " 0 0 0 0 1 0 0 0 1 0 0]\n",
      "Q_values : [-2.6612844  -2.241692   -1.1308608  -0.73435646]\n",
      "state : [0 1 0 0 4 0 0 0 0 0 0 0 0 0 0 0 0 0 0 0 0 0 0 0 0 1 0 0 6 1 0 0 0 4 4 4 5\n",
      " 0 0 0 0 0 0 0 4 0 0 0]\n",
      "Q_values : [-1.7813284 -1.3346596  2.2663734  0.7994846]\n",
      "state : [0 1 0 0 0 0 0 0 0 0 0 0 0 0 0 0 0 0 0 0 0 0 0 0 0 1 0 0 0 0 0 0 0 0 0 0 0\n",
      " 0 3 0 0 0 0 0 0 0 0 0]\n",
      "Q_values : [0.69021297 0.5568162  0.5714596  0.3328482 ]\n",
      "episode : 96\n",
      "Step #100.00 (0ms ?*RT. ?UPS, TraCI: 0ms, vehicles TOT 33 ACT 1 BUF 0)                     \n",
      " Retrying in 1 seconds\n"
     ]
    },
    {
     "name": "stderr",
     "output_type": "stream",
     "text": [
      "Warning: Environment variable SUMO_HOME is not set properly, disabling XML validation. Set 'auto' or 'always' for web lookups.\n"
     ]
    },
    {
     "name": "stdout",
     "output_type": "stream",
     "text": [
      "state : [0 0 0 0 0 4 0 0 0 0 0 4 0 0 0 0 0 0 0 0 0 0 0 0 0 0 0 0 0 4 0 0 0 0 0 4 0\n",
      " 0 0 0 4 0 0 0 0 0 6 0]\n",
      "Q_values : [4.502204  3.7303634 3.2166686 6.723645 ]\n",
      "state : [0 0 0 0 0 0 0 0 0 0 0 0 0 0 0 0 0 0 0 0 0 0 0 0 0 0 0 0 0 0 0 0 0 0 0 0 0\n",
      " 0 4 0 3 0 0 0 4 0 5 0]\n",
      "Q_values : [0.5958152 0.5072424 0.2558803 0.3823019]\n",
      "episode : 97\n",
      "Step #100.00 (0ms ?*RT. ?UPS, TraCI: 0ms, vehicles TOT 33 ACT 7 BUF 0)                     \n",
      " Retrying in 1 seconds\n"
     ]
    },
    {
     "name": "stderr",
     "output_type": "stream",
     "text": [
      "Warning: Environment variable SUMO_HOME is not set properly, disabling XML validation. Set 'auto' or 'always' for web lookups.\n"
     ]
    },
    {
     "name": "stdout",
     "output_type": "stream",
     "text": [
      "state : [0 0 0 0 0 0 0 0 0 0 0 0 0 0 0 0 0 0 0 0 0 0 0 0 0 0 0 0 0 0 0 0 0 0 0 0 0\n",
      " 0 0 0 0 0 0 0 0 0 0 0]\n",
      "Q_values : [-0.6797996  -0.5107436  -0.68506604 -0.50439954]\n",
      "state : [0 0 0 0 0 0 0 0 0 0 0 0 0 0 0 0 0 0 0 0 0 0 0 0 0 0 1 6 7 4 0 0 0 0 0 0 0\n",
      " 0 0 0 0 0 0 0 0 0 0 0]\n",
      "Q_values : [-4.686619  -4.107503  -4.5931087 -4.533706 ]\n",
      "episode : 98\n",
      "Step #100.00 (0ms ?*RT. ?UPS, TraCI: 0ms, vehicles TOT 33 ACT 10 BUF 0)                    \n",
      " Retrying in 1 seconds\n"
     ]
    },
    {
     "name": "stderr",
     "output_type": "stream",
     "text": [
      "Warning: Environment variable SUMO_HOME is not set properly, disabling XML validation. Set 'auto' or 'always' for web lookups.\n"
     ]
    },
    {
     "name": "stdout",
     "output_type": "stream",
     "text": [
      "state : [0 0 0 0 0 0 0 0 0 0 0 0 0 0 0 0 0 0 0 0 0 0 0 0 0 1 1 6 7 4 0 0 0 0 0 0 0\n",
      " 0 0 0 0 0 0 0 0 0 0 0]\n",
      "Q_values : [-2.511634  -2.5214283 -1.3630997 -2.0681405]\n",
      "state : [0 0 1 0 2 4 0 0 0 0 0 0 0 0 0 0 0 0 0 0 0 0 0 0 0 0 1 0 4 6 0 0 0 4 4 4 5\n",
      " 0 0 0 0 0 0 1 0 0 1 0]\n",
      "Q_values : [-1.6910901 -1.2654338  3.528809   3.0931797]\n",
      "episode : 99\n",
      "Step #100.00 (0ms ?*RT. ?UPS, TraCI: 1ms, vehicles TOT 33 ACT 2 BUF 0)                     \n",
      " Retrying in 1 seconds\n"
     ]
    },
    {
     "name": "stderr",
     "output_type": "stream",
     "text": [
      "Warning: Environment variable SUMO_HOME is not set properly, disabling XML validation. Set 'auto' or 'always' for web lookups.\n"
     ]
    },
    {
     "name": "stdout",
     "output_type": "stream",
     "text": [
      "episode : 100\n",
      "Step #100.00 (0ms ?*RT. ?UPS, TraCI: 0ms, vehicles TOT 33 ACT 8 BUF 0)                     \n",
      " Retrying in 1 seconds\n"
     ]
    },
    {
     "name": "stderr",
     "output_type": "stream",
     "text": [
      "Warning: Environment variable SUMO_HOME is not set properly, disabling XML validation. Set 'auto' or 'always' for web lookups.\n"
     ]
    },
    {
     "name": "stdout",
     "output_type": "stream",
     "text": [
      "state : [0 0 1 0 1 6 0 0 0 0 2 1 0 0 0 0 0 0 0 0 0 0 0 0 0 0 1 0 1 6 0 0 0 1 4 4 3\n",
      " 0 0 0 0 0 3 0 0 0 4 0]\n",
      "Q_values : [2.8249078 3.2514918 5.837058  8.142568 ]\n",
      "state : [0 0 1 0 1 0 0 0 0 0 4 0 0 0 0 0 0 0 0 0 0 0 0 0 0 0 1 0 1 0 0 0 0 0 4 0 0\n",
      " 0 4 0 0 0 3 0 5 0 0 0]\n",
      "Q_values : [4.3910685 3.84161   6.725198  3.5460737]\n",
      "episode : 101\n",
      "Step #100.00 (0ms ?*RT. ?UPS, TraCI: 0ms, vehicles TOT 33 ACT 0 BUF 0)                     \n",
      " Retrying in 1 seconds\n"
     ]
    },
    {
     "name": "stderr",
     "output_type": "stream",
     "text": [
      "Warning: Environment variable SUMO_HOME is not set properly, disabling XML validation. Set 'auto' or 'always' for web lookups.\n"
     ]
    },
    {
     "name": "stdout",
     "output_type": "stream",
     "text": [
      "state : [0 0 0 0 0 0 0 0 0 0 0 0 0 0 0 0 0 0 0 0 0 0 0 0 0 0 0 0 0 0 0 0 0 0 0 0 0\n",
      " 0 0 0 0 0 0 0 0 0 0 0]\n",
      "Q_values : [-0.5585018  -0.5745889  -0.5312661  -0.48326337]\n",
      "state : [0 0 0 0 0 0 0 0 0 0 0 0 0 0 0 0 0 0 0 0 0 0 0 0 0 1 1 6 7 4 0 0 0 0 0 0 0\n",
      " 0 0 0 0 0 0 0 0 0 0 0]\n",
      "Q_values : [-4.372944  -4.565809  -4.5276914 -4.697724 ]\n",
      "state : [0 0 1 0 1 1 0 0 0 0 0 0 0 0 0 0 0 0 0 0 0 0 0 0 0 0 1 4 6 6 0 0 0 4 4 1 2\n",
      " 0 0 0 0 0 0 1 0 1 0 0]\n",
      "Q_values : [-3.5879514 -3.5883942 -2.6844316 -2.5932577]\n",
      "state : [0 0 1 0 0 1 0 0 0 0 0 1 0 0 0 0 0 0 0 0 0 0 0 0 0 0 1 0 0 1 0 0 0 1 1 4 3\n",
      " 0 0 0 2 0 3 0 5 0 6 0]\n",
      "Q_values : [-0.7284959  -0.9344707  -0.30635917  0.83770937]\n",
      "state : [0 0 0 0 0 0 0 0 0 0 1 0 0 0 0 0 0 0 0 0 0 0 0 0 0 0 0 0 0 0 0 0 0 0 1 0 0\n",
      " 0 3 0 0 1 0 0 0 0 0 0]\n",
      "Q_values : [0.26617134 0.41822344 0.5605543  0.5338405 ]\n",
      "episode : 102\n",
      "Step #100.00 (0ms ?*RT. ?UPS, TraCI: 0ms, vehicles TOT 33 ACT 0 BUF 0)                     \n",
      " Retrying in 1 seconds\n"
     ]
    },
    {
     "name": "stderr",
     "output_type": "stream",
     "text": [
      "Warning: Environment variable SUMO_HOME is not set properly, disabling XML validation. Set 'auto' or 'always' for web lookups.\n"
     ]
    },
    {
     "name": "stdout",
     "output_type": "stream",
     "text": [
      "state : [0 1 0 0 6 1 0 0 0 0 2 1 0 0 0 0 0 0 0 0 0 0 0 0 0 1 0 0 6 1 0 0 0 1 4 4 3\n",
      " 0 0 0 0 0 3 0 5 0 0 0]\n",
      "Q_values : [2.0842948 1.9574236 8.171592  5.242248 ]\n",
      "state : [0 1 0 0 0 1 0 0 0 0 0 4 0 0 0 0 0 0 0 0 0 0 0 0 0 1 0 0 0 1 0 0 0 0 0 4 0\n",
      " 0 0 0 4 0 3 0 0 0 6 0]\n",
      "Q_values : [3.1990678 3.1218011 3.4360905 5.9187527]\n",
      "state : [0 0 0 0 0 0 0 0 0 0 0 0 0 0 0 0 0 0 0 0 0 0 0 0 0 0 0 0 0 0 0 0 0 0 0 0 0\n",
      " 0 0 0 0 0 0 0 0 0 0 0]\n",
      "Q_values : [-0.87125707 -0.702278   -0.3910752  -0.5037435 ]\n",
      "episode : 103\n",
      "Step #100.00 (0ms ?*RT. ?UPS, TraCI: 0ms, vehicles TOT 33 ACT 0 BUF 0)                     \n",
      " Retrying in 1 seconds\n"
     ]
    },
    {
     "name": "stderr",
     "output_type": "stream",
     "text": [
      "Warning: Environment variable SUMO_HOME is not set properly, disabling XML validation. Set 'auto' or 'always' for web lookups.\n"
     ]
    },
    {
     "name": "stdout",
     "output_type": "stream",
     "text": [
      "state : [0 0 0 0 0 0 0 0 0 0 0 0 0 0 0 0 0 0 0 0 0 0 0 0 0 0 0 0 0 0 0 0 0 0 0 0 0\n",
      " 0 0 0 0 0 0 0 0 0 0 0]\n",
      "Q_values : [-0.8773596  -0.7215116  -0.42369974 -0.5860044 ]\n",
      "state : [0 1 0 0 1 1 0 0 0 0 0 0 0 0 0 0 0 0 0 0 0 0 0 0 0 1 0 4 6 6 0 0 0 4 4 1 2\n",
      " 0 0 0 0 1 0 0 0 1 0 0]\n",
      "Q_values : [-3.5242436 -3.3482938 -1.5110759 -1.4187641]\n",
      "state : [0 0 0 0 6 0 0 0 0 0 4 0 0 0 0 0 0 0 0 0 0 0 0 0 0 0 0 0 6 0 0 0 0 0 4 0 0\n",
      " 0 0 0 0 0 0 0 0 0 0 0]\n",
      "Q_values : [ 4.143857   4.731284  10.49603    6.2819786]\n",
      "state : [0 0 0 0 0 0 0 0 0 0 0 0 0 0 0 0 0 0 0 0 0 0 0 0 0 0 0 0 0 0 0 0 0 0 0 0 0\n",
      " 0 0 0 4 0 0 0 0 0 6 0]\n",
      "Q_values : [-0.03470513  0.31189486 -0.1500951  -0.04605272]\n",
      "episode : 104\n",
      "Step #100.00 (0ms ?*RT. ?UPS, TraCI: 0ms, vehicles TOT 33 ACT 8 BUF 0)                     \n",
      " Retrying in 1 seconds\n"
     ]
    },
    {
     "name": "stderr",
     "output_type": "stream",
     "text": [
      "Warning: Environment variable SUMO_HOME is not set properly, disabling XML validation. Set 'auto' or 'always' for web lookups.\n"
     ]
    },
    {
     "name": "stdout",
     "output_type": "stream",
     "text": [
      "state : [0 0 0 0 0 4 0 0 0 0 0 4 0 0 0 0 0 0 0 0 0 0 0 0 0 0 0 0 0 4 0 0 0 0 0 4 0\n",
      " 0 0 0 4 0 0 0 0 0 6 0]\n",
      "Q_values : [4.1758833 3.4778275 4.6773095 8.336646 ]\n",
      "state : [0 0 0 0 0 0 0 0 0 0 0 0 0 0 0 0 0 0 0 0 0 0 0 0 0 0 0 0 0 0 0 0 0 0 0 0 0\n",
      " 0 4 0 3 0 0 0 4 0 5 0]\n",
      "Q_values : [0.6813401  0.79052484 0.07569832 0.31169528]\n",
      "episode : 105\n",
      "Step #100.00 (0ms ?*RT. ?UPS, TraCI: 0ms, vehicles TOT 33 ACT 0 BUF 0)                     \n",
      " Retrying in 1 seconds\n"
     ]
    },
    {
     "name": "stderr",
     "output_type": "stream",
     "text": [
      "Warning: Environment variable SUMO_HOME is not set properly, disabling XML validation. Set 'auto' or 'always' for web lookups.\n"
     ]
    },
    {
     "name": "stdout",
     "output_type": "stream",
     "text": [
      "state : [0 0 0 0 0 0 0 0 0 0 0 0 0 0 0 0 0 0 0 0 0 0 0 0 1 1 1 3 3 1 0 0 0 0 0 0 0\n",
      " 0 0 0 0 0 0 0 0 0 0 0]\n",
      "Q_values : [-0.69049823 -0.9727024  -1.2961414  -1.3483591 ]\n",
      "state : [0 0 0 0 0 0 0 0 0 0 0 0 0 0 0 0 0 0 0 0 0 0 0 0 0 0 1 6 7 4 0 0 0 0 0 0 0\n",
      " 0 0 0 0 0 0 0 0 0 0 0]\n",
      "Q_values : [-3.3539762 -3.0966942 -3.0968263 -2.9756172]\n",
      "state : [0 0 1 0 0 0 0 0 0 0 0 1 0 0 0 0 0 0 0 0 0 0 0 0 0 0 1 0 0 0 0 0 0 1 1 4 3\n",
      " 0 0 0 2 0 3 0 3 0 6 0]\n",
      "Q_values : [-0.25534374 -0.33541012 -0.9991689   0.59254485]\n",
      "state : [0 0 1 0 0 0 0 0 0 0 1 0 0 0 0 0 0 0 0 0 0 0 0 0 0 0 1 0 0 0 0 0 0 0 1 0 0\n",
      " 0 4 0 2 0 3 0 0 0 5 0]\n",
      "Q_values : [0.640872   0.6837684  0.46815574 0.5497602 ]\n",
      "state : [0 0 0 0 0 0 0 0 0 0 1 0 0 0 0 0 0 0 0 0 0 0 0 0 0 0 0 0 0 0 0 0 0 0 1 0 0\n",
      " 0 3 0 0 1 0 0 0 0 0 0]\n",
      "Q_values : [0.60420054 0.7694801  0.7164971  0.28569975]\n",
      "episode : 106\n",
      "Step #100.00 (0ms ?*RT. ?UPS, TraCI: 0ms, vehicles TOT 33 ACT 0 BUF 0)                     \n",
      " Retrying in 1 seconds\n"
     ]
    },
    {
     "name": "stderr",
     "output_type": "stream",
     "text": [
      "Warning: Environment variable SUMO_HOME is not set properly, disabling XML validation. Set 'auto' or 'always' for web lookups.\n"
     ]
    },
    {
     "name": "stdout",
     "output_type": "stream",
     "text": [
      "state : [0 0 0 0 0 0 0 0 0 0 0 0 0 0 0 0 0 0 0 0 0 0 0 0 1 1 1 3 3 1 0 0 0 0 0 0 0\n",
      " 0 0 0 0 0 0 0 0 0 0 0]\n",
      "Q_values : [-1.2346045 -1.5615413 -1.9376699 -1.0765631]\n",
      "state : [0 1 1 0 1 0 0 0 0 0 0 0 0 0 0 0 0 0 0 0 0 0 0 0 0 1 1 4 6 4 0 0 0 4 4 1 2\n",
      " 0 0 0 0 0 0 0 1 1 0 0]\n",
      "Q_values : [-2.164243   -2.185153   -1.3216361  -0.46625888]\n",
      "state : [0 1 0 0 0 0 0 0 0 0 0 4 0 0 0 0 0 0 0 0 0 0 0 0 0 1 0 0 0 0 0 0 0 0 0 4 0\n",
      " 0 0 0 3 0 0 0 0 0 5 0]\n",
      "Q_values : [2.7696564 2.8712554 2.7688816 5.8522363]\n",
      "state : [0 1 0 0 0 0 0 0 0 0 0 0 0 0 0 0 0 0 0 0 0 0 0 0 0 1 0 0 0 0 0 0 0 0 0 0 0\n",
      " 0 4 0 0 0 0 0 0 0 0 0]\n",
      "Q_values : [0.5998703  0.6255826  0.23213872 0.49634978]\n",
      "episode : 107\n",
      "Step #100.00 (0ms ?*RT. ?UPS, TraCI: 0ms, vehicles TOT 33 ACT 1 BUF 0)                     \n",
      " Retrying in 1 seconds\n"
     ]
    },
    {
     "name": "stderr",
     "output_type": "stream",
     "text": [
      "Warning: Environment variable SUMO_HOME is not set properly, disabling XML validation. Set 'auto' or 'always' for web lookups.\n"
     ]
    },
    {
     "name": "stdout",
     "output_type": "stream",
     "text": [
      "state : [0 0 0 0 0 0 0 0 0 0 0 0 0 0 0 0 0 0 0 0 0 0 0 0 0 0 0 0 0 0 0 0 0 0 0 0 0\n",
      " 0 0 0 0 0 0 0 0 0 0 0]\n",
      "Q_values : [-0.41293257 -0.4326277  -0.3632912  -0.31527504]\n",
      "state : [0 0 0 0 0 0 0 0 0 0 0 0 0 0 0 0 0 0 0 0 0 0 0 0 1 1 1 3 3 1 0 0 0 0 0 0 0\n",
      " 0 0 0 0 0 0 0 0 0 0 0]\n",
      "Q_values : [-1.0907657 -1.4000896 -1.4475102 -1.4464443]\n",
      "state : [0 0 1 0 6 4 0 0 0 0 2 1 0 0 0 0 0 0 0 0 0 0 0 0 0 0 1 0 6 4 0 0 0 1 4 4 3\n",
      " 0 0 0 0 0 3 0 0 0 0 0]\n",
      "Q_values : [0.29639715 0.9568951  7.383095   5.582268  ]\n",
      "state : [0 0 1 0 0 4 0 0 0 0 0 4 0 0 0 0 0 0 0 0 0 0 0 0 0 0 1 0 0 4 0 0 0 0 0 4 0\n",
      " 0 0 0 4 0 3 0 0 0 6 0]\n",
      "Q_values : [2.1224256 2.60281   2.522442  5.8209443]\n",
      "state : [0 0 0 0 0 0 0 0 0 0 0 0 0 0 0 0 0 0 0 0 0 0 0 0 0 0 0 0 0 0 0 0 0 0 0 0 0\n",
      " 0 4 0 0 1 0 0 3 0 0 0]\n",
      "Q_values : [0.17731968 0.3964139  0.23009902 0.29881293]\n",
      "state : [0 0 0 0 0 0 0 0 0 0 0 0 0 0 0 0 0 0 0 0 0 0 0 0 0 0 0 0 0 0 0 0 0 0 0 0 0\n",
      " 0 0 0 0 0 0 0 0 0 0 0]\n",
      "Q_values : [-0.9140983  -0.58664566 -0.6174521  -0.4799323 ]\n",
      "episode : 108\n",
      "Step #100.00 (0ms ?*RT. ?UPS, TraCI: 0ms, vehicles TOT 33 ACT 0 BUF 0)                     \n",
      " Retrying in 1 seconds\n"
     ]
    },
    {
     "name": "stderr",
     "output_type": "stream",
     "text": [
      "Warning: Environment variable SUMO_HOME is not set properly, disabling XML validation. Set 'auto' or 'always' for web lookups.\n"
     ]
    },
    {
     "name": "stdout",
     "output_type": "stream",
     "text": [
      "state : [0 0 0 0 0 4 0 0 0 0 0 4 0 0 0 0 0 0 0 0 0 0 0 0 0 0 0 0 0 4 0 0 0 0 0 4 0\n",
      " 0 0 0 3 0 3 0 0 0 5 0]\n",
      "Q_values : [ 4.806203   5.934997   5.4030323 10.000248 ]\n",
      "state : [0 0 0 0 0 0 0 0 0 0 0 0 0 0 0 0 0 0 0 0 0 0 0 0 0 0 0 0 0 0 0 0 0 0 0 0 0\n",
      " 0 4 0 0 0 0 0 3 0 0 0]\n",
      "Q_values : [0.21557255 0.34288734 0.26955277 0.40193266]\n",
      "episode : 109\n",
      "Step #100.00 (0ms ?*RT. ?UPS, TraCI: 0ms, vehicles TOT 33 ACT 0 BUF 0)                     \n",
      " Retrying in 1 seconds\n"
     ]
    },
    {
     "name": "stderr",
     "output_type": "stream",
     "text": [
      "Warning: Environment variable SUMO_HOME is not set properly, disabling XML validation. Set 'auto' or 'always' for web lookups.\n"
     ]
    },
    {
     "name": "stdout",
     "output_type": "stream",
     "text": [
      "state : [0 0 0 0 0 0 0 0 0 0 0 0 0 0 0 0 0 0 0 0 0 0 0 0 1 1 1 3 3 1 0 0 0 0 0 0 0\n",
      " 0 0 0 0 0 0 0 0 0 0 0]\n",
      "Q_values : [-1.5854363 -1.6542615 -1.3412914 -2.3228946]\n",
      "state : [0 0 1 0 4 2 0 0 0 0 0 0 0 0 0 0 0 0 0 0 0 0 0 0 0 0 1 0 6 4 0 0 0 4 4 4 5\n",
      " 0 0 0 0 0 0 1 2 0 0 0]\n",
      "Q_values : [-2.2744243  -2.2523158   1.8247875  -0.93447864]\n",
      "episode : 110\n",
      "Step #100.00 (0ms ?*RT. ?UPS, TraCI: 1ms, vehicles TOT 33 ACT 8 BUF 0)                     \n",
      " Retrying in 1 seconds\n"
     ]
    },
    {
     "name": "stderr",
     "output_type": "stream",
     "text": [
      "Warning: Environment variable SUMO_HOME is not set properly, disabling XML validation. Set 'auto' or 'always' for web lookups.\n"
     ]
    },
    {
     "name": "stdout",
     "output_type": "stream",
     "text": [
      "state : [0 0 0 0 0 0 0 0 0 0 0 0 0 0 0 0 0 0 0 0 0 0 0 0 1 1 1 3 3 1 0 0 0 0 0 0 0\n",
      " 0 0 0 0 0 0 0 0 0 0 0]\n",
      "Q_values : [-1.6778544  -1.7133135  -1.0013986  -0.73045194]\n",
      "state : [0 1 1 0 0 1 0 0 0 0 0 0 0 0 0 0 0 0 0 0 0 0 0 0 0 1 1 3 4 6 0 0 0 4 4 1 2\n",
      " 0 0 0 0 0 0 0 0 1 2 0]\n",
      "Q_values : [-3.4674606  -3.3273332  -1.2208062  -0.10457242]\n",
      "state : [0 1 1 0 4 0 0 0 0 0 2 0 0 0 0 0 0 0 0 0 0 0 0 0 0 1 1 0 4 0 0 0 0 1 4 1 3\n",
      " 0 2 0 0 0 3 0 6 0 0 0]\n",
      "Q_values : [1.8220143 1.7382116 6.263809  2.9062698]\n",
      "episode : 111\n",
      "Step #100.00 (0ms ?*RT. ?UPS, TraCI: 0ms, vehicles TOT 33 ACT 2 BUF 0)                     \n",
      " Retrying in 1 seconds\n"
     ]
    },
    {
     "name": "stderr",
     "output_type": "stream",
     "text": [
      "Warning: Environment variable SUMO_HOME is not set properly, disabling XML validation. Set 'auto' or 'always' for web lookups.\n"
     ]
    },
    {
     "name": "stdout",
     "output_type": "stream",
     "text": [
      "state : [0 0 0 0 0 0 0 0 0 0 0 0 0 0 0 0 0 0 0 0 0 0 0 0 0 0 0 0 0 0 0 0 0 0 0 0 0\n",
      " 0 0 0 0 0 0 0 0 0 0 0]\n",
      "Q_values : [-0.39656657 -0.28824496 -0.26061594  0.1801539 ]\n",
      "state : [0 0 0 0 0 0 0 0 0 0 0 0 0 0 0 0 0 0 0 0 0 0 0 0 1 1 1 3 3 1 0 0 0 0 0 0 0\n",
      " 0 0 0 0 0 0 0 0 0 0 0]\n",
      "Q_values : [-0.49199837 -0.4107707  -0.43689322 -0.18900329]\n",
      "state : [0 0 0 0 4 4 0 0 0 0 0 0 0 0 0 0 0 0 0 0 0 0 0 0 0 0 0 0 6 6 0 0 0 4 4 4 5\n",
      " 0 0 0 0 1 0 0 0 0 0 0]\n",
      "Q_values : [-0.34126097  0.98374426  4.7251377   2.85134   ]\n",
      "state : [0 0 0 0 0 0 0 0 0 0 0 0 0 0 0 0 0 0 0 0 0 0 0 0 0 0 0 0 0 0 0 0 0 0 0 0 0\n",
      " 0 4 0 1 0 0 0 6 0 0 0]\n",
      "Q_values : [0.3503005  0.4649535  0.28664768 0.26983035]\n",
      "episode : 112\n",
      "Step #100.00 (0ms ?*RT. ?UPS, TraCI: 0ms, vehicles TOT 33 ACT 0 BUF 0)                     \n",
      " Retrying in 1 seconds\n"
     ]
    },
    {
     "name": "stderr",
     "output_type": "stream",
     "text": [
      "Warning: Environment variable SUMO_HOME is not set properly, disabling XML validation. Set 'auto' or 'always' for web lookups.\n"
     ]
    },
    {
     "name": "stdout",
     "output_type": "stream",
     "text": [
      "state : [0 0 0 0 0 0 0 0 0 0 0 0 0 0 0 0 0 0 0 0 0 0 0 0 1 1 1 3 3 1 0 0 0 0 0 0 0\n",
      " 0 0 0 0 0 0 0 0 0 0 0]\n",
      "Q_values : [-2.289953  -1.9458683 -2.1058726 -2.0989246]\n",
      "state : [0 0 1 0 6 0 0 0 0 0 4 0 0 0 0 0 0 0 0 0 0 0 0 0 0 0 1 0 6 0 0 0 0 0 4 0 0\n",
      " 0 3 0 0 0 0 0 0 0 0 0]\n",
      "Q_values : [ 4.5223365  4.4713283 10.15797    5.9727488]\n",
      "state : [0 0 1 0 0 0 0 0 0 0 0 0 0 0 0 0 0 0 0 0 0 0 0 0 0 0 1 0 0 0 0 0 0 0 0 0 0\n",
      " 0 0 0 4 0 0 0 0 0 6 0]\n",
      "Q_values : [-0.39667562 -0.16210616 -0.4137354  -0.37955666]\n",
      "state : [0 0 0 0 0 0 0 0 0 0 0 0 0 0 0 0 0 0 0 0 0 0 0 0 0 0 0 0 0 0 0 0 0 0 0 0 0\n",
      " 0 0 0 3 1 0 0 0 0 5 0]\n",
      "Q_values : [-0.7775633  -0.59078974 -0.47890884 -0.34973055]\n",
      "episode : 113\n",
      "Step #100.00 (0ms ?*RT. ?UPS, TraCI: 0ms, vehicles TOT 33 ACT 0 BUF 0)                     \n",
      " Retrying in 1 seconds\n"
     ]
    },
    {
     "name": "stderr",
     "output_type": "stream",
     "text": [
      "Warning: Environment variable SUMO_HOME is not set properly, disabling XML validation. Set 'auto' or 'always' for web lookups.\n"
     ]
    },
    {
     "name": "stdout",
     "output_type": "stream",
     "text": [
      "state : [0 0 0 0 0 0 0 0 0 0 0 0 0 0 0 0 0 0 0 0 0 0 0 0 0 0 0 0 0 0 0 0 0 0 0 0 0\n",
      " 0 0 0 0 0 0 0 0 0 0 0]\n",
      "Q_values : [-0.84017384 -0.7052213  -0.34544283 -0.25514632]\n",
      "state : [0 1 0 0 1 1 0 0 0 0 0 0 0 0 0 0 0 0 0 0 0 0 0 0 0 1 0 4 6 6 0 0 0 4 4 1 2\n",
      " 0 0 0 0 1 0 0 0 1 0 0]\n",
      "Q_values : [-2.5843675  -2.3651528  -0.31311584 -0.08786589]\n",
      "state : [0 1 0 0 4 0 0 0 0 0 0 0 0 0 0 0 0 0 0 0 0 0 0 0 0 1 0 0 6 1 0 0 0 4 4 4 5\n",
      " 0 0 0 0 0 0 0 4 0 0 0]\n",
      "Q_values : [-1.0865571 -0.7523857  2.9965534  1.560535 ]\n",
      "state : [0 0 0 0 0 1 0 0 0 0 1 4 0 0 0 0 0 0 0 0 0 0 0 0 0 0 0 0 0 1 0 0 0 0 1 4 0\n",
      " 0 0 0 0 0 0 0 0 0 0 0]\n",
      "Q_values : [3.2675326 2.993322  4.0323467 5.8477426]\n",
      "state : [0 0 0 0 0 0 0 0 0 0 1 0 0 0 0 0 0 0 0 0 0 0 0 0 0 0 0 0 0 0 0 0 0 0 1 0 0\n",
      " 0 3 0 0 0 0 0 0 0 0 0]\n",
      "Q_values : [0.39896315 0.37980676 0.71868217 0.4569877 ]\n",
      "episode : 114\n",
      "Step #100.00 (0ms ?*RT. ?UPS, TraCI: 0ms, vehicles TOT 33 ACT 1 BUF 0)                     \n",
      " Retrying in 1 seconds\n"
     ]
    },
    {
     "name": "stderr",
     "output_type": "stream",
     "text": [
      "Warning: Environment variable SUMO_HOME is not set properly, disabling XML validation. Set 'auto' or 'always' for web lookups.\n"
     ]
    },
    {
     "name": "stdout",
     "output_type": "stream",
     "text": [
      "state : [0 0 0 0 0 0 0 0 0 0 0 0 0 0 0 0 0 0 0 0 0 0 0 0 1 1 1 3 3 1 0 0 0 0 0 0 0\n",
      " 0 0 0 0 0 0 0 0 0 0 0]\n",
      "Q_values : [-1.679122  -1.7075748 -1.2942896 -1.5953381]\n",
      "state : [0 0 0 0 0 0 0 0 0 0 0 0 0 0 0 0 0 0 0 0 0 0 0 0 0 1 1 6 7 4 0 0 0 0 0 0 0\n",
      " 0 0 0 0 0 0 0 0 0 0 0]\n",
      "Q_values : [-4.516121  -4.5361867 -4.1828346 -4.5091763]\n",
      "state : [0 1 1 0 0 6 0 0 0 0 0 1 0 0 0 0 0 0 0 0 0 0 0 0 0 1 1 0 0 6 0 0 0 1 1 4 3\n",
      " 0 0 0 2 0 3 0 0 0 2 0]\n",
      "Q_values : [1.6163064 2.3085148 2.3029933 5.7436786]\n",
      "state : [0 1 0 0 0 0 0 0 0 0 1 0 0 0 0 0 0 0 0 0 0 0 0 0 0 1 0 0 0 0 0 0 0 0 1 0 0\n",
      " 0 0 0 0 1 0 0 0 0 0 0]\n",
      "Q_values : [0.73301464 0.82473147 2.5501235  1.0347768 ]\n",
      "episode : 115\n",
      "Step #100.00 (0ms ?*RT. ?UPS, TraCI: 0ms, vehicles TOT 33 ACT 2 BUF 0)                     \n",
      " Retrying in 1 seconds\n"
     ]
    },
    {
     "name": "stderr",
     "output_type": "stream",
     "text": [
      "Warning: Environment variable SUMO_HOME is not set properly, disabling XML validation. Set 'auto' or 'always' for web lookups.\n"
     ]
    },
    {
     "name": "stdout",
     "output_type": "stream",
     "text": [
      "state : [0 0 0 0 0 0 0 0 0 0 0 0 0 0 0 0 0 0 0 0 0 0 0 0 0 1 1 6 7 4 0 0 0 0 0 0 0\n",
      " 0 0 0 0 0 0 0 0 0 0 0]\n",
      "Q_values : [-3.1366975 -2.5384567 -2.4847043 -2.4221222]\n",
      "state : [0 0 1 0 4 2 0 0 0 0 0 0 0 0 0 0 0 0 0 0 0 0 0 0 0 0 1 0 6 4 0 0 0 4 4 4 5\n",
      " 0 0 0 0 0 0 1 2 0 0 0]\n",
      "Q_values : [-1.2195871 -0.5265925  3.081786   2.3145452]\n",
      "state : [0 0 1 0 0 4 0 0 0 0 1 4 0 0 0 0 0 0 0 0 0 0 0 0 0 0 1 0 0 4 0 0 0 0 1 4 0\n",
      " 0 0 0 2 0 3 0 0 0 5 0]\n",
      "Q_values : [3.9350042 3.7351973 4.3358274 8.305261 ]\n",
      "state : [0 0 0 0 0 0 0 0 0 0 1 0 0 0 0 0 0 0 0 0 0 0 0 0 0 0 0 0 0 0 0 0 0 0 1 0 0\n",
      " 0 4 0 0 1 0 0 3 0 0 0]\n",
      "Q_values : [0.22283037 0.2837496  0.63051677 0.1342045 ]\n",
      "episode : 116\n",
      "Step #100.00 (0ms ?*RT. ?UPS, TraCI: 0ms, vehicles TOT 33 ACT 0 BUF 0)                     \n",
      " Retrying in 1 seconds\n"
     ]
    },
    {
     "name": "stderr",
     "output_type": "stream",
     "text": [
      "Warning: Environment variable SUMO_HOME is not set properly, disabling XML validation. Set 'auto' or 'always' for web lookups.\n"
     ]
    },
    {
     "name": "stdout",
     "output_type": "stream",
     "text": [
      "state : [0 1 1 0 1 0 0 0 0 0 0 0 0 0 0 0 0 0 0 0 0 0 0 0 0 1 1 4 6 4 0 0 0 4 4 1 2\n",
      " 0 0 0 0 0 0 0 1 1 0 0]\n",
      "Q_values : [-3.2721689 -3.391601  -1.3012669 -1.9373195]\n",
      "state : [0 1 1 0 0 2 0 0 0 0 0 0 0 0 0 0 0 0 0 0 0 0 0 0 0 1 1 0 0 4 0 0 0 4 4 4 5\n",
      " 0 0 0 0 0 0 0 2 0 5 0]\n",
      "Q_values : [-0.93082666 -1.028973   -1.0423689   0.21947412]\n",
      "state : [0 0 1 0 0 0 0 0 0 0 0 0 0 0 0 0 0 0 0 0 0 0 0 0 0 0 1 0 0 0 0 0 0 0 0 0 0\n",
      " 0 0 0 3 0 0 0 0 0 0 0]\n",
      "Q_values : [0.31088036 0.6661111  0.7354081  0.31867415]\n",
      "episode : 117\n",
      "Step #100.00 (0ms ?*RT. ?UPS, TraCI: 0ms, vehicles TOT 33 ACT 1 BUF 0)                     \n",
      " Retrying in 1 seconds\n"
     ]
    },
    {
     "name": "stderr",
     "output_type": "stream",
     "text": [
      "Warning: Environment variable SUMO_HOME is not set properly, disabling XML validation. Set 'auto' or 'always' for web lookups.\n"
     ]
    },
    {
     "name": "stdout",
     "output_type": "stream",
     "text": [
      "state : [0 0 0 0 0 0 0 0 0 0 0 0 0 0 0 0 0 0 0 0 0 0 0 0 0 0 0 0 0 0 0 0 0 0 0 0 0\n",
      " 0 0 0 0 0 0 0 0 0 0 0]\n",
      "Q_values : [-0.7153657  -0.60774565 -0.20602953 -0.5804364 ]\n",
      "state : [0 1 0 0 1 1 0 0 0 0 0 0 0 0 0 0 0 0 0 0 0 0 0 0 0 1 0 4 6 6 0 0 0 4 4 1 2\n",
      " 0 0 0 0 1 0 0 0 1 0 0]\n",
      "Q_values : [-2.819354   -2.2129219   0.14954966 -0.5947274 ]\n",
      "state : [0 1 0 0 0 4 0 0 0 0 0 0 0 0 0 0 0 0 0 0 0 0 0 0 0 1 0 0 1 6 0 0 0 4 4 4 5\n",
      " 0 0 0 0 0 0 0 0 0 5 0]\n",
      "Q_values : [-1.0791621  -0.2892157   0.35231635  2.6082644 ]\n",
      "state : [0 1 0 0 1 0 0 0 0 0 2 0 0 0 0 0 0 0 0 0 0 0 0 0 0 1 0 0 1 0 0 0 0 1 4 1 3\n",
      " 0 2 0 0 0 3 0 5 0 4 0]\n",
      "Q_values : [0.0688611  0.25989613 1.7458622  0.87957025]\n",
      "state : [0 1 0 0 0 0 0 0 0 0 0 0 0 0 0 0 0 0 0 0 0 0 0 0 0 1 0 0 0 0 0 0 0 0 0 0 0\n",
      " 0 0 0 0 0 0 0 0 0 0 0]\n",
      "Q_values : [0.37564024 0.47488442 0.71834445 0.40428963]\n",
      "state : [0 1 0 0 0 0 0 0 0 0 0 0 0 0 0 0 0 0 0 0 0 0 0 0 0 1 0 0 0 0 0 0 0 0 0 0 0\n",
      " 0 0 0 0 0 0 0 0 0 0 0]\n",
      "Q_values : [0.3787375  0.47215056 0.7183541  0.40351027]\n",
      "episode : 118\n",
      "Step #100.00 (0ms ?*RT. ?UPS, TraCI: 1ms, vehicles TOT 33 ACT 1 BUF 0)                     \n",
      " Retrying in 1 seconds\n"
     ]
    },
    {
     "name": "stderr",
     "output_type": "stream",
     "text": [
      "Warning: Environment variable SUMO_HOME is not set properly, disabling XML validation. Set 'auto' or 'always' for web lookups.\n"
     ]
    },
    {
     "name": "stdout",
     "output_type": "stream",
     "text": [
      "state : [0 0 0 0 0 0 0 0 0 0 0 0 0 0 0 0 0 0 0 0 0 0 0 0 0 0 0 0 0 0 0 0 0 0 0 0 0\n",
      " 0 0 0 0 0 0 0 0 0 0 0]\n",
      "Q_values : [-0.78941715 -0.6972027  -0.5456362  -0.75120187]\n",
      "state : [0 0 0 0 0 0 0 0 0 0 0 0 0 0 0 0 0 0 0 0 0 0 0 0 1 1 1 3 3 1 0 0 0 0 0 0 0\n",
      " 0 0 0 0 0 0 0 0 0 0 0]\n",
      "Q_values : [-1.6869625 -1.6930046 -1.658917  -1.7809654]\n",
      "state : [0 0 0 0 0 0 0 0 0 0 0 0 0 0 0 0 0 0 0 0 0 0 0 0 0 1 1 6 7 4 0 0 0 0 0 0 0\n",
      " 0 0 0 0 0 0 0 0 0 0 0]\n",
      "Q_values : [-3.7756956 -3.8859286 -4.1849856 -4.111511 ]\n",
      "state : [0 0 1 0 1 1 0 0 0 0 0 0 0 0 0 0 0 0 0 0 0 0 0 0 0 0 1 4 6 6 0 0 0 4 4 1 2\n",
      " 0 0 0 0 0 0 1 0 1 0 0]\n",
      "Q_values : [-4.157841  -3.746867  -1.0658845 -1.8936026]\n",
      "state : [0 0 1 0 1 0 0 0 0 0 2 0 0 0 0 0 0 0 0 0 0 0 0 0 0 0 1 0 1 0 0 0 0 1 4 1 3\n",
      " 0 2 0 0 0 3 0 5 0 4 0]\n",
      "Q_values : [-0.47296217 -0.3676542   1.901854    0.6271737 ]\n",
      "state : [0 0 1 0 0 0 0 0 0 0 0 1 0 0 0 0 0 0 0 0 0 0 0 0 0 0 1 0 0 0 0 0 0 0 0 1 0\n",
      " 0 0 0 0 0 0 0 0 0 0 0]\n",
      "Q_values : [0.75380874 0.79925305 0.881683   1.290948  ]\n",
      "episode : 119\n",
      "Step #100.00 (0ms ?*RT. ?UPS, TraCI: 0ms, vehicles TOT 33 ACT 1 BUF 0)                     \n",
      " Retrying in 1 seconds\n"
     ]
    },
    {
     "name": "stderr",
     "output_type": "stream",
     "text": [
      "Warning: Environment variable SUMO_HOME is not set properly, disabling XML validation. Set 'auto' or 'always' for web lookups.\n"
     ]
    },
    {
     "name": "stdout",
     "output_type": "stream",
     "text": [
      "state : [0 0 0 0 0 0 0 0 0 0 0 0 0 0 0 0 0 0 0 0 0 0 0 0 0 0 0 0 0 0 0 0 0 0 0 0 0\n",
      " 0 0 0 0 0 0 0 0 0 0 0]\n",
      "Q_values : [-0.5810996  -0.5716584  -0.3713625  -0.53459543]\n",
      "state : [0 0 0 0 0 0 0 0 0 0 0 0 0 0 0 0 0 0 0 0 0 0 0 0 1 1 1 3 3 1 0 0 0 0 0 0 0\n",
      " 0 0 0 0 0 0 0 0 0 0 0]\n",
      "Q_values : [-0.9280479 -1.001918  -0.9208567 -1.0043819]\n",
      "state : [0 0 0 0 0 0 0 0 0 0 0 0 0 0 0 0 0 0 0 0 0 0 0 0 0 1 1 6 7 4 0 0 0 0 0 0 0\n",
      " 0 0 0 0 0 0 0 0 0 0 0]\n",
      "Q_values : [-1.9985912 -2.1060133 -2.3062665 -2.2390423]\n",
      "state : [0 0 1 0 1 6 0 0 0 0 2 1 0 0 0 0 0 0 0 0 0 0 0 0 0 0 1 0 1 6 0 0 0 1 4 4 3\n",
      " 0 0 0 0 0 3 0 0 0 4 0]\n",
      "Q_values : [2.1051435 2.586471  4.1598735 6.91697  ]\n",
      "state : [0 0 1 0 1 0 0 0 0 0 4 0 0 0 0 0 0 0 0 0 0 0 0 0 0 0 1 0 1 0 0 0 0 0 4 0 0\n",
      " 0 4 0 0 0 3 0 5 0 0 0]\n",
      "Q_values : [2.7566056 2.8265479 4.149478  2.7382488]\n",
      "state : [0 0 1 0 0 0 0 0 0 0 0 0 0 0 0 0 0 0 0 0 0 0 0 0 0 0 1 0 0 0 0 0 0 0 0 0 0\n",
      " 0 0 0 3 0 0 0 0 0 0 0]\n",
      "Q_values : [0.5835526  0.72026455 0.84002244 0.48337775]\n",
      "state : [0 0 1 0 0 0 0 0 0 0 0 0 0 0 0 0 0 0 0 0 0 0 0 0 0 0 1 0 0 0 0 0 0 0 0 0 0\n",
      " 0 0 0 0 0 0 0 0 0 0 0]\n",
      "Q_values : [0.38834894 0.481727   0.7528092  0.4476128 ]\n",
      "episode : 120\n",
      "Step #100.00 (0ms ?*RT. ?UPS, TraCI: 0ms, vehicles TOT 33 ACT 1 BUF 0)                     \n",
      " Retrying in 1 seconds\n"
     ]
    },
    {
     "name": "stderr",
     "output_type": "stream",
     "text": [
      "Warning: Environment variable SUMO_HOME is not set properly, disabling XML validation. Set 'auto' or 'always' for web lookups.\n"
     ]
    },
    {
     "name": "stdout",
     "output_type": "stream",
     "text": [
      "state : [0 0 1 0 1 1 0 0 0 0 0 0 0 0 0 0 0 0 0 0 0 0 0 0 0 0 1 4 6 6 0 0 0 4 4 1 2\n",
      " 0 0 0 0 0 0 1 0 1 0 0]\n",
      "Q_values : [-4.779283   -3.958283   -0.19243169 -1.1390998 ]\n",
      "state : [0 0 1 0 0 4 0 0 0 0 0 0 0 0 0 0 0 0 0 0 0 0 0 0 0 0 1 0 1 6 0 0 0 4 4 4 5\n",
      " 0 0 0 0 0 0 0 0 0 5 0]\n",
      "Q_values : [-2.3856263  -1.6846409   0.95312566  2.7881641 ]\n",
      "episode : 121\n",
      "Step #100.00 (0ms ?*RT. ?UPS, TraCI: 0ms, vehicles TOT 33 ACT 1 BUF 0)                     \n",
      " Retrying in 1 seconds\n"
     ]
    },
    {
     "name": "stderr",
     "output_type": "stream",
     "text": [
      "Warning: Environment variable SUMO_HOME is not set properly, disabling XML validation. Set 'auto' or 'always' for web lookups.\n"
     ]
    },
    {
     "name": "stdout",
     "output_type": "stream",
     "text": [
      "state : [0 0 0 0 0 0 0 0 0 0 0 0 0 0 0 0 0 0 0 0 0 0 0 0 1 1 1 3 3 1 0 0 0 0 0 0 0\n",
      " 0 0 0 0 0 0 0 0 0 0 0]\n",
      "Q_values : [-0.68150735 -0.47517353 -0.4435702  -0.36758512]\n",
      "state : [0 0 0 0 0 0 0 0 0 0 0 0 0 0 0 0 0 0 0 0 0 0 0 0 0 1 1 6 7 4 0 0 0 0 0 0 0\n",
      " 0 0 0 0 0 0 0 0 0 0 0]\n",
      "Q_values : [-1.6226779  -1.0879557  -1.7672513  -0.75261277]\n",
      "state : [0 0 0 0 0 0 0 0 0 0 0 0 0 0 0 0 0 0 0 0 0 0 0 0 0 0 0 0 0 0 0 0 0 0 0 0 0\n",
      " 0 4 0 4 0 0 0 3 0 6 0]\n",
      "Q_values : [0.4071185  0.55496514 0.14775401 0.0970937 ]\n",
      "state : [0 0 0 0 0 0 0 0 0 0 0 0 0 0 0 0 0 0 0 0 0 0 0 0 0 0 0 0 0 0 0 0 0 0 0 0 0\n",
      " 0 0 0 0 0 0 0 0 0 0 0]\n",
      "Q_values : [-0.94628036 -0.6791468  -0.71327996 -0.59681964]\n",
      "episode : 122\n",
      "Step #100.00 (0ms ?*RT. ?UPS, TraCI: 1ms, vehicles TOT 33 ACT 0 BUF 0)                     \n",
      " Retrying in 1 seconds\n"
     ]
    },
    {
     "name": "stderr",
     "output_type": "stream",
     "text": [
      "Warning: Environment variable SUMO_HOME is not set properly, disabling XML validation. Set 'auto' or 'always' for web lookups.\n"
     ]
    },
    {
     "name": "stdout",
     "output_type": "stream",
     "text": [
      "state : [0 0 0 0 0 0 0 0 0 0 0 0 0 0 0 0 0 0 0 0 0 0 0 0 1 1 1 3 3 1 0 0 0 0 0 0 0\n",
      " 0 0 0 0 0 0 0 0 0 0 0]\n",
      "Q_values : [-2.331949  -1.9921277 -1.9448123 -1.6399343]\n",
      "state : [0 0 0 0 0 0 0 0 0 0 0 0 0 0 0 0 0 0 0 0 0 0 0 0 0 1 1 6 7 4 0 0 0 0 0 0 0\n",
      " 0 0 0 0 0 0 0 0 0 0 0]\n",
      "Q_values : [-5.898369 -5.214297 -5.233812 -4.264973]\n",
      "state : [0 1 1 0 1 0 0 0 0 0 0 0 0 0 0 0 0 0 0 0 0 0 0 0 0 1 1 4 6 4 0 0 0 4 4 1 2\n",
      " 0 0 0 0 0 0 0 1 1 0 0]\n",
      "Q_values : [-3.3962595 -3.1561825 -2.3702981 -1.969848 ]\n",
      "episode : 123\n",
      "Step #100.00 (0ms ?*RT. ?UPS, TraCI: 0ms, vehicles TOT 33 ACT 4 BUF 0)                     \n",
      " Retrying in 1 seconds\n"
     ]
    },
    {
     "name": "stderr",
     "output_type": "stream",
     "text": [
      "Warning: Environment variable SUMO_HOME is not set properly, disabling XML validation. Set 'auto' or 'always' for web lookups.\n"
     ]
    },
    {
     "name": "stdout",
     "output_type": "stream",
     "text": [
      "state : [0 0 0 0 0 0 0 0 0 0 0 0 0 0 0 0 0 0 0 0 0 0 0 0 0 0 0 0 0 0 0 0 0 0 0 0 0\n",
      " 0 0 0 0 0 0 0 0 0 0 0]\n",
      "Q_values : [-0.6636057  -0.620603   -0.01700455 -0.33037233]\n",
      "state : [0 0 1 0 4 4 0 0 0 0 0 0 0 0 0 0 0 0 0 0 0 0 0 0 0 0 1 0 6 6 0 0 0 4 4 4 5\n",
      " 0 0 0 0 0 0 0 0 0 0 0]\n",
      "Q_values : [-0.7579304  -0.66211104  3.049971    3.0856    ]\n",
      "state : [0 0 1 0 0 0 0 0 0 0 0 1 0 0 0 0 0 0 0 0 0 0 0 0 0 0 1 0 0 0 0 0 0 0 0 1 0\n",
      " 0 0 0 0 0 0 0 0 0 0 0]\n",
      "Q_values : [0.34768248 0.38928443 0.44726467 0.74021673]\n",
      "episode : 124\n",
      "Step #100.00 (0ms ?*RT. ?UPS, TraCI: 0ms, vehicles TOT 33 ACT 2 BUF 0)                     \n",
      " Retrying in 1 seconds\n"
     ]
    },
    {
     "name": "stderr",
     "output_type": "stream",
     "text": [
      "Warning: Environment variable SUMO_HOME is not set properly, disabling XML validation. Set 'auto' or 'always' for web lookups.\n"
     ]
    },
    {
     "name": "stdout",
     "output_type": "stream",
     "text": [
      "state : [0 0 1 0 1 6 0 0 0 0 2 1 0 0 0 0 0 0 0 0 0 0 0 0 0 0 1 0 1 6 0 0 0 1 4 4 3\n",
      " 0 0 0 0 0 3 0 0 0 4 0]\n",
      "Q_values : [1.3444908 1.8283195 6.3310037 9.845847 ]\n",
      "state : [0 0 1 0 1 0 0 0 0 0 4 0 0 0 0 0 0 0 0 0 0 0 0 0 0 0 1 0 1 0 0 0 0 0 4 0 0\n",
      " 0 4 0 0 0 3 0 5 0 0 0]\n",
      "Q_values : [3.9386313 3.6560798 7.147457  4.1888857]\n",
      "state : [0 0 0 0 0 0 0 0 0 0 0 0 0 0 0 0 0 0 0 0 0 0 0 0 0 0 0 0 0 0 0 0 0 0 0 0 0\n",
      " 0 0 0 3 1 0 0 0 0 0 0]\n",
      "Q_values : [-0.705635   -0.5818025  -0.06584549 -0.5728843 ]\n",
      "state : [0 0 0 0 0 0 0 0 0 0 0 0 0 0 0 0 0 0 0 0 0 0 0 0 0 0 0 0 0 0 0 0 0 0 0 0 0\n",
      " 0 0 0 0 0 0 0 0 0 0 0]\n",
      "Q_values : [-0.58220553 -0.52793014  0.00291318 -0.5020323 ]\n",
      "episode : 125\n",
      "Step #100.00 (0ms ?*RT. ?UPS, TraCI: 0ms, vehicles TOT 33 ACT 0 BUF 0)                     \n",
      " Retrying in 1 seconds\n"
     ]
    },
    {
     "name": "stderr",
     "output_type": "stream",
     "text": [
      "Warning: Environment variable SUMO_HOME is not set properly, disabling XML validation. Set 'auto' or 'always' for web lookups.\n"
     ]
    },
    {
     "name": "stdout",
     "output_type": "stream",
     "text": [
      "state : [0 0 1 0 1 1 0 0 0 0 0 0 0 0 0 0 0 0 0 0 0 0 0 0 0 0 1 4 6 6 0 0 0 4 4 1 2\n",
      " 0 0 0 0 0 0 1 0 1 0 0]\n",
      "Q_values : [-1.8314044  -1.701393   -0.11839813 -0.7208243 ]\n",
      "state : [0 0 0 0 1 0 0 0 0 0 4 0 0 0 0 0 0 0 0 0 0 0 0 0 0 0 0 0 1 0 0 0 0 0 4 0 0\n",
      " 0 4 0 0 0 0 0 5 0 0 0]\n",
      "Q_values : [2.1078649 2.016     3.2353132 1.9761482]\n",
      "state : [0 0 0 0 0 0 0 0 0 0 0 0 0 0 0 0 0 0 0 0 0 0 0 0 0 0 0 0 0 0 0 0 0 0 0 0 0\n",
      " 0 4 0 4 0 0 0 6 0 1 0]\n",
      "Q_values : [0.3303501  0.63915646 0.16710645 0.2838132 ]\n",
      "episode : 126\n",
      "Step #100.00 (0ms ?*RT. ?UPS, TraCI: 0ms, vehicles TOT 33 ACT 0 BUF 0)                     \n",
      " Retrying in 1 seconds\n"
     ]
    },
    {
     "name": "stderr",
     "output_type": "stream",
     "text": [
      "Warning: Environment variable SUMO_HOME is not set properly, disabling XML validation. Set 'auto' or 'always' for web lookups.\n"
     ]
    },
    {
     "name": "stdout",
     "output_type": "stream",
     "text": [
      "state : [0 0 0 0 0 0 0 0 0 0 0 0 0 0 0 0 0 0 0 0 0 0 0 0 0 1 1 6 7 4 0 0 0 0 0 0 0\n",
      " 0 0 0 0 0 0 0 0 0 0 0]\n",
      "Q_values : [-4.299326  -3.8770185 -2.9030159 -2.4660144]\n",
      "state : [0 1 1 0 4 0 0 0 0 0 0 0 0 0 0 0 0 0 0 0 0 0 0 0 0 1 1 0 6 0 0 0 0 4 4 4 5\n",
      " 0 0 0 0 0 0 0 5 0 0 0]\n",
      "Q_values : [-2.428502  -2.216843   2.6891456  0.6328238]\n",
      "episode : 127\n",
      "Step #100.00 (0ms ?*RT. ?UPS, TraCI: 0ms, vehicles TOT 33 ACT 1 BUF 0)                     \n",
      " Retrying in 1 seconds\n"
     ]
    },
    {
     "name": "stderr",
     "output_type": "stream",
     "text": [
      "Warning: Environment variable SUMO_HOME is not set properly, disabling XML validation. Set 'auto' or 'always' for web lookups.\n"
     ]
    },
    {
     "name": "stdout",
     "output_type": "stream",
     "text": [
      "state : [0 0 0 0 0 0 0 0 0 0 0 0 0 0 0 0 0 0 0 0 0 0 0 0 0 0 0 0 0 0 0 0 0 0 0 0 0\n",
      " 0 0 0 0 0 0 0 0 0 0 0]\n",
      "Q_values : [-0.4135424  -0.62100637  0.1493702  -0.20877108]\n",
      "state : [0 0 0 0 0 0 0 0 0 0 0 0 0 0 0 0 0 0 0 0 0 0 0 0 1 1 1 3 3 1 0 0 0 0 0 0 0\n",
      " 0 0 0 0 0 0 0 0 0 0 0]\n",
      "Q_values : [-1.03078    -1.4253695  -0.43249238 -0.98968744]\n",
      "state : [0 1 1 0 0 1 0 0 0 0 0 0 0 0 0 0 0 0 0 0 0 0 0 0 0 1 1 3 4 6 0 0 0 4 4 1 2\n",
      " 0 0 0 0 0 0 0 0 1 2 0]\n",
      "Q_values : [-1.2673819  -1.9697961  -0.44847667 -0.42118528]\n",
      "state : [0 1 1 0 0 0 0 0 0 0 0 0 0 0 0 0 0 0 0 0 0 0 0 0 0 1 1 0 0 0 0 0 0 0 0 0 0\n",
      " 0 4 0 0 0 0 0 1 0 0 0]\n",
      "Q_values : [0.86034787 1.0710206  0.57018566 0.44131216]\n",
      "state : [0 1 0 0 0 0 0 0 0 0 0 0 0 0 0 0 0 0 0 0 0 0 0 0 0 1 0 0 0 0 0 0 0 0 0 0 0\n",
      " 0 3 0 0 1 0 0 0 0 0 0]\n",
      "Q_values : [ 0.49280322  0.275336    0.3574823  -0.04564318]\n",
      "state : [0 0 0 0 0 0 0 0 0 0 0 0 0 0 0 0 0 0 0 0 0 0 0 0 0 0 0 0 0 0 0 0 0 0 0 0 0\n",
      " 0 0 0 0 0 0 1 0 0 0 0]\n",
      "Q_values : [ 0.08863863 -0.22986072  0.00414366 -0.34511784]\n",
      "episode : 128\n",
      "Step #100.00 (0ms ?*RT. ?UPS, TraCI: 0ms, vehicles TOT 33 ACT 0 BUF 0)                     \n",
      " Retrying in 1 seconds\n"
     ]
    },
    {
     "name": "stderr",
     "output_type": "stream",
     "text": [
      "Warning: Environment variable SUMO_HOME is not set properly, disabling XML validation. Set 'auto' or 'always' for web lookups.\n"
     ]
    },
    {
     "name": "stdout",
     "output_type": "stream",
     "text": [
      "state : [0 0 0 0 0 0 0 0 0 0 0 0 0 0 0 0 0 0 0 0 0 0 0 0 0 0 0 0 0 0 0 0 0 0 0 0 0\n",
      " 0 0 0 0 0 0 0 0 0 0 0]\n",
      "Q_values : [ 0.08562577 -0.17782035 -0.04561907 -0.3232905 ]\n",
      "state : [0 0 1 0 1 1 0 0 0 0 0 0 0 0 0 0 0 0 0 0 0 0 0 0 0 0 1 4 6 6 0 0 0 4 4 1 2\n",
      " 0 0 0 0 0 0 1 0 1 0 0]\n",
      "Q_values : [-1.4897542 -1.8824706 -1.8315725 -2.0056   ]\n",
      "state : [0 0 1 0 0 6 0 0 0 0 0 1 0 0 0 0 0 0 0 0 0 0 0 0 0 0 1 0 0 6 0 0 0 1 1 4 3\n",
      " 0 0 0 2 0 3 0 0 0 6 0]\n",
      "Q_values : [1.6508605  1.8438432  0.89964813 4.8082457 ]\n",
      "state : [0 0 0 0 0 0 0 0 0 0 1 0 0 0 0 0 0 0 0 0 0 0 0 0 0 0 0 0 0 0 0 0 0 0 1 0 0\n",
      " 0 4 0 0 1 0 0 6 0 0 0]\n",
      "Q_values : [0.34624064 0.34345984 0.83399814 0.14731745]\n",
      "episode : 129\n",
      "Step #100.00 (0ms ?*RT. ?UPS, TraCI: 0ms, vehicles TOT 33 ACT 0 BUF 0)                     \n",
      " Retrying in 1 seconds\n"
     ]
    },
    {
     "name": "stderr",
     "output_type": "stream",
     "text": [
      "Warning: Environment variable SUMO_HOME is not set properly, disabling XML validation. Set 'auto' or 'always' for web lookups.\n"
     ]
    },
    {
     "name": "stdout",
     "output_type": "stream",
     "text": [
      "state : [0 0 0 0 0 0 0 0 0 0 0 0 0 0 0 0 0 0 0 0 0 0 0 0 0 1 1 6 7 4 0 0 0 0 0 0 0\n",
      " 0 0 0 0 0 0 0 0 0 0 0]\n",
      "Q_values : [-5.1157856 -4.331129  -3.2114487 -2.512824 ]\n",
      "state : [0 1 1 0 1 0 0 0 0 0 0 0 0 0 0 0 0 0 0 0 0 0 0 0 0 1 1 4 6 4 0 0 0 4 4 1 2\n",
      " 0 0 0 0 0 0 0 1 1 0 0]\n",
      "Q_values : [-3.4147322 -2.8174627 -1.4042888 -1.6588805]\n",
      "state : [0 0 1 0 0 4 0 0 0 0 0 4 0 0 0 0 0 0 0 0 0 0 0 0 0 0 1 0 0 4 0 0 0 0 0 4 0\n",
      " 0 0 0 4 0 3 0 0 0 0 0]\n",
      "Q_values : [ 3.9655204  5.356759   5.4913235 11.073702 ]\n",
      "state : [0 0 1 0 0 0 0 0 0 0 0 0 0 0 0 0 0 0 0 0 0 0 0 0 0 0 1 0 0 0 0 0 0 0 0 0 0\n",
      " 0 4 0 3 0 0 0 4 0 0 0]\n",
      "Q_values : [0.27240992 0.7149862  0.18970805 0.45144942]\n",
      "state : [0 0 0 0 0 0 0 0 0 0 0 0 0 0 0 0 0 0 0 0 0 0 0 0 0 0 0 0 0 0 0 0 0 0 0 0 0\n",
      " 0 0 0 0 0 0 0 0 0 0 0]\n",
      "Q_values : [-0.94505066 -0.7617151  -0.23783118 -0.2706419 ]\n",
      "episode : 130\n",
      "Step #100.00 (0ms ?*RT. ?UPS, TraCI: 0ms, vehicles TOT 33 ACT 0 BUF 0)                     \n",
      " Retrying in 1 seconds\n"
     ]
    },
    {
     "name": "stderr",
     "output_type": "stream",
     "text": [
      "Warning: Environment variable SUMO_HOME is not set properly, disabling XML validation. Set 'auto' or 'always' for web lookups.\n"
     ]
    },
    {
     "name": "stdout",
     "output_type": "stream",
     "text": [
      "state : [0 0 0 0 0 0 0 0 0 0 0 0 0 0 0 0 0 0 0 0 0 0 0 0 0 1 1 6 7 4 0 0 0 0 0 0 0\n",
      " 0 0 0 0 0 0 0 0 0 0 0]\n",
      "Q_values : [-3.4980521 -3.2453778 -2.271712  -2.070723 ]\n",
      "state : [0 1 1 0 1 0 0 0 0 0 0 0 0 0 0 0 0 0 0 0 0 0 0 0 0 1 1 4 6 4 0 0 0 4 4 1 2\n",
      " 0 0 0 0 0 0 0 1 1 0 0]\n",
      "Q_values : [-2.9682047 -2.8067763 -1.4122458 -1.5894223]\n",
      "state : [0 0 1 0 0 4 0 0 0 0 2 1 0 0 0 0 0 0 0 0 0 0 0 0 0 0 1 0 0 4 0 0 0 1 4 4 3\n",
      " 0 0 0 0 0 3 1 0 0 5 0]\n",
      "Q_values : [1.7469114 1.954994  3.7251172 5.4455757]\n",
      "state : [0 0 1 0 0 0 0 0 0 0 4 0 0 0 0 0 0 0 0 0 0 0 0 0 0 0 1 0 0 0 0 0 0 0 4 0 0\n",
      " 0 4 0 0 0 0 0 3 0 0 0]\n",
      "Q_values : [1.1593382 1.0861466 2.996986  1.4700828]\n",
      "episode : 131\n",
      "Step #100.00 (0ms ?*RT. ?UPS, TraCI: 0ms, vehicles TOT 33 ACT 0 BUF 0)                     \n",
      " Retrying in 1 seconds\n"
     ]
    },
    {
     "name": "stderr",
     "output_type": "stream",
     "text": [
      "Warning: Environment variable SUMO_HOME is not set properly, disabling XML validation. Set 'auto' or 'always' for web lookups.\n"
     ]
    },
    {
     "name": "stdout",
     "output_type": "stream",
     "text": [
      "state : [0 0 0 0 0 0 0 0 0 0 0 0 0 0 0 0 0 0 0 0 0 0 0 0 1 1 1 3 3 1 0 0 0 0 0 0 0\n",
      " 0 0 0 0 0 0 0 0 0 0 0]\n",
      "Q_values : [-1.5364482 -1.3943601 -0.8862334 -0.9909345]\n",
      "state : [0 0 0 0 0 0 0 0 0 0 0 0 0 0 0 0 0 0 0 0 0 0 0 0 0 1 1 6 7 4 0 0 0 0 0 0 0\n",
      " 0 0 0 0 0 0 0 0 0 0 0]\n",
      "Q_values : [-3.9063363 -3.6717522 -2.6543036 -2.4523182]\n",
      "state : [0 1 1 0 1 0 0 0 0 0 0 0 0 0 0 0 0 0 0 0 0 0 0 0 0 1 1 4 6 4 0 0 0 4 4 1 2\n",
      " 0 0 0 0 0 0 0 1 1 0 0]\n",
      "Q_values : [-3.4354022 -3.2313533 -1.5688504 -1.7420192]\n",
      "state : [0 1 1 0 0 2 0 0 0 0 0 0 0 0 0 0 0 0 0 0 0 0 0 0 0 1 1 0 0 4 0 0 0 4 4 4 5\n",
      " 0 0 0 0 0 0 0 2 0 5 0]\n",
      "Q_values : [-1.8874948  -1.5937686  -0.96077096  0.44953638]\n",
      "state : [0 1 1 0 0 0 0 0 0 0 2 0 0 0 0 0 0 0 0 0 0 0 0 0 0 1 1 0 0 0 0 0 0 1 4 1 3\n",
      " 0 2 0 0 0 3 0 4 0 5 0]\n",
      "Q_values : [-0.3678913 -0.1825647  1.1088736  0.5845581]\n",
      "state : [0 1 1 0 0 0 0 0 0 0 0 1 0 0 0 0 0 0 0 0 0 0 0 0 0 1 1 0 0 0 0 0 0 0 0 1 0\n",
      " 0 3 0 4 0 3 0 3 0 0 0]\n",
      "Q_values : [1.0589359 1.5172682 0.3414641 1.9561057]\n",
      "state : [0 1 1 0 0 0 0 0 0 0 0 0 0 0 0 0 0 0 0 0 0 0 0 0 0 1 1 0 0 0 0 0 0 0 0 0 0\n",
      " 0 1 0 3 0 0 0 0 0 0 0]\n",
      "Q_values : [0.48583353 0.9543775  0.12986878 0.51517785]\n",
      "episode : 132\n",
      "Step #100.00 (0ms ?*RT. ?UPS, TraCI: 0ms, vehicles TOT 33 ACT 1 BUF 0)                     \n",
      " Retrying in 1 seconds\n"
     ]
    },
    {
     "name": "stderr",
     "output_type": "stream",
     "text": [
      "Warning: Environment variable SUMO_HOME is not set properly, disabling XML validation. Set 'auto' or 'always' for web lookups.\n"
     ]
    },
    {
     "name": "stdout",
     "output_type": "stream",
     "text": [
      "state : [0 0 0 0 0 0 0 0 0 0 0 0 0 0 0 0 0 0 0 0 0 0 0 0 1 1 1 3 3 1 0 0 0 0 0 0 0\n",
      " 0 0 0 0 0 0 0 0 0 0 0]\n",
      "Q_values : [-1.3502964 -1.0861833 -1.0466545 -1.1557951]\n",
      "state : [0 0 0 0 0 0 0 0 0 0 0 0 0 0 0 0 0 0 0 0 0 0 0 0 0 1 1 6 7 4 0 0 0 0 0 0 0\n",
      " 0 0 0 0 0 0 0 0 0 0 0]\n",
      "Q_values : [-3.5460103 -3.1248257 -3.0313842 -3.1058855]\n",
      "state : [0 1 1 0 0 1 0 0 0 0 0 0 0 0 0 0 0 0 0 0 0 0 0 0 0 1 1 3 4 6 0 0 0 4 4 1 2\n",
      " 0 0 0 0 0 0 0 0 1 2 0]\n",
      "Q_values : [-2.572437  -2.2100286 -1.9931173 -1.5230732]\n",
      "state : [0 1 1 0 2 0 0 0 0 0 0 0 0 0 0 0 0 0 0 0 0 0 0 0 0 1 1 0 4 1 0 0 0 4 4 4 5\n",
      " 0 0 0 0 0 0 0 4 0 1 0]\n",
      "Q_values : [-1.1775649  -0.8948463   0.59197867 -0.85253155]\n",
      "state : [0 1 0 0 0 0 0 0 0 0 0 0 0 0 0 0 0 0 0 0 0 0 0 0 0 1 0 0 0 0 0 0 0 0 0 0 0\n",
      " 0 0 0 0 1 0 0 0 0 0 0]\n",
      "Q_values : [0.51701486 0.76003337 0.6387632  0.29101688]\n",
      "episode : 133\n",
      "Step #100.00 (0ms ?*RT. ?UPS, TraCI: 0ms, vehicles TOT 33 ACT 1 BUF 0)                     \n",
      " Retrying in 1 seconds\n"
     ]
    },
    {
     "name": "stderr",
     "output_type": "stream",
     "text": [
      "Warning: Environment variable SUMO_HOME is not set properly, disabling XML validation. Set 'auto' or 'always' for web lookups.\n"
     ]
    },
    {
     "name": "stdout",
     "output_type": "stream",
     "text": [
      "state : [0 0 0 0 0 0 0 0 0 0 0 0 0 0 0 0 0 0 0 0 0 0 0 0 1 1 1 3 3 1 0 0 0 0 0 0 0\n",
      " 0 0 0 0 0 0 0 0 0 0 0]\n",
      "Q_values : [-1.6280972 -1.6039596 -1.6185563 -1.4793525]\n",
      "state : [0 0 0 0 0 0 0 0 0 0 0 0 0 0 0 0 0 0 0 0 0 0 0 0 0 1 1 6 7 4 0 0 0 0 0 0 0\n",
      " 0 0 0 0 0 0 0 0 0 0 0]\n",
      "Q_values : [-3.5151627 -3.546967  -3.3160768 -2.9512136]\n",
      "state : [0 0 0 0 6 4 0 0 0 0 2 1 0 0 0 0 0 0 0 0 0 0 0 0 0 0 0 0 6 4 0 0 0 1 4 4 3\n",
      " 0 0 0 0 0 3 1 0 0 0 0]\n",
      "Q_values : [ 2.446087   2.6414897 10.112278   8.592479 ]\n",
      "state : [0 0 0 0 0 4 0 0 0 0 0 4 0 0 0 0 0 0 0 0 0 0 0 0 0 0 0 0 0 4 0 0 0 0 0 4 0\n",
      " 0 0 0 0 0 0 0 0 0 0 0]\n",
      "Q_values : [4.2770796 4.218173  4.1397843 8.251314 ]\n",
      "episode : 134\n",
      "Step #100.00 (0ms ?*RT. ?UPS, TraCI: 0ms, vehicles TOT 33 ACT 7 BUF 0)                     \n",
      " Retrying in 1 seconds\n"
     ]
    },
    {
     "name": "stderr",
     "output_type": "stream",
     "text": [
      "Warning: Environment variable SUMO_HOME is not set properly, disabling XML validation. Set 'auto' or 'always' for web lookups.\n"
     ]
    },
    {
     "name": "stdout",
     "output_type": "stream",
     "text": [
      "state : [0 0 0 0 0 0 0 0 0 0 0 0 0 0 0 0 0 0 0 0 0 0 0 0 1 1 1 3 3 1 0 0 0 0 0 0 0\n",
      " 0 0 0 0 0 0 0 0 0 0 0]\n",
      "Q_values : [-1.5077102 -1.4552475 -1.2109381 -1.2226188]\n",
      "state : [0 0 0 0 6 0 0 0 0 0 4 0 0 0 0 0 0 0 0 0 0 0 0 0 0 0 0 0 6 0 0 0 0 0 4 0 0\n",
      " 0 4 0 0 0 0 0 4 0 0 0]\n",
      "Q_values : [5.3327246 5.0951366 9.889072  5.043402 ]\n",
      "state : [0 0 0 0 0 0 0 0 0 0 0 0 0 0 0 0 0 0 0 0 0 0 0 0 0 0 0 0 0 0 0 0 0 0 0 0 0\n",
      " 0 4 0 4 0 0 0 3 0 6 0]\n",
      "Q_values : [0.37823284 0.54300684 0.13162833 0.2531816 ]\n",
      "episode : 135\n",
      "Step #100.00 (0ms ?*RT. ?UPS, TraCI: 0ms, vehicles TOT 33 ACT 0 BUF 0)                     \n",
      " Retrying in 1 seconds\n"
     ]
    },
    {
     "name": "stderr",
     "output_type": "stream",
     "text": [
      "Warning: Environment variable SUMO_HOME is not set properly, disabling XML validation. Set 'auto' or 'always' for web lookups.\n"
     ]
    },
    {
     "name": "stdout",
     "output_type": "stream",
     "text": [
      "state : [0 0 0 0 0 0 0 0 0 0 0 0 0 0 0 0 0 0 0 0 0 0 0 0 1 1 1 3 3 1 0 0 0 0 0 0 0\n",
      " 0 0 0 0 0 0 0 0 0 0 0]\n",
      "Q_values : [-1.4394195 -1.3569393 -1.2190118 -1.3490717]\n",
      "state : [0 0 0 0 0 0 0 0 0 0 0 0 0 0 0 0 0 0 0 0 0 0 0 0 0 1 1 6 7 4 0 0 0 0 0 0 0\n",
      " 0 0 0 0 0 0 0 0 0 0 0]\n",
      "Q_values : [-3.6328359 -3.4921734 -3.0996284 -3.1345809]\n",
      "state : [0 1 1 0 0 1 0 0 0 0 0 0 0 0 0 0 0 0 0 0 0 0 0 0 0 1 1 3 4 6 0 0 0 4 4 1 2\n",
      " 0 0 0 0 0 0 0 0 1 2 0]\n",
      "Q_values : [-2.6555815 -2.3919702 -1.5499731 -0.5541462]\n",
      "state : [0 1 1 0 2 0 0 0 0 0 0 0 0 0 0 0 0 0 0 0 0 0 0 0 0 1 1 0 4 1 0 0 0 4 4 4 5\n",
      " 0 0 0 0 0 0 0 4 0 1 0]\n",
      "Q_values : [-1.4204022 -1.3327081  0.689543  -0.4056095]\n",
      "state : [0 1 1 0 0 1 0 0 0 0 0 4 0 0 0 0 0 0 0 0 0 0 0 0 0 1 1 0 0 1 0 0 0 0 0 4 0\n",
      " 0 0 0 3 0 3 0 0 0 2 0]\n",
      "Q_values : [3.0027668 3.2577007 3.3140688 6.3386087]\n",
      "episode : 136\n",
      "Step #100.00 (0ms ?*RT. ?UPS, TraCI: 0ms, vehicles TOT 33 ACT 1 BUF 0)                     \n",
      " Retrying in 1 seconds\n"
     ]
    },
    {
     "name": "stderr",
     "output_type": "stream",
     "text": [
      "Warning: Environment variable SUMO_HOME is not set properly, disabling XML validation. Set 'auto' or 'always' for web lookups.\n"
     ]
    },
    {
     "name": "stdout",
     "output_type": "stream",
     "text": [
      "state : [0 0 0 0 0 0 0 0 0 0 0 0 0 0 0 0 0 0 0 0 0 0 0 0 0 0 0 0 0 0 0 0 0 0 0 0 0\n",
      " 0 0 0 0 0 0 0 0 0 0 0]\n",
      "Q_values : [-0.69344276 -0.5317248  -0.4225316  -0.6069514 ]\n",
      "state : [0 0 0 0 0 0 0 0 0 0 0 0 0 0 0 0 0 0 0 0 0 0 0 0 0 1 1 6 7 4 0 0 0 0 0 0 0\n",
      " 0 0 0 0 0 0 0 0 0 0 0]\n",
      "Q_values : [-3.54198   -3.2619905 -2.5909743 -2.913608 ]\n",
      "state : [0 1 1 0 0 1 0 0 0 0 0 0 0 0 0 0 0 0 0 0 0 0 0 0 0 1 1 3 4 6 0 0 0 4 4 1 2\n",
      " 0 0 0 0 0 0 0 0 1 2 0]\n",
      "Q_values : [-2.4041789  -2.0228863  -0.79324335 -0.1488379 ]\n",
      "state : [0 1 1 0 2 0 0 0 0 0 0 0 0 0 0 0 0 0 0 0 0 0 0 0 0 1 1 0 4 1 0 0 0 4 4 4 5\n",
      " 0 0 0 0 0 0 0 4 0 1 0]\n",
      "Q_values : [-1.1155639  -1.0306947   1.1878426  -0.44697195]\n",
      "state : [0 1 0 0 0 1 0 0 0 0 0 4 0 0 0 0 0 0 0 0 0 0 0 0 0 1 0 0 0 1 0 0 0 0 0 4 0\n",
      " 0 0 0 0 0 0 0 0 0 0 0]\n",
      "Q_values : [2.87428   2.9583905 2.9346988 5.1755757]\n",
      "state : [0 1 0 0 0 0 0 0 0 0 0 0 0 0 0 0 0 0 0 0 0 0 0 0 0 1 0 0 0 0 0 0 0 0 0 0 0\n",
      " 0 4 0 0 0 0 0 1 0 0 0]\n",
      "Q_values : [0.5871922  0.59113353 0.2458466  0.01302233]\n",
      "episode : 137\n",
      "Step #100.00 (0ms ?*RT. ?UPS, TraCI: 0ms, vehicles TOT 33 ACT 4 BUF 0)                     \n",
      " Retrying in 1 seconds\n"
     ]
    },
    {
     "name": "stderr",
     "output_type": "stream",
     "text": [
      "Warning: Environment variable SUMO_HOME is not set properly, disabling XML validation. Set 'auto' or 'always' for web lookups.\n"
     ]
    },
    {
     "name": "stdout",
     "output_type": "stream",
     "text": [
      "state : [0 0 0 0 0 0 0 0 0 0 0 0 0 0 0 0 0 0 0 0 0 0 0 0 0 0 0 0 0 0 0 0 0 0 0 0 0\n",
      " 0 0 0 0 0 0 0 0 0 0 0]\n",
      "Q_values : [-0.6929134  -0.5223901  -0.53272617 -0.7384425 ]\n",
      "state : [0 0 0 0 4 0 0 0 0 0 4 0 0 0 0 0 0 0 0 0 0 0 0 0 0 0 0 0 4 0 0 0 0 0 4 0 0\n",
      " 0 4 0 0 0 3 0 5 0 0 0]\n",
      "Q_values : [3.907896 4.02967  8.363859 4.032695]\n",
      "state : [0 0 0 0 0 0 0 0 0 0 0 0 0 0 0 0 0 0 0 0 0 0 0 0 0 0 0 0 0 0 0 0 0 0 0 0 0\n",
      " 0 0 0 3 0 0 0 0 0 2 0]\n",
      "Q_values : [0.33301008 0.48784405 0.36612162 0.3283848 ]\n",
      "episode : 138\n",
      "Step #100.00 (0ms ?*RT. ?UPS, TraCI: 0ms, vehicles TOT 33 ACT 0 BUF 0)                     \n",
      " Retrying in 1 seconds\n"
     ]
    },
    {
     "name": "stderr",
     "output_type": "stream",
     "text": [
      "Warning: Environment variable SUMO_HOME is not set properly, disabling XML validation. Set 'auto' or 'always' for web lookups.\n"
     ]
    },
    {
     "name": "stdout",
     "output_type": "stream",
     "text": [
      "state : [0 0 0 0 0 0 0 0 0 0 0 0 0 0 0 0 0 0 0 0 0 0 0 0 0 0 0 0 0 0 0 0 0 0 0 0 0\n",
      " 0 0 0 0 0 0 0 0 0 0 0]\n",
      "Q_values : [-0.76767755 -0.6674421  -0.50848156 -0.70534134]\n",
      "state : [0 0 0 0 0 0 0 0 0 0 0 0 0 0 0 0 0 0 0 0 0 0 0 0 0 1 1 6 7 4 0 0 0 0 0 0 0\n",
      " 0 0 0 0 0 0 0 0 0 0 0]\n",
      "Q_values : [-3.2541203 -3.2149537 -2.386162  -2.8822122]\n",
      "state : [0 1 1 0 0 1 0 0 0 0 0 0 0 0 0 0 0 0 0 0 0 0 0 0 0 1 1 3 4 6 0 0 0 4 4 1 2\n",
      " 0 0 0 0 0 0 0 0 1 2 0]\n",
      "Q_values : [-1.9292303  -1.9641201  -0.51645577 -0.01774973]\n",
      "state : [0 1 1 0 4 0 0 0 0 0 2 0 0 0 0 0 0 0 0 0 0 0 0 0 0 1 1 0 4 0 0 0 0 1 4 1 3\n",
      " 0 2 0 0 0 3 0 6 0 0 0]\n",
      "Q_values : [3.0164397 3.0216942 7.4029613 3.1407328]\n",
      "state : [0 1 1 0 0 0 0 0 0 0 0 1 0 0 0 0 0 0 0 0 0 0 0 0 0 1 1 0 0 0 0 0 0 0 0 1 0\n",
      " 0 3 0 4 0 3 0 0 0 4 0]\n",
      "Q_values : [1.0102898  0.98943174 0.40710214 1.4981883 ]\n",
      "state : [0 0 1 0 0 0 0 0 0 0 0 0 0 0 0 0 0 0 0 0 0 0 0 0 0 0 1 0 0 0 0 0 0 0 0 0 0\n",
      " 0 0 0 0 0 0 1 0 0 0 0]\n",
      "Q_values : [-0.01963207 -0.06848332 -0.10929739 -0.19715863]\n",
      "episode : 139\n",
      "Step #100.00 (0ms ?*RT. ?UPS, TraCI: 0ms, vehicles TOT 33 ACT 1 BUF 0)                     \n",
      " Retrying in 1 seconds\n"
     ]
    },
    {
     "name": "stderr",
     "output_type": "stream",
     "text": [
      "Warning: Environment variable SUMO_HOME is not set properly, disabling XML validation. Set 'auto' or 'always' for web lookups.\n"
     ]
    },
    {
     "name": "stdout",
     "output_type": "stream",
     "text": [
      "state : [0 0 0 0 0 0 0 0 0 0 0 0 0 0 0 0 0 0 0 0 0 0 0 0 1 1 1 3 3 1 0 0 0 0 0 0 0\n",
      " 0 0 0 0 0 0 0 0 0 0 0]\n",
      "Q_values : [-1.3948941 -1.4319743 -1.4844978 -1.422678 ]\n",
      "state : [0 0 0 0 1 1 0 0 0 0 0 0 0 0 0 0 0 0 0 0 0 0 0 0 0 0 0 4 6 6 0 0 0 4 4 1 2\n",
      " 0 0 0 0 1 0 1 0 1 0 0]\n",
      "Q_values : [-4.082896  -3.9724293 -1.921768  -1.7202686]\n",
      "state : [0 0 0 0 0 1 0 0 0 0 1 4 0 0 0 0 0 0 0 0 0 0 0 0 0 0 0 0 0 1 0 0 0 0 1 4 0\n",
      " 0 0 0 2 0 3 0 0 0 5 0]\n",
      "Q_values : [2.975938  2.9608493 3.359245  5.673936 ]\n",
      "episode : 140\n",
      "Step #100.00 (0ms ?*RT. ?UPS, TraCI: 0ms, vehicles TOT 33 ACT 0 BUF 0)                     \n",
      " Retrying in 1 seconds\n"
     ]
    },
    {
     "name": "stderr",
     "output_type": "stream",
     "text": [
      "Warning: Environment variable SUMO_HOME is not set properly, disabling XML validation. Set 'auto' or 'always' for web lookups.\n"
     ]
    },
    {
     "name": "stdout",
     "output_type": "stream",
     "text": [
      "state : [0 0 0 0 0 0 0 0 0 0 0 0 0 0 0 0 0 0 0 0 0 0 0 0 0 1 1 6 7 4 0 0 0 0 0 0 0\n",
      " 0 0 0 0 0 0 0 0 0 0 0]\n",
      "Q_values : [-3.3885162 -3.1401348 -2.5168743 -2.859847 ]\n",
      "state : [0 1 0 0 2 4 0 0 0 0 0 0 0 0 0 0 0 0 0 0 0 0 0 0 0 1 0 0 4 6 0 0 0 4 4 4 5\n",
      " 0 0 0 0 1 0 0 0 0 1 0]\n",
      "Q_values : [-1.2650347 -0.5726296  2.962896   3.4310088]\n",
      "state : [0 1 0 0 4 0 0 0 0 0 2 0 0 0 0 0 0 0 0 0 0 0 0 0 0 1 0 0 4 0 0 0 0 1 4 1 3\n",
      " 0 2 0 0 0 3 0 5 0 0 0]\n",
      "Q_values : [1.8405299 2.0975635 5.91612   2.454806 ]\n",
      "state : [0 1 0 0 0 0 0 0 0 0 0 1 0 0 0 0 0 0 0 0 0 0 0 0 0 1 0 0 0 0 0 0 0 0 0 1 0\n",
      " 0 3 0 4 0 3 0 6 0 4 0]\n",
      "Q_values : [0.7026404  0.7298412  0.47683167 1.0061437 ]\n",
      "episode : 141\n",
      "Step #100.00 (0ms ?*RT. ?UPS, TraCI: 0ms, vehicles TOT 33 ACT 0 BUF 0)                     \n",
      " Retrying in 1 seconds\n"
     ]
    },
    {
     "name": "stderr",
     "output_type": "stream",
     "text": [
      "Warning: Environment variable SUMO_HOME is not set properly, disabling XML validation. Set 'auto' or 'always' for web lookups.\n"
     ]
    },
    {
     "name": "stdout",
     "output_type": "stream",
     "text": [
      "state : [0 0 0 0 0 0 0 0 0 0 0 0 0 0 0 0 0 0 0 0 0 0 0 0 0 1 1 6 7 4 0 0 0 0 0 0 0\n",
      " 0 0 0 0 0 0 0 0 0 0 0]\n",
      "Q_values : [-3.3016617 -3.08217   -3.1540542 -2.9423213]\n",
      "state : [0 1 0 0 4 2 0 0 0 0 0 0 0 0 0 0 0 0 0 0 0 0 0 0 0 1 0 0 6 4 0 0 0 4 4 4 5\n",
      " 0 0 0 0 1 0 0 2 0 0 0]\n",
      "Q_values : [-1.9415021 -1.5510707  2.4514961  1.1722093]\n",
      "state : [0 1 0 0 0 4 0 0 0 0 0 1 0 0 0 0 0 0 0 0 0 0 0 0 0 1 0 0 0 4 0 0 0 1 1 4 3\n",
      " 0 0 0 2 0 3 0 0 0 6 0]\n",
      "Q_values : [0.12160589 0.566167   0.667598   3.9878693 ]\n",
      "state : [0 0 0 0 0 0 0 0 0 0 1 0 0 0 0 0 0 0 0 0 0 0 0 0 0 0 0 0 0 0 0 0 0 0 1 0 0\n",
      " 0 4 0 0 0 0 1 3 0 0 0]\n",
      "Q_values : [0.5625897  0.4731325  0.51389825 0.28124943]\n",
      "state : [0 0 0 0 0 0 0 0 0 0 1 0 0 0 0 0 0 0 0 0 0 0 0 0 0 0 0 0 0 0 0 0 0 0 1 0 0\n",
      " 0 0 0 0 0 0 0 0 0 0 0]\n",
      "Q_values : [0.39213213 0.37419933 0.7278166  0.43413007]\n",
      "episode : 142\n",
      "Step #100.00 (0ms ?*RT. ?UPS, TraCI: 0ms, vehicles TOT 33 ACT 1 BUF 0)                     \n",
      " Retrying in 1 seconds\n"
     ]
    },
    {
     "name": "stderr",
     "output_type": "stream",
     "text": [
      "Warning: Environment variable SUMO_HOME is not set properly, disabling XML validation. Set 'auto' or 'always' for web lookups.\n"
     ]
    },
    {
     "name": "stdout",
     "output_type": "stream",
     "text": [
      "state : [0 0 0 0 0 0 0 0 0 0 0 0 0 0 0 0 0 0 0 0 0 0 0 0 0 0 0 0 0 0 0 0 0 0 0 0 0\n",
      " 0 0 0 0 0 0 0 0 0 0 0]\n",
      "Q_values : [-0.8398379  -0.79025733 -0.5537103  -0.6817001 ]\n",
      "state : [0 0 0 0 0 0 0 0 0 0 0 0 0 0 0 0 0 0 0 0 0 0 0 0 1 1 1 3 3 1 0 0 0 0 0 0 0\n",
      " 0 0 0 0 0 0 0 0 0 0 0]\n",
      "Q_values : [-1.6834974 -1.6057221 -1.3004258 -1.4312826]\n",
      "state : [0 1 1 0 0 4 0 0 0 0 0 0 0 0 0 0 0 0 0 0 0 0 0 0 0 1 1 0 1 6 0 0 0 4 4 4 5\n",
      " 0 0 0 0 0 0 0 0 0 4 0]\n",
      "Q_values : [-1.2154483  -0.64047503  0.6152683   3.0891733 ]\n",
      "state : [0 0 1 0 1 0 0 0 0 0 4 0 0 0 0 0 0 0 0 0 0 0 0 0 0 0 1 0 1 0 0 0 0 0 4 0 0\n",
      " 0 0 0 0 0 0 0 0 0 0 0]\n",
      "Q_values : [3.4209201 3.3417861 5.0295863 2.8300703]\n",
      "episode : 143\n",
      "Step #100.00 (0ms ?*RT. ?UPS, TraCI: 0ms, vehicles TOT 33 ACT 4 BUF 0)                     \n",
      " Retrying in 1 seconds\n"
     ]
    },
    {
     "name": "stderr",
     "output_type": "stream",
     "text": [
      "Warning: Environment variable SUMO_HOME is not set properly, disabling XML validation. Set 'auto' or 'always' for web lookups.\n"
     ]
    },
    {
     "name": "stdout",
     "output_type": "stream",
     "text": [
      "state : [0 1 0 0 1 1 0 0 0 0 0 0 0 0 0 0 0 0 0 0 0 0 0 0 0 1 0 4 6 6 0 0 0 4 4 1 2\n",
      " 0 0 0 0 1 0 0 0 1 0 0]\n",
      "Q_values : [-3.697351  -3.5483346 -1.2849867 -1.1798735]\n",
      "state : [0 1 0 0 4 0 0 0 0 0 0 0 0 0 0 0 0 0 0 0 0 0 0 0 0 1 0 0 6 1 0 0 0 4 4 4 5\n",
      " 0 0 0 0 0 0 0 4 0 0 0]\n",
      "Q_values : [-1.9756229 -1.8884097  1.8197078  0.3829027]\n",
      "state : [0 0 0 0 0 1 0 0 0 0 1 4 0 0 0 0 0 0 0 0 0 0 0 0 0 0 0 0 0 1 0 0 0 0 1 4 0\n",
      " 0 0 0 2 0 3 1 0 0 5 0]\n",
      "Q_values : [1.233433  1.648223  2.3563368 4.658712 ]\n",
      "state : [0 0 0 0 0 0 0 0 0 0 1 0 0 0 0 0 0 0 0 0 0 0 0 0 0 0 0 0 0 0 0 0 0 0 1 0 0\n",
      " 0 4 0 0 0 0 0 1 0 0 0]\n",
      "Q_values : [0.53617835 0.48900568 0.46579915 0.25309324]\n",
      "state : [0 0 0 0 0 0 0 0 0 0 1 0 0 0 0 0 0 0 0 0 0 0 0 0 0 0 0 0 0 0 0 0 0 0 1 0 0\n",
      " 0 3 0 0 0 0 0 0 0 0 0]\n",
      "Q_values : [0.50887287 0.4752389  0.60650325 0.32971212]\n",
      "episode : 144\n",
      "Step #100.00 (0ms ?*RT. ?UPS, TraCI: 0ms, vehicles TOT 33 ACT 0 BUF 0)                     \n",
      " Retrying in 1 seconds\n"
     ]
    },
    {
     "name": "stderr",
     "output_type": "stream",
     "text": [
      "Warning: Environment variable SUMO_HOME is not set properly, disabling XML validation. Set 'auto' or 'always' for web lookups.\n"
     ]
    },
    {
     "name": "stdout",
     "output_type": "stream",
     "text": [
      "state : [0 0 0 0 0 0 0 0 0 0 0 0 0 0 0 0 0 0 0 0 0 0 0 0 0 0 0 0 0 0 0 0 0 0 0 0 0\n",
      " 0 0 0 0 0 0 0 0 0 0 0]\n",
      "Q_values : [-0.74572754 -0.64007723 -0.46204704 -0.70059764]\n",
      "state : [0 0 0 0 0 0 0 0 0 0 0 0 0 0 0 0 0 0 0 0 0 0 0 0 0 1 1 6 7 4 0 0 0 0 0 0 0\n",
      " 0 0 0 0 0 0 0 0 0 0 0]\n",
      "Q_values : [-3.1341486 -2.7272217 -2.3984747 -2.810973 ]\n",
      "state : [0 1 1 0 0 1 0 0 0 0 0 0 0 0 0 0 0 0 0 0 0 0 0 0 0 1 1 3 4 6 0 0 0 4 4 1 2\n",
      " 0 0 0 0 0 0 0 0 1 2 0]\n",
      "Q_values : [-2.1314702  -1.5467002  -0.49014676 -0.17636263]\n",
      "state : [0 1 1 0 2 0 0 0 0 0 0 0 0 0 0 0 0 0 0 0 0 0 0 0 0 1 1 0 4 1 0 0 0 4 4 4 5\n",
      " 0 0 0 0 0 0 0 4 0 1 0]\n",
      "Q_values : [-1.2169771  -0.8066454   1.1256378  -0.29776582]\n",
      "state : [0 1 0 0 0 1 0 0 0 0 1 4 0 0 0 0 0 0 0 0 0 0 0 0 0 1 0 0 0 1 0 0 0 0 1 4 0\n",
      " 0 0 0 2 1 3 0 0 0 2 0]\n",
      "Q_values : [3.3039825 3.3454864 3.8029413 5.914948 ]\n",
      "episode : 145\n",
      "Step #100.00 (0ms ?*RT. ?UPS, TraCI: 0ms, vehicles TOT 33 ACT 1 BUF 0)                     \n",
      " Retrying in 1 seconds\n"
     ]
    },
    {
     "name": "stderr",
     "output_type": "stream",
     "text": [
      "Warning: Environment variable SUMO_HOME is not set properly, disabling XML validation. Set 'auto' or 'always' for web lookups.\n"
     ]
    },
    {
     "name": "stdout",
     "output_type": "stream",
     "text": [
      "state : [0 0 0 0 0 0 0 0 0 0 0 0 0 0 0 0 0 0 0 0 0 0 0 0 0 0 0 0 0 0 0 0 0 0 0 0 0\n",
      " 0 0 0 0 0 0 0 0 0 0 0]\n",
      "Q_values : [-0.5941767  -0.44895828 -0.67037225 -0.6667575 ]\n",
      "state : [0 0 0 0 0 0 0 0 0 0 0 0 0 0 0 0 0 0 0 0 0 0 0 0 1 1 1 3 3 1 0 0 0 0 0 0 0\n",
      " 0 0 0 0 0 0 0 0 0 0 0]\n",
      "Q_values : [-1.4657804 -1.2585815 -1.5665879 -1.4846947]\n",
      "state : [0 0 0 0 0 0 0 0 0 0 0 0 0 0 0 0 0 0 0 0 0 0 0 0 0 1 1 6 7 4 0 0 0 0 0 0 0\n",
      " 0 0 0 0 0 0 0 0 0 0 0]\n",
      "Q_values : [-3.4673874 -3.1079686 -3.5666971 -3.3560257]\n",
      "state : [0 1 0 0 1 1 0 0 0 0 0 0 0 0 0 0 0 0 0 0 0 0 0 0 0 1 0 4 6 6 0 0 0 4 4 1 2\n",
      " 0 0 0 0 1 0 0 0 1 0 0]\n",
      "Q_values : [-3.4437158 -2.9769096 -1.4809096 -1.4750857]\n",
      "state : [0 1 0 0 6 1 0 0 0 0 2 1 0 0 0 0 0 0 0 0 0 0 0 0 0 1 0 0 6 1 0 0 0 1 4 4 3\n",
      " 0 0 0 0 0 3 0 5 0 0 0]\n",
      "Q_values : [1.6317848 1.8093514 8.002592  4.828624 ]\n",
      "state : [0 1 0 0 0 1 0 0 0 0 0 4 0 0 0 0 0 0 0 0 0 0 0 0 0 1 0 0 0 1 0 0 0 0 0 4 0\n",
      " 0 0 0 3 0 0 0 0 0 5 0]\n",
      "Q_values : [3.108605  2.8558137 3.0509856 6.0998244]\n",
      "episode : 146\n",
      "Step #100.00 (0ms ?*RT. ?UPS, TraCI: 0ms, vehicles TOT 33 ACT 0 BUF 0)                     \n",
      " Retrying in 1 seconds\n"
     ]
    },
    {
     "name": "stderr",
     "output_type": "stream",
     "text": [
      "Warning: Environment variable SUMO_HOME is not set properly, disabling XML validation. Set 'auto' or 'always' for web lookups.\n"
     ]
    },
    {
     "name": "stdout",
     "output_type": "stream",
     "text": [
      "state : [0 0 0 0 0 0 0 0 0 0 0 0 0 0 0 0 0 0 0 0 0 0 0 0 0 0 0 0 0 0 0 0 0 0 0 0 0\n",
      " 0 0 0 0 0 0 0 0 0 0 0]\n",
      "Q_values : [-0.7161753 -0.6810825 -0.5097883 -0.6746745]\n",
      "state : [0 0 0 0 0 0 0 0 0 0 0 0 0 0 0 0 0 0 0 0 0 0 0 0 0 1 1 6 7 4 0 0 0 0 0 0 0\n",
      " 0 0 0 0 0 0 0 0 0 0 0]\n",
      "Q_values : [-3.430444  -3.2714639 -2.7833529 -3.0788198]\n",
      "state : [0 0 1 0 2 4 0 0 0 0 0 0 0 0 0 0 0 0 0 0 0 0 0 0 0 0 1 0 4 6 0 0 0 4 4 4 5\n",
      " 0 0 0 0 0 0 1 0 0 1 0]\n",
      "Q_values : [-1.4399217 -0.9914166  2.6989818  3.3952007]\n",
      "state : [0 0 1 0 4 0 0 0 0 0 2 0 0 0 0 0 0 0 0 0 0 0 0 0 0 0 1 0 4 0 0 0 0 1 4 1 3\n",
      " 0 2 0 0 0 3 0 5 0 0 0]\n",
      "Q_values : [2.8128746 2.4832778 6.5868983 2.9461908]\n",
      "state : [0 0 1 0 0 0 0 0 0 0 0 0 0 0 0 0 0 0 0 0 0 0 0 0 0 0 1 0 0 0 0 0 0 0 0 0 0\n",
      " 0 1 0 3 0 0 0 0 0 2 0]\n",
      "Q_values : [0.39670897 0.61659235 0.29523003 0.40613645]\n",
      "state : [0 0 0 0 0 0 0 0 0 0 0 0 0 0 0 0 0 0 0 0 0 0 0 0 0 0 0 0 0 0 0 0 0 0 0 0 0\n",
      " 0 0 0 0 0 0 0 0 0 0 0]\n",
      "Q_values : [-0.6733088 -0.6205847 -0.5952852 -0.6698636]\n",
      "episode : 147\n",
      "Step #100.00 (0ms ?*RT. ?UPS, TraCI: 0ms, vehicles TOT 33 ACT 0 BUF 0)                     \n",
      " Retrying in 1 seconds\n"
     ]
    },
    {
     "name": "stderr",
     "output_type": "stream",
     "text": [
      "Warning: Environment variable SUMO_HOME is not set properly, disabling XML validation. Set 'auto' or 'always' for web lookups.\n"
     ]
    },
    {
     "name": "stdout",
     "output_type": "stream",
     "text": [
      "state : [0 0 0 0 0 0 0 0 0 0 0 0 0 0 0 0 0 0 0 0 0 0 0 0 0 0 0 0 0 0 0 0 0 0 0 0 0\n",
      " 0 0 0 0 0 0 0 0 0 0 0]\n",
      "Q_values : [-0.6936624 -0.6438145 -0.6072862 -0.6853126]\n",
      "state : [0 0 0 0 4 4 0 0 0 0 0 0 0 0 0 0 0 0 0 0 0 0 0 0 0 0 0 0 6 6 0 0 0 4 4 4 5\n",
      " 0 0 0 0 1 0 0 0 0 0 0]\n",
      "Q_values : [-2.3814898 -2.0987077  3.6929333  3.21078  ]\n",
      "state : [0 0 0 0 0 0 0 0 0 0 1 0 0 0 0 0 0 0 0 0 0 0 0 0 0 0 0 0 0 0 0 0 0 0 1 0 0\n",
      " 0 4 0 2 0 3 0 5 0 5 0]\n",
      "Q_values : [0.22507417 0.23730639 0.46563473 0.46998397]\n",
      "state : [0 0 0 0 0 0 0 0 0 0 1 0 0 0 0 0 0 0 0 0 0 0 0 0 0 0 0 0 0 0 0 0 0 0 1 0 0\n",
      " 0 0 0 0 0 0 0 0 0 0 0]\n",
      "Q_values : [0.02511927 0.0169771  0.20064664 0.00235152]\n",
      "state : [0 0 0 0 0 0 0 0 0 0 0 0 0 0 0 0 0 0 0 0 0 0 0 0 0 0 0 0 0 0 0 0 0 0 0 0 0\n",
      " 0 0 0 1 0 0 0 0 0 0 0]\n",
      "Q_values : [-0.43083692 -0.31799504 -0.32966927 -0.3510679 ]\n",
      "episode : 148\n",
      "Step #100.00 (0ms ?*RT. ?UPS, TraCI: 0ms, vehicles TOT 33 ACT 0 BUF 0)                     \n",
      " Retrying in 1 seconds\n"
     ]
    },
    {
     "name": "stderr",
     "output_type": "stream",
     "text": [
      "Warning: Environment variable SUMO_HOME is not set properly, disabling XML validation. Set 'auto' or 'always' for web lookups.\n"
     ]
    },
    {
     "name": "stdout",
     "output_type": "stream",
     "text": [
      "state : [0 0 0 0 0 0 0 0 0 0 0 0 0 0 0 0 0 0 0 0 0 0 0 0 0 0 0 0 0 0 0 0 0 0 0 0 0\n",
      " 0 0 0 0 0 0 0 0 0 0 0]\n",
      "Q_values : [-0.6324922 -0.568714  -0.494108  -0.6580068]\n",
      "state : [0 0 0 0 0 0 0 0 0 0 0 0 0 0 0 0 0 0 0 0 0 0 0 0 1 1 1 3 3 1 0 0 0 0 0 0 0\n",
      " 0 0 0 0 0 0 0 0 0 0 0]\n",
      "Q_values : [-1.393191  -1.2483914 -1.1842897 -1.3767123]\n",
      "state : [0 0 1 0 1 1 0 0 0 0 0 0 0 0 0 0 0 0 0 0 0 0 0 0 0 0 1 4 6 6 0 0 0 4 4 1 2\n",
      " 0 0 0 0 0 0 1 0 1 0 0]\n",
      "Q_values : [-2.675925   -2.4073277  -0.3244056  -0.88941133]\n",
      "state : [0 0 1 0 0 4 0 0 0 0 0 0 0 0 0 0 0 0 0 0 0 0 0 0 0 0 1 0 1 6 0 0 0 4 4 4 5\n",
      " 0 0 0 0 0 0 0 0 0 5 0]\n",
      "Q_values : [-1.2125396  -0.69409186  0.2117517   2.510431  ]\n",
      "state : [0 0 1 0 1 0 0 0 0 0 2 0 0 0 0 0 0 0 0 0 0 0 0 0 0 0 1 0 1 0 0 0 0 1 4 1 3\n",
      " 0 2 0 0 0 3 0 5 0 4 0]\n",
      "Q_values : [0.6224528  0.37351564 2.507148   0.8399146 ]\n",
      "state : [0 0 1 0 0 0 0 0 0 0 0 0 0 0 0 0 0 0 0 0 0 0 0 0 0 0 1 0 0 0 0 0 0 0 0 0 0\n",
      " 0 1 0 3 0 0 0 0 0 0 0]\n",
      "Q_values : [0.40557292 0.6423634  0.1994233  0.38189864]\n",
      "state : [0 0 0 0 0 0 0 0 0 0 0 0 0 0 0 0 0 0 0 0 0 0 0 0 0 0 0 0 0 0 0 0 0 0 0 0 0\n",
      " 0 0 0 0 1 0 0 0 0 0 0]\n",
      "Q_values : [-0.35369605 -0.3248126  -0.49916035 -0.5680598 ]\n",
      "state : [0 0 0 0 0 0 0 0 0 0 0 0 0 0 0 0 0 0 0 0 0 0 0 0 0 0 0 0 0 0 0 0 0 0 0 0 0\n",
      " 0 0 0 0 0 0 0 0 0 0 0]\n",
      "Q_values : [-0.57384396 -0.5168053  -0.69918984 -0.64889836]\n",
      "episode : 149\n",
      "Step #100.00 (0ms ?*RT. ?UPS, TraCI: 0ms, vehicles TOT 33 ACT 0 BUF 0)                     \n",
      " Retrying in 1 seconds\n"
     ]
    },
    {
     "name": "stderr",
     "output_type": "stream",
     "text": [
      "Warning: Environment variable SUMO_HOME is not set properly, disabling XML validation. Set 'auto' or 'always' for web lookups.\n"
     ]
    },
    {
     "name": "stdout",
     "output_type": "stream",
     "text": [
      "state : [0 0 0 0 0 0 0 0 0 0 0 0 0 0 0 0 0 0 0 0 0 0 0 0 1 1 1 3 3 1 0 0 0 0 0 0 0\n",
      " 0 0 0 0 0 0 0 0 0 0 0]\n",
      "Q_values : [-1.5267284 -1.4253671 -1.6970009 -1.5070792]\n",
      "state : [0 1 0 0 1 1 0 0 0 0 0 0 0 0 0 0 0 0 0 0 0 0 0 0 0 1 0 4 6 6 0 0 0 4 4 1 2\n",
      " 0 0 0 0 1 0 0 0 1 0 0]\n",
      "Q_values : [-3.1459045 -3.1051288 -1.7890062 -1.4695036]\n",
      "state : [0 1 0 0 4 0 0 0 0 0 0 0 0 0 0 0 0 0 0 0 0 0 0 0 0 1 0 0 6 1 0 0 0 4 4 4 5\n",
      " 0 0 0 0 0 0 0 4 0 0 0]\n",
      "Q_values : [-1.3336287 -1.6410447  1.5672922 -0.0333795]\n",
      "state : [0 1 0 0 0 1 0 0 0 0 0 1 0 0 0 0 0 0 0 0 0 0 0 0 0 1 0 0 0 1 0 0 0 1 1 4 3\n",
      " 0 0 0 2 0 3 0 5 0 6 0]\n",
      "Q_values : [-0.2983534  -0.27573854 -0.66492903  0.8040334 ]\n",
      "state : [0 1 0 0 0 0 0 0 0 0 1 0 0 0 0 0 0 0 0 0 0 0 0 0 0 1 0 0 0 0 0 0 0 0 1 0 0\n",
      " 0 4 0 2 0 3 0 1 0 5 0]\n",
      "Q_values : [1.6836116 1.6912346 1.3927034 0.7871894]\n",
      "state : [0 1 0 0 0 0 0 0 0 0 1 0 0 0 0 0 0 0 0 0 0 0 0 0 0 1 0 0 0 0 0 0 0 0 1 0 0\n",
      " 0 3 0 0 0 0 0 0 0 0 0]\n",
      "Q_values : [1.5466996  1.523796   1.2396559  0.69358385]\n",
      "state : [0 0 0 0 0 0 0 0 0 0 1 0 0 0 0 0 0 0 0 0 0 0 0 0 0 0 0 0 0 0 0 0 0 0 1 0 0\n",
      " 0 0 0 0 0 0 1 0 0 0 0]\n",
      "Q_values : [0.57975155 0.5065515  0.87281454 0.51025844]\n",
      "state : [0 0 0 0 0 0 0 0 0 0 0 0 0 0 0 0 0 0 0 0 0 0 0 0 0 0 0 0 0 0 0 0 0 0 0 0 0\n",
      " 0 0 0 1 0 0 0 0 0 0 0]\n",
      "Q_values : [-0.56539595 -0.48693258 -0.45282423 -0.4246765 ]\n",
      "episode : 150\n",
      "Step #100.00 (0ms ?*RT. ?UPS, TraCI: 0ms, vehicles TOT 33 ACT 0 BUF 0)                     \n",
      " Retrying in 1 seconds\n"
     ]
    },
    {
     "name": "stderr",
     "output_type": "stream",
     "text": [
      "Warning: Environment variable SUMO_HOME is not set properly, disabling XML validation. Set 'auto' or 'always' for web lookups.\n"
     ]
    },
    {
     "name": "stdout",
     "output_type": "stream",
     "text": [
      "state : [0 0 0 0 0 0 0 0 0 0 0 0 0 0 0 0 0 0 0 0 0 0 0 0 1 1 1 3 3 1 0 0 0 0 0 0 0\n",
      " 0 0 0 0 0 0 0 0 0 0 0]\n",
      "Q_values : [-1.6126394 -1.49793   -1.2109518 -1.4066167]\n",
      "state : [0 1 1 0 1 0 0 0 0 0 0 0 0 0 0 0 0 0 0 0 0 0 0 0 0 1 1 4 6 4 0 0 0 4 4 1 2\n",
      " 0 0 0 0 0 0 0 1 1 0 0]\n",
      "Q_values : [-2.6076353  -2.3157403  -0.22095278 -1.1804618 ]\n",
      "state : [0 1 1 0 0 2 0 0 0 0 0 0 0 0 0 0 0 0 0 0 0 0 0 0 0 1 1 0 0 4 0 0 0 4 4 4 5\n",
      " 0 0 0 0 0 0 0 2 0 5 0]\n",
      "Q_values : [-1.4059308  -1.006725   -0.20388037  1.1612995 ]\n",
      "state : [0 0 0 0 0 0 0 0 0 0 4 1 0 0 0 0 0 0 0 0 0 0 0 0 0 0 0 0 0 0 0 0 0 0 4 1 0\n",
      " 0 0 0 0 1 0 0 0 0 0 0]\n",
      "Q_values : [2.3228688 2.4215188 4.3778214 2.9648805]\n",
      "state : [0 0 0 0 0 0 0 0 0 0 0 1 0 0 0 0 0 0 0 0 0 0 0 0 0 0 0 0 0 0 0 0 0 0 0 1 0\n",
      " 0 0 0 4 0 0 0 0 0 0 0]\n",
      "Q_values : [0.91736436 0.9319743  0.61462826 1.4341116 ]\n",
      "state : [0 0 0 0 0 0 0 0 0 0 0 0 0 0 0 0 0 0 0 0 0 0 0 0 0 0 0 0 0 0 0 0 0 0 0 0 0\n",
      " 0 1 0 3 0 0 0 0 0 0 0]\n",
      "Q_values : [0.38335875 0.5903373  0.2231936  0.5882323 ]\n",
      "episode : 151\n",
      "Step #100.00 (0ms ?*RT. ?UPS, TraCI: 0ms, vehicles TOT 33 ACT 0 BUF 0)                     \n",
      " Retrying in 1 seconds\n"
     ]
    },
    {
     "name": "stderr",
     "output_type": "stream",
     "text": [
      "Warning: Environment variable SUMO_HOME is not set properly, disabling XML validation. Set 'auto' or 'always' for web lookups.\n"
     ]
    },
    {
     "name": "stdout",
     "output_type": "stream",
     "text": [
      "state : [0 0 0 0 0 0 0 0 0 0 0 0 0 0 0 0 0 0 0 0 0 0 0 0 1 1 1 3 3 1 0 0 0 0 0 0 0\n",
      " 0 0 0 0 0 0 0 0 0 0 0]\n",
      "Q_values : [-1.3158375 -1.2405304 -1.2104234 -1.4277048]\n",
      "state : [0 0 0 0 0 0 0 0 0 0 0 0 0 0 0 0 0 0 0 0 0 0 0 0 0 1 1 6 7 4 0 0 0 0 0 0 0\n",
      " 0 0 0 0 0 0 0 0 0 0 0]\n",
      "Q_values : [-3.0911984 -2.893815  -2.8602934 -3.13408  ]\n",
      "state : [0 1 1 0 0 1 0 0 0 0 0 0 0 0 0 0 0 0 0 0 0 0 0 0 0 1 1 3 4 6 0 0 0 4 4 1 2\n",
      " 0 0 0 0 0 0 0 0 1 2 0]\n",
      "Q_values : [-2.3010368 -2.0747087 -1.6692871 -1.1927341]\n",
      "state : [0 1 1 0 2 0 0 0 0 0 0 0 0 0 0 0 0 0 0 0 0 0 0 0 0 1 1 0 4 1 0 0 0 4 4 4 5\n",
      " 0 0 0 0 0 0 0 4 0 1 0]\n",
      "Q_values : [-1.7584181  -1.5074985   0.11074677 -1.1497391 ]\n",
      "state : [0 1 1 0 0 0 0 0 0 0 1 0 0 0 0 0 0 0 0 0 0 0 0 0 0 1 1 0 0 0 0 0 0 0 1 0 0\n",
      " 0 4 0 2 0 3 0 1 0 2 0]\n",
      "Q_values : [1.1878004  1.217726   1.1685102  0.69100463]\n",
      "state : [0 1 0 0 0 0 0 0 0 0 1 0 0 0 0 0 0 0 0 0 0 0 0 0 0 1 0 0 0 0 0 0 0 0 1 0 0\n",
      " 0 3 0 0 1 0 0 0 0 0 0]\n",
      "Q_values : [0.85600877 0.8313935  0.9458561  0.5520382 ]\n",
      "state : [0 1 0 0 0 0 0 0 0 0 0 0 0 0 0 0 0 0 0 0 0 0 0 0 0 1 0 0 0 0 0 0 0 0 0 0 0\n",
      " 0 0 0 1 0 0 0 0 0 0 0]\n",
      "Q_values : [0.46999747 0.4548648  0.41869098 0.3209963 ]\n",
      "state : [0 0 0 0 0 0 0 0 0 0 0 0 0 0 0 0 0 0 0 0 0 0 0 0 0 0 0 0 0 0 0 0 0 0 0 0 0\n",
      " 0 0 0 0 0 0 1 0 0 0 0]\n",
      "Q_values : [-0.3818562  -0.34741986 -0.22153848 -0.33353904]\n",
      "episode : 152\n",
      "Step #100.00 (0ms ?*RT. ?UPS, TraCI: 0ms, vehicles TOT 33 ACT 0 BUF 0)                     \n",
      " Retrying in 1 seconds\n"
     ]
    },
    {
     "name": "stderr",
     "output_type": "stream",
     "text": [
      "Warning: Environment variable SUMO_HOME is not set properly, disabling XML validation. Set 'auto' or 'always' for web lookups.\n"
     ]
    },
    {
     "name": "stdout",
     "output_type": "stream",
     "text": [
      "state : [0 0 0 0 0 0 0 0 0 0 0 0 0 0 0 0 0 0 0 0 0 0 0 0 0 1 1 6 7 4 0 0 0 0 0 0 0\n",
      " 0 0 0 0 0 0 0 0 0 0 0]\n",
      "Q_values : [-4.1065617 -3.624365  -3.1696472 -3.0723794]\n",
      "state : [0 0 1 0 4 2 0 0 0 0 0 0 0 0 0 0 0 0 0 0 0 0 0 0 0 0 1 0 6 4 0 0 0 4 4 4 5\n",
      " 0 0 0 0 0 0 1 2 0 0 0]\n",
      "Q_values : [-2.239918  -1.8720763  3.8126512  2.3303003]\n",
      "state : [0 0 1 0 0 4 0 0 0 0 0 1 0 0 0 0 0 0 0 0 0 0 0 0 0 0 1 0 0 4 0 0 0 1 1 4 3\n",
      " 0 0 0 2 0 3 0 0 0 6 0]\n",
      "Q_values : [0.63209516 0.9316986  1.5422245  5.0522213 ]\n",
      "state : [0 0 1 0 0 0 0 0 0 0 0 0 0 0 0 0 0 0 0 0 0 0 0 0 0 0 1 0 0 0 0 0 0 0 0 0 0\n",
      " 0 4 0 1 0 0 0 3 0 0 0]\n",
      "Q_values : [0.5093427  0.48090315 0.33381504 0.27818894]\n",
      "episode : 153\n",
      "Step #100.00 (0ms ?*RT. ?UPS, TraCI: 0ms, vehicles TOT 33 ACT 0 BUF 0)                     \n",
      " Retrying in 1 seconds\n"
     ]
    },
    {
     "name": "stderr",
     "output_type": "stream",
     "text": [
      "Warning: Environment variable SUMO_HOME is not set properly, disabling XML validation. Set 'auto' or 'always' for web lookups.\n"
     ]
    },
    {
     "name": "stdout",
     "output_type": "stream",
     "text": [
      "state : [0 0 0 0 0 0 0 0 0 0 0 0 0 0 0 0 0 0 0 0 0 0 0 0 0 0 0 0 0 0 0 0 0 0 0 0 0\n",
      " 0 0 0 0 0 0 0 0 0 0 0]\n",
      "Q_values : [-0.5166401  -0.55411005 -0.5081947  -0.5543892 ]\n",
      "state : [0 0 1 0 0 0 0 0 0 0 0 1 0 0 0 0 0 0 0 0 0 0 0 0 0 0 1 0 0 0 0 0 0 0 0 1 0\n",
      " 0 0 0 3 0 0 1 0 0 0 0]\n",
      "Q_values : [0.34593973 0.3373496  0.22393873 0.26148596]\n",
      "state : [0 0 1 0 0 0 0 0 0 0 0 1 0 0 0 0 0 0 0 0 0 0 0 0 0 0 1 0 0 0 0 0 0 0 0 1 0\n",
      " 0 0 0 0 0 0 0 0 0 0 0]\n",
      "Q_values : [0.5218202  0.4358942  0.38996747 0.59519875]\n",
      "episode : 154\n",
      "Step #100.00 (0ms ?*RT. ?UPS, TraCI: 0ms, vehicles TOT 33 ACT 2 BUF 0)                     \n",
      " Retrying in 1 seconds\n"
     ]
    },
    {
     "name": "stderr",
     "output_type": "stream",
     "text": [
      "Warning: Environment variable SUMO_HOME is not set properly, disabling XML validation. Set 'auto' or 'always' for web lookups.\n"
     ]
    },
    {
     "name": "stdout",
     "output_type": "stream",
     "text": [
      "state : [0 0 0 0 0 0 0 0 0 0 0 0 0 0 0 0 0 0 0 0 0 0 0 0 1 1 1 3 3 1 0 0 0 0 0 0 0\n",
      " 0 0 0 0 0 0 0 0 0 0 0]\n",
      "Q_values : [-1.5677688 -1.7570827 -1.4003552 -1.5552738]\n",
      "state : [0 1 1 0 0 1 0 0 0 0 0 0 0 0 0 0 0 0 0 0 0 0 0 0 0 1 1 3 4 6 0 0 0 4 4 1 2\n",
      " 0 0 0 0 0 0 0 0 1 2 0]\n",
      "Q_values : [-2.7589655  -2.9199488  -0.92132115 -0.48646182]\n",
      "state : [0 1 1 0 2 0 0 0 0 0 0 0 0 0 0 0 0 0 0 0 0 0 0 0 0 1 1 0 4 1 0 0 0 4 4 4 5\n",
      " 0 0 0 0 0 0 0 4 0 1 0]\n",
      "Q_values : [-1.7330377  -1.9916219   1.1035972  -0.40120098]\n",
      "state : [0 1 1 0 0 1 0 0 0 0 0 1 0 0 0 0 0 0 0 0 0 0 0 0 0 1 1 0 0 1 0 0 0 1 1 4 3\n",
      " 0 0 0 2 0 3 0 5 0 4 0]\n",
      "Q_values : [0.5596534 0.4650857 0.7331545 1.7986778]\n",
      "state : [0 1 1 0 0 0 0 0 0 0 1 0 0 0 0 0 0 0 0 0 0 0 0 0 0 1 1 0 0 0 0 0 0 0 1 0 0\n",
      " 0 4 0 2 0 3 0 1 0 2 0]\n",
      "Q_values : [1.4068302  1.2793252  1.6187167  0.86356753]\n",
      "state : [0 1 1 0 0 0 0 0 0 0 0 0 0 0 0 0 0 0 0 0 0 0 0 0 0 1 1 0 0 0 0 0 0 0 0 0 0\n",
      " 0 3 0 1 0 0 0 0 0 0 0]\n",
      "Q_values : [1.0777843  1.067754   0.5393443  0.37787122]\n",
      "state : [0 0 1 0 0 0 0 0 0 0 0 0 0 0 0 0 0 0 0 0 0 0 0 0 0 0 1 0 0 0 0 0 0 0 0 0 0\n",
      " 0 0 0 0 0 0 0 0 0 0 0]\n",
      "Q_values : [0.4226826  0.52241147 0.32064635 0.3293271 ]\n",
      "episode : 155\n",
      "Step #100.00 (0ms ?*RT. ?UPS, TraCI: 0ms, vehicles TOT 33 ACT 1 BUF 0)                     \n",
      " Retrying in 1 seconds\n"
     ]
    },
    {
     "name": "stderr",
     "output_type": "stream",
     "text": [
      "Warning: Environment variable SUMO_HOME is not set properly, disabling XML validation. Set 'auto' or 'always' for web lookups.\n"
     ]
    },
    {
     "name": "stdout",
     "output_type": "stream",
     "text": [
      "state : [0 0 1 0 1 1 0 0 0 0 0 0 0 0 0 0 0 0 0 0 0 0 0 0 0 0 1 4 6 6 0 0 0 4 4 1 2\n",
      " 0 0 0 0 0 0 1 0 1 0 0]\n",
      "Q_values : [-2.8059804 -2.1006863 -1.0713766 -1.4485414]\n",
      "state : [0 0 0 0 0 0 0 0 0 0 0 0 0 0 0 0 0 0 0 0 0 0 0 0 0 0 0 0 0 0 0 0 0 0 0 0 0\n",
      " 0 4 0 0 0 0 0 5 0 0 0]\n",
      "Q_values : [ 0.3238837   0.18330368  0.13848454 -0.04702735]\n",
      "state : [0 0 0 0 0 0 0 0 0 0 0 0 0 0 0 0 0 0 0 0 0 0 0 0 0 0 0 0 0 0 0 0 0 0 0 0 0\n",
      " 0 4 0 0 0 0 0 6 0 0 0]\n",
      "Q_values : [ 0.3032666   0.1528698   0.12657091 -0.08367202]\n",
      "episode : 156\n",
      "Step #100.00 (0ms ?*RT. ?UPS, TraCI: 0ms, vehicles TOT 33 ACT 0 BUF 0)                     \n",
      " Retrying in 1 seconds\n"
     ]
    },
    {
     "name": "stderr",
     "output_type": "stream",
     "text": [
      "Warning: Environment variable SUMO_HOME is not set properly, disabling XML validation. Set 'auto' or 'always' for web lookups.\n"
     ]
    },
    {
     "name": "stdout",
     "output_type": "stream",
     "text": [
      "state : [0 0 0 0 0 0 0 0 0 0 0 0 0 0 0 0 0 0 0 0 0 0 0 0 1 1 1 3 3 1 0 0 0 0 0 0 0\n",
      " 0 0 0 0 0 0 0 0 0 0 0]\n",
      "Q_values : [-1.6300017 -1.2846729 -1.5111059 -1.3141716]\n",
      "state : [0 0 0 0 0 0 0 0 0 0 0 0 0 0 0 0 0 0 0 0 0 0 0 0 0 1 1 6 7 4 0 0 0 0 0 0 0\n",
      " 0 0 0 0 0 0 0 0 0 0 0]\n",
      "Q_values : [-3.728839  -3.0789921 -3.3244119 -2.9588456]\n",
      "state : [0 1 1 0 1 0 0 0 0 0 0 0 0 0 0 0 0 0 0 0 0 0 0 0 0 1 1 4 6 4 0 0 0 4 4 1 2\n",
      " 0 0 0 0 0 0 0 1 1 0 0]\n",
      "Q_values : [-3.3107715  -2.5861523  -0.91621035 -1.1762923 ]\n",
      "state : [0 0 1 0 0 4 0 0 0 0 2 1 0 0 0 0 0 0 0 0 0 0 0 0 0 0 1 0 0 4 0 0 0 1 4 4 3\n",
      " 0 0 0 0 0 3 1 0 0 5 0]\n",
      "Q_values : [0.5393902 1.4591719 4.0307865 6.278281 ]\n",
      "state : [0 0 0 0 0 0 0 0 0 0 4 0 0 0 0 0 0 0 0 0 0 0 0 0 0 0 0 0 0 0 0 0 0 0 4 0 0\n",
      " 0 0 0 0 0 0 0 0 0 0 0]\n",
      "Q_values : [2.5057547 2.5112536 4.8316507 2.4045827]\n",
      "episode : 157\n",
      "Step #100.00 (0ms ?*RT. ?UPS, TraCI: 0ms, vehicles TOT 33 ACT 4 BUF 0)                     \n",
      " Retrying in 1 seconds\n"
     ]
    },
    {
     "name": "stderr",
     "output_type": "stream",
     "text": [
      "Warning: Environment variable SUMO_HOME is not set properly, disabling XML validation. Set 'auto' or 'always' for web lookups.\n"
     ]
    },
    {
     "name": "stdout",
     "output_type": "stream",
     "text": [
      "state : [0 0 0 0 0 0 0 0 0 0 0 0 0 0 0 0 0 0 0 0 0 0 0 0 1 1 1 3 3 1 0 0 0 0 0 0 0\n",
      " 0 0 0 0 0 0 0 0 0 0 0]\n",
      "Q_values : [-1.3110439 -1.2973771 -1.1594931 -1.2829261]\n",
      "state : [0 0 0 0 0 0 0 0 0 0 0 0 0 0 0 0 0 0 0 0 0 0 0 0 0 1 1 6 7 4 0 0 0 0 0 0 0\n",
      " 0 0 0 0 0 0 0 0 0 0 0]\n",
      "Q_values : [-3.1481326 -3.1122317 -2.8333702 -3.0626462]\n",
      "state : [0 1 1 0 2 0 0 0 0 0 0 0 0 0 0 0 0 0 0 0 0 0 0 0 0 1 1 0 4 1 0 0 0 4 4 4 5\n",
      " 0 0 0 0 0 0 0 4 0 1 0]\n",
      "Q_values : [-1.4928808 -1.6517925 -0.0889383 -1.0861001]\n",
      "state : [0 1 1 0 0 1 0 0 0 0 0 4 0 0 0 0 0 0 0 0 0 0 0 0 0 1 1 0 0 1 0 0 0 0 0 4 0\n",
      " 0 0 0 3 0 3 0 0 0 2 0]\n",
      "Q_values : [2.9436378 2.7881887 2.585914  5.6289916]\n",
      "state : [0 1 1 0 0 0 0 0 0 0 0 0 0 0 0 0 0 0 0 0 0 0 0 0 0 1 1 0 0 0 0 0 0 0 0 0 0\n",
      " 0 4 0 0 0 0 0 1 0 0 0]\n",
      "Q_values : [1.0594952 0.9928386 0.4730829 0.3231573]\n",
      "state : [0 0 1 0 0 0 0 0 0 0 0 0 0 0 0 0 0 0 0 0 0 0 0 0 0 0 1 0 0 0 0 0 0 0 0 0 0\n",
      " 0 3 0 0 0 0 1 0 0 0 0]\n",
      "Q_values : [0.39136806 0.1862993  0.26029545 0.14815202]\n",
      "state : [0 0 1 0 0 0 0 0 0 0 0 0 0 0 0 0 0 0 0 0 0 0 0 0 0 0 1 0 0 0 0 0 0 0 0 0 0\n",
      " 0 0 0 0 0 0 0 0 0 0 0]\n",
      "Q_values : [0.30289826 0.5076755  0.30641285 0.34717393]\n",
      "episode : 158\n",
      "Step #100.00 (0ms ?*RT. ?UPS, TraCI: 0ms, vehicles TOT 33 ACT 1 BUF 0)                     \n",
      " Retrying in 1 seconds\n"
     ]
    },
    {
     "name": "stderr",
     "output_type": "stream",
     "text": [
      "Warning: Environment variable SUMO_HOME is not set properly, disabling XML validation. Set 'auto' or 'always' for web lookups.\n"
     ]
    },
    {
     "name": "stdout",
     "output_type": "stream",
     "text": [
      "state : [0 0 0 0 0 0 0 0 0 0 0 0 0 0 0 0 0 0 0 0 0 0 0 0 0 0 0 0 0 0 0 0 0 0 0 0 0\n",
      " 0 0 0 0 0 0 0 0 0 0 0]\n",
      "Q_values : [-0.79919636 -0.9344977  -0.5255718  -0.7996372 ]\n",
      "state : [0 0 0 0 0 0 0 0 0 0 0 0 0 0 0 0 0 0 0 0 0 0 0 0 1 1 1 3 3 1 0 0 0 0 0 0 0\n",
      " 0 0 0 0 0 0 0 0 0 0 0]\n",
      "Q_values : [-1.59351   -1.7351078 -1.0975492 -1.5192633]\n",
      "state : [0 1 1 0 0 1 0 0 0 0 0 0 0 0 0 0 0 0 0 0 0 0 0 0 0 1 1 3 4 6 0 0 0 4 4 1 2\n",
      " 0 0 0 0 0 0 0 0 1 2 0]\n",
      "Q_values : [-2.307191   -2.2374682  -0.3579107  -0.07336628]\n",
      "state : [0 1 1 0 0 1 0 0 0 0 0 4 0 0 0 0 0 0 0 0 0 0 0 0 0 1 1 0 0 1 0 0 0 0 0 4 0\n",
      " 0 0 0 3 0 3 0 0 0 2 0]\n",
      "Q_values : [3.0700612 3.25651   3.253621  5.9875727]\n",
      "state : [0 1 1 0 0 0 0 0 0 0 0 0 0 0 0 0 0 0 0 0 0 0 0 0 0 1 1 0 0 0 0 0 0 0 0 0 0\n",
      " 0 4 0 0 0 0 0 1 0 0 0]\n",
      "Q_values : [1.0396398  1.15294    0.53873914 0.37810838]\n",
      "state : [0 1 0 0 0 0 0 0 0 0 0 0 0 0 0 0 0 0 0 0 0 0 0 0 0 1 0 0 0 0 0 0 0 0 0 0 0\n",
      " 0 0 0 0 0 0 0 0 0 0 0]\n",
      "Q_values : [0.666008   0.7363064  0.45354927 0.35643044]\n",
      "episode : 159\n",
      "Step #100.00 (0ms ?*RT. ?UPS, TraCI: 0ms, vehicles TOT 33 ACT 1 BUF 0)                     \n",
      " Retrying in 1 seconds\n"
     ]
    },
    {
     "name": "stderr",
     "output_type": "stream",
     "text": [
      "Warning: Environment variable SUMO_HOME is not set properly, disabling XML validation. Set 'auto' or 'always' for web lookups.\n"
     ]
    },
    {
     "name": "stdout",
     "output_type": "stream",
     "text": [
      "state : [0 1 0 0 4 0 0 0 0 0 0 0 0 0 0 0 0 0 0 0 0 0 0 0 0 1 0 0 6 1 0 0 0 4 4 4 5\n",
      " 0 0 0 0 0 0 0 4 0 0 0]\n",
      "Q_values : [-1.0392596  -1.0904897   1.9865026   0.22366926]\n",
      "state : [0 1 0 0 0 1 0 0 0 0 0 1 0 0 0 0 0 0 0 0 0 0 0 0 0 1 0 0 0 1 0 0 0 1 1 4 3\n",
      " 0 0 0 2 0 3 0 5 0 6 0]\n",
      "Q_values : [-0.06603184 -0.01946154 -0.41171655  1.1054375 ]\n",
      "state : [0 0 0 0 0 0 0 0 0 0 1 0 0 0 0 0 0 0 0 0 0 0 0 0 0 0 0 0 0 0 0 0 0 0 1 0 0\n",
      " 0 0 0 0 0 0 0 0 0 0 0]\n",
      "Q_values : [0.42693824 0.39216745 0.5828764  0.44614515]\n",
      "episode : 160\n",
      "Step #100.00 (0ms ?*RT. ?UPS, TraCI: 0ms, vehicles TOT 33 ACT 0 BUF 0)                     \n",
      " Retrying in 1 seconds\n"
     ]
    },
    {
     "name": "stderr",
     "output_type": "stream",
     "text": [
      "Warning: Environment variable SUMO_HOME is not set properly, disabling XML validation. Set 'auto' or 'always' for web lookups.\n"
     ]
    },
    {
     "name": "stdout",
     "output_type": "stream",
     "text": [
      "state : [0 1 1 0 1 0 0 0 0 0 0 0 0 0 0 0 0 0 0 0 0 0 0 0 0 1 1 4 6 4 0 0 0 4 4 1 2\n",
      " 0 0 0 0 0 0 0 1 1 0 0]\n",
      "Q_values : [-3.0909984 -2.912115  -0.7061815 -1.5472397]\n",
      "state : [0 0 1 0 0 4 0 0 0 0 2 1 0 0 0 0 0 0 0 0 0 0 0 0 0 0 1 0 0 4 0 0 0 1 4 4 3\n",
      " 0 0 0 0 0 3 1 0 0 5 0]\n",
      "Q_values : [2.3165538 2.4537487 4.917085  7.134109 ]\n",
      "state : [0 0 1 0 0 0 0 0 0 0 4 0 0 0 0 0 0 0 0 0 0 0 0 0 0 0 1 0 0 0 0 0 0 0 4 0 0\n",
      " 0 4 0 0 0 3 0 4 0 0 0]\n",
      "Q_values : [3.104191  3.0295196 5.6312003 2.65395  ]\n",
      "state : [0 0 1 0 0 0 0 0 0 0 0 0 0 0 0 0 0 0 0 0 0 0 0 0 0 0 1 0 0 0 0 0 0 0 0 0 0\n",
      " 0 4 0 4 0 0 0 3 0 0 0]\n",
      "Q_values : [0.41577956 1.059688   0.18990056 0.46456528]\n",
      "state : [0 0 0 0 0 0 0 0 0 0 0 0 0 0 0 0 0 0 0 0 0 0 0 0 0 0 0 0 0 0 0 0 0 0 0 0 0\n",
      " 0 0 0 0 0 0 0 0 0 0 0]\n",
      "Q_values : [-0.63628614 -0.5891216  -0.6334747  -0.6938961 ]\n",
      "episode : 161\n",
      "Step #100.00 (0ms ?*RT. ?UPS, TraCI: 0ms, vehicles TOT 33 ACT 0 BUF 0)                     \n",
      " Retrying in 1 seconds\n"
     ]
    },
    {
     "name": "stderr",
     "output_type": "stream",
     "text": [
      "Warning: Environment variable SUMO_HOME is not set properly, disabling XML validation. Set 'auto' or 'always' for web lookups.\n"
     ]
    },
    {
     "name": "stdout",
     "output_type": "stream",
     "text": [
      "state : [0 0 0 0 0 0 0 0 0 0 0 0 0 0 0 0 0 0 0 0 0 0 0 0 0 0 0 0 0 0 0 0 0 0 0 0 0\n",
      " 0 0 0 0 0 0 0 0 0 0 0]\n",
      "Q_values : [-0.6624477  -0.60048723 -0.6973133  -0.713171  ]\n",
      "state : [0 0 0 0 0 0 0 0 0 0 0 0 0 0 0 0 0 0 0 0 0 0 0 0 0 1 1 6 7 4 0 0 0 0 0 0 0\n",
      " 0 0 0 0 0 0 0 0 0 0 0]\n",
      "Q_values : [-3.5040715 -2.9971516 -3.4210854 -3.1846473]\n",
      "state : [0 1 0 0 6 6 0 0 0 0 2 1 0 0 0 0 0 0 0 0 0 0 0 0 0 1 0 0 6 6 0 0 0 1 4 4 3\n",
      " 0 0 0 0 0 3 0 0 0 0 0]\n",
      "Q_values : [1.3198152 2.5351496 7.835546  8.015751 ]\n",
      "state : [0 1 0 0 6 0 0 0 0 0 4 0 0 0 0 0 0 0 0 0 0 0 0 0 0 1 0 0 6 0 0 0 0 0 4 0 0\n",
      " 0 4 0 0 0 3 0 5 0 0 0]\n",
      "Q_values : [4.9995947 5.4712105 9.474007  5.217444 ]\n",
      "state : [0 1 0 0 0 0 0 0 0 0 0 0 0 0 0 0 0 0 0 0 0 0 0 0 0 1 0 0 0 0 0 0 0 0 0 0 0\n",
      " 0 4 0 4 0 0 0 6 0 6 0]\n",
      "Q_values : [0.43220884 0.6100771  0.22075917 0.41430372]\n",
      "state : [0 0 0 0 0 0 0 0 0 0 0 0 0 0 0 0 0 0 0 0 0 0 0 0 0 0 0 0 0 0 0 0 0 0 0 0 0\n",
      " 0 0 0 0 0 0 1 0 0 0 0]\n",
      "Q_values : [-0.54250085 -0.55013174 -0.35452068 -0.32061806]\n",
      "episode : 162\n",
      "Step #100.00 (0ms ?*RT. ?UPS, TraCI: 0ms, vehicles TOT 33 ACT 0 BUF 0)                     \n",
      " Retrying in 1 seconds\n"
     ]
    },
    {
     "name": "stderr",
     "output_type": "stream",
     "text": [
      "Warning: Environment variable SUMO_HOME is not set properly, disabling XML validation. Set 'auto' or 'always' for web lookups.\n"
     ]
    },
    {
     "name": "stdout",
     "output_type": "stream",
     "text": [
      "state : [0 0 0 0 0 0 0 0 0 0 0 0 0 0 0 0 0 0 0 0 0 0 0 0 0 0 0 0 0 0 0 0 0 0 0 0 0\n",
      " 0 0 0 0 0 0 0 0 0 0 0]\n",
      "Q_values : [-0.95668006 -0.8699081  -0.6196306  -0.53126675]\n",
      "state : [0 0 0 0 0 0 0 0 0 0 0 0 0 0 0 0 0 0 0 0 0 0 0 0 0 1 1 6 7 4 0 0 0 0 0 0 0\n",
      " 0 0 0 0 0 0 0 0 0 0 0]\n",
      "Q_values : [-4.023583  -3.5847952 -2.3610153 -2.4302175]\n",
      "state : [0 1 1 0 4 0 0 0 0 0 2 0 0 0 0 0 0 0 0 0 0 0 0 0 0 1 1 0 4 0 0 0 0 1 4 1 3\n",
      " 0 2 0 0 0 3 0 6 0 0 0]\n",
      "Q_values : [2.1891365 1.8307437 7.135968  4.31791  ]\n",
      "state : [0 1 1 0 0 0 0 0 0 0 0 1 0 0 0 0 0 0 0 0 0 0 0 0 0 1 1 0 0 0 0 0 0 0 0 1 0\n",
      " 0 3 0 4 0 3 0 0 0 4 0]\n",
      "Q_values : [1.5304666 1.6557809 1.5934447 1.6795939]\n",
      "state : [0 1 1 0 0 0 0 0 0 0 0 0 0 0 0 0 0 0 0 0 0 0 0 0 0 1 1 0 0 0 0 0 0 0 0 0 0\n",
      " 0 1 0 3 0 0 0 0 0 2 0]\n",
      "Q_values : [0.42228132 0.5958698  0.25997835 0.5466996 ]\n",
      "state : [0 1 0 0 0 0 0 0 0 0 0 0 0 0 0 0 0 0 0 0 0 0 0 0 0 1 0 0 0 0 0 0 0 0 0 0 0\n",
      " 0 0 0 0 0 0 0 0 0 0 0]\n",
      "Q_values : [0.7138003  0.5734629  0.42291963 0.50159544]\n",
      "episode : 163\n",
      "Step #100.00 (0ms ?*RT. ?UPS, TraCI: 0ms, vehicles TOT 33 ACT 1 BUF 0)                     \n",
      " Retrying in 1 seconds\n"
     ]
    },
    {
     "name": "stderr",
     "output_type": "stream",
     "text": [
      "Warning: Environment variable SUMO_HOME is not set properly, disabling XML validation. Set 'auto' or 'always' for web lookups.\n"
     ]
    },
    {
     "name": "stdout",
     "output_type": "stream",
     "text": [
      "state : [0 0 0 0 0 0 0 0 0 0 0 0 0 0 0 0 0 0 0 0 0 0 0 0 0 0 0 0 0 0 0 0 0 0 0 0 0\n",
      " 0 0 0 0 0 0 0 0 0 0 0]\n",
      "Q_values : [-0.4285473  -0.621528   -0.48745105 -0.5076524 ]\n",
      "state : [0 1 0 0 1 1 0 0 0 0 0 0 0 0 0 0 0 0 0 0 0 0 0 0 0 1 0 4 6 6 0 0 0 4 4 1 2\n",
      " 0 0 0 0 1 0 0 0 1 0 0]\n",
      "Q_values : [-2.8396451 -3.2342064 -2.0447104 -2.6889918]\n",
      "state : [0 1 0 0 0 6 0 0 0 0 0 1 0 0 0 0 0 0 0 0 0 0 0 0 0 1 0 0 0 6 0 0 0 1 1 4 3\n",
      " 0 0 0 2 0 3 0 0 0 5 0]\n",
      "Q_values : [1.1100786  1.641468   0.36960763 5.275631  ]\n",
      "episode : 164\n",
      "Step #100.00 (0ms ?*RT. ?UPS, TraCI: 0ms, vehicles TOT 33 ACT 1 BUF 0)                     \n",
      " Retrying in 1 seconds\n"
     ]
    },
    {
     "name": "stderr",
     "output_type": "stream",
     "text": [
      "Warning: Environment variable SUMO_HOME is not set properly, disabling XML validation. Set 'auto' or 'always' for web lookups.\n"
     ]
    },
    {
     "name": "stdout",
     "output_type": "stream",
     "text": [
      "state : [0 0 0 0 0 0 0 0 0 0 0 0 0 0 0 0 0 0 0 0 0 0 0 0 0 0 0 0 0 0 0 0 0 0 0 0 0\n",
      " 0 0 0 0 0 0 0 0 0 0 0]\n",
      "Q_values : [-1.0530849  -0.92860675 -0.61236787 -0.5222937 ]\n",
      "state : [0 0 0 0 0 0 0 0 0 0 0 0 0 0 0 0 0 0 0 0 0 0 0 0 1 1 1 3 3 1 0 0 0 0 0 0 0\n",
      " 0 0 0 0 0 0 0 0 0 0 0]\n",
      "Q_values : [-2.127767  -1.8204625 -1.3452947 -1.2591705]\n",
      "state : [0 0 0 0 0 0 0 0 0 0 0 0 0 0 0 0 0 0 0 0 0 0 0 0 0 1 1 6 7 4 0 0 0 0 0 0 0\n",
      " 0 0 0 0 0 0 0 0 0 0 0]\n",
      "Q_values : [-4.425802  -3.7715049 -2.6387491 -2.6963122]\n",
      "state : [0 0 1 0 4 0 0 0 0 0 2 0 0 0 0 0 0 0 0 0 0 0 0 0 0 0 1 0 4 0 0 0 0 1 4 1 3\n",
      " 0 2 0 0 0 3 0 5 0 0 0]\n",
      "Q_values : [1.9857597 2.2805636 6.4408674 3.3818104]\n",
      "state : [0 0 1 0 0 0 0 0 0 0 0 1 0 0 0 0 0 0 0 0 0 0 0 0 0 0 1 0 0 0 0 0 0 0 0 1 0\n",
      " 0 3 0 4 0 3 0 6 0 4 0]\n",
      "Q_values : [0.51413214 0.6322295  0.50913656 0.8961434 ]\n",
      "state : [0 0 1 0 0 0 0 0 0 0 0 0 0 0 0 0 0 0 0 0 0 0 0 0 0 0 1 0 0 0 0 0 0 0 0 0 0\n",
      " 0 1 0 3 0 0 0 0 0 2 0]\n",
      "Q_values : [0.2164051  0.66792595 0.35437667 0.5833082 ]\n",
      "state : [0 0 0 0 0 0 0 0 0 0 0 0 0 0 0 0 0 0 0 0 0 0 0 0 0 0 0 0 0 0 0 0 0 0 0 0 0\n",
      " 0 0 0 0 1 0 0 0 0 0 0]\n",
      "Q_values : [-0.13194403 -0.1724991  -0.02494514 -0.10548854]\n",
      "episode : 165\n",
      "Step #100.00 (0ms ?*RT. ?UPS, TraCI: 0ms, vehicles TOT 33 ACT 0 BUF 0)                     \n",
      " Retrying in 1 seconds\n"
     ]
    },
    {
     "name": "stderr",
     "output_type": "stream",
     "text": [
      "Warning: Environment variable SUMO_HOME is not set properly, disabling XML validation. Set 'auto' or 'always' for web lookups.\n"
     ]
    },
    {
     "name": "stdout",
     "output_type": "stream",
     "text": [
      "state : [0 0 0 0 0 0 0 0 0 0 0 0 0 0 0 0 0 0 0 0 0 0 0 0 0 0 0 0 0 0 0 0 0 0 0 0 0\n",
      " 0 0 0 0 0 0 0 0 0 0 0]\n",
      "Q_values : [-0.68277615 -0.651461   -0.47290868 -0.5152853 ]\n",
      "state : [0 0 0 0 0 0 0 0 0 0 0 0 0 0 0 0 0 0 0 0 0 0 0 0 1 1 1 3 3 1 0 0 0 0 0 0 0\n",
      " 0 0 0 0 0 0 0 0 0 0 0]\n",
      "Q_values : [-1.584846  -1.4546398 -1.1844417 -1.2693355]\n",
      "state : [0 0 0 0 0 0 0 0 0 0 0 0 0 0 0 0 0 0 0 0 0 0 0 0 0 1 1 6 7 4 0 0 0 0 0 0 0\n",
      " 0 0 0 0 0 0 0 0 0 0 0]\n",
      "Q_values : [-3.8235388 -3.3789687 -2.89838   -3.0833926]\n",
      "state : [0 1 1 0 0 1 0 0 0 0 0 0 0 0 0 0 0 0 0 0 0 0 0 0 0 1 1 3 4 6 0 0 0 4 4 1 2\n",
      " 0 0 0 0 0 0 0 0 1 2 0]\n",
      "Q_values : [-3.2767534 -2.8409677 -2.1520226 -1.7502011]\n",
      "state : [0 1 1 0 2 0 0 0 0 0 0 0 0 0 0 0 0 0 0 0 0 0 0 0 0 1 1 0 4 1 0 0 0 4 4 4 5\n",
      " 0 0 0 0 0 0 0 4 0 1 0]\n",
      "Q_values : [-2.2852774  -2.1045732  -0.45038548 -1.4887536 ]\n",
      "episode : 166\n",
      "Step #100.00 (0ms ?*RT. ?UPS, TraCI: 1ms, vehicles TOT 33 ACT 2 BUF 0)                     \n",
      " Retrying in 1 seconds\n"
     ]
    },
    {
     "name": "stderr",
     "output_type": "stream",
     "text": [
      "Warning: Environment variable SUMO_HOME is not set properly, disabling XML validation. Set 'auto' or 'always' for web lookups.\n"
     ]
    },
    {
     "name": "stdout",
     "output_type": "stream",
     "text": [
      "state : [0 0 0 0 0 0 0 0 0 0 0 0 0 0 0 0 0 0 0 0 0 0 0 0 0 0 0 0 0 0 0 0 0 0 0 0 0\n",
      " 0 0 0 0 0 0 0 0 0 0 0]\n",
      "Q_values : [-0.7140749  -0.68455124 -0.3306863  -0.38331196]\n",
      "state : [0 0 0 0 0 0 0 0 0 0 0 0 0 0 0 0 0 0 0 0 0 0 0 0 0 1 1 6 7 4 0 0 0 0 0 0 0\n",
      " 0 0 0 0 0 0 0 0 0 0 0]\n",
      "Q_values : [-3.2982838 -3.030891  -1.819509  -2.6399057]\n",
      "state : [0 1 1 0 0 1 0 0 0 0 0 0 0 0 0 0 0 0 0 0 0 0 0 0 0 1 1 3 4 6 0 0 0 4 4 1 2\n",
      " 0 0 0 0 0 0 0 0 1 2 0]\n",
      "Q_values : [-1.6785     -1.4972534   0.28535616  0.8202947 ]\n",
      "state : [0 1 1 0 2 0 0 0 0 0 0 0 0 0 0 0 0 0 0 0 0 0 0 0 0 1 1 0 4 1 0 0 0 4 4 4 5\n",
      " 0 0 0 0 0 0 0 4 0 1 0]\n",
      "Q_values : [-0.68971264 -0.8193791   2.0731866   0.00242463]\n",
      "state : [0 1 0 0 0 1 0 0 0 0 1 4 0 0 0 0 0 0 0 0 0 0 0 0 0 1 0 0 0 1 0 0 0 0 1 4 0\n",
      " 0 0 0 2 1 3 0 0 0 2 0]\n",
      "Q_values : [4.0929193 4.2023396 4.676424  7.094869 ]\n",
      "episode : 167\n",
      "Step #100.00 (0ms ?*RT. ?UPS, TraCI: 0ms, vehicles TOT 33 ACT 2 BUF 0)                     \n",
      " Retrying in 1 seconds\n"
     ]
    },
    {
     "name": "stderr",
     "output_type": "stream",
     "text": [
      "Warning: Environment variable SUMO_HOME is not set properly, disabling XML validation. Set 'auto' or 'always' for web lookups.\n"
     ]
    },
    {
     "name": "stdout",
     "output_type": "stream",
     "text": [
      "state : [0 0 0 0 0 0 0 0 0 0 0 0 0 0 0 0 0 0 0 0 0 0 0 0 0 0 0 0 0 0 0 0 0 0 0 0 0\n",
      " 0 0 0 0 0 0 0 0 0 0 0]\n",
      "Q_values : [-0.3290853  -0.34428418 -0.44322237 -0.5182406 ]\n",
      "state : [0 0 0 0 0 0 0 0 0 0 0 0 0 0 0 0 0 0 0 0 0 0 0 0 0 1 1 6 7 4 0 0 0 0 0 0 0\n",
      " 0 0 0 0 0 0 0 0 0 0 0]\n",
      "Q_values : [-3.1219141 -2.791689  -3.2331374 -3.2739892]\n",
      "state : [0 1 0 0 1 1 0 0 0 0 0 0 0 0 0 0 0 0 0 0 0 0 0 0 0 1 0 4 6 6 0 0 0 4 4 1 2\n",
      " 0 0 0 0 1 0 0 0 1 0 0]\n",
      "Q_values : [-2.9584696 -2.5817626 -1.7020993 -1.8766137]\n",
      "state : [0 1 0 0 0 4 0 0 0 0 0 0 0 0 0 0 0 0 0 0 0 0 0 0 0 1 0 0 1 6 0 0 0 4 4 4 5\n",
      " 0 0 0 0 0 0 0 0 0 5 0]\n",
      "Q_values : [-1.6469384 -1.0546424 -0.7838632  1.6949608]\n",
      "state : [0 1 0 0 1 0 0 0 0 0 2 0 0 0 0 0 0 0 0 0 0 0 0 0 0 1 0 0 1 0 0 0 0 1 4 1 3\n",
      " 0 2 0 0 0 3 0 5 0 4 0]\n",
      "Q_values : [0.33036405 0.39510036 1.7776122  0.84457386]\n",
      "episode : 168\n",
      "Step #100.00 (0ms ?*RT. ?UPS, TraCI: 0ms, vehicles TOT 33 ACT 2 BUF 0)                     \n",
      " Retrying in 1 seconds\n"
     ]
    },
    {
     "name": "stderr",
     "output_type": "stream",
     "text": [
      "Warning: Environment variable SUMO_HOME is not set properly, disabling XML validation. Set 'auto' or 'always' for web lookups.\n"
     ]
    },
    {
     "name": "stdout",
     "output_type": "stream",
     "text": [
      "state : [0 0 0 0 0 0 0 0 0 0 0 0 0 0 0 0 0 0 0 0 0 0 0 0 0 0 0 0 0 0 0 0 0 0 0 0 0\n",
      " 0 0 0 0 0 0 0 0 0 0 0]\n",
      "Q_values : [-0.84088665 -0.7137362  -0.4348755  -0.4592876 ]\n",
      "state : [0 0 0 0 0 0 0 0 0 0 0 0 0 0 0 0 0 0 0 0 0 0 0 0 1 1 1 3 3 1 0 0 0 0 0 0 0\n",
      " 0 0 0 0 0 0 0 0 0 0 0]\n",
      "Q_values : [-1.7884855 -1.443713  -1.0469477 -1.3022727]\n",
      "state : [0 0 1 0 1 1 0 0 0 0 0 0 0 0 0 0 0 0 0 0 0 0 0 0 0 0 1 4 6 6 0 0 0 4 4 1 2\n",
      " 0 0 0 0 0 0 1 0 1 0 0]\n",
      "Q_values : [-3.8091807  -2.8043566   0.50621295 -0.79345286]\n",
      "state : [0 0 1 0 1 0 0 0 0 0 2 0 0 0 0 0 0 0 0 0 0 0 0 0 0 0 1 0 1 0 0 0 0 1 4 1 3\n",
      " 0 2 0 0 0 3 0 5 0 4 0]\n",
      "Q_values : [0.6988868 0.7284473 2.925404  1.2225482]\n",
      "state : [0 0 1 0 0 0 0 0 0 0 0 1 0 0 0 0 0 0 0 0 0 0 0 0 0 0 1 0 0 0 0 0 0 0 0 1 0\n",
      " 0 3 0 4 0 3 0 6 0 1 0]\n",
      "Q_values : [0.7917934 0.7424395 0.5822394 1.4728353]\n",
      "state : [0 0 1 0 0 0 0 0 0 0 0 0 0 0 0 0 0 0 0 0 0 0 0 0 0 0 1 0 0 0 0 0 0 0 0 0 0\n",
      " 0 1 0 3 0 0 0 0 0 0 0]\n",
      "Q_values : [0.1872874  0.5896239  0.27624232 0.6030648 ]\n",
      "state : [0 0 1 0 0 0 0 0 0 0 0 0 0 0 0 0 0 0 0 0 0 0 0 0 0 0 1 0 0 0 0 0 0 0 0 0 0\n",
      " 0 0 0 0 0 0 0 0 0 0 0]\n",
      "Q_values : [0.30046344 0.39754242 0.2918393  0.45303237]\n",
      "state : [0 0 1 0 0 0 0 0 0 0 0 0 0 0 0 0 0 0 0 0 0 0 0 0 0 0 1 0 0 0 0 0 0 0 0 0 0\n",
      " 0 0 0 0 0 0 0 0 0 0 0]\n",
      "Q_values : [0.30786106 0.4109617  0.2649614  0.4548217 ]\n",
      "episode : 169\n",
      "Step #100.00 (0ms ?*RT. ?UPS, TraCI: 0ms, vehicles TOT 33 ACT 1 BUF 0)                     \n",
      " Retrying in 1 seconds\n"
     ]
    },
    {
     "name": "stderr",
     "output_type": "stream",
     "text": [
      "Warning: Environment variable SUMO_HOME is not set properly, disabling XML validation. Set 'auto' or 'always' for web lookups.\n"
     ]
    },
    {
     "name": "stdout",
     "output_type": "stream",
     "text": [
      "state : [0 0 0 0 0 0 0 0 0 0 0 0 0 0 0 0 0 0 0 0 0 0 0 0 0 0 0 0 0 0 0 0 0 0 0 0 0\n",
      " 0 0 0 0 0 0 0 0 0 0 0]\n",
      "Q_values : [-0.74410003 -0.5527643  -0.6296569  -0.6067847 ]\n",
      "state : [0 0 0 0 0 0 0 0 0 0 0 0 0 0 0 0 0 0 0 0 0 0 0 0 0 1 1 6 7 4 0 0 0 0 0 0 0\n",
      " 0 0 0 0 0 0 0 0 0 0 0]\n",
      "Q_values : [-3.9649196 -3.0153296 -3.3291864 -3.182254 ]\n",
      "state : [0 1 0 0 0 4 0 0 0 0 0 0 0 0 0 0 0 0 0 0 0 0 0 0 0 1 0 0 1 6 0 0 0 4 4 4 5\n",
      " 0 0 0 0 0 0 0 0 0 5 0]\n",
      "Q_values : [-2.299368  -1.6873579 -1.6217986  1.0136356]\n",
      "state : [0 1 0 0 1 0 0 0 0 0 2 0 0 0 0 0 0 0 0 0 0 0 0 0 0 1 0 0 1 0 0 0 0 1 4 1 3\n",
      " 0 2 0 0 0 3 0 5 0 4 0]\n",
      "Q_values : [-0.39784193 -0.20804553  0.8799664   0.12165251]\n",
      "state : [0 1 0 0 0 0 0 0 0 0 0 1 0 0 0 0 0 0 0 0 0 0 0 0 0 1 0 0 0 0 0 0 0 0 0 1 0\n",
      " 0 3 0 4 0 3 0 6 0 1 0]\n",
      "Q_values : [0.2584393  0.19782895 0.00898859 1.1583717 ]\n",
      "state : [0 0 0 0 0 0 0 0 0 0 0 0 0 0 0 0 0 0 0 0 0 0 0 0 0 0 0 0 0 0 0 0 0 0 0 0 0\n",
      " 0 0 0 0 0 0 1 0 0 0 0]\n",
      "Q_values : [0.2643259  0.03321979 0.23746175 0.30543244]\n",
      "state : [0 0 0 0 0 0 0 0 0 0 0 0 0 0 0 0 0 0 0 0 0 0 0 0 0 0 0 0 0 0 0 0 0 0 0 0 0\n",
      " 0 0 0 0 0 0 0 0 0 0 0]\n",
      "Q_values : [-0.7827317  -0.81938976 -0.49261892 -0.27774823]\n",
      "episode : 170\n",
      "Step #100.00 (0ms ?*RT. ?UPS, TraCI: 0ms, vehicles TOT 33 ACT 0 BUF 0)                     \n",
      " Retrying in 1 seconds\n"
     ]
    },
    {
     "name": "stderr",
     "output_type": "stream",
     "text": [
      "Warning: Environment variable SUMO_HOME is not set properly, disabling XML validation. Set 'auto' or 'always' for web lookups.\n"
     ]
    },
    {
     "name": "stdout",
     "output_type": "stream",
     "text": [
      "state : [0 0 0 0 0 0 0 0 0 0 0 0 0 0 0 0 0 0 0 0 0 0 0 0 0 0 0 0 0 0 0 0 0 0 0 0 0\n",
      " 0 0 0 0 0 0 0 0 0 0 0]\n",
      "Q_values : [-0.72242343 -0.78112644 -0.38897333 -0.23185575]\n",
      "state : [0 0 0 0 0 0 0 0 0 0 0 0 0 0 0 0 0 0 0 0 0 0 0 0 1 1 1 3 3 1 0 0 0 0 0 0 0\n",
      " 0 0 0 0 0 0 0 0 0 0 0]\n",
      "Q_values : [-1.7103271 -1.6799222 -0.981547  -1.0162108]\n",
      "state : [0 1 0 0 1 1 0 0 0 0 0 0 0 0 0 0 0 0 0 0 0 0 0 0 0 1 0 4 6 6 0 0 0 4 4 1 2\n",
      " 0 0 0 0 1 0 0 0 1 0 0]\n",
      "Q_values : [-3.2160296  -3.0217688   1.3142353   0.22829998]\n",
      "episode : 171\n",
      "Step #100.00 (0ms ?*RT. ?UPS, TraCI: 0ms, vehicles TOT 33 ACT 11 BUF 0)                    \n",
      " Retrying in 1 seconds\n"
     ]
    },
    {
     "name": "stderr",
     "output_type": "stream",
     "text": [
      "Warning: Environment variable SUMO_HOME is not set properly, disabling XML validation. Set 'auto' or 'always' for web lookups.\n"
     ]
    },
    {
     "name": "stdout",
     "output_type": "stream",
     "text": [
      "state : [0 0 0 0 0 0 0 0 0 0 0 0 0 0 0 0 0 0 0 0 0 0 0 0 1 1 1 3 3 1 0 0 0 0 0 0 0\n",
      " 0 0 0 0 0 0 0 0 0 0 0]\n",
      "Q_values : [-0.37081295 -0.3507341  -0.42473346 -0.5043348 ]\n",
      "state : [0 1 0 0 0 0 0 0 0 0 1 4 0 0 0 0 0 0 0 0 0 0 0 0 0 1 0 0 0 0 0 0 0 0 1 4 0\n",
      " 0 0 0 2 1 3 0 0 0 5 0]\n",
      "Q_values : [2.1536696 1.4484359 1.2690792 4.249488 ]\n",
      "state : [0 1 0 0 0 0 0 0 0 0 1 0 0 0 0 0 0 0 0 0 0 0 0 0 0 1 0 0 0 0 0 0 0 0 1 0 0\n",
      " 0 4 0 0 0 0 0 0 0 0 0]\n",
      "Q_values : [1.0455022  0.80223143 0.18162724 0.49328837]\n",
      "state : [0 0 0 0 0 0 0 0 0 0 1 0 0 0 0 0 0 0 0 0 0 0 0 0 0 0 0 0 0 0 0 0 0 0 1 0 0\n",
      " 0 3 0 0 0 0 1 0 0 0 0]\n",
      "Q_values : [0.4250464  0.11263277 0.16772267 0.28114542]\n",
      "state : [0 0 0 0 0 0 0 0 0 0 1 0 0 0 0 0 0 0 0 0 0 0 0 0 0 0 0 0 0 0 0 0 0 0 1 0 0\n",
      " 0 0 0 0 0 0 0 0 0 0 0]\n",
      "Q_values : [-0.16598171 -0.40542546 -0.21997502 -0.12087336]\n",
      "episode : 172\n",
      "Step #100.00 (0ms ?*RT. ?UPS, TraCI: 0ms, vehicles TOT 33 ACT 1 BUF 0)                     \n",
      " Retrying in 1 seconds\n"
     ]
    },
    {
     "name": "stderr",
     "output_type": "stream",
     "text": [
      "Warning: Environment variable SUMO_HOME is not set properly, disabling XML validation. Set 'auto' or 'always' for web lookups.\n"
     ]
    },
    {
     "name": "stdout",
     "output_type": "stream",
     "text": [
      "state : [0 0 0 0 0 0 0 0 0 0 0 0 0 0 0 0 0 0 0 0 0 0 0 0 1 1 1 3 3 1 0 0 0 0 0 0 0\n",
      " 0 0 0 0 0 0 0 0 0 0 0]\n",
      "Q_values : [-1.7195125 -2.0382752 -1.2817231 -1.4354243]\n",
      "state : [0 0 0 0 0 0 0 0 0 0 0 0 0 0 0 0 0 0 0 0 0 0 0 0 0 1 1 6 7 4 0 0 0 0 0 0 0\n",
      " 0 0 0 0 0 0 0 0 0 0 0]\n",
      "Q_values : [-3.8432226 -4.373464  -2.8009706 -3.351543 ]\n",
      "state : [0 1 1 0 0 1 0 0 0 0 0 0 0 0 0 0 0 0 0 0 0 0 0 0 0 1 1 3 4 6 0 0 0 4 4 1 2\n",
      " 0 0 0 0 0 0 0 0 1 2 0]\n",
      "Q_values : [-2.9208746  -3.217713   -1.2321477  -0.71485054]\n",
      "state : [0 1 1 0 2 0 0 0 0 0 0 0 0 0 0 0 0 0 0 0 0 0 0 0 0 1 1 0 4 1 0 0 0 4 4 4 5\n",
      " 0 0 0 0 0 0 0 4 0 1 0]\n",
      "Q_values : [-1.0659748 -1.7535703  1.261198  -0.6556776]\n",
      "state : [0 1 1 0 0 1 0 0 0 0 0 1 0 0 0 0 0 0 0 0 0 0 0 0 0 1 1 0 0 1 0 0 0 1 1 4 3\n",
      " 0 0 0 2 0 3 0 5 0 4 0]\n",
      "Q_values : [0.2631865 0.3622769 0.9791955 2.1490204]\n",
      "state : [0 1 1 0 0 0 0 0 0 0 1 0 0 0 0 0 0 0 0 0 0 0 0 0 0 1 1 0 0 0 0 0 0 0 1 0 0\n",
      " 0 4 0 2 0 3 0 1 0 2 0]\n",
      "Q_values : [1.3744699  1.3107985  1.1281743  0.85367775]\n",
      "state : [0 0 1 0 0 0 0 0 0 0 1 0 0 0 0 0 0 0 0 0 0 0 0 0 0 0 1 0 0 0 0 0 0 0 1 0 0\n",
      " 0 3 0 0 0 0 1 0 0 0 0]\n",
      "Q_values : [1.3085647 1.2004303 1.7853643 0.9496604]\n",
      "state : [0 0 1 0 0 0 0 0 0 0 0 0 0 0 0 0 0 0 0 0 0 0 0 0 0 0 1 0 0 0 0 0 0 0 0 0 0\n",
      " 0 0 0 1 0 0 0 0 0 0 0]\n",
      "Q_values : [0.2924113  0.60967565 0.5989954  0.56316274]\n",
      "state : [0 0 0 0 0 0 0 0 0 0 0 0 0 0 0 0 0 0 0 0 0 0 0 0 0 0 0 0 0 0 0 0 0 0 0 0 0\n",
      " 0 0 0 0 1 0 0 0 0 0 0]\n",
      "Q_values : [ 0.09604344 -0.12439609  0.31154898 -0.01696041]\n",
      "episode : 173\n",
      "Step #100.00 (0ms ?*RT. ?UPS, TraCI: 1ms, vehicles TOT 33 ACT 0 BUF 0)                     \n",
      " Retrying in 1 seconds\n"
     ]
    },
    {
     "name": "stderr",
     "output_type": "stream",
     "text": [
      "Warning: Environment variable SUMO_HOME is not set properly, disabling XML validation. Set 'auto' or 'always' for web lookups.\n"
     ]
    },
    {
     "name": "stdout",
     "output_type": "stream",
     "text": [
      "state : [0 0 0 0 0 0 0 0 0 0 0 0 0 0 0 0 0 0 0 0 0 0 0 0 0 0 0 0 0 0 0 0 0 0 0 0 0\n",
      " 0 0 0 0 0 0 0 0 0 0 0]\n",
      "Q_values : [-0.37430847 -0.6743269   0.00173658 -0.39123076]\n",
      "state : [0 0 0 0 0 0 0 0 0 0 0 0 0 0 0 0 0 0 0 0 0 0 0 0 1 1 1 3 3 1 0 0 0 0 0 0 0\n",
      " 0 0 0 0 0 0 0 0 0 0 0]\n",
      "Q_values : [-0.7318849 -1.1109073 -0.3545944 -0.7707957]\n",
      "state : [0 1 0 0 1 1 0 0 0 0 0 0 0 0 0 0 0 0 0 0 0 0 0 0 0 1 0 4 6 6 0 0 0 4 4 1 2\n",
      " 0 0 0 0 1 0 0 0 1 0 0]\n",
      "Q_values : [-2.3286767  -2.9430568  -0.58546764 -1.0681944 ]\n",
      "state : [0 1 0 0 1 0 0 0 0 0 4 1 0 0 0 0 0 0 0 0 0 0 0 0 0 1 0 0 1 0 0 0 0 0 4 1 0\n",
      " 0 3 0 0 0 3 0 6 0 0 0]\n",
      "Q_values : [1.8619722 2.266686  3.8388033 1.229505 ]\n",
      "state : [0 1 0 0 0 0 0 0 0 0 0 1 0 0 0 0 0 0 0 0 0 0 0 0 0 1 0 0 0 0 0 0 0 0 0 1 0\n",
      " 0 0 0 4 0 0 0 0 0 1 0]\n",
      "Q_values : [1.3507372  2.02423    0.63348675 0.9796641 ]\n",
      "episode : 174\n",
      "Step #100.00 (0ms ?*RT. ?UPS, TraCI: 0ms, vehicles TOT 33 ACT 1 BUF 0)                     \n",
      " Retrying in 1 seconds\n"
     ]
    },
    {
     "name": "stderr",
     "output_type": "stream",
     "text": [
      "Warning: Environment variable SUMO_HOME is not set properly, disabling XML validation. Set 'auto' or 'always' for web lookups.\n"
     ]
    },
    {
     "name": "stdout",
     "output_type": "stream",
     "text": [
      "state : [0 0 0 0 0 0 0 0 0 0 0 0 0 0 0 0 0 0 0 0 0 0 0 0 0 0 0 0 0 0 0 0 0 0 0 0 0\n",
      " 0 0 0 0 0 0 0 0 0 0 0]\n",
      "Q_values : [-0.7332872  -0.6354525  -0.6198462  -0.29664585]\n",
      "state : [0 0 0 0 0 0 0 0 0 0 0 0 0 0 0 0 0 0 0 0 0 0 0 0 1 1 1 3 3 1 0 0 0 0 0 0 0\n",
      " 0 0 0 0 0 0 0 0 0 0 0]\n",
      "Q_values : [-1.7699034 -1.7775326 -1.5600989 -1.0888708]\n",
      "state : [0 0 0 0 0 0 0 0 0 0 0 0 0 0 0 0 0 0 0 0 0 0 0 0 0 1 1 6 7 4 0 0 0 0 0 0 0\n",
      " 0 0 0 0 0 0 0 0 0 0 0]\n",
      "Q_values : [-4.0916247 -4.185723  -3.5457983 -2.805558 ]\n",
      "state : [0 0 1 0 4 2 0 0 0 0 0 0 0 0 0 0 0 0 0 0 0 0 0 0 0 0 1 0 6 4 0 0 0 4 4 4 5\n",
      " 0 0 0 0 0 0 1 2 0 0 0]\n",
      "Q_values : [-2.9040785 -2.4690816  3.8449805  4.079832 ]\n",
      "state : [0 0 1 0 6 0 0 0 0 0 4 0 0 0 0 0 0 0 0 0 0 0 0 0 0 0 1 0 6 0 0 0 0 0 4 0 0\n",
      " 0 4 0 0 0 3 0 3 0 0 0]\n",
      "Q_values : [ 7.649522   8.029963  12.416983   6.4009643]\n",
      "state : [0 0 1 0 0 0 0 0 0 0 0 0 0 0 0 0 0 0 0 0 0 0 0 0 0 0 1 0 0 0 0 0 0 0 0 0 0\n",
      " 0 1 0 4 0 0 0 0 0 6 0]\n",
      "Q_values : [0.1570016  0.9007604  0.27793846 0.85383344]\n",
      "state : [0 0 0 0 0 0 0 0 0 0 0 0 0 0 0 0 0 0 0 0 0 0 0 0 0 0 0 0 0 0 0 0 0 0 0 0 0\n",
      " 0 0 0 3 1 0 0 0 0 5 0]\n",
      "Q_values : [0.22089827 0.28034985 0.16412716 0.301543  ]\n",
      "episode : 175\n",
      "Step #100.00 (0ms ?*RT. ?UPS, TraCI: 0ms, vehicles TOT 33 ACT 0 BUF 0)                     \n",
      " Retrying in 1 seconds\n"
     ]
    },
    {
     "name": "stderr",
     "output_type": "stream",
     "text": [
      "Warning: Environment variable SUMO_HOME is not set properly, disabling XML validation. Set 'auto' or 'always' for web lookups.\n"
     ]
    },
    {
     "name": "stdout",
     "output_type": "stream",
     "text": [
      "state : [0 0 0 0 0 0 0 0 0 0 0 0 0 0 0 0 0 0 0 0 0 0 0 0 1 1 1 3 3 1 0 0 0 0 0 0 0\n",
      " 0 0 0 0 0 0 0 0 0 0 0]\n",
      "Q_values : [-0.4811694  -0.49977624 -0.29579142 -0.43800044]\n",
      "state : [0 0 0 0 0 0 0 0 0 0 0 0 0 0 0 0 0 0 0 0 0 0 0 0 0 1 1 6 7 4 0 0 0 0 0 0 0\n",
      " 0 0 0 0 0 0 0 0 0 0 0]\n",
      "Q_values : [-1.7928346 -1.7964482 -1.4065154 -2.1102366]\n",
      "state : [0 1 1 0 0 1 0 0 0 0 0 0 0 0 0 0 0 0 0 0 0 0 0 0 0 1 1 3 4 6 0 0 0 4 4 1 2\n",
      " 0 0 0 0 0 0 0 0 1 2 0]\n",
      "Q_values : [-2.074953  -2.3514574 -1.2412939 -1.258341 ]\n",
      "state : [0 1 1 0 0 4 0 0 0 0 0 0 0 0 0 0 0 0 0 0 0 0 0 0 0 1 1 0 1 6 0 0 0 4 4 4 5\n",
      " 0 0 0 0 0 0 0 0 0 4 0]\n",
      "Q_values : [-0.45236352 -0.7481588  -0.16571137  0.91933703]\n",
      "state : [0 1 1 0 1 0 0 0 0 0 2 0 0 0 0 0 0 0 0 0 0 0 0 0 0 1 1 0 1 0 0 0 0 1 4 1 3\n",
      " 0 2 0 0 0 3 0 5 0 1 0]\n",
      "Q_values : [1.6032472 1.1885875 2.4220183 1.4554051]\n",
      "state : [0 1 1 0 0 0 0 0 0 0 0 1 0 0 0 0 0 0 0 0 0 0 0 0 0 1 1 0 0 0 0 0 0 0 0 1 0\n",
      " 0 3 0 4 0 3 0 6 0 1 0]\n",
      "Q_values : [0.73825693 0.88097394 0.329663   1.136901  ]\n",
      "state : [0 1 1 0 0 0 0 0 0 0 0 0 0 0 0 0 0 0 0 0 0 0 0 0 0 1 1 0 0 0 0 0 0 0 0 0 0\n",
      " 0 1 0 3 0 0 0 0 0 0 0]\n",
      "Q_values : [0.35155007 0.66046774 0.23700574 0.61214644]\n",
      "state : [0 1 0 0 0 0 0 0 0 0 0 0 0 0 0 0 0 0 0 0 0 0 0 0 0 1 0 0 0 0 0 0 0 0 0 0 0\n",
      " 0 0 0 0 1 0 0 0 0 0 0]\n",
      "Q_values : [0.14760616 0.14077209 0.00549032 0.1098212 ]\n",
      "episode : 176\n",
      "Step #100.00 (0ms ?*RT. ?UPS, TraCI: 0ms, vehicles TOT 33 ACT 0 BUF 0)                     \n",
      " Retrying in 1 seconds\n"
     ]
    },
    {
     "name": "stderr",
     "output_type": "stream",
     "text": [
      "Warning: Environment variable SUMO_HOME is not set properly, disabling XML validation. Set 'auto' or 'always' for web lookups.\n"
     ]
    },
    {
     "name": "stdout",
     "output_type": "stream",
     "text": [
      "state : [0 0 1 0 4 0 0 0 0 0 0 0 0 0 0 0 0 0 0 0 0 0 0 0 0 0 1 0 6 0 0 0 0 4 4 4 5\n",
      " 0 0 0 0 0 0 0 5 0 0 0]\n",
      "Q_values : [-1.4431047 -0.8585994  2.245681   0.2048203]\n",
      "state : [0 0 1 0 0 0 0 0 0 0 0 1 0 0 0 0 0 0 0 0 0 0 0 0 0 0 1 0 0 0 0 0 0 1 1 4 3\n",
      " 0 0 0 2 0 3 0 3 0 6 0]\n",
      "Q_values : [-0.5886331  -0.23911233 -0.28435582  0.9512617 ]\n",
      "state : [0 0 1 0 0 0 0 0 0 0 0 0 0 0 0 0 0 0 0 0 0 0 0 0 0 0 1 0 0 0 0 0 0 0 0 0 0\n",
      " 0 0 0 0 0 0 0 0 0 0 0]\n",
      "Q_values : [0.20705488 0.38390857 0.2608324  0.5941713 ]\n",
      "episode : 177\n",
      "Step #100.00 (0ms ?*RT. ?UPS, TraCI: 0ms, vehicles TOT 33 ACT 1 BUF 0)                     \n",
      " Retrying in 1 seconds\n"
     ]
    },
    {
     "name": "stderr",
     "output_type": "stream",
     "text": [
      "Warning: Environment variable SUMO_HOME is not set properly, disabling XML validation. Set 'auto' or 'always' for web lookups.\n"
     ]
    },
    {
     "name": "stdout",
     "output_type": "stream",
     "text": [
      "state : [0 0 0 0 0 0 0 0 0 0 0 0 0 0 0 0 0 0 0 0 0 0 0 0 1 1 1 3 3 1 0 0 0 0 0 0 0\n",
      " 0 0 0 0 0 0 0 0 0 0 0]\n",
      "Q_values : [-1.4205012 -1.2756292 -1.0728774 -1.0300449]\n",
      "state : [0 0 0 0 0 0 0 0 0 0 0 0 0 0 0 0 0 0 0 0 0 0 0 0 0 1 1 6 7 4 0 0 0 0 0 0 0\n",
      " 0 0 0 0 0 0 0 0 0 0 0]\n",
      "Q_values : [-3.4271421 -2.9727302 -2.2431874 -2.314399 ]\n",
      "state : [0 1 1 0 2 0 0 0 0 0 0 0 0 0 0 0 0 0 0 0 0 0 0 0 0 1 1 0 4 1 0 0 0 4 4 4 5\n",
      " 0 0 0 0 0 0 0 4 0 1 0]\n",
      "Q_values : [-1.1520448  -0.5545311   1.0999227  -0.50420547]\n",
      "state : [0 1 1 0 0 1 0 0 0 0 0 1 0 0 0 0 0 0 0 0 0 0 0 0 0 1 1 0 0 1 0 0 0 1 1 4 3\n",
      " 0 0 0 2 0 3 0 5 0 4 0]\n",
      "Q_values : [0.5353743  0.52406687 0.4207829  1.5446731 ]\n",
      "state : [0 1 1 0 0 0 0 0 0 0 1 0 0 0 0 0 0 0 0 0 0 0 0 0 0 1 1 0 0 0 0 0 0 0 1 0 0\n",
      " 0 3 0 0 0 0 0 0 0 0 0]\n",
      "Q_values : [1.1277881 1.1979941 1.4483359 0.8093672]\n",
      "state : [0 0 1 0 0 0 0 0 0 0 0 0 0 0 0 0 0 0 0 0 0 0 0 0 0 0 1 0 0 0 0 0 0 0 0 0 0\n",
      " 0 0 0 0 0 0 1 0 0 0 0]\n",
      "Q_values : [0.50948805 0.3822379  0.13185735 0.64094305]\n",
      "episode : 178\n",
      "Step #100.00 (0ms ?*RT. ?UPS, TraCI: 0ms, vehicles TOT 33 ACT 1 BUF 0)                     \n",
      " Retrying in 1 seconds\n"
     ]
    },
    {
     "name": "stderr",
     "output_type": "stream",
     "text": [
      "Warning: Environment variable SUMO_HOME is not set properly, disabling XML validation. Set 'auto' or 'always' for web lookups.\n"
     ]
    },
    {
     "name": "stdout",
     "output_type": "stream",
     "text": [
      "state : [0 0 0 0 0 0 0 0 0 0 0 0 0 0 0 0 0 0 0 0 0 0 0 0 0 0 0 0 0 0 0 0 0 0 0 0 0\n",
      " 0 0 0 0 0 0 0 0 0 0 0]\n",
      "Q_values : [-0.6445511  -0.7716853  -0.73177147 -0.44057766]\n",
      "state : [0 0 0 0 0 0 0 0 0 0 0 0 0 0 0 0 0 0 0 0 0 0 0 0 1 1 1 3 3 1 0 0 0 0 0 0 0\n",
      " 0 0 0 0 0 0 0 0 0 0 0]\n",
      "Q_values : [-1.538851  -1.6637882 -1.5067657 -1.2985075]\n",
      "state : [0 1 1 0 0 1 0 0 0 0 0 0 0 0 0 0 0 0 0 0 0 0 0 0 0 1 1 3 4 6 0 0 0 4 4 1 2\n",
      " 0 0 0 0 0 0 0 0 1 2 0]\n",
      "Q_values : [-2.6085029 -2.9395897 -1.7715008 -0.7545713]\n",
      "state : [0 1 1 0 2 0 0 0 0 0 0 0 0 0 0 0 0 0 0 0 0 0 0 0 0 1 1 0 4 1 0 0 0 4 4 4 5\n",
      " 0 0 0 0 0 0 0 4 0 1 0]\n",
      "Q_values : [-1.8250369 -1.8059802  0.5443909 -1.1823525]\n",
      "state : [0 1 1 0 0 1 0 0 0 0 0 1 0 0 0 0 0 0 0 0 0 0 0 0 0 1 1 0 0 1 0 0 0 1 1 4 3\n",
      " 0 0 0 2 0 3 0 5 0 4 0]\n",
      "Q_values : [-0.03313491 -0.23985897  0.05588549  0.9947392 ]\n",
      "state : [0 1 1 0 0 0 0 0 0 0 1 0 0 0 0 0 0 0 0 0 0 0 0 0 0 1 1 0 0 0 0 0 0 0 1 0 0\n",
      " 0 4 0 2 0 3 0 1 0 2 0]\n",
      "Q_values : [1.5758107 1.5966251 2.1323898 0.9091648]\n",
      "state : [0 1 1 0 0 0 0 0 0 0 0 0 0 0 0 0 0 0 0 0 0 0 0 0 0 1 1 0 0 0 0 0 0 0 0 0 0\n",
      " 0 0 0 0 0 0 0 0 0 0 0]\n",
      "Q_values : [0.919835   0.8439728  0.48805666 0.4533765 ]\n",
      "state : [0 0 1 0 0 0 0 0 0 0 0 0 0 0 0 0 0 0 0 0 0 0 0 0 0 0 1 0 0 0 0 0 0 0 0 0 0\n",
      " 0 0 0 0 0 0 1 0 0 0 0]\n",
      "Q_values : [0.5862447  0.53615725 0.30071297 0.4345524 ]\n",
      "episode : 179\n",
      "Step #100.00 (0ms ?*RT. ?UPS, TraCI: 0ms, vehicles TOT 33 ACT 1 BUF 0)                     \n",
      " Retrying in 1 seconds\n"
     ]
    },
    {
     "name": "stderr",
     "output_type": "stream",
     "text": [
      "Warning: Environment variable SUMO_HOME is not set properly, disabling XML validation. Set 'auto' or 'always' for web lookups.\n"
     ]
    },
    {
     "name": "stdout",
     "output_type": "stream",
     "text": [
      "state : [0 0 0 0 0 0 0 0 0 0 0 0 0 0 0 0 0 0 0 0 0 0 0 0 0 0 0 0 0 0 0 0 0 0 0 0 0\n",
      " 0 0 0 0 0 0 0 0 0 0 0]\n",
      "Q_values : [-0.56893086 -0.55143577 -0.53083557 -0.6382973 ]\n",
      "state : [0 0 0 0 0 0 0 0 0 0 0 0 0 0 0 0 0 0 0 0 0 0 0 0 1 1 1 3 3 1 0 0 0 0 0 0 0\n",
      " 0 0 0 0 0 0 0 0 0 0 0]\n",
      "Q_values : [-1.3677801 -1.2319869 -1.226167  -1.47083  ]\n",
      "state : [0 0 0 0 0 0 0 0 0 0 0 0 0 0 0 0 0 0 0 0 0 0 0 0 0 1 1 6 7 4 0 0 0 0 0 0 0\n",
      " 0 0 0 0 0 0 0 0 0 0 0]\n",
      "Q_values : [-3.301771  -2.8722203 -2.7257247 -3.1916409]\n",
      "state : [0 0 1 0 2 4 0 0 0 0 0 0 0 0 0 0 0 0 0 0 0 0 0 0 0 0 1 0 4 6 0 0 0 4 4 4 5\n",
      " 0 0 0 0 0 0 1 0 0 1 0]\n",
      "Q_values : [-0.44207042  0.45865944  2.3169231   3.5052013 ]\n",
      "state : [0 0 1 0 4 0 0 0 0 0 4 1 0 0 0 0 0 0 0 0 0 0 0 0 0 0 1 0 4 0 0 0 0 0 4 1 0\n",
      " 0 3 0 0 0 3 0 6 0 0 0]\n",
      "Q_values : [3.9735122 5.387721  8.872109  4.813138 ]\n",
      "state : [0 0 1 0 0 0 0 0 0 0 0 1 0 0 0 0 0 0 0 0 0 0 0 0 0 0 1 0 0 0 0 0 0 0 0 1 0\n",
      " 0 0 0 4 0 0 0 0 0 4 0]\n",
      "Q_values : [0.797534   0.9284743  0.2910197  0.72649115]\n",
      "state : [0 0 0 0 0 0 0 0 0 0 0 0 0 0 0 0 0 0 0 0 0 0 0 0 0 0 0 0 0 0 0 0 0 0 0 0 0\n",
      " 0 1 0 0 0 0 0 0 0 0 0]\n",
      "Q_values : [-0.68521285 -0.5670133  -0.56736875 -0.65763927]\n",
      "episode : 180\n",
      "Step #100.00 (0ms ?*RT. ?UPS, TraCI: 0ms, vehicles TOT 33 ACT 0 BUF 0)                     \n",
      " Retrying in 1 seconds\n"
     ]
    },
    {
     "name": "stderr",
     "output_type": "stream",
     "text": [
      "Warning: Environment variable SUMO_HOME is not set properly, disabling XML validation. Set 'auto' or 'always' for web lookups.\n"
     ]
    },
    {
     "name": "stdout",
     "output_type": "stream",
     "text": [
      "state : [0 0 0 0 0 0 0 0 0 0 0 0 0 0 0 0 0 0 0 0 0 0 0 0 0 0 1 6 7 4 0 0 0 0 0 0 0\n",
      " 0 0 0 0 0 0 0 0 0 0 0]\n",
      "Q_values : [-4.1057343 -3.74494   -2.8776836 -3.2423637]\n",
      "state : [0 0 1 0 0 1 0 0 0 0 0 0 0 0 0 0 0 0 0 0 0 0 0 0 0 0 1 3 4 6 0 0 0 4 4 1 2\n",
      " 0 0 0 0 0 0 1 0 1 2 0]\n",
      "Q_values : [-3.845492  -3.4942374 -1.7698919 -0.9991223]\n",
      "state : [0 0 1 0 2 0 0 0 0 0 0 0 0 0 0 0 0 0 0 0 0 0 0 0 0 0 1 0 4 1 0 0 0 4 4 4 5\n",
      " 0 0 0 0 0 0 0 4 0 1 0]\n",
      "Q_values : [-2.2357442  -2.1468885   0.33790123 -0.6852323 ]\n",
      "state : [0 0 1 0 0 1 0 0 0 0 0 4 0 0 0 0 0 0 0 0 0 0 0 0 0 0 1 0 0 1 0 0 0 0 0 4 0\n",
      " 0 0 0 3 0 3 0 0 0 2 0]\n",
      "Q_values : [2.5305984 2.6892607 2.7724369 5.858568 ]\n",
      "state : [0 0 1 0 0 0 0 0 0 0 0 0 0 0 0 0 0 0 0 0 0 0 0 0 0 0 1 0 0 0 0 0 0 0 0 0 0\n",
      " 0 0 0 0 0 0 0 0 0 0 0]\n",
      "Q_values : [0.43815497 0.4675737  0.23064226 0.45330334]\n",
      "episode : 181\n",
      "Step #100.00 (0ms ?*RT. ?UPS, TraCI: 0ms, vehicles TOT 33 ACT 1 BUF 0)                     \n",
      " Retrying in 1 seconds\n"
     ]
    },
    {
     "name": "stderr",
     "output_type": "stream",
     "text": [
      "Warning: Environment variable SUMO_HOME is not set properly, disabling XML validation. Set 'auto' or 'always' for web lookups.\n"
     ]
    },
    {
     "name": "stdout",
     "output_type": "stream",
     "text": [
      "state : [0 0 0 0 0 0 0 0 0 0 0 0 0 0 0 0 0 0 0 0 0 0 0 0 0 0 0 0 0 0 0 0 0 0 0 0 0\n",
      " 0 0 0 0 0 0 0 0 0 0 0]\n",
      "Q_values : [-0.48759356 -0.55069184 -0.3967106  -0.3940533 ]\n",
      "state : [0 0 0 0 0 0 0 0 0 0 0 0 0 0 0 0 0 0 0 0 0 0 0 0 1 1 1 3 3 1 0 0 0 0 0 0 0\n",
      " 0 0 0 0 0 0 0 0 0 0 0]\n",
      "Q_values : [-1.2974987 -1.3265022 -1.0824482 -1.245742 ]\n",
      "state : [0 0 0 0 0 0 0 0 0 0 0 0 0 0 0 0 0 0 0 0 0 0 0 0 0 1 1 6 7 4 0 0 0 0 0 0 0\n",
      " 0 0 0 0 0 0 0 0 0 0 0]\n",
      "Q_values : [-3.4130526 -3.3361924 -2.8112514 -3.2951288]\n",
      "state : [0 1 1 0 0 1 0 0 0 0 0 0 0 0 0 0 0 0 0 0 0 0 0 0 0 1 1 3 4 6 0 0 0 4 4 1 2\n",
      " 0 0 0 0 0 0 0 0 1 2 0]\n",
      "Q_values : [-2.4627202  -2.2505536  -1.4479719  -0.78596854]\n",
      "state : [0 1 0 0 0 0 0 0 0 0 0 1 0 0 0 0 0 0 0 0 0 0 0 0 0 1 0 0 0 0 0 0 0 0 0 1 0\n",
      " 0 0 0 4 0 0 0 0 0 4 0]\n",
      "Q_values : [0.8417399  1.0016334  0.45809865 1.5623112 ]\n",
      "state : [0 1 0 0 0 0 0 0 0 0 0 0 0 0 0 0 0 0 0 0 0 0 0 0 0 1 0 0 0 0 0 0 0 0 0 0 0\n",
      " 0 1 0 3 0 0 0 0 0 2 0]\n",
      "Q_values : [0.53078246 0.51547676 0.29139328 0.55953556]\n",
      "state : [0 1 0 0 0 0 0 0 0 0 0 0 0 0 0 0 0 0 0 0 0 0 0 0 0 1 0 0 0 0 0 0 0 0 0 0 0\n",
      " 0 0 0 0 0 0 0 0 0 0 0]\n",
      "Q_values : [0.46629268 0.43778926 0.2727382  0.43955037]\n",
      "episode : 182\n",
      "Step #100.00 (0ms ?*RT. ?UPS, TraCI: 0ms, vehicles TOT 33 ACT 1 BUF 0)                     \n",
      " Retrying in 1 seconds\n"
     ]
    },
    {
     "name": "stderr",
     "output_type": "stream",
     "text": [
      "Warning: Environment variable SUMO_HOME is not set properly, disabling XML validation. Set 'auto' or 'always' for web lookups.\n"
     ]
    },
    {
     "name": "stdout",
     "output_type": "stream",
     "text": [
      "state : [0 0 0 0 0 0 0 0 0 0 0 0 0 0 0 0 0 0 0 0 0 0 0 0 0 0 0 0 0 0 0 0 0 0 0 0 0\n",
      " 0 0 0 0 0 0 0 0 0 0 0]\n",
      "Q_values : [-0.56755304 -0.5072688  -0.5016142  -0.44673344]\n",
      "state : [0 0 0 0 0 0 0 0 0 0 0 0 0 0 0 0 0 0 0 0 0 0 0 0 0 1 1 6 7 4 0 0 0 0 0 0 0\n",
      " 0 0 0 0 0 0 0 0 0 0 0]\n",
      "Q_values : [-3.9275544 -3.479251  -3.124945  -3.5306387]\n",
      "state : [0 1 1 0 0 4 0 0 0 0 0 0 0 0 0 0 0 0 0 0 0 0 0 0 0 1 1 0 1 6 0 0 0 4 4 4 5\n",
      " 0 0 0 0 0 0 0 0 0 4 0]\n",
      "Q_values : [-2.0142736  -0.88725615  0.48525554  2.6450868 ]\n",
      "state : [0 1 1 0 1 0 0 0 0 0 2 0 0 0 0 0 0 0 0 0 0 0 0 0 0 1 1 0 1 0 0 0 0 1 4 1 3\n",
      " 0 2 0 0 0 3 0 5 0 1 0]\n",
      "Q_values : [0.97067267 1.0237162  3.010667   1.2110454 ]\n",
      "state : [0 1 1 0 0 0 0 0 0 0 0 1 0 0 0 0 0 0 0 0 0 0 0 0 0 1 1 0 0 0 0 0 0 0 0 1 0\n",
      " 0 3 0 4 0 3 0 6 0 1 0]\n",
      "Q_values : [0.9561079  1.1084151  0.78593004 1.6029223 ]\n",
      "state : [0 1 1 0 0 0 0 0 0 0 0 0 0 0 0 0 0 0 0 0 0 0 0 0 0 1 1 0 0 0 0 0 0 0 0 0 0\n",
      " 0 1 0 3 0 0 0 0 0 0 0]\n",
      "Q_values : [0.733334   0.6802629  0.3130331  0.48967808]\n",
      "episode : 183\n",
      "Step #100.00 (0ms ?*RT. ?UPS, TraCI: 0ms, vehicles TOT 33 ACT 0 BUF 0)                     \n",
      " Retrying in 1 seconds\n"
     ]
    },
    {
     "name": "stderr",
     "output_type": "stream",
     "text": [
      "Warning: Environment variable SUMO_HOME is not set properly, disabling XML validation. Set 'auto' or 'always' for web lookups.\n"
     ]
    },
    {
     "name": "stdout",
     "output_type": "stream",
     "text": [
      "state : [0 0 0 0 0 0 0 0 0 0 0 0 0 0 0 0 0 0 0 0 0 0 0 0 0 0 0 0 0 0 0 0 0 0 0 0 0\n",
      " 0 0 0 0 0 0 0 0 0 0 0]\n",
      "Q_values : [-0.6048971  -0.61170715 -0.57023096 -0.4948424 ]\n",
      "state : [0 0 0 0 0 0 0 0 0 0 0 0 0 0 0 0 0 0 0 0 0 0 0 0 0 1 1 6 7 4 0 0 0 0 0 0 0\n",
      " 0 0 0 0 0 0 0 0 0 0 0]\n",
      "Q_values : [-3.369882  -3.307993  -2.9151459 -3.1524503]\n",
      "state : [0 1 1 0 0 1 0 0 0 0 0 0 0 0 0 0 0 0 0 0 0 0 0 0 0 1 1 3 4 6 0 0 0 4 4 1 2\n",
      " 0 0 0 0 0 0 0 0 1 2 0]\n",
      "Q_values : [-2.1834097  -1.9355599  -1.0557141  -0.23322484]\n",
      "state : [0 1 1 0 0 1 0 0 0 0 0 4 0 0 0 0 0 0 0 0 0 0 0 0 0 1 1 0 0 1 0 0 0 0 0 4 0\n",
      " 0 0 0 3 0 3 0 0 0 2 0]\n",
      "Q_values : [2.9889603 3.2792652 2.5926452 5.120267 ]\n",
      "state : [0 1 1 0 0 0 0 0 0 0 0 0 0 0 0 0 0 0 0 0 0 0 0 0 0 1 1 0 0 0 0 0 0 0 0 0 0\n",
      " 0 4 0 0 0 0 0 1 0 0 0]\n",
      "Q_values : [1.1795068  0.9023935  0.46337306 0.47869188]\n",
      "state : [0 0 1 0 0 0 0 0 0 0 0 0 0 0 0 0 0 0 0 0 0 0 0 0 0 0 1 0 0 0 0 0 0 0 0 0 0\n",
      " 0 3 0 0 0 0 1 0 0 0 0]\n",
      "Q_values : [0.50562304 0.43011764 0.21579015 0.38633806]\n",
      "state : [0 0 1 0 0 0 0 0 0 0 0 0 0 0 0 0 0 0 0 0 0 0 0 0 0 0 1 0 0 0 0 0 0 0 0 0 0\n",
      " 0 0 0 0 0 0 0 0 0 0 0]\n",
      "Q_values : [0.42453286 0.46161485 0.1490829  0.30889142]\n",
      "episode : 184\n",
      "Step #100.00 (0ms ?*RT. ?UPS, TraCI: 0ms, vehicles TOT 33 ACT 1 BUF 0)                     \n",
      " Retrying in 1 seconds\n"
     ]
    },
    {
     "name": "stderr",
     "output_type": "stream",
     "text": [
      "Warning: Environment variable SUMO_HOME is not set properly, disabling XML validation. Set 'auto' or 'always' for web lookups.\n"
     ]
    },
    {
     "name": "stdout",
     "output_type": "stream",
     "text": [
      "state : [0 0 0 0 0 0 0 0 0 0 0 0 0 0 0 0 0 0 0 0 0 0 0 0 0 0 0 0 0 0 0 0 0 0 0 0 0\n",
      " 0 0 0 0 0 0 0 0 0 0 0]\n",
      "Q_values : [-0.6477362  -0.7017234  -0.6942902  -0.58672726]\n",
      "state : [0 0 0 0 0 0 0 0 0 0 0 0 0 0 0 0 0 0 0 0 0 0 0 0 1 1 1 3 3 1 0 0 0 0 0 0 0\n",
      " 0 0 0 0 0 0 0 0 0 0 0]\n",
      "Q_values : [-1.5879667 -1.6234754 -1.5313681 -1.5159503]\n",
      "state : [0 0 0 0 0 0 0 0 0 0 0 0 0 0 0 0 0 0 0 0 0 0 0 0 0 1 1 6 7 4 0 0 0 0 0 0 0\n",
      " 0 0 0 0 0 0 0 0 0 0 0]\n",
      "Q_values : [-3.6447036 -3.644907  -3.1536267 -3.4462547]\n",
      "state : [0 1 1 0 0 4 0 0 0 0 0 0 0 0 0 0 0 0 0 0 0 0 0 0 0 1 1 0 1 6 0 0 0 4 4 4 5\n",
      " 0 0 0 0 0 0 0 0 0 4 0]\n",
      "Q_values : [-1.0098405  -1.0068171   0.83659875  2.9964745 ]\n",
      "state : [0 1 1 0 1 0 0 0 0 0 2 0 0 0 0 0 0 0 0 0 0 0 0 0 0 1 1 0 1 0 0 0 0 1 4 1 3\n",
      " 0 2 0 0 0 3 0 5 0 1 0]\n",
      "Q_values : [1.3135191 0.9614195 3.0212052 1.0473173]\n",
      "state : [0 1 1 0 0 0 0 0 0 0 0 1 0 0 0 0 0 0 0 0 0 0 0 0 0 1 1 0 0 0 0 0 0 0 0 1 0\n",
      " 0 3 0 4 0 3 0 6 0 1 0]\n",
      "Q_values : [1.3678526 1.3122292 0.5451151 1.7149913]\n",
      "state : [0 1 1 0 0 0 0 0 0 0 0 0 0 0 0 0 0 0 0 0 0 0 0 0 0 1 1 0 0 0 0 0 0 0 0 0 0\n",
      " 0 1 0 3 0 0 0 0 0 0 0]\n",
      "Q_values : [1.4415543  1.3274146  0.51525116 1.1233245 ]\n",
      "state : [0 0 1 0 0 0 0 0 0 0 0 0 0 0 0 0 0 0 0 0 0 0 0 0 0 0 1 0 0 0 0 0 0 0 0 0 0\n",
      " 0 0 0 0 0 0 1 0 0 0 0]\n",
      "Q_values : [0.5990672 0.5699282 0.2838408 0.4752524]\n",
      "state : [0 0 1 0 0 0 0 0 0 0 0 0 0 0 0 0 0 0 0 0 0 0 0 0 0 0 1 0 0 0 0 0 0 0 0 0 0\n",
      " 0 0 0 0 0 0 0 0 0 0 0]\n",
      "Q_values : [0.5833765  0.6852099  0.22435023 0.46351743]\n",
      "episode : 185\n",
      "Step #100.00 (0ms ?*RT. ?UPS, TraCI: 0ms, vehicles TOT 33 ACT 1 BUF 0)                     \n",
      " Retrying in 1 seconds\n"
     ]
    },
    {
     "name": "stderr",
     "output_type": "stream",
     "text": [
      "Warning: Environment variable SUMO_HOME is not set properly, disabling XML validation. Set 'auto' or 'always' for web lookups.\n"
     ]
    },
    {
     "name": "stdout",
     "output_type": "stream",
     "text": [
      "state : [0 0 1 0 1 1 0 0 0 0 0 0 0 0 0 0 0 0 0 0 0 0 0 0 0 0 1 4 6 6 0 0 0 4 4 1 2\n",
      " 0 0 0 0 0 0 1 0 1 0 0]\n",
      "Q_values : [-3.314781  -2.8619504 -1.1746471 -1.5356135]\n",
      "state : [0 0 1 0 1 0 0 0 0 0 2 0 0 0 0 0 0 0 0 0 0 0 0 0 0 0 1 0 1 0 0 0 0 1 4 1 3\n",
      " 0 2 0 0 0 3 0 5 0 4 0]\n",
      "Q_values : [0.66000533 0.7986609  2.0645835  0.38724068]\n",
      "state : [0 0 0 0 0 0 0 0 0 0 0 1 0 0 0 0 0 0 0 0 0 0 0 0 0 0 0 0 0 0 0 0 0 0 0 1 0\n",
      " 0 0 0 3 1 0 0 0 0 0 0]\n",
      "Q_values : [ 0.29521534  0.41421348 -0.05070521  0.7140943 ]\n",
      "state : [0 0 0 0 0 0 0 0 0 0 0 0 0 0 0 0 0 0 0 0 0 0 0 0 0 0 0 0 0 0 0 0 0 0 0 0 0\n",
      " 0 0 0 0 0 0 0 0 0 0 0]\n",
      "Q_values : [-0.7148562  -0.5804953  -0.63835716 -0.5157974 ]\n",
      "episode : 186\n",
      "Step #100.00 (0ms ?*RT. ?UPS, TraCI: 0ms, vehicles TOT 33 ACT 0 BUF 0)                     \n",
      " Retrying in 1 seconds\n"
     ]
    },
    {
     "name": "stderr",
     "output_type": "stream",
     "text": [
      "Warning: Environment variable SUMO_HOME is not set properly, disabling XML validation. Set 'auto' or 'always' for web lookups.\n"
     ]
    },
    {
     "name": "stdout",
     "output_type": "stream",
     "text": [
      "state : [0 0 0 0 0 0 0 0 0 0 0 0 0 0 0 0 0 0 0 0 0 0 0 0 1 1 1 3 3 1 0 0 0 0 0 0 0\n",
      " 0 0 0 0 0 0 0 0 0 0 0]\n",
      "Q_values : [-1.6342337 -1.4301919 -1.4165173 -1.2959261]\n",
      "state : [0 0 1 0 1 1 0 0 0 0 0 0 0 0 0 0 0 0 0 0 0 0 0 0 0 0 1 4 6 6 0 0 0 4 4 1 2\n",
      " 0 0 0 0 0 0 1 0 1 0 0]\n",
      "Q_values : [-3.5905883 -3.0968082 -0.610402  -0.642353 ]\n",
      "state : [0 0 1 0 0 4 0 0 0 0 0 0 0 0 0 0 0 0 0 0 0 0 0 0 0 0 1 0 1 6 0 0 0 4 4 4 5\n",
      " 0 0 0 0 0 0 0 0 0 5 0]\n",
      "Q_values : [-2.0056362 -1.6062524  0.2597266  2.3515954]\n",
      "state : [0 0 1 0 1 0 0 0 0 0 2 0 0 0 0 0 0 0 0 0 0 0 0 0 0 0 1 0 1 0 0 0 0 1 4 1 3\n",
      " 0 2 0 0 0 3 0 5 0 4 0]\n",
      "Q_values : [0.8347012 1.0561414 2.780363  1.0293702]\n",
      "episode : 187\n",
      "Step #100.00 (0ms ?*RT. ?UPS, TraCI: 0ms, vehicles TOT 33 ACT 1 BUF 0)                     \n",
      " Retrying in 1 seconds\n"
     ]
    },
    {
     "name": "stderr",
     "output_type": "stream",
     "text": [
      "Warning: Environment variable SUMO_HOME is not set properly, disabling XML validation. Set 'auto' or 'always' for web lookups.\n"
     ]
    },
    {
     "name": "stdout",
     "output_type": "stream",
     "text": [
      "state : [0 0 0 0 0 0 0 0 0 0 0 0 0 0 0 0 0 0 0 0 0 0 0 0 0 0 0 0 0 0 0 0 0 0 0 0 0\n",
      " 0 0 0 0 0 0 0 0 0 0 0]\n",
      "Q_values : [-0.73520684 -0.63188726 -0.68948257 -0.53127354]\n",
      "state : [0 0 0 0 0 0 0 0 0 0 0 0 0 0 0 0 0 0 0 0 0 0 0 0 1 1 1 3 3 1 0 0 0 0 0 0 0\n",
      " 0 0 0 0 0 0 0 0 0 0 0]\n",
      "Q_values : [-1.6615549 -1.5017931 -1.5700285 -1.3817359]\n",
      "state : [0 1 0 0 2 4 0 0 0 0 0 0 0 0 0 0 0 0 0 0 0 0 0 0 0 1 0 0 4 6 0 0 0 4 4 4 5\n",
      " 0 0 0 0 1 0 0 0 0 1 0]\n",
      "Q_values : [-1.6375148 -1.2262459  2.207282   3.4978213]\n",
      "state : [0 1 0 0 4 0 0 0 0 0 4 0 0 0 0 0 0 0 0 0 0 0 0 0 0 1 0 0 4 0 0 0 0 0 4 0 0\n",
      " 0 4 0 0 0 3 0 6 0 0 0]\n",
      "Q_values : [4.809932  4.8323045 8.792928  4.8290877]\n",
      "state : [0 1 0 0 0 0 0 0 0 0 0 0 0 0 0 0 0 0 0 0 0 0 0 0 0 1 0 0 0 0 0 0 0 0 0 0 0\n",
      " 0 1 0 4 0 0 0 0 0 4 0]\n",
      "Q_values : [0.7339107  0.78698474 0.37118244 0.4963172 ]\n",
      "episode : 188\n",
      "Step #100.00 (0ms ?*RT. ?UPS, TraCI: 0ms, vehicles TOT 33 ACT 1 BUF 0)                     \n",
      " Retrying in 1 seconds\n"
     ]
    },
    {
     "name": "stderr",
     "output_type": "stream",
     "text": [
      "Warning: Environment variable SUMO_HOME is not set properly, disabling XML validation. Set 'auto' or 'always' for web lookups.\n"
     ]
    },
    {
     "name": "stdout",
     "output_type": "stream",
     "text": [
      "state : [0 0 0 0 0 0 0 0 0 0 0 0 0 0 0 0 0 0 0 0 0 0 0 0 0 0 0 0 0 0 0 0 0 0 0 0 0\n",
      " 0 0 0 0 0 0 0 0 0 0 0]\n",
      "Q_values : [-0.65232676 -0.56438285 -0.5565423  -0.57913584]\n",
      "state : [0 0 0 0 0 0 0 0 0 0 0 0 0 0 0 0 0 0 0 0 0 0 0 0 1 1 1 3 3 1 0 0 0 0 0 0 0\n",
      " 0 0 0 0 0 0 0 0 0 0 0]\n",
      "Q_values : [-1.5438669 -1.4020683 -1.3667556 -1.489534 ]\n",
      "state : [0 1 0 0 1 1 0 0 0 0 0 0 0 0 0 0 0 0 0 0 0 0 0 0 0 1 0 4 6 6 0 0 0 4 4 1 2\n",
      " 0 0 0 0 1 0 0 0 1 0 0]\n",
      "Q_values : [-3.1902204 -3.23361   -0.800275  -1.2972226]\n",
      "state : [0 0 0 0 1 6 0 0 0 0 2 1 0 0 0 0 0 0 0 0 0 0 0 0 0 0 0 0 1 6 0 0 0 1 4 4 3\n",
      " 0 0 0 0 0 3 1 0 0 4 0]\n",
      "Q_values : [2.1234984 1.453223  5.8665543 7.4735546]\n",
      "state : [0 0 0 0 1 0 0 0 0 0 4 0 0 0 0 0 0 0 0 0 0 0 0 0 0 0 0 0 1 0 0 0 0 0 4 0 0\n",
      " 0 4 0 0 0 0 0 6 0 0 0]\n",
      "Q_values : [3.0375535 2.6108935 5.4702196 2.6098611]\n",
      "state : [0 0 0 0 0 0 0 0 0 0 0 0 0 0 0 0 0 0 0 0 0 0 0 0 0 0 0 0 0 0 0 0 0 0 0 0 0\n",
      " 0 0 0 4 0 0 0 0 0 1 0]\n",
      "Q_values : [0.2783148  0.42091566 0.20705467 0.18380567]\n",
      "state : [0 0 0 0 0 0 0 0 0 0 0 0 0 0 0 0 0 0 0 0 0 0 0 0 0 0 0 0 0 0 0 0 0 0 0 0 0\n",
      " 0 0 0 3 0 0 0 0 0 0 0]\n",
      "Q_values : [0.25950733 0.3809024  0.20781654 0.19796348]\n",
      "episode : 189\n",
      "Step #100.00 (0ms ?*RT. ?UPS, TraCI: 0ms, vehicles TOT 33 ACT 0 BUF 0)                     \n",
      " Retrying in 1 seconds\n"
     ]
    },
    {
     "name": "stderr",
     "output_type": "stream",
     "text": [
      "Warning: Environment variable SUMO_HOME is not set properly, disabling XML validation. Set 'auto' or 'always' for web lookups.\n"
     ]
    },
    {
     "name": "stdout",
     "output_type": "stream",
     "text": [
      "state : [0 0 0 0 0 0 0 0 0 0 0 0 0 0 0 0 0 0 0 0 0 0 0 0 0 0 0 0 0 0 0 0 0 0 0 0 0\n",
      " 0 0 0 0 0 0 0 0 0 0 0]\n",
      "Q_values : [-0.68236494 -0.5972825  -0.60903347 -0.57828254]\n",
      "state : [0 1 1 0 1 0 0 0 0 0 0 0 0 0 0 0 0 0 0 0 0 0 0 0 0 1 1 4 6 4 0 0 0 4 4 1 2\n",
      " 0 0 0 0 0 0 0 1 1 0 0]\n",
      "Q_values : [-2.5777571 -2.4845157 -0.998937  -1.3537159]\n",
      "state : [0 1 1 0 0 0 0 0 0 0 0 1 0 0 0 0 0 0 0 0 0 0 0 0 0 1 1 0 0 0 0 0 0 0 0 1 0\n",
      " 0 3 0 4 0 3 0 3 0 0 0]\n",
      "Q_values : [1.642957  1.7324059 1.0276867 1.9928722]\n",
      "state : [0 0 1 0 0 0 0 0 0 0 0 0 0 0 0 0 0 0 0 0 0 0 0 0 0 0 1 0 0 0 0 0 0 0 0 0 0\n",
      " 0 0 0 0 0 0 0 0 0 0 0]\n",
      "Q_values : [0.49363396 0.6830244  0.2773839  0.3952598 ]\n",
      "episode : 190\n",
      "Step #100.00 (0ms ?*RT. ?UPS, TraCI: 0ms, vehicles TOT 33 ACT 1 BUF 0)                     \n",
      " Retrying in 1 seconds\n"
     ]
    },
    {
     "name": "stderr",
     "output_type": "stream",
     "text": [
      "Warning: Environment variable SUMO_HOME is not set properly, disabling XML validation. Set 'auto' or 'always' for web lookups.\n"
     ]
    },
    {
     "name": "stdout",
     "output_type": "stream",
     "text": [
      "state : [0 0 0 0 0 0 0 0 0 0 0 0 0 0 0 0 0 0 0 0 0 0 0 0 1 1 1 3 3 1 0 0 0 0 0 0 0\n",
      " 0 0 0 0 0 0 0 0 0 0 0]\n",
      "Q_values : [-1.7121545 -1.6881166 -1.5779047 -1.5854499]\n",
      "state : [0 0 0 0 0 0 0 0 0 0 0 0 0 0 0 0 0 0 0 0 0 0 0 0 0 1 1 6 7 4 0 0 0 0 0 0 0\n",
      " 0 0 0 0 0 0 0 0 0 0 0]\n",
      "Q_values : [-3.658396  -3.6678424 -3.3077817 -3.4604628]\n",
      "state : [0 0 1 0 0 6 0 0 0 0 0 1 0 0 0 0 0 0 0 0 0 0 0 0 0 0 1 0 0 6 0 0 0 1 1 4 3\n",
      " 0 0 0 2 0 3 0 0 0 4 0]\n",
      "Q_values : [1.1524707 1.3728001 1.9814827 6.1566906]\n",
      "state : [0 0 1 0 0 0 0 0 0 0 1 0 0 0 0 0 0 0 0 0 0 0 0 0 0 0 1 0 0 0 0 0 0 0 1 0 0\n",
      " 0 4 0 2 0 3 0 5 0 2 0]\n",
      "Q_values : [0.75756824 0.83141834 1.2090198  0.7420443 ]\n",
      "state : [0 0 1 0 0 0 0 0 0 0 0 0 0 0 0 0 0 0 0 0 0 0 0 0 0 0 1 0 0 0 0 0 0 0 0 0 0\n",
      " 0 4 0 1 0 0 0 6 0 0 0]\n",
      "Q_values : [0.32659358 0.54714614 0.1768149  0.1139418 ]\n",
      "episode : 191\n",
      "Step #100.00 (0ms ?*RT. ?UPS, TraCI: 0ms, vehicles TOT 33 ACT 0 BUF 0)                     \n",
      " Retrying in 1 seconds\n"
     ]
    },
    {
     "name": "stderr",
     "output_type": "stream",
     "text": [
      "Warning: Environment variable SUMO_HOME is not set properly, disabling XML validation. Set 'auto' or 'always' for web lookups.\n"
     ]
    },
    {
     "name": "stdout",
     "output_type": "stream",
     "text": [
      "state : [0 0 0 0 0 0 0 0 0 0 0 0 0 0 0 0 0 0 0 0 0 0 0 0 1 1 1 3 3 1 0 0 0 0 0 0 0\n",
      " 0 0 0 0 0 0 0 0 0 0 0]\n",
      "Q_values : [-1.5567089 -1.4823941 -1.3435954 -1.429327 ]\n",
      "state : [0 0 0 0 0 0 0 0 0 0 0 0 0 0 0 0 0 0 0 0 0 0 0 0 0 1 1 6 7 4 0 0 0 0 0 0 0\n",
      " 0 0 0 0 0 0 0 0 0 0 0]\n",
      "Q_values : [-3.115924  -2.9998984 -2.611222  -2.9741488]\n",
      "state : [0 1 1 0 0 1 0 0 0 0 0 0 0 0 0 0 0 0 0 0 0 0 0 0 0 1 1 3 4 6 0 0 0 4 4 1 2\n",
      " 0 0 0 0 0 0 0 0 1 2 0]\n",
      "Q_values : [-1.9694312  -1.8618382  -0.73092395 -0.27731404]\n",
      "state : [0 1 1 0 2 0 0 0 0 0 0 0 0 0 0 0 0 0 0 0 0 0 0 0 0 1 1 0 4 1 0 0 0 4 4 4 5\n",
      " 0 0 0 0 0 0 0 4 0 1 0]\n",
      "Q_values : [-1.4503734  -1.435413    0.89531577 -0.23014483]\n",
      "state : [0 1 1 0 0 1 0 0 0 0 0 1 0 0 0 0 0 0 0 0 0 0 0 0 0 1 1 0 0 1 0 0 0 1 1 4 3\n",
      " 0 0 0 2 0 3 0 5 0 4 0]\n",
      "Q_values : [0.26026374 0.40769604 0.06555378 1.3178444 ]\n",
      "state : [0 1 0 0 0 0 0 0 0 0 1 0 0 0 0 0 0 0 0 0 0 0 0 0 0 1 0 0 0 0 0 0 0 0 1 0 0\n",
      " 0 3 0 0 1 0 0 0 0 0 0]\n",
      "Q_values : [0.84047115 0.91203326 1.2094567  0.7252385 ]\n",
      "state : [0 1 0 0 0 0 0 0 0 0 0 0 0 0 0 0 0 0 0 0 0 0 0 0 0 1 0 0 0 0 0 0 0 0 0 0 0\n",
      " 0 0 0 1 0 0 0 0 0 0 0]\n",
      "Q_values : [0.49785513 0.56404513 0.31273407 0.43401262]\n",
      "state : [0 1 0 0 0 0 0 0 0 0 0 0 0 0 0 0 0 0 0 0 0 0 0 0 0 1 0 0 0 0 0 0 0 0 0 0 0\n",
      " 0 0 0 0 0 0 0 0 0 0 0]\n",
      "Q_values : [0.43489635 0.4947422  0.29630145 0.35133246]\n",
      "episode : 192\n",
      "Step #100.00 (0ms ?*RT. ?UPS, TraCI: 0ms, vehicles TOT 33 ACT 1 BUF 0)                     \n",
      " Retrying in 1 seconds\n"
     ]
    },
    {
     "name": "stderr",
     "output_type": "stream",
     "text": [
      "Warning: Environment variable SUMO_HOME is not set properly, disabling XML validation. Set 'auto' or 'always' for web lookups.\n"
     ]
    },
    {
     "name": "stdout",
     "output_type": "stream",
     "text": [
      "state : [0 0 0 0 0 0 0 0 0 0 0 0 0 0 0 0 0 0 0 0 0 0 0 0 0 0 0 0 0 0 0 0 0 0 0 0 0\n",
      " 0 0 0 0 0 0 0 0 0 0 0]\n",
      "Q_values : [-0.7174069  -0.67922986 -0.61470413 -0.5967095 ]\n",
      "state : [0 0 1 0 2 4 0 0 0 0 0 0 0 0 0 0 0 0 0 0 0 0 0 0 0 0 1 0 4 6 0 0 0 4 4 4 5\n",
      " 0 0 0 0 0 0 1 0 0 1 0]\n",
      "Q_values : [-2.1711605 -2.3093538  2.2475626  3.0407312]\n",
      "state : [0 0 1 0 4 0 0 0 0 0 2 0 0 0 0 0 0 0 0 0 0 0 0 0 0 0 1 0 4 0 0 0 0 1 4 1 3\n",
      " 0 2 0 0 0 3 0 5 0 0 0]\n",
      "Q_values : [2.9930408 2.9878457 6.642775  2.8968883]\n",
      "state : [0 0 1 0 0 0 0 0 0 0 0 1 0 0 0 0 0 0 0 0 0 0 0 0 0 0 1 0 0 0 0 0 0 0 0 1 0\n",
      " 0 3 0 4 0 3 0 6 0 4 0]\n",
      "Q_values : [1.0923958 1.1912999 0.9906863 1.6766217]\n",
      "state : [0 0 1 0 0 0 0 0 0 0 0 0 0 0 0 0 0 0 0 0 0 0 0 0 0 0 1 0 0 0 0 0 0 0 0 0 0\n",
      " 0 1 0 3 0 0 0 0 0 2 0]\n",
      "Q_values : [0.46088606 0.63854617 0.31219754 0.28307194]\n",
      "state : [0 0 0 0 0 0 0 0 0 0 0 0 0 0 0 0 0 0 0 0 0 0 0 0 0 0 0 0 0 0 0 0 0 0 0 0 0\n",
      " 0 0 0 0 1 0 0 0 0 0 0]\n",
      "Q_values : [-0.4014746  -0.32383597 -0.2624156  -0.25923818]\n",
      "episode : 193\n",
      "Step #100.00 (0ms ?*RT. ?UPS, TraCI: 0ms, vehicles TOT 33 ACT 0 BUF 0)                     \n",
      " Retrying in 1 seconds\n"
     ]
    },
    {
     "name": "stderr",
     "output_type": "stream",
     "text": [
      "Warning: Environment variable SUMO_HOME is not set properly, disabling XML validation. Set 'auto' or 'always' for web lookups.\n"
     ]
    },
    {
     "name": "stdout",
     "output_type": "stream",
     "text": [
      "state : [0 0 0 0 0 0 0 0 0 0 0 0 0 0 0 0 0 0 0 0 0 0 0 0 0 0 0 0 0 0 0 0 0 0 0 0 0\n",
      " 0 0 0 0 0 0 0 0 0 0 0]\n",
      "Q_values : [-0.7083591  -0.6326752  -0.53684044 -0.5642233 ]\n",
      "state : [0 0 0 0 0 0 0 0 0 0 0 0 0 0 0 0 0 0 0 0 0 0 0 0 1 1 1 3 3 1 0 0 0 0 0 0 0\n",
      " 0 0 0 0 0 0 0 0 0 0 0]\n",
      "Q_values : [-1.6290125 -1.4794098 -1.4028931 -1.4413507]\n",
      "state : [0 0 0 0 0 0 0 0 0 0 0 0 0 0 0 0 0 0 0 0 0 0 0 0 0 1 1 6 7 4 0 0 0 0 0 0 0\n",
      " 0 0 0 0 0 0 0 0 0 0 0]\n",
      "Q_values : [-3.5016425 -3.18756   -3.0433655 -3.2229226]\n",
      "state : [0 1 1 0 2 0 0 0 0 0 0 0 0 0 0 0 0 0 0 0 0 0 0 0 0 1 1 0 4 1 0 0 0 4 4 4 5\n",
      " 0 0 0 0 0 0 0 4 0 1 0]\n",
      "Q_values : [-1.976906   -1.7083888   0.37275523 -0.6685305 ]\n",
      "state : [0 1 1 0 0 1 0 0 0 0 0 4 0 0 0 0 0 0 0 0 0 0 0 0 0 1 1 0 0 1 0 0 0 0 0 4 0\n",
      " 0 0 0 3 0 3 0 0 0 2 0]\n",
      "Q_values : [2.9446745 3.149818  2.376756  4.954719 ]\n",
      "state : [0 0 1 0 0 0 0 0 0 0 0 0 0 0 0 0 0 0 0 0 0 0 0 0 0 0 1 0 0 0 0 0 0 0 0 0 0\n",
      " 0 3 0 0 0 0 1 0 0 0 0]\n",
      "Q_values : [0.334507   0.38877353 0.26556894 0.2944522 ]\n",
      "episode : 194\n",
      "Step #100.00 (0ms ?*RT. ?UPS, TraCI: 0ms, vehicles TOT 33 ACT 0 BUF 0)                     \n",
      " Retrying in 1 seconds\n"
     ]
    },
    {
     "name": "stderr",
     "output_type": "stream",
     "text": [
      "Warning: Environment variable SUMO_HOME is not set properly, disabling XML validation. Set 'auto' or 'always' for web lookups.\n"
     ]
    },
    {
     "name": "stdout",
     "output_type": "stream",
     "text": [
      "state : [0 0 0 0 0 0 0 0 0 0 0 0 0 0 0 0 0 0 0 0 0 0 0 0 0 0 0 0 0 0 0 0 0 0 0 0 0\n",
      " 0 0 0 0 0 0 0 0 0 0 0]\n",
      "Q_values : [-0.88765955 -0.79257673 -0.7100855  -0.7260449 ]\n",
      "state : [0 0 0 0 0 0 0 0 0 0 0 0 0 0 0 0 0 0 0 0 0 0 0 0 0 1 1 6 7 4 0 0 0 0 0 0 0\n",
      " 0 0 0 0 0 0 0 0 0 0 0]\n",
      "Q_values : [-3.8827484 -3.531832  -3.2708402 -3.4690132]\n",
      "state : [0 1 1 0 0 1 0 0 0 0 0 0 0 0 0 0 0 0 0 0 0 0 0 0 0 1 1 3 4 6 0 0 0 4 4 1 2\n",
      " 0 0 0 0 0 0 0 0 1 2 0]\n",
      "Q_values : [-2.5532923  -2.2703474  -0.9254298  -0.18001749]\n",
      "state : [0 1 1 0 2 0 0 0 0 0 0 0 0 0 0 0 0 0 0 0 0 0 0 0 0 1 1 0 4 1 0 0 0 4 4 4 5\n",
      " 0 0 0 0 0 0 0 4 0 1 0]\n",
      "Q_values : [-1.9712126  -1.7412809   1.1061325  -0.06526686]\n",
      "state : [0 1 1 0 0 1 0 0 0 0 0 1 0 0 0 0 0 0 0 0 0 0 0 0 0 1 1 0 0 1 0 0 0 1 1 4 3\n",
      " 0 0 0 2 0 3 0 5 0 4 0]\n",
      "Q_values : [0.38791594 0.47753558 0.39005005 2.0103095 ]\n",
      "state : [0 1 1 0 0 0 0 0 0 0 1 0 0 0 0 0 0 0 0 0 0 0 0 0 0 1 1 0 0 0 0 0 0 0 1 0 0\n",
      " 0 4 0 2 0 3 0 1 0 2 0]\n",
      "Q_values : [1.3765243 1.3103788 1.605758  0.9659664]\n",
      "state : [0 1 1 0 0 0 0 0 0 0 0 0 0 0 0 0 0 0 0 0 0 0 0 0 0 1 1 0 0 0 0 0 0 0 0 0 0\n",
      " 0 3 0 1 0 0 0 0 0 0 0]\n",
      "Q_values : [1.2075989  1.0957007  0.49256772 0.5091846 ]\n",
      "state : [0 0 1 0 0 0 0 0 0 0 0 0 0 0 0 0 0 0 0 0 0 0 0 0 0 0 1 0 0 0 0 0 0 0 0 0 0\n",
      " 0 0 0 0 0 0 1 0 0 0 0]\n",
      "Q_values : [0.46632853 0.45893955 0.3127295  0.28178364]\n",
      "state : [0 0 1 0 0 0 0 0 0 0 0 0 0 0 0 0 0 0 0 0 0 0 0 0 0 0 1 0 0 0 0 0 0 0 0 0 0\n",
      " 0 0 0 0 0 0 0 0 0 0 0]\n",
      "Q_values : [0.47121394 0.5652941  0.27214926 0.12321079]\n",
      "episode : 195\n",
      "Step #100.00 (0ms ?*RT. ?UPS, TraCI: 1ms, vehicles TOT 33 ACT 1 BUF 0)                     \n",
      " Retrying in 1 seconds\n"
     ]
    },
    {
     "name": "stderr",
     "output_type": "stream",
     "text": [
      "Warning: Environment variable SUMO_HOME is not set properly, disabling XML validation. Set 'auto' or 'always' for web lookups.\n"
     ]
    },
    {
     "name": "stdout",
     "output_type": "stream",
     "text": [
      "state : [0 0 0 0 0 0 0 0 0 0 0 0 0 0 0 0 0 0 0 0 0 0 0 0 1 1 1 3 3 1 0 0 0 0 0 0 0\n",
      " 0 0 0 0 0 0 0 0 0 0 0]\n",
      "Q_values : [-1.6108586 -1.5497363 -1.4780681 -1.6720861]\n",
      "state : [0 0 0 0 0 0 0 0 0 0 0 0 0 0 0 0 0 0 0 0 0 0 0 0 0 1 1 6 7 4 0 0 0 0 0 0 0\n",
      " 0 0 0 0 0 0 0 0 0 0 0]\n",
      "Q_values : [-3.5530384 -3.4016948 -3.2955916 -3.5549858]\n",
      "state : [0 1 0 0 2 4 0 0 0 0 0 0 0 0 0 0 0 0 0 0 0 0 0 0 0 1 0 0 4 6 0 0 0 4 4 4 5\n",
      " 0 0 0 0 1 0 0 0 0 1 0]\n",
      "Q_values : [-2.4325547 -2.4571772  1.8660856  2.2458377]\n",
      "state : [0 1 0 0 0 0 0 0 0 0 0 1 0 0 0 0 0 0 0 0 0 0 0 0 0 1 0 0 0 0 0 0 0 0 0 1 0\n",
      " 0 3 0 4 0 3 0 6 0 4 0]\n",
      "Q_values : [0.91629773 0.9232335  0.5169107  1.4961256 ]\n",
      "state : [0 1 0 0 0 0 0 0 0 0 0 0 0 0 0 0 0 0 0 0 0 0 0 0 0 1 0 0 0 0 0 0 0 0 0 0 0\n",
      " 0 0 0 0 0 0 0 0 0 0 0]\n",
      "Q_values : [0.4671945  0.4480894  0.28891242 0.35013032]\n",
      "state : [0 0 0 0 0 0 0 0 0 0 0 0 0 0 0 0 0 0 0 0 0 0 0 0 0 0 0 0 0 0 0 0 0 0 0 0 0\n",
      " 0 0 0 0 0 0 1 0 0 0 0]\n",
      "Q_values : [-0.15700448 -0.14197952 -0.13946205 -0.08661631]\n",
      "episode : 196\n",
      "Step #100.00 (0ms ?*RT. ?UPS, TraCI: 0ms, vehicles TOT 33 ACT 0 BUF 0)                     \n",
      " Retrying in 1 seconds\n"
     ]
    },
    {
     "name": "stderr",
     "output_type": "stream",
     "text": [
      "Warning: Environment variable SUMO_HOME is not set properly, disabling XML validation. Set 'auto' or 'always' for web lookups.\n"
     ]
    },
    {
     "name": "stdout",
     "output_type": "stream",
     "text": [
      "state : [0 0 0 0 0 0 0 0 0 0 0 0 0 0 0 0 0 0 0 0 0 0 0 0 1 1 1 3 3 1 0 0 0 0 0 0 0\n",
      " 0 0 0 0 0 0 0 0 0 0 0]\n",
      "Q_values : [-1.2798442 -1.2528713 -1.2453697 -1.1226842]\n",
      "state : [0 0 0 0 0 0 0 0 0 0 0 0 0 0 0 0 0 0 0 0 0 0 0 0 0 1 1 6 7 4 0 0 0 0 0 0 0\n",
      " 0 0 0 0 0 0 0 0 0 0 0]\n",
      "Q_values : [-2.9381108 -2.8488169 -2.7870183 -2.6567948]\n",
      "state : [0 1 1 0 4 0 0 0 0 0 0 0 0 0 0 0 0 0 0 0 0 0 0 0 0 1 1 0 6 0 0 0 0 4 4 4 5\n",
      " 0 0 0 0 0 0 0 5 0 0 0]\n",
      "Q_values : [-0.60698354 -0.19852056  2.513597    0.3995569 ]\n",
      "state : [0 1 1 0 0 0 0 0 0 0 0 1 0 0 0 0 0 0 0 0 0 0 0 0 0 1 1 0 0 0 0 0 0 1 1 4 3\n",
      " 0 0 0 2 0 3 0 3 0 6 0]\n",
      "Q_values : [-0.22752836 -0.15303434 -0.6333362   0.268795  ]\n",
      "state : [0 1 1 0 0 0 0 0 0 0 0 0 0 0 0 0 0 0 0 0 0 0 0 0 0 1 1 0 0 0 0 0 0 0 0 0 0\n",
      " 0 0 0 1 0 0 0 0 0 0 0]\n",
      "Q_values : [1.1545851  1.22101    0.38786912 0.74739194]\n",
      "state : [0 1 0 0 0 0 0 0 0 0 0 0 0 0 0 0 0 0 0 0 0 0 0 0 0 1 0 0 0 0 0 0 0 0 0 0 0\n",
      " 0 0 0 0 1 0 0 0 0 0 0]\n",
      "Q_values : [0.28745687 0.30903202 0.21133795 0.30986416]\n",
      "episode : 197\n",
      "Step #100.00 (0ms ?*RT. ?UPS, TraCI: 0ms, vehicles TOT 33 ACT 1 BUF 0)                     \n",
      " Retrying in 1 seconds\n"
     ]
    },
    {
     "name": "stderr",
     "output_type": "stream",
     "text": [
      "Warning: Environment variable SUMO_HOME is not set properly, disabling XML validation. Set 'auto' or 'always' for web lookups.\n"
     ]
    },
    {
     "name": "stdout",
     "output_type": "stream",
     "text": [
      "state : [0 0 0 0 0 0 0 0 0 0 0 0 0 0 0 0 0 0 0 0 0 0 0 0 0 0 0 0 0 0 0 0 0 0 0 0 0\n",
      " 0 0 0 0 0 0 0 0 0 0 0]\n",
      "Q_values : [-0.80698454 -0.8424532  -0.71806365 -0.6758238 ]\n",
      "state : [0 0 0 0 0 0 0 0 0 0 0 0 0 0 0 0 0 0 0 0 0 0 0 0 0 1 1 6 7 4 0 0 0 0 0 0 0\n",
      " 0 0 0 0 0 0 0 0 0 0 0]\n",
      "Q_values : [-4.1383877 -4.160763  -3.4735775 -3.383103 ]\n",
      "state : [0 1 0 0 4 2 0 0 0 0 0 0 0 0 0 0 0 0 0 0 0 0 0 0 0 1 0 0 6 4 0 0 0 4 4 4 5\n",
      " 0 0 0 0 1 0 0 2 0 0 0]\n",
      "Q_values : [-2.9554439 -3.0455167  3.571317   2.4901068]\n",
      "state : [0 1 0 0 0 4 0 0 0 0 0 4 0 0 0 0 0 0 0 0 0 0 0 0 0 1 0 0 0 4 0 0 0 0 0 4 0\n",
      " 0 0 0 3 0 3 0 0 0 5 0]\n",
      "Q_values : [4.048845  4.071813  4.5146027 9.616595 ]\n",
      "state : [0 1 0 0 0 0 0 0 0 0 0 0 0 0 0 0 0 0 0 0 0 0 0 0 0 1 0 0 0 0 0 0 0 0 0 0 0\n",
      " 0 4 0 0 0 0 0 4 0 0 0]\n",
      "Q_values : [0.601333   0.49252498 0.60158664 0.5243617 ]\n",
      "state : [0 1 0 0 0 0 0 0 0 0 0 0 0 0 0 0 0 0 0 0 0 0 0 0 0 1 0 0 0 0 0 0 0 0 0 0 0\n",
      " 0 4 0 0 0 0 0 3 0 0 0]\n",
      "Q_values : [0.6574073  0.53776985 0.5848624  0.51200247]\n",
      "state : [0 0 0 0 0 0 0 0 0 0 0 0 0 0 0 0 0 0 0 0 0 0 0 0 0 0 0 0 0 0 0 0 0 0 0 0 0\n",
      " 0 0 0 0 0 0 1 0 0 0 0]\n",
      "Q_values : [-0.13489527 -0.23911764 -0.07962039 -0.22689863]\n",
      "episode : 198\n",
      "Step #100.00 (0ms ?*RT. ?UPS, TraCI: 0ms, vehicles TOT 33 ACT 0 BUF 0)                     \n",
      " Retrying in 1 seconds\n"
     ]
    },
    {
     "name": "stderr",
     "output_type": "stream",
     "text": [
      "Warning: Environment variable SUMO_HOME is not set properly, disabling XML validation. Set 'auto' or 'always' for web lookups.\n"
     ]
    },
    {
     "name": "stdout",
     "output_type": "stream",
     "text": [
      "state : [0 0 0 0 0 0 0 0 0 0 0 0 0 0 0 0 0 0 0 0 0 0 0 0 1 1 1 3 3 1 0 0 0 0 0 0 0\n",
      " 0 0 0 0 0 0 0 0 0 0 0]\n",
      "Q_values : [-1.0394905 -1.1218843 -0.980168  -1.3045673]\n",
      "state : [0 1 1 0 1 0 0 0 0 0 0 0 0 0 0 0 0 0 0 0 0 0 0 0 0 1 1 4 6 4 0 0 0 4 4 1 2\n",
      " 0 0 0 0 0 0 0 1 1 0 0]\n",
      "Q_values : [-1.4589932 -1.551404  -1.0967103 -1.9374484]\n",
      "state : [0 1 1 0 0 2 0 0 0 0 0 0 0 0 0 0 0 0 0 0 0 0 0 0 0 1 1 0 0 4 0 0 0 4 4 4 5\n",
      " 0 0 0 0 0 0 0 2 0 5 0]\n",
      "Q_values : [-1.0292505  -1.0664277  -1.4051528  -0.62676597]\n",
      "state : [0 1 1 0 0 0 0 0 0 0 2 0 0 0 0 0 0 0 0 0 0 0 0 0 0 1 1 0 0 0 0 0 0 1 4 1 3\n",
      " 0 2 0 0 0 3 0 4 0 5 0]\n",
      "Q_values : [0.34128785 0.24417874 0.9756538  0.17477846]\n",
      "state : [0 1 1 0 0 0 0 0 0 0 0 1 0 0 0 0 0 0 0 0 0 0 0 0 0 1 1 0 0 0 0 0 0 0 0 1 0\n",
      " 0 0 0 3 0 0 0 0 0 0 0]\n",
      "Q_values : [1.4739542  1.4429141  0.64976573 1.8906562 ]\n",
      "state : [0 1 1 0 0 0 0 0 0 0 0 0 0 0 0 0 0 0 0 0 0 0 0 0 0 1 1 0 0 0 0 0 0 0 0 0 0\n",
      " 0 1 0 0 0 0 0 0 0 0 0]\n",
      "Q_values : [1.2744912  1.2284297  0.42131025 0.9387742 ]\n",
      "episode : 199\n",
      "Step #100.00 (0ms ?*RT. ?UPS, TraCI: 0ms, vehicles TOT 33 ACT 1 BUF 0)                     \n",
      " Retrying in 1 seconds\n"
     ]
    },
    {
     "name": "stderr",
     "output_type": "stream",
     "text": [
      "Warning: Environment variable SUMO_HOME is not set properly, disabling XML validation. Set 'auto' or 'always' for web lookups.\n"
     ]
    },
    {
     "name": "stdout",
     "output_type": "stream",
     "text": [
      "state : [0 0 0 0 0 0 0 0 0 0 0 0 0 0 0 0 0 0 0 0 0 0 0 0 1 1 1 3 3 1 0 0 0 0 0 0 0\n",
      " 0 0 0 0 0 0 0 0 0 0 0]\n",
      "Q_values : [-1.8580458 -1.7804271 -1.6268975 -1.4995886]\n",
      "state : [0 0 0 0 0 0 0 0 0 0 0 0 0 0 0 0 0 0 0 0 0 0 0 0 0 1 1 6 7 4 0 0 0 0 0 0 0\n",
      " 0 0 0 0 0 0 0 0 0 0 0]\n",
      "Q_values : [-4.1556325 -3.8253872 -3.4553704 -3.3881445]\n",
      "state : [0 0 0 0 6 4 0 0 0 0 2 1 0 0 0 0 0 0 0 0 0 0 0 0 0 0 0 0 6 4 0 0 0 1 4 4 3\n",
      " 0 0 0 0 1 3 0 0 0 0 0]\n",
      "Q_values : [ 1.2890154  2.8046753 11.269028   8.800675 ]\n",
      "state : [0 0 0 0 0 4 0 0 0 0 0 4 0 0 0 0 0 0 0 0 0 0 0 0 0 0 0 0 0 4 0 0 0 0 0 4 0\n",
      " 0 0 0 3 0 0 0 0 0 5 0]\n",
      "Q_values : [4.272694 5.430954 5.830191 9.218428]\n",
      "state : [0 0 0 0 0 0 0 0 0 0 0 0 0 0 0 0 0 0 0 0 0 0 0 0 0 0 0 0 0 0 0 0 0 0 0 0 0\n",
      " 0 4 0 0 0 0 0 4 0 0 0]\n",
      "Q_values : [0.23227131 0.21069649 0.33093676 0.2510421 ]\n",
      "state : [0 0 0 0 0 0 0 0 0 0 0 0 0 0 0 0 0 0 0 0 0 0 0 0 0 0 0 0 0 0 0 0 0 0 0 0 0\n",
      " 0 4 0 0 0 0 0 3 0 0 0]\n",
      "Q_values : [0.26067364 0.24887452 0.30698103 0.22303778]\n",
      "episode : 200\n",
      "Step #100.00 (0ms ?*RT. ?UPS, TraCI: 0ms, vehicles TOT 33 ACT 0 BUF 0)                     \n",
      " Retrying in 1 seconds\n"
     ]
    },
    {
     "name": "stderr",
     "output_type": "stream",
     "text": [
      "Warning: Environment variable SUMO_HOME is not set properly, disabling XML validation. Set 'auto' or 'always' for web lookups.\n"
     ]
    },
    {
     "name": "stdout",
     "output_type": "stream",
     "text": [
      "state : [0 0 0 0 0 0 0 0 0 0 0 0 0 0 0 0 0 0 0 0 0 0 0 0 0 1 1 6 7 4 0 0 0 0 0 0 0\n",
      " 0 0 0 0 0 0 0 0 0 0 0]\n",
      "Q_values : [-3.1315007 -2.8320374 -2.3939502 -2.6615844]\n",
      "state : [0 1 1 0 0 1 0 0 0 0 0 0 0 0 0 0 0 0 0 0 0 0 0 0 0 1 1 3 4 6 0 0 0 4 4 1 2\n",
      " 0 0 0 0 0 0 0 0 1 2 0]\n",
      "Q_values : [-1.5209916  -1.2485402  -1.0785515  -0.33963692]\n",
      "state : [0 1 1 0 2 0 0 0 0 0 0 0 0 0 0 0 0 0 0 0 0 0 0 0 0 1 1 0 4 1 0 0 0 4 4 4 5\n",
      " 0 0 0 0 0 0 0 4 0 1 0]\n",
      "Q_values : [-1.0061264  -1.0100802   0.3407278  -0.45134622]\n",
      "state : [0 1 1 0 0 1 0 0 0 0 0 1 0 0 0 0 0 0 0 0 0 0 0 0 0 1 1 0 0 1 0 0 0 1 1 4 3\n",
      " 0 0 0 2 0 3 0 5 0 4 0]\n",
      "Q_values : [1.6750785 1.8054625 0.4687779 1.7708125]\n",
      "state : [0 1 0 0 0 0 0 0 0 0 0 0 0 0 0 0 0 0 0 0 0 0 0 0 0 1 0 0 0 0 0 0 0 0 0 0 0\n",
      " 0 3 0 0 0 0 0 0 0 0 0]\n",
      "Q_values : [0.73148316 0.3965479  0.19649783 0.4679268 ]\n",
      "episode : 201\n",
      "Step #100.00 (0ms ?*RT. ?UPS, TraCI: 0ms, vehicles TOT 33 ACT 1 BUF 0)                     \n",
      " Retrying in 1 seconds\n"
     ]
    },
    {
     "name": "stderr",
     "output_type": "stream",
     "text": [
      "Warning: Environment variable SUMO_HOME is not set properly, disabling XML validation. Set 'auto' or 'always' for web lookups.\n"
     ]
    },
    {
     "name": "stdout",
     "output_type": "stream",
     "text": [
      "state : [0 0 0 0 0 0 0 0 0 0 0 0 0 0 0 0 0 0 0 0 0 0 0 0 1 1 1 3 3 1 0 0 0 0 0 0 0\n",
      " 0 0 0 0 0 0 0 0 0 0 0]\n",
      "Q_values : [-1.7790297 -1.865354  -1.5176785 -1.295906 ]\n",
      "state : [0 0 0 0 0 0 0 0 0 0 0 0 0 0 0 0 0 0 0 0 0 0 0 0 0 1 1 6 7 4 0 0 0 0 0 0 0\n",
      " 0 0 0 0 0 0 0 0 0 0 0]\n",
      "Q_values : [-4.071514  -3.875659  -3.3050888 -3.0979738]\n",
      "state : [0 1 1 0 1 0 0 0 0 0 0 0 0 0 0 0 0 0 0 0 0 0 0 0 0 1 1 4 6 4 0 0 0 4 4 1 2\n",
      " 0 0 0 0 0 0 0 1 1 0 0]\n",
      "Q_values : [-3.579248  -3.355164  -1.6960145 -1.7702682]\n",
      "state : [0 1 1 0 0 2 0 0 0 0 0 0 0 0 0 0 0 0 0 0 0 0 0 0 0 1 1 0 0 4 0 0 0 4 4 4 5\n",
      " 0 0 0 0 0 0 0 2 0 5 0]\n",
      "Q_values : [-2.434541   -1.9672664  -0.8666142   0.46071315]\n",
      "state : [0 1 1 0 0 0 0 0 0 0 2 0 0 0 0 0 0 0 0 0 0 0 0 0 0 1 1 0 0 0 0 0 0 1 4 1 3\n",
      " 0 2 0 0 0 3 0 4 0 5 0]\n",
      "Q_values : [0.53888404 0.13888344 1.6086124  0.7114856 ]\n",
      "state : [0 1 1 0 0 0 0 0 0 0 0 1 0 0 0 0 0 0 0 0 0 0 0 0 0 1 1 0 0 0 0 0 0 0 0 1 0\n",
      " 0 3 0 4 0 3 0 3 0 0 0]\n",
      "Q_values : [2.076356   2.4013045  0.99791414 3.4226198 ]\n",
      "state : [0 1 1 0 0 0 0 0 0 0 0 0 0 0 0 0 0 0 0 0 0 0 0 0 0 1 1 0 0 0 0 0 0 0 0 0 0\n",
      " 0 1 0 3 0 0 0 0 0 0 0]\n",
      "Q_values : [1.7512989  1.5906337  0.69592476 1.5938468 ]\n",
      "state : [0 0 1 0 0 0 0 0 0 0 0 0 0 0 0 0 0 0 0 0 0 0 0 0 0 0 1 0 0 0 0 0 0 0 0 0 0\n",
      " 0 0 0 0 0 0 0 0 0 0 0]\n",
      "Q_values : [0.44227904 0.4029359  0.31058076 0.29619813]\n",
      "episode : 202\n",
      "Step #100.00 (0ms ?*RT. ?UPS, TraCI: 0ms, vehicles TOT 33 ACT 1 BUF 0)                     \n",
      " Retrying in 1 seconds\n"
     ]
    },
    {
     "name": "stderr",
     "output_type": "stream",
     "text": [
      "Warning: Environment variable SUMO_HOME is not set properly, disabling XML validation. Set 'auto' or 'always' for web lookups.\n"
     ]
    },
    {
     "name": "stdout",
     "output_type": "stream",
     "text": [
      "state : [0 0 0 0 0 0 0 0 0 0 0 0 0 0 0 0 0 0 0 0 0 0 0 0 0 0 0 0 0 0 0 0 0 0 0 0 0\n",
      " 0 0 0 0 0 0 0 0 0 0 0]\n",
      "Q_values : [-0.51852226 -0.48294023 -0.22526824 -0.4639337 ]\n",
      "state : [0 0 0 0 0 0 0 0 0 0 0 0 0 0 0 0 0 0 0 0 0 0 0 0 1 1 1 3 3 1 0 0 0 0 0 0 0\n",
      " 0 0 0 0 0 0 0 0 0 0 0]\n",
      "Q_values : [-1.281896  -1.04477   -0.909188  -1.0756475]\n",
      "state : [0 0 0 0 0 0 0 0 0 0 0 0 0 0 0 0 0 0 0 0 0 0 0 0 0 1 1 6 7 4 0 0 0 0 0 0 0\n",
      " 0 0 0 0 0 0 0 0 0 0 0]\n",
      "Q_values : [-3.0953476 -2.4976115 -2.415054  -2.939331 ]\n",
      "state : [0 1 1 0 0 1 0 0 0 0 0 0 0 0 0 0 0 0 0 0 0 0 0 0 0 1 1 3 4 6 0 0 0 4 4 1 2\n",
      " 0 0 0 0 0 0 0 0 1 2 0]\n",
      "Q_values : [-1.5094674  -0.91750485 -0.5331724  -0.38612738]\n",
      "state : [0 1 1 0 2 0 0 0 0 0 0 0 0 0 0 0 0 0 0 0 0 0 0 0 0 1 1 0 4 1 0 0 0 4 4 4 5\n",
      " 0 0 0 0 0 0 0 4 0 1 0]\n",
      "Q_values : [-0.91955477 -0.61782646  1.431493   -0.5855514 ]\n",
      "state : [0 1 1 0 0 1 0 0 0 0 0 1 0 0 0 0 0 0 0 0 0 0 0 0 0 1 1 0 0 1 0 0 0 1 1 4 3\n",
      " 0 0 0 2 0 3 0 5 0 4 0]\n",
      "Q_values : [0.6332382  0.76545167 0.20236443 1.2595562 ]\n",
      "state : [0 1 1 0 0 0 0 0 0 0 1 0 0 0 0 0 0 0 0 0 0 0 0 0 0 1 1 0 0 0 0 0 0 0 1 0 0\n",
      " 0 4 0 2 0 3 0 1 0 2 0]\n",
      "Q_values : [1.5693327 1.4236528 1.0858678 0.9241887]\n",
      "state : [0 0 1 0 0 0 0 0 0 0 1 0 0 0 0 0 0 0 0 0 0 0 0 0 0 0 1 0 0 0 0 0 0 0 1 0 0\n",
      " 0 3 0 0 0 0 1 0 0 0 0]\n",
      "Q_values : [0.7418782  0.6337022  0.81059694 0.5356757 ]\n",
      "state : [0 0 1 0 0 0 0 0 0 0 0 0 0 0 0 0 0 0 0 0 0 0 0 0 0 0 1 0 0 0 0 0 0 0 0 0 0\n",
      " 0 0 0 1 0 0 0 0 0 0 0]\n",
      "Q_values : [0.30768657 0.24187244 0.15759805 0.15363702]\n",
      "state : [0 0 1 0 0 0 0 0 0 0 0 0 0 0 0 0 0 0 0 0 0 0 0 0 0 0 1 0 0 0 0 0 0 0 0 0 0\n",
      " 0 0 0 0 0 0 0 0 0 0 0]\n",
      "Q_values : [0.28061515 0.18774346 0.15022853 0.16374394]\n",
      "episode : 203\n",
      "Step #100.00 (0ms ?*RT. ?UPS, TraCI: 0ms, vehicles TOT 33 ACT 1 BUF 0)                     \n",
      " Retrying in 1 seconds\n"
     ]
    },
    {
     "name": "stderr",
     "output_type": "stream",
     "text": [
      "Warning: Environment variable SUMO_HOME is not set properly, disabling XML validation. Set 'auto' or 'always' for web lookups.\n"
     ]
    },
    {
     "name": "stdout",
     "output_type": "stream",
     "text": [
      "state : [0 0 0 0 0 0 0 0 0 0 0 0 0 0 0 0 0 0 0 0 0 0 0 0 1 1 1 3 3 1 0 0 0 0 0 0 0\n",
      " 0 0 0 0 0 0 0 0 0 0 0]\n",
      "Q_values : [-1.7759887 -1.9027479 -1.8900119 -1.6346273]\n",
      "state : [0 0 0 0 0 0 0 0 0 0 0 0 0 0 0 0 0 0 0 0 0 0 0 0 0 1 1 6 7 4 0 0 0 0 0 0 0\n",
      " 0 0 0 0 0 0 0 0 0 0 0]\n",
      "Q_values : [-3.9625509 -4.040027  -4.038847  -3.5635147]\n",
      "state : [0 1 1 0 1 0 0 0 0 0 0 0 0 0 0 0 0 0 0 0 0 0 0 0 0 1 1 4 6 4 0 0 0 4 4 1 2\n",
      " 0 0 0 0 0 0 0 1 1 0 0]\n",
      "Q_values : [-3.265647  -3.3185086 -2.168063  -1.8159626]\n",
      "state : [0 1 1 0 4 0 0 0 0 0 0 0 0 0 0 0 0 0 0 0 0 0 0 0 0 1 1 0 6 0 0 0 0 4 4 4 5\n",
      " 0 0 0 0 0 0 0 5 0 0 0]\n",
      "Q_values : [-1.646978  -1.654503   2.5221522  1.0736396]\n",
      "state : [0 1 1 0 0 0 0 0 0 0 0 1 0 0 0 0 0 0 0 0 0 0 0 0 0 1 1 0 0 0 0 0 0 1 1 4 3\n",
      " 0 0 0 2 0 3 0 3 0 6 0]\n",
      "Q_values : [-0.35234165 -0.5874702  -0.4823594   0.46062505]\n",
      "state : [0 1 1 0 0 0 0 0 0 0 1 0 0 0 0 0 0 0 0 0 0 0 0 0 0 1 1 0 0 0 0 0 0 0 1 0 0\n",
      " 0 4 0 2 0 3 0 0 0 5 0]\n",
      "Q_values : [0.4528917  0.3603297  0.5714693  0.54205054]\n",
      "state : [0 1 1 0 0 0 0 0 0 0 0 0 0 0 0 0 0 0 0 0 0 0 0 0 0 1 1 0 0 0 0 0 0 0 0 0 0\n",
      " 0 3 0 1 0 0 0 0 0 0 0]\n",
      "Q_values : [0.93525696 0.97918206 0.4957371  0.71832204]\n",
      "state : [0 1 0 0 0 0 0 0 0 0 0 0 0 0 0 0 0 0 0 0 0 0 0 0 0 1 0 0 0 0 0 0 0 0 0 0 0\n",
      " 0 0 0 0 1 0 0 0 0 0 0]\n",
      "Q_values : [0.1933622  0.02428891 0.27750325 0.23796442]\n",
      "state : [0 1 0 0 0 0 0 0 0 0 0 0 0 0 0 0 0 0 0 0 0 0 0 0 0 1 0 0 0 0 0 0 0 0 0 0 0\n",
      " 0 0 0 0 0 0 0 0 0 0 0]\n",
      "Q_values : [0.32918826 0.19456121 0.30601448 0.27814335]\n",
      "episode : 204\n",
      "Step #100.00 (0ms ?*RT. ?UPS, TraCI: 0ms, vehicles TOT 33 ACT 1 BUF 0)                     \n",
      " Retrying in 1 seconds\n"
     ]
    },
    {
     "name": "stderr",
     "output_type": "stream",
     "text": [
      "Warning: Environment variable SUMO_HOME is not set properly, disabling XML validation. Set 'auto' or 'always' for web lookups.\n"
     ]
    },
    {
     "name": "stdout",
     "output_type": "stream",
     "text": [
      "state : [0 0 0 0 0 0 0 0 0 0 0 0 0 0 0 0 0 0 0 0 0 0 0 0 0 0 0 0 0 0 0 0 0 0 0 0 0\n",
      " 0 0 0 0 0 0 0 0 0 0 0]\n",
      "Q_values : [-0.53736085 -0.73746955 -0.36410898 -0.53857386]\n",
      "state : [0 0 0 0 0 0 0 0 0 0 0 0 0 0 0 0 0 0 0 0 0 0 0 0 1 1 1 3 3 1 0 0 0 0 0 0 0\n",
      " 0 0 0 0 0 0 0 0 0 0 0]\n",
      "Q_values : [-1.3807251 -1.5478618 -1.1029441 -1.3946826]\n",
      "state : [0 1 1 0 0 1 0 0 0 0 0 0 0 0 0 0 0 0 0 0 0 0 0 0 0 1 1 3 4 6 0 0 0 4 4 1 2\n",
      " 0 0 0 0 0 0 0 0 1 2 0]\n",
      "Q_values : [-2.0204523 -2.215916  -1.8051739 -1.7805676]\n",
      "state : [0 1 1 0 2 0 0 0 0 0 0 0 0 0 0 0 0 0 0 0 0 0 0 0 0 1 1 0 4 1 0 0 0 4 4 4 5\n",
      " 0 0 0 0 0 0 0 4 0 1 0]\n",
      "Q_values : [-1.7464309  -1.9178499  -0.16824201 -1.7284251 ]\n",
      "state : [0 1 1 0 0 1 0 0 0 0 0 1 0 0 0 0 0 0 0 0 0 0 0 0 0 1 1 0 0 1 0 0 0 1 1 4 3\n",
      " 0 0 0 2 0 3 0 5 0 4 0]\n",
      "Q_values : [-0.4651116  -0.6679277  -0.6627505  -0.25101292]\n",
      "state : [0 1 1 0 0 0 0 0 0 0 1 0 0 0 0 0 0 0 0 0 0 0 0 0 0 1 1 0 0 0 0 0 0 0 1 0 0\n",
      " 0 4 0 2 0 3 0 1 0 2 0]\n",
      "Q_values : [0.9925338 1.1821764 0.4714666 0.7563976]\n",
      "state : [0 1 0 0 0 0 0 0 0 0 1 0 0 0 0 0 0 0 0 0 0 0 0 0 0 1 0 0 0 0 0 0 0 0 1 0 0\n",
      " 0 3 0 0 1 0 0 0 0 0 0]\n",
      "Q_values : [0.553128   0.56109726 0.7248949  0.56996   ]\n",
      "state : [0 1 0 0 0 0 0 0 0 0 0 0 0 0 0 0 0 0 0 0 0 0 0 0 0 1 0 0 0 0 0 0 0 0 0 0 0\n",
      " 0 0 0 0 0 0 0 0 0 0 0]\n",
      "Q_values : [0.3254527  0.3846215  0.22377054 0.45758405]\n",
      "episode : 205\n",
      "Step #100.00 (0ms ?*RT. ?UPS, TraCI: 0ms, vehicles TOT 33 ACT 1 BUF 0)                     \n",
      " Retrying in 1 seconds\n"
     ]
    },
    {
     "name": "stderr",
     "output_type": "stream",
     "text": [
      "Warning: Environment variable SUMO_HOME is not set properly, disabling XML validation. Set 'auto' or 'always' for web lookups.\n"
     ]
    },
    {
     "name": "stdout",
     "output_type": "stream",
     "text": [
      "state : [0 0 0 0 0 0 0 0 0 0 0 0 0 0 0 0 0 0 0 0 0 0 0 0 1 1 1 3 3 1 0 0 0 0 0 0 0\n",
      " 0 0 0 0 0 0 0 0 0 0 0]\n",
      "Q_values : [-2.1288474 -1.9614615 -1.6486179 -1.1704925]\n",
      "state : [0 0 0 0 0 0 0 0 0 0 0 0 0 0 0 0 0 0 0 0 0 0 0 0 0 1 1 6 7 4 0 0 0 0 0 0 0\n",
      " 0 0 0 0 0 0 0 0 0 0 0]\n",
      "Q_values : [-4.5765295 -4.1296525 -3.550754  -2.6889741]\n",
      "state : [0 1 1 0 1 0 0 0 0 0 0 0 0 0 0 0 0 0 0 0 0 0 0 0 0 1 1 4 6 4 0 0 0 4 4 1 2\n",
      " 0 0 0 0 0 0 0 1 1 0 0]\n",
      "Q_values : [-3.5514328 -3.1804707 -1.553599  -1.0181736]\n",
      "state : [0 1 1 0 4 0 0 0 0 0 0 0 0 0 0 0 0 0 0 0 0 0 0 0 0 1 1 0 6 0 0 0 0 4 4 4 5\n",
      " 0 0 0 0 0 0 0 5 0 0 0]\n",
      "Q_values : [-1.381121  -1.1122723  4.0855412  2.0703056]\n",
      "state : [0 1 1 0 0 0 0 0 0 0 0 1 0 0 0 0 0 0 0 0 0 0 0 0 0 1 1 0 0 0 0 0 0 1 1 4 3\n",
      " 0 0 0 2 0 3 0 3 0 6 0]\n",
      "Q_values : [0.03412119 0.08692044 0.08292139 1.4474505 ]\n",
      "state : [0 1 1 0 0 0 0 0 0 0 1 0 0 0 0 0 0 0 0 0 0 0 0 0 0 1 1 0 0 0 0 0 0 0 1 0 0\n",
      " 0 4 0 2 0 3 0 0 0 5 0]\n",
      "Q_values : [0.89905745 1.0911834  1.6680686  1.4622014 ]\n",
      "state : [0 1 1 0 0 0 0 0 0 0 0 0 0 0 0 0 0 0 0 0 0 0 0 0 0 1 1 0 0 0 0 0 0 0 0 0 0\n",
      " 0 0 0 0 0 0 0 0 0 0 0]\n",
      "Q_values : [0.806023  1.1059601 0.5646451 1.028898 ]\n",
      "episode : 206\n",
      "Step #100.00 (0ms ?*RT. ?UPS, TraCI: 0ms, vehicles TOT 33 ACT 2 BUF 0)                     \n",
      " Retrying in 1 seconds\n"
     ]
    },
    {
     "name": "stderr",
     "output_type": "stream",
     "text": [
      "Warning: Environment variable SUMO_HOME is not set properly, disabling XML validation. Set 'auto' or 'always' for web lookups.\n"
     ]
    },
    {
     "name": "stdout",
     "output_type": "stream",
     "text": [
      "state : [0 0 0 0 0 0 0 0 0 0 0 0 0 0 0 0 0 0 0 0 0 0 0 0 0 1 1 6 7 4 0 0 0 0 0 0 0\n",
      " 0 0 0 0 0 0 0 0 0 0 0]\n",
      "Q_values : [-3.2130556 -2.9767962 -2.3380885 -2.8076184]\n",
      "state : [0 1 1 0 0 1 0 0 0 0 0 0 0 0 0 0 0 0 0 0 0 0 0 0 0 1 1 3 4 6 0 0 0 4 4 1 2\n",
      " 0 0 0 0 0 0 0 0 1 2 0]\n",
      "Q_values : [-1.9449749 -1.7993894 -1.2207023 -1.2646918]\n",
      "state : [0 1 1 0 0 4 0 0 0 0 0 0 0 0 0 0 0 0 0 0 0 0 0 0 0 1 1 0 1 6 0 0 0 4 4 4 5\n",
      " 0 0 0 0 0 0 0 0 0 4 0]\n",
      "Q_values : [-0.78692126 -0.77226835  0.23615009  1.37158   ]\n",
      "state : [0 1 1 0 1 0 0 0 0 0 2 0 0 0 0 0 0 0 0 0 0 0 0 0 0 1 1 0 1 0 0 0 0 1 4 1 3\n",
      " 0 2 0 0 0 3 0 5 0 1 0]\n",
      "Q_values : [0.999859  0.9452508 2.590676  1.231277 ]\n",
      "state : [0 1 1 0 0 0 0 0 0 0 0 1 0 0 0 0 0 0 0 0 0 0 0 0 0 1 1 0 0 0 0 0 0 0 0 1 0\n",
      " 0 3 0 4 0 3 0 6 0 1 0]\n",
      "Q_values : [0.8218311 1.079304  0.5824271 0.9559194]\n",
      "state : [0 1 0 0 0 0 0 0 0 0 0 1 0 0 0 0 0 0 0 0 0 0 0 0 0 1 0 0 0 0 0 0 0 0 0 1 0\n",
      " 0 0 0 3 1 0 0 0 0 0 0]\n",
      "Q_values : [0.29940027 0.3626264  0.2152211  0.41743767]\n",
      "state : [0 1 0 0 0 0 0 0 0 0 0 0 0 0 0 0 0 0 0 0 0 0 0 0 0 1 0 0 0 0 0 0 0 0 0 0 0\n",
      " 0 1 0 0 0 0 0 0 0 0 0]\n",
      "Q_values : [0.22170657 0.26831138 0.16093029 0.2815431 ]\n",
      "state : [0 1 0 0 0 0 0 0 0 0 0 0 0 0 0 0 0 0 0 0 0 0 0 0 0 1 0 0 0 0 0 0 0 0 0 0 0\n",
      " 0 0 0 0 0 0 0 0 0 0 0]\n",
      "Q_values : [0.20194153 0.25672358 0.14235777 0.27725488]\n",
      "episode : 207\n",
      "Step #100.00 (0ms ?*RT. ?UPS, TraCI: 0ms, vehicles TOT 33 ACT 1 BUF 0)                     \n",
      " Retrying in 1 seconds\n"
     ]
    },
    {
     "name": "stderr",
     "output_type": "stream",
     "text": [
      "Warning: Environment variable SUMO_HOME is not set properly, disabling XML validation. Set 'auto' or 'always' for web lookups.\n"
     ]
    },
    {
     "name": "stdout",
     "output_type": "stream",
     "text": [
      "state : [0 0 0 0 0 0 0 0 0 0 0 0 0 0 0 0 0 0 0 0 0 0 0 0 0 0 0 0 0 0 0 0 0 0 0 0 0\n",
      " 0 0 0 0 0 0 0 0 0 0 0]\n",
      "Q_values : [-0.7371025  -0.7199585  -0.5826067  -0.54658306]\n",
      "state : [0 0 0 0 0 0 0 0 0 0 0 0 0 0 0 0 0 0 0 0 0 0 0 0 1 1 1 3 3 1 0 0 0 0 0 0 0\n",
      " 0 0 0 0 0 0 0 0 0 0 0]\n",
      "Q_values : [-2.0269122 -1.9671581 -1.5766968 -1.6467731]\n",
      "state : [0 1 0 0 0 4 0 0 0 0 0 0 0 0 0 0 0 0 0 0 0 0 0 0 0 1 0 0 1 6 0 0 0 4 4 4 5\n",
      " 0 0 0 0 0 0 0 0 0 5 0]\n",
      "Q_values : [-2.3144684  -2.3394558  -0.12814023  2.2498205 ]\n",
      "state : [0 1 0 0 1 0 0 0 0 0 2 0 0 0 0 0 0 0 0 0 0 0 0 0 0 1 0 0 1 0 0 0 0 1 4 1 3\n",
      " 0 2 0 0 0 3 0 5 0 4 0]\n",
      "Q_values : [0.44995272 0.4381563  2.849651   1.4181151 ]\n",
      "state : [0 1 0 0 0 0 0 0 0 0 0 1 0 0 0 0 0 0 0 0 0 0 0 0 0 1 0 0 0 0 0 0 0 0 0 1 0\n",
      " 0 0 0 3 0 0 0 0 0 0 0]\n",
      "Q_values : [0.630203   0.7581359  0.82595396 1.0030403 ]\n",
      "state : [0 1 0 0 0 0 0 0 0 0 0 0 0 0 0 0 0 0 0 0 0 0 0 0 0 1 0 0 0 0 0 0 0 0 0 0 0\n",
      " 0 1 0 0 0 0 0 0 0 0 0]\n",
      "Q_values : [0.18562323 0.25149792 0.20135033 0.34956956]\n",
      "episode : 208\n",
      "Step #100.00 (0ms ?*RT. ?UPS, TraCI: 0ms, vehicles TOT 33 ACT 1 BUF 0)                     \n",
      " Retrying in 1 seconds\n"
     ]
    },
    {
     "name": "stderr",
     "output_type": "stream",
     "text": [
      "Warning: Environment variable SUMO_HOME is not set properly, disabling XML validation. Set 'auto' or 'always' for web lookups.\n"
     ]
    },
    {
     "name": "stdout",
     "output_type": "stream",
     "text": [
      "state : [0 0 0 0 0 0 0 0 0 0 0 0 0 0 0 0 0 0 0 0 0 0 0 0 1 1 1 3 3 1 0 0 0 0 0 0 0\n",
      " 0 0 0 0 0 0 0 0 0 0 0]\n",
      "Q_values : [-1.5015188 -1.4598376 -1.1454196 -1.1723616]\n",
      "state : [0 0 1 0 2 4 0 0 0 0 0 0 0 0 0 0 0 0 0 0 0 0 0 0 0 0 1 0 4 6 0 0 0 4 4 4 5\n",
      " 0 0 0 0 0 0 1 0 0 1 0]\n",
      "Q_values : [-0.9033985 -1.480248   2.1375005  2.0412877]\n",
      "state : [0 0 1 0 0 6 0 0 0 0 0 1 0 0 0 0 0 0 0 0 0 0 0 0 0 0 1 0 0 6 0 0 0 1 1 4 3\n",
      " 0 0 0 2 0 3 0 0 0 4 0]\n",
      "Q_values : [1.847104  2.0126312 1.5979562 5.158554 ]\n",
      "state : [0 0 1 0 0 0 0 0 0 0 1 0 0 0 0 0 0 0 0 0 0 0 0 0 0 0 1 0 0 0 0 0 0 0 1 0 0\n",
      " 0 4 0 2 0 3 0 5 0 2 0]\n",
      "Q_values : [0.52904695 0.62750465 0.50446093 0.5008478 ]\n",
      "state : [0 0 0 0 0 0 0 0 0 0 1 0 0 0 0 0 0 0 0 0 0 0 0 0 0 0 0 0 0 0 0 0 0 0 1 0 0\n",
      " 0 4 0 0 1 0 0 6 0 0 0]\n",
      "Q_values : [0.379649   0.40083158 0.533974   0.4018566 ]\n",
      "state : [0 0 0 0 0 0 0 0 0 0 0 0 0 0 0 0 0 0 0 0 0 0 0 0 0 0 0 0 0 0 0 0 0 0 0 0 0\n",
      " 0 0 0 0 0 0 0 0 0 0 0]\n",
      "Q_values : [-0.6309055  -0.5352875  -0.7554356  -0.48493153]\n",
      "episode : 209\n",
      "Step #100.00 (0ms ?*RT. ?UPS, TraCI: 0ms, vehicles TOT 33 ACT 0 BUF 0)                     \n",
      " Retrying in 1 seconds\n"
     ]
    },
    {
     "name": "stderr",
     "output_type": "stream",
     "text": [
      "Warning: Environment variable SUMO_HOME is not set properly, disabling XML validation. Set 'auto' or 'always' for web lookups.\n"
     ]
    },
    {
     "name": "stdout",
     "output_type": "stream",
     "text": [
      "state : [0 0 0 0 0 0 0 0 0 0 0 0 0 0 0 0 0 0 0 0 0 0 0 0 1 1 1 3 3 1 0 0 0 0 0 0 0\n",
      " 0 0 0 0 0 0 0 0 0 0 0]\n",
      "Q_values : [-1.5370398 -1.332668  -1.507387  -1.2616111]\n",
      "state : [0 0 0 0 0 0 0 0 0 0 0 0 0 0 0 0 0 0 0 0 0 0 0 0 0 1 1 6 7 4 0 0 0 0 0 0 0\n",
      " 0 0 0 0 0 0 0 0 0 0 0]\n",
      "Q_values : [-3.7620702 -3.3343256 -3.2308187 -2.9854496]\n",
      "state : [0 1 1 0 1 0 0 0 0 0 0 0 0 0 0 0 0 0 0 0 0 0 0 0 0 1 1 4 6 4 0 0 0 4 4 1 2\n",
      " 0 0 0 0 0 0 0 1 1 0 0]\n",
      "Q_values : [-2.8063352 -2.6963217 -0.9937439 -1.1407902]\n",
      "state : [0 1 1 0 0 2 0 0 0 0 0 0 0 0 0 0 0 0 0 0 0 0 0 0 0 1 1 0 0 4 0 0 0 4 4 4 5\n",
      " 0 0 0 0 0 0 0 2 0 5 0]\n",
      "Q_values : [-2.2521088  -2.3133159  -0.48488998  0.7895328 ]\n",
      "state : [0 1 1 0 0 0 0 0 0 0 2 0 0 0 0 0 0 0 0 0 0 0 0 0 0 1 1 0 0 0 0 0 0 1 4 1 3\n",
      " 0 2 0 0 0 3 0 4 0 5 0]\n",
      "Q_values : [0.32928348 0.27747884 1.5409625  0.44649917]\n",
      "state : [0 1 1 0 0 0 0 0 0 0 0 1 0 0 0 0 0 0 0 0 0 0 0 0 0 1 1 0 0 0 0 0 0 0 0 1 0\n",
      " 0 3 0 4 0 3 0 3 0 0 0]\n",
      "Q_values : [0.9095694  1.1143085  0.34823737 0.63265383]\n",
      "state : [0 1 0 0 0 0 0 0 0 0 0 1 0 0 0 0 0 0 0 0 0 0 0 0 0 1 0 0 0 0 0 0 0 0 0 1 0\n",
      " 0 0 0 3 1 0 0 0 0 0 0]\n",
      "Q_values : [0.63246644 0.72106934 0.43972355 0.7460112 ]\n",
      "state : [0 1 0 0 0 0 0 0 0 0 0 0 0 0 0 0 0 0 0 0 0 0 0 0 0 1 0 0 0 0 0 0 0 0 0 0 0\n",
      " 0 0 0 0 0 0 0 0 0 0 0]\n",
      "Q_values : [0.34171614 0.4245093  0.17053165 0.19992837]\n",
      "episode : 210\n",
      "Step #100.00 (0ms ?*RT. ?UPS, TraCI: 0ms, vehicles TOT 33 ACT 1 BUF 0)                     \n",
      " Retrying in 1 seconds\n"
     ]
    },
    {
     "name": "stderr",
     "output_type": "stream",
     "text": [
      "Warning: Environment variable SUMO_HOME is not set properly, disabling XML validation. Set 'auto' or 'always' for web lookups.\n"
     ]
    },
    {
     "name": "stdout",
     "output_type": "stream",
     "text": [
      "state : [0 0 0 0 0 0 0 0 0 0 0 0 0 0 0 0 0 0 0 0 0 0 0 0 0 1 1 6 7 4 0 0 0 0 0 0 0\n",
      " 0 0 0 0 0 0 0 0 0 0 0]\n",
      "Q_values : [-3.2182574 -2.7922049 -2.8711064 -3.5038877]\n",
      "state : [0 1 0 0 1 1 0 0 0 0 0 0 0 0 0 0 0 0 0 0 0 0 0 0 0 1 0 4 6 6 0 0 0 4 4 1 2\n",
      " 0 0 0 0 1 0 0 0 1 0 0]\n",
      "Q_values : [-2.6963935 -2.3146417 -1.0630592 -1.8021429]\n",
      "state : [0 1 0 0 0 4 0 0 0 0 0 0 0 0 0 0 0 0 0 0 0 0 0 0 0 1 0 0 1 6 0 0 0 4 4 4 5\n",
      " 0 0 0 0 0 0 0 0 0 5 0]\n",
      "Q_values : [-1.8594756  -1.5439124  -0.67530435  0.6817998 ]\n",
      "state : [0 1 0 0 1 0 0 0 0 0 2 0 0 0 0 0 0 0 0 0 0 0 0 0 0 1 0 0 1 0 0 0 0 1 4 1 3\n",
      " 0 2 0 0 0 3 0 5 0 4 0]\n",
      "Q_values : [0.3069542  0.46938774 1.5509716  0.20642698]\n",
      "state : [0 1 0 0 0 0 0 0 0 0 0 0 0 0 0 0 0 0 0 0 0 0 0 0 0 1 0 0 0 0 0 0 0 0 0 0 0\n",
      " 0 1 0 0 0 0 0 0 0 0 0]\n",
      "Q_values : [0.37200993 0.37916508 0.09108981 0.28827897]\n",
      "state : [0 1 0 0 0 0 0 0 0 0 0 0 0 0 0 0 0 0 0 0 0 0 0 0 0 1 0 0 0 0 0 0 0 0 0 0 0\n",
      " 0 0 0 0 0 0 0 0 0 0 0]\n",
      "Q_values : [0.36927167 0.37370902 0.09828535 0.30467796]\n",
      "episode : 211\n",
      "Step #100.00 (0ms ?*RT. ?UPS, TraCI: 0ms, vehicles TOT 33 ACT 1 BUF 0)                     \n",
      " Retrying in 1 seconds\n"
     ]
    },
    {
     "name": "stderr",
     "output_type": "stream",
     "text": [
      "Warning: Environment variable SUMO_HOME is not set properly, disabling XML validation. Set 'auto' or 'always' for web lookups.\n"
     ]
    },
    {
     "name": "stdout",
     "output_type": "stream",
     "text": [
      "state : [0 0 0 0 0 0 0 0 0 0 0 0 0 0 0 0 0 0 0 0 0 0 0 0 0 0 0 0 0 0 0 0 0 0 0 0 0\n",
      " 0 0 0 0 0 0 0 0 0 0 0]\n",
      "Q_values : [-0.6843796 -0.6806662 -0.7739202 -0.5199567]\n",
      "state : [0 0 0 0 0 0 0 0 0 0 0 0 0 0 0 0 0 0 0 0 0 0 0 0 1 1 1 3 3 1 0 0 0 0 0 0 0\n",
      " 0 0 0 0 0 0 0 0 0 0 0]\n",
      "Q_values : [-1.7916787 -1.7190313 -1.7126238 -1.4037488]\n",
      "state : [0 0 0 0 0 0 0 0 0 0 0 0 0 0 0 0 0 0 0 0 0 0 0 0 0 1 1 6 7 4 0 0 0 0 0 0 0\n",
      " 0 0 0 0 0 0 0 0 0 0 0]\n",
      "Q_values : [-4.121728  -3.9235926 -3.61545   -3.257506 ]\n",
      "state : [0 1 1 0 1 0 0 0 0 0 0 0 0 0 0 0 0 0 0 0 0 0 0 0 0 1 1 4 6 4 0 0 0 4 4 1 2\n",
      " 0 0 0 0 0 0 0 1 1 0 0]\n",
      "Q_values : [-3.114697  -2.965451  -1.5380791 -1.4630636]\n",
      "state : [0 1 1 0 4 0 0 0 0 0 0 0 0 0 0 0 0 0 0 0 0 0 0 0 0 1 1 0 6 0 0 0 0 4 4 4 5\n",
      " 0 0 0 0 0 0 0 5 0 0 0]\n",
      "Q_values : [-1.1842542 -1.272738   3.2354717  0.8714719]\n",
      "state : [0 1 1 0 0 0 0 0 0 0 1 0 0 0 0 0 0 0 0 0 0 0 0 0 0 1 1 0 0 0 0 0 0 0 1 0 0\n",
      " 0 4 0 2 0 3 0 0 0 5 0]\n",
      "Q_values : [1.0943832 1.0089812 1.6013895 1.0268905]\n",
      "state : [0 1 1 0 0 0 0 0 0 0 0 0 0 0 0 0 0 0 0 0 0 0 0 0 0 1 1 0 0 0 0 0 0 0 0 0 0\n",
      " 0 3 0 1 0 0 0 0 0 0 0]\n",
      "Q_values : [1.252619  1.2971879 0.6502625 0.8561852]\n",
      "state : [0 1 0 0 0 0 0 0 0 0 0 0 0 0 0 0 0 0 0 0 0 0 0 0 0 1 0 0 0 0 0 0 0 0 0 0 0\n",
      " 0 0 0 0 1 0 0 0 0 0 0]\n",
      "Q_values : [0.29916787 0.20538402 0.20231572 0.25391683]\n",
      "state : [0 0 0 0 0 0 0 0 0 0 0 0 0 0 0 0 0 0 0 0 0 0 0 0 0 0 0 0 0 0 0 0 0 0 0 0 0\n",
      " 0 0 0 0 0 0 1 0 0 0 0]\n",
      "Q_values : [0.23997551 0.15471396 0.13637415 0.20573916]\n",
      "episode : 212\n",
      "Step #100.00 (0ms ?*RT. ?UPS, TraCI: 0ms, vehicles TOT 33 ACT 0 BUF 0)                     \n",
      " Retrying in 1 seconds\n"
     ]
    },
    {
     "name": "stderr",
     "output_type": "stream",
     "text": [
      "Warning: Environment variable SUMO_HOME is not set properly, disabling XML validation. Set 'auto' or 'always' for web lookups.\n"
     ]
    },
    {
     "name": "stdout",
     "output_type": "stream",
     "text": [
      "state : [0 0 0 0 0 0 0 0 0 0 0 0 0 0 0 0 0 0 0 0 0 0 0 0 0 0 0 0 0 0 0 0 0 0 0 0 0\n",
      " 0 0 0 0 0 0 0 0 0 0 0]\n",
      "Q_values : [-0.53135324 -0.6333156  -0.503049   -0.5110655 ]\n",
      "state : [0 0 0 0 0 0 0 0 0 0 0 0 0 0 0 0 0 0 0 0 0 0 0 0 1 1 1 3 3 1 0 0 0 0 0 0 0\n",
      " 0 0 0 0 0 0 0 0 0 0 0]\n",
      "Q_values : [-1.3751022 -1.4353077 -1.224141  -1.2786212]\n",
      "state : [0 0 1 0 1 1 0 0 0 0 0 0 0 0 0 0 0 0 0 0 0 0 0 0 0 0 1 4 6 6 0 0 0 4 4 1 2\n",
      " 0 0 0 0 0 0 1 0 1 0 0]\n",
      "Q_values : [-2.749749  -2.7050314 -1.6872609 -1.6287942]\n",
      "state : [0 0 1 0 4 0 0 0 0 0 0 0 0 0 0 0 0 0 0 0 0 0 0 0 0 0 1 0 6 1 0 0 0 4 4 4 5\n",
      " 0 0 0 0 0 0 0 4 0 0 0]\n",
      "Q_values : [-0.6497927  -0.86008084  1.7021235  -0.12478057]\n",
      "state : [0 0 1 0 0 1 0 0 0 0 0 1 0 0 0 0 0 0 0 0 0 0 0 0 0 0 1 0 0 1 0 0 0 1 1 4 3\n",
      " 0 0 0 2 0 3 0 5 0 6 0]\n",
      "Q_values : [ 0.12500466 -0.01366366 -0.3983429   0.6041391 ]\n",
      "state : [0 0 1 0 0 0 0 0 0 0 1 0 0 0 0 0 0 0 0 0 0 0 0 0 0 0 1 0 0 0 0 0 0 0 1 0 0\n",
      " 0 4 0 2 0 3 0 1 0 5 0]\n",
      "Q_values : [0.56825185 0.5066189  0.43652013 0.49817732]\n",
      "state : [0 0 1 0 0 0 0 0 0 0 1 0 0 0 0 0 0 0 0 0 0 0 0 0 0 0 1 0 0 0 0 0 0 0 1 0 0\n",
      " 0 3 0 0 0 0 0 0 0 0 0]\n",
      "Q_values : [1.011284   1.0601032  0.64726853 0.83407915]\n",
      "state : [0 0 0 0 0 0 0 0 0 0 1 0 0 0 0 0 0 0 0 0 0 0 0 0 0 0 0 0 0 0 0 0 0 0 1 0 0\n",
      " 0 0 0 0 1 0 0 0 0 0 0]\n",
      "Q_values : [0.23145811 0.14632273 0.10660331 0.2434387 ]\n",
      "episode : 213\n",
      "Step #100.00 (0ms ?*RT. ?UPS, TraCI: 0ms, vehicles TOT 33 ACT 1 BUF 0)                     \n",
      " Retrying in 1 seconds\n"
     ]
    },
    {
     "name": "stderr",
     "output_type": "stream",
     "text": [
      "Warning: Environment variable SUMO_HOME is not set properly, disabling XML validation. Set 'auto' or 'always' for web lookups.\n"
     ]
    },
    {
     "name": "stdout",
     "output_type": "stream",
     "text": [
      "state : [0 0 0 0 0 0 0 0 0 0 0 0 0 0 0 0 0 0 0 0 0 0 0 0 0 0 0 0 0 0 0 0 0 0 0 0 0\n",
      " 0 0 0 0 0 0 0 0 0 0 0]\n",
      "Q_values : [-0.7266716  -0.82283264 -0.51382756 -0.54801524]\n",
      "state : [0 0 0 0 0 0 0 0 0 0 0 0 0 0 0 0 0 0 0 0 0 0 0 0 1 1 1 3 3 1 0 0 0 0 0 0 0\n",
      " 0 0 0 0 0 0 0 0 0 0 0]\n",
      "Q_values : [-1.7338117 -1.7920023 -1.1562722 -1.3888075]\n",
      "state : [0 0 0 0 0 0 0 0 0 0 0 0 0 0 0 0 0 0 0 0 0 0 0 0 0 1 1 6 7 4 0 0 0 0 0 0 0\n",
      " 0 0 0 0 0 0 0 0 0 0 0]\n",
      "Q_values : [-3.9294138 -3.9262109 -2.5280225 -3.197404 ]\n",
      "state : [0 1 1 0 0 1 0 0 0 0 0 0 0 0 0 0 0 0 0 0 0 0 0 0 0 1 1 3 4 6 0 0 0 4 4 1 2\n",
      " 0 0 0 0 0 0 0 0 1 2 0]\n",
      "Q_values : [-2.1896064  -2.1962082  -0.6141646   0.23784123]\n",
      "state : [0 1 1 0 2 0 0 0 0 0 0 0 0 0 0 0 0 0 0 0 0 0 0 0 0 1 1 0 4 1 0 0 0 4 4 4 5\n",
      " 0 0 0 0 0 0 0 4 0 1 0]\n",
      "Q_values : [-1.5066398 -1.4969908  1.4258375  0.0215221]\n",
      "state : [0 1 1 0 0 1 0 0 0 0 0 1 0 0 0 0 0 0 0 0 0 0 0 0 0 1 1 0 0 1 0 0 0 1 1 4 3\n",
      " 0 0 0 2 0 3 0 5 0 4 0]\n",
      "Q_values : [0.9036416  0.755576   0.87200904 2.420226  ]\n",
      "state : [0 1 1 0 0 0 0 0 0 0 1 0 0 0 0 0 0 0 0 0 0 0 0 0 0 1 1 0 0 0 0 0 0 0 1 0 0\n",
      " 0 4 0 2 0 3 0 1 0 2 0]\n",
      "Q_values : [1.6199816 1.9670768 2.0944977 1.8101702]\n",
      "state : [0 0 1 0 0 0 0 0 0 0 0 0 0 0 0 0 0 0 0 0 0 0 0 0 0 0 1 0 0 0 0 0 0 0 0 0 0\n",
      " 0 0 0 0 0 0 1 0 0 0 0]\n",
      "Q_values : [0.4913165  0.5433168  0.35005188 0.52623093]\n",
      "state : [0 0 0 0 0 0 0 0 0 0 0 0 0 0 0 0 0 0 0 0 0 0 0 0 0 0 0 0 0 0 0 0 0 0 0 0 0\n",
      " 0 0 0 0 1 0 0 0 0 0 0]\n",
      "Q_values : [-0.3179188  -0.3674093  -0.21701495 -0.28301972]\n",
      "episode : 214\n",
      "Step #100.00 (0ms ?*RT. ?UPS, TraCI: 0ms, vehicles TOT 33 ACT 0 BUF 0)                     \n",
      " Retrying in 1 seconds\n"
     ]
    },
    {
     "name": "stderr",
     "output_type": "stream",
     "text": [
      "Warning: Environment variable SUMO_HOME is not set properly, disabling XML validation. Set 'auto' or 'always' for web lookups.\n"
     ]
    },
    {
     "name": "stdout",
     "output_type": "stream",
     "text": [
      "state : [0 0 0 0 0 0 0 0 0 0 0 0 0 0 0 0 0 0 0 0 0 0 0 0 1 1 1 3 3 1 0 0 0 0 0 0 0\n",
      " 0 0 0 0 0 0 0 0 0 0 0]\n",
      "Q_values : [-1.4312993 -1.4095132 -1.0568976 -1.4512608]\n",
      "state : [0 0 0 0 0 0 0 0 0 0 0 0 0 0 0 0 0 0 0 0 0 0 0 0 0 1 1 6 7 4 0 0 0 0 0 0 0\n",
      " 0 0 0 0 0 0 0 0 0 0 0]\n",
      "Q_values : [-3.4032836 -3.2205164 -2.539687  -3.4747384]\n",
      "state : [0 1 1 0 0 1 0 0 0 0 0 0 0 0 0 0 0 0 0 0 0 0 0 0 0 1 1 3 4 6 0 0 0 4 4 1 2\n",
      " 0 0 0 0 0 0 0 0 1 2 0]\n",
      "Q_values : [-2.2699225 -2.082736  -1.3728917 -1.2251915]\n",
      "state : [0 1 1 0 2 0 0 0 0 0 0 0 0 0 0 0 0 0 0 0 0 0 0 0 0 1 1 0 4 1 0 0 0 4 4 4 5\n",
      " 0 0 0 0 0 0 0 4 0 1 0]\n",
      "Q_values : [-1.6585184 -1.541515   0.2447978 -1.1595423]\n",
      "state : [0 1 1 0 0 1 0 0 0 0 0 1 0 0 0 0 0 0 0 0 0 0 0 0 0 1 1 0 0 1 0 0 0 1 1 4 3\n",
      " 0 0 0 2 0 3 0 5 0 4 0]\n",
      "Q_values : [ 0.3422019   0.27836078 -0.1268567   1.136807  ]\n",
      "state : [0 1 1 0 0 0 0 0 0 0 1 0 0 0 0 0 0 0 0 0 0 0 0 0 0 1 1 0 0 0 0 0 0 0 1 0 0\n",
      " 0 4 0 2 0 3 0 1 0 2 0]\n",
      "Q_values : [1.3717852 1.5521418 1.5179759 1.4505724]\n",
      "state : [0 1 0 0 0 0 0 0 0 0 1 0 0 0 0 0 0 0 0 0 0 0 0 0 0 1 0 0 0 0 0 0 0 0 1 0 0\n",
      " 0 3 0 0 1 0 0 0 0 0 0]\n",
      "Q_values : [0.5553819 0.4681244 0.8427839 0.6294717]\n",
      "state : [0 1 0 0 0 0 0 0 0 0 0 0 0 0 0 0 0 0 0 0 0 0 0 0 0 1 0 0 0 0 0 0 0 0 0 0 0\n",
      " 0 0 0 1 0 0 0 0 0 0 0]\n",
      "Q_values : [0.42146897 0.36096972 0.17060873 0.44755143]\n",
      "state : [0 1 0 0 0 0 0 0 0 0 0 0 0 0 0 0 0 0 0 0 0 0 0 0 0 1 0 0 0 0 0 0 0 0 0 0 0\n",
      " 0 0 0 0 0 0 0 0 0 0 0]\n",
      "Q_values : [0.31961864 0.229055   0.10382225 0.3449606 ]\n",
      "episode : 215\n",
      "Step #100.00 (0ms ?*RT. ?UPS, TraCI: 0ms, vehicles TOT 33 ACT 1 BUF 0)                     \n",
      " Retrying in 1 seconds\n"
     ]
    },
    {
     "name": "stderr",
     "output_type": "stream",
     "text": [
      "Warning: Environment variable SUMO_HOME is not set properly, disabling XML validation. Set 'auto' or 'always' for web lookups.\n"
     ]
    },
    {
     "name": "stdout",
     "output_type": "stream",
     "text": [
      "state : [0 0 0 0 0 0 0 0 0 0 0 0 0 0 0 0 0 0 0 0 0 0 0 0 0 0 0 0 0 0 0 0 0 0 0 0 0\n",
      " 0 0 0 0 0 0 0 0 0 0 0]\n",
      "Q_values : [-0.60944724 -0.735619   -0.6321999  -0.47077647]\n",
      "state : [0 0 0 0 0 0 0 0 0 0 0 0 0 0 0 0 0 0 0 0 0 0 0 0 1 1 1 3 3 1 0 0 0 0 0 0 0\n",
      " 0 0 0 0 0 0 0 0 0 0 0]\n",
      "Q_values : [-1.5459101 -1.6146904 -1.4075081 -1.2892506]\n",
      "state : [0 0 0 0 0 0 0 0 0 0 0 0 0 0 0 0 0 0 0 0 0 0 0 0 0 1 1 6 7 4 0 0 0 0 0 0 0\n",
      " 0 0 0 0 0 0 0 0 0 0 0]\n",
      "Q_values : [-3.7857065 -3.7148824 -3.166756  -3.1802382]\n",
      "state : [0 1 1 0 0 1 0 0 0 0 0 0 0 0 0 0 0 0 0 0 0 0 0 0 0 1 1 3 4 6 0 0 0 4 4 1 2\n",
      " 0 0 0 0 0 0 0 0 1 2 0]\n",
      "Q_values : [-2.650492  -2.523488  -1.018724  -0.3634351]\n",
      "state : [0 0 1 0 4 1 0 0 0 0 2 1 0 0 0 0 0 0 0 0 0 0 0 0 0 0 1 0 4 1 0 0 0 1 4 4 3\n",
      " 0 0 0 0 0 3 1 5 0 0 0]\n",
      "Q_values : [1.7442504 1.8713931 7.181499  4.1090117]\n",
      "state : [0 0 1 0 0 1 0 0 0 0 0 4 0 0 0 0 0 0 0 0 0 0 0 0 0 0 1 0 0 1 0 0 0 0 0 4 0\n",
      " 0 0 0 4 0 3 0 0 0 4 0]\n",
      "Q_values : [3.6960924 3.7818255 3.1753073 5.651202 ]\n",
      "state : [0 0 1 0 0 0 0 0 0 0 0 0 0 0 0 0 0 0 0 0 0 0 0 0 0 0 1 0 0 0 0 0 0 0 0 0 0\n",
      " 0 4 0 3 0 0 0 1 0 2 0]\n",
      "Q_values : [0.8189342  0.89034176 0.319687   0.755166  ]\n",
      "state : [0 0 0 0 0 0 0 0 0 0 0 0 0 0 0 0 0 0 0 0 0 0 0 0 0 0 0 0 0 0 0 0 0 0 0 0 0\n",
      " 0 3 0 0 1 0 0 0 0 0 0]\n",
      "Q_values : [-0.27799866 -0.32624203 -0.4003246  -0.2265656 ]\n",
      "state : [0 0 0 0 0 0 0 0 0 0 0 0 0 0 0 0 0 0 0 0 0 0 0 0 0 0 0 0 0 0 0 0 0 0 0 0 0\n",
      " 0 0 0 0 0 0 0 0 0 0 0]\n",
      "Q_values : [-0.5742146  -0.59964824 -0.6864975  -0.51033306]\n",
      "episode : 216\n",
      "Step #100.00 (0ms ?*RT. ?UPS, TraCI: 0ms, vehicles TOT 33 ACT 0 BUF 0)                     \n",
      " Retrying in 1 seconds\n"
     ]
    },
    {
     "name": "stderr",
     "output_type": "stream",
     "text": [
      "Warning: Environment variable SUMO_HOME is not set properly, disabling XML validation. Set 'auto' or 'always' for web lookups.\n"
     ]
    },
    {
     "name": "stdout",
     "output_type": "stream",
     "text": [
      "state : [0 0 0 0 0 0 0 0 0 0 0 0 0 0 0 0 0 0 0 0 0 0 0 0 0 0 0 0 0 0 0 0 0 0 0 0 0\n",
      " 0 0 0 0 0 0 0 0 0 0 0]\n",
      "Q_values : [-0.5749084  -0.6024982  -0.717366   -0.51697844]\n",
      "state : [0 0 0 0 0 0 0 0 0 0 0 0 0 0 0 0 0 0 0 0 0 0 0 0 1 1 1 3 3 1 0 0 0 0 0 0 0\n",
      " 0 0 0 0 0 0 0 0 0 0 0]\n",
      "Q_values : [-1.5154939 -1.4288332 -1.6012812 -1.354085 ]\n",
      "state : [0 0 0 0 1 6 0 0 0 0 2 1 0 0 0 0 0 0 0 0 0 0 0 0 0 0 0 0 1 6 0 0 0 1 4 4 3\n",
      " 0 0 0 0 1 3 0 0 0 4 0]\n",
      "Q_values : [1.5944504 2.2009404 4.2224307 7.0552897]\n",
      "state : [0 0 0 0 1 0 0 0 0 0 4 0 0 0 0 0 0 0 0 0 0 0 0 0 0 0 0 0 1 0 0 0 0 0 4 0 0\n",
      " 0 0 0 0 0 0 0 0 0 0 0]\n",
      "Q_values : [2.275479  2.0802703 4.1694827 2.3059926]\n",
      "state : [0 0 0 0 0 0 0 0 0 0 0 0 0 0 0 0 0 0 0 0 0 0 0 0 0 0 0 0 0 0 0 0 0 0 0 0 0\n",
      " 0 0 0 4 0 0 0 0 0 1 0]\n",
      "Q_values : [0.28185758 0.13094385 0.03478361 0.20797199]\n",
      "episode : 217\n",
      "Step #100.00 (0ms ?*RT. ?UPS, TraCI: 0ms, vehicles TOT 33 ACT 3 BUF 0)                     \n",
      " Retrying in 1 seconds\n"
     ]
    },
    {
     "name": "stderr",
     "output_type": "stream",
     "text": [
      "Warning: Environment variable SUMO_HOME is not set properly, disabling XML validation. Set 'auto' or 'always' for web lookups.\n"
     ]
    },
    {
     "name": "stdout",
     "output_type": "stream",
     "text": [
      "state : [0 0 0 0 0 0 0 0 0 0 0 0 0 0 0 0 0 0 0 0 0 0 0 0 0 0 0 0 0 0 0 0 0 0 0 0 0\n",
      " 0 0 0 0 0 0 0 0 0 0 0]\n",
      "Q_values : [-0.67185485 -0.7772711  -0.7192866  -0.68795425]\n",
      "state : [0 0 0 0 0 0 0 0 0 0 0 0 0 0 0 0 0 0 0 0 0 0 0 0 0 1 1 6 7 4 0 0 0 0 0 0 0\n",
      " 0 0 0 0 0 0 0 0 0 0 0]\n",
      "Q_values : [-3.8643174 -3.618622  -3.175949  -3.6489449]\n",
      "state : [0 0 1 0 2 4 0 0 0 0 0 0 0 0 0 0 0 0 0 0 0 0 0 0 0 0 1 0 4 6 0 0 0 4 4 4 5\n",
      " 0 0 0 0 0 0 1 0 0 1 0]\n",
      "Q_values : [-2.3941185 -1.7194309  2.7406783  3.0701752]\n",
      "state : [0 0 1 0 4 0 0 0 0 0 2 0 0 0 0 0 0 0 0 0 0 0 0 0 0 0 1 0 4 0 0 0 0 1 4 1 3\n",
      " 0 2 0 0 0 3 0 5 0 0 0]\n",
      "Q_values : [1.7301991 1.5399109 5.4335637 2.2756128]\n",
      "state : [0 0 1 0 0 0 0 0 0 0 0 1 0 0 0 0 0 0 0 0 0 0 0 0 0 0 1 0 0 0 0 0 0 0 0 1 0\n",
      " 0 3 0 4 0 3 0 6 0 4 0]\n",
      "Q_values : [0.43572566 0.3544439  0.22072129 0.50182974]\n",
      "state : [0 0 1 0 0 0 0 0 0 0 0 0 0 0 0 0 0 0 0 0 0 0 0 0 0 0 1 0 0 0 0 0 0 0 0 0 0\n",
      " 0 1 0 3 0 0 0 0 0 2 0]\n",
      "Q_values : [0.33451182 0.29294413 0.08546531 0.12291889]\n",
      "state : [0 0 1 0 0 0 0 0 0 0 0 0 0 0 0 0 0 0 0 0 0 0 0 0 0 0 1 0 0 0 0 0 0 0 0 0 0\n",
      " 0 0 0 0 0 0 0 0 0 0 0]\n",
      "Q_values : [0.33923078 0.3092711  0.10060545 0.09304851]\n",
      "state : [0 0 1 0 0 0 0 0 0 0 0 0 0 0 0 0 0 0 0 0 0 0 0 0 0 0 1 0 0 0 0 0 0 0 0 0 0\n",
      " 0 0 0 0 0 0 0 0 0 0 0]\n",
      "Q_values : [0.34887642 0.33275712 0.10093238 0.09170327]\n",
      "episode : 218\n",
      "Step #100.00 (0ms ?*RT. ?UPS, TraCI: 0ms, vehicles TOT 33 ACT 1 BUF 0)                     \n",
      " Retrying in 1 seconds\n"
     ]
    },
    {
     "name": "stderr",
     "output_type": "stream",
     "text": [
      "Warning: Environment variable SUMO_HOME is not set properly, disabling XML validation. Set 'auto' or 'always' for web lookups.\n"
     ]
    },
    {
     "name": "stdout",
     "output_type": "stream",
     "text": [
      "state : [0 0 0 0 0 0 0 0 0 0 0 0 0 0 0 0 0 0 0 0 0 0 0 0 0 0 0 0 0 0 0 0 0 0 0 0 0\n",
      " 0 0 0 0 0 0 0 0 0 0 0]\n",
      "Q_values : [-0.52414113 -0.52101254 -0.58452034 -0.7287859 ]\n",
      "state : [0 0 0 0 0 0 0 0 0 0 0 0 0 0 0 0 0 0 0 0 0 0 0 0 1 1 1 3 3 1 0 0 0 0 0 0 0\n",
      " 0 0 0 0 0 0 0 0 0 0 0]\n",
      "Q_values : [-1.3434162 -1.1983782 -1.3838751 -1.5809346]\n",
      "state : [0 0 0 0 0 0 0 0 0 0 0 0 0 0 0 0 0 0 0 0 0 0 0 0 0 1 1 6 7 4 0 0 0 0 0 0 0\n",
      " 0 0 0 0 0 0 0 0 0 0 0]\n",
      "Q_values : [-3.195603  -2.7432666 -3.1523082 -3.4757295]\n",
      "state : [0 1 0 0 4 0 0 0 0 0 0 0 0 0 0 0 0 0 0 0 0 0 0 0 0 1 0 0 6 1 0 0 0 4 4 4 5\n",
      " 0 0 0 0 0 0 0 4 0 0 0]\n",
      "Q_values : [-1.2111208  -0.96865094  2.2187471  -0.03921828]\n",
      "state : [0 1 0 0 0 1 0 0 0 0 1 4 0 0 0 0 0 0 0 0 0 0 0 0 0 1 0 0 0 1 0 0 0 0 1 4 0\n",
      " 0 0 0 2 0 3 0 0 0 5 0]\n",
      "Q_values : [3.6610215 3.524356  3.7446942 5.8180857]\n",
      "state : [0 1 0 0 0 0 0 0 0 0 1 0 0 0 0 0 0 0 0 0 0 0 0 0 0 1 0 0 0 0 0 0 0 0 1 0 0\n",
      " 0 4 0 0 0 0 0 1 0 0 0]\n",
      "Q_values : [1.0462918  0.96033794 1.5700048  0.7952565 ]\n",
      "episode : 219\n",
      "Step #100.00 (0ms ?*RT. ?UPS, TraCI: 0ms, vehicles TOT 33 ACT 1 BUF 0)                     \n",
      " Retrying in 1 seconds\n"
     ]
    },
    {
     "name": "stderr",
     "output_type": "stream",
     "text": [
      "Warning: Environment variable SUMO_HOME is not set properly, disabling XML validation. Set 'auto' or 'always' for web lookups.\n"
     ]
    },
    {
     "name": "stdout",
     "output_type": "stream",
     "text": [
      "state : [0 0 0 0 0 0 0 0 0 0 0 0 0 0 0 0 0 0 0 0 0 0 0 0 0 0 0 0 0 0 0 0 0 0 0 0 0\n",
      " 0 0 0 0 0 0 0 0 0 0 0]\n",
      "Q_values : [-0.5964603  -0.6782322  -0.6410147  -0.63962466]\n",
      "state : [0 0 0 0 0 0 0 0 0 0 0 0 0 0 0 0 0 0 0 0 0 0 0 0 1 1 1 3 3 1 0 0 0 0 0 0 0\n",
      " 0 0 0 0 0 0 0 0 0 0 0]\n",
      "Q_values : [-1.5536544 -1.6309073 -1.5149962 -1.4921855]\n",
      "state : [0 0 0 0 0 0 0 0 0 0 0 0 0 0 0 0 0 0 0 0 0 0 0 0 0 1 1 6 7 4 0 0 0 0 0 0 0\n",
      " 0 0 0 0 0 0 0 0 0 0 0]\n",
      "Q_values : [-3.6377246 -3.730014  -3.342797  -3.2392242]\n",
      "state : [0 1 1 0 0 0 0 0 0 0 2 0 0 0 0 0 0 0 0 0 0 0 0 0 0 1 1 0 0 0 0 0 0 1 4 1 3\n",
      " 0 2 0 0 0 3 0 4 0 5 0]\n",
      "Q_values : [0.46660563 0.3378936  1.8730687  0.47486705]\n",
      "state : [0 1 1 0 0 0 0 0 0 0 0 1 0 0 0 0 0 0 0 0 0 0 0 0 0 1 1 0 0 0 0 0 0 0 0 1 0\n",
      " 0 3 0 4 0 3 0 3 0 0 0]\n",
      "Q_values : [1.2824581 1.2989974 1.2145574 0.9268659]\n",
      "state : [0 1 0 0 0 0 0 0 0 0 0 1 0 0 0 0 0 0 0 0 0 0 0 0 0 1 0 0 0 0 0 0 0 0 0 1 0\n",
      " 0 0 0 3 1 0 0 0 0 0 0]\n",
      "Q_values : [1.1796315  1.0461527  0.70853865 1.486367  ]\n",
      "state : [0 1 0 0 0 0 0 0 0 0 0 0 0 0 0 0 0 0 0 0 0 0 0 0 0 1 0 0 0 0 0 0 0 0 0 0 0\n",
      " 0 1 0 0 0 0 0 0 0 0 0]\n",
      "Q_values : [0.4211973  0.4506433  0.17605263 0.20753734]\n",
      "state : [0 1 0 0 0 0 0 0 0 0 0 0 0 0 0 0 0 0 0 0 0 0 0 0 0 1 0 0 0 0 0 0 0 0 0 0 0\n",
      " 0 0 0 0 0 0 0 0 0 0 0]\n",
      "Q_values : [0.41743866 0.47275195 0.1489597  0.18343462]\n",
      "episode : 220\n",
      "Step #100.00 (0ms ?*RT. ?UPS, TraCI: 1ms, vehicles TOT 33 ACT 1 BUF 0)                     \n",
      " Retrying in 1 seconds\n"
     ]
    },
    {
     "name": "stderr",
     "output_type": "stream",
     "text": [
      "Warning: Environment variable SUMO_HOME is not set properly, disabling XML validation. Set 'auto' or 'always' for web lookups.\n"
     ]
    },
    {
     "name": "stdout",
     "output_type": "stream",
     "text": [
      "state : [0 0 0 0 0 0 0 0 0 0 0 0 0 0 0 0 0 0 0 0 0 0 0 0 0 0 0 0 0 0 0 0 0 0 0 0 0\n",
      " 0 0 0 0 0 0 0 0 0 0 0]\n",
      "Q_values : [-0.56939733 -0.5718351  -0.66209805 -0.6862947 ]\n",
      "state : [0 0 0 0 0 0 0 0 0 0 0 0 0 0 0 0 0 0 0 0 0 0 0 0 1 1 1 3 3 1 0 0 0 0 0 0 0\n",
      " 0 0 0 0 0 0 0 0 0 0 0]\n",
      "Q_values : [-1.498568  -1.4516916 -1.49819   -1.5718865]\n",
      "state : [0 0 0 0 0 0 0 0 0 0 0 0 0 0 0 0 0 0 0 0 0 0 0 0 0 1 1 6 7 4 0 0 0 0 0 0 0\n",
      " 0 0 0 0 0 0 0 0 0 0 0]\n",
      "Q_values : [-3.4465384 -3.3487294 -3.2299569 -3.4347155]\n",
      "state : [0 1 1 0 0 1 0 0 0 0 0 0 0 0 0 0 0 0 0 0 0 0 0 0 0 1 1 3 4 6 0 0 0 4 4 1 2\n",
      " 0 0 0 0 0 0 0 0 1 2 0]\n",
      "Q_values : [-2.2039251  -2.1200516  -1.50185    -0.90466535]\n",
      "state : [0 1 1 0 2 0 0 0 0 0 0 0 0 0 0 0 0 0 0 0 0 0 0 0 0 1 1 0 4 1 0 0 0 4 4 4 5\n",
      " 0 0 0 0 0 0 0 4 0 1 0]\n",
      "Q_values : [-1.6863505  -1.6470273   0.4445869  -0.88312906]\n",
      "state : [0 1 1 0 0 1 0 0 0 0 0 1 0 0 0 0 0 0 0 0 0 0 0 0 0 1 1 0 0 1 0 0 0 1 1 4 3\n",
      " 0 0 0 2 0 3 0 5 0 4 0]\n",
      "Q_values : [ 0.3509162  0.3265801 -0.1559566  1.093568 ]\n",
      "state : [0 1 1 0 0 0 0 0 0 0 1 0 0 0 0 0 0 0 0 0 0 0 0 0 0 1 1 0 0 0 0 0 0 0 1 0 0\n",
      " 0 4 0 2 0 3 0 1 0 2 0]\n",
      "Q_values : [1.0888146 1.3180201 1.0841948 0.8840092]\n",
      "state : [0 1 0 0 0 0 0 0 0 0 1 0 0 0 0 0 0 0 0 0 0 0 0 0 0 1 0 0 0 0 0 0 0 0 1 0 0\n",
      " 0 3 0 0 1 0 0 0 0 0 0]\n",
      "Q_values : [0.49253178 0.612633   0.8503109  0.46108955]\n",
      "episode : 221\n",
      "Step #100.00 (0ms ?*RT. ?UPS, TraCI: 0ms, vehicles TOT 33 ACT 1 BUF 0)                     \n",
      " Retrying in 1 seconds\n"
     ]
    },
    {
     "name": "stderr",
     "output_type": "stream",
     "text": [
      "Warning: Environment variable SUMO_HOME is not set properly, disabling XML validation. Set 'auto' or 'always' for web lookups.\n"
     ]
    },
    {
     "name": "stdout",
     "output_type": "stream",
     "text": [
      "state : [0 0 0 0 0 0 0 0 0 0 0 0 0 0 0 0 0 0 0 0 0 0 0 0 0 0 0 0 0 0 0 0 0 0 0 0 0\n",
      " 0 0 0 0 0 0 0 0 0 0 0]\n",
      "Q_values : [-0.7474679  -0.66274863 -0.6436607  -0.6675533 ]\n",
      "state : [0 0 0 0 0 0 0 0 0 0 0 0 0 0 0 0 0 0 0 0 0 0 0 0 1 1 1 3 3 1 0 0 0 0 0 0 0\n",
      " 0 0 0 0 0 0 0 0 0 0 0]\n",
      "Q_values : [-1.684673  -1.5321611 -1.4234761 -1.4922162]\n",
      "state : [0 0 0 0 0 0 0 0 0 0 0 0 0 0 0 0 0 0 0 0 0 0 0 0 0 1 1 6 7 4 0 0 0 0 0 0 0\n",
      " 0 0 0 0 0 0 0 0 0 0 0]\n",
      "Q_values : [-3.5547009 -3.2875254 -2.9918733 -3.1603708]\n",
      "state : [0 1 1 0 0 1 0 0 0 0 0 0 0 0 0 0 0 0 0 0 0 0 0 0 0 1 1 3 4 6 0 0 0 4 4 1 2\n",
      " 0 0 0 0 0 0 0 0 1 2 0]\n",
      "Q_values : [-2.0693793 -1.7720895 -0.8273907  0.0845703]\n",
      "state : [0 1 1 0 2 0 0 0 0 0 0 0 0 0 0 0 0 0 0 0 0 0 0 0 0 1 1 0 4 1 0 0 0 4 4 4 5\n",
      " 0 0 0 0 0 0 0 4 0 1 0]\n",
      "Q_values : [-1.6004834  -1.544468    1.1218047  -0.25787222]\n",
      "state : [0 1 1 0 0 1 0 0 0 0 0 1 0 0 0 0 0 0 0 0 0 0 0 0 0 1 1 0 0 1 0 0 0 1 1 4 3\n",
      " 0 0 0 2 0 3 0 5 0 4 0]\n",
      "Q_values : [0.39629722 0.61232376 0.22783959 1.5875356 ]\n",
      "episode : 222\n",
      "Step #100.00 (0ms ?*RT. ?UPS, TraCI: 0ms, vehicles TOT 33 ACT 1 BUF 0)                     \n",
      " Retrying in 1 seconds\n"
     ]
    },
    {
     "name": "stderr",
     "output_type": "stream",
     "text": [
      "Warning: Environment variable SUMO_HOME is not set properly, disabling XML validation. Set 'auto' or 'always' for web lookups.\n"
     ]
    },
    {
     "name": "stdout",
     "output_type": "stream",
     "text": [
      "state : [0 0 0 0 0 0 0 0 0 0 0 0 0 0 0 0 0 0 0 0 0 0 0 0 1 1 1 3 3 1 0 0 0 0 0 0 0\n",
      " 0 0 0 0 0 0 0 0 0 0 0]\n",
      "Q_values : [-1.7160648 -1.3818207 -1.5576764 -1.6038071]\n",
      "state : [0 0 0 0 0 0 0 0 0 0 0 0 0 0 0 0 0 0 0 0 0 0 0 0 0 1 1 6 7 4 0 0 0 0 0 0 0\n",
      " 0 0 0 0 0 0 0 0 0 0 0]\n",
      "Q_values : [-3.7149148 -3.1414652 -3.3289726 -3.4323282]\n",
      "state : [0 1 0 0 1 1 0 0 0 0 0 0 0 0 0 0 0 0 0 0 0 0 0 0 0 1 0 4 6 6 0 0 0 4 4 1 2\n",
      " 0 0 0 0 1 0 0 0 1 0 0]\n",
      "Q_values : [-3.4956303 -2.9060962 -1.363173  -1.3497758]\n",
      "state : [0 1 0 0 4 0 0 0 0 0 0 0 0 0 0 0 0 0 0 0 0 0 0 0 0 1 0 0 6 1 0 0 0 4 4 4 5\n",
      " 0 0 0 0 0 0 0 4 0 0 0]\n",
      "Q_values : [-1.6040418  -1.4872727   2.115354    0.13825154]\n",
      "state : [0 1 0 0 0 1 0 0 0 0 0 1 0 0 0 0 0 0 0 0 0 0 0 0 0 1 0 0 0 1 0 0 0 1 1 4 3\n",
      " 0 0 0 2 0 3 0 5 0 6 0]\n",
      "Q_values : [-0.3354001   0.00331788 -0.532325    0.9572078 ]\n",
      "state : [0 1 0 0 0 0 0 0 0 0 1 0 0 0 0 0 0 0 0 0 0 0 0 0 0 1 0 0 0 0 0 0 0 0 1 0 0\n",
      " 0 4 0 2 0 3 0 1 0 5 0]\n",
      "Q_values : [0.46867067 0.5536132  0.96724045 0.642638  ]\n",
      "state : [0 1 0 0 0 0 0 0 0 0 0 0 0 0 0 0 0 0 0 0 0 0 0 0 0 1 0 0 0 0 0 0 0 0 0 0 0\n",
      " 0 3 0 1 0 0 0 0 0 0 0]\n",
      "Q_values : [0.24242821 0.3696282  0.15254337 0.2612992 ]\n",
      "state : [0 1 0 0 0 0 0 0 0 0 0 0 0 0 0 0 0 0 0 0 0 0 0 0 0 1 0 0 0 0 0 0 0 0 0 0 0\n",
      " 0 0 0 0 0 0 0 0 0 0 0]\n",
      "Q_values : [0.24974173 0.3725508  0.14612031 0.23324826]\n",
      "state : [0 1 0 0 0 0 0 0 0 0 0 0 0 0 0 0 0 0 0 0 0 0 0 0 0 1 0 0 0 0 0 0 0 0 0 0 0\n",
      " 0 0 0 0 0 0 0 0 0 0 0]\n",
      "Q_values : [0.25688264 0.37232643 0.15545613 0.23623845]\n",
      "episode : 223\n",
      "Step #100.00 (0ms ?*RT. ?UPS, TraCI: 0ms, vehicles TOT 33 ACT 1 BUF 0)                     \n",
      " Retrying in 1 seconds\n"
     ]
    },
    {
     "name": "stderr",
     "output_type": "stream",
     "text": [
      "Warning: Environment variable SUMO_HOME is not set properly, disabling XML validation. Set 'auto' or 'always' for web lookups.\n"
     ]
    },
    {
     "name": "stdout",
     "output_type": "stream",
     "text": [
      "state : [0 0 0 0 0 0 0 0 0 0 0 0 0 0 0 0 0 0 0 0 0 0 0 0 0 0 0 0 0 0 0 0 0 0 0 0 0\n",
      " 0 0 0 0 0 0 0 0 0 0 0]\n",
      "Q_values : [-0.7643205  -0.68326265 -0.6551264  -0.627396  ]\n",
      "state : [0 0 0 0 0 0 0 0 0 0 0 0 0 0 0 0 0 0 0 0 0 0 0 0 0 1 1 6 7 4 0 0 0 0 0 0 0\n",
      " 0 0 0 0 0 0 0 0 0 0 0]\n",
      "Q_values : [-3.630298  -3.491421  -3.1081765 -3.1620648]\n",
      "state : [0 1 1 0 0 1 0 0 0 0 0 0 0 0 0 0 0 0 0 0 0 0 0 0 0 1 1 3 4 6 0 0 0 4 4 1 2\n",
      " 0 0 0 0 0 0 0 0 1 2 0]\n",
      "Q_values : [-2.1953707  -2.0871959  -0.85098416 -0.15062214]\n",
      "state : [0 1 1 0 2 0 0 0 0 0 0 0 0 0 0 0 0 0 0 0 0 0 0 0 0 1 1 0 4 1 0 0 0 4 4 4 5\n",
      " 0 0 0 0 0 0 0 4 0 1 0]\n",
      "Q_values : [-1.4563539 -1.7870737  1.233012  -0.3102733]\n",
      "state : [0 1 1 0 0 1 0 0 0 0 0 1 0 0 0 0 0 0 0 0 0 0 0 0 0 1 1 0 0 1 0 0 0 1 1 4 3\n",
      " 0 0 0 2 0 3 0 5 0 4 0]\n",
      "Q_values : [0.8887403  0.9051111  0.38787496 1.7727237 ]\n",
      "state : [0 1 1 0 0 0 0 0 0 0 1 0 0 0 0 0 0 0 0 0 0 0 0 0 0 1 1 0 0 0 0 0 0 0 1 0 0\n",
      " 0 4 0 2 0 3 0 1 0 2 0]\n",
      "Q_values : [1.3471187 1.3309842 1.4172648 1.1160604]\n",
      "state : [0 1 1 0 0 0 0 0 0 0 0 0 0 0 0 0 0 0 0 0 0 0 0 0 0 1 1 0 0 0 0 0 0 0 0 0 0\n",
      " 0 3 0 1 0 0 0 0 0 0 0]\n",
      "Q_values : [1.062116  1.1843218 0.3637163 0.746663 ]\n",
      "state : [0 1 0 0 0 0 0 0 0 0 0 0 0 0 0 0 0 0 0 0 0 0 0 0 0 1 0 0 0 0 0 0 0 0 0 0 0\n",
      " 0 0 0 0 1 0 0 0 0 0 0]\n",
      "Q_values : [0.29125863 0.32573667 0.12159827 0.15233889]\n",
      "state : [0 1 0 0 0 0 0 0 0 0 0 0 0 0 0 0 0 0 0 0 0 0 0 0 0 1 0 0 0 0 0 0 0 0 0 0 0\n",
      " 0 0 0 0 0 0 0 0 0 0 0]\n",
      "Q_values : [0.3832505  0.44537503 0.11732302 0.17506668]\n",
      "episode : 224\n",
      "Step #100.00 (0ms ?*RT. ?UPS, TraCI: 0ms, vehicles TOT 33 ACT 1 BUF 0)                     \n",
      " Retrying in 1 seconds\n"
     ]
    },
    {
     "name": "stderr",
     "output_type": "stream",
     "text": [
      "Warning: Environment variable SUMO_HOME is not set properly, disabling XML validation. Set 'auto' or 'always' for web lookups.\n"
     ]
    },
    {
     "name": "stdout",
     "output_type": "stream",
     "text": [
      "state : [0 0 0 0 0 0 0 0 0 0 0 0 0 0 0 0 0 0 0 0 0 0 0 0 0 0 0 0 0 0 0 0 0 0 0 0 0\n",
      " 0 0 0 0 0 0 0 0 0 0 0]\n",
      "Q_values : [-0.6077645  -0.5961009  -0.69832426 -0.70783305]\n",
      "state : [0 0 0 0 0 0 0 0 0 0 0 0 0 0 0 0 0 0 0 0 0 0 0 0 1 1 1 3 3 1 0 0 0 0 0 0 0\n",
      " 0 0 0 0 0 0 0 0 0 0 0]\n",
      "Q_values : [-1.5628552 -1.4816484 -1.556833  -1.5710164]\n",
      "state : [0 0 1 0 1 1 0 0 0 0 0 0 0 0 0 0 0 0 0 0 0 0 0 0 0 0 1 4 6 6 0 0 0 4 4 1 2\n",
      " 0 0 0 0 0 0 1 0 1 0 0]\n",
      "Q_values : [-3.619565  -3.417666  -1.5877355 -1.5435802]\n",
      "state : [0 0 1 0 4 0 0 0 0 0 0 0 0 0 0 0 0 0 0 0 0 0 0 0 0 0 1 0 6 1 0 0 0 4 4 4 5\n",
      " 0 0 0 0 0 0 0 4 0 0 0]\n",
      "Q_values : [-1.6869895  -1.8890988   1.9794335   0.05782964]\n",
      "state : [0 0 1 0 0 1 0 0 0 0 0 1 0 0 0 0 0 0 0 0 0 0 0 0 0 0 1 0 0 1 0 0 0 1 1 4 3\n",
      " 0 0 0 2 0 3 0 5 0 6 0]\n",
      "Q_values : [-0.12421301 -0.07089117 -0.5564491   0.886412  ]\n",
      "state : [0 0 1 0 0 0 0 0 0 0 1 0 0 0 0 0 0 0 0 0 0 0 0 0 0 0 1 0 0 0 0 0 0 0 1 0 0\n",
      " 0 3 0 0 0 0 0 0 0 0 0]\n",
      "Q_values : [1.1367689 1.2234864 1.4127375 1.0668967]\n",
      "episode : 225\n",
      "Step #100.00 (0ms ?*RT. ?UPS, TraCI: 0ms, vehicles TOT 33 ACT 1 BUF 0)                     \n",
      " Retrying in 1 seconds\n"
     ]
    },
    {
     "name": "stderr",
     "output_type": "stream",
     "text": [
      "Warning: Environment variable SUMO_HOME is not set properly, disabling XML validation. Set 'auto' or 'always' for web lookups.\n"
     ]
    },
    {
     "name": "stdout",
     "output_type": "stream",
     "text": [
      "state : [0 0 0 0 0 0 0 0 0 0 0 0 0 0 0 0 0 0 0 0 0 0 0 0 1 1 1 3 3 1 0 0 0 0 0 0 0\n",
      " 0 0 0 0 0 0 0 0 0 0 0]\n",
      "Q_values : [-1.8409119 -1.509077  -1.5315026 -1.6066701]\n",
      "state : [0 1 0 0 1 1 0 0 0 0 0 0 0 0 0 0 0 0 0 0 0 0 0 0 0 1 0 4 6 6 0 0 0 4 4 1 2\n",
      " 0 0 0 0 1 0 0 0 1 0 0]\n",
      "Q_values : [-3.360952   -2.74463    -0.2082372  -0.49394262]\n",
      "state : [0 1 0 0 0 4 0 0 0 0 0 0 0 0 0 0 0 0 0 0 0 0 0 0 0 1 0 0 1 6 0 0 0 4 4 4 5\n",
      " 0 0 0 0 0 0 0 0 0 5 0]\n",
      "Q_values : [-1.5018449 -1.0807207  0.8564595  2.8048093]\n",
      "state : [0 1 0 0 1 0 0 0 0 0 2 0 0 0 0 0 0 0 0 0 0 0 0 0 0 1 0 0 1 0 0 0 0 1 4 1 3\n",
      " 0 2 0 0 0 3 0 5 0 4 0]\n",
      "Q_values : [0.9018717 0.9694094 2.8537655 1.02046  ]\n",
      "state : [0 1 0 0 0 0 0 0 0 0 0 1 0 0 0 0 0 0 0 0 0 0 0 0 0 1 0 0 0 0 0 0 0 0 0 1 0\n",
      " 0 3 0 4 0 3 0 6 0 1 0]\n",
      "Q_values : [1.0514929  1.0980825  0.92558736 1.3352394 ]\n",
      "state : [0 1 0 0 0 0 0 0 0 0 0 0 0 0 0 0 0 0 0 0 0 0 0 0 0 1 0 0 0 0 0 0 0 0 0 0 0\n",
      " 0 1 0 3 0 0 0 0 0 0 0]\n",
      "Q_values : [0.51924217 0.63653934 0.22238559 0.3246314 ]\n",
      "state : [0 1 0 0 0 0 0 0 0 0 0 0 0 0 0 0 0 0 0 0 0 0 0 0 0 1 0 0 0 0 0 0 0 0 0 0 0\n",
      " 0 0 0 0 0 0 0 0 0 0 0]\n",
      "Q_values : [0.40900353 0.49258047 0.12825522 0.17962605]\n",
      "state : [0 1 0 0 0 0 0 0 0 0 0 0 0 0 0 0 0 0 0 0 0 0 0 0 0 1 0 0 0 0 0 0 0 0 0 0 0\n",
      " 0 0 0 0 0 0 0 0 0 0 0]\n",
      "Q_values : [0.40697274 0.47332385 0.11065668 0.1724371 ]\n",
      "episode : 226\n",
      "Step #100.00 (0ms ?*RT. ?UPS, TraCI: 0ms, vehicles TOT 33 ACT 1 BUF 0)                     \n",
      " Retrying in 1 seconds\n"
     ]
    },
    {
     "name": "stderr",
     "output_type": "stream",
     "text": [
      "Warning: Environment variable SUMO_HOME is not set properly, disabling XML validation. Set 'auto' or 'always' for web lookups.\n"
     ]
    },
    {
     "name": "stdout",
     "output_type": "stream",
     "text": [
      "state : [0 0 0 0 0 0 0 0 0 0 0 0 0 0 0 0 0 0 0 0 0 0 0 0 0 0 0 0 0 0 0 0 0 0 0 0 0\n",
      " 0 0 0 0 0 0 0 0 0 0 0]\n",
      "Q_values : [-0.60731053 -0.60040116 -0.7989271  -0.7640878 ]\n",
      "state : [0 0 0 0 0 0 0 0 0 0 0 0 0 0 0 0 0 0 0 0 0 0 0 0 1 1 1 3 3 1 0 0 0 0 0 0 0\n",
      " 0 0 0 0 0 0 0 0 0 0 0]\n",
      "Q_values : [-1.5183488 -1.485158  -1.6946713 -1.6217843]\n",
      "state : [0 0 0 0 0 0 0 0 0 0 0 0 0 0 0 0 0 0 0 0 0 0 0 0 0 1 1 6 7 4 0 0 0 0 0 0 0\n",
      " 0 0 0 0 0 0 0 0 0 0 0]\n",
      "Q_values : [-3.395536  -3.3479629 -3.512557  -3.37617  ]\n",
      "state : [0 1 0 0 4 0 0 0 0 0 0 0 0 0 0 0 0 0 0 0 0 0 0 0 0 1 0 0 6 1 0 0 0 4 4 4 5\n",
      " 0 0 0 0 0 0 0 4 0 0 0]\n",
      "Q_values : [-1.4532481  -1.6801144   1.8013792   0.12883267]\n",
      "state : [0 1 0 0 0 1 0 0 0 0 0 1 0 0 0 0 0 0 0 0 0 0 0 0 0 1 0 0 0 1 0 0 0 1 1 4 3\n",
      " 0 0 0 2 0 3 0 5 0 6 0]\n",
      "Q_values : [-0.21152595 -0.22875415 -0.5087983   0.78745186]\n",
      "state : [0 1 0 0 0 0 0 0 0 0 1 0 0 0 0 0 0 0 0 0 0 0 0 0 0 1 0 0 0 0 0 0 0 0 1 0 0\n",
      " 0 4 0 2 0 3 0 1 0 5 0]\n",
      "Q_values : [0.58727384 0.5279189  0.97845703 0.6111125 ]\n",
      "state : [0 1 0 0 0 0 0 0 0 0 0 0 0 0 0 0 0 0 0 0 0 0 0 0 0 1 0 0 0 0 0 0 0 0 0 0 0\n",
      " 0 3 0 1 0 0 0 0 0 0 0]\n",
      "Q_values : [0.2775782  0.2688731  0.13295522 0.21928486]\n",
      "state : [0 0 0 0 0 0 0 0 0 0 0 0 0 0 0 0 0 0 0 0 0 0 0 0 0 0 0 0 0 0 0 0 0 0 0 0 0\n",
      " 0 0 0 0 0 0 1 0 0 0 0]\n",
      "Q_values : [-0.02205747 -0.03486741 -0.0304499   0.06271704]\n",
      "state : [0 0 0 0 0 0 0 0 0 0 0 0 0 0 0 0 0 0 0 0 0 0 0 0 0 0 0 0 0 0 0 0 0 0 0 0 0\n",
      " 0 0 0 0 0 0 0 0 0 0 0]\n",
      "Q_values : [-0.7008405  -0.76468337 -0.62974274 -0.616387  ]\n",
      "episode : 227\n",
      "Step #100.00 (0ms ?*RT. ?UPS, TraCI: 0ms, vehicles TOT 33 ACT 0 BUF 0)                     \n",
      " Retrying in 1 seconds\n"
     ]
    },
    {
     "name": "stderr",
     "output_type": "stream",
     "text": [
      "Warning: Environment variable SUMO_HOME is not set properly, disabling XML validation. Set 'auto' or 'always' for web lookups.\n"
     ]
    },
    {
     "name": "stdout",
     "output_type": "stream",
     "text": [
      "state : [0 0 0 0 0 0 0 0 0 0 0 0 0 0 0 0 0 0 0 0 0 0 0 0 0 0 0 0 0 0 0 0 0 0 0 0 0\n",
      " 0 0 0 0 0 0 0 0 0 0 0]\n",
      "Q_values : [-0.68609107 -0.7429112  -0.5881847  -0.6081311 ]\n",
      "state : [0 0 0 0 0 0 0 0 0 0 0 0 0 0 0 0 0 0 0 0 0 0 0 0 1 1 1 3 3 1 0 0 0 0 0 0 0\n",
      " 0 0 0 0 0 0 0 0 0 0 0]\n",
      "Q_values : [-1.5481622 -1.5720497 -1.262243  -1.3536035]\n",
      "state : [0 0 0 0 0 0 0 0 0 0 0 0 0 0 0 0 0 0 0 0 0 0 0 0 0 1 1 6 7 4 0 0 0 0 0 0 0\n",
      " 0 0 0 0 0 0 0 0 0 0 0]\n",
      "Q_values : [-3.3823602 -3.3434124 -2.5504572 -2.744588 ]\n",
      "state : [0 1 1 0 0 1 0 0 0 0 0 0 0 0 0 0 0 0 0 0 0 0 0 0 0 1 1 3 4 6 0 0 0 4 4 1 2\n",
      " 0 0 0 0 0 0 0 0 1 2 0]\n",
      "Q_values : [-2.2231975  -2.0442517  -0.40742123 -0.01874374]\n",
      "state : [0 1 1 0 4 0 0 0 0 0 2 0 0 0 0 0 0 0 0 0 0 0 0 0 0 1 1 0 4 0 0 0 0 1 4 1 3\n",
      " 0 2 0 0 0 3 0 6 0 0 0]\n",
      "Q_values : [2.629137  2.2175384 5.9420037 3.0602663]\n",
      "state : [0 1 1 0 0 0 0 0 0 0 0 1 0 0 0 0 0 0 0 0 0 0 0 0 0 1 1 0 0 0 0 0 0 0 0 1 0\n",
      " 0 3 0 4 0 3 0 0 0 4 0]\n",
      "Q_values : [1.467488   1.5150392  0.97878814 1.8463243 ]\n",
      "episode : 228\n",
      "Step #100.00 (0ms ?*RT. ?UPS, TraCI: 0ms, vehicles TOT 33 ACT 0 BUF 0)                     \n",
      " Retrying in 1 seconds\n"
     ]
    },
    {
     "name": "stderr",
     "output_type": "stream",
     "text": [
      "Warning: Environment variable SUMO_HOME is not set properly, disabling XML validation. Set 'auto' or 'always' for web lookups.\n"
     ]
    },
    {
     "name": "stdout",
     "output_type": "stream",
     "text": [
      "state : [0 0 0 0 0 0 0 0 0 0 0 0 0 0 0 0 0 0 0 0 0 0 0 0 0 0 0 0 0 0 0 0 0 0 0 0 0\n",
      " 0 0 0 0 0 0 0 0 0 0 0]\n",
      "Q_values : [-0.5880831  -0.60349745 -0.6653763  -0.75028026]\n",
      "state : [0 0 0 0 0 0 0 0 0 0 0 0 0 0 0 0 0 0 0 0 0 0 0 0 1 1 1 3 3 1 0 0 0 0 0 0 0\n",
      " 0 0 0 0 0 0 0 0 0 0 0]\n",
      "Q_values : [-1.3675861 -1.3782632 -1.3973178 -1.5069438]\n",
      "state : [0 0 0 0 0 0 0 0 0 0 0 0 0 0 0 0 0 0 0 0 0 0 0 0 0 0 1 6 7 4 0 0 0 0 0 0 0\n",
      " 0 0 0 0 0 0 0 0 0 0 0]\n",
      "Q_values : [-3.015203  -3.0273874 -2.9079263 -3.0904324]\n",
      "state : [0 0 1 0 0 1 0 0 0 0 0 0 0 0 0 0 0 0 0 0 0 0 0 0 0 0 1 3 4 6 0 0 0 4 4 1 2\n",
      " 0 0 0 0 0 0 1 0 1 2 0]\n",
      "Q_values : [-3.142302  -3.0245402 -1.9865443 -1.4424276]\n",
      "state : [0 0 1 0 2 0 0 0 0 0 0 0 0 0 0 0 0 0 0 0 0 0 0 0 0 0 1 0 4 1 0 0 0 4 4 4 5\n",
      " 0 0 0 0 0 0 0 4 0 1 0]\n",
      "Q_values : [-2.0792637  -2.2906392   0.18566756 -1.1111765 ]\n",
      "state : [0 0 1 0 0 1 0 0 0 0 0 1 0 0 0 0 0 0 0 0 0 0 0 0 0 0 1 0 0 1 0 0 0 1 1 4 3\n",
      " 0 0 0 2 0 3 0 5 0 4 0]\n",
      "Q_values : [ 0.2697101   0.23813733 -0.23132457  1.1277261 ]\n",
      "state : [0 0 1 0 0 0 0 0 0 0 1 0 0 0 0 0 0 0 0 0 0 0 0 0 0 0 1 0 0 0 0 0 0 0 1 0 0\n",
      " 0 0 0 0 0 0 0 0 0 0 0]\n",
      "Q_values : [0.9921287 1.0853378 1.0555815 0.7416532]\n",
      "state : [0 0 0 0 0 0 0 0 0 0 1 0 0 0 0 0 0 0 0 0 0 0 0 0 0 0 0 0 0 0 0 0 0 0 1 0 0\n",
      " 0 0 0 0 1 0 0 0 0 0 0]\n",
      "Q_values : [0.29224318 0.29421324 0.61960673 0.2409781 ]\n",
      "episode : 229\n",
      "Step #100.00 (0ms ?*RT. ?UPS, TraCI: 0ms, vehicles TOT 33 ACT 1 BUF 0)                     \n",
      " Retrying in 1 seconds\n"
     ]
    },
    {
     "name": "stderr",
     "output_type": "stream",
     "text": [
      "Warning: Environment variable SUMO_HOME is not set properly, disabling XML validation. Set 'auto' or 'always' for web lookups.\n"
     ]
    },
    {
     "name": "stdout",
     "output_type": "stream",
     "text": [
      "state : [0 0 0 0 0 0 0 0 0 0 0 0 0 0 0 0 0 0 0 0 0 0 0 0 1 1 1 3 3 1 0 0 0 0 0 0 0\n",
      " 0 0 0 0 0 0 0 0 0 0 0]\n",
      "Q_values : [-1.5276155 -1.5493422 -1.3473556 -1.4574823]\n",
      "state : [0 1 1 0 0 0 0 0 0 0 0 1 0 0 0 0 0 0 0 0 0 0 0 0 0 1 1 0 0 0 0 0 0 1 1 4 3\n",
      " 0 0 0 2 0 3 0 3 0 6 0]\n",
      "Q_values : [ 0.0514673  -0.03535143 -0.23117857  0.468279  ]\n",
      "state : [0 1 1 0 0 0 0 0 0 0 1 0 0 0 0 0 0 0 0 0 0 0 0 0 0 1 1 0 0 0 0 0 0 0 1 0 0\n",
      " 0 4 0 2 0 3 0 0 0 5 0]\n",
      "Q_values : [1.5079032 1.6254985 1.6193974 1.1957608]\n",
      "state : [0 1 0 0 0 0 0 0 0 0 1 0 0 0 0 0 0 0 0 0 0 0 0 0 0 1 0 0 0 0 0 0 0 0 1 0 0\n",
      " 0 3 0 0 1 0 0 0 0 0 0]\n",
      "Q_values : [0.6633159  0.66239715 1.1815854  0.62103873]\n",
      "state : [0 1 0 0 0 0 0 0 0 0 0 0 0 0 0 0 0 0 0 0 0 0 0 0 0 1 0 0 0 0 0 0 0 0 0 0 0\n",
      " 0 0 0 0 0 0 0 0 0 0 0]\n",
      "Q_values : [0.3277512  0.3447878  0.12441894 0.16454181]\n",
      "episode : 230\n",
      "Step #100.00 (0ms ?*RT. ?UPS, TraCI: 0ms, vehicles TOT 33 ACT 1 BUF 0)                     \n",
      " Retrying in 1 seconds\n"
     ]
    },
    {
     "name": "stderr",
     "output_type": "stream",
     "text": [
      "Warning: Environment variable SUMO_HOME is not set properly, disabling XML validation. Set 'auto' or 'always' for web lookups.\n"
     ]
    },
    {
     "name": "stdout",
     "output_type": "stream",
     "text": [
      "state : [0 0 0 0 0 0 0 0 0 0 0 0 0 0 0 0 0 0 0 0 0 0 0 0 0 0 0 0 0 0 0 0 0 0 0 0 0\n",
      " 0 0 0 0 0 0 0 0 0 0 0]\n",
      "Q_values : [-0.65228766 -0.7123173  -0.7443145  -0.69670653]\n",
      "state : [0 0 0 0 0 0 0 0 0 0 0 0 0 0 0 0 0 0 0 0 0 0 0 0 1 1 1 3 3 1 0 0 0 0 0 0 0\n",
      " 0 0 0 0 0 0 0 0 0 0 0]\n",
      "Q_values : [-1.517532  -1.5597303 -1.5486652 -1.5115199]\n",
      "state : [0 0 1 0 1 1 0 0 0 0 0 0 0 0 0 0 0 0 0 0 0 0 0 0 0 0 1 4 6 6 0 0 0 4 4 1 2\n",
      " 0 0 0 0 0 0 1 0 1 0 0]\n",
      "Q_values : [-3.1757758 -2.8946266 -1.2020473 -1.0263882]\n",
      "state : [0 0 1 0 6 0 0 0 0 0 2 0 0 0 0 0 0 0 0 0 0 0 0 0 0 0 1 0 6 0 0 0 0 1 4 1 3\n",
      " 0 2 0 0 0 3 0 6 0 0 0]\n",
      "Q_values : [2.7761993 2.961097  7.4181576 3.9670212]\n",
      "state : [0 0 1 0 0 0 0 0 0 0 0 1 0 0 0 0 0 0 0 0 0 0 0 0 0 0 1 0 0 0 0 0 0 0 0 1 0\n",
      " 0 3 0 4 0 3 0 0 0 6 0]\n",
      "Q_values : [1.0012872 0.9847804 0.8644562 1.2879157]\n",
      "state : [0 0 1 0 0 0 0 0 0 0 0 0 0 0 0 0 0 0 0 0 0 0 0 0 0 0 1 0 0 0 0 0 0 0 0 0 0\n",
      " 0 1 0 3 0 0 0 0 0 5 0]\n",
      "Q_values : [0.6711843  0.7442548  0.30458537 0.44820282]\n",
      "episode : 231\n",
      "Step #100.00 (0ms ?*RT. ?UPS, TraCI: 0ms, vehicles TOT 33 ACT 0 BUF 0)                     \n",
      " Retrying in 1 seconds\n"
     ]
    },
    {
     "name": "stderr",
     "output_type": "stream",
     "text": [
      "Warning: Environment variable SUMO_HOME is not set properly, disabling XML validation. Set 'auto' or 'always' for web lookups.\n"
     ]
    },
    {
     "name": "stdout",
     "output_type": "stream",
     "text": [
      "state : [0 0 0 0 0 0 0 0 0 0 0 0 0 0 0 0 0 0 0 0 0 0 0 0 0 0 0 0 0 0 0 0 0 0 0 0 0\n",
      " 0 0 0 0 0 0 0 0 0 0 0]\n",
      "Q_values : [-0.72028804 -0.7465242  -0.63763475 -0.7647221 ]\n",
      "state : [0 0 1 0 1 1 0 0 0 0 0 0 0 0 0 0 0 0 0 0 0 0 0 0 0 0 1 4 6 6 0 0 0 4 4 1 2\n",
      " 0 0 0 0 0 0 1 0 1 0 0]\n",
      "Q_values : [-3.295283  -2.9256783 -0.6638868 -0.8280966]\n",
      "state : [0 0 1 0 0 4 0 0 0 0 0 0 0 0 0 0 0 0 0 0 0 0 0 0 0 0 1 0 1 6 0 0 0 4 4 4 5\n",
      " 0 0 0 0 0 0 0 0 0 5 0]\n",
      "Q_values : [-1.6146964  -1.3228488   0.57424396  2.500753  ]\n",
      "state : [0 0 1 0 1 0 0 0 0 0 4 0 0 0 0 0 0 0 0 0 0 0 0 0 0 0 1 0 1 0 0 0 0 0 4 0 0\n",
      " 0 4 0 0 0 3 0 6 0 0 0]\n",
      "Q_values : [2.6840708 2.685371  5.433679  2.7886558]\n",
      "state : [0 0 0 0 0 0 0 0 0 0 0 0 0 0 0 0 0 0 0 0 0 0 0 0 0 0 0 0 0 0 0 0 0 0 0 0 0\n",
      " 0 0 0 0 1 0 0 0 0 0 0]\n",
      "Q_values : [-0.23232952 -0.25310346 -0.2639349  -0.26309043]\n",
      "episode : 232\n",
      "Step #100.00 (0ms ?*RT. ?UPS, TraCI: 0ms, vehicles TOT 33 ACT 0 BUF 0)                     \n",
      " Retrying in 1 seconds\n"
     ]
    },
    {
     "name": "stderr",
     "output_type": "stream",
     "text": [
      "Warning: Environment variable SUMO_HOME is not set properly, disabling XML validation. Set 'auto' or 'always' for web lookups.\n"
     ]
    },
    {
     "name": "stdout",
     "output_type": "stream",
     "text": [
      "state : [0 0 0 0 0 0 0 0 0 0 0 0 0 0 0 0 0 0 0 0 0 0 0 0 0 0 0 0 0 0 0 0 0 0 0 0 0\n",
      " 0 0 0 0 0 0 0 0 0 0 0]\n",
      "Q_values : [-0.67217624 -0.71754104 -0.6622633  -0.67086166]\n",
      "state : [0 0 0 0 0 0 0 0 0 0 0 0 0 0 0 0 0 0 0 0 0 0 0 0 1 1 1 3 3 1 0 0 0 0 0 0 0\n",
      " 0 0 0 0 0 0 0 0 0 0 0]\n",
      "Q_values : [-1.5354273 -1.5528556 -1.4482477 -1.4551538]\n",
      "state : [0 0 0 0 0 0 0 0 0 0 0 0 0 0 0 0 0 0 0 0 0 0 0 0 0 1 1 6 7 4 0 0 0 0 0 0 0\n",
      " 0 0 0 0 0 0 0 0 0 0 0]\n",
      "Q_values : [-3.4654438 -3.4274106 -3.1405647 -3.1204941]\n",
      "state : [0 0 1 0 4 2 0 0 0 0 0 0 0 0 0 0 0 0 0 0 0 0 0 0 0 0 1 0 6 4 0 0 0 4 4 4 5\n",
      " 0 0 0 0 0 0 1 2 0 0 0]\n",
      "Q_values : [-1.7909474 -1.9830647  3.0291104  1.6208285]\n",
      "state : [0 0 1 0 0 4 0 0 0 0 0 1 0 0 0 0 0 0 0 0 0 0 0 0 0 0 1 0 0 4 0 0 0 1 1 4 3\n",
      " 0 0 0 2 0 3 0 0 0 6 0]\n",
      "Q_values : [0.91354084 0.93434876 1.0720879  4.356286  ]\n",
      "state : [0 0 1 0 0 0 0 0 0 0 1 0 0 0 0 0 0 0 0 0 0 0 0 0 0 0 1 0 0 0 0 0 0 0 1 0 0\n",
      " 0 4 0 2 0 3 0 4 0 5 0]\n",
      "Q_values : [0.8587682  0.78871965 1.0686533  0.76317096]\n",
      "state : [0 0 1 0 0 0 0 0 0 0 0 0 0 0 0 0 0 0 0 0 0 0 0 0 0 0 1 0 0 0 0 0 0 0 0 0 0\n",
      " 0 4 0 1 0 0 0 3 0 0 0]\n",
      "Q_values : [0.7478796  0.733649   0.20883647 0.47318715]\n",
      "episode : 233\n",
      "Step #100.00 (0ms ?*RT. ?UPS, TraCI: 0ms, vehicles TOT 33 ACT 0 BUF 0)                     \n",
      " Retrying in 1 seconds\n"
     ]
    },
    {
     "name": "stderr",
     "output_type": "stream",
     "text": [
      "Warning: Environment variable SUMO_HOME is not set properly, disabling XML validation. Set 'auto' or 'always' for web lookups.\n"
     ]
    },
    {
     "name": "stdout",
     "output_type": "stream",
     "text": [
      "state : [0 0 0 0 0 0 0 0 0 0 0 0 0 0 0 0 0 0 0 0 0 0 0 0 0 0 0 0 0 0 0 0 0 0 0 0 0\n",
      " 0 0 0 0 0 0 0 0 0 0 0]\n",
      "Q_values : [-0.6594918  -0.72993517 -0.7732612  -0.7146591 ]\n",
      "state : [0 0 0 0 0 0 0 0 0 0 0 0 0 0 0 0 0 0 0 0 0 0 0 0 1 1 1 3 3 1 0 0 0 0 0 0 0\n",
      " 0 0 0 0 0 0 0 0 0 0 0]\n",
      "Q_values : [-1.6106678 -1.622672  -1.6171138 -1.6133881]\n",
      "state : [0 0 0 0 0 0 0 0 0 0 0 0 0 0 0 0 0 0 0 0 0 0 0 0 0 0 1 6 7 4 0 0 0 0 0 0 0\n",
      " 0 0 0 0 0 0 0 0 0 0 0]\n",
      "Q_values : [-3.457888  -3.3481915 -3.1476107 -3.195307 ]\n",
      "state : [0 0 1 0 0 1 0 0 0 0 0 0 0 0 0 0 0 0 0 0 0 0 0 0 0 0 1 3 4 6 0 0 0 4 4 1 2\n",
      " 0 0 0 0 0 0 1 0 1 2 0]\n",
      "Q_values : [-3.2361295 -2.8212907 -1.5062971 -0.8866506]\n",
      "state : [0 0 1 0 2 0 0 0 0 0 0 0 0 0 0 0 0 0 0 0 0 0 0 0 0 0 1 0 4 1 0 0 0 4 4 4 5\n",
      " 0 0 0 0 0 0 0 4 0 1 0]\n",
      "Q_values : [-2.0117323  -1.8494937   0.7010112  -0.59912324]\n",
      "state : [0 0 1 0 0 0 0 0 0 0 1 0 0 0 0 0 0 0 0 0 0 0 0 0 0 0 1 0 0 0 0 0 0 0 1 0 0\n",
      " 0 4 0 2 0 3 0 1 0 2 0]\n",
      "Q_values : [1.1352903  1.1762507  1.2847056  0.85360044]\n",
      "state : [0 0 1 0 0 0 0 0 0 0 0 0 0 0 0 0 0 0 0 0 0 0 0 0 0 0 1 0 0 0 0 0 0 0 0 0 0\n",
      " 0 0 0 0 0 0 0 0 0 0 0]\n",
      "Q_values : [0.6806902  0.71323043 0.15981403 0.27214596]\n",
      "episode : 234\n",
      "Step #100.00 (0ms ?*RT. ?UPS, TraCI: 1ms, vehicles TOT 33 ACT 1 BUF 0)                     \n",
      " Retrying in 1 seconds\n"
     ]
    },
    {
     "name": "stderr",
     "output_type": "stream",
     "text": [
      "Warning: Environment variable SUMO_HOME is not set properly, disabling XML validation. Set 'auto' or 'always' for web lookups.\n"
     ]
    },
    {
     "name": "stdout",
     "output_type": "stream",
     "text": [
      "state : [0 0 0 0 0 0 0 0 0 0 0 0 0 0 0 0 0 0 0 0 0 0 0 0 0 0 0 0 0 0 0 0 0 0 0 0 0\n",
      " 0 0 0 0 0 0 0 0 0 0 0]\n",
      "Q_values : [-0.6805999 -0.7435422 -0.744124  -0.791643 ]\n",
      "state : [0 0 0 0 0 0 0 0 0 0 0 0 0 0 0 0 0 0 0 0 0 0 0 0 1 1 1 3 3 1 0 0 0 0 0 0 0\n",
      " 0 0 0 0 0 0 0 0 0 0 0]\n",
      "Q_values : [-1.5489848 -1.5952401 -1.5322548 -1.6078432]\n",
      "state : [0 0 0 0 0 0 0 0 0 0 0 0 0 0 0 0 0 0 0 0 0 0 0 0 0 1 1 6 7 4 0 0 0 0 0 0 0\n",
      " 0 0 0 0 0 0 0 0 0 0 0]\n",
      "Q_values : [-3.4364324 -3.4762943 -3.20296   -3.3271265]\n",
      "state : [0 1 0 0 1 6 0 0 0 0 2 1 0 0 0 0 0 0 0 0 0 0 0 0 0 1 0 0 1 6 0 0 0 1 4 4 3\n",
      " 0 0 0 0 1 3 0 0 0 1 0]\n",
      "Q_values : [1.961629  2.0861156 5.1785884 7.7868114]\n",
      "state : [0 1 0 0 1 0 0 0 0 0 4 0 0 0 0 0 0 0 0 0 0 0 0 0 0 1 0 0 1 0 0 0 0 0 4 0 0\n",
      " 0 4 0 0 0 3 0 5 0 0 0]\n",
      "Q_values : [2.6591864 2.3174272 5.225539  2.545022 ]\n",
      "state : [0 0 0 0 0 0 0 0 0 0 0 0 0 0 0 0 0 0 0 0 0 0 0 0 0 0 0 0 0 0 0 0 0 0 0 0 0\n",
      " 0 0 0 3 0 0 1 0 0 0 0]\n",
      "Q_values : [-0.09989899 -0.21529248 -0.13187987  0.02149524]\n",
      "state : [0 0 0 0 0 0 0 0 0 0 0 0 0 0 0 0 0 0 0 0 0 0 0 0 0 0 0 0 0 0 0 0 0 0 0 0 0\n",
      " 0 0 0 0 0 0 0 0 0 0 0]\n",
      "Q_values : [-0.6217888 -0.8537221 -0.715492  -0.7274272]\n",
      "episode : 235\n",
      "Step #100.00 (0ms ?*RT. ?UPS, TraCI: 0ms, vehicles TOT 33 ACT 0 BUF 0)                     \n",
      " Retrying in 1 seconds\n"
     ]
    },
    {
     "name": "stderr",
     "output_type": "stream",
     "text": [
      "Warning: Environment variable SUMO_HOME is not set properly, disabling XML validation. Set 'auto' or 'always' for web lookups.\n"
     ]
    },
    {
     "name": "stdout",
     "output_type": "stream",
     "text": [
      "state : [0 0 0 0 0 0 0 0 0 0 0 0 0 0 0 0 0 0 0 0 0 0 0 0 0 0 0 0 0 0 0 0 0 0 0 0 0\n",
      " 0 0 0 0 0 0 0 0 0 0 0]\n",
      "Q_values : [-0.6163806  -0.84007263 -0.69813913 -0.71893543]\n",
      "state : [0 0 0 0 0 0 0 0 0 0 0 0 0 0 0 0 0 0 0 0 0 0 0 0 1 1 1 3 3 1 0 0 0 0 0 0 0\n",
      " 0 0 0 0 0 0 0 0 0 0 0]\n",
      "Q_values : [-1.4249521 -1.6584911 -1.4153968 -1.4790334]\n",
      "state : [0 0 0 0 0 0 0 0 0 0 0 0 0 0 0 0 0 0 0 0 0 0 0 0 0 1 1 6 7 4 0 0 0 0 0 0 0\n",
      " 0 0 0 0 0 0 0 0 0 0 0]\n",
      "Q_values : [-3.180695  -3.4435596 -2.8731139 -3.064331 ]\n",
      "state : [0 1 1 0 2 0 0 0 0 0 0 0 0 0 0 0 0 0 0 0 0 0 0 0 0 1 1 0 4 1 0 0 0 4 4 4 5\n",
      " 0 0 0 0 0 0 0 4 0 1 0]\n",
      "Q_values : [-1.5186558  -1.757647    1.0107532  -0.44105583]\n",
      "state : [0 1 1 0 0 1 0 0 0 0 0 1 0 0 0 0 0 0 0 0 0 0 0 0 0 1 1 0 0 1 0 0 0 1 1 4 3\n",
      " 0 0 0 2 0 3 0 5 0 4 0]\n",
      "Q_values : [0.5047745  0.40802616 0.18314764 1.7675651 ]\n",
      "state : [0 1 1 0 0 0 0 0 0 0 1 0 0 0 0 0 0 0 0 0 0 0 0 0 0 1 1 0 0 0 0 0 0 0 1 0 0\n",
      " 0 4 0 2 0 3 0 1 0 2 0]\n",
      "Q_values : [1.5770571 1.6538081 1.6124959 1.1006721]\n",
      "state : [0 1 0 0 0 0 0 0 0 0 1 0 0 0 0 0 0 0 0 0 0 0 0 0 0 1 0 0 0 0 0 0 0 0 1 0 0\n",
      " 0 0 0 0 0 0 0 0 0 0 0]\n",
      "Q_values : [0.729711   0.74539924 1.019762   0.5646093 ]\n",
      "state : [0 1 0 0 0 0 0 0 0 0 0 0 0 0 0 0 0 0 0 0 0 0 0 0 0 1 0 0 0 0 0 0 0 0 0 0 0\n",
      " 0 0 0 1 0 0 0 0 0 0 0]\n",
      "Q_values : [0.30792275 0.30667302 0.15124068 0.1961988 ]\n",
      "episode : 236\n",
      "Step #100.00 (0ms ?*RT. ?UPS, TraCI: 0ms, vehicles TOT 33 ACT 1 BUF 0)                     \n",
      " Retrying in 1 seconds\n"
     ]
    },
    {
     "name": "stderr",
     "output_type": "stream",
     "text": [
      "Warning: Environment variable SUMO_HOME is not set properly, disabling XML validation. Set 'auto' or 'always' for web lookups.\n"
     ]
    },
    {
     "name": "stdout",
     "output_type": "stream",
     "text": [
      "state : [0 0 0 0 0 0 0 0 0 0 0 0 0 0 0 0 0 0 0 0 0 0 0 0 0 0 0 0 0 0 0 0 0 0 0 0 0\n",
      " 0 0 0 0 0 0 0 0 0 0 0]\n",
      "Q_values : [-0.6734997  -0.69915307 -0.7153841  -0.6839049 ]\n",
      "state : [0 0 0 0 0 0 0 0 0 0 0 0 0 0 0 0 0 0 0 0 0 0 0 0 1 1 1 3 3 1 0 0 0 0 0 0 0\n",
      " 0 0 0 0 0 0 0 0 0 0 0]\n",
      "Q_values : [-1.5088559 -1.4782813 -1.4612548 -1.4412719]\n",
      "state : [0 0 0 0 0 0 0 0 0 0 0 0 0 0 0 0 0 0 0 0 0 0 0 0 0 1 1 6 7 4 0 0 0 0 0 0 0\n",
      " 0 0 0 0 0 0 0 0 0 0 0]\n",
      "Q_values : [-3.4523814 -3.316417  -3.1468878 -3.1416101]\n",
      "state : [0 1 1 0 1 0 0 0 0 0 0 0 0 0 0 0 0 0 0 0 0 0 0 0 0 1 1 4 6 4 0 0 0 4 4 1 2\n",
      " 0 0 0 0 0 0 0 1 1 0 0]\n",
      "Q_values : [-2.6568687 -2.3520753 -1.1192863 -1.4200801]\n",
      "state : [0 1 1 0 0 2 0 0 0 0 0 0 0 0 0 0 0 0 0 0 0 0 0 0 0 1 1 0 0 4 0 0 0 4 4 4 5\n",
      " 0 0 0 0 0 0 0 2 0 5 0]\n",
      "Q_values : [-2.1857226 -2.0082505 -1.0338126  0.5110533]\n",
      "state : [0 1 1 0 0 0 0 0 0 0 2 0 0 0 0 0 0 0 0 0 0 0 0 0 0 1 1 0 0 0 0 0 0 1 4 1 3\n",
      " 0 2 0 0 0 3 0 4 0 5 0]\n",
      "Q_values : [0.11249784 0.23809694 1.5393622  0.39499384]\n",
      "state : [0 1 1 0 0 0 0 0 0 0 0 1 0 0 0 0 0 0 0 0 0 0 0 0 0 1 1 0 0 0 0 0 0 0 0 1 0\n",
      " 0 3 0 4 0 3 0 3 0 0 0]\n",
      "Q_values : [1.4658533 1.5332862 1.0323155 1.8089042]\n",
      "state : [0 1 1 0 0 0 0 0 0 0 0 0 0 0 0 0 0 0 0 0 0 0 0 0 0 1 1 0 0 0 0 0 0 0 0 0 0\n",
      " 0 1 0 3 0 0 0 0 0 0 0]\n",
      "Q_values : [1.1892972 1.3813688 0.5171619 0.8478785]\n",
      "state : [0 1 0 0 0 0 0 0 0 0 0 0 0 0 0 0 0 0 0 0 0 0 0 0 0 1 0 0 0 0 0 0 0 0 0 0 0\n",
      " 0 0 0 0 1 0 0 0 0 0 0]\n",
      "Q_values : [0.22902982 0.24012245 0.16130698 0.17942141]\n",
      "state : [0 1 0 0 0 0 0 0 0 0 0 0 0 0 0 0 0 0 0 0 0 0 0 0 0 1 0 0 0 0 0 0 0 0 0 0 0\n",
      " 0 0 0 0 0 0 0 0 0 0 0]\n",
      "Q_values : [0.30956542 0.35133678 0.17482084 0.18497017]\n",
      "episode : 237\n",
      "Step #100.00 (0ms ?*RT. ?UPS, TraCI: 0ms, vehicles TOT 33 ACT 1 BUF 0)                     \n",
      " Retrying in 1 seconds\n"
     ]
    },
    {
     "name": "stderr",
     "output_type": "stream",
     "text": [
      "Warning: Environment variable SUMO_HOME is not set properly, disabling XML validation. Set 'auto' or 'always' for web lookups.\n"
     ]
    },
    {
     "name": "stdout",
     "output_type": "stream",
     "text": [
      "state : [0 0 0 0 0 0 0 0 0 0 0 0 0 0 0 0 0 0 0 0 0 0 0 0 1 1 1 3 3 1 0 0 0 0 0 0 0\n",
      " 0 0 0 0 0 0 0 0 0 0 0]\n",
      "Q_values : [-1.5719876 -1.4771707 -1.4338256 -1.5548886]\n",
      "state : [0 0 0 0 0 0 0 0 0 0 0 0 0 0 0 0 0 0 0 0 0 0 0 0 0 1 1 6 7 4 0 0 0 0 0 0 0\n",
      " 0 0 0 0 0 0 0 0 0 0 0]\n",
      "Q_values : [-3.5322943 -3.2721334 -3.0963447 -3.3330812]\n",
      "state : [0 1 1 0 0 1 0 0 0 0 0 0 0 0 0 0 0 0 0 0 0 0 0 0 0 1 1 3 4 6 0 0 0 4 4 1 2\n",
      " 0 0 0 0 0 0 0 0 1 2 0]\n",
      "Q_values : [-2.5496218 -2.2343764 -1.1238079 -0.6572724]\n",
      "state : [0 1 1 0 2 0 0 0 0 0 0 0 0 0 0 0 0 0 0 0 0 0 0 0 0 1 1 0 4 1 0 0 0 4 4 4 5\n",
      " 0 0 0 0 0 0 0 4 0 1 0]\n",
      "Q_values : [-1.7560518  -1.6653135   0.81179893 -0.53403217]\n",
      "state : [0 1 1 0 0 1 0 0 0 0 0 1 0 0 0 0 0 0 0 0 0 0 0 0 0 1 1 0 0 1 0 0 0 1 1 4 3\n",
      " 0 0 0 2 0 3 0 5 0 4 0]\n",
      "Q_values : [0.32896423 0.3898157  0.30560416 1.7331729 ]\n",
      "state : [0 1 0 0 0 0 0 0 0 0 1 0 0 0 0 0 0 0 0 0 0 0 0 0 0 1 0 0 0 0 0 0 0 0 1 0 0\n",
      " 0 3 0 0 1 0 0 0 0 0 0]\n",
      "Q_values : [0.7291894 0.7277081 1.1483185 0.6197405]\n",
      "episode : 238\n",
      "Step #100.00 (0ms ?*RT. ?UPS, TraCI: 0ms, vehicles TOT 33 ACT 1 BUF 0)                     \n",
      " Retrying in 1 seconds\n"
     ]
    },
    {
     "name": "stderr",
     "output_type": "stream",
     "text": [
      "Warning: Environment variable SUMO_HOME is not set properly, disabling XML validation. Set 'auto' or 'always' for web lookups.\n"
     ]
    },
    {
     "name": "stdout",
     "output_type": "stream",
     "text": [
      "state : [0 0 0 0 0 0 0 0 0 0 0 0 0 0 0 0 0 0 0 0 0 0 0 0 0 0 0 0 0 0 0 0 0 0 0 0 0\n",
      " 0 0 0 0 0 0 0 0 0 0 0]\n",
      "Q_values : [-0.675354   -0.6858759  -0.73298717 -0.75738156]\n",
      "state : [0 0 0 0 1 1 0 0 0 0 0 0 0 0 0 0 0 0 0 0 0 0 0 0 0 0 0 4 6 6 0 0 0 4 4 1 2\n",
      " 0 0 0 0 1 0 1 0 1 0 0]\n",
      "Q_values : [-4.3586483 -3.9201925 -1.2341522 -1.2012032]\n",
      "state : [0 0 0 0 4 0 0 0 0 0 0 0 0 0 0 0 0 0 0 0 0 0 0 0 0 0 0 0 6 1 0 0 0 4 4 4 5\n",
      " 0 0 0 0 0 0 0 4 0 0 0]\n",
      "Q_values : [-1.8350716  -1.7256724   2.2510333   0.21662152]\n",
      "state : [0 0 0 0 0 1 0 0 0 0 1 4 0 0 0 0 0 0 0 0 0 0 0 0 0 0 0 0 0 1 0 0 0 0 1 4 0\n",
      " 0 0 0 2 0 3 0 0 0 5 0]\n",
      "Q_values : [2.8411489 2.8788533 3.352764  5.323246 ]\n",
      "state : [0 0 0 0 0 0 0 0 0 0 1 0 0 0 0 0 0 0 0 0 0 0 0 0 0 0 0 0 0 0 0 0 0 0 1 0 0\n",
      " 0 4 0 0 0 0 0 1 0 0 0]\n",
      "Q_values : [0.33449098 0.2733166  0.80562377 0.2670274 ]\n",
      "state : [0 0 0 0 0 0 0 0 0 0 0 0 0 0 0 0 0 0 0 0 0 0 0 0 0 0 0 0 0 0 0 0 0 0 0 0 0\n",
      " 0 3 0 1 0 0 0 0 0 0 0]\n",
      "Q_values : [-0.1972476  -0.25952816 -0.29077405 -0.2842996 ]\n",
      "episode : 239\n",
      "Step #100.00 (0ms ?*RT. ?UPS, TraCI: 0ms, vehicles TOT 33 ACT 0 BUF 0)                     \n",
      " Retrying in 1 seconds\n"
     ]
    },
    {
     "name": "stderr",
     "output_type": "stream",
     "text": [
      "Warning: Environment variable SUMO_HOME is not set properly, disabling XML validation. Set 'auto' or 'always' for web lookups.\n"
     ]
    },
    {
     "name": "stdout",
     "output_type": "stream",
     "text": [
      "state : [0 0 0 0 0 0 0 0 0 0 0 0 0 0 0 0 0 0 0 0 0 0 0 0 0 0 0 0 0 0 0 0 0 0 0 0 0\n",
      " 0 0 0 0 0 0 0 0 0 0 0]\n",
      "Q_values : [-0.6949854  -0.77483356 -0.74870384 -0.77214664]\n",
      "state : [0 0 0 0 0 0 0 0 0 0 0 0 0 0 0 0 0 0 0 0 0 0 0 0 1 1 1 3 3 1 0 0 0 0 0 0 0\n",
      " 0 0 0 0 0 0 0 0 0 0 0]\n",
      "Q_values : [-1.5701926 -1.5893697 -1.5507631 -1.5960429]\n",
      "state : [0 0 1 0 1 1 0 0 0 0 0 0 0 0 0 0 0 0 0 0 0 0 0 0 0 0 1 4 6 6 0 0 0 4 4 1 2\n",
      " 0 0 0 0 0 0 1 0 1 0 0]\n",
      "Q_values : [-3.5616696 -3.160254  -0.8137498 -0.9005013]\n",
      "state : [0 0 1 0 0 4 0 0 0 0 0 0 0 0 0 0 0 0 0 0 0 0 0 0 0 0 1 0 1 6 0 0 0 4 4 4 5\n",
      " 0 0 0 0 0 0 0 0 0 5 0]\n",
      "Q_values : [-2.1871142  -1.7236254   0.19985119  2.4490623 ]\n",
      "state : [0 0 1 0 1 0 0 0 0 0 2 0 0 0 0 0 0 0 0 0 0 0 0 0 0 0 1 0 1 0 0 0 0 1 4 1 3\n",
      " 0 2 0 0 0 3 0 5 0 4 0]\n",
      "Q_values : [0.74847484 0.60909563 2.5560136  0.9049588 ]\n",
      "state : [0 0 1 0 0 0 0 0 0 0 0 1 0 0 0 0 0 0 0 0 0 0 0 0 0 0 1 0 0 0 0 0 0 0 0 1 0\n",
      " 0 3 0 4 0 3 0 6 0 1 0]\n",
      "Q_values : [1.0451275  0.96061957 0.7716939  1.372767  ]\n",
      "state : [0 0 1 0 0 0 0 0 0 0 0 0 0 0 0 0 0 0 0 0 0 0 0 0 0 0 1 0 0 0 0 0 0 0 0 0 0\n",
      " 0 1 0 3 0 0 0 0 0 0 0]\n",
      "Q_values : [0.70877814 0.6218852  0.22796895 0.33698845]\n",
      "state : [0 0 1 0 0 0 0 0 0 0 0 0 0 0 0 0 0 0 0 0 0 0 0 0 0 0 1 0 0 0 0 0 0 0 0 0 0\n",
      " 0 0 0 0 0 0 0 0 0 0 0]\n",
      "Q_values : [0.5763432  0.51919365 0.15239833 0.22011608]\n",
      "state : [0 0 1 0 0 0 0 0 0 0 0 0 0 0 0 0 0 0 0 0 0 0 0 0 0 0 1 0 0 0 0 0 0 0 0 0 0\n",
      " 0 0 0 0 0 0 0 0 0 0 0]\n",
      "Q_values : [0.58655214 0.5282516  0.14772253 0.2285665 ]\n",
      "episode : 240\n",
      "Step #100.00 (0ms ?*RT. ?UPS, TraCI: 0ms, vehicles TOT 33 ACT 1 BUF 0)                     \n",
      " Retrying in 1 seconds\n"
     ]
    },
    {
     "name": "stderr",
     "output_type": "stream",
     "text": [
      "Warning: Environment variable SUMO_HOME is not set properly, disabling XML validation. Set 'auto' or 'always' for web lookups.\n"
     ]
    },
    {
     "name": "stdout",
     "output_type": "stream",
     "text": [
      "state : [0 0 0 0 0 0 0 0 0 0 0 0 0 0 0 0 0 0 0 0 0 0 0 0 0 0 0 0 0 0 0 0 0 0 0 0 0\n",
      " 0 0 0 0 0 0 0 0 0 0 0]\n",
      "Q_values : [-0.6219621  -0.7496389  -0.7927142  -0.75266933]\n",
      "state : [0 0 0 0 0 0 0 0 0 0 0 0 0 0 0 0 0 0 0 0 0 0 0 0 1 1 1 3 3 1 0 0 0 0 0 0 0\n",
      " 0 0 0 0 0 0 0 0 0 0 0]\n",
      "Q_values : [-1.493643  -1.5666265 -1.6158117 -1.5514318]\n",
      "state : [0 0 0 0 0 0 0 0 0 0 0 0 0 0 0 0 0 0 0 0 0 0 0 0 0 0 1 6 7 4 0 0 0 0 0 0 0\n",
      " 0 0 0 0 0 0 0 0 0 0 0]\n",
      "Q_values : [-3.2449188 -3.1843643 -3.1156042 -2.9299817]\n",
      "state : [0 0 0 0 4 2 0 0 0 0 0 0 0 0 0 0 0 0 0 0 0 0 0 0 0 0 0 0 6 4 0 0 0 4 4 4 5\n",
      " 0 0 0 0 1 0 0 2 0 0 0]\n",
      "Q_values : [-2.5995903 -2.5709593  2.8335454  1.3711758]\n",
      "state : [0 0 0 0 0 4 0 0 0 0 0 4 0 0 0 0 0 0 0 0 0 0 0 0 0 0 0 0 0 4 0 0 0 0 0 4 0\n",
      " 0 0 0 3 0 3 0 0 0 5 0]\n",
      "Q_values : [3.483089  3.9964697 3.762396  8.269801 ]\n",
      "state : [0 0 0 0 0 0 0 0 0 0 0 0 0 0 0 0 0 0 0 0 0 0 0 0 0 0 0 0 0 0 0 0 0 0 0 0 0\n",
      " 0 4 0 0 0 0 0 4 0 0 0]\n",
      "Q_values : [-0.19755965 -0.21161965 -0.22288518 -0.21209358]\n",
      "state : [0 0 0 0 0 0 0 0 0 0 0 0 0 0 0 0 0 0 0 0 0 0 0 0 0 0 0 0 0 0 0 0 0 0 0 0 0\n",
      " 0 4 0 0 0 0 0 3 0 0 0]\n",
      "Q_values : [-0.20812958 -0.21980491 -0.22038375 -0.2275949 ]\n",
      "state : [0 0 0 0 0 0 0 0 0 0 0 0 0 0 0 0 0 0 0 0 0 0 0 0 0 0 0 0 0 0 0 0 0 0 0 0 0\n",
      " 0 0 0 0 0 0 0 0 0 0 0]\n",
      "Q_values : [-0.7333535  -0.75449085 -0.67389965 -0.7566352 ]\n",
      "episode : 241\n",
      "Step #100.00 (0ms ?*RT. ?UPS, TraCI: 0ms, vehicles TOT 33 ACT 0 BUF 0)                     \n",
      " Retrying in 1 seconds\n"
     ]
    },
    {
     "name": "stderr",
     "output_type": "stream",
     "text": [
      "Warning: Environment variable SUMO_HOME is not set properly, disabling XML validation. Set 'auto' or 'always' for web lookups.\n"
     ]
    },
    {
     "name": "stdout",
     "output_type": "stream",
     "text": [
      "state : [0 0 0 0 0 0 0 0 0 0 0 0 0 0 0 0 0 0 0 0 0 0 0 0 0 0 0 0 0 0 0 0 0 0 0 0 0\n",
      " 0 0 0 0 0 0 0 0 0 0 0]\n",
      "Q_values : [-0.7025393  -0.7297092  -0.65723896 -0.7427649 ]\n",
      "state : [0 0 0 0 0 0 0 0 0 0 0 0 0 0 0 0 0 0 0 0 0 0 0 0 1 1 1 3 3 1 0 0 0 0 0 0 0\n",
      " 0 0 0 0 0 0 0 0 0 0 0]\n",
      "Q_values : [-1.5015656 -1.468758  -1.358809  -1.5273831]\n",
      "state : [0 0 0 0 0 0 0 0 0 0 0 0 0 0 0 0 0 0 0 0 0 0 0 0 0 1 1 6 7 4 0 0 0 0 0 0 0\n",
      " 0 0 0 0 0 0 0 0 0 0 0]\n",
      "Q_values : [-3.2132895 -3.0745382 -2.8456025 -3.1671996]\n",
      "state : [0 1 1 0 0 4 0 0 0 0 0 0 0 0 0 0 0 0 0 0 0 0 0 0 0 1 1 0 1 6 0 0 0 4 4 4 5\n",
      " 0 0 0 0 0 0 0 0 0 4 0]\n",
      "Q_values : [-1.0767485 -1.151228   1.0656526  2.7717962]\n",
      "state : [0 1 1 0 1 0 0 0 0 0 2 0 0 0 0 0 0 0 0 0 0 0 0 0 0 1 1 0 1 0 0 0 0 1 4 1 3\n",
      " 0 2 0 0 0 3 0 5 0 1 0]\n",
      "Q_values : [1.2583632 1.0349375 3.0247107 1.1524068]\n",
      "state : [0 1 1 0 0 0 0 0 0 0 0 1 0 0 0 0 0 0 0 0 0 0 0 0 0 1 1 0 0 0 0 0 0 0 0 1 0\n",
      " 0 3 0 4 0 3 0 6 0 1 0]\n",
      "Q_values : [1.5841478 1.5916319 1.0288055 1.8640339]\n",
      "state : [0 1 1 0 0 0 0 0 0 0 0 0 0 0 0 0 0 0 0 0 0 0 0 0 0 1 1 0 0 0 0 0 0 0 0 0 0\n",
      " 0 1 0 3 0 0 0 0 0 0 0]\n",
      "Q_values : [1.1121373  1.2781048  0.44055867 0.74407136]\n",
      "state : [0 1 0 0 0 0 0 0 0 0 0 0 0 0 0 0 0 0 0 0 0 0 0 0 0 1 0 0 0 0 0 0 0 0 0 0 0\n",
      " 0 0 0 0 1 0 0 0 0 0 0]\n",
      "Q_values : [0.32767907 0.33965343 0.16400693 0.24165648]\n",
      "state : [0 1 0 0 0 0 0 0 0 0 0 0 0 0 0 0 0 0 0 0 0 0 0 0 0 1 0 0 0 0 0 0 0 0 0 0 0\n",
      " 0 0 0 0 0 0 0 0 0 0 0]\n",
      "Q_values : [0.50641984 0.6061673  0.17966677 0.28439656]\n",
      "episode : 242\n",
      "Step #100.00 (0ms ?*RT. ?UPS, TraCI: 0ms, vehicles TOT 33 ACT 1 BUF 0)                     \n",
      " Retrying in 1 seconds\n"
     ]
    },
    {
     "name": "stderr",
     "output_type": "stream",
     "text": [
      "Warning: Environment variable SUMO_HOME is not set properly, disabling XML validation. Set 'auto' or 'always' for web lookups.\n"
     ]
    },
    {
     "name": "stdout",
     "output_type": "stream",
     "text": [
      "state : [0 0 0 0 0 0 0 0 0 0 0 0 0 0 0 0 0 0 0 0 0 0 0 0 1 1 1 3 3 1 0 0 0 0 0 0 0\n",
      " 0 0 0 0 0 0 0 0 0 0 0]\n",
      "Q_values : [-1.4129884 -1.3140093 -1.4557911 -1.538219 ]\n",
      "state : [0 0 0 0 0 0 0 0 0 0 0 0 0 0 0 0 0 0 0 0 0 0 0 0 0 1 1 6 7 4 0 0 0 0 0 0 0\n",
      " 0 0 0 0 0 0 0 0 0 0 0]\n",
      "Q_values : [-3.2161922 -2.9684885 -3.1322243 -3.3294861]\n",
      "state : [0 1 0 0 1 1 0 0 0 0 0 0 0 0 0 0 0 0 0 0 0 0 0 0 0 1 0 4 6 6 0 0 0 4 4 1 2\n",
      " 0 0 0 0 1 0 0 0 1 0 0]\n",
      "Q_values : [-3.207038  -2.9643683 -0.8966416 -1.0579028]\n",
      "state : [0 1 0 0 0 4 0 0 0 0 0 0 0 0 0 0 0 0 0 0 0 0 0 0 0 1 0 0 1 6 0 0 0 4 4 4 5\n",
      " 0 0 0 0 0 0 0 0 0 5 0]\n",
      "Q_values : [-1.9921677  -2.0291247   0.10086621  2.0308092 ]\n",
      "state : [0 1 0 0 1 0 0 0 0 0 2 0 0 0 0 0 0 0 0 0 0 0 0 0 0 1 0 0 1 0 0 0 0 1 4 1 3\n",
      " 0 2 0 0 0 3 0 5 0 4 0]\n",
      "Q_values : [0.15755934 0.43463242 2.148756   0.66362524]\n",
      "state : [0 1 0 0 0 0 0 0 0 0 0 0 0 0 0 0 0 0 0 0 0 0 0 0 0 1 0 0 0 0 0 0 0 0 0 0 0\n",
      " 0 1 0 3 0 0 0 0 0 0 0]\n",
      "Q_values : [0.2823195  0.44887897 0.19095713 0.23179932]\n",
      "state : [0 1 0 0 0 0 0 0 0 0 0 0 0 0 0 0 0 0 0 0 0 0 0 0 0 1 0 0 0 0 0 0 0 0 0 0 0\n",
      " 0 0 0 0 0 0 0 0 0 0 0]\n",
      "Q_values : [0.40269327 0.648421   0.20722881 0.25565308]\n",
      "state : [0 1 0 0 0 0 0 0 0 0 0 0 0 0 0 0 0 0 0 0 0 0 0 0 0 1 0 0 0 0 0 0 0 0 0 0 0\n",
      " 0 0 0 0 0 0 0 0 0 0 0]\n",
      "Q_values : [0.4039098  0.65096796 0.21232067 0.26356843]\n",
      "episode : 243\n",
      "Step #100.00 (0ms ?*RT. ?UPS, TraCI: 0ms, vehicles TOT 33 ACT 1 BUF 0)                     \n",
      " Retrying in 1 seconds\n"
     ]
    },
    {
     "name": "stderr",
     "output_type": "stream",
     "text": [
      "Warning: Environment variable SUMO_HOME is not set properly, disabling XML validation. Set 'auto' or 'always' for web lookups.\n"
     ]
    },
    {
     "name": "stdout",
     "output_type": "stream",
     "text": [
      "state : [0 0 0 0 0 0 0 0 0 0 0 0 0 0 0 0 0 0 0 0 0 0 0 0 0 0 0 0 0 0 0 0 0 0 0 0 0\n",
      " 0 0 0 0 0 0 0 0 0 0 0]\n",
      "Q_values : [-0.7672721 -0.6746114 -0.7237781 -0.7415974]\n",
      "state : [0 0 0 0 0 0 0 0 0 0 0 0 0 0 0 0 0 0 0 0 0 0 0 0 0 1 1 6 7 4 0 0 0 0 0 0 0\n",
      " 0 0 0 0 0 0 0 0 0 0 0]\n",
      "Q_values : [-3.5471823 -3.3304048 -3.3088696 -3.3215601]\n",
      "state : [0 1 1 0 0 1 0 0 0 0 0 0 0 0 0 0 0 0 0 0 0 0 0 0 0 1 1 3 4 6 0 0 0 4 4 1 2\n",
      " 0 0 0 0 0 0 0 0 1 2 0]\n",
      "Q_values : [-2.3718538  -2.1392605  -0.8983001  -0.30905834]\n",
      "state : [0 0 1 0 4 1 0 0 0 0 2 1 0 0 0 0 0 0 0 0 0 0 0 0 0 0 1 0 4 1 0 0 0 1 4 4 3\n",
      " 0 0 0 0 0 3 1 5 0 0 0]\n",
      "Q_values : [1.1744589 1.5021778 6.203957  3.8698606]\n",
      "state : [0 0 1 0 0 1 0 0 0 0 0 4 0 0 0 0 0 0 0 0 0 0 0 0 0 0 1 0 0 1 0 0 0 0 0 4 0\n",
      " 0 0 0 4 0 3 0 0 0 4 0]\n",
      "Q_values : [3.3297675 3.0287998 2.8257754 5.241489 ]\n",
      "state : [0 0 1 0 0 0 0 0 0 0 0 0 0 0 0 0 0 0 0 0 0 0 0 0 0 0 1 0 0 0 0 0 0 0 0 0 0\n",
      " 0 4 0 3 0 0 0 1 0 2 0]\n",
      "Q_values : [0.59864056 0.8611204  0.2961862  0.43242997]\n",
      "state : [0 0 0 0 0 0 0 0 0 0 0 0 0 0 0 0 0 0 0 0 0 0 0 0 0 0 0 0 0 0 0 0 0 0 0 0 0\n",
      " 0 3 0 0 1 0 0 0 0 0 0]\n",
      "Q_values : [-0.3125547  -0.30403435 -0.40827125 -0.34974068]\n",
      "state : [0 0 0 0 0 0 0 0 0 0 0 0 0 0 0 0 0 0 0 0 0 0 0 0 0 0 0 0 0 0 0 0 0 0 0 0 0\n",
      " 0 0 0 0 0 0 0 0 0 0 0]\n",
      "Q_values : [-0.66359997 -0.6967805  -0.76429    -0.69473094]\n",
      "episode : 244\n",
      "Step #100.00 (0ms ?*RT. ?UPS, TraCI: 1ms, vehicles TOT 33 ACT 0 BUF 0)                     \n",
      " Retrying in 1 seconds\n"
     ]
    },
    {
     "name": "stderr",
     "output_type": "stream",
     "text": [
      "Warning: Environment variable SUMO_HOME is not set properly, disabling XML validation. Set 'auto' or 'always' for web lookups.\n"
     ]
    },
    {
     "name": "stdout",
     "output_type": "stream",
     "text": [
      "state : [0 0 0 0 0 0 0 0 0 0 0 0 0 0 0 0 0 0 0 0 0 0 0 0 0 0 0 0 0 0 0 0 0 0 0 0 0\n",
      " 0 0 0 0 0 0 0 0 0 0 0]\n",
      "Q_values : [-0.6662936  -0.71913224 -0.7740896  -0.69722056]\n",
      "state : [0 0 0 0 0 0 0 0 0 0 0 0 0 0 0 0 0 0 0 0 0 0 0 0 1 1 1 3 3 1 0 0 0 0 0 0 0\n",
      " 0 0 0 0 0 0 0 0 0 0 0]\n",
      "Q_values : [-1.5243832 -1.577285  -1.615222  -1.4952172]\n",
      "state : [0 0 0 0 0 0 0 0 0 0 0 0 0 0 0 0 0 0 0 0 0 0 0 0 0 1 1 6 7 4 0 0 0 0 0 0 0\n",
      " 0 0 0 0 0 0 0 0 0 0 0]\n",
      "Q_values : [-3.3577607 -3.3981085 -3.3963437 -3.2232826]\n",
      "state : [0 1 1 0 1 0 0 0 0 0 0 0 0 0 0 0 0 0 0 0 0 0 0 0 0 1 1 4 6 4 0 0 0 4 4 1 2\n",
      " 0 0 0 0 0 0 0 1 1 0 0]\n",
      "Q_values : [-2.5456624 -2.4807491 -1.2998537 -1.2766559]\n",
      "state : [0 1 1 0 0 0 0 0 0 0 0 1 0 0 0 0 0 0 0 0 0 0 0 0 0 1 1 0 0 0 0 0 0 1 1 4 3\n",
      " 0 0 0 2 0 3 0 3 0 6 0]\n",
      "Q_values : [-0.46707588 -0.55422693 -0.5975154   0.52055156]\n",
      "state : [0 1 0 0 0 0 0 0 0 0 1 0 0 0 0 0 0 0 0 0 0 0 0 0 0 1 0 0 0 0 0 0 0 0 1 0 0\n",
      " 0 3 0 0 1 0 0 0 0 0 0]\n",
      "Q_values : [0.6472692  0.623569   1.1317893  0.56351095]\n",
      "state : [0 1 0 0 0 0 0 0 0 0 0 0 0 0 0 0 0 0 0 0 0 0 0 0 0 1 0 0 0 0 0 0 0 0 0 0 0\n",
      " 0 0 0 1 0 0 0 0 0 0 0]\n",
      "Q_values : [0.40503603 0.42622012 0.22119102 0.20493698]\n",
      "state : [0 1 0 0 0 0 0 0 0 0 0 0 0 0 0 0 0 0 0 0 0 0 0 0 0 1 0 0 0 0 0 0 0 0 0 0 0\n",
      " 0 0 0 0 0 0 0 0 0 0 0]\n",
      "Q_values : [0.47918493 0.518037   0.23839314 0.21412978]\n",
      "episode : 245\n",
      "Step #100.00 (0ms ?*RT. ?UPS, TraCI: 0ms, vehicles TOT 33 ACT 1 BUF 0)                     \n",
      " Retrying in 1 seconds\n"
     ]
    },
    {
     "name": "stderr",
     "output_type": "stream",
     "text": [
      "Warning: Environment variable SUMO_HOME is not set properly, disabling XML validation. Set 'auto' or 'always' for web lookups.\n"
     ]
    },
    {
     "name": "stdout",
     "output_type": "stream",
     "text": [
      "state : [0 0 0 0 0 0 0 0 0 0 0 0 0 0 0 0 0 0 0 0 0 0 0 0 0 0 0 0 0 0 0 0 0 0 0 0 0\n",
      " 0 0 0 0 0 0 0 0 0 0 0]\n",
      "Q_values : [-0.6817516  -0.6858907  -0.58621377 -0.7463813 ]\n",
      "state : [0 0 0 0 0 0 0 0 0 0 0 0 0 0 0 0 0 0 0 0 0 0 0 0 0 1 1 6 7 4 0 0 0 0 0 0 0\n",
      " 0 0 0 0 0 0 0 0 0 0 0]\n",
      "Q_values : [-3.262589  -2.936994  -2.8007348 -3.2602427]\n",
      "state : [0 1 1 0 0 1 0 0 0 0 0 0 0 0 0 0 0 0 0 0 0 0 0 0 0 1 1 3 4 6 0 0 0 4 4 1 2\n",
      " 0 0 0 0 0 0 0 0 1 2 0]\n",
      "Q_values : [-2.1111314  -1.5977155  -0.6017131  -0.25186887]\n",
      "state : [0 1 1 0 2 0 0 0 0 0 0 0 0 0 0 0 0 0 0 0 0 0 0 0 0 1 1 0 4 1 0 0 0 4 4 4 5\n",
      " 0 0 0 0 0 0 0 4 0 1 0]\n",
      "Q_values : [-1.1910104  -0.95504206  1.1601802  -0.3187718 ]\n",
      "state : [0 1 1 0 0 1 0 0 0 0 0 1 0 0 0 0 0 0 0 0 0 0 0 0 0 1 1 0 0 1 0 0 0 1 1 4 3\n",
      " 0 0 0 2 0 3 0 5 0 4 0]\n",
      "Q_values : [0.41301048 0.53486747 0.19168416 1.731393  ]\n",
      "state : [0 1 0 0 0 0 0 0 0 0 1 0 0 0 0 0 0 0 0 0 0 0 0 0 0 1 0 0 0 0 0 0 0 0 1 0 0\n",
      " 0 3 0 0 1 0 0 0 0 0 0]\n",
      "Q_values : [0.859635  0.8659518 1.1775075 0.6841087]\n",
      "state : [0 1 0 0 0 0 0 0 0 0 0 0 0 0 0 0 0 0 0 0 0 0 0 0 0 1 0 0 0 0 0 0 0 0 0 0 0\n",
      " 0 0 0 1 0 0 0 0 0 0 0]\n",
      "Q_values : [0.57085323 0.59341484 0.19592783 0.2514053 ]\n",
      "state : [0 1 0 0 0 0 0 0 0 0 0 0 0 0 0 0 0 0 0 0 0 0 0 0 0 1 0 0 0 0 0 0 0 0 0 0 0\n",
      " 0 0 0 0 0 0 0 0 0 0 0]\n",
      "Q_values : [0.6092222  0.6323722  0.18789752 0.25354534]\n",
      "episode : 246\n",
      "Step #100.00 (0ms ?*RT. ?UPS, TraCI: 0ms, vehicles TOT 33 ACT 1 BUF 0)                     \n",
      " Retrying in 1 seconds\n"
     ]
    },
    {
     "name": "stderr",
     "output_type": "stream",
     "text": [
      "Warning: Environment variable SUMO_HOME is not set properly, disabling XML validation. Set 'auto' or 'always' for web lookups.\n"
     ]
    },
    {
     "name": "stdout",
     "output_type": "stream",
     "text": [
      "state : [0 0 0 0 0 0 0 0 0 0 0 0 0 0 0 0 0 0 0 0 0 0 0 0 0 0 0 0 0 0 0 0 0 0 0 0 0\n",
      " 0 0 0 0 0 0 0 0 0 0 0]\n",
      "Q_values : [-0.6545086  -0.6864182  -0.7775231  -0.75767344]\n",
      "state : [0 0 0 0 0 0 0 0 0 0 0 0 0 0 0 0 0 0 0 0 0 0 0 0 0 1 1 6 7 4 0 0 0 0 0 0 0\n",
      " 0 0 0 0 0 0 0 0 0 0 0]\n",
      "Q_values : [-3.9071004 -3.8491316 -3.8589852 -3.8715272]\n",
      "state : [0 1 0 0 1 1 0 0 0 0 0 0 0 0 0 0 0 0 0 0 0 0 0 0 0 1 0 4 6 6 0 0 0 4 4 1 2\n",
      " 0 0 0 0 1 0 0 0 1 0 0]\n",
      "Q_values : [-3.7267363 -3.2008276 -1.2543255 -0.9538515]\n",
      "state : [0 1 0 0 4 0 0 0 0 0 0 0 0 0 0 0 0 0 0 0 0 0 0 0 0 1 0 0 6 1 0 0 0 4 4 4 5\n",
      " 0 0 0 0 0 0 0 4 0 0 0]\n",
      "Q_values : [-1.6634476  -1.4234883   2.669405    0.55383855]\n",
      "state : [0 1 0 0 0 1 0 0 0 0 0 1 0 0 0 0 0 0 0 0 0 0 0 0 0 1 0 0 0 1 0 0 0 1 1 4 3\n",
      " 0 0 0 2 0 3 0 5 0 6 0]\n",
      "Q_values : [-0.19943711 -0.07395905 -0.01611137  1.5857365 ]\n",
      "state : [0 1 0 0 0 0 0 0 0 0 1 0 0 0 0 0 0 0 0 0 0 0 0 0 0 1 0 0 0 0 0 0 0 0 1 0 0\n",
      " 0 4 0 2 0 3 0 1 0 5 0]\n",
      "Q_values : [0.85026276 0.8225566  1.4225978  0.77130103]\n",
      "state : [0 1 0 0 0 0 0 0 0 0 0 0 0 0 0 0 0 0 0 0 0 0 0 0 0 1 0 0 0 0 0 0 0 0 0 0 0\n",
      " 0 3 0 1 0 0 0 0 0 0 0]\n",
      "Q_values : [0.4642585  0.38111526 0.25214255 0.2677816 ]\n",
      "state : [0 0 0 0 0 0 0 0 0 0 0 0 0 0 0 0 0 0 0 0 0 0 0 0 0 0 0 0 0 0 0 0 0 0 0 0 0\n",
      " 0 0 0 0 0 0 1 0 0 0 0]\n",
      "Q_values : [-0.18186224 -0.27187458 -0.06739809  0.01830965]\n",
      "state : [0 0 0 0 0 0 0 0 0 0 0 0 0 0 0 0 0 0 0 0 0 0 0 0 0 0 0 0 0 0 0 0 0 0 0 0 0\n",
      " 0 0 0 0 0 0 0 0 0 0 0]\n",
      "Q_values : [-0.5240592 -0.7518274 -0.5309535 -0.5855565]\n",
      "episode : 247\n",
      "Step #100.00 (0ms ?*RT. ?UPS, TraCI: 0ms, vehicles TOT 33 ACT 0 BUF 0)                     \n",
      " Retrying in 1 seconds\n"
     ]
    },
    {
     "name": "stderr",
     "output_type": "stream",
     "text": [
      "Warning: Environment variable SUMO_HOME is not set properly, disabling XML validation. Set 'auto' or 'always' for web lookups.\n"
     ]
    },
    {
     "name": "stdout",
     "output_type": "stream",
     "text": [
      "state : [0 0 0 0 0 0 0 0 0 0 0 0 0 0 0 0 0 0 0 0 0 0 0 0 0 0 0 0 0 0 0 0 0 0 0 0 0\n",
      " 0 0 0 0 0 0 0 0 0 0 0]\n",
      "Q_values : [-0.5139258  -0.73498607 -0.54060936 -0.5968684 ]\n",
      "state : [0 0 0 0 0 0 0 0 0 0 0 0 0 0 0 0 0 0 0 0 0 0 0 0 1 1 1 3 3 1 0 0 0 0 0 0 0\n",
      " 0 0 0 0 0 0 0 0 0 0 0]\n",
      "Q_values : [-1.283648  -1.5188968 -1.2444602 -1.3217984]\n",
      "state : [0 1 1 0 0 2 0 0 0 0 0 0 0 0 0 0 0 0 0 0 0 0 0 0 0 1 1 0 0 4 0 0 0 4 4 4 5\n",
      " 0 0 0 0 0 0 0 2 0 5 0]\n",
      "Q_values : [-1.8745131  -1.7972269  -1.0523822   0.18519273]\n",
      "state : [0 1 1 0 0 0 0 0 0 0 2 0 0 0 0 0 0 0 0 0 0 0 0 0 0 1 1 0 0 0 0 0 0 1 4 1 3\n",
      " 0 2 0 0 0 3 0 4 0 5 0]\n",
      "Q_values : [0.3601434  0.29920492 1.4130034  0.2923442 ]\n",
      "state : [0 1 1 0 0 0 0 0 0 0 0 1 0 0 0 0 0 0 0 0 0 0 0 0 0 1 1 0 0 0 0 0 0 0 0 1 0\n",
      " 0 3 0 4 0 3 0 3 0 0 0]\n",
      "Q_values : [1.4815345  1.3442516  0.50774765 1.5243529 ]\n",
      "state : [0 1 1 0 0 0 0 0 0 0 0 0 0 0 0 0 0 0 0 0 0 0 0 0 0 1 1 0 0 0 0 0 0 0 0 0 0\n",
      " 0 1 0 3 0 0 0 0 0 0 0]\n",
      "Q_values : [1.2648084  1.2439915  0.4135974  0.74936795]\n",
      "state : [0 0 1 0 0 0 0 0 0 0 0 0 0 0 0 0 0 0 0 0 0 0 0 0 0 0 1 0 0 0 0 0 0 0 0 0 0\n",
      " 0 0 0 0 0 0 0 0 0 0 0]\n",
      "Q_values : [0.63797474 0.58506495 0.12703653 0.25403893]\n",
      "episode : 248\n",
      "Step #100.00 (0ms ?*RT. ?UPS, TraCI: 0ms, vehicles TOT 33 ACT 1 BUF 0)                     \n",
      " Retrying in 1 seconds\n"
     ]
    },
    {
     "name": "stderr",
     "output_type": "stream",
     "text": [
      "Warning: Environment variable SUMO_HOME is not set properly, disabling XML validation. Set 'auto' or 'always' for web lookups.\n"
     ]
    },
    {
     "name": "stdout",
     "output_type": "stream",
     "text": [
      "state : [0 0 0 0 0 0 0 0 0 0 0 0 0 0 0 0 0 0 0 0 0 0 0 0 0 0 0 0 0 0 0 0 0 0 0 0 0\n",
      " 0 0 0 0 0 0 0 0 0 0 0]\n",
      "Q_values : [-0.5719213 -0.7311962 -0.7452523 -0.6978467]\n",
      "state : [0 0 0 0 0 0 0 0 0 0 0 0 0 0 0 0 0 0 0 0 0 0 0 0 1 1 1 3 3 1 0 0 0 0 0 0 0\n",
      " 0 0 0 0 0 0 0 0 0 0 0]\n",
      "Q_values : [-1.4662578 -1.5911779 -1.5364585 -1.5463287]\n",
      "state : [0 0 0 0 0 0 0 0 0 0 0 0 0 0 0 0 0 0 0 0 0 0 0 0 0 0 1 6 7 4 0 0 0 0 0 0 0\n",
      " 0 0 0 0 0 0 0 0 0 0 0]\n",
      "Q_values : [-3.2916794 -3.239134  -2.78073   -2.6128092]\n",
      "state : [0 0 1 0 1 0 0 0 0 0 0 0 0 0 0 0 0 0 0 0 0 0 0 0 0 0 1 4 6 4 0 0 0 4 4 1 2\n",
      " 0 0 0 0 0 0 1 1 1 0 0]\n",
      "Q_values : [-3.3125632 -3.111932  -1.195193  -1.2986896]\n",
      "state : [0 0 1 0 0 2 0 0 0 0 0 0 0 0 0 0 0 0 0 0 0 0 0 0 0 0 1 0 0 4 0 0 0 4 4 4 5\n",
      " 0 0 0 0 0 0 0 2 0 5 0]\n",
      "Q_values : [-2.296674   -2.1809058  -0.5824952   0.39339513]\n",
      "state : [0 0 1 0 0 0 0 0 0 0 2 0 0 0 0 0 0 0 0 0 0 0 0 0 0 0 1 0 0 0 0 0 0 1 4 1 3\n",
      " 0 2 0 0 0 3 0 4 0 5 0]\n",
      "Q_values : [0.37750012 0.24930364 1.8325396  0.508348  ]\n",
      "state : [0 0 1 0 0 0 0 0 0 0 0 1 0 0 0 0 0 0 0 0 0 0 0 0 0 0 1 0 0 0 0 0 0 0 0 1 0\n",
      " 0 3 0 4 0 3 0 3 0 0 0]\n",
      "Q_values : [1.3946481 1.2017555 0.9191296 1.5695873]\n",
      "state : [0 0 1 0 0 0 0 0 0 0 0 0 0 0 0 0 0 0 0 0 0 0 0 0 0 0 1 0 0 0 0 0 0 0 0 0 0\n",
      " 0 1 0 3 0 0 0 0 0 0 0]\n",
      "Q_values : [0.7937169  0.7597445  0.23010951 0.33178332]\n",
      "state : [0 0 1 0 0 0 0 0 0 0 0 0 0 0 0 0 0 0 0 0 0 0 0 0 0 0 1 0 0 0 0 0 0 0 0 0 0\n",
      " 0 0 0 0 0 0 0 0 0 0 0]\n",
      "Q_values : [0.71572936 0.69756925 0.16702221 0.23357663]\n",
      "state : [0 0 1 0 0 0 0 0 0 0 0 0 0 0 0 0 0 0 0 0 0 0 0 0 0 0 1 0 0 0 0 0 0 0 0 0 0\n",
      " 0 0 0 0 0 0 0 0 0 0 0]\n",
      "Q_values : [0.7231965  0.71191525 0.1562504  0.23089403]\n",
      "episode : 249\n",
      "Step #100.00 (0ms ?*RT. ?UPS, TraCI: 0ms, vehicles TOT 33 ACT 1 BUF 0)                     \n",
      " Retrying in 1 seconds\n"
     ]
    },
    {
     "name": "stderr",
     "output_type": "stream",
     "text": [
      "Warning: Environment variable SUMO_HOME is not set properly, disabling XML validation. Set 'auto' or 'always' for web lookups.\n"
     ]
    },
    {
     "name": "stdout",
     "output_type": "stream",
     "text": [
      "state : [0 0 0 0 0 0 0 0 0 0 0 0 0 0 0 0 0 0 0 0 0 0 0 0 0 0 0 0 0 0 0 0 0 0 0 0 0\n",
      " 0 0 0 0 0 0 0 0 0 0 0]\n",
      "Q_values : [-0.524369   -0.606784   -0.69402814 -0.7896148 ]\n",
      "state : [0 0 0 0 0 0 0 0 0 0 0 0 0 0 0 0 0 0 0 0 0 0 0 0 1 1 1 3 3 1 0 0 0 0 0 0 0\n",
      " 0 0 0 0 0 0 0 0 0 0 0]\n",
      "Q_values : [-1.4133549 -1.4155927 -1.5414189 -1.6636745]\n",
      "state : [0 0 0 0 0 0 0 0 0 0 0 0 0 0 0 0 0 0 0 0 0 0 0 0 0 0 1 6 7 4 0 0 0 0 0 0 0\n",
      " 0 0 0 0 0 0 0 0 0 0 0]\n",
      "Q_values : [-2.9952402 -2.8106713 -2.808358  -2.7950072]\n",
      "state : [0 0 1 0 1 0 0 0 0 0 0 0 0 0 0 0 0 0 0 0 0 0 0 0 0 0 1 4 6 4 0 0 0 4 4 1 2\n",
      " 0 0 0 0 0 0 1 1 1 0 0]\n",
      "Q_values : [-3.007879  -2.5999084 -1.5489467 -1.4632574]\n",
      "state : [0 0 1 0 6 0 0 0 0 0 2 1 0 0 0 0 0 0 0 0 0 0 0 0 0 0 1 0 6 0 0 0 0 1 4 4 3\n",
      " 0 0 0 0 0 3 0 3 0 0 0]\n",
      "Q_values : [1.597441  1.946611  6.6463156 3.5897303]\n",
      "state : [0 0 1 0 0 0 0 0 0 0 0 4 0 0 0 0 0 0 0 0 0 0 0 0 0 0 1 0 0 0 0 0 0 0 0 4 0\n",
      " 0 0 0 4 0 3 0 0 0 6 0]\n",
      "Q_values : [2.426654  2.3829455 2.0116787 3.997279 ]\n",
      "state : [0 0 1 0 0 0 0 0 0 0 0 0 0 0 0 0 0 0 0 0 0 0 0 0 0 0 1 0 0 0 0 0 0 0 0 0 0\n",
      " 0 4 0 3 0 0 0 0 0 5 0]\n",
      "Q_values : [0.7151077  0.84676313 0.2456176  0.43463975]\n",
      "state : [0 0 0 0 0 0 0 0 0 0 0 0 0 0 0 0 0 0 0 0 0 0 0 0 0 0 0 0 0 0 0 0 0 0 0 0 0\n",
      " 0 3 0 0 1 0 0 0 0 0 0]\n",
      "Q_values : [-0.25625867 -0.31172055 -0.31954712 -0.3188727 ]\n",
      "episode : 250\n",
      "Step #100.00 (0ms ?*RT. ?UPS, TraCI: 0ms, vehicles TOT 33 ACT 0 BUF 0)                     \n",
      " Retrying in 1 seconds\n"
     ]
    },
    {
     "name": "stderr",
     "output_type": "stream",
     "text": [
      "Warning: Environment variable SUMO_HOME is not set properly, disabling XML validation. Set 'auto' or 'always' for web lookups.\n"
     ]
    },
    {
     "name": "stdout",
     "output_type": "stream",
     "text": [
      "state : [0 0 0 0 0 0 0 0 0 0 0 0 0 0 0 0 0 0 0 0 0 0 0 0 0 0 0 0 0 0 0 0 0 0 0 0 0\n",
      " 0 0 0 0 0 0 0 0 0 0 0]\n",
      "Q_values : [-0.7205548  -0.81406605 -0.6864964  -0.7430198 ]\n",
      "state : [0 0 0 0 0 0 0 0 0 0 0 0 0 0 0 0 0 0 0 0 0 0 0 0 1 1 1 3 3 1 0 0 0 0 0 0 0\n",
      " 0 0 0 0 0 0 0 0 0 0 0]\n",
      "Q_values : [-1.5746933 -1.6635926 -1.4147598 -1.5354238]\n",
      "state : [0 0 0 0 0 0 0 0 0 0 0 0 0 0 0 0 0 0 0 0 0 0 0 0 0 1 1 6 7 4 0 0 0 0 0 0 0\n",
      " 0 0 0 0 0 0 0 0 0 0 0]\n",
      "Q_values : [-3.369302  -3.441988  -3.0243154 -3.331354 ]\n",
      "state : [0 1 1 0 0 1 0 0 0 0 0 0 0 0 0 0 0 0 0 0 0 0 0 0 0 1 1 3 4 6 0 0 0 4 4 1 2\n",
      " 0 0 0 0 0 0 0 0 1 2 0]\n",
      "Q_values : [-2.433648   -1.9932042  -0.7527019  -0.16511953]\n",
      "state : [0 1 1 0 2 0 0 0 0 0 0 0 0 0 0 0 0 0 0 0 0 0 0 0 0 1 1 0 4 1 0 0 0 4 4 4 5\n",
      " 0 0 0 0 0 0 0 4 0 1 0]\n",
      "Q_values : [-1.4996698  -1.3850846   1.2235162  -0.18612674]\n",
      "state : [0 1 1 0 0 1 0 0 0 0 0 1 0 0 0 0 0 0 0 0 0 0 0 0 0 1 1 0 0 1 0 0 0 1 1 4 3\n",
      " 0 0 0 2 0 3 0 5 0 4 0]\n",
      "Q_values : [0.3901585 0.4964263 0.3422923 1.6655885]\n",
      "state : [0 1 1 0 0 0 0 0 0 0 1 0 0 0 0 0 0 0 0 0 0 0 0 0 0 1 1 0 0 0 0 0 0 0 1 0 0\n",
      " 0 4 0 2 0 3 0 1 0 2 0]\n",
      "Q_values : [1.3228128 1.5784813 1.5592029 1.0295007]\n",
      "state : [0 1 0 0 0 0 0 0 0 0 1 0 0 0 0 0 0 0 0 0 0 0 0 0 0 1 0 0 0 0 0 0 0 0 1 0 0\n",
      " 0 3 0 0 1 0 0 0 0 0 0]\n",
      "Q_values : [0.76976466 0.7634217  1.4029547  0.573697  ]\n",
      "state : [0 1 0 0 0 0 0 0 0 0 0 0 0 0 0 0 0 0 0 0 0 0 0 0 0 1 0 0 0 0 0 0 0 0 0 0 0\n",
      " 0 0 0 1 0 0 0 0 0 0 0]\n",
      "Q_values : [0.38007337 0.36586654 0.1679486  0.10771003]\n",
      "state : [0 0 0 0 0 0 0 0 0 0 0 0 0 0 0 0 0 0 0 0 0 0 0 0 0 0 0 0 0 0 0 0 0 0 0 0 0\n",
      " 0 0 0 0 0 0 1 0 0 0 0]\n",
      "Q_values : [-0.37891698 -0.44803303 -0.40959737 -0.46064672]\n",
      "episode : 251\n",
      "Step #100.00 (0ms ?*RT. ?UPS, TraCI: 0ms, vehicles TOT 33 ACT 0 BUF 0)                     \n",
      " Retrying in 1 seconds\n"
     ]
    },
    {
     "name": "stderr",
     "output_type": "stream",
     "text": [
      "Warning: Environment variable SUMO_HOME is not set properly, disabling XML validation. Set 'auto' or 'always' for web lookups.\n"
     ]
    },
    {
     "name": "stdout",
     "output_type": "stream",
     "text": [
      "state : [0 0 0 0 0 0 0 0 0 0 0 0 0 0 0 0 0 0 0 0 0 0 0 0 0 0 0 0 0 0 0 0 0 0 0 0 0\n",
      " 0 0 0 0 0 0 0 0 0 0 0]\n",
      "Q_values : [-0.6193628  -0.76362514 -0.7488521  -0.8515444 ]\n",
      "state : [0 0 0 0 0 0 0 0 0 0 0 0 0 0 0 0 0 0 0 0 0 0 0 0 1 1 1 3 3 1 0 0 0 0 0 0 0\n",
      " 0 0 0 0 0 0 0 0 0 0 0]\n",
      "Q_values : [-1.471715  -1.6199169 -1.5967139 -1.7159492]\n",
      "state : [0 0 1 0 0 1 0 0 0 0 0 0 0 0 0 0 0 0 0 0 0 0 0 0 0 0 1 3 4 6 0 0 0 4 4 1 2\n",
      " 0 0 0 0 0 0 1 0 1 2 0]\n",
      "Q_values : [-3.1992688 -2.9018056 -2.008393  -1.08253  ]\n",
      "state : [0 0 1 0 2 0 0 0 0 0 0 0 0 0 0 0 0 0 0 0 0 0 0 0 0 0 1 0 4 1 0 0 0 4 4 4 5\n",
      " 0 0 0 0 0 0 0 4 0 1 0]\n",
      "Q_values : [-1.9358487  -1.9245592   0.24925214 -0.8830484 ]\n",
      "state : [0 0 1 0 0 0 0 0 0 0 0 0 0 0 0 0 0 0 0 0 0 0 0 0 0 0 1 0 0 0 0 0 0 0 0 0 0\n",
      " 0 3 0 1 0 0 0 0 0 0 0]\n",
      "Q_values : [0.61302346 0.65157115 0.37640572 0.38086426]\n",
      "state : [0 0 0 0 0 0 0 0 0 0 0 0 0 0 0 0 0 0 0 0 0 0 0 0 0 0 0 0 0 0 0 0 0 0 0 0 0\n",
      " 0 0 0 0 1 0 0 0 0 0 0]\n",
      "Q_values : [-0.29408675 -0.38857764 -0.3431216  -0.35565025]\n",
      "state : [0 0 0 0 0 0 0 0 0 0 0 0 0 0 0 0 0 0 0 0 0 0 0 0 0 0 0 0 0 0 0 0 0 0 0 0 0\n",
      " 0 0 0 0 0 0 0 0 0 0 0]\n",
      "Q_values : [-0.65641516 -0.7722199  -0.69952583 -0.74521434]\n",
      "episode : 252\n",
      "Step #100.00 (0ms ?*RT. ?UPS, TraCI: 0ms, vehicles TOT 33 ACT 0 BUF 0)                     \n",
      " Retrying in 1 seconds\n"
     ]
    },
    {
     "name": "stderr",
     "output_type": "stream",
     "text": [
      "Warning: Environment variable SUMO_HOME is not set properly, disabling XML validation. Set 'auto' or 'always' for web lookups.\n"
     ]
    },
    {
     "name": "stdout",
     "output_type": "stream",
     "text": [
      "state : [0 0 0 0 0 0 0 0 0 0 0 0 0 0 0 0 0 0 0 0 0 0 0 0 0 0 0 0 0 0 0 0 0 0 0 0 0\n",
      " 0 0 0 0 0 0 0 0 0 0 0]\n",
      "Q_values : [-0.6594943  -0.76940584 -0.69418955 -0.7597481 ]\n",
      "state : [0 0 0 0 0 0 0 0 0 0 0 0 0 0 0 0 0 0 0 0 0 0 0 0 1 1 1 3 3 1 0 0 0 0 0 0 0\n",
      " 0 0 0 0 0 0 0 0 0 0 0]\n",
      "Q_values : [-1.5357437 -1.5936811 -1.4697155 -1.6006632]\n",
      "state : [0 0 0 0 0 0 0 0 0 0 0 0 0 0 0 0 0 0 0 0 0 0 0 0 0 1 1 6 7 4 0 0 0 0 0 0 0\n",
      " 0 0 0 0 0 0 0 0 0 0 0]\n",
      "Q_values : [-3.3644307 -3.304812  -3.1589131 -3.4085126]\n",
      "state : [0 1 1 0 0 1 0 0 0 0 0 0 0 0 0 0 0 0 0 0 0 0 0 0 0 1 1 3 4 6 0 0 0 4 4 1 2\n",
      " 0 0 0 0 0 0 0 0 1 2 0]\n",
      "Q_values : [-2.337956  -2.0026479 -1.1084865 -0.5316833]\n",
      "state : [0 1 1 0 2 0 0 0 0 0 0 0 0 0 0 0 0 0 0 0 0 0 0 0 0 1 1 0 4 1 0 0 0 4 4 4 5\n",
      " 0 0 0 0 0 0 0 4 0 1 0]\n",
      "Q_values : [-1.4879876  -1.3496485   0.81587803 -0.6718285 ]\n",
      "state : [0 1 1 0 0 1 0 0 0 0 0 1 0 0 0 0 0 0 0 0 0 0 0 0 0 1 1 0 0 1 0 0 0 1 1 4 3\n",
      " 0 0 0 2 0 3 0 5 0 4 0]\n",
      "Q_values : [0.40758476 0.32634887 0.1551646  1.550514  ]\n",
      "state : [0 1 1 0 0 0 0 0 0 0 1 0 0 0 0 0 0 0 0 0 0 0 0 0 0 1 1 0 0 0 0 0 0 0 1 0 0\n",
      " 0 4 0 2 0 3 0 1 0 2 0]\n",
      "Q_values : [1.346045  1.5923243 1.3030303 0.9237066]\n",
      "state : [0 1 0 0 0 0 0 0 0 0 1 0 0 0 0 0 0 0 0 0 0 0 0 0 0 1 0 0 0 0 0 0 0 0 1 0 0\n",
      " 0 0 0 0 0 0 0 0 0 0 0]\n",
      "Q_values : [0.7375562  0.78191274 0.7782539  0.45003575]\n",
      "state : [0 1 0 0 0 0 0 0 0 0 1 0 0 0 0 0 0 0 0 0 0 0 0 0 0 1 0 0 0 0 0 0 0 0 1 0 0\n",
      " 0 0 0 0 0 0 0 0 0 0 0]\n",
      "Q_values : [0.7281428  0.7797799  0.7764171  0.45705062]\n",
      "episode : 253\n",
      "Step #100.00 (0ms ?*RT. ?UPS, TraCI: 0ms, vehicles TOT 33 ACT 2 BUF 0)                     \n",
      " Retrying in 1 seconds\n"
     ]
    },
    {
     "name": "stderr",
     "output_type": "stream",
     "text": [
      "Warning: Environment variable SUMO_HOME is not set properly, disabling XML validation. Set 'auto' or 'always' for web lookups.\n"
     ]
    },
    {
     "name": "stdout",
     "output_type": "stream",
     "text": [
      "state : [0 0 0 0 0 0 0 0 0 0 0 0 0 0 0 0 0 0 0 0 0 0 0 0 0 1 1 6 7 4 0 0 0 0 0 0 0\n",
      " 0 0 0 0 0 0 0 0 0 0 0]\n",
      "Q_values : [-3.54529   -3.5164692 -3.2570431 -3.460339 ]\n",
      "state : [0 1 1 0 0 1 0 0 0 0 0 0 0 0 0 0 0 0 0 0 0 0 0 0 0 1 1 3 4 6 0 0 0 4 4 1 2\n",
      " 0 0 0 0 0 0 0 0 1 2 0]\n",
      "Q_values : [-2.7899508  -2.396986   -1.2766447  -0.55173963]\n",
      "state : [0 1 1 0 2 0 0 0 0 0 0 0 0 0 0 0 0 0 0 0 0 0 0 0 0 1 1 0 4 1 0 0 0 4 4 4 5\n",
      " 0 0 0 0 0 0 0 4 0 1 0]\n",
      "Q_values : [-1.8193665  -1.7581712   0.9800111  -0.37892902]\n",
      "state : [0 1 1 0 0 1 0 0 0 0 0 1 0 0 0 0 0 0 0 0 0 0 0 0 0 1 1 0 0 1 0 0 0 1 1 4 3\n",
      " 0 0 0 2 0 3 0 5 0 4 0]\n",
      "Q_values : [0.20228861 0.1854249  0.30815524 1.8106307 ]\n",
      "state : [0 1 1 0 0 0 0 0 0 0 1 0 0 0 0 0 0 0 0 0 0 0 0 0 0 1 1 0 0 0 0 0 0 0 1 0 0\n",
      " 0 4 0 2 0 3 0 1 0 2 0]\n",
      "Q_values : [1.382067  1.4953542 1.5653225 1.0579323]\n",
      "state : [0 1 1 0 0 0 0 0 0 0 0 0 0 0 0 0 0 0 0 0 0 0 0 0 0 1 1 0 0 0 0 0 0 0 0 0 0\n",
      " 0 3 0 1 0 0 0 0 0 0 0]\n",
      "Q_values : [1.1237304  1.2730987  0.63260645 0.713844  ]\n",
      "state : [0 1 0 0 0 0 0 0 0 0 0 0 0 0 0 0 0 0 0 0 0 0 0 0 0 1 0 0 0 0 0 0 0 0 0 0 0\n",
      " 0 0 0 0 1 0 0 0 0 0 0]\n",
      "Q_values : [0.35277623 0.26048172 0.17573224 0.19655207]\n",
      "state : [0 0 0 0 0 0 0 0 0 0 0 0 0 0 0 0 0 0 0 0 0 0 0 0 0 0 0 0 0 0 0 0 0 0 0 0 0\n",
      " 0 0 0 0 0 0 1 0 0 0 0]\n",
      "Q_values : [-0.33720624 -0.3909404  -0.28917786 -0.27126116]\n",
      "episode : 254\n",
      "Step #100.00 (0ms ?*RT. ?UPS, TraCI: 0ms, vehicles TOT 33 ACT 0 BUF 0)                     \n",
      " Retrying in 1 seconds\n"
     ]
    },
    {
     "name": "stderr",
     "output_type": "stream",
     "text": [
      "Warning: Environment variable SUMO_HOME is not set properly, disabling XML validation. Set 'auto' or 'always' for web lookups.\n"
     ]
    },
    {
     "name": "stdout",
     "output_type": "stream",
     "text": [
      "state : [0 0 0 0 0 0 0 0 0 0 0 0 0 0 0 0 0 0 0 0 0 0 0 0 0 0 0 0 0 0 0 0 0 0 0 0 0\n",
      " 0 0 0 0 0 0 0 0 0 0 0]\n",
      "Q_values : [-0.57707626 -0.72660196 -0.67496383 -0.75241125]\n",
      "state : [0 0 0 0 0 0 0 0 0 0 0 0 0 0 0 0 0 0 0 0 0 0 0 0 1 1 1 3 3 1 0 0 0 0 0 0 0\n",
      " 0 0 0 0 0 0 0 0 0 0 0]\n",
      "Q_values : [-1.3559113 -1.492545  -1.4290304 -1.5320271]\n",
      "state : [0 0 0 0 0 0 0 0 0 0 0 0 0 0 0 0 0 0 0 0 0 0 0 0 0 0 1 6 7 4 0 0 0 0 0 0 0\n",
      " 0 0 0 0 0 0 0 0 0 0 0]\n",
      "Q_values : [-2.8825686 -2.9018202 -2.6162112 -2.5227993]\n",
      "state : [0 0 1 0 0 4 0 0 0 0 0 1 0 0 0 0 0 0 0 0 0 0 0 0 0 0 1 0 0 4 0 0 0 1 1 4 3\n",
      " 0 0 0 2 0 3 0 0 0 6 0]\n",
      "Q_values : [1.1037135 1.2121301 1.3108852 4.7801676]\n",
      "state : [0 0 1 0 0 0 0 0 0 0 1 0 0 0 0 0 0 0 0 0 0 0 0 0 0 0 1 0 0 0 0 0 0 0 1 0 0\n",
      " 0 4 0 2 0 3 0 4 0 5 0]\n",
      "Q_values : [1.2136602  1.2029662  1.4291322  0.93404174]\n",
      "state : [0 0 1 0 0 0 0 0 0 0 0 0 0 0 0 0 0 0 0 0 0 0 0 0 0 0 1 0 0 0 0 0 0 0 0 0 0\n",
      " 0 0 0 0 0 0 0 0 0 0 0]\n",
      "Q_values : [0.7535535  0.87033004 0.18140426 0.38926357]\n",
      "state : [0 0 0 0 0 0 0 0 0 0 0 0 0 0 0 0 0 0 0 0 0 0 0 0 0 0 0 0 0 0 0 0 0 0 0 0 0\n",
      " 0 0 0 0 1 0 0 0 0 0 0]\n",
      "Q_values : [-0.0425373  -0.10608125 -0.26174927 -0.2233168 ]\n",
      "episode : 255\n",
      "Step #100.00 (0ms ?*RT. ?UPS, TraCI: 0ms, vehicles TOT 33 ACT 0 BUF 0)                     \n",
      " Retrying in 1 seconds\n"
     ]
    },
    {
     "name": "stderr",
     "output_type": "stream",
     "text": [
      "Warning: Environment variable SUMO_HOME is not set properly, disabling XML validation. Set 'auto' or 'always' for web lookups.\n"
     ]
    },
    {
     "name": "stdout",
     "output_type": "stream",
     "text": [
      "state : [0 0 0 0 0 0 0 0 0 0 0 0 0 0 0 0 0 0 0 0 0 0 0 0 0 0 0 0 0 0 0 0 0 0 0 0 0\n",
      " 0 0 0 0 0 0 0 0 0 0 0]\n",
      "Q_values : [-0.5592529 -0.6482045 -0.7551693 -0.7158404]\n",
      "state : [0 0 0 0 0 0 0 0 0 0 0 0 0 0 0 0 0 0 0 0 0 0 0 0 1 1 1 3 3 1 0 0 0 0 0 0 0\n",
      " 0 0 0 0 0 0 0 0 0 0 0]\n",
      "Q_values : [-1.5771685 -1.6706004 -1.7257781 -1.7352602]\n",
      "state : [0 0 0 0 0 0 0 0 0 0 0 0 0 0 0 0 0 0 0 0 0 0 0 0 0 0 1 6 7 4 0 0 0 0 0 0 0\n",
      " 0 0 0 0 0 0 0 0 0 0 0]\n",
      "Q_values : [-3.3226147 -3.3119252 -3.0269623 -2.8754265]\n",
      "state : [0 0 1 0 1 0 0 0 0 0 0 0 0 0 0 0 0 0 0 0 0 0 0 0 0 0 1 4 6 4 0 0 0 4 4 1 2\n",
      " 0 0 0 0 0 0 1 1 1 0 0]\n",
      "Q_values : [-3.539899  -3.3235135 -1.5767345 -1.71452  ]\n",
      "state : [0 0 1 0 0 2 0 0 0 0 0 0 0 0 0 0 0 0 0 0 0 0 0 0 0 0 1 0 0 4 0 0 0 4 4 4 5\n",
      " 0 0 0 0 0 0 0 2 0 5 0]\n",
      "Q_values : [-2.4446397  -2.2194924  -0.98279077  0.14732783]\n",
      "state : [0 0 1 0 0 0 0 0 0 0 2 0 0 0 0 0 0 0 0 0 0 0 0 0 0 0 1 0 0 0 0 0 0 1 4 1 3\n",
      " 0 2 0 0 0 3 0 4 0 5 0]\n",
      "Q_values : [0.09471944 0.10065494 1.3733122  0.17905477]\n",
      "state : [0 0 1 0 0 0 0 0 0 0 0 1 0 0 0 0 0 0 0 0 0 0 0 0 0 0 1 0 0 0 0 0 0 0 0 1 0\n",
      " 0 3 0 4 0 3 0 3 0 0 0]\n",
      "Q_values : [1.0889212  1.18911    0.65559226 1.3549032 ]\n",
      "state : [0 0 1 0 0 0 0 0 0 0 0 0 0 0 0 0 0 0 0 0 0 0 0 0 0 0 1 0 0 0 0 0 0 0 0 0 0\n",
      " 0 1 0 3 0 0 0 0 0 0 0]\n",
      "Q_values : [0.6123693  0.8255371  0.1892975  0.38673803]\n",
      "state : [0 0 0 0 0 0 0 0 0 0 0 0 0 0 0 0 0 0 0 0 0 0 0 0 0 0 0 0 0 0 0 0 0 0 0 0 0\n",
      " 0 0 0 0 1 0 0 0 0 0 0]\n",
      "Q_values : [-0.27518836 -0.28386205 -0.32368177 -0.28209382]\n",
      "state : [0 0 0 0 0 0 0 0 0 0 0 0 0 0 0 0 0 0 0 0 0 0 0 0 0 0 0 0 0 0 0 0 0 0 0 0 0\n",
      " 0 0 0 0 0 0 0 0 0 0 0]\n",
      "Q_values : [-0.64299256 -0.7356962  -0.715515   -0.7452929 ]\n",
      "episode : 256\n",
      "Step #100.00 (0ms ?*RT. ?UPS, TraCI: 0ms, vehicles TOT 33 ACT 0 BUF 0)                     \n",
      " Retrying in 1 seconds\n"
     ]
    },
    {
     "name": "stderr",
     "output_type": "stream",
     "text": [
      "Warning: Environment variable SUMO_HOME is not set properly, disabling XML validation. Set 'auto' or 'always' for web lookups.\n"
     ]
    },
    {
     "name": "stdout",
     "output_type": "stream",
     "text": [
      "state : [0 0 0 0 0 0 0 0 0 0 0 0 0 0 0 0 0 0 0 0 0 0 0 0 0 0 0 0 0 0 0 0 0 0 0 0 0\n",
      " 0 0 0 0 0 0 0 0 0 0 0]\n",
      "Q_values : [-0.64112735 -0.7476445  -0.7111545  -0.7385973 ]\n",
      "state : [0 0 0 0 0 0 0 0 0 0 0 0 0 0 0 0 0 0 0 0 0 0 0 0 1 1 1 3 3 1 0 0 0 0 0 0 0\n",
      " 0 0 0 0 0 0 0 0 0 0 0]\n",
      "Q_values : [-1.4802542 -1.6509587 -1.4710367 -1.5361581]\n",
      "state : [0 1 0 0 1 1 0 0 0 0 0 0 0 0 0 0 0 0 0 0 0 0 0 0 0 1 0 4 6 6 0 0 0 4 4 1 2\n",
      " 0 0 0 0 1 0 0 0 1 0 0]\n",
      "Q_values : [-3.3019269  -3.3124638  -0.83680284 -0.73464257]\n",
      "state : [0 1 0 0 4 0 0 0 0 0 0 0 0 0 0 0 0 0 0 0 0 0 0 0 0 1 0 0 6 1 0 0 0 4 4 4 5\n",
      " 0 0 0 0 0 0 0 4 0 0 0]\n",
      "Q_values : [-1.0026531  -1.5739285   2.5605307   0.29559994]\n",
      "state : [0 1 0 0 0 1 0 0 0 0 0 1 0 0 0 0 0 0 0 0 0 0 0 0 0 1 0 0 0 1 0 0 0 1 1 4 3\n",
      " 0 0 0 2 0 3 0 5 0 6 0]\n",
      "Q_values : [ 0.08110347 -0.0254114  -0.19892846  1.3727198 ]\n",
      "state : [0 1 0 0 0 0 0 0 0 0 1 0 0 0 0 0 0 0 0 0 0 0 0 0 0 1 0 0 0 0 0 0 0 0 1 0 0\n",
      " 0 4 0 2 0 3 0 1 0 5 0]\n",
      "Q_values : [0.67493355 0.5979363  0.959545   0.5038185 ]\n",
      "state : [0 1 0 0 0 0 0 0 0 0 0 0 0 0 0 0 0 0 0 0 0 0 0 0 0 1 0 0 0 0 0 0 0 0 0 0 0\n",
      " 0 3 0 1 0 0 0 0 0 0 0]\n",
      "Q_values : [0.3420955  0.33547688 0.11939541 0.17246827]\n",
      "state : [0 0 0 0 0 0 0 0 0 0 0 0 0 0 0 0 0 0 0 0 0 0 0 0 0 0 0 0 0 0 0 0 0 0 0 0 0\n",
      " 0 0 0 0 0 0 1 0 0 0 0]\n",
      "Q_values : [-0.31384024 -0.36393377 -0.32985303 -0.21446154]\n",
      "state : [0 0 0 0 0 0 0 0 0 0 0 0 0 0 0 0 0 0 0 0 0 0 0 0 0 0 0 0 0 0 0 0 0 0 0 0 0\n",
      " 0 0 0 0 0 0 0 0 0 0 0]\n",
      "Q_values : [-0.5946089 -0.7466341 -0.7204633 -0.7222379]\n",
      "episode : 257\n",
      "Step #100.00 (0ms ?*RT. ?UPS, TraCI: 0ms, vehicles TOT 33 ACT 0 BUF 0)                     \n",
      " Retrying in 1 seconds\n"
     ]
    },
    {
     "name": "stderr",
     "output_type": "stream",
     "text": [
      "Warning: Environment variable SUMO_HOME is not set properly, disabling XML validation. Set 'auto' or 'always' for web lookups.\n"
     ]
    },
    {
     "name": "stdout",
     "output_type": "stream",
     "text": [
      "state : [0 0 0 0 0 0 0 0 0 0 0 0 0 0 0 0 0 0 0 0 0 0 0 0 0 0 0 0 0 0 0 0 0 0 0 0 0\n",
      " 0 0 0 0 0 0 0 0 0 0 0]\n",
      "Q_values : [-0.6031277  -0.73546684 -0.71645474 -0.73280597]\n",
      "state : [0 0 0 0 0 0 0 0 0 0 0 0 0 0 0 0 0 0 0 0 0 0 0 0 1 1 1 3 3 1 0 0 0 0 0 0 0\n",
      " 0 0 0 0 0 0 0 0 0 0 0]\n",
      "Q_values : [-1.4449271 -1.5603068 -1.4939678 -1.5767622]\n",
      "state : [0 0 0 0 0 0 0 0 0 0 0 0 0 0 0 0 0 0 0 0 0 0 0 0 0 0 1 6 7 4 0 0 0 0 0 0 0\n",
      " 0 0 0 0 0 0 0 0 0 0 0]\n",
      "Q_values : [-2.8862295 -2.9266324 -2.586597  -2.606686 ]\n",
      "state : [0 0 1 0 0 1 0 0 0 0 0 0 0 0 0 0 0 0 0 0 0 0 0 0 0 0 1 3 4 6 0 0 0 4 4 1 2\n",
      " 0 0 0 0 0 0 1 0 1 2 0]\n",
      "Q_values : [-2.9408622 -2.6419938 -1.4645437 -0.8952226]\n",
      "state : [0 0 1 0 2 0 0 0 0 0 0 0 0 0 0 0 0 0 0 0 0 0 0 0 0 0 1 0 4 1 0 0 0 4 4 4 5\n",
      " 0 0 0 0 0 0 0 4 0 1 0]\n",
      "Q_values : [-1.4342774  -1.5648061   0.77540904 -0.6954488 ]\n",
      "state : [0 0 1 0 0 1 0 0 0 0 0 1 0 0 0 0 0 0 0 0 0 0 0 0 0 0 1 0 0 1 0 0 0 1 1 4 3\n",
      " 0 0 0 2 0 3 0 5 0 4 0]\n",
      "Q_values : [ 0.04876915  0.06973413 -0.07280304  1.435317  ]\n",
      "state : [0 0 1 0 0 0 0 0 0 0 1 0 0 0 0 0 0 0 0 0 0 0 0 0 0 0 1 0 0 0 0 0 0 0 1 0 0\n",
      " 0 4 0 2 0 3 0 1 0 2 0]\n",
      "Q_values : [0.9680512  1.124155   1.3327258  0.81440866]\n",
      "state : [0 0 1 0 0 0 0 0 0 0 0 0 0 0 0 0 0 0 0 0 0 0 0 0 0 0 1 0 0 0 0 0 0 0 0 0 0\n",
      " 0 3 0 1 0 0 0 0 0 0 0]\n",
      "Q_values : [0.57093775 0.7779718  0.28843245 0.463804  ]\n",
      "state : [0 0 0 0 0 0 0 0 0 0 0 0 0 0 0 0 0 0 0 0 0 0 0 0 0 0 0 0 0 0 0 0 0 0 0 0 0\n",
      " 0 0 0 0 0 0 0 0 0 0 0]\n",
      "Q_values : [-0.70172656 -0.6976942  -0.7055954  -0.7487597 ]\n",
      "episode : 258\n",
      "Step #100.00 (0ms ?*RT. ?UPS, TraCI: 0ms, vehicles TOT 33 ACT 0 BUF 0)                     \n",
      " Retrying in 1 seconds\n"
     ]
    },
    {
     "name": "stderr",
     "output_type": "stream",
     "text": [
      "Warning: Environment variable SUMO_HOME is not set properly, disabling XML validation. Set 'auto' or 'always' for web lookups.\n"
     ]
    },
    {
     "name": "stdout",
     "output_type": "stream",
     "text": [
      "state : [0 0 0 0 0 0 0 0 0 0 0 0 0 0 0 0 0 0 0 0 0 0 0 0 0 0 0 0 0 0 0 0 0 0 0 0 0\n",
      " 0 0 0 0 0 0 0 0 0 0 0]\n",
      "Q_values : [-0.6884224  -0.68850064 -0.7044241  -0.7348249 ]\n",
      "state : [0 0 0 0 0 0 0 0 0 0 0 0 0 0 0 0 0 0 0 0 0 0 0 0 1 1 1 3 3 1 0 0 0 0 0 0 0\n",
      " 0 0 0 0 0 0 0 0 0 0 0]\n",
      "Q_values : [-1.5561955 -1.5098848 -1.4982119 -1.6089482]\n",
      "state : [0 0 0 0 0 0 0 0 0 0 0 0 0 0 0 0 0 0 0 0 0 0 0 0 0 1 1 6 7 4 0 0 0 0 0 0 0\n",
      " 0 0 0 0 0 0 0 0 0 0 0]\n",
      "Q_values : [-3.3778958 -3.2345066 -3.2268443 -3.4991806]\n",
      "state : [0 1 1 0 0 1 0 0 0 0 0 0 0 0 0 0 0 0 0 0 0 0 0 0 0 1 1 3 4 6 0 0 0 4 4 1 2\n",
      " 0 0 0 0 0 0 0 0 1 2 0]\n",
      "Q_values : [-2.243553  -1.8590423 -1.0447541 -0.4466625]\n",
      "state : [0 1 1 0 2 0 0 0 0 0 0 0 0 0 0 0 0 0 0 0 0 0 0 0 0 1 1 0 4 1 0 0 0 4 4 4 5\n",
      " 0 0 0 0 0 0 0 4 0 1 0]\n",
      "Q_values : [-1.1778064  -1.1174054   0.8009974  -0.68397796]\n",
      "state : [0 1 1 0 0 1 0 0 0 0 0 1 0 0 0 0 0 0 0 0 0 0 0 0 0 1 1 0 0 1 0 0 0 1 1 4 3\n",
      " 0 0 0 2 0 3 0 5 0 4 0]\n",
      "Q_values : [0.38760036 0.34368092 0.14848264 1.5544556 ]\n",
      "state : [0 1 1 0 0 0 0 0 0 0 1 0 0 0 0 0 0 0 0 0 0 0 0 0 0 1 1 0 0 0 0 0 0 0 1 0 0\n",
      " 0 4 0 2 0 3 0 1 0 2 0]\n",
      "Q_values : [1.3802382 1.6685512 1.4183507 1.1767766]\n",
      "state : [0 1 0 0 0 0 0 0 0 0 1 0 0 0 0 0 0 0 0 0 0 0 0 0 0 1 0 0 0 0 0 0 0 0 1 0 0\n",
      " 0 3 0 0 1 0 0 0 0 0 0]\n",
      "Q_values : [0.72671753 0.70153964 1.1416454  0.5347759 ]\n",
      "state : [0 1 0 0 0 0 0 0 0 0 0 0 0 0 0 0 0 0 0 0 0 0 0 0 0 1 0 0 0 0 0 0 0 0 0 0 0\n",
      " 0 0 0 1 0 0 0 0 0 0 0]\n",
      "Q_values : [0.37780666 0.39035743 0.16827628 0.18704854]\n",
      "state : [0 1 0 0 0 0 0 0 0 0 0 0 0 0 0 0 0 0 0 0 0 0 0 0 0 1 0 0 0 0 0 0 0 0 0 0 0\n",
      " 0 0 0 0 0 0 0 0 0 0 0]\n",
      "Q_values : [0.40481797 0.4214592  0.15739663 0.17735054]\n",
      "episode : 259\n",
      "Step #100.00 (0ms ?*RT. ?UPS, TraCI: 0ms, vehicles TOT 33 ACT 1 BUF 0)                     \n",
      " Retrying in 1 seconds\n"
     ]
    },
    {
     "name": "stderr",
     "output_type": "stream",
     "text": [
      "Warning: Environment variable SUMO_HOME is not set properly, disabling XML validation. Set 'auto' or 'always' for web lookups.\n"
     ]
    },
    {
     "name": "stdout",
     "output_type": "stream",
     "text": [
      "state : [0 0 0 0 0 0 0 0 0 0 0 0 0 0 0 0 0 0 0 0 0 0 0 0 0 0 0 0 0 0 0 0 0 0 0 0 0\n",
      " 0 0 0 0 0 0 0 0 0 0 0]\n",
      "Q_values : [-0.71668386 -0.8165405  -0.74635696 -0.82031804]\n",
      "state : [0 0 0 0 0 0 0 0 0 0 0 0 0 0 0 0 0 0 0 0 0 0 0 0 1 1 1 3 3 1 0 0 0 0 0 0 0\n",
      " 0 0 0 0 0 0 0 0 0 0 0]\n",
      "Q_values : [-1.6230481 -1.709153  -1.5582622 -1.6708095]\n",
      "state : [0 0 0 0 0 0 0 0 0 0 0 0 0 0 0 0 0 0 0 0 0 0 0 0 0 1 1 6 7 4 0 0 0 0 0 0 0\n",
      " 0 0 0 0 0 0 0 0 0 0 0]\n",
      "Q_values : [-3.577927  -3.6158698 -3.3543048 -3.5567615]\n",
      "state : [0 1 1 0 0 1 0 0 0 0 0 0 0 0 0 0 0 0 0 0 0 0 0 0 0 1 1 3 4 6 0 0 0 4 4 1 2\n",
      " 0 0 0 0 0 0 0 0 1 2 0]\n",
      "Q_values : [-2.7383661 -2.4528165 -1.293474  -0.6570961]\n",
      "state : [0 1 1 0 2 0 0 0 0 0 0 0 0 0 0 0 0 0 0 0 0 0 0 0 0 1 1 0 4 1 0 0 0 4 4 4 5\n",
      " 0 0 0 0 0 0 0 4 0 1 0]\n",
      "Q_values : [-1.6264892  -1.6952953   0.81504995 -0.4751008 ]\n",
      "state : [0 1 1 0 0 1 0 0 0 0 0 1 0 0 0 0 0 0 0 0 0 0 0 0 0 1 1 0 0 1 0 0 0 1 1 4 3\n",
      " 0 0 0 2 0 3 0 5 0 4 0]\n",
      "Q_values : [0.12437513 0.1367595  0.28184152 1.9360108 ]\n",
      "state : [0 1 1 0 0 0 0 0 0 0 1 0 0 0 0 0 0 0 0 0 0 0 0 0 0 1 1 0 0 0 0 0 0 0 1 0 0\n",
      " 0 4 0 2 0 3 0 1 0 2 0]\n",
      "Q_values : [1.2032235 1.2602669 1.4370346 1.0115288]\n",
      "state : [0 1 1 0 0 0 0 0 0 0 0 0 0 0 0 0 0 0 0 0 0 0 0 0 0 1 1 0 0 0 0 0 0 0 0 0 0\n",
      " 0 3 0 1 0 0 0 0 0 0 0]\n",
      "Q_values : [0.90635633 1.030884   0.43361884 0.66682065]\n",
      "state : [0 1 0 0 0 0 0 0 0 0 0 0 0 0 0 0 0 0 0 0 0 0 0 0 0 1 0 0 0 0 0 0 0 0 0 0 0\n",
      " 0 0 0 0 1 0 0 0 0 0 0]\n",
      "Q_values : [0.45520943 0.38659704 0.2754521  0.51764107]\n",
      "state : [0 1 0 0 0 0 0 0 0 0 0 0 0 0 0 0 0 0 0 0 0 0 0 0 0 1 0 0 0 0 0 0 0 0 0 0 0\n",
      " 0 0 0 0 0 0 0 0 0 0 0]\n",
      "Q_values : [0.38170856 0.3833596  0.1850684  0.18681206]\n",
      "episode : 260\n",
      "Step #100.00 (0ms ?*RT. ?UPS, TraCI: 0ms, vehicles TOT 33 ACT 1 BUF 0)                     \n",
      " Retrying in 1 seconds\n"
     ]
    },
    {
     "name": "stderr",
     "output_type": "stream",
     "text": [
      "Warning: Environment variable SUMO_HOME is not set properly, disabling XML validation. Set 'auto' or 'always' for web lookups.\n"
     ]
    },
    {
     "name": "stdout",
     "output_type": "stream",
     "text": [
      "state : [0 0 0 0 0 0 0 0 0 0 0 0 0 0 0 0 0 0 0 0 0 0 0 0 0 0 0 0 0 0 0 0 0 0 0 0 0\n",
      " 0 0 0 0 0 0 0 0 0 0 0]\n",
      "Q_values : [-0.69011784 -0.75256145 -0.6855043  -0.72641796]\n",
      "state : [0 0 0 0 0 0 0 0 0 0 0 0 0 0 0 0 0 0 0 0 0 0 0 0 1 1 1 3 3 1 0 0 0 0 0 0 0\n",
      " 0 0 0 0 0 0 0 0 0 0 0]\n",
      "Q_values : [-1.499437  -1.5134758 -1.4311311 -1.503923 ]\n",
      "state : [0 0 0 0 0 0 0 0 0 0 0 0 0 0 0 0 0 0 0 0 0 0 0 0 0 1 1 6 7 4 0 0 0 0 0 0 0\n",
      " 0 0 0 0 0 0 0 0 0 0 0]\n",
      "Q_values : [-3.2964892 -3.2028933 -3.13474   -3.3055668]\n",
      "state : [0 1 1 0 0 1 0 0 0 0 0 0 0 0 0 0 0 0 0 0 0 0 0 0 0 1 1 3 4 6 0 0 0 4 4 1 2\n",
      " 0 0 0 0 0 0 0 0 1 2 0]\n",
      "Q_values : [-2.6196551  -2.0598738  -1.2605947  -0.47047076]\n",
      "state : [0 1 1 0 2 0 0 0 0 0 0 0 0 0 0 0 0 0 0 0 0 0 0 0 0 1 1 0 4 1 0 0 0 4 4 4 5\n",
      " 0 0 0 0 0 0 0 4 0 1 0]\n",
      "Q_values : [-1.5003715  -1.3166412   0.7983686  -0.48941872]\n",
      "state : [0 1 1 0 0 1 0 0 0 0 0 1 0 0 0 0 0 0 0 0 0 0 0 0 0 1 1 0 0 1 0 0 0 1 1 4 3\n",
      " 0 0 0 2 0 3 0 5 0 4 0]\n",
      "Q_values : [ 0.13983868  0.36738366 -0.02614249  1.7996277 ]\n",
      "state : [0 1 1 0 0 0 0 0 0 0 1 0 0 0 0 0 0 0 0 0 0 0 0 0 0 1 1 0 0 0 0 0 0 0 1 0 0\n",
      " 0 4 0 2 0 3 0 1 0 2 0]\n",
      "Q_values : [1.3571354 1.5121874 1.3969748 1.0758977]\n",
      "state : [0 1 0 0 0 0 0 0 0 0 1 0 0 0 0 0 0 0 0 0 0 0 0 0 0 1 0 0 0 0 0 0 0 0 1 0 0\n",
      " 0 3 0 0 1 0 0 0 0 0 0]\n",
      "Q_values : [1.0246769 1.0020499 1.3425283 0.9562382]\n",
      "state : [0 1 0 0 0 0 0 0 0 0 0 0 0 0 0 0 0 0 0 0 0 0 0 0 0 1 0 0 0 0 0 0 0 0 0 0 0\n",
      " 0 0 0 1 0 0 0 0 0 0 0]\n",
      "Q_values : [0.5635288  0.5698123  0.23796031 0.4535367 ]\n",
      "state : [0 1 0 0 0 0 0 0 0 0 0 0 0 0 0 0 0 0 0 0 0 0 0 0 0 1 0 0 0 0 0 0 0 0 0 0 0\n",
      " 0 0 0 0 0 0 0 0 0 0 0]\n",
      "Q_values : [0.46307108 0.47393906 0.1676846  0.1845223 ]\n",
      "episode : 261\n",
      "Step #100.00 (0ms ?*RT. ?UPS, TraCI: 0ms, vehicles TOT 33 ACT 1 BUF 0)                     \n",
      " Retrying in 1 seconds\n"
     ]
    },
    {
     "name": "stderr",
     "output_type": "stream",
     "text": [
      "Warning: Environment variable SUMO_HOME is not set properly, disabling XML validation. Set 'auto' or 'always' for web lookups.\n"
     ]
    },
    {
     "name": "stdout",
     "output_type": "stream",
     "text": [
      "state : [0 0 0 0 0 0 0 0 0 0 0 0 0 0 0 0 0 0 0 0 0 0 0 0 0 0 0 0 0 0 0 0 0 0 0 0 0\n",
      " 0 0 0 0 0 0 0 0 0 0 0]\n",
      "Q_values : [-0.56560063 -0.64353585 -0.66096073 -0.7659991 ]\n",
      "state : [0 0 0 0 0 0 0 0 0 0 0 0 0 0 0 0 0 0 0 0 0 0 0 0 1 1 1 3 3 1 0 0 0 0 0 0 0\n",
      " 0 0 0 0 0 0 0 0 0 0 0]\n",
      "Q_values : [-1.3708193 -1.4270098 -1.3773578 -1.6440182]\n",
      "state : [0 0 0 0 0 0 0 0 0 0 0 0 0 0 0 0 0 0 0 0 0 0 0 0 0 0 1 6 7 4 0 0 0 0 0 0 0\n",
      " 0 0 0 0 0 0 0 0 0 0 0]\n",
      "Q_values : [-3.0281415 -2.8899834 -2.4853597 -2.677941 ]\n",
      "state : [0 0 1 0 0 1 0 0 0 0 0 0 0 0 0 0 0 0 0 0 0 0 0 0 0 0 1 3 4 6 0 0 0 4 4 1 2\n",
      " 0 0 0 0 0 0 1 0 1 2 0]\n",
      "Q_values : [-3.190985  -2.8591483 -1.2916439 -1.0727363]\n",
      "state : [0 0 1 0 2 0 0 0 0 0 0 0 0 0 0 0 0 0 0 0 0 0 0 0 0 0 1 0 4 1 0 0 0 4 4 4 5\n",
      " 0 0 0 0 0 0 0 4 0 1 0]\n",
      "Q_values : [-1.5768201 -1.8604852  0.927024  -0.8643308]\n",
      "state : [0 0 1 0 0 1 0 0 0 0 0 1 0 0 0 0 0 0 0 0 0 0 0 0 0 0 1 0 0 1 0 0 0 1 1 4 3\n",
      " 0 0 0 2 0 3 0 5 0 4 0]\n",
      "Q_values : [ 0.10639226  0.18260965 -0.06942818  1.4789749 ]\n",
      "state : [0 0 1 0 0 0 0 0 0 0 1 0 0 0 0 0 0 0 0 0 0 0 0 0 0 0 1 0 0 0 0 0 0 0 1 0 0\n",
      " 0 4 0 2 0 3 0 1 0 2 0]\n",
      "Q_values : [1.1227748 1.0708596 1.2730855 0.7722584]\n",
      "state : [0 0 1 0 0 0 0 0 0 0 0 0 0 0 0 0 0 0 0 0 0 0 0 0 0 0 1 0 0 0 0 0 0 0 0 0 0\n",
      " 0 3 0 1 0 0 0 0 0 0 0]\n",
      "Q_values : [0.6856896  0.715472   0.2219778  0.37830007]\n",
      "state : [0 0 0 0 0 0 0 0 0 0 0 0 0 0 0 0 0 0 0 0 0 0 0 0 0 0 0 0 0 0 0 0 0 0 0 0 0\n",
      " 0 0 0 0 1 0 0 0 0 0 0]\n",
      "Q_values : [ 0.05090997 -0.05264795 -0.16499257 -0.17429234]\n",
      "state : [0 0 0 0 0 0 0 0 0 0 0 0 0 0 0 0 0 0 0 0 0 0 0 0 0 0 0 0 0 0 0 0 0 0 0 0 0\n",
      " 0 0 0 0 0 0 0 0 0 0 0]\n",
      "Q_values : [-0.5908989 -0.7174772 -0.7823957 -0.7928438]\n",
      "episode : 262\n",
      "Step #100.00 (0ms ?*RT. ?UPS, TraCI: 0ms, vehicles TOT 33 ACT 0 BUF 0)                     \n",
      " Retrying in 1 seconds\n"
     ]
    },
    {
     "name": "stderr",
     "output_type": "stream",
     "text": [
      "Warning: Environment variable SUMO_HOME is not set properly, disabling XML validation. Set 'auto' or 'always' for web lookups.\n"
     ]
    },
    {
     "name": "stdout",
     "output_type": "stream",
     "text": [
      "state : [0 0 0 0 0 0 0 0 0 0 0 0 0 0 0 0 0 0 0 0 0 0 0 0 0 0 0 0 0 0 0 0 0 0 0 0 0\n",
      " 0 0 0 0 0 0 0 0 0 0 0]\n",
      "Q_values : [-0.6112437  -0.72264487 -0.7984652  -0.7744241 ]\n",
      "state : [0 0 0 0 0 0 0 0 0 0 0 0 0 0 0 0 0 0 0 0 0 0 0 0 1 1 1 3 3 1 0 0 0 0 0 0 0\n",
      " 0 0 0 0 0 0 0 0 0 0 0]\n",
      "Q_values : [-1.4404459 -1.4956096 -1.5985171 -1.5465293]\n",
      "state : [0 0 0 0 0 0 0 0 0 0 0 0 0 0 0 0 0 0 0 0 0 0 0 0 0 0 1 6 7 4 0 0 0 0 0 0 0\n",
      " 0 0 0 0 0 0 0 0 0 0 0]\n",
      "Q_values : [-3.1878252 -2.9436383 -2.7419343 -2.2725506]\n",
      "state : [0 0 1 0 1 0 0 0 0 0 0 0 0 0 0 0 0 0 0 0 0 0 0 0 0 0 1 4 6 4 0 0 0 4 4 1 2\n",
      " 0 0 0 0 0 0 1 1 1 0 0]\n",
      "Q_values : [-3.2795243 -2.8875394 -1.3540608 -1.0410616]\n",
      "state : [0 0 1 0 4 0 0 0 0 0 0 0 0 0 0 0 0 0 0 0 0 0 0 0 0 0 1 0 6 0 0 0 0 4 4 4 5\n",
      " 0 0 0 0 0 0 0 5 0 0 0]\n",
      "Q_values : [-1.1390553  -1.3895593   2.556053    0.41393018]\n",
      "state : [0 0 0 0 0 0 0 0 0 0 1 4 0 0 0 0 0 0 0 0 0 0 0 0 0 0 0 0 0 0 0 0 0 0 1 4 0\n",
      " 0 0 0 2 1 3 0 0 0 5 0]\n",
      "Q_values : [2.3702157 2.4085176 2.8234494 4.6380186]\n",
      "state : [0 0 0 0 0 0 0 0 0 0 1 0 0 0 0 0 0 0 0 0 0 0 0 0 0 0 0 0 0 0 0 0 0 0 1 0 0\n",
      " 0 4 0 0 0 0 0 0 0 0 0]\n",
      "Q_values : [0.3948982  0.28568494 0.7760829  0.17366733]\n",
      "state : [0 0 0 0 0 0 0 0 0 0 0 0 0 0 0 0 0 0 0 0 0 0 0 0 0 0 0 0 0 0 0 0 0 0 0 0 0\n",
      " 0 3 0 1 0 0 0 0 0 0 0]\n",
      "Q_values : [-0.15539408 -0.18762226 -0.29933298 -0.30916643]\n",
      "episode : 263\n",
      "Step #100.00 (0ms ?*RT. ?UPS, TraCI: 0ms, vehicles TOT 33 ACT 0 BUF 0)                     \n",
      " Retrying in 1 seconds\n"
     ]
    },
    {
     "name": "stderr",
     "output_type": "stream",
     "text": [
      "Warning: Environment variable SUMO_HOME is not set properly, disabling XML validation. Set 'auto' or 'always' for web lookups.\n"
     ]
    },
    {
     "name": "stdout",
     "output_type": "stream",
     "text": [
      "state : [0 0 0 0 0 0 0 0 0 0 0 0 0 0 0 0 0 0 0 0 0 0 0 0 0 0 0 0 0 0 0 0 0 0 0 0 0\n",
      " 0 0 0 0 0 0 0 0 0 0 0]\n",
      "Q_values : [-0.6013353  -0.68022835 -0.7293128  -0.79320085]\n",
      "state : [0 0 0 0 0 0 0 0 0 0 0 0 0 0 0 0 0 0 0 0 0 0 0 0 1 1 1 3 3 1 0 0 0 0 0 0 0\n",
      " 0 0 0 0 0 0 0 0 0 0 0]\n",
      "Q_values : [-1.4417144 -1.4885472 -1.5210319 -1.6683431]\n",
      "state : [0 0 0 0 0 0 0 0 0 0 0 0 0 0 0 0 0 0 0 0 0 0 0 0 0 0 1 6 7 4 0 0 0 0 0 0 0\n",
      " 0 0 0 0 0 0 0 0 0 0 0]\n",
      "Q_values : [-2.9572587 -2.8821363 -2.6085331 -2.621232 ]\n",
      "state : [0 0 1 0 0 1 0 0 0 0 0 0 0 0 0 0 0 0 0 0 0 0 0 0 0 0 1 3 4 6 0 0 0 4 4 1 2\n",
      " 0 0 0 0 0 0 1 0 1 2 0]\n",
      "Q_values : [-3.2771466 -3.087167  -1.6994153 -1.0339882]\n",
      "state : [0 0 1 0 2 0 0 0 0 0 0 0 0 0 0 0 0 0 0 0 0 0 0 0 0 0 1 0 4 1 0 0 0 4 4 4 5\n",
      " 0 0 0 0 0 0 0 4 0 1 0]\n",
      "Q_values : [-1.7304332 -2.2871027  0.5562146 -0.8754174]\n",
      "state : [0 0 1 0 0 1 0 0 0 0 0 1 0 0 0 0 0 0 0 0 0 0 0 0 0 0 1 0 0 1 0 0 0 1 1 4 3\n",
      " 0 0 0 2 0 3 0 5 0 4 0]\n",
      "Q_values : [-0.15446845 -0.18636735 -0.25428778  1.5883495 ]\n",
      "state : [0 0 1 0 0 0 0 0 0 0 1 0 0 0 0 0 0 0 0 0 0 0 0 0 0 0 1 0 0 0 0 0 0 0 1 0 0\n",
      " 0 4 0 2 0 3 0 1 0 2 0]\n",
      "Q_values : [1.2065918 1.1421618 1.3722769 0.9157565]\n",
      "state : [0 0 1 0 0 0 0 0 0 0 0 0 0 0 0 0 0 0 0 0 0 0 0 0 0 0 1 0 0 0 0 0 0 0 0 0 0\n",
      " 0 3 0 1 0 0 0 0 0 0 0]\n",
      "Q_values : [0.6971675  0.77869785 0.31063643 0.48509204]\n",
      "state : [0 0 0 0 0 0 0 0 0 0 0 0 0 0 0 0 0 0 0 0 0 0 0 0 0 0 0 0 0 0 0 0 0 0 0 0 0\n",
      " 0 0 0 0 0 0 0 0 0 0 0]\n",
      "Q_values : [-0.6613568  -0.73278004 -0.66776264 -0.7053712 ]\n",
      "episode : 264\n",
      "Step #100.00 (0ms ?*RT. ?UPS, TraCI: 1ms, vehicles TOT 33 ACT 0 BUF 0)                     \n",
      " Retrying in 1 seconds\n"
     ]
    },
    {
     "name": "stderr",
     "output_type": "stream",
     "text": [
      "Warning: Environment variable SUMO_HOME is not set properly, disabling XML validation. Set 'auto' or 'always' for web lookups.\n"
     ]
    },
    {
     "name": "stdout",
     "output_type": "stream",
     "text": [
      "state : [0 0 0 0 0 0 0 0 0 0 0 0 0 0 0 0 0 0 0 0 0 0 0 0 1 1 1 3 3 1 0 0 0 0 0 0 0\n",
      " 0 0 0 0 0 0 0 0 0 0 0]\n",
      "Q_values : [-1.5833923 -1.5319484 -1.4140064 -1.6233121]\n",
      "state : [0 0 0 0 0 0 0 0 0 0 0 0 0 0 0 0 0 0 0 0 0 0 0 0 0 1 1 6 7 4 0 0 0 0 0 0 0\n",
      " 0 0 0 0 0 0 0 0 0 0 0]\n",
      "Q_values : [-3.5258496 -3.2791476 -3.0944176 -3.5853002]\n",
      "state : [0 1 1 0 0 1 0 0 0 0 0 0 0 0 0 0 0 0 0 0 0 0 0 0 0 1 1 3 4 6 0 0 0 4 4 1 2\n",
      " 0 0 0 0 0 0 0 0 1 2 0]\n",
      "Q_values : [-2.5059564  -1.9658448  -0.96150494 -0.46112156]\n",
      "state : [0 1 1 0 2 0 0 0 0 0 0 0 0 0 0 0 0 0 0 0 0 0 0 0 0 1 1 0 4 1 0 0 0 4 4 4 5\n",
      " 0 0 0 0 0 0 0 4 0 1 0]\n",
      "Q_values : [-1.6298307 -1.5745271  1.0694345 -0.7448262]\n",
      "state : [0 1 0 0 0 1 0 0 0 0 1 4 0 0 0 0 0 0 0 0 0 0 0 0 0 1 0 0 0 1 0 0 0 0 1 4 0\n",
      " 0 0 0 2 1 3 0 0 0 2 0]\n",
      "Q_values : [3.306453  3.422849  3.6075668 5.7215915]\n",
      "state : [0 1 0 0 0 0 0 0 0 0 1 0 0 0 0 0 0 0 0 0 0 0 0 0 0 1 0 0 0 0 0 0 0 0 1 0 0\n",
      " 0 3 0 0 0 0 0 0 0 0 0]\n",
      "Q_values : [0.8179804 0.8570161 1.3218039 0.6389752]\n",
      "state : [0 1 0 0 0 0 0 0 0 0 0 0 0 0 0 0 0 0 0 0 0 0 0 0 0 1 0 0 0 0 0 0 0 0 0 0 0\n",
      " 0 0 0 1 0 0 0 0 0 0 0]\n",
      "Q_values : [0.3766405  0.38308993 0.17960931 0.27384347]\n",
      "episode : 265\n",
      "Step #100.00 (0ms ?*RT. ?UPS, TraCI: 0ms, vehicles TOT 33 ACT 1 BUF 0)                     \n",
      " Retrying in 1 seconds\n"
     ]
    },
    {
     "name": "stderr",
     "output_type": "stream",
     "text": [
      "Warning: Environment variable SUMO_HOME is not set properly, disabling XML validation. Set 'auto' or 'always' for web lookups.\n"
     ]
    },
    {
     "name": "stdout",
     "output_type": "stream",
     "text": [
      "state : [0 0 0 0 0 0 0 0 0 0 0 0 0 0 0 0 0 0 0 0 0 0 0 0 0 0 0 0 0 0 0 0 0 0 0 0 0\n",
      " 0 0 0 0 0 0 0 0 0 0 0]\n",
      "Q_values : [-0.6749612  -0.72968656 -0.7096805  -0.7284405 ]\n",
      "state : [0 0 0 0 0 0 0 0 0 0 0 0 0 0 0 0 0 0 0 0 0 0 0 0 1 1 1 3 3 1 0 0 0 0 0 0 0\n",
      " 0 0 0 0 0 0 0 0 0 0 0]\n",
      "Q_values : [-1.4465448 -1.4430312 -1.4244179 -1.4612069]\n",
      "state : [0 0 0 0 0 0 0 0 0 0 0 0 0 0 0 0 0 0 0 0 0 0 0 0 0 1 1 6 7 4 0 0 0 0 0 0 0\n",
      " 0 0 0 0 0 0 0 0 0 0 0]\n",
      "Q_values : [-3.2877378 -3.1573873 -3.1802454 -3.3022776]\n",
      "state : [0 1 0 0 1 1 0 0 0 0 0 0 0 0 0 0 0 0 0 0 0 0 0 0 0 1 0 4 6 6 0 0 0 4 4 1 2\n",
      " 0 0 0 0 1 0 0 0 1 0 0]\n",
      "Q_values : [-3.311575   -2.7752056  -0.80375403 -0.59856135]\n",
      "state : [0 1 0 0 4 0 0 0 0 0 0 0 0 0 0 0 0 0 0 0 0 0 0 0 0 1 0 0 6 1 0 0 0 4 4 4 5\n",
      " 0 0 0 0 0 0 0 4 0 0 0]\n",
      "Q_values : [-1.389981   -1.4898679   2.676604    0.18819675]\n",
      "state : [0 1 0 0 0 1 0 0 0 0 0 1 0 0 0 0 0 0 0 0 0 0 0 0 0 1 0 0 0 1 0 0 0 1 1 4 3\n",
      " 0 0 0 2 0 3 0 5 0 6 0]\n",
      "Q_values : [-0.23395595 -0.18658999 -0.27258766  1.4288585 ]\n",
      "state : [0 1 0 0 0 0 0 0 0 0 1 0 0 0 0 0 0 0 0 0 0 0 0 0 0 1 0 0 0 0 0 0 0 0 1 0 0\n",
      " 0 4 0 2 0 3 0 1 0 5 0]\n",
      "Q_values : [0.7458481  0.67719066 1.175915   0.6087454 ]\n",
      "state : [0 1 0 0 0 0 0 0 0 0 0 0 0 0 0 0 0 0 0 0 0 0 0 0 0 1 0 0 0 0 0 0 0 0 0 0 0\n",
      " 0 3 0 1 0 0 0 0 0 0 0]\n",
      "Q_values : [0.4177566  0.32186532 0.27027082 0.229956  ]\n",
      "state : [0 0 0 0 0 0 0 0 0 0 0 0 0 0 0 0 0 0 0 0 0 0 0 0 0 0 0 0 0 0 0 0 0 0 0 0 0\n",
      " 0 0 0 0 0 0 1 0 0 0 0]\n",
      "Q_values : [-0.2662308  -0.40646318 -0.33330053 -0.2504676 ]\n",
      "state : [0 0 0 0 0 0 0 0 0 0 0 0 0 0 0 0 0 0 0 0 0 0 0 0 0 0 0 0 0 0 0 0 0 0 0 0 0\n",
      " 0 0 0 0 0 0 0 0 0 0 0]\n",
      "Q_values : [-0.6012132  -0.82436717 -0.76882017 -0.75546366]\n",
      "episode : 266\n",
      "Step #100.00 (0ms ?*RT. ?UPS, TraCI: 0ms, vehicles TOT 33 ACT 0 BUF 0)                     \n",
      " Retrying in 1 seconds\n"
     ]
    },
    {
     "name": "stderr",
     "output_type": "stream",
     "text": [
      "Warning: Environment variable SUMO_HOME is not set properly, disabling XML validation. Set 'auto' or 'always' for web lookups.\n"
     ]
    },
    {
     "name": "stdout",
     "output_type": "stream",
     "text": [
      "state : [0 0 0 0 0 0 0 0 0 0 0 0 0 0 0 0 0 0 0 0 0 0 0 0 0 0 0 0 0 0 0 0 0 0 0 0 0\n",
      " 0 0 0 0 0 0 0 0 0 0 0]\n",
      "Q_values : [-0.59063035 -0.8117665  -0.7685004  -0.7514868 ]\n",
      "state : [0 0 0 0 0 0 0 0 0 0 0 0 0 0 0 0 0 0 0 0 0 0 0 0 1 1 1 3 3 1 0 0 0 0 0 0 0\n",
      " 0 0 0 0 0 0 0 0 0 0 0]\n",
      "Q_values : [-1.4110986 -1.5888551 -1.5824395 -1.5740123]\n",
      "state : [0 0 0 0 0 0 0 0 0 0 0 0 0 0 0 0 0 0 0 0 0 0 0 0 0 0 1 6 7 4 0 0 0 0 0 0 0\n",
      " 0 0 0 0 0 0 0 0 0 0 0]\n",
      "Q_values : [-2.8349633 -2.8309731 -2.6089387 -2.3387544]\n",
      "state : [0 0 1 0 1 0 0 0 0 0 0 0 0 0 0 0 0 0 0 0 0 0 0 0 0 0 1 4 6 4 0 0 0 4 4 1 2\n",
      " 0 0 0 0 0 0 1 1 1 0 0]\n",
      "Q_values : [-2.833407  -2.7271423 -1.1306294 -1.1785742]\n",
      "state : [0 0 1 0 0 2 0 0 0 0 0 0 0 0 0 0 0 0 0 0 0 0 0 0 0 0 1 0 0 4 0 0 0 4 4 4 5\n",
      " 0 0 0 0 0 0 0 2 0 5 0]\n",
      "Q_values : [-2.0355442  -1.9343541  -0.8003507   0.55184436]\n",
      "state : [0 0 1 0 0 0 0 0 0 0 2 0 0 0 0 0 0 0 0 0 0 0 0 0 0 0 1 0 0 0 0 0 0 1 4 1 3\n",
      " 0 2 0 0 0 3 0 4 0 5 0]\n",
      "Q_values : [0.4264739  0.41634026 1.6703281  0.41975012]\n",
      "state : [0 0 1 0 0 0 0 0 0 0 0 1 0 0 0 0 0 0 0 0 0 0 0 0 0 0 1 0 0 0 0 0 0 0 0 1 0\n",
      " 0 3 0 4 0 3 0 3 0 0 0]\n",
      "Q_values : [1.1372868  1.164354   0.66644436 1.3938717 ]\n",
      "state : [0 0 1 0 0 0 0 0 0 0 0 0 0 0 0 0 0 0 0 0 0 0 0 0 0 0 1 0 0 0 0 0 0 0 0 0 0\n",
      " 0 0 0 0 0 0 0 0 0 0 0]\n",
      "Q_values : [0.5774869  0.72535396 0.12513575 0.29992872]\n",
      "state : [0 0 0 0 0 0 0 0 0 0 0 0 0 0 0 0 0 0 0 0 0 0 0 0 0 0 0 0 0 0 0 0 0 0 0 0 0\n",
      " 0 0 0 0 1 0 0 0 0 0 0]\n",
      "Q_values : [-0.29238823 -0.35825938 -0.47938704 -0.44818088]\n",
      "episode : 267\n",
      "Step #100.00 (0ms ?*RT. ?UPS, TraCI: 0ms, vehicles TOT 33 ACT 0 BUF 0)                     \n",
      " Retrying in 1 seconds\n"
     ]
    },
    {
     "name": "stderr",
     "output_type": "stream",
     "text": [
      "Warning: Environment variable SUMO_HOME is not set properly, disabling XML validation. Set 'auto' or 'always' for web lookups.\n"
     ]
    },
    {
     "name": "stdout",
     "output_type": "stream",
     "text": [
      "state : [0 0 0 0 0 0 0 0 0 0 0 0 0 0 0 0 0 0 0 0 0 0 0 0 0 0 0 0 0 0 0 0 0 0 0 0 0\n",
      " 0 0 0 0 0 0 0 0 0 0 0]\n",
      "Q_values : [-0.61044836 -0.6632364  -0.76815414 -0.7512637 ]\n",
      "state : [0 0 0 0 0 0 0 0 0 0 0 0 0 0 0 0 0 0 0 0 0 0 0 0 1 1 1 3 3 1 0 0 0 0 0 0 0\n",
      " 0 0 0 0 0 0 0 0 0 0 0]\n",
      "Q_values : [-1.4661797 -1.4052722 -1.55796   -1.5872995]\n",
      "state : [0 1 1 0 0 1 0 0 0 0 0 0 0 0 0 0 0 0 0 0 0 0 0 0 0 1 1 3 4 6 0 0 0 4 4 1 2\n",
      " 0 0 0 0 0 0 0 0 1 2 0]\n",
      "Q_values : [-2.58547   -2.0134554 -1.5104343 -0.7882533]\n",
      "state : [0 1 1 0 2 0 0 0 0 0 0 0 0 0 0 0 0 0 0 0 0 0 0 0 0 1 1 0 4 1 0 0 0 4 4 4 5\n",
      " 0 0 0 0 0 0 0 4 0 1 0]\n",
      "Q_values : [-1.3656161 -1.2801081  0.7083706 -0.8026229]\n",
      "state : [0 1 1 0 0 1 0 0 0 0 0 1 0 0 0 0 0 0 0 0 0 0 0 0 0 1 1 0 0 1 0 0 0 1 1 4 3\n",
      " 0 0 0 2 0 3 0 5 0 4 0]\n",
      "Q_values : [ 0.04943728  0.13382845 -0.1444149   1.6676588 ]\n",
      "state : [0 1 1 0 0 0 0 0 0 0 1 0 0 0 0 0 0 0 0 0 0 0 0 0 0 1 1 0 0 0 0 0 0 0 1 0 0\n",
      " 0 4 0 2 0 3 0 1 0 2 0]\n",
      "Q_values : [1.3948424 1.6234915 1.4346753 1.1536307]\n",
      "state : [0 1 0 0 0 0 0 0 0 0 1 0 0 0 0 0 0 0 0 0 0 0 0 0 0 1 0 0 0 0 0 0 0 0 1 0 0\n",
      " 0 3 0 0 1 0 0 0 0 0 0]\n",
      "Q_values : [0.8075528 0.6569615 1.1553025 0.5859951]\n",
      "state : [0 1 0 0 0 0 0 0 0 0 0 0 0 0 0 0 0 0 0 0 0 0 0 0 0 1 0 0 0 0 0 0 0 0 0 0 0\n",
      " 0 0 0 1 0 0 0 0 0 0 0]\n",
      "Q_values : [0.38783494 0.24758103 0.15878563 0.18567021]\n",
      "state : [0 0 0 0 0 0 0 0 0 0 0 0 0 0 0 0 0 0 0 0 0 0 0 0 0 0 0 0 0 0 0 0 0 0 0 0 0\n",
      " 0 0 0 0 0 0 1 0 0 0 0]\n",
      "Q_values : [-0.35719973 -0.48617962 -0.24954902 -0.14665583]\n",
      "episode : 268\n",
      "Step #100.00 (0ms ?*RT. ?UPS, TraCI: 0ms, vehicles TOT 33 ACT 0 BUF 0)                     \n",
      " Retrying in 1 seconds\n"
     ]
    },
    {
     "name": "stderr",
     "output_type": "stream",
     "text": [
      "Warning: Environment variable SUMO_HOME is not set properly, disabling XML validation. Set 'auto' or 'always' for web lookups.\n"
     ]
    },
    {
     "name": "stdout",
     "output_type": "stream",
     "text": [
      "state : [0 0 0 0 0 0 0 0 0 0 0 0 0 0 0 0 0 0 0 0 0 0 0 0 0 0 0 0 0 0 0 0 0 0 0 0 0\n",
      " 0 0 0 0 0 0 0 0 0 0 0]\n",
      "Q_values : [-0.59839785 -0.86218417 -0.6483196  -0.733016  ]\n",
      "state : [0 0 0 0 0 0 0 0 0 0 0 0 0 0 0 0 0 0 0 0 0 0 0 0 1 1 1 3 3 1 0 0 0 0 0 0 0\n",
      " 0 0 0 0 0 0 0 0 0 0 0]\n",
      "Q_values : [-1.3988935 -1.675422  -1.371616  -1.5226233]\n",
      "state : [0 0 0 0 0 0 0 0 0 0 0 0 0 0 0 0 0 0 0 0 0 0 0 0 0 1 1 6 7 4 0 0 0 0 0 0 0\n",
      " 0 0 0 0 0 0 0 0 0 0 0]\n",
      "Q_values : [-3.3909416 -3.6972256 -3.2185442 -3.543307 ]\n",
      "state : [0 1 1 0 0 1 0 0 0 0 0 0 0 0 0 0 0 0 0 0 0 0 0 0 0 1 1 3 4 6 0 0 0 4 4 1 2\n",
      " 0 0 0 0 0 0 0 0 1 2 0]\n",
      "Q_values : [-2.5471904  -2.4612062  -1.2729281  -0.64786667]\n",
      "state : [0 1 1 0 2 0 0 0 0 0 0 0 0 0 0 0 0 0 0 0 0 0 0 0 0 1 1 0 4 1 0 0 0 4 4 4 5\n",
      " 0 0 0 0 0 0 0 4 0 1 0]\n",
      "Q_values : [-1.383236   -1.7382146   0.895585   -0.66705424]\n",
      "state : [0 1 1 0 0 1 0 0 0 0 0 1 0 0 0 0 0 0 0 0 0 0 0 0 0 1 1 0 0 1 0 0 0 1 1 4 3\n",
      " 0 0 0 2 0 3 0 5 0 4 0]\n",
      "Q_values : [ 0.07287148 -0.0849816  -0.01207919  1.7094773 ]\n",
      "state : [0 1 1 0 0 0 0 0 0 0 1 0 0 0 0 0 0 0 0 0 0 0 0 0 0 1 1 0 0 0 0 0 0 0 1 0 0\n",
      " 0 4 0 2 0 3 0 1 0 2 0]\n",
      "Q_values : [1.432651  1.6178969 1.5386755 1.22572  ]\n",
      "state : [0 1 0 0 0 0 0 0 0 0 1 0 0 0 0 0 0 0 0 0 0 0 0 0 0 1 0 0 0 0 0 0 0 0 1 0 0\n",
      " 0 3 0 0 1 0 0 0 0 0 0]\n",
      "Q_values : [0.8010268 0.6072535 1.1242646 0.5904846]\n",
      "state : [0 1 0 0 0 0 0 0 0 0 0 0 0 0 0 0 0 0 0 0 0 0 0 0 0 1 0 0 0 0 0 0 0 0 0 0 0\n",
      " 0 0 0 1 0 0 0 0 0 0 0]\n",
      "Q_values : [0.4367442  0.27470276 0.16125435 0.22826329]\n",
      "episode : 269\n",
      "Step #100.00 (0ms ?*RT. ?UPS, TraCI: 1ms, vehicles TOT 33 ACT 0 BUF 0)                     \n",
      " Retrying in 1 seconds\n"
     ]
    },
    {
     "name": "stderr",
     "output_type": "stream",
     "text": [
      "Warning: Environment variable SUMO_HOME is not set properly, disabling XML validation. Set 'auto' or 'always' for web lookups.\n"
     ]
    },
    {
     "name": "stdout",
     "output_type": "stream",
     "text": [
      "state : [0 0 0 0 0 0 0 0 0 0 0 0 0 0 0 0 0 0 0 0 0 0 0 0 0 0 0 0 0 0 0 0 0 0 0 0 0\n",
      " 0 0 0 0 0 0 0 0 0 0 0]\n",
      "Q_values : [-0.57980067 -0.8706084  -0.7172967  -0.6831174 ]\n",
      "state : [0 0 0 0 0 0 0 0 0 0 0 0 0 0 0 0 0 0 0 0 0 0 0 0 1 1 1 3 3 1 0 0 0 0 0 0 0\n",
      " 0 0 0 0 0 0 0 0 0 0 0]\n",
      "Q_values : [-1.3710362 -1.6567312 -1.4422671 -1.4211961]\n",
      "state : [0 0 0 0 0 0 0 0 0 0 0 0 0 0 0 0 0 0 0 0 0 0 0 0 0 0 1 6 7 4 0 0 0 0 0 0 0\n",
      " 0 0 0 0 0 0 0 0 0 0 0]\n",
      "Q_values : [-3.1427784 -3.2401855 -2.5378642 -2.1620529]\n",
      "state : [0 0 1 0 1 0 0 0 0 0 0 0 0 0 0 0 0 0 0 0 0 0 0 0 0 0 1 4 6 4 0 0 0 4 4 1 2\n",
      " 0 0 0 0 0 0 1 1 1 0 0]\n",
      "Q_values : [-3.361154   -3.310578   -0.9993187  -0.97889656]\n",
      "state : [0 0 1 0 4 0 0 0 0 0 0 0 0 0 0 0 0 0 0 0 0 0 0 0 0 0 1 0 6 0 0 0 0 4 4 4 5\n",
      " 0 0 0 0 0 0 0 5 0 0 0]\n",
      "Q_values : [-1.3019595 -1.5646019  3.0178082  0.515061 ]\n",
      "state : [0 0 1 0 0 0 0 0 0 0 0 0 0 0 0 0 0 0 0 0 0 0 0 0 0 0 1 0 0 0 0 0 0 0 0 0 0\n",
      " 0 3 0 1 0 0 0 0 0 0 0]\n",
      "Q_values : [0.72139275 0.73449934 0.25749362 0.44768366]\n",
      "state : [0 0 0 0 0 0 0 0 0 0 0 0 0 0 0 0 0 0 0 0 0 0 0 0 0 0 0 0 0 0 0 0 0 0 0 0 0\n",
      " 0 0 0 0 1 0 0 0 0 0 0]\n",
      "Q_values : [-0.02571559 -0.24385014 -0.25881302 -0.26178575]\n",
      "state : [0 0 0 0 0 0 0 0 0 0 0 0 0 0 0 0 0 0 0 0 0 0 0 0 0 0 0 0 0 0 0 0 0 0 0 0 0\n",
      " 0 0 0 0 0 0 0 0 0 0 0]\n",
      "Q_values : [-0.5048837  -0.73790365 -0.7204877  -0.74708664]\n",
      "episode : 270\n",
      "Step #100.00 (0ms ?*RT. ?UPS, TraCI: 0ms, vehicles TOT 33 ACT 0 BUF 0)                     \n",
      " Retrying in 1 seconds\n"
     ]
    },
    {
     "name": "stderr",
     "output_type": "stream",
     "text": [
      "Warning: Environment variable SUMO_HOME is not set properly, disabling XML validation. Set 'auto' or 'always' for web lookups.\n"
     ]
    },
    {
     "name": "stdout",
     "output_type": "stream",
     "text": [
      "state : [0 0 0 0 0 0 0 0 0 0 0 0 0 0 0 0 0 0 0 0 0 0 0 0 0 0 0 0 0 0 0 0 0 0 0 0 0\n",
      " 0 0 0 0 0 0 0 0 0 0 0]\n",
      "Q_values : [-0.49890763 -0.7178767  -0.72215396 -0.7476969 ]\n",
      "state : [0 0 0 0 0 0 0 0 0 0 0 0 0 0 0 0 0 0 0 0 0 0 0 0 1 1 1 3 3 1 0 0 0 0 0 0 0\n",
      " 0 0 0 0 0 0 0 0 0 0 0]\n",
      "Q_values : [-1.2669828 -1.4203141 -1.4662074 -1.5391703]\n",
      "state : [0 0 0 0 0 0 0 0 0 0 0 0 0 0 0 0 0 0 0 0 0 0 0 0 0 0 1 6 7 4 0 0 0 0 0 0 0\n",
      " 0 0 0 0 0 0 0 0 0 0 0]\n",
      "Q_values : [-2.8468893 -2.771434  -2.5912757 -2.4210935]\n",
      "state : [0 0 0 0 4 2 0 0 0 0 0 0 0 0 0 0 0 0 0 0 0 0 0 0 0 0 0 0 6 4 0 0 0 4 4 4 5\n",
      " 0 0 0 0 1 0 0 2 0 0 0]\n",
      "Q_values : [-2.78488   -2.6738217  2.9071655  1.3204879]\n",
      "state : [0 0 0 0 0 4 0 0 0 0 1 4 0 0 0 0 0 0 0 0 0 0 0 0 0 0 0 0 0 4 0 0 0 0 1 4 0\n",
      " 0 0 0 2 0 3 0 0 0 5 0]\n",
      "Q_values : [3.752257 4.090577 4.697904 8.835071]\n",
      "state : [0 0 0 0 0 0 0 0 0 0 1 0 0 0 0 0 0 0 0 0 0 0 0 0 0 0 0 0 0 0 0 0 0 0 1 0 0\n",
      " 0 4 0 0 0 0 0 4 0 0 0]\n",
      "Q_values : [0.4816775  0.38086623 0.8669741  0.32195598]\n",
      "state : [0 0 0 0 0 0 0 0 0 0 0 0 0 0 0 0 0 0 0 0 0 0 0 0 0 0 0 0 0 0 0 0 0 0 0 0 0\n",
      " 0 4 0 1 0 0 0 3 0 0 0]\n",
      "Q_values : [ 0.11087415  0.0086908  -0.04755454 -0.06269731]\n",
      "episode : 271\n",
      "Step #100.00 (0ms ?*RT. ?UPS, TraCI: 0ms, vehicles TOT 33 ACT 0 BUF 0)                     \n",
      " Retrying in 1 seconds\n"
     ]
    },
    {
     "name": "stderr",
     "output_type": "stream",
     "text": [
      "Warning: Environment variable SUMO_HOME is not set properly, disabling XML validation. Set 'auto' or 'always' for web lookups.\n"
     ]
    },
    {
     "name": "stdout",
     "output_type": "stream",
     "text": [
      "state : [0 0 0 0 0 0 0 0 0 0 0 0 0 0 0 0 0 0 0 0 0 0 0 0 0 0 0 0 0 0 0 0 0 0 0 0 0\n",
      " 0 0 0 0 0 0 0 0 0 0 0]\n",
      "Q_values : [-0.5466429 -0.6431931 -0.6637032 -0.7785246]\n",
      "state : [0 0 0 0 0 0 0 0 0 0 0 0 0 0 0 0 0 0 0 0 0 0 0 0 1 1 1 3 3 1 0 0 0 0 0 0 0\n",
      " 0 0 0 0 0 0 0 0 0 0 0]\n",
      "Q_values : [-1.3676871 -1.3754286 -1.4647062 -1.6613646]\n",
      "state : [0 0 0 0 0 0 0 0 0 0 0 0 0 0 0 0 0 0 0 0 0 0 0 0 0 0 1 6 7 4 0 0 0 0 0 0 0\n",
      " 0 0 0 0 0 0 0 0 0 0 0]\n",
      "Q_values : [-2.8180454 -2.5982323 -2.5546534 -2.5920656]\n",
      "state : [0 0 1 0 4 0 0 0 0 0 2 0 0 0 0 0 0 0 0 0 0 0 0 0 0 0 1 0 4 0 0 0 0 1 4 1 3\n",
      " 0 2 0 0 0 3 0 6 0 0 0]\n",
      "Q_values : [2.2896378 2.2163844 5.6021934 2.5289643]\n",
      "state : [0 0 1 0 0 0 0 0 0 0 0 1 0 0 0 0 0 0 0 0 0 0 0 0 0 0 1 0 0 0 0 0 0 0 0 1 0\n",
      " 0 0 0 3 0 0 0 0 0 2 0]\n",
      "Q_values : [1.0455096  0.99065083 0.47236946 1.2641134 ]\n",
      "state : [0 0 1 0 0 0 0 0 0 0 0 0 0 0 0 0 0 0 0 0 0 0 0 0 0 0 1 0 0 0 0 0 0 0 0 0 0\n",
      " 0 1 0 0 0 0 0 0 0 0 0]\n",
      "Q_values : [0.59633005 0.6190412  0.20643832 0.2936026 ]\n",
      "state : [0 0 0 0 0 0 0 0 0 0 0 0 0 0 0 0 0 0 0 0 0 0 0 0 0 0 0 0 0 0 0 0 0 0 0 0 0\n",
      " 0 0 0 0 1 0 0 0 0 0 0]\n",
      "Q_values : [-0.35380083 -0.5352112  -0.54351956 -0.5182754 ]\n",
      "episode : 272\n",
      "Step #100.00 (0ms ?*RT. ?UPS, TraCI: 0ms, vehicles TOT 33 ACT 0 BUF 0)                     \n",
      " Retrying in 1 seconds\n"
     ]
    },
    {
     "name": "stderr",
     "output_type": "stream",
     "text": [
      "Warning: Environment variable SUMO_HOME is not set properly, disabling XML validation. Set 'auto' or 'always' for web lookups.\n"
     ]
    },
    {
     "name": "stdout",
     "output_type": "stream",
     "text": [
      "state : [0 0 0 0 0 0 0 0 0 0 0 0 0 0 0 0 0 0 0 0 0 0 0 0 0 0 0 0 0 0 0 0 0 0 0 0 0\n",
      " 0 0 0 0 0 0 0 0 0 0 0]\n",
      "Q_values : [-0.5718113  -0.7849045  -0.7437473  -0.71821505]\n",
      "state : [0 0 0 0 0 0 0 0 0 0 0 0 0 0 0 0 0 0 0 0 0 0 0 0 1 1 1 3 3 1 0 0 0 0 0 0 0\n",
      " 0 0 0 0 0 0 0 0 0 0 0]\n",
      "Q_values : [-1.4863964 -1.6892338 -1.6278179 -1.609025 ]\n",
      "state : [0 0 0 0 0 0 0 0 0 0 0 0 0 0 0 0 0 0 0 0 0 0 0 0 0 0 1 6 7 4 0 0 0 0 0 0 0\n",
      " 0 0 0 0 0 0 0 0 0 0 0]\n",
      "Q_values : [-3.082648  -3.186659  -2.7945669 -2.5147958]\n",
      "state : [0 0 1 0 1 0 0 0 0 0 0 0 0 0 0 0 0 0 0 0 0 0 0 0 0 0 1 4 6 4 0 0 0 4 4 1 2\n",
      " 0 0 0 0 0 0 1 1 1 0 0]\n",
      "Q_values : [-3.2998238 -3.3373911 -1.4971247 -1.3679107]\n",
      "state : [0 0 1 0 4 0 0 0 0 0 0 0 0 0 0 0 0 0 0 0 0 0 0 0 0 0 1 0 6 0 0 0 0 4 4 4 5\n",
      " 0 0 0 0 0 0 0 5 0 0 0]\n",
      "Q_values : [-1.3890778 -1.9633627  2.6511252  0.2209062]\n",
      "state : [0 0 1 0 0 0 0 0 0 0 0 1 0 0 0 0 0 0 0 0 0 0 0 0 0 0 1 0 0 0 0 0 0 1 1 4 3\n",
      " 0 0 0 2 0 3 0 3 0 6 0]\n",
      "Q_values : [-0.601771   -0.69420415 -0.54958487  0.53524   ]\n",
      "state : [0 0 1 0 0 0 0 0 0 0 1 0 0 0 0 0 0 0 0 0 0 0 0 0 0 0 1 0 0 0 0 0 0 0 1 0 0\n",
      " 0 4 0 2 0 3 0 0 0 5 0]\n",
      "Q_values : [1.308743  1.3353014 1.6000807 1.0424374]\n",
      "state : [0 0 1 0 0 0 0 0 0 0 0 0 0 0 0 0 0 0 0 0 0 0 0 0 0 0 1 0 0 0 0 0 0 0 0 0 0\n",
      " 0 3 0 1 0 0 0 0 0 0 0]\n",
      "Q_values : [0.70519364 0.71536726 0.36896566 0.4417195 ]\n",
      "state : [0 0 0 0 0 0 0 0 0 0 0 0 0 0 0 0 0 0 0 0 0 0 0 0 0 0 0 0 0 0 0 0 0 0 0 0 0\n",
      " 0 0 0 0 1 0 0 0 0 0 0]\n",
      "Q_values : [-0.35677034 -0.5763747  -0.41694692 -0.52143246]\n",
      "state : [0 0 0 0 0 0 0 0 0 0 0 0 0 0 0 0 0 0 0 0 0 0 0 0 0 0 0 0 0 0 0 0 0 0 0 0 0\n",
      " 0 0 0 0 0 0 0 0 0 0 0]\n",
      "Q_values : [-0.5200779 -0.7342774 -0.560806  -0.6776019]\n",
      "episode : 273\n",
      "Step #100.00 (0ms ?*RT. ?UPS, TraCI: 0ms, vehicles TOT 33 ACT 0 BUF 0)                     \n",
      " Retrying in 1 seconds\n"
     ]
    },
    {
     "name": "stderr",
     "output_type": "stream",
     "text": [
      "Warning: Environment variable SUMO_HOME is not set properly, disabling XML validation. Set 'auto' or 'always' for web lookups.\n"
     ]
    },
    {
     "name": "stdout",
     "output_type": "stream",
     "text": [
      "state : [0 0 0 0 0 0 0 0 0 0 0 0 0 0 0 0 0 0 0 0 0 0 0 0 0 0 0 0 0 0 0 0 0 0 0 0 0\n",
      " 0 0 0 0 0 0 0 0 0 0 0]\n",
      "Q_values : [-0.524122   -0.72300446 -0.5667491  -0.69216716]\n",
      "state : [0 0 0 0 0 0 0 0 0 0 0 0 0 0 0 0 0 0 0 0 0 0 0 0 1 1 1 3 3 1 0 0 0 0 0 0 0\n",
      " 0 0 0 0 0 0 0 0 0 0 0]\n",
      "Q_values : [-1.3767418 -1.4877942 -1.3181658 -1.5608845]\n",
      "state : [0 1 1 0 1 0 0 0 0 0 0 0 0 0 0 0 0 0 0 0 0 0 0 0 0 1 1 4 6 4 0 0 0 4 4 1 2\n",
      " 0 0 0 0 0 0 0 1 1 0 0]\n",
      "Q_values : [-2.2539203 -2.0864794 -0.8892322 -1.3503495]\n",
      "state : [0 1 1 0 0 2 0 0 0 0 0 0 0 0 0 0 0 0 0 0 0 0 0 0 0 1 1 0 0 4 0 0 0 4 4 4 5\n",
      " 0 0 0 0 0 0 0 2 0 5 0]\n",
      "Q_values : [-2.0305915  -1.8021386  -0.82223827  0.367217  ]\n",
      "state : [0 1 1 0 0 0 0 0 0 0 2 0 0 0 0 0 0 0 0 0 0 0 0 0 0 1 1 0 0 0 0 0 0 1 4 1 3\n",
      " 0 2 0 0 0 3 0 4 0 5 0]\n",
      "Q_values : [0.4774944  0.34281328 1.611553   0.36855897]\n",
      "state : [0 1 1 0 0 0 0 0 0 0 0 1 0 0 0 0 0 0 0 0 0 0 0 0 0 1 1 0 0 0 0 0 0 0 0 1 0\n",
      " 0 3 0 4 0 3 0 3 0 0 0]\n",
      "Q_values : [1.4569981 1.5819137 0.7804905 1.6553028]\n",
      "state : [0 1 1 0 0 0 0 0 0 0 0 0 0 0 0 0 0 0 0 0 0 0 0 0 0 1 1 0 0 0 0 0 0 0 0 0 0\n",
      " 0 1 0 3 0 0 0 0 0 0 0]\n",
      "Q_values : [1.2105391  1.5060954  0.48372912 0.9563426 ]\n",
      "state : [0 1 0 0 0 0 0 0 0 0 0 0 0 0 0 0 0 0 0 0 0 0 0 0 0 1 0 0 0 0 0 0 0 0 0 0 0\n",
      " 0 0 0 0 1 0 0 0 0 0 0]\n",
      "Q_values : [0.46596116 0.31207812 0.20825535 0.41457462]\n",
      "state : [0 0 0 0 0 0 0 0 0 0 0 0 0 0 0 0 0 0 0 0 0 0 0 0 0 0 0 0 0 0 0 0 0 0 0 0 0\n",
      " 0 0 0 0 0 0 1 0 0 0 0]\n",
      "Q_values : [0.12490574 0.03742608 0.13384672 0.303377  ]\n",
      "episode : 274\n",
      "Step #100.00 (0ms ?*RT. ?UPS, TraCI: 0ms, vehicles TOT 33 ACT 0 BUF 0)                     \n",
      " Retrying in 1 seconds\n"
     ]
    },
    {
     "name": "stderr",
     "output_type": "stream",
     "text": [
      "Warning: Environment variable SUMO_HOME is not set properly, disabling XML validation. Set 'auto' or 'always' for web lookups.\n"
     ]
    },
    {
     "name": "stdout",
     "output_type": "stream",
     "text": [
      "state : [0 0 0 0 0 0 0 0 0 0 0 0 0 0 0 0 0 0 0 0 0 0 0 0 0 0 0 0 0 0 0 0 0 0 0 0 0\n",
      " 0 0 0 0 0 0 0 0 0 0 0]\n",
      "Q_values : [-0.6530591  -0.74244773 -0.6724814  -0.7167078 ]\n",
      "state : [0 0 0 0 0 0 0 0 0 0 0 0 0 0 0 0 0 0 0 0 0 0 0 0 1 1 1 3 3 1 0 0 0 0 0 0 0\n",
      " 0 0 0 0 0 0 0 0 0 0 0]\n",
      "Q_values : [-1.5961499 -1.5502465 -1.4754246 -1.618128 ]\n",
      "state : [0 0 0 0 0 0 0 0 0 0 0 0 0 0 0 0 0 0 0 0 0 0 0 0 0 1 1 6 7 4 0 0 0 0 0 0 0\n",
      " 0 0 0 0 0 0 0 0 0 0 0]\n",
      "Q_values : [-3.4997377 -3.2055225 -3.1119504 -3.452541 ]\n",
      "state : [0 1 1 0 0 1 0 0 0 0 0 0 0 0 0 0 0 0 0 0 0 0 0 0 0 1 1 3 4 6 0 0 0 4 4 1 2\n",
      " 0 0 0 0 0 0 0 0 1 2 0]\n",
      "Q_values : [-2.348595   -1.8538918  -0.8162778  -0.22413464]\n",
      "state : [0 1 1 0 2 0 0 0 0 0 0 0 0 0 0 0 0 0 0 0 0 0 0 0 0 1 1 0 4 1 0 0 0 4 4 4 5\n",
      " 0 0 0 0 0 0 0 4 0 1 0]\n",
      "Q_values : [-1.4240868  -1.5429976   1.5789728  -0.24055216]\n",
      "state : [0 1 1 0 0 1 0 0 0 0 0 1 0 0 0 0 0 0 0 0 0 0 0 0 0 1 1 0 0 1 0 0 0 1 1 4 3\n",
      " 0 0 0 2 0 3 0 5 0 4 0]\n",
      "Q_values : [0.20016086 0.40760487 0.34852242 1.8834962 ]\n",
      "state : [0 1 1 0 0 0 0 0 0 0 1 0 0 0 0 0 0 0 0 0 0 0 0 0 0 1 1 0 0 0 0 0 0 0 1 0 0\n",
      " 0 4 0 2 0 3 0 1 0 2 0]\n",
      "Q_values : [1.4854035 1.728392  1.6094855 1.2107807]\n",
      "state : [0 1 0 0 0 0 0 0 0 0 1 0 0 0 0 0 0 0 0 0 0 0 0 0 0 1 0 0 0 0 0 0 0 0 1 0 0\n",
      " 0 3 0 0 1 0 0 0 0 0 0]\n",
      "Q_values : [0.8832065  0.76233506 1.1941917  0.655127  ]\n",
      "state : [0 1 0 0 0 0 0 0 0 0 0 0 0 0 0 0 0 0 0 0 0 0 0 0 0 1 0 0 0 0 0 0 0 0 0 0 0\n",
      " 0 0 0 1 0 0 0 0 0 0 0]\n",
      "Q_values : [0.5239158  0.47151005 0.16534671 0.2324551 ]\n",
      "state : [0 0 0 0 0 0 0 0 0 0 0 0 0 0 0 0 0 0 0 0 0 0 0 0 0 0 0 0 0 0 0 0 0 0 0 0 0\n",
      " 0 0 0 0 0 0 1 0 0 0 0]\n",
      "Q_values : [0.21136692 0.06954455 0.08418895 0.19439024]\n",
      "episode : 275\n",
      "Step #100.00 (0ms ?*RT. ?UPS, TraCI: 1ms, vehicles TOT 33 ACT 0 BUF 0)                     \n",
      " Retrying in 1 seconds\n"
     ]
    },
    {
     "name": "stderr",
     "output_type": "stream",
     "text": [
      "Warning: Environment variable SUMO_HOME is not set properly, disabling XML validation. Set 'auto' or 'always' for web lookups.\n"
     ]
    },
    {
     "name": "stdout",
     "output_type": "stream",
     "text": [
      "state : [0 0 0 0 0 0 0 0 0 0 0 0 0 0 0 0 0 0 0 0 0 0 0 0 1 1 1 3 3 1 0 0 0 0 0 0 0\n",
      " 0 0 0 0 0 0 0 0 0 0 0]\n",
      "Q_values : [-1.5524814 -1.6931555 -1.7275693 -1.6631185]\n",
      "state : [0 0 0 0 0 0 0 0 0 0 0 0 0 0 0 0 0 0 0 0 0 0 0 0 0 0 1 6 7 4 0 0 0 0 0 0 0\n",
      " 0 0 0 0 0 0 0 0 0 0 0]\n",
      "Q_values : [-3.1033092 -3.1178782 -2.9618807 -2.5660985]\n",
      "state : [0 0 1 0 1 0 0 0 0 0 0 0 0 0 0 0 0 0 0 0 0 0 0 0 0 0 1 4 6 4 0 0 0 4 4 1 2\n",
      " 0 0 0 0 0 0 1 1 1 0 0]\n",
      "Q_values : [-3.28787   -3.2563725 -1.8369535 -1.333185 ]\n",
      "state : [0 0 1 0 4 0 0 0 0 0 0 0 0 0 0 0 0 0 0 0 0 0 0 0 0 0 1 0 6 0 0 0 0 4 4 4 5\n",
      " 0 0 0 0 0 0 0 5 0 0 0]\n",
      "Q_values : [-1.4399922  -2.0180917   2.2134278   0.34219968]\n",
      "state : [0 0 1 0 0 0 0 0 0 0 0 4 0 0 0 0 0 0 0 0 0 0 0 0 0 0 1 0 0 0 0 0 0 0 0 4 0\n",
      " 0 0 0 3 0 3 0 0 0 5 0]\n",
      "Q_values : [2.6376464 2.7999046 2.085285  4.9256988]\n",
      "state : [0 0 1 0 0 0 0 0 0 0 0 0 0 0 0 0 0 0 0 0 0 0 0 0 0 0 1 0 0 0 0 0 0 0 0 0 0\n",
      " 0 4 0 0 0 0 0 0 0 0 0]\n",
      "Q_values : [0.68981326 0.6615127  0.4369682  0.43430632]\n",
      "state : [0 0 1 0 0 0 0 0 0 0 0 0 0 0 0 0 0 0 0 0 0 0 0 0 0 0 1 0 0 0 0 0 0 0 0 0 0\n",
      " 0 3 0 0 0 0 0 0 0 0 0]\n",
      "Q_values : [0.63101935 0.5966023  0.309974   0.34076577]\n",
      "state : [0 0 1 0 0 0 0 0 0 0 0 0 0 0 0 0 0 0 0 0 0 0 0 0 0 0 1 0 0 0 0 0 0 0 0 0 0\n",
      " 0 0 0 0 0 0 0 0 0 0 0]\n",
      "Q_values : [0.64782614 0.6619029  0.25811866 0.25979877]\n",
      "episode : 276\n",
      "Step #100.00 (0ms ?*RT. ?UPS, TraCI: 0ms, vehicles TOT 33 ACT 1 BUF 0)                     \n",
      " Retrying in 1 seconds\n"
     ]
    },
    {
     "name": "stderr",
     "output_type": "stream",
     "text": [
      "Warning: Environment variable SUMO_HOME is not set properly, disabling XML validation. Set 'auto' or 'always' for web lookups.\n"
     ]
    },
    {
     "name": "stdout",
     "output_type": "stream",
     "text": [
      "state : [0 0 0 0 0 0 0 0 0 0 0 0 0 0 0 0 0 0 0 0 0 0 0 0 0 0 0 0 0 0 0 0 0 0 0 0 0\n",
      " 0 0 0 0 0 0 0 0 0 0 0]\n",
      "Q_values : [-0.4965882  -0.77046967 -0.5988097  -0.7598361 ]\n",
      "state : [0 0 0 0 0 0 0 0 0 0 0 0 0 0 0 0 0 0 0 0 0 0 0 0 1 1 1 3 3 1 0 0 0 0 0 0 0\n",
      " 0 0 0 0 0 0 0 0 0 0 0]\n",
      "Q_values : [-1.2372088 -1.4959078 -1.2954851 -1.5481657]\n",
      "state : [0 0 0 0 0 0 0 0 0 0 0 0 0 0 0 0 0 0 0 0 0 0 0 0 0 0 1 6 7 4 0 0 0 0 0 0 0\n",
      " 0 0 0 0 0 0 0 0 0 0 0]\n",
      "Q_values : [-2.6087127 -2.8376236 -2.506477  -2.7537818]\n",
      "state : [0 0 1 0 0 1 0 0 0 0 0 0 0 0 0 0 0 0 0 0 0 0 0 0 0 0 1 3 4 6 0 0 0 4 4 1 2\n",
      " 0 0 0 0 0 0 1 0 1 2 0]\n",
      "Q_values : [-2.8558784 -2.8460667 -1.6560806 -1.2432945]\n",
      "state : [0 0 1 0 2 0 0 0 0 0 0 0 0 0 0 0 0 0 0 0 0 0 0 0 0 0 1 0 4 1 0 0 0 4 4 4 5\n",
      " 0 0 0 0 0 0 0 4 0 1 0]\n",
      "Q_values : [-1.6617824 -2.0144985  0.6509137 -0.9031209]\n",
      "state : [0 0 1 0 0 1 0 0 0 0 0 1 0 0 0 0 0 0 0 0 0 0 0 0 0 0 1 0 0 1 0 0 0 1 1 4 3\n",
      " 0 0 0 2 0 3 0 5 0 4 0]\n",
      "Q_values : [-0.02342263 -0.00470079 -0.23069066  1.6338248 ]\n",
      "state : [0 0 1 0 0 0 0 0 0 0 1 0 0 0 0 0 0 0 0 0 0 0 0 0 0 0 1 0 0 0 0 0 0 0 1 0 0\n",
      " 0 4 0 2 0 3 0 1 0 2 0]\n",
      "Q_values : [1.1404526  1.2463726  1.5486919  0.91873705]\n",
      "state : [0 0 1 0 0 0 0 0 0 0 0 0 0 0 0 0 0 0 0 0 0 0 0 0 0 0 1 0 0 0 0 0 0 0 0 0 0\n",
      " 0 0 0 0 0 0 0 0 0 0 0]\n",
      "Q_values : [0.6378593  0.68090606 0.24060144 0.28767964]\n",
      "state : [0 0 0 0 0 0 0 0 0 0 0 0 0 0 0 0 0 0 0 0 0 0 0 0 0 0 0 0 0 0 0 0 0 0 0 0 0\n",
      " 0 0 0 0 1 0 0 0 0 0 0]\n",
      "Q_values : [-0.20394903 -0.42410824 -0.41789776 -0.3802995 ]\n",
      "episode : 277\n",
      "Step #100.00 (0ms ?*RT. ?UPS, TraCI: 0ms, vehicles TOT 33 ACT 0 BUF 0)                     \n",
      " Retrying in 1 seconds\n"
     ]
    },
    {
     "name": "stderr",
     "output_type": "stream",
     "text": [
      "Warning: Environment variable SUMO_HOME is not set properly, disabling XML validation. Set 'auto' or 'always' for web lookups.\n"
     ]
    },
    {
     "name": "stdout",
     "output_type": "stream",
     "text": [
      "state : [0 0 0 0 0 0 0 0 0 0 0 0 0 0 0 0 0 0 0 0 0 0 0 0 0 0 0 0 0 0 0 0 0 0 0 0 0\n",
      " 0 0 0 0 0 0 0 0 0 0 0]\n",
      "Q_values : [-0.54189014 -0.764739   -0.7332854  -0.71295035]\n",
      "state : [0 0 0 0 0 0 0 0 0 0 0 0 0 0 0 0 0 0 0 0 0 0 0 0 1 1 1 3 3 1 0 0 0 0 0 0 0\n",
      " 0 0 0 0 0 0 0 0 0 0 0]\n",
      "Q_values : [-1.4436342 -1.5984141 -1.5950258 -1.6600286]\n",
      "state : [0 0 0 0 0 0 0 0 0 0 0 0 0 0 0 0 0 0 0 0 0 0 0 0 0 0 1 6 7 4 0 0 0 0 0 0 0\n",
      " 0 0 0 0 0 0 0 0 0 0 0]\n",
      "Q_values : [-2.8260925 -2.863864  -2.708363  -2.778408 ]\n",
      "state : [0 0 1 0 0 1 0 0 0 0 0 0 0 0 0 0 0 0 0 0 0 0 0 0 0 0 1 3 4 6 0 0 0 4 4 1 2\n",
      " 0 0 0 0 0 0 1 0 1 2 0]\n",
      "Q_values : [-3.048624  -2.7584815 -1.7964158 -1.2351862]\n",
      "state : [0 0 1 0 2 0 0 0 0 0 0 0 0 0 0 0 0 0 0 0 0 0 0 0 0 0 1 0 4 1 0 0 0 4 4 4 5\n",
      " 0 0 0 0 0 0 0 4 0 1 0]\n",
      "Q_values : [-1.7395599  -1.7319019   0.62558734 -0.8393299 ]\n",
      "state : [0 0 1 0 0 1 0 0 0 0 0 1 0 0 0 0 0 0 0 0 0 0 0 0 0 0 1 0 0 1 0 0 0 1 1 4 3\n",
      " 0 0 0 2 0 3 0 5 0 4 0]\n",
      "Q_values : [-0.21219593 -0.1359367  -0.19534986  1.2888472 ]\n",
      "state : [0 0 1 0 0 0 0 0 0 0 1 0 0 0 0 0 0 0 0 0 0 0 0 0 0 0 1 0 0 0 0 0 0 0 1 0 0\n",
      " 0 4 0 2 0 3 0 1 0 2 0]\n",
      "Q_values : [1.0739096 1.2380981 1.4309113 0.9074626]\n",
      "state : [0 0 1 0 0 0 0 0 0 0 0 0 0 0 0 0 0 0 0 0 0 0 0 0 0 0 1 0 0 0 0 0 0 0 0 0 0\n",
      " 0 3 0 1 0 0 0 0 0 0 0]\n",
      "Q_values : [0.62069887 0.6882309  0.31977105 0.37292725]\n",
      "state : [0 0 0 0 0 0 0 0 0 0 0 0 0 0 0 0 0 0 0 0 0 0 0 0 0 0 0 0 0 0 0 0 0 0 0 0 0\n",
      " 0 0 0 0 1 0 0 0 0 0 0]\n",
      "Q_values : [-0.36459017 -0.45901433 -0.4351187  -0.4442189 ]\n",
      "state : [0 0 0 0 0 0 0 0 0 0 0 0 0 0 0 0 0 0 0 0 0 0 0 0 0 0 0 0 0 0 0 0 0 0 0 0 0\n",
      " 0 0 0 0 0 0 0 0 0 0 0]\n",
      "Q_values : [-0.71965176 -0.7768179  -0.7382572  -0.7251119 ]\n",
      "episode : 278\n",
      "Step #100.00 (0ms ?*RT. ?UPS, TraCI: 0ms, vehicles TOT 33 ACT 0 BUF 0)                     \n",
      " Retrying in 1 seconds\n"
     ]
    },
    {
     "name": "stderr",
     "output_type": "stream",
     "text": [
      "Warning: Environment variable SUMO_HOME is not set properly, disabling XML validation. Set 'auto' or 'always' for web lookups.\n"
     ]
    },
    {
     "name": "stdout",
     "output_type": "stream",
     "text": [
      "state : [0 0 0 0 0 0 0 0 0 0 0 0 0 0 0 0 0 0 0 0 0 0 0 0 0 0 0 0 0 0 0 0 0 0 0 0 0\n",
      " 0 0 0 0 0 0 0 0 0 0 0]\n",
      "Q_values : [-0.73254514 -0.775606   -0.75050384 -0.70484567]\n",
      "state : [0 0 0 0 0 0 0 0 0 0 0 0 0 0 0 0 0 0 0 0 0 0 0 0 1 1 1 3 3 1 0 0 0 0 0 0 0\n",
      " 0 0 0 0 0 0 0 0 0 0 0]\n",
      "Q_values : [-1.6916324 -1.5781825 -1.6054838 -1.5512565]\n",
      "state : [0 0 0 0 0 0 0 0 0 0 0 0 0 0 0 0 0 0 0 0 0 0 0 0 0 1 1 6 7 4 0 0 0 0 0 0 0\n",
      " 0 0 0 0 0 0 0 0 0 0 0]\n",
      "Q_values : [-3.6515102 -3.2437773 -3.3388367 -3.3118489]\n",
      "state : [0 1 0 0 1 1 0 0 0 0 0 0 0 0 0 0 0 0 0 0 0 0 0 0 0 1 0 4 6 6 0 0 0 4 4 1 2\n",
      " 0 0 0 0 1 0 0 0 1 0 0]\n",
      "Q_values : [-3.3872936  -2.6888375  -1.0369112  -0.62786156]\n",
      "state : [0 1 0 0 4 0 0 0 0 0 0 0 0 0 0 0 0 0 0 0 0 0 0 0 0 1 0 0 6 1 0 0 0 4 4 4 5\n",
      " 0 0 0 0 0 0 0 4 0 0 0]\n",
      "Q_values : [-1.1012815  -0.90482736  2.6830766   0.57703996]\n",
      "state : [0 1 0 0 0 1 0 0 0 0 0 1 0 0 0 0 0 0 0 0 0 0 0 0 0 1 0 0 0 1 0 0 0 1 1 4 3\n",
      " 0 0 0 2 0 3 0 5 0 6 0]\n",
      "Q_values : [-1.1126277e-01  3.1264767e-02 -1.4901012e-03  1.8687023e+00]\n",
      "state : [0 1 0 0 0 0 0 0 0 0 1 0 0 0 0 0 0 0 0 0 0 0 0 0 0 1 0 0 0 0 0 0 0 0 1 0 0\n",
      " 0 4 0 2 0 3 0 1 0 5 0]\n",
      "Q_values : [1.053206  1.0056131 1.187929  0.8209551]\n",
      "state : [0 1 0 0 0 0 0 0 0 0 0 0 0 0 0 0 0 0 0 0 0 0 0 0 0 1 0 0 0 0 0 0 0 0 0 0 0\n",
      " 0 3 0 1 0 0 0 0 0 0 0]\n",
      "Q_values : [0.5443454  0.4151685  0.24600703 0.28823134]\n",
      "state : [0 0 0 0 0 0 0 0 0 0 0 0 0 0 0 0 0 0 0 0 0 0 0 0 0 0 0 0 0 0 0 0 0 0 0 0 0\n",
      " 0 0 0 0 0 0 1 0 0 0 0]\n",
      "Q_values : [-0.53386056 -0.6823199  -0.5667952  -0.6489716 ]\n",
      "state : [0 0 0 0 0 0 0 0 0 0 0 0 0 0 0 0 0 0 0 0 0 0 0 0 0 0 0 0 0 0 0 0 0 0 0 0 0\n",
      " 0 0 0 0 0 0 0 0 0 0 0]\n",
      "Q_values : [-0.62252575 -0.7953812  -0.651538   -0.75860393]\n",
      "episode : 279\n",
      "Step #100.00 (0ms ?*RT. ?UPS, TraCI: 0ms, vehicles TOT 33 ACT 0 BUF 0)                     \n",
      " Retrying in 1 seconds\n"
     ]
    },
    {
     "name": "stderr",
     "output_type": "stream",
     "text": [
      "Warning: Environment variable SUMO_HOME is not set properly, disabling XML validation. Set 'auto' or 'always' for web lookups.\n"
     ]
    },
    {
     "name": "stdout",
     "output_type": "stream",
     "text": [
      "state : [0 0 0 0 0 0 0 0 0 0 0 0 0 0 0 0 0 0 0 0 0 0 0 0 0 0 0 0 0 0 0 0 0 0 0 0 0\n",
      " 0 0 0 0 0 0 0 0 0 0 0]\n",
      "Q_values : [-0.6375419  -0.8173872  -0.66825974 -0.782053  ]\n",
      "state : [0 0 0 0 0 0 0 0 0 0 0 0 0 0 0 0 0 0 0 0 0 0 0 0 1 1 1 3 3 1 0 0 0 0 0 0 0\n",
      " 0 0 0 0 0 0 0 0 0 0 0]\n",
      "Q_values : [-1.5252041 -1.6122011 -1.431342  -1.6502194]\n",
      "state : [0 1 0 0 1 1 0 0 0 0 0 0 0 0 0 0 0 0 0 0 0 0 0 0 0 1 0 4 6 6 0 0 0 4 4 1 2\n",
      " 0 0 0 0 1 0 0 0 1 0 0]\n",
      "Q_values : [-3.5936298 -3.3990402 -0.9632428 -1.1284823]\n",
      "state : [0 1 0 0 0 4 0 0 0 0 0 0 0 0 0 0 0 0 0 0 0 0 0 0 0 1 0 0 1 6 0 0 0 4 4 4 5\n",
      " 0 0 0 0 0 0 0 0 0 5 0]\n",
      "Q_values : [-2.5679648  -2.4845738  -0.09311953  1.561845  ]\n",
      "state : [0 1 0 0 1 0 0 0 0 0 2 0 0 0 0 0 0 0 0 0 0 0 0 0 0 1 0 0 1 0 0 0 0 1 4 1 3\n",
      " 0 2 0 0 0 3 0 5 0 4 0]\n",
      "Q_values : [0.17071931 0.03317852 2.1861918  0.62472886]\n",
      "state : [0 1 0 0 0 0 0 0 0 0 0 1 0 0 0 0 0 0 0 0 0 0 0 0 0 1 0 0 0 0 0 0 0 0 0 1 0\n",
      " 0 3 0 4 0 3 0 6 0 1 0]\n",
      "Q_values : [0.9556654  0.82147324 0.39421248 1.4069637 ]\n",
      "state : [0 1 0 0 0 0 0 0 0 0 0 0 0 0 0 0 0 0 0 0 0 0 0 0 0 1 0 0 0 0 0 0 0 0 0 0 0\n",
      " 0 0 0 0 0 0 0 0 0 0 0]\n",
      "Q_values : [0.51024055 0.39045322 0.16189474 0.22556253]\n",
      "state : [0 0 0 0 0 0 0 0 0 0 0 0 0 0 0 0 0 0 0 0 0 0 0 0 0 0 0 0 0 0 0 0 0 0 0 0 0\n",
      " 0 0 0 0 0 0 1 0 0 0 0]\n",
      "Q_values : [-0.34364545 -0.5081852  -0.4888407  -0.42843544]\n",
      "episode : 280\n",
      "Step #100.00 (0ms ?*RT. ?UPS, TraCI: 0ms, vehicles TOT 33 ACT 0 BUF 0)                     \n",
      " Retrying in 1 seconds\n"
     ]
    },
    {
     "name": "stderr",
     "output_type": "stream",
     "text": [
      "Warning: Environment variable SUMO_HOME is not set properly, disabling XML validation. Set 'auto' or 'always' for web lookups.\n"
     ]
    },
    {
     "name": "stdout",
     "output_type": "stream",
     "text": [
      "state : [0 0 0 0 0 0 0 0 0 0 0 0 0 0 0 0 0 0 0 0 0 0 0 0 0 0 0 0 0 0 0 0 0 0 0 0 0\n",
      " 0 0 0 0 0 0 0 0 0 0 0]\n",
      "Q_values : [-0.5173841 -0.7045984 -0.6792075 -0.596905 ]\n",
      "state : [0 0 0 0 0 0 0 0 0 0 0 0 0 0 0 0 0 0 0 0 0 0 0 0 1 1 1 3 3 1 0 0 0 0 0 0 0\n",
      " 0 0 0 0 0 0 0 0 0 0 0]\n",
      "Q_values : [-1.303808  -1.4657394 -1.4571128 -1.4436519]\n",
      "state : [0 0 0 0 0 0 0 0 0 0 0 0 0 0 0 0 0 0 0 0 0 0 0 0 0 0 1 6 7 4 0 0 0 0 0 0 0\n",
      " 0 0 0 0 0 0 0 0 0 0 0]\n",
      "Q_values : [-2.723867  -2.7925355 -2.5230935 -2.3496509]\n",
      "state : [0 0 1 0 1 0 0 0 0 0 0 0 0 0 0 0 0 0 0 0 0 0 0 0 0 0 1 4 6 4 0 0 0 4 4 1 2\n",
      " 0 0 0 0 0 0 1 1 1 0 0]\n",
      "Q_values : [-2.5901368 -2.676731  -0.8262971 -1.1962447]\n",
      "state : [0 0 1 0 0 2 0 0 0 0 0 0 0 0 0 0 0 0 0 0 0 0 0 0 0 0 1 0 0 4 0 0 0 4 4 4 5\n",
      " 0 0 0 0 0 0 0 2 0 5 0]\n",
      "Q_values : [-1.9354746  -2.0510223  -0.8410586   0.01147626]\n",
      "state : [0 0 1 0 0 0 0 0 0 0 2 0 0 0 0 0 0 0 0 0 0 0 0 0 0 0 1 0 0 0 0 0 0 1 4 1 3\n",
      " 0 2 0 0 0 3 0 4 0 5 0]\n",
      "Q_values : [0.35177982 0.09208567 1.5447663  0.27433223]\n",
      "state : [0 0 1 0 0 0 0 0 0 0 0 1 0 0 0 0 0 0 0 0 0 0 0 0 0 0 1 0 0 0 0 0 0 0 0 1 0\n",
      " 0 3 0 4 0 3 0 3 0 0 0]\n",
      "Q_values : [1.0083244 0.9218067 0.4517426 1.2043527]\n",
      "state : [0 0 1 0 0 0 0 0 0 0 0 0 0 0 0 0 0 0 0 0 0 0 0 0 0 0 1 0 0 0 0 0 0 0 0 0 0\n",
      " 0 1 0 3 0 0 0 0 0 0 0]\n",
      "Q_values : [0.59696424 0.5907321  0.16535546 0.2813993 ]\n",
      "state : [0 0 1 0 0 0 0 0 0 0 0 0 0 0 0 0 0 0 0 0 0 0 0 0 0 0 1 0 0 0 0 0 0 0 0 0 0\n",
      " 0 0 0 0 0 0 0 0 0 0 0]\n",
      "Q_values : [0.55763334 0.5430599  0.12094821 0.2265521 ]\n",
      "state : [0 0 1 0 0 0 0 0 0 0 0 0 0 0 0 0 0 0 0 0 0 0 0 0 0 0 1 0 0 0 0 0 0 0 0 0 0\n",
      " 0 0 0 0 0 0 0 0 0 0 0]\n",
      "Q_values : [0.5472934  0.5433416  0.11717557 0.23175092]\n",
      "episode : 281\n",
      "Step #100.00 (0ms ?*RT. ?UPS, TraCI: 0ms, vehicles TOT 33 ACT 1 BUF 0)                     \n",
      " Retrying in 1 seconds\n"
     ]
    },
    {
     "name": "stderr",
     "output_type": "stream",
     "text": [
      "Warning: Environment variable SUMO_HOME is not set properly, disabling XML validation. Set 'auto' or 'always' for web lookups.\n"
     ]
    },
    {
     "name": "stdout",
     "output_type": "stream",
     "text": [
      "state : [0 0 0 0 0 0 0 0 0 0 0 0 0 0 0 0 0 0 0 0 0 0 0 0 0 0 0 0 0 0 0 0 0 0 0 0 0\n",
      " 0 0 0 0 0 0 0 0 0 0 0]\n",
      "Q_values : [-0.5798546 -0.8414733 -0.8236892 -0.7527511]\n",
      "state : [0 0 0 0 0 0 0 0 0 0 0 0 0 0 0 0 0 0 0 0 0 0 0 0 1 1 1 3 3 1 0 0 0 0 0 0 0\n",
      " 0 0 0 0 0 0 0 0 0 0 0]\n",
      "Q_values : [-1.3445227 -1.6135396 -1.5939891 -1.5282853]\n",
      "state : [0 0 0 0 0 0 0 0 0 0 0 0 0 0 0 0 0 0 0 0 0 0 0 0 0 0 1 6 7 4 0 0 0 0 0 0 0\n",
      " 0 0 0 0 0 0 0 0 0 0 0]\n",
      "Q_values : [-2.9237013 -3.171001  -2.7397923 -2.3392031]\n",
      "state : [0 0 1 0 1 0 0 0 0 0 0 0 0 0 0 0 0 0 0 0 0 0 0 0 0 0 1 4 6 4 0 0 0 4 4 1 2\n",
      " 0 0 0 0 0 0 1 1 1 0 0]\n",
      "Q_values : [-2.913899  -3.1205626 -1.4057248 -1.081118 ]\n",
      "state : [0 0 1 0 4 0 0 0 0 0 0 0 0 0 0 0 0 0 0 0 0 0 0 0 0 0 1 0 6 0 0 0 0 4 4 4 5\n",
      " 0 0 0 0 0 0 0 5 0 0 0]\n",
      "Q_values : [-0.79721516 -1.3919711   2.7799463   0.8907305 ]\n",
      "state : [0 0 1 0 0 0 0 0 0 0 0 1 0 0 0 0 0 0 0 0 0 0 0 0 0 0 1 0 0 0 0 0 0 1 1 4 3\n",
      " 0 0 0 2 0 3 0 3 0 6 0]\n",
      "Q_values : [-0.6271534  -0.7318897  -0.56141335  0.45503178]\n",
      "state : [0 0 1 0 0 0 0 0 0 0 1 0 0 0 0 0 0 0 0 0 0 0 0 0 0 0 1 0 0 0 0 0 0 0 1 0 0\n",
      " 0 4 0 2 0 3 0 0 0 5 0]\n",
      "Q_values : [0.9339453 1.0819987 1.161132  0.8320923]\n",
      "state : [0 0 1 0 0 0 0 0 0 0 0 0 0 0 0 0 0 0 0 0 0 0 0 0 0 0 1 0 0 0 0 0 0 0 0 0 0\n",
      " 0 3 0 1 0 0 0 0 0 0 0]\n",
      "Q_values : [0.46320665 0.5934382  0.27145773 0.29006258]\n",
      "state : [0 0 0 0 0 0 0 0 0 0 0 0 0 0 0 0 0 0 0 0 0 0 0 0 0 0 0 0 0 0 0 0 0 0 0 0 0\n",
      " 0 0 0 0 1 0 0 0 0 0 0]\n",
      "Q_values : [-0.33450997 -0.37977225 -0.3110823  -0.44402987]\n",
      "state : [0 0 0 0 0 0 0 0 0 0 0 0 0 0 0 0 0 0 0 0 0 0 0 0 0 0 0 0 0 0 0 0 0 0 0 0 0\n",
      " 0 0 0 0 0 0 0 0 0 0 0]\n",
      "Q_values : [-0.72650814 -0.7530761  -0.6585614  -0.8522753 ]\n",
      "episode : 282\n",
      "Step #100.00 (0ms ?*RT. ?UPS, TraCI: 0ms, vehicles TOT 33 ACT 0 BUF 0)                     \n",
      " Retrying in 1 seconds\n"
     ]
    },
    {
     "name": "stderr",
     "output_type": "stream",
     "text": [
      "Warning: Environment variable SUMO_HOME is not set properly, disabling XML validation. Set 'auto' or 'always' for web lookups.\n"
     ]
    },
    {
     "name": "stdout",
     "output_type": "stream",
     "text": [
      "state : [0 0 0 0 0 0 0 0 0 0 0 0 0 0 0 0 0 0 0 0 0 0 0 0 0 0 0 0 0 0 0 0 0 0 0 0 0\n",
      " 0 0 0 0 0 0 0 0 0 0 0]\n",
      "Q_values : [-0.73325956 -0.73045886 -0.6612456  -0.85375106]\n",
      "state : [0 0 0 0 0 0 0 0 0 0 0 0 0 0 0 0 0 0 0 0 0 0 0 0 1 1 1 3 3 1 0 0 0 0 0 0 0\n",
      " 0 0 0 0 0 0 0 0 0 0 0]\n",
      "Q_values : [-1.5795716 -1.4822036 -1.4450455 -1.7299937]\n",
      "state : [0 1 0 0 1 1 0 0 0 0 0 0 0 0 0 0 0 0 0 0 0 0 0 0 0 1 0 4 6 6 0 0 0 4 4 1 2\n",
      " 0 0 0 0 1 0 0 0 1 0 0]\n",
      "Q_values : [-3.4818132  -3.0001616  -0.88099325 -1.0545166 ]\n",
      "state : [0 1 0 0 0 4 0 0 0 0 0 0 0 0 0 0 0 0 0 0 0 0 0 0 0 1 0 0 1 6 0 0 0 4 4 4 5\n",
      " 0 0 0 0 0 0 0 0 0 5 0]\n",
      "Q_values : [-1.8320534  -1.3768008   0.46810028  2.4174654 ]\n",
      "state : [0 1 0 0 1 0 0 0 0 0 2 0 0 0 0 0 0 0 0 0 0 0 0 0 0 1 0 0 1 0 0 0 0 1 4 1 3\n",
      " 0 2 0 0 0 3 0 5 0 4 0]\n",
      "Q_values : [0.27875307 0.6590847  2.4723058  0.77326655]\n",
      "state : [0 1 0 0 0 0 0 0 0 0 0 1 0 0 0 0 0 0 0 0 0 0 0 0 0 1 0 0 0 0 0 0 0 0 0 1 0\n",
      " 0 3 0 4 0 3 0 6 0 1 0]\n",
      "Q_values : [0.8931428 1.0521898 0.5595612 1.5027156]\n",
      "state : [0 1 0 0 0 0 0 0 0 0 0 0 0 0 0 0 0 0 0 0 0 0 0 0 0 1 0 0 0 0 0 0 0 0 0 0 0\n",
      " 0 1 0 3 0 0 0 0 0 0 0]\n",
      "Q_values : [0.4179999  0.5878179  0.30097812 0.41089562]\n",
      "state : [0 1 0 0 0 0 0 0 0 0 0 0 0 0 0 0 0 0 0 0 0 0 0 0 0 1 0 0 0 0 0 0 0 0 0 0 0\n",
      " 0 0 0 0 0 0 0 0 0 0 0]\n",
      "Q_values : [0.36658213 0.52850395 0.2273134  0.18252072]\n",
      "state : [0 1 0 0 0 0 0 0 0 0 0 0 0 0 0 0 0 0 0 0 0 0 0 0 0 1 0 0 0 0 0 0 0 0 0 0 0\n",
      " 0 0 0 0 0 0 0 0 0 0 0]\n",
      "Q_values : [0.37309396 0.5252005  0.23162293 0.18207891]\n",
      "episode : 283\n",
      "Step #100.00 (0ms ?*RT. ?UPS, TraCI: 0ms, vehicles TOT 33 ACT 1 BUF 0)                     \n",
      " Retrying in 1 seconds\n"
     ]
    },
    {
     "name": "stderr",
     "output_type": "stream",
     "text": [
      "Warning: Environment variable SUMO_HOME is not set properly, disabling XML validation. Set 'auto' or 'always' for web lookups.\n"
     ]
    },
    {
     "name": "stdout",
     "output_type": "stream",
     "text": [
      "state : [0 0 0 0 0 0 0 0 0 0 0 0 0 0 0 0 0 0 0 0 0 0 0 0 0 0 0 0 0 0 0 0 0 0 0 0 0\n",
      " 0 0 0 0 0 0 0 0 0 0 0]\n",
      "Q_values : [-0.675073   -0.5994     -0.6228444  -0.65222555]\n",
      "state : [0 0 0 0 0 0 0 0 0 0 0 0 0 0 0 0 0 0 0 0 0 0 0 0 1 1 1 3 3 1 0 0 0 0 0 0 0\n",
      " 0 0 0 0 0 0 0 0 0 0 0]\n",
      "Q_values : [-1.4356388 -1.2870646 -1.3655759 -1.4255607]\n",
      "state : [0 0 0 0 0 0 0 0 0 0 0 0 0 0 0 0 0 0 0 0 0 0 0 0 0 1 1 6 7 4 0 0 0 0 0 0 0\n",
      " 0 0 0 0 0 0 0 0 0 0 0]\n",
      "Q_values : [-3.3091698 -3.0131721 -3.2090385 -3.3545432]\n",
      "state : [0 1 0 0 0 4 0 0 0 0 0 0 0 0 0 0 0 0 0 0 0 0 0 0 0 1 0 0 1 6 0 0 0 4 4 4 5\n",
      " 0 0 0 0 0 0 0 0 0 5 0]\n",
      "Q_values : [-2.533218  -2.0538943  0.2237033  2.0061316]\n",
      "state : [0 1 0 0 1 0 0 0 0 0 2 0 0 0 0 0 0 0 0 0 0 0 0 0 0 1 0 0 1 0 0 0 0 1 4 1 3\n",
      " 0 2 0 0 0 3 0 5 0 4 0]\n",
      "Q_values : [0.47069687 0.56061155 2.6159868  0.95039463]\n",
      "state : [0 0 0 0 0 0 0 0 0 0 0 1 0 0 0 0 0 0 0 0 0 0 0 0 0 0 0 0 0 0 0 0 0 0 0 1 0\n",
      " 0 0 0 3 0 0 1 0 0 0 0]\n",
      "Q_values : [ 0.2552573   0.17581753 -0.12993863  0.5143026 ]\n",
      "state : [0 0 0 0 0 0 0 0 0 0 0 0 0 0 0 0 0 0 0 0 0 0 0 0 0 0 0 0 0 0 0 0 0 0 0 0 0\n",
      " 0 1 0 0 0 0 0 0 0 0 0]\n",
      "Q_values : [-0.37324795 -0.5175298  -0.56019396 -0.50240207]\n",
      "episode : 284\n",
      "Step #100.00 (0ms ?*RT. ?UPS, TraCI: 0ms, vehicles TOT 33 ACT 0 BUF 0)                     \n",
      " Retrying in 1 seconds\n"
     ]
    },
    {
     "name": "stderr",
     "output_type": "stream",
     "text": [
      "Warning: Environment variable SUMO_HOME is not set properly, disabling XML validation. Set 'auto' or 'always' for web lookups.\n"
     ]
    },
    {
     "name": "stdout",
     "output_type": "stream",
     "text": [
      "state : [0 0 0 0 0 0 0 0 0 0 0 0 0 0 0 0 0 0 0 0 0 0 0 0 0 0 0 0 0 0 0 0 0 0 0 0 0\n",
      " 0 0 0 0 0 0 0 0 0 0 0]\n",
      "Q_values : [-0.42534783 -0.6192362  -0.6835607  -0.5983329 ]\n",
      "state : [0 0 0 0 0 0 0 0 0 0 0 0 0 0 0 0 0 0 0 0 0 0 0 0 1 1 1 3 3 1 0 0 0 0 0 0 0\n",
      " 0 0 0 0 0 0 0 0 0 0 0]\n",
      "Q_values : [-1.1976984 -1.384207  -1.5149677 -1.4960667]\n",
      "state : [0 0 0 0 0 0 0 0 0 0 0 0 0 0 0 0 0 0 0 0 0 0 0 0 0 0 1 6 7 4 0 0 0 0 0 0 0\n",
      " 0 0 0 0 0 0 0 0 0 0 0]\n",
      "Q_values : [-2.4890718 -2.682994  -2.8095891 -2.8566248]\n",
      "state : [0 0 1 0 1 1 0 0 0 0 0 0 0 0 0 0 0 0 0 0 0 0 0 0 0 0 1 4 6 6 0 0 0 4 4 1 2\n",
      " 0 0 0 0 0 0 1 0 1 0 0]\n",
      "Q_values : [-2.7559342 -2.8028574 -1.0685346 -0.9541387]\n",
      "state : [0 0 1 0 4 0 0 0 0 0 0 0 0 0 0 0 0 0 0 0 0 0 0 0 0 0 1 0 6 1 0 0 0 4 4 4 5\n",
      " 0 0 0 0 0 0 0 4 0 0 0]\n",
      "Q_values : [-0.4382045 -1.2464434  2.7131326  0.5255166]\n",
      "state : [0 0 1 0 0 1 0 0 0 0 0 1 0 0 0 0 0 0 0 0 0 0 0 0 0 0 1 0 0 1 0 0 0 1 1 4 3\n",
      " 0 0 0 2 0 3 0 5 0 6 0]\n",
      "Q_values : [ 0.04443157 -0.00242591 -0.23793304  1.442864  ]\n",
      "state : [0 0 1 0 0 0 0 0 0 0 1 0 0 0 0 0 0 0 0 0 0 0 0 0 0 0 1 0 0 0 0 0 0 0 1 0 0\n",
      " 0 4 0 2 0 3 0 1 0 5 0]\n",
      "Q_values : [1.1103433 0.984032  1.1556985 0.8633664]\n",
      "state : [0 0 1 0 0 0 0 0 0 0 0 0 0 0 0 0 0 0 0 0 0 0 0 0 0 0 1 0 0 0 0 0 0 0 0 0 0\n",
      " 0 3 0 1 0 0 0 0 0 0 0]\n",
      "Q_values : [0.659856   0.6279703  0.27953732 0.38280475]\n",
      "state : [0 0 1 0 0 0 0 0 0 0 0 0 0 0 0 0 0 0 0 0 0 0 0 0 0 0 1 0 0 0 0 0 0 0 0 0 0\n",
      " 0 0 0 0 0 0 0 0 0 0 0]\n",
      "Q_values : [0.5679606  0.5886295  0.19874316 0.2716568 ]\n",
      "episode : 285\n",
      "Step #100.00 (0ms ?*RT. ?UPS, TraCI: 0ms, vehicles TOT 33 ACT 0 BUF 0)                     \n",
      " Retrying in 1 seconds\n"
     ]
    },
    {
     "name": "stderr",
     "output_type": "stream",
     "text": [
      "Warning: Environment variable SUMO_HOME is not set properly, disabling XML validation. Set 'auto' or 'always' for web lookups.\n"
     ]
    },
    {
     "name": "stdout",
     "output_type": "stream",
     "text": [
      "state : [0 0 0 0 0 0 0 0 0 0 0 0 0 0 0 0 0 0 0 0 0 0 0 0 0 0 0 0 0 0 0 0 0 0 0 0 0\n",
      " 0 0 0 0 0 0 0 0 0 0 0]\n",
      "Q_values : [-0.6621258  -0.76403207 -0.623823   -0.65712965]\n",
      "state : [0 0 0 0 0 0 0 0 0 0 0 0 0 0 0 0 0 0 0 0 0 0 0 0 1 1 1 3 3 1 0 0 0 0 0 0 0\n",
      " 0 0 0 0 0 0 0 0 0 0 0]\n",
      "Q_values : [-1.6427628 -1.6387717 -1.4819301 -1.5486534]\n",
      "state : [0 0 0 0 0 0 0 0 0 0 0 0 0 0 0 0 0 0 0 0 0 0 0 0 0 1 1 6 7 4 0 0 0 0 0 0 0\n",
      " 0 0 0 0 0 0 0 0 0 0 0]\n",
      "Q_values : [-3.7799125 -3.5613823 -3.3344839 -3.4520154]\n",
      "state : [0 1 1 0 0 1 0 0 0 0 0 0 0 0 0 0 0 0 0 0 0 0 0 0 0 1 1 3 4 6 0 0 0 4 4 1 2\n",
      " 0 0 0 0 0 0 0 0 1 2 0]\n",
      "Q_values : [-2.632852  -2.2602017 -1.148686  -0.4598747]\n",
      "state : [0 1 1 0 2 0 0 0 0 0 0 0 0 0 0 0 0 0 0 0 0 0 0 0 0 1 1 0 4 1 0 0 0 4 4 4 5\n",
      " 0 0 0 0 0 0 0 4 0 1 0]\n",
      "Q_values : [-1.6602113  -1.7533178   1.0197141  -0.29090053]\n",
      "state : [0 1 1 0 0 1 0 0 0 0 0 1 0 0 0 0 0 0 0 0 0 0 0 0 0 1 1 0 0 1 0 0 0 1 1 4 3\n",
      " 0 0 0 2 0 3 0 5 0 4 0]\n",
      "Q_values : [0.03638849 0.32100356 0.06576109 2.023093  ]\n",
      "state : [0 1 1 0 0 0 0 0 0 0 1 0 0 0 0 0 0 0 0 0 0 0 0 0 0 1 1 0 0 0 0 0 0 0 1 0 0\n",
      " 0 4 0 2 0 3 0 1 0 2 0]\n",
      "Q_values : [1.2701244 1.4473029 1.459133  1.064573 ]\n",
      "state : [0 1 1 0 0 0 0 0 0 0 0 0 0 0 0 0 0 0 0 0 0 0 0 0 0 1 1 0 0 0 0 0 0 0 0 0 0\n",
      " 0 3 0 1 0 0 0 0 0 0 0]\n",
      "Q_values : [0.94178784 1.2001367  0.47016293 0.5899669 ]\n",
      "state : [0 1 0 0 0 0 0 0 0 0 0 0 0 0 0 0 0 0 0 0 0 0 0 0 0 1 0 0 0 0 0 0 0 0 0 0 0\n",
      " 0 0 0 0 1 0 0 0 0 0 0]\n",
      "Q_values : [0.39358315 0.41470015 0.250183   0.403634  ]\n",
      "state : [0 1 0 0 0 0 0 0 0 0 0 0 0 0 0 0 0 0 0 0 0 0 0 0 0 1 0 0 0 0 0 0 0 0 0 0 0\n",
      " 0 0 0 0 0 0 0 0 0 0 0]\n",
      "Q_values : [0.43110913 0.4986248  0.21584707 0.19154775]\n",
      "episode : 286\n",
      "Step #100.00 (0ms ?*RT. ?UPS, TraCI: 0ms, vehicles TOT 33 ACT 1 BUF 0)                     \n",
      " Retrying in 1 seconds\n"
     ]
    },
    {
     "name": "stderr",
     "output_type": "stream",
     "text": [
      "Warning: Environment variable SUMO_HOME is not set properly, disabling XML validation. Set 'auto' or 'always' for web lookups.\n"
     ]
    },
    {
     "name": "stdout",
     "output_type": "stream",
     "text": [
      "state : [0 0 0 0 0 0 0 0 0 0 0 0 0 0 0 0 0 0 0 0 0 0 0 0 0 0 0 0 0 0 0 0 0 0 0 0 0\n",
      " 0 0 0 0 0 0 0 0 0 0 0]\n",
      "Q_values : [-0.6482649 -0.5950717 -0.6216767 -0.605438 ]\n",
      "state : [0 0 0 0 0 0 0 0 0 0 0 0 0 0 0 0 0 0 0 0 0 0 0 0 1 1 1 3 3 1 0 0 0 0 0 0 0\n",
      " 0 0 0 0 0 0 0 0 0 0 0]\n",
      "Q_values : [-1.431694  -1.2738783 -1.3385372 -1.3632753]\n",
      "state : [0 0 0 0 0 0 0 0 0 0 0 0 0 0 0 0 0 0 0 0 0 0 0 0 0 1 1 6 7 4 0 0 0 0 0 0 0\n",
      " 0 0 0 0 0 0 0 0 0 0 0]\n",
      "Q_values : [-3.2459412 -2.898851  -3.0088325 -3.107059 ]\n",
      "state : [0 1 0 0 1 1 0 0 0 0 0 0 0 0 0 0 0 0 0 0 0 0 0 0 0 1 0 4 6 6 0 0 0 4 4 1 2\n",
      " 0 0 0 0 1 0 0 0 1 0 0]\n",
      "Q_values : [-3.3024461 -2.7017787 -0.8387083 -0.8437449]\n",
      "state : [0 1 0 0 0 4 0 0 0 0 0 0 0 0 0 0 0 0 0 0 0 0 0 0 0 1 0 0 1 6 0 0 0 4 4 4 5\n",
      " 0 0 0 0 0 0 0 0 0 5 0]\n",
      "Q_values : [-2.0563061  -1.3557789   0.15969153  2.1892254 ]\n",
      "state : [0 1 0 0 1 0 0 0 0 0 2 0 0 0 0 0 0 0 0 0 0 0 0 0 0 1 0 0 1 0 0 0 0 1 4 1 3\n",
      " 0 2 0 0 0 3 0 5 0 4 0]\n",
      "Q_values : [0.40501857 0.6096663  2.4619951  0.6845889 ]\n",
      "state : [0 1 0 0 0 0 0 0 0 0 0 1 0 0 0 0 0 0 0 0 0 0 0 0 0 1 0 0 0 0 0 0 0 0 0 1 0\n",
      " 0 3 0 4 0 3 0 6 0 1 0]\n",
      "Q_values : [1.0117807 1.1636028 0.6918307 1.5283282]\n",
      "state : [0 1 0 0 0 0 0 0 0 0 0 0 0 0 0 0 0 0 0 0 0 0 0 0 0 1 0 0 0 0 0 0 0 0 0 0 0\n",
      " 0 1 0 3 0 0 0 0 0 0 0]\n",
      "Q_values : [0.5687825  0.6828755  0.27236617 0.41781908]\n",
      "state : [0 1 0 0 0 0 0 0 0 0 0 0 0 0 0 0 0 0 0 0 0 0 0 0 0 1 0 0 0 0 0 0 0 0 0 0 0\n",
      " 0 0 0 0 0 0 0 0 0 0 0]\n",
      "Q_values : [0.5362692  0.5979022  0.20652124 0.20244563]\n",
      "episode : 287\n",
      "Step #100.00 (0ms ?*RT. ?UPS, TraCI: 0ms, vehicles TOT 33 ACT 1 BUF 0)                     \n",
      " Retrying in 1 seconds\n"
     ]
    },
    {
     "name": "stderr",
     "output_type": "stream",
     "text": [
      "Warning: Environment variable SUMO_HOME is not set properly, disabling XML validation. Set 'auto' or 'always' for web lookups.\n"
     ]
    },
    {
     "name": "stdout",
     "output_type": "stream",
     "text": [
      "state : [0 0 0 0 0 0 0 0 0 0 0 0 0 0 0 0 0 0 0 0 0 0 0 0 0 0 0 0 0 0 0 0 0 0 0 0 0\n",
      " 0 0 0 0 0 0 0 0 0 0 0]\n",
      "Q_values : [-0.5719403  -0.61629933 -0.69329655 -0.6821486 ]\n",
      "state : [0 0 0 0 0 0 0 0 0 0 0 0 0 0 0 0 0 0 0 0 0 0 0 0 1 1 1 3 3 1 0 0 0 0 0 0 0\n",
      " 0 0 0 0 0 0 0 0 0 0 0]\n",
      "Q_values : [-1.4599863 -1.4630439 -1.5521204 -1.6657456]\n",
      "state : [0 0 0 0 0 0 0 0 0 0 0 0 0 0 0 0 0 0 0 0 0 0 0 0 0 0 1 6 7 4 0 0 0 0 0 0 0\n",
      " 0 0 0 0 0 0 0 0 0 0 0]\n",
      "Q_values : [-3.0837145 -2.9210548 -2.6947095 -2.658583 ]\n",
      "state : [0 0 1 0 1 0 0 0 0 0 0 0 0 0 0 0 0 0 0 0 0 0 0 0 0 0 1 4 6 4 0 0 0 4 4 1 2\n",
      " 0 0 0 0 0 0 1 1 1 0 0]\n",
      "Q_values : [-2.8956707  -2.5106788  -0.94712996 -1.284656  ]\n",
      "state : [0 0 1 0 0 2 0 0 0 0 0 0 0 0 0 0 0 0 0 0 0 0 0 0 0 0 1 0 0 4 0 0 0 4 4 4 5\n",
      " 0 0 0 0 0 0 0 2 0 5 0]\n",
      "Q_values : [-1.976293   -1.6197565  -0.7369311   0.30801898]\n",
      "state : [0 0 1 0 0 0 0 0 0 0 2 0 0 0 0 0 0 0 0 0 0 0 0 0 0 0 1 0 0 0 0 0 0 1 4 1 3\n",
      " 0 2 0 0 0 3 0 4 0 5 0]\n",
      "Q_values : [0.34140462 0.28480506 1.5154451  0.2755319 ]\n",
      "state : [0 0 1 0 0 0 0 0 0 0 0 1 0 0 0 0 0 0 0 0 0 0 0 0 0 0 1 0 0 0 0 0 0 0 0 1 0\n",
      " 0 3 0 4 0 3 0 3 0 0 0]\n",
      "Q_values : [1.1701756  1.1337912  0.64148396 1.3637669 ]\n",
      "state : [0 0 1 0 0 0 0 0 0 0 0 0 0 0 0 0 0 0 0 0 0 0 0 0 0 0 1 0 0 0 0 0 0 0 0 0 0\n",
      " 0 1 0 3 0 0 0 0 0 0 0]\n",
      "Q_values : [0.7698242  0.80215174 0.18376547 0.30424055]\n",
      "state : [0 0 0 0 0 0 0 0 0 0 0 0 0 0 0 0 0 0 0 0 0 0 0 0 0 0 0 0 0 0 0 0 0 0 0 0 0\n",
      " 0 0 0 0 1 0 0 0 0 0 0]\n",
      "Q_values : [-0.01491669 -0.19918552 -0.30293465 -0.29182762]\n",
      "state : [0 0 0 0 0 0 0 0 0 0 0 0 0 0 0 0 0 0 0 0 0 0 0 0 0 0 0 0 0 0 0 0 0 0 0 0 0\n",
      " 0 0 0 0 0 0 0 0 0 0 0]\n",
      "Q_values : [-0.52052116 -0.7136734  -0.7863438  -0.74977916]\n",
      "episode : 288\n",
      "Step #100.00 (0ms ?*RT. ?UPS, TraCI: 1ms, vehicles TOT 33 ACT 0 BUF 0)                     \n",
      " Retrying in 1 seconds\n"
     ]
    },
    {
     "name": "stderr",
     "output_type": "stream",
     "text": [
      "Warning: Environment variable SUMO_HOME is not set properly, disabling XML validation. Set 'auto' or 'always' for web lookups.\n"
     ]
    },
    {
     "name": "stdout",
     "output_type": "stream",
     "text": [
      "state : [0 0 0 0 0 0 0 0 0 0 0 0 0 0 0 0 0 0 0 0 0 0 0 0 0 0 0 0 0 0 0 0 0 0 0 0 0\n",
      " 0 0 0 0 0 0 0 0 0 0 0]\n",
      "Q_values : [-0.54263884 -0.73117214 -0.78404605 -0.7385353 ]\n",
      "state : [0 0 0 0 0 0 0 0 0 0 0 0 0 0 0 0 0 0 0 0 0 0 0 0 1 1 1 3 3 1 0 0 0 0 0 0 0\n",
      " 0 0 0 0 0 0 0 0 0 0 0]\n",
      "Q_values : [-1.4637254 -1.6062737 -1.6561772 -1.6324017]\n",
      "state : [0 0 0 0 0 0 0 0 0 0 0 0 0 0 0 0 0 0 0 0 0 0 0 0 0 0 1 6 7 4 0 0 0 0 0 0 0\n",
      " 0 0 0 0 0 0 0 0 0 0 0]\n",
      "Q_values : [-3.2213447 -3.2008653 -2.8945243 -2.626399 ]\n",
      "state : [0 0 1 0 1 0 0 0 0 0 0 0 0 0 0 0 0 0 0 0 0 0 0 0 0 0 1 4 6 4 0 0 0 4 4 1 2\n",
      " 0 0 0 0 0 0 1 1 1 0 0]\n",
      "Q_values : [-3.221044  -3.0270562 -1.5059148 -1.4196149]\n",
      "state : [0 0 1 0 4 0 0 0 0 0 0 0 0 0 0 0 0 0 0 0 0 0 0 0 0 0 1 0 6 0 0 0 0 4 4 4 5\n",
      " 0 0 0 0 0 0 0 5 0 0 0]\n",
      "Q_values : [-1.1774974  -1.3927453   2.684467    0.34658962]\n",
      "state : [0 0 1 0 0 0 0 0 0 0 0 1 0 0 0 0 0 0 0 0 0 0 0 0 0 0 1 0 0 0 0 0 0 1 1 4 3\n",
      " 0 0 0 2 0 3 0 3 0 6 0]\n",
      "Q_values : [-0.538236   -0.601228   -0.61091495  0.3956809 ]\n",
      "state : [0 0 1 0 0 0 0 0 0 0 1 0 0 0 0 0 0 0 0 0 0 0 0 0 0 0 1 0 0 0 0 0 0 0 1 0 0\n",
      " 0 4 0 2 0 3 0 0 0 5 0]\n",
      "Q_values : [0.96189344 0.90668076 1.1884773  0.73866665]\n",
      "state : [0 0 1 0 0 0 0 0 0 0 0 0 0 0 0 0 0 0 0 0 0 0 0 0 0 0 1 0 0 0 0 0 0 0 0 0 0\n",
      " 0 3 0 1 0 0 0 0 0 0 0]\n",
      "Q_values : [0.6740972 0.652261  0.2908801 0.3176089]\n",
      "state : [0 0 1 0 0 0 0 0 0 0 0 0 0 0 0 0 0 0 0 0 0 0 0 0 0 0 1 0 0 0 0 0 0 0 0 0 0\n",
      " 0 0 0 0 0 0 0 0 0 0 0]\n",
      "Q_values : [0.68082947 0.68137527 0.2300589  0.24758425]\n",
      "state : [0 0 0 0 0 0 0 0 0 0 0 0 0 0 0 0 0 0 0 0 0 0 0 0 0 0 0 0 0 0 0 0 0 0 0 0 0\n",
      " 0 0 0 0 1 0 0 0 0 0 0]\n",
      "Q_values : [ 0.00997847 -0.10916267 -0.09232114 -0.17044291]\n",
      "episode : 289\n",
      "Step #100.00 (0ms ?*RT. ?UPS, TraCI: 0ms, vehicles TOT 33 ACT 0 BUF 0)                     \n",
      " Retrying in 1 seconds\n"
     ]
    },
    {
     "name": "stderr",
     "output_type": "stream",
     "text": [
      "Warning: Environment variable SUMO_HOME is not set properly, disabling XML validation. Set 'auto' or 'always' for web lookups.\n"
     ]
    },
    {
     "name": "stdout",
     "output_type": "stream",
     "text": [
      "state : [0 0 0 0 0 0 0 0 0 0 0 0 0 0 0 0 0 0 0 0 0 0 0 0 0 0 0 0 0 0 0 0 0 0 0 0 0\n",
      " 0 0 0 0 0 0 0 0 0 0 0]\n",
      "Q_values : [-0.6441301 -0.6919601 -0.6304308 -0.7361357]\n",
      "state : [0 0 0 0 0 0 0 0 0 0 0 0 0 0 0 0 0 0 0 0 0 0 0 0 1 1 1 3 3 1 0 0 0 0 0 0 0\n",
      " 0 0 0 0 0 0 0 0 0 0 0]\n",
      "Q_values : [-1.5220402 -1.4184234 -1.389262  -1.5632031]\n",
      "state : [0 0 0 0 0 0 0 0 0 0 0 0 0 0 0 0 0 0 0 0 0 0 0 0 0 1 1 6 7 4 0 0 0 0 0 0 0\n",
      " 0 0 0 0 0 0 0 0 0 0 0]\n",
      "Q_values : [-3.535794  -3.1133068 -3.132608  -3.4224527]\n",
      "state : [0 1 0 0 1 1 0 0 0 0 0 0 0 0 0 0 0 0 0 0 0 0 0 0 0 1 0 4 6 6 0 0 0 4 4 1 2\n",
      " 0 0 0 0 1 0 0 0 1 0 0]\n",
      "Q_values : [-3.5275114 -2.7626748 -1.0057414 -0.7894797]\n",
      "state : [0 1 0 0 4 0 0 0 0 0 0 0 0 0 0 0 0 0 0 0 0 0 0 0 0 1 0 0 6 1 0 0 0 4 4 4 5\n",
      " 0 0 0 0 0 0 0 4 0 0 0]\n",
      "Q_values : [-1.2144653  -1.332008    2.606552    0.18103477]\n",
      "state : [0 1 0 0 0 1 0 0 0 0 0 1 0 0 0 0 0 0 0 0 0 0 0 0 0 1 0 0 0 1 0 0 0 1 1 4 3\n",
      " 0 0 0 2 0 3 0 5 0 6 0]\n",
      "Q_values : [-0.33625746 -0.19818315 -0.35438687  1.4159476 ]\n",
      "state : [0 1 0 0 0 0 0 0 0 0 1 0 0 0 0 0 0 0 0 0 0 0 0 0 0 1 0 0 0 0 0 0 0 0 1 0 0\n",
      " 0 4 0 2 0 3 0 1 0 5 0]\n",
      "Q_values : [0.90158224 0.73246557 1.0669737  0.59222484]\n",
      "state : [0 1 0 0 0 0 0 0 0 0 0 0 0 0 0 0 0 0 0 0 0 0 0 0 0 1 0 0 0 0 0 0 0 0 0 0 0\n",
      " 0 3 0 1 0 0 0 0 0 0 0]\n",
      "Q_values : [0.6084724  0.47788948 0.22976136 0.2226229 ]\n",
      "state : [0 0 0 0 0 0 0 0 0 0 0 0 0 0 0 0 0 0 0 0 0 0 0 0 0 0 0 0 0 0 0 0 0 0 0 0 0\n",
      " 0 0 0 0 0 0 1 0 0 0 0]\n",
      "Q_values : [-0.36461493 -0.49473956 -0.4532556  -0.5326164 ]\n",
      "state : [0 0 0 0 0 0 0 0 0 0 0 0 0 0 0 0 0 0 0 0 0 0 0 0 0 0 0 0 0 0 0 0 0 0 0 0 0\n",
      " 0 0 0 0 0 0 0 0 0 0 0]\n",
      "Q_values : [-0.65108526 -0.79637766 -0.69429606 -0.77043825]\n",
      "episode : 290\n",
      "Step #100.00 (0ms ?*RT. ?UPS, TraCI: 0ms, vehicles TOT 33 ACT 0 BUF 0)                     \n",
      " Retrying in 1 seconds\n"
     ]
    },
    {
     "name": "stderr",
     "output_type": "stream",
     "text": [
      "Warning: Environment variable SUMO_HOME is not set properly, disabling XML validation. Set 'auto' or 'always' for web lookups.\n"
     ]
    },
    {
     "name": "stdout",
     "output_type": "stream",
     "text": [
      "state : [0 0 0 0 0 0 0 0 0 0 0 0 0 0 0 0 0 0 0 0 0 0 0 0 0 0 0 0 0 0 0 0 0 0 0 0 0\n",
      " 0 0 0 0 0 0 0 0 0 0 0]\n",
      "Q_values : [-0.6346127 -0.7965756 -0.6685313 -0.7533909]\n",
      "state : [0 0 0 0 0 0 0 0 0 0 0 0 0 0 0 0 0 0 0 0 0 0 0 0 1 1 1 3 3 1 0 0 0 0 0 0 0\n",
      " 0 0 0 0 0 0 0 0 0 0 0]\n",
      "Q_values : [-1.5599802 -1.6756314 -1.4712743 -1.6665246]\n",
      "state : [0 0 0 0 0 0 0 0 0 0 0 0 0 0 0 0 0 0 0 0 0 0 0 0 0 1 1 6 7 4 0 0 0 0 0 0 0\n",
      " 0 0 0 0 0 0 0 0 0 0 0]\n",
      "Q_values : [-3.5016944 -3.544492  -3.1636004 -3.5445354]\n",
      "state : [0 1 1 0 0 1 0 0 0 0 0 0 0 0 0 0 0 0 0 0 0 0 0 0 0 1 1 3 4 6 0 0 0 4 4 1 2\n",
      " 0 0 0 0 0 0 0 0 1 2 0]\n",
      "Q_values : [-2.3314493  -2.112248   -0.91021967 -0.2877701 ]\n",
      "state : [0 1 1 0 2 0 0 0 0 0 0 0 0 0 0 0 0 0 0 0 0 0 0 0 0 1 1 0 4 1 0 0 0 4 4 4 5\n",
      " 0 0 0 0 0 0 0 4 0 1 0]\n",
      "Q_values : [-1.2783163 -1.6866243  1.2268586 -0.7076768]\n",
      "state : [0 1 1 0 0 1 0 0 0 0 0 1 0 0 0 0 0 0 0 0 0 0 0 0 0 1 1 0 0 1 0 0 0 1 1 4 3\n",
      " 0 0 0 2 0 3 0 5 0 4 0]\n",
      "Q_values : [0.3917626  0.37130395 0.3212163  1.929651  ]\n",
      "state : [0 1 1 0 0 0 0 0 0 0 1 0 0 0 0 0 0 0 0 0 0 0 0 0 0 1 1 0 0 0 0 0 0 0 1 0 0\n",
      " 0 4 0 2 0 3 0 1 0 2 0]\n",
      "Q_values : [1.593671  1.5891565 1.6132472 1.076776 ]\n",
      "state : [0 1 1 0 0 0 0 0 0 0 0 0 0 0 0 0 0 0 0 0 0 0 0 0 0 1 1 0 0 0 0 0 0 0 0 0 0\n",
      " 0 3 0 1 0 0 0 0 0 0 0]\n",
      "Q_values : [1.341012   1.4189639  0.78478026 0.763699  ]\n",
      "state : [0 1 0 0 0 0 0 0 0 0 0 0 0 0 0 0 0 0 0 0 0 0 0 0 0 1 0 0 0 0 0 0 0 0 0 0 0\n",
      " 0 0 0 0 1 0 0 0 0 0 0]\n",
      "Q_values : [0.48586577 0.41186833 0.26241583 0.3474087 ]\n",
      "state : [0 0 0 0 0 0 0 0 0 0 0 0 0 0 0 0 0 0 0 0 0 0 0 0 0 0 0 0 0 0 0 0 0 0 0 0 0\n",
      " 0 0 0 0 0 0 1 0 0 0 0]\n",
      "Q_values : [-0.30885765 -0.33661258 -0.38517165 -0.44533697]\n",
      "episode : 291\n",
      "Step #100.00 (0ms ?*RT. ?UPS, TraCI: 0ms, vehicles TOT 33 ACT 0 BUF 0)                     \n",
      " Retrying in 1 seconds\n"
     ]
    },
    {
     "name": "stderr",
     "output_type": "stream",
     "text": [
      "Warning: Environment variable SUMO_HOME is not set properly, disabling XML validation. Set 'auto' or 'always' for web lookups.\n"
     ]
    },
    {
     "name": "stdout",
     "output_type": "stream",
     "text": [
      "state : [0 0 0 0 0 0 0 0 0 0 0 0 0 0 0 0 0 0 0 0 0 0 0 0 0 0 0 0 0 0 0 0 0 0 0 0 0\n",
      " 0 0 0 0 0 0 0 0 0 0 0]\n",
      "Q_values : [-0.6414087  -0.64739454 -0.70707524 -0.7294156 ]\n",
      "state : [0 0 0 0 0 0 0 0 0 0 0 0 0 0 0 0 0 0 0 0 0 0 0 0 1 1 1 3 3 1 0 0 0 0 0 0 0\n",
      " 0 0 0 0 0 0 0 0 0 0 0]\n",
      "Q_values : [-1.4864769 -1.3660594 -1.539865  -1.5583688]\n",
      "state : [0 0 0 0 0 0 0 0 0 0 0 0 0 0 0 0 0 0 0 0 0 0 0 0 0 1 1 6 7 4 0 0 0 0 0 0 0\n",
      " 0 0 0 0 0 0 0 0 0 0 0]\n",
      "Q_values : [-3.410033  -3.058654  -3.3949108 -3.4312828]\n",
      "state : [0 1 0 0 1 1 0 0 0 0 0 0 0 0 0 0 0 0 0 0 0 0 0 0 0 1 0 4 6 6 0 0 0 4 4 1 2\n",
      " 0 0 0 0 1 0 0 0 1 0 0]\n",
      "Q_values : [-3.5769129 -2.8123097 -1.1318676 -0.745808 ]\n",
      "state : [0 1 0 0 4 0 0 0 0 0 0 0 0 0 0 0 0 0 0 0 0 0 0 0 0 1 0 0 6 1 0 0 0 4 4 4 5\n",
      " 0 0 0 0 0 0 0 4 0 0 0]\n",
      "Q_values : [-1.3548044  -1.2559724   2.583519    0.07337539]\n",
      "state : [0 1 0 0 0 1 0 0 0 0 0 1 0 0 0 0 0 0 0 0 0 0 0 0 0 1 0 0 0 1 0 0 0 1 1 4 3\n",
      " 0 0 0 2 0 3 0 5 0 6 0]\n",
      "Q_values : [-0.27074766  0.11668395 -0.17910068  1.8593612 ]\n",
      "state : [0 1 0 0 0 0 0 0 0 0 1 0 0 0 0 0 0 0 0 0 0 0 0 0 0 1 0 0 0 0 0 0 0 0 1 0 0\n",
      " 0 4 0 2 0 3 0 1 0 5 0]\n",
      "Q_values : [0.87709403 0.93878746 1.2605261  0.7762008 ]\n",
      "state : [0 1 0 0 0 0 0 0 0 0 0 0 0 0 0 0 0 0 0 0 0 0 0 0 0 1 0 0 0 0 0 0 0 0 0 0 0\n",
      " 0 3 0 1 0 0 0 0 0 0 0]\n",
      "Q_values : [0.5340375  0.597598   0.2598072  0.33835497]\n",
      "state : [0 1 0 0 0 0 0 0 0 0 0 0 0 0 0 0 0 0 0 0 0 0 0 0 0 1 0 0 0 0 0 0 0 0 0 0 0\n",
      " 0 0 0 0 0 0 0 0 0 0 0]\n",
      "Q_values : [0.52479523 0.5481792  0.24562106 0.25524068]\n",
      "state : [0 1 0 0 0 0 0 0 0 0 0 0 0 0 0 0 0 0 0 0 0 0 0 0 0 1 0 0 0 0 0 0 0 0 0 0 0\n",
      " 0 0 0 0 0 0 0 0 0 0 0]\n",
      "Q_values : [0.5146219  0.53225625 0.24798489 0.24985152]\n",
      "episode : 292\n",
      "Step #100.00 (0ms ?*RT. ?UPS, TraCI: 0ms, vehicles TOT 33 ACT 1 BUF 0)                     \n",
      " Retrying in 1 seconds\n"
     ]
    },
    {
     "name": "stderr",
     "output_type": "stream",
     "text": [
      "Warning: Environment variable SUMO_HOME is not set properly, disabling XML validation. Set 'auto' or 'always' for web lookups.\n"
     ]
    },
    {
     "name": "stdout",
     "output_type": "stream",
     "text": [
      "state : [0 0 0 0 0 0 0 0 0 0 0 0 0 0 0 0 0 0 0 0 0 0 0 0 0 0 0 0 0 0 0 0 0 0 0 0 0\n",
      " 0 0 0 0 0 0 0 0 0 0 0]\n",
      "Q_values : [-0.69445133 -0.68124485 -0.6356748  -0.71816987]\n",
      "state : [0 0 0 0 0 0 0 0 0 0 0 0 0 0 0 0 0 0 0 0 0 0 0 0 1 1 1 3 3 1 0 0 0 0 0 0 0\n",
      " 0 0 0 0 0 0 0 0 0 0 0]\n",
      "Q_values : [-1.5240912 -1.4402292 -1.3991939 -1.5444736]\n",
      "state : [0 0 0 0 0 0 0 0 0 0 0 0 0 0 0 0 0 0 0 0 0 0 0 0 0 1 1 6 7 4 0 0 0 0 0 0 0\n",
      " 0 0 0 0 0 0 0 0 0 0 0]\n",
      "Q_values : [-3.380617  -3.1739547 -3.0935452 -3.303284 ]\n",
      "state : [0 1 1 0 0 1 0 0 0 0 0 0 0 0 0 0 0 0 0 0 0 0 0 0 0 1 1 3 4 6 0 0 0 4 4 1 2\n",
      " 0 0 0 0 0 0 0 0 1 2 0]\n",
      "Q_values : [-2.5656483  -2.0185955  -1.1557066  -0.26941842]\n",
      "state : [0 1 1 0 2 0 0 0 0 0 0 0 0 0 0 0 0 0 0 0 0 0 0 0 0 1 1 0 4 1 0 0 0 4 4 4 5\n",
      " 0 0 0 0 0 0 0 4 0 1 0]\n",
      "Q_values : [-1.5482935  -1.588778    1.1293278  -0.38376793]\n",
      "state : [0 1 1 0 0 1 0 0 0 0 0 1 0 0 0 0 0 0 0 0 0 0 0 0 0 1 1 0 0 1 0 0 0 1 1 4 3\n",
      " 0 0 0 2 0 3 0 5 0 4 0]\n",
      "Q_values : [ 0.05162573  0.1657822  -0.08480123  1.980728  ]\n",
      "state : [0 1 1 0 0 0 0 0 0 0 1 0 0 0 0 0 0 0 0 0 0 0 0 0 0 1 1 0 0 0 0 0 0 0 1 0 0\n",
      " 0 4 0 2 0 3 0 1 0 2 0]\n",
      "Q_values : [1.3965751 1.4991722 1.3994231 1.1767511]\n",
      "state : [0 1 0 0 0 0 0 0 0 0 1 0 0 0 0 0 0 0 0 0 0 0 0 0 0 1 0 0 0 0 0 0 0 0 1 0 0\n",
      " 0 3 0 0 1 0 0 0 0 0 0]\n",
      "Q_values : [0.81817997 0.73092115 1.179272   0.71391255]\n",
      "state : [0 1 0 0 0 0 0 0 0 0 0 0 0 0 0 0 0 0 0 0 0 0 0 0 0 1 0 0 0 0 0 0 0 0 0 0 0\n",
      " 0 0 0 1 0 0 0 0 0 0 0]\n",
      "Q_values : [0.46171117 0.40448973 0.18755509 0.24088632]\n",
      "state : [0 0 0 0 0 0 0 0 0 0 0 0 0 0 0 0 0 0 0 0 0 0 0 0 0 0 0 0 0 0 0 0 0 0 0 0 0\n",
      " 0 0 0 0 0 0 1 0 0 0 0]\n",
      "Q_values : [-0.3405305  -0.45028526 -0.4401074  -0.38924974]\n",
      "episode : 293\n",
      "Step #100.00 (0ms ?*RT. ?UPS, TraCI: 0ms, vehicles TOT 33 ACT 0 BUF 0)                     \n",
      " Retrying in 1 seconds\n"
     ]
    },
    {
     "name": "stderr",
     "output_type": "stream",
     "text": [
      "Warning: Environment variable SUMO_HOME is not set properly, disabling XML validation. Set 'auto' or 'always' for web lookups.\n"
     ]
    },
    {
     "name": "stdout",
     "output_type": "stream",
     "text": [
      "state : [0 0 0 0 0 0 0 0 0 0 0 0 0 0 0 0 0 0 0 0 0 0 0 0 0 0 0 0 0 0 0 0 0 0 0 0 0\n",
      " 0 0 0 0 0 0 0 0 0 0 0]\n",
      "Q_values : [-0.6651587  -0.81323844 -0.75550526 -0.7146167 ]\n",
      "state : [0 0 0 0 0 0 0 0 0 0 0 0 0 0 0 0 0 0 0 0 0 0 0 0 1 1 1 3 3 1 0 0 0 0 0 0 0\n",
      " 0 0 0 0 0 0 0 0 0 0 0]\n",
      "Q_values : [-1.4762243 -1.6290863 -1.5744427 -1.5853547]\n",
      "state : [0 0 0 0 0 0 0 0 0 0 0 0 0 0 0 0 0 0 0 0 0 0 0 0 0 0 1 6 7 4 0 0 0 0 0 0 0\n",
      " 0 0 0 0 0 0 0 0 0 0 0]\n",
      "Q_values : [-2.908276 -2.96998  -2.632685 -2.499452]\n",
      "state : [0 0 1 0 1 0 0 0 0 0 0 0 0 0 0 0 0 0 0 0 0 0 0 0 0 0 1 4 6 4 0 0 0 4 4 1 2\n",
      " 0 0 0 0 0 0 1 1 1 0 0]\n",
      "Q_values : [-2.96359   -2.9063778 -1.3081713 -1.3937728]\n",
      "state : [0 0 1 0 0 2 0 0 0 0 0 0 0 0 0 0 0 0 0 0 0 0 0 0 0 0 1 0 0 4 0 0 0 4 4 4 5\n",
      " 0 0 0 0 0 0 0 2 0 5 0]\n",
      "Q_values : [-2.2464924  -2.172947   -1.157752    0.07460485]\n",
      "state : [0 0 1 0 0 0 0 0 0 0 2 0 0 0 0 0 0 0 0 0 0 0 0 0 0 0 1 0 0 0 0 0 0 1 4 1 3\n",
      " 0 2 0 0 0 3 0 4 0 5 0]\n",
      "Q_values : [ 0.27306953 -0.01742395  1.3156075   0.10637883]\n",
      "state : [0 0 1 0 0 0 0 0 0 0 0 1 0 0 0 0 0 0 0 0 0 0 0 0 0 0 1 0 0 0 0 0 0 0 0 1 0\n",
      " 0 3 0 4 0 3 0 3 0 0 0]\n",
      "Q_values : [0.8878846  0.77416    0.45108587 1.1518657 ]\n",
      "state : [0 0 1 0 0 0 0 0 0 0 0 0 0 0 0 0 0 0 0 0 0 0 0 0 0 0 1 0 0 0 0 0 0 0 0 0 0\n",
      " 0 1 0 3 0 0 0 0 0 0 0]\n",
      "Q_values : [0.6518619  0.71072966 0.223933   0.3184659 ]\n",
      "state : [0 0 0 0 0 0 0 0 0 0 0 0 0 0 0 0 0 0 0 0 0 0 0 0 0 0 0 0 0 0 0 0 0 0 0 0 0\n",
      " 0 0 0 0 1 0 0 0 0 0 0]\n",
      "Q_values : [-0.33394036 -0.48352    -0.41805306 -0.46333313]\n",
      "state : [0 0 0 0 0 0 0 0 0 0 0 0 0 0 0 0 0 0 0 0 0 0 0 0 0 0 0 0 0 0 0 0 0 0 0 0 0\n",
      " 0 0 0 0 0 0 0 0 0 0 0]\n",
      "Q_values : [-0.63337564 -0.7863589  -0.6831119  -0.7452528 ]\n",
      "episode : 294\n",
      "Step #100.00 (0ms ?*RT. ?UPS, TraCI: 0ms, vehicles TOT 33 ACT 0 BUF 0)                     \n",
      " Retrying in 1 seconds\n"
     ]
    },
    {
     "name": "stderr",
     "output_type": "stream",
     "text": [
      "Warning: Environment variable SUMO_HOME is not set properly, disabling XML validation. Set 'auto' or 'always' for web lookups.\n"
     ]
    },
    {
     "name": "stdout",
     "output_type": "stream",
     "text": [
      "state : [0 0 0 0 0 0 0 0 0 0 0 0 0 0 0 0 0 0 0 0 0 0 0 0 0 0 0 0 0 0 0 0 0 0 0 0 0\n",
      " 0 0 0 0 0 0 0 0 0 0 0]\n",
      "Q_values : [-0.6333605  -0.772122   -0.66759074 -0.7398742 ]\n",
      "state : [0 0 0 0 0 0 0 0 0 0 0 0 0 0 0 0 0 0 0 0 0 0 0 0 1 1 1 3 3 1 0 0 0 0 0 0 0\n",
      " 0 0 0 0 0 0 0 0 0 0 0]\n",
      "Q_values : [-1.4758344 -1.5594916 -1.4659417 -1.646508 ]\n",
      "state : [0 0 0 0 0 0 0 0 0 0 0 0 0 0 0 0 0 0 0 0 0 0 0 0 0 1 1 6 7 4 0 0 0 0 0 0 0\n",
      " 0 0 0 0 0 0 0 0 0 0 0]\n",
      "Q_values : [-3.270423  -3.2604744 -3.1265404 -3.5092452]\n",
      "state : [0 1 1 0 0 1 0 0 0 0 0 0 0 0 0 0 0 0 0 0 0 0 0 0 0 1 1 3 4 6 0 0 0 4 4 1 2\n",
      " 0 0 0 0 0 0 0 0 1 2 0]\n",
      "Q_values : [-2.4054735 -2.0149539 -1.073045  -0.3977217]\n",
      "state : [0 1 1 0 2 0 0 0 0 0 0 0 0 0 0 0 0 0 0 0 0 0 0 0 0 1 1 0 4 1 0 0 0 4 4 4 5\n",
      " 0 0 0 0 0 0 0 4 0 1 0]\n",
      "Q_values : [-1.2616742 -1.4178619  1.1073315 -0.733378 ]\n",
      "state : [0 1 1 0 0 1 0 0 0 0 0 1 0 0 0 0 0 0 0 0 0 0 0 0 0 1 1 0 0 1 0 0 0 1 1 4 3\n",
      " 0 0 0 2 0 3 0 5 0 4 0]\n",
      "Q_values : [0.15931252 0.19173327 0.13270363 1.883233  ]\n",
      "state : [0 1 1 0 0 0 0 0 0 0 1 0 0 0 0 0 0 0 0 0 0 0 0 0 0 1 1 0 0 0 0 0 0 0 1 0 0\n",
      " 0 4 0 2 0 3 0 1 0 2 0]\n",
      "Q_values : [1.5376053 1.6959512 1.5626296 1.1041355]\n",
      "state : [0 1 0 0 0 0 0 0 0 0 1 0 0 0 0 0 0 0 0 0 0 0 0 0 0 1 0 0 0 0 0 0 0 0 1 0 0\n",
      " 0 3 0 0 1 0 0 0 0 0 0]\n",
      "Q_values : [0.85502726 0.78716034 1.2461312  0.6468607 ]\n",
      "state : [0 1 0 0 0 0 0 0 0 0 0 0 0 0 0 0 0 0 0 0 0 0 0 0 0 1 0 0 0 0 0 0 0 0 0 0 0\n",
      " 0 0 0 1 0 0 0 0 0 0 0]\n",
      "Q_values : [0.47749633 0.41772568 0.228324   0.18933709]\n",
      "state : [0 0 0 0 0 0 0 0 0 0 0 0 0 0 0 0 0 0 0 0 0 0 0 0 0 0 0 0 0 0 0 0 0 0 0 0 0\n",
      " 0 0 0 0 0 0 1 0 0 0 0]\n",
      "Q_values : [-0.2950372  -0.39244726 -0.36466986 -0.41492534]\n",
      "episode : 295\n",
      "Step #100.00 (0ms ?*RT. ?UPS, TraCI: 0ms, vehicles TOT 33 ACT 0 BUF 0)                     \n",
      " Retrying in 1 seconds\n"
     ]
    },
    {
     "name": "stderr",
     "output_type": "stream",
     "text": [
      "Warning: Environment variable SUMO_HOME is not set properly, disabling XML validation. Set 'auto' or 'always' for web lookups.\n"
     ]
    },
    {
     "name": "stdout",
     "output_type": "stream",
     "text": [
      "state : [0 0 0 0 0 0 0 0 0 0 0 0 0 0 0 0 0 0 0 0 0 0 0 0 0 0 0 0 0 0 0 0 0 0 0 0 0\n",
      " 0 0 0 0 0 0 0 0 0 0 0]\n",
      "Q_values : [-0.66068745 -0.772826   -0.7090702  -0.7682253 ]\n",
      "state : [0 0 0 0 0 0 0 0 0 0 0 0 0 0 0 0 0 0 0 0 0 0 0 0 1 1 1 3 3 1 0 0 0 0 0 0 0\n",
      " 0 0 0 0 0 0 0 0 0 0 0]\n",
      "Q_values : [-1.4645166 -1.5400261 -1.4961536 -1.6147523]\n",
      "state : [0 0 0 0 0 0 0 0 0 0 0 0 0 0 0 0 0 0 0 0 0 0 0 0 0 0 1 6 7 4 0 0 0 0 0 0 0\n",
      " 0 0 0 0 0 0 0 0 0 0 0]\n",
      "Q_values : [-3.0130746 -2.8930292 -2.5845098 -2.539297 ]\n",
      "state : [0 0 1 0 1 0 0 0 0 0 0 0 0 0 0 0 0 0 0 0 0 0 0 0 0 0 1 4 6 4 0 0 0 4 4 1 2\n",
      " 0 0 0 0 0 0 1 1 1 0 0]\n",
      "Q_values : [-3.220171  -2.8951297 -1.2034413 -1.3813727]\n",
      "state : [0 0 1 0 0 2 0 0 0 0 0 0 0 0 0 0 0 0 0 0 0 0 0 0 0 0 1 0 0 4 0 0 0 4 4 4 5\n",
      " 0 0 0 0 0 0 0 2 0 5 0]\n",
      "Q_values : [-2.3684602  -1.9811825  -0.9159379   0.36272296]\n",
      "state : [0 0 1 0 0 0 0 0 0 0 2 0 0 0 0 0 0 0 0 0 0 0 0 0 0 0 1 0 0 0 0 0 0 1 4 1 3\n",
      " 0 2 0 0 0 3 0 4 0 5 0]\n",
      "Q_values : [0.15584616 0.06505413 1.5003666  0.25155783]\n",
      "state : [0 0 1 0 0 0 0 0 0 0 0 1 0 0 0 0 0 0 0 0 0 0 0 0 0 0 1 0 0 0 0 0 0 0 0 1 0\n",
      " 0 3 0 4 0 3 0 3 0 0 0]\n",
      "Q_values : [1.0149277  1.0040107  0.65969026 1.3476745 ]\n",
      "state : [0 0 1 0 0 0 0 0 0 0 0 0 0 0 0 0 0 0 0 0 0 0 0 0 0 0 1 0 0 0 0 0 0 0 0 0 0\n",
      " 0 1 0 3 0 0 0 0 0 0 0]\n",
      "Q_values : [0.67006814 0.7698354  0.27346015 0.3689207 ]\n",
      "state : [0 0 0 0 0 0 0 0 0 0 0 0 0 0 0 0 0 0 0 0 0 0 0 0 0 0 0 0 0 0 0 0 0 0 0 0 0\n",
      " 0 0 0 0 1 0 0 0 0 0 0]\n",
      "Q_values : [-0.2892445  -0.46095726 -0.35648778 -0.40759945]\n",
      "state : [0 0 0 0 0 0 0 0 0 0 0 0 0 0 0 0 0 0 0 0 0 0 0 0 0 0 0 0 0 0 0 0 0 0 0 0 0\n",
      " 0 0 0 0 0 0 0 0 0 0 0]\n",
      "Q_values : [-0.6388316  -0.84358054 -0.6822274  -0.74956924]\n",
      "episode : 296\n",
      "Step #100.00 (0ms ?*RT. ?UPS, TraCI: 0ms, vehicles TOT 33 ACT 0 BUF 0)                     \n",
      " Retrying in 1 seconds\n"
     ]
    },
    {
     "name": "stderr",
     "output_type": "stream",
     "text": [
      "Warning: Environment variable SUMO_HOME is not set properly, disabling XML validation. Set 'auto' or 'always' for web lookups.\n"
     ]
    },
    {
     "name": "stdout",
     "output_type": "stream",
     "text": [
      "state : [0 0 0 0 0 0 0 0 0 0 0 0 0 0 0 0 0 0 0 0 0 0 0 0 0 0 0 0 0 0 0 0 0 0 0 0 0\n",
      " 0 0 0 0 0 0 0 0 0 0 0]\n",
      "Q_values : [-0.6272886  -0.8418608  -0.67780083 -0.74853903]\n",
      "state : [0 0 0 0 0 0 0 0 0 0 0 0 0 0 0 0 0 0 0 0 0 0 0 0 1 1 1 3 3 1 0 0 0 0 0 0 0\n",
      " 0 0 0 0 0 0 0 0 0 0 0]\n",
      "Q_values : [-1.4009384 -1.6122108 -1.441912  -1.5775965]\n",
      "state : [0 0 0 0 0 0 0 0 0 0 0 0 0 0 0 0 0 0 0 0 0 0 0 0 0 0 1 6 7 4 0 0 0 0 0 0 0\n",
      " 0 0 0 0 0 0 0 0 0 0 0]\n",
      "Q_values : [-2.8964367 -2.9418285 -2.4626498 -2.4007344]\n",
      "state : [0 0 1 0 1 0 0 0 0 0 0 0 0 0 0 0 0 0 0 0 0 0 0 0 0 0 1 4 6 4 0 0 0 4 4 1 2\n",
      " 0 0 0 0 0 0 1 1 1 0 0]\n",
      "Q_values : [-2.8950858  -2.7838674  -0.92410266 -1.1785386 ]\n",
      "state : [0 0 1 0 0 2 0 0 0 0 0 0 0 0 0 0 0 0 0 0 0 0 0 0 0 0 1 0 0 4 0 0 0 4 4 4 5\n",
      " 0 0 0 0 0 0 0 2 0 5 0]\n",
      "Q_values : [-1.9261588  -1.8288039  -0.7257606   0.53916395]\n",
      "state : [0 0 1 0 0 0 0 0 0 0 2 0 0 0 0 0 0 0 0 0 0 0 0 0 0 0 1 0 0 0 0 0 0 1 4 1 3\n",
      " 0 2 0 0 0 3 0 4 0 5 0]\n",
      "Q_values : [0.40237373 0.19568524 1.5899445  0.30355334]\n",
      "state : [0 0 1 0 0 0 0 0 0 0 0 1 0 0 0 0 0 0 0 0 0 0 0 0 0 0 1 0 0 0 0 0 0 0 0 1 0\n",
      " 0 3 0 4 0 3 0 3 0 0 0]\n",
      "Q_values : [1.0415478  0.87165034 0.5470177  1.2484076 ]\n",
      "state : [0 0 1 0 0 0 0 0 0 0 0 0 0 0 0 0 0 0 0 0 0 0 0 0 0 0 1 0 0 0 0 0 0 0 0 0 0\n",
      " 0 1 0 3 0 0 0 0 0 0 0]\n",
      "Q_values : [0.68967676 0.72940975 0.22930185 0.31171834]\n",
      "state : [0 0 0 0 0 0 0 0 0 0 0 0 0 0 0 0 0 0 0 0 0 0 0 0 0 0 0 0 0 0 0 0 0 0 0 0 0\n",
      " 0 0 0 0 1 0 0 0 0 0 0]\n",
      "Q_values : [-0.15067503 -0.36928958 -0.3115537  -0.3365487 ]\n",
      "state : [0 0 0 0 0 0 0 0 0 0 0 0 0 0 0 0 0 0 0 0 0 0 0 0 0 0 0 0 0 0 0 0 0 0 0 0 0\n",
      " 0 0 0 0 0 0 0 0 0 0 0]\n",
      "Q_values : [-0.643537  -0.8616793 -0.771758  -0.8011973]\n",
      "episode : 297\n",
      "Step #100.00 (0ms ?*RT. ?UPS, TraCI: 0ms, vehicles TOT 33 ACT 0 BUF 0)                     \n",
      " Retrying in 1 seconds\n"
     ]
    },
    {
     "name": "stderr",
     "output_type": "stream",
     "text": [
      "Warning: Environment variable SUMO_HOME is not set properly, disabling XML validation. Set 'auto' or 'always' for web lookups.\n"
     ]
    },
    {
     "name": "stdout",
     "output_type": "stream",
     "text": [
      "state : [0 0 0 0 0 0 0 0 0 0 0 0 0 0 0 0 0 0 0 0 0 0 0 0 0 0 0 0 0 0 0 0 0 0 0 0 0\n",
      " 0 0 0 0 0 0 0 0 0 0 0]\n",
      "Q_values : [-0.6522219 -0.8633042 -0.7736078 -0.7999909]\n",
      "state : [0 0 0 0 0 0 0 0 0 0 0 0 0 0 0 0 0 0 0 0 0 0 0 0 1 1 1 3 3 1 0 0 0 0 0 0 0\n",
      " 0 0 0 0 0 0 0 0 0 0 0]\n",
      "Q_values : [-1.4963593 -1.6540062 -1.5972743 -1.6695001]\n",
      "state : [0 0 0 0 0 0 0 0 0 0 0 0 0 0 0 0 0 0 0 0 0 0 0 0 0 0 1 6 7 4 0 0 0 0 0 0 0\n",
      " 0 0 0 0 0 0 0 0 0 0 0]\n",
      "Q_values : [-3.0949745 -3.0219507 -2.6335342 -2.4486046]\n",
      "state : [0 0 1 0 1 0 0 0 0 0 0 0 0 0 0 0 0 0 0 0 0 0 0 0 0 0 1 4 6 4 0 0 0 4 4 1 2\n",
      " 0 0 0 0 0 0 1 1 1 0 0]\n",
      "Q_values : [-3.0419796 -2.8263597 -1.0745864 -1.2060711]\n",
      "state : [0 0 1 0 0 2 0 0 0 0 0 0 0 0 0 0 0 0 0 0 0 0 0 0 0 0 1 0 0 4 0 0 0 4 4 4 5\n",
      " 0 0 0 0 0 0 0 2 0 5 0]\n",
      "Q_values : [-1.9278998 -1.8037462 -0.7876275  0.5533175]\n",
      "state : [0 0 1 0 0 0 0 0 0 0 2 0 0 0 0 0 0 0 0 0 0 0 0 0 0 0 1 0 0 0 0 0 0 1 4 1 3\n",
      " 0 2 0 0 0 3 0 4 0 5 0]\n",
      "Q_values : [0.30942377 0.19937429 1.6787121  0.31428176]\n",
      "state : [0 0 1 0 0 0 0 0 0 0 0 1 0 0 0 0 0 0 0 0 0 0 0 0 0 0 1 0 0 0 0 0 0 0 0 1 0\n",
      " 0 3 0 4 0 3 0 3 0 0 0]\n",
      "Q_values : [1.0901191  0.9385867  0.68999636 1.3089311 ]\n",
      "state : [0 0 1 0 0 0 0 0 0 0 0 0 0 0 0 0 0 0 0 0 0 0 0 0 0 0 1 0 0 0 0 0 0 0 0 0 0\n",
      " 0 1 0 3 0 0 0 0 0 0 0]\n",
      "Q_values : [0.6739845  0.7958784  0.30311108 0.33291063]\n",
      "state : [0 0 0 0 0 0 0 0 0 0 0 0 0 0 0 0 0 0 0 0 0 0 0 0 0 0 0 0 0 0 0 0 0 0 0 0 0\n",
      " 0 0 0 0 1 0 0 0 0 0 0]\n",
      "Q_values : [-0.19426188 -0.3556683  -0.29839265 -0.35759786]\n",
      "state : [0 0 0 0 0 0 0 0 0 0 0 0 0 0 0 0 0 0 0 0 0 0 0 0 0 0 0 0 0 0 0 0 0 0 0 0 0\n",
      " 0 0 0 0 0 0 0 0 0 0 0]\n",
      "Q_values : [-0.5869751  -0.73258245 -0.6564989  -0.7272982 ]\n",
      "episode : 298\n",
      "Step #100.00 (0ms ?*RT. ?UPS, TraCI: 1ms, vehicles TOT 33 ACT 0 BUF 0)                     \n",
      " Retrying in 1 seconds\n"
     ]
    },
    {
     "name": "stderr",
     "output_type": "stream",
     "text": [
      "Warning: Environment variable SUMO_HOME is not set properly, disabling XML validation. Set 'auto' or 'always' for web lookups.\n"
     ]
    },
    {
     "name": "stdout",
     "output_type": "stream",
     "text": [
      "state : [0 0 0 0 0 0 0 0 0 0 0 0 0 0 0 0 0 0 0 0 0 0 0 0 0 0 0 0 0 0 0 0 0 0 0 0 0\n",
      " 0 0 0 0 0 0 0 0 0 0 0]\n",
      "Q_values : [-0.607703   -0.7421094  -0.6715033  -0.74461806]\n",
      "state : [0 0 0 0 0 0 0 0 0 0 0 0 0 0 0 0 0 0 0 0 0 0 0 0 1 1 1 3 3 1 0 0 0 0 0 0 0\n",
      " 0 0 0 0 0 0 0 0 0 0 0]\n",
      "Q_values : [-1.4326668 -1.4950455 -1.4711963 -1.6069936]\n",
      "state : [0 0 1 0 1 0 0 0 0 0 0 0 0 0 0 0 0 0 0 0 0 0 0 0 0 0 1 4 6 4 0 0 0 4 4 1 2\n",
      " 0 0 0 0 0 0 1 1 1 0 0]\n",
      "Q_values : [-3.2352278 -2.8648696 -1.2710934 -1.3486413]\n",
      "state : [0 0 1 0 0 2 0 0 0 0 0 0 0 0 0 0 0 0 0 0 0 0 0 0 0 0 1 0 0 4 0 0 0 4 4 4 5\n",
      " 0 0 0 0 0 0 0 2 0 5 0]\n",
      "Q_values : [-2.2293286  -1.9356282  -1.1044686   0.32019153]\n",
      "state : [0 0 1 0 0 0 0 0 0 0 2 0 0 0 0 0 0 0 0 0 0 0 0 0 0 0 1 0 0 0 0 0 0 1 4 1 3\n",
      " 0 2 0 0 0 3 0 4 0 5 0]\n",
      "Q_values : [ 0.00158164 -0.03301627  1.4068341   0.28087077]\n",
      "state : [0 0 1 0 0 0 0 0 0 0 0 1 0 0 0 0 0 0 0 0 0 0 0 0 0 0 1 0 0 0 0 0 0 0 0 1 0\n",
      " 0 3 0 4 0 3 0 3 0 0 0]\n",
      "Q_values : [1.0019219 0.8842121 0.5727254 1.3191638]\n",
      "state : [0 0 1 0 0 0 0 0 0 0 0 0 0 0 0 0 0 0 0 0 0 0 0 0 0 0 1 0 0 0 0 0 0 0 0 0 0\n",
      " 0 1 0 3 0 0 0 0 0 0 0]\n",
      "Q_values : [0.6478999  0.7984497  0.28071535 0.38669485]\n",
      "state : [0 0 0 0 0 0 0 0 0 0 0 0 0 0 0 0 0 0 0 0 0 0 0 0 0 0 0 0 0 0 0 0 0 0 0 0 0\n",
      " 0 0 0 0 1 0 0 0 0 0 0]\n",
      "Q_values : [-0.26932284 -0.4321559  -0.35951495 -0.401739  ]\n",
      "state : [0 0 0 0 0 0 0 0 0 0 0 0 0 0 0 0 0 0 0 0 0 0 0 0 0 0 0 0 0 0 0 0 0 0 0 0 0\n",
      " 0 0 0 0 0 0 0 0 0 0 0]\n",
      "Q_values : [-0.55685186 -0.72430575 -0.6329853  -0.6762462 ]\n",
      "episode : 299\n",
      "Step #100.00 (0ms ?*RT. ?UPS, TraCI: 0ms, vehicles TOT 33 ACT 0 BUF 0)                     \n"
     ]
    }
   ],
   "source": [
    "sumoBinary = \"/Users/arseneclaustre/sumo/bin/sumo-gui\"\n",
    "sumoBinary2 = \"/Users/arseneclaustre/sumo/bin/sumo\"\n",
    "sumoConfig = r\"C:/Program Files/rl_project/2025-02-12-16-24-37/osm.sumocfg\"\n",
    "sumoConfig2 = r\"C:/Program Files/rl_project/2025-02-25-19-05-44/osm.sumocfg\"\n",
    "# sumoConfig3 = r\"/home/psels/code/psels/RL_traffic/RL_traffic/Traditional_traffic/traditional_traffic.sumo.cfg\"\n",
    "sumoConfig3 = r\"Traditional_traffic/traditional_traffic.sumo.cfg\"\n",
    "\n",
    "\n",
    "rewards = []\n",
    "best_score = 0\n",
    "reward = 0\n",
    "total_reward = 0\n",
    "list_values = []\n",
    "weights = []\n",
    "wait_times = []\n",
    "replay_buffer = deque(maxlen=10000)\n",
    "\n",
    "\n",
    "sumoCmd = [sumoBinary2, \"-c\", sumoConfig3, \"--start\"]\n",
    "sumoCmd = [sumoBinary2, \"-c\", sumoConfig3, \"--start\", \"--no-warnings\"]\n",
    "\n",
    "for episode in range(300):\n",
    "    if traci.isLoaded():\n",
    "        traci.close()\n",
    "    traci.start(sumoCmd)\n",
    "    lane_ids =  traci.lane.getIDList()\n",
    "    # print(lane_ids[0])\n",
    "\n",
    "    trafic_light_ids = traci.trafficlight.getIDList()\n",
    "\n",
    "    # state = np.array(queue(lane_ids))\n",
    "    state=np.array(get_state(lane_ids))\n",
    "    action=-1\n",
    "    # print(state)\n",
    "    wait_times.append(0)\n",
    "    for step in range(10000): ## TO CHANGED\n",
    "        epsilon = max(1 - episode / 300, 0.01)\n",
    "\n",
    "        if step%1000 == 0:\n",
    "            #print(f\"longeur du buffer :{len(replay_buffer)}\")\n",
    "            ########################################################################\n",
    "            ##Calcul de la reward\n",
    "            # next_state = np.array(queue(lane_ids))\n",
    "            next_state = np.array(get_state(lane_ids))\n",
    "            # reward = calculate_reward(values, reward, total_reward)[0]\n",
    "            # reward=(np.sum(state)-np.sum(next_state))\n",
    "            reward = np.sum(state[:24])- np.sum(next_state[:24])\n",
    "            replay_buffer.append((state, action, reward, next_state))\n",
    "\n",
    "            list_values.append(queue(lane_ids))\n",
    "            #########################################################################\n",
    "            state=next_state\n",
    "            action = epsilon_greedy_policy(state, epsilon)\n",
    "            #print(\"action\", action)\n",
    "            traci.trafficlight.setPhase(trafic_light_ids[0],2*action)\n",
    "\n",
    "            if len(replay_buffer) >= batch_size*10:\n",
    "                training_step(batch_size)\n",
    "                # new_weights = model_action.get_weights()\n",
    "                # weights.append(new_weights)\n",
    "                #print(f\"Episode {episode}: new weights = {new_weights}\")\n",
    "            # else:\n",
    "            #     print(f\"Episode {episode}: pas assez de données dans le replay buffer.\")\n",
    "            # print(values)\n",
    "            # if list_values:\n",
    "            #    # print(f'list values {list_values[-1]}')\n",
    "\n",
    "\n",
    "        traci.simulationStep()\n",
    "    print(f'episode : {episode}')\n",
    "    traci.close()\n"
   ]
  },
  {
   "cell_type": "code",
   "execution_count": 37,
   "metadata": {},
   "outputs": [
    {
     "name": "stdout",
     "output_type": "stream",
     "text": [
      " Retrying in 1 seconds\n",
      "state : [0 0 0 0 0 0 0 0 0 0 0 0 0 0 0 0 0 0 0 0 0 0 0 0 0 0 0 0 0 0 0 0 0 0 0 0 0\n",
      " 0 0 0 0 0 0 0 0 0 0 0]\n",
      "Q_values : [-0.5403265  -0.713232   -0.6213437  -0.67982894]\n",
      "action 0\n",
      "state : [0 0 0 0 0 0 0 0 0 0 0 0 0 0 0 0 0 0 0 0 0 0 0 0 2 1 0 1 1 0 0 0 0 0 0 0 0\n",
      " 0 0 0 0 0 0 0 0 0 0 0]\n",
      "Q_values : [ 17.522911 -17.96099   11.951095  15.162727]\n",
      "action 0\n",
      "state : [0 0 0 0 0 0 0 0 0 0 0 0 0 0 0 0 0 0 0 0 0 0 0 0 1 1 1 3 3 1 0 0 0 0 0 0 0\n",
      " 0 0 0 0 0 0 0 0 0 0 0]\n",
      "Q_values : [-1.3854567 -1.491927  -1.4199526 -1.6172345]\n",
      "action 0\n",
      "state : [0 0 0 0 0 0 0 0 0 0 0 0 0 0 0 0 0 0 0 0 0 0 0 0 1 1 1 4 5 3 0 0 0 0 0 0 0\n",
      " 0 0 0 0 0 0 0 0 0 0 0]\n",
      "Q_values : [-1.8333791 -1.9001443 -1.8013786 -2.0373268]\n",
      "action 4\n",
      "state : [0 0 0 0 0 0 0 0 0 0 0 0 0 0 0 0 0 0 0 0 0 0 0 0 0 1 1 6 7 4 0 0 0 0 0 0 0\n",
      " 0 0 0 0 0 0 0 0 0 0 0]\n",
      "Q_values : [-3.2402422 -3.2289848 -3.1345963 -3.5542994]\n",
      "action 4\n",
      "state : [0 1 1 0 0 0 0 0 0 0 0 0 0 0 0 0 0 0 0 0 0 0 0 0 0 1 1 5 5 6 0 0 0 3 1 0 1\n",
      " 0 0 0 0 0 0 0 0 1 1 0]\n",
      "Q_values : [-1.9434391 -1.9193364 -2.1317506 -2.549025 ]\n",
      "action 2\n",
      "state : [0 1 0 0 1 1 0 0 0 0 0 0 0 0 0 0 0 0 0 0 0 0 0 0 0 1 0 3 5 6 0 0 0 4 4 1 2\n",
      " 0 0 0 0 1 0 0 0 1 1 0]\n",
      "Q_values : [-2.6864157  -2.4075332  -0.21755028 -0.11561801]\n",
      "action 6\n",
      "state : [0 1 0 0 1 0 0 0 0 0 0 0 0 0 0 0 0 0 0 0 0 0 0 0 0 1 0 2 5 3 0 0 0 4 4 4 4\n",
      " 0 0 0 0 1 0 0 1 1 1 0]\n",
      "Q_values : [-3.1011505  -3.0775757  -0.53688526 -1.0146742 ]\n",
      "action 4\n",
      "state : [0 1 0 0 0 1 0 0 0 0 0 0 0 0 0 0 0 0 0 0 0 0 0 0 0 1 0 0 1 3 0 0 0 4 4 4 5\n",
      " 0 0 0 0 1 0 0 3 0 2 0]\n",
      "Q_values : [-2.5208    -2.5274138 -0.9294809 -0.5198162]\n",
      "action 6\n",
      "state : [0 1 0 0 1 0 0 0 0 0 1 0 0 0 0 0 0 0 0 0 0 0 0 0 0 1 0 0 1 0 0 0 0 3 4 3 4\n",
      " 0 0 0 0 0 1 0 5 0 4 0]\n",
      "Q_values : [-0.77701914 -0.923191    0.76874    -0.4487682 ]\n",
      "action 4\n",
      "state : [0 1 0 0 0 0 0 0 0 0 0 1 0 0 0 0 0 0 0 0 0 0 0 0 0 1 0 0 0 0 0 0 0 1 1 3 3\n",
      " 0 1 0 2 0 3 0 6 0 5 0]\n",
      "Q_values : [-0.0520536  -0.18823168 -0.30288106  0.6201046 ]\n",
      "action 6\n",
      "state : [0 1 0 0 0 0 0 0 0 0 1 0 0 0 0 0 0 0 0 0 0 0 0 0 0 1 0 0 0 0 0 0 0 0 1 0 1\n",
      " 0 3 0 3 0 4 0 3 0 4 0]\n",
      "Q_values : [0.766304   0.5604676  1.101363   0.73025304]\n",
      "action 4\n",
      "state : [0 1 0 0 0 0 0 0 0 0 0 0 0 0 0 0 0 0 0 0 0 0 0 0 0 1 0 0 0 0 0 0 0 0 0 0 0\n",
      " 0 4 0 4 0 3 0 2 0 1 0]\n",
      "Q_values : [0.5748317 0.5028964 0.343948  0.4355877]\n",
      "action 0\n",
      "state : [0 0 0 0 0 0 0 0 0 0 0 0 0 0 0 0 0 0 0 0 0 0 0 0 0 0 0 0 0 0 0 0 0 0 0 0 0\n",
      " 0 3 0 3 0 2 1 0 0 0 0]\n",
      "Q_values : [-0.63996446 -0.47933996 -0.02483837  0.47506052]\n",
      "action 6\n",
      "state : [0 0 0 0 0 0 0 0 0 0 0 0 0 0 0 0 0 0 0 0 0 0 0 0 0 0 0 0 0 0 0 0 0 0 0 0 0\n",
      " 0 2 0 1 0 0 1 0 0 0 0]\n",
      "Q_values : [-0.328016   -0.48642588 -0.40940833 -0.47182935]\n",
      "action 0\n",
      "state : [0 0 0 0 0 0 0 0 0 0 0 0 0 0 0 0 0 0 0 0 0 0 0 0 0 0 0 0 0 0 0 0 0 0 0 0 0\n",
      " 0 0 0 0 0 0 1 0 0 0 0]\n",
      "Q_values : [-0.18218383 -0.35185683 -0.28382275 -0.34786332]\n",
      "action 0\n",
      "state : [0 0 0 0 0 0 0 0 0 0 0 0 0 0 0 0 0 0 0 0 0 0 0 0 0 0 0 0 0 0 0 0 0 0 0 0 0\n",
      " 0 0 0 0 0 0 0 0 0 0 0]\n",
      "Q_values : [-0.5403265  -0.713232   -0.6213437  -0.67982894]\n",
      "action 0\n",
      "state : [0 0 0 0 0 0 0 0 0 0 0 0 0 0 0 0 0 0 0 0 0 0 0 0 0 0 0 0 0 0 0 0 0 0 0 0 0\n",
      " 0 0 0 0 0 0 0 0 0 0 0]\n",
      "Q_values : [-0.5403265  -0.713232   -0.6213437  -0.67982894]\n",
      "action 0\n",
      "state : [0 0 0 0 0 0 0 0 0 0 0 0 0 0 0 0 0 0 0 0 0 0 0 0 0 0 0 0 0 0 0 0 0 0 0 0 0\n",
      " 0 0 0 0 0 0 0 0 0 0 0]\n",
      "Q_values : [-0.5403265  -0.713232   -0.6213437  -0.67982894]\n",
      "action 0\n",
      "state : [0 0 0 0 0 0 0 0 0 0 0 0 0 0 0 0 0 0 0 0 0 0 0 0 0 0 0 0 0 0 0 0 0 0 0 0 0\n",
      " 0 0 0 0 0 0 0 0 0 0 0]\n",
      "Q_values : [-0.5403265  -0.713232   -0.6213437  -0.67982894]\n",
      "action 0\n"
     ]
    },
    {
     "ename": "FatalTraCIError",
     "evalue": "Connection closed by SUMO.",
     "output_type": "error",
     "traceback": [
      "\u001b[0;31m---------------------------------------------------------------------------\u001b[0m",
      "\u001b[0;31mFatalTraCIError\u001b[0m                           Traceback (most recent call last)",
      "Cell \u001b[0;32mIn[37], line 50\u001b[0m\n\u001b[1;32m     47\u001b[0m         \u001b[38;5;66;03m#print(traci.trafficlight.getAllProgramLogics(nom_du_feu))\u001b[39;00m\n\u001b[1;32m     48\u001b[0m         \u001b[38;5;66;03m#print(traci.trafficlight.getAllProgramLogics(nom_du_feu)[0].phases[action])\u001b[39;00m\n\u001b[1;32m     49\u001b[0m         traci\u001b[38;5;241m.\u001b[39mtrafficlight\u001b[38;5;241m.\u001b[39msetPhase(trafic_light_ids[\u001b[38;5;241m0\u001b[39m],action)\n\u001b[0;32m---> 50\u001b[0m     \u001b[43mtraci\u001b[49m\u001b[38;5;241;43m.\u001b[39;49m\u001b[43msimulationStep\u001b[49m\u001b[43m(\u001b[49m\u001b[43m)\u001b[49m\n\u001b[1;32m     52\u001b[0m traci\u001b[38;5;241m.\u001b[39mclose()\n",
      "File \u001b[0;32m~/.pyenv/versions/3.10.6/envs/RL_traffic/lib/python3.10/site-packages/traci/main.py:198\u001b[0m, in \u001b[0;36msimulationStep\u001b[0;34m(step)\u001b[0m\n\u001b[1;32m    192\u001b[0m \u001b[38;5;28;01mdef\u001b[39;00m\u001b[38;5;250m \u001b[39m\u001b[38;5;21msimulationStep\u001b[39m(step\u001b[38;5;241m=\u001b[39m\u001b[38;5;241m0\u001b[39m):\n\u001b[1;32m    193\u001b[0m \u001b[38;5;250m    \u001b[39m\u001b[38;5;124;03m\"\"\"simulationStep(float) -> None\u001b[39;00m\n\u001b[1;32m    194\u001b[0m \u001b[38;5;124;03m    Make a simulation step and simulate up to the given second in sim time.\u001b[39;00m\n\u001b[1;32m    195\u001b[0m \u001b[38;5;124;03m    If the given value is 0 or absent, exactly one step is performed.\u001b[39;00m\n\u001b[1;32m    196\u001b[0m \u001b[38;5;124;03m    Values smaller than or equal to the current sim time result in no action.\u001b[39;00m\n\u001b[1;32m    197\u001b[0m \u001b[38;5;124;03m    \"\"\"\u001b[39;00m\n\u001b[0;32m--> 198\u001b[0m     \u001b[43mconnection\u001b[49m\u001b[38;5;241;43m.\u001b[39;49m\u001b[43mcheck\u001b[49m\u001b[43m(\u001b[49m\u001b[43m)\u001b[49m\u001b[38;5;241;43m.\u001b[39;49m\u001b[43msimulationStep\u001b[49m\u001b[43m(\u001b[49m\u001b[43mstep\u001b[49m\u001b[43m)\u001b[49m\n",
      "File \u001b[0;32m~/.pyenv/versions/3.10.6/envs/RL_traffic/lib/python3.10/site-packages/traci/connection.py:370\u001b[0m, in \u001b[0;36mConnection.simulationStep\u001b[0;34m(self, step)\u001b[0m\n\u001b[1;32m    368\u001b[0m \u001b[38;5;28;01mif\u001b[39;00m \u001b[38;5;28mtype\u001b[39m(step) \u001b[38;5;129;01mis\u001b[39;00m \u001b[38;5;28mint\u001b[39m \u001b[38;5;129;01mand\u001b[39;00m step \u001b[38;5;241m>\u001b[39m\u001b[38;5;241m=\u001b[39m \u001b[38;5;241m1000\u001b[39m:\n\u001b[1;32m    369\u001b[0m     warnings\u001b[38;5;241m.\u001b[39mwarn(\u001b[38;5;124m\"\u001b[39m\u001b[38;5;124mAPI change now handles step as floating point seconds\u001b[39m\u001b[38;5;124m\"\u001b[39m, stacklevel\u001b[38;5;241m=\u001b[39m\u001b[38;5;241m2\u001b[39m)\n\u001b[0;32m--> 370\u001b[0m result \u001b[38;5;241m=\u001b[39m \u001b[38;5;28;43mself\u001b[39;49m\u001b[38;5;241;43m.\u001b[39;49m\u001b[43m_sendCmd\u001b[49m\u001b[43m(\u001b[49m\u001b[43mtc\u001b[49m\u001b[38;5;241;43m.\u001b[39;49m\u001b[43mCMD_SIMSTEP\u001b[49m\u001b[43m,\u001b[49m\u001b[43m \u001b[49m\u001b[38;5;28;43;01mNone\u001b[39;49;00m\u001b[43m,\u001b[49m\u001b[43m \u001b[49m\u001b[38;5;28;43;01mNone\u001b[39;49;00m\u001b[43m,\u001b[49m\u001b[43m \u001b[49m\u001b[38;5;124;43m\"\u001b[39;49m\u001b[38;5;124;43mD\u001b[39;49m\u001b[38;5;124;43m\"\u001b[39;49m\u001b[43m,\u001b[49m\u001b[43m \u001b[49m\u001b[43mstep\u001b[49m\u001b[43m)\u001b[49m\n\u001b[1;32m    371\u001b[0m \u001b[38;5;28;01mfor\u001b[39;00m subscriptionResults \u001b[38;5;129;01min\u001b[39;00m \u001b[38;5;28mself\u001b[39m\u001b[38;5;241m.\u001b[39m_subscriptionMapping\u001b[38;5;241m.\u001b[39mvalues():\n\u001b[1;32m    372\u001b[0m     subscriptionResults\u001b[38;5;241m.\u001b[39mreset()\n",
      "File \u001b[0;32m~/.pyenv/versions/3.10.6/envs/RL_traffic/lib/python3.10/site-packages/traci/connection.py:232\u001b[0m, in \u001b[0;36mConnection._sendCmd\u001b[0;34m(self, cmdID, varID, objID, format, *values)\u001b[0m\n\u001b[1;32m    230\u001b[0m     \u001b[38;5;28mself\u001b[39m\u001b[38;5;241m.\u001b[39m_string \u001b[38;5;241m+\u001b[39m\u001b[38;5;241m=\u001b[39m struct\u001b[38;5;241m.\u001b[39mpack(\u001b[38;5;124m\"\u001b[39m\u001b[38;5;124m!i\u001b[39m\u001b[38;5;124m\"\u001b[39m, \u001b[38;5;28mlen\u001b[39m(objID)) \u001b[38;5;241m+\u001b[39m objID\n\u001b[1;32m    231\u001b[0m \u001b[38;5;28mself\u001b[39m\u001b[38;5;241m.\u001b[39m_string \u001b[38;5;241m+\u001b[39m\u001b[38;5;241m=\u001b[39m packed\n\u001b[0;32m--> 232\u001b[0m \u001b[38;5;28;01mreturn\u001b[39;00m \u001b[38;5;28;43mself\u001b[39;49m\u001b[38;5;241;43m.\u001b[39;49m\u001b[43m_sendExact\u001b[49m\u001b[43m(\u001b[49m\u001b[43m)\u001b[49m\n",
      "File \u001b[0;32m~/.pyenv/versions/3.10.6/envs/RL_traffic/lib/python3.10/site-packages/traci/connection.py:137\u001b[0m, in \u001b[0;36mConnection._sendExact\u001b[0;34m(self)\u001b[0m\n\u001b[1;32m    135\u001b[0m     \u001b[38;5;28mself\u001b[39m\u001b[38;5;241m.\u001b[39m_socket\u001b[38;5;241m.\u001b[39mclose()\n\u001b[1;32m    136\u001b[0m     \u001b[38;5;28mself\u001b[39m\u001b[38;5;241m.\u001b[39m_socket \u001b[38;5;241m=\u001b[39m \u001b[38;5;28;01mNone\u001b[39;00m\n\u001b[0;32m--> 137\u001b[0m     \u001b[38;5;28;01mraise\u001b[39;00m FatalTraCIError(\u001b[38;5;124m\"\u001b[39m\u001b[38;5;124mConnection closed by SUMO.\u001b[39m\u001b[38;5;124m\"\u001b[39m)\n\u001b[1;32m    138\u001b[0m \u001b[38;5;28;01mfor\u001b[39;00m command \u001b[38;5;129;01min\u001b[39;00m \u001b[38;5;28mself\u001b[39m\u001b[38;5;241m.\u001b[39m_queue:\n\u001b[1;32m    139\u001b[0m     prefix \u001b[38;5;241m=\u001b[39m result\u001b[38;5;241m.\u001b[39mread(\u001b[38;5;124m\"\u001b[39m\u001b[38;5;124m!BBB\u001b[39m\u001b[38;5;124m\"\u001b[39m)\n",
      "\u001b[0;31mFatalTraCIError\u001b[0m: Connection closed by SUMO."
     ]
    }
   ],
   "source": [
    "sumoBinary = \"/Users/arseneclaustre/sumo/bin/sumo-gui\"\n",
    "sumoBinary2 = \"/Users/arseneclaustre/sumo/bin/sumo\"\n",
    "sumoConfig = r\"C:/Program Files/rl_project/2025-02-12-16-24-37/osm.sumocfg\"\n",
    "sumoConfig2 = r\"C:/Program Files/rl_project/2025-02-25-19-05-44/osm.sumocfg\"\n",
    "# sumoConfig3 = r\"/home/psels/code/psels/RL_traffic/RL_traffic/Traditional_traffic/traditional_traffic.sumo.cfg\"\n",
    "sumoConfig3 = r\"Traditional_traffic/traditional_traffic.sumo.cfg\"\n",
    "\n",
    "\n",
    "rewards = []\n",
    "best_score = 0\n",
    "reward = 0\n",
    "total_reward = 0\n",
    "list_values = []\n",
    "weights = []\n",
    "wait_times = []\n",
    "# replay_buffer = deque(maxlen=2000)\n",
    "\n",
    "\n",
    "sumoCmd = [sumoBinary, \"-c\", sumoConfig3, \"--start\"]\n",
    "\n",
    "if traci.isLoaded():\n",
    "    traci.close()\n",
    "traci.start(sumoCmd)\n",
    "lane_ids =  traci.lane.getIDList()\n",
    "# print(lane_ids[0])\n",
    "# for lane in lane_ids:\n",
    "#     print(traci.lane.getLastStepVehicleNumber(lane))\n",
    "# north_lane = traci.lane.getLastStepVehicleNumber(\"N_0\")\n",
    "# south_lane = traci.lane.getLastStepVehicleNumber(\"S_0\")\n",
    "# east_lane = traci.lane.getLastStepVehicleNumber(\"E_0\")\n",
    "# west_lane = traci.lane.getLastStepVehicleNumber(\"W_0\")\n",
    "trafic_light_ids = traci.trafficlight.getIDList()\n",
    "\n",
    "state = np.array(get_state(lane_ids))\n",
    "action=-1\n",
    "# print(state)\n",
    "wait_times.append(0)\n",
    "for step in range(10000): ## TO CHANGED\n",
    "    #epsilon = max(1 - episode / 10, 0.01)\n",
    "    nom_du_feu= traci.trafficlight.getIDList()[0]\n",
    "\n",
    "    if step%500 == 0:\n",
    "        state=np.array(get_state(lane_ids))\n",
    "        action = epsilon_greedy_policy(state,0)*2\n",
    "        # action = np.random.randint(8)\n",
    "        print(\"action\", action)\n",
    "        #print(traci.trafficlight.getAllProgramLogics(nom_du_feu))\n",
    "        #print(traci.trafficlight.getAllProgramLogics(nom_du_feu)[0].phases[action])\n",
    "        traci.trafficlight.setPhase(trafic_light_ids[0],action)\n",
    "    traci.simulationStep()\n",
    "\n",
    "traci.close()\n"
   ]
  }
 ],
 "metadata": {
  "kernelspec": {
   "display_name": "RL_traffic",
   "language": "python",
   "name": "python3"
  },
  "language_info": {
   "codemirror_mode": {
    "name": "ipython",
    "version": 3
   },
   "file_extension": ".py",
   "mimetype": "text/x-python",
   "name": "python",
   "nbconvert_exporter": "python",
   "pygments_lexer": "ipython3",
   "version": "3.10.6"
  }
 },
 "nbformat": 4,
 "nbformat_minor": 2
}
